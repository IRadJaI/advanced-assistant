{
 "cells": [
  {
   "cell_type": "code",
   "execution_count": null,
   "id": "33e7e78f",
   "metadata": {},
   "outputs": [],
   "source": [
    "%pip install openai-agents[viz]"
   ]
  },
  {
   "cell_type": "code",
   "execution_count": 1,
   "id": "d9e8a931",
   "metadata": {},
   "outputs": [],
   "source": [
    "from IPython.display import Markdown, display\n",
    "def printx(string):\n",
    "    display(Markdown(string))"
   ]
  },
  {
   "cell_type": "code",
   "execution_count": 2,
   "id": "4816b797",
   "metadata": {},
   "outputs": [
    {
     "data": {
      "text/plain": [
       "True"
      ]
     },
     "execution_count": 2,
     "metadata": {},
     "output_type": "execute_result"
    }
   ],
   "source": [
    "from dotenv import load_dotenv\n",
    "load_dotenv()"
   ]
  },
  {
   "cell_type": "code",
   "execution_count": 26,
   "id": "6df40654",
   "metadata": {},
   "outputs": [],
   "source": [
    "import os\n",
    "from openai import AsyncOpenAI\n",
    "from agents import set_default_openai_client\n",
    "\n",
    "folder_id = os.environ[\"folder_id\"]\n",
    "api_key = os.environ[\"api_key\"]\n",
    "\n",
    "model = \"gpt-5-nano\"\n",
    "\n",
    "client = AsyncOpenAI(\n",
    "    # base_url=\"...\",\n",
    "    api_key=os.getenv(\"api_key\")\n",
    ")\n",
    "set_default_openai_client(client)"
   ]
  },
  {
   "cell_type": "code",
   "execution_count": 29,
   "id": "50ea6923",
   "metadata": {},
   "outputs": [
    {
     "data": {
      "text/markdown": [
       "Самый дорогой стейк в меню — Стейк \"Бык на взводе\" за 2500 руб. Это сочный рибай с розовым сердцем, подаётся с солью Гималаев.\n",
       "\n",
       "Хотите заказать его, или подобрать к нему вино? Могу вызвать сомелье для подбора пары."
      ],
      "text/plain": [
       "<IPython.core.display.Markdown object>"
      ]
     },
     "metadata": {},
     "output_type": "display_data"
    }
   ],
   "source": [
    "mcp_tool = {\n",
    "            \"type\": \"mcp\",\n",
    "            \"server_label\": \"Restaurant\",\n",
    "            \"server_description\": \"Функции для запроса списка блюд и напитков в ресторане\",\n",
    "            \"server_url\": \"https://meatrest.fastmcp.app/mcp\",\n",
    "            \"require_approval\": \"never\",\n",
    "    }\n",
    "\n",
    "instruction = \"Ты - профессиональный официант, знает все блюда и напитки в ресторане и их стоимость. Для доступа к меню вызови MCP-сервер. Твоя задача - подобрать подходящее блюдо и напиток для заказа, учитывая пожелания клиента и знания агента-сомелье, которого ты можешь вызвать в случае необходимости\"\n",
    "\n",
    "res = await client.responses.create(\n",
    "                    model=model,\n",
    "                    instructions=instruction,\n",
    "                    input=\"Какой самый дорогой стейк?\",\n",
    "                    tools=[mcp_tool],\n",
    "                )\n",
    "printx(res.output_text)"
   ]
  },
  {
   "cell_type": "code",
   "execution_count": 4,
   "id": "95b163ed",
   "metadata": {},
   "outputs": [
    {
     "name": "stderr",
     "output_type": "stream",
     "text": [
      "c:\\winapp\\conda\\envs\\mas\\Lib\\site-packages\\tqdm\\auto.py:21: TqdmWarning: IProgress not found. Please update jupyter and ipywidgets. See https://ipywidgets.readthedocs.io/en/stable/user_install.html\n",
      "  from .autonotebook import tqdm as notebook_tqdm\n",
      "100%|██████████| 161/161 [00:24<00:00,  6.67it/s]"
     ]
    },
    {
     "name": "stdout",
     "output_type": "stream",
     "text": [
      "Uploaded 15 table chunks\n"
     ]
    },
    {
     "name": "stderr",
     "output_type": "stream",
     "text": [
      "\n"
     ]
    }
   ],
   "source": [
    "import tiktoken\n",
    "import io\n",
    "from tqdm.auto import tqdm\n",
    "\n",
    "vector_store = client.vector_stores.create(name='rag_store')\n",
    "\n",
    "with open(\"data/food_wine_table.md\", encoding=\"utf-8\") as f:\n",
    "    food_wine = f.readlines()\n",
    "fw = \"\".join(food_wine)\n",
    "\n",
    "tokenizer = tiktoken.encoding_for_model(model)\n",
    "header = food_wine[:2]\n",
    "\n",
    "chunk_size = 1000  # в токенах\n",
    "\n",
    "s = header.copy()\n",
    "uploaded_chunks = []\n",
    "i = 0\n",
    "for x in tqdm(food_wine[2:]):\n",
    "    s.append(x)\n",
    "    if len(tokenizer.encode(\"\".join(s))) > chunk_size:\n",
    "        f = client.files.create(\n",
    "            purpose=\"assistants\",\n",
    "            file = (f'table_{i}.md',io.BytesIO(\"\".join(s).encode(\"utf-8\")),'text/markdown')\n",
    "        )\n",
    "        client.vector_stores.files.create(file_id=f.id, vector_store_id=vector_store.id)\n",
    "        uploaded_chunks.append(f)\n",
    "        i+=1\n",
    "        s = header.copy()\n",
    "print(f\"Uploaded {len(uploaded_chunks)} table chunks\")"
   ]
  },
  {
   "cell_type": "code",
   "execution_count": 21,
   "id": "5ee719be",
   "metadata": {},
   "outputs": [],
   "source": [
    "from agents import Agent, FileSearchTool\n",
    "\n",
    "sommelier = Agent(\n",
    "    name=\"Somellier_Agent\",\n",
    "    instructions=\"Ты - профессиональный сомелье, который может рекомендовать соответствие еды и вина или других напитков. Используй доступные тебе данные - таблицу соответствий блюд и напитков.\",\n",
    "    model=model,\n",
    "    tools=[FileSearchTool(\n",
    "            max_num_results=5,\n",
    "            vector_store_ids=[vector_store.id],\n",
    "        )]\n",
    ")"
   ]
  },
  {
   "cell_type": "code",
   "execution_count": 13,
   "id": "42986f0d",
   "metadata": {},
   "outputs": [
    {
     "data": {
      "text/markdown": [
       "Классическая идея: со стейком обычно хорошо идёт красное полнотелое вино с достаточной структурой и танинами, которые помогают разрезать жир и подчёркивают вкус мяса. В ваших файлах конкретно встречаются такие варианты для говяжьего стейка (без мраморной жирности):\n",
       "\n",
       "- Санджовезе (Кьянти) и Неро д’Аvolа; темпранильо; “тельные” Мерло; “тельные” Пино Нуары (из Нового Света, Австрии, Германии); вина из Бордо; вина из Роны (Гренаш+Сира+Мурведр); Саперави (Грузия и Россия); Арени (Армения) – всё это указано как подходящее к жареной/тушеной говядине (кроме мраморных стейков) .\n",
       "\n",
       "- Также в таблицах для более мощных вкусовых сочетаний с говяжьими блюдами указаны красные вина: Каберне Совиньон, Мурведр (Монастрелл), Каберне Фран, тельное Мерло, Мальбек; бордоские вина и “ронский” ассамбляж Гренаш+Сира+Мурведр — особенно хорошо подойдут к плотному стейку или к блюдам из говядины и дичи (паштеты мощновкусные) .\n",
       "\n",
       "Практические варианты (крупными категориями):\n",
       "- Бордо-стиль: каберне совиньон/мерло бленды. Подойдут к классическому стейку с ярким мясным вкусом. \n",
       "- Итальянские варианты: Санджовезе (Кьянти), Неро д’Авола; Tempranillo – для немного «итальянско-испанской» гаммы вкусов. \n",
       "- Испано-итальянские сочетания: тельные Мерло; тяжелые Пино Нуары (из соответствующих регионов). \n",
       "- Рона: бленды Гренаш+Сира+Мурведр — для пряного или пикантного стейка. \n",
       "- Саперави, Арени — альтернативы для ярких, насыщенных вкусов. \n",
       "\n",
       "Если хотите, могу подобрать конкретный вариант под ваш точный кусок стейка (например, толстый стейк на гриле vs. жареный на сковороде) и желаемый стиль вина (более фруктовый vs. более таниновый). Расскажите, какой у вас нож cut (например, рибай, стрипторб, филе) и как вы готовите стейк (редко/средне/хорошо прожаренный, с пряной корочкой и т. п.)."
      ],
      "text/plain": [
       "<IPython.core.display.Markdown object>"
      ]
     },
     "metadata": {},
     "output_type": "display_data"
    }
   ],
   "source": [
    "from agents import Runner\n",
    "\n",
    "res = await Runner.run(sommelier, input=\"Какое вино лучше пить со стейком?\")\n",
    "printx(res.final_output)"
   ]
  },
  {
   "cell_type": "code",
   "execution_count": 11,
   "id": "ccb76cf6",
   "metadata": {},
   "outputs": [
    {
     "data": {
      "text/plain": [
       "RunResult(input='Какое вино лучше пить со стейком?', new_items=[ReasoningItem(agent=Agent(name='Агент-сомелье', handoff_description=None, tools=[FileSearchTool(vector_store_ids=['vs_68cc8cef41288191aa59bb2d08e71588'], max_num_results=3, include_search_results=False, ranking_options=None, filters=None)], mcp_servers=[], mcp_config={}, instructions='Ты - профессиональный сомелье, который может рекомендовать соответствие еды и вина или других напитков. Используй доступные тебе данные - таблицу соответствий блюд и напитков.', prompt=None, handoffs=[], model='gpt-5-nano', model_settings=ModelSettings(temperature=None, top_p=None, frequency_penalty=None, presence_penalty=None, tool_choice=None, parallel_tool_calls=None, truncation=None, max_tokens=None, reasoning=None, verbosity=None, metadata=None, store=None, include_usage=None, response_include=None, top_logprobs=None, extra_query=None, extra_body=None, extra_headers=None, extra_args=None), input_guardrails=[], output_guardrails=[], output_type=None, hooks=None, tool_use_behavior='run_llm_again', reset_tool_choice=True), raw_item=ResponseReasoningItem(id='rs_68cc90009acc8190ab549fab8a71a99b058aff10cc69b601', summary=[], type='reasoning', content=None, encrypted_content=None, status=None), type='reasoning_item'), ToolCallItem(agent=Agent(name='Агент-сомелье', handoff_description=None, tools=[FileSearchTool(vector_store_ids=['vs_68cc8cef41288191aa59bb2d08e71588'], max_num_results=3, include_search_results=False, ranking_options=None, filters=None)], mcp_servers=[], mcp_config={}, instructions='Ты - профессиональный сомелье, который может рекомендовать соответствие еды и вина или других напитков. Используй доступные тебе данные - таблицу соответствий блюд и напитков.', prompt=None, handoffs=[], model='gpt-5-nano', model_settings=ModelSettings(temperature=None, top_p=None, frequency_penalty=None, presence_penalty=None, tool_choice=None, parallel_tool_calls=None, truncation=None, max_tokens=None, reasoning=None, verbosity=None, metadata=None, store=None, include_usage=None, response_include=None, top_logprobs=None, extra_query=None, extra_body=None, extra_headers=None, extra_args=None), input_guardrails=[], output_guardrails=[], output_type=None, hooks=None, tool_use_behavior='run_llm_again', reset_tool_choice=True), raw_item=ResponseFileSearchToolCall(id='fs_68cc90041d108190a210e03cef0a0027058aff10cc69b601', queries=['Какое вино лучше пить со стейком?', 'со стейком вино таблица соответствий блюд и напитков', 'pairing steak wine table', 'таблица соответствий блюд и напитков стейк'], status='completed', type='file_search_call', results=None), type='tool_call_item'), ReasoningItem(agent=Agent(name='Агент-сомелье', handoff_description=None, tools=[FileSearchTool(vector_store_ids=['vs_68cc8cef41288191aa59bb2d08e71588'], max_num_results=3, include_search_results=False, ranking_options=None, filters=None)], mcp_servers=[], mcp_config={}, instructions='Ты - профессиональный сомелье, который может рекомендовать соответствие еды и вина или других напитков. Используй доступные тебе данные - таблицу соответствий блюд и напитков.', prompt=None, handoffs=[], model='gpt-5-nano', model_settings=ModelSettings(temperature=None, top_p=None, frequency_penalty=None, presence_penalty=None, tool_choice=None, parallel_tool_calls=None, truncation=None, max_tokens=None, reasoning=None, verbosity=None, metadata=None, store=None, include_usage=None, response_include=None, top_logprobs=None, extra_query=None, extra_body=None, extra_headers=None, extra_args=None), input_guardrails=[], output_guardrails=[], output_type=None, hooks=None, tool_use_behavior='run_llm_again', reset_tool_choice=True), raw_item=ResponseReasoningItem(id='rs_68cc9006b7ac8190a5cef4088a28ac20058aff10cc69b601', summary=[], type='reasoning', content=None, encrypted_content=None, status=None), type='reasoning_item'), MessageOutputItem(agent=Agent(name='Агент-сомелье', handoff_description=None, tools=[FileSearchTool(vector_store_ids=['vs_68cc8cef41288191aa59bb2d08e71588'], max_num_results=3, include_search_results=False, ranking_options=None, filters=None)], mcp_servers=[], mcp_config={}, instructions='Ты - профессиональный сомелье, который может рекомендовать соответствие еды и вина или других напитков. Используй доступные тебе данные - таблицу соответствий блюд и напитков.', prompt=None, handoffs=[], model='gpt-5-nano', model_settings=ModelSettings(temperature=None, top_p=None, frequency_penalty=None, presence_penalty=None, tool_choice=None, parallel_tool_calls=None, truncation=None, max_tokens=None, reasoning=None, verbosity=None, metadata=None, store=None, include_usage=None, response_include=None, top_logprobs=None, extra_query=None, extra_body=None, extra_headers=None, extra_args=None), input_guardrails=[], output_guardrails=[], output_type=None, hooks=None, tool_use_behavior='run_llm_again', reset_tool_choice=True), raw_item=ResponseOutputMessage(id='msg_68cc90155b048190be6a8d5647c75c66058aff10cc69b601', content=[ResponseOutputText(annotations=[AnnotationFileCitation(file_id='file-2GEK6hB4DQDmRCpMHywiTu', filename='table_13.md', index=2209, type='file_citation')], text='Классический и надёжный выбор — красное вино с выраженным телом и танинами. Они помогают смягчить жирность стейка и подчеркивают мясной вкус. Ниже — варианты на разный вкус и ситуацию.\\n\\nРекомендуемые стили вина\\n- Cabernet Sauvignon или Bordeaux-миксы (например, Порт-Луи/Пойяк или Мерло-Кабернет): мощь, структура и терпкость отлично работают с жирным стейком вроде рибай или стейка с жирной мраморностью.\\n- Malbec: плотное тело, фрукты и легкие пряности — хорошо идёт к большинству жирных стейков.\\n- Syrah/Shiraz: специи и черная слива; подходит к более пряному или копчённому стейку.\\n- Merlot: для менее жирного стейка или если вы предпочитаете более мягкое вино без ярко выраженной танинной «засечки».\\n- Pinot Noir: для постных стейков (например, филе) или когда хочется более элегантного, лёгкого вступления к мясному блюду.\\n- Zinfandel: насыщенный, фруктовый стиль с лёгким пряным оттенком — хорош с пряной корочкой и жаркой.\\n\\nКоротко по соотношению к прожарке и жирности\\n- Жирный стейк (мраморное мясо): подойдут плотные вина с танинами — Cabernet Sauvignon, Bordeaux blends, Malbec, Syrah.\\n- Постный стейк или стейк без сильной жирности: можно выбрать Merlot или более деликатный Pinot Noir.\\n- Сильная корочка и специи: хорошо согласятся Syrah или мощный Zinfandel.\\n- Соусы/гарниры: с грибами, сливочно-масляным соусом — выбирайте более полные вина; с кислым соусом или помидорной подачей — можно чуть освежить за счёт более кислого Riesling или Sauvignon Blanc, но это уже не классика «к стейку».\\n\\nТемпература подачи и подача\\n- Подавайте красное при примерно 16–18°C, декантируйте молодые танинные вина за 20–30 минут перед подачей, чтобы смягчить танинность и раскрыть аромат.\\n- Стейк подают горячим, в момент готовности: вино — чуть прохладнее тела мяса, чтобы не «перекрыть» вкус стейка.\\n\\nИмеющиеся примеры в ваших таблицах\\n- В вашем наборе таблиц встречаются примеры сочетаний с мясными блюдами и красными винами, например с утиной грудкой: «Красные вина: тихое выдержанное округлое Неббило, элегантный Пино Нуар…» — это иллюстрирует общий принцип подбора красного к мясу. Это можно использовать как ориентир для идеи, что мясо и красное вино — естественная пара. См. пример в таблице table_13.md .\\n\\nЕсли скажете, какой у вас именно стейк (толщина, прожарка, есть ли соусы, жирность мяса) и предпочтения по стилю вина (классика Cabernet, более лёгкий Pinot Noir и т. п.), могу подобрать 2–3 конкретные бутылки под ваш случай и дать точные сроки подачи и дегустационные заметки.', type='output_text', logprobs=[])], role='assistant', status='completed', type='message'), type='message_output_item')], raw_responses=[ModelResponse(output=[ResponseReasoningItem(id='rs_68cc90009acc8190ab549fab8a71a99b058aff10cc69b601', summary=[], type='reasoning', content=None, encrypted_content=None, status=None), ResponseFileSearchToolCall(id='fs_68cc90041d108190a210e03cef0a0027058aff10cc69b601', queries=['Какое вино лучше пить со стейком?', 'со стейком вино таблица соответствий блюд и напитков', 'pairing steak wine table', 'таблица соответствий блюд и напитков стейк'], status='completed', type='file_search_call', results=None), ResponseReasoningItem(id='rs_68cc9006b7ac8190a5cef4088a28ac20058aff10cc69b601', summary=[], type='reasoning', content=None, encrypted_content=None, status=None), ResponseOutputMessage(id='msg_68cc90155b048190be6a8d5647c75c66058aff10cc69b601', content=[ResponseOutputText(annotations=[AnnotationFileCitation(file_id='file-2GEK6hB4DQDmRCpMHywiTu', filename='table_13.md', index=2209, type='file_citation')], text='Классический и надёжный выбор — красное вино с выраженным телом и танинами. Они помогают смягчить жирность стейка и подчеркивают мясной вкус. Ниже — варианты на разный вкус и ситуацию.\\n\\nРекомендуемые стили вина\\n- Cabernet Sauvignon или Bordeaux-миксы (например, Порт-Луи/Пойяк или Мерло-Кабернет): мощь, структура и терпкость отлично работают с жирным стейком вроде рибай или стейка с жирной мраморностью.\\n- Malbec: плотное тело, фрукты и легкие пряности — хорошо идёт к большинству жирных стейков.\\n- Syrah/Shiraz: специи и черная слива; подходит к более пряному или копчённому стейку.\\n- Merlot: для менее жирного стейка или если вы предпочитаете более мягкое вино без ярко выраженной танинной «засечки».\\n- Pinot Noir: для постных стейков (например, филе) или когда хочется более элегантного, лёгкого вступления к мясному блюду.\\n- Zinfandel: насыщенный, фруктовый стиль с лёгким пряным оттенком — хорош с пряной корочкой и жаркой.\\n\\nКоротко по соотношению к прожарке и жирности\\n- Жирный стейк (мраморное мясо): подойдут плотные вина с танинами — Cabernet Sauvignon, Bordeaux blends, Malbec, Syrah.\\n- Постный стейк или стейк без сильной жирности: можно выбрать Merlot или более деликатный Pinot Noir.\\n- Сильная корочка и специи: хорошо согласятся Syrah или мощный Zinfandel.\\n- Соусы/гарниры: с грибами, сливочно-масляным соусом — выбирайте более полные вина; с кислым соусом или помидорной подачей — можно чуть освежить за счёт более кислого Riesling или Sauvignon Blanc, но это уже не классика «к стейку».\\n\\nТемпература подачи и подача\\n- Подавайте красное при примерно 16–18°C, декантируйте молодые танинные вина за 20–30 минут перед подачей, чтобы смягчить танинность и раскрыть аромат.\\n- Стейк подают горячим, в момент готовности: вино — чуть прохладнее тела мяса, чтобы не «перекрыть» вкус стейка.\\n\\nИмеющиеся примеры в ваших таблицах\\n- В вашем наборе таблиц встречаются примеры сочетаний с мясными блюдами и красными винами, например с утиной грудкой: «Красные вина: тихое выдержанное округлое Неббило, элегантный Пино Нуар…» — это иллюстрирует общий принцип подбора красного к мясу. Это можно использовать как ориентир для идеи, что мясо и красное вино — естественная пара. См. пример в таблице table_13.md .\\n\\nЕсли скажете, какой у вас именно стейк (толщина, прожарка, есть ли соусы, жирность мяса) и предпочтения по стилю вина (классика Cabernet, более лёгкий Pinot Noir и т. п.), могу подобрать 2–3 конкретные бутылки под ваш случай и дать точные сроки подачи и дегустационные заметки.', type='output_text', logprobs=[])], role='assistant', status='completed', type='message')], usage=Usage(requests=1, input_tokens=5276, input_tokens_details=InputTokensDetails(cached_tokens=2304), output_tokens=3843, output_tokens_details=OutputTokensDetails(reasoning_tokens=3072), total_tokens=9119), response_id='resp_68cc8fff3d1c819095dcd5ae38b29c7b058aff10cc69b601')], final_output='Классический и надёжный выбор — красное вино с выраженным телом и танинами. Они помогают смягчить жирность стейка и подчеркивают мясной вкус. Ниже — варианты на разный вкус и ситуацию.\\n\\nРекомендуемые стили вина\\n- Cabernet Sauvignon или Bordeaux-миксы (например, Порт-Луи/Пойяк или Мерло-Кабернет): мощь, структура и терпкость отлично работают с жирным стейком вроде рибай или стейка с жирной мраморностью.\\n- Malbec: плотное тело, фрукты и легкие пряности — хорошо идёт к большинству жирных стейков.\\n- Syrah/Shiraz: специи и черная слива; подходит к более пряному или копчённому стейку.\\n- Merlot: для менее жирного стейка или если вы предпочитаете более мягкое вино без ярко выраженной танинной «засечки».\\n- Pinot Noir: для постных стейков (например, филе) или когда хочется более элегантного, лёгкого вступления к мясному блюду.\\n- Zinfandel: насыщенный, фруктовый стиль с лёгким пряным оттенком — хорош с пряной корочкой и жаркой.\\n\\nКоротко по соотношению к прожарке и жирности\\n- Жирный стейк (мраморное мясо): подойдут плотные вина с танинами — Cabernet Sauvignon, Bordeaux blends, Malbec, Syrah.\\n- Постный стейк или стейк без сильной жирности: можно выбрать Merlot или более деликатный Pinot Noir.\\n- Сильная корочка и специи: хорошо согласятся Syrah или мощный Zinfandel.\\n- Соусы/гарниры: с грибами, сливочно-масляным соусом — выбирайте более полные вина; с кислым соусом или помидорной подачей — можно чуть освежить за счёт более кислого Riesling или Sauvignon Blanc, но это уже не классика «к стейку».\\n\\nТемпература подачи и подача\\n- Подавайте красное при примерно 16–18°C, декантируйте молодые танинные вина за 20–30 минут перед подачей, чтобы смягчить танинность и раскрыть аромат.\\n- Стейк подают горячим, в момент готовности: вино — чуть прохладнее тела мяса, чтобы не «перекрыть» вкус стейка.\\n\\nИмеющиеся примеры в ваших таблицах\\n- В вашем наборе таблиц встречаются примеры сочетаний с мясными блюдами и красными винами, например с утиной грудкой: «Красные вина: тихое выдержанное округлое Неббило, элегантный Пино Нуар…» — это иллюстрирует общий принцип подбора красного к мясу. Это можно использовать как ориентир для идеи, что мясо и красное вино — естественная пара. См. пример в таблице table_13.md .\\n\\nЕсли скажете, какой у вас именно стейк (толщина, прожарка, есть ли соусы, жирность мяса) и предпочтения по стилю вина (классика Cabernet, более лёгкий Pinot Noir и т. п.), могу подобрать 2–3 конкретные бутылки под ваш случай и дать точные сроки подачи и дегустационные заметки.', input_guardrail_results=[], output_guardrail_results=[], context_wrapper=RunContextWrapper(context=None, usage=Usage(requests=1, input_tokens=5276, input_tokens_details=InputTokensDetails(cached_tokens=2304), output_tokens=3843, output_tokens_details=OutputTokensDetails(reasoning_tokens=3072), total_tokens=9119)), _last_agent=Agent(name='Агент-сомелье', handoff_description=None, tools=[FileSearchTool(vector_store_ids=['vs_68cc8cef41288191aa59bb2d08e71588'], max_num_results=3, include_search_results=False, ranking_options=None, filters=None)], mcp_servers=[], mcp_config={}, instructions='Ты - профессиональный сомелье, который может рекомендовать соответствие еды и вина или других напитков. Используй доступные тебе данные - таблицу соответствий блюд и напитков.', prompt=None, handoffs=[], model='gpt-5-nano', model_settings=ModelSettings(temperature=None, top_p=None, frequency_penalty=None, presence_penalty=None, tool_choice=None, parallel_tool_calls=None, truncation=None, max_tokens=None, reasoning=None, verbosity=None, metadata=None, store=None, include_usage=None, response_include=None, top_logprobs=None, extra_query=None, extra_body=None, extra_headers=None, extra_args=None), input_guardrails=[], output_guardrails=[], output_type=None, hooks=None, tool_use_behavior='run_llm_again', reset_tool_choice=True))"
      ]
     },
     "execution_count": 11,
     "metadata": {},
     "output_type": "execute_result"
    }
   ],
   "source": [
    "res"
   ]
  },
  {
   "cell_type": "code",
   "execution_count": 43,
   "id": "61721974",
   "metadata": {},
   "outputs": [
    {
     "data": {
      "text/markdown": [
       "Самый дорогой стейк в нашем меню — это «Стейк \"Бык на взводе\"». Его стоимость составляет 2500 рублей. \n",
       "\n",
       "Если хотите узнать подробнее о составе или подобрать к нему подходящий напиток, дайте знать!"
      ],
      "text/plain": [
       "<IPython.core.display.Markdown object>"
      ]
     },
     "metadata": {},
     "output_type": "display_data"
    }
   ],
   "source": [
    "from agents.mcp import MCPServerStreamableHttp \n",
    "\n",
    "rest_server = MCPServerStreamableHttp(\n",
    "    name=\"Restaurant\",\n",
    "    params={\n",
    "        \"url\": \"https://meatrest.fastmcp.app/mcp\",\n",
    "        \"timeout\": 10,\n",
    "    },\n",
    "    cache_tools_list=True,\n",
    "    client_session_timeout_seconds=10,\n",
    "    max_retry_attempts=3\n",
    ")\n",
    "await rest_server.connect()\n",
    "\n",
    "waiter = Agent(\n",
    "    name=\"Waiter_Agent\",\n",
    "    instructions=\"Ты - профессиональный официант, знаешь все блюда и напитки в ресторане и их стоимость. Для доступа к меню вызови MCP-сервер. Твоя задача - подобрать подходящее блюдо и напиток для заказа, учитывая пожелания клиента. Используй агента-сомелье для определения того, какие вина подходят к блюдам и наоборот\",\n",
    "    mcp_servers=[rest_server],\n",
    "    handoffs=[sommelier]\n",
    ")\n",
    "\n",
    "res = await Runner.run(waiter,\"Сколько стоит самый дорогой стейк?\")\n",
    "printx(res.final_output)"
   ]
  },
  {
   "cell_type": "code",
   "execution_count": 46,
   "id": "60438eca",
   "metadata": {},
   "outputs": [
    {
     "data": {
      "text/markdown": [
       "Вот три варианта вкусного ужина с говядиной и подходящим вином. Таблица показывает блюдо, краткое описание, цену блюда, рекомендованное вино и его цену, а также суммарную стоимость заборона для каждого варианта.\n",
       "\n",
       "| Блюдо (говядина) | Описание | Тип | Цена блюда (руб.) | Подходящее вино | Тип вина | Цена за бокал (руб.) | Итого (руб.) |\n",
       "|---|---|---|---:|---|---|---:|---:|\n",
       "| Стейк \"Бык на взводе\" | Сочный рибай с розовым сердцем, томлёный в дыме аргентинских страстей. Подаётся с золотой солью Гималаев. | Стейк | 2500 | Каберне Совиньон, Château Lafite Rothschild (Франция, 2018) | Красное вино | 4500  | 7000 |\n",
       "| Стейк \"Нежность разъярённой коровы\" | Филе-миньон, замаринованное в гранатовом соке и шёпоте шеф-повара. Плюс картофель \"А-ля крылышки дракона\". | Стейк | 1800 | Мерло, Marchesi Antinori (Италия, 2019) | Красное вино | 2800  | 4600 |\n",
       "| \"Стейк для скромного олигарха\" | Говяжья щека, томлёная 12 часов в вине из погреба Наполеона (ну почти). С хрустящими чипсами из кабачков. | Стейк | 1200 | Мальбек, Catena Zapata (Аргентина, 2020) | Красное вино | 2900  | 4100 |\n",
       "\n",
       "Примечания по подбору вин:\n",
       "- Для густого и жирного стейка типа рибай классически хорошо подходит насыщенный Каберне Совиньон — так и зафиксировано в архитектуре меню/рекомендаций к говяжьим стейкам (указано в примере для рибай/жирной говядины) .\n",
       "- Филе-миньон (более деликатное мясо) хорошо сочетается с Мерло — такой дуэт часто упоминают как гармоничный в говяжьих блюдах, включая filet-мяса в примерах меню .\n",
       "- Говяжья щека, медленно тушёная в вине, обычно любит полнотелые аргентинские Мальбеки — это тоже упоминается в сочетаниях для жирного говяжьего мяса и стейков в аналогичных примерах меню .\n",
       "\n",
       "Если хотите, могу сузить до двух вариантов (например, только два самых удачных сочетания) или добавить альтернативы шампанским/игристым в зависимости от желаемого настроения ужина."
      ],
      "text/plain": [
       "<IPython.core.display.Markdown object>"
      ]
     },
     "metadata": {},
     "output_type": "display_data"
    }
   ],
   "source": [
    "res = await Runner.run(waiter,\"Подбери мне меню из главного блюда и подходящего вина на ужин. Я хочу съесть что-то из говядины. Выведи табличку со списком блюд/напитков и суммарную стоимость еды.\")\n",
    "printx(res.final_output)"
   ]
  },
  {
   "cell_type": "code",
   "execution_count": 42,
   "id": "23d856eb",
   "metadata": {},
   "outputs": [
    {
     "data": {
      "image/svg+xml": [
       "<?xml version=\"1.0\" encoding=\"UTF-8\" standalone=\"no\"?>\n",
       "<!DOCTYPE svg PUBLIC \"-//W3C//DTD SVG 1.1//EN\"\n",
       " \"http://www.w3.org/Graphics/SVG/1.1/DTD/svg11.dtd\">\n",
       "<!-- Generated by graphviz version 2.38.0 (20140413.2041)\n",
       " -->\n",
       "<!-- Title: G Pages: 1 -->\n",
       "<svg width=\"252pt\" height=\"297pt\"\n",
       " viewBox=\"0.00 0.00 252.33 297.05\" xmlns=\"http://www.w3.org/2000/svg\" xmlns:xlink=\"http://www.w3.org/1999/xlink\">\n",
       "<g id=\"graph0\" class=\"graph\" transform=\"scale(1 1) rotate(0) translate(4 293.054)\">\n",
       "<title>G</title>\n",
       "<polygon fill=\"white\" stroke=\"none\" points=\"-4,4 -4,-293.054 248.326,-293.054 248.326,4 -4,4\"/>\n",
       "<!-- __start__ -->\n",
       "<g id=\"node1\" class=\"node\"><title>__start__</title>\n",
       "<ellipse fill=\"lightblue\" stroke=\"black\" cx=\"61.3259\" cy=\"-272.79\" rx=\"54.3945\" ry=\"16.0303\"/>\n",
       "<text text-anchor=\"middle\" x=\"61.3259\" y=\"-269.09\" font-family=\"Arial\" font-size=\"14.00\">__start__</text>\n",
       "</g>\n",
       "<!-- Waiter_Agent -->\n",
       "<g id=\"node3\" class=\"node\"><title>Waiter_Agent</title>\n",
       "<polygon fill=\"lightyellow\" stroke=\"black\" points=\"115.326,-220.527 7.3259,-220.527 7.3259,-162.527 115.326,-162.527 115.326,-220.527\"/>\n",
       "<text text-anchor=\"middle\" x=\"61.3259\" y=\"-187.827\" font-family=\"Arial\" font-size=\"14.00\">Waiter_Agent</text>\n",
       "</g>\n",
       "<!-- __start__&#45;&gt;Waiter_Agent -->\n",
       "<g id=\"edge1\" class=\"edge\"><title>__start__&#45;&gt;Waiter_Agent</title>\n",
       "<path fill=\"none\" stroke=\"black\" stroke-width=\"1.5\" d=\"M61.3259,-256.508C61.3259,-249.121 61.3259,-239.891 61.3259,-230.761\"/>\n",
       "<polygon fill=\"black\" stroke=\"black\" stroke-width=\"1.5\" points=\"64.826,-230.598 61.3259,-220.598 57.826,-230.598 64.826,-230.598\"/>\n",
       "</g>\n",
       "<!-- __end__ -->\n",
       "<g id=\"node2\" class=\"node\"><title>__end__</title>\n",
       "<ellipse fill=\"lightblue\" stroke=\"black\" cx=\"52.3259\" cy=\"-16.2635\" rx=\"52.1524\" ry=\"16.0303\"/>\n",
       "<text text-anchor=\"middle\" x=\"52.3259\" y=\"-12.5635\" font-family=\"Arial\" font-size=\"14.00\">__end__</text>\n",
       "</g>\n",
       "<!-- Restaurant -->\n",
       "<g id=\"node4\" class=\"node\"><title>Restaurant</title>\n",
       "<polygon fill=\"lightgrey\" stroke=\"black\" points=\"103.826,-115.527 18.8259,-115.527 18.8259,-79.5269 103.826,-79.5269 103.826,-115.527\"/>\n",
       "<text text-anchor=\"middle\" x=\"61.3259\" y=\"-93.8269\" font-family=\"Arial\" font-size=\"14.00\">Restaurant</text>\n",
       "</g>\n",
       "<!-- Waiter_Agent&#45;&gt;Restaurant -->\n",
       "<g id=\"edge2\" class=\"edge\"><title>Waiter_Agent&#45;&gt;Restaurant</title>\n",
       "<path fill=\"none\" stroke=\"black\" stroke-width=\"1.5\" stroke-dasharray=\"5,2\" d=\"M55.0522,-162.424C54.4006,-150.772 54.4176,-137.305 55.103,-125.748\"/>\n",
       "<polygon fill=\"black\" stroke=\"black\" stroke-width=\"1.5\" points=\"58.5915,-126.03 55.9203,-115.777 51.6149,-125.458 58.5915,-126.03\"/>\n",
       "</g>\n",
       "<!-- Somellier_Agent -->\n",
       "<g id=\"node5\" class=\"node\"><title>Somellier_Agent</title>\n",
       "<path fill=\"none\" stroke=\"black\" d=\"M232.326,-126.527C232.326,-126.527 134.326,-126.527 134.326,-126.527 128.326,-126.527 122.326,-120.527 122.326,-114.527 122.326,-114.527 122.326,-80.5269 122.326,-80.5269 122.326,-74.5269 128.326,-68.5269 134.326,-68.5269 134.326,-68.5269 232.326,-68.5269 232.326,-68.5269 238.326,-68.5269 244.326,-74.5269 244.326,-80.5269 244.326,-80.5269 244.326,-114.527 244.326,-114.527 244.326,-120.527 238.326,-126.527 232.326,-126.527\"/>\n",
       "<text text-anchor=\"middle\" x=\"183.326\" y=\"-93.8269\" font-family=\"Arial\" font-size=\"14.00\">Somellier_Agent</text>\n",
       "</g>\n",
       "<!-- Waiter_Agent&#45;&gt;Somellier_Agent -->\n",
       "<g id=\"edge4\" class=\"edge\"><title>Waiter_Agent&#45;&gt;Somellier_Agent</title>\n",
       "<path fill=\"none\" stroke=\"black\" stroke-width=\"1.5\" d=\"M98.5928,-162.424C110.894,-153.148 124.721,-142.721 137.581,-133.023\"/>\n",
       "<polygon fill=\"black\" stroke=\"black\" stroke-width=\"1.5\" points=\"139.99,-135.59 145.867,-126.775 135.775,-130.001 139.99,-135.59\"/>\n",
       "</g>\n",
       "<!-- Restaurant&#45;&gt;Waiter_Agent -->\n",
       "<g id=\"edge3\" class=\"edge\"><title>Restaurant&#45;&gt;Waiter_Agent</title>\n",
       "<path fill=\"none\" stroke=\"black\" stroke-width=\"1.5\" stroke-dasharray=\"5,2\" d=\"M66.7315,-115.777C67.8485,-126.022 68.2694,-139.441 67.9944,-152.079\"/>\n",
       "<polygon fill=\"black\" stroke=\"black\" stroke-width=\"1.5\" points=\"64.4836,-152.298 67.5996,-162.424 71.4785,-152.565 64.4836,-152.298\"/>\n",
       "</g>\n",
       "<!-- Somellier_Agent&#45;&gt;__end__ -->\n",
       "<g id=\"edge7\" class=\"edge\"><title>Somellier_Agent&#45;&gt;__end__</title>\n",
       "<path fill=\"none\" stroke=\"black\" stroke-width=\"1.5\" d=\"M136.771,-68.3584C119.312,-57.7945 99.8881,-46.0416 84.075,-36.4737\"/>\n",
       "<polygon fill=\"black\" stroke=\"black\" stroke-width=\"1.5\" points=\"85.5916,-33.3006 75.224,-31.1183 81.9678,-39.2896 85.5916,-33.3006\"/>\n",
       "</g>\n",
       "<!-- file_search -->\n",
       "<g id=\"node6\" class=\"node\"><title>file_search</title>\n",
       "<ellipse fill=\"lightgreen\" stroke=\"black\" cx=\"183.326\" cy=\"-16.2635\" rx=\"60.623\" ry=\"16.0303\"/>\n",
       "<text text-anchor=\"middle\" x=\"183.326\" y=\"-12.5635\" font-family=\"Arial\" font-size=\"14.00\">file_search</text>\n",
       "</g>\n",
       "<!-- Somellier_Agent&#45;&gt;file_search -->\n",
       "<g id=\"edge5\" class=\"edge\"><title>Somellier_Agent&#45;&gt;file_search</title>\n",
       "<path fill=\"none\" stroke=\"black\" stroke-width=\"1.5\" stroke-dasharray=\"1,5\" d=\"M176.833,-68.3584C176.451,-60.0666 176.495,-51.0424 176.964,-42.9171\"/>\n",
       "<polygon fill=\"black\" stroke=\"black\" stroke-width=\"1.5\" points=\"180.456,-43.154 177.826,-32.8908 173.482,-42.5541 180.456,-43.154\"/>\n",
       "</g>\n",
       "<!-- file_search&#45;&gt;Somellier_Agent -->\n",
       "<g id=\"edge6\" class=\"edge\"><title>file_search&#45;&gt;Somellier_Agent</title>\n",
       "<path fill=\"none\" stroke=\"black\" stroke-width=\"1.5\" stroke-dasharray=\"1,5\" d=\"M188.826,-32.8908C189.706,-40.2305 190.122,-49.3326 190.072,-58.3353\"/>\n",
       "<polygon fill=\"black\" stroke=\"black\" stroke-width=\"1.5\" points=\"186.572,-58.2731 189.818,-68.3584 193.57,-58.4501 186.572,-58.2731\"/>\n",
       "</g>\n",
       "</g>\n",
       "</svg>\n"
      ],
      "text/plain": [
       "<graphviz.sources.Source at 0x2ab73843c80>"
      ]
     },
     "execution_count": 42,
     "metadata": {},
     "output_type": "execute_result"
    }
   ],
   "source": [
    "from agents.extensions.visualization import draw_graph\n",
    "import graphviz\n",
    "\n",
    "graphviz.backend.dot_command.DOT_BINARY = 'c:/winapp/conda/Library/bin/graphviz/dot.exe'\n",
    "draw_graph(waiter)"
   ]
  },
  {
   "cell_type": "code",
   "execution_count": 49,
   "id": "f6061331",
   "metadata": {},
   "outputs": [
    {
     "name": "stdout",
     "output_type": "stream",
     "text": [
      "=== Run starting ===\n",
      "Agent updated: Waiter_Agent\n",
      "-- Tool was called\n",
      "-- Tool was called\n",
      "-- Tool output: {\"type\":\"text\",\"text\":\"| Название блюда            | Описание                                                                 | Тип  | Цена (руб) |  \\n|-------------------------------|-----------------------------------------------------------------------------|----------|---------------|  \\n| Стейк \\\"Бык на взводе\\\"           | Сочный рибай с розовым сердцем, томлёный в дыме аргентинских страстей. Подаётся с золотой солью Гималаев. | Стейк    | 2500          |  \\n| Стейк \\\"Нежность разъярённой коровы\\\" | Филе-миньон, замаринованное в гранатовом соке и шёпоте шеф-повара. Плюс картофель \\\"А-ля крылышки дракона\\\". | Стейк    | 1800          |  \\n| \\\"Стейк для скромного олигарха\\\" | Говяжья щека, томлёная 12 часов в вине из погреба Наполеона (ну почти). С хрустящими чипсами из кабачков. | Стейк    | 1200          |  \\n| \\\"Лосось в мечтах о Норвегии\\\" | Нежнейший филе-кусок, запечённый под корочкой из \\\"загадочных северных трав\\\" (укропа). Подаётся с лимонным бризом. | Рыба     | 1900          |  \\n| \\\"Осьминог, который видел слишком много\\\" | Гриль-кальмар с чернильным соусом и намёком на средиземноморские тайны. Для смелых гурманов. | Рыба     | 2200          |  \\n| \\\"Дорадо под шубой\\\"        | Филе дорадо, завёрнутое в хрустящий картофельный панцирь. С соусом \\\"Тайна Атлантиды\\\". | Рыба     | 1600          |  \\n| \\\"Картофель 'Я тоже могу быть трюфелем'\\\" | Нежные дольки, запечённые с розмарином и намёком на дороговизну. Подаётся с воздухом Пиреней. | Гарнир   | 600           |  \\n| \\\"Грибы, которые танцевали на луну\\\" | Шампиньоны-гриль с чесночным соусом и намёком на психоделический опыт. | Гарнир   | 450           |  \\n| \\\"Круассаны, но не те\\\"     | Аппетитные мини-морковки, глазированные мёдом с намёком на парижское детство. | Гарнир   | 350           |  \\n| \\\"Шоколадный апокалипсис\\\"  | Десерт из 72% какао, взрывающий вкусовые рецепторы. С мороженым \\\"Облако рая\\\". | Десерт   | 800           |  \\n| \\\"Чизкейк, который видел Бога\\\" | Воздушный, с карамелью из ангельских слез и крошками \\\"райского печенья\\\". | Десерт   | 750           |  \\n| \\\"Тирамису для взрослых\\\"   | Классика, но с добавлением \\\"секретного ингредиента\\\" (кофе, а что вы подумали?). | Десерт   | 700           |  \\n\",\"annotations\":null,\"meta\":null}\n",
      "-- Tool output: {\"type\":\"text\",\"text\":\"| Сорт вина / Напиток       | Винодельня / Производитель       | Год | Тип           | Цена за бокал (руб) |  \\n|------------------------------|--------------------------------------|---------|--------------------|------------------------|  \\n| Каберне Совиньон         | Château Lafite Rothschild, Франция   | 2018    | Красное вино       | 4500                   |  \\n| Мерло                    | Marchesi Antinori, Италия            | 2019    | Красное вино       | 2800                   |  \\n| Пино Нуар                | Domaine de la Romanée-Conti, Франция | 2017    | Красное вино       | 5200                   |  \\n| Шираз                    | Penfolds, Австралия                  | 2018    | Красное вино       | 3200                   |  \\n| Мальбек                  | Catena Zapata, Аргентина             | 2020    | Красное вино       | 2900                   |  \\n| Совиньон Блан            | Cloudy Bay, Новая Зеландия           | 2021    | Белое вино         | 3800                   |  \\n| Шардоне                  | Louis Latour, Франция                | 2020    | Белое вино         | 3500                   |  \\n| Рислинг                  | Dr. Loosen, Германия                 | 2019    | Белое вино         | 3100                   |  \\n| Пино Гриджио             | Santa Margherita, Италия             | 2021    | Белое вино         | 2700                   |  \\n| Гевюрцтраминер           | Trimbach, Франция                   | 2020    | Белое вино         | 3300                   |  \\n| Шотландский виски        | Macallan 12 лет, Шотландия           | -       | Крепкий алкоголь   | 2500                   |  \\n| Текила                   | Don Julio Añejo, Мексика             | -       | Крепкий алкоголь   | 2200                   |  \\n| Мохито                   | Домашний коктейль                    | -       | Коктейль           | 600                    |  \\n| Кровавая Мэри            | Домашний коктейль                    | -       | Коктейль           | 650                    |  \\n| Апельсиновый фреш        | Свежевыжатый                         | -       | Безалкогольное     | 350                    |  \\n| Имбирный лимонад         | Домашний                             | -       | Безалкогольное     | 400                    |  \\n| Минеральная вода         | Voss, Норвегия                       | -       | Вода               | 500                    |  \\n\",\"annotations\":null,\"meta\":null}\n",
      "-- Tool was called\n",
      "Agent updated: Somellier_Agent\n",
      "-- Tool was called\n",
      "-- Message output:\n",
      " Вот предложение меню на ужин с говядиной и подходящим к нему вином.\n",
      "\n",
      "| Блюдо / Напиток | Цена (руб) |\n",
      "|------------------|------------|\n",
      "| Стейк \"Бык на взводе\" | 2500 |\n",
      "| Каберне Совиньон | 4500 |\n",
      "| Итого | 7000 |\n",
      "\n",
      "Итого за заказ: 7000 руб.\n",
      "\n",
      "Почему так хорошо подходит: жирность и насыщенность стейка хорошо сбалансируются с выразительным каберне совиньоном, который добавляет структуру, танны и глубокие фруктовые ноты, усиливая вкус говядины и дымчатые нотки блюда. Это классическое сочетание для ужина из говядины.\n",
      "\n",
      "Примечание: если хотите рассмотреть альтернативы, могу подобрать другой выбор говяжьего блюда и соответствующее вино с другой ценовой категорией. \n",
      "=== Run complete ===\n"
     ]
    }
   ],
   "source": [
    "from agents import ItemHelpers\n",
    "\n",
    "async def trace(agent,query):\n",
    "    result = Runner.run_streamed(agent, input=query)\n",
    "    print(\"=== Run starting ===\")\n",
    "\n",
    "    async for event in result.stream_events():\n",
    "        # We'll ignore the raw responses event deltas\n",
    "        if event.type == \"raw_response_event\":\n",
    "            continue\n",
    "        # When the agent updates, print that\n",
    "        elif event.type == \"agent_updated_stream_event\":\n",
    "            print(f\"Agent updated: {event.new_agent.name}\")\n",
    "            continue\n",
    "        # When items are generated, print them\n",
    "        elif event.type == \"run_item_stream_event\":\n",
    "            if event.item.type == \"tool_call_item\":\n",
    "                print(\"-- Tool was called\")\n",
    "            elif event.item.type == \"tool_call_output_item\":\n",
    "                print(f\"-- Tool output: {event.item.output}\")\n",
    "            elif event.item.type == \"message_output_item\":\n",
    "                print(f\"-- Message output:\\n {ItemHelpers.text_message_output(event.item)}\")\n",
    "            else:\n",
    "                pass  # Ignore other event types\n",
    "\n",
    "    print(\"=== Run complete ===\")\n",
    "\n",
    "await trace(waiter,\n",
    "\"Подбери мне меню из главного блюда и подходящего вина на ужин. Я хочу съесть что-то из говядины. Выведи табличку со списком блюд/напитков и суммарную стоимость еды.\")"
   ]
  },
  {
   "cell_type": "code",
   "execution_count": 50,
   "id": "d3c2e83d",
   "metadata": {},
   "outputs": [
    {
     "name": "stdout",
     "output_type": "stream",
     "text": [
      "\n",
      "[Agent updated: Waiter_Agent]\n",
      "\n",
      "[tool called]\n",
      "\n",
      "[tool output: {\"type\":\"text\",\"text\":\"| Название блюда            | Описание                                                                 | Тип  | Цена (руб) |  \\n|-------------------------------|-----------------------------------------------------------------------------|----------|---------------|  \\n| Стейк \\\"Бык на взводе\\\"           | Сочный рибай с розовым сердцем, томлёный в дыме аргентинских страстей. Подаётся с золотой солью Гималаев. | Стейк    | 2500          |  \\n| Стейк \\\"Нежность разъярённой коровы\\\" | Филе-миньон, замаринованное в гранатовом соке и шёпоте шеф-повара. Плюс картофель \\\"А-ля крылышки дракона\\\". | Стейк    | 1800          |  \\n| \\\"Стейк для скромного олигарха\\\" | Говяжья щека, томлёная 12 часов в вине из погреба Наполеона (ну почти). С хрустящими чипсами из кабачков. | Стейк    | 1200          |  \\n| \\\"Лосось в мечтах о Норвегии\\\" | Нежнейший филе-кусок, запечённый под корочкой из \\\"загадочных северных трав\\\" (укропа). Подаётся с лимонным бризом. | Рыба     | 1900          |  \\n| \\\"Осьминог, который видел слишком много\\\" | Гриль-кальмар с чернильным соусом и намёком на средиземноморские тайны. Для смелых гурманов. | Рыба     | 2200          |  \\n| \\\"Дорадо под шубой\\\"        | Филе дорадо, завёрнутое в хрустящий картофельный панцирь. С соусом \\\"Тайна Атлантиды\\\". | Рыба     | 1600          |  \\n| \\\"Картофель 'Я тоже могу быть трюфелем'\\\" | Нежные дольки, запечённые с розмарином и намёком на дороговизну. Подаётся с воздухом Пиреней. | Гарнир   | 600           |  \\n| \\\"Грибы, которые танцевали на луну\\\" | Шампиньоны-гриль с чесночным соусом и намёком на психоделический опыт. | Гарнир   | 450           |  \\n| \\\"Круассаны, но не те\\\"     | Аппетитные мини-морковки, глазированные мёдом с намёком на парижское детство. | Гарнир   | 350           |  \\n| \\\"Шоколадный апокалипсис\\\"  | Десерт из 72% какао, взрывающий вкусовые рецепторы. С мороженым \\\"Облако рая\\\". | Десерт   | 800           |  \\n| \\\"Чизкейк, который видел Бога\\\" | Воздушный, с карамелью из ангельских слез и крошками \\\"райского печенья\\\". | Десерт   | 750           |  \\n| \\\"Тирамису для взрослых\\\"   | Классика, но с добавлением \\\"секретного ингредиента\\\" (кофе, а что вы подумали?). | Десерт   | 700           |  \\n\",\"annotations\":null,\"meta\":null}]\n",
      "У нас отличный выбор мясных блюд! Вот что могу предложить:\n",
      "\n",
      "1. Стейк \"Бык на взводе\" — сочный рибай, томлёный в дыме, с гималайской солью (2500 руб.)\n",
      "2. Стейк \"Нежность разъярённой коровы\" — филе-миньон на гранатовом маринаде, с картофелем \"А-ля крылышки дракона\" (1800 руб.)\n",
      "3. \"Стейк для скромного олигарха\" — говяжья щека, томлёная 12 часов в вине, с чипсами из кабачков (1200 руб.)\n",
      "\n",
      "К какому варианту у вас душа больше лежит? Хотите, порекомендую напиток к выбранному блюду?\n",
      "\n",
      "[Agent updated: Waiter_Agent]\n",
      "\n",
      "[tool called]\n",
      "\n",
      "[Agent updated: Somellier_Agent]\n",
      "\n",
      "[tool called]\n",
      "Отличный выбор. Для стейка «Нежность разъярённой коровы» с гранатовым маринадом рекомендую красные вина с умеренной кислотностью и мягкими танинами, чтобы не заглушить сочность мяса и подчеркнуть фруктовую кислинку граната.\n",
      "\n",
      "Рекомендации\n",
      "- Основной вариант: Pinot Noir (Бургундия, Орегон, Новая Зеландия). Легче тело, яркие красные ягоды, хорошая кислота и тонкие танинЫ — отлично сочетаются с маринадом из граната и нежной текстурой филе-миньона. Подача примерно 14–16°C.\n",
      "- Альтернатива 1: Merlot из Бордо (Saint-Émilion) или аналогичные сорта — более мясистый, с бархатистыми танинами и сливовыми нотами, хорошо балансирует сладковато-кислый маринад.\n",
      "- Альтернатива 2: Grenache-based вина (Châteauneuf-du-Pape стиль или GSM смеси) — фруктовые, слегка пряные, средний-полный корпус, подойдут, если хочется чуть более заметной пряности.\n",
      "- Альтернатива 3: Cabernet Franc из Loire или Латинской Америки — фруктово-пряные ноты, умеренная сила, хорошо сочетаются с мясными блюдами.\n",
      "\n",
      "Безалкогольный вариант (если нужен аналог): гранатовый спритц или газированная вода с льдом и ломтиком лимона — освежит вкус и не перегрузит вкус блюда.\n",
      "\n",
      "Хочешь, подскажу 2–3 конкретных вина под твой бюджет и регион/предпочтения?\n",
      "\n",
      "[Agent updated: Somellier_Agent]\n",
      "Отлично. По вашему выбору — стейк «Нежность разъярённой коровы» (1800 руб.) — самый дешевый подходящий вариант вина будет зависеть от наличия на вашем рынке/в нашем вине. В среднем базовые вина подойдут за примерно 1200–1800 руб за бутылку. Поэтому:\n",
      "\n",
      "- Самый дешевый ориентировочно подходящий вариант: Grenache-based или Merlot, примерно 1200–1500 руб за бутылку.\n",
      "- Итоговая стоимость обеда (привязана к одному блюду и одному стакану/бутылке вина): примерно 3000 руб (1800 за блюдо + около 1200 за вино). Цена может быть ниже или выше в зависимости от конкретного вина и региона. Сообщите бюджет, и я подберу точное вино и рассчитаю точную сумму.\n",
      "\n",
      "Ниже табличка с блюдами меню:\n",
      "\n",
      "| Название блюда | Описание | Тип | Цена (руб) |\n",
      "|-----------------|----------|-----|------------|\n",
      "| Стейк \"Бык на взводе\" | Сочный рибай с розовым сердцем, томлёный в дыме аргентинских страстей. Подаётся с золотой солью Гималаев. | Стейк | 2500 |\n",
      "| Стейк \"Нежность разъярённой коровы\" | Филе-миньон, замаринованное в гранатовом соке и шёпоте шеф-повара. Плюс картофель \"А-ля крылышки дракона\". | Стейк | 1800 |\n",
      "| \"Стейк для скромного олигарха\" | Говяжья щека, томлёная 12 часов в вине из погреба Наполеона (ну почти). С хрустящими чипсами из кабачков. | Стейк | 1200 |\n",
      "| \"Лосось в мечтах о Норвегии\" | Нежнейший филе-кусок, запечённый под корочкой из \"загадочных северных трав\" (укропа). Подаётся с лимонным бризом. | Рыба | 1900 |\n",
      "| \"Осьминог, который видел слишком много\" | Гриль-кальмар с чернильным соусом и намёком на средиземноморские тайны. Для смелых гурманов. | Рыба | 2200 |\n",
      "| \"Дорадо под шубой\" | Филе дорадо, завёрнутое в хрустящий картофельный панцирь. С соусом \"Тайна Атлантиды\". | Рыба | 1600 |\n",
      "| \"Картофель 'Я тоже могу быть трюфелем'\" | Нежные дольки, запечённые с розмарином и намёком на дороговизну. Подаётся с воздухом Пиреней. | Гарнир | 600 |\n",
      "| \"Грибы, которые танцевали на луну\" | Шампиньоны-гриль с чесночным соусом и намёком на психоделический опыт. | Гарнир | 450 |\n",
      "| \"Круассаны, но не те\" | Аппетитные мини-морковки, глазированные мёдом с намёком на парижское детство. | Гарнир | 350 |\n",
      "| \"Шоколадный апокалипсис\" | Десерт из 72% какао, взрывающий вкусовые рецепторы. С мороженым \"Облако рая\". | Десерт | 800 |\n",
      "| \"Чизкейк, который видел Бога\" | Воздушный, с карамелью из ангельских слез и крошками \"райского печенья\". | Десерт | 750 |\n",
      "| \"Тирамису для взрослых\" | Классика, но с добавлением \"секретного ингредиента\" (кофе, а что вы подумали?). | Десерт | 700 |\n",
      "\n",
      "Если хотите, могу:\n",
      "- подобрать конкретное вино под ваш бюджет и сообщить точную цену,\n",
      "- или предложить другой диапазон цен на вино и пересчитать общую сумму,\n",
      "- и сфокусироваться на другом блюде из меню.\n",
      "\n",
      "[Agent updated: Somellier_Agent]\n",
      "Вот табличка с выбранным обедом и его примерной стоимостью:\n",
      "\n",
      "| Позиция                              | Стоимость (руб) |\n",
      "|--------------------------------------|-----------------|\n",
      "| Стейк \"Нежность разъярённой коровы\"   | 1800            |\n",
      "| Самый дешевый подходящий вариант вина | 1200–1500       |\n",
      "| Итого (обед)                         | ≈3000           |\n",
      "\n",
      "Примечание: точная сумма зависит от конкретного вина, которое выберете в магазине/баре. Хотите, чтобы я под конкретный бюджет подобрал конкретное вино и посчитал точную итоговую цену?\n"
     ]
    }
   ],
   "source": [
    "from agents import run_demo_loop\n",
    "\n",
    "await run_demo_loop(waiter)"
   ]
  },
  {
   "cell_type": "code",
   "execution_count": null,
   "id": "f96728f6",
   "metadata": {},
   "outputs": [],
   "source": []
  }
 ],
 "metadata": {
  "kernelspec": {
   "display_name": "mas",
   "language": "python",
   "name": "python3"
  },
  "language_info": {
   "codemirror_mode": {
    "name": "ipython",
    "version": 3
   },
   "file_extension": ".py",
   "mimetype": "text/x-python",
   "name": "python",
   "nbconvert_exporter": "python",
   "pygments_lexer": "ipython3",
   "version": "3.12.0"
  }
 },
 "nbformat": 4,
 "nbformat_minor": 5
}
