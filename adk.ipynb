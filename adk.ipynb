{
 "cells": [
  {
   "cell_type": "code",
   "execution_count": 1,
   "id": "d9e8a931",
   "metadata": {},
   "outputs": [],
   "source": [
    "from IPython.display import Markdown, display\n",
    "def printx(string):\n",
    "    display(Markdown(string))"
   ]
  },
  {
   "cell_type": "code",
   "execution_count": 2,
   "id": "4816b797",
   "metadata": {},
   "outputs": [
    {
     "data": {
      "text/plain": [
       "True"
      ]
     },
     "execution_count": 2,
     "metadata": {},
     "output_type": "execute_result"
    }
   ],
   "source": [
    "from dotenv import load_dotenv\n",
    "load_dotenv()"
   ]
  },
  {
   "cell_type": "code",
   "execution_count": 26,
   "id": "6df40654",
   "metadata": {},
   "outputs": [],
   "source": [
    "import os\n",
    "from openai import AsyncOpenAI\n",
    "from agents import set_default_openai_client\n",
    "\n",
    "folder_id = os.environ[\"folder_id\"]\n",
    "api_key = os.environ[\"api_key\"]\n",
    "\n",
    "model = \"gpt-5-nano\"\n",
    "\n",
    "client = AsyncOpenAI(\n",
    "    # base_url=\"...\",\n",
    "    api_key=os.getenv(\"api_key\")\n",
    ")\n",
    "set_default_openai_client(client)"
   ]
  },
  {
   "cell_type": "code",
   "execution_count": 29,
   "id": "50ea6923",
   "metadata": {},
   "outputs": [
    {
     "data": {
      "text/markdown": [
       "Самый дорогой стейк в меню — Стейк \"Бык на взводе\" за 2500 руб. Это сочный рибай с розовым сердцем, подаётся с солью Гималаев.\n",
       "\n",
       "Хотите заказать его, или подобрать к нему вино? Могу вызвать сомелье для подбора пары."
      ],
      "text/plain": [
       "<IPython.core.display.Markdown object>"
      ]
     },
     "metadata": {},
     "output_type": "display_data"
    }
   ],
   "source": [
    "mcp_tool = {\n",
    "            \"type\": \"mcp\",\n",
    "            \"server_label\": \"Restaurant\",\n",
    "            \"server_description\": \"Функции для запроса списка блюд и напитков в ресторане\",\n",
    "            \"server_url\": \"https://meatrest.fastmcp.app/mcp\",\n",
    "            \"require_approval\": \"never\",\n",
    "    }\n",
    "\n",
    "instruction = \"Ты - профессиональный официант, знает все блюда и напитки в ресторане и их стоимость. Для доступа к меню вызови MCP-сервер. Твоя задача - подобрать подходящее блюдо и напиток для заказа, учитывая пожелания клиента и знания агента-сомелье, которого ты можешь вызвать в случае необходимости\"\n",
    "\n",
    "res = await client.responses.create(\n",
    "                    model=model,\n",
    "                    instructions=instruction,\n",
    "                    input=\"Какой самый дорогой стейк?\",\n",
    "                    tools=[mcp_tool],\n",
    "                )\n",
    "printx(res.output_text)"
   ]
  },
  {
   "cell_type": "code",
   "execution_count": 4,
   "id": "95b163ed",
   "metadata": {},
   "outputs": [
    {
     "name": "stderr",
     "output_type": "stream",
     "text": [
      "c:\\winapp\\conda\\envs\\mas\\Lib\\site-packages\\tqdm\\auto.py:21: TqdmWarning: IProgress not found. Please update jupyter and ipywidgets. See https://ipywidgets.readthedocs.io/en/stable/user_install.html\n",
      "  from .autonotebook import tqdm as notebook_tqdm\n",
      "100%|██████████| 161/161 [00:24<00:00,  6.67it/s]"
     ]
    },
    {
     "name": "stdout",
     "output_type": "stream",
     "text": [
      "Uploaded 15 table chunks\n"
     ]
    },
    {
     "name": "stderr",
     "output_type": "stream",
     "text": [
      "\n"
     ]
    }
   ],
   "source": [
    "import tiktoken\n",
    "import io\n",
    "from tqdm.auto import tqdm\n",
    "\n",
    "vector_store = client.vector_stores.create(name='rag_store')\n",
    "\n",
    "with open(\"data/food_wine_table.md\", encoding=\"utf-8\") as f:\n",
    "    food_wine = f.readlines()\n",
    "fw = \"\".join(food_wine)\n",
    "\n",
    "tokenizer = tiktoken.encoding_for_model(model)\n",
    "header = food_wine[:2]\n",
    "\n",
    "chunk_size = 1000  # в токенах\n",
    "\n",
    "s = header.copy()\n",
    "uploaded_chunks = []\n",
    "i = 0\n",
    "for x in tqdm(food_wine[2:]):\n",
    "    s.append(x)\n",
    "    if len(tokenizer.encode(\"\".join(s))) > chunk_size:\n",
    "        f = client.files.create(\n",
    "            purpose=\"assistants\",\n",
    "            file = (f'table_{i}.md',io.BytesIO(\"\".join(s).encode(\"utf-8\")),'text/markdown')\n",
    "        )\n",
    "        client.vector_stores.files.create(file_id=f.id, vector_store_id=vector_store.id)\n",
    "        uploaded_chunks.append(f)\n",
    "        i+=1\n",
    "        s = header.copy()\n",
    "print(f\"Uploaded {len(uploaded_chunks)} table chunks\")"
   ]
  },
  {
   "cell_type": "code",
   "execution_count": 21,
   "id": "5ee719be",
   "metadata": {},
   "outputs": [],
   "source": [
    "from agents import Agent, FileSearchTool\n",
    "\n",
    "sommelier = Agent(\n",
    "    name=\"Somellier_Agent\",\n",
    "    instructions=\"Ты - профессиональный сомелье, который может рекомендовать соответствие еды и вина или других напитков. Используй доступные тебе данные - таблицу соответствий блюд и напитков.\",\n",
    "    model=model,\n",
    "    tools=[FileSearchTool(\n",
    "            max_num_results=5,\n",
    "            vector_store_ids=[vector_store.id],\n",
    "        )]\n",
    ")"
   ]
  },
  {
   "cell_type": "code",
   "execution_count": 13,
   "id": "42986f0d",
   "metadata": {},
   "outputs": [
    {
     "data": {
      "text/markdown": [
       "Классическая идея: со стейком обычно хорошо идёт красное полнотелое вино с достаточной структурой и танинами, которые помогают разрезать жир и подчёркивают вкус мяса. В ваших файлах конкретно встречаются такие варианты для говяжьего стейка (без мраморной жирности):\n",
       "\n",
       "- Санджовезе (Кьянти) и Неро д’Аvolа; темпранильо; “тельные” Мерло; “тельные” Пино Нуары (из Нового Света, Австрии, Германии); вина из Бордо; вина из Роны (Гренаш+Сира+Мурведр); Саперави (Грузия и Россия); Арени (Армения) – всё это указано как подходящее к жареной/тушеной говядине (кроме мраморных стейков) .\n",
       "\n",
       "- Также в таблицах для более мощных вкусовых сочетаний с говяжьими блюдами указаны красные вина: Каберне Совиньон, Мурведр (Монастрелл), Каберне Фран, тельное Мерло, Мальбек; бордоские вина и “ронский” ассамбляж Гренаш+Сира+Мурведр — особенно хорошо подойдут к плотному стейку или к блюдам из говядины и дичи (паштеты мощновкусные) .\n",
       "\n",
       "Практические варианты (крупными категориями):\n",
       "- Бордо-стиль: каберне совиньон/мерло бленды. Подойдут к классическому стейку с ярким мясным вкусом. \n",
       "- Итальянские варианты: Санджовезе (Кьянти), Неро д’Авола; Tempranillo – для немного «итальянско-испанской» гаммы вкусов. \n",
       "- Испано-итальянские сочетания: тельные Мерло; тяжелые Пино Нуары (из соответствующих регионов). \n",
       "- Рона: бленды Гренаш+Сира+Мурведр — для пряного или пикантного стейка. \n",
       "- Саперави, Арени — альтернативы для ярких, насыщенных вкусов. \n",
       "\n",
       "Если хотите, могу подобрать конкретный вариант под ваш точный кусок стейка (например, толстый стейк на гриле vs. жареный на сковороде) и желаемый стиль вина (более фруктовый vs. более таниновый). Расскажите, какой у вас нож cut (например, рибай, стрипторб, филе) и как вы готовите стейк (редко/средне/хорошо прожаренный, с пряной корочкой и т. п.)."
      ],
      "text/plain": [
       "<IPython.core.display.Markdown object>"
      ]
     },
     "metadata": {},
     "output_type": "display_data"
    }
   ],
   "source": [
    "from agents import Runner\n",
    "\n",
    "res = await Runner.run(sommelier, input=\"Какое вино лучше пить со стейком?\")\n",
    "printx(res.final_output)"
   ]
  },
  {
   "cell_type": "code",
   "execution_count": 11,
   "id": "ccb76cf6",
   "metadata": {},
   "outputs": [
    {
     "data": {
      "text/plain": [
       "RunResult(input='Какое вино лучше пить со стейком?', new_items=[ReasoningItem(agent=Agent(name='Агент-сомелье', handoff_description=None, tools=[FileSearchTool(vector_store_ids=['vs_68cc8cef41288191aa59bb2d08e71588'], max_num_results=3, include_search_results=False, ranking_options=None, filters=None)], mcp_servers=[], mcp_config={}, instructions='Ты - профессиональный сомелье, который может рекомендовать соответствие еды и вина или других напитков. Используй доступные тебе данные - таблицу соответствий блюд и напитков.', prompt=None, handoffs=[], model='gpt-5-nano', model_settings=ModelSettings(temperature=None, top_p=None, frequency_penalty=None, presence_penalty=None, tool_choice=None, parallel_tool_calls=None, truncation=None, max_tokens=None, reasoning=None, verbosity=None, metadata=None, store=None, include_usage=None, response_include=None, top_logprobs=None, extra_query=None, extra_body=None, extra_headers=None, extra_args=None), input_guardrails=[], output_guardrails=[], output_type=None, hooks=None, tool_use_behavior='run_llm_again', reset_tool_choice=True), raw_item=ResponseReasoningItem(id='rs_68cc90009acc8190ab549fab8a71a99b058aff10cc69b601', summary=[], type='reasoning', content=None, encrypted_content=None, status=None), type='reasoning_item'), ToolCallItem(agent=Agent(name='Агент-сомелье', handoff_description=None, tools=[FileSearchTool(vector_store_ids=['vs_68cc8cef41288191aa59bb2d08e71588'], max_num_results=3, include_search_results=False, ranking_options=None, filters=None)], mcp_servers=[], mcp_config={}, instructions='Ты - профессиональный сомелье, который может рекомендовать соответствие еды и вина или других напитков. Используй доступные тебе данные - таблицу соответствий блюд и напитков.', prompt=None, handoffs=[], model='gpt-5-nano', model_settings=ModelSettings(temperature=None, top_p=None, frequency_penalty=None, presence_penalty=None, tool_choice=None, parallel_tool_calls=None, truncation=None, max_tokens=None, reasoning=None, verbosity=None, metadata=None, store=None, include_usage=None, response_include=None, top_logprobs=None, extra_query=None, extra_body=None, extra_headers=None, extra_args=None), input_guardrails=[], output_guardrails=[], output_type=None, hooks=None, tool_use_behavior='run_llm_again', reset_tool_choice=True), raw_item=ResponseFileSearchToolCall(id='fs_68cc90041d108190a210e03cef0a0027058aff10cc69b601', queries=['Какое вино лучше пить со стейком?', 'со стейком вино таблица соответствий блюд и напитков', 'pairing steak wine table', 'таблица соответствий блюд и напитков стейк'], status='completed', type='file_search_call', results=None), type='tool_call_item'), ReasoningItem(agent=Agent(name='Агент-сомелье', handoff_description=None, tools=[FileSearchTool(vector_store_ids=['vs_68cc8cef41288191aa59bb2d08e71588'], max_num_results=3, include_search_results=False, ranking_options=None, filters=None)], mcp_servers=[], mcp_config={}, instructions='Ты - профессиональный сомелье, который может рекомендовать соответствие еды и вина или других напитков. Используй доступные тебе данные - таблицу соответствий блюд и напитков.', prompt=None, handoffs=[], model='gpt-5-nano', model_settings=ModelSettings(temperature=None, top_p=None, frequency_penalty=None, presence_penalty=None, tool_choice=None, parallel_tool_calls=None, truncation=None, max_tokens=None, reasoning=None, verbosity=None, metadata=None, store=None, include_usage=None, response_include=None, top_logprobs=None, extra_query=None, extra_body=None, extra_headers=None, extra_args=None), input_guardrails=[], output_guardrails=[], output_type=None, hooks=None, tool_use_behavior='run_llm_again', reset_tool_choice=True), raw_item=ResponseReasoningItem(id='rs_68cc9006b7ac8190a5cef4088a28ac20058aff10cc69b601', summary=[], type='reasoning', content=None, encrypted_content=None, status=None), type='reasoning_item'), MessageOutputItem(agent=Agent(name='Агент-сомелье', handoff_description=None, tools=[FileSearchTool(vector_store_ids=['vs_68cc8cef41288191aa59bb2d08e71588'], max_num_results=3, include_search_results=False, ranking_options=None, filters=None)], mcp_servers=[], mcp_config={}, instructions='Ты - профессиональный сомелье, который может рекомендовать соответствие еды и вина или других напитков. Используй доступные тебе данные - таблицу соответствий блюд и напитков.', prompt=None, handoffs=[], model='gpt-5-nano', model_settings=ModelSettings(temperature=None, top_p=None, frequency_penalty=None, presence_penalty=None, tool_choice=None, parallel_tool_calls=None, truncation=None, max_tokens=None, reasoning=None, verbosity=None, metadata=None, store=None, include_usage=None, response_include=None, top_logprobs=None, extra_query=None, extra_body=None, extra_headers=None, extra_args=None), input_guardrails=[], output_guardrails=[], output_type=None, hooks=None, tool_use_behavior='run_llm_again', reset_tool_choice=True), raw_item=ResponseOutputMessage(id='msg_68cc90155b048190be6a8d5647c75c66058aff10cc69b601', content=[ResponseOutputText(annotations=[AnnotationFileCitation(file_id='file-2GEK6hB4DQDmRCpMHywiTu', filename='table_13.md', index=2209, type='file_citation')], text='Классический и надёжный выбор — красное вино с выраженным телом и танинами. Они помогают смягчить жирность стейка и подчеркивают мясной вкус. Ниже — варианты на разный вкус и ситуацию.\\n\\nРекомендуемые стили вина\\n- Cabernet Sauvignon или Bordeaux-миксы (например, Порт-Луи/Пойяк или Мерло-Кабернет): мощь, структура и терпкость отлично работают с жирным стейком вроде рибай или стейка с жирной мраморностью.\\n- Malbec: плотное тело, фрукты и легкие пряности — хорошо идёт к большинству жирных стейков.\\n- Syrah/Shiraz: специи и черная слива; подходит к более пряному или копчённому стейку.\\n- Merlot: для менее жирного стейка или если вы предпочитаете более мягкое вино без ярко выраженной танинной «засечки».\\n- Pinot Noir: для постных стейков (например, филе) или когда хочется более элегантного, лёгкого вступления к мясному блюду.\\n- Zinfandel: насыщенный, фруктовый стиль с лёгким пряным оттенком — хорош с пряной корочкой и жаркой.\\n\\nКоротко по соотношению к прожарке и жирности\\n- Жирный стейк (мраморное мясо): подойдут плотные вина с танинами — Cabernet Sauvignon, Bordeaux blends, Malbec, Syrah.\\n- Постный стейк или стейк без сильной жирности: можно выбрать Merlot или более деликатный Pinot Noir.\\n- Сильная корочка и специи: хорошо согласятся Syrah или мощный Zinfandel.\\n- Соусы/гарниры: с грибами, сливочно-масляным соусом — выбирайте более полные вина; с кислым соусом или помидорной подачей — можно чуть освежить за счёт более кислого Riesling или Sauvignon Blanc, но это уже не классика «к стейку».\\n\\nТемпература подачи и подача\\n- Подавайте красное при примерно 16–18°C, декантируйте молодые танинные вина за 20–30 минут перед подачей, чтобы смягчить танинность и раскрыть аромат.\\n- Стейк подают горячим, в момент готовности: вино — чуть прохладнее тела мяса, чтобы не «перекрыть» вкус стейка.\\n\\nИмеющиеся примеры в ваших таблицах\\n- В вашем наборе таблиц встречаются примеры сочетаний с мясными блюдами и красными винами, например с утиной грудкой: «Красные вина: тихое выдержанное округлое Неббило, элегантный Пино Нуар…» — это иллюстрирует общий принцип подбора красного к мясу. Это можно использовать как ориентир для идеи, что мясо и красное вино — естественная пара. См. пример в таблице table_13.md .\\n\\nЕсли скажете, какой у вас именно стейк (толщина, прожарка, есть ли соусы, жирность мяса) и предпочтения по стилю вина (классика Cabernet, более лёгкий Pinot Noir и т. п.), могу подобрать 2–3 конкретные бутылки под ваш случай и дать точные сроки подачи и дегустационные заметки.', type='output_text', logprobs=[])], role='assistant', status='completed', type='message'), type='message_output_item')], raw_responses=[ModelResponse(output=[ResponseReasoningItem(id='rs_68cc90009acc8190ab549fab8a71a99b058aff10cc69b601', summary=[], type='reasoning', content=None, encrypted_content=None, status=None), ResponseFileSearchToolCall(id='fs_68cc90041d108190a210e03cef0a0027058aff10cc69b601', queries=['Какое вино лучше пить со стейком?', 'со стейком вино таблица соответствий блюд и напитков', 'pairing steak wine table', 'таблица соответствий блюд и напитков стейк'], status='completed', type='file_search_call', results=None), ResponseReasoningItem(id='rs_68cc9006b7ac8190a5cef4088a28ac20058aff10cc69b601', summary=[], type='reasoning', content=None, encrypted_content=None, status=None), ResponseOutputMessage(id='msg_68cc90155b048190be6a8d5647c75c66058aff10cc69b601', content=[ResponseOutputText(annotations=[AnnotationFileCitation(file_id='file-2GEK6hB4DQDmRCpMHywiTu', filename='table_13.md', index=2209, type='file_citation')], text='Классический и надёжный выбор — красное вино с выраженным телом и танинами. Они помогают смягчить жирность стейка и подчеркивают мясной вкус. Ниже — варианты на разный вкус и ситуацию.\\n\\nРекомендуемые стили вина\\n- Cabernet Sauvignon или Bordeaux-миксы (например, Порт-Луи/Пойяк или Мерло-Кабернет): мощь, структура и терпкость отлично работают с жирным стейком вроде рибай или стейка с жирной мраморностью.\\n- Malbec: плотное тело, фрукты и легкие пряности — хорошо идёт к большинству жирных стейков.\\n- Syrah/Shiraz: специи и черная слива; подходит к более пряному или копчённому стейку.\\n- Merlot: для менее жирного стейка или если вы предпочитаете более мягкое вино без ярко выраженной танинной «засечки».\\n- Pinot Noir: для постных стейков (например, филе) или когда хочется более элегантного, лёгкого вступления к мясному блюду.\\n- Zinfandel: насыщенный, фруктовый стиль с лёгким пряным оттенком — хорош с пряной корочкой и жаркой.\\n\\nКоротко по соотношению к прожарке и жирности\\n- Жирный стейк (мраморное мясо): подойдут плотные вина с танинами — Cabernet Sauvignon, Bordeaux blends, Malbec, Syrah.\\n- Постный стейк или стейк без сильной жирности: можно выбрать Merlot или более деликатный Pinot Noir.\\n- Сильная корочка и специи: хорошо согласятся Syrah или мощный Zinfandel.\\n- Соусы/гарниры: с грибами, сливочно-масляным соусом — выбирайте более полные вина; с кислым соусом или помидорной подачей — можно чуть освежить за счёт более кислого Riesling или Sauvignon Blanc, но это уже не классика «к стейку».\\n\\nТемпература подачи и подача\\n- Подавайте красное при примерно 16–18°C, декантируйте молодые танинные вина за 20–30 минут перед подачей, чтобы смягчить танинность и раскрыть аромат.\\n- Стейк подают горячим, в момент готовности: вино — чуть прохладнее тела мяса, чтобы не «перекрыть» вкус стейка.\\n\\nИмеющиеся примеры в ваших таблицах\\n- В вашем наборе таблиц встречаются примеры сочетаний с мясными блюдами и красными винами, например с утиной грудкой: «Красные вина: тихое выдержанное округлое Неббило, элегантный Пино Нуар…» — это иллюстрирует общий принцип подбора красного к мясу. Это можно использовать как ориентир для идеи, что мясо и красное вино — естественная пара. См. пример в таблице table_13.md .\\n\\nЕсли скажете, какой у вас именно стейк (толщина, прожарка, есть ли соусы, жирность мяса) и предпочтения по стилю вина (классика Cabernet, более лёгкий Pinot Noir и т. п.), могу подобрать 2–3 конкретные бутылки под ваш случай и дать точные сроки подачи и дегустационные заметки.', type='output_text', logprobs=[])], role='assistant', status='completed', type='message')], usage=Usage(requests=1, input_tokens=5276, input_tokens_details=InputTokensDetails(cached_tokens=2304), output_tokens=3843, output_tokens_details=OutputTokensDetails(reasoning_tokens=3072), total_tokens=9119), response_id='resp_68cc8fff3d1c819095dcd5ae38b29c7b058aff10cc69b601')], final_output='Классический и надёжный выбор — красное вино с выраженным телом и танинами. Они помогают смягчить жирность стейка и подчеркивают мясной вкус. Ниже — варианты на разный вкус и ситуацию.\\n\\nРекомендуемые стили вина\\n- Cabernet Sauvignon или Bordeaux-миксы (например, Порт-Луи/Пойяк или Мерло-Кабернет): мощь, структура и терпкость отлично работают с жирным стейком вроде рибай или стейка с жирной мраморностью.\\n- Malbec: плотное тело, фрукты и легкие пряности — хорошо идёт к большинству жирных стейков.\\n- Syrah/Shiraz: специи и черная слива; подходит к более пряному или копчённому стейку.\\n- Merlot: для менее жирного стейка или если вы предпочитаете более мягкое вино без ярко выраженной танинной «засечки».\\n- Pinot Noir: для постных стейков (например, филе) или когда хочется более элегантного, лёгкого вступления к мясному блюду.\\n- Zinfandel: насыщенный, фруктовый стиль с лёгким пряным оттенком — хорош с пряной корочкой и жаркой.\\n\\nКоротко по соотношению к прожарке и жирности\\n- Жирный стейк (мраморное мясо): подойдут плотные вина с танинами — Cabernet Sauvignon, Bordeaux blends, Malbec, Syrah.\\n- Постный стейк или стейк без сильной жирности: можно выбрать Merlot или более деликатный Pinot Noir.\\n- Сильная корочка и специи: хорошо согласятся Syrah или мощный Zinfandel.\\n- Соусы/гарниры: с грибами, сливочно-масляным соусом — выбирайте более полные вина; с кислым соусом или помидорной подачей — можно чуть освежить за счёт более кислого Riesling или Sauvignon Blanc, но это уже не классика «к стейку».\\n\\nТемпература подачи и подача\\n- Подавайте красное при примерно 16–18°C, декантируйте молодые танинные вина за 20–30 минут перед подачей, чтобы смягчить танинность и раскрыть аромат.\\n- Стейк подают горячим, в момент готовности: вино — чуть прохладнее тела мяса, чтобы не «перекрыть» вкус стейка.\\n\\nИмеющиеся примеры в ваших таблицах\\n- В вашем наборе таблиц встречаются примеры сочетаний с мясными блюдами и красными винами, например с утиной грудкой: «Красные вина: тихое выдержанное округлое Неббило, элегантный Пино Нуар…» — это иллюстрирует общий принцип подбора красного к мясу. Это можно использовать как ориентир для идеи, что мясо и красное вино — естественная пара. См. пример в таблице table_13.md .\\n\\nЕсли скажете, какой у вас именно стейк (толщина, прожарка, есть ли соусы, жирность мяса) и предпочтения по стилю вина (классика Cabernet, более лёгкий Pinot Noir и т. п.), могу подобрать 2–3 конкретные бутылки под ваш случай и дать точные сроки подачи и дегустационные заметки.', input_guardrail_results=[], output_guardrail_results=[], context_wrapper=RunContextWrapper(context=None, usage=Usage(requests=1, input_tokens=5276, input_tokens_details=InputTokensDetails(cached_tokens=2304), output_tokens=3843, output_tokens_details=OutputTokensDetails(reasoning_tokens=3072), total_tokens=9119)), _last_agent=Agent(name='Агент-сомелье', handoff_description=None, tools=[FileSearchTool(vector_store_ids=['vs_68cc8cef41288191aa59bb2d08e71588'], max_num_results=3, include_search_results=False, ranking_options=None, filters=None)], mcp_servers=[], mcp_config={}, instructions='Ты - профессиональный сомелье, который может рекомендовать соответствие еды и вина или других напитков. Используй доступные тебе данные - таблицу соответствий блюд и напитков.', prompt=None, handoffs=[], model='gpt-5-nano', model_settings=ModelSettings(temperature=None, top_p=None, frequency_penalty=None, presence_penalty=None, tool_choice=None, parallel_tool_calls=None, truncation=None, max_tokens=None, reasoning=None, verbosity=None, metadata=None, store=None, include_usage=None, response_include=None, top_logprobs=None, extra_query=None, extra_body=None, extra_headers=None, extra_args=None), input_guardrails=[], output_guardrails=[], output_type=None, hooks=None, tool_use_behavior='run_llm_again', reset_tool_choice=True))"
      ]
     },
     "execution_count": 11,
     "metadata": {},
     "output_type": "execute_result"
    }
   ],
   "source": [
    "res"
   ]
  },
  {
   "cell_type": "code",
   "execution_count": 34,
   "id": "61721974",
   "metadata": {},
   "outputs": [
    {
     "data": {
      "text/markdown": [
       "Самый дорогой стейк в нашем меню — это \"Бык на взводе\" (сочный рибай с золотой солью Гималаев). Его стоимость составляет 2500 рублей."
      ],
      "text/plain": [
       "<IPython.core.display.Markdown object>"
      ]
     },
     "metadata": {},
     "output_type": "display_data"
    }
   ],
   "source": [
    "from agents.mcp import MCPServerStreamableHttp \n",
    "\n",
    "async def query(x):\n",
    "    async with MCPServerStreamableHttp(\n",
    "            name=\"Restaurant\",\n",
    "            params={\n",
    "                \"url\": \"https://meatrest.fastmcp.app/mcp\",\n",
    "                \"timeout\": 10,\n",
    "            },\n",
    "            cache_tools_list=True,\n",
    "            client_session_timeout_seconds=10,\n",
    "            max_retry_attempts=3,\n",
    "        ) as rest_server:\n",
    "            waiter = Agent(\n",
    "                name=\"Waiter_Agent\",\n",
    "                instructions=\"Ты - профессиональный официант, знает все блюда и напитки в ресторане и их стоимость. Для доступа к меню вызови MCP-сервер. Твоя задача - подобрать подходящее блюдо и напиток для заказа, учитывая пожелания клиента и знания агента-сомелье, которого ты можешь вызвать в случае необходимости\",\n",
    "                mcp_servers=[rest_server],\n",
    "                handoffs=[sommelier]\n",
    "            )\n",
    "\n",
    "            result = await Runner.run(waiter, x)\n",
    "            return result\n",
    "\n",
    "res = await query(\"Сколько стоит самый дорогой стейк?\")\n",
    "printx(res.final_output)"
   ]
  },
  {
   "cell_type": "code",
   "execution_count": 35,
   "id": "60438eca",
   "metadata": {},
   "outputs": [
    {
     "data": {
      "text/markdown": [
       "Вот варианты говяжьих блюд из нашего меню и подходящие к ним красные вина. Для идеального сочетания с говядиной рекомендуем выбрать насыщенное красное вино: Каберне Совиньон, Шираз или Мальбек.\n",
       "\n",
       "### Говяжьи блюда:\n",
       "| Название блюда                               | Описание                                                                 | Цена (руб) |\n",
       "|----------------------------------------------|--------------------------------------------------------------------------|------------|\n",
       "| Стейк \"Бык на взводе\"                       | Сочный рибай в дыме аргентинских страстей, с гималайской солью            | 2500       |\n",
       "| Стейк \"Нежность разъярённой коровы\"          | Филе-миньон, маринованный в гранатовом соке, с картофелем                | 1800       |\n",
       "| \"Стейк для скромного олигарха\"               | Говяжья щека, томлёная 12 часов в вине, с чипсами из кабачков            | 1200       |\n",
       "\n",
       "### Подходящее вино (1 бокал):\n",
       "| Сорт вина             | Производитель                         | Год   | Тип          | Цена (руб) |\n",
       "|-----------------------|---------------------------------------|-------|--------------|------------|\n",
       "| Каберне Совиньон      | Château Lafite Rothschild, Франция    | 2018  | Красное      | 4500       |\n",
       "| Шираз                 | Penfolds, Австралия                   | 2018  | Красное      | 3200       |\n",
       "| Мальбек               | Catena Zapata, Аргентина              | 2020  | Красное      | 2900       |\n",
       "\n",
       "---\n",
       "\n",
       "### Пример заказа и суммарная стоимость:\n",
       "\n",
       "| Блюдо / Вино                       | Цена, руб |\n",
       "|-------------------------------------|-----------|\n",
       "| Стейк \"Бык на взводе\"               | 2500      |\n",
       "| Каберне Совиньон (1 бокал)          | 4500      |\n",
       "| **Итог:**                           | **7000**  |\n",
       "\n",
       "Могу предложить другое сочетание (например, более бюджетное или по индивидуальному вкусу) — дайте знать! Стоимость пересчитаю под ваш выбор."
      ],
      "text/plain": [
       "<IPython.core.display.Markdown object>"
      ]
     },
     "metadata": {},
     "output_type": "display_data"
    }
   ],
   "source": [
    "res = await query(\"Подбери мне меню из главного блюда и подходящего вина на ужин. Я хочу съесть что-то из говядины. Выведи табличку со списком блюд/напитков и суммарную стоимость еды.\")\n",
    "printx(res.final_output)"
   ]
  },
  {
   "cell_type": "code",
   "execution_count": 37,
   "id": "23d856eb",
   "metadata": {},
   "outputs": [
    {
     "ename": "ExecutableNotFound",
     "evalue": "failed to execute WindowsPath('dot'), make sure the Graphviz executables are on your systems' PATH",
     "output_type": "error",
     "traceback": [
      "\u001b[31m---------------------------------------------------------------------------\u001b[39m",
      "\u001b[31mFileNotFoundError\u001b[39m                         Traceback (most recent call last)",
      "\u001b[36mFile \u001b[39m\u001b[32mc:\\winapp\\conda\\envs\\mas\\Lib\\site-packages\\graphviz\\backend\\execute.py:76\u001b[39m, in \u001b[36mrun_check\u001b[39m\u001b[34m(cmd, input_lines, encoding, quiet, **kwargs)\u001b[39m\n\u001b[32m     75\u001b[39m         kwargs[\u001b[33m'\u001b[39m\u001b[33mstdout\u001b[39m\u001b[33m'\u001b[39m] = kwargs[\u001b[33m'\u001b[39m\u001b[33mstderr\u001b[39m\u001b[33m'\u001b[39m] = subprocess.PIPE\n\u001b[32m---> \u001b[39m\u001b[32m76\u001b[39m     proc = \u001b[43m_run_input_lines\u001b[49m\u001b[43m(\u001b[49m\u001b[43mcmd\u001b[49m\u001b[43m,\u001b[49m\u001b[43m \u001b[49m\u001b[43minput_lines\u001b[49m\u001b[43m,\u001b[49m\u001b[43m \u001b[49m\u001b[43mkwargs\u001b[49m\u001b[43m=\u001b[49m\u001b[43mkwargs\u001b[49m\u001b[43m)\u001b[49m\n\u001b[32m     77\u001b[39m \u001b[38;5;28;01melse\u001b[39;00m:\n",
      "\u001b[36mFile \u001b[39m\u001b[32mc:\\winapp\\conda\\envs\\mas\\Lib\\site-packages\\graphviz\\backend\\execute.py:96\u001b[39m, in \u001b[36m_run_input_lines\u001b[39m\u001b[34m(cmd, input_lines, kwargs)\u001b[39m\n\u001b[32m     95\u001b[39m \u001b[38;5;28;01mdef\u001b[39;00m\u001b[38;5;250m \u001b[39m\u001b[34m_run_input_lines\u001b[39m(cmd, input_lines, *, kwargs):\n\u001b[32m---> \u001b[39m\u001b[32m96\u001b[39m     popen = \u001b[43msubprocess\u001b[49m\u001b[43m.\u001b[49m\u001b[43mPopen\u001b[49m\u001b[43m(\u001b[49m\u001b[43mcmd\u001b[49m\u001b[43m,\u001b[49m\u001b[43m \u001b[49m\u001b[43mstdin\u001b[49m\u001b[43m=\u001b[49m\u001b[43msubprocess\u001b[49m\u001b[43m.\u001b[49m\u001b[43mPIPE\u001b[49m\u001b[43m,\u001b[49m\u001b[43m \u001b[49m\u001b[43m*\u001b[49m\u001b[43m*\u001b[49m\u001b[43mkwargs\u001b[49m\u001b[43m)\u001b[49m\n\u001b[32m     98\u001b[39m     stdin_write = popen.stdin.write\n",
      "\u001b[36mFile \u001b[39m\u001b[32mc:\\winapp\\conda\\envs\\mas\\Lib\\subprocess.py:1026\u001b[39m, in \u001b[36mPopen.__init__\u001b[39m\u001b[34m(self, args, bufsize, executable, stdin, stdout, stderr, preexec_fn, close_fds, shell, cwd, env, universal_newlines, startupinfo, creationflags, restore_signals, start_new_session, pass_fds, user, group, extra_groups, encoding, errors, text, umask, pipesize, process_group)\u001b[39m\n\u001b[32m   1023\u001b[39m             \u001b[38;5;28mself\u001b[39m.stderr = io.TextIOWrapper(\u001b[38;5;28mself\u001b[39m.stderr,\n\u001b[32m   1024\u001b[39m                     encoding=encoding, errors=errors)\n\u001b[32m-> \u001b[39m\u001b[32m1026\u001b[39m     \u001b[38;5;28;43mself\u001b[39;49m\u001b[43m.\u001b[49m\u001b[43m_execute_child\u001b[49m\u001b[43m(\u001b[49m\u001b[43margs\u001b[49m\u001b[43m,\u001b[49m\u001b[43m \u001b[49m\u001b[43mexecutable\u001b[49m\u001b[43m,\u001b[49m\u001b[43m \u001b[49m\u001b[43mpreexec_fn\u001b[49m\u001b[43m,\u001b[49m\u001b[43m \u001b[49m\u001b[43mclose_fds\u001b[49m\u001b[43m,\u001b[49m\n\u001b[32m   1027\u001b[39m \u001b[43m                        \u001b[49m\u001b[43mpass_fds\u001b[49m\u001b[43m,\u001b[49m\u001b[43m \u001b[49m\u001b[43mcwd\u001b[49m\u001b[43m,\u001b[49m\u001b[43m \u001b[49m\u001b[43menv\u001b[49m\u001b[43m,\u001b[49m\n\u001b[32m   1028\u001b[39m \u001b[43m                        \u001b[49m\u001b[43mstartupinfo\u001b[49m\u001b[43m,\u001b[49m\u001b[43m \u001b[49m\u001b[43mcreationflags\u001b[49m\u001b[43m,\u001b[49m\u001b[43m \u001b[49m\u001b[43mshell\u001b[49m\u001b[43m,\u001b[49m\n\u001b[32m   1029\u001b[39m \u001b[43m                        \u001b[49m\u001b[43mp2cread\u001b[49m\u001b[43m,\u001b[49m\u001b[43m \u001b[49m\u001b[43mp2cwrite\u001b[49m\u001b[43m,\u001b[49m\n\u001b[32m   1030\u001b[39m \u001b[43m                        \u001b[49m\u001b[43mc2pread\u001b[49m\u001b[43m,\u001b[49m\u001b[43m \u001b[49m\u001b[43mc2pwrite\u001b[49m\u001b[43m,\u001b[49m\n\u001b[32m   1031\u001b[39m \u001b[43m                        \u001b[49m\u001b[43merrread\u001b[49m\u001b[43m,\u001b[49m\u001b[43m \u001b[49m\u001b[43merrwrite\u001b[49m\u001b[43m,\u001b[49m\n\u001b[32m   1032\u001b[39m \u001b[43m                        \u001b[49m\u001b[43mrestore_signals\u001b[49m\u001b[43m,\u001b[49m\n\u001b[32m   1033\u001b[39m \u001b[43m                        \u001b[49m\u001b[43mgid\u001b[49m\u001b[43m,\u001b[49m\u001b[43m \u001b[49m\u001b[43mgids\u001b[49m\u001b[43m,\u001b[49m\u001b[43m \u001b[49m\u001b[43muid\u001b[49m\u001b[43m,\u001b[49m\u001b[43m \u001b[49m\u001b[43mumask\u001b[49m\u001b[43m,\u001b[49m\n\u001b[32m   1034\u001b[39m \u001b[43m                        \u001b[49m\u001b[43mstart_new_session\u001b[49m\u001b[43m,\u001b[49m\u001b[43m \u001b[49m\u001b[43mprocess_group\u001b[49m\u001b[43m)\u001b[49m\n\u001b[32m   1035\u001b[39m \u001b[38;5;28;01mexcept\u001b[39;00m:\n\u001b[32m   1036\u001b[39m     \u001b[38;5;66;03m# Cleanup if the child failed starting.\u001b[39;00m\n",
      "\u001b[36mFile \u001b[39m\u001b[32mc:\\winapp\\conda\\envs\\mas\\Lib\\subprocess.py:1538\u001b[39m, in \u001b[36mPopen._execute_child\u001b[39m\u001b[34m(self, args, executable, preexec_fn, close_fds, pass_fds, cwd, env, startupinfo, creationflags, shell, p2cread, p2cwrite, c2pread, c2pwrite, errread, errwrite, unused_restore_signals, unused_gid, unused_gids, unused_uid, unused_umask, unused_start_new_session, unused_process_group)\u001b[39m\n\u001b[32m   1537\u001b[39m \u001b[38;5;28;01mtry\u001b[39;00m:\n\u001b[32m-> \u001b[39m\u001b[32m1538\u001b[39m     hp, ht, pid, tid = \u001b[43m_winapi\u001b[49m\u001b[43m.\u001b[49m\u001b[43mCreateProcess\u001b[49m\u001b[43m(\u001b[49m\u001b[43mexecutable\u001b[49m\u001b[43m,\u001b[49m\u001b[43m \u001b[49m\u001b[43margs\u001b[49m\u001b[43m,\u001b[49m\n\u001b[32m   1539\u001b[39m \u001b[43m                             \u001b[49m\u001b[38;5;66;43;03m# no special security\u001b[39;49;00m\n\u001b[32m   1540\u001b[39m \u001b[43m                             \u001b[49m\u001b[38;5;28;43;01mNone\u001b[39;49;00m\u001b[43m,\u001b[49m\u001b[43m \u001b[49m\u001b[38;5;28;43;01mNone\u001b[39;49;00m\u001b[43m,\u001b[49m\n\u001b[32m   1541\u001b[39m \u001b[43m                             \u001b[49m\u001b[38;5;28;43mint\u001b[39;49m\u001b[43m(\u001b[49m\u001b[38;5;129;43;01mnot\u001b[39;49;00m\u001b[43m \u001b[49m\u001b[43mclose_fds\u001b[49m\u001b[43m)\u001b[49m\u001b[43m,\u001b[49m\n\u001b[32m   1542\u001b[39m \u001b[43m                             \u001b[49m\u001b[43mcreationflags\u001b[49m\u001b[43m,\u001b[49m\n\u001b[32m   1543\u001b[39m \u001b[43m                             \u001b[49m\u001b[43menv\u001b[49m\u001b[43m,\u001b[49m\n\u001b[32m   1544\u001b[39m \u001b[43m                             \u001b[49m\u001b[43mcwd\u001b[49m\u001b[43m,\u001b[49m\n\u001b[32m   1545\u001b[39m \u001b[43m                             \u001b[49m\u001b[43mstartupinfo\u001b[49m\u001b[43m)\u001b[49m\n\u001b[32m   1546\u001b[39m \u001b[38;5;28;01mfinally\u001b[39;00m:\n\u001b[32m   1547\u001b[39m     \u001b[38;5;66;03m# Child is launched. Close the parent's copy of those pipe\u001b[39;00m\n\u001b[32m   1548\u001b[39m     \u001b[38;5;66;03m# handles that only the child should have open.  You need\u001b[39;00m\n\u001b[32m   (...)\u001b[39m\u001b[32m   1551\u001b[39m     \u001b[38;5;66;03m# pipe will not close when the child process exits and the\u001b[39;00m\n\u001b[32m   1552\u001b[39m     \u001b[38;5;66;03m# ReadFile will hang.\u001b[39;00m\n",
      "\u001b[31mFileNotFoundError\u001b[39m: [WinError 2] The system cannot find the file specified",
      "\nThe above exception was the direct cause of the following exception:\n",
      "\u001b[31mExecutableNotFound\u001b[39m                        Traceback (most recent call last)",
      "\u001b[36mFile \u001b[39m\u001b[32mc:\\winapp\\conda\\envs\\mas\\Lib\\site-packages\\IPython\\core\\formatters.py:1036\u001b[39m, in \u001b[36mMimeBundleFormatter.__call__\u001b[39m\u001b[34m(self, obj, include, exclude)\u001b[39m\n\u001b[32m   1033\u001b[39m     method = get_real_method(obj, \u001b[38;5;28mself\u001b[39m.print_method)\n\u001b[32m   1035\u001b[39m     \u001b[38;5;28;01mif\u001b[39;00m method \u001b[38;5;129;01mis\u001b[39;00m \u001b[38;5;129;01mnot\u001b[39;00m \u001b[38;5;28;01mNone\u001b[39;00m:\n\u001b[32m-> \u001b[39m\u001b[32m1036\u001b[39m         \u001b[38;5;28;01mreturn\u001b[39;00m \u001b[43mmethod\u001b[49m\u001b[43m(\u001b[49m\u001b[43minclude\u001b[49m\u001b[43m=\u001b[49m\u001b[43minclude\u001b[49m\u001b[43m,\u001b[49m\u001b[43m \u001b[49m\u001b[43mexclude\u001b[49m\u001b[43m=\u001b[49m\u001b[43mexclude\u001b[49m\u001b[43m)\u001b[49m\n\u001b[32m   1037\u001b[39m     \u001b[38;5;28;01mreturn\u001b[39;00m \u001b[38;5;28;01mNone\u001b[39;00m\n\u001b[32m   1038\u001b[39m \u001b[38;5;28;01melse\u001b[39;00m:\n",
      "\u001b[36mFile \u001b[39m\u001b[32mc:\\winapp\\conda\\envs\\mas\\Lib\\site-packages\\graphviz\\jupyter_integration.py:98\u001b[39m, in \u001b[36mJupyterIntegration._repr_mimebundle_\u001b[39m\u001b[34m(self, include, exclude, **_)\u001b[39m\n\u001b[32m     96\u001b[39m include = \u001b[38;5;28mset\u001b[39m(include) \u001b[38;5;28;01mif\u001b[39;00m include \u001b[38;5;129;01mis\u001b[39;00m \u001b[38;5;129;01mnot\u001b[39;00m \u001b[38;5;28;01mNone\u001b[39;00m \u001b[38;5;28;01melse\u001b[39;00m {\u001b[38;5;28mself\u001b[39m._jupyter_mimetype}\n\u001b[32m     97\u001b[39m include -= \u001b[38;5;28mset\u001b[39m(exclude \u001b[38;5;129;01mor\u001b[39;00m [])\n\u001b[32m---> \u001b[39m\u001b[32m98\u001b[39m \u001b[38;5;28;01mreturn\u001b[39;00m {mimetype: \u001b[38;5;28;43mgetattr\u001b[39;49m\u001b[43m(\u001b[49m\u001b[38;5;28;43mself\u001b[39;49m\u001b[43m,\u001b[49m\u001b[43m \u001b[49m\u001b[43mmethod_name\u001b[49m\u001b[43m)\u001b[49m\u001b[43m(\u001b[49m\u001b[43m)\u001b[49m\n\u001b[32m     99\u001b[39m         \u001b[38;5;28;01mfor\u001b[39;00m mimetype, method_name \u001b[38;5;129;01min\u001b[39;00m MIME_TYPES.items()\n\u001b[32m    100\u001b[39m         \u001b[38;5;28;01mif\u001b[39;00m mimetype \u001b[38;5;129;01min\u001b[39;00m include}\n",
      "\u001b[36mFile \u001b[39m\u001b[32mc:\\winapp\\conda\\envs\\mas\\Lib\\site-packages\\graphviz\\jupyter_integration.py:112\u001b[39m, in \u001b[36mJupyterIntegration._repr_image_svg_xml\u001b[39m\u001b[34m(self)\u001b[39m\n\u001b[32m    110\u001b[39m \u001b[38;5;28;01mdef\u001b[39;00m\u001b[38;5;250m \u001b[39m\u001b[34m_repr_image_svg_xml\u001b[39m(\u001b[38;5;28mself\u001b[39m) -> \u001b[38;5;28mstr\u001b[39m:\n\u001b[32m    111\u001b[39m \u001b[38;5;250m    \u001b[39m\u001b[33;03m\"\"\"Return the rendered graph as SVG string.\"\"\"\u001b[39;00m\n\u001b[32m--> \u001b[39m\u001b[32m112\u001b[39m     \u001b[38;5;28;01mreturn\u001b[39;00m \u001b[38;5;28;43mself\u001b[39;49m\u001b[43m.\u001b[49m\u001b[43mpipe\u001b[49m\u001b[43m(\u001b[49m\u001b[38;5;28;43mformat\u001b[39;49m\u001b[43m=\u001b[49m\u001b[33;43m'\u001b[39;49m\u001b[33;43msvg\u001b[39;49m\u001b[33;43m'\u001b[39;49m\u001b[43m,\u001b[49m\u001b[43m \u001b[49m\u001b[43mencoding\u001b[49m\u001b[43m=\u001b[49m\u001b[43mSVG_ENCODING\u001b[49m\u001b[43m)\u001b[49m\n",
      "\u001b[36mFile \u001b[39m\u001b[32mc:\\winapp\\conda\\envs\\mas\\Lib\\site-packages\\graphviz\\piping.py:104\u001b[39m, in \u001b[36mPipe.pipe\u001b[39m\u001b[34m(self, format, renderer, formatter, neato_no_op, quiet, engine, encoding)\u001b[39m\n\u001b[32m     55\u001b[39m \u001b[38;5;28;01mdef\u001b[39;00m\u001b[38;5;250m \u001b[39m\u001b[34mpipe\u001b[39m(\u001b[38;5;28mself\u001b[39m,\n\u001b[32m     56\u001b[39m          \u001b[38;5;28mformat\u001b[39m: typing.Optional[\u001b[38;5;28mstr\u001b[39m] = \u001b[38;5;28;01mNone\u001b[39;00m,\n\u001b[32m     57\u001b[39m          renderer: typing.Optional[\u001b[38;5;28mstr\u001b[39m] = \u001b[38;5;28;01mNone\u001b[39;00m,\n\u001b[32m   (...)\u001b[39m\u001b[32m     61\u001b[39m          engine: typing.Optional[\u001b[38;5;28mstr\u001b[39m] = \u001b[38;5;28;01mNone\u001b[39;00m,\n\u001b[32m     62\u001b[39m          encoding: typing.Optional[\u001b[38;5;28mstr\u001b[39m] = \u001b[38;5;28;01mNone\u001b[39;00m) -> typing.Union[\u001b[38;5;28mbytes\u001b[39m, \u001b[38;5;28mstr\u001b[39m]:\n\u001b[32m     63\u001b[39m \u001b[38;5;250m    \u001b[39m\u001b[33;03m\"\"\"Return the source piped through the Graphviz layout command.\u001b[39;00m\n\u001b[32m     64\u001b[39m \n\u001b[32m     65\u001b[39m \u001b[33;03m    Args:\u001b[39;00m\n\u001b[32m   (...)\u001b[39m\u001b[32m    102\u001b[39m \u001b[33;03m        '<?xml version='\u001b[39;00m\n\u001b[32m    103\u001b[39m \u001b[33;03m    \"\"\"\u001b[39;00m\n\u001b[32m--> \u001b[39m\u001b[32m104\u001b[39m     \u001b[38;5;28;01mreturn\u001b[39;00m \u001b[38;5;28;43mself\u001b[39;49m\u001b[43m.\u001b[49m\u001b[43m_pipe_legacy\u001b[49m\u001b[43m(\u001b[49m\u001b[38;5;28;43mformat\u001b[39;49m\u001b[43m,\u001b[49m\n\u001b[32m    105\u001b[39m \u001b[43m                             \u001b[49m\u001b[43mrenderer\u001b[49m\u001b[43m=\u001b[49m\u001b[43mrenderer\u001b[49m\u001b[43m,\u001b[49m\n\u001b[32m    106\u001b[39m \u001b[43m                             \u001b[49m\u001b[43mformatter\u001b[49m\u001b[43m=\u001b[49m\u001b[43mformatter\u001b[49m\u001b[43m,\u001b[49m\n\u001b[32m    107\u001b[39m \u001b[43m                             \u001b[49m\u001b[43mneato_no_op\u001b[49m\u001b[43m=\u001b[49m\u001b[43mneato_no_op\u001b[49m\u001b[43m,\u001b[49m\n\u001b[32m    108\u001b[39m \u001b[43m                             \u001b[49m\u001b[43mquiet\u001b[49m\u001b[43m=\u001b[49m\u001b[43mquiet\u001b[49m\u001b[43m,\u001b[49m\n\u001b[32m    109\u001b[39m \u001b[43m                             \u001b[49m\u001b[43mengine\u001b[49m\u001b[43m=\u001b[49m\u001b[43mengine\u001b[49m\u001b[43m,\u001b[49m\n\u001b[32m    110\u001b[39m \u001b[43m                             \u001b[49m\u001b[43mencoding\u001b[49m\u001b[43m=\u001b[49m\u001b[43mencoding\u001b[49m\u001b[43m)\u001b[49m\n",
      "\u001b[36mFile \u001b[39m\u001b[32mc:\\winapp\\conda\\envs\\mas\\Lib\\site-packages\\graphviz\\_tools.py:185\u001b[39m, in \u001b[36mdeprecate_positional_args.<locals>.decorator.<locals>.wrapper\u001b[39m\u001b[34m(*args, **kwargs)\u001b[39m\n\u001b[32m    177\u001b[39m     wanted = \u001b[33m'\u001b[39m\u001b[33m, \u001b[39m\u001b[33m'\u001b[39m.join(\u001b[33mf\u001b[39m\u001b[33m'\u001b[39m\u001b[38;5;132;01m{\u001b[39;00mname\u001b[38;5;132;01m}\u001b[39;00m\u001b[33m=\u001b[39m\u001b[38;5;132;01m{\u001b[39;00mvalue\u001b[38;5;132;01m!r}\u001b[39;00m\u001b[33m'\u001b[39m\n\u001b[32m    178\u001b[39m                        \u001b[38;5;28;01mfor\u001b[39;00m name, value \u001b[38;5;129;01min\u001b[39;00m deprecated.items())\n\u001b[32m    179\u001b[39m     warnings.warn(\u001b[33mf\u001b[39m\u001b[33m'\u001b[39m\u001b[33mThe signature of \u001b[39m\u001b[38;5;132;01m{\u001b[39;00mfunc_name\u001b[38;5;132;01m}\u001b[39;00m\u001b[33m will be reduced\u001b[39m\u001b[33m'\u001b[39m\n\u001b[32m    180\u001b[39m                   \u001b[33mf\u001b[39m\u001b[33m'\u001b[39m\u001b[33m to \u001b[39m\u001b[38;5;132;01m{\u001b[39;00msupported_number\u001b[38;5;132;01m}\u001b[39;00m\u001b[33m positional arg\u001b[39m\u001b[38;5;132;01m{\u001b[39;00ms_\u001b[38;5;132;01m}\u001b[39;00m\u001b[38;5;132;01m{\u001b[39;00mqualification\u001b[38;5;132;01m}\u001b[39;00m\u001b[33m'\u001b[39m\n\u001b[32m    181\u001b[39m                   \u001b[33mf\u001b[39m\u001b[33m'\u001b[39m\u001b[33m \u001b[39m\u001b[38;5;132;01m{\u001b[39;00m\u001b[38;5;28mlist\u001b[39m(supported)\u001b[38;5;132;01m}\u001b[39;00m\u001b[33m: pass \u001b[39m\u001b[38;5;132;01m{\u001b[39;00mwanted\u001b[38;5;132;01m}\u001b[39;00m\u001b[33m as keyword arg\u001b[39m\u001b[38;5;132;01m{\u001b[39;00ms_\u001b[38;5;132;01m}\u001b[39;00m\u001b[33m'\u001b[39m,\n\u001b[32m    182\u001b[39m                   stacklevel=stacklevel,\n\u001b[32m    183\u001b[39m                   category=category)\n\u001b[32m--> \u001b[39m\u001b[32m185\u001b[39m \u001b[38;5;28;01mreturn\u001b[39;00m \u001b[43mfunc\u001b[49m\u001b[43m(\u001b[49m\u001b[43m*\u001b[49m\u001b[43margs\u001b[49m\u001b[43m,\u001b[49m\u001b[43m \u001b[49m\u001b[43m*\u001b[49m\u001b[43m*\u001b[49m\u001b[43mkwargs\u001b[49m\u001b[43m)\u001b[49m\n",
      "\u001b[36mFile \u001b[39m\u001b[32mc:\\winapp\\conda\\envs\\mas\\Lib\\site-packages\\graphviz\\piping.py:121\u001b[39m, in \u001b[36mPipe._pipe_legacy\u001b[39m\u001b[34m(self, format, renderer, formatter, neato_no_op, quiet, engine, encoding)\u001b[39m\n\u001b[32m    112\u001b[39m \u001b[38;5;129m@_tools\u001b[39m.deprecate_positional_args(supported_number=\u001b[32m1\u001b[39m, ignore_arg=\u001b[33m'\u001b[39m\u001b[33mself\u001b[39m\u001b[33m'\u001b[39m)\n\u001b[32m    113\u001b[39m \u001b[38;5;28;01mdef\u001b[39;00m\u001b[38;5;250m \u001b[39m\u001b[34m_pipe_legacy\u001b[39m(\u001b[38;5;28mself\u001b[39m,\n\u001b[32m    114\u001b[39m                  \u001b[38;5;28mformat\u001b[39m: typing.Optional[\u001b[38;5;28mstr\u001b[39m] = \u001b[38;5;28;01mNone\u001b[39;00m,\n\u001b[32m   (...)\u001b[39m\u001b[32m    119\u001b[39m                  engine: typing.Optional[\u001b[38;5;28mstr\u001b[39m] = \u001b[38;5;28;01mNone\u001b[39;00m,\n\u001b[32m    120\u001b[39m                  encoding: typing.Optional[\u001b[38;5;28mstr\u001b[39m] = \u001b[38;5;28;01mNone\u001b[39;00m) -> typing.Union[\u001b[38;5;28mbytes\u001b[39m, \u001b[38;5;28mstr\u001b[39m]:\n\u001b[32m--> \u001b[39m\u001b[32m121\u001b[39m     \u001b[38;5;28;01mreturn\u001b[39;00m \u001b[38;5;28;43mself\u001b[39;49m\u001b[43m.\u001b[49m\u001b[43m_pipe_future\u001b[49m\u001b[43m(\u001b[49m\u001b[38;5;28;43mformat\u001b[39;49m\u001b[43m,\u001b[49m\n\u001b[32m    122\u001b[39m \u001b[43m                             \u001b[49m\u001b[43mrenderer\u001b[49m\u001b[43m=\u001b[49m\u001b[43mrenderer\u001b[49m\u001b[43m,\u001b[49m\n\u001b[32m    123\u001b[39m \u001b[43m                             \u001b[49m\u001b[43mformatter\u001b[49m\u001b[43m=\u001b[49m\u001b[43mformatter\u001b[49m\u001b[43m,\u001b[49m\n\u001b[32m    124\u001b[39m \u001b[43m                             \u001b[49m\u001b[43mneato_no_op\u001b[49m\u001b[43m=\u001b[49m\u001b[43mneato_no_op\u001b[49m\u001b[43m,\u001b[49m\n\u001b[32m    125\u001b[39m \u001b[43m                             \u001b[49m\u001b[43mquiet\u001b[49m\u001b[43m=\u001b[49m\u001b[43mquiet\u001b[49m\u001b[43m,\u001b[49m\n\u001b[32m    126\u001b[39m \u001b[43m                             \u001b[49m\u001b[43mengine\u001b[49m\u001b[43m=\u001b[49m\u001b[43mengine\u001b[49m\u001b[43m,\u001b[49m\n\u001b[32m    127\u001b[39m \u001b[43m                             \u001b[49m\u001b[43mencoding\u001b[49m\u001b[43m=\u001b[49m\u001b[43mencoding\u001b[49m\u001b[43m)\u001b[49m\n",
      "\u001b[36mFile \u001b[39m\u001b[32mc:\\winapp\\conda\\envs\\mas\\Lib\\site-packages\\graphviz\\piping.py:149\u001b[39m, in \u001b[36mPipe._pipe_future\u001b[39m\u001b[34m(self, format, renderer, formatter, neato_no_op, quiet, engine, encoding)\u001b[39m\n\u001b[32m    146\u001b[39m \u001b[38;5;28;01mif\u001b[39;00m encoding \u001b[38;5;129;01mis\u001b[39;00m \u001b[38;5;129;01mnot\u001b[39;00m \u001b[38;5;28;01mNone\u001b[39;00m:\n\u001b[32m    147\u001b[39m     \u001b[38;5;28;01mif\u001b[39;00m codecs.lookup(encoding) \u001b[38;5;129;01mis\u001b[39;00m codecs.lookup(\u001b[38;5;28mself\u001b[39m.encoding):\n\u001b[32m    148\u001b[39m         \u001b[38;5;66;03m# common case: both stdin and stdout need the same encoding\u001b[39;00m\n\u001b[32m--> \u001b[39m\u001b[32m149\u001b[39m         \u001b[38;5;28;01mreturn\u001b[39;00m \u001b[38;5;28;43mself\u001b[39;49m\u001b[43m.\u001b[49m\u001b[43m_pipe_lines_string\u001b[49m\u001b[43m(\u001b[49m\u001b[43m*\u001b[49m\u001b[43margs\u001b[49m\u001b[43m,\u001b[49m\u001b[43m \u001b[49m\u001b[43mencoding\u001b[49m\u001b[43m=\u001b[49m\u001b[43mencoding\u001b[49m\u001b[43m,\u001b[49m\u001b[43m \u001b[49m\u001b[43m*\u001b[49m\u001b[43m*\u001b[49m\u001b[43mkwargs\u001b[49m\u001b[43m)\u001b[49m\n\u001b[32m    150\u001b[39m     \u001b[38;5;28;01mtry\u001b[39;00m:\n\u001b[32m    151\u001b[39m         raw = \u001b[38;5;28mself\u001b[39m._pipe_lines(*args, input_encoding=\u001b[38;5;28mself\u001b[39m.encoding, **kwargs)\n",
      "\u001b[36mFile \u001b[39m\u001b[32mc:\\winapp\\conda\\envs\\mas\\Lib\\site-packages\\graphviz\\backend\\piping.py:212\u001b[39m, in \u001b[36mpipe_lines_string\u001b[39m\u001b[34m(engine, format, input_lines, encoding, renderer, formatter, neato_no_op, quiet)\u001b[39m\n\u001b[32m    206\u001b[39m cmd = dot_command.command(engine, \u001b[38;5;28mformat\u001b[39m,\n\u001b[32m    207\u001b[39m                           renderer=renderer,\n\u001b[32m    208\u001b[39m                           formatter=formatter,\n\u001b[32m    209\u001b[39m                           neato_no_op=neato_no_op)\n\u001b[32m    210\u001b[39m kwargs = {\u001b[33m'\u001b[39m\u001b[33minput_lines\u001b[39m\u001b[33m'\u001b[39m: input_lines, \u001b[33m'\u001b[39m\u001b[33mencoding\u001b[39m\u001b[33m'\u001b[39m: encoding}\n\u001b[32m--> \u001b[39m\u001b[32m212\u001b[39m proc = \u001b[43mexecute\u001b[49m\u001b[43m.\u001b[49m\u001b[43mrun_check\u001b[49m\u001b[43m(\u001b[49m\u001b[43mcmd\u001b[49m\u001b[43m,\u001b[49m\u001b[43m \u001b[49m\u001b[43mcapture_output\u001b[49m\u001b[43m=\u001b[49m\u001b[38;5;28;43;01mTrue\u001b[39;49;00m\u001b[43m,\u001b[49m\u001b[43m \u001b[49m\u001b[43mquiet\u001b[49m\u001b[43m=\u001b[49m\u001b[43mquiet\u001b[49m\u001b[43m,\u001b[49m\u001b[43m \u001b[49m\u001b[43m*\u001b[49m\u001b[43m*\u001b[49m\u001b[43mkwargs\u001b[49m\u001b[43m)\u001b[49m\n\u001b[32m    213\u001b[39m \u001b[38;5;28;01mreturn\u001b[39;00m proc.stdout\n",
      "\u001b[36mFile \u001b[39m\u001b[32mc:\\winapp\\conda\\envs\\mas\\Lib\\site-packages\\graphviz\\backend\\execute.py:81\u001b[39m, in \u001b[36mrun_check\u001b[39m\u001b[34m(cmd, input_lines, encoding, quiet, **kwargs)\u001b[39m\n\u001b[32m     79\u001b[39m \u001b[38;5;28;01mexcept\u001b[39;00m \u001b[38;5;167;01mOSError\u001b[39;00m \u001b[38;5;28;01mas\u001b[39;00m e:\n\u001b[32m     80\u001b[39m     \u001b[38;5;28;01mif\u001b[39;00m e.errno == errno.ENOENT:\n\u001b[32m---> \u001b[39m\u001b[32m81\u001b[39m         \u001b[38;5;28;01mraise\u001b[39;00m ExecutableNotFound(cmd) \u001b[38;5;28;01mfrom\u001b[39;00m\u001b[38;5;250m \u001b[39m\u001b[34;01me\u001b[39;00m\n\u001b[32m     82\u001b[39m     \u001b[38;5;28;01mraise\u001b[39;00m\n\u001b[32m     84\u001b[39m \u001b[38;5;28;01mif\u001b[39;00m \u001b[38;5;129;01mnot\u001b[39;00m quiet \u001b[38;5;129;01mand\u001b[39;00m proc.stderr:\n",
      "\u001b[31mExecutableNotFound\u001b[39m: failed to execute WindowsPath('dot'), make sure the Graphviz executables are on your systems' PATH"
     ]
    },
    {
     "data": {
      "text/plain": [
       "<graphviz.sources.Source at 0x2ab73842990>"
      ]
     },
     "execution_count": 37,
     "metadata": {},
     "output_type": "execute_result"
    }
   ],
   "source": [
    "from agents.extensions.visualization import draw_graph\n",
    "\n",
    "draw_graph(waiter)"
   ]
  },
  {
   "cell_type": "code",
   "execution_count": null,
   "id": "f6061331",
   "metadata": {},
   "outputs": [],
   "source": []
  }
 ],
 "metadata": {
  "kernelspec": {
   "display_name": "mas",
   "language": "python",
   "name": "python3"
  },
  "language_info": {
   "codemirror_mode": {
    "name": "ipython",
    "version": 3
   },
   "file_extension": ".py",
   "mimetype": "text/x-python",
   "name": "python",
   "nbconvert_exporter": "python",
   "pygments_lexer": "ipython3",
   "version": "3.12.0"
  }
 },
 "nbformat": 4,
 "nbformat_minor": 5
}
