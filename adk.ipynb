{
 "cells": [
  {
   "cell_type": "markdown",
   "id": "47ee76f3",
   "metadata": {},
   "source": [
    "## Создаем агентов на OpenAI Agents SDK\n",
    "\n",
    "Существует множество фреймворков для создания агентов: LangGraph, Smolagents, Augogen и др. В этом примере мы используем нативный фреймворк от OpenAI: [OpenAI Agents SDK](https://openai.github.io/openai-agents-python/).\n",
    "\n",
    "Для начала установим соответствующую библиотеку:"
   ]
  },
  {
   "cell_type": "code",
   "execution_count": null,
   "id": "33e7e78f",
   "metadata": {},
   "outputs": [],
   "source": [
    "%pip install openai-agents[viz]"
   ]
  },
  {
   "cell_type": "markdown",
   "id": "c76da094",
   "metadata": {},
   "source": [
    "И определим ещё одну полезную функцию для вывода Markdown:"
   ]
  },
  {
   "cell_type": "code",
   "execution_count": 3,
   "id": "d9e8a931",
   "metadata": {},
   "outputs": [],
   "source": [
    "from IPython.display import Markdown, display\n",
    "def printx(string):\n",
    "    display(Markdown(string))"
   ]
  },
  {
   "cell_type": "markdown",
   "id": "7e38089e",
   "metadata": {},
   "source": [
    "## Авторизация\n",
    "\n",
    "Для работы с языковыми моделями нам понадобится авторизоваться в Yandex Cloud. Это можно сделать несколькими способами:\n",
    "\n",
    "* через iam-токен. Для получения iam-токена необходимо создать авторизованный ключ доступа к сервисному аккаунту, и знать `service_accound_id`, `key_id` и `private_key`. Скачайте файл с ключами доступа `authorized_key.json`, и добавьте к нему поле `folder_id`\n",
    "* **[рекомендованный способ]** через ключ `api_key` для сервисного аккаунта, имеющего права на доступ к модели, и `folder_id`. Мы предполагаем, что соответствующие значения хранятся в секретах Datasphere или в переменных окружения. Если вы используете набор переменных окружения в файле `.env` - запустите следующую ячейку для их загрузки."
   ]
  },
  {
   "cell_type": "code",
   "execution_count": 2,
   "id": "4816b797",
   "metadata": {},
   "outputs": [
    {
     "data": {
      "text/plain": [
       "True"
      ]
     },
     "execution_count": 2,
     "metadata": {},
     "output_type": "execute_result"
    }
   ],
   "source": [
    "from dotenv import load_dotenv\n",
    "load_dotenv()"
   ]
  },
  {
   "cell_type": "markdown",
   "id": "dfc4ff76",
   "metadata": {},
   "source": [
    "Основная цель кода ниже - получить переменные `folder_id` и `api_key` для дальнейшей авторизации модели. Эти значения берутся либо из файла `authorized_key.json` (и далее получается актуальный iam-токен), либо из переменных окружения. "
   ]
  },
  {
   "cell_type": "code",
   "execution_count": 4,
   "id": "395b9f7c",
   "metadata": {},
   "outputs": [
    {
     "name": "stdout",
     "output_type": "stream",
     "text": [
      "Using IAM Token Auth with folder_id=b1gst3c7cskk2big5fqn\n"
     ]
    }
   ],
   "source": [
    "import json\n",
    "import os\n",
    "from util.iam_auth import get_iam\n",
    "\n",
    "if os.path.exists('authorized_key.json'):\n",
    "    with open('authorized_key.json') as f:\n",
    "        auth_key = json.load(f)\n",
    "\n",
    "    api_key = get_iam(auth_key['service_account_id'],auth_key['id'],auth_key['private_key'])\n",
    "    folder_id = auth_key['folder_id']\n",
    "    print(f\"Using IAM Token Auth with folder_id={folder_id}\")\n",
    "else:\n",
    "    folder_id = None\n",
    "\n",
    "if folder_id is None:\n",
    "    folder_id = os.environ[\"folder_id\"]\n",
    "    api_key = os.environ[\"api_key\"]"
   ]
  },
  {
   "cell_type": "markdown",
   "id": "765a3d49",
   "metadata": {},
   "source": [
    "Создадим какую-нибудь модель из Foundation Models и убедимся, что она работает. \n",
    "\n",
    "> ВНИМАНИЕ: Для правильной работы необходимо передать `folder_id` в параметр `project` при создании объекта OpenAI SDK."
   ]
  },
  {
   "cell_type": "code",
   "execution_count": 5,
   "id": "6df40654",
   "metadata": {},
   "outputs": [],
   "source": [
    "import os\n",
    "from openai import AsyncOpenAI\n",
    "from agents import enable_verbose_stdout_logging\n",
    "\n",
    "from util.adk_custom_model_provider import CustomModelProvider\n",
    "\n",
    "model = f\"gpt://{folder_id}/qwen3-235b-a22b-fp8/latest\"\n",
    "\n",
    "client = AsyncOpenAI(\n",
    "    base_url=\"https://rest-assistant.api.cloud.yandex.net/v1\",\n",
    "    api_key=api_key,\n",
    "    project=folder_id\n",
    ")\n",
    "\n",
    "mp = CustomModelProvider(model,client)\n",
    "\n",
    "enable_verbose_stdout_logging()"
   ]
  },
  {
   "cell_type": "markdown",
   "id": "a212a544",
   "metadata": {},
   "source": [
    "## Задача\n",
    "\n",
    "Создадим агента, в задачу которого будет входить подбор блюд и напитков для ужина в ресторане, с учётом сочетаемости блюд. Для начала, научимся работать с меню ресторана - его логичнее всего представить в виде MCP-сервера. Предполагаем, что каждый ресторан выставляет своё меню по протоколу MCP, и далее мы сообщаем его агенту."
   ]
  },
  {
   "cell_type": "code",
   "execution_count": 7,
   "id": "50ea6923",
   "metadata": {},
   "outputs": [
    {
     "data": {
      "text/markdown": [
       "Самый дорогой стейк в меню — **\"Бык на взводе\"** по цене **2500 рублей**.  \n",
       "Это сочный рибай с розовым сердцем, томлёный в дыму аргентинских страстей и подающийся с золотой солью Гималаев. Отличный выбор для тех, кто хочет почувствовать себя настоящим гурманом!  \n",
       "\n",
       "Хотите добавить к нему подходящий напиток?"
      ],
      "text/plain": [
       "<IPython.core.display.Markdown object>"
      ]
     },
     "metadata": {},
     "output_type": "display_data"
    }
   ],
   "source": [
    "mcp_tool = {\n",
    "            \"type\": \"mcp\",\n",
    "            \"server_label\": \"Restaurant\",\n",
    "            \"server_description\": \"Функции для запроса списка блюд и напитков в ресторане\",\n",
    "            #\"server_url\": \"https://meatrest.fastmcp.app/mcp\",\n",
    "            \"server_url\": \"http://cathy.ycloud.eazify.net:8001/sse\",\n",
    "            \"require_approval\": \"never\",\n",
    "    }\n",
    "\n",
    "instruction = \"Ты - профессиональный официант, знает все блюда и напитки в ресторане и их стоимость. Для доступа к меню вызови MCP-сервер. Твоя задача - подобрать подходящее блюдо и напиток для заказа\"\n",
    "\n",
    "res = await client.responses.create(\n",
    "                    model=model,\n",
    "                    instructions=instruction,\n",
    "                    input=\"Какой самый дорогой стейк?\",\n",
    "                    tools=[mcp_tool],\n",
    "                )\n",
    "printx(res.output_text)"
   ]
  },
  {
   "cell_type": "markdown",
   "id": "d1570e3d",
   "metadata": {},
   "source": [
    "## RAG для сочетаемости блюд\n",
    "\n",
    "Для проверки сочетания вин и блюд загрузим табличку соответствий в файловое хранилище:"
   ]
  },
  {
   "cell_type": "code",
   "execution_count": 8,
   "id": "95b163ed",
   "metadata": {},
   "outputs": [
    {
     "name": "stderr",
     "output_type": "stream",
     "text": [
      "c:\\winapp\\conda\\envs\\mas\\Lib\\site-packages\\tqdm\\auto.py:21: TqdmWarning: IProgress not found. Please update jupyter and ipywidgets. See https://ipywidgets.readthedocs.io/en/stable/user_install.html\n",
      "  from .autonotebook import tqdm as notebook_tqdm\n",
      "100%|██████████| 161/161 [00:16<00:00,  9.65it/s]"
     ]
    },
    {
     "name": "stdout",
     "output_type": "stream",
     "text": [
      "Uploaded 15 table chunks\n"
     ]
    },
    {
     "name": "stderr",
     "output_type": "stream",
     "text": [
      "\n"
     ]
    }
   ],
   "source": [
    "import tiktoken\n",
    "import io\n",
    "from tqdm.auto import tqdm\n",
    "\n",
    "vector_store = await client.vector_stores.create(name='rag_store')\n",
    "\n",
    "with open(\"data/food_wine_table.md\", encoding=\"utf-8\") as f:\n",
    "    food_wine = f.readlines()\n",
    "fw = \"\".join(food_wine)\n",
    "\n",
    "try:\n",
    "    tokenizer = tiktoken.encoding_for_model(model)\n",
    "except:\n",
    "    tokenizer = tiktoken.encoding_for_model(\"gpt-5-nano\") \n",
    "\n",
    "header = food_wine[:2]\n",
    "\n",
    "chunk_size = 1000  # в токенах\n",
    "\n",
    "s = header.copy()\n",
    "uploaded_chunks = []\n",
    "i = 0\n",
    "for x in tqdm(food_wine[2:]):\n",
    "    s.append(x)\n",
    "    if len(tokenizer.encode(\"\".join(s))) > chunk_size:\n",
    "        f = await client.files.create(\n",
    "            purpose=\"assistants\",\n",
    "            file = (f'table_{i}.txt',io.BytesIO(\"\".join(s).encode(\"utf-8\")),'text/markdown')\n",
    "        )\n",
    "        await client.vector_stores.files.create(file_id=f.id, vector_store_id=vector_store.id)\n",
    "        uploaded_chunks.append(f)\n",
    "        i+=1\n",
    "        s = header.copy()\n",
    "print(f\"Uploaded {len(uploaded_chunks)} table chunks\")"
   ]
  },
  {
   "cell_type": "markdown",
   "id": "7cba3723",
   "metadata": {},
   "source": [
    "На основе этого индекса сделаем агента-сомелье для подбора блюд к вину и наоборот:"
   ]
  },
  {
   "cell_type": "code",
   "execution_count": 9,
   "id": "5ee719be",
   "metadata": {},
   "outputs": [],
   "source": [
    "from agents import Agent, FileSearchTool\n",
    "\n",
    "sommelier = Agent(\n",
    "    name=\"Somellier_Agent\",\n",
    "    instructions=\"Ты - профессиональный сомелье, который может рекомендовать соответствие еды и вина или других напитков. Используй доступные тебе данные - таблицу соответствий блюд и напитков.\",\n",
    "    model=model,\n",
    "    tools=[FileSearchTool(\n",
    "            max_num_results=5,\n",
    "            vector_store_ids=[vector_store.id],\n",
    "        )]\n",
    ")"
   ]
  },
  {
   "cell_type": "code",
   "execution_count": 10,
   "id": "42986f0d",
   "metadata": {},
   "outputs": [
    {
     "name": "stdout",
     "output_type": "stream",
     "text": [
      "Creating trace Agent workflow with id trace_a3d78655f70d463880538e599a480de4\n",
      "Setting current trace: trace_a3d78655f70d463880538e599a480de4\n",
      "Creating span <agents.tracing.span_data.AgentSpanData object at 0x000002088BDB6850> with id None\n",
      "Running agent Somellier_Agent (turn 1)\n",
      "Creating span <agents.tracing.span_data.ResponseSpanData object at 0x00000208885C7710> with id None\n",
      "Calling LLM\n",
      "OPENAI_API_KEY is not set, skipping trace export\n",
      "LLM responded\n",
      "Resetting current trace\n"
     ]
    },
    {
     "data": {
      "text/markdown": [
       "Для говяжьего стейка в зависимости от степени прожарки и сорта мяса подходят разные вина:\n",
       "\n",
       "- **Для нежного мраморного стейка (Филе-миньон):**  \n",
       "  Подойдут легкие и элегантные красные вина:  \n",
       "  - Пино Нуар  \n",
       "  - Нерелло Маскалезе  \n",
       "  - Выдержанное Мерло  \n",
       "  - Также можно выбрать выдержанные вина из сортов:  \n",
       "    - Неббиоло (например, Барбареско)  \n",
       "    - Темпранильо (Рибера дель Дуэро)  \n",
       "    - Санджовезе (Кьянти Ризерва)\n",
       "\n",
       "- **Для жирного мраморного стейка (Рибай и аналоги):**  \n",
       "  - **При прожарке Rare (слабой):**  \n",
       "    Выдержанные и благородные вина:  \n",
       "    - Темпранильо (Рибера дель Дуэро, Ризерва и выше)  \n",
       "    - Санджовезе (Кьянти Ризерва, Брунелло)  \n",
       "    - «Супертосканские» вина  \n",
       "    - Бордо с Правого берега  \n",
       "    - Аргентинские Мальбеки (шелковистые, выдержанные)  \n",
       "\n",
       "  - **При прожарке Medium или Well Done:**  \n",
       "    Более насыщенные и плотные вина:  \n",
       "    - Сира (Шираз)  \n",
       "    - Каберне Совиньон  \n",
       "    - «Тельный» Мальбек  \n",
       "    - Примитиво, Зинфандель  \n",
       "    - Альянико (выдержанное)  \n",
       "    - Ассамбляж Гренаш+Сира+Мурведр («ронский стиль»)  \n",
       "    - Вина Приората (от 6–8 лет выдержки)\n",
       "\n",
       "Таким образом, **лучше всего к стейку подойдут выдержанные, насыщенные красные вина** с хорошей структурой и танинами, способными сбалансировать жирность и насыщенный вкус мяса. Выбор конкретного вина зависит от степени прожарки и предпочтений в стиле вина."
      ],
      "text/plain": [
       "<IPython.core.display.Markdown object>"
      ]
     },
     "metadata": {},
     "output_type": "display_data"
    },
    {
     "name": "stdout",
     "output_type": "stream",
     "text": [
      "OPENAI_API_KEY is not set, skipping trace export\n",
      "OPENAI_API_KEY is not set, skipping trace export\n",
      "OPENAI_API_KEY is not set, skipping trace export\n",
      "OPENAI_API_KEY is not set, skipping trace export\n",
      "OPENAI_API_KEY is not set, skipping trace export\n",
      "OPENAI_API_KEY is not set, skipping trace export\n",
      "OPENAI_API_KEY is not set, skipping trace export\n",
      "OPENAI_API_KEY is not set, skipping trace export\n",
      "OPENAI_API_KEY is not set, skipping trace export\n",
      "OPENAI_API_KEY is not set, skipping trace export\n",
      "OPENAI_API_KEY is not set, skipping trace export\n",
      "OPENAI_API_KEY is not set, skipping trace export\n",
      "OPENAI_API_KEY is not set, skipping trace export\n",
      "OPENAI_API_KEY is not set, skipping trace export\n",
      "OPENAI_API_KEY is not set, skipping trace export\n",
      "OPENAI_API_KEY is not set, skipping trace export\n",
      "OPENAI_API_KEY is not set, skipping trace export\n",
      "OPENAI_API_KEY is not set, skipping trace export\n",
      "OPENAI_API_KEY is not set, skipping trace export\n",
      "OPENAI_API_KEY is not set, skipping trace export\n",
      "OPENAI_API_KEY is not set, skipping trace export\n",
      "OPENAI_API_KEY is not set, skipping trace export\n",
      "OPENAI_API_KEY is not set, skipping trace export\n",
      "OPENAI_API_KEY is not set, skipping trace export\n",
      "OPENAI_API_KEY is not set, skipping trace export\n",
      "OPENAI_API_KEY is not set, skipping trace export\n",
      "OPENAI_API_KEY is not set, skipping trace export\n",
      "OPENAI_API_KEY is not set, skipping trace export\n",
      "OPENAI_API_KEY is not set, skipping trace export\n"
     ]
    }
   ],
   "source": [
    "from agents import Runner,RunConfig\n",
    "\n",
    "rc = RunConfig(model_provider=mp)\n",
    "\n",
    "res = await Runner.run(sommelier, input=\"Какое вино лучше пить со стейком?\", run_config=rc)\n",
    "printx(res.final_output)"
   ]
  },
  {
   "cell_type": "markdown",
   "id": "86a99aa3",
   "metadata": {},
   "source": [
    "Убедимся, что при ответе на сообщение использовались материалы из текстовой базы знаний:"
   ]
  },
  {
   "cell_type": "code",
   "execution_count": 16,
   "id": "ccb76cf6",
   "metadata": {},
   "outputs": [
    {
     "data": {
      "text/plain": [
       "[AnnotationFileCitation(file_id='fvt8skotulvuu7o5ut99', filename='table_10.txt', index=0, type='file_citation', valid=True),\n",
       " AnnotationFileCitation(file_id='fvt65h2kt5hob07n67pj', filename='table_11.txt', index=0, type='file_citation', valid=True),\n",
       " AnnotationFileCitation(file_id='fvt8skotulvuu7o5ut99', filename='table_10.txt', index=0, type='file_citation', valid=True),\n",
       " AnnotationFileCitation(file_id='fvtcv2e8o949mkidl4mv', filename='table_1.txt', index=0, type='file_citation', valid=True),\n",
       " AnnotationFileCitation(file_id='fvtcv2e8o949mkidl4mv', filename='table_1.txt', index=0, type='file_citation', valid=True)]"
      ]
     },
     "execution_count": 16,
     "metadata": {},
     "output_type": "execute_result"
    }
   ],
   "source": [
    "res.new_items[-1].raw_item.content[0].annotations"
   ]
  },
  {
   "cell_type": "markdown",
   "id": "070691a6",
   "metadata": {},
   "source": [
    "## Агент-официант\n",
    "\n",
    "Основным агентом для подбора блюд будет агент-официант. Он будет использовать MCP-сервер ресторана, и в случае необходимости обращаться к агенту-сомелье для подбора блюд."
   ]
  },
  {
   "cell_type": "code",
   "execution_count": 17,
   "id": "61721974",
   "metadata": {},
   "outputs": [
    {
     "name": "stdout",
     "output_type": "stream",
     "text": [
      "Creating trace Agent workflow with id trace_cf58aa2b08d44ebb895f0fbb317bafb7\n",
      "Setting current trace: trace_cf58aa2b08d44ebb895f0fbb317bafb7\n",
      "Creating span <agents.tracing.span_data.MCPListToolsSpanData object at 0x000002088B0DEF10> with id None\n",
      "Creating span <agents.tracing.span_data.AgentSpanData object at 0x000002088B13E620> with id None\n",
      "Running agent Waiter_Agent (turn 1)\n",
      "Creating span <agents.tracing.span_data.ResponseSpanData object at 0x000002088B0DF390> with id None\n",
      "Calling LLM\n",
      "LLM responded\n",
      "Creating span <agents.tracing.span_data.FunctionSpanData object at 0x0000020887EE3700> with id None\n",
      "Invoking MCP tool get_food_menu\n",
      "MCP tool get_food_menu completed.\n",
      "Creating span <agents.tracing.span_data.MCPListToolsSpanData object at 0x000002088B0F6450> with id None\n",
      "Running agent Waiter_Agent (turn 2)\n",
      "Creating span <agents.tracing.span_data.ResponseSpanData object at 0x0000020889B2F9D0> with id None\n",
      "Calling LLM\n",
      "LLM responded\n",
      "Resetting current trace\n"
     ]
    },
    {
     "data": {
      "text/markdown": [
       "Самый дорогой стейк в меню — **\"Бык на взводе\"** — стоит **2500 рублей**. Это сочный рибай с розовым сердцем, томлёный в дыму аргентинских страстей и подающийся с золотой солью Гималаев."
      ],
      "text/plain": [
       "<IPython.core.display.Markdown object>"
      ]
     },
     "metadata": {},
     "output_type": "display_data"
    }
   ],
   "source": [
    "from agents.mcp import MCPServerStreamableHttp,MCPServerSse\n",
    "\n",
    "rest_server = MCPServerSse(\n",
    "    name=\"Restaurant\",\n",
    "    params={\n",
    "        #\"url\": \"https://meatrest.fastmcp.app/mcp\",\n",
    "        \"url\": \"http://cathy.ycloud.eazify.net:8001/sse\",\n",
    "        \"timeout\": 10,\n",
    "    },\n",
    "    cache_tools_list=True,\n",
    "    client_session_timeout_seconds=10,\n",
    "    max_retry_attempts=3\n",
    ")\n",
    "await rest_server.connect()\n",
    "\n",
    "waiter = Agent(\n",
    "    name=\"Waiter_Agent\",\n",
    "    instructions=\"Ты - профессиональный официант, знаешь все блюда и напитки в ресторане и их стоимость. Для доступа к меню вызови MCP-сервер. Твоя задача - подобрать подходящее блюдо и напиток для заказа, учитывая пожелания клиента. Используй агента-сомелье для определения того, какие вина подходят к блюдам и наоборот\",\n",
    "    mcp_servers=[rest_server],\n",
    "    handoffs=[sommelier]\n",
    ")\n",
    "\n",
    "res = await Runner.run(waiter,\"Сколько стоит самый дорогой стейк?\",run_config=rc)\n",
    "printx(res.final_output)"
   ]
  },
  {
   "cell_type": "code",
   "execution_count": 18,
   "id": "60438eca",
   "metadata": {},
   "outputs": [
    {
     "name": "stdout",
     "output_type": "stream",
     "text": [
      "Creating trace Agent workflow with id trace_8d8c39b38c9045a1b1aee7c5ad4d7972\n",
      "Setting current trace: trace_8d8c39b38c9045a1b1aee7c5ad4d7972\n",
      "Creating span <agents.tracing.span_data.MCPListToolsSpanData object at 0x000002088B0F4850> with id None\n",
      "Creating span <agents.tracing.span_data.AgentSpanData object at 0x0000020889B30870> with id None\n",
      "Running agent Waiter_Agent (turn 1)\n",
      "Creating span <agents.tracing.span_data.ResponseSpanData object at 0x000002088B10B3D0> with id None\n",
      "Calling LLM\n",
      "LLM responded\n",
      "Creating span <agents.tracing.span_data.FunctionSpanData object at 0x000002088B14B020> with id None\n",
      "Creating span <agents.tracing.span_data.FunctionSpanData object at 0x000002088B14B480> with id None\n",
      "Invoking MCP tool get_food_menu\n",
      "Invoking MCP tool get_drinks_menu\n",
      "MCP tool get_food_menu completed.\n",
      "MCP tool get_drinks_menu completed.\n",
      "Creating span <agents.tracing.span_data.MCPListToolsSpanData object at 0x000002088B107FD0> with id None\n",
      "Running agent Waiter_Agent (turn 2)\n",
      "Creating span <agents.tracing.span_data.ResponseSpanData object at 0x00000208889176D0> with id None\n",
      "Calling LLM\n",
      "LLM responded\n",
      "Creating span <agents.tracing.span_data.HandoffSpanData object at 0x000002088B0F6750> with id None\n",
      "Creating span <agents.tracing.span_data.AgentSpanData object at 0x000002088B140BE0> with id None\n",
      "Running agent Somellier_Agent (turn 3)\n",
      "Creating span <agents.tracing.span_data.ResponseSpanData object at 0x000002088A3028D0> with id None\n",
      "Calling LLM\n",
      "LLM responded\n",
      "Resetting current trace\n"
     ]
    },
    {
     "data": {
      "text/markdown": [
       "На основе предоставленного контекста, вот рекомендации по сочетанию блюд из говядины с вином, а также таблица с выбором и расчётом стоимости:\n",
       "\n",
       "### Рекомендации по сочетанию:\n",
       "1. **Стейк говяжий мраморный нежный (Филе-миньон)**  \n",
       "   Подходит: **Пино Нуар**, элегантное Мерло, выдержанное Санджовезе (Кьянти Ризерва), Темпранильо (Рибейра дель Дуэро).\n",
       "\n",
       "2. **Стейк говяжий мраморный жирноватый (Рибай и пр.)**  \n",
       "   Подходит:  \n",
       "   - К прожарке **Rare**: выдержанное Темпранильо, Кьянти Ризерва, Бордо Правого берега, аргентинский Мальбек.  \n",
       "   - К прожарке **Medium/WellDone**: Каберне Совиньон, Шираз, Зинфандель, ассамбляж Гренаш+Сира+Мурведр.\n",
       "\n",
       "---\n",
       "\n",
       "### Предлагаемое меню:\n",
       "\n",
       "| Название блюда | Описание | Цена (руб) | Подходящее вино | Цена вина (руб) |\n",
       "|----------------|--------|------------|------------------|-----------------|\n",
       "| Стейк \"Бык на взводе\" | Сочный рибай с розовым сердцем, томлёный в дыме аргентинских страстей. Подаётся с золотой солью Гималаев. | 2500 | Мальбек (Catena Zapata, Аргентина, 2020) | 2900 |\n",
       "| Стейк \"Нежность разъярённой коровы\" | Филе-миньон, замаринованное в гранатовом соке и шёпоте шеф-повара. Плюс картофель \"А-ля крылышки дракона\". | 1800 | Пино Нуар (Domaine de la Romanée-Conti, Франция, 2017) | 5200 |\n",
       "| \"Стейк для скромного олигарха\" | Говяжья щека, томлёная 12 часов в вине из погреба Наполеона (ну почти). С хрустящими чипсами из кабачков. | 1200 | Мерло (Marchesi Antinori, Италия, 2019) | 2800 |\n",
       "\n",
       "---\n",
       "\n",
       "### Суммарная стоимость:\n",
       "- **Вариант 1 (Рибай + Мальбек)**: 2500 + 2900 = **5400 руб.**\n",
       "- **Вариант 2 (Филе-миньон + Пино Нуар)**: 1800 + 5200 = **7000 руб.**\n",
       "- **Вариант 3 (Щека + Мерло)**: 1200 + 2800 = **4000 руб.**\n",
       "\n",
       "---\n",
       "\n",
       "### Рекомендация:\n",
       "- Если вы хотите **роскошный ужин** — выбирайте **филе-миньон с Пино Нуар**.\n",
       "- Если ищете **оптимальное сочетание вкуса и цены** — **стейк \"Бык на взводе\" с Мальбеком**.\n",
       "- Для **бюджетного, но насыщенного ужина** — **говяжья щека с Мерло**.\n",
       "\n",
       "Приятного аппетита и наслаждения вкусом! 🍷🥩"
      ],
      "text/plain": [
       "<IPython.core.display.Markdown object>"
      ]
     },
     "metadata": {},
     "output_type": "display_data"
    }
   ],
   "source": [
    "res = await Runner.run(waiter,\"Подбери мне меню из главного блюда и подходящего вина на ужин. Я хочу съесть что-то из говядины. Выведи табличку со списком блюд/напитков и суммарную стоимость еды.\",run_config=rc)\n",
    "printx(res.final_output)"
   ]
  },
  {
   "cell_type": "markdown",
   "id": "7b5e8873",
   "metadata": {},
   "source": [
    "## Визуализация взаимодействия агентов\n",
    "\n",
    "Для визуализации можно использовать встроенные средства OpenAI Agent SDK - необходимо лишь, чтобы на компьютере был установлен движок визуализации GraphViz."
   ]
  },
  {
   "cell_type": "code",
   "execution_count": 19,
   "id": "23d856eb",
   "metadata": {},
   "outputs": [
    {
     "data": {
      "image/svg+xml": [
       "<?xml version=\"1.0\" encoding=\"UTF-8\" standalone=\"no\"?>\n",
       "<!DOCTYPE svg PUBLIC \"-//W3C//DTD SVG 1.1//EN\"\n",
       " \"http://www.w3.org/Graphics/SVG/1.1/DTD/svg11.dtd\">\n",
       "<!-- Generated by graphviz version 2.38.0 (20140413.2041)\n",
       " -->\n",
       "<!-- Title: G Pages: 1 -->\n",
       "<svg width=\"252pt\" height=\"297pt\"\n",
       " viewBox=\"0.00 0.00 252.33 297.05\" xmlns=\"http://www.w3.org/2000/svg\" xmlns:xlink=\"http://www.w3.org/1999/xlink\">\n",
       "<g id=\"graph0\" class=\"graph\" transform=\"scale(1 1) rotate(0) translate(4 293.054)\">\n",
       "<title>G</title>\n",
       "<polygon fill=\"white\" stroke=\"none\" points=\"-4,4 -4,-293.054 248.326,-293.054 248.326,4 -4,4\"/>\n",
       "<!-- __start__ -->\n",
       "<g id=\"node1\" class=\"node\"><title>__start__</title>\n",
       "<ellipse fill=\"lightblue\" stroke=\"black\" cx=\"61.3259\" cy=\"-272.79\" rx=\"54.3945\" ry=\"16.0303\"/>\n",
       "<text text-anchor=\"middle\" x=\"61.3259\" y=\"-269.09\" font-family=\"Arial\" font-size=\"14.00\">__start__</text>\n",
       "</g>\n",
       "<!-- Waiter_Agent -->\n",
       "<g id=\"node3\" class=\"node\"><title>Waiter_Agent</title>\n",
       "<polygon fill=\"lightyellow\" stroke=\"black\" points=\"115.326,-220.527 7.3259,-220.527 7.3259,-162.527 115.326,-162.527 115.326,-220.527\"/>\n",
       "<text text-anchor=\"middle\" x=\"61.3259\" y=\"-187.827\" font-family=\"Arial\" font-size=\"14.00\">Waiter_Agent</text>\n",
       "</g>\n",
       "<!-- __start__&#45;&gt;Waiter_Agent -->\n",
       "<g id=\"edge1\" class=\"edge\"><title>__start__&#45;&gt;Waiter_Agent</title>\n",
       "<path fill=\"none\" stroke=\"black\" stroke-width=\"1.5\" d=\"M61.3259,-256.508C61.3259,-249.121 61.3259,-239.891 61.3259,-230.761\"/>\n",
       "<polygon fill=\"black\" stroke=\"black\" stroke-width=\"1.5\" points=\"64.826,-230.598 61.3259,-220.598 57.826,-230.598 64.826,-230.598\"/>\n",
       "</g>\n",
       "<!-- __end__ -->\n",
       "<g id=\"node2\" class=\"node\"><title>__end__</title>\n",
       "<ellipse fill=\"lightblue\" stroke=\"black\" cx=\"52.3259\" cy=\"-16.2635\" rx=\"52.1524\" ry=\"16.0303\"/>\n",
       "<text text-anchor=\"middle\" x=\"52.3259\" y=\"-12.5635\" font-family=\"Arial\" font-size=\"14.00\">__end__</text>\n",
       "</g>\n",
       "<!-- Restaurant -->\n",
       "<g id=\"node4\" class=\"node\"><title>Restaurant</title>\n",
       "<polygon fill=\"lightgrey\" stroke=\"black\" points=\"103.826,-115.527 18.8259,-115.527 18.8259,-79.5269 103.826,-79.5269 103.826,-115.527\"/>\n",
       "<text text-anchor=\"middle\" x=\"61.3259\" y=\"-93.8269\" font-family=\"Arial\" font-size=\"14.00\">Restaurant</text>\n",
       "</g>\n",
       "<!-- Waiter_Agent&#45;&gt;Restaurant -->\n",
       "<g id=\"edge2\" class=\"edge\"><title>Waiter_Agent&#45;&gt;Restaurant</title>\n",
       "<path fill=\"none\" stroke=\"black\" stroke-width=\"1.5\" stroke-dasharray=\"5,2\" d=\"M55.0522,-162.424C54.4006,-150.772 54.4176,-137.305 55.103,-125.748\"/>\n",
       "<polygon fill=\"black\" stroke=\"black\" stroke-width=\"1.5\" points=\"58.5915,-126.03 55.9203,-115.777 51.6149,-125.458 58.5915,-126.03\"/>\n",
       "</g>\n",
       "<!-- Somellier_Agent -->\n",
       "<g id=\"node5\" class=\"node\"><title>Somellier_Agent</title>\n",
       "<path fill=\"none\" stroke=\"black\" d=\"M232.326,-126.527C232.326,-126.527 134.326,-126.527 134.326,-126.527 128.326,-126.527 122.326,-120.527 122.326,-114.527 122.326,-114.527 122.326,-80.5269 122.326,-80.5269 122.326,-74.5269 128.326,-68.5269 134.326,-68.5269 134.326,-68.5269 232.326,-68.5269 232.326,-68.5269 238.326,-68.5269 244.326,-74.5269 244.326,-80.5269 244.326,-80.5269 244.326,-114.527 244.326,-114.527 244.326,-120.527 238.326,-126.527 232.326,-126.527\"/>\n",
       "<text text-anchor=\"middle\" x=\"183.326\" y=\"-93.8269\" font-family=\"Arial\" font-size=\"14.00\">Somellier_Agent</text>\n",
       "</g>\n",
       "<!-- Waiter_Agent&#45;&gt;Somellier_Agent -->\n",
       "<g id=\"edge4\" class=\"edge\"><title>Waiter_Agent&#45;&gt;Somellier_Agent</title>\n",
       "<path fill=\"none\" stroke=\"black\" stroke-width=\"1.5\" d=\"M98.5928,-162.424C110.894,-153.148 124.721,-142.721 137.581,-133.023\"/>\n",
       "<polygon fill=\"black\" stroke=\"black\" stroke-width=\"1.5\" points=\"139.99,-135.59 145.867,-126.775 135.775,-130.001 139.99,-135.59\"/>\n",
       "</g>\n",
       "<!-- Restaurant&#45;&gt;Waiter_Agent -->\n",
       "<g id=\"edge3\" class=\"edge\"><title>Restaurant&#45;&gt;Waiter_Agent</title>\n",
       "<path fill=\"none\" stroke=\"black\" stroke-width=\"1.5\" stroke-dasharray=\"5,2\" d=\"M66.7315,-115.777C67.8485,-126.022 68.2694,-139.441 67.9944,-152.079\"/>\n",
       "<polygon fill=\"black\" stroke=\"black\" stroke-width=\"1.5\" points=\"64.4836,-152.298 67.5996,-162.424 71.4785,-152.565 64.4836,-152.298\"/>\n",
       "</g>\n",
       "<!-- Somellier_Agent&#45;&gt;__end__ -->\n",
       "<g id=\"edge7\" class=\"edge\"><title>Somellier_Agent&#45;&gt;__end__</title>\n",
       "<path fill=\"none\" stroke=\"black\" stroke-width=\"1.5\" d=\"M136.771,-68.3584C119.312,-57.7945 99.8881,-46.0416 84.075,-36.4737\"/>\n",
       "<polygon fill=\"black\" stroke=\"black\" stroke-width=\"1.5\" points=\"85.5916,-33.3006 75.224,-31.1183 81.9678,-39.2896 85.5916,-33.3006\"/>\n",
       "</g>\n",
       "<!-- file_search -->\n",
       "<g id=\"node6\" class=\"node\"><title>file_search</title>\n",
       "<ellipse fill=\"lightgreen\" stroke=\"black\" cx=\"183.326\" cy=\"-16.2635\" rx=\"60.623\" ry=\"16.0303\"/>\n",
       "<text text-anchor=\"middle\" x=\"183.326\" y=\"-12.5635\" font-family=\"Arial\" font-size=\"14.00\">file_search</text>\n",
       "</g>\n",
       "<!-- Somellier_Agent&#45;&gt;file_search -->\n",
       "<g id=\"edge5\" class=\"edge\"><title>Somellier_Agent&#45;&gt;file_search</title>\n",
       "<path fill=\"none\" stroke=\"black\" stroke-width=\"1.5\" stroke-dasharray=\"1,5\" d=\"M176.833,-68.3584C176.451,-60.0666 176.495,-51.0424 176.964,-42.9171\"/>\n",
       "<polygon fill=\"black\" stroke=\"black\" stroke-width=\"1.5\" points=\"180.456,-43.154 177.826,-32.8908 173.482,-42.5541 180.456,-43.154\"/>\n",
       "</g>\n",
       "<!-- file_search&#45;&gt;Somellier_Agent -->\n",
       "<g id=\"edge6\" class=\"edge\"><title>file_search&#45;&gt;Somellier_Agent</title>\n",
       "<path fill=\"none\" stroke=\"black\" stroke-width=\"1.5\" stroke-dasharray=\"1,5\" d=\"M188.826,-32.8908C189.706,-40.2305 190.122,-49.3326 190.072,-58.3353\"/>\n",
       "<polygon fill=\"black\" stroke=\"black\" stroke-width=\"1.5\" points=\"186.572,-58.2731 189.818,-68.3584 193.57,-58.4501 186.572,-58.2731\"/>\n",
       "</g>\n",
       "</g>\n",
       "</svg>\n"
      ],
      "text/plain": [
       "<graphviz.sources.Source at 0x2088b170d40>"
      ]
     },
     "execution_count": 19,
     "metadata": {},
     "output_type": "execute_result"
    }
   ],
   "source": [
    "from agents.extensions.visualization import draw_graph\n",
    "import graphviz\n",
    "\n",
    "graphviz.backend.dot_command.DOT_BINARY = 'c:/winapp/conda/Library/bin/graphviz/dot.exe'\n",
    "draw_graph(waiter)"
   ]
  },
  {
   "cell_type": "markdown",
   "id": "ea670811",
   "metadata": {},
   "source": [
    "## Агенты как инструменты\n",
    "\n",
    "В прошлом примере мы использовали агента-сомелье как равного агента, передавая ему управление в случае необходимости, вместе со всей историей переписки. Иногда нам скорее нужно воспользоваться агентом как инструментом, получив от него обратно управление после решения подзадачи."
   ]
  },
  {
   "cell_type": "code",
   "execution_count": null,
   "id": "465e4866",
   "metadata": {},
   "outputs": [
    {
     "name": "stdout",
     "output_type": "stream",
     "text": [
      "Creating trace Agent workflow with id trace_02a4525b47bd4451b7c6d749f1125239\n",
      "Setting current trace: trace_02a4525b47bd4451b7c6d749f1125239\n",
      "Creating span <agents.tracing.span_data.MCPListToolsSpanData object at 0x000002088BF31290> with id None\n",
      "Creating span <agents.tracing.span_data.AgentSpanData object at 0x000002088A336DF0> with id None\n",
      "Running agent Waiter_Agent (turn 1)\n",
      "Creating span <agents.tracing.span_data.ResponseSpanData object at 0x000002088BFC6910> with id None\n",
      "Calling LLM\n",
      "LLM responded\n",
      "Creating span <agents.tracing.span_data.FunctionSpanData object at 0x000002088A3419A0> with id None\n",
      "Creating span <agents.tracing.span_data.FunctionSpanData object at 0x000002088BF5DAE0> with id None\n",
      "Creating span <agents.tracing.span_data.FunctionSpanData object at 0x000002088890C190> with id None\n",
      "Invoking MCP tool get_food_menu\n",
      "Invoking MCP tool get_drinks_menu\n",
      "Invoking tool match_food_wine\n",
      "Сомелье отвечает на вопрос: говядина\n",
      "Creating span <agents.tracing.span_data.AgentSpanData object at 0x000002088BFE29E0> with id None\n",
      "Running agent Somellier_Agent (turn 1)\n",
      "Creating span <agents.tracing.span_data.ResponseSpanData object at 0x000002088BF29910> with id None\n",
      "Calling LLM\n",
      "MCP tool get_food_menu completed.\n",
      "MCP tool get_drinks_menu completed.\n",
      "LLM responded\n",
      "Ответ сомелье: RunResult:\n",
      "- Last agent: Agent(name=\"Somellier_Agent\", ...)\n",
      "- Final output (str):\n",
      "    Для блюд из говядины подходят следующие напитки:\n",
      "    \n",
      "    - **Говядина жареная, тушеная (кроме мраморных стейков)**:  \n",
      "      Красные вина — сухие из винограда:\n",
      "      - Санджовезе (Кьянти)\n",
      "      - Неро д’Авола\n",
      "      - Испанские Темпранильо\n",
      "      - «Тельные» Мерло\n",
      "      - «Тельные» Пино Нуары (из Нового Света, Австрии, Германии)\n",
      "      - Вина из Бордо\n",
      "      - Вина из Роны (ассамбляж Гренащ+Сира+Мурведр)\n",
      "      - Саперави (из Грузии и России)\n",
      "      - Арени (Армения)\n",
      "    \n",
      "    - **Стейк говяжий мраморный нежный (Филе-миньон)**:  \n",
      "      Красные вина — лёгкие и элегантные:\n",
      "      - Пино Нуар\n",
      "      - Нерелло Маскалезе\n",
      "      - Выдержанное Мерло\n",
      "      - Выдержанные вина из Темпранильо (Рибейра дель Дуэро), Санджовезе (Кьянти Ризерва), Неббиоло (Барбареско)\n",
      "    \n",
      "    - **Стейк говяжий мраморный жирноватый (Рибай и пр.)**:  \n",
      "      - При прожарке **Rare**: выдержанные вина из Темпранильо, Санджовезе (Кьянти Ризерва, Брунелло), «супертосканские» вина, Бордо Правого берега, аргентинские Мальбеки  \n",
      "      - При прожарке **Medium или WellDone**:  \n",
      "        - Сира (Шираз), Каберне Совиньон, «тельный» Мальбек, Примитиво, Зинфандель, Альянико  \n",
      "        - Выдержанное ассамбляжное вино из Гренаш+Сира+Мурведр  \n",
      "        - Вина Приората (от 6–8 лет выдержки)\n",
      "    \n",
      "    - **Блинчики с мясом (говядина)**:  \n",
      "      - Крепкие напитки: Водка, Полугар, Хреновуха  \n",
      "      - Красные вина: Санджовезе (Кьянти), «бордосский» бленд, ассамбляж Гренаш+Сира+Мурведр\n",
      "    \n",
      "    - **Пельмени, манты, хинкали (с говядиной)**:  \n",
      "      - Крепкие напитки: Самогон (Полугар, Хлебное вино), Водка, Хреновуха, Перцовка  \n",
      "      - Красные вина: сухие из Менсия, Гарнача, «тельное» Мерло, молодые вина из Темпранильо, Санджовезе, а также вина из Бордо и ассамбляж Гренаш+Сира+Мурведр\n",
      "    \n",
      "    Выбор напитка зависит от способа приготовления и насыщенности блюда. Для тушёной или жареной говядины — сухие красные вина средней и полной телесности, для лёгких блюд — более элегантные варианты, а для традиционных русских блюд с говядиной (пельмени, блинчики) отлично подойдут крепкие напитки.\n",
      "- 2 new item(s)\n",
      "- 1 raw response(s)\n",
      "- 0 input guardrail result(s)\n",
      "- 0 output guardrail result(s)\n",
      "(See `RunResult` for more details)\n",
      "Tool match_food_wine completed.\n",
      "Creating span <agents.tracing.span_data.MCPListToolsSpanData object at 0x000002088BFC4A90> with id None\n",
      "Running agent Waiter_Agent (turn 2)\n",
      "Creating span <agents.tracing.span_data.ResponseSpanData object at 0x000002088A329110> with id None\n",
      "Calling LLM\n",
      "LLM responded\n",
      "Resetting current trace\n"
     ]
    },
    {
     "data": {
      "text/markdown": [
       "На основе вашего желания съесть блюдо из говядины, я подобрал подходящее главное блюдо и вино, учитывая вкусовые сочетания и стили приготовления.\n",
       "\n",
       "---\n",
       "\n",
       "### 🍽️ Рекомендованное меню на ужин\n",
       "\n",
       "| Позиция                | Название блюда / напитка                         | Цена (руб) |\n",
       "|------------------------|--------------------------------------------------|------------|\n",
       "| Главное блюдо          | Стейк \"Бык на взводе\" (рибай, розовый центр)     | 2500       |\n",
       "| Напиток                | Каберне Совиньон, Château Lafite Rothschild, 2018 | 4500       |\n",
       "| **Итого**              |                                                  | **7000**   |\n",
       "\n",
       "---\n",
       "\n",
       "### 🍷 Почему это сочетание?\n",
       "- **Стейк \"Бык на взводе\"** — это мраморный рибай с насыщенным вкусом и жирной текстурой, идеально подходящий для прожарки **Rare** или **Medium**.\n",
       "- **Каберне Совиньон 2018** — мощное, структурированное красное вино с танинами и нотами чёрных ягод, кедра и табака — классическое и роскошное сочетание для жирного стейка. Особенно хорошо подходит, если стейк прожарен до **Medium** или **WellDone**.\n",
       "- Это сочетание подчёркивает богатство вкуса мяса и смягчает танины вина, создавая гармоничный гастрономический опыт.\n",
       "\n",
       "---\n",
       "\n",
       "Если хотите более бюджетный вариант, могу предложить:\n",
       "\n",
       "| Позиция                | Название блюда / напитка                         | Цена (руб) |\n",
       "|------------------------|--------------------------------------------------|------------|\n",
       "| Главное блюдо          | \"Стейк для скромного олигарха\" (томлёная щека)   | 1200       |\n",
       "| Напиток                | Мальбек, Catena Zapata, 2020                     | 2900       |\n",
       "| **Итого**              |                                                  | **4100**   |\n",
       "\n",
       "Мальбек — сочное, фруктовое вино с мягкими танинами — отлично подходит к медленно тушёной говядине.\n",
       "\n",
       "---\n",
       "\n",
       "Готов оформить заказ. Хотите выбрать первое меню (премиум) или второе (эконом)? Или, может, добавим гарнир?"
      ],
      "text/plain": [
       "<IPython.core.display.Markdown object>"
      ]
     },
     "metadata": {},
     "output_type": "display_data"
    }
   ],
   "source": [
    "from agents import function_tool\n",
    "\n",
    "@function_tool\n",
    "async def match_food_wine(request):\n",
    "    \"\"\"\n",
    "    Функция, которая подбирает блюдо к вину или вино к блюду по запросу пользователя\n",
    "    \"\"\"\n",
    "    print(f\"Сомелье отвечает на вопрос: {request}\")\n",
    "    res = await Runner.run(sommelier,request,run_config=rc)\n",
    "    print(f\"Ответ сомелье: {res.final_output}\")\n",
    "    return res.final_output \n",
    "\n",
    "waiter = Agent(\n",
    "    name=\"Waiter_Agent\",\n",
    "    instructions=\"Ты - профессиональный официант, знаешь все блюда и напитки в ресторане и их стоимость. Для доступа к меню вызови MCP-сервер. Твоя задача - подобрать подходящее блюдо и напиток для заказа, учитывая пожелания клиента. Используй агента-сомелье для определения того, какие вина подходят к блюдам и наоборот\",\n",
    "    mcp_servers=[rest_server],\n",
    "    #tools=[sommelier.as_tool(\"Sommelier\",\"Агент-сомелье, который может подобрать еду к вину и наоборот\")]\n",
    "    tools=[match_food_wine]\n",
    ")\n",
    "res = await Runner.run(waiter,\"Подбери мне меню из главного блюда и подходящего вина на ужин. Я хочу съесть что-то из говядины. Выведи табличку со списком блюд/напитков и суммарную стоимость еды.\",run_config=rc)\n",
    "printx(res.final_output)"
   ]
  },
  {
   "cell_type": "code",
   "execution_count": 21,
   "id": "31d3f343",
   "metadata": {},
   "outputs": [
    {
     "name": "stdout",
     "output_type": "stream",
     "text": [
      "Creating trace Agent workflow with id trace_152264ac3d114401be474e7df6f60a39\n",
      "Setting current trace: trace_152264ac3d114401be474e7df6f60a39\n",
      "Creating span <agents.tracing.span_data.MCPListToolsSpanData object at 0x0000022235FFFDD0> with id None\n",
      "Creating span <agents.tracing.span_data.AgentSpanData object at 0x000002223608BF70> with id None\n",
      "Running agent Waiter_Agent (turn 1)\n",
      "Creating span <agents.tracing.span_data.ResponseSpanData object at 0x0000022236085750> with id None\n",
      "Calling LLM\n",
      "LLM responded\n",
      "Creating span <agents.tracing.span_data.FunctionSpanData object at 0x0000022232127C00> with id None\n",
      "Creating span <agents.tracing.span_data.FunctionSpanData object at 0x000002223603A800> with id None\n",
      "Creating span <agents.tracing.span_data.FunctionSpanData object at 0x000002223603B930> with id None\n",
      "Invoking MCP tool get_food_menu\n",
      "Invoking MCP tool get_drinks_menu\n",
      "Invoking tool Сомелье\n",
      "Creating span <agents.tracing.span_data.AgentSpanData object at 0x000002223603BB60> with id None\n",
      "Running agent Somellier_Agent (turn 1)\n",
      "MCP tool get_food_menu completed.\n",
      "MCP tool get_drinks_menu completed.\n",
      "Creating span <agents.tracing.span_data.MCPListToolsSpanData object at 0x0000022235F6E510> with id None\n",
      "Running agent Waiter_Agent (turn 2)\n",
      "Creating span <agents.tracing.span_data.ResponseSpanData object at 0x0000022231B63110> with id None\n",
      "Calling LLM\n",
      "LLM responded\n",
      "Creating span <agents.tracing.span_data.FunctionSpanData object at 0x000002223603BB60> with id None\n",
      "Invoking tool Сомелье\n",
      "Creating span <agents.tracing.span_data.AgentSpanData object at 0x0000022236038230> with id None\n",
      "Running agent Somellier_Agent (turn 1)\n",
      "Creating span <agents.tracing.span_data.MCPListToolsSpanData object at 0x00000222360E7790> with id None\n",
      "Running agent Waiter_Agent (turn 3)\n",
      "Creating span <agents.tracing.span_data.ResponseSpanData object at 0x000002223107DB10> with id None\n",
      "Calling LLM\n",
      "LLM responded\n",
      "Resetting current trace\n"
     ]
    },
    {
     "data": {
      "text/markdown": [
       "Извините, произошёл сбой при подключении к агенту-сомелье. Однако я могу самостоятельно подобрать блюдо к охлаждённому рислингу, опираясь на гастрономические принципы.\n",
       "\n",
       "**Рислинг** — это ароматное белое вино с яркой кислотностью, фруктовыми нотами (лимон, зелёное яблоко, персик) и лёгкой сладостью или минеральностью. Охлаждённый рислинг отлично сочетается с:\n",
       "\n",
       "- Блюдами из белой рыбы,\n",
       "- Морепродуктами,\n",
       "- Азиатской кухней (тайской, вьетнамской),\n",
       "- Блюдами с лёгкой остротой или кисло-сладкими соусами.\n",
       "\n",
       "Из предложенного меню наилучшее сочетание с рислингом будет:\n",
       "\n",
       "### Рекомендованное меню:\n",
       "\n",
       "| Категория       | Название блюда / напитка                     | Цена (руб) |\n",
       "|------------------|----------------------------------------------|------------|\n",
       "| Основное блюдо   | \"Лосось в мечтах о Норвегии\"                 | 1900       |\n",
       "| Напиток          | Рислинг (охлаждённый)                        | 3100       |\n",
       "| **Итого**        |                                              | **5000**   |\n",
       "\n",
       "**Обоснование:**  \n",
       "Лосось — жирная, но нежная рыба, которая хорошо сбалансирует кислотность рислинга. Лимонный бриз в подаче блюда дополнит цитрусовые нотки вина, создав гармоничное и свежее сочетание.\n",
       "\n",
       "Если хотите более лёгкий ужин, могу предложить \"Дорадо под шубой\" (1600 руб) — она также отлично подойдёт к рислингу.\n",
       "\n",
       "Готов оформить заказ?"
      ],
      "text/plain": [
       "<IPython.core.display.Markdown object>"
      ]
     },
     "metadata": {},
     "output_type": "display_data"
    }
   ],
   "source": [
    "res = await Runner.run(waiter,\"Подбери мне меню из главного блюда и подходящего вина на ужин. Я хочу охлажденный рислинг. Выведи табличку со списком блюд/напитков и суммарную стоимость еды.\",run_config=rc)\n",
    "printx(res.final_output)"
   ]
  },
  {
   "cell_type": "code",
   "execution_count": 42,
   "id": "cb72fb16",
   "metadata": {},
   "outputs": [
    {
     "data": {
      "image/svg+xml": [
       "<?xml version=\"1.0\" encoding=\"UTF-8\" standalone=\"no\"?>\n",
       "<!DOCTYPE svg PUBLIC \"-//W3C//DTD SVG 1.1//EN\"\n",
       " \"http://www.w3.org/Graphics/SVG/1.1/DTD/svg11.dtd\">\n",
       "<!-- Generated by graphviz version 2.38.0 (20140413.2041)\n",
       " -->\n",
       "<!-- Title: G Pages: 1 -->\n",
       "<svg width=\"355pt\" height=\"207pt\"\n",
       " viewBox=\"0.00 0.00 354.83 206.53\" xmlns=\"http://www.w3.org/2000/svg\" xmlns:xlink=\"http://www.w3.org/1999/xlink\">\n",
       "<g id=\"graph0\" class=\"graph\" transform=\"scale(1 1) rotate(0) translate(4 202.527)\">\n",
       "<title>G</title>\n",
       "<polygon fill=\"white\" stroke=\"none\" points=\"-4,4 -4,-202.527 350.826,-202.527 350.826,4 -4,4\"/>\n",
       "<!-- __start__ -->\n",
       "<g id=\"node1\" class=\"node\"><title>__start__</title>\n",
       "<ellipse fill=\"lightblue\" stroke=\"black\" cx=\"183.326\" cy=\"-182.263\" rx=\"54.3945\" ry=\"16.0303\"/>\n",
       "<text text-anchor=\"middle\" x=\"183.326\" y=\"-178.563\" font-family=\"Arial\" font-size=\"14.00\">__start__</text>\n",
       "</g>\n",
       "<!-- Waiter_Agent -->\n",
       "<g id=\"node3\" class=\"node\"><title>Waiter_Agent</title>\n",
       "<polygon fill=\"lightyellow\" stroke=\"black\" points=\"237.326,-130 129.326,-130 129.326,-72 237.326,-72 237.326,-130\"/>\n",
       "<text text-anchor=\"middle\" x=\"183.326\" y=\"-97.3\" font-family=\"Arial\" font-size=\"14.00\">Waiter_Agent</text>\n",
       "</g>\n",
       "<!-- __start__&#45;&gt;Waiter_Agent -->\n",
       "<g id=\"edge1\" class=\"edge\"><title>__start__&#45;&gt;Waiter_Agent</title>\n",
       "<path fill=\"none\" stroke=\"black\" stroke-width=\"1.5\" d=\"M183.326,-165.981C183.326,-158.594 183.326,-149.364 183.326,-140.234\"/>\n",
       "<polygon fill=\"black\" stroke=\"black\" stroke-width=\"1.5\" points=\"186.826,-140.071 183.326,-130.071 179.826,-140.071 186.826,-140.071\"/>\n",
       "</g>\n",
       "<!-- __end__ -->\n",
       "<g id=\"node2\" class=\"node\"><title>__end__</title>\n",
       "<ellipse fill=\"lightblue\" stroke=\"black\" cx=\"52.3259\" cy=\"-18\" rx=\"52.1524\" ry=\"16.0303\"/>\n",
       "<text text-anchor=\"middle\" x=\"52.3259\" y=\"-14.3\" font-family=\"Arial\" font-size=\"14.00\">__end__</text>\n",
       "</g>\n",
       "<!-- Waiter_Agent&#45;&gt;__end__ -->\n",
       "<g id=\"edge6\" class=\"edge\"><title>Waiter_Agent&#45;&gt;__end__</title>\n",
       "<path fill=\"none\" stroke=\"black\" stroke-width=\"1.5\" d=\"M137.876,-71.8975C119.794,-60.717 99.456,-48.1415 83.1479,-38.0579\"/>\n",
       "<polygon fill=\"black\" stroke=\"black\" stroke-width=\"1.5\" points=\"84.8886,-35.0192 74.5425,-32.737 81.2072,-40.973 84.8886,-35.0192\"/>\n",
       "</g>\n",
       "<!-- Sommelier -->\n",
       "<g id=\"node4\" class=\"node\"><title>Sommelier</title>\n",
       "<ellipse fill=\"lightgreen\" stroke=\"black\" cx=\"183.326\" cy=\"-18\" rx=\"60.623\" ry=\"16.0303\"/>\n",
       "<text text-anchor=\"middle\" x=\"183.326\" y=\"-14.3\" font-family=\"Arial\" font-size=\"14.00\">Sommelier</text>\n",
       "</g>\n",
       "<!-- Waiter_Agent&#45;&gt;Sommelier -->\n",
       "<g id=\"edge2\" class=\"edge\"><title>Waiter_Agent&#45;&gt;Sommelier</title>\n",
       "<path fill=\"none\" stroke=\"black\" stroke-width=\"1.5\" stroke-dasharray=\"1,5\" d=\"M176.854,-71.6701C176.438,-62.8168 176.489,-53.108 177.008,-44.4642\"/>\n",
       "<polygon fill=\"black\" stroke=\"black\" stroke-width=\"1.5\" points=\"180.518,-44.4996 177.915,-34.2295 173.545,-43.8813 180.518,-44.4996\"/>\n",
       "</g>\n",
       "<!-- Restaurant -->\n",
       "<g id=\"node5\" class=\"node\"><title>Restaurant</title>\n",
       "<polygon fill=\"lightgrey\" stroke=\"black\" points=\"346.826,-36 261.826,-36 261.826,-0 346.826,-0 346.826,-36\"/>\n",
       "<text text-anchor=\"middle\" x=\"304.326\" y=\"-14.3\" font-family=\"Arial\" font-size=\"14.00\">Restaurant</text>\n",
       "</g>\n",
       "<!-- Waiter_Agent&#45;&gt;Restaurant -->\n",
       "<g id=\"edge4\" class=\"edge\"><title>Waiter_Agent&#45;&gt;Restaurant</title>\n",
       "<path fill=\"none\" stroke=\"black\" stroke-width=\"1.5\" stroke-dasharray=\"5,2\" d=\"M218.846,-71.8975C233.069,-62.0592 249.486,-51.1408 264.141,-41.7906\"/>\n",
       "<polygon fill=\"black\" stroke=\"black\" stroke-width=\"1.5\" points=\"266.415,-44.4937 273.002,-36.195 262.678,-38.575 266.415,-44.4937\"/>\n",
       "</g>\n",
       "<!-- Sommelier&#45;&gt;Waiter_Agent -->\n",
       "<g id=\"edge3\" class=\"edge\"><title>Sommelier&#45;&gt;Waiter_Agent</title>\n",
       "<path fill=\"none\" stroke=\"black\" stroke-width=\"1.5\" stroke-dasharray=\"1,5\" d=\"M188.737,-34.2295C189.691,-41.9607 190.136,-51.738 190.069,-61.3736\"/>\n",
       "<polygon fill=\"black\" stroke=\"black\" stroke-width=\"1.5\" points=\"186.563,-61.5811 189.797,-71.6701 193.56,-61.7661 186.563,-61.5811\"/>\n",
       "</g>\n",
       "<!-- Restaurant&#45;&gt;Waiter_Agent -->\n",
       "<g id=\"edge5\" class=\"edge\"><title>Restaurant&#45;&gt;Waiter_Agent</title>\n",
       "<path fill=\"none\" stroke=\"black\" stroke-width=\"1.5\" stroke-dasharray=\"5,2\" d=\"M284.277,-36.195C272.155,-44.9422 256.147,-55.888 240.437,-66.2311\"/>\n",
       "<polygon fill=\"black\" stroke=\"black\" stroke-width=\"1.5\" points=\"238.223,-63.4969 231.767,-71.8975 242.053,-69.3566 238.223,-63.4969\"/>\n",
       "</g>\n",
       "</g>\n",
       "</svg>\n"
      ],
      "text/plain": [
       "<graphviz.sources.Source at 0x22236184bf0>"
      ]
     },
     "execution_count": 42,
     "metadata": {},
     "output_type": "execute_result"
    }
   ],
   "source": [
    "draw_graph(waiter)"
   ]
  },
  {
   "cell_type": "markdown",
   "id": "3db0c440",
   "metadata": {},
   "source": [
    "## Запуск агентов в диалоговом режиме\n",
    "\n",
    "Если вы хотите пообщаться с агентом в диалоговом режиме, то вы можете использовать специальную функцию `run_demo_loop` из Agents SDK. К сожалению, эта функция не позволяет правильно передать агенту языковую модель Yandex Cloud, поэтому простой код ниже будет работать только с моделями OpenAI:"
   ]
  },
  {
   "cell_type": "code",
   "execution_count": 2,
   "id": "d3c2e83d",
   "metadata": {},
   "outputs": [],
   "source": [
    "from agents import run_demo_loop\n",
    "\n",
    "await run_demo_loop(waiter)"
   ]
  },
  {
   "cell_type": "markdown",
   "id": "659faeaa",
   "metadata": {},
   "source": [
    "Мы опишем свой аналог функции `run_demo_loop` на основе кода из Agents SDK:\n"
   ]
  },
  {
   "cell_type": "code",
   "execution_count": 26,
   "id": "f96728f6",
   "metadata": {},
   "outputs": [
    {
     "data": {
      "text/markdown": [
       "**[USER]:** хочу рыбу"
      ],
      "text/plain": [
       "<IPython.core.display.Markdown object>"
      ]
     },
     "metadata": {},
     "output_type": "display_data"
    },
    {
     "data": {
      "text/markdown": [
       "**[AGENT]:** У нас есть несколько блюд из рыбы на выбор:\n",
       "\n",
       "1. **\"Лосось в мечтах о Норвегии\"** — нежнейший лосось, запечённый с северными травами (ну, по сути, укропом) и лимонным бризом.  \n",
       "   **Цена:** 1900 руб.\n",
       "\n",
       "2. **\"Осьминог, который видел слишком много\"** — гриль-осьминог с чернильным соусом и средиземноморским шармом. Для тех, кто хочет чего-то необычного.  \n",
       "   **Цена:** 2200 руб.\n",
       "\n",
       "3. **\"Дорадо под шубой\"** — хрустящее филе дорадо в картофельной корочке с таинственным соусом \"Тайна Атлантиды\".  \n",
       "   **Цена:** 1600 руб.\n",
       "\n",
       "Хотите что-то нежное и классическое (лосось), экзотическое (осьминог) или хрустящее и сытное (дорадо)?  \n",
       "А я тем временем подберу идеальный напиток к выбранному блюду — могу вызвать агента-сомелье, чтобы всё было по высшему разряду."
      ],
      "text/plain": [
       "<IPython.core.display.Markdown object>"
      ]
     },
     "metadata": {},
     "output_type": "display_data"
    },
    {
     "data": {
      "text/markdown": [
       "**[USER]:** да,подбери вино!"
      ],
      "text/plain": [
       "<IPython.core.display.Markdown object>"
      ]
     },
     "metadata": {},
     "output_type": "display_data"
    },
    {
     "data": {
      "text/markdown": [
       "**[AGENT]:** Вы выбрали рыбу! Вот подходящие варианты блюд и рекомендации по винам:\n",
       "\n",
       "1. **\"Лосось в мечтах о Норвегии\"** — нежный запечённый лосось с лимонным бризом и \"загадочными северными травами\" (на самом деле это укроп, но мы же не будем портить атмосферу?).  \n",
       "   🍷 **Рекомендация по вину:** Лёгкое, свежее белое вино — например, **Совиньон Блан из Новой Зеландии**. Его цитрусовые и травяные нотки идеально подчеркнут вкус лосося и лимон.\n",
       "\n",
       "2. **\"Осьминог, который видел слишком много\"** — гриль-осьминог с чернильным соусом и средиземноморским характером.  \n",
       "   🍷 **Рекомендация по вину:** **Албариньо (Испания)** или **Вердехо из Рибейры-дель-Дуэро**. Эти вина обладают минеральностью и лёгкой горчинкой, которые отлично справляются с текстурой моллюсков и насыщенным соусом.\n",
       "\n",
       "3. **\"Дорадо под шубой\"** — хрустящая дорадо в картофельной корочке с таинственным соусом \"Тайна Атлантиды\".  \n",
       "   🍷 **Рекомендация по вину:** **Шардоне из Бургундии (Франция)** — не слишком дубовый, с балансом свежести и округлости. Он справится с хрустящей корочкой и подчеркнёт морской вкус рыбы.\n",
       "\n",
       "Если хотите, могу предложить игристое вино или розе — они тоже отлично идут к рыбным блюдам, особенно если вы настроены празднично!  \n",
       "Какой из вариантов вам ближе?"
      ],
      "text/plain": [
       "<IPython.core.display.Markdown object>"
      ]
     },
     "metadata": {},
     "output_type": "display_data"
    },
    {
     "data": {
      "text/markdown": [
       "**[USER]:** хочу лосося, но с вердехо. сколько будет стоит ужин?"
      ],
      "text/plain": [
       "<IPython.core.display.Markdown object>"
      ]
     },
     "metadata": {},
     "output_type": "display_data"
    },
    {
     "data": {
      "text/markdown": [
       "**[AGENT]:** Блюдо **\"Лосось в мечтах о Норвегии\"** — это запечённое филе лосося, которое по описанию можно отнести к **рыбе красной (семга) на пару или слегка запечённой**, с лёгким акцентом на свежесть и нежность.  \n",
       "\n",
       "Согласно таблице соответствий, к такому блюду отлично подходит **белое полусухое вино Вердехо** — оно обладает средней интенсивностью аромата, приятной фруктовостью и лёгкой округлостью, что гармонирует с нежным вкусом лосося и намёком на укроп и лимон.\n",
       "\n",
       "### Итак:\n",
       "- **Блюдо:** \"Лосось в мечтах о Норвегии\" — **1900 руб.**\n",
       "- **Вино:** Белое полусухое **Вердехо** — предположим среднюю цену **1200 руб.** за бутылку (в рамках ресторана)\n",
       "\n",
       "### 💰 Общая стоимость ужина:\n",
       "**1900 + 1200 = 3100 рублей**\n",
       "\n",
       "---\n",
       "\n",
       "🍷 **Рекомендация сомелье:**  \n",
       "Вердехо — отличный выбор! Его цитрусовые нотки и лёгкая маслянистость подчеркнут нежность лосося, а свежая кислотность освежит после каждого кусочка. Подавайте охлаждённым — при +8–10 °C.\n",
       "\n",
       "Приятного аппетита и удачного вечера!"
      ],
      "text/plain": [
       "<IPython.core.display.Markdown object>"
      ]
     },
     "metadata": {},
     "output_type": "display_data"
    },
    {
     "data": {
      "text/markdown": [
       "**[USER]:** exit"
      ],
      "text/plain": [
       "<IPython.core.display.Markdown object>"
      ]
     },
     "metadata": {},
     "output_type": "display_data"
    }
   ],
   "source": [
    "import logging\n",
    "logging.getLogger(\"openai.agents\").setLevel(logging.WARNING)\n",
    "\n",
    "async def run_demo_loop(agent):\n",
    "    input_items=[]\n",
    "    while True:\n",
    "        user_input = input(\" > \")\n",
    "        printx(f\"**[USER]:** {user_input}\")\n",
    "        if user_input.strip().lower() in {\"exit\", \"quit\"}:\n",
    "            break\n",
    "        if not user_input:\n",
    "            continue\n",
    "\n",
    "        input_items.append({\"role\": \"user\", \"content\": user_input})\n",
    "\n",
    "        result = await Runner.run(agent,input_items,run_config=rc)\n",
    "        if result.final_output is not None:\n",
    "            printx(f\"**[AGENT]:** {result.final_output}\")\n",
    "\n",
    "        agent = result.last_agent\n",
    "        input_items = result.to_input_list()\n",
    "\n",
    "await run_demo_loop(waiter)"
   ]
  },
  {
   "cell_type": "markdown",
   "id": "a4ca1f2f",
   "metadata": {},
   "source": [
    "## Удаляем лишнее\n",
    "\n",
    "В заключении удалим все созданные ресурсы. Для простоты мы удалим все ресурсы из текущего облака/проекта. \n",
    "\n",
    "**ВНИМАНИЕ**: Не выполняйте этот код, если у вас есть другие проекты с ассистентами в облаке!"
   ]
  },
  {
   "cell_type": "code",
   "execution_count": 36,
   "id": "93966f04",
   "metadata": {},
   "outputs": [
    {
     "name": "stdout",
     "output_type": "stream",
     "text": [
      " + Deleting file id=fvt62oo6rj1pbasoquok\n",
      " + Deleting file id=fvt99gc4f4d118i7f715\n",
      " + Deleting file id=fvt8di3dhfopb0me1ft9\n",
      " + Deleting file id=fvtughsbiokok52comc7\n",
      " + Deleting file id=fvtbphdvm7201cka1hp8\n",
      " + Deleting file id=fvtbirubkce9bsqaqeou\n",
      " + Deleting file id=fvt45s4qv63j7hfs3i3r\n",
      " + Deleting file id=fvtuv9uortq555lpih4s\n",
      " + Deleting file id=fvtem24h5qlptl56do7b\n",
      " + Deleting file id=fvt2bunktqp6aqtvuakv\n",
      " + Deleting file id=fvtkoeqo0cjralrtggce\n",
      " + Deleting file id=fvtbpce9qk1h00fl4m1i\n",
      " + Deleting file id=fvtpt4vat771f8dpc61p\n",
      " + Deleting file id=fvtq2fs17ret5keg0d5j\n",
      " + Deleting file id=fvtrlp76eiqi4lru4lbj\n",
      " + Deleting file id=fvtl49f9kan2iq9c03dp\n",
      " + Deleting file id=fvtftmdrrrfnoto1udso\n",
      " + Deleting file id=fvt89b30vkp7l2bn1mfj\n",
      " + Deleting file id=fvtvk7om1v19s9qt3lja\n",
      " + Deleting file id=fvtplbkfjq6qacb2g5ir\n",
      " + Deleting file id=fvt3d2ne30h1g2e1qj2a\n",
      " + Deleting file id=fvtgp7uif8vl1g37rdf5\n",
      " + Deleting file id=fvt69qba4682b369kd8l\n",
      " + Deleting file id=fvtotv97ebsrnecu0jsa\n",
      " + Deleting file id=fvtg2sj4j0cjbvbo8d79\n",
      " + Deleting file id=fvtv2f8na8lvvikcq506\n",
      " + Deleting file id=fvtfrb4hnh31728oup63\n",
      " + Deleting file id=fvtrgft7cqdafmeu8ugo\n",
      " + Deleting file id=fvttjd2hmtsv15tts442\n",
      " + Deleting file id=fvta6e4bi87kam74kser\n",
      " + Deleting file id=fvtgc8cpmqjmuh67naa3\n",
      " + Deleting file id=fvtcv2e8o949mkidl4mv\n",
      " + Deleting file id=fvt1m1e9ruggsvkt24m4\n",
      " + Deleting file id=fvtc5pg8vkbaerltrivf\n",
      " + Deleting file id=fvt30m5feg785i2ug0hh\n",
      " + Deleting file id=fvtp764b49c0vmbgei94\n",
      " + Deleting file id=fvtqfafg5r3nnbpo206m\n",
      " + Deleting file id=fvt08et6ohpmhdebo0os\n",
      " + Deleting file id=fvt1efli09uqvlks2jd7\n",
      " + Deleting file id=fvtp5mkhcjtfnnub9d26\n",
      " + Deleting file id=fvt8skotulvuu7o5ut99\n",
      " + Deleting file id=fvt65h2kt5hob07n67pj\n",
      " + Deleting file id=fvtj7abbo5afhu6kgvve\n",
      " + Deleting file id=fvtmr2d8g6hjjio70vui\n",
      " + Deleting file id=fvt9461aqb1i5nljbs0c\n"
     ]
    }
   ],
   "source": [
    "vector_stores = await client.vector_stores.list()\n",
    "for vs in vector_stores:\n",
    "    if isinstance(vs[1],list):\n",
    "        for v in vs[1]:\n",
    "            print(f\" + Deleting vector store id={v.id}\")\n",
    "            await client.vector_stores.delete(vector_store_id=v.id)\n",
    "\n",
    "files = await client.files.list(purpose='assistants')\n",
    "for fs in files:\n",
    "    if isinstance(fs[1],list):\n",
    "        for f in fs[1]:\n",
    "            print(f\" + Deleting file id={f.id}\")\n",
    "            await client.files.delete(file_id=f.id)"
   ]
  },
  {
   "cell_type": "markdown",
   "id": "4778d54d",
   "metadata": {},
   "source": [
    "## Выводы\n",
    "\n",
    "OpenAI Agents SDK предоставляет простые абстракции для построения систем на основе взаимодействующих агентов. При этом взаимодействие агентов, вызовы инструментов и т.д. оркестрируются LLM, т.е. мы имеем дело с гибким динамическим построением графа выполнения многоагентной системы. Для более жесткого подхода, в котором переходы между агентами контролируются, можно использовать фреймворк LangGraph."
   ]
  }
 ],
 "metadata": {
  "kernelspec": {
   "display_name": "mas",
   "language": "python",
   "name": "python3"
  },
  "language_info": {
   "codemirror_mode": {
    "name": "ipython",
    "version": 3
   },
   "file_extension": ".py",
   "mimetype": "text/x-python",
   "name": "python",
   "nbconvert_exporter": "python",
   "pygments_lexer": "ipython3",
   "version": "3.12.0"
  }
 },
 "nbformat": 4,
 "nbformat_minor": 5
}
