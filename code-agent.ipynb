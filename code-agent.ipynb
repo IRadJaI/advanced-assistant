{
 "cells": [
  {
   "cell_type": "markdown",
   "id": "c36afcda",
   "metadata": {},
   "source": [
    "# Code Agents\n",
    "\n",
    "При создании многоагентных систем, у нас есть компромисс между гибкостью и управляемостью системы. Управляемые системы обычно действуют на основе некоторых прописанных переходов и коммуникаций между агентами, в то время как в гибких системах LLM-агенты могут принимать решения и строить последовательности вызова инструкментов на основе своих знаний и опыта.\n",
    "\n",
    "Такие системы могут быть построены на основе кодогенерации, когда LLM генерирует код на Python для решения задачи, использующий предоставленные инструменты, который затем выполняется в некоторой контролируемой песочнице.\n",
    "\n",
    "Для демонстрации такого подхода используем фреймворк [smolagents](https://github.com/huggingface/smolagents)."
   ]
  },
  {
   "cell_type": "code",
   "execution_count": null,
   "id": "d54e30b2",
   "metadata": {},
   "outputs": [],
   "source": [
    "%pip install smolagents[mcp]"
   ]
  },
  {
   "cell_type": "markdown",
   "id": "e9461d71",
   "metadata": {},
   "source": [
    "## Простейший пример\n",
    "\n",
    "Рассмотрим простейший пример, когда мы даём агенту возможность поиска в интернет. Для этого будем использовать доступный \"из коробки\" инструмент `DuckDuckGoSearchTool`.\n",
    "\n",
    "Для работы с YandexGPT будем использовать [OpenAI-совместимое API](https://yandex.cloud/ru/docs/foundation-models/concepts/openai-compatibility). Вы можете попробовать модели YandexGPT 5 или Llama.\n",
    "\n",
    "> **ВАЖНО**: При использовании YandexGPT 5 необходимо передать ключ `flatten_messages_as_text = True`, поскольку составные запросы, включающие текст и изображения, пока не поддерживаются.\n",
    "\n",
    "Для начала убедимся, что языковая модель работает:"
   ]
  },
  {
   "cell_type": "code",
   "execution_count": 3,
   "id": "c9ff23da",
   "metadata": {},
   "outputs": [],
   "source": [
    "from smolagents import OpenAIServerModel, CodeAgent, DuckDuckGoSearchTool\n",
    "import os\n",
    "\n",
    "ygpt_model = OpenAIServerModel(api_key=os.environ['api_key'], \n",
    "                           model_id=f\"gpt://{os.environ['folder_id']}/yandexgpt/rc\",\n",
    "                           #model_id=f\"gpt://{os.environ['folder_id']}/llama/rc\",\n",
    "                           api_base=\"https://llm.api.cloud.yandex.net/v1\",\n",
    "                           flatten_messages_as_text = True\n",
    ")"
   ]
  },
  {
   "cell_type": "markdown",
   "id": "3934f74c",
   "metadata": {},
   "source": [
    "Теперь создадим агента с инструментом поиска в интернет, и зададим ему какой-нибудь вопрос:"
   ]
  },
  {
   "cell_type": "code",
   "execution_count": 2,
   "id": "ec72aea6",
   "metadata": {},
   "outputs": [
    {
     "data": {
      "text/html": [
       "<pre style=\"white-space:pre;overflow-x:auto;line-height:normal;font-family:Menlo,'DejaVu Sans Mono',consolas,'Courier New',monospace\"><span style=\"color: #d4b702; text-decoration-color: #d4b702\">╭──────────────────────────────────────────────────── </span><span style=\"color: #d4b702; text-decoration-color: #d4b702; font-weight: bold\">New run</span><span style=\"color: #d4b702; text-decoration-color: #d4b702\"> ────────────────────────────────────────────────────╮</span>\n",
       "<span style=\"color: #d4b702; text-decoration-color: #d4b702\">│</span>                                                                                                                 <span style=\"color: #d4b702; text-decoration-color: #d4b702\">│</span>\n",
       "<span style=\"color: #d4b702; text-decoration-color: #d4b702\">│</span> <span style=\"font-weight: bold\">Напиши список из трёх лучших вин, подходящих к стейку с кровью, и их цены</span>                                       <span style=\"color: #d4b702; text-decoration-color: #d4b702\">│</span>\n",
       "<span style=\"color: #d4b702; text-decoration-color: #d4b702\">│</span>                                                                                                                 <span style=\"color: #d4b702; text-decoration-color: #d4b702\">│</span>\n",
       "<span style=\"color: #d4b702; text-decoration-color: #d4b702\">╰─ OpenAIServerModel - gpt://b1gbicod0scglhd49qs0/yandexgpt/rc ───────────────────────────────────────────────────╯</span>\n",
       "</pre>\n"
      ],
      "text/plain": [
       "\u001b[38;2;212;183;2m╭─\u001b[0m\u001b[38;2;212;183;2m───────────────────────────────────────────────────\u001b[0m\u001b[38;2;212;183;2m \u001b[0m\u001b[1;38;2;212;183;2mNew run\u001b[0m\u001b[38;2;212;183;2m \u001b[0m\u001b[38;2;212;183;2m───────────────────────────────────────────────────\u001b[0m\u001b[38;2;212;183;2m─╮\u001b[0m\n",
       "\u001b[38;2;212;183;2m│\u001b[0m                                                                                                                 \u001b[38;2;212;183;2m│\u001b[0m\n",
       "\u001b[38;2;212;183;2m│\u001b[0m \u001b[1mНапиши список из трёх лучших вин, подходящих к стейку с кровью, и их цены\u001b[0m                                       \u001b[38;2;212;183;2m│\u001b[0m\n",
       "\u001b[38;2;212;183;2m│\u001b[0m                                                                                                                 \u001b[38;2;212;183;2m│\u001b[0m\n",
       "\u001b[38;2;212;183;2m╰─\u001b[0m\u001b[38;2;212;183;2m OpenAIServerModel - gpt://b1gbicod0scglhd49qs0/yandexgpt/rc \u001b[0m\u001b[38;2;212;183;2m──────────────────────────────────────────────────\u001b[0m\u001b[38;2;212;183;2m─╯\u001b[0m\n"
      ]
     },
     "metadata": {},
     "output_type": "display_data"
    },
    {
     "data": {
      "text/html": [
       "<pre style=\"white-space:pre;overflow-x:auto;line-height:normal;font-family:Menlo,'DejaVu Sans Mono',consolas,'Courier New',monospace\"><span style=\"color: #d4b702; text-decoration-color: #d4b702\">━━━━━━━━━━━━━━━━━━━━━━━━━━━━━━━━━━━━━━━━━━━━━━━━━━━━━ </span><span style=\"font-weight: bold\">Step </span><span style=\"color: #008080; text-decoration-color: #008080; font-weight: bold\">1</span><span style=\"color: #d4b702; text-decoration-color: #d4b702\"> ━━━━━━━━━━━━━━━━━━━━━━━━━━━━━━━━━━━━━━━━━━━━━━━━━━━━━━</span>\n",
       "</pre>\n"
      ],
      "text/plain": [
       "\u001b[38;2;212;183;2m━━━━━━━━━━━━━━━━━━━━━━━━━━━━━━━━━━━━━━━━━━━━━━━━━━━━━ \u001b[0m\u001b[1mStep \u001b[0m\u001b[1;36m1\u001b[0m\u001b[38;2;212;183;2m ━━━━━━━━━━━━━━━━━━━━━━━━━━━━━━━━━━━━━━━━━━━━━━━━━━━━━━\u001b[0m\n"
      ]
     },
     "metadata": {},
     "output_type": "display_data"
    },
    {
     "data": {
      "text/html": [
       "<pre style=\"white-space:pre;overflow-x:auto;line-height:normal;font-family:Menlo,'DejaVu Sans Mono',consolas,'Courier New',monospace\"> ─ <span style=\"font-weight: bold\">Executing parsed code:</span> ──────────────────────────────────────────────────────────────────────────────────────── \n",
       "  <span style=\"color: #f8f8f2; text-decoration-color: #f8f8f2; background-color: #272822\">wines_info </span><span style=\"color: #ff4689; text-decoration-color: #ff4689; background-color: #272822\">=</span><span style=\"color: #f8f8f2; text-decoration-color: #f8f8f2; background-color: #272822\"> web_search(query</span><span style=\"color: #ff4689; text-decoration-color: #ff4689; background-color: #272822\">=</span><span style=\"color: #e6db74; text-decoration-color: #e6db74; background-color: #272822\">\"три лучших вина, подходящих к стейку с кровью и их цены\"</span><span style=\"color: #f8f8f2; text-decoration-color: #f8f8f2; background-color: #272822\">)</span><span style=\"background-color: #272822\">                       </span>  \n",
       "  <span style=\"color: #f8f8f2; text-decoration-color: #f8f8f2; background-color: #272822\">print(wines_info)</span><span style=\"background-color: #272822\">                                                                                              </span>  \n",
       " ───────────────────────────────────────────────────────────────────────────────────────────────────────────────── \n",
       "</pre>\n"
      ],
      "text/plain": [
       " ─ \u001b[1mExecuting parsed code:\u001b[0m ──────────────────────────────────────────────────────────────────────────────────────── \n",
       "  \u001b[38;2;248;248;242;48;2;39;40;34mwines_info\u001b[0m\u001b[38;2;248;248;242;48;2;39;40;34m \u001b[0m\u001b[38;2;255;70;137;48;2;39;40;34m=\u001b[0m\u001b[38;2;248;248;242;48;2;39;40;34m \u001b[0m\u001b[38;2;248;248;242;48;2;39;40;34mweb_search\u001b[0m\u001b[38;2;248;248;242;48;2;39;40;34m(\u001b[0m\u001b[38;2;248;248;242;48;2;39;40;34mquery\u001b[0m\u001b[38;2;255;70;137;48;2;39;40;34m=\u001b[0m\u001b[38;2;230;219;116;48;2;39;40;34m\"\u001b[0m\u001b[38;2;230;219;116;48;2;39;40;34mтри лучших вина, подходящих к стейку с кровью и их цены\u001b[0m\u001b[38;2;230;219;116;48;2;39;40;34m\"\u001b[0m\u001b[38;2;248;248;242;48;2;39;40;34m)\u001b[0m\u001b[48;2;39;40;34m                       \u001b[0m  \n",
       "  \u001b[38;2;248;248;242;48;2;39;40;34mprint\u001b[0m\u001b[38;2;248;248;242;48;2;39;40;34m(\u001b[0m\u001b[38;2;248;248;242;48;2;39;40;34mwines_info\u001b[0m\u001b[38;2;248;248;242;48;2;39;40;34m)\u001b[0m\u001b[48;2;39;40;34m                                                                                              \u001b[0m  \n",
       " ───────────────────────────────────────────────────────────────────────────────────────────────────────────────── \n"
      ]
     },
     "metadata": {},
     "output_type": "display_data"
    },
    {
     "data": {
      "text/html": [
       "<pre style=\"white-space:pre;overflow-x:auto;line-height:normal;font-family:Menlo,'DejaVu Sans Mono',consolas,'Courier New',monospace\"><span style=\"color: #800000; text-decoration-color: #800000; font-weight: bold\">Code execution failed at line </span><span style=\"color: #008000; text-decoration-color: #008000\">'wines_info = web_search(query=\"три лучших вина, подходящих к стейку с кровью и их </span>\n",
       "<span style=\"color: #008000; text-decoration-color: #008000\">цены\")'</span><span style=\"color: #800000; text-decoration-color: #800000; font-weight: bold\"> due to: DuckDuckGoSearchException: </span><span style=\"color: #0000ff; text-decoration-color: #0000ff; text-decoration: underline\">https://lite.duckduckgo.com/lite/</span><span style=\"color: #800000; text-decoration-color: #800000; font-weight: bold\"> </span><span style=\"color: #008080; text-decoration-color: #008080; font-weight: bold\">202</span><span style=\"color: #800000; text-decoration-color: #800000; font-weight: bold\"> Ratelimit</span>\n",
       "</pre>\n"
      ],
      "text/plain": [
       "\u001b[1;31mCode execution failed at line \u001b[0m\u001b[32m'wines_info = web_search\u001b[0m\u001b[32m(\u001b[0m\u001b[32mquery\u001b[0m\u001b[32m=\u001b[0m\u001b[32m\"три\u001b[0m\u001b[32m лучших вина, подходящих к стейку с кровью и их \u001b[0m\n",
       "\u001b[32mцены\"\u001b[0m\u001b[32m)\u001b[0m\u001b[32m'\u001b[0m\u001b[1;31m due to: DuckDuckGoSearchException: \u001b[0m\u001b[4;94mhttps://lite.duckduckgo.com/lite/\u001b[0m\u001b[1;31m \u001b[0m\u001b[1;36m202\u001b[0m\u001b[1;31m Ratelimit\u001b[0m\n"
      ]
     },
     "metadata": {},
     "output_type": "display_data"
    },
    {
     "data": {
      "text/html": [
       "<pre style=\"white-space:pre;overflow-x:auto;line-height:normal;font-family:Menlo,'DejaVu Sans Mono',consolas,'Courier New',monospace\"><span style=\"color: #7f7f7f; text-decoration-color: #7f7f7f\">[Step 1: Duration 3.47 seconds| Input tokens: 2,320 | Output tokens: 73]</span>\n",
       "</pre>\n"
      ],
      "text/plain": [
       "\u001b[2m[Step 1: Duration 3.47 seconds| Input tokens: 2,320 | Output tokens: 73]\u001b[0m\n"
      ]
     },
     "metadata": {},
     "output_type": "display_data"
    },
    {
     "data": {
      "text/html": [
       "<pre style=\"white-space:pre;overflow-x:auto;line-height:normal;font-family:Menlo,'DejaVu Sans Mono',consolas,'Courier New',monospace\"><span style=\"color: #d4b702; text-decoration-color: #d4b702\">━━━━━━━━━━━━━━━━━━━━━━━━━━━━━━━━━━━━━━━━━━━━━━━━━━━━━ </span><span style=\"font-weight: bold\">Step </span><span style=\"color: #008080; text-decoration-color: #008080; font-weight: bold\">2</span><span style=\"color: #d4b702; text-decoration-color: #d4b702\"> ━━━━━━━━━━━━━━━━━━━━━━━━━━━━━━━━━━━━━━━━━━━━━━━━━━━━━━</span>\n",
       "</pre>\n"
      ],
      "text/plain": [
       "\u001b[38;2;212;183;2m━━━━━━━━━━━━━━━━━━━━━━━━━━━━━━━━━━━━━━━━━━━━━━━━━━━━━ \u001b[0m\u001b[1mStep \u001b[0m\u001b[1;36m2\u001b[0m\u001b[38;2;212;183;2m ━━━━━━━━━━━━━━━━━━━━━━━━━━━━━━━━━━━━━━━━━━━━━━━━━━━━━━\u001b[0m\n"
      ]
     },
     "metadata": {},
     "output_type": "display_data"
    },
    {
     "data": {
      "text/html": [
       "<pre style=\"white-space:pre;overflow-x:auto;line-height:normal;font-family:Menlo,'DejaVu Sans Mono',consolas,'Courier New',monospace\"> ─ <span style=\"font-weight: bold\">Executing parsed code:</span> ──────────────────────────────────────────────────────────────────────────────────────── \n",
       "  <span style=\"color: #f8f8f2; text-decoration-color: #f8f8f2; background-color: #272822\">wines </span><span style=\"color: #ff4689; text-decoration-color: #ff4689; background-color: #272822\">=</span><span style=\"color: #f8f8f2; text-decoration-color: #f8f8f2; background-color: #272822\"> web_search(query</span><span style=\"color: #ff4689; text-decoration-color: #ff4689; background-color: #272822\">=</span><span style=\"color: #e6db74; text-decoration-color: #e6db74; background-color: #272822\">\"три лучших вина, подходящих к стейку с кровью\"</span><span style=\"color: #f8f8f2; text-decoration-color: #f8f8f2; background-color: #272822\">)</span><span style=\"background-color: #272822\">                                      </span>  \n",
       "  <span style=\"color: #f8f8f2; text-decoration-color: #f8f8f2; background-color: #272822\">print(wines)</span><span style=\"background-color: #272822\">                                                                                                   </span>  \n",
       " ───────────────────────────────────────────────────────────────────────────────────────────────────────────────── \n",
       "</pre>\n"
      ],
      "text/plain": [
       " ─ \u001b[1mExecuting parsed code:\u001b[0m ──────────────────────────────────────────────────────────────────────────────────────── \n",
       "  \u001b[38;2;248;248;242;48;2;39;40;34mwines\u001b[0m\u001b[38;2;248;248;242;48;2;39;40;34m \u001b[0m\u001b[38;2;255;70;137;48;2;39;40;34m=\u001b[0m\u001b[38;2;248;248;242;48;2;39;40;34m \u001b[0m\u001b[38;2;248;248;242;48;2;39;40;34mweb_search\u001b[0m\u001b[38;2;248;248;242;48;2;39;40;34m(\u001b[0m\u001b[38;2;248;248;242;48;2;39;40;34mquery\u001b[0m\u001b[38;2;255;70;137;48;2;39;40;34m=\u001b[0m\u001b[38;2;230;219;116;48;2;39;40;34m\"\u001b[0m\u001b[38;2;230;219;116;48;2;39;40;34mтри лучших вина, подходящих к стейку с кровью\u001b[0m\u001b[38;2;230;219;116;48;2;39;40;34m\"\u001b[0m\u001b[38;2;248;248;242;48;2;39;40;34m)\u001b[0m\u001b[48;2;39;40;34m                                      \u001b[0m  \n",
       "  \u001b[38;2;248;248;242;48;2;39;40;34mprint\u001b[0m\u001b[38;2;248;248;242;48;2;39;40;34m(\u001b[0m\u001b[38;2;248;248;242;48;2;39;40;34mwines\u001b[0m\u001b[38;2;248;248;242;48;2;39;40;34m)\u001b[0m\u001b[48;2;39;40;34m                                                                                                   \u001b[0m  \n",
       " ───────────────────────────────────────────────────────────────────────────────────────────────────────────────── \n"
      ]
     },
     "metadata": {},
     "output_type": "display_data"
    },
    {
     "data": {
      "text/html": [
       "<pre style=\"white-space:pre;overflow-x:auto;line-height:normal;font-family:Menlo,'DejaVu Sans Mono',consolas,'Courier New',monospace\"><span style=\"font-weight: bold\">Execution logs:</span>\n",
       "## Search Results\n",
       "\n",
       "[Что лучше взять к огромному стейку с кровью, пиво, вино или вообще ...](https://otvet.mail.ru/question/202558506)\n",
       "Что лучше взять к огромному стейку с кровью, пиво, вино или вообще водочки? Побольше зелени. Красное вино! не \n",
       "сладкое, а именно терпкое.... Пользователь dzho_blek_229 написал пост и получил на него 16 ответов. Узнайте, что \n",
       "считают другие, поделитесь своей точкой зрения и найдите единомышленников — в Ответах Mail 💙.\n",
       "\n",
       "[Вино к стейку — какое вино лучше подойдет к стейку из говядины, какой \n",
       "...](https://luding.ru/gastronomy/sochetaemost/vino-pod-steyk/)\n",
       "Шатобриан (chateaubriand) — самый постный стейк, которому нужна высокая кислотность бургундского пино нуара или \n",
       "кьянти. Можно выбрать бордо или насыщенное розе. Стейк- или бифштекс-тартар (tartar de boeuf) ― практически сырое \n",
       "мясо, его готовят с приправами, луком, гренками.\n",
       "\n",
       "[3 лучших вина к стейку: наслаждайтесь идеальным сочетанием](https://dzen.ru/a/Z5upJvVWjEdC2LYw)\n",
       "Если вы планируете ужин с сочным стейком, не забудьте подобрать к нему достойное вино. Мы собрали для вас три \n",
       "великолепных красных сухих вина, которые идеально дополнят вкус мяса! 🔹 Old Bridge Красное сухое Арени Резервное. \n",
       "Вино обладает насыщенным вкусом и богатым ароматом, где преобладают ноты тёмных ягод и лёгкие пряные оттенки.\n",
       "\n",
       "[Разбираемся в стейках и подбираем под них достойные \n",
       "вина](https://swn.ru/articles/razbiraemsya-v-steykakh-i-podbiraem-pod-nikh-dostoynye-vina)\n",
       "Рекомендуемые вина: бордо / каберне совиньон из Тосканы / красные вина с Сицилии (сорта неро д'авола, мерло).\n",
       "\n",
       "[Какое вино лучше пить со стейком | Блог Винного дома Мильстрим](https://millstream-wines.ru/blog/7886/)\n",
       "Какое вино лучше пить со стейком? Наслаждение сочным и ароматным стейком - это настоящее искусство, а правильно \n",
       "подобранное вино может превратить ваш опыт во что-то незабываемое. В этой статье хотели бы поделиться с вами \n",
       "некоторыми советами о сочетании вин и стейка.\n",
       "\n",
       "[Как подобрать вино к стейку | \n",
       "Barrique.wine](https://barrique.wine/blog/articles/idealnoe-vino-k-steyku-ischerpyvayushchee-rukovodstvo-po-garmoni\n",
       "chnym-sochetaniyam/)\n",
       "Физиология вкуса объясняет, почему определенные вина идеально дополняют стейк. Жиры в мясе смягчают восприятие \n",
       "танинов, делая даже молодые красные вина более округлыми и гармоничными. В то же время танины помогают \"очистить\" \n",
       "нёбо от ощущения жирности, подготавливая его к следующему кусочку.\n",
       "\n",
       "[Какое вино подходит к стейку — помогаем разобраться, чем запивать мясо \n",
       "...](https://primebeef.ru/blog/vybiraem_vino_k_stejku/)\n",
       "Какое вино подходит к стейку — помогаем разобраться, чем запивать мясо. Особенно — мраморную говядину. Сервис по \n",
       "выбору вина Invisible.ru коротко и по делу рассказывает про то, чем запить кусок говядины. Подразумеваем мясо, \n",
       "приготовленное просто: оливковое масло, кусочек сливочного, чеснок, ветка розмарина, — и на огонь.\n",
       "\n",
       "[Как правильно подобрать вино к красному мясу. Часть 1. \n",
       "Говядина](https://valentinawine.com/kakoe-vino-podoidet-k-myasu/)\n",
       "Вино обладает бархатными танинами и высокой кислотность, что как нельзя лучше подойдёт к стейку из филе или \n",
       "запечённой вырезке с кровью.\n",
       "\n",
       "[Идеальное сочетание: как подобрать вино к \n",
       "стейку/](https://vk.com/@simple_meal-idealnoe-sochetanie-kak-podobrat-vino-k-steiku)\n",
       "Вот примеры вин, которые сделают ужин незабываемым: Bouchard Aine &amp; Fils, Pommard, 2013. Красное сухое вино, \n",
       "насыщенное танинами. Вкус у напитка богатый, с оттенками спелой вишни, дуба, пряностей и длительным послевкусием. \n",
       "Обладает сложным фруктовым ароматом с доминирующими оттенками вишни, сливы, земли и инжира.\n",
       "\n",
       "[Какое вино подобрать к стейку из \n",
       "говядины](https://strongwine.ru/articles/vino/gastronomiia/poleznoe-rukovodstvo-po-sochetaniiu-vina-i-steika/)\n",
       "Сочетание вина и стейка - одна из важнейших гастрономических пар. Благодаря огромному разнообразию способов \n",
       "приготовления стейка вы можете столкнуться с проблемой выбора подходящего напитка. Заправьте салфетку за воротник, \n",
       "возьмите нож и давайте попробуем выбрать лучшее вино для стейка.\n",
       "\n",
       "Out: None\n",
       "</pre>\n"
      ],
      "text/plain": [
       "\u001b[1mExecution logs:\u001b[0m\n",
       "## Search Results\n",
       "\n",
       "[Что лучше взять к огромному стейку с кровью, пиво, вино или вообще ...](https://otvet.mail.ru/question/202558506)\n",
       "Что лучше взять к огромному стейку с кровью, пиво, вино или вообще водочки? Побольше зелени. Красное вино! не \n",
       "сладкое, а именно терпкое.... Пользователь dzho_blek_229 написал пост и получил на него 16 ответов. Узнайте, что \n",
       "считают другие, поделитесь своей точкой зрения и найдите единомышленников — в Ответах Mail 💙.\n",
       "\n",
       "[Вино к стейку — какое вино лучше подойдет к стейку из говядины, какой \n",
       "...](https://luding.ru/gastronomy/sochetaemost/vino-pod-steyk/)\n",
       "Шатобриан (chateaubriand) — самый постный стейк, которому нужна высокая кислотность бургундского пино нуара или \n",
       "кьянти. Можно выбрать бордо или насыщенное розе. Стейк- или бифштекс-тартар (tartar de boeuf) ― практически сырое \n",
       "мясо, его готовят с приправами, луком, гренками.\n",
       "\n",
       "[3 лучших вина к стейку: наслаждайтесь идеальным сочетанием](https://dzen.ru/a/Z5upJvVWjEdC2LYw)\n",
       "Если вы планируете ужин с сочным стейком, не забудьте подобрать к нему достойное вино. Мы собрали для вас три \n",
       "великолепных красных сухих вина, которые идеально дополнят вкус мяса! 🔹 Old Bridge Красное сухое Арени Резервное. \n",
       "Вино обладает насыщенным вкусом и богатым ароматом, где преобладают ноты тёмных ягод и лёгкие пряные оттенки.\n",
       "\n",
       "[Разбираемся в стейках и подбираем под них достойные \n",
       "вина](https://swn.ru/articles/razbiraemsya-v-steykakh-i-podbiraem-pod-nikh-dostoynye-vina)\n",
       "Рекомендуемые вина: бордо / каберне совиньон из Тосканы / красные вина с Сицилии (сорта неро д'авола, мерло).\n",
       "\n",
       "[Какое вино лучше пить со стейком | Блог Винного дома Мильстрим](https://millstream-wines.ru/blog/7886/)\n",
       "Какое вино лучше пить со стейком? Наслаждение сочным и ароматным стейком - это настоящее искусство, а правильно \n",
       "подобранное вино может превратить ваш опыт во что-то незабываемое. В этой статье хотели бы поделиться с вами \n",
       "некоторыми советами о сочетании вин и стейка.\n",
       "\n",
       "[Как подобрать вино к стейку | \n",
       "Barrique.wine](https://barrique.wine/blog/articles/idealnoe-vino-k-steyku-ischerpyvayushchee-rukovodstvo-po-garmoni\n",
       "chnym-sochetaniyam/)\n",
       "Физиология вкуса объясняет, почему определенные вина идеально дополняют стейк. Жиры в мясе смягчают восприятие \n",
       "танинов, делая даже молодые красные вина более округлыми и гармоничными. В то же время танины помогают \"очистить\" \n",
       "нёбо от ощущения жирности, подготавливая его к следующему кусочку.\n",
       "\n",
       "[Какое вино подходит к стейку — помогаем разобраться, чем запивать мясо \n",
       "...](https://primebeef.ru/blog/vybiraem_vino_k_stejku/)\n",
       "Какое вино подходит к стейку — помогаем разобраться, чем запивать мясо. Особенно — мраморную говядину. Сервис по \n",
       "выбору вина Invisible.ru коротко и по делу рассказывает про то, чем запить кусок говядины. Подразумеваем мясо, \n",
       "приготовленное просто: оливковое масло, кусочек сливочного, чеснок, ветка розмарина, — и на огонь.\n",
       "\n",
       "[Как правильно подобрать вино к красному мясу. Часть 1. \n",
       "Говядина](https://valentinawine.com/kakoe-vino-podoidet-k-myasu/)\n",
       "Вино обладает бархатными танинами и высокой кислотность, что как нельзя лучше подойдёт к стейку из филе или \n",
       "запечённой вырезке с кровью.\n",
       "\n",
       "[Идеальное сочетание: как подобрать вино к \n",
       "стейку/](https://vk.com/@simple_meal-idealnoe-sochetanie-kak-podobrat-vino-k-steiku)\n",
       "Вот примеры вин, которые сделают ужин незабываемым: Bouchard Aine & Fils, Pommard, 2013. Красное сухое вино, \n",
       "насыщенное танинами. Вкус у напитка богатый, с оттенками спелой вишни, дуба, пряностей и длительным послевкусием. \n",
       "Обладает сложным фруктовым ароматом с доминирующими оттенками вишни, сливы, земли и инжира.\n",
       "\n",
       "[Какое вино подобрать к стейку из \n",
       "говядины](https://strongwine.ru/articles/vino/gastronomiia/poleznoe-rukovodstvo-po-sochetaniiu-vina-i-steika/)\n",
       "Сочетание вина и стейка - одна из важнейших гастрономических пар. Благодаря огромному разнообразию способов \n",
       "приготовления стейка вы можете столкнуться с проблемой выбора подходящего напитка. Заправьте салфетку за воротник, \n",
       "возьмите нож и давайте попробуем выбрать лучшее вино для стейка.\n",
       "\n",
       "Out: None\n"
      ]
     },
     "metadata": {},
     "output_type": "display_data"
    },
    {
     "data": {
      "text/html": [
       "<pre style=\"white-space:pre;overflow-x:auto;line-height:normal;font-family:Menlo,'DejaVu Sans Mono',consolas,'Courier New',monospace\"><span style=\"color: #7f7f7f; text-decoration-color: #7f7f7f\">[Step 2: Duration 3.54 seconds| Input tokens: 4,895 | Output tokens: 144]</span>\n",
       "</pre>\n"
      ],
      "text/plain": [
       "\u001b[2m[Step 2: Duration 3.54 seconds| Input tokens: 4,895 | Output tokens: 144]\u001b[0m\n"
      ]
     },
     "metadata": {},
     "output_type": "display_data"
    },
    {
     "data": {
      "text/html": [
       "<pre style=\"white-space:pre;overflow-x:auto;line-height:normal;font-family:Menlo,'DejaVu Sans Mono',consolas,'Courier New',monospace\"><span style=\"color: #d4b702; text-decoration-color: #d4b702\">━━━━━━━━━━━━━━━━━━━━━━━━━━━━━━━━━━━━━━━━━━━━━━━━━━━━━ </span><span style=\"font-weight: bold\">Step </span><span style=\"color: #008080; text-decoration-color: #008080; font-weight: bold\">3</span><span style=\"color: #d4b702; text-decoration-color: #d4b702\"> ━━━━━━━━━━━━━━━━━━━━━━━━━━━━━━━━━━━━━━━━━━━━━━━━━━━━━━</span>\n",
       "</pre>\n"
      ],
      "text/plain": [
       "\u001b[38;2;212;183;2m━━━━━━━━━━━━━━━━━━━━━━━━━━━━━━━━━━━━━━━━━━━━━━━━━━━━━ \u001b[0m\u001b[1mStep \u001b[0m\u001b[1;36m3\u001b[0m\u001b[38;2;212;183;2m ━━━━━━━━━━━━━━━━━━━━━━━━━━━━━━━━━━━━━━━━━━━━━━━━━━━━━━\u001b[0m\n"
      ]
     },
     "metadata": {},
     "output_type": "display_data"
    },
    {
     "data": {
      "text/html": [
       "<pre style=\"white-space:pre;overflow-x:auto;line-height:normal;font-family:Menlo,'DejaVu Sans Mono',consolas,'Courier New',monospace\"> ─ <span style=\"font-weight: bold\">Executing parsed code:</span> ──────────────────────────────────────────────────────────────────────────────────────── \n",
       "  <span style=\"color: #f8f8f2; text-decoration-color: #f8f8f2; background-color: #272822\">price_aren_reserve </span><span style=\"color: #ff4689; text-decoration-color: #ff4689; background-color: #272822\">=</span><span style=\"color: #f8f8f2; text-decoration-color: #f8f8f2; background-color: #272822\"> web_search(query</span><span style=\"color: #ff4689; text-decoration-color: #ff4689; background-color: #272822\">=</span><span style=\"color: #e6db74; text-decoration-color: #e6db74; background-color: #272822\">\"Old Bridge Красное сухое Арени Резервное цена\"</span><span style=\"color: #f8f8f2; text-decoration-color: #f8f8f2; background-color: #272822\">)</span><span style=\"background-color: #272822\">                         </span>  \n",
       "  <span style=\"color: #f8f8f2; text-decoration-color: #f8f8f2; background-color: #272822\">print(</span><span style=\"color: #e6db74; text-decoration-color: #e6db74; background-color: #272822\">f\"Old Bridge Красное сухое Арени Резервное: {</span><span style=\"color: #f8f8f2; text-decoration-color: #f8f8f2; background-color: #272822\">price_aren_reserve</span><span style=\"color: #e6db74; text-decoration-color: #e6db74; background-color: #272822\">}\"</span><span style=\"color: #f8f8f2; text-decoration-color: #f8f8f2; background-color: #272822\">)</span><span style=\"background-color: #272822\">                                       </span>  \n",
       "  <span style=\"background-color: #272822\">                                                                                                               </span>  \n",
       "  <span style=\"color: #f8f8f2; text-decoration-color: #f8f8f2; background-color: #272822\">price_bouchard_pommard </span><span style=\"color: #ff4689; text-decoration-color: #ff4689; background-color: #272822\">=</span><span style=\"color: #f8f8f2; text-decoration-color: #f8f8f2; background-color: #272822\"> web_search(query</span><span style=\"color: #ff4689; text-decoration-color: #ff4689; background-color: #272822\">=</span><span style=\"color: #e6db74; text-decoration-color: #e6db74; background-color: #272822\">\"Bouchard Aine &amp; Fils, Pommard, 2013 цена\"</span><span style=\"color: #f8f8f2; text-decoration-color: #f8f8f2; background-color: #272822\">)</span><span style=\"background-color: #272822\">                          </span>  \n",
       "  <span style=\"color: #f8f8f2; text-decoration-color: #f8f8f2; background-color: #272822\">print(</span><span style=\"color: #e6db74; text-decoration-color: #e6db74; background-color: #272822\">f\"Bouchard Aine &amp; Fils, Pommard, 2013: {</span><span style=\"color: #f8f8f2; text-decoration-color: #f8f8f2; background-color: #272822\">price_bouchard_pommard</span><span style=\"color: #e6db74; text-decoration-color: #e6db74; background-color: #272822\">}\"</span><span style=\"color: #f8f8f2; text-decoration-color: #f8f8f2; background-color: #272822\">)</span><span style=\"background-color: #272822\">                                        </span>  \n",
       "  <span style=\"background-color: #272822\">                                                                                                               </span>  \n",
       "  <span style=\"color: #f8f8f2; text-decoration-color: #f8f8f2; background-color: #272822\">price_bordeaux </span><span style=\"color: #ff4689; text-decoration-color: #ff4689; background-color: #272822\">=</span><span style=\"color: #f8f8f2; text-decoration-color: #f8f8f2; background-color: #272822\"> web_search(query</span><span style=\"color: #ff4689; text-decoration-color: #ff4689; background-color: #272822\">=</span><span style=\"color: #e6db74; text-decoration-color: #e6db74; background-color: #272822\">\"бордо цена\"</span><span style=\"color: #f8f8f2; text-decoration-color: #f8f8f2; background-color: #272822\">)</span><span style=\"background-color: #272822\">                                                                </span>  \n",
       "  <span style=\"color: #f8f8f2; text-decoration-color: #f8f8f2; background-color: #272822\">print(</span><span style=\"color: #e6db74; text-decoration-color: #e6db74; background-color: #272822\">f\"Бордо: {</span><span style=\"color: #f8f8f2; text-decoration-color: #f8f8f2; background-color: #272822\">price_bordeaux</span><span style=\"color: #e6db74; text-decoration-color: #e6db74; background-color: #272822\">}\"</span><span style=\"color: #f8f8f2; text-decoration-color: #f8f8f2; background-color: #272822\">)</span><span style=\"background-color: #272822\">                                                                              </span>  \n",
       " ───────────────────────────────────────────────────────────────────────────────────────────────────────────────── \n",
       "</pre>\n"
      ],
      "text/plain": [
       " ─ \u001b[1mExecuting parsed code:\u001b[0m ──────────────────────────────────────────────────────────────────────────────────────── \n",
       "  \u001b[38;2;248;248;242;48;2;39;40;34mprice_aren_reserve\u001b[0m\u001b[38;2;248;248;242;48;2;39;40;34m \u001b[0m\u001b[38;2;255;70;137;48;2;39;40;34m=\u001b[0m\u001b[38;2;248;248;242;48;2;39;40;34m \u001b[0m\u001b[38;2;248;248;242;48;2;39;40;34mweb_search\u001b[0m\u001b[38;2;248;248;242;48;2;39;40;34m(\u001b[0m\u001b[38;2;248;248;242;48;2;39;40;34mquery\u001b[0m\u001b[38;2;255;70;137;48;2;39;40;34m=\u001b[0m\u001b[38;2;230;219;116;48;2;39;40;34m\"\u001b[0m\u001b[38;2;230;219;116;48;2;39;40;34mOld Bridge Красное сухое Арени Резервное цена\u001b[0m\u001b[38;2;230;219;116;48;2;39;40;34m\"\u001b[0m\u001b[38;2;248;248;242;48;2;39;40;34m)\u001b[0m\u001b[48;2;39;40;34m                         \u001b[0m  \n",
       "  \u001b[38;2;248;248;242;48;2;39;40;34mprint\u001b[0m\u001b[38;2;248;248;242;48;2;39;40;34m(\u001b[0m\u001b[38;2;230;219;116;48;2;39;40;34mf\u001b[0m\u001b[38;2;230;219;116;48;2;39;40;34m\"\u001b[0m\u001b[38;2;230;219;116;48;2;39;40;34mOld Bridge Красное сухое Арени Резервное: \u001b[0m\u001b[38;2;230;219;116;48;2;39;40;34m{\u001b[0m\u001b[38;2;248;248;242;48;2;39;40;34mprice_aren_reserve\u001b[0m\u001b[38;2;230;219;116;48;2;39;40;34m}\u001b[0m\u001b[38;2;230;219;116;48;2;39;40;34m\"\u001b[0m\u001b[38;2;248;248;242;48;2;39;40;34m)\u001b[0m\u001b[48;2;39;40;34m                                       \u001b[0m  \n",
       "  \u001b[48;2;39;40;34m                                                                                                               \u001b[0m  \n",
       "  \u001b[38;2;248;248;242;48;2;39;40;34mprice_bouchard_pommard\u001b[0m\u001b[38;2;248;248;242;48;2;39;40;34m \u001b[0m\u001b[38;2;255;70;137;48;2;39;40;34m=\u001b[0m\u001b[38;2;248;248;242;48;2;39;40;34m \u001b[0m\u001b[38;2;248;248;242;48;2;39;40;34mweb_search\u001b[0m\u001b[38;2;248;248;242;48;2;39;40;34m(\u001b[0m\u001b[38;2;248;248;242;48;2;39;40;34mquery\u001b[0m\u001b[38;2;255;70;137;48;2;39;40;34m=\u001b[0m\u001b[38;2;230;219;116;48;2;39;40;34m\"\u001b[0m\u001b[38;2;230;219;116;48;2;39;40;34mBouchard Aine & Fils, Pommard, 2013 цена\u001b[0m\u001b[38;2;230;219;116;48;2;39;40;34m\"\u001b[0m\u001b[38;2;248;248;242;48;2;39;40;34m)\u001b[0m\u001b[48;2;39;40;34m                          \u001b[0m  \n",
       "  \u001b[38;2;248;248;242;48;2;39;40;34mprint\u001b[0m\u001b[38;2;248;248;242;48;2;39;40;34m(\u001b[0m\u001b[38;2;230;219;116;48;2;39;40;34mf\u001b[0m\u001b[38;2;230;219;116;48;2;39;40;34m\"\u001b[0m\u001b[38;2;230;219;116;48;2;39;40;34mBouchard Aine & Fils, Pommard, 2013: \u001b[0m\u001b[38;2;230;219;116;48;2;39;40;34m{\u001b[0m\u001b[38;2;248;248;242;48;2;39;40;34mprice_bouchard_pommard\u001b[0m\u001b[38;2;230;219;116;48;2;39;40;34m}\u001b[0m\u001b[38;2;230;219;116;48;2;39;40;34m\"\u001b[0m\u001b[38;2;248;248;242;48;2;39;40;34m)\u001b[0m\u001b[48;2;39;40;34m                                        \u001b[0m  \n",
       "  \u001b[48;2;39;40;34m                                                                                                               \u001b[0m  \n",
       "  \u001b[38;2;248;248;242;48;2;39;40;34mprice_bordeaux\u001b[0m\u001b[38;2;248;248;242;48;2;39;40;34m \u001b[0m\u001b[38;2;255;70;137;48;2;39;40;34m=\u001b[0m\u001b[38;2;248;248;242;48;2;39;40;34m \u001b[0m\u001b[38;2;248;248;242;48;2;39;40;34mweb_search\u001b[0m\u001b[38;2;248;248;242;48;2;39;40;34m(\u001b[0m\u001b[38;2;248;248;242;48;2;39;40;34mquery\u001b[0m\u001b[38;2;255;70;137;48;2;39;40;34m=\u001b[0m\u001b[38;2;230;219;116;48;2;39;40;34m\"\u001b[0m\u001b[38;2;230;219;116;48;2;39;40;34mбордо цена\u001b[0m\u001b[38;2;230;219;116;48;2;39;40;34m\"\u001b[0m\u001b[38;2;248;248;242;48;2;39;40;34m)\u001b[0m\u001b[48;2;39;40;34m                                                                \u001b[0m  \n",
       "  \u001b[38;2;248;248;242;48;2;39;40;34mprint\u001b[0m\u001b[38;2;248;248;242;48;2;39;40;34m(\u001b[0m\u001b[38;2;230;219;116;48;2;39;40;34mf\u001b[0m\u001b[38;2;230;219;116;48;2;39;40;34m\"\u001b[0m\u001b[38;2;230;219;116;48;2;39;40;34mБордо: \u001b[0m\u001b[38;2;230;219;116;48;2;39;40;34m{\u001b[0m\u001b[38;2;248;248;242;48;2;39;40;34mprice_bordeaux\u001b[0m\u001b[38;2;230;219;116;48;2;39;40;34m}\u001b[0m\u001b[38;2;230;219;116;48;2;39;40;34m\"\u001b[0m\u001b[38;2;248;248;242;48;2;39;40;34m)\u001b[0m\u001b[48;2;39;40;34m                                                                              \u001b[0m  \n",
       " ───────────────────────────────────────────────────────────────────────────────────────────────────────────────── \n"
      ]
     },
     "metadata": {},
     "output_type": "display_data"
    },
    {
     "data": {
      "text/html": [
       "<pre style=\"white-space:pre;overflow-x:auto;line-height:normal;font-family:Menlo,'DejaVu Sans Mono',consolas,'Courier New',monospace\"><span style=\"font-weight: bold\">Execution logs:</span>\n",
       "Old Bridge Красное сухое Арени Резервное: ## Search Results\n",
       "\n",
       "[Вино Old Bridge Красное сухое Арени Резервное г.у. 2019 14%, 0,75 л \n",
       "...](https://amelia.shop/product/vino-krasnoe-suhoe-old-bridzh-areni-rezerv-2019-14-075l-new-4011)\n",
       "Купить Вино Old Bridge Красное сухое Арени Резервное г.у. 2019 14%, 0,75 л, Армения в интернет-магазине Amelia \n",
       "Gourmet в Москве. Лучшие цены.\n",
       "\n",
       "[Вино Old Bridge - купить вино Old Bridge, цены на \n",
       "Мегамаркет](https://megamarket.ru/catalog/vino/brand-old-bridge/)\n",
       "В нашем маркетплейсе Мегамаркет можно купить вино Old Bridge от 1800 рублей со скидкой за бонусы. ... Вино Old \n",
       "Bridge Красное сухое Арени Резервное г.у. 2019 14%, Армения 0,75 л ... Армения. 3 550 ₽ Вино Old Bridge ...\n",
       "\n",
       "[Old Bridge | интернет-магазин армянских продуктов \"Armshop\"](https://armshop.ru/catalog/old-bridge/)\n",
       "Old Bridge Вино Армянское Красное сухое \"Старый мост\" Резерв 0,75 л 14% 2012 \"Олд Бридж\" ... 4 500 руб . Цена \n",
       "указана за штуку ... Вино Армянское \"Старый мост\" Резервное Красное сухое 0,75 л 14% 2009 \"Олд Бридж\" 5 500 ...\n",
       "\n",
       "[Old Bridge Reserve - вино Старый Мост Резерв 0.75 л красное \n",
       "сухое](https://www.alcoplaza.ru/Wine/old-bridge-reserve-2012-0-75l-armyanskoe-vino-staryiy-most-rezerv-2012-0-75-l1\n",
       "8932)\n",
       "Old Bridge Reserve - вино Старый Мост Резерв 0.75 л красное сухое, купить в магазине АлкоПлаза. г. Москва, ул. \n",
       "Велозаводская, 6 + 7(495) 960-40-44\n",
       "\n",
       "[Вино красное сухое Олд Бридж, Резерв 2012, 0.75 л цена, отзывы | Old \n",
       "...](https://bestwine24.ru/vino-old-bridge-reserve-2012/)\n",
       "Олд Бридж, Резерв 2012 - армянское сухое красное вино из винограда Арени. Купить Old Bridge, Reserve 2012, 0.75 л \n",
       "по цене 2 620 ₽ +7 495 478-12-50\n",
       "\n",
       "[Old Bridge Areni купить Вино Олд Бридж Арени 0.75л \n",
       "цена](https://www.cigarpro.ru/drinks/wine/armenia/old-bridge/old-bridge-areni-750-ml/)\n",
       "Old Bridge Areni купить Вино Олд Бридж Арени 0.75л цена Официальная поставка, лучший выбор ...\n",
       "\n",
       "[Вино Old Bridge Reserve, 2019, 0.75 л](https://wine-shopper.ru/vino-krasnoe-suhoe-old-bridj-rezerv-075l-2019/)\n",
       "Заказать Вино Old Bridge Reserve, 2019, 0.75 л по цене 2705 рублей в Москве: отзывы покупателей, рейтинги \n",
       "специалистов. Оригинальная продукция, гарантия качества, низкая стоимость. Купить Вино недорого в винотеке Wine \n",
       "Shopper.\n",
       "\n",
       "[Вино Old Bridge, Reserve, 2019 купить вино в Москве, цена 2575 рублей в \n",
       "...](https://www.globalalco.ru/item/Old-Bridge-Reserve-62930)\n",
       "Олд Бридж, Резерв, 2019 продажа в магазине Глобал Алко, цена 2575 руб. за вино, производства Армения в Москве: \n",
       "+7(495)204-91-19\n",
       "\n",
       "[Вино Old Bridge купить - цена армянского вина Олд Бридж в магазине КРЮ \n",
       "...](https://www.cru.ru/wine/armenia/old-bridge/)\n",
       "Купить вино Old Bridge, гарантия качества - цены армянского вина Олд Бридж в магазине КРЮ ПРОФИ +7 (495) 920-20-02.\n",
       "... из одноименного села Арени. Используется для создания сухих и полусладких вин,бренди ...\n",
       "\n",
       "[Купить Армянское Вино \"Старый мост\" Резервное Красное сухое 0,75 л 14% \n",
       "...](https://armeniaonline.ru/catalog/alkogol-vitrina-egais-18/armyanskoe-vino-/elitnye-vina/old-bridge-tushpa-mala\n",
       "ni/armyanskoe-vino-staryy-most-rezervnoe-krasnoe-sukhoe-0-75-l-14-2009-old-bridzh/)\n",
       "Выгодное предложение! Продажа Армянское Вино \"Старый мост\" Резервное Красное сухое 0,75 л 14% 2009 \"Олд Бридж\" в \n",
       "нашем розничном магазине по адресу: г. Москва, Проезд Одоевского, дом 7, корпус 7.\n",
       "Bouchard Aine &amp; Fils, Pommard, 2013: ## Search Results\n",
       "\n",
       "[2013 Bouchard Aine &amp; Fils Pommard, Cote de Beaune, France | prices \n",
       "...](https://www.wine-searcher.com/find/bouchard+aine+pommard+cote+de+beaune+burgundy+france/2013)\n",
       "Find the best local price for 2013 Bouchard Aine &amp; Fils Pommard, Cote de Beaune, France. Avg Price (ex-tax) $96 / \n",
       "750ml. Find and shop from stores and merchants near you.\n",
       "\n",
       "[Вино Bouchard Aine &amp; Fils Pommard 2013 0.75 л - \n",
       "decanter.ru](https://decanter.ru/product/bouchard-aine-fils-pommard-2013-id79065)\n",
       "Bouchard Aine &amp; Fils Pommard 2013 0.75 л по цене 6270 руб.: красное сухое вино из региона Бургундия, Франция с \n",
       "выдержкой от 14 до 16 месяцев. Крепость 12.5%. Отзывы покупателей магазина Декантер в Москве.\n",
       "\n",
       "[Вино Bouchard Aine &amp; Fils Pommard 2013 0.75 \n",
       "л](https://festival-vin.ru/vino-bouchard-aine-fils-pommard-2013-0-75-l)\n",
       "Заказать Вино Bouchard Aine &amp; Fils Pommard 2013 0.75 л красное сухое 2 года в интернет-магазине Festival-Vin по \n",
       "цене 6270 руб.. Производство Франция Бургундия 12.5% алкоголя ☎ +7 985 928 28 26\n",
       "\n",
       "[Bouchard Aine &amp; Fils Pommard 2013 - \n",
       "Wine.com](https://www.wine.com/product/bouchard-aine-and-fils-pommard-2013/147639)\n",
       "Bouchard Aine &amp; Fils Pommard 2013 from Pommard, Cote de Beaune, Cote d'Or, Burgundy, France - A crystal, clear, \n",
       "cherry red. Complex and powerful, predominantly fruity (Morello cherries, citrus fruits, fresh figs). Oaky with \n",
       "scents of woodland undergrowth...\n",
       "\n",
       "[Вино красное сухое «Bouchard Aine &amp; Fils Pommard» 2013 \n",
       "г.](https://winestreet.ru/wine/bouchard-aine-fils/goods_51651-bouchard-aine-fils-pommard-2013.html)\n",
       "Вино красное сухое Bouchard Aine &amp; Fils Pommard (Бушар Пэр э Фис Поммар) 2013 г. (Bouchard Aine &amp; Fils, Франция, \n",
       "Бургундия) от 8 235 руб в интернет-магазине WineStreet. +7 495 149-97-79.\n",
       "\n",
       "[Bouchard Aîné &amp; Fils Pommard | Vivino US](https://www.vivino.com/US/en/bouchard-aine-et-fils-pommard/w/82998)\n",
       "Sort and explore the best vintages of Bouchard Aîné &amp; Fils Pommard. Show all. What does this wine taste like? \n",
       "Light. Bold. Smooth. Tannic. Dry. Sweet. Soft. Acidic. ... Bouchard Aîné &amp; Fils. Winery in Beaune. 295 Wines. 3.7 \n",
       "106,450 Total ratings. Trusted by millions to discover and buy the right wine every time.\n",
       "\n",
       "[Bouchard Aine &amp; Fils Pommard 2013 - Wine \n",
       "Chateau](https://winechateau.com/products/bouchard-aine-fils-pommard-2013)\n",
       "Winery: Bouchard Aîné &amp; Fils Grapes: Pinot Noir Region: Pommard Regional styles: Burgundy Côte de Beaune Red Food \n",
       "pairing: Beef · Veal · Game (deer, venison) · Poultry For centuries Pommard has been considered the typical \n",
       "Burgundy, deep red in color, powerfully aromatic, solid and trustworhty. The very name Pommard\n",
       "\n",
       "[Купить вино Bouchard Aine &amp; Fils в Москве — цена вина Бушар Эне и Фис в \n",
       "...](https://decanter.ru/bouchard-aine-fils)\n",
       "Вино Bouchard Aine &amp; Fils - цена в магазине Декантер Цена на вино Bouchard Aine &amp; Fils составляет 143 руб. за \n",
       "бутылку 0.75 л, в ассортименте представлены объемы от 0.75 до 1.5 л стоимостью от 143 до 130 310 рублей.\n",
       "\n",
       "[POMMARD LA CHANIÈRE &gt; BOUCHARD Ainé &amp; \n",
       "Fils](https://www.bouchard-aine.fr/en/our-wines.r-2/our-range-of-wines.r-12/pommard-la-chaniere.v-18052.html)\n",
       "Pommard is one of the most famous villages in the Côte de Beaune, situated 5 km south of the town of Beaune on the \n",
       "route de Grands Crus. The appellation covers 322 hectares and produces only red wines, with 36% of its wines \n",
       "classified as 1er Cru.\n",
       "\n",
       "[Вино Bouchard Aine &amp; Fils Pommard 2013 0.75 \n",
       "л](https://spb.decanter.ru/product/bouchard-aine-fils-pommard-2013-id79065)\n",
       "Bouchard Aine &amp; Fils Pommard 2013 0.75 л по цене 7524 руб.: красное сухое вино из региона Бургундия, Франция с \n",
       "выдержкой от 14 до 16 месяцев. Крепость 12.5%. Отзывы покупателей магазина Декантер в Санкт-Петербурге.\n",
       "Бордо: ## Search Results\n",
       "\n",
       "[Вина Бордо (Bordeaux) - SimpleWine](https://simplewine.ru/catalog/vino/filter/region-bordo/)\n",
       "Продажа вина Бордо (Bordeaux) по цене от 590 руб в интернет-магазине и винотеках SimpleWine. Широкий ассортимент, \n",
       "подробное описание, цены и отзывы от наших покупателей 8 (800) 700-37-97\n",
       "\n",
       "[Купить вино Бордо (Франция) — Цена на вино Bordeaux в Москве в магазине ...](https://decanter.ru/bordeaux)\n",
       "Цена на вино Бордо составляет 270 руб. за бутылку 0.5 л, в ассортименте представлены объемы от 0.187 до 6 л \n",
       "стоимостью от 270 до 9 713 269 рублей. Продажа осуществляется в розничных магазинах Декантер в ...\n",
       "\n",
       "[Купить вино Бордо в ВинЛаб, цены на вино из Bordeaux от 683 руб](https://www.winelab.ru/catalog/franciya-bordo)\n",
       "Вино из Бордо от ВинЛаб: постоянные скидки в сети магазинов по всей России! Вам есть 18 лет? Для доступа на сайт \n",
       "необходимо подтвердить возраст\n",
       "\n",
       "[Вино региона Бордо (Bordeaux) купить - цена](https://www.alcoplaza.ru/alco/French-wine/bordeaux)\n",
       "Вино региона Бордо купить в магазине АлкоПлаза - гарантия оригинального происхождения, низкие цены на вино региона \n",
       "Bordeaux ☎ +7 (495) 960-40-44\n",
       "\n",
       "[Вино БОРДО - купить в интернет магазине Бристоль](https://bristol.ru/collections/vino-bordo)\n",
       "Купите вино БОРДО в интернет магазине Бристоль от 129 рублей по всей РФ. Оформление за 5 минут Добро пожаловать на \n",
       "сайт сети магазинов Бристоль\n",
       "\n",
       "[Бордо вино - купить, цена в сети магазинов «Красное&amp;Белое»](https://krasnoeibeloe.ru/catalog/vino/bordo/)\n",
       "Купите Бордо вино по выгодной цене в сети магазинов «Красное&amp;Белое», оформив online-заявку на сайте.\n",
       "\n",
       "[Вино Бордо купить в Москве; цена, отзывы | Wine Shopper](https://wine-shopper.ru/wine_color/bordeaux/)\n",
       "Вино Бордо оригинал - купить в Москве Доступные цены Большой выбор Заказать через интернет или выбрать в магазинах ️\n",
       "Гарантия качества алкоголя ️ Самовывоз ☎: +7 499 490-49-35 | Винотека Wine Shopper\n",
       "\n",
       "[Бордо | МЕИК 98](https://meik98.bg/bg/bordo.html)\n",
       "Червено вино Томас Бартон Бордо Резерв 2022г. Бартон е Гетие 0,75 л., Франция 23,99 лв. лв.\n",
       "\n",
       "[Бордо - seewines](https://seewines.com/vino/region/star-sviat/france/bordo)\n",
       "Цена Под 20лв. 20 - 40лв. 40 - 80лв. 80лв. + Fine wines ... Сейнт Емилион, Померол и много други. Бордо се разделя \n",
       "от река Жиронда на ляв и десен бряг. Характерно за левия бряг (Medoc, Haut Medoc, Graves) е по-сериозното ...\n",
       "\n",
       "[Купить вина Бордо, цена в Москве. Бордосские вина](https://oldwineclub.ru/vina-bordo.htm)\n",
       "В Бордо производятся одни из самых известных и дорогих вин в мире. Лучшими и самыми признанными винами Левобережья \n",
       "являются те, которые входят в категорию Premier Grand Cru Classe: Chateau Margaux , Chateau Mouton ...\n",
       "\n",
       "Out: None\n",
       "</pre>\n"
      ],
      "text/plain": [
       "\u001b[1mExecution logs:\u001b[0m\n",
       "Old Bridge Красное сухое Арени Резервное: ## Search Results\n",
       "\n",
       "[Вино Old Bridge Красное сухое Арени Резервное г.у. 2019 14%, 0,75 л \n",
       "...](https://amelia.shop/product/vino-krasnoe-suhoe-old-bridzh-areni-rezerv-2019-14-075l-new-4011)\n",
       "Купить Вино Old Bridge Красное сухое Арени Резервное г.у. 2019 14%, 0,75 л, Армения в интернет-магазине Amelia \n",
       "Gourmet в Москве. Лучшие цены.\n",
       "\n",
       "[Вино Old Bridge - купить вино Old Bridge, цены на \n",
       "Мегамаркет](https://megamarket.ru/catalog/vino/brand-old-bridge/)\n",
       "В нашем маркетплейсе Мегамаркет можно купить вино Old Bridge от 1800 рублей со скидкой за бонусы. ... Вино Old \n",
       "Bridge Красное сухое Арени Резервное г.у. 2019 14%, Армения 0,75 л ... Армения. 3 550 ₽ Вино Old Bridge ...\n",
       "\n",
       "[Old Bridge | интернет-магазин армянских продуктов \"Armshop\"](https://armshop.ru/catalog/old-bridge/)\n",
       "Old Bridge Вино Армянское Красное сухое \"Старый мост\" Резерв 0,75 л 14% 2012 \"Олд Бридж\" ... 4 500 руб . Цена \n",
       "указана за штуку ... Вино Армянское \"Старый мост\" Резервное Красное сухое 0,75 л 14% 2009 \"Олд Бридж\" 5 500 ...\n",
       "\n",
       "[Old Bridge Reserve - вино Старый Мост Резерв 0.75 л красное \n",
       "сухое](https://www.alcoplaza.ru/Wine/old-bridge-reserve-2012-0-75l-armyanskoe-vino-staryiy-most-rezerv-2012-0-75-l1\n",
       "8932)\n",
       "Old Bridge Reserve - вино Старый Мост Резерв 0.75 л красное сухое, купить в магазине АлкоПлаза. г. Москва, ул. \n",
       "Велозаводская, 6 + 7(495) 960-40-44\n",
       "\n",
       "[Вино красное сухое Олд Бридж, Резерв 2012, 0.75 л цена, отзывы | Old \n",
       "...](https://bestwine24.ru/vino-old-bridge-reserve-2012/)\n",
       "Олд Бридж, Резерв 2012 - армянское сухое красное вино из винограда Арени. Купить Old Bridge, Reserve 2012, 0.75 л \n",
       "по цене 2 620 ₽ +7 495 478-12-50\n",
       "\n",
       "[Old Bridge Areni купить Вино Олд Бридж Арени 0.75л \n",
       "цена](https://www.cigarpro.ru/drinks/wine/armenia/old-bridge/old-bridge-areni-750-ml/)\n",
       "Old Bridge Areni купить Вино Олд Бридж Арени 0.75л цена Официальная поставка, лучший выбор ...\n",
       "\n",
       "[Вино Old Bridge Reserve, 2019, 0.75 л](https://wine-shopper.ru/vino-krasnoe-suhoe-old-bridj-rezerv-075l-2019/)\n",
       "Заказать Вино Old Bridge Reserve, 2019, 0.75 л по цене 2705 рублей в Москве: отзывы покупателей, рейтинги \n",
       "специалистов. Оригинальная продукция, гарантия качества, низкая стоимость. Купить Вино недорого в винотеке Wine \n",
       "Shopper.\n",
       "\n",
       "[Вино Old Bridge, Reserve, 2019 купить вино в Москве, цена 2575 рублей в \n",
       "...](https://www.globalalco.ru/item/Old-Bridge-Reserve-62930)\n",
       "Олд Бридж, Резерв, 2019 продажа в магазине Глобал Алко, цена 2575 руб. за вино, производства Армения в Москве: \n",
       "+7(495)204-91-19\n",
       "\n",
       "[Вино Old Bridge купить - цена армянского вина Олд Бридж в магазине КРЮ \n",
       "...](https://www.cru.ru/wine/armenia/old-bridge/)\n",
       "Купить вино Old Bridge, гарантия качества - цены армянского вина Олд Бридж в магазине КРЮ ПРОФИ +7 (495) 920-20-02.\n",
       "... из одноименного села Арени. Используется для создания сухих и полусладких вин,бренди ...\n",
       "\n",
       "[Купить Армянское Вино \"Старый мост\" Резервное Красное сухое 0,75 л 14% \n",
       "...](https://armeniaonline.ru/catalog/alkogol-vitrina-egais-18/armyanskoe-vino-/elitnye-vina/old-bridge-tushpa-mala\n",
       "ni/armyanskoe-vino-staryy-most-rezervnoe-krasnoe-sukhoe-0-75-l-14-2009-old-bridzh/)\n",
       "Выгодное предложение! Продажа Армянское Вино \"Старый мост\" Резервное Красное сухое 0,75 л 14% 2009 \"Олд Бридж\" в \n",
       "нашем розничном магазине по адресу: г. Москва, Проезд Одоевского, дом 7, корпус 7.\n",
       "Bouchard Aine & Fils, Pommard, 2013: ## Search Results\n",
       "\n",
       "[2013 Bouchard Aine & Fils Pommard, Cote de Beaune, France | prices \n",
       "...](https://www.wine-searcher.com/find/bouchard+aine+pommard+cote+de+beaune+burgundy+france/2013)\n",
       "Find the best local price for 2013 Bouchard Aine & Fils Pommard, Cote de Beaune, France. Avg Price (ex-tax) $96 / \n",
       "750ml. Find and shop from stores and merchants near you.\n",
       "\n",
       "[Вино Bouchard Aine & Fils Pommard 2013 0.75 л - \n",
       "decanter.ru](https://decanter.ru/product/bouchard-aine-fils-pommard-2013-id79065)\n",
       "Bouchard Aine & Fils Pommard 2013 0.75 л по цене 6270 руб.: красное сухое вино из региона Бургундия, Франция с \n",
       "выдержкой от 14 до 16 месяцев. Крепость 12.5%. Отзывы покупателей магазина Декантер в Москве.\n",
       "\n",
       "[Вино Bouchard Aine & Fils Pommard 2013 0.75 \n",
       "л](https://festival-vin.ru/vino-bouchard-aine-fils-pommard-2013-0-75-l)\n",
       "Заказать Вино Bouchard Aine & Fils Pommard 2013 0.75 л красное сухое 2 года в интернет-магазине Festival-Vin по \n",
       "цене 6270 руб.. Производство Франция Бургундия 12.5% алкоголя ☎ +7 985 928 28 26\n",
       "\n",
       "[Bouchard Aine & Fils Pommard 2013 - \n",
       "Wine.com](https://www.wine.com/product/bouchard-aine-and-fils-pommard-2013/147639)\n",
       "Bouchard Aine & Fils Pommard 2013 from Pommard, Cote de Beaune, Cote d'Or, Burgundy, France - A crystal, clear, \n",
       "cherry red. Complex and powerful, predominantly fruity (Morello cherries, citrus fruits, fresh figs). Oaky with \n",
       "scents of woodland undergrowth...\n",
       "\n",
       "[Вино красное сухое «Bouchard Aine & Fils Pommard» 2013 \n",
       "г.](https://winestreet.ru/wine/bouchard-aine-fils/goods_51651-bouchard-aine-fils-pommard-2013.html)\n",
       "Вино красное сухое Bouchard Aine & Fils Pommard (Бушар Пэр э Фис Поммар) 2013 г. (Bouchard Aine & Fils, Франция, \n",
       "Бургундия) от 8 235 руб в интернет-магазине WineStreet. +7 495 149-97-79.\n",
       "\n",
       "[Bouchard Aîné & Fils Pommard | Vivino US](https://www.vivino.com/US/en/bouchard-aine-et-fils-pommard/w/82998)\n",
       "Sort and explore the best vintages of Bouchard Aîné & Fils Pommard. Show all. What does this wine taste like? \n",
       "Light. Bold. Smooth. Tannic. Dry. Sweet. Soft. Acidic. ... Bouchard Aîné & Fils. Winery in Beaune. 295 Wines. 3.7 \n",
       "106,450 Total ratings. Trusted by millions to discover and buy the right wine every time.\n",
       "\n",
       "[Bouchard Aine & Fils Pommard 2013 - Wine \n",
       "Chateau](https://winechateau.com/products/bouchard-aine-fils-pommard-2013)\n",
       "Winery: Bouchard Aîné & Fils Grapes: Pinot Noir Region: Pommard Regional styles: Burgundy Côte de Beaune Red Food \n",
       "pairing: Beef · Veal · Game (deer, venison) · Poultry For centuries Pommard has been considered the typical \n",
       "Burgundy, deep red in color, powerfully aromatic, solid and trustworhty. The very name Pommard\n",
       "\n",
       "[Купить вино Bouchard Aine & Fils в Москве — цена вина Бушар Эне и Фис в \n",
       "...](https://decanter.ru/bouchard-aine-fils)\n",
       "Вино Bouchard Aine & Fils - цена в магазине Декантер Цена на вино Bouchard Aine & Fils составляет 143 руб. за \n",
       "бутылку 0.75 л, в ассортименте представлены объемы от 0.75 до 1.5 л стоимостью от 143 до 130 310 рублей.\n",
       "\n",
       "[POMMARD LA CHANIÈRE > BOUCHARD Ainé & \n",
       "Fils](https://www.bouchard-aine.fr/en/our-wines.r-2/our-range-of-wines.r-12/pommard-la-chaniere.v-18052.html)\n",
       "Pommard is one of the most famous villages in the Côte de Beaune, situated 5 km south of the town of Beaune on the \n",
       "route de Grands Crus. The appellation covers 322 hectares and produces only red wines, with 36% of its wines \n",
       "classified as 1er Cru.\n",
       "\n",
       "[Вино Bouchard Aine & Fils Pommard 2013 0.75 \n",
       "л](https://spb.decanter.ru/product/bouchard-aine-fils-pommard-2013-id79065)\n",
       "Bouchard Aine & Fils Pommard 2013 0.75 л по цене 7524 руб.: красное сухое вино из региона Бургундия, Франция с \n",
       "выдержкой от 14 до 16 месяцев. Крепость 12.5%. Отзывы покупателей магазина Декантер в Санкт-Петербурге.\n",
       "Бордо: ## Search Results\n",
       "\n",
       "[Вина Бордо (Bordeaux) - SimpleWine](https://simplewine.ru/catalog/vino/filter/region-bordo/)\n",
       "Продажа вина Бордо (Bordeaux) по цене от 590 руб в интернет-магазине и винотеках SimpleWine. Широкий ассортимент, \n",
       "подробное описание, цены и отзывы от наших покупателей 8 (800) 700-37-97\n",
       "\n",
       "[Купить вино Бордо (Франция) — Цена на вино Bordeaux в Москве в магазине ...](https://decanter.ru/bordeaux)\n",
       "Цена на вино Бордо составляет 270 руб. за бутылку 0.5 л, в ассортименте представлены объемы от 0.187 до 6 л \n",
       "стоимостью от 270 до 9 713 269 рублей. Продажа осуществляется в розничных магазинах Декантер в ...\n",
       "\n",
       "[Купить вино Бордо в ВинЛаб, цены на вино из Bordeaux от 683 руб](https://www.winelab.ru/catalog/franciya-bordo)\n",
       "Вино из Бордо от ВинЛаб: постоянные скидки в сети магазинов по всей России! Вам есть 18 лет? Для доступа на сайт \n",
       "необходимо подтвердить возраст\n",
       "\n",
       "[Вино региона Бордо (Bordeaux) купить - цена](https://www.alcoplaza.ru/alco/French-wine/bordeaux)\n",
       "Вино региона Бордо купить в магазине АлкоПлаза - гарантия оригинального происхождения, низкие цены на вино региона \n",
       "Bordeaux ☎ +7 (495) 960-40-44\n",
       "\n",
       "[Вино БОРДО - купить в интернет магазине Бристоль](https://bristol.ru/collections/vino-bordo)\n",
       "Купите вино БОРДО в интернет магазине Бристоль от 129 рублей по всей РФ. Оформление за 5 минут Добро пожаловать на \n",
       "сайт сети магазинов Бристоль\n",
       "\n",
       "[Бордо вино - купить, цена в сети магазинов «Красное&Белое»](https://krasnoeibeloe.ru/catalog/vino/bordo/)\n",
       "Купите Бордо вино по выгодной цене в сети магазинов «Красное&Белое», оформив online-заявку на сайте.\n",
       "\n",
       "[Вино Бордо купить в Москве; цена, отзывы | Wine Shopper](https://wine-shopper.ru/wine_color/bordeaux/)\n",
       "Вино Бордо оригинал - купить в Москве Доступные цены Большой выбор Заказать через интернет или выбрать в магазинах ️\n",
       "Гарантия качества алкоголя ️ Самовывоз ☎: +7 499 490-49-35 | Винотека Wine Shopper\n",
       "\n",
       "[Бордо | МЕИК 98](https://meik98.bg/bg/bordo.html)\n",
       "Червено вино Томас Бартон Бордо Резерв 2022г. Бартон е Гетие 0,75 л., Франция 23,99 лв. лв.\n",
       "\n",
       "[Бордо - seewines](https://seewines.com/vino/region/star-sviat/france/bordo)\n",
       "Цена Под 20лв. 20 - 40лв. 40 - 80лв. 80лв. + Fine wines ... Сейнт Емилион, Померол и много други. Бордо се разделя \n",
       "от река Жиронда на ляв и десен бряг. Характерно за левия бряг (Medoc, Haut Medoc, Graves) е по-сериозното ...\n",
       "\n",
       "[Купить вина Бордо, цена в Москве. Бордосские вина](https://oldwineclub.ru/vina-bordo.htm)\n",
       "В Бордо производятся одни из самых известных и дорогих вин в мире. Лучшими и самыми признанными винами Левобережья \n",
       "являются те, которые входят в категорию Premier Grand Cru Classe: Chateau Margaux , Chateau Mouton ...\n",
       "\n",
       "Out: None\n"
      ]
     },
     "metadata": {},
     "output_type": "display_data"
    },
    {
     "data": {
      "text/html": [
       "<pre style=\"white-space:pre;overflow-x:auto;line-height:normal;font-family:Menlo,'DejaVu Sans Mono',consolas,'Courier New',monospace\"><span style=\"color: #7f7f7f; text-decoration-color: #7f7f7f\">[Step 3: Duration 7.88 seconds| Input tokens: 8,725 | Output tokens: 349]</span>\n",
       "</pre>\n"
      ],
      "text/plain": [
       "\u001b[2m[Step 3: Duration 7.88 seconds| Input tokens: 8,725 | Output tokens: 349]\u001b[0m\n"
      ]
     },
     "metadata": {},
     "output_type": "display_data"
    },
    {
     "data": {
      "text/html": [
       "<pre style=\"white-space:pre;overflow-x:auto;line-height:normal;font-family:Menlo,'DejaVu Sans Mono',consolas,'Courier New',monospace\"><span style=\"color: #d4b702; text-decoration-color: #d4b702\">━━━━━━━━━━━━━━━━━━━━━━━━━━━━━━━━━━━━━━━━━━━━━━━━━━━━━ </span><span style=\"font-weight: bold\">Step </span><span style=\"color: #008080; text-decoration-color: #008080; font-weight: bold\">4</span><span style=\"color: #d4b702; text-decoration-color: #d4b702\"> ━━━━━━━━━━━━━━━━━━━━━━━━━━━━━━━━━━━━━━━━━━━━━━━━━━━━━━</span>\n",
       "</pre>\n"
      ],
      "text/plain": [
       "\u001b[38;2;212;183;2m━━━━━━━━━━━━━━━━━━━━━━━━━━━━━━━━━━━━━━━━━━━━━━━━━━━━━ \u001b[0m\u001b[1mStep \u001b[0m\u001b[1;36m4\u001b[0m\u001b[38;2;212;183;2m ━━━━━━━━━━━━━━━━━━━━━━━━━━━━━━━━━━━━━━━━━━━━━━━━━━━━━━\u001b[0m\n"
      ]
     },
     "metadata": {},
     "output_type": "display_data"
    },
    {
     "data": {
      "text/html": [
       "<pre style=\"white-space:pre;overflow-x:auto;line-height:normal;font-family:Menlo,'DejaVu Sans Mono',consolas,'Courier New',monospace\"> ─ <span style=\"font-weight: bold\">Executing parsed code:</span> ──────────────────────────────────────────────────────────────────────────────────────── \n",
       "  <span style=\"color: #f8f8f2; text-decoration-color: #f8f8f2; background-color: #272822\">final_answer([</span><span style=\"background-color: #272822\">                                                                                                 </span>  \n",
       "  <span style=\"color: #f8f8f2; text-decoration-color: #f8f8f2; background-color: #272822\">    {</span><span style=\"color: #e6db74; text-decoration-color: #e6db74; background-color: #272822\">\"wine\"</span><span style=\"color: #f8f8f2; text-decoration-color: #f8f8f2; background-color: #272822\">: </span><span style=\"color: #e6db74; text-decoration-color: #e6db74; background-color: #272822\">\"Old Bridge Красное сухое Арени Резервное\"</span><span style=\"color: #f8f8f2; text-decoration-color: #f8f8f2; background-color: #272822\">, </span><span style=\"color: #e6db74; text-decoration-color: #e6db74; background-color: #272822\">\"price\"</span><span style=\"color: #f8f8f2; text-decoration-color: #f8f8f2; background-color: #272822\">: </span><span style=\"color: #e6db74; text-decoration-color: #e6db74; background-color: #272822\">\"от 2575 руб.\"</span><span style=\"color: #f8f8f2; text-decoration-color: #f8f8f2; background-color: #272822\">},</span><span style=\"background-color: #272822\">                             </span>  \n",
       "  <span style=\"color: #f8f8f2; text-decoration-color: #f8f8f2; background-color: #272822\">    {</span><span style=\"color: #e6db74; text-decoration-color: #e6db74; background-color: #272822\">\"wine\"</span><span style=\"color: #f8f8f2; text-decoration-color: #f8f8f2; background-color: #272822\">: </span><span style=\"color: #e6db74; text-decoration-color: #e6db74; background-color: #272822\">\"Bouchard Aine &amp; Fils, Pommard, 2013\"</span><span style=\"color: #f8f8f2; text-decoration-color: #f8f8f2; background-color: #272822\">, </span><span style=\"color: #e6db74; text-decoration-color: #e6db74; background-color: #272822\">\"price\"</span><span style=\"color: #f8f8f2; text-decoration-color: #f8f8f2; background-color: #272822\">: </span><span style=\"color: #e6db74; text-decoration-color: #e6db74; background-color: #272822\">\"от 6270 руб.\"</span><span style=\"color: #f8f8f2; text-decoration-color: #f8f8f2; background-color: #272822\">},</span><span style=\"background-color: #272822\">                                  </span>  \n",
       "  <span style=\"color: #f8f8f2; text-decoration-color: #f8f8f2; background-color: #272822\">    {</span><span style=\"color: #e6db74; text-decoration-color: #e6db74; background-color: #272822\">\"wine\"</span><span style=\"color: #f8f8f2; text-decoration-color: #f8f8f2; background-color: #272822\">: </span><span style=\"color: #e6db74; text-decoration-color: #e6db74; background-color: #272822\">\"Бордо\"</span><span style=\"color: #f8f8f2; text-decoration-color: #f8f8f2; background-color: #272822\">, </span><span style=\"color: #e6db74; text-decoration-color: #e6db74; background-color: #272822\">\"price\"</span><span style=\"color: #f8f8f2; text-decoration-color: #f8f8f2; background-color: #272822\">: </span><span style=\"color: #e6db74; text-decoration-color: #e6db74; background-color: #272822\">\"от 590 руб.\"</span><span style=\"color: #f8f8f2; text-decoration-color: #f8f8f2; background-color: #272822\">}</span><span style=\"background-color: #272822\">                                                                  </span>  \n",
       "  <span style=\"color: #f8f8f2; text-decoration-color: #f8f8f2; background-color: #272822\">])</span><span style=\"background-color: #272822\">                                                                                                             </span>  \n",
       " ───────────────────────────────────────────────────────────────────────────────────────────────────────────────── \n",
       "</pre>\n"
      ],
      "text/plain": [
       " ─ \u001b[1mExecuting parsed code:\u001b[0m ──────────────────────────────────────────────────────────────────────────────────────── \n",
       "  \u001b[38;2;248;248;242;48;2;39;40;34mfinal_answer\u001b[0m\u001b[38;2;248;248;242;48;2;39;40;34m(\u001b[0m\u001b[38;2;248;248;242;48;2;39;40;34m[\u001b[0m\u001b[48;2;39;40;34m                                                                                                 \u001b[0m  \n",
       "  \u001b[38;2;248;248;242;48;2;39;40;34m    \u001b[0m\u001b[38;2;248;248;242;48;2;39;40;34m{\u001b[0m\u001b[38;2;230;219;116;48;2;39;40;34m\"\u001b[0m\u001b[38;2;230;219;116;48;2;39;40;34mwine\u001b[0m\u001b[38;2;230;219;116;48;2;39;40;34m\"\u001b[0m\u001b[38;2;248;248;242;48;2;39;40;34m:\u001b[0m\u001b[38;2;248;248;242;48;2;39;40;34m \u001b[0m\u001b[38;2;230;219;116;48;2;39;40;34m\"\u001b[0m\u001b[38;2;230;219;116;48;2;39;40;34mOld Bridge Красное сухое Арени Резервное\u001b[0m\u001b[38;2;230;219;116;48;2;39;40;34m\"\u001b[0m\u001b[38;2;248;248;242;48;2;39;40;34m,\u001b[0m\u001b[38;2;248;248;242;48;2;39;40;34m \u001b[0m\u001b[38;2;230;219;116;48;2;39;40;34m\"\u001b[0m\u001b[38;2;230;219;116;48;2;39;40;34mprice\u001b[0m\u001b[38;2;230;219;116;48;2;39;40;34m\"\u001b[0m\u001b[38;2;248;248;242;48;2;39;40;34m:\u001b[0m\u001b[38;2;248;248;242;48;2;39;40;34m \u001b[0m\u001b[38;2;230;219;116;48;2;39;40;34m\"\u001b[0m\u001b[38;2;230;219;116;48;2;39;40;34mот 2575 руб.\u001b[0m\u001b[38;2;230;219;116;48;2;39;40;34m\"\u001b[0m\u001b[38;2;248;248;242;48;2;39;40;34m}\u001b[0m\u001b[38;2;248;248;242;48;2;39;40;34m,\u001b[0m\u001b[48;2;39;40;34m                             \u001b[0m  \n",
       "  \u001b[38;2;248;248;242;48;2;39;40;34m    \u001b[0m\u001b[38;2;248;248;242;48;2;39;40;34m{\u001b[0m\u001b[38;2;230;219;116;48;2;39;40;34m\"\u001b[0m\u001b[38;2;230;219;116;48;2;39;40;34mwine\u001b[0m\u001b[38;2;230;219;116;48;2;39;40;34m\"\u001b[0m\u001b[38;2;248;248;242;48;2;39;40;34m:\u001b[0m\u001b[38;2;248;248;242;48;2;39;40;34m \u001b[0m\u001b[38;2;230;219;116;48;2;39;40;34m\"\u001b[0m\u001b[38;2;230;219;116;48;2;39;40;34mBouchard Aine & Fils, Pommard, 2013\u001b[0m\u001b[38;2;230;219;116;48;2;39;40;34m\"\u001b[0m\u001b[38;2;248;248;242;48;2;39;40;34m,\u001b[0m\u001b[38;2;248;248;242;48;2;39;40;34m \u001b[0m\u001b[38;2;230;219;116;48;2;39;40;34m\"\u001b[0m\u001b[38;2;230;219;116;48;2;39;40;34mprice\u001b[0m\u001b[38;2;230;219;116;48;2;39;40;34m\"\u001b[0m\u001b[38;2;248;248;242;48;2;39;40;34m:\u001b[0m\u001b[38;2;248;248;242;48;2;39;40;34m \u001b[0m\u001b[38;2;230;219;116;48;2;39;40;34m\"\u001b[0m\u001b[38;2;230;219;116;48;2;39;40;34mот 6270 руб.\u001b[0m\u001b[38;2;230;219;116;48;2;39;40;34m\"\u001b[0m\u001b[38;2;248;248;242;48;2;39;40;34m}\u001b[0m\u001b[38;2;248;248;242;48;2;39;40;34m,\u001b[0m\u001b[48;2;39;40;34m                                  \u001b[0m  \n",
       "  \u001b[38;2;248;248;242;48;2;39;40;34m    \u001b[0m\u001b[38;2;248;248;242;48;2;39;40;34m{\u001b[0m\u001b[38;2;230;219;116;48;2;39;40;34m\"\u001b[0m\u001b[38;2;230;219;116;48;2;39;40;34mwine\u001b[0m\u001b[38;2;230;219;116;48;2;39;40;34m\"\u001b[0m\u001b[38;2;248;248;242;48;2;39;40;34m:\u001b[0m\u001b[38;2;248;248;242;48;2;39;40;34m \u001b[0m\u001b[38;2;230;219;116;48;2;39;40;34m\"\u001b[0m\u001b[38;2;230;219;116;48;2;39;40;34mБордо\u001b[0m\u001b[38;2;230;219;116;48;2;39;40;34m\"\u001b[0m\u001b[38;2;248;248;242;48;2;39;40;34m,\u001b[0m\u001b[38;2;248;248;242;48;2;39;40;34m \u001b[0m\u001b[38;2;230;219;116;48;2;39;40;34m\"\u001b[0m\u001b[38;2;230;219;116;48;2;39;40;34mprice\u001b[0m\u001b[38;2;230;219;116;48;2;39;40;34m\"\u001b[0m\u001b[38;2;248;248;242;48;2;39;40;34m:\u001b[0m\u001b[38;2;248;248;242;48;2;39;40;34m \u001b[0m\u001b[38;2;230;219;116;48;2;39;40;34m\"\u001b[0m\u001b[38;2;230;219;116;48;2;39;40;34mот 590 руб.\u001b[0m\u001b[38;2;230;219;116;48;2;39;40;34m\"\u001b[0m\u001b[38;2;248;248;242;48;2;39;40;34m}\u001b[0m\u001b[48;2;39;40;34m                                                                  \u001b[0m  \n",
       "  \u001b[38;2;248;248;242;48;2;39;40;34m]\u001b[0m\u001b[38;2;248;248;242;48;2;39;40;34m)\u001b[0m\u001b[48;2;39;40;34m                                                                                                             \u001b[0m  \n",
       " ───────────────────────────────────────────────────────────────────────────────────────────────────────────────── \n"
      ]
     },
     "metadata": {},
     "output_type": "display_data"
    },
    {
     "data": {
      "text/html": [
       "<pre style=\"white-space:pre;overflow-x:auto;line-height:normal;font-family:Menlo,'DejaVu Sans Mono',consolas,'Courier New',monospace\"><span style=\"color: #d4b702; text-decoration-color: #d4b702; font-weight: bold\">Out - Final answer: [{'wine': 'Old Bridge Красное сухое Арени Резервное', 'price': 'от 2575 руб.'}, {'wine': </span>\n",
       "<span style=\"color: #d4b702; text-decoration-color: #d4b702; font-weight: bold\">'Bouchard Aine &amp; Fils, Pommard, 2013', 'price': 'от 6270 руб.'}, {'wine': 'Бордо', 'price': 'от 590 руб.'}]</span>\n",
       "</pre>\n"
      ],
      "text/plain": [
       "\u001b[1;38;2;212;183;2mOut - Final answer: [{'wine': 'Old Bridge Красное сухое Арени Резервное', 'price': 'от 2575 руб.'}, {'wine': \u001b[0m\n",
       "\u001b[1;38;2;212;183;2m'Bouchard Aine & Fils, Pommard, 2013', 'price': 'от 6270 руб.'}, {'wine': 'Бордо', 'price': 'от 590 руб.'}]\u001b[0m\n"
      ]
     },
     "metadata": {},
     "output_type": "display_data"
    },
    {
     "data": {
      "text/html": [
       "<pre style=\"white-space:pre;overflow-x:auto;line-height:normal;font-family:Menlo,'DejaVu Sans Mono',consolas,'Courier New',monospace\"><span style=\"color: #7f7f7f; text-decoration-color: #7f7f7f\">[Step 4: Duration 3.31 seconds| Input tokens: 16,463 | Output tokens: 486]</span>\n",
       "</pre>\n"
      ],
      "text/plain": [
       "\u001b[2m[Step 4: Duration 3.31 seconds| Input tokens: 16,463 | Output tokens: 486]\u001b[0m\n"
      ]
     },
     "metadata": {},
     "output_type": "display_data"
    },
    {
     "data": {
      "text/plain": [
       "[{'wine': 'Old Bridge Красное сухое Арени Резервное', 'price': 'от 2575 руб.'},\n",
       " {'wine': 'Bouchard Aine & Fils, Pommard, 2013', 'price': 'от 6270 руб.'},\n",
       " {'wine': 'Бордо', 'price': 'от 590 руб.'}]"
      ]
     },
     "execution_count": 2,
     "metadata": {},
     "output_type": "execute_result"
    }
   ],
   "source": [
    "agent = CodeAgent(tools=[DuckDuckGoSearchTool()], model=ygpt_model)\n",
    "\n",
    "agent.run(\"Напиши список из трёх лучших вин, подходящих к стейку с кровью, и их цены\")"
   ]
  },
  {
   "cell_type": "markdown",
   "id": "21bff802",
   "metadata": {},
   "source": [
    "Несмотря на то, что мы задали вопрос на русском языке, весь поиск в интернет проводился на английском, и был найден результат из англоязычного сегмента. Почему?\n",
    "\n",
    "Дело в том, что за кажущейся внешней простотой скрывается большая внутренняя работа. Во фреймворк smolagents заложена [идеология ReAct](https://habr.com/ru/articles/882432/), в которой агент сначала рассуждает и строит план решения, затем по шагам выполняет его, смотрит на результаты и адаптируется. За этим стоит достаточно сложный промптинг, который по умолчанию во фреймворке smolagents сделан на английском языке.\n",
    "\n",
    "Загрузим русскоязычный пакет промптов:"
   ]
  },
  {
   "cell_type": "code",
   "execution_count": 4,
   "id": "5530e501",
   "metadata": {},
   "outputs": [
    {
     "data": {
      "text/html": [
       "<pre style=\"white-space:pre;overflow-x:auto;line-height:normal;font-family:Menlo,'DejaVu Sans Mono',consolas,'Courier New',monospace\"><span style=\"color: #d4b702; text-decoration-color: #d4b702\">╭──────────────────────────────────────────────────── </span><span style=\"color: #d4b702; text-decoration-color: #d4b702; font-weight: bold\">New run</span><span style=\"color: #d4b702; text-decoration-color: #d4b702\"> ────────────────────────────────────────────────────╮</span>\n",
       "<span style=\"color: #d4b702; text-decoration-color: #d4b702\">│</span>                                                                                                                 <span style=\"color: #d4b702; text-decoration-color: #d4b702\">│</span>\n",
       "<span style=\"color: #d4b702; text-decoration-color: #d4b702\">│</span> <span style=\"font-weight: bold\">Напиши список из трёх лучших вин, подходящих к стейку с кровью, и их цены</span>                                       <span style=\"color: #d4b702; text-decoration-color: #d4b702\">│</span>\n",
       "<span style=\"color: #d4b702; text-decoration-color: #d4b702\">│</span>                                                                                                                 <span style=\"color: #d4b702; text-decoration-color: #d4b702\">│</span>\n",
       "<span style=\"color: #d4b702; text-decoration-color: #d4b702\">╰─ OpenAIServerModel - gpt://b1gbicod0scglhd49qs0/yandexgpt/rc ───────────────────────────────────────────────────╯</span>\n",
       "</pre>\n"
      ],
      "text/plain": [
       "\u001b[38;2;212;183;2m╭─\u001b[0m\u001b[38;2;212;183;2m───────────────────────────────────────────────────\u001b[0m\u001b[38;2;212;183;2m \u001b[0m\u001b[1;38;2;212;183;2mNew run\u001b[0m\u001b[38;2;212;183;2m \u001b[0m\u001b[38;2;212;183;2m───────────────────────────────────────────────────\u001b[0m\u001b[38;2;212;183;2m─╮\u001b[0m\n",
       "\u001b[38;2;212;183;2m│\u001b[0m                                                                                                                 \u001b[38;2;212;183;2m│\u001b[0m\n",
       "\u001b[38;2;212;183;2m│\u001b[0m \u001b[1mНапиши список из трёх лучших вин, подходящих к стейку с кровью, и их цены\u001b[0m                                       \u001b[38;2;212;183;2m│\u001b[0m\n",
       "\u001b[38;2;212;183;2m│\u001b[0m                                                                                                                 \u001b[38;2;212;183;2m│\u001b[0m\n",
       "\u001b[38;2;212;183;2m╰─\u001b[0m\u001b[38;2;212;183;2m OpenAIServerModel - gpt://b1gbicod0scglhd49qs0/yandexgpt/rc \u001b[0m\u001b[38;2;212;183;2m──────────────────────────────────────────────────\u001b[0m\u001b[38;2;212;183;2m─╯\u001b[0m\n"
      ]
     },
     "metadata": {},
     "output_type": "display_data"
    },
    {
     "data": {
      "text/html": [
       "<pre style=\"white-space:pre;overflow-x:auto;line-height:normal;font-family:Menlo,'DejaVu Sans Mono',consolas,'Courier New',monospace\"><span style=\"color: #d4b702; text-decoration-color: #d4b702\">━━━━━━━━━━━━━━━━━━━━━━━━━━━━━━━━━━━━━━━━━━━━━━━━━━━━━ </span><span style=\"font-weight: bold\">Step </span><span style=\"color: #008080; text-decoration-color: #008080; font-weight: bold\">1</span><span style=\"color: #d4b702; text-decoration-color: #d4b702\"> ━━━━━━━━━━━━━━━━━━━━━━━━━━━━━━━━━━━━━━━━━━━━━━━━━━━━━━</span>\n",
       "</pre>\n"
      ],
      "text/plain": [
       "\u001b[38;2;212;183;2m━━━━━━━━━━━━━━━━━━━━━━━━━━━━━━━━━━━━━━━━━━━━━━━━━━━━━ \u001b[0m\u001b[1mStep \u001b[0m\u001b[1;36m1\u001b[0m\u001b[38;2;212;183;2m ━━━━━━━━━━━━━━━━━━━━━━━━━━━━━━━━━━━━━━━━━━━━━━━━━━━━━━\u001b[0m\n"
      ]
     },
     "metadata": {},
     "output_type": "display_data"
    },
    {
     "data": {
      "text/html": [
       "<pre style=\"white-space:pre;overflow-x:auto;line-height:normal;font-family:Menlo,'DejaVu Sans Mono',consolas,'Courier New',monospace\"> ─ <span style=\"font-weight: bold\">Executing parsed code:</span> ──────────────────────────────────────────────────────────────────────────────────────── \n",
       "  <span style=\"color: #f8f8f2; text-decoration-color: #f8f8f2; background-color: #272822\">result </span><span style=\"color: #ff4689; text-decoration-color: #ff4689; background-color: #272822\">=</span><span style=\"color: #f8f8f2; text-decoration-color: #f8f8f2; background-color: #272822\"> web_search(</span><span style=\"color: #e6db74; text-decoration-color: #e6db74; background-color: #272822\">\"лучшие вина к стейку с кровью и их цены\"</span><span style=\"color: #f8f8f2; text-decoration-color: #f8f8f2; background-color: #272822\">)</span><span style=\"background-color: #272822\">                                                 </span>  \n",
       "  <span style=\"color: #f8f8f2; text-decoration-color: #f8f8f2; background-color: #272822\">print(result)</span><span style=\"background-color: #272822\">                                                                                                  </span>  \n",
       " ───────────────────────────────────────────────────────────────────────────────────────────────────────────────── \n",
       "</pre>\n"
      ],
      "text/plain": [
       " ─ \u001b[1mExecuting parsed code:\u001b[0m ──────────────────────────────────────────────────────────────────────────────────────── \n",
       "  \u001b[38;2;248;248;242;48;2;39;40;34mresult\u001b[0m\u001b[38;2;248;248;242;48;2;39;40;34m \u001b[0m\u001b[38;2;255;70;137;48;2;39;40;34m=\u001b[0m\u001b[38;2;248;248;242;48;2;39;40;34m \u001b[0m\u001b[38;2;248;248;242;48;2;39;40;34mweb_search\u001b[0m\u001b[38;2;248;248;242;48;2;39;40;34m(\u001b[0m\u001b[38;2;230;219;116;48;2;39;40;34m\"\u001b[0m\u001b[38;2;230;219;116;48;2;39;40;34mлучшие вина к стейку с кровью и их цены\u001b[0m\u001b[38;2;230;219;116;48;2;39;40;34m\"\u001b[0m\u001b[38;2;248;248;242;48;2;39;40;34m)\u001b[0m\u001b[48;2;39;40;34m                                                 \u001b[0m  \n",
       "  \u001b[38;2;248;248;242;48;2;39;40;34mprint\u001b[0m\u001b[38;2;248;248;242;48;2;39;40;34m(\u001b[0m\u001b[38;2;248;248;242;48;2;39;40;34mresult\u001b[0m\u001b[38;2;248;248;242;48;2;39;40;34m)\u001b[0m\u001b[48;2;39;40;34m                                                                                                  \u001b[0m  \n",
       " ───────────────────────────────────────────────────────────────────────────────────────────────────────────────── \n"
      ]
     },
     "metadata": {},
     "output_type": "display_data"
    },
    {
     "data": {
      "text/html": [
       "<pre style=\"white-space:pre;overflow-x:auto;line-height:normal;font-family:Menlo,'DejaVu Sans Mono',consolas,'Courier New',monospace\"><span style=\"font-weight: bold\">Execution logs:</span>\n",
       "## Search Results\n",
       "\n",
       "[Вино к стейку — какое вино лучше подойдет к стейку из говядины, какой \n",
       "...](https://luding.ru/gastronomy/sochetaemost/vino-pod-steyk/)\n",
       "Шатобриан (chateaubriand) — самый постный стейк, которому нужна высокая кислотность бургундского пино нуара или \n",
       "кьянти. Можно выбрать бордо или насыщенное розе. Стейк- или бифштекс-тартар (tartar de boeuf) ― практически сырое \n",
       "мясо, его готовят с приправами, луком, гренками.\n",
       "\n",
       "[Какое вино лучше пить со стейком | Блог Винного дома Мильстрим](https://millstream-wines.ru/blog/7886/)\n",
       "Какое вино лучше пить со стейком? Наслаждение сочным и ароматным стейком - это настоящее искусство, а правильно \n",
       "подобранное вино может превратить ваш опыт во что-то незабываемое. В этой статье хотели бы поделиться с вами \n",
       "некоторыми советами о сочетании вин и стейка.\n",
       "\n",
       "[Что лучше взять к огромному стейку с кровью, пиво, вино или вообще ...](https://otvet.mail.ru/question/202558506)\n",
       "Что лучше взять к огромному стейку с кровью, пиво, вино или вообще водочки? Побольше зелени. Красное вино! не \n",
       "сладкое, а именно терпкое.... Пользователь dzho_blek_229 написал пост и получил на него 16 ответов. Узнайте, что \n",
       "считают другие, поделитесь своей точкой зрения и найдите единомышленников — в Ответах Mail 💙.\n",
       "\n",
       "[3 лучших вина к стейку: наслаждайтесь идеальным сочетанием](https://dzen.ru/a/Z5upJvVWjEdC2LYw)\n",
       "Мы собрали для вас три великолепных красных сухих вина, которые идеально дополнят вкус мяса! 🔹 Old Bridge Красное \n",
       "сухое Арени Резервное. Вино обладает насыщенным вкусом и богатым ароматом, где преобладают ноты тёмных ягод и \n",
       "лёгкие пряные оттенки.\n",
       "\n",
       "[Как подобрать вино к стейку | \n",
       "Barrique.wine](https://barrique.wine/blog/articles/idealnoe-vino-k-steyku-ischerpyvayushchee-rukovodstvo-po-garmoni\n",
       "chnym-sochetaniyam/)\n",
       "В этом подробном руководстве мы рассмотрим все аспекты идеальной пары: от базовых принципов сочетаемости до \n",
       "тонкостей выбора вина в зависимости от конкретного вида мяса, степени прожарки и даже способа приготовления. 1. \n",
       "Научные основы идеального сочетания. Физиология вкуса объясняет, почему определенные вина идеально дополняют стейк.\n",
       "\n",
       "[Идеальное сочетание: как подобрать вино к \n",
       "стейку/](https://vk.com/@simple_meal-idealnoe-sochetanie-kak-podobrat-vino-k-steiku)\n",
       "Вот примеры вин, которые сделают ужин незабываемым: Bouchard Aine &amp; Fils, Pommard, 2013. Красное сухое вино, \n",
       "насыщенное танинами.\n",
       "\n",
       "[Как правильно подобрать вино к красному мясу. Часть 1. \n",
       "Говядина](https://valentinawine.com/kakoe-vino-podoidet-k-myasu/)\n",
       "Вино обладает бархатными танинами и высокой кислотность, что как нельзя лучше подойдёт к стейку из филе или \n",
       "запечённой вырезке с кровью.\n",
       "\n",
       "[Wr: Стейк С Кровью На Майские И Каберне Совиньон… \n",
       "Безалкогольное](https://wineretail.info/vinotorgovlya/wr-stejk-s-krovyu-na-majskie-i-kaberne-sovinon-bezalkogolnoe-\n",
       "2025-05-05.html)\n",
       "В праздничные дни вырос спрос на достаточно дорогую говядину и, в качестве новой тенденции, вместе со стейками в \n",
       "чеках присутствуют безалкогольные вина. Спрос на говядину вырос на 12% относительно прошлогоднего показателя, а на \n",
       "безалкогольное вино - на 71%.\n",
       "\n",
       "[Какое вино подходит к стейку - \n",
       "kamushkiguru.ru](https://kamushkiguru.ru/blog/poleznoe/kakoe-vino-podxodit-k-steiku)\n",
       "Например, к стейку с кровью отлично подойдет легкое и освежающее красное вино. А к прожаренному до средней степени \n",
       "- более насыщенное и полнотелое вино.\n",
       "\n",
       "[Сочетание стейков и вин: как выбрать идеальную пару для \n",
       "ужина](https://swn.ru/articles/razbiraemsya-v-steykakh-i-podbiraem-pod-nikh-dostoynye-vina)\n",
       "Но если вам попался стейк из истинной японской мраморной говядины вагю, то забудьте про мощные новосветские вина и \n",
       "молодое бордо, которые так хороши к ангусу. К вагю закажем бургундию (например, жевре-шамбертен), кот-роти или \n",
       "бароло.\n",
       "\n",
       "Out: None\n",
       "</pre>\n"
      ],
      "text/plain": [
       "\u001b[1mExecution logs:\u001b[0m\n",
       "## Search Results\n",
       "\n",
       "[Вино к стейку — какое вино лучше подойдет к стейку из говядины, какой \n",
       "...](https://luding.ru/gastronomy/sochetaemost/vino-pod-steyk/)\n",
       "Шатобриан (chateaubriand) — самый постный стейк, которому нужна высокая кислотность бургундского пино нуара или \n",
       "кьянти. Можно выбрать бордо или насыщенное розе. Стейк- или бифштекс-тартар (tartar de boeuf) ― практически сырое \n",
       "мясо, его готовят с приправами, луком, гренками.\n",
       "\n",
       "[Какое вино лучше пить со стейком | Блог Винного дома Мильстрим](https://millstream-wines.ru/blog/7886/)\n",
       "Какое вино лучше пить со стейком? Наслаждение сочным и ароматным стейком - это настоящее искусство, а правильно \n",
       "подобранное вино может превратить ваш опыт во что-то незабываемое. В этой статье хотели бы поделиться с вами \n",
       "некоторыми советами о сочетании вин и стейка.\n",
       "\n",
       "[Что лучше взять к огромному стейку с кровью, пиво, вино или вообще ...](https://otvet.mail.ru/question/202558506)\n",
       "Что лучше взять к огромному стейку с кровью, пиво, вино или вообще водочки? Побольше зелени. Красное вино! не \n",
       "сладкое, а именно терпкое.... Пользователь dzho_blek_229 написал пост и получил на него 16 ответов. Узнайте, что \n",
       "считают другие, поделитесь своей точкой зрения и найдите единомышленников — в Ответах Mail 💙.\n",
       "\n",
       "[3 лучших вина к стейку: наслаждайтесь идеальным сочетанием](https://dzen.ru/a/Z5upJvVWjEdC2LYw)\n",
       "Мы собрали для вас три великолепных красных сухих вина, которые идеально дополнят вкус мяса! 🔹 Old Bridge Красное \n",
       "сухое Арени Резервное. Вино обладает насыщенным вкусом и богатым ароматом, где преобладают ноты тёмных ягод и \n",
       "лёгкие пряные оттенки.\n",
       "\n",
       "[Как подобрать вино к стейку | \n",
       "Barrique.wine](https://barrique.wine/blog/articles/idealnoe-vino-k-steyku-ischerpyvayushchee-rukovodstvo-po-garmoni\n",
       "chnym-sochetaniyam/)\n",
       "В этом подробном руководстве мы рассмотрим все аспекты идеальной пары: от базовых принципов сочетаемости до \n",
       "тонкостей выбора вина в зависимости от конкретного вида мяса, степени прожарки и даже способа приготовления. 1. \n",
       "Научные основы идеального сочетания. Физиология вкуса объясняет, почему определенные вина идеально дополняют стейк.\n",
       "\n",
       "[Идеальное сочетание: как подобрать вино к \n",
       "стейку/](https://vk.com/@simple_meal-idealnoe-sochetanie-kak-podobrat-vino-k-steiku)\n",
       "Вот примеры вин, которые сделают ужин незабываемым: Bouchard Aine & Fils, Pommard, 2013. Красное сухое вино, \n",
       "насыщенное танинами.\n",
       "\n",
       "[Как правильно подобрать вино к красному мясу. Часть 1. \n",
       "Говядина](https://valentinawine.com/kakoe-vino-podoidet-k-myasu/)\n",
       "Вино обладает бархатными танинами и высокой кислотность, что как нельзя лучше подойдёт к стейку из филе или \n",
       "запечённой вырезке с кровью.\n",
       "\n",
       "[Wr: Стейк С Кровью На Майские И Каберне Совиньон… \n",
       "Безалкогольное](https://wineretail.info/vinotorgovlya/wr-stejk-s-krovyu-na-majskie-i-kaberne-sovinon-bezalkogolnoe-\n",
       "2025-05-05.html)\n",
       "В праздничные дни вырос спрос на достаточно дорогую говядину и, в качестве новой тенденции, вместе со стейками в \n",
       "чеках присутствуют безалкогольные вина. Спрос на говядину вырос на 12% относительно прошлогоднего показателя, а на \n",
       "безалкогольное вино - на 71%.\n",
       "\n",
       "[Какое вино подходит к стейку - \n",
       "kamushkiguru.ru](https://kamushkiguru.ru/blog/poleznoe/kakoe-vino-podxodit-k-steiku)\n",
       "Например, к стейку с кровью отлично подойдет легкое и освежающее красное вино. А к прожаренному до средней степени \n",
       "- более насыщенное и полнотелое вино.\n",
       "\n",
       "[Сочетание стейков и вин: как выбрать идеальную пару для \n",
       "ужина](https://swn.ru/articles/razbiraemsya-v-steykakh-i-podbiraem-pod-nikh-dostoynye-vina)\n",
       "Но если вам попался стейк из истинной японской мраморной говядины вагю, то забудьте про мощные новосветские вина и \n",
       "молодое бордо, которые так хороши к ангусу. К вагю закажем бургундию (например, жевре-шамбертен), кот-роти или \n",
       "бароло.\n",
       "\n",
       "Out: None\n"
      ]
     },
     "metadata": {},
     "output_type": "display_data"
    },
    {
     "data": {
      "text/html": [
       "<pre style=\"white-space:pre;overflow-x:auto;line-height:normal;font-family:Menlo,'DejaVu Sans Mono',consolas,'Courier New',monospace\"><span style=\"color: #7f7f7f; text-decoration-color: #7f7f7f\">[Step 1: Duration 1.89 seconds| Input tokens: 2,283 | Output tokens: 65]</span>\n",
       "</pre>\n"
      ],
      "text/plain": [
       "\u001b[2m[Step 1: Duration 1.89 seconds| Input tokens: 2,283 | Output tokens: 65]\u001b[0m\n"
      ]
     },
     "metadata": {},
     "output_type": "display_data"
    },
    {
     "data": {
      "text/html": [
       "<pre style=\"white-space:pre;overflow-x:auto;line-height:normal;font-family:Menlo,'DejaVu Sans Mono',consolas,'Courier New',monospace\"><span style=\"color: #d4b702; text-decoration-color: #d4b702\">━━━━━━━━━━━━━━━━━━━━━━━━━━━━━━━━━━━━━━━━━━━━━━━━━━━━━ </span><span style=\"font-weight: bold\">Step </span><span style=\"color: #008080; text-decoration-color: #008080; font-weight: bold\">2</span><span style=\"color: #d4b702; text-decoration-color: #d4b702\"> ━━━━━━━━━━━━━━━━━━━━━━━━━━━━━━━━━━━━━━━━━━━━━━━━━━━━━━</span>\n",
       "</pre>\n"
      ],
      "text/plain": [
       "\u001b[38;2;212;183;2m━━━━━━━━━━━━━━━━━━━━━━━━━━━━━━━━━━━━━━━━━━━━━━━━━━━━━ \u001b[0m\u001b[1mStep \u001b[0m\u001b[1;36m2\u001b[0m\u001b[38;2;212;183;2m ━━━━━━━━━━━━━━━━━━━━━━━━━━━━━━━━━━━━━━━━━━━━━━━━━━━━━━\u001b[0m\n"
      ]
     },
     "metadata": {},
     "output_type": "display_data"
    },
    {
     "data": {
      "text/html": [
       "<pre style=\"white-space:pre;overflow-x:auto;line-height:normal;font-family:Menlo,'DejaVu Sans Mono',consolas,'Courier New',monospace\"> ─ <span style=\"font-weight: bold\">Executing parsed code:</span> ──────────────────────────────────────────────────────────────────────────────────────── \n",
       "  <span style=\"color: #f8f8f2; text-decoration-color: #f8f8f2; background-color: #272822\">result </span><span style=\"color: #ff4689; text-decoration-color: #ff4689; background-color: #272822\">=</span><span style=\"color: #f8f8f2; text-decoration-color: #f8f8f2; background-color: #272822\"> web_search(</span><span style=\"color: #e6db74; text-decoration-color: #e6db74; background-color: #272822\">\"цены на Old Bridge Арени Резервное, Bouchard Aine &amp; Fils Pommard и другие вина к стейку\"</span><span style=\"color: #f8f8f2; text-decoration-color: #f8f8f2; background-color: #272822\">)</span><span style=\"background-color: #272822\"> </span>  \n",
       "  <span style=\"color: #f8f8f2; text-decoration-color: #f8f8f2; background-color: #272822\">print(result)</span><span style=\"background-color: #272822\">                                                                                                  </span>  \n",
       " ───────────────────────────────────────────────────────────────────────────────────────────────────────────────── \n",
       "</pre>\n"
      ],
      "text/plain": [
       " ─ \u001b[1mExecuting parsed code:\u001b[0m ──────────────────────────────────────────────────────────────────────────────────────── \n",
       "  \u001b[38;2;248;248;242;48;2;39;40;34mresult\u001b[0m\u001b[38;2;248;248;242;48;2;39;40;34m \u001b[0m\u001b[38;2;255;70;137;48;2;39;40;34m=\u001b[0m\u001b[38;2;248;248;242;48;2;39;40;34m \u001b[0m\u001b[38;2;248;248;242;48;2;39;40;34mweb_search\u001b[0m\u001b[38;2;248;248;242;48;2;39;40;34m(\u001b[0m\u001b[38;2;230;219;116;48;2;39;40;34m\"\u001b[0m\u001b[38;2;230;219;116;48;2;39;40;34mцены на Old Bridge Арени Резервное, Bouchard Aine & Fils Pommard и другие вина к стейку\u001b[0m\u001b[38;2;230;219;116;48;2;39;40;34m\"\u001b[0m\u001b[38;2;248;248;242;48;2;39;40;34m)\u001b[0m\u001b[48;2;39;40;34m \u001b[0m  \n",
       "  \u001b[38;2;248;248;242;48;2;39;40;34mprint\u001b[0m\u001b[38;2;248;248;242;48;2;39;40;34m(\u001b[0m\u001b[38;2;248;248;242;48;2;39;40;34mresult\u001b[0m\u001b[38;2;248;248;242;48;2;39;40;34m)\u001b[0m\u001b[48;2;39;40;34m                                                                                                  \u001b[0m  \n",
       " ───────────────────────────────────────────────────────────────────────────────────────────────────────────────── \n"
      ]
     },
     "metadata": {},
     "output_type": "display_data"
    },
    {
     "data": {
      "text/html": [
       "<pre style=\"white-space:pre;overflow-x:auto;line-height:normal;font-family:Menlo,'DejaVu Sans Mono',consolas,'Courier New',monospace\"><span style=\"font-weight: bold\">Execution logs:</span>\n",
       "## Search Results\n",
       "\n",
       "[Купить вино Old Bridge в Москве по низкой цене | Amelia Gourmet](https://amelia.shop/collection/old-bridge)\n",
       "Купить вино Old Bridge из Армении в магазине Amelia Gourmet в Москве. Низкие цены. Гарантия качества. Телефон для \n",
       "справок: ☎️ +7 495 150-38-98.\n",
       "\n",
       "[Купить Old Bridge винтажное вино Арени в Москве по доступной цене в \n",
       "...](https://winezone.ru/wine/c-vintazhnoe-vina-62/p-areni-16226/p-old-bridge-31811)\n",
       "Old Bridge винтажное вино Арени купить в Москве в сети магазинов Winezone. У нас вы найдете напитки из категории \n",
       "Old Bridge винтажное вино Арени по лучшим ценам от проверенных поставщиков с гарантией качества.\n",
       "\n",
       "[Купить вино Bouchard Aine &amp; Fils в Москве — цена вина Бушар Эне и Фис в \n",
       "...](https://decanter.ru/bouchard-aine-fils)\n",
       "Вино Bouchard Aine &amp; Fils 94 товара Вино «Бушар эне и фис» производится в Бургундии с 1731 года. Для изготовления \n",
       "используется виноград сортов Шардоне и Пино-нуар.\n",
       "\n",
       "[Old Bridge Areni купить Вино Олд Бридж Арени 0.75л \n",
       "цена](https://www.cigarpro.ru/drinks/wine/armenia/old-bridge/old-bridge-areni-750-ml/)\n",
       "Old Bridge Areni купить Вино Олд Бридж Арени 0.75л цена Официальная поставка, лучший выбор, квалифицированные \n",
       "специалисты, лучшие цены в москве\n",
       "\n",
       "[Вино Old Bridge купить - цена в магазине АлкоПлаза](https://www.alcoplaza.ru/Old-Bridge)\n",
       "Вино Old Bridge Вино Old Bridge — самобытный алкоголь крепостью 13-14 градусов от одноименной армянской компании, \n",
       "которая была основана в 1998 году супругами Арменом и Ашхен Халатян.\n",
       "\n",
       "[Купить вино Old Bridge Winery — цены и отзывы на вино Олд Бридж в \n",
       "...](https://winestyle.ru/wine/old-bridge-winery/)\n",
       "🍷 Продажа вина Old Bridge Winery в магазине WineStyle! Полный ассортимент, подробное описание, цены и отзывы от \n",
       "реальных людей ☎ +7 (499) 703-51-51.\n",
       "\n",
       "[Вино Old Bridge Areni Reserve 2012 0.75 л](https://www.cru.ru/wine/armenia/old-bridge-2012/)\n",
       "Выдержанное красное сухое вино Old Bridge Reserve 0,75л создаётся винодельней «Олд Бридж» в армянском регионе Вайоц\n",
       "Дзор из старинного автохтонного сорта Арени.\n",
       "\n",
       "[Вино Old Bridge - купить вино Old Bridge, цены на \n",
       "Мегамаркет](https://megamarket.ru/catalog/vino/brand-old-bridge/)\n",
       "В нашем маркетплейсе Мегамаркет можно купить вино Old Bridge от 1800 рублей со скидкой за бонусы.\n",
       "\n",
       "[Вино Old Bridge, Reserve 2012 0.75 л](https://bestwine24.ru/vino-old-bridge-reserve-2012/)\n",
       "Олд Бридж, Резерв 2012 - армянское сухое красное вино из винограда Арени. Купить Old Bridge, Reserve 2012, 0.75 л \n",
       "по цене 2 950 ₽\n",
       "\n",
       "[Вино Old Bridge Красное сухое Арени Резервное г.у. 2019 14%, 0,75 л \n",
       "...](https://amelia.shop/product/vino-krasnoe-suhoe-old-bridzh-areni-rezerv-2019-14-075l-new-4011)\n",
       "Вино Old Bridge Красное сухое Арени Резервное г.у. 2019 14%, 0,75 л, Армения Виноградники расположены на правом \n",
       "берегу реки Арпа, рядом с маленькой деревней Арпи, на высоте 1250-1300 м над уровнем моря.\n",
       "\n",
       "Out: None\n",
       "</pre>\n"
      ],
      "text/plain": [
       "\u001b[1mExecution logs:\u001b[0m\n",
       "## Search Results\n",
       "\n",
       "[Купить вино Old Bridge в Москве по низкой цене | Amelia Gourmet](https://amelia.shop/collection/old-bridge)\n",
       "Купить вино Old Bridge из Армении в магазине Amelia Gourmet в Москве. Низкие цены. Гарантия качества. Телефон для \n",
       "справок: ☎️ +7 495 150-38-98.\n",
       "\n",
       "[Купить Old Bridge винтажное вино Арени в Москве по доступной цене в \n",
       "...](https://winezone.ru/wine/c-vintazhnoe-vina-62/p-areni-16226/p-old-bridge-31811)\n",
       "Old Bridge винтажное вино Арени купить в Москве в сети магазинов Winezone. У нас вы найдете напитки из категории \n",
       "Old Bridge винтажное вино Арени по лучшим ценам от проверенных поставщиков с гарантией качества.\n",
       "\n",
       "[Купить вино Bouchard Aine & Fils в Москве — цена вина Бушар Эне и Фис в \n",
       "...](https://decanter.ru/bouchard-aine-fils)\n",
       "Вино Bouchard Aine & Fils 94 товара Вино «Бушар эне и фис» производится в Бургундии с 1731 года. Для изготовления \n",
       "используется виноград сортов Шардоне и Пино-нуар.\n",
       "\n",
       "[Old Bridge Areni купить Вино Олд Бридж Арени 0.75л \n",
       "цена](https://www.cigarpro.ru/drinks/wine/armenia/old-bridge/old-bridge-areni-750-ml/)\n",
       "Old Bridge Areni купить Вино Олд Бридж Арени 0.75л цена Официальная поставка, лучший выбор, квалифицированные \n",
       "специалисты, лучшие цены в москве\n",
       "\n",
       "[Вино Old Bridge купить - цена в магазине АлкоПлаза](https://www.alcoplaza.ru/Old-Bridge)\n",
       "Вино Old Bridge Вино Old Bridge — самобытный алкоголь крепостью 13-14 градусов от одноименной армянской компании, \n",
       "которая была основана в 1998 году супругами Арменом и Ашхен Халатян.\n",
       "\n",
       "[Купить вино Old Bridge Winery — цены и отзывы на вино Олд Бридж в \n",
       "...](https://winestyle.ru/wine/old-bridge-winery/)\n",
       "🍷 Продажа вина Old Bridge Winery в магазине WineStyle! Полный ассортимент, подробное описание, цены и отзывы от \n",
       "реальных людей ☎ +7 (499) 703-51-51.\n",
       "\n",
       "[Вино Old Bridge Areni Reserve 2012 0.75 л](https://www.cru.ru/wine/armenia/old-bridge-2012/)\n",
       "Выдержанное красное сухое вино Old Bridge Reserve 0,75л создаётся винодельней «Олд Бридж» в армянском регионе Вайоц\n",
       "Дзор из старинного автохтонного сорта Арени.\n",
       "\n",
       "[Вино Old Bridge - купить вино Old Bridge, цены на \n",
       "Мегамаркет](https://megamarket.ru/catalog/vino/brand-old-bridge/)\n",
       "В нашем маркетплейсе Мегамаркет можно купить вино Old Bridge от 1800 рублей со скидкой за бонусы.\n",
       "\n",
       "[Вино Old Bridge, Reserve 2012 0.75 л](https://bestwine24.ru/vino-old-bridge-reserve-2012/)\n",
       "Олд Бридж, Резерв 2012 - армянское сухое красное вино из винограда Арени. Купить Old Bridge, Reserve 2012, 0.75 л \n",
       "по цене 2 950 ₽\n",
       "\n",
       "[Вино Old Bridge Красное сухое Арени Резервное г.у. 2019 14%, 0,75 л \n",
       "...](https://amelia.shop/product/vino-krasnoe-suhoe-old-bridzh-areni-rezerv-2019-14-075l-new-4011)\n",
       "Вино Old Bridge Красное сухое Арени Резервное г.у. 2019 14%, 0,75 л, Армения Виноградники расположены на правом \n",
       "берегу реки Арпа, рядом с маленькой деревней Арпи, на высоте 1250-1300 м над уровнем моря.\n",
       "\n",
       "Out: None\n"
      ]
     },
     "metadata": {},
     "output_type": "display_data"
    },
    {
     "data": {
      "text/html": [
       "<pre style=\"white-space:pre;overflow-x:auto;line-height:normal;font-family:Menlo,'DejaVu Sans Mono',consolas,'Courier New',monospace\"><span style=\"color: #7f7f7f; text-decoration-color: #7f7f7f\">[Step 2: Duration 4.06 seconds| Input tokens: 5,787 | Output tokens: 160]</span>\n",
       "</pre>\n"
      ],
      "text/plain": [
       "\u001b[2m[Step 2: Duration 4.06 seconds| Input tokens: 5,787 | Output tokens: 160]\u001b[0m\n"
      ]
     },
     "metadata": {},
     "output_type": "display_data"
    },
    {
     "data": {
      "text/html": [
       "<pre style=\"white-space:pre;overflow-x:auto;line-height:normal;font-family:Menlo,'DejaVu Sans Mono',consolas,'Courier New',monospace\"><span style=\"color: #d4b702; text-decoration-color: #d4b702\">━━━━━━━━━━━━━━━━━━━━━━━━━━━━━━━━━━━━━━━━━━━━━━━━━━━━━ </span><span style=\"font-weight: bold\">Step </span><span style=\"color: #008080; text-decoration-color: #008080; font-weight: bold\">3</span><span style=\"color: #d4b702; text-decoration-color: #d4b702\"> ━━━━━━━━━━━━━━━━━━━━━━━━━━━━━━━━━━━━━━━━━━━━━━━━━━━━━━</span>\n",
       "</pre>\n"
      ],
      "text/plain": [
       "\u001b[38;2;212;183;2m━━━━━━━━━━━━━━━━━━━━━━━━━━━━━━━━━━━━━━━━━━━━━━━━━━━━━ \u001b[0m\u001b[1mStep \u001b[0m\u001b[1;36m3\u001b[0m\u001b[38;2;212;183;2m ━━━━━━━━━━━━━━━━━━━━━━━━━━━━━━━━━━━━━━━━━━━━━━━━━━━━━━\u001b[0m\n"
      ]
     },
     "metadata": {},
     "output_type": "display_data"
    },
    {
     "data": {
      "text/html": [
       "<pre style=\"white-space:pre;overflow-x:auto;line-height:normal;font-family:Menlo,'DejaVu Sans Mono',consolas,'Courier New',monospace\"> ─ <span style=\"font-weight: bold\">Executing parsed code:</span> ──────────────────────────────────────────────────────────────────────────────────────── \n",
       "  <span style=\"color: #f8f8f2; text-decoration-color: #f8f8f2; background-color: #272822\">result </span><span style=\"color: #ff4689; text-decoration-color: #ff4689; background-color: #272822\">=</span><span style=\"color: #f8f8f2; text-decoration-color: #f8f8f2; background-color: #272822\"> web_search(</span><span style=\"color: #e6db74; text-decoration-color: #e6db74; background-color: #272822\">\"цена Bouchard Aine &amp; Fils Pommard\"</span><span style=\"color: #f8f8f2; text-decoration-color: #f8f8f2; background-color: #272822\">)</span><span style=\"background-color: #272822\">                                                       </span>  \n",
       "  <span style=\"color: #f8f8f2; text-decoration-color: #f8f8f2; background-color: #272822\">print(result)</span><span style=\"background-color: #272822\">                                                                                                  </span>  \n",
       " ───────────────────────────────────────────────────────────────────────────────────────────────────────────────── \n",
       "</pre>\n"
      ],
      "text/plain": [
       " ─ \u001b[1mExecuting parsed code:\u001b[0m ──────────────────────────────────────────────────────────────────────────────────────── \n",
       "  \u001b[38;2;248;248;242;48;2;39;40;34mresult\u001b[0m\u001b[38;2;248;248;242;48;2;39;40;34m \u001b[0m\u001b[38;2;255;70;137;48;2;39;40;34m=\u001b[0m\u001b[38;2;248;248;242;48;2;39;40;34m \u001b[0m\u001b[38;2;248;248;242;48;2;39;40;34mweb_search\u001b[0m\u001b[38;2;248;248;242;48;2;39;40;34m(\u001b[0m\u001b[38;2;230;219;116;48;2;39;40;34m\"\u001b[0m\u001b[38;2;230;219;116;48;2;39;40;34mцена Bouchard Aine & Fils Pommard\u001b[0m\u001b[38;2;230;219;116;48;2;39;40;34m\"\u001b[0m\u001b[38;2;248;248;242;48;2;39;40;34m)\u001b[0m\u001b[48;2;39;40;34m                                                       \u001b[0m  \n",
       "  \u001b[38;2;248;248;242;48;2;39;40;34mprint\u001b[0m\u001b[38;2;248;248;242;48;2;39;40;34m(\u001b[0m\u001b[38;2;248;248;242;48;2;39;40;34mresult\u001b[0m\u001b[38;2;248;248;242;48;2;39;40;34m)\u001b[0m\u001b[48;2;39;40;34m                                                                                                  \u001b[0m  \n",
       " ───────────────────────────────────────────────────────────────────────────────────────────────────────────────── \n"
      ]
     },
     "metadata": {},
     "output_type": "display_data"
    },
    {
     "data": {
      "text/html": [
       "<pre style=\"white-space:pre;overflow-x:auto;line-height:normal;font-family:Menlo,'DejaVu Sans Mono',consolas,'Courier New',monospace\"><span style=\"font-weight: bold\">Execution logs:</span>\n",
       "## Search Results\n",
       "\n",
       "[Bouchard Aîné &amp; Fils Pommard | Vivino US](https://www.vivino.com/US/en/bouchard-aine-et-fils-pommard/w/82998)\n",
       "Sort and explore the best vintages of Bouchard Aîné &amp; Fils Pommard. Show all. What does this wine taste like? \n",
       "Light. Bold. Smooth. Tannic. Dry. Sweet. Soft. Acidic. ... Bouchard Aîné &amp; Fils. Winery in Beaune. 295 Wines. 3.7 \n",
       "106,450 Total ratings. Trusted by millions to discover and buy the right wine every time.\n",
       "\n",
       "[Bouchard Aine Fils Pommard Burgundy - The Good \n",
       "Pour](https://goodpour.com/products/bouchard-aine-fils-pommard-burgundy)\n",
       "Bouchard Aine Fils Pommard Burgundy Bouchard Aine Fils. Home / Bouchard Aine Fils Pommard Burgundy Bouchard Aine \n",
       "Fils. size size. 750 ML. Price Regular price. $99 99 $99.99 To your charity: $3.71 / Easy returns; Secure payments;\n",
       "Low stock - 2 items left Inventory on the way ...\n",
       "\n",
       "[Bouchard Aine &amp; Fils Pommard 2018 - \n",
       "Wine.com](https://www.wine.com/product/bouchard-aine-and-fils-pommard-2018/1282143)\n",
       "Bouchard Aine &amp; Fils Pommard 2018 from Pommard, Cote de Beaune, Cote d'Or, Burgundy, France - An elegant and limpid\n",
       "cherry red. A complex and powerful bouquet, dominated by fruity aromas (morello cherries, fresh figs) and scents of\n",
       "woodland, undergrowth ...\n",
       "\n",
       "[Bouchard Aine &amp; Fils Pommard 2018 750ml - Luekens Wine &amp; \n",
       "Spirits](https://www.luekensliquors.com/product/bouchard-aine-fils-pommard-2018-750ml/)\n",
       "Home / Wine / Red Wine / French Red / Bouchard Aine &amp; Fils Pommard 2018 750ml Bouchard Aine &amp; Fils Pommard 2018 \n",
       "750ml. 750ml $ 49.99. An elegant and limpid cherry red. A complex and powerful bouquet, dominated by fruity aromas \n",
       "(morello cherries, fresh figs) and scents of woodland, undergrowth and spices. Vintage: 2018. Size: 750ml.\n",
       "\n",
       "[Вино Bouchard Aine &amp; Fils, Pommard AOC, 0.75 \n",
       "л](https://vinnayagramota.ru/vino/vino_bouchard_aine__fils_pommard_aoc_2016)\n",
       "В продаже Вино Bouchard Aine &amp; Fils, Pommard AOC, 0.75 л (Франция) в Москве. Цена 9107.31 ₽. Вино Бушар Эне &amp; Фис, \n",
       "Поммар, 750 мл. Магазин Винная Грамота. 👍 Отзывы покупателей. ⭐ Скидки.\n",
       "\n",
       "[Buy Wine Pommard Red - Bouchard Aîné Et Fils - Best \n",
       "Price](https://www.thewineilove.com/france/burgundy/pommard/pommard-wine-11511.html)\n",
       "Buy the wine you like at the best price, directly from the winemaker. 30,000+ wines with competitive shipping \n",
       "options.\n",
       "\n",
       "[Вино Bouchard Aine&amp;Fils Pommard - \n",
       "ast.wine](https://ast.wine/catalog/product/bouchard_aine_fils_pommard_3340180001273_27231/)\n",
       "Продажа Bouchard Aine&amp;Fils Pommard (Красное Вино) 750 мл, (Бушар Эне&amp;Фис Поммар 0.75 л), AOP, цвет: красный, в \n",
       "магазине AST. Артикул: 27231. Производитель (Франция, Кот-де-Бон) Бушар Эне &amp; Фис. ☎ +7 (495) 993-99-99.\n",
       "\n",
       "[POMMARD LA CHANIÈRE &gt; BOUCHARD Ainé &amp; \n",
       "Fils](https://www.bouchard-aine.fr/en/our-wines.r-2/our-range-of-wines.r-12/pommard-la-chaniere.v-18052.html)\n",
       "Pommard is one of the most famous villages in the Côte de Beaune, situated 5 km south of the town of Beaune on the \n",
       "route de Grands Crus. The appellation covers 322 hectares and produces only red wines, with 36% of its wines \n",
       "classified as 1er Cru.\n",
       "\n",
       "[Купить Вино Bouchard Aine &amp; Fils Pommard 0.75 л по цене ₽ в винотеке \n",
       "...](https://winemore.ru/catalog/vino/vino_bouchard_aine__fils_pommard_075_l/)\n",
       "Купить Вино Bouchard Aine &amp; Fils Pommard 0.75 л Франция по выгодной цене в интернет-магазине Winemore 壟 Вино \n",
       "Bouchard Aine &amp; Fils Сухое по цене ₽ ⭐ в магазинах Москвы и Московской области\n",
       "\n",
       "[POMMARD PREMIER CRU LES CHARMOTS &gt; BOUCHARD Ainé &amp; \n",
       "Fils](https://www.bouchard-aine.fr/en/our-wines.r-2/our-range-of-wines.r-12/pommard-premier-cru-les-charmots.v-1282\n",
       ".html)\n",
       "Pommard is one of the most famous villages in the Côte de Beaune, located 5 km south of Beaune on the Route des \n",
       "Grands Crus. The vineyard extends over 322 hectares and produces only red wines, with a proportion of 36% rated 1er\n",
       "Cru. The climat \"Les Charmots\" is located mid-slope just north of the village with an heavenly south-east exposure.\n",
       "\n",
       "Out: None\n",
       "</pre>\n"
      ],
      "text/plain": [
       "\u001b[1mExecution logs:\u001b[0m\n",
       "## Search Results\n",
       "\n",
       "[Bouchard Aîné & Fils Pommard | Vivino US](https://www.vivino.com/US/en/bouchard-aine-et-fils-pommard/w/82998)\n",
       "Sort and explore the best vintages of Bouchard Aîné & Fils Pommard. Show all. What does this wine taste like? \n",
       "Light. Bold. Smooth. Tannic. Dry. Sweet. Soft. Acidic. ... Bouchard Aîné & Fils. Winery in Beaune. 295 Wines. 3.7 \n",
       "106,450 Total ratings. Trusted by millions to discover and buy the right wine every time.\n",
       "\n",
       "[Bouchard Aine Fils Pommard Burgundy - The Good \n",
       "Pour](https://goodpour.com/products/bouchard-aine-fils-pommard-burgundy)\n",
       "Bouchard Aine Fils Pommard Burgundy Bouchard Aine Fils. Home / Bouchard Aine Fils Pommard Burgundy Bouchard Aine \n",
       "Fils. size size. 750 ML. Price Regular price. $99 99 $99.99 To your charity: $3.71 / Easy returns; Secure payments;\n",
       "Low stock - 2 items left Inventory on the way ...\n",
       "\n",
       "[Bouchard Aine & Fils Pommard 2018 - \n",
       "Wine.com](https://www.wine.com/product/bouchard-aine-and-fils-pommard-2018/1282143)\n",
       "Bouchard Aine & Fils Pommard 2018 from Pommard, Cote de Beaune, Cote d'Or, Burgundy, France - An elegant and limpid\n",
       "cherry red. A complex and powerful bouquet, dominated by fruity aromas (morello cherries, fresh figs) and scents of\n",
       "woodland, undergrowth ...\n",
       "\n",
       "[Bouchard Aine & Fils Pommard 2018 750ml - Luekens Wine & \n",
       "Spirits](https://www.luekensliquors.com/product/bouchard-aine-fils-pommard-2018-750ml/)\n",
       "Home / Wine / Red Wine / French Red / Bouchard Aine & Fils Pommard 2018 750ml Bouchard Aine & Fils Pommard 2018 \n",
       "750ml. 750ml $ 49.99. An elegant and limpid cherry red. A complex and powerful bouquet, dominated by fruity aromas \n",
       "(morello cherries, fresh figs) and scents of woodland, undergrowth and spices. Vintage: 2018. Size: 750ml.\n",
       "\n",
       "[Вино Bouchard Aine & Fils, Pommard AOC, 0.75 \n",
       "л](https://vinnayagramota.ru/vino/vino_bouchard_aine__fils_pommard_aoc_2016)\n",
       "В продаже Вино Bouchard Aine & Fils, Pommard AOC, 0.75 л (Франция) в Москве. Цена 9107.31 ₽. Вино Бушар Эне & Фис, \n",
       "Поммар, 750 мл. Магазин Винная Грамота. 👍 Отзывы покупателей. ⭐ Скидки.\n",
       "\n",
       "[Buy Wine Pommard Red - Bouchard Aîné Et Fils - Best \n",
       "Price](https://www.thewineilove.com/france/burgundy/pommard/pommard-wine-11511.html)\n",
       "Buy the wine you like at the best price, directly from the winemaker. 30,000+ wines with competitive shipping \n",
       "options.\n",
       "\n",
       "[Вино Bouchard Aine&Fils Pommard - \n",
       "ast.wine](https://ast.wine/catalog/product/bouchard_aine_fils_pommard_3340180001273_27231/)\n",
       "Продажа Bouchard Aine&Fils Pommard (Красное Вино) 750 мл, (Бушар Эне&Фис Поммар 0.75 л), AOP, цвет: красный, в \n",
       "магазине AST. Артикул: 27231. Производитель (Франция, Кот-де-Бон) Бушар Эне & Фис. ☎ +7 (495) 993-99-99.\n",
       "\n",
       "[POMMARD LA CHANIÈRE > BOUCHARD Ainé & \n",
       "Fils](https://www.bouchard-aine.fr/en/our-wines.r-2/our-range-of-wines.r-12/pommard-la-chaniere.v-18052.html)\n",
       "Pommard is one of the most famous villages in the Côte de Beaune, situated 5 km south of the town of Beaune on the \n",
       "route de Grands Crus. The appellation covers 322 hectares and produces only red wines, with 36% of its wines \n",
       "classified as 1er Cru.\n",
       "\n",
       "[Купить Вино Bouchard Aine & Fils Pommard 0.75 л по цене ₽ в винотеке \n",
       "...](https://winemore.ru/catalog/vino/vino_bouchard_aine__fils_pommard_075_l/)\n",
       "Купить Вино Bouchard Aine & Fils Pommard 0.75 л Франция по выгодной цене в интернет-магазине Winemore 壟 Вино \n",
       "Bouchard Aine & Fils Сухое по цене ₽ ⭐ в магазинах Москвы и Московской области\n",
       "\n",
       "[POMMARD PREMIER CRU LES CHARMOTS > BOUCHARD Ainé & \n",
       "Fils](https://www.bouchard-aine.fr/en/our-wines.r-2/our-range-of-wines.r-12/pommard-premier-cru-les-charmots.v-1282\n",
       ".html)\n",
       "Pommard is one of the most famous villages in the Côte de Beaune, located 5 km south of Beaune on the Route des \n",
       "Grands Crus. The vineyard extends over 322 hectares and produces only red wines, with a proportion of 36% rated 1er\n",
       "Cru. The climat \"Les Charmots\" is located mid-slope just north of the village with an heavenly south-east exposure.\n",
       "\n",
       "Out: None\n"
      ]
     },
     "metadata": {},
     "output_type": "display_data"
    },
    {
     "data": {
      "text/html": [
       "<pre style=\"white-space:pre;overflow-x:auto;line-height:normal;font-family:Menlo,'DejaVu Sans Mono',consolas,'Courier New',monospace\"><span style=\"color: #7f7f7f; text-decoration-color: #7f7f7f\">[Step 3: Duration 5.17 seconds| Input tokens: 10,411 | Output tokens: 263]</span>\n",
       "</pre>\n"
      ],
      "text/plain": [
       "\u001b[2m[Step 3: Duration 5.17 seconds| Input tokens: 10,411 | Output tokens: 263]\u001b[0m\n"
      ]
     },
     "metadata": {},
     "output_type": "display_data"
    },
    {
     "data": {
      "text/html": [
       "<pre style=\"white-space:pre;overflow-x:auto;line-height:normal;font-family:Menlo,'DejaVu Sans Mono',consolas,'Courier New',monospace\"><span style=\"color: #d4b702; text-decoration-color: #d4b702\">━━━━━━━━━━━━━━━━━━━━━━━━━━━━━━━━━━━━━━━━━━━━━━━━━━━━━ </span><span style=\"font-weight: bold\">Step </span><span style=\"color: #008080; text-decoration-color: #008080; font-weight: bold\">4</span><span style=\"color: #d4b702; text-decoration-color: #d4b702\"> ━━━━━━━━━━━━━━━━━━━━━━━━━━━━━━━━━━━━━━━━━━━━━━━━━━━━━━</span>\n",
       "</pre>\n"
      ],
      "text/plain": [
       "\u001b[38;2;212;183;2m━━━━━━━━━━━━━━━━━━━━━━━━━━━━━━━━━━━━━━━━━━━━━━━━━━━━━ \u001b[0m\u001b[1mStep \u001b[0m\u001b[1;36m4\u001b[0m\u001b[38;2;212;183;2m ━━━━━━━━━━━━━━━━━━━━━━━━━━━━━━━━━━━━━━━━━━━━━━━━━━━━━━\u001b[0m\n"
      ]
     },
     "metadata": {},
     "output_type": "display_data"
    },
    {
     "data": {
      "text/html": [
       "<pre style=\"white-space:pre;overflow-x:auto;line-height:normal;font-family:Menlo,'DejaVu Sans Mono',consolas,'Courier New',monospace\"> ─ <span style=\"font-weight: bold\">Executing parsed code:</span> ──────────────────────────────────────────────────────────────────────────────────────── \n",
       "  <span style=\"color: #f8f8f2; text-decoration-color: #f8f8f2; background-color: #272822\">result </span><span style=\"color: #ff4689; text-decoration-color: #ff4689; background-color: #272822\">=</span><span style=\"color: #f8f8f2; text-decoration-color: #f8f8f2; background-color: #272822\"> web_search(</span><span style=\"color: #e6db74; text-decoration-color: #e6db74; background-color: #272822\">\"цена на вино Кот-Роти и Бароло\"</span><span style=\"color: #f8f8f2; text-decoration-color: #f8f8f2; background-color: #272822\">)</span><span style=\"background-color: #272822\">                                                          </span>  \n",
       "  <span style=\"color: #f8f8f2; text-decoration-color: #f8f8f2; background-color: #272822\">print(result)</span><span style=\"background-color: #272822\">                                                                                                  </span>  \n",
       " ───────────────────────────────────────────────────────────────────────────────────────────────────────────────── \n",
       "</pre>\n"
      ],
      "text/plain": [
       " ─ \u001b[1mExecuting parsed code:\u001b[0m ──────────────────────────────────────────────────────────────────────────────────────── \n",
       "  \u001b[38;2;248;248;242;48;2;39;40;34mresult\u001b[0m\u001b[38;2;248;248;242;48;2;39;40;34m \u001b[0m\u001b[38;2;255;70;137;48;2;39;40;34m=\u001b[0m\u001b[38;2;248;248;242;48;2;39;40;34m \u001b[0m\u001b[38;2;248;248;242;48;2;39;40;34mweb_search\u001b[0m\u001b[38;2;248;248;242;48;2;39;40;34m(\u001b[0m\u001b[38;2;230;219;116;48;2;39;40;34m\"\u001b[0m\u001b[38;2;230;219;116;48;2;39;40;34mцена на вино Кот-Роти и Бароло\u001b[0m\u001b[38;2;230;219;116;48;2;39;40;34m\"\u001b[0m\u001b[38;2;248;248;242;48;2;39;40;34m)\u001b[0m\u001b[48;2;39;40;34m                                                          \u001b[0m  \n",
       "  \u001b[38;2;248;248;242;48;2;39;40;34mprint\u001b[0m\u001b[38;2;248;248;242;48;2;39;40;34m(\u001b[0m\u001b[38;2;248;248;242;48;2;39;40;34mresult\u001b[0m\u001b[38;2;248;248;242;48;2;39;40;34m)\u001b[0m\u001b[48;2;39;40;34m                                                                                                  \u001b[0m  \n",
       " ───────────────────────────────────────────────────────────────────────────────────────────────────────────────── \n"
      ]
     },
     "metadata": {},
     "output_type": "display_data"
    },
    {
     "data": {
      "text/html": [
       "<pre style=\"white-space:pre;overflow-x:auto;line-height:normal;font-family:Menlo,'DejaVu Sans Mono',consolas,'Courier New',monospace\"><span style=\"font-weight: bold\">Execution logs:</span>\n",
       "## Search Results\n",
       "\n",
       "[изба Канти - топ цени - Онлайн магазин за алкохол Ноков и \n",
       "Син](https://nokovandson.com/vino/wine-import/old-world/italy/canti)\n",
       "Виното Канти Премиум Естейт 750мл Бароло ДОКГ е червено на цвят, като на моменти проблясва оранжево. 11.68 лв. Цена\n",
       "дребно 11.90 лв. Цена на едро 10.70 лв.\n",
       "\n",
       "[Сира Кот-Роти Вией Вин 2017 - seewines](https://seewines.com/cote-rotie-aoc-2017-maison-tardieu-laurent)\n",
       "Виното отлежава 12 месеца в едногодишни барици и 6 месеца в големи дъбови съдове. Безплатна доставка над 119 лв. \n",
       "Български\n",
       "\n",
       "[Бароло и Барбареско - BNK Wines](https://bnkwines.bg/cherveno-vino/barolo-i-barbaresko.html)\n",
       "Избери продукт от Бароло и Барбареско. Поръчай лесно онлайн и се възползвай от доставка до твоята врата.\n",
       "\n",
       "[Barolo DOCG, 750 ml - Червено - DrinkLink.bg](https://drinklink.bg/barolo-docg/)\n",
       "Barolo DOCG 750 ml на цена от 69,59 лв. лв. може да поръчате онлайн от DrinkLink.bg - онлайн магазин за алкохол, \n",
       "кафе и шоколад.\n",
       "\n",
       "[ВИНО промоции • Днес от 1,49 лв.](https://moiatabroshura.bg/produkti/vino)\n",
       "Продуктът вино е в момента на разположение в няколко промоции, с намаление можете да го закупите от BILLA, BulMag, \n",
       "CBA, КАМ Маркет, Кауфланд, Лидл, МЕТРО, Пацони, Т Маркет, Фантастико магазините.\n",
       "\n",
       "[Вино Бароло - купить, цена на вино Бароло Италия в Москве](https://vinoterra.ru/catalog/vino/barolo/)\n",
       "Винотерра 🍇 предлагает большой выбор итальянских вин 🍷 из Бароло по доступным ценам. Подробную информацию узнайте\n",
       "на сайте либо по телефону ☎ +7 (495) 580 99 30.\n",
       "\n",
       "[Бароло - drinkstore.bg](https://drinkstore.bg/barolo/)\n",
       "Бароло, с мощните си танини и високи киселини, е вино за храна. Колкото е по-младо виното, толкова по-добре се \n",
       "съчетава с меса като глиган, агнешко, дивеч, приготвени с тежки сосове. Отлежалото Бароло е с по-меки и развити \n",
       "танини, които го правят по-подходящо за меса като патица, телешко, свинско, а дори и паста. Източник: Sommelier.BG.\n",
       "\n",
       "[Червено вино Бароло ДОКГ 2019г. 0,75л. Антике Кантине деи Маркези ди \n",
       "...](https://meik98.bg/bg/cherveno-vino-barolo-dokg-2019g..html)\n",
       "Срокът на доставката обикновено е до пет дни и цената за доставка е в зависимост от килограмите на пратката по \n",
       "тарифата на куриерската фирма - доставчик.\n",
       "\n",
       "[бароло - Търсене - онлайн магазин за алкохол Ноков и Син](https://nokovandson.com/search?q=бароло)\n",
       "бароло - Търсене - онлайн магазин за алкохол Ноков и Син ... бароло\n",
       "\n",
       "[Бароло DOCG (син етикет) 2013 - seewines](https://seewines.com/barolo-ascheri-docg-blue-label)\n",
       "Едно добре структурирано вино, с отлична хармония и баланс във вкус и аромат.\n",
       "\n",
       "Out: None\n",
       "</pre>\n"
      ],
      "text/plain": [
       "\u001b[1mExecution logs:\u001b[0m\n",
       "## Search Results\n",
       "\n",
       "[изба Канти - топ цени - Онлайн магазин за алкохол Ноков и \n",
       "Син](https://nokovandson.com/vino/wine-import/old-world/italy/canti)\n",
       "Виното Канти Премиум Естейт 750мл Бароло ДОКГ е червено на цвят, като на моменти проблясва оранжево. 11.68 лв. Цена\n",
       "дребно 11.90 лв. Цена на едро 10.70 лв.\n",
       "\n",
       "[Сира Кот-Роти Вией Вин 2017 - seewines](https://seewines.com/cote-rotie-aoc-2017-maison-tardieu-laurent)\n",
       "Виното отлежава 12 месеца в едногодишни барици и 6 месеца в големи дъбови съдове. Безплатна доставка над 119 лв. \n",
       "Български\n",
       "\n",
       "[Бароло и Барбареско - BNK Wines](https://bnkwines.bg/cherveno-vino/barolo-i-barbaresko.html)\n",
       "Избери продукт от Бароло и Барбареско. Поръчай лесно онлайн и се възползвай от доставка до твоята врата.\n",
       "\n",
       "[Barolo DOCG, 750 ml - Червено - DrinkLink.bg](https://drinklink.bg/barolo-docg/)\n",
       "Barolo DOCG 750 ml на цена от 69,59 лв. лв. може да поръчате онлайн от DrinkLink.bg - онлайн магазин за алкохол, \n",
       "кафе и шоколад.\n",
       "\n",
       "[ВИНО промоции • Днес от 1,49 лв.](https://moiatabroshura.bg/produkti/vino)\n",
       "Продуктът вино е в момента на разположение в няколко промоции, с намаление можете да го закупите от BILLA, BulMag, \n",
       "CBA, КАМ Маркет, Кауфланд, Лидл, МЕТРО, Пацони, Т Маркет, Фантастико магазините.\n",
       "\n",
       "[Вино Бароло - купить, цена на вино Бароло Италия в Москве](https://vinoterra.ru/catalog/vino/barolo/)\n",
       "Винотерра 🍇 предлагает большой выбор итальянских вин 🍷 из Бароло по доступным ценам. Подробную информацию узнайте\n",
       "на сайте либо по телефону ☎ +7 (495) 580 99 30.\n",
       "\n",
       "[Бароло - drinkstore.bg](https://drinkstore.bg/barolo/)\n",
       "Бароло, с мощните си танини и високи киселини, е вино за храна. Колкото е по-младо виното, толкова по-добре се \n",
       "съчетава с меса като глиган, агнешко, дивеч, приготвени с тежки сосове. Отлежалото Бароло е с по-меки и развити \n",
       "танини, които го правят по-подходящо за меса като патица, телешко, свинско, а дори и паста. Източник: Sommelier.BG.\n",
       "\n",
       "[Червено вино Бароло ДОКГ 2019г. 0,75л. Антике Кантине деи Маркези ди \n",
       "...](https://meik98.bg/bg/cherveno-vino-barolo-dokg-2019g..html)\n",
       "Срокът на доставката обикновено е до пет дни и цената за доставка е в зависимост от килограмите на пратката по \n",
       "тарифата на куриерската фирма - доставчик.\n",
       "\n",
       "[бароло - Търсене - онлайн магазин за алкохол Ноков и Син](https://nokovandson.com/search?q=бароло)\n",
       "бароло - Търсене - онлайн магазин за алкохол Ноков и Син ... бароло\n",
       "\n",
       "[Бароло DOCG (син етикет) 2013 - seewines](https://seewines.com/barolo-ascheri-docg-blue-label)\n",
       "Едно добре структурирано вино, с отлична хармония и баланс във вкус и аромат.\n",
       "\n",
       "Out: None\n"
      ]
     },
     "metadata": {},
     "output_type": "display_data"
    },
    {
     "data": {
      "text/html": [
       "<pre style=\"white-space:pre;overflow-x:auto;line-height:normal;font-family:Menlo,'DejaVu Sans Mono',consolas,'Courier New',monospace\"><span style=\"color: #7f7f7f; text-decoration-color: #7f7f7f\">[Step 4: Duration 4.70 seconds| Input tokens: 16,707 | Output tokens: 411]</span>\n",
       "</pre>\n"
      ],
      "text/plain": [
       "\u001b[2m[Step 4: Duration 4.70 seconds| Input tokens: 16,707 | Output tokens: 411]\u001b[0m\n"
      ]
     },
     "metadata": {},
     "output_type": "display_data"
    },
    {
     "data": {
      "text/html": [
       "<pre style=\"white-space:pre;overflow-x:auto;line-height:normal;font-family:Menlo,'DejaVu Sans Mono',consolas,'Courier New',monospace\"><span style=\"color: #d4b702; text-decoration-color: #d4b702\">━━━━━━━━━━━━━━━━━━━━━━━━━━━━━━━━━━━━━━━━━━━━━━━━━━━━━ </span><span style=\"font-weight: bold\">Step </span><span style=\"color: #008080; text-decoration-color: #008080; font-weight: bold\">5</span><span style=\"color: #d4b702; text-decoration-color: #d4b702\"> ━━━━━━━━━━━━━━━━━━━━━━━━━━━━━━━━━━━━━━━━━━━━━━━━━━━━━━</span>\n",
       "</pre>\n"
      ],
      "text/plain": [
       "\u001b[38;2;212;183;2m━━━━━━━━━━━━━━━━━━━━━━━━━━━━━━━━━━━━━━━━━━━━━━━━━━━━━ \u001b[0m\u001b[1mStep \u001b[0m\u001b[1;36m5\u001b[0m\u001b[38;2;212;183;2m ━━━━━━━━━━━━━━━━━━━━━━━━━━━━━━━━━━━━━━━━━━━━━━━━━━━━━━\u001b[0m\n"
      ]
     },
     "metadata": {},
     "output_type": "display_data"
    },
    {
     "data": {
      "text/html": [
       "<pre style=\"white-space:pre;overflow-x:auto;line-height:normal;font-family:Menlo,'DejaVu Sans Mono',consolas,'Courier New',monospace\"> ─ <span style=\"font-weight: bold\">Executing parsed code:</span> ──────────────────────────────────────────────────────────────────────────────────────── \n",
       "  <span style=\"color: #f8f8f2; text-decoration-color: #f8f8f2; background-color: #272822\">final_answer([</span><span style=\"background-color: #272822\">                                                                                                 </span>  \n",
       "  <span style=\"color: #f8f8f2; text-decoration-color: #f8f8f2; background-color: #272822\">    {</span><span style=\"color: #e6db74; text-decoration-color: #e6db74; background-color: #272822\">\"name\"</span><span style=\"color: #f8f8f2; text-decoration-color: #f8f8f2; background-color: #272822\">: </span><span style=\"color: #e6db74; text-decoration-color: #e6db74; background-color: #272822\">\"Old Bridge Арени Резервное\"</span><span style=\"color: #f8f8f2; text-decoration-color: #f8f8f2; background-color: #272822\">, </span><span style=\"color: #e6db74; text-decoration-color: #e6db74; background-color: #272822\">\"price\"</span><span style=\"color: #f8f8f2; text-decoration-color: #f8f8f2; background-color: #272822\">: </span><span style=\"color: #e6db74; text-decoration-color: #e6db74; background-color: #272822\">\"от 1800 до 2950 рублей за бутылку 0.75 л\"</span><span style=\"color: #f8f8f2; text-decoration-color: #f8f8f2; background-color: #272822\">},</span><span style=\"background-color: #272822\">               </span>  \n",
       "  <span style=\"color: #f8f8f2; text-decoration-color: #f8f8f2; background-color: #272822\">    {</span><span style=\"color: #e6db74; text-decoration-color: #e6db74; background-color: #272822\">\"name\"</span><span style=\"color: #f8f8f2; text-decoration-color: #f8f8f2; background-color: #272822\">: </span><span style=\"color: #e6db74; text-decoration-color: #e6db74; background-color: #272822\">\"Bouchard Aine &amp; Fils Pommard\"</span><span style=\"color: #f8f8f2; text-decoration-color: #f8f8f2; background-color: #272822\">, </span><span style=\"color: #e6db74; text-decoration-color: #e6db74; background-color: #272822\">\"price\"</span><span style=\"color: #f8f8f2; text-decoration-color: #f8f8f2; background-color: #272822\">: </span><span style=\"color: #e6db74; text-decoration-color: #e6db74; background-color: #272822\">\"около 9107 рублей\"</span><span style=\"color: #f8f8f2; text-decoration-color: #f8f8f2; background-color: #272822\">},</span><span style=\"background-color: #272822\">                                    </span>  \n",
       "  <span style=\"color: #f8f8f2; text-decoration-color: #f8f8f2; background-color: #272822\">    {</span><span style=\"color: #e6db74; text-decoration-color: #e6db74; background-color: #272822\">\"name\"</span><span style=\"color: #f8f8f2; text-decoration-color: #f8f8f2; background-color: #272822\">: </span><span style=\"color: #e6db74; text-decoration-color: #e6db74; background-color: #272822\">\"Бароло\"</span><span style=\"color: #f8f8f2; text-decoration-color: #f8f8f2; background-color: #272822\">, </span><span style=\"color: #e6db74; text-decoration-color: #e6db74; background-color: #272822\">\"price\"</span><span style=\"color: #f8f8f2; text-decoration-color: #f8f8f2; background-color: #272822\">: </span><span style=\"color: #e6db74; text-decoration-color: #e6db74; background-color: #272822\">\"от 69,59 лв. (болгарская валюта)\"</span><span style=\"color: #f8f8f2; text-decoration-color: #f8f8f2; background-color: #272822\">}</span><span style=\"background-color: #272822\">                                            </span>  \n",
       "  <span style=\"color: #f8f8f2; text-decoration-color: #f8f8f2; background-color: #272822\">])</span><span style=\"background-color: #272822\">                                                                                                             </span>  \n",
       " ───────────────────────────────────────────────────────────────────────────────────────────────────────────────── \n",
       "</pre>\n"
      ],
      "text/plain": [
       " ─ \u001b[1mExecuting parsed code:\u001b[0m ──────────────────────────────────────────────────────────────────────────────────────── \n",
       "  \u001b[38;2;248;248;242;48;2;39;40;34mfinal_answer\u001b[0m\u001b[38;2;248;248;242;48;2;39;40;34m(\u001b[0m\u001b[38;2;248;248;242;48;2;39;40;34m[\u001b[0m\u001b[48;2;39;40;34m                                                                                                 \u001b[0m  \n",
       "  \u001b[38;2;248;248;242;48;2;39;40;34m    \u001b[0m\u001b[38;2;248;248;242;48;2;39;40;34m{\u001b[0m\u001b[38;2;230;219;116;48;2;39;40;34m\"\u001b[0m\u001b[38;2;230;219;116;48;2;39;40;34mname\u001b[0m\u001b[38;2;230;219;116;48;2;39;40;34m\"\u001b[0m\u001b[38;2;248;248;242;48;2;39;40;34m:\u001b[0m\u001b[38;2;248;248;242;48;2;39;40;34m \u001b[0m\u001b[38;2;230;219;116;48;2;39;40;34m\"\u001b[0m\u001b[38;2;230;219;116;48;2;39;40;34mOld Bridge Арени Резервное\u001b[0m\u001b[38;2;230;219;116;48;2;39;40;34m\"\u001b[0m\u001b[38;2;248;248;242;48;2;39;40;34m,\u001b[0m\u001b[38;2;248;248;242;48;2;39;40;34m \u001b[0m\u001b[38;2;230;219;116;48;2;39;40;34m\"\u001b[0m\u001b[38;2;230;219;116;48;2;39;40;34mprice\u001b[0m\u001b[38;2;230;219;116;48;2;39;40;34m\"\u001b[0m\u001b[38;2;248;248;242;48;2;39;40;34m:\u001b[0m\u001b[38;2;248;248;242;48;2;39;40;34m \u001b[0m\u001b[38;2;230;219;116;48;2;39;40;34m\"\u001b[0m\u001b[38;2;230;219;116;48;2;39;40;34mот 1800 до 2950 рублей за бутылку 0.75 л\u001b[0m\u001b[38;2;230;219;116;48;2;39;40;34m\"\u001b[0m\u001b[38;2;248;248;242;48;2;39;40;34m}\u001b[0m\u001b[38;2;248;248;242;48;2;39;40;34m,\u001b[0m\u001b[48;2;39;40;34m               \u001b[0m  \n",
       "  \u001b[38;2;248;248;242;48;2;39;40;34m    \u001b[0m\u001b[38;2;248;248;242;48;2;39;40;34m{\u001b[0m\u001b[38;2;230;219;116;48;2;39;40;34m\"\u001b[0m\u001b[38;2;230;219;116;48;2;39;40;34mname\u001b[0m\u001b[38;2;230;219;116;48;2;39;40;34m\"\u001b[0m\u001b[38;2;248;248;242;48;2;39;40;34m:\u001b[0m\u001b[38;2;248;248;242;48;2;39;40;34m \u001b[0m\u001b[38;2;230;219;116;48;2;39;40;34m\"\u001b[0m\u001b[38;2;230;219;116;48;2;39;40;34mBouchard Aine & Fils Pommard\u001b[0m\u001b[38;2;230;219;116;48;2;39;40;34m\"\u001b[0m\u001b[38;2;248;248;242;48;2;39;40;34m,\u001b[0m\u001b[38;2;248;248;242;48;2;39;40;34m \u001b[0m\u001b[38;2;230;219;116;48;2;39;40;34m\"\u001b[0m\u001b[38;2;230;219;116;48;2;39;40;34mprice\u001b[0m\u001b[38;2;230;219;116;48;2;39;40;34m\"\u001b[0m\u001b[38;2;248;248;242;48;2;39;40;34m:\u001b[0m\u001b[38;2;248;248;242;48;2;39;40;34m \u001b[0m\u001b[38;2;230;219;116;48;2;39;40;34m\"\u001b[0m\u001b[38;2;230;219;116;48;2;39;40;34mоколо 9107 рублей\u001b[0m\u001b[38;2;230;219;116;48;2;39;40;34m\"\u001b[0m\u001b[38;2;248;248;242;48;2;39;40;34m}\u001b[0m\u001b[38;2;248;248;242;48;2;39;40;34m,\u001b[0m\u001b[48;2;39;40;34m                                    \u001b[0m  \n",
       "  \u001b[38;2;248;248;242;48;2;39;40;34m    \u001b[0m\u001b[38;2;248;248;242;48;2;39;40;34m{\u001b[0m\u001b[38;2;230;219;116;48;2;39;40;34m\"\u001b[0m\u001b[38;2;230;219;116;48;2;39;40;34mname\u001b[0m\u001b[38;2;230;219;116;48;2;39;40;34m\"\u001b[0m\u001b[38;2;248;248;242;48;2;39;40;34m:\u001b[0m\u001b[38;2;248;248;242;48;2;39;40;34m \u001b[0m\u001b[38;2;230;219;116;48;2;39;40;34m\"\u001b[0m\u001b[38;2;230;219;116;48;2;39;40;34mБароло\u001b[0m\u001b[38;2;230;219;116;48;2;39;40;34m\"\u001b[0m\u001b[38;2;248;248;242;48;2;39;40;34m,\u001b[0m\u001b[38;2;248;248;242;48;2;39;40;34m \u001b[0m\u001b[38;2;230;219;116;48;2;39;40;34m\"\u001b[0m\u001b[38;2;230;219;116;48;2;39;40;34mprice\u001b[0m\u001b[38;2;230;219;116;48;2;39;40;34m\"\u001b[0m\u001b[38;2;248;248;242;48;2;39;40;34m:\u001b[0m\u001b[38;2;248;248;242;48;2;39;40;34m \u001b[0m\u001b[38;2;230;219;116;48;2;39;40;34m\"\u001b[0m\u001b[38;2;230;219;116;48;2;39;40;34mот 69,59 лв. (болгарская валюта)\u001b[0m\u001b[38;2;230;219;116;48;2;39;40;34m\"\u001b[0m\u001b[38;2;248;248;242;48;2;39;40;34m}\u001b[0m\u001b[48;2;39;40;34m                                            \u001b[0m  \n",
       "  \u001b[38;2;248;248;242;48;2;39;40;34m]\u001b[0m\u001b[38;2;248;248;242;48;2;39;40;34m)\u001b[0m\u001b[48;2;39;40;34m                                                                                                             \u001b[0m  \n",
       " ───────────────────────────────────────────────────────────────────────────────────────────────────────────────── \n"
      ]
     },
     "metadata": {},
     "output_type": "display_data"
    },
    {
     "data": {
      "text/html": [
       "<pre style=\"white-space:pre;overflow-x:auto;line-height:normal;font-family:Menlo,'DejaVu Sans Mono',consolas,'Courier New',monospace\"><span style=\"color: #d4b702; text-decoration-color: #d4b702; font-weight: bold\">Out - Final answer: [{'name': 'Old Bridge Арени Резервное', 'price': 'от 1800 до 2950 рублей за бутылку 0.75 л'}, </span>\n",
       "<span style=\"color: #d4b702; text-decoration-color: #d4b702; font-weight: bold\">{'name': 'Bouchard Aine &amp; Fils Pommard', 'price': 'около 9107 рублей'}, {'name': 'Бароло', 'price': 'от 69,59 лв. </span>\n",
       "<span style=\"color: #d4b702; text-decoration-color: #d4b702; font-weight: bold\">(болгарская валюта)'}]</span>\n",
       "</pre>\n"
      ],
      "text/plain": [
       "\u001b[1;38;2;212;183;2mOut - Final answer: [{'name': 'Old Bridge Арени Резервное', 'price': 'от 1800 до 2950 рублей за бутылку 0.75 л'}, \u001b[0m\n",
       "\u001b[1;38;2;212;183;2m{'name': 'Bouchard Aine & Fils Pommard', 'price': 'около 9107 рублей'}, {'name': 'Бароло', 'price': 'от 69,59 лв. \u001b[0m\n",
       "\u001b[1;38;2;212;183;2m(болгарская валюта)'}]\u001b[0m\n"
      ]
     },
     "metadata": {},
     "output_type": "display_data"
    },
    {
     "data": {
      "text/html": [
       "<pre style=\"white-space:pre;overflow-x:auto;line-height:normal;font-family:Menlo,'DejaVu Sans Mono',consolas,'Courier New',monospace\"><span style=\"color: #7f7f7f; text-decoration-color: #7f7f7f\">[Step 5: Duration 3.86 seconds| Input tokens: 24,203 | Output tokens: 593]</span>\n",
       "</pre>\n"
      ],
      "text/plain": [
       "\u001b[2m[Step 5: Duration 3.86 seconds| Input tokens: 24,203 | Output tokens: 593]\u001b[0m\n"
      ]
     },
     "metadata": {},
     "output_type": "display_data"
    },
    {
     "data": {
      "text/plain": [
       "[{'name': 'Old Bridge Арени Резервное',\n",
       "  'price': 'от 1800 до 2950 рублей за бутылку 0.75 л'},\n",
       " {'name': 'Bouchard Aine & Fils Pommard', 'price': 'около 9107 рублей'},\n",
       " {'name': 'Бароло', 'price': 'от 69,59 лв. (болгарская валюта)'}]"
      ]
     },
     "execution_count": 4,
     "metadata": {},
     "output_type": "execute_result"
    }
   ],
   "source": [
    "import yaml\n",
    "russian_templates = yaml.load(open('etc/smolagents_code_agent_russian_prompts.yaml'), Loader=yaml.FullLoader)\n",
    "agent.prompt_templates = russian_templates\n",
    "agent.run(\"Напиши список из трёх лучших вин, подходящих к стейку с кровью, и их цены\")"
   ]
  },
  {
   "cell_type": "markdown",
   "id": "041de117",
   "metadata": {},
   "source": [
    "Видим, что результат получился уже на русском языке.\n",
    "\n",
    "## Model Context Protocol\n",
    "\n",
    "В примере выше, мы искали цены где-то в интернет. А как быть, если агенту нужно работать с конкретным рестораном?\n",
    "\n",
    "Для этого можно использовать технологию [Model Context Protocol (MCP)](https://modelcontextprotocol.io/introduction). Это по сути дела стандартизированный способ сделать \"удалённый RAG\" и \"удалённый вызов инструментов\". В этом случае ресторан может предоставлять своё меню через набор MCP-вызовов. Для этого он должен реализовать MCP-сервер.\n",
    "\n",
    "В нашем примере предположим, что у нас есть ресторан, с некоторым [меню кухни](data/menu/food.md) и [бара](data/menu/drinks.md). Мы реализовали [простой MCP-сервер](mcp-server/mcp-rest.py), который предоставляет два инструмента:\n",
    "* `get_food_menu` для получения списка блюд в виде markdown-таблицы\n",
    "* `get_drinks_menu` - для получения списка напитков\n",
    "\n",
    "Для запуска сервера необходимо установить [FastMCP](https://github.com/jlowin/fastmcp), и далее в командной строке выполнить:\n",
    "```bash\n",
    "fastmcp run -p 8000 --host 127.0.0.1 -t sse mcp-rest.py\n",
    "```"
   ]
  },
  {
   "cell_type": "code",
   "execution_count": 5,
   "id": "10446f7b",
   "metadata": {},
   "outputs": [],
   "source": [
    "from smolagents import OpenAIServerModel, CodeAgent\n",
    "import os\n",
    "import yaml\n",
    "\n",
    "russian_templates = yaml.load(open('etc/smolagents_code_agent_russian_prompts.yaml'), Loader=yaml.FullLoader)\n",
    "\n",
    "ygpt_model = OpenAIServerModel(api_key=os.environ['api_key'], \n",
    "                           model_id=f\"gpt://{os.environ['folder_id']}/yandexgpt/rc\",\n",
    "                           #model_id=f\"gpt://{os.environ['folder_id']}/llama/rc\",\n",
    "                           api_base=\"https://llm.api.cloud.yandex.net/v1\",\n",
    "                           flatten_messages_as_text = True)"
   ]
  },
  {
   "cell_type": "markdown",
   "id": "eecf894e",
   "metadata": {},
   "source": [
    "Теперь мы можем использовать MCP-инструменты в нашем агенте:"
   ]
  },
  {
   "cell_type": "code",
   "execution_count": 6,
   "id": "62ed93ce",
   "metadata": {},
   "outputs": [
    {
     "data": {
      "text/html": [
       "<pre style=\"white-space:pre;overflow-x:auto;line-height:normal;font-family:Menlo,'DejaVu Sans Mono',consolas,'Courier New',monospace\"><span style=\"color: #d4b702; text-decoration-color: #d4b702\">╭──────────────────────────────────────────────────── </span><span style=\"color: #d4b702; text-decoration-color: #d4b702; font-weight: bold\">New run</span><span style=\"color: #d4b702; text-decoration-color: #d4b702\"> ────────────────────────────────────────────────────╮</span>\n",
       "<span style=\"color: #d4b702; text-decoration-color: #d4b702\">│</span>                                                                                                                 <span style=\"color: #d4b702; text-decoration-color: #d4b702\">│</span>\n",
       "<span style=\"color: #d4b702; text-decoration-color: #d4b702\">│</span> <span style=\"font-weight: bold\">Какое самое дорогое блюдо в ресторане?</span>                                                                          <span style=\"color: #d4b702; text-decoration-color: #d4b702\">│</span>\n",
       "<span style=\"color: #d4b702; text-decoration-color: #d4b702\">│</span>                                                                                                                 <span style=\"color: #d4b702; text-decoration-color: #d4b702\">│</span>\n",
       "<span style=\"color: #d4b702; text-decoration-color: #d4b702\">╰─ OpenAIServerModel - gpt://b1gbicod0scglhd49qs0/yandexgpt/rc ───────────────────────────────────────────────────╯</span>\n",
       "</pre>\n"
      ],
      "text/plain": [
       "\u001b[38;2;212;183;2m╭─\u001b[0m\u001b[38;2;212;183;2m───────────────────────────────────────────────────\u001b[0m\u001b[38;2;212;183;2m \u001b[0m\u001b[1;38;2;212;183;2mNew run\u001b[0m\u001b[38;2;212;183;2m \u001b[0m\u001b[38;2;212;183;2m───────────────────────────────────────────────────\u001b[0m\u001b[38;2;212;183;2m─╮\u001b[0m\n",
       "\u001b[38;2;212;183;2m│\u001b[0m                                                                                                                 \u001b[38;2;212;183;2m│\u001b[0m\n",
       "\u001b[38;2;212;183;2m│\u001b[0m \u001b[1mКакое самое дорогое блюдо в ресторане?\u001b[0m                                                                          \u001b[38;2;212;183;2m│\u001b[0m\n",
       "\u001b[38;2;212;183;2m│\u001b[0m                                                                                                                 \u001b[38;2;212;183;2m│\u001b[0m\n",
       "\u001b[38;2;212;183;2m╰─\u001b[0m\u001b[38;2;212;183;2m OpenAIServerModel - gpt://b1gbicod0scglhd49qs0/yandexgpt/rc \u001b[0m\u001b[38;2;212;183;2m──────────────────────────────────────────────────\u001b[0m\u001b[38;2;212;183;2m─╯\u001b[0m\n"
      ]
     },
     "metadata": {},
     "output_type": "display_data"
    },
    {
     "data": {
      "text/html": [
       "<pre style=\"white-space:pre;overflow-x:auto;line-height:normal;font-family:Menlo,'DejaVu Sans Mono',consolas,'Courier New',monospace\"><span style=\"color: #d4b702; text-decoration-color: #d4b702\">━━━━━━━━━━━━━━━━━━━━━━━━━━━━━━━━━━━━━━━━━━━━━━━━━━━━━ </span><span style=\"font-weight: bold\">Step </span><span style=\"color: #008080; text-decoration-color: #008080; font-weight: bold\">1</span><span style=\"color: #d4b702; text-decoration-color: #d4b702\"> ━━━━━━━━━━━━━━━━━━━━━━━━━━━━━━━━━━━━━━━━━━━━━━━━━━━━━━</span>\n",
       "</pre>\n"
      ],
      "text/plain": [
       "\u001b[38;2;212;183;2m━━━━━━━━━━━━━━━━━━━━━━━━━━━━━━━━━━━━━━━━━━━━━━━━━━━━━ \u001b[0m\u001b[1mStep \u001b[0m\u001b[1;36m1\u001b[0m\u001b[38;2;212;183;2m ━━━━━━━━━━━━━━━━━━━━━━━━━━━━━━━━━━━━━━━━━━━━━━━━━━━━━━\u001b[0m\n"
      ]
     },
     "metadata": {},
     "output_type": "display_data"
    },
    {
     "data": {
      "text/html": [
       "<pre style=\"white-space:pre;overflow-x:auto;line-height:normal;font-family:Menlo,'DejaVu Sans Mono',consolas,'Courier New',monospace\"> ─ <span style=\"font-weight: bold\">Executing parsed code:</span> ──────────────────────────────────────────────────────────────────────────────────────── \n",
       "  <span style=\"color: #f8f8f2; text-decoration-color: #f8f8f2; background-color: #272822\">menu </span><span style=\"color: #ff4689; text-decoration-color: #ff4689; background-color: #272822\">=</span><span style=\"color: #f8f8f2; text-decoration-color: #f8f8f2; background-color: #272822\"> get_food_menu()</span><span style=\"background-color: #272822\">                                                                                         </span>  \n",
       "  <span style=\"color: #f8f8f2; text-decoration-color: #f8f8f2; background-color: #272822\">print(menu)</span><span style=\"background-color: #272822\">                                                                                                    </span>  \n",
       " ───────────────────────────────────────────────────────────────────────────────────────────────────────────────── \n",
       "</pre>\n"
      ],
      "text/plain": [
       " ─ \u001b[1mExecuting parsed code:\u001b[0m ──────────────────────────────────────────────────────────────────────────────────────── \n",
       "  \u001b[38;2;248;248;242;48;2;39;40;34mmenu\u001b[0m\u001b[38;2;248;248;242;48;2;39;40;34m \u001b[0m\u001b[38;2;255;70;137;48;2;39;40;34m=\u001b[0m\u001b[38;2;248;248;242;48;2;39;40;34m \u001b[0m\u001b[38;2;248;248;242;48;2;39;40;34mget_food_menu\u001b[0m\u001b[38;2;248;248;242;48;2;39;40;34m(\u001b[0m\u001b[38;2;248;248;242;48;2;39;40;34m)\u001b[0m\u001b[48;2;39;40;34m                                                                                         \u001b[0m  \n",
       "  \u001b[38;2;248;248;242;48;2;39;40;34mprint\u001b[0m\u001b[38;2;248;248;242;48;2;39;40;34m(\u001b[0m\u001b[38;2;248;248;242;48;2;39;40;34mmenu\u001b[0m\u001b[38;2;248;248;242;48;2;39;40;34m)\u001b[0m\u001b[48;2;39;40;34m                                                                                                    \u001b[0m  \n",
       " ───────────────────────────────────────────────────────────────────────────────────────────────────────────────── \n"
      ]
     },
     "metadata": {},
     "output_type": "display_data"
    },
    {
     "data": {
      "text/html": [
       "<pre style=\"white-space:pre;overflow-x:auto;line-height:normal;font-family:Menlo,'DejaVu Sans Mono',consolas,'Courier New',monospace\"><span style=\"font-weight: bold\">Execution logs:</span>\n",
       "| Название блюда            | Описание                                                                 | Тип  | \n",
       "Цена (руб) |  \n",
       "|-------------------------------|-----------------------------------------------------------------------------|----\n",
       "------|---------------|  \n",
       "| Стейк \"Бык на взводе\"           | Сочный рибай с розовым сердцем, томлёный в дыме аргентинских страстей. Подаётся\n",
       "с золотой солью Гималаев. | Стейк    | 2500          |  \n",
       "| Стейк \"Нежность разъярённой коровы\" | Филе-миньон, замаринованное в гранатовом соке и шёпоте шеф-повара. Плюс \n",
       "картофель \"А-ля крылышки дракона\". | Стейк    | 1800          |  \n",
       "| \"Стейк для скромного олигарха\" | Говяжья щека, томлёная 12 часов в вине из погреба Наполеона (ну почти). С \n",
       "хрустящими чипсами из кабачков. | Стейк    | 1200          |  \n",
       "| \"Лосось в мечтах о Норвегии\" | Нежнейший филе-кусок, запечённый под корочкой из \"загадочных северных трав\" \n",
       "(укропа). Подаётся с лимонным бризом. | Рыба     | 1900          |  \n",
       "| \"Осьминог, который видел слишком много\" | Гриль-кальмар с чернильным соусом и намёком на средиземноморские тайны.\n",
       "Для смелых гурманов. | Рыба     | 2200          |  \n",
       "| \"Дорадо под шубой\"        | Филе дорадо, завёрнутое в хрустящий картофельный панцирь. С соусом \"Тайна Атлантиды\".\n",
       "| Рыба     | 1600          |  \n",
       "| \"Картофель 'Я тоже могу быть трюфелем'\" | Нежные дольки, запечённые с розмарином и намёком на дороговизну. \n",
       "Подаётся с воздухом Пиреней. | Гарнир   | 600           |  \n",
       "| \"Грибы, которые танцевали на луну\" | Шампиньоны-гриль с чесночным соусом и намёком на психоделический опыт. | \n",
       "Гарнир   | 450           |  \n",
       "| \"Круассаны, но не те\"     | Аппетитные мини-морковки, глазированные мёдом с намёком на парижское детство. | \n",
       "Гарнир   | 350           |  \n",
       "| \"Шоколадный апокалипсис\"  | Десерт из 72% какао, взрывающий вкусовые рецепторы. С мороженым \"Облако рая\". | \n",
       "Десерт   | 800           |  \n",
       "| \"Чизкейк, который видел Бога\" | Воздушный, с карамелью из ангельских слез и крошками \"райского печенья\". | Десерт\n",
       "| 750           |  \n",
       "| \"Тирамису для взрослых\"   | Классика, но с добавлением \"секретного ингредиента\" (кофе, а что вы подумали?). | \n",
       "Десерт   | 700           |  \n",
       "\n",
       "\n",
       "Out: None\n",
       "</pre>\n"
      ],
      "text/plain": [
       "\u001b[1mExecution logs:\u001b[0m\n",
       "| Название блюда            | Описание                                                                 | Тип  | \n",
       "Цена (руб) |  \n",
       "|-------------------------------|-----------------------------------------------------------------------------|----\n",
       "------|---------------|  \n",
       "| Стейк \"Бык на взводе\"           | Сочный рибай с розовым сердцем, томлёный в дыме аргентинских страстей. Подаётся\n",
       "с золотой солью Гималаев. | Стейк    | 2500          |  \n",
       "| Стейк \"Нежность разъярённой коровы\" | Филе-миньон, замаринованное в гранатовом соке и шёпоте шеф-повара. Плюс \n",
       "картофель \"А-ля крылышки дракона\". | Стейк    | 1800          |  \n",
       "| \"Стейк для скромного олигарха\" | Говяжья щека, томлёная 12 часов в вине из погреба Наполеона (ну почти). С \n",
       "хрустящими чипсами из кабачков. | Стейк    | 1200          |  \n",
       "| \"Лосось в мечтах о Норвегии\" | Нежнейший филе-кусок, запечённый под корочкой из \"загадочных северных трав\" \n",
       "(укропа). Подаётся с лимонным бризом. | Рыба     | 1900          |  \n",
       "| \"Осьминог, который видел слишком много\" | Гриль-кальмар с чернильным соусом и намёком на средиземноморские тайны.\n",
       "Для смелых гурманов. | Рыба     | 2200          |  \n",
       "| \"Дорадо под шубой\"        | Филе дорадо, завёрнутое в хрустящий картофельный панцирь. С соусом \"Тайна Атлантиды\".\n",
       "| Рыба     | 1600          |  \n",
       "| \"Картофель 'Я тоже могу быть трюфелем'\" | Нежные дольки, запечённые с розмарином и намёком на дороговизну. \n",
       "Подаётся с воздухом Пиреней. | Гарнир   | 600           |  \n",
       "| \"Грибы, которые танцевали на луну\" | Шампиньоны-гриль с чесночным соусом и намёком на психоделический опыт. | \n",
       "Гарнир   | 450           |  \n",
       "| \"Круассаны, но не те\"     | Аппетитные мини-морковки, глазированные мёдом с намёком на парижское детство. | \n",
       "Гарнир   | 350           |  \n",
       "| \"Шоколадный апокалипсис\"  | Десерт из 72% какао, взрывающий вкусовые рецепторы. С мороженым \"Облако рая\". | \n",
       "Десерт   | 800           |  \n",
       "| \"Чизкейк, который видел Бога\" | Воздушный, с карамелью из ангельских слез и крошками \"райского печенья\". | Десерт\n",
       "| 750           |  \n",
       "| \"Тирамису для взрослых\"   | Классика, но с добавлением \"секретного ингредиента\" (кофе, а что вы подумали?). | \n",
       "Десерт   | 700           |  \n",
       "\n",
       "\n",
       "Out: None\n"
      ]
     },
     "metadata": {},
     "output_type": "display_data"
    },
    {
     "data": {
      "text/html": [
       "<pre style=\"white-space:pre;overflow-x:auto;line-height:normal;font-family:Menlo,'DejaVu Sans Mono',consolas,'Courier New',monospace\"><span style=\"color: #7f7f7f; text-decoration-color: #7f7f7f\">[Step 1: Duration 2.14 seconds| Input tokens: 2,281 | Output tokens: 72]</span>\n",
       "</pre>\n"
      ],
      "text/plain": [
       "\u001b[2m[Step 1: Duration 2.14 seconds| Input tokens: 2,281 | Output tokens: 72]\u001b[0m\n"
      ]
     },
     "metadata": {},
     "output_type": "display_data"
    },
    {
     "data": {
      "text/html": [
       "<pre style=\"white-space:pre;overflow-x:auto;line-height:normal;font-family:Menlo,'DejaVu Sans Mono',consolas,'Courier New',monospace\"><span style=\"color: #d4b702; text-decoration-color: #d4b702\">━━━━━━━━━━━━━━━━━━━━━━━━━━━━━━━━━━━━━━━━━━━━━━━━━━━━━ </span><span style=\"font-weight: bold\">Step </span><span style=\"color: #008080; text-decoration-color: #008080; font-weight: bold\">2</span><span style=\"color: #d4b702; text-decoration-color: #d4b702\"> ━━━━━━━━━━━━━━━━━━━━━━━━━━━━━━━━━━━━━━━━━━━━━━━━━━━━━━</span>\n",
       "</pre>\n"
      ],
      "text/plain": [
       "\u001b[38;2;212;183;2m━━━━━━━━━━━━━━━━━━━━━━━━━━━━━━━━━━━━━━━━━━━━━━━━━━━━━ \u001b[0m\u001b[1mStep \u001b[0m\u001b[1;36m2\u001b[0m\u001b[38;2;212;183;2m ━━━━━━━━━━━━━━━━━━━━━━━━━━━━━━━━━━━━━━━━━━━━━━━━━━━━━━\u001b[0m\n"
      ]
     },
     "metadata": {},
     "output_type": "display_data"
    },
    {
     "data": {
      "text/html": [
       "<pre style=\"white-space:pre;overflow-x:auto;line-height:normal;font-family:Menlo,'DejaVu Sans Mono',consolas,'Courier New',monospace\"> ─ <span style=\"font-weight: bold\">Executing parsed code:</span> ──────────────────────────────────────────────────────────────────────────────────────── \n",
       "  <span style=\"color: #ff4689; text-decoration-color: #ff4689; background-color: #272822\">import</span><span style=\"color: #f8f8f2; text-decoration-color: #f8f8f2; background-color: #272822\"> re</span><span style=\"background-color: #272822\">                                                                                                      </span>  \n",
       "  <span style=\"background-color: #272822\">                                                                                                               </span>  \n",
       "  <span style=\"color: #959077; text-decoration-color: #959077; background-color: #272822\"># Разбиваем меню на строки</span><span style=\"background-color: #272822\">                                                                                     </span>  \n",
       "  <span style=\"color: #f8f8f2; text-decoration-color: #f8f8f2; background-color: #272822\">lines </span><span style=\"color: #ff4689; text-decoration-color: #ff4689; background-color: #272822\">=</span><span style=\"color: #f8f8f2; text-decoration-color: #f8f8f2; background-color: #272822\"> menu</span><span style=\"color: #ff4689; text-decoration-color: #ff4689; background-color: #272822\">.</span><span style=\"color: #f8f8f2; text-decoration-color: #f8f8f2; background-color: #272822\">split(</span><span style=\"color: #e6db74; text-decoration-color: #e6db74; background-color: #272822\">'</span><span style=\"color: #ae81ff; text-decoration-color: #ae81ff; background-color: #272822\">\\n</span><span style=\"color: #e6db74; text-decoration-color: #e6db74; background-color: #272822\">'</span><span style=\"color: #f8f8f2; text-decoration-color: #f8f8f2; background-color: #272822\">)</span><span style=\"background-color: #272822\">                                                                                       </span>  \n",
       "  <span style=\"background-color: #272822\">                                                                                                               </span>  \n",
       "  <span style=\"color: #959077; text-decoration-color: #959077; background-color: #272822\"># Инициализируем переменные для хранения максимальной цены и соответствующего блюда</span><span style=\"background-color: #272822\">                            </span>  \n",
       "  <span style=\"color: #f8f8f2; text-decoration-color: #f8f8f2; background-color: #272822\">max_price </span><span style=\"color: #ff4689; text-decoration-color: #ff4689; background-color: #272822\">=</span><span style=\"color: #f8f8f2; text-decoration-color: #f8f8f2; background-color: #272822\"> </span><span style=\"color: #ae81ff; text-decoration-color: #ae81ff; background-color: #272822\">0</span><span style=\"background-color: #272822\">                                                                                                  </span>  \n",
       "  <span style=\"color: #f8f8f2; text-decoration-color: #f8f8f2; background-color: #272822\">most_expensive_dish </span><span style=\"color: #ff4689; text-decoration-color: #ff4689; background-color: #272822\">=</span><span style=\"color: #f8f8f2; text-decoration-color: #f8f8f2; background-color: #272822\"> </span><span style=\"color: #e6db74; text-decoration-color: #e6db74; background-color: #272822\">\"\"</span><span style=\"background-color: #272822\">                                                                                       </span>  \n",
       "  <span style=\"background-color: #272822\">                                                                                                               </span>  \n",
       "  <span style=\"color: #959077; text-decoration-color: #959077; background-color: #272822\"># Проходим по строкам меню, начиная со второй (пропускаем заголовок)</span><span style=\"background-color: #272822\">                                           </span>  \n",
       "  <span style=\"color: #66d9ef; text-decoration-color: #66d9ef; background-color: #272822\">for</span><span style=\"color: #f8f8f2; text-decoration-color: #f8f8f2; background-color: #272822\"> line </span><span style=\"color: #ff4689; text-decoration-color: #ff4689; background-color: #272822\">in</span><span style=\"color: #f8f8f2; text-decoration-color: #f8f8f2; background-color: #272822\"> lines[</span><span style=\"color: #ae81ff; text-decoration-color: #ae81ff; background-color: #272822\">1</span><span style=\"color: #f8f8f2; text-decoration-color: #f8f8f2; background-color: #272822\">:]:</span><span style=\"background-color: #272822\">                                                                                         </span>  \n",
       "  <span style=\"color: #f8f8f2; text-decoration-color: #f8f8f2; background-color: #272822\">    </span><span style=\"color: #959077; text-decoration-color: #959077; background-color: #272822\"># Ищем цену в строке</span><span style=\"background-color: #272822\">                                                                                       </span>  \n",
       "  <span style=\"color: #f8f8f2; text-decoration-color: #f8f8f2; background-color: #272822\">    match </span><span style=\"color: #ff4689; text-decoration-color: #ff4689; background-color: #272822\">=</span><span style=\"color: #f8f8f2; text-decoration-color: #f8f8f2; background-color: #272822\"> re</span><span style=\"color: #ff4689; text-decoration-color: #ff4689; background-color: #272822\">.</span><span style=\"color: #f8f8f2; text-decoration-color: #f8f8f2; background-color: #272822\">search(</span><span style=\"color: #e6db74; text-decoration-color: #e6db74; background-color: #272822\">r'\\|\\s*(\\d+)\\s*\\|'</span><span style=\"color: #f8f8f2; text-decoration-color: #f8f8f2; background-color: #272822\">, line)</span><span style=\"background-color: #272822\">                                                                </span>  \n",
       "  <span style=\"color: #f8f8f2; text-decoration-color: #f8f8f2; background-color: #272822\">    </span><span style=\"color: #66d9ef; text-decoration-color: #66d9ef; background-color: #272822\">if</span><span style=\"color: #f8f8f2; text-decoration-color: #f8f8f2; background-color: #272822\"> match:</span><span style=\"background-color: #272822\">                                                                                                  </span>  \n",
       "  <span style=\"color: #f8f8f2; text-decoration-color: #f8f8f2; background-color: #272822\">        price </span><span style=\"color: #ff4689; text-decoration-color: #ff4689; background-color: #272822\">=</span><span style=\"color: #f8f8f2; text-decoration-color: #f8f8f2; background-color: #272822\"> int(match</span><span style=\"color: #ff4689; text-decoration-color: #ff4689; background-color: #272822\">.</span><span style=\"color: #f8f8f2; text-decoration-color: #f8f8f2; background-color: #272822\">group(</span><span style=\"color: #ae81ff; text-decoration-color: #ae81ff; background-color: #272822\">1</span><span style=\"color: #f8f8f2; text-decoration-color: #f8f8f2; background-color: #272822\">))</span><span style=\"background-color: #272822\">                                                                            </span>  \n",
       "  <span style=\"color: #f8f8f2; text-decoration-color: #f8f8f2; background-color: #272822\">        </span><span style=\"color: #959077; text-decoration-color: #959077; background-color: #272822\"># Если цена больше текущей максимальной, обновляем значения</span><span style=\"background-color: #272822\">                                            </span>  \n",
       "  <span style=\"color: #f8f8f2; text-decoration-color: #f8f8f2; background-color: #272822\">        </span><span style=\"color: #66d9ef; text-decoration-color: #66d9ef; background-color: #272822\">if</span><span style=\"color: #f8f8f2; text-decoration-color: #f8f8f2; background-color: #272822\"> price </span><span style=\"color: #ff4689; text-decoration-color: #ff4689; background-color: #272822\">&gt;</span><span style=\"color: #f8f8f2; text-decoration-color: #f8f8f2; background-color: #272822\"> max_price:</span><span style=\"background-color: #272822\">                                                                                  </span>  \n",
       "  <span style=\"color: #f8f8f2; text-decoration-color: #f8f8f2; background-color: #272822\">            max_price </span><span style=\"color: #ff4689; text-decoration-color: #ff4689; background-color: #272822\">=</span><span style=\"color: #f8f8f2; text-decoration-color: #f8f8f2; background-color: #272822\"> price</span><span style=\"background-color: #272822\">                                                                                  </span>  \n",
       "  <span style=\"color: #f8f8f2; text-decoration-color: #f8f8f2; background-color: #272822\">            most_expensive_dish </span><span style=\"color: #ff4689; text-decoration-color: #ff4689; background-color: #272822\">=</span><span style=\"color: #f8f8f2; text-decoration-color: #f8f8f2; background-color: #272822\"> line</span><span style=\"color: #ff4689; text-decoration-color: #ff4689; background-color: #272822\">.</span><span style=\"color: #f8f8f2; text-decoration-color: #f8f8f2; background-color: #272822\">split(</span><span style=\"color: #e6db74; text-decoration-color: #e6db74; background-color: #272822\">'|'</span><span style=\"color: #f8f8f2; text-decoration-color: #f8f8f2; background-color: #272822\">)[</span><span style=\"color: #ae81ff; text-decoration-color: #ae81ff; background-color: #272822\">1</span><span style=\"color: #f8f8f2; text-decoration-color: #f8f8f2; background-color: #272822\">]</span><span style=\"color: #ff4689; text-decoration-color: #ff4689; background-color: #272822\">.</span><span style=\"color: #f8f8f2; text-decoration-color: #f8f8f2; background-color: #272822\">strip()</span><span style=\"background-color: #272822\">                                                   </span>  \n",
       "  <span style=\"background-color: #272822\">                                                                                                               </span>  \n",
       "  <span style=\"color: #f8f8f2; text-decoration-color: #f8f8f2; background-color: #272822\">print(</span><span style=\"color: #e6db74; text-decoration-color: #e6db74; background-color: #272822\">f\"Самое дорогое блюдо: {</span><span style=\"color: #f8f8f2; text-decoration-color: #f8f8f2; background-color: #272822\">most_expensive_dish</span><span style=\"color: #e6db74; text-decoration-color: #e6db74; background-color: #272822\">}, цена: {</span><span style=\"color: #f8f8f2; text-decoration-color: #f8f8f2; background-color: #272822\">max_price</span><span style=\"color: #e6db74; text-decoration-color: #e6db74; background-color: #272822\">} руб.\"</span><span style=\"color: #f8f8f2; text-decoration-color: #f8f8f2; background-color: #272822\">)</span><span style=\"background-color: #272822\">                                   </span>  \n",
       "  <span style=\"color: #f8f8f2; text-decoration-color: #f8f8f2; background-color: #272822\">final_answer(</span><span style=\"color: #e6db74; text-decoration-color: #e6db74; background-color: #272822\">f\"Самое дорогое блюдо: {</span><span style=\"color: #f8f8f2; text-decoration-color: #f8f8f2; background-color: #272822\">most_expensive_dish</span><span style=\"color: #e6db74; text-decoration-color: #e6db74; background-color: #272822\">}, цена: {</span><span style=\"color: #f8f8f2; text-decoration-color: #f8f8f2; background-color: #272822\">max_price</span><span style=\"color: #e6db74; text-decoration-color: #e6db74; background-color: #272822\">} руб.\"</span><span style=\"color: #f8f8f2; text-decoration-color: #f8f8f2; background-color: #272822\">)</span><span style=\"background-color: #272822\">                            </span>  \n",
       " ───────────────────────────────────────────────────────────────────────────────────────────────────────────────── \n",
       "</pre>\n"
      ],
      "text/plain": [
       " ─ \u001b[1mExecuting parsed code:\u001b[0m ──────────────────────────────────────────────────────────────────────────────────────── \n",
       "  \u001b[38;2;255;70;137;48;2;39;40;34mimport\u001b[0m\u001b[38;2;248;248;242;48;2;39;40;34m \u001b[0m\u001b[38;2;248;248;242;48;2;39;40;34mre\u001b[0m\u001b[48;2;39;40;34m                                                                                                      \u001b[0m  \n",
       "  \u001b[48;2;39;40;34m                                                                                                               \u001b[0m  \n",
       "  \u001b[38;2;149;144;119;48;2;39;40;34m# Разбиваем меню на строки\u001b[0m\u001b[48;2;39;40;34m                                                                                     \u001b[0m  \n",
       "  \u001b[38;2;248;248;242;48;2;39;40;34mlines\u001b[0m\u001b[38;2;248;248;242;48;2;39;40;34m \u001b[0m\u001b[38;2;255;70;137;48;2;39;40;34m=\u001b[0m\u001b[38;2;248;248;242;48;2;39;40;34m \u001b[0m\u001b[38;2;248;248;242;48;2;39;40;34mmenu\u001b[0m\u001b[38;2;255;70;137;48;2;39;40;34m.\u001b[0m\u001b[38;2;248;248;242;48;2;39;40;34msplit\u001b[0m\u001b[38;2;248;248;242;48;2;39;40;34m(\u001b[0m\u001b[38;2;230;219;116;48;2;39;40;34m'\u001b[0m\u001b[38;2;174;129;255;48;2;39;40;34m\\n\u001b[0m\u001b[38;2;230;219;116;48;2;39;40;34m'\u001b[0m\u001b[38;2;248;248;242;48;2;39;40;34m)\u001b[0m\u001b[48;2;39;40;34m                                                                                       \u001b[0m  \n",
       "  \u001b[48;2;39;40;34m                                                                                                               \u001b[0m  \n",
       "  \u001b[38;2;149;144;119;48;2;39;40;34m# Инициализируем переменные для хранения максимальной цены и соответствующего блюда\u001b[0m\u001b[48;2;39;40;34m                            \u001b[0m  \n",
       "  \u001b[38;2;248;248;242;48;2;39;40;34mmax_price\u001b[0m\u001b[38;2;248;248;242;48;2;39;40;34m \u001b[0m\u001b[38;2;255;70;137;48;2;39;40;34m=\u001b[0m\u001b[38;2;248;248;242;48;2;39;40;34m \u001b[0m\u001b[38;2;174;129;255;48;2;39;40;34m0\u001b[0m\u001b[48;2;39;40;34m                                                                                                  \u001b[0m  \n",
       "  \u001b[38;2;248;248;242;48;2;39;40;34mmost_expensive_dish\u001b[0m\u001b[38;2;248;248;242;48;2;39;40;34m \u001b[0m\u001b[38;2;255;70;137;48;2;39;40;34m=\u001b[0m\u001b[38;2;248;248;242;48;2;39;40;34m \u001b[0m\u001b[38;2;230;219;116;48;2;39;40;34m\"\u001b[0m\u001b[38;2;230;219;116;48;2;39;40;34m\"\u001b[0m\u001b[48;2;39;40;34m                                                                                       \u001b[0m  \n",
       "  \u001b[48;2;39;40;34m                                                                                                               \u001b[0m  \n",
       "  \u001b[38;2;149;144;119;48;2;39;40;34m# Проходим по строкам меню, начиная со второй (пропускаем заголовок)\u001b[0m\u001b[48;2;39;40;34m                                           \u001b[0m  \n",
       "  \u001b[38;2;102;217;239;48;2;39;40;34mfor\u001b[0m\u001b[38;2;248;248;242;48;2;39;40;34m \u001b[0m\u001b[38;2;248;248;242;48;2;39;40;34mline\u001b[0m\u001b[38;2;248;248;242;48;2;39;40;34m \u001b[0m\u001b[38;2;255;70;137;48;2;39;40;34min\u001b[0m\u001b[38;2;248;248;242;48;2;39;40;34m \u001b[0m\u001b[38;2;248;248;242;48;2;39;40;34mlines\u001b[0m\u001b[38;2;248;248;242;48;2;39;40;34m[\u001b[0m\u001b[38;2;174;129;255;48;2;39;40;34m1\u001b[0m\u001b[38;2;248;248;242;48;2;39;40;34m:\u001b[0m\u001b[38;2;248;248;242;48;2;39;40;34m]\u001b[0m\u001b[38;2;248;248;242;48;2;39;40;34m:\u001b[0m\u001b[48;2;39;40;34m                                                                                         \u001b[0m  \n",
       "  \u001b[38;2;248;248;242;48;2;39;40;34m    \u001b[0m\u001b[38;2;149;144;119;48;2;39;40;34m# Ищем цену в строке\u001b[0m\u001b[48;2;39;40;34m                                                                                       \u001b[0m  \n",
       "  \u001b[38;2;248;248;242;48;2;39;40;34m    \u001b[0m\u001b[38;2;248;248;242;48;2;39;40;34mmatch\u001b[0m\u001b[38;2;248;248;242;48;2;39;40;34m \u001b[0m\u001b[38;2;255;70;137;48;2;39;40;34m=\u001b[0m\u001b[38;2;248;248;242;48;2;39;40;34m \u001b[0m\u001b[38;2;248;248;242;48;2;39;40;34mre\u001b[0m\u001b[38;2;255;70;137;48;2;39;40;34m.\u001b[0m\u001b[38;2;248;248;242;48;2;39;40;34msearch\u001b[0m\u001b[38;2;248;248;242;48;2;39;40;34m(\u001b[0m\u001b[38;2;230;219;116;48;2;39;40;34mr\u001b[0m\u001b[38;2;230;219;116;48;2;39;40;34m'\u001b[0m\u001b[38;2;230;219;116;48;2;39;40;34m\\\u001b[0m\u001b[38;2;230;219;116;48;2;39;40;34m|\u001b[0m\u001b[38;2;230;219;116;48;2;39;40;34m\\\u001b[0m\u001b[38;2;230;219;116;48;2;39;40;34ms*(\u001b[0m\u001b[38;2;230;219;116;48;2;39;40;34m\\\u001b[0m\u001b[38;2;230;219;116;48;2;39;40;34md+)\u001b[0m\u001b[38;2;230;219;116;48;2;39;40;34m\\\u001b[0m\u001b[38;2;230;219;116;48;2;39;40;34ms*\u001b[0m\u001b[38;2;230;219;116;48;2;39;40;34m\\\u001b[0m\u001b[38;2;230;219;116;48;2;39;40;34m|\u001b[0m\u001b[38;2;230;219;116;48;2;39;40;34m'\u001b[0m\u001b[38;2;248;248;242;48;2;39;40;34m,\u001b[0m\u001b[38;2;248;248;242;48;2;39;40;34m \u001b[0m\u001b[38;2;248;248;242;48;2;39;40;34mline\u001b[0m\u001b[38;2;248;248;242;48;2;39;40;34m)\u001b[0m\u001b[48;2;39;40;34m                                                                \u001b[0m  \n",
       "  \u001b[38;2;248;248;242;48;2;39;40;34m    \u001b[0m\u001b[38;2;102;217;239;48;2;39;40;34mif\u001b[0m\u001b[38;2;248;248;242;48;2;39;40;34m \u001b[0m\u001b[38;2;248;248;242;48;2;39;40;34mmatch\u001b[0m\u001b[38;2;248;248;242;48;2;39;40;34m:\u001b[0m\u001b[48;2;39;40;34m                                                                                                  \u001b[0m  \n",
       "  \u001b[38;2;248;248;242;48;2;39;40;34m        \u001b[0m\u001b[38;2;248;248;242;48;2;39;40;34mprice\u001b[0m\u001b[38;2;248;248;242;48;2;39;40;34m \u001b[0m\u001b[38;2;255;70;137;48;2;39;40;34m=\u001b[0m\u001b[38;2;248;248;242;48;2;39;40;34m \u001b[0m\u001b[38;2;248;248;242;48;2;39;40;34mint\u001b[0m\u001b[38;2;248;248;242;48;2;39;40;34m(\u001b[0m\u001b[38;2;248;248;242;48;2;39;40;34mmatch\u001b[0m\u001b[38;2;255;70;137;48;2;39;40;34m.\u001b[0m\u001b[38;2;248;248;242;48;2;39;40;34mgroup\u001b[0m\u001b[38;2;248;248;242;48;2;39;40;34m(\u001b[0m\u001b[38;2;174;129;255;48;2;39;40;34m1\u001b[0m\u001b[38;2;248;248;242;48;2;39;40;34m)\u001b[0m\u001b[38;2;248;248;242;48;2;39;40;34m)\u001b[0m\u001b[48;2;39;40;34m                                                                            \u001b[0m  \n",
       "  \u001b[38;2;248;248;242;48;2;39;40;34m        \u001b[0m\u001b[38;2;149;144;119;48;2;39;40;34m# Если цена больше текущей максимальной, обновляем значения\u001b[0m\u001b[48;2;39;40;34m                                            \u001b[0m  \n",
       "  \u001b[38;2;248;248;242;48;2;39;40;34m        \u001b[0m\u001b[38;2;102;217;239;48;2;39;40;34mif\u001b[0m\u001b[38;2;248;248;242;48;2;39;40;34m \u001b[0m\u001b[38;2;248;248;242;48;2;39;40;34mprice\u001b[0m\u001b[38;2;248;248;242;48;2;39;40;34m \u001b[0m\u001b[38;2;255;70;137;48;2;39;40;34m>\u001b[0m\u001b[38;2;248;248;242;48;2;39;40;34m \u001b[0m\u001b[38;2;248;248;242;48;2;39;40;34mmax_price\u001b[0m\u001b[38;2;248;248;242;48;2;39;40;34m:\u001b[0m\u001b[48;2;39;40;34m                                                                                  \u001b[0m  \n",
       "  \u001b[38;2;248;248;242;48;2;39;40;34m            \u001b[0m\u001b[38;2;248;248;242;48;2;39;40;34mmax_price\u001b[0m\u001b[38;2;248;248;242;48;2;39;40;34m \u001b[0m\u001b[38;2;255;70;137;48;2;39;40;34m=\u001b[0m\u001b[38;2;248;248;242;48;2;39;40;34m \u001b[0m\u001b[38;2;248;248;242;48;2;39;40;34mprice\u001b[0m\u001b[48;2;39;40;34m                                                                                  \u001b[0m  \n",
       "  \u001b[38;2;248;248;242;48;2;39;40;34m            \u001b[0m\u001b[38;2;248;248;242;48;2;39;40;34mmost_expensive_dish\u001b[0m\u001b[38;2;248;248;242;48;2;39;40;34m \u001b[0m\u001b[38;2;255;70;137;48;2;39;40;34m=\u001b[0m\u001b[38;2;248;248;242;48;2;39;40;34m \u001b[0m\u001b[38;2;248;248;242;48;2;39;40;34mline\u001b[0m\u001b[38;2;255;70;137;48;2;39;40;34m.\u001b[0m\u001b[38;2;248;248;242;48;2;39;40;34msplit\u001b[0m\u001b[38;2;248;248;242;48;2;39;40;34m(\u001b[0m\u001b[38;2;230;219;116;48;2;39;40;34m'\u001b[0m\u001b[38;2;230;219;116;48;2;39;40;34m|\u001b[0m\u001b[38;2;230;219;116;48;2;39;40;34m'\u001b[0m\u001b[38;2;248;248;242;48;2;39;40;34m)\u001b[0m\u001b[38;2;248;248;242;48;2;39;40;34m[\u001b[0m\u001b[38;2;174;129;255;48;2;39;40;34m1\u001b[0m\u001b[38;2;248;248;242;48;2;39;40;34m]\u001b[0m\u001b[38;2;255;70;137;48;2;39;40;34m.\u001b[0m\u001b[38;2;248;248;242;48;2;39;40;34mstrip\u001b[0m\u001b[38;2;248;248;242;48;2;39;40;34m(\u001b[0m\u001b[38;2;248;248;242;48;2;39;40;34m)\u001b[0m\u001b[48;2;39;40;34m                                                   \u001b[0m  \n",
       "  \u001b[48;2;39;40;34m                                                                                                               \u001b[0m  \n",
       "  \u001b[38;2;248;248;242;48;2;39;40;34mprint\u001b[0m\u001b[38;2;248;248;242;48;2;39;40;34m(\u001b[0m\u001b[38;2;230;219;116;48;2;39;40;34mf\u001b[0m\u001b[38;2;230;219;116;48;2;39;40;34m\"\u001b[0m\u001b[38;2;230;219;116;48;2;39;40;34mСамое дорогое блюдо: \u001b[0m\u001b[38;2;230;219;116;48;2;39;40;34m{\u001b[0m\u001b[38;2;248;248;242;48;2;39;40;34mmost_expensive_dish\u001b[0m\u001b[38;2;230;219;116;48;2;39;40;34m}\u001b[0m\u001b[38;2;230;219;116;48;2;39;40;34m, цена: \u001b[0m\u001b[38;2;230;219;116;48;2;39;40;34m{\u001b[0m\u001b[38;2;248;248;242;48;2;39;40;34mmax_price\u001b[0m\u001b[38;2;230;219;116;48;2;39;40;34m}\u001b[0m\u001b[38;2;230;219;116;48;2;39;40;34m руб.\u001b[0m\u001b[38;2;230;219;116;48;2;39;40;34m\"\u001b[0m\u001b[38;2;248;248;242;48;2;39;40;34m)\u001b[0m\u001b[48;2;39;40;34m                                   \u001b[0m  \n",
       "  \u001b[38;2;248;248;242;48;2;39;40;34mfinal_answer\u001b[0m\u001b[38;2;248;248;242;48;2;39;40;34m(\u001b[0m\u001b[38;2;230;219;116;48;2;39;40;34mf\u001b[0m\u001b[38;2;230;219;116;48;2;39;40;34m\"\u001b[0m\u001b[38;2;230;219;116;48;2;39;40;34mСамое дорогое блюдо: \u001b[0m\u001b[38;2;230;219;116;48;2;39;40;34m{\u001b[0m\u001b[38;2;248;248;242;48;2;39;40;34mmost_expensive_dish\u001b[0m\u001b[38;2;230;219;116;48;2;39;40;34m}\u001b[0m\u001b[38;2;230;219;116;48;2;39;40;34m, цена: \u001b[0m\u001b[38;2;230;219;116;48;2;39;40;34m{\u001b[0m\u001b[38;2;248;248;242;48;2;39;40;34mmax_price\u001b[0m\u001b[38;2;230;219;116;48;2;39;40;34m}\u001b[0m\u001b[38;2;230;219;116;48;2;39;40;34m руб.\u001b[0m\u001b[38;2;230;219;116;48;2;39;40;34m\"\u001b[0m\u001b[38;2;248;248;242;48;2;39;40;34m)\u001b[0m\u001b[48;2;39;40;34m                            \u001b[0m  \n",
       " ───────────────────────────────────────────────────────────────────────────────────────────────────────────────── \n"
      ]
     },
     "metadata": {},
     "output_type": "display_data"
    },
    {
     "data": {
      "text/html": [
       "<pre style=\"white-space:pre;overflow-x:auto;line-height:normal;font-family:Menlo,'DejaVu Sans Mono',consolas,'Courier New',monospace\"><span style=\"font-weight: bold\">Execution logs:</span>\n",
       "Самое дорогое блюдо: Стейк \"Бык на взводе\", цена: 2500 руб.\n",
       "\n",
       "<span style=\"color: #d4b702; text-decoration-color: #d4b702; font-weight: bold\">Out - Final answer: Самое дорогое блюдо: Стейк \"Бык на взводе\", цена: 2500 руб.</span>\n",
       "</pre>\n"
      ],
      "text/plain": [
       "\u001b[1mExecution logs:\u001b[0m\n",
       "Самое дорогое блюдо: Стейк \"Бык на взводе\", цена: 2500 руб.\n",
       "\n",
       "\u001b[1;38;2;212;183;2mOut - Final answer: Самое дорогое блюдо: Стейк \"Бык на взводе\", цена: 2500 руб.\u001b[0m\n"
      ]
     },
     "metadata": {},
     "output_type": "display_data"
    },
    {
     "data": {
      "text/html": [
       "<pre style=\"white-space:pre;overflow-x:auto;line-height:normal;font-family:Menlo,'DejaVu Sans Mono',consolas,'Courier New',monospace\"><span style=\"color: #7f7f7f; text-decoration-color: #7f7f7f\">[Step 2: Duration 4.29 seconds| Input tokens: 5,357 | Output tokens: 348]</span>\n",
       "</pre>\n"
      ],
      "text/plain": [
       "\u001b[2m[Step 2: Duration 4.29 seconds| Input tokens: 5,357 | Output tokens: 348]\u001b[0m\n"
      ]
     },
     "metadata": {},
     "output_type": "display_data"
    }
   ],
   "source": [
    "import yaml\n",
    "from smolagents.mcp_client import MCPClient\n",
    "\n",
    "with MCPClient({\"url\" : \"http://127.0.0.1:8000/sse\"}) as tools:\n",
    "    agent = CodeAgent(tools=tools, model=ygpt_model)\n",
    "    agent.prompt_templates = yaml.load(open('etc/smolagents_code_agent_russian_prompts.yaml'), Loader=yaml.FullLoader)\n",
    "    agent.run(\"Какое самое дорогое блюдо в ресторане?\")"
   ]
  },
  {
   "cell_type": "markdown",
   "id": "a0e2eeb9",
   "metadata": {},
   "source": [
    "## Подбор меню для ужина\n",
    "\n",
    "Теперь попробуем решить более сложную задачу - подобрать меню для ужина таким образом, чтобы вино и основное блюдо хорошо сочетались. Для этого будем использовать [табличку соответствий еды и вина](data/food_wine_table.md):"
   ]
  },
  {
   "cell_type": "code",
   "execution_count": 7,
   "id": "864a288c",
   "metadata": {},
   "outputs": [
    {
     "data": {
      "text/html": [
       "<div>\n",
       "<style scoped>\n",
       "    .dataframe tbody tr th:only-of-type {\n",
       "        vertical-align: middle;\n",
       "    }\n",
       "\n",
       "    .dataframe tbody tr th {\n",
       "        vertical-align: top;\n",
       "    }\n",
       "\n",
       "    .dataframe thead th {\n",
       "        text-align: right;\n",
       "    }\n",
       "</style>\n",
       "<table border=\"1\" class=\"dataframe\">\n",
       "  <thead>\n",
       "    <tr style=\"text-align: right;\">\n",
       "      <th></th>\n",
       "      <th>food</th>\n",
       "      <th>wine</th>\n",
       "    </tr>\n",
       "  </thead>\n",
       "  <tbody>\n",
       "    <tr>\n",
       "      <th>0</th>\n",
       "      <td>Баклажаны, запеченые с сыром</td>\n",
       "      <td>Красное вино: «среднетелые»* сухие — Гренаш (Г...</td>\n",
       "    </tr>\n",
       "    <tr>\n",
       "      <th>1</th>\n",
       "      <td>Баранина деликатесная (филе или каре ягненка)</td>\n",
       "      <td>Красное вино: сухие выдержанные вина из виногр...</td>\n",
       "    </tr>\n",
       "    <tr>\n",
       "      <th>2</th>\n",
       "      <td>Баранина пикантная: жареная, гриль, тушеная — ...</td>\n",
       "      <td>Красные вина: сухие вина из винограда Каберне ...</td>\n",
       "    </tr>\n",
       "    <tr>\n",
       "      <th>3</th>\n",
       "      <td>Бефстроганов</td>\n",
       "      <td>Белые вина: выдержанные в дубе Шардоне, Пино Г...</td>\n",
       "    </tr>\n",
       "    <tr>\n",
       "      <th>4</th>\n",
       "      <td>Блинчики с мясом говядина</td>\n",
       "      <td>Крепкие напитки: Водка, Полугар, Хреновуха.  Т...</td>\n",
       "    </tr>\n",
       "    <tr>\n",
       "      <th>...</th>\n",
       "      <td>...</td>\n",
       "      <td>...</td>\n",
       "    </tr>\n",
       "    <tr>\n",
       "      <th>155</th>\n",
       "      <td>Шашлык из свинины, пикантный — в уксусно-луков...</td>\n",
       "      <td>Красные вина: тихие сухие и полусухие вина из ...</td>\n",
       "    </tr>\n",
       "    <tr>\n",
       "      <th>156</th>\n",
       "      <td>Шоколад</td>\n",
       "      <td>Чай: черный, травяной, ягодно-фруктовый. Не об...</td>\n",
       "    </tr>\n",
       "    <tr>\n",
       "      <th>157</th>\n",
       "      <td>Эклер классический</td>\n",
       "      <td>Белые вина: более сладкое, чем торт выдержанно...</td>\n",
       "    </tr>\n",
       "    <tr>\n",
       "      <th>158</th>\n",
       "      <td>Яичница — глазунья</td>\n",
       "      <td>Белые вина: сухие легкие вина с невысокой кисл...</td>\n",
       "    </tr>\n",
       "    <tr>\n",
       "      <th>159</th>\n",
       "      <td>Язык говяжий (закуска, с хреном)</td>\n",
       "      <td>Крепкие напитки: Самогоны (Полугар, Хлебное ви...</td>\n",
       "    </tr>\n",
       "  </tbody>\n",
       "</table>\n",
       "<p>160 rows × 2 columns</p>\n",
       "</div>"
      ],
      "text/plain": [
       "                                                  food  \\\n",
       "0                         Баклажаны, запеченые с сыром   \n",
       "1        Баранина деликатесная (филе или каре ягненка)   \n",
       "2    Баранина пикантная: жареная, гриль, тушеная — ...   \n",
       "3                                         Бефстроганов   \n",
       "4                            Блинчики с мясом говядина   \n",
       "..                                                 ...   \n",
       "155  Шашлык из свинины, пикантный — в уксусно-луков...   \n",
       "156                                            Шоколад   \n",
       "157                                 Эклер классический   \n",
       "158                                 Яичница — глазунья   \n",
       "159                   Язык говяжий (закуска, с хреном)   \n",
       "\n",
       "                                                  wine  \n",
       "0    Красное вино: «среднетелые»* сухие — Гренаш (Г...  \n",
       "1    Красное вино: сухие выдержанные вина из виногр...  \n",
       "2    Красные вина: сухие вина из винограда Каберне ...  \n",
       "3    Белые вина: выдержанные в дубе Шардоне, Пино Г...  \n",
       "4    Крепкие напитки: Водка, Полугар, Хреновуха.  Т...  \n",
       "..                                                 ...  \n",
       "155  Красные вина: тихие сухие и полусухие вина из ...  \n",
       "156  Чай: черный, травяной, ягодно-фруктовый. Не об...  \n",
       "157  Белые вина: более сладкое, чем торт выдержанно...  \n",
       "158  Белые вина: сухие легкие вина с невысокой кисл...  \n",
       "159  Крепкие напитки: Самогоны (Полугар, Хлебное ви...  \n",
       "\n",
       "[160 rows x 2 columns]"
      ]
     },
     "execution_count": 7,
     "metadata": {},
     "output_type": "execute_result"
    }
   ],
   "source": [
    "import pandas as pd\n",
    "import re \n",
    "\n",
    "foodmatch = [ x.strip() for x in open(\"data/food_wine_table.md\", encoding=\"utf8\").readlines()[2:-1]]\n",
    "foodmatch = [ { \"food\" : x.split('|')[0].strip(), \"wine\" : x.split('|')[1].strip()} for x in foodmatch]\n",
    "df = pd.DataFrame(foodmatch)\n",
    "df"
   ]
  },
  {
   "cell_type": "markdown",
   "id": "f015783e",
   "metadata": {},
   "source": [
    "Чтобы научить нашего агента искать соответствия еды и вина, нам нужно дать ему соответствующие инструменты. А для этого реализовать какой-то вид поиска поверх нашей таблички.\n",
    "\n",
    "Будем использовать семантический поиск через YandexGPT Embeddings:"
   ]
  },
  {
   "cell_type": "code",
   "execution_count": 8,
   "id": "53f3d8c9",
   "metadata": {},
   "outputs": [],
   "source": [
    "from yandex_cloud_ml_sdk import YCloudML\n",
    "\n",
    "sdk = YCloudML(folder_id=os.environ['folder_id'], auth=os.environ['api_key'])\n",
    "query_model = sdk.models.text_embeddings('query')\n",
    "doc_model = sdk.models.text_embeddings('doc')"
   ]
  },
  {
   "cell_type": "markdown",
   "id": "ef435a95",
   "metadata": {},
   "source": [
    "Посчитаем эмбеддинги для всех блюд и вин в табличке.\n",
    "\n",
    "> **ВНИМАНИЕ**: Этот процесс занимает некоторое время, поэтому можно пропустить эту ячейку, и загрузить подготовленные данные в следующей ячейке."
   ]
  },
  {
   "cell_type": "code",
   "execution_count": 9,
   "id": "a6d32ae3",
   "metadata": {},
   "outputs": [],
   "source": [
    "df['food_embed'] = df['food'].apply(lambda x : doc_model.run(x))\n",
    "df['wine_embed'] = df['wine'].apply(lambda x : doc_model.run(x))\n",
    "df.to_pickle(\"data/food_wine_table.pkl\")"
   ]
  },
  {
   "cell_type": "code",
   "execution_count": 10,
   "id": "706c8b8d",
   "metadata": {},
   "outputs": [],
   "source": [
    "df = pd.read_pickle(\"data/food_wine_table.pkl\")"
   ]
  },
  {
   "cell_type": "markdown",
   "id": "b1dd21d6",
   "metadata": {},
   "source": [
    "Теперь собственно опишем функцию поиска подходящей еды к вину `find_matching_food`:"
   ]
  },
  {
   "cell_type": "code",
   "execution_count": 11,
   "id": "71e3208d",
   "metadata": {},
   "outputs": [
    {
     "name": "stdout",
     "output_type": "stream",
     "text": [
      "Вот наиболее подходящие блюда:\n",
      "1. Нарезка мясная деликатесная варено-копченая (в т.ч. колбаса)\n",
      "2. Сыры козие молодые\n",
      "3. Рыба белая речная (судак, щука, жерех, толстолобик, карп)\n"
     ]
    }
   ],
   "source": [
    "from scipy.spatial.distance import cdist\n",
    "import numpy as np\n",
    "from smolagents import tool\n",
    "\n",
    "@tool\n",
    "def find_matching_food(wine : str) -> str:\n",
    "    \"\"\"\n",
    "    Найти подходщее блюдо к заданному вину\n",
    "    Args:\n",
    "        wine: Описание вина, под которое надо найти блюдо\n",
    "    \"\"\"\n",
    "    wine_embed = query_model.run(wine)\n",
    "    we = np.array([np.array(x) for x in df['wine_embed']])\n",
    "    dist = cdist([wine_embed], we, metric='cosine')[0]\n",
    "    return \"Вот наиболее подходящие блюда:\\n\" + \"\\n\".join(\n",
    "        [f\"{j+1}. {df.iloc[i]['food']}\" \n",
    "        for j, i in enumerate(dist.argsort()[0:3])])\n",
    "\n",
    "print(find_matching_food(\"Сухое белое\"))\n"
   ]
  },
  {
   "cell_type": "markdown",
   "id": "c7619abc",
   "metadata": {},
   "source": [
    "Аналогичная функция для поиска вина:"
   ]
  },
  {
   "cell_type": "code",
   "execution_count": 12,
   "id": "28c8f2a6",
   "metadata": {},
   "outputs": [
    {
     "name": "stdout",
     "output_type": "stream",
     "text": [
      "Вот наиболее подходящие вина:\n",
      "1. Красные вина: к прожарке Rare — выдержанные и «благородные» вина из Темпранильо (Рибейра дель Дуэро или любые от Ризервы и выше), Санджовезе (Кьянти Ризерва, Брунелло), «супертосканские» вина, Бордо Правого берега, шелковистые аргентинские Мальбеки. К прожарке Medium или WellDone — сухие и полусухие из винограда Сира (Шираз), Каберне Совиньон, «тельный» Мальбек, Примитиво, Зинфандель, Альянико (выдержанное и слегка «округлившееся»), выдержанный «ронский» ассамбляж Гренаш+Сира+Мурведр, вина Приората от 6-8 лет выдержки и выше.\n",
      "2. Красные вина: легкие и элегантные из винограда Пино Нуар, Нерелло Маскалезе, элегантно сделанное и выдержанное Мерло. Также подойдут «округлые», выдержанные варианты из сортов Неббиоло (Барбареско), Темпранильо (Рибейра дель Дуэро), Санджовезе (Кьянти Ризерва).\n",
      "3. Красные вина: сухие вина из винограда Санджовезе (Кьянти) и Неро д’Авола, испанские Темпранильо, «тельные» Мерло, «тельные» Пино Нуары (из Нового Света, Австрии, Германии), вина из Бордо, вина из Роны (Гренаш+Сира+Мурведр), Саперави (как из Грузии, так и из России), Арени (Армения).\n"
     ]
    }
   ],
   "source": [
    "@tool\n",
    "def find_matching_wine(food : str) -> str:\n",
    "    \"\"\"\n",
    "    Найти подходщее вино к заданному блюду\n",
    "    Args:\n",
    "        food: Описание блюда, под которое надо найти вино\n",
    "    \"\"\"\n",
    "    food_embed = query_model.run(food)\n",
    "    fe = np.array([np.array(x) for x in df['food_embed']])\n",
    "    dist = cdist([food_embed], fe, metric='cosine')[0]\n",
    "    return \"Вот наиболее подходящие вина:\\n\" + \"\\n\".join(\n",
    "        [f\"{j+1}. {df.iloc[i]['wine']}\" \n",
    "        for j, i in enumerate(dist.argsort()[0:3])])\n",
    "\n",
    "print(find_matching_wine('Стейк'))"
   ]
  },
  {
   "cell_type": "markdown",
   "id": "f0177e35",
   "metadata": {},
   "source": [
    "Теперь собираем всё это вместе, и создаём агента, которому доступны как инструменты подбора блюд/вин, так и меню ресторана по протоколу MCP."
   ]
  },
  {
   "cell_type": "code",
   "execution_count": 13,
   "id": "3612fbdc",
   "metadata": {},
   "outputs": [
    {
     "data": {
      "text/html": [
       "<pre style=\"white-space:pre;overflow-x:auto;line-height:normal;font-family:Menlo,'DejaVu Sans Mono',consolas,'Courier New',monospace\"><span style=\"color: #d4b702; text-decoration-color: #d4b702\">╭──────────────────────────────────────────────────── </span><span style=\"color: #d4b702; text-decoration-color: #d4b702; font-weight: bold\">New run</span><span style=\"color: #d4b702; text-decoration-color: #d4b702\"> ────────────────────────────────────────────────────╮</span>\n",
       "<span style=\"color: #d4b702; text-decoration-color: #d4b702\">│</span>                                                                                                                 <span style=\"color: #d4b702; text-decoration-color: #d4b702\">│</span>\n",
       "<span style=\"color: #d4b702; text-decoration-color: #d4b702\">│</span> <span style=\"font-weight: bold\">Подбери меню для ужина в ресторане из основного блюда, подходящего вина и десерта, и</span>                            <span style=\"color: #d4b702; text-decoration-color: #d4b702\">│</span>\n",
       "<span style=\"color: #d4b702; text-decoration-color: #d4b702\">│</span> <span style=\"font-weight: bold\">    посчитай его стоимость.</span>                                                                                     <span style=\"color: #d4b702; text-decoration-color: #d4b702\">│</span>\n",
       "<span style=\"color: #d4b702; text-decoration-color: #d4b702\">│</span> <span style=\"font-weight: bold\">    Выведи табличку из названий блюд и напитков и их стоимости. Я хочу стейк!</span>                                   <span style=\"color: #d4b702; text-decoration-color: #d4b702\">│</span>\n",
       "<span style=\"color: #d4b702; text-decoration-color: #d4b702\">│</span>                                                                                                                 <span style=\"color: #d4b702; text-decoration-color: #d4b702\">│</span>\n",
       "<span style=\"color: #d4b702; text-decoration-color: #d4b702\">╰─ OpenAIServerModel - gpt://b1gbicod0scglhd49qs0/yandexgpt/rc ───────────────────────────────────────────────────╯</span>\n",
       "</pre>\n"
      ],
      "text/plain": [
       "\u001b[38;2;212;183;2m╭─\u001b[0m\u001b[38;2;212;183;2m───────────────────────────────────────────────────\u001b[0m\u001b[38;2;212;183;2m \u001b[0m\u001b[1;38;2;212;183;2mNew run\u001b[0m\u001b[38;2;212;183;2m \u001b[0m\u001b[38;2;212;183;2m───────────────────────────────────────────────────\u001b[0m\u001b[38;2;212;183;2m─╮\u001b[0m\n",
       "\u001b[38;2;212;183;2m│\u001b[0m                                                                                                                 \u001b[38;2;212;183;2m│\u001b[0m\n",
       "\u001b[38;2;212;183;2m│\u001b[0m \u001b[1mПодбери меню для ужина в ресторане из основного блюда, подходящего вина и десерта, и\u001b[0m                            \u001b[38;2;212;183;2m│\u001b[0m\n",
       "\u001b[38;2;212;183;2m│\u001b[0m \u001b[1m    посчитай его стоимость.\u001b[0m                                                                                     \u001b[38;2;212;183;2m│\u001b[0m\n",
       "\u001b[38;2;212;183;2m│\u001b[0m \u001b[1m    Выведи табличку из названий блюд и напитков и их стоимости. Я хочу стейк!\u001b[0m                                   \u001b[38;2;212;183;2m│\u001b[0m\n",
       "\u001b[38;2;212;183;2m│\u001b[0m                                                                                                                 \u001b[38;2;212;183;2m│\u001b[0m\n",
       "\u001b[38;2;212;183;2m╰─\u001b[0m\u001b[38;2;212;183;2m OpenAIServerModel - gpt://b1gbicod0scglhd49qs0/yandexgpt/rc \u001b[0m\u001b[38;2;212;183;2m──────────────────────────────────────────────────\u001b[0m\u001b[38;2;212;183;2m─╯\u001b[0m\n"
      ]
     },
     "metadata": {},
     "output_type": "display_data"
    },
    {
     "data": {
      "text/html": [
       "<pre style=\"white-space:pre;overflow-x:auto;line-height:normal;font-family:Menlo,'DejaVu Sans Mono',consolas,'Courier New',monospace\"><span style=\"color: #d4b702; text-decoration-color: #d4b702\">━━━━━━━━━━━━━━━━━━━━━━━━━━━━━━━━━━━━━━━━━━━━━━━━━━━━━ </span><span style=\"font-weight: bold\">Step </span><span style=\"color: #008080; text-decoration-color: #008080; font-weight: bold\">1</span><span style=\"color: #d4b702; text-decoration-color: #d4b702\"> ━━━━━━━━━━━━━━━━━━━━━━━━━━━━━━━━━━━━━━━━━━━━━━━━━━━━━━</span>\n",
       "</pre>\n"
      ],
      "text/plain": [
       "\u001b[38;2;212;183;2m━━━━━━━━━━━━━━━━━━━━━━━━━━━━━━━━━━━━━━━━━━━━━━━━━━━━━ \u001b[0m\u001b[1mStep \u001b[0m\u001b[1;36m1\u001b[0m\u001b[38;2;212;183;2m ━━━━━━━━━━━━━━━━━━━━━━━━━━━━━━━━━━━━━━━━━━━━━━━━━━━━━━\u001b[0m\n"
      ]
     },
     "metadata": {},
     "output_type": "display_data"
    },
    {
     "data": {
      "text/html": [
       "<pre style=\"white-space:pre;overflow-x:auto;line-height:normal;font-family:Menlo,'DejaVu Sans Mono',consolas,'Courier New',monospace\"> ─ <span style=\"font-weight: bold\">Executing parsed code:</span> ──────────────────────────────────────────────────────────────────────────────────────── \n",
       "  <span style=\"color: #f8f8f2; text-decoration-color: #f8f8f2; background-color: #272822\">food_description </span><span style=\"color: #ff4689; text-decoration-color: #ff4689; background-color: #272822\">=</span><span style=\"color: #f8f8f2; text-decoration-color: #f8f8f2; background-color: #272822\"> </span><span style=\"color: #e6db74; text-decoration-color: #e6db74; background-color: #272822\">\"стейк\"</span><span style=\"background-color: #272822\">                                                                                     </span>  \n",
       "  <span style=\"color: #f8f8f2; text-decoration-color: #f8f8f2; background-color: #272822\">matching_wine </span><span style=\"color: #ff4689; text-decoration-color: #ff4689; background-color: #272822\">=</span><span style=\"color: #f8f8f2; text-decoration-color: #f8f8f2; background-color: #272822\"> find_matching_wine(food</span><span style=\"color: #ff4689; text-decoration-color: #ff4689; background-color: #272822\">=</span><span style=\"color: #f8f8f2; text-decoration-color: #f8f8f2; background-color: #272822\">food_description)</span><span style=\"background-color: #272822\">                                                      </span>  \n",
       "  <span style=\"color: #f8f8f2; text-decoration-color: #f8f8f2; background-color: #272822\">print(</span><span style=\"color: #e6db74; text-decoration-color: #e6db74; background-color: #272822\">f\"Подходящее вино к {</span><span style=\"color: #f8f8f2; text-decoration-color: #f8f8f2; background-color: #272822\">food_description</span><span style=\"color: #e6db74; text-decoration-color: #e6db74; background-color: #272822\">}: {</span><span style=\"color: #f8f8f2; text-decoration-color: #f8f8f2; background-color: #272822\">matching_wine</span><span style=\"color: #e6db74; text-decoration-color: #e6db74; background-color: #272822\">}\"</span><span style=\"color: #f8f8f2; text-decoration-color: #f8f8f2; background-color: #272822\">)</span><span style=\"background-color: #272822\">                                                </span>  \n",
       "  <span style=\"background-color: #272822\">                                                                                                               </span>  \n",
       "  <span style=\"color: #f8f8f2; text-decoration-color: #f8f8f2; background-color: #272822\">menu_food </span><span style=\"color: #ff4689; text-decoration-color: #ff4689; background-color: #272822\">=</span><span style=\"color: #f8f8f2; text-decoration-color: #f8f8f2; background-color: #272822\"> get_food_menu()</span><span style=\"background-color: #272822\">                                                                                    </span>  \n",
       "  <span style=\"color: #f8f8f2; text-decoration-color: #f8f8f2; background-color: #272822\">print(</span><span style=\"color: #e6db74; text-decoration-color: #e6db74; background-color: #272822\">\"Меню блюд:</span><span style=\"color: #ae81ff; text-decoration-color: #ae81ff; background-color: #272822\">\\n</span><span style=\"color: #e6db74; text-decoration-color: #e6db74; background-color: #272822\">\"</span><span style=\"color: #f8f8f2; text-decoration-color: #f8f8f2; background-color: #272822\">, menu_food)</span><span style=\"background-color: #272822\">                                                                               </span>  \n",
       "  <span style=\"background-color: #272822\">                                                                                                               </span>  \n",
       "  <span style=\"color: #f8f8f2; text-decoration-color: #f8f8f2; background-color: #272822\">menu_drinks </span><span style=\"color: #ff4689; text-decoration-color: #ff4689; background-color: #272822\">=</span><span style=\"color: #f8f8f2; text-decoration-color: #f8f8f2; background-color: #272822\"> get_drinks_menu()</span><span style=\"background-color: #272822\">                                                                                </span>  \n",
       "  <span style=\"color: #f8f8f2; text-decoration-color: #f8f8f2; background-color: #272822\">print(</span><span style=\"color: #e6db74; text-decoration-color: #e6db74; background-color: #272822\">\"Меню напитков:</span><span style=\"color: #ae81ff; text-decoration-color: #ae81ff; background-color: #272822\">\\n</span><span style=\"color: #e6db74; text-decoration-color: #e6db74; background-color: #272822\">\"</span><span style=\"color: #f8f8f2; text-decoration-color: #f8f8f2; background-color: #272822\">, menu_drinks)</span><span style=\"background-color: #272822\">                                                                         </span>  \n",
       " ───────────────────────────────────────────────────────────────────────────────────────────────────────────────── \n",
       "</pre>\n"
      ],
      "text/plain": [
       " ─ \u001b[1mExecuting parsed code:\u001b[0m ──────────────────────────────────────────────────────────────────────────────────────── \n",
       "  \u001b[38;2;248;248;242;48;2;39;40;34mfood_description\u001b[0m\u001b[38;2;248;248;242;48;2;39;40;34m \u001b[0m\u001b[38;2;255;70;137;48;2;39;40;34m=\u001b[0m\u001b[38;2;248;248;242;48;2;39;40;34m \u001b[0m\u001b[38;2;230;219;116;48;2;39;40;34m\"\u001b[0m\u001b[38;2;230;219;116;48;2;39;40;34mстейк\u001b[0m\u001b[38;2;230;219;116;48;2;39;40;34m\"\u001b[0m\u001b[48;2;39;40;34m                                                                                     \u001b[0m  \n",
       "  \u001b[38;2;248;248;242;48;2;39;40;34mmatching_wine\u001b[0m\u001b[38;2;248;248;242;48;2;39;40;34m \u001b[0m\u001b[38;2;255;70;137;48;2;39;40;34m=\u001b[0m\u001b[38;2;248;248;242;48;2;39;40;34m \u001b[0m\u001b[38;2;248;248;242;48;2;39;40;34mfind_matching_wine\u001b[0m\u001b[38;2;248;248;242;48;2;39;40;34m(\u001b[0m\u001b[38;2;248;248;242;48;2;39;40;34mfood\u001b[0m\u001b[38;2;255;70;137;48;2;39;40;34m=\u001b[0m\u001b[38;2;248;248;242;48;2;39;40;34mfood_description\u001b[0m\u001b[38;2;248;248;242;48;2;39;40;34m)\u001b[0m\u001b[48;2;39;40;34m                                                      \u001b[0m  \n",
       "  \u001b[38;2;248;248;242;48;2;39;40;34mprint\u001b[0m\u001b[38;2;248;248;242;48;2;39;40;34m(\u001b[0m\u001b[38;2;230;219;116;48;2;39;40;34mf\u001b[0m\u001b[38;2;230;219;116;48;2;39;40;34m\"\u001b[0m\u001b[38;2;230;219;116;48;2;39;40;34mПодходящее вино к \u001b[0m\u001b[38;2;230;219;116;48;2;39;40;34m{\u001b[0m\u001b[38;2;248;248;242;48;2;39;40;34mfood_description\u001b[0m\u001b[38;2;230;219;116;48;2;39;40;34m}\u001b[0m\u001b[38;2;230;219;116;48;2;39;40;34m: \u001b[0m\u001b[38;2;230;219;116;48;2;39;40;34m{\u001b[0m\u001b[38;2;248;248;242;48;2;39;40;34mmatching_wine\u001b[0m\u001b[38;2;230;219;116;48;2;39;40;34m}\u001b[0m\u001b[38;2;230;219;116;48;2;39;40;34m\"\u001b[0m\u001b[38;2;248;248;242;48;2;39;40;34m)\u001b[0m\u001b[48;2;39;40;34m                                                \u001b[0m  \n",
       "  \u001b[48;2;39;40;34m                                                                                                               \u001b[0m  \n",
       "  \u001b[38;2;248;248;242;48;2;39;40;34mmenu_food\u001b[0m\u001b[38;2;248;248;242;48;2;39;40;34m \u001b[0m\u001b[38;2;255;70;137;48;2;39;40;34m=\u001b[0m\u001b[38;2;248;248;242;48;2;39;40;34m \u001b[0m\u001b[38;2;248;248;242;48;2;39;40;34mget_food_menu\u001b[0m\u001b[38;2;248;248;242;48;2;39;40;34m(\u001b[0m\u001b[38;2;248;248;242;48;2;39;40;34m)\u001b[0m\u001b[48;2;39;40;34m                                                                                    \u001b[0m  \n",
       "  \u001b[38;2;248;248;242;48;2;39;40;34mprint\u001b[0m\u001b[38;2;248;248;242;48;2;39;40;34m(\u001b[0m\u001b[38;2;230;219;116;48;2;39;40;34m\"\u001b[0m\u001b[38;2;230;219;116;48;2;39;40;34mМеню блюд:\u001b[0m\u001b[38;2;174;129;255;48;2;39;40;34m\\n\u001b[0m\u001b[38;2;230;219;116;48;2;39;40;34m\"\u001b[0m\u001b[38;2;248;248;242;48;2;39;40;34m,\u001b[0m\u001b[38;2;248;248;242;48;2;39;40;34m \u001b[0m\u001b[38;2;248;248;242;48;2;39;40;34mmenu_food\u001b[0m\u001b[38;2;248;248;242;48;2;39;40;34m)\u001b[0m\u001b[48;2;39;40;34m                                                                               \u001b[0m  \n",
       "  \u001b[48;2;39;40;34m                                                                                                               \u001b[0m  \n",
       "  \u001b[38;2;248;248;242;48;2;39;40;34mmenu_drinks\u001b[0m\u001b[38;2;248;248;242;48;2;39;40;34m \u001b[0m\u001b[38;2;255;70;137;48;2;39;40;34m=\u001b[0m\u001b[38;2;248;248;242;48;2;39;40;34m \u001b[0m\u001b[38;2;248;248;242;48;2;39;40;34mget_drinks_menu\u001b[0m\u001b[38;2;248;248;242;48;2;39;40;34m(\u001b[0m\u001b[38;2;248;248;242;48;2;39;40;34m)\u001b[0m\u001b[48;2;39;40;34m                                                                                \u001b[0m  \n",
       "  \u001b[38;2;248;248;242;48;2;39;40;34mprint\u001b[0m\u001b[38;2;248;248;242;48;2;39;40;34m(\u001b[0m\u001b[38;2;230;219;116;48;2;39;40;34m\"\u001b[0m\u001b[38;2;230;219;116;48;2;39;40;34mМеню напитков:\u001b[0m\u001b[38;2;174;129;255;48;2;39;40;34m\\n\u001b[0m\u001b[38;2;230;219;116;48;2;39;40;34m\"\u001b[0m\u001b[38;2;248;248;242;48;2;39;40;34m,\u001b[0m\u001b[38;2;248;248;242;48;2;39;40;34m \u001b[0m\u001b[38;2;248;248;242;48;2;39;40;34mmenu_drinks\u001b[0m\u001b[38;2;248;248;242;48;2;39;40;34m)\u001b[0m\u001b[48;2;39;40;34m                                                                         \u001b[0m  \n",
       " ───────────────────────────────────────────────────────────────────────────────────────────────────────────────── \n"
      ]
     },
     "metadata": {},
     "output_type": "display_data"
    },
    {
     "data": {
      "text/html": [
       "<pre style=\"white-space:pre;overflow-x:auto;line-height:normal;font-family:Menlo,'DejaVu Sans Mono',consolas,'Courier New',monospace\"><span style=\"font-weight: bold\">Execution logs:</span>\n",
       "Подходящее вино к стейк: Вот наиболее подходящие вина:\n",
       "1. Красные вина: к прожарке Rare — выдержанные и «благородные» вина из Темпранильо (Рибейра дель Дуэро или любые от\n",
       "Ризервы и выше), Санджовезе (Кьянти Ризерва, Брунелло), «супертосканские» вина, Бордо Правого берега, шелковистые \n",
       "аргентинские Мальбеки. К прожарке Medium или WellDone — сухие и полусухие из винограда Сира (Шираз), Каберне \n",
       "Совиньон, «тельный» Мальбек, Примитиво, Зинфандель, Альянико (выдержанное и слегка «округлившееся»), выдержанный \n",
       "«ронский» ассамбляж Гренаш+Сира+Мурведр, вина Приората от 6-8 лет выдержки и выше.\n",
       "2. Красные вина: сухие и полусухие вина из винограда Гарнача (Гренаш), Мерло, Карменер, Менсия, «тельные» Пино \n",
       "Нуары (со всего света), российский Красностоп, Гамэ (Божоле Виляж).\n",
       "3. Красные вина: сухие вина из винограда Санджовезе (Кьянти) и Неро д’Авола, испанские Темпранильо, «тельные» \n",
       "Мерло, «тельные» Пино Нуары (из Нового Света, Австрии, Германии), вина из Бордо, вина из Роны \n",
       "(Гренаш+Сира+Мурведр), Саперави (как из Грузии, так и из России), Арени (Армения).\n",
       "Меню блюд:\n",
       " | Название блюда            | Описание                                                                 | Тип  | \n",
       "Цена (руб) |  \n",
       "|-------------------------------|-----------------------------------------------------------------------------|----\n",
       "------|---------------|  \n",
       "| Стейк \"Бык на взводе\"           | Сочный рибай с розовым сердцем, томлёный в дыме аргентинских страстей. Подаётся\n",
       "с золотой солью Гималаев. | Стейк    | 2500          |  \n",
       "| Стейк \"Нежность разъярённой коровы\" | Филе-миньон, замаринованное в гранатовом соке и шёпоте шеф-повара. Плюс \n",
       "картофель \"А-ля крылышки дракона\". | Стейк    | 1800          |  \n",
       "| \"Стейк для скромного олигарха\" | Говяжья щека, томлёная 12 часов в вине из погреба Наполеона (ну почти). С \n",
       "хрустящими чипсами из кабачков. | Стейк    | 1200          |  \n",
       "| \"Лосось в мечтах о Норвегии\" | Нежнейший филе-кусок, запечённый под корочкой из \"загадочных северных трав\" \n",
       "(укропа). Подаётся с лимонным бризом. | Рыба     | 1900          |  \n",
       "| \"Осьминог, который видел слишком много\" | Гриль-кальмар с чернильным соусом и намёком на средиземноморские тайны.\n",
       "Для смелых гурманов. | Рыба     | 2200          |  \n",
       "| \"Дорадо под шубой\"        | Филе дорадо, завёрнутое в хрустящий картофельный панцирь. С соусом \"Тайна Атлантиды\".\n",
       "| Рыба     | 1600          |  \n",
       "| \"Картофель 'Я тоже могу быть трюфелем'\" | Нежные дольки, запечённые с розмарином и намёком на дороговизну. \n",
       "Подаётся с воздухом Пиреней. | Гарнир   | 600           |  \n",
       "| \"Грибы, которые танцевали на луну\" | Шампиньоны-гриль с чесночным соусом и намёком на психоделический опыт. | \n",
       "Гарнир   | 450           |  \n",
       "| \"Круассаны, но не те\"     | Аппетитные мини-морковки, глазированные мёдом с намёком на парижское детство. | \n",
       "Гарнир   | 350           |  \n",
       "| \"Шоколадный апокалипсис\"  | Десерт из 72% какао, взрывающий вкусовые рецепторы. С мороженым \"Облако рая\". | \n",
       "Десерт   | 800           |  \n",
       "| \"Чизкейк, который видел Бога\" | Воздушный, с карамелью из ангельских слез и крошками \"райского печенья\". | Десерт\n",
       "| 750           |  \n",
       "| \"Тирамису для взрослых\"   | Классика, но с добавлением \"секретного ингредиента\" (кофе, а что вы подумали?). | \n",
       "Десерт   | 700           |  \n",
       "\n",
       "Меню напитков:\n",
       " | Сорт вина / Напиток       | Винодельня / Производитель       | Год | Тип           | Цена за бокал (руб) |  \n",
       "|------------------------------|--------------------------------------|---------|--------------------|-------------\n",
       "-----------|  \n",
       "| Каберне Совиньон         | Château Lafite Rothschild, Франция   | 2018    | Красное вино       | 4500            \n",
       "|  \n",
       "| Мерло                    | Marchesi Antinori, Италия            | 2019    | Красное вино       | 2800            \n",
       "|  \n",
       "| Пино Нуар                | Domaine de la Romanée-Conti, Франция | 2017    | Красное вино       | 5200            \n",
       "|  \n",
       "| Шираз                    | Penfolds, Австралия                  | 2018    | Красное вино       | 3200            \n",
       "|  \n",
       "| Мальбек                  | Catena Zapata, Аргентина             | 2020    | Красное вино       | 2900            \n",
       "|  \n",
       "| Совиньон Блан            | Cloudy Bay, Новая Зеландия           | 2021    | Белое вино         | 3800            \n",
       "|  \n",
       "| Шардоне                  | Louis Latour, Франция                | 2020    | Белое вино         | 3500            \n",
       "|  \n",
       "| Рислинг                  | Dr. Loosen, Германия                 | 2019    | Белое вино         | 3100            \n",
       "|  \n",
       "| Пино Гриджио             | Santa Margherita, Италия             | 2021    | Белое вино         | 2700            \n",
       "|  \n",
       "| Гевюрцтраминер           | Trimbach, Франция                   | 2020    | Белое вино         | 3300             \n",
       "|  \n",
       "| Шотландский виски        | Macallan 12 лет, Шотландия           | -       | Крепкий алкоголь   | 2500            \n",
       "|  \n",
       "| Текила                   | Don Julio Añejo, Мексика             | -       | Крепкий алкоголь   | 2200            \n",
       "|  \n",
       "| Мохито                   | Домашний коктейль                    | -       | Коктейль           | 600             \n",
       "|  \n",
       "| Кровавая Мэри            | Домашний коктейль                    | -       | Коктейль           | 650             \n",
       "|  \n",
       "| Апельсиновый фреш        | Свежевыжатый                         | -       | Безалкогольное     | 350             \n",
       "|  \n",
       "| Имбирный лимонад         | Домашний                             | -       | Безалкогольное     | 400             \n",
       "|  \n",
       "| Минеральная вода         | Voss, Норвегия                       | -       | Вода               | 500             \n",
       "|  \n",
       "\n",
       "\n",
       "Out: None\n",
       "</pre>\n"
      ],
      "text/plain": [
       "\u001b[1mExecution logs:\u001b[0m\n",
       "Подходящее вино к стейк: Вот наиболее подходящие вина:\n",
       "1. Красные вина: к прожарке Rare — выдержанные и «благородные» вина из Темпранильо (Рибейра дель Дуэро или любые от\n",
       "Ризервы и выше), Санджовезе (Кьянти Ризерва, Брунелло), «супертосканские» вина, Бордо Правого берега, шелковистые \n",
       "аргентинские Мальбеки. К прожарке Medium или WellDone — сухие и полусухие из винограда Сира (Шираз), Каберне \n",
       "Совиньон, «тельный» Мальбек, Примитиво, Зинфандель, Альянико (выдержанное и слегка «округлившееся»), выдержанный \n",
       "«ронский» ассамбляж Гренаш+Сира+Мурведр, вина Приората от 6-8 лет выдержки и выше.\n",
       "2. Красные вина: сухие и полусухие вина из винограда Гарнача (Гренаш), Мерло, Карменер, Менсия, «тельные» Пино \n",
       "Нуары (со всего света), российский Красностоп, Гамэ (Божоле Виляж).\n",
       "3. Красные вина: сухие вина из винограда Санджовезе (Кьянти) и Неро д’Авола, испанские Темпранильо, «тельные» \n",
       "Мерло, «тельные» Пино Нуары (из Нового Света, Австрии, Германии), вина из Бордо, вина из Роны \n",
       "(Гренаш+Сира+Мурведр), Саперави (как из Грузии, так и из России), Арени (Армения).\n",
       "Меню блюд:\n",
       " | Название блюда            | Описание                                                                 | Тип  | \n",
       "Цена (руб) |  \n",
       "|-------------------------------|-----------------------------------------------------------------------------|----\n",
       "------|---------------|  \n",
       "| Стейк \"Бык на взводе\"           | Сочный рибай с розовым сердцем, томлёный в дыме аргентинских страстей. Подаётся\n",
       "с золотой солью Гималаев. | Стейк    | 2500          |  \n",
       "| Стейк \"Нежность разъярённой коровы\" | Филе-миньон, замаринованное в гранатовом соке и шёпоте шеф-повара. Плюс \n",
       "картофель \"А-ля крылышки дракона\". | Стейк    | 1800          |  \n",
       "| \"Стейк для скромного олигарха\" | Говяжья щека, томлёная 12 часов в вине из погреба Наполеона (ну почти). С \n",
       "хрустящими чипсами из кабачков. | Стейк    | 1200          |  \n",
       "| \"Лосось в мечтах о Норвегии\" | Нежнейший филе-кусок, запечённый под корочкой из \"загадочных северных трав\" \n",
       "(укропа). Подаётся с лимонным бризом. | Рыба     | 1900          |  \n",
       "| \"Осьминог, который видел слишком много\" | Гриль-кальмар с чернильным соусом и намёком на средиземноморские тайны.\n",
       "Для смелых гурманов. | Рыба     | 2200          |  \n",
       "| \"Дорадо под шубой\"        | Филе дорадо, завёрнутое в хрустящий картофельный панцирь. С соусом \"Тайна Атлантиды\".\n",
       "| Рыба     | 1600          |  \n",
       "| \"Картофель 'Я тоже могу быть трюфелем'\" | Нежные дольки, запечённые с розмарином и намёком на дороговизну. \n",
       "Подаётся с воздухом Пиреней. | Гарнир   | 600           |  \n",
       "| \"Грибы, которые танцевали на луну\" | Шампиньоны-гриль с чесночным соусом и намёком на психоделический опыт. | \n",
       "Гарнир   | 450           |  \n",
       "| \"Круассаны, но не те\"     | Аппетитные мини-морковки, глазированные мёдом с намёком на парижское детство. | \n",
       "Гарнир   | 350           |  \n",
       "| \"Шоколадный апокалипсис\"  | Десерт из 72% какао, взрывающий вкусовые рецепторы. С мороженым \"Облако рая\". | \n",
       "Десерт   | 800           |  \n",
       "| \"Чизкейк, который видел Бога\" | Воздушный, с карамелью из ангельских слез и крошками \"райского печенья\". | Десерт\n",
       "| 750           |  \n",
       "| \"Тирамису для взрослых\"   | Классика, но с добавлением \"секретного ингредиента\" (кофе, а что вы подумали?). | \n",
       "Десерт   | 700           |  \n",
       "\n",
       "Меню напитков:\n",
       " | Сорт вина / Напиток       | Винодельня / Производитель       | Год | Тип           | Цена за бокал (руб) |  \n",
       "|------------------------------|--------------------------------------|---------|--------------------|-------------\n",
       "-----------|  \n",
       "| Каберне Совиньон         | Château Lafite Rothschild, Франция   | 2018    | Красное вино       | 4500            \n",
       "|  \n",
       "| Мерло                    | Marchesi Antinori, Италия            | 2019    | Красное вино       | 2800            \n",
       "|  \n",
       "| Пино Нуар                | Domaine de la Romanée-Conti, Франция | 2017    | Красное вино       | 5200            \n",
       "|  \n",
       "| Шираз                    | Penfolds, Австралия                  | 2018    | Красное вино       | 3200            \n",
       "|  \n",
       "| Мальбек                  | Catena Zapata, Аргентина             | 2020    | Красное вино       | 2900            \n",
       "|  \n",
       "| Совиньон Блан            | Cloudy Bay, Новая Зеландия           | 2021    | Белое вино         | 3800            \n",
       "|  \n",
       "| Шардоне                  | Louis Latour, Франция                | 2020    | Белое вино         | 3500            \n",
       "|  \n",
       "| Рислинг                  | Dr. Loosen, Германия                 | 2019    | Белое вино         | 3100            \n",
       "|  \n",
       "| Пино Гриджио             | Santa Margherita, Италия             | 2021    | Белое вино         | 2700            \n",
       "|  \n",
       "| Гевюрцтраминер           | Trimbach, Франция                   | 2020    | Белое вино         | 3300             \n",
       "|  \n",
       "| Шотландский виски        | Macallan 12 лет, Шотландия           | -       | Крепкий алкоголь   | 2500            \n",
       "|  \n",
       "| Текила                   | Don Julio Añejo, Мексика             | -       | Крепкий алкоголь   | 2200            \n",
       "|  \n",
       "| Мохито                   | Домашний коктейль                    | -       | Коктейль           | 600             \n",
       "|  \n",
       "| Кровавая Мэри            | Домашний коктейль                    | -       | Коктейль           | 650             \n",
       "|  \n",
       "| Апельсиновый фреш        | Свежевыжатый                         | -       | Безалкогольное     | 350             \n",
       "|  \n",
       "| Имбирный лимонад         | Домашний                             | -       | Безалкогольное     | 400             \n",
       "|  \n",
       "| Минеральная вода         | Voss, Норвегия                       | -       | Вода               | 500             \n",
       "|  \n",
       "\n",
       "\n",
       "Out: None\n"
      ]
     },
     "metadata": {},
     "output_type": "display_data"
    },
    {
     "data": {
      "text/html": [
       "<pre style=\"white-space:pre;overflow-x:auto;line-height:normal;font-family:Menlo,'DejaVu Sans Mono',consolas,'Courier New',monospace\"><span style=\"color: #7f7f7f; text-decoration-color: #7f7f7f\">[Step 1: Duration 3.58 seconds| Input tokens: 2,418 | Output tokens: 150]</span>\n",
       "</pre>\n"
      ],
      "text/plain": [
       "\u001b[2m[Step 1: Duration 3.58 seconds| Input tokens: 2,418 | Output tokens: 150]\u001b[0m\n"
      ]
     },
     "metadata": {},
     "output_type": "display_data"
    },
    {
     "data": {
      "text/html": [
       "<pre style=\"white-space:pre;overflow-x:auto;line-height:normal;font-family:Menlo,'DejaVu Sans Mono',consolas,'Courier New',monospace\"><span style=\"color: #d4b702; text-decoration-color: #d4b702\">━━━━━━━━━━━━━━━━━━━━━━━━━━━━━━━━━━━━━━━━━━━━━━━━━━━━━ </span><span style=\"font-weight: bold\">Step </span><span style=\"color: #008080; text-decoration-color: #008080; font-weight: bold\">2</span><span style=\"color: #d4b702; text-decoration-color: #d4b702\"> ━━━━━━━━━━━━━━━━━━━━━━━━━━━━━━━━━━━━━━━━━━━━━━━━━━━━━━</span>\n",
       "</pre>\n"
      ],
      "text/plain": [
       "\u001b[38;2;212;183;2m━━━━━━━━━━━━━━━━━━━━━━━━━━━━━━━━━━━━━━━━━━━━━━━━━━━━━ \u001b[0m\u001b[1mStep \u001b[0m\u001b[1;36m2\u001b[0m\u001b[38;2;212;183;2m ━━━━━━━━━━━━━━━━━━━━━━━━━━━━━━━━━━━━━━━━━━━━━━━━━━━━━━\u001b[0m\n"
      ]
     },
     "metadata": {},
     "output_type": "display_data"
    },
    {
     "data": {
      "text/html": [
       "<pre style=\"white-space:pre;overflow-x:auto;line-height:normal;font-family:Menlo,'DejaVu Sans Mono',consolas,'Courier New',monospace\"> ─ <span style=\"font-weight: bold\">Executing parsed code:</span> ──────────────────────────────────────────────────────────────────────────────────────── \n",
       "  <span style=\"color: #f8f8f2; text-decoration-color: #f8f8f2; background-color: #272822\">steak_name </span><span style=\"color: #ff4689; text-decoration-color: #ff4689; background-color: #272822\">=</span><span style=\"color: #f8f8f2; text-decoration-color: #f8f8f2; background-color: #272822\"> </span><span style=\"color: #e6db74; text-decoration-color: #e6db74; background-color: #272822\">\"Стейк </span><span style=\"color: #ae81ff; text-decoration-color: #ae81ff; background-color: #272822\">\\\"</span><span style=\"color: #e6db74; text-decoration-color: #e6db74; background-color: #272822\">Бык на взводе</span><span style=\"color: #ae81ff; text-decoration-color: #ae81ff; background-color: #272822\">\\\"</span><span style=\"color: #e6db74; text-decoration-color: #e6db74; background-color: #272822\">\"</span><span style=\"background-color: #272822\">                                                                         </span>  \n",
       "  <span style=\"color: #f8f8f2; text-decoration-color: #f8f8f2; background-color: #272822\">steak_price </span><span style=\"color: #ff4689; text-decoration-color: #ff4689; background-color: #272822\">=</span><span style=\"color: #f8f8f2; text-decoration-color: #f8f8f2; background-color: #272822\"> </span><span style=\"color: #ae81ff; text-decoration-color: #ae81ff; background-color: #272822\">2500</span><span style=\"background-color: #272822\">                                                                                             </span>  \n",
       "  <span style=\"background-color: #272822\">                                                                                                               </span>  \n",
       "  <span style=\"color: #f8f8f2; text-decoration-color: #f8f8f2; background-color: #272822\">wine_name </span><span style=\"color: #ff4689; text-decoration-color: #ff4689; background-color: #272822\">=</span><span style=\"color: #f8f8f2; text-decoration-color: #f8f8f2; background-color: #272822\"> </span><span style=\"color: #e6db74; text-decoration-color: #e6db74; background-color: #272822\">\"Каберне Совиньон\"</span><span style=\"background-color: #272822\">                                                                                 </span>  \n",
       "  <span style=\"color: #f8f8f2; text-decoration-color: #f8f8f2; background-color: #272822\">wine_price </span><span style=\"color: #ff4689; text-decoration-color: #ff4689; background-color: #272822\">=</span><span style=\"color: #f8f8f2; text-decoration-color: #f8f8f2; background-color: #272822\"> </span><span style=\"color: #ae81ff; text-decoration-color: #ae81ff; background-color: #272822\">4500</span><span style=\"background-color: #272822\">                                                                                              </span>  \n",
       "  <span style=\"background-color: #272822\">                                                                                                               </span>  \n",
       "  <span style=\"color: #f8f8f2; text-decoration-color: #f8f8f2; background-color: #272822\">dessert_name </span><span style=\"color: #ff4689; text-decoration-color: #ff4689; background-color: #272822\">=</span><span style=\"color: #f8f8f2; text-decoration-color: #f8f8f2; background-color: #272822\"> </span><span style=\"color: #e6db74; text-decoration-color: #e6db74; background-color: #272822\">\"Шоколадный апокалипсис\"</span><span style=\"background-color: #272822\">                                                                        </span>  \n",
       "  <span style=\"color: #f8f8f2; text-decoration-color: #f8f8f2; background-color: #272822\">dessert_price </span><span style=\"color: #ff4689; text-decoration-color: #ff4689; background-color: #272822\">=</span><span style=\"color: #f8f8f2; text-decoration-color: #f8f8f2; background-color: #272822\"> </span><span style=\"color: #ae81ff; text-decoration-color: #ae81ff; background-color: #272822\">800</span><span style=\"background-color: #272822\">                                                                                            </span>  \n",
       "  <span style=\"background-color: #272822\">                                                                                                               </span>  \n",
       "  <span style=\"color: #f8f8f2; text-decoration-color: #f8f8f2; background-color: #272822\">total_cost </span><span style=\"color: #ff4689; text-decoration-color: #ff4689; background-color: #272822\">=</span><span style=\"color: #f8f8f2; text-decoration-color: #f8f8f2; background-color: #272822\"> steak_price </span><span style=\"color: #ff4689; text-decoration-color: #ff4689; background-color: #272822\">+</span><span style=\"color: #f8f8f2; text-decoration-color: #f8f8f2; background-color: #272822\"> wine_price </span><span style=\"color: #ff4689; text-decoration-color: #ff4689; background-color: #272822\">+</span><span style=\"color: #f8f8f2; text-decoration-color: #f8f8f2; background-color: #272822\"> dessert_price</span><span style=\"background-color: #272822\">                                                          </span>  \n",
       "  <span style=\"color: #f8f8f2; text-decoration-color: #f8f8f2; background-color: #272822\">final_answer(</span><span style=\"color: #e6db74; text-decoration-color: #e6db74; background-color: #272822\">f\"Меню ужина:</span><span style=\"color: #ae81ff; text-decoration-color: #ae81ff; background-color: #272822\">\\n</span><span style=\"color: #e6db74; text-decoration-color: #e6db74; background-color: #272822\">{</span><span style=\"color: #f8f8f2; text-decoration-color: #f8f8f2; background-color: #272822\">steak_name</span><span style=\"color: #e6db74; text-decoration-color: #e6db74; background-color: #272822\">}: {</span><span style=\"color: #f8f8f2; text-decoration-color: #f8f8f2; background-color: #272822\">steak_price</span><span style=\"color: #e6db74; text-decoration-color: #e6db74; background-color: #272822\">} руб.</span><span style=\"color: #ae81ff; text-decoration-color: #ae81ff; background-color: #272822\">\\n</span><span style=\"color: #e6db74; text-decoration-color: #e6db74; background-color: #272822\">{</span><span style=\"color: #f8f8f2; text-decoration-color: #f8f8f2; background-color: #272822\">wine_name</span><span style=\"color: #e6db74; text-decoration-color: #e6db74; background-color: #272822\">}: {</span><span style=\"color: #f8f8f2; text-decoration-color: #f8f8f2; background-color: #272822\">wine_price</span><span style=\"color: #e6db74; text-decoration-color: #e6db74; background-color: #272822\">} руб.</span><span style=\"color: #ae81ff; text-decoration-color: #ae81ff; background-color: #272822\">\\n</span><span style=\"color: #e6db74; text-decoration-color: #e6db74; background-color: #272822\">{</span><span style=\"color: #f8f8f2; text-decoration-color: #f8f8f2; background-color: #272822\">dessert_name</span><span style=\"color: #e6db74; text-decoration-color: #e6db74; background-color: #272822\">}: </span><span style=\"background-color: #272822\"> </span>  \n",
       "  <span style=\"color: #e6db74; text-decoration-color: #e6db74; background-color: #272822\">{</span><span style=\"color: #f8f8f2; text-decoration-color: #f8f8f2; background-color: #272822\">dessert_price</span><span style=\"color: #e6db74; text-decoration-color: #e6db74; background-color: #272822\">} руб.</span><span style=\"color: #ae81ff; text-decoration-color: #ae81ff; background-color: #272822\">\\n</span><span style=\"color: #e6db74; text-decoration-color: #e6db74; background-color: #272822\">Общая стоимость: {</span><span style=\"color: #f8f8f2; text-decoration-color: #f8f8f2; background-color: #272822\">total_cost</span><span style=\"color: #e6db74; text-decoration-color: #e6db74; background-color: #272822\">} руб.\"</span><span style=\"color: #f8f8f2; text-decoration-color: #f8f8f2; background-color: #272822\">)</span><span style=\"background-color: #272822\">                                                     </span>  \n",
       " ───────────────────────────────────────────────────────────────────────────────────────────────────────────────── \n",
       "</pre>\n"
      ],
      "text/plain": [
       " ─ \u001b[1mExecuting parsed code:\u001b[0m ──────────────────────────────────────────────────────────────────────────────────────── \n",
       "  \u001b[38;2;248;248;242;48;2;39;40;34msteak_name\u001b[0m\u001b[38;2;248;248;242;48;2;39;40;34m \u001b[0m\u001b[38;2;255;70;137;48;2;39;40;34m=\u001b[0m\u001b[38;2;248;248;242;48;2;39;40;34m \u001b[0m\u001b[38;2;230;219;116;48;2;39;40;34m\"\u001b[0m\u001b[38;2;230;219;116;48;2;39;40;34mСтейк \u001b[0m\u001b[38;2;174;129;255;48;2;39;40;34m\\\"\u001b[0m\u001b[38;2;230;219;116;48;2;39;40;34mБык на взводе\u001b[0m\u001b[38;2;174;129;255;48;2;39;40;34m\\\"\u001b[0m\u001b[38;2;230;219;116;48;2;39;40;34m\"\u001b[0m\u001b[48;2;39;40;34m                                                                         \u001b[0m  \n",
       "  \u001b[38;2;248;248;242;48;2;39;40;34msteak_price\u001b[0m\u001b[38;2;248;248;242;48;2;39;40;34m \u001b[0m\u001b[38;2;255;70;137;48;2;39;40;34m=\u001b[0m\u001b[38;2;248;248;242;48;2;39;40;34m \u001b[0m\u001b[38;2;174;129;255;48;2;39;40;34m2500\u001b[0m\u001b[48;2;39;40;34m                                                                                             \u001b[0m  \n",
       "  \u001b[48;2;39;40;34m                                                                                                               \u001b[0m  \n",
       "  \u001b[38;2;248;248;242;48;2;39;40;34mwine_name\u001b[0m\u001b[38;2;248;248;242;48;2;39;40;34m \u001b[0m\u001b[38;2;255;70;137;48;2;39;40;34m=\u001b[0m\u001b[38;2;248;248;242;48;2;39;40;34m \u001b[0m\u001b[38;2;230;219;116;48;2;39;40;34m\"\u001b[0m\u001b[38;2;230;219;116;48;2;39;40;34mКаберне Совиньон\u001b[0m\u001b[38;2;230;219;116;48;2;39;40;34m\"\u001b[0m\u001b[48;2;39;40;34m                                                                                 \u001b[0m  \n",
       "  \u001b[38;2;248;248;242;48;2;39;40;34mwine_price\u001b[0m\u001b[38;2;248;248;242;48;2;39;40;34m \u001b[0m\u001b[38;2;255;70;137;48;2;39;40;34m=\u001b[0m\u001b[38;2;248;248;242;48;2;39;40;34m \u001b[0m\u001b[38;2;174;129;255;48;2;39;40;34m4500\u001b[0m\u001b[48;2;39;40;34m                                                                                              \u001b[0m  \n",
       "  \u001b[48;2;39;40;34m                                                                                                               \u001b[0m  \n",
       "  \u001b[38;2;248;248;242;48;2;39;40;34mdessert_name\u001b[0m\u001b[38;2;248;248;242;48;2;39;40;34m \u001b[0m\u001b[38;2;255;70;137;48;2;39;40;34m=\u001b[0m\u001b[38;2;248;248;242;48;2;39;40;34m \u001b[0m\u001b[38;2;230;219;116;48;2;39;40;34m\"\u001b[0m\u001b[38;2;230;219;116;48;2;39;40;34mШоколадный апокалипсис\u001b[0m\u001b[38;2;230;219;116;48;2;39;40;34m\"\u001b[0m\u001b[48;2;39;40;34m                                                                        \u001b[0m  \n",
       "  \u001b[38;2;248;248;242;48;2;39;40;34mdessert_price\u001b[0m\u001b[38;2;248;248;242;48;2;39;40;34m \u001b[0m\u001b[38;2;255;70;137;48;2;39;40;34m=\u001b[0m\u001b[38;2;248;248;242;48;2;39;40;34m \u001b[0m\u001b[38;2;174;129;255;48;2;39;40;34m800\u001b[0m\u001b[48;2;39;40;34m                                                                                            \u001b[0m  \n",
       "  \u001b[48;2;39;40;34m                                                                                                               \u001b[0m  \n",
       "  \u001b[38;2;248;248;242;48;2;39;40;34mtotal_cost\u001b[0m\u001b[38;2;248;248;242;48;2;39;40;34m \u001b[0m\u001b[38;2;255;70;137;48;2;39;40;34m=\u001b[0m\u001b[38;2;248;248;242;48;2;39;40;34m \u001b[0m\u001b[38;2;248;248;242;48;2;39;40;34msteak_price\u001b[0m\u001b[38;2;248;248;242;48;2;39;40;34m \u001b[0m\u001b[38;2;255;70;137;48;2;39;40;34m+\u001b[0m\u001b[38;2;248;248;242;48;2;39;40;34m \u001b[0m\u001b[38;2;248;248;242;48;2;39;40;34mwine_price\u001b[0m\u001b[38;2;248;248;242;48;2;39;40;34m \u001b[0m\u001b[38;2;255;70;137;48;2;39;40;34m+\u001b[0m\u001b[38;2;248;248;242;48;2;39;40;34m \u001b[0m\u001b[38;2;248;248;242;48;2;39;40;34mdessert_price\u001b[0m\u001b[48;2;39;40;34m                                                          \u001b[0m  \n",
       "  \u001b[38;2;248;248;242;48;2;39;40;34mfinal_answer\u001b[0m\u001b[38;2;248;248;242;48;2;39;40;34m(\u001b[0m\u001b[38;2;230;219;116;48;2;39;40;34mf\u001b[0m\u001b[38;2;230;219;116;48;2;39;40;34m\"\u001b[0m\u001b[38;2;230;219;116;48;2;39;40;34mМеню ужина:\u001b[0m\u001b[38;2;174;129;255;48;2;39;40;34m\\n\u001b[0m\u001b[38;2;230;219;116;48;2;39;40;34m{\u001b[0m\u001b[38;2;248;248;242;48;2;39;40;34msteak_name\u001b[0m\u001b[38;2;230;219;116;48;2;39;40;34m}\u001b[0m\u001b[38;2;230;219;116;48;2;39;40;34m: \u001b[0m\u001b[38;2;230;219;116;48;2;39;40;34m{\u001b[0m\u001b[38;2;248;248;242;48;2;39;40;34msteak_price\u001b[0m\u001b[38;2;230;219;116;48;2;39;40;34m}\u001b[0m\u001b[38;2;230;219;116;48;2;39;40;34m руб.\u001b[0m\u001b[38;2;174;129;255;48;2;39;40;34m\\n\u001b[0m\u001b[38;2;230;219;116;48;2;39;40;34m{\u001b[0m\u001b[38;2;248;248;242;48;2;39;40;34mwine_name\u001b[0m\u001b[38;2;230;219;116;48;2;39;40;34m}\u001b[0m\u001b[38;2;230;219;116;48;2;39;40;34m: \u001b[0m\u001b[38;2;230;219;116;48;2;39;40;34m{\u001b[0m\u001b[38;2;248;248;242;48;2;39;40;34mwine_price\u001b[0m\u001b[38;2;230;219;116;48;2;39;40;34m}\u001b[0m\u001b[38;2;230;219;116;48;2;39;40;34m руб.\u001b[0m\u001b[38;2;174;129;255;48;2;39;40;34m\\n\u001b[0m\u001b[38;2;230;219;116;48;2;39;40;34m{\u001b[0m\u001b[38;2;248;248;242;48;2;39;40;34mdessert_name\u001b[0m\u001b[38;2;230;219;116;48;2;39;40;34m}\u001b[0m\u001b[38;2;230;219;116;48;2;39;40;34m: \u001b[0m\u001b[48;2;39;40;34m \u001b[0m  \n",
       "  \u001b[38;2;230;219;116;48;2;39;40;34m{\u001b[0m\u001b[38;2;248;248;242;48;2;39;40;34mdessert_price\u001b[0m\u001b[38;2;230;219;116;48;2;39;40;34m}\u001b[0m\u001b[38;2;230;219;116;48;2;39;40;34m руб.\u001b[0m\u001b[38;2;174;129;255;48;2;39;40;34m\\n\u001b[0m\u001b[38;2;230;219;116;48;2;39;40;34mОбщая стоимость: \u001b[0m\u001b[38;2;230;219;116;48;2;39;40;34m{\u001b[0m\u001b[38;2;248;248;242;48;2;39;40;34mtotal_cost\u001b[0m\u001b[38;2;230;219;116;48;2;39;40;34m}\u001b[0m\u001b[38;2;230;219;116;48;2;39;40;34m руб.\u001b[0m\u001b[38;2;230;219;116;48;2;39;40;34m\"\u001b[0m\u001b[38;2;248;248;242;48;2;39;40;34m)\u001b[0m\u001b[48;2;39;40;34m                                                     \u001b[0m  \n",
       " ───────────────────────────────────────────────────────────────────────────────────────────────────────────────── \n"
      ]
     },
     "metadata": {},
     "output_type": "display_data"
    },
    {
     "data": {
      "text/html": [
       "<pre style=\"white-space:pre;overflow-x:auto;line-height:normal;font-family:Menlo,'DejaVu Sans Mono',consolas,'Courier New',monospace\"><span style=\"color: #d4b702; text-decoration-color: #d4b702; font-weight: bold\">Out - Final answer: Меню ужина:</span>\n",
       "<span style=\"color: #d4b702; text-decoration-color: #d4b702; font-weight: bold\">Стейк \"Бык на взводе\": 2500 руб.</span>\n",
       "<span style=\"color: #d4b702; text-decoration-color: #d4b702; font-weight: bold\">Каберне Совиньон: 4500 руб.</span>\n",
       "<span style=\"color: #d4b702; text-decoration-color: #d4b702; font-weight: bold\">Шоколадный апокалипсис: 800 руб.</span>\n",
       "<span style=\"color: #d4b702; text-decoration-color: #d4b702; font-weight: bold\">Общая стоимость: 7800 руб.</span>\n",
       "</pre>\n"
      ],
      "text/plain": [
       "\u001b[1;38;2;212;183;2mOut - Final answer: Меню ужина:\u001b[0m\n",
       "\u001b[1;38;2;212;183;2mСтейк \"Бык на взводе\": 2500 руб.\u001b[0m\n",
       "\u001b[1;38;2;212;183;2mКаберне Совиньон: 4500 руб.\u001b[0m\n",
       "\u001b[1;38;2;212;183;2mШоколадный апокалипсис: 800 руб.\u001b[0m\n",
       "\u001b[1;38;2;212;183;2mОбщая стоимость: 7800 руб.\u001b[0m\n"
      ]
     },
     "metadata": {},
     "output_type": "display_data"
    },
    {
     "data": {
      "text/html": [
       "<pre style=\"white-space:pre;overflow-x:auto;line-height:normal;font-family:Menlo,'DejaVu Sans Mono',consolas,'Courier New',monospace\"><span style=\"color: #7f7f7f; text-decoration-color: #7f7f7f\">[Step 2: Duration 3.88 seconds| Input tokens: 6,784 | Output tokens: 375]</span>\n",
       "</pre>\n"
      ],
      "text/plain": [
       "\u001b[2m[Step 2: Duration 3.88 seconds| Input tokens: 6,784 | Output tokens: 375]\u001b[0m\n"
      ]
     },
     "metadata": {},
     "output_type": "display_data"
    }
   ],
   "source": [
    "with MCPClient({\"url\" : \"http://127.0.0.1:8000/sse\"}) as res_tools:\n",
    "    agent = CodeAgent(\n",
    "        tools=res_tools+[find_matching_food,find_matching_wine], \n",
    "        prompt_templates = russian_templates,\n",
    "        model=ygpt_model)\n",
    "    agent.prompt_templates = yaml.load(open('etc/smolagents_code_agent_russian_prompts.yaml'), Loader=yaml.FullLoader)\n",
    "    agent.run(\"\"\"\n",
    "    Подбери меню для ужина в ресторане из основного блюда, подходящего вина и десерта, и\n",
    "    посчитай его стоимость.\n",
    "    Выведи табличку из названий блюд и напитков и их стоимости. Я хочу стейк!\n",
    "    \"\"\")"
   ]
  },
  {
   "cell_type": "markdown",
   "id": "d3349c70",
   "metadata": {},
   "source": [
    "## Заключение\n",
    "\n",
    "Code Agents - это способ создания достаточно гибких агентов, способных самостоятельно декомпозировать задачу на подзадачи и решать их с помощью написания кода. "
   ]
  }
 ],
 "metadata": {
  "kernelspec": {
   "display_name": "mas",
   "language": "python",
   "name": "python3"
  },
  "language_info": {
   "codemirror_mode": {
    "name": "ipython",
    "version": 3
   },
   "file_extension": ".py",
   "mimetype": "text/x-python",
   "name": "python",
   "nbconvert_exporter": "python",
   "pygments_lexer": "ipython3",
   "version": "3.12.0"
  }
 },
 "nbformat": 4,
 "nbformat_minor": 5
}
