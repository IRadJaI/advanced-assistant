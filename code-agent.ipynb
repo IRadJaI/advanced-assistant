{
 "cells": [
  {
   "cell_type": "markdown",
   "id": "c36afcda",
   "metadata": {},
   "source": [
    "# Code Agents\n",
    "\n",
    "При создании многоагентных систем, у нас есть компромисс между гибкостью и управляемостью системы. Управляемые системы обычно действуют на основе некоторых прописанных переходов и коммуникаций между агентами, в то время как в гибких системах LLM-агенты могут принимать решения и строить последовательности вызова инструкментов на основе своих знаний и опыта.\n",
    "\n",
    "Такие системы могут быть построены на основе кодогенерации, когда LLM генерирует код на Python для решения задачи, использующий предоставленные инструменты, который затем выполняется в некоторой контролируемой песочнице.\n",
    "\n",
    "Для демонстрации такого подхода используем фреймворк [smolagents](https://github.com/huggingface/smolagents)."
   ]
  },
  {
   "cell_type": "code",
   "execution_count": null,
   "id": "d54e30b2",
   "metadata": {},
   "outputs": [],
   "source": [
    "%pip install smolagents[mcp]"
   ]
  },
  {
   "cell_type": "markdown",
   "id": "e9461d71",
   "metadata": {},
   "source": [
    "## Простейший пример\n",
    "\n",
    "Рассмотрим простейший пример, когда мы даём агенту возможность поиска в интернет. Для этого будем использовать доступный \"из коробки\" инструмент `DuckDuckGoSearchTool`.\n",
    "\n",
    "Для работы с YandexGPT будем использовать [OpenAI-совместимое API](https://yandex.cloud/ru/docs/foundation-models/concepts/openai-compatibility). Вы можете попробовать модели YandexGPT 5 или Llama.\n",
    "\n",
    "> **ВАЖНО**: При использовании YandexGPT 5 необходимо передать ключ `flatten_messages_as_text = True`, поскольку составные запросы, включающие текст и изображения, пока не поддерживаются.\n",
    "\n",
    "Для начала убедимся, что языковая модель работает:"
   ]
  },
  {
   "cell_type": "code",
   "execution_count": 14,
   "id": "c9ff23da",
   "metadata": {},
   "outputs": [],
   "source": [
    "from smolagents import OpenAIServerModel, CodeAgent, DuckDuckGoSearchTool\n",
    "import os\n",
    "\n",
    "ygpt_model = OpenAIServerModel(api_key=os.environ['api_key'], \n",
    "                           model_id=f\"gpt://{os.environ['folder_id']}/yandexgpt/rc\",\n",
    "                           #model_id=f\"gpt://{os.environ['folder_id']}/llama/rc\",\n",
    "                           api_base=\"https://llm.api.cloud.yandex.net/v1\",\n",
    "                           flatten_messages_as_text = True\n",
    ")\n",
    "\n",
    "#ygpt_model([\n",
    "#    {\n",
    "#        \"role\" : \"user\",\n",
    "#        \"content\" : \"Расскажи анекдот\"\n",
    "#    }])"
   ]
  },
  {
   "cell_type": "markdown",
   "id": "3934f74c",
   "metadata": {},
   "source": [
    "Теперь создадим агента с инструментом поиска в интернет, и зададим ему какой-нибудь вопрос:"
   ]
  },
  {
   "cell_type": "code",
   "execution_count": 15,
   "id": "ec72aea6",
   "metadata": {},
   "outputs": [
    {
     "data": {
      "text/html": [
       "<pre style=\"white-space:pre;overflow-x:auto;line-height:normal;font-family:Menlo,'DejaVu Sans Mono',consolas,'Courier New',monospace\"><span style=\"color: #d4b702; text-decoration-color: #d4b702\">╭──────────────────────────────────────────────────── </span><span style=\"color: #d4b702; text-decoration-color: #d4b702; font-weight: bold\">New run</span><span style=\"color: #d4b702; text-decoration-color: #d4b702\"> ────────────────────────────────────────────────────╮</span>\n",
       "<span style=\"color: #d4b702; text-decoration-color: #d4b702\">│</span>                                                                                                                 <span style=\"color: #d4b702; text-decoration-color: #d4b702\">│</span>\n",
       "<span style=\"color: #d4b702; text-decoration-color: #d4b702\">│</span> <span style=\"font-weight: bold\">Напиши список из трёх лучших вин, подходящих к стейку с кровью, и их цены</span>                                       <span style=\"color: #d4b702; text-decoration-color: #d4b702\">│</span>\n",
       "<span style=\"color: #d4b702; text-decoration-color: #d4b702\">│</span>                                                                                                                 <span style=\"color: #d4b702; text-decoration-color: #d4b702\">│</span>\n",
       "<span style=\"color: #d4b702; text-decoration-color: #d4b702\">╰─ OpenAIServerModel - gpt://b1gbicod0scglhd49qs0/yandexgpt/rc ───────────────────────────────────────────────────╯</span>\n",
       "</pre>\n"
      ],
      "text/plain": [
       "\u001b[38;2;212;183;2m╭─\u001b[0m\u001b[38;2;212;183;2m───────────────────────────────────────────────────\u001b[0m\u001b[38;2;212;183;2m \u001b[0m\u001b[1;38;2;212;183;2mNew run\u001b[0m\u001b[38;2;212;183;2m \u001b[0m\u001b[38;2;212;183;2m───────────────────────────────────────────────────\u001b[0m\u001b[38;2;212;183;2m─╮\u001b[0m\n",
       "\u001b[38;2;212;183;2m│\u001b[0m                                                                                                                 \u001b[38;2;212;183;2m│\u001b[0m\n",
       "\u001b[38;2;212;183;2m│\u001b[0m \u001b[1mНапиши список из трёх лучших вин, подходящих к стейку с кровью, и их цены\u001b[0m                                       \u001b[38;2;212;183;2m│\u001b[0m\n",
       "\u001b[38;2;212;183;2m│\u001b[0m                                                                                                                 \u001b[38;2;212;183;2m│\u001b[0m\n",
       "\u001b[38;2;212;183;2m╰─\u001b[0m\u001b[38;2;212;183;2m OpenAIServerModel - gpt://b1gbicod0scglhd49qs0/yandexgpt/rc \u001b[0m\u001b[38;2;212;183;2m──────────────────────────────────────────────────\u001b[0m\u001b[38;2;212;183;2m─╯\u001b[0m\n"
      ]
     },
     "metadata": {},
     "output_type": "display_data"
    },
    {
     "data": {
      "text/html": [
       "<pre style=\"white-space:pre;overflow-x:auto;line-height:normal;font-family:Menlo,'DejaVu Sans Mono',consolas,'Courier New',monospace\"><span style=\"color: #d4b702; text-decoration-color: #d4b702\">━━━━━━━━━━━━━━━━━━━━━━━━━━━━━━━━━━━━━━━━━━━━━━━━━━━━━ </span><span style=\"font-weight: bold\">Step </span><span style=\"color: #008080; text-decoration-color: #008080; font-weight: bold\">1</span><span style=\"color: #d4b702; text-decoration-color: #d4b702\"> ━━━━━━━━━━━━━━━━━━━━━━━━━━━━━━━━━━━━━━━━━━━━━━━━━━━━━━</span>\n",
       "</pre>\n"
      ],
      "text/plain": [
       "\u001b[38;2;212;183;2m━━━━━━━━━━━━━━━━━━━━━━━━━━━━━━━━━━━━━━━━━━━━━━━━━━━━━ \u001b[0m\u001b[1mStep \u001b[0m\u001b[1;36m1\u001b[0m\u001b[38;2;212;183;2m ━━━━━━━━━━━━━━━━━━━━━━━━━━━━━━━━━━━━━━━━━━━━━━━━━━━━━━\u001b[0m\n"
      ]
     },
     "metadata": {},
     "output_type": "display_data"
    },
    {
     "data": {
      "text/html": [
       "<pre style=\"white-space:pre;overflow-x:auto;line-height:normal;font-family:Menlo,'DejaVu Sans Mono',consolas,'Courier New',monospace\"> ─ <span style=\"font-weight: bold\">Executing parsed code:</span> ──────────────────────────────────────────────────────────────────────────────────────── \n",
       "  <span style=\"color: #f8f8f2; text-decoration-color: #f8f8f2; background-color: #272822\">results </span><span style=\"color: #ff4689; text-decoration-color: #ff4689; background-color: #272822\">=</span><span style=\"color: #f8f8f2; text-decoration-color: #f8f8f2; background-color: #272822\"> web_search(query</span><span style=\"color: #ff4689; text-decoration-color: #ff4689; background-color: #272822\">=</span><span style=\"color: #e6db74; text-decoration-color: #e6db74; background-color: #272822\">\"лучшие вина к стейку с кровью и их цены\"</span><span style=\"color: #f8f8f2; text-decoration-color: #f8f8f2; background-color: #272822\">)</span><span style=\"background-color: #272822\">                                          </span>  \n",
       "  <span style=\"color: #f8f8f2; text-decoration-color: #f8f8f2; background-color: #272822\">print(results)</span><span style=\"background-color: #272822\">                                                                                                 </span>  \n",
       " ───────────────────────────────────────────────────────────────────────────────────────────────────────────────── \n",
       "</pre>\n"
      ],
      "text/plain": [
       " ─ \u001b[1mExecuting parsed code:\u001b[0m ──────────────────────────────────────────────────────────────────────────────────────── \n",
       "  \u001b[38;2;248;248;242;48;2;39;40;34mresults\u001b[0m\u001b[38;2;248;248;242;48;2;39;40;34m \u001b[0m\u001b[38;2;255;70;137;48;2;39;40;34m=\u001b[0m\u001b[38;2;248;248;242;48;2;39;40;34m \u001b[0m\u001b[38;2;248;248;242;48;2;39;40;34mweb_search\u001b[0m\u001b[38;2;248;248;242;48;2;39;40;34m(\u001b[0m\u001b[38;2;248;248;242;48;2;39;40;34mquery\u001b[0m\u001b[38;2;255;70;137;48;2;39;40;34m=\u001b[0m\u001b[38;2;230;219;116;48;2;39;40;34m\"\u001b[0m\u001b[38;2;230;219;116;48;2;39;40;34mлучшие вина к стейку с кровью и их цены\u001b[0m\u001b[38;2;230;219;116;48;2;39;40;34m\"\u001b[0m\u001b[38;2;248;248;242;48;2;39;40;34m)\u001b[0m\u001b[48;2;39;40;34m                                          \u001b[0m  \n",
       "  \u001b[38;2;248;248;242;48;2;39;40;34mprint\u001b[0m\u001b[38;2;248;248;242;48;2;39;40;34m(\u001b[0m\u001b[38;2;248;248;242;48;2;39;40;34mresults\u001b[0m\u001b[38;2;248;248;242;48;2;39;40;34m)\u001b[0m\u001b[48;2;39;40;34m                                                                                                 \u001b[0m  \n",
       " ───────────────────────────────────────────────────────────────────────────────────────────────────────────────── \n"
      ]
     },
     "metadata": {},
     "output_type": "display_data"
    },
    {
     "data": {
      "text/html": [
       "<pre style=\"white-space:pre;overflow-x:auto;line-height:normal;font-family:Menlo,'DejaVu Sans Mono',consolas,'Courier New',monospace\"><span style=\"color: #800000; text-decoration-color: #800000; font-weight: bold\">Code execution failed at line </span><span style=\"color: #008000; text-decoration-color: #008000\">'results = web_search(query=\"лучшие вина к стейку с кровью и их цены\")'</span><span style=\"color: #800000; text-decoration-color: #800000; font-weight: bold\"> due to: </span>\n",
       "<span style=\"color: #800000; text-decoration-color: #800000; font-weight: bold\">DuckDuckGoSearchException: </span><span style=\"color: #0000ff; text-decoration-color: #0000ff; text-decoration: underline\">https://html.duckduckgo.com/html</span><span style=\"color: #800000; text-decoration-color: #800000; font-weight: bold\"> </span><span style=\"color: #008080; text-decoration-color: #008080; font-weight: bold\">202</span><span style=\"color: #800000; text-decoration-color: #800000; font-weight: bold\"> Ratelimit</span>\n",
       "</pre>\n"
      ],
      "text/plain": [
       "\u001b[1;31mCode execution failed at line \u001b[0m\u001b[32m'results = web_search\u001b[0m\u001b[32m(\u001b[0m\u001b[32mquery\u001b[0m\u001b[32m=\u001b[0m\u001b[32m\"лучшие\u001b[0m\u001b[32m вина к стейку с кровью и их цены\"\u001b[0m\u001b[32m)\u001b[0m\u001b[32m'\u001b[0m\u001b[1;31m due to: \u001b[0m\n",
       "\u001b[1;31mDuckDuckGoSearchException: \u001b[0m\u001b[4;94mhttps://html.duckduckgo.com/html\u001b[0m\u001b[1;31m \u001b[0m\u001b[1;36m202\u001b[0m\u001b[1;31m Ratelimit\u001b[0m\n"
      ]
     },
     "metadata": {},
     "output_type": "display_data"
    },
    {
     "data": {
      "text/html": [
       "<pre style=\"white-space:pre;overflow-x:auto;line-height:normal;font-family:Menlo,'DejaVu Sans Mono',consolas,'Courier New',monospace\"><span style=\"color: #7f7f7f; text-decoration-color: #7f7f7f\">[Step 1: Duration 3.57 seconds| Input tokens: 2,320 | Output tokens: 66]</span>\n",
       "</pre>\n"
      ],
      "text/plain": [
       "\u001b[2m[Step 1: Duration 3.57 seconds| Input tokens: 2,320 | Output tokens: 66]\u001b[0m\n"
      ]
     },
     "metadata": {},
     "output_type": "display_data"
    },
    {
     "data": {
      "text/html": [
       "<pre style=\"white-space:pre;overflow-x:auto;line-height:normal;font-family:Menlo,'DejaVu Sans Mono',consolas,'Courier New',monospace\"><span style=\"color: #d4b702; text-decoration-color: #d4b702\">━━━━━━━━━━━━━━━━━━━━━━━━━━━━━━━━━━━━━━━━━━━━━━━━━━━━━ </span><span style=\"font-weight: bold\">Step </span><span style=\"color: #008080; text-decoration-color: #008080; font-weight: bold\">2</span><span style=\"color: #d4b702; text-decoration-color: #d4b702\"> ━━━━━━━━━━━━━━━━━━━━━━━━━━━━━━━━━━━━━━━━━━━━━━━━━━━━━━</span>\n",
       "</pre>\n"
      ],
      "text/plain": [
       "\u001b[38;2;212;183;2m━━━━━━━━━━━━━━━━━━━━━━━━━━━━━━━━━━━━━━━━━━━━━━━━━━━━━ \u001b[0m\u001b[1mStep \u001b[0m\u001b[1;36m2\u001b[0m\u001b[38;2;212;183;2m ━━━━━━━━━━━━━━━━━━━━━━━━━━━━━━━━━━━━━━━━━━━━━━━━━━━━━━\u001b[0m\n"
      ]
     },
     "metadata": {},
     "output_type": "display_data"
    },
    {
     "data": {
      "text/html": [
       "<pre style=\"white-space:pre;overflow-x:auto;line-height:normal;font-family:Menlo,'DejaVu Sans Mono',consolas,'Courier New',monospace\"> ─ <span style=\"font-weight: bold\">Executing parsed code:</span> ──────────────────────────────────────────────────────────────────────────────────────── \n",
       "  <span style=\"color: #f8f8f2; text-decoration-color: #f8f8f2; background-color: #272822\">results </span><span style=\"color: #ff4689; text-decoration-color: #ff4689; background-color: #272822\">=</span><span style=\"color: #f8f8f2; text-decoration-color: #f8f8f2; background-color: #272822\"> web_search(query</span><span style=\"color: #ff4689; text-decoration-color: #ff4689; background-color: #272822\">=</span><span style=\"color: #e6db74; text-decoration-color: #e6db74; background-color: #272822\">\"лучшие вина для стейка с кровью\"</span><span style=\"color: #f8f8f2; text-decoration-color: #f8f8f2; background-color: #272822\">)</span><span style=\"background-color: #272822\">                                                  </span>  \n",
       "  <span style=\"color: #f8f8f2; text-decoration-color: #f8f8f2; background-color: #272822\">print(results)</span><span style=\"background-color: #272822\">                                                                                                 </span>  \n",
       " ───────────────────────────────────────────────────────────────────────────────────────────────────────────────── \n",
       "</pre>\n"
      ],
      "text/plain": [
       " ─ \u001b[1mExecuting parsed code:\u001b[0m ──────────────────────────────────────────────────────────────────────────────────────── \n",
       "  \u001b[38;2;248;248;242;48;2;39;40;34mresults\u001b[0m\u001b[38;2;248;248;242;48;2;39;40;34m \u001b[0m\u001b[38;2;255;70;137;48;2;39;40;34m=\u001b[0m\u001b[38;2;248;248;242;48;2;39;40;34m \u001b[0m\u001b[38;2;248;248;242;48;2;39;40;34mweb_search\u001b[0m\u001b[38;2;248;248;242;48;2;39;40;34m(\u001b[0m\u001b[38;2;248;248;242;48;2;39;40;34mquery\u001b[0m\u001b[38;2;255;70;137;48;2;39;40;34m=\u001b[0m\u001b[38;2;230;219;116;48;2;39;40;34m\"\u001b[0m\u001b[38;2;230;219;116;48;2;39;40;34mлучшие вина для стейка с кровью\u001b[0m\u001b[38;2;230;219;116;48;2;39;40;34m\"\u001b[0m\u001b[38;2;248;248;242;48;2;39;40;34m)\u001b[0m\u001b[48;2;39;40;34m                                                  \u001b[0m  \n",
       "  \u001b[38;2;248;248;242;48;2;39;40;34mprint\u001b[0m\u001b[38;2;248;248;242;48;2;39;40;34m(\u001b[0m\u001b[38;2;248;248;242;48;2;39;40;34mresults\u001b[0m\u001b[38;2;248;248;242;48;2;39;40;34m)\u001b[0m\u001b[48;2;39;40;34m                                                                                                 \u001b[0m  \n",
       " ───────────────────────────────────────────────────────────────────────────────────────────────────────────────── \n"
      ]
     },
     "metadata": {},
     "output_type": "display_data"
    },
    {
     "data": {
      "text/html": [
       "<pre style=\"white-space:pre;overflow-x:auto;line-height:normal;font-family:Menlo,'DejaVu Sans Mono',consolas,'Courier New',monospace\"><span style=\"font-weight: bold\">Execution logs:</span>\n",
       "## Search Results\n",
       "\n",
       "[Вино к стейку — какое вино лучше подойдет к стейку из говядины, какой \n",
       "...](https://luding.ru/gastronomy/sochetaemost/vino-pod-steyk/)\n",
       "Жирный стейк можно дополнить танинным кислотным вином. Такой напиток снижает жирность. Например, бароло, каберне \n",
       "совиньон Южной или Северной Америки, чилийский карменер, аргентинский мальбек. Мраморный стейк можно подать с \n",
       "алкоголем из Кот-дю-Рон или Поммара. Ти-бон (t-bone) — два вида мяса на позвоночной кости.\n",
       "\n",
       "[Какое вино подают к мясу: советы и правильные сочетания](https://alcofan.com/kakoe-vino-luchshe-k-myasu.html)\n",
       "Для поджаренного на гриле стейка лучше всего подойдет вино, выдержанное в дубовой бочке, с легким фруктовым \n",
       "букетом, например, американский Зинфандель, Каберне, Приорат или испанская Риоха.\n",
       "\n",
       "[Как правильно подобрать вино к красному мясу. Часть 1. \n",
       "Говядина](https://valentinawine.com/kakoe-vino-podoidet-k-myasu/)\n",
       "Вино обладает бархатными танинами и высокой кислотность, что как нельзя лучше подойдёт к стейку из филе или \n",
       "запечённой вырезке с кровью.\n",
       "\n",
       "[Какое вино подобрать к стейку из \n",
       "говядины](https://strongwine.ru/articles/vino/gastronomiia/poleznoe-rukovodstvo-po-sochetaniiu-vina-i-steika/)\n",
       "Vine Vision Universal и Burgundy — новые бокалы для вина. Универсальность, изящество и качество стекла. Узнайте, \n",
       "почему они станут отличным выбором! Сабли для сабража: инструмент для особой церемонии\n",
       "\n",
       "[Разбираемся в стейках и подбираем под них достойные \n",
       "вина](https://swn.ru/articles/razbiraemsya-v-steykakh-i-podbiraem-pod-nikh-dostoynye-vina)\n",
       "Рекомендуемые вина: красная бургундия / выдержанное бордо (10-20 лет) / розовое шампанское или блан-де-нуар с \n",
       "длительной выдержкой.\n",
       "\n",
       "[Какое вино подходит к стейку - \n",
       "kamushkiguru.ru](https://kamushkiguru.ru/blog/poleznoe/kakoe-vino-podxodit-k-steiku)\n",
       "Первое правило - учитывайте степень прожарки стейка. Чем нежнее и мягче мясо, тем легче должно быть вино. Например,\n",
       "к стейку с кровью отлично подойдет легкое и освежающее красное вино. А к прожаренному до средней степени - более \n",
       "насыщенное и полнотелое вино. Второе правило - учитывайте соус, сопровождающий стейк.\n",
       "\n",
       "[Ответы Mail: Что лучше взять к огромному стейку с кровью, пиво, вино \n",
       "...](https://otvet.mail.ru/question/202558506)\n",
       "Лучший ответ Фаина м Оракул (52832) 7 лет назад к свинине водочки, к говядине хорошее вино\n",
       "\n",
       "[Какое вино лучше пить со стейком | Блог Винного дома Мильстрим](https://millstream-wines.ru/blog/7886/)\n",
       "Мы рассмотрим различные виды стейка и рекомендованные вина, чтобы помочь вам создать гармоничную пару и насладиться\n",
       "великолепным сочетанием вкусов. 1. Говяжий стейк - это классика, и он обладает насыщенным и полным вкусом. Для \n",
       "сочетания с говядиной идеально подходят красные вина с хорошей структурой и выраженными танинами.\n",
       "\n",
       "[Ответы Mail.ru: Стейк с кровью и бутылочка красного вина - для вас ...](https://otvet.mail.ru/question/209394008)\n",
       "Пользователь Олеся задал вопрос в категории Юмор и получил на него 10 ответов\n",
       "\n",
       "[Какое вино подходит к стейку — помогаем разобраться, чем запивать мясо \n",
       "...](https://primebeef.ru/blog/vybiraem_vino_k_stejku/)\n",
       "Какое вино подходит к стейку — помогаем разобраться, чем запивать мясо. Особенно — мраморную говядину. Сервис по \n",
       "выбору вина Invisible.ru коротко и по делу рассказывает про то, чем запить кусок говядины. Подразумеваем мясо, \n",
       "приготовленное просто: оливковое масло, кусочек сливочного, чеснок, ветка розмарина, — и на огонь.\n",
       "\n",
       "Out: None\n",
       "</pre>\n"
      ],
      "text/plain": [
       "\u001b[1mExecution logs:\u001b[0m\n",
       "## Search Results\n",
       "\n",
       "[Вино к стейку — какое вино лучше подойдет к стейку из говядины, какой \n",
       "...](https://luding.ru/gastronomy/sochetaemost/vino-pod-steyk/)\n",
       "Жирный стейк можно дополнить танинным кислотным вином. Такой напиток снижает жирность. Например, бароло, каберне \n",
       "совиньон Южной или Северной Америки, чилийский карменер, аргентинский мальбек. Мраморный стейк можно подать с \n",
       "алкоголем из Кот-дю-Рон или Поммара. Ти-бон (t-bone) — два вида мяса на позвоночной кости.\n",
       "\n",
       "[Какое вино подают к мясу: советы и правильные сочетания](https://alcofan.com/kakoe-vino-luchshe-k-myasu.html)\n",
       "Для поджаренного на гриле стейка лучше всего подойдет вино, выдержанное в дубовой бочке, с легким фруктовым \n",
       "букетом, например, американский Зинфандель, Каберне, Приорат или испанская Риоха.\n",
       "\n",
       "[Как правильно подобрать вино к красному мясу. Часть 1. \n",
       "Говядина](https://valentinawine.com/kakoe-vino-podoidet-k-myasu/)\n",
       "Вино обладает бархатными танинами и высокой кислотность, что как нельзя лучше подойдёт к стейку из филе или \n",
       "запечённой вырезке с кровью.\n",
       "\n",
       "[Какое вино подобрать к стейку из \n",
       "говядины](https://strongwine.ru/articles/vino/gastronomiia/poleznoe-rukovodstvo-po-sochetaniiu-vina-i-steika/)\n",
       "Vine Vision Universal и Burgundy — новые бокалы для вина. Универсальность, изящество и качество стекла. Узнайте, \n",
       "почему они станут отличным выбором! Сабли для сабража: инструмент для особой церемонии\n",
       "\n",
       "[Разбираемся в стейках и подбираем под них достойные \n",
       "вина](https://swn.ru/articles/razbiraemsya-v-steykakh-i-podbiraem-pod-nikh-dostoynye-vina)\n",
       "Рекомендуемые вина: красная бургундия / выдержанное бордо (10-20 лет) / розовое шампанское или блан-де-нуар с \n",
       "длительной выдержкой.\n",
       "\n",
       "[Какое вино подходит к стейку - \n",
       "kamushkiguru.ru](https://kamushkiguru.ru/blog/poleznoe/kakoe-vino-podxodit-k-steiku)\n",
       "Первое правило - учитывайте степень прожарки стейка. Чем нежнее и мягче мясо, тем легче должно быть вино. Например,\n",
       "к стейку с кровью отлично подойдет легкое и освежающее красное вино. А к прожаренному до средней степени - более \n",
       "насыщенное и полнотелое вино. Второе правило - учитывайте соус, сопровождающий стейк.\n",
       "\n",
       "[Ответы Mail: Что лучше взять к огромному стейку с кровью, пиво, вино \n",
       "...](https://otvet.mail.ru/question/202558506)\n",
       "Лучший ответ Фаина м Оракул (52832) 7 лет назад к свинине водочки, к говядине хорошее вино\n",
       "\n",
       "[Какое вино лучше пить со стейком | Блог Винного дома Мильстрим](https://millstream-wines.ru/blog/7886/)\n",
       "Мы рассмотрим различные виды стейка и рекомендованные вина, чтобы помочь вам создать гармоничную пару и насладиться\n",
       "великолепным сочетанием вкусов. 1. Говяжий стейк - это классика, и он обладает насыщенным и полным вкусом. Для \n",
       "сочетания с говядиной идеально подходят красные вина с хорошей структурой и выраженными танинами.\n",
       "\n",
       "[Ответы Mail.ru: Стейк с кровью и бутылочка красного вина - для вас ...](https://otvet.mail.ru/question/209394008)\n",
       "Пользователь Олеся задал вопрос в категории Юмор и получил на него 10 ответов\n",
       "\n",
       "[Какое вино подходит к стейку — помогаем разобраться, чем запивать мясо \n",
       "...](https://primebeef.ru/blog/vybiraem_vino_k_stejku/)\n",
       "Какое вино подходит к стейку — помогаем разобраться, чем запивать мясо. Особенно — мраморную говядину. Сервис по \n",
       "выбору вина Invisible.ru коротко и по делу рассказывает про то, чем запить кусок говядины. Подразумеваем мясо, \n",
       "приготовленное просто: оливковое масло, кусочек сливочного, чеснок, ветка розмарина, — и на огонь.\n",
       "\n",
       "Out: None\n"
      ]
     },
     "metadata": {},
     "output_type": "display_data"
    },
    {
     "data": {
      "text/html": [
       "<pre style=\"white-space:pre;overflow-x:auto;line-height:normal;font-family:Menlo,'DejaVu Sans Mono',consolas,'Courier New',monospace\"><span style=\"color: #7f7f7f; text-decoration-color: #7f7f7f\">[Step 2: Duration 3.63 seconds| Input tokens: 4,872 | Output tokens: 144]</span>\n",
       "</pre>\n"
      ],
      "text/plain": [
       "\u001b[2m[Step 2: Duration 3.63 seconds| Input tokens: 4,872 | Output tokens: 144]\u001b[0m\n"
      ]
     },
     "metadata": {},
     "output_type": "display_data"
    },
    {
     "data": {
      "text/html": [
       "<pre style=\"white-space:pre;overflow-x:auto;line-height:normal;font-family:Menlo,'DejaVu Sans Mono',consolas,'Courier New',monospace\"><span style=\"color: #d4b702; text-decoration-color: #d4b702\">━━━━━━━━━━━━━━━━━━━━━━━━━━━━━━━━━━━━━━━━━━━━━━━━━━━━━ </span><span style=\"font-weight: bold\">Step </span><span style=\"color: #008080; text-decoration-color: #008080; font-weight: bold\">3</span><span style=\"color: #d4b702; text-decoration-color: #d4b702\"> ━━━━━━━━━━━━━━━━━━━━━━━━━━━━━━━━━━━━━━━━━━━━━━━━━━━━━━</span>\n",
       "</pre>\n"
      ],
      "text/plain": [
       "\u001b[38;2;212;183;2m━━━━━━━━━━━━━━━━━━━━━━━━━━━━━━━━━━━━━━━━━━━━━━━━━━━━━ \u001b[0m\u001b[1mStep \u001b[0m\u001b[1;36m3\u001b[0m\u001b[38;2;212;183;2m ━━━━━━━━━━━━━━━━━━━━━━━━━━━━━━━━━━━━━━━━━━━━━━━━━━━━━━\u001b[0m\n"
      ]
     },
     "metadata": {},
     "output_type": "display_data"
    },
    {
     "data": {
      "text/html": [
       "<pre style=\"white-space:pre;overflow-x:auto;line-height:normal;font-family:Menlo,'DejaVu Sans Mono',consolas,'Courier New',monospace\"> ─ <span style=\"font-weight: bold\">Executing parsed code:</span> ──────────────────────────────────────────────────────────────────────────────────────── \n",
       "  <span style=\"color: #f8f8f2; text-decoration-color: #f8f8f2; background-color: #272822\">results_prices </span><span style=\"color: #ff4689; text-decoration-color: #ff4689; background-color: #272822\">=</span><span style=\"color: #f8f8f2; text-decoration-color: #f8f8f2; background-color: #272822\"> web_search(query</span><span style=\"color: #ff4689; text-decoration-color: #ff4689; background-color: #272822\">=</span><span style=\"color: #e6db74; text-decoration-color: #e6db74; background-color: #272822\">\"цены на бароло, каберне совиньон, чилийский карменер, аргентинский мальбек, </span>  \n",
       "  <span style=\"color: #e6db74; text-decoration-color: #e6db74; background-color: #272822\">алкоголь из Кот-дю-Рон или Поммара\"</span><span style=\"color: #f8f8f2; text-decoration-color: #f8f8f2; background-color: #272822\">)</span><span style=\"background-color: #272822\">                                                                           </span>  \n",
       "  <span style=\"color: #f8f8f2; text-decoration-color: #f8f8f2; background-color: #272822\">print(results_prices)</span><span style=\"background-color: #272822\">                                                                                          </span>  \n",
       " ───────────────────────────────────────────────────────────────────────────────────────────────────────────────── \n",
       "</pre>\n"
      ],
      "text/plain": [
       " ─ \u001b[1mExecuting parsed code:\u001b[0m ──────────────────────────────────────────────────────────────────────────────────────── \n",
       "  \u001b[38;2;248;248;242;48;2;39;40;34mresults_prices\u001b[0m\u001b[38;2;248;248;242;48;2;39;40;34m \u001b[0m\u001b[38;2;255;70;137;48;2;39;40;34m=\u001b[0m\u001b[38;2;248;248;242;48;2;39;40;34m \u001b[0m\u001b[38;2;248;248;242;48;2;39;40;34mweb_search\u001b[0m\u001b[38;2;248;248;242;48;2;39;40;34m(\u001b[0m\u001b[38;2;248;248;242;48;2;39;40;34mquery\u001b[0m\u001b[38;2;255;70;137;48;2;39;40;34m=\u001b[0m\u001b[38;2;230;219;116;48;2;39;40;34m\"\u001b[0m\u001b[38;2;230;219;116;48;2;39;40;34mцены на бароло, каберне совиньон, чилийский карменер, аргентинский мальбек, \u001b[0m  \n",
       "  \u001b[38;2;230;219;116;48;2;39;40;34mалкоголь из Кот-дю-Рон или Поммара\u001b[0m\u001b[38;2;230;219;116;48;2;39;40;34m\"\u001b[0m\u001b[38;2;248;248;242;48;2;39;40;34m)\u001b[0m\u001b[48;2;39;40;34m                                                                           \u001b[0m  \n",
       "  \u001b[38;2;248;248;242;48;2;39;40;34mprint\u001b[0m\u001b[38;2;248;248;242;48;2;39;40;34m(\u001b[0m\u001b[38;2;248;248;242;48;2;39;40;34mresults_prices\u001b[0m\u001b[38;2;248;248;242;48;2;39;40;34m)\u001b[0m\u001b[48;2;39;40;34m                                                                                          \u001b[0m  \n",
       " ───────────────────────────────────────────────────────────────────────────────────────────────────────────────── \n"
      ]
     },
     "metadata": {},
     "output_type": "display_data"
    },
    {
     "data": {
      "text/html": [
       "<pre style=\"white-space:pre;overflow-x:auto;line-height:normal;font-family:Menlo,'DejaVu Sans Mono',consolas,'Courier New',monospace\"><span style=\"font-weight: bold\">Execution logs:</span>\n",
       "## Search Results\n",
       "\n",
       "[Вино из Бароло купить в Москве - цены на вино из Бароло в магазине ...](https://winestyle.ru/wine/barolo/)\n",
       "Можно купить товары в категории Вино из Бароло по цене от 3 890 руб 150 предложений в наличии и под заказ, 3 из них\n",
       "со скидкой\n",
       "\n",
       "[Вино КАБЕРНЕ СОВИНЬОН чилийское - купить в интернет магазине \n",
       "Бристоль](https://bristol.ru/collections/cabernet-sauvignon-chile)\n",
       "Купите вино КАБЕРНЕ СОВИНЬОН чилийское в интернет магазине Бристоль от 252 рублей по всей РФ. Оформление за 5 \n",
       "минут.\n",
       "\n",
       "[Вино Бароло Каберне совиньон — Купить вино в Москве в магазине \n",
       "Декантер](https://decanter.ru/wine/barolo/cabernet-sauvignon)\n",
       "Цена на вино Бароло Каберне совиньон составляет 1 008 руб. за бутылку 0.75 л, в ассортименте представлены напитки \n",
       "стоимостью от 1 386 до 1 392 рублей. Продажа осуществляется в розничных магазинах Декантер в Москве по адресам \n",
       "Пресненский Вал 44, Мастеркова 1, Новая Басманная 31с1 и Ленинский пр-т 66, оплата наличными или банковской картой.\n",
       "\n",
       "[Вино Каберне Совиньон - Купить В Metro | Цена В Ближайшем \n",
       "Магазине](https://online.metro-cc.ru/dynamic/vino-kaberne-sovinon-7530)\n",
       "Вино Каберне совиньон - купить в ближайшем гипермаркете metro Широкий выбор по брендам, странам и объему Скидки и \n",
       "акции\n",
       "\n",
       "[Купить чилийское красное вино Каберне совиньон | Цена красного вина из \n",
       "...](https://simplewine.ru/catalog/vino/filter/color-krasnoe/country-chili/grape-kaberne_sovinon/)\n",
       "Красное вино Каберне совиньон из Чили в интернет-витрине SimpleWine. Широкий выбор, отзывы, честные цены. Гарантия \n",
       "качества от поставщика! ☎8 (800) 700-37-97.\n",
       "\n",
       "[☑️ Купить вино Каберне совиньон Бароло в Москве; цена, отзывы | Wine \n",
       "...](https://wine-shopper.ru/wine_color/smf/region-is-barolo/vinograd-is-kaberne-sovinon/)\n",
       "Вино Каберне совиньон Бароло оригинал - купить в Москве Доступные цены Большой выбор Заказать через интернет или \n",
       "выбрать в магазинах ️ Гарантия качества алкоголя ️ Самовывоз ☎: 8 (499) 490 49 ...\n",
       "\n",
       "[Вино Бароло - купить, цена на вино Бароло Италия в Москве](https://vinoterra.ru/catalog/vino/barolo/)\n",
       "Винотерра 🍇 предлагает большой выбор итальянских вин 🍷 из Бароло по доступным ценам. Подробную информацию узнайте\n",
       "на сайте либо по телефону ☎ +7 (495) 580 99 30.\n",
       "\n",
       "[Вино Barolo купить - большой ассортимент вин из Бароло цены в магазине ...](https://www.cru.ru/wine/italy/barolo/)\n",
       "Купить вино Barolo, гарантия качества - цены итальянских вин из Бароло магазине КРЮ ПРОФИ +7 (495) 920-20-02.\n",
       "\n",
       "[Вино Бароло из Италии - цена от 2 494 ₽ купить в Москве в винотеке \n",
       "Winemore](https://winemore.ru/catalog/vino/filter/country-is-italiya/region-is-barolo/)\n",
       "В каталоге винотеки Winemore представлены вина из Италии региона Бароло по ценам от 2 494 ₽ до 732 771 ₽.\n",
       "\n",
       "[Купить Вино Каберне Совиньон в Винлаб - продажа по выгодным \n",
       "ценам](https://www.winelab.ru/catalog/vino-kaberne-sovinon)\n",
       "Вино Каберне Совиньон в интернет-магазине Винлаб: продажа, каталог, выгодные цены на Вино Каберне Совиньон, отзывы,\n",
       "доставка до ближайшего магазина в Москве и по всей России\n",
       "\n",
       "Out: None\n",
       "</pre>\n"
      ],
      "text/plain": [
       "\u001b[1mExecution logs:\u001b[0m\n",
       "## Search Results\n",
       "\n",
       "[Вино из Бароло купить в Москве - цены на вино из Бароло в магазине ...](https://winestyle.ru/wine/barolo/)\n",
       "Можно купить товары в категории Вино из Бароло по цене от 3 890 руб 150 предложений в наличии и под заказ, 3 из них\n",
       "со скидкой\n",
       "\n",
       "[Вино КАБЕРНЕ СОВИНЬОН чилийское - купить в интернет магазине \n",
       "Бристоль](https://bristol.ru/collections/cabernet-sauvignon-chile)\n",
       "Купите вино КАБЕРНЕ СОВИНЬОН чилийское в интернет магазине Бристоль от 252 рублей по всей РФ. Оформление за 5 \n",
       "минут.\n",
       "\n",
       "[Вино Бароло Каберне совиньон — Купить вино в Москве в магазине \n",
       "Декантер](https://decanter.ru/wine/barolo/cabernet-sauvignon)\n",
       "Цена на вино Бароло Каберне совиньон составляет 1 008 руб. за бутылку 0.75 л, в ассортименте представлены напитки \n",
       "стоимостью от 1 386 до 1 392 рублей. Продажа осуществляется в розничных магазинах Декантер в Москве по адресам \n",
       "Пресненский Вал 44, Мастеркова 1, Новая Басманная 31с1 и Ленинский пр-т 66, оплата наличными или банковской картой.\n",
       "\n",
       "[Вино Каберне Совиньон - Купить В Metro | Цена В Ближайшем \n",
       "Магазине](https://online.metro-cc.ru/dynamic/vino-kaberne-sovinon-7530)\n",
       "Вино Каберне совиньон - купить в ближайшем гипермаркете metro Широкий выбор по брендам, странам и объему Скидки и \n",
       "акции\n",
       "\n",
       "[Купить чилийское красное вино Каберне совиньон | Цена красного вина из \n",
       "...](https://simplewine.ru/catalog/vino/filter/color-krasnoe/country-chili/grape-kaberne_sovinon/)\n",
       "Красное вино Каберне совиньон из Чили в интернет-витрине SimpleWine. Широкий выбор, отзывы, честные цены. Гарантия \n",
       "качества от поставщика! ☎8 (800) 700-37-97.\n",
       "\n",
       "[☑️ Купить вино Каберне совиньон Бароло в Москве; цена, отзывы | Wine \n",
       "...](https://wine-shopper.ru/wine_color/smf/region-is-barolo/vinograd-is-kaberne-sovinon/)\n",
       "Вино Каберне совиньон Бароло оригинал - купить в Москве Доступные цены Большой выбор Заказать через интернет или \n",
       "выбрать в магазинах ️ Гарантия качества алкоголя ️ Самовывоз ☎: 8 (499) 490 49 ...\n",
       "\n",
       "[Вино Бароло - купить, цена на вино Бароло Италия в Москве](https://vinoterra.ru/catalog/vino/barolo/)\n",
       "Винотерра 🍇 предлагает большой выбор итальянских вин 🍷 из Бароло по доступным ценам. Подробную информацию узнайте\n",
       "на сайте либо по телефону ☎ +7 (495) 580 99 30.\n",
       "\n",
       "[Вино Barolo купить - большой ассортимент вин из Бароло цены в магазине ...](https://www.cru.ru/wine/italy/barolo/)\n",
       "Купить вино Barolo, гарантия качества - цены итальянских вин из Бароло магазине КРЮ ПРОФИ +7 (495) 920-20-02.\n",
       "\n",
       "[Вино Бароло из Италии - цена от 2 494 ₽ купить в Москве в винотеке \n",
       "Winemore](https://winemore.ru/catalog/vino/filter/country-is-italiya/region-is-barolo/)\n",
       "В каталоге винотеки Winemore представлены вина из Италии региона Бароло по ценам от 2 494 ₽ до 732 771 ₽.\n",
       "\n",
       "[Купить Вино Каберне Совиньон в Винлаб - продажа по выгодным \n",
       "ценам](https://www.winelab.ru/catalog/vino-kaberne-sovinon)\n",
       "Вино Каберне Совиньон в интернет-магазине Винлаб: продажа, каталог, выгодные цены на Вино Каберне Совиньон, отзывы,\n",
       "доставка до ближайшего магазина в Москве и по всей России\n",
       "\n",
       "Out: None\n"
      ]
     },
     "metadata": {},
     "output_type": "display_data"
    },
    {
     "data": {
      "text/html": [
       "<pre style=\"white-space:pre;overflow-x:auto;line-height:normal;font-family:Menlo,'DejaVu Sans Mono',consolas,'Courier New',monospace\"><span style=\"color: #7f7f7f; text-decoration-color: #7f7f7f\">[Step 3: Duration 4.16 seconds| Input tokens: 8,549 | Output tokens: 258]</span>\n",
       "</pre>\n"
      ],
      "text/plain": [
       "\u001b[2m[Step 3: Duration 4.16 seconds| Input tokens: 8,549 | Output tokens: 258]\u001b[0m\n"
      ]
     },
     "metadata": {},
     "output_type": "display_data"
    },
    {
     "data": {
      "text/html": [
       "<pre style=\"white-space:pre;overflow-x:auto;line-height:normal;font-family:Menlo,'DejaVu Sans Mono',consolas,'Courier New',monospace\"><span style=\"color: #d4b702; text-decoration-color: #d4b702\">━━━━━━━━━━━━━━━━━━━━━━━━━━━━━━━━━━━━━━━━━━━━━━━━━━━━━ </span><span style=\"font-weight: bold\">Step </span><span style=\"color: #008080; text-decoration-color: #008080; font-weight: bold\">4</span><span style=\"color: #d4b702; text-decoration-color: #d4b702\"> ━━━━━━━━━━━━━━━━━━━━━━━━━━━━━━━━━━━━━━━━━━━━━━━━━━━━━━</span>\n",
       "</pre>\n"
      ],
      "text/plain": [
       "\u001b[38;2;212;183;2m━━━━━━━━━━━━━━━━━━━━━━━━━━━━━━━━━━━━━━━━━━━━━━━━━━━━━ \u001b[0m\u001b[1mStep \u001b[0m\u001b[1;36m4\u001b[0m\u001b[38;2;212;183;2m ━━━━━━━━━━━━━━━━━━━━━━━━━━━━━━━━━━━━━━━━━━━━━━━━━━━━━━\u001b[0m\n"
      ]
     },
     "metadata": {},
     "output_type": "display_data"
    },
    {
     "data": {
      "text/html": [
       "<pre style=\"white-space:pre;overflow-x:auto;line-height:normal;font-family:Menlo,'DejaVu Sans Mono',consolas,'Courier New',monospace\"> ─ <span style=\"font-weight: bold\">Executing parsed code:</span> ──────────────────────────────────────────────────────────────────────────────────────── \n",
       "  <span style=\"color: #f8f8f2; text-decoration-color: #f8f8f2; background-color: #272822\">final_answer(</span><span style=\"color: #e6db74; text-decoration-color: #e6db74; background-color: #272822\">\"1. Бароло - от 2 494 ₽</span><span style=\"color: #ae81ff; text-decoration-color: #ae81ff; background-color: #272822\">\\n</span><span style=\"color: #e6db74; text-decoration-color: #e6db74; background-color: #272822\">2. Каберне Совиньон - от 252 ₽</span><span style=\"color: #ae81ff; text-decoration-color: #ae81ff; background-color: #272822\">\\n</span><span style=\"color: #e6db74; text-decoration-color: #e6db74; background-color: #272822\">3. Аргентинский Мальбек и чилийский </span><span style=\"background-color: #272822\">     </span>  \n",
       "  <span style=\"color: #e6db74; text-decoration-color: #e6db74; background-color: #272822\">Карменер не удалось найти цены.\"</span><span style=\"color: #f8f8f2; text-decoration-color: #f8f8f2; background-color: #272822\">)</span><span style=\"background-color: #272822\">                                                                              </span>  \n",
       " ───────────────────────────────────────────────────────────────────────────────────────────────────────────────── \n",
       "</pre>\n"
      ],
      "text/plain": [
       " ─ \u001b[1mExecuting parsed code:\u001b[0m ──────────────────────────────────────────────────────────────────────────────────────── \n",
       "  \u001b[38;2;248;248;242;48;2;39;40;34mfinal_answer\u001b[0m\u001b[38;2;248;248;242;48;2;39;40;34m(\u001b[0m\u001b[38;2;230;219;116;48;2;39;40;34m\"\u001b[0m\u001b[38;2;230;219;116;48;2;39;40;34m1. Бароло - от 2 494 ₽\u001b[0m\u001b[38;2;174;129;255;48;2;39;40;34m\\n\u001b[0m\u001b[38;2;230;219;116;48;2;39;40;34m2. Каберне Совиньон - от 252 ₽\u001b[0m\u001b[38;2;174;129;255;48;2;39;40;34m\\n\u001b[0m\u001b[38;2;230;219;116;48;2;39;40;34m3. Аргентинский Мальбек и чилийский \u001b[0m\u001b[48;2;39;40;34m     \u001b[0m  \n",
       "  \u001b[38;2;230;219;116;48;2;39;40;34mКарменер не удалось найти цены.\u001b[0m\u001b[38;2;230;219;116;48;2;39;40;34m\"\u001b[0m\u001b[38;2;248;248;242;48;2;39;40;34m)\u001b[0m\u001b[48;2;39;40;34m                                                                              \u001b[0m  \n",
       " ───────────────────────────────────────────────────────────────────────────────────────────────────────────────── \n"
      ]
     },
     "metadata": {},
     "output_type": "display_data"
    },
    {
     "data": {
      "text/html": [
       "<pre style=\"white-space:pre;overflow-x:auto;line-height:normal;font-family:Menlo,'DejaVu Sans Mono',consolas,'Courier New',monospace\"><span style=\"color: #d4b702; text-decoration-color: #d4b702; font-weight: bold\">Out - Final answer: 1. Бароло - от 2 494 ₽</span>\n",
       "<span style=\"color: #d4b702; text-decoration-color: #d4b702; font-weight: bold\">2. Каберне Совиньон - от 252 ₽</span>\n",
       "<span style=\"color: #d4b702; text-decoration-color: #d4b702; font-weight: bold\">3. Аргентинский Мальбек и чилийский Карменер не удалось найти цены.</span>\n",
       "</pre>\n"
      ],
      "text/plain": [
       "\u001b[1;38;2;212;183;2mOut - Final answer: 1. Бароло - от 2 494 ₽\u001b[0m\n",
       "\u001b[1;38;2;212;183;2m2. Каберне Совиньон - от 252 ₽\u001b[0m\n",
       "\u001b[1;38;2;212;183;2m3. Аргентинский Мальбек и чилийский Карменер не удалось найти цены.\u001b[0m\n"
      ]
     },
     "metadata": {},
     "output_type": "display_data"
    },
    {
     "data": {
      "text/html": [
       "<pre style=\"white-space:pre;overflow-x:auto;line-height:normal;font-family:Menlo,'DejaVu Sans Mono',consolas,'Courier New',monospace\"><span style=\"color: #7f7f7f; text-decoration-color: #7f7f7f\">[Step 4: Duration 2.75 seconds| Input tokens: 13,395 | Output tokens: 358]</span>\n",
       "</pre>\n"
      ],
      "text/plain": [
       "\u001b[2m[Step 4: Duration 2.75 seconds| Input tokens: 13,395 | Output tokens: 358]\u001b[0m\n"
      ]
     },
     "metadata": {},
     "output_type": "display_data"
    },
    {
     "data": {
      "text/plain": [
       "'1. Бароло - от 2 494 ₽\\n2. Каберне Совиньон - от 252 ₽\\n3. Аргентинский Мальбек и чилийский Карменер не удалось найти цены.'"
      ]
     },
     "execution_count": 15,
     "metadata": {},
     "output_type": "execute_result"
    }
   ],
   "source": [
    "agent = CodeAgent(tools=[DuckDuckGoSearchTool()], model=ygpt_model)\n",
    "\n",
    "agent.run(\"Напиши список из трёх лучших вин, подходящих к стейку с кровью, и их цены\")"
   ]
  },
  {
   "cell_type": "markdown",
   "id": "21bff802",
   "metadata": {},
   "source": [
    "Несмотря на то, что мы задали вопрос на русском языке, весь поиск в интернет проводился на английском, и был найден результат из англоязычного сегмента. Почему?\n",
    "\n",
    "Дело в том, что за кажущейся внешней простотой скрывается большая внутренняя работа. Во фреймворк smolagents заложена [идеология ReAct](https://habr.com/ru/articles/882432/), в которой агент сначала рассуждает и строит план решения, затем по шагам выполняет его, смотрит на результаты и адаптируется. За этим стоит достаточно сложный промптинг, который по умолчанию во фреймворке smolagents сделан на английском языке.\n",
    "\n",
    "Загрузим русскоязычный пакет промптов:"
   ]
  },
  {
   "cell_type": "code",
   "execution_count": 16,
   "id": "5530e501",
   "metadata": {},
   "outputs": [
    {
     "data": {
      "text/html": [
       "<pre style=\"white-space:pre;overflow-x:auto;line-height:normal;font-family:Menlo,'DejaVu Sans Mono',consolas,'Courier New',monospace\"><span style=\"color: #d4b702; text-decoration-color: #d4b702\">╭──────────────────────────────────────────────────── </span><span style=\"color: #d4b702; text-decoration-color: #d4b702; font-weight: bold\">New run</span><span style=\"color: #d4b702; text-decoration-color: #d4b702\"> ────────────────────────────────────────────────────╮</span>\n",
       "<span style=\"color: #d4b702; text-decoration-color: #d4b702\">│</span>                                                                                                                 <span style=\"color: #d4b702; text-decoration-color: #d4b702\">│</span>\n",
       "<span style=\"color: #d4b702; text-decoration-color: #d4b702\">│</span> <span style=\"font-weight: bold\">Напиши список из трёх лучших вин, подходящих к стейку с кровью, и их цены</span>                                       <span style=\"color: #d4b702; text-decoration-color: #d4b702\">│</span>\n",
       "<span style=\"color: #d4b702; text-decoration-color: #d4b702\">│</span>                                                                                                                 <span style=\"color: #d4b702; text-decoration-color: #d4b702\">│</span>\n",
       "<span style=\"color: #d4b702; text-decoration-color: #d4b702\">╰─ OpenAIServerModel - gpt://b1gbicod0scglhd49qs0/yandexgpt/rc ───────────────────────────────────────────────────╯</span>\n",
       "</pre>\n"
      ],
      "text/plain": [
       "\u001b[38;2;212;183;2m╭─\u001b[0m\u001b[38;2;212;183;2m───────────────────────────────────────────────────\u001b[0m\u001b[38;2;212;183;2m \u001b[0m\u001b[1;38;2;212;183;2mNew run\u001b[0m\u001b[38;2;212;183;2m \u001b[0m\u001b[38;2;212;183;2m───────────────────────────────────────────────────\u001b[0m\u001b[38;2;212;183;2m─╮\u001b[0m\n",
       "\u001b[38;2;212;183;2m│\u001b[0m                                                                                                                 \u001b[38;2;212;183;2m│\u001b[0m\n",
       "\u001b[38;2;212;183;2m│\u001b[0m \u001b[1mНапиши список из трёх лучших вин, подходящих к стейку с кровью, и их цены\u001b[0m                                       \u001b[38;2;212;183;2m│\u001b[0m\n",
       "\u001b[38;2;212;183;2m│\u001b[0m                                                                                                                 \u001b[38;2;212;183;2m│\u001b[0m\n",
       "\u001b[38;2;212;183;2m╰─\u001b[0m\u001b[38;2;212;183;2m OpenAIServerModel - gpt://b1gbicod0scglhd49qs0/yandexgpt/rc \u001b[0m\u001b[38;2;212;183;2m──────────────────────────────────────────────────\u001b[0m\u001b[38;2;212;183;2m─╯\u001b[0m\n"
      ]
     },
     "metadata": {},
     "output_type": "display_data"
    },
    {
     "data": {
      "text/html": [
       "<pre style=\"white-space:pre;overflow-x:auto;line-height:normal;font-family:Menlo,'DejaVu Sans Mono',consolas,'Courier New',monospace\"><span style=\"color: #d4b702; text-decoration-color: #d4b702\">━━━━━━━━━━━━━━━━━━━━━━━━━━━━━━━━━━━━━━━━━━━━━━━━━━━━━ </span><span style=\"font-weight: bold\">Step </span><span style=\"color: #008080; text-decoration-color: #008080; font-weight: bold\">1</span><span style=\"color: #d4b702; text-decoration-color: #d4b702\"> ━━━━━━━━━━━━━━━━━━━━━━━━━━━━━━━━━━━━━━━━━━━━━━━━━━━━━━</span>\n",
       "</pre>\n"
      ],
      "text/plain": [
       "\u001b[38;2;212;183;2m━━━━━━━━━━━━━━━━━━━━━━━━━━━━━━━━━━━━━━━━━━━━━━━━━━━━━ \u001b[0m\u001b[1mStep \u001b[0m\u001b[1;36m1\u001b[0m\u001b[38;2;212;183;2m ━━━━━━━━━━━━━━━━━━━━━━━━━━━━━━━━━━━━━━━━━━━━━━━━━━━━━━\u001b[0m\n"
      ]
     },
     "metadata": {},
     "output_type": "display_data"
    },
    {
     "data": {
      "text/html": [
       "<pre style=\"white-space:pre;overflow-x:auto;line-height:normal;font-family:Menlo,'DejaVu Sans Mono',consolas,'Courier New',monospace\"> ─ <span style=\"font-weight: bold\">Executing parsed code:</span> ──────────────────────────────────────────────────────────────────────────────────────── \n",
       "  <span style=\"color: #f8f8f2; text-decoration-color: #f8f8f2; background-color: #272822\">results </span><span style=\"color: #ff4689; text-decoration-color: #ff4689; background-color: #272822\">=</span><span style=\"color: #f8f8f2; text-decoration-color: #f8f8f2; background-color: #272822\"> web_search(</span><span style=\"color: #e6db74; text-decoration-color: #e6db74; background-color: #272822\">\"лучшие вина к стейку с кровью и их цены\"</span><span style=\"color: #f8f8f2; text-decoration-color: #f8f8f2; background-color: #272822\">)</span><span style=\"background-color: #272822\">                                                </span>  \n",
       "  <span style=\"color: #f8f8f2; text-decoration-color: #f8f8f2; background-color: #272822\">print(results)</span><span style=\"background-color: #272822\">                                                                                                 </span>  \n",
       " ───────────────────────────────────────────────────────────────────────────────────────────────────────────────── \n",
       "</pre>\n"
      ],
      "text/plain": [
       " ─ \u001b[1mExecuting parsed code:\u001b[0m ──────────────────────────────────────────────────────────────────────────────────────── \n",
       "  \u001b[38;2;248;248;242;48;2;39;40;34mresults\u001b[0m\u001b[38;2;248;248;242;48;2;39;40;34m \u001b[0m\u001b[38;2;255;70;137;48;2;39;40;34m=\u001b[0m\u001b[38;2;248;248;242;48;2;39;40;34m \u001b[0m\u001b[38;2;248;248;242;48;2;39;40;34mweb_search\u001b[0m\u001b[38;2;248;248;242;48;2;39;40;34m(\u001b[0m\u001b[38;2;230;219;116;48;2;39;40;34m\"\u001b[0m\u001b[38;2;230;219;116;48;2;39;40;34mлучшие вина к стейку с кровью и их цены\u001b[0m\u001b[38;2;230;219;116;48;2;39;40;34m\"\u001b[0m\u001b[38;2;248;248;242;48;2;39;40;34m)\u001b[0m\u001b[48;2;39;40;34m                                                \u001b[0m  \n",
       "  \u001b[38;2;248;248;242;48;2;39;40;34mprint\u001b[0m\u001b[38;2;248;248;242;48;2;39;40;34m(\u001b[0m\u001b[38;2;248;248;242;48;2;39;40;34mresults\u001b[0m\u001b[38;2;248;248;242;48;2;39;40;34m)\u001b[0m\u001b[48;2;39;40;34m                                                                                                 \u001b[0m  \n",
       " ───────────────────────────────────────────────────────────────────────────────────────────────────────────────── \n"
      ]
     },
     "metadata": {},
     "output_type": "display_data"
    },
    {
     "data": {
      "text/html": [
       "<pre style=\"white-space:pre;overflow-x:auto;line-height:normal;font-family:Menlo,'DejaVu Sans Mono',consolas,'Courier New',monospace\"><span style=\"font-weight: bold\">Execution logs:</span>\n",
       "## Search Results\n",
       "\n",
       "[Вино к стейку — какое вино лучше подойдет к стейку из говядины, какой \n",
       "...](https://luding.ru/gastronomy/sochetaemost/vino-pod-steyk/)\n",
       "Шатобриан (chateaubriand) — самый постный стейк, которому нужна высокая кислотность бургундского пино нуара или \n",
       "кьянти. Можно выбрать бордо или насыщенное розе. Стейк- или бифштекс-тартар (tartar de boeuf) ― практически сырое \n",
       "мясо, его готовят с приправами, луком, гренками.\n",
       "\n",
       "[Какое вино подходит к стейку - \n",
       "kamushkiguru.ru](https://kamushkiguru.ru/blog/poleznoe/kakoe-vino-podxodit-k-steiku)\n",
       "В поиске идеального вина к стейку нужно учитывать несколько основных факторов: тип мяса, способ приготовления, силу\n",
       "и сложность вкусовых нот, а также личные предпочтения. Варианты подходящего вина к стейку очень разнообразны, и \n",
       "каждый может выбрать свою идеальную комбинацию. 1. Мраморный стейк (кобе или вагю)\n",
       "\n",
       "[Разбираемся в стейках и подбираем под них достойные \n",
       "вина](https://swn.ru/articles/razbiraemsya-v-steykakh-i-podbiraem-pod-nikh-dostoynye-vina)\n",
       "К бургеру из говядины беспроигрышным вариантом будут новосветские красные вина: шираз, мальбек, зинфандель и т. д. \n",
       "К барбекю или асадо логичнее всего мальбек, шираз или пинотаж.\n",
       "\n",
       "[Вино к стейку — Купить в Москве, цена вина к стейку в магазине Декантер](https://decanter.ru/wine/steak)\n",
       "Вино к стейку в магазине Декантер. 14366 наименований в наличии и под заказ. Лучшие цены, отзывы, гарантия \n",
       "качества. ☎ +7 (495) 662-58-95.\n",
       "\n",
       "[Какое вино подобрать к стейку из \n",
       "говядины](https://strongwine.ru/articles/vino/gastronomiia/poleznoe-rukovodstvo-po-sochetaniiu-vina-i-steika/)\n",
       "Филе можно приготовить на гриле, в духовке или на сковороде. Выбор вина: Испанский Темпранильо. Попробуйте \n",
       "выдержанную Rioja Reserva. Итальянский Монтепульчано д'Абруццо, чтобы оценить высшее качество. Французская Сира. \n",
       "Хорошо сочетается с масляными соусами.\n",
       "\n",
       "[Ответы Mail: Что лучше взять к огромному стейку с кровью, пиво, вино \n",
       "...](https://otvet.mail.ru/question/202558506)\n",
       "Красное вино! не сладкое, а именно терпкое.... Анатолий Каморин Искусственный Интеллект (229137) 7 лет назад\n",
       "\n",
       "[Идеальное сочетание: как подобрать вино к \n",
       "стейку](https://www.marieclaire.ru/food/idealnoe-sochetanie-kak-podobrat-vino-k-steyku/)\n",
       "Сомелье столичного ресторана CHEF подобрал 7 наименований вин, которые станут удачным сочетанием к сочному стейку \n",
       "из мраморной говядины. Фавориты для мяса из Франции - вина из провинции Бургундия: Поммар - в восточной части и \n",
       "Кот-Дю-Рон - в западной. Вот примеры вин, которые сделают ужин незабываемым: Bouchard Aine &amp; Fils, Pommard, 2013.\n",
       "\n",
       "[3 лучших вина к стейку: наслаждайтесь идеальным сочетанием](https://dzen.ru/a/Z5upJvVWjEdC2LYw)\n",
       "Мы собрали для вас три великолепных красных сухих вина, которые идеально дополнят вкус мяса! 🔹 Old Bridge Красное \n",
       "сухое Арени Резервное. Вино обладает насыщенным вкусом и богатым ароматом, где преобладают ноты тёмных ягод и \n",
       "лёгкие пряные оттенки.\n",
       "\n",
       "[Как правильно подобрать вино к красному мясу. Часть 1. \n",
       "Говядина](https://valentinawine.com/kakoe-vino-podoidet-k-myasu/)\n",
       "Вино обладает бархатными танинами и высокой кислотность, что как нельзя лучше подойдёт к стейку из филе или \n",
       "запечённой вырезке с кровью.\n",
       "\n",
       "[Вино и стейки - fortwine.ru](https://fortwine.ru/blog/sovety-somele/vino-i-steyki/)\n",
       "Какие вина пить со стейками, кроме классического Мальбека из Аргентины? Если быть предельно простыми и \n",
       "откровенными, то любые красные вина, которые вам нравятся.\n",
       "\n",
       "Out: None\n",
       "</pre>\n"
      ],
      "text/plain": [
       "\u001b[1mExecution logs:\u001b[0m\n",
       "## Search Results\n",
       "\n",
       "[Вино к стейку — какое вино лучше подойдет к стейку из говядины, какой \n",
       "...](https://luding.ru/gastronomy/sochetaemost/vino-pod-steyk/)\n",
       "Шатобриан (chateaubriand) — самый постный стейк, которому нужна высокая кислотность бургундского пино нуара или \n",
       "кьянти. Можно выбрать бордо или насыщенное розе. Стейк- или бифштекс-тартар (tartar de boeuf) ― практически сырое \n",
       "мясо, его готовят с приправами, луком, гренками.\n",
       "\n",
       "[Какое вино подходит к стейку - \n",
       "kamushkiguru.ru](https://kamushkiguru.ru/blog/poleznoe/kakoe-vino-podxodit-k-steiku)\n",
       "В поиске идеального вина к стейку нужно учитывать несколько основных факторов: тип мяса, способ приготовления, силу\n",
       "и сложность вкусовых нот, а также личные предпочтения. Варианты подходящего вина к стейку очень разнообразны, и \n",
       "каждый может выбрать свою идеальную комбинацию. 1. Мраморный стейк (кобе или вагю)\n",
       "\n",
       "[Разбираемся в стейках и подбираем под них достойные \n",
       "вина](https://swn.ru/articles/razbiraemsya-v-steykakh-i-podbiraem-pod-nikh-dostoynye-vina)\n",
       "К бургеру из говядины беспроигрышным вариантом будут новосветские красные вина: шираз, мальбек, зинфандель и т. д. \n",
       "К барбекю или асадо логичнее всего мальбек, шираз или пинотаж.\n",
       "\n",
       "[Вино к стейку — Купить в Москве, цена вина к стейку в магазине Декантер](https://decanter.ru/wine/steak)\n",
       "Вино к стейку в магазине Декантер. 14366 наименований в наличии и под заказ. Лучшие цены, отзывы, гарантия \n",
       "качества. ☎ +7 (495) 662-58-95.\n",
       "\n",
       "[Какое вино подобрать к стейку из \n",
       "говядины](https://strongwine.ru/articles/vino/gastronomiia/poleznoe-rukovodstvo-po-sochetaniiu-vina-i-steika/)\n",
       "Филе можно приготовить на гриле, в духовке или на сковороде. Выбор вина: Испанский Темпранильо. Попробуйте \n",
       "выдержанную Rioja Reserva. Итальянский Монтепульчано д'Абруццо, чтобы оценить высшее качество. Французская Сира. \n",
       "Хорошо сочетается с масляными соусами.\n",
       "\n",
       "[Ответы Mail: Что лучше взять к огромному стейку с кровью, пиво, вино \n",
       "...](https://otvet.mail.ru/question/202558506)\n",
       "Красное вино! не сладкое, а именно терпкое.... Анатолий Каморин Искусственный Интеллект (229137) 7 лет назад\n",
       "\n",
       "[Идеальное сочетание: как подобрать вино к \n",
       "стейку](https://www.marieclaire.ru/food/idealnoe-sochetanie-kak-podobrat-vino-k-steyku/)\n",
       "Сомелье столичного ресторана CHEF подобрал 7 наименований вин, которые станут удачным сочетанием к сочному стейку \n",
       "из мраморной говядины. Фавориты для мяса из Франции - вина из провинции Бургундия: Поммар - в восточной части и \n",
       "Кот-Дю-Рон - в западной. Вот примеры вин, которые сделают ужин незабываемым: Bouchard Aine & Fils, Pommard, 2013.\n",
       "\n",
       "[3 лучших вина к стейку: наслаждайтесь идеальным сочетанием](https://dzen.ru/a/Z5upJvVWjEdC2LYw)\n",
       "Мы собрали для вас три великолепных красных сухих вина, которые идеально дополнят вкус мяса! 🔹 Old Bridge Красное \n",
       "сухое Арени Резервное. Вино обладает насыщенным вкусом и богатым ароматом, где преобладают ноты тёмных ягод и \n",
       "лёгкие пряные оттенки.\n",
       "\n",
       "[Как правильно подобрать вино к красному мясу. Часть 1. \n",
       "Говядина](https://valentinawine.com/kakoe-vino-podoidet-k-myasu/)\n",
       "Вино обладает бархатными танинами и высокой кислотность, что как нельзя лучше подойдёт к стейку из филе или \n",
       "запечённой вырезке с кровью.\n",
       "\n",
       "[Вино и стейки - fortwine.ru](https://fortwine.ru/blog/sovety-somele/vino-i-steyki/)\n",
       "Какие вина пить со стейками, кроме классического Мальбека из Аргентины? Если быть предельно простыми и \n",
       "откровенными, то любые красные вина, которые вам нравятся.\n",
       "\n",
       "Out: None\n"
      ]
     },
     "metadata": {},
     "output_type": "display_data"
    },
    {
     "data": {
      "text/html": [
       "<pre style=\"white-space:pre;overflow-x:auto;line-height:normal;font-family:Menlo,'DejaVu Sans Mono',consolas,'Courier New',monospace\"><span style=\"color: #7f7f7f; text-decoration-color: #7f7f7f\">[Step 1: Duration 3.23 seconds| Input tokens: 2,283 | Output tokens: 65]</span>\n",
       "</pre>\n"
      ],
      "text/plain": [
       "\u001b[2m[Step 1: Duration 3.23 seconds| Input tokens: 2,283 | Output tokens: 65]\u001b[0m\n"
      ]
     },
     "metadata": {},
     "output_type": "display_data"
    },
    {
     "data": {
      "text/html": [
       "<pre style=\"white-space:pre;overflow-x:auto;line-height:normal;font-family:Menlo,'DejaVu Sans Mono',consolas,'Courier New',monospace\"><span style=\"color: #d4b702; text-decoration-color: #d4b702\">━━━━━━━━━━━━━━━━━━━━━━━━━━━━━━━━━━━━━━━━━━━━━━━━━━━━━ </span><span style=\"font-weight: bold\">Step </span><span style=\"color: #008080; text-decoration-color: #008080; font-weight: bold\">2</span><span style=\"color: #d4b702; text-decoration-color: #d4b702\"> ━━━━━━━━━━━━━━━━━━━━━━━━━━━━━━━━━━━━━━━━━━━━━━━━━━━━━━</span>\n",
       "</pre>\n"
      ],
      "text/plain": [
       "\u001b[38;2;212;183;2m━━━━━━━━━━━━━━━━━━━━━━━━━━━━━━━━━━━━━━━━━━━━━━━━━━━━━ \u001b[0m\u001b[1mStep \u001b[0m\u001b[1;36m2\u001b[0m\u001b[38;2;212;183;2m ━━━━━━━━━━━━━━━━━━━━━━━━━━━━━━━━━━━━━━━━━━━━━━━━━━━━━━\u001b[0m\n"
      ]
     },
     "metadata": {},
     "output_type": "display_data"
    },
    {
     "data": {
      "text/html": [
       "<pre style=\"white-space:pre;overflow-x:auto;line-height:normal;font-family:Menlo,'DejaVu Sans Mono',consolas,'Courier New',monospace\"> ─ <span style=\"font-weight: bold\">Executing parsed code:</span> ──────────────────────────────────────────────────────────────────────────────────────── \n",
       "  <span style=\"color: #f8f8f2; text-decoration-color: #f8f8f2; background-color: #272822\">tempranillo_price </span><span style=\"color: #ff4689; text-decoration-color: #ff4689; background-color: #272822\">=</span><span style=\"color: #f8f8f2; text-decoration-color: #f8f8f2; background-color: #272822\"> web_search(</span><span style=\"color: #e6db74; text-decoration-color: #e6db74; background-color: #272822\">\"цена испанского Темпранильо\"</span><span style=\"color: #f8f8f2; text-decoration-color: #f8f8f2; background-color: #272822\">)</span><span style=\"background-color: #272822\">                                                  </span>  \n",
       "  <span style=\"color: #f8f8f2; text-decoration-color: #f8f8f2; background-color: #272822\">print(</span><span style=\"color: #e6db74; text-decoration-color: #e6db74; background-color: #272822\">\"Темпранильо:\"</span><span style=\"color: #f8f8f2; text-decoration-color: #f8f8f2; background-color: #272822\">, tempranillo_price)</span><span style=\"background-color: #272822\">                                                                       </span>  \n",
       "  <span style=\"background-color: #272822\">                                                                                                               </span>  \n",
       "  <span style=\"color: #f8f8f2; text-decoration-color: #f8f8f2; background-color: #272822\">montepulciano_price </span><span style=\"color: #ff4689; text-decoration-color: #ff4689; background-color: #272822\">=</span><span style=\"color: #f8f8f2; text-decoration-color: #f8f8f2; background-color: #272822\"> web_search(</span><span style=\"color: #e6db74; text-decoration-color: #e6db74; background-color: #272822\">\"цена итальянского Монтепульчано д'Абруццо\"</span><span style=\"color: #f8f8f2; text-decoration-color: #f8f8f2; background-color: #272822\">)</span><span style=\"background-color: #272822\">                                  </span>  \n",
       "  <span style=\"color: #f8f8f2; text-decoration-color: #f8f8f2; background-color: #272822\">print(</span><span style=\"color: #e6db74; text-decoration-color: #e6db74; background-color: #272822\">\"Монтепульчано д'Абруццо:\"</span><span style=\"color: #f8f8f2; text-decoration-color: #f8f8f2; background-color: #272822\">, montepulciano_price)</span><span style=\"background-color: #272822\">                                                         </span>  \n",
       "  <span style=\"background-color: #272822\">                                                                                                               </span>  \n",
       "  <span style=\"color: #f8f8f2; text-decoration-color: #f8f8f2; background-color: #272822\">syrah_price </span><span style=\"color: #ff4689; text-decoration-color: #ff4689; background-color: #272822\">=</span><span style=\"color: #f8f8f2; text-decoration-color: #f8f8f2; background-color: #272822\"> web_search(</span><span style=\"color: #e6db74; text-decoration-color: #e6db74; background-color: #272822\">\"цена французской Сира\"</span><span style=\"color: #f8f8f2; text-decoration-color: #f8f8f2; background-color: #272822\">)</span><span style=\"background-color: #272822\">                                                              </span>  \n",
       "  <span style=\"color: #f8f8f2; text-decoration-color: #f8f8f2; background-color: #272822\">print(</span><span style=\"color: #e6db74; text-decoration-color: #e6db74; background-color: #272822\">\"Сира:\"</span><span style=\"color: #f8f8f2; text-decoration-color: #f8f8f2; background-color: #272822\">, syrah_price)</span><span style=\"background-color: #272822\">                                                                                    </span>  \n",
       " ───────────────────────────────────────────────────────────────────────────────────────────────────────────────── \n",
       "</pre>\n"
      ],
      "text/plain": [
       " ─ \u001b[1mExecuting parsed code:\u001b[0m ──────────────────────────────────────────────────────────────────────────────────────── \n",
       "  \u001b[38;2;248;248;242;48;2;39;40;34mtempranillo_price\u001b[0m\u001b[38;2;248;248;242;48;2;39;40;34m \u001b[0m\u001b[38;2;255;70;137;48;2;39;40;34m=\u001b[0m\u001b[38;2;248;248;242;48;2;39;40;34m \u001b[0m\u001b[38;2;248;248;242;48;2;39;40;34mweb_search\u001b[0m\u001b[38;2;248;248;242;48;2;39;40;34m(\u001b[0m\u001b[38;2;230;219;116;48;2;39;40;34m\"\u001b[0m\u001b[38;2;230;219;116;48;2;39;40;34mцена испанского Темпранильо\u001b[0m\u001b[38;2;230;219;116;48;2;39;40;34m\"\u001b[0m\u001b[38;2;248;248;242;48;2;39;40;34m)\u001b[0m\u001b[48;2;39;40;34m                                                  \u001b[0m  \n",
       "  \u001b[38;2;248;248;242;48;2;39;40;34mprint\u001b[0m\u001b[38;2;248;248;242;48;2;39;40;34m(\u001b[0m\u001b[38;2;230;219;116;48;2;39;40;34m\"\u001b[0m\u001b[38;2;230;219;116;48;2;39;40;34mТемпранильо:\u001b[0m\u001b[38;2;230;219;116;48;2;39;40;34m\"\u001b[0m\u001b[38;2;248;248;242;48;2;39;40;34m,\u001b[0m\u001b[38;2;248;248;242;48;2;39;40;34m \u001b[0m\u001b[38;2;248;248;242;48;2;39;40;34mtempranillo_price\u001b[0m\u001b[38;2;248;248;242;48;2;39;40;34m)\u001b[0m\u001b[48;2;39;40;34m                                                                       \u001b[0m  \n",
       "  \u001b[48;2;39;40;34m                                                                                                               \u001b[0m  \n",
       "  \u001b[38;2;248;248;242;48;2;39;40;34mmontepulciano_price\u001b[0m\u001b[38;2;248;248;242;48;2;39;40;34m \u001b[0m\u001b[38;2;255;70;137;48;2;39;40;34m=\u001b[0m\u001b[38;2;248;248;242;48;2;39;40;34m \u001b[0m\u001b[38;2;248;248;242;48;2;39;40;34mweb_search\u001b[0m\u001b[38;2;248;248;242;48;2;39;40;34m(\u001b[0m\u001b[38;2;230;219;116;48;2;39;40;34m\"\u001b[0m\u001b[38;2;230;219;116;48;2;39;40;34mцена итальянского Монтепульчано д\u001b[0m\u001b[38;2;230;219;116;48;2;39;40;34m'\u001b[0m\u001b[38;2;230;219;116;48;2;39;40;34mАбруццо\u001b[0m\u001b[38;2;230;219;116;48;2;39;40;34m\"\u001b[0m\u001b[38;2;248;248;242;48;2;39;40;34m)\u001b[0m\u001b[48;2;39;40;34m                                  \u001b[0m  \n",
       "  \u001b[38;2;248;248;242;48;2;39;40;34mprint\u001b[0m\u001b[38;2;248;248;242;48;2;39;40;34m(\u001b[0m\u001b[38;2;230;219;116;48;2;39;40;34m\"\u001b[0m\u001b[38;2;230;219;116;48;2;39;40;34mМонтепульчано д\u001b[0m\u001b[38;2;230;219;116;48;2;39;40;34m'\u001b[0m\u001b[38;2;230;219;116;48;2;39;40;34mАбруццо:\u001b[0m\u001b[38;2;230;219;116;48;2;39;40;34m\"\u001b[0m\u001b[38;2;248;248;242;48;2;39;40;34m,\u001b[0m\u001b[38;2;248;248;242;48;2;39;40;34m \u001b[0m\u001b[38;2;248;248;242;48;2;39;40;34mmontepulciano_price\u001b[0m\u001b[38;2;248;248;242;48;2;39;40;34m)\u001b[0m\u001b[48;2;39;40;34m                                                         \u001b[0m  \n",
       "  \u001b[48;2;39;40;34m                                                                                                               \u001b[0m  \n",
       "  \u001b[38;2;248;248;242;48;2;39;40;34msyrah_price\u001b[0m\u001b[38;2;248;248;242;48;2;39;40;34m \u001b[0m\u001b[38;2;255;70;137;48;2;39;40;34m=\u001b[0m\u001b[38;2;248;248;242;48;2;39;40;34m \u001b[0m\u001b[38;2;248;248;242;48;2;39;40;34mweb_search\u001b[0m\u001b[38;2;248;248;242;48;2;39;40;34m(\u001b[0m\u001b[38;2;230;219;116;48;2;39;40;34m\"\u001b[0m\u001b[38;2;230;219;116;48;2;39;40;34mцена французской Сира\u001b[0m\u001b[38;2;230;219;116;48;2;39;40;34m\"\u001b[0m\u001b[38;2;248;248;242;48;2;39;40;34m)\u001b[0m\u001b[48;2;39;40;34m                                                              \u001b[0m  \n",
       "  \u001b[38;2;248;248;242;48;2;39;40;34mprint\u001b[0m\u001b[38;2;248;248;242;48;2;39;40;34m(\u001b[0m\u001b[38;2;230;219;116;48;2;39;40;34m\"\u001b[0m\u001b[38;2;230;219;116;48;2;39;40;34mСира:\u001b[0m\u001b[38;2;230;219;116;48;2;39;40;34m\"\u001b[0m\u001b[38;2;248;248;242;48;2;39;40;34m,\u001b[0m\u001b[38;2;248;248;242;48;2;39;40;34m \u001b[0m\u001b[38;2;248;248;242;48;2;39;40;34msyrah_price\u001b[0m\u001b[38;2;248;248;242;48;2;39;40;34m)\u001b[0m\u001b[48;2;39;40;34m                                                                                    \u001b[0m  \n",
       " ───────────────────────────────────────────────────────────────────────────────────────────────────────────────── \n"
      ]
     },
     "metadata": {},
     "output_type": "display_data"
    },
    {
     "data": {
      "text/html": [
       "<pre style=\"white-space:pre;overflow-x:auto;line-height:normal;font-family:Menlo,'DejaVu Sans Mono',consolas,'Courier New',monospace\"><span style=\"font-weight: bold\">Execution logs:</span>\n",
       "Темпранильо: ## Search Results\n",
       "\n",
       "[Испанское вино Темпранильо: купить в Москве и Санкт-Петербурге, цены на \n",
       "...](https://simplewine.ru/catalog/vino/filter/country-ispaniya/grape-tempranilo/)\n",
       "В каталоге вино Темпранильо (Испания) по выгодным ценам в интернет-витрине SimpleWine.ru. Большой ассортимент, \n",
       "подробное описание, цены и отзывы от наших покупателей ☎8 (800) 700-37-97.\n",
       "\n",
       "[Купить испанское вино Темпранильо в Москве — цены на вино Tempranillo \n",
       "...](https://winestyle.ru/wine/spain/tempranillo/)\n",
       "🍷 Продажа испанского вина Темпранильо в магазине WineStyle в Москве! Полный ассортимент, подробное описание, цены \n",
       "☎ +7 (499) 703-51-51.\n",
       "\n",
       "[Вино tempranillo Испания купить, цена на испанское вино темпранильо в \n",
       "...](https://vinoterra.ru/catalog/vino/vino-tempranillo-ispaniya/)\n",
       "Винотерра предлагает большой выбор испанских вин сорта темпранильо по доступным ценам. Подробную информацию можете \n",
       "узнать на сайте либо по телефону ☎ +7 (495) 580 99 30\n",
       "\n",
       "[Испанское вино из Темпранильо купить — большой ассортимент вин Испании \n",
       "...](https://www.cru.ru/wine/spain/tempranillo/)\n",
       "Испанское вино из сорта Темпранильо купить — большой ассортимент вин Испании из Tempranillo, цены в магазине КРЮ \n",
       "ПРОФИ +7 (495) 920-20-02.\n",
       "\n",
       "[Вино Испании Темпранильо — Купить в Москве, цена вина Испании ...](https://decanter.ru/wine/spain/tempranillo)\n",
       "Цена на вино Испании Темпранильо составляет 211 руб. за бутылку 0.75 л, в ассортименте представлены объемы от 0.187\n",
       "до 15 л стоимостью от 211 до 2 152 788 рублей.\n",
       "\n",
       "[Темпранильо испанское вино из сорта винограда Tempranillo купить](https://www.alco.moscow/Wine/Spain/Tempranillo)\n",
       "Tempranillo или Темпранильо - это красный сорт винограда, ставший настоящей легендой испанского виноделия. Его \n",
       "название с испанского переводится как «ранний», в значении «появившийся раньше срока» (temprano), поскольку он \n",
       "созревает на две недели раньше прочих разновидностей.\n",
       "\n",
       "[Купить испанское вино Темпранильо в интернет-витрине в Москве, цены и \n",
       "...](https://luding.ru/collection/wine/ispaniya/tempranilo/)\n",
       "★ Испанское вино темпранильо: купите по выгодной цене в Москве. → Уникальный ассортимент, бесплатные консультации \n",
       "сомелье, бонусная программа! ☎ +7 (495) 120-37-73.\n",
       "\n",
       "[Игристое вино из винограда Темпранильо Испанское, цена от 901 руб от \n",
       "...](https://winestreet.ru/champagne-and-sparkling-wines/sparkling-wine/tempranillo/spain/)\n",
       "Игристое вино из винограда Темпранильо Испанское - 11 наименований игристого вина. В наличии 5. Широкий \n",
       "ассортимент, подробное описание, актуальные цены, советы по выбору ☎ +7 495 645-00-10\n",
       "\n",
       "[Вино Tempranillo купить - цена в магазине Алкоплаза](https://www.alcoplaza.ru/alco/Wine/tempranillo)\n",
       "Вино Темпранильо (Tempranillo) купить в магазине АлкоПлаза - гарантия оригинального происхождения, низкие цены ☎ +7\n",
       "(495) 960-40-44\n",
       "\n",
       "[Испанское вино из винограда Темпранильо купить в винном ресторане \n",
       "...](https://www.osteria.ru/wine/spain/tempranilo/)\n",
       "Купить испанское вино из винограда Темпранильо цена в итальянском винном ресторане Osteria Amici Москва, ул. \n",
       "Мосфильмовская, 88 4/1. Бронирование столов +7 926 109 59 39\n",
       "Монтепульчано д'Абруццо: ## Search Results\n",
       "\n",
       "[Вино Montepulciano d`Abruzzo купить - большой ассортимент вин из \n",
       "...](https://www.cru.ru/wine/italy/montepulciano-d-abruzzo/)\n",
       "Купить вино Montepulciano d`Abruzzo, гарантия качества - цены итальянских вин из Абруццо из Монтепульчано в \n",
       "магазине КРЮ ПРОФИ +7 (495) 920-20-02.\n",
       "\n",
       "[Вино Montepulciano d'Abruzzo (Монтепульчано \n",
       "д'Абруццо)](https://www.alcoplaza.ru/alco/Italian-wine/montepulciano-d-Abruzzo)\n",
       "Вино Montepulciano d'Abruzzo (Монтепульчано д'Абруццо) купить в магазине АлкоПлаза - гарантия оригинального \n",
       "происхождения, низкие цены на вина Монтепульчано д`Абруццо ☎ +7 (495) 960-40-44\n",
       "\n",
       "[Вино Montepulciano d`Abruzzo (Монтепульчано \n",
       "д'Абруццо)](https://www.cigarpro.ru/drinks/wine/italy/montepulciano-dabruzzo/)\n",
       "Купить Вино Montepulciano d`Abruzzo (Монтепульчано д'Абруццо) в Москве. Цена, описание, состав. Магазин Галерея \n",
       "Градусов. Вино Montepulciano d`Abruzzo — общее наименование красных сухих и полусухих разновидностей, которые \n",
       "изготавливаются в итальянском винодельческом регионе Абруццо из винограда сорта Монтепульчано.\n",
       "\n",
       "[Вино Монтепульчано: купить в Москве и Санкт-Петербурге, цена вина \n",
       "...](https://simplewine.ru/catalog/vino/filter/grape-montepulchano/)\n",
       "В каталоге интернет-витрины SimpleWine вы можете выбрать товары категории Вино Монтепульчано по цене от 1113 рублей\n",
       "до 59990 рублей.\n",
       "\n",
       "[Сухое Итальянское вино из винограда Монтепульчано д'Абруццо в обычной \n",
       "...](https://winestreet.ru/wine/dry/montepulciano-dabruzzo/normal/italy/)\n",
       "Сухое Итальянское вино из винограда Монтепульчано д'Абруццо в обычной упаковке - 62 наименования вина. В наличии \n",
       "22.\n",
       "\n",
       "[Красные вина Монтепульчано д'Абруццо - купить итальянское вино недорого \n",
       "...](https://probkibutylki.ru/shop/vino/krasnoe-vino/italija/abrucco/montepulchano-d-abrucco)\n",
       "Продажа оригинального красного вина из аппелласьона Монтепульчано д'Абруццо от проверенных поставщиков, широкий \n",
       "ассортимент вин из Италии, низкие цены на сайте винотеки Пробки Бутылки.\n",
       "\n",
       "[Вино Монтепульчано - купить, цена в сети магазинов \n",
       "«Красное&amp;Белое»](https://krasnoeibeloe.ru/catalog/vino/vino-montepulchano/)\n",
       "Купите вино Монтепульчано по выгодной цене в сети магазинов «Красное&amp;Белое», оформив online-заявку на сайте.\n",
       "\n",
       "[Вино Монтепульчано д'Абруццо: разновидности doc и docg, \n",
       "цена](https://italy4.me/napitki/montepulciano-dabruzzo.html)\n",
       "Монтепульчано д'Абруццо представлено на рынке алкогольных напитков различными производителями. Цена его варьируется\n",
       "от 5 до 590 Евро в зависимости от компании и возраста.\n",
       "\n",
       "[Вино Монтепульчано д'Абруццо купить в Москве; цена, отзывы | Wine \n",
       "Shopper](https://wine-shopper.ru/wine_color/montepulchano-d-abrucco/)\n",
       "Вино Монтепульчано д'Абруццо оригинал - купить в Москве Доступные цены Большой выбор Заказать через интернет или \n",
       "выбрать в магазинах ️ Гарантия качества алкоголя ️ Самовывоз ☎: +7 499 490-49-35 ...\n",
       "\n",
       "[Вино Монтепульчано д'Абруццо купить в Москве — Цена вина Montepulciano \n",
       "...](https://decanter.ru/wine/montepulciano-d-abruzzo)\n",
       "Вино Монтепульчано д'абруццо - цена в магазине Декантер. Цена на вино Монтепульчано д'абруццо составляет 430 руб. \n",
       "за бутылку 0.75 л, в ассортименте представлены объемы от 0.2 до 1.5 л стоимостью от 430 до 84 525 рублей.\n",
       "Сира: ## Search Results\n",
       "\n",
       "[Французское вино Сира — Купить в Москве, цена вина Франции Сира в ...](https://decanter.ru/wine/france/syrah)\n",
       "Французское вино Сира - цена в магазине Декантер Цена на вино Франции Сира составляет 314 руб. за бутылку 0.75 л, в\n",
       "ассортименте представлены объемы от 0.187 до 5 л стоимостью от 182 до 207 030 рублей.\n",
       "\n",
       "[Купить французское вино Сира | Цена вина из Франции в Москве и Санкт \n",
       "...](https://simplewine.ru/catalog/vino/filter/country-frantsiya/grape-sira/)\n",
       "Вино Сира в интернет-витрине SimpleWine. Широкий выбор, отзывы, честные цены. Гарантия качества от поставщика! ☎8 \n",
       "(800) 700-37-97.\n",
       "\n",
       "[Вино Syrah купить - цена в магазине Алкоплаза](https://www.alcoplaza.ru/alco/Wine/syrah)\n",
       "Вино Сира (Syrah) купить в магазине АлкоПлаза - гарантия оригинального происхождения, низкие цены ☎ +7 (495) \n",
       "960-40-44 ... что они уходят в северную часть французской долины реки Рона. Согласно ряду ...\n",
       "\n",
       "[Купить французское вино Сира в интернет-витрине, продажа в Москве, цены \n",
       "...](https://luding.ru/collection/wine/frantsiya/sira/)\n",
       "★ Французское вино Сира: купите по выгодной цене в Москве. → Уникальный ассортимент, бесплатные консультации \n",
       "сомелье, бонусная программа! ☎ +7 (495) 120-37-73.\n",
       "\n",
       "[Французское вино Сира — купить в Москве, цены на вино из Франции из \n",
       "...](https://luding-group.ru/assortment/wines/france/sira/)\n",
       "Вино из Франции из винограда Сира и другие алкогольные напитки по выгодной цене в каталоге компании luding group. \n",
       "Только качественный алкоголь, консультации специалистов. Звоните: +7 (495) 99-444-77.\n",
       "\n",
       "[Французское вино Сира купить — большой ассортимент вин Франции из Syrah \n",
       "...](https://www.cru.ru/wine/france/syrah/)\n",
       "Французское вино Сира купить — большой ассортимент вин Франции из Syrah, цены в магазине КРЮ ПРОФИ +7 (495) \n",
       "920-20-02.\n",
       "\n",
       "[Французское вино из винограда Сира купить в винном ресторане Osteria \n",
       "...](https://www.osteria.ru/wine/france/sira/)\n",
       "Купить французское вино из винограда Сира цена в итальянском винном ресторане Osteria Amici Москва, ул. \n",
       "Мосфильмовская, 88 4/1. Бронирование столов +7 926 109 59 39\n",
       "\n",
       "[Вино Сира красное сухое Испания Франция, купить в Москве, цена](https://vinoterra.ru/catalog/vino/sira/)\n",
       "Предлагаем купить вино Сира красное сухое в розницу и оптом! Поможем подобрать вино по вашему вкусу. Широкий \n",
       "ассортимент, подробное описание, выгодные цены\n",
       "\n",
       "[Вино Сира - купить в интернет магазине Бристоль](https://bristol.ru/collections/vino-sira)\n",
       "Купите вино Сира в интернет магазине Бристоль от 151 рублей по всей РФ. Оформление за 5 минут Добро пожаловать на \n",
       "сайт сети магазинов Бристоль\n",
       "\n",
       "[Сира вино — Купить вино Сира цена в Москве в магазине Декантер](https://decanter.ru/wine/syrah)\n",
       "Цена на вино Сира составляет 314 руб. за бутылку 0.7 л, в ассортименте представлены объемы от 0.187 до 6 л \n",
       "стоимостью от 182 до 225 990 рублей. Продажа осуществляется в розничных магазинах Декантер в ...\n",
       "\n",
       "Out: None\n",
       "</pre>\n"
      ],
      "text/plain": [
       "\u001b[1mExecution logs:\u001b[0m\n",
       "Темпранильо: ## Search Results\n",
       "\n",
       "[Испанское вино Темпранильо: купить в Москве и Санкт-Петербурге, цены на \n",
       "...](https://simplewine.ru/catalog/vino/filter/country-ispaniya/grape-tempranilo/)\n",
       "В каталоге вино Темпранильо (Испания) по выгодным ценам в интернет-витрине SimpleWine.ru. Большой ассортимент, \n",
       "подробное описание, цены и отзывы от наших покупателей ☎8 (800) 700-37-97.\n",
       "\n",
       "[Купить испанское вино Темпранильо в Москве — цены на вино Tempranillo \n",
       "...](https://winestyle.ru/wine/spain/tempranillo/)\n",
       "🍷 Продажа испанского вина Темпранильо в магазине WineStyle в Москве! Полный ассортимент, подробное описание, цены \n",
       "☎ +7 (499) 703-51-51.\n",
       "\n",
       "[Вино tempranillo Испания купить, цена на испанское вино темпранильо в \n",
       "...](https://vinoterra.ru/catalog/vino/vino-tempranillo-ispaniya/)\n",
       "Винотерра предлагает большой выбор испанских вин сорта темпранильо по доступным ценам. Подробную информацию можете \n",
       "узнать на сайте либо по телефону ☎ +7 (495) 580 99 30\n",
       "\n",
       "[Испанское вино из Темпранильо купить — большой ассортимент вин Испании \n",
       "...](https://www.cru.ru/wine/spain/tempranillo/)\n",
       "Испанское вино из сорта Темпранильо купить — большой ассортимент вин Испании из Tempranillo, цены в магазине КРЮ \n",
       "ПРОФИ +7 (495) 920-20-02.\n",
       "\n",
       "[Вино Испании Темпранильо — Купить в Москве, цена вина Испании ...](https://decanter.ru/wine/spain/tempranillo)\n",
       "Цена на вино Испании Темпранильо составляет 211 руб. за бутылку 0.75 л, в ассортименте представлены объемы от 0.187\n",
       "до 15 л стоимостью от 211 до 2 152 788 рублей.\n",
       "\n",
       "[Темпранильо испанское вино из сорта винограда Tempranillo купить](https://www.alco.moscow/Wine/Spain/Tempranillo)\n",
       "Tempranillo или Темпранильо - это красный сорт винограда, ставший настоящей легендой испанского виноделия. Его \n",
       "название с испанского переводится как «ранний», в значении «появившийся раньше срока» (temprano), поскольку он \n",
       "созревает на две недели раньше прочих разновидностей.\n",
       "\n",
       "[Купить испанское вино Темпранильо в интернет-витрине в Москве, цены и \n",
       "...](https://luding.ru/collection/wine/ispaniya/tempranilo/)\n",
       "★ Испанское вино темпранильо: купите по выгодной цене в Москве. → Уникальный ассортимент, бесплатные консультации \n",
       "сомелье, бонусная программа! ☎ +7 (495) 120-37-73.\n",
       "\n",
       "[Игристое вино из винограда Темпранильо Испанское, цена от 901 руб от \n",
       "...](https://winestreet.ru/champagne-and-sparkling-wines/sparkling-wine/tempranillo/spain/)\n",
       "Игристое вино из винограда Темпранильо Испанское - 11 наименований игристого вина. В наличии 5. Широкий \n",
       "ассортимент, подробное описание, актуальные цены, советы по выбору ☎ +7 495 645-00-10\n",
       "\n",
       "[Вино Tempranillo купить - цена в магазине Алкоплаза](https://www.alcoplaza.ru/alco/Wine/tempranillo)\n",
       "Вино Темпранильо (Tempranillo) купить в магазине АлкоПлаза - гарантия оригинального происхождения, низкие цены ☎ +7\n",
       "(495) 960-40-44\n",
       "\n",
       "[Испанское вино из винограда Темпранильо купить в винном ресторане \n",
       "...](https://www.osteria.ru/wine/spain/tempranilo/)\n",
       "Купить испанское вино из винограда Темпранильо цена в итальянском винном ресторане Osteria Amici Москва, ул. \n",
       "Мосфильмовская, 88 4/1. Бронирование столов +7 926 109 59 39\n",
       "Монтепульчано д'Абруццо: ## Search Results\n",
       "\n",
       "[Вино Montepulciano d`Abruzzo купить - большой ассортимент вин из \n",
       "...](https://www.cru.ru/wine/italy/montepulciano-d-abruzzo/)\n",
       "Купить вино Montepulciano d`Abruzzo, гарантия качества - цены итальянских вин из Абруццо из Монтепульчано в \n",
       "магазине КРЮ ПРОФИ +7 (495) 920-20-02.\n",
       "\n",
       "[Вино Montepulciano d'Abruzzo (Монтепульчано \n",
       "д'Абруццо)](https://www.alcoplaza.ru/alco/Italian-wine/montepulciano-d-Abruzzo)\n",
       "Вино Montepulciano d'Abruzzo (Монтепульчано д'Абруццо) купить в магазине АлкоПлаза - гарантия оригинального \n",
       "происхождения, низкие цены на вина Монтепульчано д`Абруццо ☎ +7 (495) 960-40-44\n",
       "\n",
       "[Вино Montepulciano d`Abruzzo (Монтепульчано \n",
       "д'Абруццо)](https://www.cigarpro.ru/drinks/wine/italy/montepulciano-dabruzzo/)\n",
       "Купить Вино Montepulciano d`Abruzzo (Монтепульчано д'Абруццо) в Москве. Цена, описание, состав. Магазин Галерея \n",
       "Градусов. Вино Montepulciano d`Abruzzo — общее наименование красных сухих и полусухих разновидностей, которые \n",
       "изготавливаются в итальянском винодельческом регионе Абруццо из винограда сорта Монтепульчано.\n",
       "\n",
       "[Вино Монтепульчано: купить в Москве и Санкт-Петербурге, цена вина \n",
       "...](https://simplewine.ru/catalog/vino/filter/grape-montepulchano/)\n",
       "В каталоге интернет-витрины SimpleWine вы можете выбрать товары категории Вино Монтепульчано по цене от 1113 рублей\n",
       "до 59990 рублей.\n",
       "\n",
       "[Сухое Итальянское вино из винограда Монтепульчано д'Абруццо в обычной \n",
       "...](https://winestreet.ru/wine/dry/montepulciano-dabruzzo/normal/italy/)\n",
       "Сухое Итальянское вино из винограда Монтепульчано д'Абруццо в обычной упаковке - 62 наименования вина. В наличии \n",
       "22.\n",
       "\n",
       "[Красные вина Монтепульчано д'Абруццо - купить итальянское вино недорого \n",
       "...](https://probkibutylki.ru/shop/vino/krasnoe-vino/italija/abrucco/montepulchano-d-abrucco)\n",
       "Продажа оригинального красного вина из аппелласьона Монтепульчано д'Абруццо от проверенных поставщиков, широкий \n",
       "ассортимент вин из Италии, низкие цены на сайте винотеки Пробки Бутылки.\n",
       "\n",
       "[Вино Монтепульчано - купить, цена в сети магазинов \n",
       "«Красное&Белое»](https://krasnoeibeloe.ru/catalog/vino/vino-montepulchano/)\n",
       "Купите вино Монтепульчано по выгодной цене в сети магазинов «Красное&Белое», оформив online-заявку на сайте.\n",
       "\n",
       "[Вино Монтепульчано д'Абруццо: разновидности doc и docg, \n",
       "цена](https://italy4.me/napitki/montepulciano-dabruzzo.html)\n",
       "Монтепульчано д'Абруццо представлено на рынке алкогольных напитков различными производителями. Цена его варьируется\n",
       "от 5 до 590 Евро в зависимости от компании и возраста.\n",
       "\n",
       "[Вино Монтепульчано д'Абруццо купить в Москве; цена, отзывы | Wine \n",
       "Shopper](https://wine-shopper.ru/wine_color/montepulchano-d-abrucco/)\n",
       "Вино Монтепульчано д'Абруццо оригинал - купить в Москве Доступные цены Большой выбор Заказать через интернет или \n",
       "выбрать в магазинах ️ Гарантия качества алкоголя ️ Самовывоз ☎: +7 499 490-49-35 ...\n",
       "\n",
       "[Вино Монтепульчано д'Абруццо купить в Москве — Цена вина Montepulciano \n",
       "...](https://decanter.ru/wine/montepulciano-d-abruzzo)\n",
       "Вино Монтепульчано д'абруццо - цена в магазине Декантер. Цена на вино Монтепульчано д'абруццо составляет 430 руб. \n",
       "за бутылку 0.75 л, в ассортименте представлены объемы от 0.2 до 1.5 л стоимостью от 430 до 84 525 рублей.\n",
       "Сира: ## Search Results\n",
       "\n",
       "[Французское вино Сира — Купить в Москве, цена вина Франции Сира в ...](https://decanter.ru/wine/france/syrah)\n",
       "Французское вино Сира - цена в магазине Декантер Цена на вино Франции Сира составляет 314 руб. за бутылку 0.75 л, в\n",
       "ассортименте представлены объемы от 0.187 до 5 л стоимостью от 182 до 207 030 рублей.\n",
       "\n",
       "[Купить французское вино Сира | Цена вина из Франции в Москве и Санкт \n",
       "...](https://simplewine.ru/catalog/vino/filter/country-frantsiya/grape-sira/)\n",
       "Вино Сира в интернет-витрине SimpleWine. Широкий выбор, отзывы, честные цены. Гарантия качества от поставщика! ☎8 \n",
       "(800) 700-37-97.\n",
       "\n",
       "[Вино Syrah купить - цена в магазине Алкоплаза](https://www.alcoplaza.ru/alco/Wine/syrah)\n",
       "Вино Сира (Syrah) купить в магазине АлкоПлаза - гарантия оригинального происхождения, низкие цены ☎ +7 (495) \n",
       "960-40-44 ... что они уходят в северную часть французской долины реки Рона. Согласно ряду ...\n",
       "\n",
       "[Купить французское вино Сира в интернет-витрине, продажа в Москве, цены \n",
       "...](https://luding.ru/collection/wine/frantsiya/sira/)\n",
       "★ Французское вино Сира: купите по выгодной цене в Москве. → Уникальный ассортимент, бесплатные консультации \n",
       "сомелье, бонусная программа! ☎ +7 (495) 120-37-73.\n",
       "\n",
       "[Французское вино Сира — купить в Москве, цены на вино из Франции из \n",
       "...](https://luding-group.ru/assortment/wines/france/sira/)\n",
       "Вино из Франции из винограда Сира и другие алкогольные напитки по выгодной цене в каталоге компании luding group. \n",
       "Только качественный алкоголь, консультации специалистов. Звоните: +7 (495) 99-444-77.\n",
       "\n",
       "[Французское вино Сира купить — большой ассортимент вин Франции из Syrah \n",
       "...](https://www.cru.ru/wine/france/syrah/)\n",
       "Французское вино Сира купить — большой ассортимент вин Франции из Syrah, цены в магазине КРЮ ПРОФИ +7 (495) \n",
       "920-20-02.\n",
       "\n",
       "[Французское вино из винограда Сира купить в винном ресторане Osteria \n",
       "...](https://www.osteria.ru/wine/france/sira/)\n",
       "Купить французское вино из винограда Сира цена в итальянском винном ресторане Osteria Amici Москва, ул. \n",
       "Мосфильмовская, 88 4/1. Бронирование столов +7 926 109 59 39\n",
       "\n",
       "[Вино Сира красное сухое Испания Франция, купить в Москве, цена](https://vinoterra.ru/catalog/vino/sira/)\n",
       "Предлагаем купить вино Сира красное сухое в розницу и оптом! Поможем подобрать вино по вашему вкусу. Широкий \n",
       "ассортимент, подробное описание, выгодные цены\n",
       "\n",
       "[Вино Сира - купить в интернет магазине Бристоль](https://bristol.ru/collections/vino-sira)\n",
       "Купите вино Сира в интернет магазине Бристоль от 151 рублей по всей РФ. Оформление за 5 минут Добро пожаловать на \n",
       "сайт сети магазинов Бристоль\n",
       "\n",
       "[Сира вино — Купить вино Сира цена в Москве в магазине Декантер](https://decanter.ru/wine/syrah)\n",
       "Цена на вино Сира составляет 314 руб. за бутылку 0.7 л, в ассортименте представлены объемы от 0.187 до 6 л \n",
       "стоимостью от 182 до 225 990 рублей. Продажа осуществляется в розничных магазинах Декантер в ...\n",
       "\n",
       "Out: None\n"
      ]
     },
     "metadata": {},
     "output_type": "display_data"
    },
    {
     "data": {
      "text/html": [
       "<pre style=\"white-space:pre;overflow-x:auto;line-height:normal;font-family:Menlo,'DejaVu Sans Mono',consolas,'Courier New',monospace\"><span style=\"color: #7f7f7f; text-decoration-color: #7f7f7f\">[Step 2: Duration 9.05 seconds| Input tokens: 5,725 | Output tokens: 230]</span>\n",
       "</pre>\n"
      ],
      "text/plain": [
       "\u001b[2m[Step 2: Duration 9.05 seconds| Input tokens: 5,725 | Output tokens: 230]\u001b[0m\n"
      ]
     },
     "metadata": {},
     "output_type": "display_data"
    },
    {
     "data": {
      "text/html": [
       "<pre style=\"white-space:pre;overflow-x:auto;line-height:normal;font-family:Menlo,'DejaVu Sans Mono',consolas,'Courier New',monospace\"><span style=\"color: #d4b702; text-decoration-color: #d4b702\">━━━━━━━━━━━━━━━━━━━━━━━━━━━━━━━━━━━━━━━━━━━━━━━━━━━━━ </span><span style=\"font-weight: bold\">Step </span><span style=\"color: #008080; text-decoration-color: #008080; font-weight: bold\">3</span><span style=\"color: #d4b702; text-decoration-color: #d4b702\"> ━━━━━━━━━━━━━━━━━━━━━━━━━━━━━━━━━━━━━━━━━━━━━━━━━━━━━━</span>\n",
       "</pre>\n"
      ],
      "text/plain": [
       "\u001b[38;2;212;183;2m━━━━━━━━━━━━━━━━━━━━━━━━━━━━━━━━━━━━━━━━━━━━━━━━━━━━━ \u001b[0m\u001b[1mStep \u001b[0m\u001b[1;36m3\u001b[0m\u001b[38;2;212;183;2m ━━━━━━━━━━━━━━━━━━━━━━━━━━━━━━━━━━━━━━━━━━━━━━━━━━━━━━\u001b[0m\n"
      ]
     },
     "metadata": {},
     "output_type": "display_data"
    },
    {
     "data": {
      "text/html": [
       "<pre style=\"white-space:pre;overflow-x:auto;line-height:normal;font-family:Menlo,'DejaVu Sans Mono',consolas,'Courier New',monospace\"> ─ <span style=\"font-weight: bold\">Executing parsed code:</span> ──────────────────────────────────────────────────────────────────────────────────────── \n",
       "  <span style=\"color: #f8f8f2; text-decoration-color: #f8f8f2; background-color: #272822\">final_answer([</span><span style=\"background-color: #272822\">                                                                                                 </span>  \n",
       "  <span style=\"color: #f8f8f2; text-decoration-color: #f8f8f2; background-color: #272822\">    {</span><span style=\"color: #e6db74; text-decoration-color: #e6db74; background-color: #272822\">\"name\"</span><span style=\"color: #f8f8f2; text-decoration-color: #f8f8f2; background-color: #272822\">: </span><span style=\"color: #e6db74; text-decoration-color: #e6db74; background-color: #272822\">\"Испанский Темпранильо\"</span><span style=\"color: #f8f8f2; text-decoration-color: #f8f8f2; background-color: #272822\">, </span><span style=\"color: #e6db74; text-decoration-color: #e6db74; background-color: #272822\">\"price\"</span><span style=\"color: #f8f8f2; text-decoration-color: #f8f8f2; background-color: #272822\">: </span><span style=\"color: #e6db74; text-decoration-color: #e6db74; background-color: #272822\">\"от 211 руб. за бутылку 0.75 л\"</span><span style=\"color: #f8f8f2; text-decoration-color: #f8f8f2; background-color: #272822\">},</span><span style=\"background-color: #272822\">                               </span>  \n",
       "  <span style=\"color: #f8f8f2; text-decoration-color: #f8f8f2; background-color: #272822\">    {</span><span style=\"color: #e6db74; text-decoration-color: #e6db74; background-color: #272822\">\"name\"</span><span style=\"color: #f8f8f2; text-decoration-color: #f8f8f2; background-color: #272822\">: </span><span style=\"color: #e6db74; text-decoration-color: #e6db74; background-color: #272822\">\"Итальянский Монтепульчано д'Абруццо\"</span><span style=\"color: #f8f8f2; text-decoration-color: #f8f8f2; background-color: #272822\">, </span><span style=\"color: #e6db74; text-decoration-color: #e6db74; background-color: #272822\">\"price\"</span><span style=\"color: #f8f8f2; text-decoration-color: #f8f8f2; background-color: #272822\">: </span><span style=\"color: #e6db74; text-decoration-color: #e6db74; background-color: #272822\">\"от 430 руб. за бутылку 0.75 л\"</span><span style=\"color: #f8f8f2; text-decoration-color: #f8f8f2; background-color: #272822\">},</span><span style=\"background-color: #272822\">                 </span>  \n",
       "  <span style=\"color: #f8f8f2; text-decoration-color: #f8f8f2; background-color: #272822\">    {</span><span style=\"color: #e6db74; text-decoration-color: #e6db74; background-color: #272822\">\"name\"</span><span style=\"color: #f8f8f2; text-decoration-color: #f8f8f2; background-color: #272822\">: </span><span style=\"color: #e6db74; text-decoration-color: #e6db74; background-color: #272822\">\"Французская Сира\"</span><span style=\"color: #f8f8f2; text-decoration-color: #f8f8f2; background-color: #272822\">, </span><span style=\"color: #e6db74; text-decoration-color: #e6db74; background-color: #272822\">\"price\"</span><span style=\"color: #f8f8f2; text-decoration-color: #f8f8f2; background-color: #272822\">: </span><span style=\"color: #e6db74; text-decoration-color: #e6db74; background-color: #272822\">\"от 314 руб. за бутылку 0.7 л\"</span><span style=\"color: #f8f8f2; text-decoration-color: #f8f8f2; background-color: #272822\">}</span><span style=\"background-color: #272822\">                                      </span>  \n",
       "  <span style=\"color: #f8f8f2; text-decoration-color: #f8f8f2; background-color: #272822\">])</span><span style=\"background-color: #272822\">                                                                                                             </span>  \n",
       " ───────────────────────────────────────────────────────────────────────────────────────────────────────────────── \n",
       "</pre>\n"
      ],
      "text/plain": [
       " ─ \u001b[1mExecuting parsed code:\u001b[0m ──────────────────────────────────────────────────────────────────────────────────────── \n",
       "  \u001b[38;2;248;248;242;48;2;39;40;34mfinal_answer\u001b[0m\u001b[38;2;248;248;242;48;2;39;40;34m(\u001b[0m\u001b[38;2;248;248;242;48;2;39;40;34m[\u001b[0m\u001b[48;2;39;40;34m                                                                                                 \u001b[0m  \n",
       "  \u001b[38;2;248;248;242;48;2;39;40;34m    \u001b[0m\u001b[38;2;248;248;242;48;2;39;40;34m{\u001b[0m\u001b[38;2;230;219;116;48;2;39;40;34m\"\u001b[0m\u001b[38;2;230;219;116;48;2;39;40;34mname\u001b[0m\u001b[38;2;230;219;116;48;2;39;40;34m\"\u001b[0m\u001b[38;2;248;248;242;48;2;39;40;34m:\u001b[0m\u001b[38;2;248;248;242;48;2;39;40;34m \u001b[0m\u001b[38;2;230;219;116;48;2;39;40;34m\"\u001b[0m\u001b[38;2;230;219;116;48;2;39;40;34mИспанский Темпранильо\u001b[0m\u001b[38;2;230;219;116;48;2;39;40;34m\"\u001b[0m\u001b[38;2;248;248;242;48;2;39;40;34m,\u001b[0m\u001b[38;2;248;248;242;48;2;39;40;34m \u001b[0m\u001b[38;2;230;219;116;48;2;39;40;34m\"\u001b[0m\u001b[38;2;230;219;116;48;2;39;40;34mprice\u001b[0m\u001b[38;2;230;219;116;48;2;39;40;34m\"\u001b[0m\u001b[38;2;248;248;242;48;2;39;40;34m:\u001b[0m\u001b[38;2;248;248;242;48;2;39;40;34m \u001b[0m\u001b[38;2;230;219;116;48;2;39;40;34m\"\u001b[0m\u001b[38;2;230;219;116;48;2;39;40;34mот 211 руб. за бутылку 0.75 л\u001b[0m\u001b[38;2;230;219;116;48;2;39;40;34m\"\u001b[0m\u001b[38;2;248;248;242;48;2;39;40;34m}\u001b[0m\u001b[38;2;248;248;242;48;2;39;40;34m,\u001b[0m\u001b[48;2;39;40;34m                               \u001b[0m  \n",
       "  \u001b[38;2;248;248;242;48;2;39;40;34m    \u001b[0m\u001b[38;2;248;248;242;48;2;39;40;34m{\u001b[0m\u001b[38;2;230;219;116;48;2;39;40;34m\"\u001b[0m\u001b[38;2;230;219;116;48;2;39;40;34mname\u001b[0m\u001b[38;2;230;219;116;48;2;39;40;34m\"\u001b[0m\u001b[38;2;248;248;242;48;2;39;40;34m:\u001b[0m\u001b[38;2;248;248;242;48;2;39;40;34m \u001b[0m\u001b[38;2;230;219;116;48;2;39;40;34m\"\u001b[0m\u001b[38;2;230;219;116;48;2;39;40;34mИтальянский Монтепульчано д\u001b[0m\u001b[38;2;230;219;116;48;2;39;40;34m'\u001b[0m\u001b[38;2;230;219;116;48;2;39;40;34mАбруццо\u001b[0m\u001b[38;2;230;219;116;48;2;39;40;34m\"\u001b[0m\u001b[38;2;248;248;242;48;2;39;40;34m,\u001b[0m\u001b[38;2;248;248;242;48;2;39;40;34m \u001b[0m\u001b[38;2;230;219;116;48;2;39;40;34m\"\u001b[0m\u001b[38;2;230;219;116;48;2;39;40;34mprice\u001b[0m\u001b[38;2;230;219;116;48;2;39;40;34m\"\u001b[0m\u001b[38;2;248;248;242;48;2;39;40;34m:\u001b[0m\u001b[38;2;248;248;242;48;2;39;40;34m \u001b[0m\u001b[38;2;230;219;116;48;2;39;40;34m\"\u001b[0m\u001b[38;2;230;219;116;48;2;39;40;34mот 430 руб. за бутылку 0.75 л\u001b[0m\u001b[38;2;230;219;116;48;2;39;40;34m\"\u001b[0m\u001b[38;2;248;248;242;48;2;39;40;34m}\u001b[0m\u001b[38;2;248;248;242;48;2;39;40;34m,\u001b[0m\u001b[48;2;39;40;34m                 \u001b[0m  \n",
       "  \u001b[38;2;248;248;242;48;2;39;40;34m    \u001b[0m\u001b[38;2;248;248;242;48;2;39;40;34m{\u001b[0m\u001b[38;2;230;219;116;48;2;39;40;34m\"\u001b[0m\u001b[38;2;230;219;116;48;2;39;40;34mname\u001b[0m\u001b[38;2;230;219;116;48;2;39;40;34m\"\u001b[0m\u001b[38;2;248;248;242;48;2;39;40;34m:\u001b[0m\u001b[38;2;248;248;242;48;2;39;40;34m \u001b[0m\u001b[38;2;230;219;116;48;2;39;40;34m\"\u001b[0m\u001b[38;2;230;219;116;48;2;39;40;34mФранцузская Сира\u001b[0m\u001b[38;2;230;219;116;48;2;39;40;34m\"\u001b[0m\u001b[38;2;248;248;242;48;2;39;40;34m,\u001b[0m\u001b[38;2;248;248;242;48;2;39;40;34m \u001b[0m\u001b[38;2;230;219;116;48;2;39;40;34m\"\u001b[0m\u001b[38;2;230;219;116;48;2;39;40;34mprice\u001b[0m\u001b[38;2;230;219;116;48;2;39;40;34m\"\u001b[0m\u001b[38;2;248;248;242;48;2;39;40;34m:\u001b[0m\u001b[38;2;248;248;242;48;2;39;40;34m \u001b[0m\u001b[38;2;230;219;116;48;2;39;40;34m\"\u001b[0m\u001b[38;2;230;219;116;48;2;39;40;34mот 314 руб. за бутылку 0.7 л\u001b[0m\u001b[38;2;230;219;116;48;2;39;40;34m\"\u001b[0m\u001b[38;2;248;248;242;48;2;39;40;34m}\u001b[0m\u001b[48;2;39;40;34m                                      \u001b[0m  \n",
       "  \u001b[38;2;248;248;242;48;2;39;40;34m]\u001b[0m\u001b[38;2;248;248;242;48;2;39;40;34m)\u001b[0m\u001b[48;2;39;40;34m                                                                                                             \u001b[0m  \n",
       " ───────────────────────────────────────────────────────────────────────────────────────────────────────────────── \n"
      ]
     },
     "metadata": {},
     "output_type": "display_data"
    },
    {
     "data": {
      "text/html": [
       "<pre style=\"white-space:pre;overflow-x:auto;line-height:normal;font-family:Menlo,'DejaVu Sans Mono',consolas,'Courier New',monospace\"><span style=\"color: #d4b702; text-decoration-color: #d4b702; font-weight: bold\">Out - Final answer: [{'name': 'Испанский Темпранильо', 'price': 'от 211 руб. за бутылку 0.75 л'}, {'name': </span>\n",
       "<span style=\"color: #d4b702; text-decoration-color: #d4b702; font-weight: bold\">\"Итальянский Монтепульчано д'Абруццо\", 'price': 'от 430 руб. за бутылку 0.75 л'}, {'name': 'Французская Сира', </span>\n",
       "<span style=\"color: #d4b702; text-decoration-color: #d4b702; font-weight: bold\">'price': 'от 314 руб. за бутылку 0.7 л'}]</span>\n",
       "</pre>\n"
      ],
      "text/plain": [
       "\u001b[1;38;2;212;183;2mOut - Final answer: [{'name': 'Испанский Темпранильо', 'price': 'от 211 руб. за бутылку 0.75 л'}, {'name': \u001b[0m\n",
       "\u001b[1;38;2;212;183;2m\"Итальянский Монтепульчано д'Абруццо\", 'price': 'от 430 руб. за бутылку 0.75 л'}, {'name': 'Французская Сира', \u001b[0m\n",
       "\u001b[1;38;2;212;183;2m'price': 'от 314 руб. за бутылку 0.7 л'}]\u001b[0m\n"
      ]
     },
     "metadata": {},
     "output_type": "display_data"
    },
    {
     "data": {
      "text/html": [
       "<pre style=\"white-space:pre;overflow-x:auto;line-height:normal;font-family:Menlo,'DejaVu Sans Mono',consolas,'Courier New',monospace\"><span style=\"color: #7f7f7f; text-decoration-color: #7f7f7f\">[Step 3: Duration 5.57 seconds| Input tokens: 12,341 | Output tokens: 477]</span>\n",
       "</pre>\n"
      ],
      "text/plain": [
       "\u001b[2m[Step 3: Duration 5.57 seconds| Input tokens: 12,341 | Output tokens: 477]\u001b[0m\n"
      ]
     },
     "metadata": {},
     "output_type": "display_data"
    },
    {
     "data": {
      "text/plain": [
       "[{'name': 'Испанский Темпранильо', 'price': 'от 211 руб. за бутылку 0.75 л'},\n",
       " {'name': \"Итальянский Монтепульчано д'Абруццо\",\n",
       "  'price': 'от 430 руб. за бутылку 0.75 л'},\n",
       " {'name': 'Французская Сира', 'price': 'от 314 руб. за бутылку 0.7 л'}]"
      ]
     },
     "execution_count": 16,
     "metadata": {},
     "output_type": "execute_result"
    }
   ],
   "source": [
    "import yaml\n",
    "russian_templates = yaml.load(open('etc/smolagents_code_agent_russian_prompts.yaml'), Loader=yaml.FullLoader)\n",
    "agent.prompt_templates = russian_templates\n",
    "agent.run(\"Напиши список из трёх лучших вин, подходящих к стейку с кровью, и их цены\")"
   ]
  },
  {
   "cell_type": "markdown",
   "id": "041de117",
   "metadata": {},
   "source": [
    "Видим, что результат получился уже на русском языке.\n",
    "\n",
    "## Model Context Protocol\n",
    "\n",
    "В примере выше, мы искали цены где-то в интернет. А как быть, если агенту нужно работать с конкретным рестораном?\n",
    "\n",
    "Для этого можно использовать технологию [Model Context Protocol (MCP)](https://modelcontextprotocol.io/introduction). Это по сути дела стандартизированный способ сделать \"удалённый RAG\" и \"удалённый вызов инструментов\". В этом случае ресторан может предоставлять своё меню через набор MCP-вызовов. Для этого он должен реализовать MCP-сервер.\n",
    "\n",
    "В нашем примере предположим, что у нас есть ресторан, с некоторым [меню кухни](data/menu/food.md) и [бара](data/menu/drinks.md). Мы реализовали [простой MCP-сервер](mcp-server/mcp-rest.py), который предоставляет два инструмента:\n",
    "* `get_food_menu` для получения списка блюд в виде markdown-таблицы\n",
    "* `get_drinks_menu` - для получения списка напитков\n",
    "\n",
    "Для запуска сервера необходимо установить [FastMCP](https://github.com/jlowin/fastmcp), и далее в командной строке выполнить:\n",
    "```bash\n",
    "fastmcp run -p 8000 -h 127.0.0.1 -t sse mcp-rest.py\n",
    "```"
   ]
  },
  {
   "cell_type": "code",
   "execution_count": 17,
   "id": "10446f7b",
   "metadata": {},
   "outputs": [],
   "source": [
    "from smolagents import OpenAIServerModel, CodeAgent\n",
    "import os\n",
    "import yaml\n",
    "\n",
    "russian_templates = yaml.load(open('etc/smolagents_code_agent_russian_prompts.yaml'), Loader=yaml.FullLoader)\n",
    "\n",
    "ygpt_model = OpenAIServerModel(api_key=os.environ['api_key'], \n",
    "                           model_id=f\"gpt://{os.environ['folder_id']}/yandexgpt/rc\",\n",
    "                           #model_id=f\"gpt://{os.environ['folder_id']}/llama/rc\",\n",
    "                           api_base=\"https://llm.api.cloud.yandex.net/v1\",\n",
    "                           flatten_messages_as_text = True)"
   ]
  },
  {
   "cell_type": "markdown",
   "id": "eecf894e",
   "metadata": {},
   "source": [
    "Теперь мы можем использовать MCP-инструменты в нашем агенте:"
   ]
  },
  {
   "cell_type": "code",
   "execution_count": 18,
   "id": "62ed93ce",
   "metadata": {},
   "outputs": [
    {
     "data": {
      "text/html": [
       "<pre style=\"white-space:pre;overflow-x:auto;line-height:normal;font-family:Menlo,'DejaVu Sans Mono',consolas,'Courier New',monospace\"><span style=\"color: #d4b702; text-decoration-color: #d4b702\">╭──────────────────────────────────────────────────── </span><span style=\"color: #d4b702; text-decoration-color: #d4b702; font-weight: bold\">New run</span><span style=\"color: #d4b702; text-decoration-color: #d4b702\"> ────────────────────────────────────────────────────╮</span>\n",
       "<span style=\"color: #d4b702; text-decoration-color: #d4b702\">│</span>                                                                                                                 <span style=\"color: #d4b702; text-decoration-color: #d4b702\">│</span>\n",
       "<span style=\"color: #d4b702; text-decoration-color: #d4b702\">│</span> <span style=\"font-weight: bold\">Какое самое дорогое блюдо в ресторане?</span>                                                                          <span style=\"color: #d4b702; text-decoration-color: #d4b702\">│</span>\n",
       "<span style=\"color: #d4b702; text-decoration-color: #d4b702\">│</span>                                                                                                                 <span style=\"color: #d4b702; text-decoration-color: #d4b702\">│</span>\n",
       "<span style=\"color: #d4b702; text-decoration-color: #d4b702\">╰─ OpenAIServerModel - gpt://b1gbicod0scglhd49qs0/yandexgpt/rc ───────────────────────────────────────────────────╯</span>\n",
       "</pre>\n"
      ],
      "text/plain": [
       "\u001b[38;2;212;183;2m╭─\u001b[0m\u001b[38;2;212;183;2m───────────────────────────────────────────────────\u001b[0m\u001b[38;2;212;183;2m \u001b[0m\u001b[1;38;2;212;183;2mNew run\u001b[0m\u001b[38;2;212;183;2m \u001b[0m\u001b[38;2;212;183;2m───────────────────────────────────────────────────\u001b[0m\u001b[38;2;212;183;2m─╮\u001b[0m\n",
       "\u001b[38;2;212;183;2m│\u001b[0m                                                                                                                 \u001b[38;2;212;183;2m│\u001b[0m\n",
       "\u001b[38;2;212;183;2m│\u001b[0m \u001b[1mКакое самое дорогое блюдо в ресторане?\u001b[0m                                                                          \u001b[38;2;212;183;2m│\u001b[0m\n",
       "\u001b[38;2;212;183;2m│\u001b[0m                                                                                                                 \u001b[38;2;212;183;2m│\u001b[0m\n",
       "\u001b[38;2;212;183;2m╰─\u001b[0m\u001b[38;2;212;183;2m OpenAIServerModel - gpt://b1gbicod0scglhd49qs0/yandexgpt/rc \u001b[0m\u001b[38;2;212;183;2m──────────────────────────────────────────────────\u001b[0m\u001b[38;2;212;183;2m─╯\u001b[0m\n"
      ]
     },
     "metadata": {},
     "output_type": "display_data"
    },
    {
     "data": {
      "text/html": [
       "<pre style=\"white-space:pre;overflow-x:auto;line-height:normal;font-family:Menlo,'DejaVu Sans Mono',consolas,'Courier New',monospace\"><span style=\"color: #d4b702; text-decoration-color: #d4b702\">━━━━━━━━━━━━━━━━━━━━━━━━━━━━━━━━━━━━━━━━━━━━━━━━━━━━━ </span><span style=\"font-weight: bold\">Step </span><span style=\"color: #008080; text-decoration-color: #008080; font-weight: bold\">1</span><span style=\"color: #d4b702; text-decoration-color: #d4b702\"> ━━━━━━━━━━━━━━━━━━━━━━━━━━━━━━━━━━━━━━━━━━━━━━━━━━━━━━</span>\n",
       "</pre>\n"
      ],
      "text/plain": [
       "\u001b[38;2;212;183;2m━━━━━━━━━━━━━━━━━━━━━━━━━━━━━━━━━━━━━━━━━━━━━━━━━━━━━ \u001b[0m\u001b[1mStep \u001b[0m\u001b[1;36m1\u001b[0m\u001b[38;2;212;183;2m ━━━━━━━━━━━━━━━━━━━━━━━━━━━━━━━━━━━━━━━━━━━━━━━━━━━━━━\u001b[0m\n"
      ]
     },
     "metadata": {},
     "output_type": "display_data"
    },
    {
     "data": {
      "text/html": [
       "<pre style=\"white-space:pre;overflow-x:auto;line-height:normal;font-family:Menlo,'DejaVu Sans Mono',consolas,'Courier New',monospace\"> ─ <span style=\"font-weight: bold\">Executing parsed code:</span> ──────────────────────────────────────────────────────────────────────────────────────── \n",
       "  <span style=\"color: #f8f8f2; text-decoration-color: #f8f8f2; background-color: #272822\">menu </span><span style=\"color: #ff4689; text-decoration-color: #ff4689; background-color: #272822\">=</span><span style=\"color: #f8f8f2; text-decoration-color: #f8f8f2; background-color: #272822\"> get_food_menu()</span><span style=\"background-color: #272822\">                                                                                         </span>  \n",
       "  <span style=\"color: #f8f8f2; text-decoration-color: #f8f8f2; background-color: #272822\">print(menu)</span><span style=\"background-color: #272822\">                                                                                                    </span>  \n",
       " ───────────────────────────────────────────────────────────────────────────────────────────────────────────────── \n",
       "</pre>\n"
      ],
      "text/plain": [
       " ─ \u001b[1mExecuting parsed code:\u001b[0m ──────────────────────────────────────────────────────────────────────────────────────── \n",
       "  \u001b[38;2;248;248;242;48;2;39;40;34mmenu\u001b[0m\u001b[38;2;248;248;242;48;2;39;40;34m \u001b[0m\u001b[38;2;255;70;137;48;2;39;40;34m=\u001b[0m\u001b[38;2;248;248;242;48;2;39;40;34m \u001b[0m\u001b[38;2;248;248;242;48;2;39;40;34mget_food_menu\u001b[0m\u001b[38;2;248;248;242;48;2;39;40;34m(\u001b[0m\u001b[38;2;248;248;242;48;2;39;40;34m)\u001b[0m\u001b[48;2;39;40;34m                                                                                         \u001b[0m  \n",
       "  \u001b[38;2;248;248;242;48;2;39;40;34mprint\u001b[0m\u001b[38;2;248;248;242;48;2;39;40;34m(\u001b[0m\u001b[38;2;248;248;242;48;2;39;40;34mmenu\u001b[0m\u001b[38;2;248;248;242;48;2;39;40;34m)\u001b[0m\u001b[48;2;39;40;34m                                                                                                    \u001b[0m  \n",
       " ───────────────────────────────────────────────────────────────────────────────────────────────────────────────── \n"
      ]
     },
     "metadata": {},
     "output_type": "display_data"
    },
    {
     "data": {
      "text/html": [
       "<pre style=\"white-space:pre;overflow-x:auto;line-height:normal;font-family:Menlo,'DejaVu Sans Mono',consolas,'Courier New',monospace\"><span style=\"font-weight: bold\">Execution logs:</span>\n",
       "| Название блюда            | Описание                                                                 | Тип  | \n",
       "Цена (руб) |  \n",
       "|-------------------------------|-----------------------------------------------------------------------------|----\n",
       "------|---------------|  \n",
       "| Стейк \"Бык на взводе\"           | Сочный рибай с розовым сердцем, томлёный в дыме аргентинских страстей. Подаётся\n",
       "с золотой солью Гималаев. | Стейк    | 2500          |  \n",
       "| Стейк \"Нежность разъярённой коровы\" | Филе-миньон, замаринованное в гранатовом соке и шёпоте шеф-повара. Плюс \n",
       "картофель \"А-ля крылышки дракона\". | Стейк    | 1800          |  \n",
       "| \"Стейк для скромного олигарха\" | Говяжья щека, томлёная 12 часов в вине из погреба Наполеона (ну почти). С \n",
       "хрустящими чипсами из кабачков. | Стейк    | 1200          |  \n",
       "| \"Лосось в мечтах о Норвегии\" | Нежнейший филе-кусок, запечённый под корочкой из \"загадочных северных трав\" \n",
       "(укропа). Подаётся с лимонным бризом. | Рыба     | 1900          |  \n",
       "| \"Осьминог, который видел слишком много\" | Гриль-кальмар с чернильным соусом и намёком на средиземноморские тайны.\n",
       "Для смелых гурманов. | Рыба     | 2200          |  \n",
       "| \"Дорадо под шубой\"        | Филе дорадо, завёрнутое в хрустящий картофельный панцирь. С соусом \"Тайна Атлантиды\".\n",
       "| Рыба     | 1600          |  \n",
       "| \"Картофель 'Я тоже могу быть трюфелем'\" | Нежные дольки, запечённые с розмарином и намёком на дороговизну. \n",
       "Подаётся с воздухом Пиреней. | Гарнир   | 600           |  \n",
       "| \"Грибы, которые танцевали на луну\" | Шампиньоны-гриль с чесночным соусом и намёком на психоделический опыт. | \n",
       "Гарнир   | 450           |  \n",
       "| \"Круассаны, но не те\"     | Аппетитные мини-морковки, глазированные мёдом с намёком на парижское детство. | \n",
       "Гарнир   | 350           |  \n",
       "| \"Шоколадный апокалипсис\"  | Десерт из 72% какао, взрывающий вкусовые рецепторы. С мороженым \"Облако рая\". | \n",
       "Десерт   | 800           |  \n",
       "| \"Чизкейк, который видел Бога\" | Воздушный, с карамелью из ангельских слез и крошками \"райского печенья\". | Десерт\n",
       "| 750           |  \n",
       "| \"Тирамису для взрослых\"   | Классика, но с добавлением \"секретного ингредиента\" (кофе, а что вы подумали?). | \n",
       "Десерт   | 700           |  \n",
       "\n",
       "\n",
       "Out: None\n",
       "</pre>\n"
      ],
      "text/plain": [
       "\u001b[1mExecution logs:\u001b[0m\n",
       "| Название блюда            | Описание                                                                 | Тип  | \n",
       "Цена (руб) |  \n",
       "|-------------------------------|-----------------------------------------------------------------------------|----\n",
       "------|---------------|  \n",
       "| Стейк \"Бык на взводе\"           | Сочный рибай с розовым сердцем, томлёный в дыме аргентинских страстей. Подаётся\n",
       "с золотой солью Гималаев. | Стейк    | 2500          |  \n",
       "| Стейк \"Нежность разъярённой коровы\" | Филе-миньон, замаринованное в гранатовом соке и шёпоте шеф-повара. Плюс \n",
       "картофель \"А-ля крылышки дракона\". | Стейк    | 1800          |  \n",
       "| \"Стейк для скромного олигарха\" | Говяжья щека, томлёная 12 часов в вине из погреба Наполеона (ну почти). С \n",
       "хрустящими чипсами из кабачков. | Стейк    | 1200          |  \n",
       "| \"Лосось в мечтах о Норвегии\" | Нежнейший филе-кусок, запечённый под корочкой из \"загадочных северных трав\" \n",
       "(укропа). Подаётся с лимонным бризом. | Рыба     | 1900          |  \n",
       "| \"Осьминог, который видел слишком много\" | Гриль-кальмар с чернильным соусом и намёком на средиземноморские тайны.\n",
       "Для смелых гурманов. | Рыба     | 2200          |  \n",
       "| \"Дорадо под шубой\"        | Филе дорадо, завёрнутое в хрустящий картофельный панцирь. С соусом \"Тайна Атлантиды\".\n",
       "| Рыба     | 1600          |  \n",
       "| \"Картофель 'Я тоже могу быть трюфелем'\" | Нежные дольки, запечённые с розмарином и намёком на дороговизну. \n",
       "Подаётся с воздухом Пиреней. | Гарнир   | 600           |  \n",
       "| \"Грибы, которые танцевали на луну\" | Шампиньоны-гриль с чесночным соусом и намёком на психоделический опыт. | \n",
       "Гарнир   | 450           |  \n",
       "| \"Круассаны, но не те\"     | Аппетитные мини-морковки, глазированные мёдом с намёком на парижское детство. | \n",
       "Гарнир   | 350           |  \n",
       "| \"Шоколадный апокалипсис\"  | Десерт из 72% какао, взрывающий вкусовые рецепторы. С мороженым \"Облако рая\". | \n",
       "Десерт   | 800           |  \n",
       "| \"Чизкейк, который видел Бога\" | Воздушный, с карамелью из ангельских слез и крошками \"райского печенья\". | Десерт\n",
       "| 750           |  \n",
       "| \"Тирамису для взрослых\"   | Классика, но с добавлением \"секретного ингредиента\" (кофе, а что вы подумали?). | \n",
       "Десерт   | 700           |  \n",
       "\n",
       "\n",
       "Out: None\n"
      ]
     },
     "metadata": {},
     "output_type": "display_data"
    },
    {
     "data": {
      "text/html": [
       "<pre style=\"white-space:pre;overflow-x:auto;line-height:normal;font-family:Menlo,'DejaVu Sans Mono',consolas,'Courier New',monospace\"><span style=\"color: #7f7f7f; text-decoration-color: #7f7f7f\">[Step 1: Duration 2.20 seconds| Input tokens: 2,281 | Output tokens: 63]</span>\n",
       "</pre>\n"
      ],
      "text/plain": [
       "\u001b[2m[Step 1: Duration 2.20 seconds| Input tokens: 2,281 | Output tokens: 63]\u001b[0m\n"
      ]
     },
     "metadata": {},
     "output_type": "display_data"
    },
    {
     "data": {
      "text/html": [
       "<pre style=\"white-space:pre;overflow-x:auto;line-height:normal;font-family:Menlo,'DejaVu Sans Mono',consolas,'Courier New',monospace\"><span style=\"color: #d4b702; text-decoration-color: #d4b702\">━━━━━━━━━━━━━━━━━━━━━━━━━━━━━━━━━━━━━━━━━━━━━━━━━━━━━ </span><span style=\"font-weight: bold\">Step </span><span style=\"color: #008080; text-decoration-color: #008080; font-weight: bold\">2</span><span style=\"color: #d4b702; text-decoration-color: #d4b702\"> ━━━━━━━━━━━━━━━━━━━━━━━━━━━━━━━━━━━━━━━━━━━━━━━━━━━━━━</span>\n",
       "</pre>\n"
      ],
      "text/plain": [
       "\u001b[38;2;212;183;2m━━━━━━━━━━━━━━━━━━━━━━━━━━━━━━━━━━━━━━━━━━━━━━━━━━━━━ \u001b[0m\u001b[1mStep \u001b[0m\u001b[1;36m2\u001b[0m\u001b[38;2;212;183;2m ━━━━━━━━━━━━━━━━━━━━━━━━━━━━━━━━━━━━━━━━━━━━━━━━━━━━━━\u001b[0m\n"
      ]
     },
     "metadata": {},
     "output_type": "display_data"
    },
    {
     "data": {
      "text/html": [
       "<pre style=\"white-space:pre;overflow-x:auto;line-height:normal;font-family:Menlo,'DejaVu Sans Mono',consolas,'Courier New',monospace\"> ─ <span style=\"font-weight: bold\">Executing parsed code:</span> ──────────────────────────────────────────────────────────────────────────────────────── \n",
       "  <span style=\"color: #ff4689; text-decoration-color: #ff4689; background-color: #272822\">import</span><span style=\"color: #f8f8f2; text-decoration-color: #f8f8f2; background-color: #272822\"> re</span><span style=\"background-color: #272822\">                                                                                                      </span>  \n",
       "  <span style=\"background-color: #272822\">                                                                                                               </span>  \n",
       "  <span style=\"color: #959077; text-decoration-color: #959077; background-color: #272822\"># Разделить меню по строкам</span><span style=\"background-color: #272822\">                                                                                    </span>  \n",
       "  <span style=\"color: #f8f8f2; text-decoration-color: #f8f8f2; background-color: #272822\">lines </span><span style=\"color: #ff4689; text-decoration-color: #ff4689; background-color: #272822\">=</span><span style=\"color: #f8f8f2; text-decoration-color: #f8f8f2; background-color: #272822\"> menu</span><span style=\"color: #ff4689; text-decoration-color: #ff4689; background-color: #272822\">.</span><span style=\"color: #f8f8f2; text-decoration-color: #f8f8f2; background-color: #272822\">split(</span><span style=\"color: #e6db74; text-decoration-color: #e6db74; background-color: #272822\">'</span><span style=\"color: #ae81ff; text-decoration-color: #ae81ff; background-color: #272822\">\\n</span><span style=\"color: #e6db74; text-decoration-color: #e6db74; background-color: #272822\">'</span><span style=\"color: #f8f8f2; text-decoration-color: #f8f8f2; background-color: #272822\">)</span><span style=\"background-color: #272822\">                                                                                       </span>  \n",
       "  <span style=\"background-color: #272822\">                                                                                                               </span>  \n",
       "  <span style=\"color: #959077; text-decoration-color: #959077; background-color: #272822\"># Игнорировать первую строку (заголовки столбцов) и последнюю пустую строку</span><span style=\"background-color: #272822\">                                    </span>  \n",
       "  <span style=\"color: #f8f8f2; text-decoration-color: #f8f8f2; background-color: #272822\">data_lines </span><span style=\"color: #ff4689; text-decoration-color: #ff4689; background-color: #272822\">=</span><span style=\"color: #f8f8f2; text-decoration-color: #f8f8f2; background-color: #272822\"> lines[</span><span style=\"color: #ae81ff; text-decoration-color: #ae81ff; background-color: #272822\">1</span><span style=\"color: #f8f8f2; text-decoration-color: #f8f8f2; background-color: #272822\">:</span><span style=\"color: #ff4689; text-decoration-color: #ff4689; background-color: #272822\">-</span><span style=\"color: #ae81ff; text-decoration-color: #ae81ff; background-color: #272822\">1</span><span style=\"color: #f8f8f2; text-decoration-color: #f8f8f2; background-color: #272822\">]</span><span style=\"background-color: #272822\">                                                                                       </span>  \n",
       "  <span style=\"background-color: #272822\">                                                                                                               </span>  \n",
       "  <span style=\"color: #959077; text-decoration-color: #959077; background-color: #272822\"># Регулярное выражение для извлечения данных из строки</span><span style=\"background-color: #272822\">                                                         </span>  \n",
       "  <span style=\"color: #f8f8f2; text-decoration-color: #f8f8f2; background-color: #272822\">pattern </span><span style=\"color: #ff4689; text-decoration-color: #ff4689; background-color: #272822\">=</span><span style=\"color: #f8f8f2; text-decoration-color: #f8f8f2; background-color: #272822\"> </span><span style=\"color: #e6db74; text-decoration-color: #e6db74; background-color: #272822\">r'\\|\\s*(.*?)\\s*\\|\\s*(.*?)\\s*\\|\\s*(.*?)\\s*\\|\\s*(\\d+)\\s*\\|'</span><span style=\"background-color: #272822\">                                            </span>  \n",
       "  <span style=\"background-color: #272822\">                                                                                                               </span>  \n",
       "  <span style=\"color: #f8f8f2; text-decoration-color: #f8f8f2; background-color: #272822\">dishes </span><span style=\"color: #ff4689; text-decoration-color: #ff4689; background-color: #272822\">=</span><span style=\"color: #f8f8f2; text-decoration-color: #f8f8f2; background-color: #272822\"> []</span><span style=\"background-color: #272822\">                                                                                                    </span>  \n",
       "  <span style=\"color: #66d9ef; text-decoration-color: #66d9ef; background-color: #272822\">for</span><span style=\"color: #f8f8f2; text-decoration-color: #f8f8f2; background-color: #272822\"> line </span><span style=\"color: #ff4689; text-decoration-color: #ff4689; background-color: #272822\">in</span><span style=\"color: #f8f8f2; text-decoration-color: #f8f8f2; background-color: #272822\"> data_lines:</span><span style=\"background-color: #272822\">                                                                                        </span>  \n",
       "  <span style=\"color: #f8f8f2; text-decoration-color: #f8f8f2; background-color: #272822\">    match </span><span style=\"color: #ff4689; text-decoration-color: #ff4689; background-color: #272822\">=</span><span style=\"color: #f8f8f2; text-decoration-color: #f8f8f2; background-color: #272822\"> re</span><span style=\"color: #ff4689; text-decoration-color: #ff4689; background-color: #272822\">.</span><span style=\"color: #f8f8f2; text-decoration-color: #f8f8f2; background-color: #272822\">match(pattern, line)</span><span style=\"background-color: #272822\">                                                                            </span>  \n",
       "  <span style=\"color: #f8f8f2; text-decoration-color: #f8f8f2; background-color: #272822\">    </span><span style=\"color: #66d9ef; text-decoration-color: #66d9ef; background-color: #272822\">if</span><span style=\"color: #f8f8f2; text-decoration-color: #f8f8f2; background-color: #272822\"> match:</span><span style=\"background-color: #272822\">                                                                                                  </span>  \n",
       "  <span style=\"color: #f8f8f2; text-decoration-color: #f8f8f2; background-color: #272822\">        name </span><span style=\"color: #ff4689; text-decoration-color: #ff4689; background-color: #272822\">=</span><span style=\"color: #f8f8f2; text-decoration-color: #f8f8f2; background-color: #272822\"> match</span><span style=\"color: #ff4689; text-decoration-color: #ff4689; background-color: #272822\">.</span><span style=\"color: #f8f8f2; text-decoration-color: #f8f8f2; background-color: #272822\">group(</span><span style=\"color: #ae81ff; text-decoration-color: #ae81ff; background-color: #272822\">1</span><span style=\"color: #f8f8f2; text-decoration-color: #f8f8f2; background-color: #272822\">)</span><span style=\"background-color: #272822\">                                                                                  </span>  \n",
       "  <span style=\"color: #f8f8f2; text-decoration-color: #f8f8f2; background-color: #272822\">        description </span><span style=\"color: #ff4689; text-decoration-color: #ff4689; background-color: #272822\">=</span><span style=\"color: #f8f8f2; text-decoration-color: #f8f8f2; background-color: #272822\"> match</span><span style=\"color: #ff4689; text-decoration-color: #ff4689; background-color: #272822\">.</span><span style=\"color: #f8f8f2; text-decoration-color: #f8f8f2; background-color: #272822\">group(</span><span style=\"color: #ae81ff; text-decoration-color: #ae81ff; background-color: #272822\">2</span><span style=\"color: #f8f8f2; text-decoration-color: #f8f8f2; background-color: #272822\">)</span><span style=\"background-color: #272822\">                                                                           </span>  \n",
       "  <span style=\"color: #f8f8f2; text-decoration-color: #f8f8f2; background-color: #272822\">        type_dish </span><span style=\"color: #ff4689; text-decoration-color: #ff4689; background-color: #272822\">=</span><span style=\"color: #f8f8f2; text-decoration-color: #f8f8f2; background-color: #272822\"> match</span><span style=\"color: #ff4689; text-decoration-color: #ff4689; background-color: #272822\">.</span><span style=\"color: #f8f8f2; text-decoration-color: #f8f8f2; background-color: #272822\">group(</span><span style=\"color: #ae81ff; text-decoration-color: #ae81ff; background-color: #272822\">3</span><span style=\"color: #f8f8f2; text-decoration-color: #f8f8f2; background-color: #272822\">)</span><span style=\"background-color: #272822\">                                                                             </span>  \n",
       "  <span style=\"color: #f8f8f2; text-decoration-color: #f8f8f2; background-color: #272822\">        price </span><span style=\"color: #ff4689; text-decoration-color: #ff4689; background-color: #272822\">=</span><span style=\"color: #f8f8f2; text-decoration-color: #f8f8f2; background-color: #272822\"> int(match</span><span style=\"color: #ff4689; text-decoration-color: #ff4689; background-color: #272822\">.</span><span style=\"color: #f8f8f2; text-decoration-color: #f8f8f2; background-color: #272822\">group(</span><span style=\"color: #ae81ff; text-decoration-color: #ae81ff; background-color: #272822\">4</span><span style=\"color: #f8f8f2; text-decoration-color: #f8f8f2; background-color: #272822\">))</span><span style=\"background-color: #272822\">                                                                            </span>  \n",
       "  <span style=\"color: #f8f8f2; text-decoration-color: #f8f8f2; background-color: #272822\">        dishes</span><span style=\"color: #ff4689; text-decoration-color: #ff4689; background-color: #272822\">.</span><span style=\"color: #f8f8f2; text-decoration-color: #f8f8f2; background-color: #272822\">append({</span><span style=\"color: #e6db74; text-decoration-color: #e6db74; background-color: #272822\">'name'</span><span style=\"color: #f8f8f2; text-decoration-color: #f8f8f2; background-color: #272822\">: name, </span><span style=\"color: #e6db74; text-decoration-color: #e6db74; background-color: #272822\">'description'</span><span style=\"color: #f8f8f2; text-decoration-color: #f8f8f2; background-color: #272822\">: description, </span><span style=\"color: #e6db74; text-decoration-color: #e6db74; background-color: #272822\">'type'</span><span style=\"color: #f8f8f2; text-decoration-color: #f8f8f2; background-color: #272822\">: type_dish, </span><span style=\"color: #e6db74; text-decoration-color: #e6db74; background-color: #272822\">'price'</span><span style=\"color: #f8f8f2; text-decoration-color: #f8f8f2; background-color: #272822\">: price})</span><span style=\"background-color: #272822\">           </span>  \n",
       "  <span style=\"background-color: #272822\">                                                                                                               </span>  \n",
       "  <span style=\"color: #959077; text-decoration-color: #959077; background-color: #272822\"># Найти блюдо с максимальной ценой</span><span style=\"background-color: #272822\">                                                                             </span>  \n",
       "  <span style=\"color: #f8f8f2; text-decoration-color: #f8f8f2; background-color: #272822\">most_expensive_dish </span><span style=\"color: #ff4689; text-decoration-color: #ff4689; background-color: #272822\">=</span><span style=\"color: #f8f8f2; text-decoration-color: #f8f8f2; background-color: #272822\"> max(dishes, key</span><span style=\"color: #ff4689; text-decoration-color: #ff4689; background-color: #272822\">=</span><span style=\"color: #66d9ef; text-decoration-color: #66d9ef; background-color: #272822\">lambda</span><span style=\"color: #f8f8f2; text-decoration-color: #f8f8f2; background-color: #272822\"> x: x[</span><span style=\"color: #e6db74; text-decoration-color: #e6db74; background-color: #272822\">'price'</span><span style=\"color: #f8f8f2; text-decoration-color: #f8f8f2; background-color: #272822\">])</span><span style=\"background-color: #272822\">                                                    </span>  \n",
       "  <span style=\"color: #f8f8f2; text-decoration-color: #f8f8f2; background-color: #272822\">print(most_expensive_dish)</span><span style=\"background-color: #272822\">                                                                                     </span>  \n",
       " ───────────────────────────────────────────────────────────────────────────────────────────────────────────────── \n",
       "</pre>\n"
      ],
      "text/plain": [
       " ─ \u001b[1mExecuting parsed code:\u001b[0m ──────────────────────────────────────────────────────────────────────────────────────── \n",
       "  \u001b[38;2;255;70;137;48;2;39;40;34mimport\u001b[0m\u001b[38;2;248;248;242;48;2;39;40;34m \u001b[0m\u001b[38;2;248;248;242;48;2;39;40;34mre\u001b[0m\u001b[48;2;39;40;34m                                                                                                      \u001b[0m  \n",
       "  \u001b[48;2;39;40;34m                                                                                                               \u001b[0m  \n",
       "  \u001b[38;2;149;144;119;48;2;39;40;34m# Разделить меню по строкам\u001b[0m\u001b[48;2;39;40;34m                                                                                    \u001b[0m  \n",
       "  \u001b[38;2;248;248;242;48;2;39;40;34mlines\u001b[0m\u001b[38;2;248;248;242;48;2;39;40;34m \u001b[0m\u001b[38;2;255;70;137;48;2;39;40;34m=\u001b[0m\u001b[38;2;248;248;242;48;2;39;40;34m \u001b[0m\u001b[38;2;248;248;242;48;2;39;40;34mmenu\u001b[0m\u001b[38;2;255;70;137;48;2;39;40;34m.\u001b[0m\u001b[38;2;248;248;242;48;2;39;40;34msplit\u001b[0m\u001b[38;2;248;248;242;48;2;39;40;34m(\u001b[0m\u001b[38;2;230;219;116;48;2;39;40;34m'\u001b[0m\u001b[38;2;174;129;255;48;2;39;40;34m\\n\u001b[0m\u001b[38;2;230;219;116;48;2;39;40;34m'\u001b[0m\u001b[38;2;248;248;242;48;2;39;40;34m)\u001b[0m\u001b[48;2;39;40;34m                                                                                       \u001b[0m  \n",
       "  \u001b[48;2;39;40;34m                                                                                                               \u001b[0m  \n",
       "  \u001b[38;2;149;144;119;48;2;39;40;34m# Игнорировать первую строку (заголовки столбцов) и последнюю пустую строку\u001b[0m\u001b[48;2;39;40;34m                                    \u001b[0m  \n",
       "  \u001b[38;2;248;248;242;48;2;39;40;34mdata_lines\u001b[0m\u001b[38;2;248;248;242;48;2;39;40;34m \u001b[0m\u001b[38;2;255;70;137;48;2;39;40;34m=\u001b[0m\u001b[38;2;248;248;242;48;2;39;40;34m \u001b[0m\u001b[38;2;248;248;242;48;2;39;40;34mlines\u001b[0m\u001b[38;2;248;248;242;48;2;39;40;34m[\u001b[0m\u001b[38;2;174;129;255;48;2;39;40;34m1\u001b[0m\u001b[38;2;248;248;242;48;2;39;40;34m:\u001b[0m\u001b[38;2;255;70;137;48;2;39;40;34m-\u001b[0m\u001b[38;2;174;129;255;48;2;39;40;34m1\u001b[0m\u001b[38;2;248;248;242;48;2;39;40;34m]\u001b[0m\u001b[48;2;39;40;34m                                                                                       \u001b[0m  \n",
       "  \u001b[48;2;39;40;34m                                                                                                               \u001b[0m  \n",
       "  \u001b[38;2;149;144;119;48;2;39;40;34m# Регулярное выражение для извлечения данных из строки\u001b[0m\u001b[48;2;39;40;34m                                                         \u001b[0m  \n",
       "  \u001b[38;2;248;248;242;48;2;39;40;34mpattern\u001b[0m\u001b[38;2;248;248;242;48;2;39;40;34m \u001b[0m\u001b[38;2;255;70;137;48;2;39;40;34m=\u001b[0m\u001b[38;2;248;248;242;48;2;39;40;34m \u001b[0m\u001b[38;2;230;219;116;48;2;39;40;34mr\u001b[0m\u001b[38;2;230;219;116;48;2;39;40;34m'\u001b[0m\u001b[38;2;230;219;116;48;2;39;40;34m\\\u001b[0m\u001b[38;2;230;219;116;48;2;39;40;34m|\u001b[0m\u001b[38;2;230;219;116;48;2;39;40;34m\\\u001b[0m\u001b[38;2;230;219;116;48;2;39;40;34ms*(.*?)\u001b[0m\u001b[38;2;230;219;116;48;2;39;40;34m\\\u001b[0m\u001b[38;2;230;219;116;48;2;39;40;34ms*\u001b[0m\u001b[38;2;230;219;116;48;2;39;40;34m\\\u001b[0m\u001b[38;2;230;219;116;48;2;39;40;34m|\u001b[0m\u001b[38;2;230;219;116;48;2;39;40;34m\\\u001b[0m\u001b[38;2;230;219;116;48;2;39;40;34ms*(.*?)\u001b[0m\u001b[38;2;230;219;116;48;2;39;40;34m\\\u001b[0m\u001b[38;2;230;219;116;48;2;39;40;34ms*\u001b[0m\u001b[38;2;230;219;116;48;2;39;40;34m\\\u001b[0m\u001b[38;2;230;219;116;48;2;39;40;34m|\u001b[0m\u001b[38;2;230;219;116;48;2;39;40;34m\\\u001b[0m\u001b[38;2;230;219;116;48;2;39;40;34ms*(.*?)\u001b[0m\u001b[38;2;230;219;116;48;2;39;40;34m\\\u001b[0m\u001b[38;2;230;219;116;48;2;39;40;34ms*\u001b[0m\u001b[38;2;230;219;116;48;2;39;40;34m\\\u001b[0m\u001b[38;2;230;219;116;48;2;39;40;34m|\u001b[0m\u001b[38;2;230;219;116;48;2;39;40;34m\\\u001b[0m\u001b[38;2;230;219;116;48;2;39;40;34ms*(\u001b[0m\u001b[38;2;230;219;116;48;2;39;40;34m\\\u001b[0m\u001b[38;2;230;219;116;48;2;39;40;34md+)\u001b[0m\u001b[38;2;230;219;116;48;2;39;40;34m\\\u001b[0m\u001b[38;2;230;219;116;48;2;39;40;34ms*\u001b[0m\u001b[38;2;230;219;116;48;2;39;40;34m\\\u001b[0m\u001b[38;2;230;219;116;48;2;39;40;34m|\u001b[0m\u001b[38;2;230;219;116;48;2;39;40;34m'\u001b[0m\u001b[48;2;39;40;34m                                            \u001b[0m  \n",
       "  \u001b[48;2;39;40;34m                                                                                                               \u001b[0m  \n",
       "  \u001b[38;2;248;248;242;48;2;39;40;34mdishes\u001b[0m\u001b[38;2;248;248;242;48;2;39;40;34m \u001b[0m\u001b[38;2;255;70;137;48;2;39;40;34m=\u001b[0m\u001b[38;2;248;248;242;48;2;39;40;34m \u001b[0m\u001b[38;2;248;248;242;48;2;39;40;34m[\u001b[0m\u001b[38;2;248;248;242;48;2;39;40;34m]\u001b[0m\u001b[48;2;39;40;34m                                                                                                    \u001b[0m  \n",
       "  \u001b[38;2;102;217;239;48;2;39;40;34mfor\u001b[0m\u001b[38;2;248;248;242;48;2;39;40;34m \u001b[0m\u001b[38;2;248;248;242;48;2;39;40;34mline\u001b[0m\u001b[38;2;248;248;242;48;2;39;40;34m \u001b[0m\u001b[38;2;255;70;137;48;2;39;40;34min\u001b[0m\u001b[38;2;248;248;242;48;2;39;40;34m \u001b[0m\u001b[38;2;248;248;242;48;2;39;40;34mdata_lines\u001b[0m\u001b[38;2;248;248;242;48;2;39;40;34m:\u001b[0m\u001b[48;2;39;40;34m                                                                                        \u001b[0m  \n",
       "  \u001b[38;2;248;248;242;48;2;39;40;34m    \u001b[0m\u001b[38;2;248;248;242;48;2;39;40;34mmatch\u001b[0m\u001b[38;2;248;248;242;48;2;39;40;34m \u001b[0m\u001b[38;2;255;70;137;48;2;39;40;34m=\u001b[0m\u001b[38;2;248;248;242;48;2;39;40;34m \u001b[0m\u001b[38;2;248;248;242;48;2;39;40;34mre\u001b[0m\u001b[38;2;255;70;137;48;2;39;40;34m.\u001b[0m\u001b[38;2;248;248;242;48;2;39;40;34mmatch\u001b[0m\u001b[38;2;248;248;242;48;2;39;40;34m(\u001b[0m\u001b[38;2;248;248;242;48;2;39;40;34mpattern\u001b[0m\u001b[38;2;248;248;242;48;2;39;40;34m,\u001b[0m\u001b[38;2;248;248;242;48;2;39;40;34m \u001b[0m\u001b[38;2;248;248;242;48;2;39;40;34mline\u001b[0m\u001b[38;2;248;248;242;48;2;39;40;34m)\u001b[0m\u001b[48;2;39;40;34m                                                                            \u001b[0m  \n",
       "  \u001b[38;2;248;248;242;48;2;39;40;34m    \u001b[0m\u001b[38;2;102;217;239;48;2;39;40;34mif\u001b[0m\u001b[38;2;248;248;242;48;2;39;40;34m \u001b[0m\u001b[38;2;248;248;242;48;2;39;40;34mmatch\u001b[0m\u001b[38;2;248;248;242;48;2;39;40;34m:\u001b[0m\u001b[48;2;39;40;34m                                                                                                  \u001b[0m  \n",
       "  \u001b[38;2;248;248;242;48;2;39;40;34m        \u001b[0m\u001b[38;2;248;248;242;48;2;39;40;34mname\u001b[0m\u001b[38;2;248;248;242;48;2;39;40;34m \u001b[0m\u001b[38;2;255;70;137;48;2;39;40;34m=\u001b[0m\u001b[38;2;248;248;242;48;2;39;40;34m \u001b[0m\u001b[38;2;248;248;242;48;2;39;40;34mmatch\u001b[0m\u001b[38;2;255;70;137;48;2;39;40;34m.\u001b[0m\u001b[38;2;248;248;242;48;2;39;40;34mgroup\u001b[0m\u001b[38;2;248;248;242;48;2;39;40;34m(\u001b[0m\u001b[38;2;174;129;255;48;2;39;40;34m1\u001b[0m\u001b[38;2;248;248;242;48;2;39;40;34m)\u001b[0m\u001b[48;2;39;40;34m                                                                                  \u001b[0m  \n",
       "  \u001b[38;2;248;248;242;48;2;39;40;34m        \u001b[0m\u001b[38;2;248;248;242;48;2;39;40;34mdescription\u001b[0m\u001b[38;2;248;248;242;48;2;39;40;34m \u001b[0m\u001b[38;2;255;70;137;48;2;39;40;34m=\u001b[0m\u001b[38;2;248;248;242;48;2;39;40;34m \u001b[0m\u001b[38;2;248;248;242;48;2;39;40;34mmatch\u001b[0m\u001b[38;2;255;70;137;48;2;39;40;34m.\u001b[0m\u001b[38;2;248;248;242;48;2;39;40;34mgroup\u001b[0m\u001b[38;2;248;248;242;48;2;39;40;34m(\u001b[0m\u001b[38;2;174;129;255;48;2;39;40;34m2\u001b[0m\u001b[38;2;248;248;242;48;2;39;40;34m)\u001b[0m\u001b[48;2;39;40;34m                                                                           \u001b[0m  \n",
       "  \u001b[38;2;248;248;242;48;2;39;40;34m        \u001b[0m\u001b[38;2;248;248;242;48;2;39;40;34mtype_dish\u001b[0m\u001b[38;2;248;248;242;48;2;39;40;34m \u001b[0m\u001b[38;2;255;70;137;48;2;39;40;34m=\u001b[0m\u001b[38;2;248;248;242;48;2;39;40;34m \u001b[0m\u001b[38;2;248;248;242;48;2;39;40;34mmatch\u001b[0m\u001b[38;2;255;70;137;48;2;39;40;34m.\u001b[0m\u001b[38;2;248;248;242;48;2;39;40;34mgroup\u001b[0m\u001b[38;2;248;248;242;48;2;39;40;34m(\u001b[0m\u001b[38;2;174;129;255;48;2;39;40;34m3\u001b[0m\u001b[38;2;248;248;242;48;2;39;40;34m)\u001b[0m\u001b[48;2;39;40;34m                                                                             \u001b[0m  \n",
       "  \u001b[38;2;248;248;242;48;2;39;40;34m        \u001b[0m\u001b[38;2;248;248;242;48;2;39;40;34mprice\u001b[0m\u001b[38;2;248;248;242;48;2;39;40;34m \u001b[0m\u001b[38;2;255;70;137;48;2;39;40;34m=\u001b[0m\u001b[38;2;248;248;242;48;2;39;40;34m \u001b[0m\u001b[38;2;248;248;242;48;2;39;40;34mint\u001b[0m\u001b[38;2;248;248;242;48;2;39;40;34m(\u001b[0m\u001b[38;2;248;248;242;48;2;39;40;34mmatch\u001b[0m\u001b[38;2;255;70;137;48;2;39;40;34m.\u001b[0m\u001b[38;2;248;248;242;48;2;39;40;34mgroup\u001b[0m\u001b[38;2;248;248;242;48;2;39;40;34m(\u001b[0m\u001b[38;2;174;129;255;48;2;39;40;34m4\u001b[0m\u001b[38;2;248;248;242;48;2;39;40;34m)\u001b[0m\u001b[38;2;248;248;242;48;2;39;40;34m)\u001b[0m\u001b[48;2;39;40;34m                                                                            \u001b[0m  \n",
       "  \u001b[38;2;248;248;242;48;2;39;40;34m        \u001b[0m\u001b[38;2;248;248;242;48;2;39;40;34mdishes\u001b[0m\u001b[38;2;255;70;137;48;2;39;40;34m.\u001b[0m\u001b[38;2;248;248;242;48;2;39;40;34mappend\u001b[0m\u001b[38;2;248;248;242;48;2;39;40;34m(\u001b[0m\u001b[38;2;248;248;242;48;2;39;40;34m{\u001b[0m\u001b[38;2;230;219;116;48;2;39;40;34m'\u001b[0m\u001b[38;2;230;219;116;48;2;39;40;34mname\u001b[0m\u001b[38;2;230;219;116;48;2;39;40;34m'\u001b[0m\u001b[38;2;248;248;242;48;2;39;40;34m:\u001b[0m\u001b[38;2;248;248;242;48;2;39;40;34m \u001b[0m\u001b[38;2;248;248;242;48;2;39;40;34mname\u001b[0m\u001b[38;2;248;248;242;48;2;39;40;34m,\u001b[0m\u001b[38;2;248;248;242;48;2;39;40;34m \u001b[0m\u001b[38;2;230;219;116;48;2;39;40;34m'\u001b[0m\u001b[38;2;230;219;116;48;2;39;40;34mdescription\u001b[0m\u001b[38;2;230;219;116;48;2;39;40;34m'\u001b[0m\u001b[38;2;248;248;242;48;2;39;40;34m:\u001b[0m\u001b[38;2;248;248;242;48;2;39;40;34m \u001b[0m\u001b[38;2;248;248;242;48;2;39;40;34mdescription\u001b[0m\u001b[38;2;248;248;242;48;2;39;40;34m,\u001b[0m\u001b[38;2;248;248;242;48;2;39;40;34m \u001b[0m\u001b[38;2;230;219;116;48;2;39;40;34m'\u001b[0m\u001b[38;2;230;219;116;48;2;39;40;34mtype\u001b[0m\u001b[38;2;230;219;116;48;2;39;40;34m'\u001b[0m\u001b[38;2;248;248;242;48;2;39;40;34m:\u001b[0m\u001b[38;2;248;248;242;48;2;39;40;34m \u001b[0m\u001b[38;2;248;248;242;48;2;39;40;34mtype_dish\u001b[0m\u001b[38;2;248;248;242;48;2;39;40;34m,\u001b[0m\u001b[38;2;248;248;242;48;2;39;40;34m \u001b[0m\u001b[38;2;230;219;116;48;2;39;40;34m'\u001b[0m\u001b[38;2;230;219;116;48;2;39;40;34mprice\u001b[0m\u001b[38;2;230;219;116;48;2;39;40;34m'\u001b[0m\u001b[38;2;248;248;242;48;2;39;40;34m:\u001b[0m\u001b[38;2;248;248;242;48;2;39;40;34m \u001b[0m\u001b[38;2;248;248;242;48;2;39;40;34mprice\u001b[0m\u001b[38;2;248;248;242;48;2;39;40;34m}\u001b[0m\u001b[38;2;248;248;242;48;2;39;40;34m)\u001b[0m\u001b[48;2;39;40;34m           \u001b[0m  \n",
       "  \u001b[48;2;39;40;34m                                                                                                               \u001b[0m  \n",
       "  \u001b[38;2;149;144;119;48;2;39;40;34m# Найти блюдо с максимальной ценой\u001b[0m\u001b[48;2;39;40;34m                                                                             \u001b[0m  \n",
       "  \u001b[38;2;248;248;242;48;2;39;40;34mmost_expensive_dish\u001b[0m\u001b[38;2;248;248;242;48;2;39;40;34m \u001b[0m\u001b[38;2;255;70;137;48;2;39;40;34m=\u001b[0m\u001b[38;2;248;248;242;48;2;39;40;34m \u001b[0m\u001b[38;2;248;248;242;48;2;39;40;34mmax\u001b[0m\u001b[38;2;248;248;242;48;2;39;40;34m(\u001b[0m\u001b[38;2;248;248;242;48;2;39;40;34mdishes\u001b[0m\u001b[38;2;248;248;242;48;2;39;40;34m,\u001b[0m\u001b[38;2;248;248;242;48;2;39;40;34m \u001b[0m\u001b[38;2;248;248;242;48;2;39;40;34mkey\u001b[0m\u001b[38;2;255;70;137;48;2;39;40;34m=\u001b[0m\u001b[38;2;102;217;239;48;2;39;40;34mlambda\u001b[0m\u001b[38;2;248;248;242;48;2;39;40;34m \u001b[0m\u001b[38;2;248;248;242;48;2;39;40;34mx\u001b[0m\u001b[38;2;248;248;242;48;2;39;40;34m:\u001b[0m\u001b[38;2;248;248;242;48;2;39;40;34m \u001b[0m\u001b[38;2;248;248;242;48;2;39;40;34mx\u001b[0m\u001b[38;2;248;248;242;48;2;39;40;34m[\u001b[0m\u001b[38;2;230;219;116;48;2;39;40;34m'\u001b[0m\u001b[38;2;230;219;116;48;2;39;40;34mprice\u001b[0m\u001b[38;2;230;219;116;48;2;39;40;34m'\u001b[0m\u001b[38;2;248;248;242;48;2;39;40;34m]\u001b[0m\u001b[38;2;248;248;242;48;2;39;40;34m)\u001b[0m\u001b[48;2;39;40;34m                                                    \u001b[0m  \n",
       "  \u001b[38;2;248;248;242;48;2;39;40;34mprint\u001b[0m\u001b[38;2;248;248;242;48;2;39;40;34m(\u001b[0m\u001b[38;2;248;248;242;48;2;39;40;34mmost_expensive_dish\u001b[0m\u001b[38;2;248;248;242;48;2;39;40;34m)\u001b[0m\u001b[48;2;39;40;34m                                                                                     \u001b[0m  \n",
       " ───────────────────────────────────────────────────────────────────────────────────────────────────────────────── \n"
      ]
     },
     "metadata": {},
     "output_type": "display_data"
    },
    {
     "data": {
      "text/html": [
       "<pre style=\"white-space:pre;overflow-x:auto;line-height:normal;font-family:Menlo,'DejaVu Sans Mono',consolas,'Courier New',monospace\"><span style=\"font-weight: bold\">Execution logs:</span>\n",
       "{'name': 'Стейк \"Бык на взводе\"', 'description': 'Сочный рибай с розовым сердцем, томлёный в дыме аргентинских \n",
       "страстей. Подаётся с золотой солью Гималаев.', 'type': 'Стейк', 'price': 2500}\n",
       "\n",
       "Out: None\n",
       "</pre>\n"
      ],
      "text/plain": [
       "\u001b[1mExecution logs:\u001b[0m\n",
       "{'name': 'Стейк \"Бык на взводе\"', 'description': 'Сочный рибай с розовым сердцем, томлёный в дыме аргентинских \n",
       "страстей. Подаётся с золотой солью Гималаев.', 'type': 'Стейк', 'price': 2500}\n",
       "\n",
       "Out: None\n"
      ]
     },
     "metadata": {},
     "output_type": "display_data"
    },
    {
     "data": {
      "text/html": [
       "<pre style=\"white-space:pre;overflow-x:auto;line-height:normal;font-family:Menlo,'DejaVu Sans Mono',consolas,'Courier New',monospace\"><span style=\"color: #7f7f7f; text-decoration-color: #7f7f7f\">[Step 2: Duration 5.16 seconds| Input tokens: 5,348 | Output tokens: 360]</span>\n",
       "</pre>\n"
      ],
      "text/plain": [
       "\u001b[2m[Step 2: Duration 5.16 seconds| Input tokens: 5,348 | Output tokens: 360]\u001b[0m\n"
      ]
     },
     "metadata": {},
     "output_type": "display_data"
    },
    {
     "data": {
      "text/html": [
       "<pre style=\"white-space:pre;overflow-x:auto;line-height:normal;font-family:Menlo,'DejaVu Sans Mono',consolas,'Courier New',monospace\"><span style=\"color: #d4b702; text-decoration-color: #d4b702\">━━━━━━━━━━━━━━━━━━━━━━━━━━━━━━━━━━━━━━━━━━━━━━━━━━━━━ </span><span style=\"font-weight: bold\">Step </span><span style=\"color: #008080; text-decoration-color: #008080; font-weight: bold\">3</span><span style=\"color: #d4b702; text-decoration-color: #d4b702\"> ━━━━━━━━━━━━━━━━━━━━━━━━━━━━━━━━━━━━━━━━━━━━━━━━━━━━━━</span>\n",
       "</pre>\n"
      ],
      "text/plain": [
       "\u001b[38;2;212;183;2m━━━━━━━━━━━━━━━━━━━━━━━━━━━━━━━━━━━━━━━━━━━━━━━━━━━━━ \u001b[0m\u001b[1mStep \u001b[0m\u001b[1;36m3\u001b[0m\u001b[38;2;212;183;2m ━━━━━━━━━━━━━━━━━━━━━━━━━━━━━━━━━━━━━━━━━━━━━━━━━━━━━━\u001b[0m\n"
      ]
     },
     "metadata": {},
     "output_type": "display_data"
    },
    {
     "data": {
      "text/html": [
       "<pre style=\"white-space:pre;overflow-x:auto;line-height:normal;font-family:Menlo,'DejaVu Sans Mono',consolas,'Courier New',monospace\"> ─ <span style=\"font-weight: bold\">Executing parsed code:</span> ──────────────────────────────────────────────────────────────────────────────────────── \n",
       "  <span style=\"color: #f8f8f2; text-decoration-color: #f8f8f2; background-color: #272822\">final_answer(most_expensive_dish)</span><span style=\"background-color: #272822\">                                                                              </span>  \n",
       " ───────────────────────────────────────────────────────────────────────────────────────────────────────────────── \n",
       "</pre>\n"
      ],
      "text/plain": [
       " ─ \u001b[1mExecuting parsed code:\u001b[0m ──────────────────────────────────────────────────────────────────────────────────────── \n",
       "  \u001b[38;2;248;248;242;48;2;39;40;34mfinal_answer\u001b[0m\u001b[38;2;248;248;242;48;2;39;40;34m(\u001b[0m\u001b[38;2;248;248;242;48;2;39;40;34mmost_expensive_dish\u001b[0m\u001b[38;2;248;248;242;48;2;39;40;34m)\u001b[0m\u001b[48;2;39;40;34m                                                                              \u001b[0m  \n",
       " ───────────────────────────────────────────────────────────────────────────────────────────────────────────────── \n"
      ]
     },
     "metadata": {},
     "output_type": "display_data"
    },
    {
     "data": {
      "text/html": [
       "<pre style=\"white-space:pre;overflow-x:auto;line-height:normal;font-family:Menlo,'DejaVu Sans Mono',consolas,'Courier New',monospace\"><span style=\"color: #d4b702; text-decoration-color: #d4b702; font-weight: bold\">Out - Final answer: {'name': 'Стейк \"Бык на взводе\"', 'description': 'Сочный рибай с розовым сердцем, томлёный в </span>\n",
       "<span style=\"color: #d4b702; text-decoration-color: #d4b702; font-weight: bold\">дыме аргентинских страстей. Подаётся с золотой солью Гималаев.', 'type': 'Стейк', 'price': 2500}</span>\n",
       "</pre>\n"
      ],
      "text/plain": [
       "\u001b[1;38;2;212;183;2mOut - Final answer: {'name': 'Стейк \"Бык на взводе\"', 'description': 'Сочный рибай с розовым сердцем, томлёный в \u001b[0m\n",
       "\u001b[1;38;2;212;183;2mдыме аргентинских страстей. Подаётся с золотой солью Гималаев.', 'type': 'Стейк', 'price': 2500}\u001b[0m\n"
      ]
     },
     "metadata": {},
     "output_type": "display_data"
    },
    {
     "data": {
      "text/html": [
       "<pre style=\"white-space:pre;overflow-x:auto;line-height:normal;font-family:Menlo,'DejaVu Sans Mono',consolas,'Courier New',monospace\"><span style=\"color: #7f7f7f; text-decoration-color: #7f7f7f\">[Step 3: Duration 1.03 seconds| Input tokens: 9,100 | Output tokens: 403]</span>\n",
       "</pre>\n"
      ],
      "text/plain": [
       "\u001b[2m[Step 3: Duration 1.03 seconds| Input tokens: 9,100 | Output tokens: 403]\u001b[0m\n"
      ]
     },
     "metadata": {},
     "output_type": "display_data"
    }
   ],
   "source": [
    "import yaml\n",
    "from smolagents.mcp_client import MCPClient\n",
    "\n",
    "with MCPClient({\"url\" : \"http://127.0.0.1:8000/sse\"}) as tools:\n",
    "    agent = CodeAgent(tools=tools, model=ygpt_model)\n",
    "    agent.prompt_templates = yaml.load(open('etc/smolagents_code_agent_russian_prompts.yaml'), Loader=yaml.FullLoader)\n",
    "    agent.run(\"Какое самое дорогое блюдо в ресторане?\")"
   ]
  },
  {
   "cell_type": "markdown",
   "id": "a0e2eeb9",
   "metadata": {},
   "source": [
    "## Подбор меню для ужина\n",
    "\n",
    "Теперь попробуем решить более сложную задачу - подобрать меню для ужина таким образом, чтобы вино и основное блюдо хорошо сочетались. Для этого будем использовать [табличку соответствий еды и вина](data/food_wine_table.md):"
   ]
  },
  {
   "cell_type": "code",
   "execution_count": 19,
   "id": "864a288c",
   "metadata": {},
   "outputs": [
    {
     "data": {
      "text/html": [
       "<div>\n",
       "<style scoped>\n",
       "    .dataframe tbody tr th:only-of-type {\n",
       "        vertical-align: middle;\n",
       "    }\n",
       "\n",
       "    .dataframe tbody tr th {\n",
       "        vertical-align: top;\n",
       "    }\n",
       "\n",
       "    .dataframe thead th {\n",
       "        text-align: right;\n",
       "    }\n",
       "</style>\n",
       "<table border=\"1\" class=\"dataframe\">\n",
       "  <thead>\n",
       "    <tr style=\"text-align: right;\">\n",
       "      <th></th>\n",
       "      <th>food</th>\n",
       "      <th>wine</th>\n",
       "    </tr>\n",
       "  </thead>\n",
       "  <tbody>\n",
       "    <tr>\n",
       "      <th>0</th>\n",
       "      <td>Баклажаны, запеченые с сыром</td>\n",
       "      <td>Красное вино: «среднетелые»* сухие — Гренаш (Г...</td>\n",
       "    </tr>\n",
       "    <tr>\n",
       "      <th>1</th>\n",
       "      <td>Баранина деликатесная (филе или каре ягненка)</td>\n",
       "      <td>Красное вино: сухие выдержанные вина из виногр...</td>\n",
       "    </tr>\n",
       "    <tr>\n",
       "      <th>2</th>\n",
       "      <td>Баранина пикантная: жареная, гриль, тушеная — ...</td>\n",
       "      <td>Красные вина: сухие вина из винограда Каберне ...</td>\n",
       "    </tr>\n",
       "    <tr>\n",
       "      <th>3</th>\n",
       "      <td>Бефстроганов</td>\n",
       "      <td>Белые вина: выдержанные в дубе Шардоне, Пино Г...</td>\n",
       "    </tr>\n",
       "    <tr>\n",
       "      <th>4</th>\n",
       "      <td>Блинчики с мясом говядина</td>\n",
       "      <td>Крепкие напитки: Водка, Полугар, Хреновуха.  Т...</td>\n",
       "    </tr>\n",
       "    <tr>\n",
       "      <th>...</th>\n",
       "      <td>...</td>\n",
       "      <td>...</td>\n",
       "    </tr>\n",
       "    <tr>\n",
       "      <th>155</th>\n",
       "      <td>Шашлык из свинины, пикантный — в уксусно-луков...</td>\n",
       "      <td>Красные вина: тихие сухие и полусухие вина из ...</td>\n",
       "    </tr>\n",
       "    <tr>\n",
       "      <th>156</th>\n",
       "      <td>Шоколад</td>\n",
       "      <td>Чай: черный, травяной, ягодно-фруктовый. Не об...</td>\n",
       "    </tr>\n",
       "    <tr>\n",
       "      <th>157</th>\n",
       "      <td>Эклер классический</td>\n",
       "      <td>Белые вина: более сладкое, чем торт выдержанно...</td>\n",
       "    </tr>\n",
       "    <tr>\n",
       "      <th>158</th>\n",
       "      <td>Яичница — глазунья</td>\n",
       "      <td>Белые вина: сухие легкие вина с невысокой кисл...</td>\n",
       "    </tr>\n",
       "    <tr>\n",
       "      <th>159</th>\n",
       "      <td>Язык говяжий (закуска, с хреном)</td>\n",
       "      <td>Крепкие напитки: Самогоны (Полугар, Хлебное ви...</td>\n",
       "    </tr>\n",
       "  </tbody>\n",
       "</table>\n",
       "<p>160 rows × 2 columns</p>\n",
       "</div>"
      ],
      "text/plain": [
       "                                                  food  \\\n",
       "0                         Баклажаны, запеченые с сыром   \n",
       "1        Баранина деликатесная (филе или каре ягненка)   \n",
       "2    Баранина пикантная: жареная, гриль, тушеная — ...   \n",
       "3                                         Бефстроганов   \n",
       "4                            Блинчики с мясом говядина   \n",
       "..                                                 ...   \n",
       "155  Шашлык из свинины, пикантный — в уксусно-луков...   \n",
       "156                                            Шоколад   \n",
       "157                                 Эклер классический   \n",
       "158                                 Яичница — глазунья   \n",
       "159                   Язык говяжий (закуска, с хреном)   \n",
       "\n",
       "                                                  wine  \n",
       "0    Красное вино: «среднетелые»* сухие — Гренаш (Г...  \n",
       "1    Красное вино: сухие выдержанные вина из виногр...  \n",
       "2    Красные вина: сухие вина из винограда Каберне ...  \n",
       "3    Белые вина: выдержанные в дубе Шардоне, Пино Г...  \n",
       "4    Крепкие напитки: Водка, Полугар, Хреновуха.  Т...  \n",
       "..                                                 ...  \n",
       "155  Красные вина: тихие сухие и полусухие вина из ...  \n",
       "156  Чай: черный, травяной, ягодно-фруктовый. Не об...  \n",
       "157  Белые вина: более сладкое, чем торт выдержанно...  \n",
       "158  Белые вина: сухие легкие вина с невысокой кисл...  \n",
       "159  Крепкие напитки: Самогоны (Полугар, Хлебное ви...  \n",
       "\n",
       "[160 rows x 2 columns]"
      ]
     },
     "execution_count": 19,
     "metadata": {},
     "output_type": "execute_result"
    }
   ],
   "source": [
    "import pandas as pd\n",
    "import re \n",
    "\n",
    "foodmatch = [ x.strip() for x in open(\"data/food_wine_table.md\", encoding=\"utf8\").readlines()[2:-1]]\n",
    "foodmatch = [ { \"food\" : x.split('|')[0].strip(), \"wine\" : x.split('|')[1].strip()} for x in foodmatch]\n",
    "df = pd.DataFrame(foodmatch)\n",
    "df"
   ]
  },
  {
   "cell_type": "markdown",
   "id": "f015783e",
   "metadata": {},
   "source": [
    "Чтобы научить нашего агента искать соответствия еды и вина, нам нужно дать ему соответствующие инструменты. А для этого реализовать какой-то вид поиска поверх нашей таблички.\n",
    "\n",
    "Будем использовать семантический поиск через YandexGPT Embeddings:"
   ]
  },
  {
   "cell_type": "code",
   "execution_count": 20,
   "id": "53f3d8c9",
   "metadata": {},
   "outputs": [],
   "source": [
    "from yandex_cloud_ml_sdk import YCloudML\n",
    "\n",
    "sdk = YCloudML(folder_id=os.environ['folder_id'], auth=os.environ['api_key'])\n",
    "query_model = sdk.models.text_embeddings('query')\n",
    "doc_model = sdk.models.text_embeddings('doc')"
   ]
  },
  {
   "cell_type": "markdown",
   "id": "ef435a95",
   "metadata": {},
   "source": [
    "Посчитаем эмбеддинги для всех блюд и вин в табличке:"
   ]
  },
  {
   "cell_type": "code",
   "execution_count": null,
   "id": "a6d32ae3",
   "metadata": {},
   "outputs": [],
   "source": [
    "df['food_embed'] = df['food'].apply(lambda x : doc_model.run(x))\n",
    "df['wine_embed'] = df['wine'].apply(lambda x : doc_model.run(x))\n",
    "df.to_pickle(\"data/food_wine_table.pkl\")"
   ]
  },
  {
   "cell_type": "code",
   "execution_count": 21,
   "id": "706c8b8d",
   "metadata": {},
   "outputs": [],
   "source": [
    "df = pd.read_pickle(\"data/food_wine_table.pkl\")"
   ]
  },
  {
   "cell_type": "markdown",
   "id": "b1dd21d6",
   "metadata": {},
   "source": [
    "Теперь собственно опишем функцию поиска подходящей еды к вину `find_matching_food`:"
   ]
  },
  {
   "cell_type": "code",
   "execution_count": 22,
   "id": "71e3208d",
   "metadata": {},
   "outputs": [
    {
     "name": "stdout",
     "output_type": "stream",
     "text": [
      "Вот наиболее подходящие блюда:\n",
      "1. Нарезка мясная деликатесная варено-копченая (в т.ч. колбаса)\n",
      "2. Сыры козие молодые\n",
      "3. Рыба белая речная (судак, щука, жерех, толстолобик, карп)\n"
     ]
    }
   ],
   "source": [
    "from scipy.spatial.distance import cdist\n",
    "import numpy as np\n",
    "from smolagents import tool\n",
    "\n",
    "@tool\n",
    "def find_matching_food(wine : str) -> str:\n",
    "    \"\"\"\n",
    "    Найти подходщее блюдо к заданному вину\n",
    "    Args:\n",
    "        wine: Описание вина, под которое надо найти блюдо\n",
    "    \"\"\"\n",
    "    wine_embed = query_model.run(wine)\n",
    "    we = np.array([np.array(x) for x in df['wine_embed']])\n",
    "    dist = cdist([wine_embed], we, metric='cosine')[0]\n",
    "    return \"Вот наиболее подходящие блюда:\\n\" + \"\\n\".join(\n",
    "        [f\"{j+1}. {df.iloc[i]['food']}\" \n",
    "        for j, i in enumerate(dist.argsort()[0:3])])\n",
    "\n",
    "print(find_matching_food(\"Сухое белое\"))\n"
   ]
  },
  {
   "cell_type": "markdown",
   "id": "c7619abc",
   "metadata": {},
   "source": [
    "Аналогичная функция для поиска вина:"
   ]
  },
  {
   "cell_type": "code",
   "execution_count": 23,
   "id": "28c8f2a6",
   "metadata": {},
   "outputs": [
    {
     "name": "stdout",
     "output_type": "stream",
     "text": [
      "Вот наиболее подходящие вина:\n",
      "1. Красные вина: к прожарке Rare — выдержанные и «благородные» вина из Темпранильо (Рибейра дель Дуэро или любые от Ризервы и выше), Санджовезе (Кьянти Ризерва, Брунелло), «супертосканские» вина, Бордо Правого берега, шелковистые аргентинские Мальбеки. К прожарке Medium или WellDone — сухие и полусухие из винограда Сира (Шираз), Каберне Совиньон, «тельный» Мальбек, Примитиво, Зинфандель, Альянико (выдержанное и слегка «округлившееся»), выдержанный «ронский» ассамбляж Гренаш+Сира+Мурведр, вина Приората от 6-8 лет выдержки и выше.\n",
      "2. Красные вина: легкие и элегантные из винограда Пино Нуар, Нерелло Маскалезе, элегантно сделанное и выдержанное Мерло. Также подойдут «округлые», выдержанные варианты из сортов Неббиоло (Барбареско), Темпранильо (Рибейра дель Дуэро), Санджовезе (Кьянти Ризерва).\n",
      "3. Красные вина: сухие вина из винограда Санджовезе (Кьянти) и Неро д’Авола, испанские Темпранильо, «тельные» Мерло, «тельные» Пино Нуары (из Нового Света, Австрии, Германии), вина из Бордо, вина из Роны (Гренаш+Сира+Мурведр), Саперави (как из Грузии, так и из России), Арени (Армения).\n"
     ]
    }
   ],
   "source": [
    "@tool\n",
    "def find_matching_wine(food : str) -> str:\n",
    "    \"\"\"\n",
    "    Найти подходщее вино к заданному блюду\n",
    "    Args:\n",
    "        food: Описание блюда, под которое надо найти вино\n",
    "    \"\"\"\n",
    "    food_embed = query_model.run(food)\n",
    "    fe = np.array([np.array(x) for x in df['food_embed']])\n",
    "    dist = cdist([food_embed], fe, metric='cosine')[0]\n",
    "    return \"Вот наиболее подходящие вина:\\n\" + \"\\n\".join(\n",
    "        [f\"{j+1}. {df.iloc[i]['wine']}\" \n",
    "        for j, i in enumerate(dist.argsort()[0:3])])\n",
    "\n",
    "print(find_matching_wine('Стейк'))"
   ]
  },
  {
   "cell_type": "markdown",
   "id": "f0177e35",
   "metadata": {},
   "source": [
    "Теперь собираем всё это вместе, и создаём агента, которому доступны как инструменты подбора блюд/вин, так и меню ресторана по протоколу MCP."
   ]
  },
  {
   "cell_type": "code",
   "execution_count": 24,
   "id": "3612fbdc",
   "metadata": {},
   "outputs": [
    {
     "data": {
      "text/html": [
       "<pre style=\"white-space:pre;overflow-x:auto;line-height:normal;font-family:Menlo,'DejaVu Sans Mono',consolas,'Courier New',monospace\"><span style=\"color: #d4b702; text-decoration-color: #d4b702\">╭──────────────────────────────────────────────────── </span><span style=\"color: #d4b702; text-decoration-color: #d4b702; font-weight: bold\">New run</span><span style=\"color: #d4b702; text-decoration-color: #d4b702\"> ────────────────────────────────────────────────────╮</span>\n",
       "<span style=\"color: #d4b702; text-decoration-color: #d4b702\">│</span>                                                                                                                 <span style=\"color: #d4b702; text-decoration-color: #d4b702\">│</span>\n",
       "<span style=\"color: #d4b702; text-decoration-color: #d4b702\">│</span> <span style=\"font-weight: bold\">Подбери меню для ужина в ресторане из основного блюда, подходящего вина и десерта, и</span>                            <span style=\"color: #d4b702; text-decoration-color: #d4b702\">│</span>\n",
       "<span style=\"color: #d4b702; text-decoration-color: #d4b702\">│</span> <span style=\"font-weight: bold\">    посчитай его стоимость.</span>                                                                                     <span style=\"color: #d4b702; text-decoration-color: #d4b702\">│</span>\n",
       "<span style=\"color: #d4b702; text-decoration-color: #d4b702\">│</span> <span style=\"font-weight: bold\">    Выведи табличку из названий блюд и напитков и их стоимости. Я хочу стейк!</span>                                   <span style=\"color: #d4b702; text-decoration-color: #d4b702\">│</span>\n",
       "<span style=\"color: #d4b702; text-decoration-color: #d4b702\">│</span>                                                                                                                 <span style=\"color: #d4b702; text-decoration-color: #d4b702\">│</span>\n",
       "<span style=\"color: #d4b702; text-decoration-color: #d4b702\">╰─ OpenAIServerModel - gpt://b1gbicod0scglhd49qs0/yandexgpt/rc ───────────────────────────────────────────────────╯</span>\n",
       "</pre>\n"
      ],
      "text/plain": [
       "\u001b[38;2;212;183;2m╭─\u001b[0m\u001b[38;2;212;183;2m───────────────────────────────────────────────────\u001b[0m\u001b[38;2;212;183;2m \u001b[0m\u001b[1;38;2;212;183;2mNew run\u001b[0m\u001b[38;2;212;183;2m \u001b[0m\u001b[38;2;212;183;2m───────────────────────────────────────────────────\u001b[0m\u001b[38;2;212;183;2m─╮\u001b[0m\n",
       "\u001b[38;2;212;183;2m│\u001b[0m                                                                                                                 \u001b[38;2;212;183;2m│\u001b[0m\n",
       "\u001b[38;2;212;183;2m│\u001b[0m \u001b[1mПодбери меню для ужина в ресторане из основного блюда, подходящего вина и десерта, и\u001b[0m                            \u001b[38;2;212;183;2m│\u001b[0m\n",
       "\u001b[38;2;212;183;2m│\u001b[0m \u001b[1m    посчитай его стоимость.\u001b[0m                                                                                     \u001b[38;2;212;183;2m│\u001b[0m\n",
       "\u001b[38;2;212;183;2m│\u001b[0m \u001b[1m    Выведи табличку из названий блюд и напитков и их стоимости. Я хочу стейк!\u001b[0m                                   \u001b[38;2;212;183;2m│\u001b[0m\n",
       "\u001b[38;2;212;183;2m│\u001b[0m                                                                                                                 \u001b[38;2;212;183;2m│\u001b[0m\n",
       "\u001b[38;2;212;183;2m╰─\u001b[0m\u001b[38;2;212;183;2m OpenAIServerModel - gpt://b1gbicod0scglhd49qs0/yandexgpt/rc \u001b[0m\u001b[38;2;212;183;2m──────────────────────────────────────────────────\u001b[0m\u001b[38;2;212;183;2m─╯\u001b[0m\n"
      ]
     },
     "metadata": {},
     "output_type": "display_data"
    },
    {
     "data": {
      "text/html": [
       "<pre style=\"white-space:pre;overflow-x:auto;line-height:normal;font-family:Menlo,'DejaVu Sans Mono',consolas,'Courier New',monospace\"><span style=\"color: #d4b702; text-decoration-color: #d4b702\">━━━━━━━━━━━━━━━━━━━━━━━━━━━━━━━━━━━━━━━━━━━━━━━━━━━━━ </span><span style=\"font-weight: bold\">Step </span><span style=\"color: #008080; text-decoration-color: #008080; font-weight: bold\">1</span><span style=\"color: #d4b702; text-decoration-color: #d4b702\"> ━━━━━━━━━━━━━━━━━━━━━━━━━━━━━━━━━━━━━━━━━━━━━━━━━━━━━━</span>\n",
       "</pre>\n"
      ],
      "text/plain": [
       "\u001b[38;2;212;183;2m━━━━━━━━━━━━━━━━━━━━━━━━━━━━━━━━━━━━━━━━━━━━━━━━━━━━━ \u001b[0m\u001b[1mStep \u001b[0m\u001b[1;36m1\u001b[0m\u001b[38;2;212;183;2m ━━━━━━━━━━━━━━━━━━━━━━━━━━━━━━━━━━━━━━━━━━━━━━━━━━━━━━\u001b[0m\n"
      ]
     },
     "metadata": {},
     "output_type": "display_data"
    },
    {
     "data": {
      "text/html": [
       "<pre style=\"white-space:pre;overflow-x:auto;line-height:normal;font-family:Menlo,'DejaVu Sans Mono',consolas,'Courier New',monospace\"> ─ <span style=\"font-weight: bold\">Executing parsed code:</span> ──────────────────────────────────────────────────────────────────────────────────────── \n",
       "  <span style=\"color: #f8f8f2; text-decoration-color: #f8f8f2; background-color: #272822\">matching_wine </span><span style=\"color: #ff4689; text-decoration-color: #ff4689; background-color: #272822\">=</span><span style=\"color: #f8f8f2; text-decoration-color: #f8f8f2; background-color: #272822\"> find_matching_wine(food</span><span style=\"color: #ff4689; text-decoration-color: #ff4689; background-color: #272822\">=</span><span style=\"color: #e6db74; text-decoration-color: #e6db74; background-color: #272822\">\"стейк\"</span><span style=\"color: #f8f8f2; text-decoration-color: #f8f8f2; background-color: #272822\">)</span><span style=\"background-color: #272822\">                                                               </span>  \n",
       "  <span style=\"color: #f8f8f2; text-decoration-color: #f8f8f2; background-color: #272822\">print(</span><span style=\"color: #e6db74; text-decoration-color: #e6db74; background-color: #272822\">f\"Подходящее вино к стейку: {</span><span style=\"color: #f8f8f2; text-decoration-color: #f8f8f2; background-color: #272822\">matching_wine</span><span style=\"color: #e6db74; text-decoration-color: #e6db74; background-color: #272822\">}\"</span><span style=\"color: #f8f8f2; text-decoration-color: #f8f8f2; background-color: #272822\">)</span><span style=\"background-color: #272822\">                                                            </span>  \n",
       "  <span style=\"background-color: #272822\">                                                                                                               </span>  \n",
       "  <span style=\"color: #f8f8f2; text-decoration-color: #f8f8f2; background-color: #272822\">food_menu </span><span style=\"color: #ff4689; text-decoration-color: #ff4689; background-color: #272822\">=</span><span style=\"color: #f8f8f2; text-decoration-color: #f8f8f2; background-color: #272822\"> get_food_menu()</span><span style=\"background-color: #272822\">                                                                                    </span>  \n",
       "  <span style=\"color: #f8f8f2; text-decoration-color: #f8f8f2; background-color: #272822\">print(</span><span style=\"color: #e6db74; text-decoration-color: #e6db74; background-color: #272822\">f\"Меню блюд:</span><span style=\"color: #ae81ff; text-decoration-color: #ae81ff; background-color: #272822\">\\n</span><span style=\"color: #e6db74; text-decoration-color: #e6db74; background-color: #272822\">{</span><span style=\"color: #f8f8f2; text-decoration-color: #f8f8f2; background-color: #272822\">food_menu</span><span style=\"color: #e6db74; text-decoration-color: #e6db74; background-color: #272822\">}\"</span><span style=\"color: #f8f8f2; text-decoration-color: #f8f8f2; background-color: #272822\">)</span><span style=\"background-color: #272822\">                                                                              </span>  \n",
       "  <span style=\"background-color: #272822\">                                                                                                               </span>  \n",
       "  <span style=\"color: #f8f8f2; text-decoration-color: #f8f8f2; background-color: #272822\">drinks_menu </span><span style=\"color: #ff4689; text-decoration-color: #ff4689; background-color: #272822\">=</span><span style=\"color: #f8f8f2; text-decoration-color: #f8f8f2; background-color: #272822\"> get_drinks_menu()</span><span style=\"background-color: #272822\">                                                                                </span>  \n",
       "  <span style=\"color: #f8f8f2; text-decoration-color: #f8f8f2; background-color: #272822\">print(</span><span style=\"color: #e6db74; text-decoration-color: #e6db74; background-color: #272822\">f\"Меню напитков:</span><span style=\"color: #ae81ff; text-decoration-color: #ae81ff; background-color: #272822\">\\n</span><span style=\"color: #e6db74; text-decoration-color: #e6db74; background-color: #272822\">{</span><span style=\"color: #f8f8f2; text-decoration-color: #f8f8f2; background-color: #272822\">drinks_menu</span><span style=\"color: #e6db74; text-decoration-color: #e6db74; background-color: #272822\">}\"</span><span style=\"color: #f8f8f2; text-decoration-color: #f8f8f2; background-color: #272822\">)</span><span style=\"background-color: #272822\">                                                                        </span>  \n",
       " ───────────────────────────────────────────────────────────────────────────────────────────────────────────────── \n",
       "</pre>\n"
      ],
      "text/plain": [
       " ─ \u001b[1mExecuting parsed code:\u001b[0m ──────────────────────────────────────────────────────────────────────────────────────── \n",
       "  \u001b[38;2;248;248;242;48;2;39;40;34mmatching_wine\u001b[0m\u001b[38;2;248;248;242;48;2;39;40;34m \u001b[0m\u001b[38;2;255;70;137;48;2;39;40;34m=\u001b[0m\u001b[38;2;248;248;242;48;2;39;40;34m \u001b[0m\u001b[38;2;248;248;242;48;2;39;40;34mfind_matching_wine\u001b[0m\u001b[38;2;248;248;242;48;2;39;40;34m(\u001b[0m\u001b[38;2;248;248;242;48;2;39;40;34mfood\u001b[0m\u001b[38;2;255;70;137;48;2;39;40;34m=\u001b[0m\u001b[38;2;230;219;116;48;2;39;40;34m\"\u001b[0m\u001b[38;2;230;219;116;48;2;39;40;34mстейк\u001b[0m\u001b[38;2;230;219;116;48;2;39;40;34m\"\u001b[0m\u001b[38;2;248;248;242;48;2;39;40;34m)\u001b[0m\u001b[48;2;39;40;34m                                                               \u001b[0m  \n",
       "  \u001b[38;2;248;248;242;48;2;39;40;34mprint\u001b[0m\u001b[38;2;248;248;242;48;2;39;40;34m(\u001b[0m\u001b[38;2;230;219;116;48;2;39;40;34mf\u001b[0m\u001b[38;2;230;219;116;48;2;39;40;34m\"\u001b[0m\u001b[38;2;230;219;116;48;2;39;40;34mПодходящее вино к стейку: \u001b[0m\u001b[38;2;230;219;116;48;2;39;40;34m{\u001b[0m\u001b[38;2;248;248;242;48;2;39;40;34mmatching_wine\u001b[0m\u001b[38;2;230;219;116;48;2;39;40;34m}\u001b[0m\u001b[38;2;230;219;116;48;2;39;40;34m\"\u001b[0m\u001b[38;2;248;248;242;48;2;39;40;34m)\u001b[0m\u001b[48;2;39;40;34m                                                            \u001b[0m  \n",
       "  \u001b[48;2;39;40;34m                                                                                                               \u001b[0m  \n",
       "  \u001b[38;2;248;248;242;48;2;39;40;34mfood_menu\u001b[0m\u001b[38;2;248;248;242;48;2;39;40;34m \u001b[0m\u001b[38;2;255;70;137;48;2;39;40;34m=\u001b[0m\u001b[38;2;248;248;242;48;2;39;40;34m \u001b[0m\u001b[38;2;248;248;242;48;2;39;40;34mget_food_menu\u001b[0m\u001b[38;2;248;248;242;48;2;39;40;34m(\u001b[0m\u001b[38;2;248;248;242;48;2;39;40;34m)\u001b[0m\u001b[48;2;39;40;34m                                                                                    \u001b[0m  \n",
       "  \u001b[38;2;248;248;242;48;2;39;40;34mprint\u001b[0m\u001b[38;2;248;248;242;48;2;39;40;34m(\u001b[0m\u001b[38;2;230;219;116;48;2;39;40;34mf\u001b[0m\u001b[38;2;230;219;116;48;2;39;40;34m\"\u001b[0m\u001b[38;2;230;219;116;48;2;39;40;34mМеню блюд:\u001b[0m\u001b[38;2;174;129;255;48;2;39;40;34m\\n\u001b[0m\u001b[38;2;230;219;116;48;2;39;40;34m{\u001b[0m\u001b[38;2;248;248;242;48;2;39;40;34mfood_menu\u001b[0m\u001b[38;2;230;219;116;48;2;39;40;34m}\u001b[0m\u001b[38;2;230;219;116;48;2;39;40;34m\"\u001b[0m\u001b[38;2;248;248;242;48;2;39;40;34m)\u001b[0m\u001b[48;2;39;40;34m                                                                              \u001b[0m  \n",
       "  \u001b[48;2;39;40;34m                                                                                                               \u001b[0m  \n",
       "  \u001b[38;2;248;248;242;48;2;39;40;34mdrinks_menu\u001b[0m\u001b[38;2;248;248;242;48;2;39;40;34m \u001b[0m\u001b[38;2;255;70;137;48;2;39;40;34m=\u001b[0m\u001b[38;2;248;248;242;48;2;39;40;34m \u001b[0m\u001b[38;2;248;248;242;48;2;39;40;34mget_drinks_menu\u001b[0m\u001b[38;2;248;248;242;48;2;39;40;34m(\u001b[0m\u001b[38;2;248;248;242;48;2;39;40;34m)\u001b[0m\u001b[48;2;39;40;34m                                                                                \u001b[0m  \n",
       "  \u001b[38;2;248;248;242;48;2;39;40;34mprint\u001b[0m\u001b[38;2;248;248;242;48;2;39;40;34m(\u001b[0m\u001b[38;2;230;219;116;48;2;39;40;34mf\u001b[0m\u001b[38;2;230;219;116;48;2;39;40;34m\"\u001b[0m\u001b[38;2;230;219;116;48;2;39;40;34mМеню напитков:\u001b[0m\u001b[38;2;174;129;255;48;2;39;40;34m\\n\u001b[0m\u001b[38;2;230;219;116;48;2;39;40;34m{\u001b[0m\u001b[38;2;248;248;242;48;2;39;40;34mdrinks_menu\u001b[0m\u001b[38;2;230;219;116;48;2;39;40;34m}\u001b[0m\u001b[38;2;230;219;116;48;2;39;40;34m\"\u001b[0m\u001b[38;2;248;248;242;48;2;39;40;34m)\u001b[0m\u001b[48;2;39;40;34m                                                                        \u001b[0m  \n",
       " ───────────────────────────────────────────────────────────────────────────────────────────────────────────────── \n"
      ]
     },
     "metadata": {},
     "output_type": "display_data"
    },
    {
     "data": {
      "text/html": [
       "<pre style=\"white-space:pre;overflow-x:auto;line-height:normal;font-family:Menlo,'DejaVu Sans Mono',consolas,'Courier New',monospace\"><span style=\"font-weight: bold\">Execution logs:</span>\n",
       "Подходящее вино к стейку: Вот наиболее подходящие вина:\n",
       "1. Красные вина: к прожарке Rare — выдержанные и «благородные» вина из Темпранильо (Рибейра дель Дуэро или любые от\n",
       "Ризервы и выше), Санджовезе (Кьянти Ризерва, Брунелло), «супертосканские» вина, Бордо Правого берега, шелковистые \n",
       "аргентинские Мальбеки. К прожарке Medium или WellDone — сухие и полусухие из винограда Сира (Шираз), Каберне \n",
       "Совиньон, «тельный» Мальбек, Примитиво, Зинфандель, Альянико (выдержанное и слегка «округлившееся»), выдержанный \n",
       "«ронский» ассамбляж Гренаш+Сира+Мурведр, вина Приората от 6-8 лет выдержки и выше.\n",
       "2. Красные вина: сухие и полусухие вина из винограда Гарнача (Гренаш), Мерло, Карменер, Менсия, «тельные» Пино \n",
       "Нуары (со всего света), российский Красностоп, Гамэ (Божоле Виляж).\n",
       "3. Красные вина: сухие вина из винограда Санджовезе (Кьянти) и Неро д’Авола, испанские Темпранильо, «тельные» \n",
       "Мерло, «тельные» Пино Нуары (из Нового Света, Австрии, Германии), вина из Бордо, вина из Роны \n",
       "(Гренаш+Сира+Мурведр), Саперави (как из Грузии, так и из России), Арени (Армения).\n",
       "Меню блюд:\n",
       "| Название блюда            | Описание                                                                 | Тип  | \n",
       "Цена (руб) |  \n",
       "|-------------------------------|-----------------------------------------------------------------------------|----\n",
       "------|---------------|  \n",
       "| Стейк \"Бык на взводе\"           | Сочный рибай с розовым сердцем, томлёный в дыме аргентинских страстей. Подаётся\n",
       "с золотой солью Гималаев. | Стейк    | 2500          |  \n",
       "| Стейк \"Нежность разъярённой коровы\" | Филе-миньон, замаринованное в гранатовом соке и шёпоте шеф-повара. Плюс \n",
       "картофель \"А-ля крылышки дракона\". | Стейк    | 1800          |  \n",
       "| \"Стейк для скромного олигарха\" | Говяжья щека, томлёная 12 часов в вине из погреба Наполеона (ну почти). С \n",
       "хрустящими чипсами из кабачков. | Стейк    | 1200          |  \n",
       "| \"Лосось в мечтах о Норвегии\" | Нежнейший филе-кусок, запечённый под корочкой из \"загадочных северных трав\" \n",
       "(укропа). Подаётся с лимонным бризом. | Рыба     | 1900          |  \n",
       "| \"Осьминог, который видел слишком много\" | Гриль-кальмар с чернильным соусом и намёком на средиземноморские тайны.\n",
       "Для смелых гурманов. | Рыба     | 2200          |  \n",
       "| \"Дорадо под шубой\"        | Филе дорадо, завёрнутое в хрустящий картофельный панцирь. С соусом \"Тайна Атлантиды\".\n",
       "| Рыба     | 1600          |  \n",
       "| \"Картофель 'Я тоже могу быть трюфелем'\" | Нежные дольки, запечённые с розмарином и намёком на дороговизну. \n",
       "Подаётся с воздухом Пиреней. | Гарнир   | 600           |  \n",
       "| \"Грибы, которые танцевали на луну\" | Шампиньоны-гриль с чесночным соусом и намёком на психоделический опыт. | \n",
       "Гарнир   | 450           |  \n",
       "| \"Круассаны, но не те\"     | Аппетитные мини-морковки, глазированные мёдом с намёком на парижское детство. | \n",
       "Гарнир   | 350           |  \n",
       "| \"Шоколадный апокалипсис\"  | Десерт из 72% какао, взрывающий вкусовые рецепторы. С мороженым \"Облако рая\". | \n",
       "Десерт   | 800           |  \n",
       "| \"Чизкейк, который видел Бога\" | Воздушный, с карамелью из ангельских слез и крошками \"райского печенья\". | Десерт\n",
       "| 750           |  \n",
       "| \"Тирамису для взрослых\"   | Классика, но с добавлением \"секретного ингредиента\" (кофе, а что вы подумали?). | \n",
       "Десерт   | 700           |  \n",
       "\n",
       "Меню напитков:\n",
       "| Сорт вина / Напиток       | Винодельня / Производитель       | Год | Тип           | Цена за бокал (руб) |  \n",
       "|------------------------------|--------------------------------------|---------|--------------------|-------------\n",
       "-----------|  \n",
       "| Каберне Совиньон         | Château Lafite Rothschild, Франция   | 2018    | Красное вино       | 4500            \n",
       "|  \n",
       "| Мерло                    | Marchesi Antinori, Италия            | 2019    | Красное вино       | 2800            \n",
       "|  \n",
       "| Пино Нуар                | Domaine de la Romanée-Conti, Франция | 2017    | Красное вино       | 5200            \n",
       "|  \n",
       "| Шираз                    | Penfolds, Австралия                  | 2018    | Красное вино       | 3200            \n",
       "|  \n",
       "| Мальбек                  | Catena Zapata, Аргентина             | 2020    | Красное вино       | 2900            \n",
       "|  \n",
       "| Совиньон Блан            | Cloudy Bay, Новая Зеландия           | 2021    | Белое вино         | 3800            \n",
       "|  \n",
       "| Шардоне                  | Louis Latour, Франция                | 2020    | Белое вино         | 3500            \n",
       "|  \n",
       "| Рислинг                  | Dr. Loosen, Германия                 | 2019    | Белое вино         | 3100            \n",
       "|  \n",
       "| Пино Гриджио             | Santa Margherita, Италия             | 2021    | Белое вино         | 2700            \n",
       "|  \n",
       "| Гевюрцтраминер           | Trimbach, Франция                   | 2020    | Белое вино         | 3300             \n",
       "|  \n",
       "| Шотландский виски        | Macallan 12 лет, Шотландия           | -       | Крепкий алкоголь   | 2500            \n",
       "|  \n",
       "| Текила                   | Don Julio Añejo, Мексика             | -       | Крепкий алкоголь   | 2200            \n",
       "|  \n",
       "| Мохито                   | Домашний коктейль                    | -       | Коктейль           | 600             \n",
       "|  \n",
       "| Кровавая Мэри            | Домашний коктейль                    | -       | Коктейль           | 650             \n",
       "|  \n",
       "| Апельсиновый фреш        | Свежевыжатый                         | -       | Безалкогольное     | 350             \n",
       "|  \n",
       "| Имбирный лимонад         | Домашний                             | -       | Безалкогольное     | 400             \n",
       "|  \n",
       "| Минеральная вода         | Voss, Норвегия                       | -       | Вода               | 500             \n",
       "|  \n",
       "\n",
       "\n",
       "Out: None\n",
       "</pre>\n"
      ],
      "text/plain": [
       "\u001b[1mExecution logs:\u001b[0m\n",
       "Подходящее вино к стейку: Вот наиболее подходящие вина:\n",
       "1. Красные вина: к прожарке Rare — выдержанные и «благородные» вина из Темпранильо (Рибейра дель Дуэро или любые от\n",
       "Ризервы и выше), Санджовезе (Кьянти Ризерва, Брунелло), «супертосканские» вина, Бордо Правого берега, шелковистые \n",
       "аргентинские Мальбеки. К прожарке Medium или WellDone — сухие и полусухие из винограда Сира (Шираз), Каберне \n",
       "Совиньон, «тельный» Мальбек, Примитиво, Зинфандель, Альянико (выдержанное и слегка «округлившееся»), выдержанный \n",
       "«ронский» ассамбляж Гренаш+Сира+Мурведр, вина Приората от 6-8 лет выдержки и выше.\n",
       "2. Красные вина: сухие и полусухие вина из винограда Гарнача (Гренаш), Мерло, Карменер, Менсия, «тельные» Пино \n",
       "Нуары (со всего света), российский Красностоп, Гамэ (Божоле Виляж).\n",
       "3. Красные вина: сухие вина из винограда Санджовезе (Кьянти) и Неро д’Авола, испанские Темпранильо, «тельные» \n",
       "Мерло, «тельные» Пино Нуары (из Нового Света, Австрии, Германии), вина из Бордо, вина из Роны \n",
       "(Гренаш+Сира+Мурведр), Саперави (как из Грузии, так и из России), Арени (Армения).\n",
       "Меню блюд:\n",
       "| Название блюда            | Описание                                                                 | Тип  | \n",
       "Цена (руб) |  \n",
       "|-------------------------------|-----------------------------------------------------------------------------|----\n",
       "------|---------------|  \n",
       "| Стейк \"Бык на взводе\"           | Сочный рибай с розовым сердцем, томлёный в дыме аргентинских страстей. Подаётся\n",
       "с золотой солью Гималаев. | Стейк    | 2500          |  \n",
       "| Стейк \"Нежность разъярённой коровы\" | Филе-миньон, замаринованное в гранатовом соке и шёпоте шеф-повара. Плюс \n",
       "картофель \"А-ля крылышки дракона\". | Стейк    | 1800          |  \n",
       "| \"Стейк для скромного олигарха\" | Говяжья щека, томлёная 12 часов в вине из погреба Наполеона (ну почти). С \n",
       "хрустящими чипсами из кабачков. | Стейк    | 1200          |  \n",
       "| \"Лосось в мечтах о Норвегии\" | Нежнейший филе-кусок, запечённый под корочкой из \"загадочных северных трав\" \n",
       "(укропа). Подаётся с лимонным бризом. | Рыба     | 1900          |  \n",
       "| \"Осьминог, который видел слишком много\" | Гриль-кальмар с чернильным соусом и намёком на средиземноморские тайны.\n",
       "Для смелых гурманов. | Рыба     | 2200          |  \n",
       "| \"Дорадо под шубой\"        | Филе дорадо, завёрнутое в хрустящий картофельный панцирь. С соусом \"Тайна Атлантиды\".\n",
       "| Рыба     | 1600          |  \n",
       "| \"Картофель 'Я тоже могу быть трюфелем'\" | Нежные дольки, запечённые с розмарином и намёком на дороговизну. \n",
       "Подаётся с воздухом Пиреней. | Гарнир   | 600           |  \n",
       "| \"Грибы, которые танцевали на луну\" | Шампиньоны-гриль с чесночным соусом и намёком на психоделический опыт. | \n",
       "Гарнир   | 450           |  \n",
       "| \"Круассаны, но не те\"     | Аппетитные мини-морковки, глазированные мёдом с намёком на парижское детство. | \n",
       "Гарнир   | 350           |  \n",
       "| \"Шоколадный апокалипсис\"  | Десерт из 72% какао, взрывающий вкусовые рецепторы. С мороженым \"Облако рая\". | \n",
       "Десерт   | 800           |  \n",
       "| \"Чизкейк, который видел Бога\" | Воздушный, с карамелью из ангельских слез и крошками \"райского печенья\". | Десерт\n",
       "| 750           |  \n",
       "| \"Тирамису для взрослых\"   | Классика, но с добавлением \"секретного ингредиента\" (кофе, а что вы подумали?). | \n",
       "Десерт   | 700           |  \n",
       "\n",
       "Меню напитков:\n",
       "| Сорт вина / Напиток       | Винодельня / Производитель       | Год | Тип           | Цена за бокал (руб) |  \n",
       "|------------------------------|--------------------------------------|---------|--------------------|-------------\n",
       "-----------|  \n",
       "| Каберне Совиньон         | Château Lafite Rothschild, Франция   | 2018    | Красное вино       | 4500            \n",
       "|  \n",
       "| Мерло                    | Marchesi Antinori, Италия            | 2019    | Красное вино       | 2800            \n",
       "|  \n",
       "| Пино Нуар                | Domaine de la Romanée-Conti, Франция | 2017    | Красное вино       | 5200            \n",
       "|  \n",
       "| Шираз                    | Penfolds, Австралия                  | 2018    | Красное вино       | 3200            \n",
       "|  \n",
       "| Мальбек                  | Catena Zapata, Аргентина             | 2020    | Красное вино       | 2900            \n",
       "|  \n",
       "| Совиньон Блан            | Cloudy Bay, Новая Зеландия           | 2021    | Белое вино         | 3800            \n",
       "|  \n",
       "| Шардоне                  | Louis Latour, Франция                | 2020    | Белое вино         | 3500            \n",
       "|  \n",
       "| Рислинг                  | Dr. Loosen, Германия                 | 2019    | Белое вино         | 3100            \n",
       "|  \n",
       "| Пино Гриджио             | Santa Margherita, Италия             | 2021    | Белое вино         | 2700            \n",
       "|  \n",
       "| Гевюрцтраминер           | Trimbach, Франция                   | 2020    | Белое вино         | 3300             \n",
       "|  \n",
       "| Шотландский виски        | Macallan 12 лет, Шотландия           | -       | Крепкий алкоголь   | 2500            \n",
       "|  \n",
       "| Текила                   | Don Julio Añejo, Мексика             | -       | Крепкий алкоголь   | 2200            \n",
       "|  \n",
       "| Мохито                   | Домашний коктейль                    | -       | Коктейль           | 600             \n",
       "|  \n",
       "| Кровавая Мэри            | Домашний коктейль                    | -       | Коктейль           | 650             \n",
       "|  \n",
       "| Апельсиновый фреш        | Свежевыжатый                         | -       | Безалкогольное     | 350             \n",
       "|  \n",
       "| Имбирный лимонад         | Домашний                             | -       | Безалкогольное     | 400             \n",
       "|  \n",
       "| Минеральная вода         | Voss, Норвегия                       | -       | Вода               | 500             \n",
       "|  \n",
       "\n",
       "\n",
       "Out: None\n"
      ]
     },
     "metadata": {},
     "output_type": "display_data"
    },
    {
     "data": {
      "text/html": [
       "<pre style=\"white-space:pre;overflow-x:auto;line-height:normal;font-family:Menlo,'DejaVu Sans Mono',consolas,'Courier New',monospace\"><span style=\"color: #7f7f7f; text-decoration-color: #7f7f7f\">[Step 1: Duration 2.91 seconds| Input tokens: 2,418 | Output tokens: 130]</span>\n",
       "</pre>\n"
      ],
      "text/plain": [
       "\u001b[2m[Step 1: Duration 2.91 seconds| Input tokens: 2,418 | Output tokens: 130]\u001b[0m\n"
      ]
     },
     "metadata": {},
     "output_type": "display_data"
    },
    {
     "data": {
      "text/html": [
       "<pre style=\"white-space:pre;overflow-x:auto;line-height:normal;font-family:Menlo,'DejaVu Sans Mono',consolas,'Courier New',monospace\"><span style=\"color: #d4b702; text-decoration-color: #d4b702\">━━━━━━━━━━━━━━━━━━━━━━━━━━━━━━━━━━━━━━━━━━━━━━━━━━━━━ </span><span style=\"font-weight: bold\">Step </span><span style=\"color: #008080; text-decoration-color: #008080; font-weight: bold\">2</span><span style=\"color: #d4b702; text-decoration-color: #d4b702\"> ━━━━━━━━━━━━━━━━━━━━━━━━━━━━━━━━━━━━━━━━━━━━━━━━━━━━━━</span>\n",
       "</pre>\n"
      ],
      "text/plain": [
       "\u001b[38;2;212;183;2m━━━━━━━━━━━━━━━━━━━━━━━━━━━━━━━━━━━━━━━━━━━━━━━━━━━━━ \u001b[0m\u001b[1mStep \u001b[0m\u001b[1;36m2\u001b[0m\u001b[38;2;212;183;2m ━━━━━━━━━━━━━━━━━━━━━━━━━━━━━━━━━━━━━━━━━━━━━━━━━━━━━━\u001b[0m\n"
      ]
     },
     "metadata": {},
     "output_type": "display_data"
    },
    {
     "data": {
      "text/html": [
       "<pre style=\"white-space:pre;overflow-x:auto;line-height:normal;font-family:Menlo,'DejaVu Sans Mono',consolas,'Courier New',monospace\"> ─ <span style=\"font-weight: bold\">Executing parsed code:</span> ──────────────────────────────────────────────────────────────────────────────────────── \n",
       "  <span style=\"color: #f8f8f2; text-decoration-color: #f8f8f2; background-color: #272822\">steak_name </span><span style=\"color: #ff4689; text-decoration-color: #ff4689; background-color: #272822\">=</span><span style=\"color: #f8f8f2; text-decoration-color: #f8f8f2; background-color: #272822\"> </span><span style=\"color: #e6db74; text-decoration-color: #e6db74; background-color: #272822\">\"Стейк </span><span style=\"color: #ae81ff; text-decoration-color: #ae81ff; background-color: #272822\">\\\"</span><span style=\"color: #e6db74; text-decoration-color: #e6db74; background-color: #272822\">Бык на взводе</span><span style=\"color: #ae81ff; text-decoration-color: #ae81ff; background-color: #272822\">\\\"</span><span style=\"color: #e6db74; text-decoration-color: #e6db74; background-color: #272822\">\"</span><span style=\"background-color: #272822\">                                                                         </span>  \n",
       "  <span style=\"color: #f8f8f2; text-decoration-color: #f8f8f2; background-color: #272822\">steak_price </span><span style=\"color: #ff4689; text-decoration-color: #ff4689; background-color: #272822\">=</span><span style=\"color: #f8f8f2; text-decoration-color: #f8f8f2; background-color: #272822\"> </span><span style=\"color: #ae81ff; text-decoration-color: #ae81ff; background-color: #272822\">2500</span><span style=\"background-color: #272822\">                                                                                             </span>  \n",
       "  <span style=\"background-color: #272822\">                                                                                                               </span>  \n",
       "  <span style=\"color: #f8f8f2; text-decoration-color: #f8f8f2; background-color: #272822\">wine_name </span><span style=\"color: #ff4689; text-decoration-color: #ff4689; background-color: #272822\">=</span><span style=\"color: #f8f8f2; text-decoration-color: #f8f8f2; background-color: #272822\"> </span><span style=\"color: #e6db74; text-decoration-color: #e6db74; background-color: #272822\">\"Каберне Совиньон Château Lafite Rothschild\"</span><span style=\"background-color: #272822\">                                                       </span>  \n",
       "  <span style=\"color: #f8f8f2; text-decoration-color: #f8f8f2; background-color: #272822\">wine_price </span><span style=\"color: #ff4689; text-decoration-color: #ff4689; background-color: #272822\">=</span><span style=\"color: #f8f8f2; text-decoration-color: #f8f8f2; background-color: #272822\"> </span><span style=\"color: #ae81ff; text-decoration-color: #ae81ff; background-color: #272822\">4500</span><span style=\"background-color: #272822\">                                                                                              </span>  \n",
       "  <span style=\"background-color: #272822\">                                                                                                               </span>  \n",
       "  <span style=\"color: #f8f8f2; text-decoration-color: #f8f8f2; background-color: #272822\">dessert_name </span><span style=\"color: #ff4689; text-decoration-color: #ff4689; background-color: #272822\">=</span><span style=\"color: #f8f8f2; text-decoration-color: #f8f8f2; background-color: #272822\"> </span><span style=\"color: #e6db74; text-decoration-color: #e6db74; background-color: #272822\">\"Шоколадный апокалипсис\"</span><span style=\"background-color: #272822\">                                                                        </span>  \n",
       "  <span style=\"color: #f8f8f2; text-decoration-color: #f8f8f2; background-color: #272822\">dessert_price </span><span style=\"color: #ff4689; text-decoration-color: #ff4689; background-color: #272822\">=</span><span style=\"color: #f8f8f2; text-decoration-color: #f8f8f2; background-color: #272822\"> </span><span style=\"color: #ae81ff; text-decoration-color: #ae81ff; background-color: #272822\">800</span><span style=\"background-color: #272822\">                                                                                            </span>  \n",
       "  <span style=\"background-color: #272822\">                                                                                                               </span>  \n",
       "  <span style=\"color: #f8f8f2; text-decoration-color: #f8f8f2; background-color: #272822\">total_cost </span><span style=\"color: #ff4689; text-decoration-color: #ff4689; background-color: #272822\">=</span><span style=\"color: #f8f8f2; text-decoration-color: #f8f8f2; background-color: #272822\"> steak_price </span><span style=\"color: #ff4689; text-decoration-color: #ff4689; background-color: #272822\">+</span><span style=\"color: #f8f8f2; text-decoration-color: #f8f8f2; background-color: #272822\"> wine_price </span><span style=\"color: #ff4689; text-decoration-color: #ff4689; background-color: #272822\">+</span><span style=\"color: #f8f8f2; text-decoration-color: #f8f8f2; background-color: #272822\"> dessert_price</span><span style=\"background-color: #272822\">                                                          </span>  \n",
       "  <span style=\"color: #f8f8f2; text-decoration-color: #f8f8f2; background-color: #272822\">final_answer(</span><span style=\"color: #e6db74; text-decoration-color: #e6db74; background-color: #272822\">f\"Меню ужина:</span><span style=\"color: #ae81ff; text-decoration-color: #ae81ff; background-color: #272822\">\\n</span><span style=\"color: #e6db74; text-decoration-color: #e6db74; background-color: #272822\">{</span><span style=\"color: #f8f8f2; text-decoration-color: #f8f8f2; background-color: #272822\">steak_name</span><span style=\"color: #e6db74; text-decoration-color: #e6db74; background-color: #272822\">}: {</span><span style=\"color: #f8f8f2; text-decoration-color: #f8f8f2; background-color: #272822\">steak_price</span><span style=\"color: #e6db74; text-decoration-color: #e6db74; background-color: #272822\">} руб.</span><span style=\"color: #ae81ff; text-decoration-color: #ae81ff; background-color: #272822\">\\n</span><span style=\"color: #e6db74; text-decoration-color: #e6db74; background-color: #272822\">{</span><span style=\"color: #f8f8f2; text-decoration-color: #f8f8f2; background-color: #272822\">wine_name</span><span style=\"color: #e6db74; text-decoration-color: #e6db74; background-color: #272822\">}: {</span><span style=\"color: #f8f8f2; text-decoration-color: #f8f8f2; background-color: #272822\">wine_price</span><span style=\"color: #e6db74; text-decoration-color: #e6db74; background-color: #272822\">} руб.</span><span style=\"color: #ae81ff; text-decoration-color: #ae81ff; background-color: #272822\">\\n</span><span style=\"color: #e6db74; text-decoration-color: #e6db74; background-color: #272822\">{</span><span style=\"color: #f8f8f2; text-decoration-color: #f8f8f2; background-color: #272822\">dessert_name</span><span style=\"color: #e6db74; text-decoration-color: #e6db74; background-color: #272822\">}: </span><span style=\"background-color: #272822\"> </span>  \n",
       "  <span style=\"color: #e6db74; text-decoration-color: #e6db74; background-color: #272822\">{</span><span style=\"color: #f8f8f2; text-decoration-color: #f8f8f2; background-color: #272822\">dessert_price</span><span style=\"color: #e6db74; text-decoration-color: #e6db74; background-color: #272822\">} руб.</span><span style=\"color: #ae81ff; text-decoration-color: #ae81ff; background-color: #272822\">\\n</span><span style=\"color: #e6db74; text-decoration-color: #e6db74; background-color: #272822\">Общая стоимость: {</span><span style=\"color: #f8f8f2; text-decoration-color: #f8f8f2; background-color: #272822\">total_cost</span><span style=\"color: #e6db74; text-decoration-color: #e6db74; background-color: #272822\">} руб.\"</span><span style=\"color: #f8f8f2; text-decoration-color: #f8f8f2; background-color: #272822\">)</span><span style=\"background-color: #272822\">                                                     </span>  \n",
       " ───────────────────────────────────────────────────────────────────────────────────────────────────────────────── \n",
       "</pre>\n"
      ],
      "text/plain": [
       " ─ \u001b[1mExecuting parsed code:\u001b[0m ──────────────────────────────────────────────────────────────────────────────────────── \n",
       "  \u001b[38;2;248;248;242;48;2;39;40;34msteak_name\u001b[0m\u001b[38;2;248;248;242;48;2;39;40;34m \u001b[0m\u001b[38;2;255;70;137;48;2;39;40;34m=\u001b[0m\u001b[38;2;248;248;242;48;2;39;40;34m \u001b[0m\u001b[38;2;230;219;116;48;2;39;40;34m\"\u001b[0m\u001b[38;2;230;219;116;48;2;39;40;34mСтейк \u001b[0m\u001b[38;2;174;129;255;48;2;39;40;34m\\\"\u001b[0m\u001b[38;2;230;219;116;48;2;39;40;34mБык на взводе\u001b[0m\u001b[38;2;174;129;255;48;2;39;40;34m\\\"\u001b[0m\u001b[38;2;230;219;116;48;2;39;40;34m\"\u001b[0m\u001b[48;2;39;40;34m                                                                         \u001b[0m  \n",
       "  \u001b[38;2;248;248;242;48;2;39;40;34msteak_price\u001b[0m\u001b[38;2;248;248;242;48;2;39;40;34m \u001b[0m\u001b[38;2;255;70;137;48;2;39;40;34m=\u001b[0m\u001b[38;2;248;248;242;48;2;39;40;34m \u001b[0m\u001b[38;2;174;129;255;48;2;39;40;34m2500\u001b[0m\u001b[48;2;39;40;34m                                                                                             \u001b[0m  \n",
       "  \u001b[48;2;39;40;34m                                                                                                               \u001b[0m  \n",
       "  \u001b[38;2;248;248;242;48;2;39;40;34mwine_name\u001b[0m\u001b[38;2;248;248;242;48;2;39;40;34m \u001b[0m\u001b[38;2;255;70;137;48;2;39;40;34m=\u001b[0m\u001b[38;2;248;248;242;48;2;39;40;34m \u001b[0m\u001b[38;2;230;219;116;48;2;39;40;34m\"\u001b[0m\u001b[38;2;230;219;116;48;2;39;40;34mКаберне Совиньон Château Lafite Rothschild\u001b[0m\u001b[38;2;230;219;116;48;2;39;40;34m\"\u001b[0m\u001b[48;2;39;40;34m                                                       \u001b[0m  \n",
       "  \u001b[38;2;248;248;242;48;2;39;40;34mwine_price\u001b[0m\u001b[38;2;248;248;242;48;2;39;40;34m \u001b[0m\u001b[38;2;255;70;137;48;2;39;40;34m=\u001b[0m\u001b[38;2;248;248;242;48;2;39;40;34m \u001b[0m\u001b[38;2;174;129;255;48;2;39;40;34m4500\u001b[0m\u001b[48;2;39;40;34m                                                                                              \u001b[0m  \n",
       "  \u001b[48;2;39;40;34m                                                                                                               \u001b[0m  \n",
       "  \u001b[38;2;248;248;242;48;2;39;40;34mdessert_name\u001b[0m\u001b[38;2;248;248;242;48;2;39;40;34m \u001b[0m\u001b[38;2;255;70;137;48;2;39;40;34m=\u001b[0m\u001b[38;2;248;248;242;48;2;39;40;34m \u001b[0m\u001b[38;2;230;219;116;48;2;39;40;34m\"\u001b[0m\u001b[38;2;230;219;116;48;2;39;40;34mШоколадный апокалипсис\u001b[0m\u001b[38;2;230;219;116;48;2;39;40;34m\"\u001b[0m\u001b[48;2;39;40;34m                                                                        \u001b[0m  \n",
       "  \u001b[38;2;248;248;242;48;2;39;40;34mdessert_price\u001b[0m\u001b[38;2;248;248;242;48;2;39;40;34m \u001b[0m\u001b[38;2;255;70;137;48;2;39;40;34m=\u001b[0m\u001b[38;2;248;248;242;48;2;39;40;34m \u001b[0m\u001b[38;2;174;129;255;48;2;39;40;34m800\u001b[0m\u001b[48;2;39;40;34m                                                                                            \u001b[0m  \n",
       "  \u001b[48;2;39;40;34m                                                                                                               \u001b[0m  \n",
       "  \u001b[38;2;248;248;242;48;2;39;40;34mtotal_cost\u001b[0m\u001b[38;2;248;248;242;48;2;39;40;34m \u001b[0m\u001b[38;2;255;70;137;48;2;39;40;34m=\u001b[0m\u001b[38;2;248;248;242;48;2;39;40;34m \u001b[0m\u001b[38;2;248;248;242;48;2;39;40;34msteak_price\u001b[0m\u001b[38;2;248;248;242;48;2;39;40;34m \u001b[0m\u001b[38;2;255;70;137;48;2;39;40;34m+\u001b[0m\u001b[38;2;248;248;242;48;2;39;40;34m \u001b[0m\u001b[38;2;248;248;242;48;2;39;40;34mwine_price\u001b[0m\u001b[38;2;248;248;242;48;2;39;40;34m \u001b[0m\u001b[38;2;255;70;137;48;2;39;40;34m+\u001b[0m\u001b[38;2;248;248;242;48;2;39;40;34m \u001b[0m\u001b[38;2;248;248;242;48;2;39;40;34mdessert_price\u001b[0m\u001b[48;2;39;40;34m                                                          \u001b[0m  \n",
       "  \u001b[38;2;248;248;242;48;2;39;40;34mfinal_answer\u001b[0m\u001b[38;2;248;248;242;48;2;39;40;34m(\u001b[0m\u001b[38;2;230;219;116;48;2;39;40;34mf\u001b[0m\u001b[38;2;230;219;116;48;2;39;40;34m\"\u001b[0m\u001b[38;2;230;219;116;48;2;39;40;34mМеню ужина:\u001b[0m\u001b[38;2;174;129;255;48;2;39;40;34m\\n\u001b[0m\u001b[38;2;230;219;116;48;2;39;40;34m{\u001b[0m\u001b[38;2;248;248;242;48;2;39;40;34msteak_name\u001b[0m\u001b[38;2;230;219;116;48;2;39;40;34m}\u001b[0m\u001b[38;2;230;219;116;48;2;39;40;34m: \u001b[0m\u001b[38;2;230;219;116;48;2;39;40;34m{\u001b[0m\u001b[38;2;248;248;242;48;2;39;40;34msteak_price\u001b[0m\u001b[38;2;230;219;116;48;2;39;40;34m}\u001b[0m\u001b[38;2;230;219;116;48;2;39;40;34m руб.\u001b[0m\u001b[38;2;174;129;255;48;2;39;40;34m\\n\u001b[0m\u001b[38;2;230;219;116;48;2;39;40;34m{\u001b[0m\u001b[38;2;248;248;242;48;2;39;40;34mwine_name\u001b[0m\u001b[38;2;230;219;116;48;2;39;40;34m}\u001b[0m\u001b[38;2;230;219;116;48;2;39;40;34m: \u001b[0m\u001b[38;2;230;219;116;48;2;39;40;34m{\u001b[0m\u001b[38;2;248;248;242;48;2;39;40;34mwine_price\u001b[0m\u001b[38;2;230;219;116;48;2;39;40;34m}\u001b[0m\u001b[38;2;230;219;116;48;2;39;40;34m руб.\u001b[0m\u001b[38;2;174;129;255;48;2;39;40;34m\\n\u001b[0m\u001b[38;2;230;219;116;48;2;39;40;34m{\u001b[0m\u001b[38;2;248;248;242;48;2;39;40;34mdessert_name\u001b[0m\u001b[38;2;230;219;116;48;2;39;40;34m}\u001b[0m\u001b[38;2;230;219;116;48;2;39;40;34m: \u001b[0m\u001b[48;2;39;40;34m \u001b[0m  \n",
       "  \u001b[38;2;230;219;116;48;2;39;40;34m{\u001b[0m\u001b[38;2;248;248;242;48;2;39;40;34mdessert_price\u001b[0m\u001b[38;2;230;219;116;48;2;39;40;34m}\u001b[0m\u001b[38;2;230;219;116;48;2;39;40;34m руб.\u001b[0m\u001b[38;2;174;129;255;48;2;39;40;34m\\n\u001b[0m\u001b[38;2;230;219;116;48;2;39;40;34mОбщая стоимость: \u001b[0m\u001b[38;2;230;219;116;48;2;39;40;34m{\u001b[0m\u001b[38;2;248;248;242;48;2;39;40;34mtotal_cost\u001b[0m\u001b[38;2;230;219;116;48;2;39;40;34m}\u001b[0m\u001b[38;2;230;219;116;48;2;39;40;34m руб.\u001b[0m\u001b[38;2;230;219;116;48;2;39;40;34m\"\u001b[0m\u001b[38;2;248;248;242;48;2;39;40;34m)\u001b[0m\u001b[48;2;39;40;34m                                                     \u001b[0m  \n",
       " ───────────────────────────────────────────────────────────────────────────────────────────────────────────────── \n"
      ]
     },
     "metadata": {},
     "output_type": "display_data"
    },
    {
     "data": {
      "text/html": [
       "<pre style=\"white-space:pre;overflow-x:auto;line-height:normal;font-family:Menlo,'DejaVu Sans Mono',consolas,'Courier New',monospace\"><span style=\"color: #d4b702; text-decoration-color: #d4b702; font-weight: bold\">Out - Final answer: Меню ужина:</span>\n",
       "<span style=\"color: #d4b702; text-decoration-color: #d4b702; font-weight: bold\">Стейк \"Бык на взводе\": 2500 руб.</span>\n",
       "<span style=\"color: #d4b702; text-decoration-color: #d4b702; font-weight: bold\">Каберне Совиньон Château Lafite Rothschild: 4500 руб.</span>\n",
       "<span style=\"color: #d4b702; text-decoration-color: #d4b702; font-weight: bold\">Шоколадный апокалипсис: 800 руб.</span>\n",
       "<span style=\"color: #d4b702; text-decoration-color: #d4b702; font-weight: bold\">Общая стоимость: 7800 руб.</span>\n",
       "</pre>\n"
      ],
      "text/plain": [
       "\u001b[1;38;2;212;183;2mOut - Final answer: Меню ужина:\u001b[0m\n",
       "\u001b[1;38;2;212;183;2mСтейк \"Бык на взводе\": 2500 руб.\u001b[0m\n",
       "\u001b[1;38;2;212;183;2mКаберне Совиньон Château Lafite Rothschild: 4500 руб.\u001b[0m\n",
       "\u001b[1;38;2;212;183;2mШоколадный апокалипсис: 800 руб.\u001b[0m\n",
       "\u001b[1;38;2;212;183;2mОбщая стоимость: 7800 руб.\u001b[0m\n"
      ]
     },
     "metadata": {},
     "output_type": "display_data"
    },
    {
     "data": {
      "text/html": [
       "<pre style=\"white-space:pre;overflow-x:auto;line-height:normal;font-family:Menlo,'DejaVu Sans Mono',consolas,'Courier New',monospace\"><span style=\"color: #7f7f7f; text-decoration-color: #7f7f7f\">[Step 2: Duration 4.60 seconds| Input tokens: 6,758 | Output tokens: 400]</span>\n",
       "</pre>\n"
      ],
      "text/plain": [
       "\u001b[2m[Step 2: Duration 4.60 seconds| Input tokens: 6,758 | Output tokens: 400]\u001b[0m\n"
      ]
     },
     "metadata": {},
     "output_type": "display_data"
    }
   ],
   "source": [
    "with MCPClient({\"url\" : \"http://127.0.0.1:8000/sse\"}) as res_tools:\n",
    "    agent = CodeAgent(\n",
    "        tools=res_tools+[find_matching_food,find_matching_wine], \n",
    "        prompt_templates = russian_templates,\n",
    "        model=ygpt_model)\n",
    "    agent.prompt_templates = yaml.load(open('etc/smolagents_code_agent_russian_prompts.yaml'), Loader=yaml.FullLoader)\n",
    "    agent.run(\"\"\"\n",
    "    Подбери меню для ужина в ресторане из основного блюда, подходящего вина и десерта, и\n",
    "    посчитай его стоимость.\n",
    "    Выведи табличку из названий блюд и напитков и их стоимости. Я хочу стейк!\n",
    "    \"\"\")"
   ]
  },
  {
   "cell_type": "markdown",
   "id": "d3349c70",
   "metadata": {},
   "source": [
    "## Заключение\n",
    "\n",
    "Code Agents - это способ создания достаточно гибких агентов, способных самостоятельно декомпозировать задачу на подзадачи и решать их с помощью написания кода. "
   ]
  }
 ],
 "metadata": {
  "kernelspec": {
   "display_name": "mas",
   "language": "python",
   "name": "python3"
  },
  "language_info": {
   "codemirror_mode": {
    "name": "ipython",
    "version": 3
   },
   "file_extension": ".py",
   "mimetype": "text/x-python",
   "name": "python",
   "nbconvert_exporter": "python",
   "pygments_lexer": "ipython3",
   "version": "3.12.0"
  }
 },
 "nbformat": 4,
 "nbformat_minor": 5
}
