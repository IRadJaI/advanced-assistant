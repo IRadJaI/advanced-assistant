{
 "cells": [
  {
   "cell_type": "markdown",
   "id": "5c5c6e0c",
   "metadata": {},
   "source": [
    "## Подбор еды с помощью LangGraph Agentic Workflow\n",
    "\n",
    "Рассмотрим сценарий, когда нам нужно подобрать меню для пользователя в некотором ресторане, таким образом, чтобы вино подходило к основному блюду. Для этой задачи можно использовать типовой процесс из реальной жизни, в котором участвуют:\n",
    "* Хостесс для выяснения первоначальных предпочтений посетителя\n",
    "* Официант, знакомый с меню ресторана, и умеющий отвечать на вопросы по блюдам\n",
    "* Сомелье, умеющий подбирать подходящее вино\n",
    "\n",
    "Для каждой из этих задач можем использовать отдельного агента со своими навыками (инструментами) и/или RAG-базой знаний.\n",
    "\n",
    "Для создания агентов используем код из [рассмотренного ранее примера](advanced-assistant.ipynb). Будем использовать [Yandex Cloud ML SDK](https://github.com/yandex-cloud/yandex-cloud-ml-sdk) и [AI Assistant API](https://yandex.cloud/ru/docs/foundation-models/concepts/assistant/):"
   ]
  },
  {
   "cell_type": "code",
   "execution_count": 1,
   "id": "e539b9b7",
   "metadata": {},
   "outputs": [],
   "source": [
    "import os\n",
    "\n",
    "if os.name == 'nt':\n",
    "    os.environ[\"GRPC_POLL_STRATEGY\"] = \"poll\"\n",
    "    import asyncio\n",
    "    asyncio.set_event_loop_policy(asyncio.WindowsSelectorEventLoopPolicy())\n",
    "\n",
    "from yandex_cloud_ml_sdk import YCloudML, AsyncYCloudML\n",
    "from yandex_cloud_ml_sdk.search_indexes import (\n",
    "    StaticIndexChunkingStrategy,\n",
    "    HybridSearchIndexType,\n",
    "    ReciprocalRankFusionIndexCombinationStrategy,\n",
    ")\n",
    "from IPython.display import Markdown, display\n",
    "\n",
    "folder_id = os.environ[\"folder_id\"]\n",
    "api_key = os.environ[\"api_key\"]\n",
    "\n",
    "sdk = YCloudML(folder_id=folder_id, auth=api_key)\n",
    "asdk = AsyncYCloudML(folder_id=folder_id, auth=api_key)\n",
    "\n",
    "# Раскомментируйте, если хотите подробнее смотреть, что делает SDK\n",
    "#sdk.setup_default_logging(log_level='DEBUG')\n",
    "\n",
    "model = sdk.models.completions(\"yandexgpt\", model_version=\"rc\")\n",
    "\n",
    "def create_thread():\n",
    "    return sdk.threads.create(ttl_days=1, expiration_policy=\"static\")\n",
    "\n",
    "def create_assistant(model, tools=None):\n",
    "    kwargs = {}\n",
    "    if tools and len(tools) > 0:\n",
    "        kwargs = {\"tools\": tools}\n",
    "    return sdk.assistants.create(\n",
    "        model, ttl_days=1, expiration_policy=\"since_last_active\", **kwargs\n",
    "    )\n",
    "\n",
    "def create_search_index(content):\n",
    "    uploaded = [\n",
    "        sdk.files.upload_bytes(\n",
    "            x.encode(), \n",
    "            ttl_days=5, \n",
    "            expiration_policy=\"static\",\n",
    "            mime_type=\"text/markdown\")\n",
    "        for x in content]\n",
    "\n",
    "    op = sdk.search_indexes.create_deferred(\n",
    "        uploaded,\n",
    "        index_type=HybridSearchIndexType(\n",
    "            chunking_strategy=StaticIndexChunkingStrategy(\n",
    "                max_chunk_size_tokens=1000, chunk_overlap_tokens=100\n",
    "            ),\n",
    "            combination_strategy=ReciprocalRankFusionIndexCombinationStrategy(),\n",
    "        ),\n",
    "    )\n",
    "    return uploaded, op.wait()\n",
    "\n",
    "def fread(fn):\n",
    "    with open(fn, encoding='utf-8') as f:\n",
    "        return f.read()\n",
    "    \n",
    "def printx(x):\n",
    "    display(Markdown(x))"
   ]
  },
  {
   "cell_type": "markdown",
   "id": "4c94c653",
   "metadata": {},
   "source": [
    "Теперь создадим основной класс `Agent`, который позволит нам создавать агента, передавая ему:\n",
    "* Системный промпт `instruction`\n",
    "* Набор внешних инструментов `tools`\n",
    "* Набор документов для RAG `search_content`\n",
    "\n",
    "Агент при создании автоматически создаст поисковый индекс из документов, а при вызове отработает Function Calling и вернет ответ. Также агент может вести диалог в произольном `thread`, но если мы явно не указываем `thread`, то создается специальная переписка для текущего экземпляра агента. Это упрощает нам код в дальнейшем - не придётся заботится о сохранении истории в явном виде."
   ]
  },
  {
   "cell_type": "code",
   "execution_count": 2,
   "id": "671fe7a2",
   "metadata": {},
   "outputs": [],
   "source": [
    "class Agent:\n",
    "    def __init__(self, \n",
    "        assistant=None, \n",
    "        instruction=None, \n",
    "        search_index=None, \n",
    "        search_content=None, \n",
    "        tools=None,\n",
    "        response_format=None):\n",
    "\n",
    "        self.thread = None\n",
    "        self.uploaded = None\n",
    "        self.model = model\n",
    "        self.response_format = response_format\n",
    "\n",
    "        if assistant:\n",
    "            self.assistant = assistant\n",
    "        else:\n",
    "            if tools:\n",
    "                self.tools = {x.__name__: x for x in tools}\n",
    "                tools = [sdk.tools.function(x) for x in tools]\n",
    "            else:\n",
    "                self.tools = {}\n",
    "                tools = []\n",
    "            if search_index is None and search_content:\n",
    "                self.uploaded, search_index = create_search_index(search_content)\n",
    "            if search_index:\n",
    "                tools.append(sdk.tools.search_index(search_index))\n",
    "            if response_format:\n",
    "                self.model = self.model.configure(response_format=response_format)\n",
    "            self.assistant = create_assistant(self.model, tools)\n",
    "\n",
    "        if instruction:\n",
    "            self.assistant.update(instruction=instruction)\n",
    "\n",
    "    def get_thread(self, thread=None):\n",
    "        if thread is not None:\n",
    "            return thread\n",
    "        if self.thread == None:\n",
    "            self.thread = create_thread()\n",
    "        return self.thread\n",
    "\n",
    "    def __call__(self, message, thread=None):\n",
    "        thread = self.get_thread(thread)\n",
    "        thread.write(message)\n",
    "        run = self.assistant.run(thread)\n",
    "        res = run.wait()\n",
    "        if res.tool_calls:\n",
    "            result = []\n",
    "            for f in res.tool_calls:\n",
    "                print(\n",
    "                    f\" + Вызываем функцию {f.function.name}, args={f.function.arguments}\"\n",
    "                )\n",
    "                fn = self.tools[f.function.name]\n",
    "                obj = fn(**f.function.arguments)\n",
    "                x = obj.process(thread)\n",
    "                result.append({\"name\": f.function.name, \"content\": x})\n",
    "            run.submit_tool_results(result)\n",
    "            res = run.wait()\n",
    "        res = res.text\n",
    "        if self.response_format:\n",
    "            res = self.response_format.model_validate_json(res[res.index(\"{\"):res.index(\"}\")+1])\n",
    "        return res \n",
    "\n",
    "    def restart(self):\n",
    "        if self.thread:\n",
    "            self.thread.delete()\n",
    "            self.thread = sdk.threads.create(\n",
    "                name=\"Test\", ttl_days=1, expiration_policy=\"static\"\n",
    "            )\n",
    "\n",
    "    def done(self, delete_assistant=False):\n",
    "        if self.thread:\n",
    "            self.thread.delete()\n",
    "        if delete_assistant:\n",
    "            self.assistant.delete()\n"
   ]
  },
  {
   "cell_type": "markdown",
   "id": "a96ba960",
   "metadata": {},
   "source": [
    "Для решения нашей задачи будем моделировать поход в ресторан в реальной жизни. У нас будут следующие роли:\n",
    "\n",
    "* Агент-официант владеет информацией о меню ресторана, и может рекомендовать конкретное блюдо\n",
    "* Агент-сомелье умеет подбирать сочетания блюд и вина\n",
    "* Агент-хостесс принимает первоначальные предпочтения посетителя, и далее маршрутизирует диалог между другими агентами для решения задачи.\n",
    "\n",
    "Создадим этих агентов:\n",
    "\n",
    "## Агент-официант\n",
    "\n",
    "Для начала, создадим агента, который владеет меню нашего ресторана. Поскольку меню обычно невелико по объему, то используем для этого RAG, в контекст которого добавим собственно меню:"
   ]
  },
  {
   "cell_type": "code",
   "execution_count": 3,
   "id": "000530c4",
   "metadata": {},
   "outputs": [
    {
     "name": "stderr",
     "output_type": "stream",
     "text": [
      "Exception in callback PollerCompletionQueue._handle_events(<_WindowsSele...e debug=False>)()\n",
      "handle: <Handle PollerCompletionQueue._handle_events(<_WindowsSele...e debug=False>)()>\n",
      "Traceback (most recent call last):\n",
      "  File \"c:\\winapp\\conda\\envs\\mas\\Lib\\asyncio\\events.py\", line 84, in _run\n",
      "    self._context.run(self._callback, *self._args)\n",
      "  File \"src\\\\python\\\\grpcio\\\\grpc\\\\_cython\\\\_cygrpc/aio/completion_queue.pyx.pxi\", line 147, in grpc._cython.cygrpc.PollerCompletionQueue._handle_events\n",
      "BlockingIOError: [WinError 10035] A non-blocking socket operation could not be completed immediately\n",
      "Exception in callback PollerCompletionQueue._handle_events(<_WindowsSele...e debug=False>)()\n",
      "handle: <Handle PollerCompletionQueue._handle_events(<_WindowsSele...e debug=False>)()>\n",
      "Traceback (most recent call last):\n",
      "  File \"c:\\winapp\\conda\\envs\\mas\\Lib\\asyncio\\events.py\", line 84, in _run\n",
      "    self._context.run(self._callback, *self._args)\n",
      "  File \"src\\\\python\\\\grpcio\\\\grpc\\\\_cython\\\\_cygrpc/aio/completion_queue.pyx.pxi\", line 147, in grpc._cython.cygrpc.PollerCompletionQueue._handle_events\n",
      "BlockingIOError: [WinError 10035] A non-blocking socket operation could not be completed immediately\n",
      "Exception in callback PollerCompletionQueue._handle_events(<_WindowsSele...e debug=False>)()\n",
      "handle: <Handle PollerCompletionQueue._handle_events(<_WindowsSele...e debug=False>)()>\n",
      "Traceback (most recent call last):\n",
      "  File \"c:\\winapp\\conda\\envs\\mas\\Lib\\asyncio\\events.py\", line 84, in _run\n",
      "    self._context.run(self._callback, *self._args)\n",
      "  File \"src\\\\python\\\\grpcio\\\\grpc\\\\_cython\\\\_cygrpc/aio/completion_queue.pyx.pxi\", line 147, in grpc._cython.cygrpc.PollerCompletionQueue._handle_events\n",
      "BlockingIOError: [WinError 10035] A non-blocking socket operation could not be completed immediately\n",
      "Exception in callback PollerCompletionQueue._handle_events(<_WindowsSele...e debug=False>)()\n",
      "handle: <Handle PollerCompletionQueue._handle_events(<_WindowsSele...e debug=False>)()>\n",
      "Traceback (most recent call last):\n",
      "  File \"c:\\winapp\\conda\\envs\\mas\\Lib\\asyncio\\events.py\", line 84, in _run\n",
      "    self._context.run(self._callback, *self._args)\n",
      "  File \"src\\\\python\\\\grpcio\\\\grpc\\\\_cython\\\\_cygrpc/aio/completion_queue.pyx.pxi\", line 147, in grpc._cython.cygrpc.PollerCompletionQueue._handle_events\n",
      "BlockingIOError: [WinError 10035] A non-blocking socket operation could not be completed immediately\n",
      "Exception in callback PollerCompletionQueue._handle_events(<_WindowsSele...e debug=False>)()\n",
      "handle: <Handle PollerCompletionQueue._handle_events(<_WindowsSele...e debug=False>)()>\n",
      "Traceback (most recent call last):\n",
      "  File \"c:\\winapp\\conda\\envs\\mas\\Lib\\asyncio\\events.py\", line 84, in _run\n",
      "    self._context.run(self._callback, *self._args)\n",
      "  File \"src\\\\python\\\\grpcio\\\\grpc\\\\_cython\\\\_cygrpc/aio/completion_queue.pyx.pxi\", line 147, in grpc._cython.cygrpc.PollerCompletionQueue._handle_events\n",
      "BlockingIOError: [WinError 10035] A non-blocking socket operation could not be completed immediately\n",
      "Exception in callback PollerCompletionQueue._handle_events(<_WindowsSele...e debug=False>)()\n",
      "handle: <Handle PollerCompletionQueue._handle_events(<_WindowsSele...e debug=False>)()>\n",
      "Traceback (most recent call last):\n",
      "  File \"c:\\winapp\\conda\\envs\\mas\\Lib\\asyncio\\events.py\", line 84, in _run\n",
      "    self._context.run(self._callback, *self._args)\n",
      "  File \"src\\\\python\\\\grpcio\\\\grpc\\\\_cython\\\\_cygrpc/aio/completion_queue.pyx.pxi\", line 147, in grpc._cython.cygrpc.PollerCompletionQueue._handle_events\n",
      "BlockingIOError: [WinError 10035] A non-blocking socket operation could not be completed immediately\n",
      "Exception in callback PollerCompletionQueue._handle_events(<_WindowsSele...e debug=False>)()\n",
      "handle: <Handle PollerCompletionQueue._handle_events(<_WindowsSele...e debug=False>)()>\n",
      "Traceback (most recent call last):\n",
      "  File \"c:\\winapp\\conda\\envs\\mas\\Lib\\asyncio\\events.py\", line 84, in _run\n",
      "    self._context.run(self._callback, *self._args)\n",
      "  File \"src\\\\python\\\\grpcio\\\\grpc\\\\_cython\\\\_cygrpc/aio/completion_queue.pyx.pxi\", line 147, in grpc._cython.cygrpc.PollerCompletionQueue._handle_events\n",
      "BlockingIOError: [WinError 10035] A non-blocking socket operation could not be completed immediately\n",
      "Exception in callback PollerCompletionQueue._handle_events(<_WindowsSele...e debug=False>)()\n",
      "handle: <Handle PollerCompletionQueue._handle_events(<_WindowsSele...e debug=False>)()>\n",
      "Traceback (most recent call last):\n",
      "  File \"c:\\winapp\\conda\\envs\\mas\\Lib\\asyncio\\events.py\", line 84, in _run\n",
      "    self._context.run(self._callback, *self._args)\n",
      "  File \"src\\\\python\\\\grpcio\\\\grpc\\\\_cython\\\\_cygrpc/aio/completion_queue.pyx.pxi\", line 147, in grpc._cython.cygrpc.PollerCompletionQueue._handle_events\n",
      "BlockingIOError: [WinError 10035] A non-blocking socket operation could not be completed immediately\n",
      "Exception in callback PollerCompletionQueue._handle_events(<_WindowsSele...e debug=False>)()\n",
      "handle: <Handle PollerCompletionQueue._handle_events(<_WindowsSele...e debug=False>)()>\n",
      "Traceback (most recent call last):\n",
      "  File \"c:\\winapp\\conda\\envs\\mas\\Lib\\asyncio\\events.py\", line 84, in _run\n",
      "    self._context.run(self._callback, *self._args)\n",
      "  File \"src\\\\python\\\\grpcio\\\\grpc\\\\_cython\\\\_cygrpc/aio/completion_queue.pyx.pxi\", line 147, in grpc._cython.cygrpc.PollerCompletionQueue._handle_events\n",
      "BlockingIOError: [WinError 10035] A non-blocking socket operation could not be completed immediately\n",
      "Exception in callback PollerCompletionQueue._handle_events(<_WindowsSele...e debug=False>)()\n",
      "handle: <Handle PollerCompletionQueue._handle_events(<_WindowsSele...e debug=False>)()>\n",
      "Traceback (most recent call last):\n",
      "  File \"c:\\winapp\\conda\\envs\\mas\\Lib\\asyncio\\events.py\", line 84, in _run\n",
      "    self._context.run(self._callback, *self._args)\n",
      "  File \"src\\\\python\\\\grpcio\\\\grpc\\\\_cython\\\\_cygrpc/aio/completion_queue.pyx.pxi\", line 147, in grpc._cython.cygrpc.PollerCompletionQueue._handle_events\n",
      "BlockingIOError: [WinError 10035] A non-blocking socket operation could not be completed immediately\n",
      "Exception in callback PollerCompletionQueue._handle_events(<_WindowsSele...e debug=False>)()\n",
      "handle: <Handle PollerCompletionQueue._handle_events(<_WindowsSele...e debug=False>)()>\n",
      "Traceback (most recent call last):\n",
      "  File \"c:\\winapp\\conda\\envs\\mas\\Lib\\asyncio\\events.py\", line 84, in _run\n",
      "    self._context.run(self._callback, *self._args)\n",
      "  File \"src\\\\python\\\\grpcio\\\\grpc\\\\_cython\\\\_cygrpc/aio/completion_queue.pyx.pxi\", line 147, in grpc._cython.cygrpc.PollerCompletionQueue._handle_events\n",
      "BlockingIOError: [WinError 10035] A non-blocking socket operation could not be completed immediately\n"
     ]
    }
   ],
   "source": [
    "prompt = \"\"\"\n",
    "Ты - официант в ресторане, который должен советовать посетителям блюда и отвечать \n",
    "на вопросы по меню. В твоем распоряжении есть выдержки из меню, которые\n",
    "релевантны запросу. Отвечай на вопрос, используя имеющуюся у тебя на входе\n",
    "информацию, и только её. Не придумывай ничего! \n",
    "\"\"\"\n",
    "\n",
    "waiter = Agent(\n",
    "    search_content=[fread('data/menu/food.md'),fread('data/menu/drinks.md')],\n",
    "    instruction=prompt)  "
   ]
  },
  {
   "cell_type": "code",
   "execution_count": 4,
   "id": "21c0501d",
   "metadata": {},
   "outputs": [
    {
     "data": {
      "text/markdown": [
       "В меню нет ливерной колбасы."
      ],
      "text/plain": [
       "<IPython.core.display.Markdown object>"
      ]
     },
     "metadata": {},
     "output_type": "display_data"
    }
   ],
   "source": [
    "printx(waiter(\"Сколько стоит ливерная колбаса?\"))"
   ]
  },
  {
   "cell_type": "code",
   "execution_count": 5,
   "id": "366b7d35",
   "metadata": {},
   "outputs": [
    {
     "data": {
      "text/markdown": [
       "Самое дорогое вино — Пино Нуар от Domaine de la Romanée-Conti, Франция, 2017 года. Цена за бокал — 5200 рублей."
      ],
      "text/plain": [
       "<IPython.core.display.Markdown object>"
      ]
     },
     "metadata": {},
     "output_type": "display_data"
    }
   ],
   "source": [
    "printx(waiter(\"Какое самое дорогое вино?\"))"
   ]
  },
  {
   "cell_type": "markdown",
   "id": "2e7b7bc3",
   "metadata": {},
   "source": [
    "## Агент-сомелье\n",
    "\n",
    "Теперь создадим агента, который может дать рекомендации по сочетанию вин и еды. Будем использовать таблицу соответствий еды и вина такого вида:\n",
    "\n",
    "Блюдо, к которому надо подобрать вино | Вино, которое подходит к этому блюду\n",
    "--------|--------\n",
    "Баклажаны, запеченые с сыром | Красное вино: «среднетелые»* сухие — Гренаш (Гарнача), Санджовезе (Кьянти), Карменер, Менсия, молодые Темпранильо, легкотелое Мерло.\n",
    "Баранина деликатесная (филе или каре ягненка) | Красное вино: сухие выдержанные вина из винограда Пино Нуар, Менсия, Неббиоло (в том числе элегантные выдержанные Бароло и Барбареско), Гамэ (элегантные бургундские Божоле Виляж).\n",
    "Баранина пикантная: жареная, гриль, тушеная — со специями | Красные вина: сухие вина из винограда Каберне Совиньон, «ронские»** ассамбляжи Гренаш+Сира+Мурведр, французский Мальбек, немного «скругленная» Барбера, Сира (Шираз). Выдержанные вина из Санджовезе (Кьянти Классико, вина Монтальчино), Альянико, «супертосканские»*** вина, добротные Crianza Риохи. Примитиво и Зинфандель. Саперави из России.\n",
    "\n",
    "Для этого также используем RAG, как в предыдущем примере, только вручную нарежем табличку на небольшие фрагменты, обязательно содержащие в себе заголовок:"
   ]
  },
  {
   "cell_type": "code",
   "execution_count": 6,
   "id": "cb78bd5a",
   "metadata": {},
   "outputs": [],
   "source": [
    "with open(\"data/food_wine_table.md\", encoding=\"utf-8\") as f:\n",
    "    food_wine = f.readlines()\n",
    "header = food_wine[:2]\n",
    "chunk_size = 600 * 3  # approx 600 tokens * 2 char/token\n",
    "docs = []\n",
    "s = header.copy()\n",
    "for x in food_wine[2:]:\n",
    "    s.append(x)\n",
    "    if len(\"\".join(s)) > chunk_size:\n",
    "        docs.append(\"\".join(s))\n",
    "        s = header.copy()"
   ]
  },
  {
   "cell_type": "code",
   "execution_count": 7,
   "id": "0662be2b",
   "metadata": {},
   "outputs": [],
   "source": [
    "prompt = \"\"\"\n",
    "Ты - опытный сомелье, который должен рекомендовать клиенту правильные сочетания блюд и вина. Отвечай на просьба подобрать вино к еде или еду к вину, используя имеющуюся у тебя информацию. Также если\n",
    "пользователь просит посоветовать ему какое-то интересное сочетание - сделай это на основе имеющихся данных. Не придумывай ничего!\n",
    "\"\"\"\n",
    "\n",
    "sommelier = Agent(\n",
    "    search_content=docs,\n",
    "    instruction=prompt)  "
   ]
  },
  {
   "cell_type": "code",
   "execution_count": 8,
   "id": "a1d6843b",
   "metadata": {},
   "outputs": [
    {
     "data": {
      "text/markdown": [
       "К стейку из мраморной говядины нежной прожарки (например, филе-миньон) подойдут лёгкие и элегантные красные вина из винограда Пино Нуар, Нерелло Маскалезе, элегантно сделанное и выдержанное Мерло. Также можно выбрать «округлые», выдержанные варианты из сортов Неббиоло (Барбареско), Темпранильо (Рибейра дель Дуэро), Санджовезе (Кьянти Ризерва).\n",
       "\n",
       "К стейку из мраморной говядины жирноватой прожарки Rare подойдут выдержанные и «благородные» вина из Темпранильо (Рибейра дель Дуэро или любые от Ризервы и выше), Санджовезе (Кьянти Ризерва, Брунелло), «супертосканские» вина, Бордо Правого берега, шелковистые аргентинские Мальбеки.\n",
       "\n",
       "К прожарке Medium или WellDone подойдут сухие и полусухие из винограда Сира (Шираз), Каберне Совиньон, «тельный» Мальбек, Примитиво, Зинфандель, Альянико (выдержанное и слегка «округлившееся»), выдержанный «ронский» ассамбляж Гренаш+Сира+Мурведр, вина Приората от 6–8 лет выдержки и выше."
      ],
      "text/plain": [
       "<IPython.core.display.Markdown object>"
      ]
     },
     "metadata": {},
     "output_type": "display_data"
    }
   ],
   "source": [
    "printx(sommelier(\"Какое вино подойдёт к стейку?\"))"
   ]
  },
  {
   "cell_type": "code",
   "execution_count": 9,
   "id": "69cf4f55",
   "metadata": {},
   "outputs": [
    {
     "data": {
      "text/markdown": [
       "К стейку филе-миньон подойдут лёгкие и элегантные красные вина из винограда Пино Нуар, Нерелло Маскалезе, а также элегантно сделанное и выдержанное Мерло. Также можно выбрать «округлые», выдержанные варианты из сортов Неббиоло (Барбареско), Темпранильо (Рибейра дель Дуэро), Санджовезе (Кьянти Ризерва)."
      ],
      "text/plain": [
       "<IPython.core.display.Markdown object>"
      ]
     },
     "metadata": {},
     "output_type": "display_data"
    }
   ],
   "source": [
    "printx(sommelier(\"Какое вино подойдёт к стейку филе миньон?\"))"
   ]
  },
  {
   "cell_type": "markdown",
   "id": "172c21f6",
   "metadata": {},
   "source": [
    "## Агент-хостесс\n",
    "\n",
    "На входе в ресторан посетителя приветствует хостесс, которая интересуется, что именно хочет есть человек. Для этого заведём специального агента, который будет вычленять из запроса пользователя его предпочтения по вину и по еде. Для этого используем структурный вывод модели."
   ]
  },
  {
   "cell_type": "code",
   "execution_count": 10,
   "id": "a01bc99f",
   "metadata": {},
   "outputs": [],
   "source": [
    "from pydantic import BaseModel\n",
    "\n",
    "class PersonPref(BaseModel):\n",
    "    food_pref : str = \"\"\n",
    "    wine_pref : str = \"\"\n",
    "    \n",
    "prompt = \"\"\"\n",
    "Ты - официант в ресторане, задача которого принять заказ у посетителя.\n",
    "Тебе необходимо выслушать его и понять, есть ли у него какие-то предпочтения\n",
    "по еде или по вину. Верни ответ в формате json, с полями \n",
    "`food_pref` и `wine_pref`, в которых будут указаны предпочтения. \n",
    "Если нет предпочтений, то верни пустые строки.\n",
    "\"\"\"\n",
    "\n",
    "hostess = Agent(\n",
    "    instruction=prompt,\n",
    "    response_format=PersonPref)"
   ]
  },
  {
   "cell_type": "code",
   "execution_count": 11,
   "id": "39b510c3",
   "metadata": {},
   "outputs": [
    {
     "data": {
      "text/plain": [
       "PersonPref(food_pref='мясо', wine_pref='')"
      ]
     },
     "execution_count": 11,
     "metadata": {},
     "output_type": "execute_result"
    }
   ],
   "source": [
    "res = hostess(\"Привет, я хочу поесть что-то из мяса\")\n",
    "res"
   ]
  },
  {
   "cell_type": "markdown",
   "id": "8845d317",
   "metadata": {},
   "source": [
    "## Собираем агентов вместе: LangGraph\n",
    "\n",
    "Для объединения агентов вместе будем использовать фреймворк LangGraph. В основе этого фреймворка - идея графа состояний (state machine) и **состояния**, в зависимости от которого определяется дальнейшее поведение системы.\n",
    "\n",
    "Узлами графа являются функции, которые возвращают **state update** - объект, который обновляет состояние. Для начала опишем класс, который будет определять состояние системы:"
   ]
  },
  {
   "cell_type": "code",
   "execution_count": 12,
   "id": "48d41bba",
   "metadata": {},
   "outputs": [],
   "source": [
    "from typing import TypedDict, List, Dict, Any, Optional\n",
    "from langgraph.graph import StateGraph, START, END\n",
    "from yandex_cloud_ml_sdk._threads.thread import Thread\n",
    "\n",
    "class RecommenderState(TypedDict):\n",
    "    message : str\n",
    "    thread : Thread\n",
    "    foodpref : str = \"\"\n",
    "    winepref : str = \"\"\n",
    "    maindish : str\n",
    "    wine : str\n",
    "    answer : str\n",
    "    \n",
    "def pr(state: RecommenderState):\n",
    "    return ', '.join([f\"{k}={v}\" for k,v in state.items() if k!=\"thread\"])"
   ]
  },
  {
   "cell_type": "markdown",
   "id": "6272cffd",
   "metadata": {},
   "source": [
    "Исходное сообщение пользователя будет в поле `message`, а финальный ответ - в поле `answer`. Мы также будем использовать **общее состояние переписки**, которое будет хранится в виде объекта `Thread` в одноимённом поле. Также начальные преференции пользователя будем хранить в полях `foodpref` и `winepref`, а выбранные блюдо и вино - в полях `maindish` и `wine`.\n",
    "\n",
    "Логика работы будет такая:\n",
    "* Вначале извлекаем предпочтения пользователя - за это отвечает функция `welcome` и агент-хостесс\n",
    "* Основным узлом-маршрутизатором нашей многоагентной системы будет функция `clarify`. Если она видит какие-то из преференций `foodpref` или `winepref` - она выбирает по ним соответствующие блюда из меню с помощью агента-официанта.\n",
    "* После `clarify` выполняется функция `route_user`, которая определяет, что делать дальше:\n",
    "   - Если блюда и вино выбраны - мы отправляемся в узел `check_combination`, где с помощью сомелье проверяем, насколько выбранные блюдо и вино сочетаются между собой. Они могут не сочетаться, если пользователь сразу захотел есть стейк с белым вином.\n",
    "   - Если какая-то из преференций `winepref` или `foodpref` не заполнены - происходит вызов функции `recommend_food` или `recommend_wine`, чтобы с помощью сомелье заполнить этот пробел\n",
    "   - Если у пользователя нет преференций, то функция `select_random` выбирает для него какое-то блюдо, после чего выполнение агента продолжается с узла `recommend_wine`.\n",
    "\n",
    "Помимо описания функций для каждого из узлов, нам нужно явным образом добавить узлы в граф с помощью `add_node`, и все переходы между ними, с помощью `add_edge` и `add_conditional_edges`. Дальше получишийся граф можно наприсовать."
   ]
  },
  {
   "cell_type": "code",
   "execution_count": 13,
   "id": "40438356",
   "metadata": {},
   "outputs": [
    {
     "data": {
      "image/png": "[encoded data removed]",
      "text/plain": [
       "<IPython.core.display.Image object>"
      ]
     },
     "metadata": {},
     "output_type": "display_data"
    }
   ],
   "source": [
    "from IPython.display import Image, display\n",
    "\n",
    "def welcome_user(state: RecommenderState):\n",
    "    print(f\"> Welcome, state={pr(state)}\")\n",
    "    msg = state['message']\n",
    "    print(f\" + Сообщение от пользователя: {msg}\")\n",
    "    res = hostess(msg,state['thread'])\n",
    "    print(f\" + Получены преференции: {res}\")\n",
    "    return {\n",
    "        'foodpref' : res.food_pref,\n",
    "        'winepref' : res.wine_pref\n",
    "    }\n",
    "    \n",
    "def route_user(state: RecommenderState) -> str:\n",
    "    if state.get('maindish') and state.get('wine'): return \"Done\"\n",
    "    if state['foodpref'] == \"\" and state['winepref'] == \"\": return \"None\"\n",
    "    elif state['foodpref'] == \"\" and state['winepref'] != \"\": return \"WantWine\"\n",
    "    elif state['foodpref'] != \"\" and state['winepref'] == \"\": return \"WantFood\"\n",
    "    else: return \"Both\"\n",
    "\n",
    "def select_random(state: RecommenderState):\n",
    "    print(f\"> SelectRandom, state={pr(state)}\")\n",
    "    maindish = waiter(\n",
    "        \"Порекомендуйте мне какое-нибудь одно основное блюдо. Напиши в ответ только название этого блюда.\",\n",
    "        state[\"thread\"])\n",
    "    print(f\" + Выбрано случайное блюдо: {maindish}\")\n",
    "    return { \"maindish\" : maindish }\n",
    "    \n",
    "def recommend_food(state: RecommenderState):\n",
    "    print(f\"> Recommend Food, state={pr(state)}\")\n",
    "    wine = state.get(\"wine\") or state.get(\"winepref\")\n",
    "    print(f\" + Рекомендуем блюда к вину {wine}\")\n",
    "    foodpref = sommelier(f\"Какие типы блюд подойдут к вину {wine}?\", state['thread'])\n",
    "    print(f\" + Рекомендации: {foodpref}\")\n",
    "    return { \"foodpref\" : foodpref }\n",
    "\n",
    "def recommend_wine(state: RecommenderState):\n",
    "    print(f\"> Recommend wine, state={pr(state)}\")\n",
    "    food = state.get('maindish') or state.get('foodpref')\n",
    "    print(f\" + Рекомендуем вино к блюду {food}\")\n",
    "    winepref = sommelier(f\"Какие вина подойдут к блюду {food}?\", state['thread'])\n",
    "    print(f\" + Рекомендации: {winepref}\")\n",
    "    return { \"winepref\" : winepref }\n",
    "    \n",
    "def clarify(state: RecommenderState):\n",
    "    print(f\"> Clarify, state={pr(state)}\")\n",
    "    upd = {}\n",
    "    if state.get(\"winepref\") and not state.get('wine'):\n",
    "        print(f\" + Подбираем вино: {state['winepref']}\")\n",
    "        upd[\"wine\"] = waiter(f\"Какое из следующих вин в меню подходит под такое описание: {state['winepref']}? Выбери только одно вино из меню.\",state['thread'])\n",
    "        print(f\" + Выбрано вино: {upd['wine']}\")\n",
    "    if state.get(\"foodpref\") and not state.get('maindish'):\n",
    "        print(f\" + Подбираем еду: {state['foodpref']}\")\n",
    "        upd[\"maindish\"] = waiter(f\"Какое из следующих блюд в меню подходит под такое описание: {state['foodpref']}?  Выбери только одно блюдо из меню.\",state['thread'])\n",
    "        print(f\" + Выбрано блюдо: {upd['maindish']}\")\n",
    "    return upd\n",
    "\n",
    "def check_combination(state: RecommenderState):\n",
    "    print(f\"> Check combination, state={pr(state)}\")\n",
    "    food = state[\"maindish\"]\n",
    "    wine = state[\"wine\"]\n",
    "    print(f\" + Проверяем сочетаемость блюда {food} и вина {wine}\")\n",
    "    res = sommelier(f\"Сочетается ли блюдо {food} с вином {wine}? Ответь ДА или НЕТ\",state['thread'])\n",
    "    if \"нет\" in res.lower():\n",
    "        ans = waiter(f\"Тебе хотят заказать следующее блюдо {state['maindish']} и вино {state['wine']}. Напиши вежливый ответ, что это блюдо и вино не очень сочетаются, и предложи выбрать другую комбинацию.\",state['thread'])\n",
    "    else:\n",
    "        ans = waiter(f\"Предложи гостям следующее блюдо {state['maindish']} и вино {state['wine']}.\",state['thread'])\n",
    "    return { \"answer\" : ans}\n",
    "\n",
    "def yes_or_no(state: RecommenderState):\n",
    "    if state[\"maindish\"] and state[\"wine\"]:\n",
    "        return \"Yes\"\n",
    "    else:\n",
    "        return \"No\"\n",
    "\n",
    "recommender_graph = StateGraph(RecommenderState)\n",
    "recommender_graph.add_node(\"Welcome\", welcome_user)\n",
    "recommender_graph.add_node(\"SelectRandom\", select_random)\n",
    "recommender_graph.add_node(\"RecommendFood\", recommend_food)\n",
    "recommender_graph.add_node(\"RecommendWine\", recommend_wine)\n",
    "recommender_graph.add_node(\"CheckCombination\", check_combination)\n",
    "recommender_graph.add_node(\"Clarify\", clarify)\n",
    "\n",
    "recommender_graph.add_edge(START, \"Welcome\")\n",
    "recommender_graph.add_edge(\"Welcome\", \"Clarify\")\n",
    "recommender_graph.add_conditional_edges(\n",
    "    \"Clarify\",\n",
    "    route_user,\n",
    "    {\n",
    "        \"None\": \"SelectRandom\",\n",
    "        \"WantWine\" : \"RecommendFood\",\n",
    "        \"WantFood\" : \"RecommendWine\",\n",
    "        \"Both\" : \"CheckCombination\",\n",
    "        \"Done\" : \"CheckCombination\"\n",
    "    })\n",
    "recommender_graph.add_edge(\"SelectRandom\", \"RecommendWine\")\n",
    "recommender_graph.add_edge(\"RecommendFood\", \"Clarify\")\n",
    "recommender_graph.add_edge(\"RecommendWine\", \"Clarify\")\n",
    "recommender_graph.add_edge(\"CheckCombination\", END)\n",
    "\n",
    "compiled_graph = recommender_graph.compile()\n",
    "\n",
    "display(Image(compiled_graph.get_graph().draw_mermaid_png()))"
   ]
  },
  {
   "cell_type": "markdown",
   "id": "173bd84f",
   "metadata": {},
   "source": [
    "Для того, чтобы \"поговорить\" с этой системой, дадим ей на вход начальное состояние:"
   ]
  },
  {
   "cell_type": "code",
   "execution_count": 14,
   "id": "ef211339",
   "metadata": {},
   "outputs": [
    {
     "name": "stdout",
     "output_type": "stream",
     "text": [
      "> Welcome, state=message=Привет, я хочу поесть что-то из мяса\n",
      " + Сообщение от пользователя: Привет, я хочу поесть что-то из мяса\n",
      " + Получены преференции: food_pref='мясо' wine_pref=''\n",
      "> Clarify, state=message=Привет, я хочу поесть что-то из мяса, foodpref=мясо, winepref=\n",
      " + Подбираем еду: мясо\n",
      " + Выбрано блюдо: Стейк «Бык на взводе»\n",
      "> Recommend wine, state=message=Привет, я хочу поесть что-то из мяса, foodpref=мясо, winepref=, maindish=Стейк «Бык на взводе»\n",
      " + Рекомендуем вино к блюду Стейк «Бык на взводе»\n",
      " + Рекомендации: К стейку «Бык на взводе» могут подойти следующие вина:\n",
      "* лёгкие и элегантные из винограда Пино Нуар;\n",
      "* выдержанные и «благородные» вина из Темпранильо;\n",
      "* вина из Санджовезе (например, Кьянти Ризерва);\n",
      "* «супертосканские» вина;\n",
      "* шелковистые аргентинские Мальбеки;\n",
      "* сухие и полусухие из винограда Сира (Шираз);\n",
      "* Каберне Совиньон;\n",
      "* «тельный» Мальбек;\n",
      "* Примитиво;\n",
      "* Зинфандель;\n",
      "* Альянико (выдержанное и слегка «округлившееся»);\n",
      "* выдержанный «ронский» ассамбляж Гренаш + Сира + Мурведр;\n",
      "* вина Приората от 6–8 лет выдержки и выше.\n",
      "> Clarify, state=message=Привет, я хочу поесть что-то из мяса, foodpref=мясо, winepref=К стейку «Бык на взводе» могут подойти следующие вина:\n",
      "* лёгкие и элегантные из винограда Пино Нуар;\n",
      "* выдержанные и «благородные» вина из Темпранильо;\n",
      "* вина из Санджовезе (например, Кьянти Ризерва);\n",
      "* «супертосканские» вина;\n",
      "* шелковистые аргентинские Мальбеки;\n",
      "* сухие и полусухие из винограда Сира (Шираз);\n",
      "* Каберне Совиньон;\n",
      "* «тельный» Мальбек;\n",
      "* Примитиво;\n",
      "* Зинфандель;\n",
      "* Альянико (выдержанное и слегка «округлившееся»);\n",
      "* выдержанный «ронский» ассамбляж Гренаш + Сира + Мурведр;\n",
      "* вина Приората от 6–8 лет выдержки и выше., maindish=Стейк «Бык на взводе»\n",
      " + Подбираем вино: К стейку «Бык на взводе» могут подойти следующие вина:\n",
      "* лёгкие и элегантные из винограда Пино Нуар;\n",
      "* выдержанные и «благородные» вина из Темпранильо;\n",
      "* вина из Санджовезе (например, Кьянти Ризерва);\n",
      "* «супертосканские» вина;\n",
      "* шелковистые аргентинские Мальбеки;\n",
      "* сухие и полусухие из винограда Сира (Шираз);\n",
      "* Каберне Совиньон;\n",
      "* «тельный» Мальбек;\n",
      "* Примитиво;\n",
      "* Зинфандель;\n",
      "* Альянико (выдержанное и слегка «округлившееся»);\n",
      "* выдержанный «ронский» ассамбляж Гренаш + Сира + Мурведр;\n",
      "* вина Приората от 6–8 лет выдержки и выше.\n",
      " + Выбрано вино: Каберне Совиньон от Château Lafite Rothschild, Франция, 2018 год.\n",
      "> Check combination, state=message=Привет, я хочу поесть что-то из мяса, foodpref=мясо, winepref=К стейку «Бык на взводе» могут подойти следующие вина:\n",
      "* лёгкие и элегантные из винограда Пино Нуар;\n",
      "* выдержанные и «благородные» вина из Темпранильо;\n",
      "* вина из Санджовезе (например, Кьянти Ризерва);\n",
      "* «супертосканские» вина;\n",
      "* шелковистые аргентинские Мальбеки;\n",
      "* сухие и полусухие из винограда Сира (Шираз);\n",
      "* Каберне Совиньон;\n",
      "* «тельный» Мальбек;\n",
      "* Примитиво;\n",
      "* Зинфандель;\n",
      "* Альянико (выдержанное и слегка «округлившееся»);\n",
      "* выдержанный «ронский» ассамбляж Гренаш + Сира + Мурведр;\n",
      "* вина Приората от 6–8 лет выдержки и выше., maindish=Стейк «Бык на взводе», wine=Каберне Совиньон от Château Lafite Rothschild, Франция, 2018 год.\n",
      " + Проверяем сочетаемость блюда Стейк «Бык на взводе» и вина Каберне Совиньон от Château Lafite Rothschild, Франция, 2018 год.\n"
     ]
    },
    {
     "data": {
      "text/plain": [
       "{'message': 'Привет, я хочу поесть что-то из мяса',\n",
       " 'thread': Thread(id='fvt1dfkrqgo97kdjk0je', expiration_config=ExpirationConfig(ttl_days=1, expiration_policy=<ExpirationPolicy.STATIC: 1>), name=None, description=None, created_by='ajej20rll4tifkelclga', created_at=datetime.datetime(2025, 6, 23, 5, 49, 19, 211093), updated_by='ajej20rll4tifkelclga', updated_at=datetime.datetime(2025, 6, 23, 5, 49, 19, 211093), expires_at=datetime.datetime(2025, 6, 24, 5, 49, 19, 211093), labels=None),\n",
       " 'foodpref': 'мясо',\n",
       " 'winepref': 'К стейку «Бык на взводе» могут подойти следующие вина:\\n* лёгкие и элегантные из винограда Пино Нуар;\\n* выдержанные и «благородные» вина из Темпранильо;\\n* вина из Санджовезе (например, Кьянти Ризерва);\\n* «супертосканские» вина;\\n* шелковистые аргентинские Мальбеки;\\n* сухие и полусухие из винограда Сира (Шираз);\\n* Каберне Совиньон;\\n* «тельный» Мальбек;\\n* Примитиво;\\n* Зинфандель;\\n* Альянико (выдержанное и слегка «округлившееся»);\\n* выдержанный «ронский» ассамбляж Гренаш + Сира + Мурведр;\\n* вина Приората от 6–8 лет выдержки и выше.',\n",
       " 'maindish': 'Стейк «Бык на взводе»',\n",
       " 'wine': 'Каберне Совиньон от Château Lafite Rothschild, Франция, 2018 год.',\n",
       " 'answer': 'Рекомендую попробовать блюдо «Стейк „Бык на взводе“» — сочный рибай с розовым сердцем, томлёный в дыме аргентинских страстей, который подаётся с золотой солью Гималаев. К этому стейку идеально подойдёт вино Каберне Совиньон от Château Lafite Rothschild, Франция, 2018 год.'}"
      ]
     },
     "execution_count": 14,
     "metadata": {},
     "output_type": "execute_result"
    }
   ],
   "source": [
    "res = compiled_graph.invoke(\n",
    "    {\n",
    "        \"message\" : \"Привет, я хочу поесть что-то из мяса\",\n",
    "        \"thread\" : create_thread()\n",
    "    }\n",
    ")\n",
    "res"
   ]
  },
  {
   "cell_type": "code",
   "execution_count": 15,
   "id": "3f16b481",
   "metadata": {},
   "outputs": [
    {
     "data": {
      "text/markdown": [
       "Рекомендую попробовать блюдо «Стейк „Бык на взводе“» — сочный рибай с розовым сердцем, томлёный в дыме аргентинских страстей, который подаётся с золотой солью Гималаев. К этому стейку идеально подойдёт вино Каберне Совиньон от Château Lafite Rothschild, Франция, 2018 год."
      ],
      "text/plain": [
       "<IPython.core.display.Markdown object>"
      ]
     },
     "metadata": {},
     "output_type": "display_data"
    }
   ],
   "source": [
    "printx(res['answer'])"
   ]
  },
  {
   "cell_type": "markdown",
   "id": "b1725190",
   "metadata": {},
   "source": [
    "Можем также посмотреть переписку всех агентов в Thread:"
   ]
  },
  {
   "cell_type": "code",
   "execution_count": 16,
   "id": "62e6196e",
   "metadata": {},
   "outputs": [
    {
     "name": "stdout",
     "output_type": "stream",
     "text": [
      "USER: Привет, я хочу поесть что-то из мяса\n",
      "ASSISTANT: ```\n",
      "{\n",
      "  \"food_pref\": \"мясо\",\n",
      "  \"wine_pref\": \"\"\n",
      "}\n",
      "```\n",
      "USER: Какое из следующих блюд в меню подходит под такое описание: мясо?  Выбери только одно блюдо из меню.\n",
      "ASSISTANT: Стейк «Бык на взводе»\n",
      "USER: Какие вина подойдут к блюду Стейк «Бык на взводе»?\n",
      "ASSISTANT: К стейку «Бык на взводе» могут подойти следующие вина:\n",
      "* лёгкие и элегантные из винограда Пино Нуар;\n",
      "* выдержанные и «благородные» вина из Темпранильо;\n",
      "* вина из Санджовезе (например, Кьянти Ризерва);\n",
      "* «супертосканские» вина;\n",
      "* шелковистые аргентинские Мальбеки;\n",
      "* сухие и полусухие из винограда Сира (Шираз);\n",
      "* Каберне Совиньон;\n",
      "* «тельный» Мальбек;\n",
      "* Примитиво;\n",
      "* Зинфандель;\n",
      "* Альянико (выдержанное и слегка «округлившееся»);\n",
      "* выдержанный «ронский» ассамбляж Гренаш + Сира + Мурведр;\n",
      "* вина Приората от 6–8 лет выдержки и выше.\n",
      "USER: Какое из следующих вин в меню подходит под такое описание: К стейку «Бык на взводе» могут подойти следующие вина:\n",
      "* лёгкие и элегантные из винограда Пино Нуар;\n",
      "* выдержанные и «благородные» вина из Темпранильо;\n",
      "* вина из Санджовезе (например, Кьянти Ризерва);\n",
      "* «супертосканские» вина;\n",
      "* шелковистые аргентинские Мальбеки;\n",
      "* сухие и полусухие из винограда Сира (Шираз);\n",
      "* Каберне Совиньон;\n",
      "* «тельный» Мальбек;\n",
      "* Примитиво;\n",
      "* Зинфандель;\n",
      "* Альянико (выдержанное и слегка «округлившееся»);\n",
      "* выдержанный «ронский» ассамбляж Гренаш + Сира + Мурведр;\n",
      "* вина Приората от 6–8 лет выдержки и выше.? Выбери только одно вино из меню.\n",
      "ASSISTANT: Каберне Совиньон от Château Lafite Rothschild, Франция, 2018 год.\n",
      "USER: Сочетается ли блюдо Стейк «Бык на взводе» с вином Каберне Совиньон от Château Lafite Rothschild, Франция, 2018 год.? Ответь ДА или НЕТ\n",
      "ASSISTANT: ДА.\n",
      "USER: Предложи гостям следующее блюдо Стейк «Бык на взводе» и вино Каберне Совиньон от Château Lafite Rothschild, Франция, 2018 год..\n",
      "ASSISTANT: Рекомендую попробовать блюдо «Стейк „Бык на взводе“» — сочный рибай с розовым сердцем, томлёный в дыме аргентинских страстей, который подаётся с золотой солью Гималаев. К этому стейку идеально подойдёт вино Каберне Совиньон от Château Lafite Rothschild, Франция, 2018 год.\n"
     ]
    }
   ],
   "source": [
    "for msg in list(res['thread'])[::-1]:\n",
    "    print(f\"{msg.role}: {msg.text}\")"
   ]
  },
  {
   "cell_type": "markdown",
   "id": "1a2c5817",
   "metadata": {},
   "source": [
    "Рассмотрим пример, когда пользователь хочет изначально не слишком хорошее сочетание:"
   ]
  },
  {
   "cell_type": "code",
   "execution_count": 17,
   "id": "34328da0",
   "metadata": {},
   "outputs": [
    {
     "name": "stdout",
     "output_type": "stream",
     "text": [
      "> Welcome, state=message=Привет, я хочу съесть какое-то рыбное блюдо с мерло!\n",
      " + Сообщение от пользователя: Привет, я хочу съесть какое-то рыбное блюдо с мерло!\n",
      " + Получены преференции: food_pref='рыбное блюдо' wine_pref='мерло'\n",
      "> Clarify, state=message=Привет, я хочу съесть какое-то рыбное блюдо с мерло!, foodpref=рыбное блюдо, winepref=мерло\n",
      " + Подбираем вино: мерло\n",
      " + Выбрано вино: Мерло, Marchesi Antinori, Италия, 2019 год.\n",
      " + Подбираем еду: рыбное блюдо\n",
      " + Выбрано блюдо: «Лосось в мечтах о Норвегии»\n",
      "> Check combination, state=message=Привет, я хочу съесть какое-то рыбное блюдо с мерло!, foodpref=рыбное блюдо, winepref=мерло, maindish=«Лосось в мечтах о Норвегии», wine=Мерло, Marchesi Antinori, Италия, 2019 год.\n",
      " + Проверяем сочетаемость блюда «Лосось в мечтах о Норвегии» и вина Мерло, Marchesi Antinori, Италия, 2019 год.\n"
     ]
    },
    {
     "data": {
      "text/markdown": [
       "Спасибо за ваш выбор! К сожалению, «Лосось в мечтах о Норвегии» и Мерло от Marchesi Antinori, Италия, 2019 год не очень хорошо сочетаются. Могу ли я предложить вам другую комбинацию? Например, к этому блюду подойдёт белое вино. Или, если вы хотите остаться с выбранным вином, могу предложить вам другое блюдо из нашего меню. Буду рад помочь вам подобрать идеальный вариант!"
      ],
      "text/plain": [
       "<IPython.core.display.Markdown object>"
      ]
     },
     "metadata": {},
     "output_type": "display_data"
    }
   ],
   "source": [
    "res = compiled_graph.invoke(\n",
    "    {\n",
    "        \"message\" : \"Привет, я хочу съесть какое-то рыбное блюдо с мерло!\",\n",
    "        \"thread\" : create_thread()\n",
    "    }\n",
    ")\n",
    "printx(res['answer'])"
   ]
  },
  {
   "cell_type": "markdown",
   "id": "5c4f3c85",
   "metadata": {},
   "source": [
    "И наконец случай, когда у пользователя нет предпочтений:"
   ]
  },
  {
   "cell_type": "code",
   "execution_count": 18,
   "id": "24568ce4",
   "metadata": {},
   "outputs": [
    {
     "name": "stdout",
     "output_type": "stream",
     "text": [
      "> Welcome, state=message=Что вкусного есть у вас сегодня?\n",
      " + Сообщение от пользователя: Что вкусного есть у вас сегодня?\n",
      " + Получены преференции: food_pref='' wine_pref=''\n",
      "> Clarify, state=message=Что вкусного есть у вас сегодня?, foodpref=, winepref=\n",
      "> SelectRandom, state=message=Что вкусного есть у вас сегодня?, foodpref=, winepref=\n",
      " + Выбрано случайное блюдо: Стейк «Бык на взводе»\n",
      "> Recommend wine, state=message=Что вкусного есть у вас сегодня?, foodpref=, winepref=, maindish=Стейк «Бык на взводе»\n",
      " + Рекомендуем вино к блюду Стейк «Бык на взводе»\n",
      " + Рекомендации: К стейку «Бык на взводе» могут подойти следующие вина:\n",
      "* Лёгкие и элегантные из винограда Пино Нуар, Нерелло Маскалезе, элегантно сделанное и выдержанное Мерло — для мраморного нежного стейка (например, Филе-миньон).\n",
      "* Выдержанные и «благородные» вина из Темпранильо (Рибейра дель Дуэро или любые от Ризервы и выше), Санджовезе (Кьянти Ризерва, Брунелло), «супертосканские» вина, Бордо Правого берега, шелковистые аргентинские Мальбеки — для прожарки Rare мраморного жирноватого стейка (например, Рибай).\n",
      "* Сухие и полусухие из винограда Сира (Шираз), Каберне Совиньон, «тельный» Мальбек, Примитиво, Зинфандель, Альянико (выдержанное и слегка «округлившееся»), выдержанный «ронский» ассамбляж Гренаш+Сира+Мурведр, вина Приората от 6–8 лет выдержки и выше — для прожарки Medium или WellDone мраморного жирноватого стейка.\n",
      "> Clarify, state=message=Что вкусного есть у вас сегодня?, foodpref=, winepref=К стейку «Бык на взводе» могут подойти следующие вина:\n",
      "* Лёгкие и элегантные из винограда Пино Нуар, Нерелло Маскалезе, элегантно сделанное и выдержанное Мерло — для мраморного нежного стейка (например, Филе-миньон).\n",
      "* Выдержанные и «благородные» вина из Темпранильо (Рибейра дель Дуэро или любые от Ризервы и выше), Санджовезе (Кьянти Ризерва, Брунелло), «супертосканские» вина, Бордо Правого берега, шелковистые аргентинские Мальбеки — для прожарки Rare мраморного жирноватого стейка (например, Рибай).\n",
      "* Сухие и полусухие из винограда Сира (Шираз), Каберне Совиньон, «тельный» Мальбек, Примитиво, Зинфандель, Альянико (выдержанное и слегка «округлившееся»), выдержанный «ронский» ассамбляж Гренаш+Сира+Мурведр, вина Приората от 6–8 лет выдержки и выше — для прожарки Medium или WellDone мраморного жирноватого стейка., maindish=Стейк «Бык на взводе»\n",
      " + Подбираем вино: К стейку «Бык на взводе» могут подойти следующие вина:\n",
      "* Лёгкие и элегантные из винограда Пино Нуар, Нерелло Маскалезе, элегантно сделанное и выдержанное Мерло — для мраморного нежного стейка (например, Филе-миньон).\n",
      "* Выдержанные и «благородные» вина из Темпранильо (Рибейра дель Дуэро или любые от Ризервы и выше), Санджовезе (Кьянти Ризерва, Брунелло), «супертосканские» вина, Бордо Правого берега, шелковистые аргентинские Мальбеки — для прожарки Rare мраморного жирноватого стейка (например, Рибай).\n",
      "* Сухие и полусухие из винограда Сира (Шираз), Каберне Совиньон, «тельный» Мальбек, Примитиво, Зинфандель, Альянико (выдержанное и слегка «округлившееся»), выдержанный «ронский» ассамбляж Гренаш+Сира+Мурведр, вина Приората от 6–8 лет выдержки и выше — для прожарки Medium или WellDone мраморного жирноватого стейка.\n",
      " + Выбрано вино: Каберне Совиньон от Château Lafite Rothschild, Франция, 2018 год.\n",
      "> Check combination, state=message=Что вкусного есть у вас сегодня?, foodpref=, winepref=К стейку «Бык на взводе» могут подойти следующие вина:\n",
      "* Лёгкие и элегантные из винограда Пино Нуар, Нерелло Маскалезе, элегантно сделанное и выдержанное Мерло — для мраморного нежного стейка (например, Филе-миньон).\n",
      "* Выдержанные и «благородные» вина из Темпранильо (Рибейра дель Дуэро или любые от Ризервы и выше), Санджовезе (Кьянти Ризерва, Брунелло), «супертосканские» вина, Бордо Правого берега, шелковистые аргентинские Мальбеки — для прожарки Rare мраморного жирноватого стейка (например, Рибай).\n",
      "* Сухие и полусухие из винограда Сира (Шираз), Каберне Совиньон, «тельный» Мальбек, Примитиво, Зинфандель, Альянико (выдержанное и слегка «округлившееся»), выдержанный «ронский» ассамбляж Гренаш+Сира+Мурведр, вина Приората от 6–8 лет выдержки и выше — для прожарки Medium или WellDone мраморного жирноватого стейка., maindish=Стейк «Бык на взводе», wine=Каберне Совиньон от Château Lafite Rothschild, Франция, 2018 год.\n",
      " + Проверяем сочетаемость блюда Стейк «Бык на взводе» и вина Каберне Совиньон от Château Lafite Rothschild, Франция, 2018 год.\n"
     ]
    },
    {
     "data": {
      "text/markdown": [
       "Вы можете попробовать сочный стейк «Бык на взводе» с розовым сердцем, томлёный в дыме аргентинских страстей, который подаётся с золотой солью Гималаев. К этому блюду отлично подойдёт вино Каберне Совиньон от Château Lafite Rothschild, Франция, 2018 год."
      ],
      "text/plain": [
       "<IPython.core.display.Markdown object>"
      ]
     },
     "metadata": {},
     "output_type": "display_data"
    }
   ],
   "source": [
    "res = compiled_graph.invoke(\n",
    "    {\n",
    "        \"message\" : \"Что вкусного есть у вас сегодня?\",\n",
    "        \"thread\" : create_thread()\n",
    "    }\n",
    ")\n",
    "printx(res['answer'])"
   ]
  },
  {
   "cell_type": "markdown",
   "id": "d0d9158f",
   "metadata": {},
   "source": [
    "## Тестируем качество ответов: RAGAS\n",
    "\n",
    "Для того, чтобы отлаживать и улучшать многоагентные и RAG-системы, необходимо научиться автоматически измерять какую-то меру качества ответа. Тестирование диалоговых систем - вещь непростая, по нескольким причинам:\n",
    "\n",
    "* Непонятно, как оценивать качество естественно-языкового ответа\n",
    "* Сложно тестировать многоступенчатый диалог (multi-turn conversation)\n",
    "\n",
    "Для решения этих проблем сущестует библиотека [RAGAS](https://ragas.io). Рассмотрим её использование на примере тестирования нашей системы.\n",
    "\n",
    "Возможны разные подходы к тестированию (которые поддерживаются RAGAS):\n",
    "* Мы вручную создаём датасет с вопросами и идеальными вариантами ответа\n",
    "* Мы создаём датасет вопросов, и проверяем их по некоторому набору критериев или с помощью LLM в качества арбитра (LLM as a Judge)\n",
    "* Датасет вопросов автоматически создаётся по текстовой базе знаний RAG. RAGAS содержит развитые средства генерации вопросов, включающие построение графа знаний и различные его трансформации для получения разнообразных и нетривиальных вопросов."
   ]
  },
  {
   "cell_type": "code",
   "execution_count": 7,
   "id": "3be1de75",
   "metadata": {},
   "outputs": [],
   "source": [
    "import os\n",
    "\n",
    "if os.name == 'nt':\n",
    "    os.environ[\"GRPC_POLL_STRATEGY\"] = \"poll\"\n",
    "    import asyncio\n",
    "    asyncio.set_event_loop_policy(asyncio.WindowsSelectorEventLoopPolicy())\n",
    "\n",
    "from yandex_cloud_ml_sdk import YCloudML, AsyncYCloudML\n",
    "\n",
    "folder_id = os.environ[\"folder_id\"]\n",
    "api_key = os.environ[\"api_key\"]\n",
    "\n",
    "sdk = YCloudML(folder_id=folder_id, auth=api_key)\n",
    "asdk = AsyncYCloudML(folder_id=folder_id, auth=api_key)\n"
   ]
  },
  {
   "cell_type": "markdown",
   "id": "e47e0f9b",
   "metadata": {},
   "source": [
    "\n",
    "Рассмотрим первый подход. В этом случае нам понадобится датасет с вопросами-ответами:"
   ]
  },
  {
   "cell_type": "code",
   "execution_count": 8,
   "id": "a5d5a72e",
   "metadata": {},
   "outputs": [
    {
     "data": {
      "text/plain": [
       "[{'user_input': 'Я хочу съесть что-то из мяса',\n",
       "  'reference': 'Я рекомендую сочный стейк и терпкое красное вино, например, Мальбек или Мерло.'},\n",
       " {'user_input': 'По четвергам предпочитаю рыбу',\n",
       "  'reference': 'Я рекомендую рыбное блюдо, например, лосось на гриле, и сухое белое вино, например, Совиньон Блан или Рислинг.'},\n",
       " {'user_input': 'Я хочу съесть лосося с красным вином',\n",
       "  'reference': 'Сожалею, но мы не рекомендуем есть рыбу с красным вином.'}]"
      ]
     },
     "execution_count": 8,
     "metadata": {},
     "output_type": "execute_result"
    }
   ],
   "source": [
    "import json\n",
    "\n",
    "ds = json.load(open('data/eval/evaluate_advisor.json','r'))\n",
    "ds"
   ]
  },
  {
   "cell_type": "markdown",
   "id": "4000c314",
   "metadata": {},
   "source": [
    "Теперь возьмём этот датасет, запустим нашу многоагентную систему для каждого из вопросов, и запомним ответ в поле `response`:"
   ]
  },
  {
   "cell_type": "code",
   "execution_count": 20,
   "id": "2733c1e4",
   "metadata": {},
   "outputs": [
    {
     "name": "stdout",
     "output_type": "stream",
     "text": [
      "==== RUNNING EXAMPLE 1: Я хочу съесть что-то из мяса\n",
      "> Welcome, state=message=Я хочу съесть что-то из мяса\n",
      " + Сообщение от пользователя: Я хочу съесть что-то из мяса\n",
      " + Получены преференции: food_pref='мясо' wine_pref=''\n",
      "> Clarify, state=message=Я хочу съесть что-то из мяса, foodpref=мясо, winepref=\n",
      " + Подбираем еду: мясо\n",
      " + Выбрано блюдо: Стейк «Бык на взводе»\n",
      "> Recommend wine, state=message=Я хочу съесть что-то из мяса, foodpref=мясо, winepref=, maindish=Стейк «Бык на взводе»\n",
      " + Рекомендуем вино к блюду Стейк «Бык на взводе»\n",
      " + Рекомендации: К стейку «Бык на взводе» могут подойти следующие вина:\n",
      "* лёгкие и элегантные из винограда Пино Нуар;\n",
      "* элегантно сделанное и выдержанное Мерло;\n",
      "* выдержанные варианты из сортов Неббиоло (например, Барбареско);\n",
      "* выдержанные вина из Темпранильо (например, из региона Рибейра дель Дуэро);\n",
      "* вина из сорта Санджовезе (например, Кьянти Ризерва);\n",
      "* «супертосканские» вина;\n",
      "* вина Бордо Правого берега;\n",
      "* аргентинские Мальбеки.\n",
      "> Clarify, state=message=Я хочу съесть что-то из мяса, foodpref=мясо, winepref=К стейку «Бык на взводе» могут подойти следующие вина:\n",
      "* лёгкие и элегантные из винограда Пино Нуар;\n",
      "* элегантно сделанное и выдержанное Мерло;\n",
      "* выдержанные варианты из сортов Неббиоло (например, Барбареско);\n",
      "* выдержанные вина из Темпранильо (например, из региона Рибейра дель Дуэро);\n",
      "* вина из сорта Санджовезе (например, Кьянти Ризерва);\n",
      "* «супертосканские» вина;\n",
      "* вина Бордо Правого берега;\n",
      "* аргентинские Мальбеки., maindish=Стейк «Бык на взводе»\n",
      " + Подбираем вино: К стейку «Бык на взводе» могут подойти следующие вина:\n",
      "* лёгкие и элегантные из винограда Пино Нуар;\n",
      "* элегантно сделанное и выдержанное Мерло;\n",
      "* выдержанные варианты из сортов Неббиоло (например, Барбареско);\n",
      "* выдержанные вина из Темпранильо (например, из региона Рибейра дель Дуэро);\n",
      "* вина из сорта Санджовезе (например, Кьянти Ризерва);\n",
      "* «супертосканские» вина;\n",
      "* вина Бордо Правого берега;\n",
      "* аргентинские Мальбеки.\n",
      " + Выбрано вино: Мерло от Marchesi Antinori, Италия.\n",
      "> Check combination, state=message=Я хочу съесть что-то из мяса, foodpref=мясо, winepref=К стейку «Бык на взводе» могут подойти следующие вина:\n",
      "* лёгкие и элегантные из винограда Пино Нуар;\n",
      "* элегантно сделанное и выдержанное Мерло;\n",
      "* выдержанные варианты из сортов Неббиоло (например, Барбареско);\n",
      "* выдержанные вина из Темпранильо (например, из региона Рибейра дель Дуэро);\n",
      "* вина из сорта Санджовезе (например, Кьянти Ризерва);\n",
      "* «супертосканские» вина;\n",
      "* вина Бордо Правого берега;\n",
      "* аргентинские Мальбеки., maindish=Стейк «Бык на взводе», wine=Мерло от Marchesi Antinori, Италия.\n",
      " + Проверяем сочетаемость блюда Стейк «Бык на взводе» и вина Мерло от Marchesi Antinori, Италия.\n",
      "==== RUNNING EXAMPLE 2: По четвергам предпочитаю рыбу\n",
      "> Welcome, state=message=По четвергам предпочитаю рыбу\n",
      " + Сообщение от пользователя: По четвергам предпочитаю рыбу\n",
      " + Получены преференции: food_pref='рыба' wine_pref=''\n",
      "> Clarify, state=message=По четвергам предпочитаю рыбу, foodpref=рыба, winepref=\n",
      " + Подбираем еду: рыба\n",
      " + Выбрано блюдо: «Лосось в мечтах о Норвегии»\n",
      "> Recommend wine, state=message=По четвергам предпочитаю рыбу, foodpref=рыба, winepref=, maindish=«Лосось в мечтах о Норвегии»\n",
      " + Рекомендуем вино к блюду «Лосось в мечтах о Норвегии»\n",
      " + Рекомендации: К блюду «Лосось в мечтах о Норвегии» могут подойти следующие вина:\n",
      "* белые тихие — сухие Рислинги, Шардоне и Вионье, Совиньон Блан (Старый Свет);\n",
      "* розовые тихие легкотелые сухие вина Франции (Прованс), Италии, Испании, России;\n",
      "* игристые белое и розовое (экстра-брют, брют, сухое);\n",
      "* также подойдут лёгкие Оранжи.\n",
      "> Clarify, state=message=По четвергам предпочитаю рыбу, foodpref=рыба, winepref=К блюду «Лосось в мечтах о Норвегии» могут подойти следующие вина:\n",
      "* белые тихие — сухие Рислинги, Шардоне и Вионье, Совиньон Блан (Старый Свет);\n",
      "* розовые тихие легкотелые сухие вина Франции (Прованс), Италии, Испании, России;\n",
      "* игристые белое и розовое (экстра-брют, брют, сухое);\n",
      "* также подойдут лёгкие Оранжи., maindish=«Лосось в мечтах о Норвегии»\n",
      " + Подбираем вино: К блюду «Лосось в мечтах о Норвегии» могут подойти следующие вина:\n",
      "* белые тихие — сухие Рислинги, Шардоне и Вионье, Совиньон Блан (Старый Свет);\n",
      "* розовые тихие легкотелые сухие вина Франции (Прованс), Италии, Испании, России;\n",
      "* игристые белое и розовое (экстра-брют, брют, сухое);\n",
      "* также подойдут лёгкие Оранжи.\n",
      " + Выбрано вино: Совиньон Блан от Cloudy Bay, Новая Зеландия.\n",
      "> Check combination, state=message=По четвергам предпочитаю рыбу, foodpref=рыба, winepref=К блюду «Лосось в мечтах о Норвегии» могут подойти следующие вина:\n",
      "* белые тихие — сухие Рислинги, Шардоне и Вионье, Совиньон Блан (Старый Свет);\n",
      "* розовые тихие легкотелые сухие вина Франции (Прованс), Италии, Испании, России;\n",
      "* игристые белое и розовое (экстра-брют, брют, сухое);\n",
      "* также подойдут лёгкие Оранжи., maindish=«Лосось в мечтах о Норвегии», wine=Совиньон Блан от Cloudy Bay, Новая Зеландия.\n",
      " + Проверяем сочетаемость блюда «Лосось в мечтах о Норвегии» и вина Совиньон Блан от Cloudy Bay, Новая Зеландия.\n",
      "==== RUNNING EXAMPLE 3: Я хочу съесть лосося с красным вином\n",
      "> Welcome, state=message=Я хочу съесть лосося с красным вином\n",
      " + Сообщение от пользователя: Я хочу съесть лосося с красным вином\n",
      " + Получены преференции: food_pref='лосось' wine_pref='красное вино'\n",
      "> Clarify, state=message=Я хочу съесть лосося с красным вином, foodpref=лосось, winepref=красное вино\n",
      " + Подбираем вино: красное вино\n",
      " + Выбрано вино: Мерло, Marchesi Antinori, Италия, 2019 год.\n",
      " + Подбираем еду: лосось\n",
      " + Выбрано блюдо: «Лосось в мечтах о Норвегии»\n",
      "> Check combination, state=message=Я хочу съесть лосося с красным вином, foodpref=лосось, winepref=красное вино, maindish=«Лосось в мечтах о Норвегии», wine=Мерло, Marchesi Antinori, Италия, 2019 год.\n",
      " + Проверяем сочетаемость блюда «Лосось в мечтах о Норвегии» и вина Мерло, Marchesi Antinori, Италия, 2019 год.\n"
     ]
    }
   ],
   "source": [
    "for i,x in enumerate(ds):\n",
    "    print(f\"==== RUNNING EXAMPLE {i+1}: {x['user_input']}\")\n",
    "    res = compiled_graph.invoke(\n",
    "    {\n",
    "        \"message\" : x['user_input'],\n",
    "        \"thread\" : create_thread()\n",
    "    })\n",
    "    ds[i]['response'] = res['answer']\n"
   ]
  },
  {
   "cell_type": "code",
   "execution_count": 21,
   "id": "cde9f55e",
   "metadata": {},
   "outputs": [],
   "source": [
    "with open('data/eval/evaluate_advisor_results.json','w') as f:\n",
    "    json.dump(ds,f,indent=4, ensure_ascii=False)"
   ]
  },
  {
   "cell_type": "markdown",
   "id": "e2dee529",
   "metadata": {},
   "source": [
    "Для ускорения демонстрации можно пропустить предыдущий шаг и сразу загрузить датасет с ответами системы:"
   ]
  },
  {
   "cell_type": "code",
   "execution_count": 3,
   "id": "21c8a13f",
   "metadata": {},
   "outputs": [
    {
     "data": {
      "text/plain": [
       "[{'user_input': 'Я хочу съесть что-то из мяса',\n",
       "  'reference': 'Я рекомендую сочный стейк и терпкое красное вино, например, Мальбек или Мерло.',\n",
       "  'response': 'Стейк «Бык на взводе» — это сочный рибай с розовым сердцем, томлёный в дыме аргентинских страстей, который подаётся с золотой солью Гималаев. К этому блюду может отлично подойти вино Мерло от Marchesi Antinori, Италия. Это элегантное и выдержанное вино, которое хорошо сочетается со стейком. Цена стейка составляет 2500 рублей, а цена бокала вина — 2800 рублей.'},\n",
       " {'user_input': 'По четвергам предпочитаю рыбу',\n",
       "  'reference': 'Я рекомендую рыбное блюдо, например, лосось на гриле, и сухое белое вино, например, Совиньон Блан или Рислинг.',\n",
       "  'response': 'К вашему столу я могу предложить блюдо «Лосось в мечтах о Норвегии» — это нежный филе-кусок, запечённый под корочкой из «загадочных северных трав» (укропа), который подаётся с лимонным бризом. В качестве дополнения к этому блюду могу порекомендовать вино Совиньон Блан от Cloudy Bay, Новая Зеландия.'},\n",
       " {'user_input': 'Я хочу съесть лосося с красным вином',\n",
       "  'reference': 'Сожалею, но мы не рекомендуем есть рыбу с красным вином.',\n",
       "  'response': 'Спасибо за ваш выбор! К сожалению, «Лосось в мечтах о Норвегии» не очень хорошо сочетается с вином Мерло от Marchesi Antinori, Италия, 2019 года. Могу предложить вам другие варианты, которые, на мой взгляд, будут более удачным сочетанием. Например, к лососю подойдёт белое вино. Если вам нравится этот сорт рыбы, могу порекомендовать попробовать его с Шардоне от Louis Latour, Франция, 2020 года или с Совиньон Блан от Cloudy Bay, Новая Зеландия, 2021 года. Какой вариант вам больше по душе?'}]"
      ]
     },
     "execution_count": 3,
     "metadata": {},
     "output_type": "execute_result"
    }
   ],
   "source": [
    "ds = json.load(open('data/eval/evaluate_advisor_results.json','r'))\n",
    "ds"
   ]
  },
  {
   "cell_type": "markdown",
   "id": "785088b9",
   "metadata": {},
   "source": [
    "Теперь нам нужно оценить близость ответа системы к идеальному ответу. Для этого можно использовать текстовые эмбеддинги и метрику семантической близости. RAGAS позволяет нам использовать эмбеддинги из библиотеки LangChain: "
   ]
  },
  {
   "cell_type": "code",
   "execution_count": 4,
   "id": "80aff769",
   "metadata": {},
   "outputs": [
    {
     "name": "stderr",
     "output_type": "stream",
     "text": [
      "c:\\winapp\\conda\\envs\\mas\\Lib\\site-packages\\tqdm\\auto.py:21: TqdmWarning: IProgress not found. Please update jupyter and ipywidgets. See https://ipywidgets.readthedocs.io/en/stable/user_install.html\n",
      "  from .autonotebook import tqdm as notebook_tqdm\n",
      "Evaluating: 100%|██████████| 3/3 [00:00<00:00,  3.95it/s]\n"
     ]
    },
    {
     "data": {
      "text/plain": [
       "{'semantic_similarity': 0.7233}"
      ]
     },
     "execution_count": 4,
     "metadata": {},
     "output_type": "execute_result"
    }
   ],
   "source": [
    "from ragas.dataset_schema import EvaluationDataset, SingleTurnSample\n",
    "from ragas import evaluate\n",
    "from ragas.metrics import answer_similarity\n",
    "from langchain_community.embeddings.yandex import YandexGPTEmbeddings\n",
    "from ragas.embeddings import LangchainEmbeddingsWrapper\n",
    "\n",
    "embeddings = YandexGPTEmbeddings(api_key=os.environ['api_key'], folder_id=os.environ['folder_id'])\n",
    "embeddings = LangchainEmbeddingsWrapper(embeddings)\n",
    "\n",
    "tests = EvaluationDataset([ SingleTurnSample(**x) for x in ds ])\n",
    "evaluate(tests,[ answer_similarity ], embeddings=embeddings)\n"
   ]
  },
  {
   "cell_type": "markdown",
   "id": "f9d6efa3",
   "metadata": {},
   "source": [
    "В RAGAS за проверку разных аспектов качества отвечают т.н. **метрики**. Выше мы использовали встроенную метрику `answer_similarity`, основанную на эмбеддингах.\n",
    "\n",
    "Второй вариант проверки ответов - это использование LLM as a Judge. Есть какое-то количество встроенных метрик с предопределёнными промптами (например, `AnswerAccuracy`), либо же можно определять свои метрики и задавать им промпты явно.\n",
    "\n",
    "Например, попробуем оценить правильность рекомендаций вина и еды в соответствии с простым правилом \"красное - к мясу, белое - к рыбе\":"
   ]
  },
  {
   "cell_type": "code",
   "execution_count": 5,
   "id": "890819e2",
   "metadata": {},
   "outputs": [
    {
     "name": "stderr",
     "output_type": "stream",
     "text": [
      "Evaluating: 100%|██████████| 6/6 [00:00<00:00,  9.65it/s]\n"
     ]
    },
    {
     "data": {
      "text/plain": [
       "{'wine_food_match': 1.0000, 'nv_accuracy': 0.5000}"
      ]
     },
     "execution_count": 5,
     "metadata": {},
     "output_type": "execute_result"
    }
   ],
   "source": [
    "from ragas.metrics import AspectCritic, AnswerAccuracy\n",
    "from ragas.llms import LangchainLLMWrapper\n",
    "\n",
    "judge_llm = LangchainLLMWrapper(asdk.models.completions(\"yandexgpt\", model_version=\"rc\").langchain())\n",
    "\n",
    "match_criteria = \"\"\"\n",
    "Подходит ли рекомендованное вино к блюду? Красные вина подходят к мясным блюдам,\n",
    "белые - к рыбным. Если пользователь хочет несочетаемую комбинацию - об этом\n",
    "нужно явно сказать в ответе, что такая комбинация не рекомендуется.\n",
    "\"\"\"\n",
    "wine_food_match = AspectCritic(\"wine_food_match\",match_criteria,llm=judge_llm)\n",
    "wine_food_match.async_mode=False\n",
    "answer_accuracy = AnswerAccuracy(llm=judge_llm)\n",
    "answer_accuracy.async_mode=False\n",
    "\n",
    "evaluate(tests,[ wine_food_match, answer_accuracy ], llm=judge_llm)"
   ]
  },
  {
   "cell_type": "markdown",
   "id": "363cdddb",
   "metadata": {},
   "source": [
    "Установив таким образом механизм автоматического измерения и отслеживания метрик, мы теперь можем изменять параметры модели, экспериментировать с промптами и т.д. для оптимизации результата."
   ]
  },
  {
   "cell_type": "markdown",
   "id": "c96933bc",
   "metadata": {},
   "source": [
    "## Удаляем лишнее\n",
    "\n",
    "После демонстрации мы можем удалить все ассистенты, файлы, индексы и переписки.\n",
    "\n",
    "**ВНИМАНИЕ:** Код ниже удаляет все ассистенты, файлы, индексы и переписки в каталоге, с которым работает Yandex Cloud ML SDK. Если у вас есть другие проекты, использующие ассистентов, то лучше не выполняйте этот код, а дождитесь, когда объекты будут сами удалены по TTL."
   ]
  },
  {
   "cell_type": "code",
   "execution_count": 25,
   "id": "185f61c9",
   "metadata": {},
   "outputs": [
    {
     "name": "stderr",
     "output_type": "stream",
     "text": [
      "15it [00:01, 12.04it/s]\n",
      "6it [00:00, 14.76it/s]\n",
      "4it [00:00,  8.60it/s]\n",
      "48it [00:04,  9.88it/s]\n"
     ]
    }
   ],
   "source": [
    "from tqdm.auto import tqdm\n",
    "\n",
    "for thread in tqdm(sdk.threads.list()):\n",
    "    try:\n",
    "        thread.delete()\n",
    "    except:\n",
    "        pass\n",
    "\n",
    "for assistant in tqdm(sdk.assistants.list()):\n",
    "    assistant.delete()\n",
    "\n",
    "for index in tqdm(sdk.search_indexes.list()):\n",
    "    index.delete()\n",
    "    \n",
    "for file in tqdm(sdk.files.list()):\n",
    "    file.delete()"
   ]
  },
  {
   "cell_type": "code",
   "execution_count": null,
   "id": "630f93e2",
   "metadata": {},
   "outputs": [],
   "source": []
  }
 ],
 "metadata": {
  "kernelspec": {
   "display_name": "mas",
   "language": "python",
   "name": "python3"
  },
  "language_info": {
   "codemirror_mode": {
    "name": "ipython",
    "version": 3
   },
   "file_extension": ".py",
   "mimetype": "text/x-python",
   "name": "python",
   "nbconvert_exporter": "python",
   "pygments_lexer": "ipython3",
   "version": "3.12.0"
  }
 },
 "nbformat": 4,
 "nbformat_minor": 5
}
