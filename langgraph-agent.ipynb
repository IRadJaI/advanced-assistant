{
 "cells": [
  {
   "cell_type": "markdown",
   "id": "5c5c6e0c",
   "metadata": {},
   "source": [
    "## Подбор еды с помощью LangGraph\n",
    "\n",
    "Рассмотрим сценарий, когда нам нужно подобрать меню для пользователя в некотором ресторане, таким образом, чтобы вино подходило к основному блюду. Для этой задачи, нам потребуется несколько навыков:\n",
    "* Подбор еды к вину или вина к едё\n",
    "* Знание меню ресторана и умение отвечать на вопросы по блюдам\n",
    "* Понимание исходного запроса пользователей\n",
    "\n",
    "Для каждой из этих задач можем использовать отдельного агента со своими навыками (инструментами) и/или RAG-базой знаний. Для начала, используем код для создания агента из [предыдущего примера](advanced-assistant.ipynb). В код агента для простоты добавим также возможность создания индекса из файлов, и возможность использования структурного вывода."
   ]
  },
  {
   "cell_type": "code",
   "execution_count": 103,
   "id": "e539b9b7",
   "metadata": {},
   "outputs": [],
   "source": [
    "import os\n",
    "from yandex_cloud_ml_sdk import YCloudML\n",
    "from yandex_cloud_ml_sdk.search_indexes import (\n",
    "    StaticIndexChunkingStrategy,\n",
    "    HybridSearchIndexType,\n",
    "    ReciprocalRankFusionIndexCombinationStrategy,\n",
    ")\n",
    "\n",
    "folder_id = os.environ[\"folder_id\"]\n",
    "api_key = os.environ[\"api_key\"]\n",
    "\n",
    "sdk = YCloudML(folder_id=folder_id, auth=api_key)\n",
    "\n",
    "# Раскомментируйте, если хотите подробнее смотреть, что делает SDK\n",
    "#sdk.setup_default_logging(log_level='DEBUG')\n",
    "\n",
    "model = sdk.models.completions(\"yandexgpt\", model_version=\"rc\")\n",
    "\n",
    "def create_thread():\n",
    "    return sdk.threads.create(ttl_days=1, expiration_policy=\"static\")\n",
    "\n",
    "def create_assistant(model, tools=None):\n",
    "    kwargs = {}\n",
    "    if tools and len(tools) > 0:\n",
    "        kwargs = {\"tools\": tools}\n",
    "    return sdk.assistants.create(\n",
    "        model, ttl_days=1, expiration_policy=\"since_last_active\", **kwargs\n",
    "    )\n",
    "\n",
    "def create_search_index(content):\n",
    "    uploaded = [\n",
    "        sdk.files.upload_bytes(\n",
    "            x.encode(), \n",
    "            ttl_days=5, \n",
    "            expiration_policy=\"static\",\n",
    "            mime_type=\"text/markdown\")\n",
    "        for x in content]\n",
    "\n",
    "    op = sdk.search_indexes.create_deferred(\n",
    "        uploaded,\n",
    "        index_type=HybridSearchIndexType(\n",
    "            chunking_strategy=StaticIndexChunkingStrategy(\n",
    "                max_chunk_size_tokens=1000, chunk_overlap_tokens=100\n",
    "            ),\n",
    "            combination_strategy=ReciprocalRankFusionIndexCombinationStrategy(),\n",
    "        ),\n",
    "    )\n",
    "    return uploaded, op.wait()\n",
    "\n",
    "class Agent:\n",
    "    def __init__(self, \n",
    "        assistant=None, \n",
    "        instruction=None, \n",
    "        search_index=None, \n",
    "        search_content=None, \n",
    "        tools=None,\n",
    "        response_format=None):\n",
    "\n",
    "        self.thread = None\n",
    "        self.uploaded = None\n",
    "        self.model = model\n",
    "        self.response_format = response_format\n",
    "\n",
    "        if assistant:\n",
    "            self.assistant = assistant\n",
    "        else:\n",
    "            if tools:\n",
    "                self.tools = {x.__name__: x for x in tools}\n",
    "                tools = [sdk.tools.function(x) for x in tools]\n",
    "            else:\n",
    "                self.tools = {}\n",
    "                tools = []\n",
    "            if search_index is None and search_content:\n",
    "                self.uploaded, search_index = create_search_index(search_content)\n",
    "            if search_index:\n",
    "                tools.append(sdk.tools.search_index(search_index))\n",
    "            if response_format:\n",
    "                self.model = self.model.configure(response_format=response_format)\n",
    "            self.assistant = create_assistant(self.model, tools)\n",
    "\n",
    "        if instruction:\n",
    "            self.assistant.update(instruction=instruction)\n",
    "\n",
    "    def get_thread(self, thread=None):\n",
    "        if thread is not None:\n",
    "            return thread\n",
    "        if self.thread == None:\n",
    "            self.thread = create_thread()\n",
    "        return self.thread\n",
    "\n",
    "    def __call__(self, message, thread=None):\n",
    "        thread = self.get_thread(thread)\n",
    "        thread.write(message)\n",
    "        run = self.assistant.run(thread)\n",
    "        res = run.wait()\n",
    "        if res.tool_calls:\n",
    "            result = []\n",
    "            for f in res.tool_calls:\n",
    "                print(\n",
    "                    f\" + Вызываем функцию {f.function.name}, args={f.function.arguments}\"\n",
    "                )\n",
    "                fn = self.tools[f.function.name]\n",
    "                obj = fn(**f.function.arguments)\n",
    "                x = obj.process(thread)\n",
    "                result.append({\"name\": f.function.name, \"content\": x})\n",
    "            run.submit_tool_results(result)\n",
    "            res = run.wait()\n",
    "        res = res.text\n",
    "        if self.response_format:\n",
    "            res = self.response_format.model_validate_json(res[res.index(\"{\"):res.index(\"}\")+1])\n",
    "        return res \n",
    "\n",
    "    def restart(self):\n",
    "        if self.thread:\n",
    "            self.thread.delete()\n",
    "            self.thread = sdk.threads.create(\n",
    "                name=\"Test\", ttl_days=1, expiration_policy=\"static\"\n",
    "            )\n",
    "\n",
    "    def done(self, delete_assistant=False):\n",
    "        if self.thread:\n",
    "            self.thread.delete()\n",
    "        if delete_assistant:\n",
    "            self.assistant.delete()\n",
    "\n",
    "def fread(fn):\n",
    "    with open(fn, encoding='utf-8') as f:\n",
    "        return f.read()"
   ]
  },
  {
   "cell_type": "markdown",
   "id": "a96ba960",
   "metadata": {},
   "source": [
    "Для решения нашей задачи будем моделировать поход в ресторан в реальной жизни. У нас будут следующие роли:\n",
    "\n",
    "* Агент-официант владеет информацией о меню ресторана, и может рекомендовать конкретное блюдо\n",
    "* Агент-сомелье умеет подбирать сочетания блюд и вина\n",
    "* Агент-хостесс принимает первоначальные предпочтения посетителя, и далее маршрутизирует диалог между другими агентами для решения задачи.\n",
    "\n",
    "Создадим этих агентов:\n",
    "\n",
    "## Агент-официант\n",
    "\n",
    "Для начала, создадим агента, который владеет меню нашего ресторана. Поскольку меню обычно невелико по объему, то используем для этого RAG, в контекст которого добавим собственно меню:"
   ]
  },
  {
   "cell_type": "code",
   "execution_count": 104,
   "id": "000530c4",
   "metadata": {},
   "outputs": [],
   "source": [
    "prompt = \"\"\"\n",
    "Ты - официант в ресторане, который должен советовать посетителям блюда и отвечать на вопросы по меню. В твоем распоряжении есть выдержки из меню, которые релевантны запросу. Отвечай на вопрос, используя имеющуюся у тебя на входе информацию, и только её. Не придумывай ничего! \n",
    "\"\"\"\n",
    "\n",
    "waiter = Agent(\n",
    "    search_content=[fread('data/menu/food.md'),fread('data/menu/drinks.md')],\n",
    "    instruction=prompt)  "
   ]
  },
  {
   "cell_type": "code",
   "execution_count": 105,
   "id": "21c0501d",
   "metadata": {},
   "outputs": [
    {
     "data": {
      "text/plain": [
       "'В меню нет информации о ливерной колбасе.'"
      ]
     },
     "execution_count": 105,
     "metadata": {},
     "output_type": "execute_result"
    }
   ],
   "source": [
    "waiter(\"Сколько стоит ливерная колбаса?\")"
   ]
  },
  {
   "cell_type": "code",
   "execution_count": 106,
   "id": "366b7d35",
   "metadata": {},
   "outputs": [
    {
     "data": {
      "text/plain": [
       "'Самое дорогое вино — Пино Нуар от Domaine de la Romanée-Conti, Франция, 2017 год. Цена за бокал — 5200 рублей.'"
      ]
     },
     "execution_count": 106,
     "metadata": {},
     "output_type": "execute_result"
    }
   ],
   "source": [
    "waiter(\"Какое самое дорогое вино?\")"
   ]
  },
  {
   "cell_type": "markdown",
   "id": "2e7b7bc3",
   "metadata": {},
   "source": [
    "## Агент-сомелье\n",
    "\n",
    "Теперь создадим агента, который может дать рекомендации по сочетанию вин и еды. Для этого также используем RAG, как в предыдущем примере:"
   ]
  },
  {
   "cell_type": "code",
   "execution_count": 107,
   "id": "cb78bd5a",
   "metadata": {},
   "outputs": [],
   "source": [
    "with open(\"data/food_wine_table.md\", encoding=\"utf-8\") as f:\n",
    "    food_wine = f.readlines()\n",
    "header = food_wine[:2]\n",
    "chunk_size = 600 * 3  # approx 600 tokens * 2 char/token\n",
    "docs = []\n",
    "s = header.copy()\n",
    "for x in food_wine[2:]:\n",
    "    s.append(x)\n",
    "    if len(\"\".join(s)) > chunk_size:\n",
    "        docs.append(\"\".join(s))\n",
    "        s = header.copy()"
   ]
  },
  {
   "cell_type": "code",
   "execution_count": 108,
   "id": "0662be2b",
   "metadata": {},
   "outputs": [],
   "source": [
    "prompt = \"\"\"\n",
    "Ты - опытный сомелье, который должен рекомендовать клиенту правильные сочетания блюд и вина. Отвечай на просьба подобрать вино к еде или еду к вину, используя имеющуюся у тебя информацию. Также если\n",
    "пользователь просит посоветовать ему какое-то интересное сочетание - сделай это на основе имеющихся данных. Не придумывай ничего!\n",
    "\"\"\"\n",
    "\n",
    "sommelier = Agent(\n",
    "    search_content=docs,\n",
    "    instruction=prompt)  "
   ]
  },
  {
   "cell_type": "code",
   "execution_count": 109,
   "id": "a1d6843b",
   "metadata": {},
   "outputs": [
    {
     "data": {
      "text/plain": [
       "'К стейку из мраморной говядины нежной прожарки (Филе-миньон) подойдут лёгкие и элегантные красные вина из винограда Пино Нуар, Нерелло Маскалезе, выдержанное Мерло. Также можно выбрать «округлые», выдержанные вина из сортов Неббиоло (Барбареско), Темпранильо (Рибейра дель Дуэро), Санджовезе (Кьянти Ризерва).\\n\\nК жирноватому стейку из мраморной говядины прожарки Rare (Рибай и пр.) рекомендуются выдержанные и «благородные» вина из Темпранильо (Рибейра дель Дуэро или любые от Ризервы и выше), Санджовезе (Кьянти Ризерва, Брунелло), «супертосканские» вина, Бордо Правого берега, шелковистые аргентинские Мальбеки.\\n\\nК прожарке Medium или WellDone подойдут сухие и полусухие вина из винограда Сира (Шираз), Каберне Совиньон, «тельный» Мальбек, Примитиво, Зинфандель, Альянико (выдержанное и слегка «округлившееся»), выдержанный «ронский» ассамбляж Гренаш+Сира+Мурведр, вина Приората от 6–8 лет выдержки и выше.'"
      ]
     },
     "execution_count": 109,
     "metadata": {},
     "output_type": "execute_result"
    }
   ],
   "source": [
    "sommelier(\"Какое вино подойдёт к стейку?\")"
   ]
  },
  {
   "cell_type": "markdown",
   "id": "172c21f6",
   "metadata": {},
   "source": [
    "## Агент-хостесс\n",
    "\n",
    "На входе в ресторан посетителя приветствует хостесс, которая интересуется, что именно хочет есть человек. Для этого заведём специального агента, который будет вычленять из запроса пользователя его предпочтения по вину и по еде. Для этого используем структурный вывод модели."
   ]
  },
  {
   "cell_type": "code",
   "execution_count": 110,
   "id": "a01bc99f",
   "metadata": {},
   "outputs": [],
   "source": [
    "from pydantic import BaseModel\n",
    "\n",
    "class PersonPref(BaseModel):\n",
    "    food_pref : str = \"\"\n",
    "    wine_pref : str = \"\"\n",
    "    \n",
    "prompt = \"\"\"\n",
    "Ты - официант в ресторане, задача которого принять заказ у посетителя. Тебе необходимо выслушать его и понять, есть ли у него какие-то предпочтения по еде или по вину. Верни ответ в формате json, с полями `food_pref` и `wine_pref`, в которых будут указаны предпочтения. Если нет предпочтений, то верни пустые строки.\n",
    "\"\"\"\n",
    "\n",
    "hostess = Agent(\n",
    "    instruction=prompt,\n",
    "    response_format=PersonPref)"
   ]
  },
  {
   "cell_type": "code",
   "execution_count": 111,
   "id": "39b510c3",
   "metadata": {},
   "outputs": [
    {
     "data": {
      "text/plain": [
       "PersonPref(food_pref='мясо', wine_pref='')"
      ]
     },
     "execution_count": 111,
     "metadata": {},
     "output_type": "execute_result"
    }
   ],
   "source": [
    "res = hostess(\"Привет, я хочу поесть что-то из мяса\")\n",
    "res"
   ]
  },
  {
   "cell_type": "markdown",
   "id": "8845d317",
   "metadata": {},
   "source": [
    "## Собираем агентов вместе: LangGraph\n",
    "\n",
    "Для объединения агентов вместе будем использовать фреймворк LangGraph. В основе этого фреймворка - идея графа состояний (state machine) и **состояния**, в зависимости от которого определяется дальнейшее поведение системы.\n",
    "\n",
    "Узлами графа являются функции, которые возвращают **state update** - объект, который обновляет состояние. Для начала опишем класс, который будет определять состояние системы:"
   ]
  },
  {
   "cell_type": "code",
   "execution_count": 112,
   "id": "48d41bba",
   "metadata": {},
   "outputs": [],
   "source": [
    "import os\n",
    "from typing import TypedDict, List, Dict, Any, Optional\n",
    "from langgraph.graph import StateGraph, START, END\n",
    "from yandex_cloud_ml_sdk._threads.thread import Thread\n",
    "\n",
    "class RecommenderState(TypedDict):\n",
    "    message : str\n",
    "    thread : Thread\n",
    "    foodpref : str = \"\"\n",
    "    winepref : str = \"\"\n",
    "    maindish : str\n",
    "    wine : str\n",
    "    answer : str\n",
    "    \n",
    "def pr(state: RecommenderState):\n",
    "    return ', '.join([f\"{k}={v}\" for k,v in state.items() if k!=\"thread\"])"
   ]
  },
  {
   "cell_type": "markdown",
   "id": "6272cffd",
   "metadata": {},
   "source": [
    "Исходное сообщение пользователя будет в поле `message`, а финальный ответ - в поле `answer`. Мы также будем использовать **общее состояние переписки**, которое будет хранится в виде объекта `Thread` в одноимённом поле. Также начальные преференции пользователя будем хранить в полях `foodpref` и `winepref`, а выбранные блюдо и вино - в полях `maindish` и `wine`.\n",
    "\n",
    "Логика работы будет такая:\n",
    "* Вначале извлекаем предпочтения пользователя - за это отвечает функция `welcome` и агент-хостесс\n",
    "* Основным узлом-маршрутизатором нашей многоагентной системы будет функция `clarify`. Если она видит какие-то из преференций `foodpref` или `winepref` - она выбирает по ним соответствующие блюда из меню с помощью агента-официанта.\n",
    "* После `clarify` выполняется функция `route_user`, которая определяет, что делать дальше:\n",
    "   - Если блюда и вино выбраны - мы отправляемся в узел `check_combination`, где с помощью сомелье проверяем, насколько выбранные блюдо и вино сочетаются между собой. Они могут не сочетаться, если пользователь сразу захотел есть стейк с белым вином.\n",
    "   - Если какая-то из преференций `winepref` или `foodpref` не заполнены - происходит вызов функции `recommend_food` или `recommend_wine`, чтобы с помощью сомелье заполнить этот пробел\n",
    "   - Если у пользователя нет преференций, то функция `select_random` выбирает для него какое-то блюдо, после чего выполнение агента продолжается с узла `recommend_wine`.\n",
    "\n",
    "Помимо описания функций для каждого из узлов, нам нужно явным образом добавить узлы в граф с помощью `add_node`, и все переходы между ними, с помощью `add_edge` и `add_conditional_edges`. Дальше получишийся граф можно наприсовать."
   ]
  },
  {
   "cell_type": "code",
   "execution_count": 113,
   "id": "40438356",
   "metadata": {},
   "outputs": [
    {
     "data": {
      "image/png": "[encoded data removed]",
      "text/plain": [
       "<IPython.core.display.Image object>"
      ]
     },
     "metadata": {},
     "output_type": "display_data"
    }
   ],
   "source": [
    "from IPython.display import Image, display\n",
    "\n",
    "def welcome_user(state: RecommenderState):\n",
    "    print(f\"> Welcome, state={pr(state)}\")\n",
    "    msg = state['message']\n",
    "    print(f\" + Сообщение от пользователя: {msg}\")\n",
    "    res = hostess(msg,state['thread'])\n",
    "    print(f\" + Получены преференции: {res}\")\n",
    "    return {\n",
    "        'foodpref' : res.food_pref,\n",
    "        'winepref' : res.wine_pref\n",
    "    }\n",
    "    \n",
    "def route_user(state: RecommenderState) -> str:\n",
    "    if state.get('maindish') and state.get('wine'): return \"Done\"\n",
    "    if state['foodpref'] == \"\" and state['winepref'] == \"\": return \"None\"\n",
    "    elif state['foodpref'] == \"\" and state['winepref'] != \"\": return \"WantWine\"\n",
    "    elif state['foodpref'] != \"\" and state['winepref'] == \"\": return \"WantFood\"\n",
    "    else: return \"Both\"\n",
    "\n",
    "def select_random(state: RecommenderState):\n",
    "    print(f\"> SelectRandom, state={pr(state)}\")\n",
    "    maindish = waiter(\n",
    "        \"Порекомендуйте мне какое-нибудь одно основное блюдо. Напиши в ответ только название этого блюда.\",\n",
    "        state[\"thread\"])\n",
    "    print(f\" + Выбрано случайное блюдо: {maindish}\")\n",
    "    return { \"maindish\" : maindish }\n",
    "    \n",
    "def recommend_food(state: RecommenderState):\n",
    "    print(f\"> Recommend Food, state={pr(state)}\")\n",
    "    wine = state.get(\"wine\") or state.get(\"winepref\")\n",
    "    print(f\" + Рекомендуем блюда к вину {wine}\")\n",
    "    foodpref = sommelier(f\"Какие типы блюд подойдут к вину {wine}?\", state['thread'])\n",
    "    print(f\" + Рекомендации: {foodpref}\")\n",
    "    return { \"foodpref\" : foodpref }\n",
    "\n",
    "def recommend_wine(state: RecommenderState):\n",
    "    print(f\"> Recommend wine, state={pr(state)}\")\n",
    "    food = state.get('maindish') or state.get('foodpref')\n",
    "    print(f\" + Рекомендуем вино к блюду {food}\")\n",
    "    winepref = sommelier(f\"Какие вина подойдут к блюду {food}?\", state['thread'])\n",
    "    print(f\" + Рекомендации: {winepref}\")\n",
    "    return { \"winepref\" : winepref }\n",
    "    \n",
    "def clarify(state: RecommenderState):\n",
    "    print(f\"> Clarify, state={pr(state)}\")\n",
    "    upd = {}\n",
    "    if state.get(\"winepref\") and not state.get('wine'):\n",
    "        print(f\" + Подбираем вино: {state['winepref']}\")\n",
    "        upd[\"wine\"] = waiter(f\"Какое из следующих вин в меню подходит под такое описание: {state['winepref']}? Выбери только одно вино из меню.\",state['thread'])\n",
    "        print(f\" + Выбрано вино: {upd['wine']}\")\n",
    "    if state.get(\"foodpref\") and not state.get('maindish'):\n",
    "        print(f\" + Подбираем еду: {state['foodpref']}\")\n",
    "        upd[\"maindish\"] = waiter(f\"Какое из следующих блюд в меню подходит под такое описание: {state['foodpref']}?  Выбери только одно блюдо из меню.\",state['thread'])\n",
    "        print(f\" + Выбрано блюдо: {upd['maindish']}\")\n",
    "    return upd\n",
    "\n",
    "def check_combination(state: RecommenderState):\n",
    "    print(f\"> Check combination, state={pr(state)}\")\n",
    "    food = state[\"maindish\"]\n",
    "    wine = state[\"wine\"]\n",
    "    print(f\" + Проверяем сочетаемость блюда {food} и вина {wine}\")\n",
    "    res = sommelier(f\"Сочетается ли блюдо {food} с вином {wine}? Ответь ДА или НЕТ\",state['thread'])\n",
    "    if \"нет\" in res.lower():\n",
    "        ans = waiter(f\"Тебе хотят заказать следующее блюдо {state['maindish']} и вино {state['wine']}. Напиши вежливый ответ, что это блюдо и вино не очень сочетаются, и предложи выбрать другую комбинацию.\",state['thread'])\n",
    "    else:\n",
    "        ans = waiter(f\"Предложи гостям следующее блюдо {state['maindish']} и вино {state['wine']}.\",state['thread'])\n",
    "    return { \"answer\" : ans}\n",
    "\n",
    "def yes_or_no(state: RecommenderState):\n",
    "    if state[\"maindish\"] and state[\"wine\"]:\n",
    "        return \"Yes\"\n",
    "    else:\n",
    "        return \"No\"\n",
    "\n",
    "recommender_graph = StateGraph(RecommenderState)\n",
    "recommender_graph.add_node(\"Welcome\", welcome_user)\n",
    "recommender_graph.add_node(\"SelectRandom\", select_random)\n",
    "recommender_graph.add_node(\"RecommendFood\", recommend_food)\n",
    "recommender_graph.add_node(\"RecommendWine\", recommend_wine)\n",
    "recommender_graph.add_node(\"CheckCombination\", check_combination)\n",
    "recommender_graph.add_node(\"Clarify\", clarify)\n",
    "\n",
    "recommender_graph.add_edge(START, \"Welcome\")\n",
    "recommender_graph.add_edge(\"Welcome\", \"Clarify\")\n",
    "recommender_graph.add_conditional_edges(\n",
    "    \"Clarify\",\n",
    "    route_user,\n",
    "    {\n",
    "        \"None\": \"SelectRandom\",\n",
    "        \"WantWine\" : \"RecommendFood\",\n",
    "        \"WantFood\" : \"RecommendWine\",\n",
    "        \"Both\" : \"CheckCombination\",\n",
    "        \"Done\" : \"CheckCombination\"\n",
    "    })\n",
    "recommender_graph.add_edge(\"SelectRandom\", \"RecommendWine\")\n",
    "recommender_graph.add_edge(\"RecommendFood\", \"Clarify\")\n",
    "recommender_graph.add_edge(\"RecommendWine\", \"Clarify\")\n",
    "recommender_graph.add_edge(\"CheckCombination\", END)\n",
    "\n",
    "compiled_graph = recommender_graph.compile()\n",
    "\n",
    "display(Image(compiled_graph.get_graph().draw_mermaid_png()))"
   ]
  },
  {
   "cell_type": "markdown",
   "id": "173bd84f",
   "metadata": {},
   "source": [
    "Для того, чтобы \"поговорить\" с этой системой, дадим ей на вход начальное состояние:"
   ]
  },
  {
   "cell_type": "code",
   "execution_count": 115,
   "id": "ef211339",
   "metadata": {},
   "outputs": [
    {
     "name": "stdout",
     "output_type": "stream",
     "text": [
      "> Welcome, state=message=Привет, я хочу поесть что-то из мяса\n",
      " + Сообщение от пользователя: Привет, я хочу поесть что-то из мяса\n",
      " + Получены преференции: food_pref='мясо' wine_pref=''\n",
      "> Clarify, state=message=Привет, я хочу поесть что-то из мяса, foodpref=мясо, winepref=\n",
      " + Подбираем еду: мясо\n",
      " + Выбрано блюдо: Стейк «Бык на взводе»\n",
      "> Recommend wine, state=message=Привет, я хочу поесть что-то из мяса, foodpref=мясо, winepref=, maindish=Стейк «Бык на взводе»\n",
      " + Рекомендуем вино к блюду Стейк «Бык на взводе»\n",
      " + Рекомендации: К стейку «Бык на взводе» подойдут следующие вина:\n",
      "* красные вина — сухие и полусухие вина из винограда Гарнача (Гренаш), Мерло, Карменер, Менсия, «тельные» Пино Нуары (со всего света), российский Красностоп, Гамэ (Божоле Виляж);\n",
      "* как вариант — мощные и выдержанные вина из сортов Каберне Совиньон, Сира, Барбера, Лагрейн, российский Цимлянский Чёрный и Саперави (молодое и «яркое»).\n",
      "> Clarify, state=message=Привет, я хочу поесть что-то из мяса, foodpref=мясо, winepref=К стейку «Бык на взводе» подойдут следующие вина:\n",
      "* красные вина — сухие и полусухие вина из винограда Гарнача (Гренаш), Мерло, Карменер, Менсия, «тельные» Пино Нуары (со всего света), российский Красностоп, Гамэ (Божоле Виляж);\n",
      "* как вариант — мощные и выдержанные вина из сортов Каберне Совиньон, Сира, Барбера, Лагрейн, российский Цимлянский Чёрный и Саперави (молодое и «яркое»)., maindish=Стейк «Бык на взводе»\n",
      " + Подбираем вино: К стейку «Бык на взводе» подойдут следующие вина:\n",
      "* красные вина — сухие и полусухие вина из винограда Гарнача (Гренаш), Мерло, Карменер, Менсия, «тельные» Пино Нуары (со всего света), российский Красностоп, Гамэ (Божоле Виляж);\n",
      "* как вариант — мощные и выдержанные вина из сортов Каберне Совиньон, Сира, Барбера, Лагрейн, российский Цимлянский Чёрный и Саперави (молодое и «яркое»).\n",
      " + Выбрано вино: Каберне Совиньон от Château Lafite Rothschild, Франция.\n",
      "> Check combination, state=message=Привет, я хочу поесть что-то из мяса, foodpref=мясо, winepref=К стейку «Бык на взводе» подойдут следующие вина:\n",
      "* красные вина — сухие и полусухие вина из винограда Гарнача (Гренаш), Мерло, Карменер, Менсия, «тельные» Пино Нуары (со всего света), российский Красностоп, Гамэ (Божоле Виляж);\n",
      "* как вариант — мощные и выдержанные вина из сортов Каберне Совиньон, Сира, Барбера, Лагрейн, российский Цимлянский Чёрный и Саперави (молодое и «яркое»)., maindish=Стейк «Бык на взводе», wine=Каберне Совиньон от Château Lafite Rothschild, Франция.\n",
      " + Проверяем сочетаемость блюда Стейк «Бык на взводе» и вина Каберне Совиньон от Château Lafite Rothschild, Франция.\n"
     ]
    },
    {
     "data": {
      "text/plain": [
       "{'message': 'Привет, я хочу поесть что-то из мяса',\n",
       " 'thread': Thread(id='fvtp0v4kd14srgjv69r1', expiration_config=ExpirationConfig(ttl_days=1, expiration_policy=<ExpirationPolicy.STATIC: 1>), name=None, description=None, created_by='ajej20rll4tifkelclga', created_at=datetime.datetime(2025, 5, 4, 18, 43, 39, 372043), updated_by='ajej20rll4tifkelclga', updated_at=datetime.datetime(2025, 5, 4, 18, 43, 39, 372043), expires_at=datetime.datetime(2025, 5, 5, 18, 43, 39, 372043), labels=None),\n",
       " 'foodpref': 'мясо',\n",
       " 'winepref': 'К стейку «Бык на взводе» подойдут следующие вина:\\n* красные вина — сухие и полусухие вина из винограда Гарнача (Гренаш), Мерло, Карменер, Менсия, «тельные» Пино Нуары (со всего света), российский Красностоп, Гамэ (Божоле Виляж);\\n* как вариант — мощные и выдержанные вина из сортов Каберне Совиньон, Сира, Барбера, Лагрейн, российский Цимлянский Чёрный и Саперави (молодое и «яркое»).',\n",
       " 'maindish': 'Стейк «Бык на взводе»',\n",
       " 'wine': 'Каберне Совиньон от Château Lafite Rothschild, Франция.',\n",
       " 'answer': 'Вы можете попробовать сочный стейк «Бык на взводе» за 2500 рублей — это рибай с розовым сердцем, томлёный в дыме аргентинских страстей, который подаётся с золотой солью Гималаев. К стейку могу предложить вино Каберне Совиньон от Château Lafite Rothschild, Франция, 2018 года за 4500 рублей за бокал.'}"
      ]
     },
     "execution_count": 115,
     "metadata": {},
     "output_type": "execute_result"
    }
   ],
   "source": [
    "res = compiled_graph.invoke(\n",
    "    {\n",
    "        \"message\" : \"Привет, я хочу поесть что-то из мяса\",\n",
    "        \"thread\" : create_thread()\n",
    "    }\n",
    ")\n",
    "res"
   ]
  },
  {
   "cell_type": "markdown",
   "id": "b1725190",
   "metadata": {},
   "source": [
    "Можем также посмотреть переписку всех агентов в Thread:"
   ]
  },
  {
   "cell_type": "code",
   "execution_count": 119,
   "id": "62e6196e",
   "metadata": {},
   "outputs": [
    {
     "name": "stdout",
     "output_type": "stream",
     "text": [
      "USER: Привет, я хочу поесть что-то из мяса\n",
      "ASSISTANT: ```\n",
      "{\n",
      "  \"food_pref\": \"мясо\",\n",
      "  \"wine_pref\": \"\"\n",
      "}\n",
      "```\n",
      "USER: Какое из следующих блюд в меню подходит под такое описание: мясо?  Выбери только одно блюдо из меню.\n",
      "ASSISTANT: Стейк «Бык на взводе»\n",
      "USER: Какие вина подойдут к блюду Стейк «Бык на взводе»?\n",
      "ASSISTANT: К стейку «Бык на взводе» подойдут следующие вина:\n",
      "* красные вина — сухие и полусухие вина из винограда Гарнача (Гренаш), Мерло, Карменер, Менсия, «тельные» Пино Нуары (со всего света), российский Красностоп, Гамэ (Божоле Виляж);\n",
      "* как вариант — мощные и выдержанные вина из сортов Каберне Совиньон, Сира, Барбера, Лагрейн, российский Цимлянский Чёрный и Саперави (молодое и «яркое»).\n",
      "USER: Какое из следующих вин в меню подходит под такое описание: К стейку «Бык на взводе» подойдут следующие вина:\n",
      "* красные вина — сухие и полусухие вина из винограда Гарнача (Гренаш), Мерло, Карменер, Менсия, «тельные» Пино Нуары (со всего света), российский Красностоп, Гамэ (Божоле Виляж);\n",
      "* как вариант — мощные и выдержанные вина из сортов Каберне Совиньон, Сира, Барбера, Лагрейн, российский Цимлянский Чёрный и Саперави (молодое и «яркое»).? Выбери только одно вино из меню.\n",
      "ASSISTANT: Каберне Совиньон от Château Lafite Rothschild, Франция.\n",
      "USER: Сочетается ли блюдо Стейк «Бык на взводе» с вином Каберне Совиньон от Château Lafite Rothschild, Франция.? Ответь ДА или НЕТ\n",
      "ASSISTANT: ДА.\n",
      "USER: Предложи гостям следующее блюдо Стейк «Бык на взводе» и вино Каберне Совиньон от Château Lafite Rothschild, Франция..\n",
      "ASSISTANT: Вы можете попробовать сочный стейк «Бык на взводе» за 2500 рублей — это рибай с розовым сердцем, томлёный в дыме аргентинских страстей, который подаётся с золотой солью Гималаев. К стейку могу предложить вино Каберне Совиньон от Château Lafite Rothschild, Франция, 2018 года за 4500 рублей за бокал.\n"
     ]
    }
   ],
   "source": [
    "for msg in list(res['thread'])[::-1]:\n",
    "    print(f\"{msg.role}: {msg.text}\")"
   ]
  },
  {
   "cell_type": "markdown",
   "id": "1a2c5817",
   "metadata": {},
   "source": [
    "Рассмотрим пример, когда пользователь хочет изначально не слишком хорошее сочетание:"
   ]
  },
  {
   "cell_type": "code",
   "execution_count": 121,
   "id": "34328da0",
   "metadata": {},
   "outputs": [
    {
     "name": "stdout",
     "output_type": "stream",
     "text": [
      "> Welcome, state=message=Привет, я хочу съесть какое-то рыбное блюдо с мерло!\n",
      " + Сообщение от пользователя: Привет, я хочу съесть какое-то рыбное блюдо с мерло!\n",
      " + Получены преференции: food_pref='рыбное блюдо' wine_pref='мерло'\n",
      "> Clarify, state=message=Привет, я хочу съесть какое-то рыбное блюдо с мерло!, foodpref=рыбное блюдо, winepref=мерло\n",
      " + Подбираем вино: мерло\n",
      " + Выбрано вино: Мерло от Marchesi Antinori, Италия, 2019 год.\n",
      " + Подбираем еду: рыбное блюдо\n",
      " + Выбрано блюдо: «Лосось в мечтах о Норвегии»\n",
      "> Check combination, state=message=Привет, я хочу съесть какое-то рыбное блюдо с мерло!, foodpref=рыбное блюдо, winepref=мерло, maindish=«Лосось в мечтах о Норвегии», wine=Мерло от Marchesi Antinori, Италия, 2019 год.\n",
      " + Проверяем сочетаемость блюда «Лосось в мечтах о Норвегии» и вина Мерло от Marchesi Antinori, Италия, 2019 год.\n",
      "Здравствуйте!\n",
      "\n",
      "Спасибо за ваш выбор. К сожалению, «Лосось в мечтах о Норвегии» и мерло от Marchesi Antinori, Италия, 2019 год не очень хорошо сочетаются. Могу ли я предложить вам другую комбинацию блюда и вина? Например, к стейкам подойдёт мерло, а к другим рыбным блюдам — белое вино. Буду рад помочь вам с выбором!\n"
     ]
    }
   ],
   "source": [
    "res = compiled_graph.invoke(\n",
    "    {\n",
    "        \"message\" : \"Привет, я хочу съесть какое-то рыбное блюдо с мерло!\",\n",
    "        \"thread\" : create_thread()\n",
    "    }\n",
    ")\n",
    "print(res['answer'])"
   ]
  },
  {
   "cell_type": "markdown",
   "id": "5c4f3c85",
   "metadata": {},
   "source": [
    "И наконец случай, когда у пользователя нет предпочтений:"
   ]
  },
  {
   "cell_type": "code",
   "execution_count": 122,
   "id": "24568ce4",
   "metadata": {},
   "outputs": [
    {
     "name": "stdout",
     "output_type": "stream",
     "text": [
      "> Welcome, state=message=Что вкусного есть у вас сегодня?\n",
      " + Сообщение от пользователя: Что вкусного есть у вас сегодня?\n",
      " + Получены преференции: food_pref='' wine_pref=''\n",
      "> Clarify, state=message=Что вкусного есть у вас сегодня?, foodpref=, winepref=\n",
      "> SelectRandom, state=message=Что вкусного есть у вас сегодня?, foodpref=, winepref=\n",
      " + Выбрано случайное блюдо: Стейк «Бык на взводе»\n",
      "> Recommend wine, state=message=Что вкусного есть у вас сегодня?, foodpref=, winepref=, maindish=Стейк «Бык на взводе»\n",
      " + Рекомендуем вино к блюду Стейк «Бык на взводе»\n",
      " + Рекомендации: К блюду «Стейк „Бык на взводе“» могут подойти следующие вина:\n",
      "* Красные вина: сухие и полусухие вина из винограда Гарнача (Гренаш), Мерло, Карменер, Менсия, «тельные» Пино Нуары (со всего света), российский Красностоп, Гамэ (Божоле Виляж).\n",
      "> Clarify, state=message=Что вкусного есть у вас сегодня?, foodpref=, winepref=К блюду «Стейк „Бык на взводе“» могут подойти следующие вина:\n",
      "* Красные вина: сухие и полусухие вина из винограда Гарнача (Гренаш), Мерло, Карменер, Менсия, «тельные» Пино Нуары (со всего света), российский Красностоп, Гамэ (Божоле Виляж)., maindish=Стейк «Бык на взводе»\n",
      " + Подбираем вино: К блюду «Стейк „Бык на взводе“» могут подойти следующие вина:\n",
      "* Красные вина: сухие и полусухие вина из винограда Гарнача (Гренаш), Мерло, Карменер, Менсия, «тельные» Пино Нуары (со всего света), российский Красностоп, Гамэ (Божоле Виляж).\n",
      " + Выбрано вино: Мерло от Marchesi Antinori, Италия.\n",
      "> Check combination, state=message=Что вкусного есть у вас сегодня?, foodpref=, winepref=К блюду «Стейк „Бык на взводе“» могут подойти следующие вина:\n",
      "* Красные вина: сухие и полусухие вина из винограда Гарнача (Гренаш), Мерло, Карменер, Менсия, «тельные» Пино Нуары (со всего света), российский Красностоп, Гамэ (Божоле Виляж)., maindish=Стейк «Бык на взводе», wine=Мерло от Marchesi Antinori, Италия.\n",
      " + Проверяем сочетаемость блюда Стейк «Бык на взводе» и вина Мерло от Marchesi Antinori, Италия.\n"
     ]
    },
    {
     "data": {
      "text/plain": [
       "{'message': 'Что вкусного есть у вас сегодня?',\n",
       " 'thread': Thread(id='fvto3n7eplhpfdqoo5ea', expiration_config=ExpirationConfig(ttl_days=1, expiration_policy=<ExpirationPolicy.STATIC: 1>), name=None, description=None, created_by='ajej20rll4tifkelclga', created_at=datetime.datetime(2025, 5, 4, 18, 47, 36, 488365), updated_by='ajej20rll4tifkelclga', updated_at=datetime.datetime(2025, 5, 4, 18, 47, 36, 488365), expires_at=datetime.datetime(2025, 5, 5, 18, 47, 36, 488365), labels=None),\n",
       " 'foodpref': '',\n",
       " 'winepref': 'К блюду «Стейк „Бык на взводе“» могут подойти следующие вина:\\n* Красные вина: сухие и полусухие вина из винограда Гарнача (Гренаш), Мерло, Карменер, Менсия, «тельные» Пино Нуары (со всего света), российский Красностоп, Гамэ (Божоле Виляж).',\n",
       " 'maindish': 'Стейк «Бык на взводе»',\n",
       " 'wine': 'Мерло от Marchesi Antinori, Италия.',\n",
       " 'answer': 'Стейк «Бык на взводе» — это сочный рибай с розовым сердцем, томлёный в дыме аргентинских страстей, который подаётся с золотой солью Гималаев. К этому блюду отлично подойдёт вино Мерло от Marchesi Antinori, Италия.'}"
      ]
     },
     "execution_count": 122,
     "metadata": {},
     "output_type": "execute_result"
    }
   ],
   "source": [
    "compiled_graph.invoke(\n",
    "    {\n",
    "        \"message\" : \"Что вкусного есть у вас сегодня?\",\n",
    "        \"thread\" : create_thread()\n",
    "    }\n",
    ")"
   ]
  },
  {
   "cell_type": "markdown",
   "id": "c96933bc",
   "metadata": {},
   "source": [
    "## Удаляем лишнее\n",
    "\n",
    "После демонстрации мы можем удалить все ассистенты, файлы, индексы и переписки.\n",
    "\n",
    "**ВНИМАНИЕ:** Код ниже удаляет все ассистенты, файлы, индексы и переписки в каталоге, с которым работает Yandex Cloud ML SDK. Если у вас есть другие проекты, использующие ассистентов, то лучше не выполняйте этот код, а дождитесь, когда объекты будут сами удалены по TTL."
   ]
  },
  {
   "cell_type": "code",
   "execution_count": 123,
   "id": "185f61c9",
   "metadata": {},
   "outputs": [
    {
     "name": "stderr",
     "output_type": "stream",
     "text": [
      "31it [00:02, 10.65it/s]\n",
      "3it [00:00, 10.82it/s]\n",
      "2it [00:00,  5.72it/s]\n",
      "24it [00:02, 10.61it/s]\n"
     ]
    }
   ],
   "source": [
    "from tqdm.auto import tqdm\n",
    "\n",
    "for thread in tqdm(sdk.threads.list()):\n",
    "    try:\n",
    "        thread.delete()\n",
    "    except:\n",
    "        pass\n",
    "\n",
    "for assistant in tqdm(sdk.assistants.list()):\n",
    "    assistant.delete()\n",
    "\n",
    "for index in tqdm(sdk.search_indexes.list()):\n",
    "    index.delete()\n",
    "    \n",
    "for file in tqdm(sdk.files.list()):\n",
    "    file.delete()"
   ]
  }
 ],
 "metadata": {
  "kernelspec": {
   "display_name": "mas",
   "language": "python",
   "name": "python3"
  },
  "language_info": {
   "codemirror_mode": {
    "name": "ipython",
    "version": 3
   },
   "file_extension": ".py",
   "mimetype": "text/x-python",
   "name": "python",
   "nbconvert_exporter": "python",
   "pygments_lexer": "ipython3",
   "version": "3.12.0"
  }
 },
 "nbformat": 4,
 "nbformat_minor": 5
}
