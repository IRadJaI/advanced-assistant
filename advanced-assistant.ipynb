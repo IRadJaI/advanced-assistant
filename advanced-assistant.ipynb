{
 "cells": [
  {
   "cell_type": "markdown",
   "metadata": {},
   "source": [
    "## Создание продвинутых ассистентов\n",
    "\n",
    "В этом ноутбуке мы попробуем создать и протестировать чат-ассистента на основе Yandex Assistant API, RAG и Function Calling.\n",
    "\n",
    "Для начала, установим Yandex Cloud ML SDK. В идеальном мире, вы сделаете вот так:"
   ]
  },
  {
   "cell_type": "code",
   "execution_count": 9,
   "metadata": {
    "execution": {
     "iopub.execute_input": "2025-03-20T11:26:40.760420Z",
     "iopub.status.busy": "2025-03-20T11:26:40.759649Z",
     "iopub.status.idle": "2025-03-20T11:26:49.046731Z",
     "shell.execute_reply": "2025-03-20T11:26:49.045788Z",
     "shell.execute_reply.started": "2025-03-20T11:26:40.760378Z"
    },
    "tags": []
   },
   "outputs": [
    {
     "name": "stderr",
     "output_type": "stream",
     "text": [
      "WARNING: All log messages before absl::InitializeLog() is called are written to STDERR\n",
      "I0000 00:00:1742470000.768423    3331 fork_posix.cc:75] Other threads are currently calling into gRPC, skipping fork() handlers\n"
     ]
    },
    {
     "name": "stdout",
     "output_type": "stream",
     "text": [
      "Defaulting to user installation because normal site-packages is not writeable\n",
      "Requirement already satisfied: yandex-cloud-ml-sdk in /home/jupyter/.local/lib/python3.10/site-packages (0.4.1)\n",
      "Collecting yandex-cloud-ml-sdk\n",
      "  Downloading yandex_cloud_ml_sdk-0.4.2-py3-none-any.whl.metadata (4.1 kB)\n",
      "Requirement already satisfied: yandexcloud>=0.335.0 in /home/jupyter/.local/lib/python3.10/site-packages (from yandex-cloud-ml-sdk) (0.336.0)\n",
      "Requirement already satisfied: grpcio>=1.70.0 in /home/jupyter/.local/lib/python3.10/site-packages (from yandex-cloud-ml-sdk) (1.71.0)\n",
      "Requirement already satisfied: get-annotations in /home/jupyter/.local/lib/python3.10/site-packages (from yandex-cloud-ml-sdk) (0.1.2)\n",
      "Requirement already satisfied: httpx<1,>=0.27 in /home/jupyter/.local/lib/python3.10/site-packages (from yandex-cloud-ml-sdk) (0.28.1)\n",
      "Requirement already satisfied: typing-extensions>=4 in /usr/local/lib/python3.10/dist-packages (from yandex-cloud-ml-sdk) (4.7.1)\n",
      "Requirement already satisfied: aiofiles>=24.1.0 in /home/jupyter/.local/lib/python3.10/site-packages (from yandex-cloud-ml-sdk) (24.1.0)\n",
      "Requirement already satisfied: anyio in /usr/local/lib/python3.10/dist-packages (from httpx<1,>=0.27->yandex-cloud-ml-sdk) (3.7.1)\n",
      "Requirement already satisfied: certifi in /usr/local/lib/python3.10/dist-packages (from httpx<1,>=0.27->yandex-cloud-ml-sdk) (2023.7.22)\n",
      "Requirement already satisfied: httpcore==1.* in /home/jupyter/.local/lib/python3.10/site-packages (from httpx<1,>=0.27->yandex-cloud-ml-sdk) (1.0.7)\n",
      "Requirement already satisfied: idna in /usr/local/lib/python3.10/dist-packages (from httpx<1,>=0.27->yandex-cloud-ml-sdk) (3.4)\n",
      "Requirement already satisfied: h11<0.15,>=0.13 in /home/jupyter/.local/lib/python3.10/site-packages (from httpcore==1.*->httpx<1,>=0.27->yandex-cloud-ml-sdk) (0.14.0)\n",
      "Requirement already satisfied: cryptography>=44.0.0 in /home/jupyter/.local/lib/python3.10/site-packages (from yandexcloud>=0.335.0->yandex-cloud-ml-sdk) (44.0.2)\n",
      "Requirement already satisfied: protobuf<6,>=5.29.1 in /home/jupyter/.local/lib/python3.10/site-packages (from yandexcloud>=0.335.0->yandex-cloud-ml-sdk) (5.29.3)\n",
      "Requirement already satisfied: googleapis-common-protos<2,>=1.66.0 in /home/jupyter/.local/lib/python3.10/site-packages (from yandexcloud>=0.335.0->yandex-cloud-ml-sdk) (1.69.2)\n",
      "Requirement already satisfied: pyjwt<3,>=2.10.1 in /home/jupyter/.local/lib/python3.10/site-packages (from yandexcloud>=0.335.0->yandex-cloud-ml-sdk) (2.10.1)\n",
      "Requirement already satisfied: requests<3,>=2.32.3 in /home/jupyter/.local/lib/python3.10/site-packages (from yandexcloud>=0.335.0->yandex-cloud-ml-sdk) (2.32.3)\n",
      "Requirement already satisfied: six<2,>=1.17.0 in /home/jupyter/.local/lib/python3.10/site-packages (from yandexcloud>=0.335.0->yandex-cloud-ml-sdk) (1.17.0)\n",
      "Requirement already satisfied: grpcio-tools>=1.68.1 in /home/jupyter/.local/lib/python3.10/site-packages (from yandexcloud>=0.335.0->yandex-cloud-ml-sdk) (1.71.0)\n",
      "Requirement already satisfied: deprecated>=1.2.18 in /home/jupyter/.local/lib/python3.10/site-packages (from yandexcloud>=0.335.0->yandex-cloud-ml-sdk) (1.2.18)\n",
      "Requirement already satisfied: cffi>=1.12 in /usr/local/lib/python3.10/dist-packages (from cryptography>=44.0.0->yandexcloud>=0.335.0->yandex-cloud-ml-sdk) (1.15.1)\n",
      "Requirement already satisfied: wrapt<2,>=1.10 in /usr/local/lib/python3.10/dist-packages (from deprecated>=1.2.18->yandexcloud>=0.335.0->yandex-cloud-ml-sdk) (1.14.1)\n",
      "Requirement already satisfied: setuptools in /kernel/lib/python3.10/site-packages (from grpcio-tools>=1.68.1->yandexcloud>=0.335.0->yandex-cloud-ml-sdk) (65.5.0)\n",
      "Requirement already satisfied: charset-normalizer<4,>=2 in /usr/local/lib/python3.10/dist-packages (from requests<3,>=2.32.3->yandexcloud>=0.335.0->yandex-cloud-ml-sdk) (2.0.12)\n",
      "Requirement already satisfied: urllib3<3,>=1.21.1 in /usr/local/lib/python3.10/dist-packages (from requests<3,>=2.32.3->yandexcloud>=0.335.0->yandex-cloud-ml-sdk) (1.26.16)\n",
      "Requirement already satisfied: sniffio>=1.1 in /usr/local/lib/python3.10/dist-packages (from anyio->httpx<1,>=0.27->yandex-cloud-ml-sdk) (1.3.0)\n",
      "Requirement already satisfied: exceptiongroup in /usr/local/lib/python3.10/dist-packages (from anyio->httpx<1,>=0.27->yandex-cloud-ml-sdk) (1.1.2)\n",
      "Requirement already satisfied: pycparser in /usr/local/lib/python3.10/dist-packages (from cffi>=1.12->cryptography>=44.0.0->yandexcloud>=0.335.0->yandex-cloud-ml-sdk) (2.21)\n",
      "Downloading yandex_cloud_ml_sdk-0.4.2-py3-none-any.whl (119 kB)\n",
      "Installing collected packages: yandex-cloud-ml-sdk\n",
      "  Attempting uninstall: yandex-cloud-ml-sdk\n",
      "    Found existing installation: yandex-cloud-ml-sdk 0.4.1\n",
      "    Uninstalling yandex-cloud-ml-sdk-0.4.1:\n",
      "      Successfully uninstalled yandex-cloud-ml-sdk-0.4.1\n",
      "Successfully installed yandex-cloud-ml-sdk-0.4.2\n",
      "\n",
      "\u001b[1m[\u001b[0m\u001b[34;49mnotice\u001b[0m\u001b[1;39;49m]\u001b[0m\u001b[39;49m A new release of pip is available: \u001b[0m\u001b[31;49m23.0.1\u001b[0m\u001b[39;49m -> \u001b[0m\u001b[32;49m25.0.1\u001b[0m\n",
      "\u001b[1m[\u001b[0m\u001b[34;49mnotice\u001b[0m\u001b[1;39;49m]\u001b[0m\u001b[39;49m To update, run: \u001b[0m\u001b[32;49mpython3 -m pip install --upgrade pip\u001b[0m\n"
     ]
    }
   ],
   "source": [
    "%pip install --upgrade yandex-cloud-ml-sdk"
   ]
  },
  {
   "cell_type": "markdown",
   "metadata": {},
   "source": [
    "В нашем случае мы установим самую последнюю версию SDK:"
   ]
  },
  {
   "cell_type": "code",
   "execution_count": 6,
   "metadata": {
    "execution": {
     "iopub.execute_input": "2025-03-31T11:28:42.982901Z",
     "iopub.status.busy": "2025-03-31T11:28:42.981272Z",
     "iopub.status.idle": "2025-03-31T11:28:59.625307Z",
     "shell.execute_reply": "2025-03-31T11:28:59.624145Z",
     "shell.execute_reply.started": "2025-03-31T11:28:42.982849Z"
    },
    "tags": []
   },
   "outputs": [
    {
     "name": "stdout",
     "output_type": "stream",
     "text": [
      "Defaulting to user installation because normal site-packages is not writeable\n",
      "Requirement already satisfied: flit in /home/jupyter/.local/lib/python3.10/site-packages (3.12.0)\n",
      "Requirement already satisfied: flit_core>=3.12.0 in /home/jupyter/.local/lib/python3.10/site-packages (from flit) (3.12.0)\n",
      "Requirement already satisfied: requests in /home/jupyter/.local/lib/python3.10/site-packages (from flit) (2.32.3)\n",
      "Requirement already satisfied: docutils in /usr/local/lib/python3.10/dist-packages (from flit) (0.18.1)\n",
      "Requirement already satisfied: tomli-w in /home/jupyter/.local/lib/python3.10/site-packages (from flit) (1.2.0)\n",
      "Requirement already satisfied: pip in /kernel/lib/python3.10/site-packages (from flit) (23.0.1)\n",
      "Requirement already satisfied: charset-normalizer<4,>=2 in /usr/local/lib/python3.10/dist-packages (from requests->flit) (2.0.12)\n",
      "Requirement already satisfied: idna<4,>=2.5 in /usr/local/lib/python3.10/dist-packages (from requests->flit) (3.4)\n",
      "Requirement already satisfied: urllib3<3,>=1.21.1 in /usr/local/lib/python3.10/dist-packages (from requests->flit) (1.26.16)\n",
      "Requirement already satisfied: certifi>=2017.4.17 in /usr/local/lib/python3.10/dist-packages (from requests->flit) (2023.7.22)\n",
      "\n",
      "\u001b[1m[\u001b[0m\u001b[34;49mnotice\u001b[0m\u001b[1;39;49m]\u001b[0m\u001b[39;49m A new release of pip is available: \u001b[0m\u001b[31;49m23.0.1\u001b[0m\u001b[39;49m -> \u001b[0m\u001b[32;49m25.0.1\u001b[0m\n",
      "\u001b[1m[\u001b[0m\u001b[34;49mnotice\u001b[0m\u001b[1;39;49m]\u001b[0m\u001b[39;49m To update, run: \u001b[0m\u001b[32;49mpython3 -m pip install --upgrade pip\u001b[0m\n",
      "Defaulting to user installation because normal site-packages is not writeable\n",
      "Collecting git+https://github.com/yandex-cloud/yandex-cloud-ml-sdk@5d77a3618838cc4ca0553a777a39a542f900e7c8\n",
      "  Cloning https://github.com/yandex-cloud/yandex-cloud-ml-sdk (to revision 5d77a3618838cc4ca0553a777a39a542f900e7c8) to /tmp/pip-req-build-fuvbe4ro\n",
      "  Running command git clone --filter=blob:none --quiet https://github.com/yandex-cloud/yandex-cloud-ml-sdk /tmp/pip-req-build-fuvbe4ro\n",
      "  Running command git rev-parse -q --verify 'sha^5d77a3618838cc4ca0553a777a39a542f900e7c8'\n",
      "  Running command git fetch -q https://github.com/yandex-cloud/yandex-cloud-ml-sdk 5d77a3618838cc4ca0553a777a39a542f900e7c8\n",
      "  Running command git checkout -q 5d77a3618838cc4ca0553a777a39a542f900e7c8\n",
      "  Resolved https://github.com/yandex-cloud/yandex-cloud-ml-sdk to commit 5d77a3618838cc4ca0553a777a39a542f900e7c8\n",
      "  Preparing metadata (pyproject.toml) ... \u001b[?25ldone\n",
      "\u001b[?25hRequirement already satisfied: yandexcloud>=0.335.0 in /home/jupyter/.local/lib/python3.10/site-packages (from yandex-cloud-ml-sdk==0.5.0) (0.336.0)\n",
      "Requirement already satisfied: grpcio>=1.70.0 in /home/jupyter/.local/lib/python3.10/site-packages (from yandex-cloud-ml-sdk==0.5.0) (1.71.0)\n",
      "Requirement already satisfied: get-annotations in /home/jupyter/.local/lib/python3.10/site-packages (from yandex-cloud-ml-sdk==0.5.0) (0.1.2)\n",
      "Requirement already satisfied: httpx<1,>=0.27 in /home/jupyter/.local/lib/python3.10/site-packages (from yandex-cloud-ml-sdk==0.5.0) (0.28.1)\n",
      "Requirement already satisfied: typing-extensions>=4 in /usr/local/lib/python3.10/dist-packages (from yandex-cloud-ml-sdk==0.5.0) (4.7.1)\n",
      "Requirement already satisfied: aiofiles>=24.1.0 in /home/jupyter/.local/lib/python3.10/site-packages (from yandex-cloud-ml-sdk==0.5.0) (24.1.0)\n",
      "Requirement already satisfied: anyio in /usr/local/lib/python3.10/dist-packages (from httpx<1,>=0.27->yandex-cloud-ml-sdk==0.5.0) (3.7.1)\n",
      "Requirement already satisfied: certifi in /usr/local/lib/python3.10/dist-packages (from httpx<1,>=0.27->yandex-cloud-ml-sdk==0.5.0) (2023.7.22)\n",
      "Requirement already satisfied: httpcore==1.* in /home/jupyter/.local/lib/python3.10/site-packages (from httpx<1,>=0.27->yandex-cloud-ml-sdk==0.5.0) (1.0.7)\n",
      "Requirement already satisfied: idna in /usr/local/lib/python3.10/dist-packages (from httpx<1,>=0.27->yandex-cloud-ml-sdk==0.5.0) (3.4)\n",
      "Requirement already satisfied: h11<0.15,>=0.13 in /home/jupyter/.local/lib/python3.10/site-packages (from httpcore==1.*->httpx<1,>=0.27->yandex-cloud-ml-sdk==0.5.0) (0.14.0)\n",
      "Requirement already satisfied: cryptography>=44.0.0 in /home/jupyter/.local/lib/python3.10/site-packages (from yandexcloud>=0.335.0->yandex-cloud-ml-sdk==0.5.0) (44.0.2)\n",
      "Requirement already satisfied: protobuf<6,>=5.29.1 in /home/jupyter/.local/lib/python3.10/site-packages (from yandexcloud>=0.335.0->yandex-cloud-ml-sdk==0.5.0) (5.29.3)\n",
      "Requirement already satisfied: googleapis-common-protos<2,>=1.66.0 in /home/jupyter/.local/lib/python3.10/site-packages (from yandexcloud>=0.335.0->yandex-cloud-ml-sdk==0.5.0) (1.69.2)\n",
      "Requirement already satisfied: pyjwt<3,>=2.10.1 in /home/jupyter/.local/lib/python3.10/site-packages (from yandexcloud>=0.335.0->yandex-cloud-ml-sdk==0.5.0) (2.10.1)\n",
      "Requirement already satisfied: requests<3,>=2.32.3 in /home/jupyter/.local/lib/python3.10/site-packages (from yandexcloud>=0.335.0->yandex-cloud-ml-sdk==0.5.0) (2.32.3)\n",
      "Requirement already satisfied: six<2,>=1.17.0 in /home/jupyter/.local/lib/python3.10/site-packages (from yandexcloud>=0.335.0->yandex-cloud-ml-sdk==0.5.0) (1.17.0)\n",
      "Requirement already satisfied: grpcio-tools>=1.68.1 in /home/jupyter/.local/lib/python3.10/site-packages (from yandexcloud>=0.335.0->yandex-cloud-ml-sdk==0.5.0) (1.71.0)\n",
      "Requirement already satisfied: deprecated>=1.2.18 in /home/jupyter/.local/lib/python3.10/site-packages (from yandexcloud>=0.335.0->yandex-cloud-ml-sdk==0.5.0) (1.2.18)\n",
      "Requirement already satisfied: cffi>=1.12 in /usr/local/lib/python3.10/dist-packages (from cryptography>=44.0.0->yandexcloud>=0.335.0->yandex-cloud-ml-sdk==0.5.0) (1.15.1)\n",
      "Requirement already satisfied: wrapt<2,>=1.10 in /usr/local/lib/python3.10/dist-packages (from deprecated>=1.2.18->yandexcloud>=0.335.0->yandex-cloud-ml-sdk==0.5.0) (1.14.1)\n",
      "Requirement already satisfied: setuptools in /kernel/lib/python3.10/site-packages (from grpcio-tools>=1.68.1->yandexcloud>=0.335.0->yandex-cloud-ml-sdk==0.5.0) (65.5.0)\n",
      "Requirement already satisfied: charset-normalizer<4,>=2 in /usr/local/lib/python3.10/dist-packages (from requests<3,>=2.32.3->yandexcloud>=0.335.0->yandex-cloud-ml-sdk==0.5.0) (2.0.12)\n",
      "Requirement already satisfied: urllib3<3,>=1.21.1 in /usr/local/lib/python3.10/dist-packages (from requests<3,>=2.32.3->yandexcloud>=0.335.0->yandex-cloud-ml-sdk==0.5.0) (1.26.16)\n",
      "Requirement already satisfied: sniffio>=1.1 in /usr/local/lib/python3.10/dist-packages (from anyio->httpx<1,>=0.27->yandex-cloud-ml-sdk==0.5.0) (1.3.0)\n",
      "Requirement already satisfied: exceptiongroup in /usr/local/lib/python3.10/dist-packages (from anyio->httpx<1,>=0.27->yandex-cloud-ml-sdk==0.5.0) (1.1.2)\n",
      "Requirement already satisfied: pycparser in /usr/local/lib/python3.10/dist-packages (from cffi>=1.12->cryptography>=44.0.0->yandexcloud>=0.335.0->yandex-cloud-ml-sdk==0.5.0) (2.21)\n",
      "Building wheels for collected packages: yandex-cloud-ml-sdk\n",
      "  Building wheel for yandex-cloud-ml-sdk (pyproject.toml) ... \u001b[?25ldone\n",
      "\u001b[?25h  Created wheel for yandex-cloud-ml-sdk: filename=yandex_cloud_ml_sdk-0.5.0-py3-none-any.whl size=126402 sha256=ebb0a147ee40c921a33b0de68ee24d15f63a611284092aca3ff43a8fc9859b9c\n",
      "  Stored in directory: /tmp/xdg_cache/pip/wheels/9d/6f/47/9f5dfbbda82a8d000904d200585f852bc4d7813dbf9ab566b9\n",
      "Successfully built yandex-cloud-ml-sdk\n",
      "Installing collected packages: yandex-cloud-ml-sdk\n",
      "  Attempting uninstall: yandex-cloud-ml-sdk\n",
      "    Found existing installation: yandex-cloud-ml-sdk 0.4.2\n",
      "    Uninstalling yandex-cloud-ml-sdk-0.4.2:\n",
      "      Successfully uninstalled yandex-cloud-ml-sdk-0.4.2\n",
      "Successfully installed yandex-cloud-ml-sdk-0.5.0\n",
      "\n",
      "\u001b[1m[\u001b[0m\u001b[34;49mnotice\u001b[0m\u001b[1;39;49m]\u001b[0m\u001b[39;49m A new release of pip is available: \u001b[0m\u001b[31;49m23.0.1\u001b[0m\u001b[39;49m -> \u001b[0m\u001b[32;49m25.0.1\u001b[0m\n",
      "\u001b[1m[\u001b[0m\u001b[34;49mnotice\u001b[0m\u001b[1;39;49m]\u001b[0m\u001b[39;49m To update, run: \u001b[0m\u001b[32;49mpython3 -m pip install --upgrade pip\u001b[0m\n"
     ]
    }
   ],
   "source": [
    "%pip install flit\n",
    "%pip install git+https://github.com/yandex-cloud/yandex-cloud-ml-sdk@5d77a3618838cc4ca0553a777a39a542f900e7c8"
   ]
  },
  {
   "cell_type": "markdown",
   "metadata": {},
   "source": [
    "Также необходимо обновить некоторые библиотеки:"
   ]
  },
  {
   "cell_type": "code",
   "execution_count": 53,
   "metadata": {
    "execution": {
     "iopub.execute_input": "2025-03-31T12:50:16.181842Z",
     "iopub.status.busy": "2025-03-31T12:50:16.180391Z",
     "iopub.status.idle": "2025-03-31T12:50:28.504805Z",
     "shell.execute_reply": "2025-03-31T12:50:28.503695Z",
     "shell.execute_reply.started": "2025-03-31T12:50:16.181789Z"
    }
   },
   "outputs": [
    {
     "name": "stderr",
     "output_type": "stream",
     "text": [
      "WARNING: All log messages before absl::InitializeLog() is called are written to STDERR\n",
      "I0000 00:00:1743425416.188163    3524 fork_posix.cc:75] Other threads are currently calling into gRPC, skipping fork() handlers\n"
     ]
    },
    {
     "name": "stdout",
     "output_type": "stream",
     "text": [
      "Defaulting to user installation because normal site-packages is not writeable\n",
      "Requirement already satisfied: pydantic in /usr/local/lib/python3.10/dist-packages (1.10.12)\n",
      "Collecting pydantic\n",
      "  Downloading pydantic-2.11.1-py3-none-any.whl.metadata (63 kB)\n",
      "Collecting annotated-types>=0.6.0 (from pydantic)\n",
      "  Downloading annotated_types-0.7.0-py3-none-any.whl.metadata (15 kB)\n",
      "Collecting pydantic-core==2.33.0 (from pydantic)\n",
      "  Downloading pydantic_core-2.33.0-cp310-cp310-manylinux_2_17_x86_64.manylinux2014_x86_64.whl.metadata (6.8 kB)\n",
      "Collecting typing-extensions>=4.12.2 (from pydantic)\n",
      "  Downloading typing_extensions-4.13.0-py3-none-any.whl.metadata (3.0 kB)\n",
      "Collecting typing-inspection>=0.4.0 (from pydantic)\n",
      "  Downloading typing_inspection-0.4.0-py3-none-any.whl.metadata (2.6 kB)\n",
      "Downloading pydantic-2.11.1-py3-none-any.whl (442 kB)\n",
      "Downloading pydantic_core-2.33.0-cp310-cp310-manylinux_2_17_x86_64.manylinux2014_x86_64.whl (2.0 MB)\n",
      "\u001b[2K   \u001b[90m━━━━━━━━━━━━━━━━━━━━━━━━━━━━━━━━━━━━━━━━\u001b[0m \u001b[32m2.0/2.0 MB\u001b[0m \u001b[31m17.9 MB/s\u001b[0m eta \u001b[36m0:00:00\u001b[0m\n",
      "\u001b[?25hDownloading annotated_types-0.7.0-py3-none-any.whl (13 kB)\n",
      "Downloading typing_extensions-4.13.0-py3-none-any.whl (45 kB)\n",
      "Downloading typing_inspection-0.4.0-py3-none-any.whl (14 kB)\n",
      "Installing collected packages: typing-extensions, annotated-types, typing-inspection, pydantic-core, pydantic\n",
      "\u001b[31mERROR: pip's dependency resolver does not currently take into account all the packages that are installed. This behaviour is the source of the following dependency conflicts.\n",
      "confection 0.1.0 requires pydantic!=1.8,!=1.8.1,<1.11.0,>=1.7.4, but you have pydantic 2.11.1 which is incompatible.\n",
      "inflect 6.0.5 requires pydantic<2,>=1.9.1, but you have pydantic 2.11.1 which is incompatible.\n",
      "spacy 3.5.4 requires pydantic!=1.8,!=1.8.1,<1.11.0,>=1.7.4, but you have pydantic 2.11.1 which is incompatible.\n",
      "tensorflow 2.12.0 requires protobuf!=4.21.0,!=4.21.1,!=4.21.2,!=4.21.3,!=4.21.4,!=4.21.5,<5.0.0dev,>=3.20.3, but you have protobuf 5.29.3 which is incompatible.\n",
      "thinc 8.1.10 requires pydantic!=1.8,!=1.8.1,<1.11.0,>=1.7.4, but you have pydantic 2.11.1 which is incompatible.\u001b[0m\u001b[31m\n",
      "\u001b[0mSuccessfully installed annotated-types-0.7.0 pydantic-2.11.1 pydantic-core-2.33.0 typing-extensions-4.13.0 typing-inspection-0.4.0\n",
      "\n",
      "\u001b[1m[\u001b[0m\u001b[34;49mnotice\u001b[0m\u001b[1;39;49m]\u001b[0m\u001b[39;49m A new release of pip is available: \u001b[0m\u001b[31;49m23.0.1\u001b[0m\u001b[39;49m -> \u001b[0m\u001b[32;49m25.0.1\u001b[0m\n",
      "\u001b[1m[\u001b[0m\u001b[34;49mnotice\u001b[0m\u001b[1;39;49m]\u001b[0m\u001b[39;49m To update, run: \u001b[0m\u001b[32;49mpython3 -m pip install --upgrade pip\u001b[0m\n"
     ]
    }
   ],
   "source": [
    "%pip install --upgrade pydantic"
   ]
  },
  {
   "cell_type": "markdown",
   "metadata": {},
   "source": [
    "Для работы с языковыми моделями нам понадобится ключ `api_key` для сервисного аккаунта, имеющего права на доступ к модели, и `folder_id`. Мы предполагаем, что соответствующие значения хранятся в секретах Datasphere.\n",
    "\n",
    "Создадим модель последней версии YandexGPT 5 и убедимся, что она кое-что знает про вина:"
   ]
  },
  {
   "cell_type": "code",
   "execution_count": 1,
   "metadata": {
    "execution": {
     "iopub.execute_input": "2025-04-01T09:33:35.141389Z",
     "iopub.status.busy": "2025-04-01T09:33:35.140333Z",
     "iopub.status.idle": "2025-04-01T09:33:36.864975Z",
     "shell.execute_reply": "2025-04-01T09:33:36.863894Z",
     "shell.execute_reply.started": "2025-04-01T09:33:35.141321Z"
    },
    "tags": []
   },
   "outputs": [],
   "source": [
    "import os \n",
    "from yandex_cloud_ml_sdk import YCloudML\n",
    "\n",
    "folder_id = os.environ['folder_id']\n",
    "api_key = os.environ['api_key']\n",
    "\n",
    "sdk = YCloudML(folder_id=folder_id,auth=api_key)\n",
    "model = sdk.models.completions(\"yandexgpt\",model_version='rc')"
   ]
  },
  {
   "cell_type": "code",
   "execution_count": 8,
   "metadata": {
    "execution": {
     "iopub.execute_input": "2025-03-31T11:29:27.660416Z",
     "iopub.status.busy": "2025-03-31T11:29:27.658701Z",
     "iopub.status.idle": "2025-03-31T11:29:31.975783Z",
     "shell.execute_reply": "2025-03-31T11:29:31.974647Z",
     "shell.execute_reply.started": "2025-03-31T11:29:27.660359Z"
    },
    "tags": []
   },
   "outputs": [
    {
     "data": {
      "text/plain": [
       "'Выбор вина к устрицам зависит от ваших личных предпочтений и вида устриц. Вот несколько популярных вариантов:\\n\\n1. **Шардоне** — особенно из прохладных климатических зон, таких как Шабли во Франции или некоторые регионы Новой Зеландии. Эти вина обычно имеют яркую кислотность и ноты цитрусовых фруктов, которые хорошо сочетаются с солоноватостью и текстурой устриц.\\n\\n2. **Совиньон Блан** — особенно из регионов, таких как Марльборо в Новой Зеландии или Пойяк во Франции. Совиньон Блан обладает яркой кислотностью и свежими фруктовыми нотами, которые могут подчеркнуть вкус устриц.\\n\\n3. **Мюскаде** — белое вино из региона Луары во Франции, которое часто рекомендуют к устрицам. Оно обладает лёгким, свежим вкусом с нотами зелёного яблока и цитрусовых.\\n\\n4. **Альбариньо** — белое вино из региона Риас Байшас в Испании. Оно известно своей свежестью, высокой кислотностью и нотами экзотических фруктов, которые могут хорошо сочетаться с устрицами.\\n\\n5. **Шампанское и другие игристые вина** — их свежесть и пузырьки могут создать интересное сочетание с устрицами. Игристые вина с более выраженными нотами цитрусовых и миндаля могут быть особенно удачными.\\n\\nВажно помнить, что выбор вина зависит от ваших личных предпочтений, а также от способа подачи устриц — с лимоном, уксусом, луком или другими добавками. Рекомендуется пробовать разные сочетания, чтобы найти то, которое вам больше всего нравится.'"
      ]
     },
     "execution_count": 8,
     "metadata": {},
     "output_type": "execute_result"
    }
   ],
   "source": [
    "model.run(\"Какое вино можно пить с устрицами?\").text"
   ]
  },
  {
   "cell_type": "markdown",
   "metadata": {},
   "source": [
    "## Assistant API\n",
    "\n",
    "Для ведения беседы с моделью с сохранением контекста диалога используем Assistants API. Объект `thread` будет отвечать за сохранение контекста, а `assistant` - за все основные установки, связанные с работой ассистента."
   ]
  },
  {
   "cell_type": "code",
   "execution_count": 35,
   "metadata": {
    "execution": {
     "iopub.execute_input": "2025-04-01T12:14:39.684548Z",
     "iopub.status.busy": "2025-04-01T12:14:39.683114Z",
     "iopub.status.idle": "2025-04-01T12:14:39.699065Z",
     "shell.execute_reply": "2025-04-01T12:14:39.697821Z",
     "shell.execute_reply.started": "2025-04-01T12:14:39.684492Z"
    },
    "tags": []
   },
   "outputs": [],
   "source": [
    "def create_thread():\n",
    "    return sdk.threads.create(ttl_days=1, expiration_policy=\"static\")\n",
    "\n",
    "def create_assistant(model,tools=None):\n",
    "    if tools and len(tools)>0:\n",
    "        return sdk.assistants.create(model, ttl_days=1, expiration_policy=\"since_last_active\",tools=tools)\n",
    "    else:\n",
    "        return sdk.assistants.create(model, ttl_days=1, expiration_policy=\"since_last_active\")"
   ]
  },
  {
   "cell_type": "code",
   "execution_count": 37,
   "metadata": {
    "execution": {
     "iopub.execute_input": "2025-03-31T19:18:21.754656Z",
     "iopub.status.busy": "2025-03-31T19:18:21.753308Z",
     "iopub.status.idle": "2025-03-31T19:18:24.586828Z",
     "shell.execute_reply": "2025-03-31T19:18:24.585691Z",
     "shell.execute_reply.started": "2025-03-31T19:18:21.754604Z"
    },
    "tags": []
   },
   "outputs": [
    {
     "name": "stdout",
     "output_type": "stream",
     "text": [
      "Здравствуйте! Чтобы подобрать вино, которое максимально соответствует вашим предпочтениям, мне нужно узнать немного больше о ваших вкусах. Вы предпочитаете белые, розовые или красные вина? Есть ли у вас любимые сорта винограда или страны-производители? Также важно знать, планируете ли вы подавать вино к определённому блюду или событию.\n"
     ]
    }
   ],
   "source": [
    "thread = create_thread()\n",
    "assistant =  create_assistant(model)\n",
    "\n",
    "assistant.update(instruction=\"Ты - опытный сомелье, задача которого - консультировать пользователя в вопросах выбора вина.\")\n",
    "\n",
    "thread.write(\"Привет! Какое вино посоветуете?\")\n",
    "\n",
    "run = assistant.run(thread)\n",
    "result = run.wait()\n",
    "\n",
    "print(result.text)"
   ]
  },
  {
   "cell_type": "code",
   "execution_count": 38,
   "metadata": {
    "execution": {
     "iopub.execute_input": "2025-03-31T19:18:27.455649Z",
     "iopub.status.busy": "2025-03-31T19:18:27.454206Z",
     "iopub.status.idle": "2025-03-31T19:18:31.278280Z",
     "shell.execute_reply": "2025-03-31T19:18:31.277347Z",
     "shell.execute_reply.started": "2025-03-31T19:18:27.455595Z"
    },
    "tags": []
   },
   "outputs": [
    {
     "name": "stdout",
     "output_type": "stream",
     "text": [
      "Для стейка я бы порекомендовал красное вино с насыщенным вкусом и хорошей структурой. Отлично подойдут вина из сортов каберне совиньон, мерло или шираз. Эти сорта обладают достаточной танинностью и фруктовостью, чтобы гармонично сочетаться с мясом.\n",
      "\n",
      "Если вы предпочитаете более лёгкие и фруктовые вина, то обратите внимание на пино нуар — он также хорошо подойдёт к стейку.\n",
      "\n",
      "Рекомендую обратить внимание на вина из следующих регионов:\n",
      "* Бордо (Франция) — каберне совиньон;\n",
      "* Тоскана (Италия) — мерло;\n",
      "* Австралия — шираз;\n",
      "* Бургундия (Франция) — пино нуар.\n",
      "\n",
      "Надеюсь, это поможет вам сделать выбор! Если у вас есть ещё вопросы или нужна дополнительная информация, пожалуйста, сообщите мне.\n"
     ]
    }
   ],
   "source": [
    "thread.write(\"Я буду есть стейк!\")\n",
    "\n",
    "run = assistant.run(thread)\n",
    "result = run.wait()\n",
    "\n",
    "print(result.text)"
   ]
  },
  {
   "cell_type": "code",
   "execution_count": 39,
   "metadata": {
    "execution": {
     "iopub.execute_input": "2025-03-31T19:18:39.792622Z",
     "iopub.status.busy": "2025-03-31T19:18:39.791614Z",
     "iopub.status.idle": "2025-03-31T19:18:39.948540Z",
     "shell.execute_reply": "2025-03-31T19:18:39.947408Z",
     "shell.execute_reply.started": "2025-03-31T19:18:39.792567Z"
    },
    "tags": []
   },
   "outputs": [],
   "source": [
    "thread.delete()\n",
    "assistant.delete()"
   ]
  },
  {
   "cell_type": "markdown",
   "metadata": {},
   "source": [
    "## Добавляем RAG\n",
    "\n",
    "Для RAG будем использовать текстовую базу знаний по винам и винным регионам, которая хранится в виде множества файлов в директориях `source/wines` и `source/regions`. Пройдёмся по этим файлам и посмотрим на их длину в токенах."
   ]
  },
  {
   "cell_type": "code",
   "execution_count": 3,
   "metadata": {
    "execution": {
     "iopub.execute_input": "2025-04-01T09:33:52.508559Z",
     "iopub.status.busy": "2025-04-01T09:33:52.507263Z",
     "iopub.status.idle": "2025-04-01T09:33:57.626911Z",
     "shell.execute_reply": "2025-04-01T09:33:57.625794Z",
     "shell.execute_reply.started": "2025-04-01T09:33:52.508509Z"
    },
    "tags": []
   },
   "outputs": [
    {
     "data": {
      "text/html": [
       "<div>\n",
       "<style scoped>\n",
       "    .dataframe tbody tr th:only-of-type {\n",
       "        vertical-align: middle;\n",
       "    }\n",
       "\n",
       "    .dataframe tbody tr th {\n",
       "        vertical-align: top;\n",
       "    }\n",
       "\n",
       "    .dataframe thead th {\n",
       "        text-align: right;\n",
       "    }\n",
       "</style>\n",
       "<table border=\"1\" class=\"dataframe\">\n",
       "  <thead>\n",
       "    <tr style=\"text-align: right;\">\n",
       "      <th></th>\n",
       "      <th>File</th>\n",
       "      <th>Tokens</th>\n",
       "      <th>Chars</th>\n",
       "      <th>Category</th>\n",
       "    </tr>\n",
       "  </thead>\n",
       "  <tbody>\n",
       "    <tr>\n",
       "      <th>0</th>\n",
       "      <td>source/regions/Абруццо.md</td>\n",
       "      <td>499</td>\n",
       "      <td>2022</td>\n",
       "      <td>regions</td>\n",
       "    </tr>\n",
       "    <tr>\n",
       "      <th>1</th>\n",
       "      <td>source/regions/Азорские острова.md</td>\n",
       "      <td>409</td>\n",
       "      <td>1809</td>\n",
       "      <td>regions</td>\n",
       "    </tr>\n",
       "    <tr>\n",
       "      <th>2</th>\n",
       "      <td>source/regions/Аконкагуа.md</td>\n",
       "      <td>278</td>\n",
       "      <td>1182</td>\n",
       "      <td>regions</td>\n",
       "    </tr>\n",
       "    <tr>\n",
       "      <th>3</th>\n",
       "      <td>source/regions/Алентежу.md</td>\n",
       "      <td>320</td>\n",
       "      <td>1216</td>\n",
       "      <td>regions</td>\n",
       "    </tr>\n",
       "    <tr>\n",
       "      <th>4</th>\n",
       "      <td>source/regions/Апулия.md</td>\n",
       "      <td>489</td>\n",
       "      <td>1918</td>\n",
       "      <td>regions</td>\n",
       "    </tr>\n",
       "    <tr>\n",
       "      <th>...</th>\n",
       "      <td>...</td>\n",
       "      <td>...</td>\n",
       "      <td>...</td>\n",
       "      <td>...</td>\n",
       "    </tr>\n",
       "    <tr>\n",
       "      <th>125</th>\n",
       "      <td>source/wines/Совиньон блан.md</td>\n",
       "      <td>634</td>\n",
       "      <td>2578</td>\n",
       "      <td>wines</td>\n",
       "    </tr>\n",
       "    <tr>\n",
       "      <th>126</th>\n",
       "      <td>source/wines/Темпранильо.md</td>\n",
       "      <td>637</td>\n",
       "      <td>2323</td>\n",
       "      <td>wines</td>\n",
       "    </tr>\n",
       "    <tr>\n",
       "      <th>127</th>\n",
       "      <td>source/wines/Цвайгельт.md</td>\n",
       "      <td>663</td>\n",
       "      <td>2620</td>\n",
       "      <td>wines</td>\n",
       "    </tr>\n",
       "    <tr>\n",
       "      <th>128</th>\n",
       "      <td>source/wines/Шардоне.md</td>\n",
       "      <td>567</td>\n",
       "      <td>2407</td>\n",
       "      <td>wines</td>\n",
       "    </tr>\n",
       "    <tr>\n",
       "      <th>129</th>\n",
       "      <td>source/wines/Шенен блан.md</td>\n",
       "      <td>614</td>\n",
       "      <td>2606</td>\n",
       "      <td>wines</td>\n",
       "    </tr>\n",
       "  </tbody>\n",
       "</table>\n",
       "<p>130 rows × 4 columns</p>\n",
       "</div>"
      ],
      "text/plain": [
       "                                   File  Tokens  Chars Category\n",
       "0             source/regions/Абруццо.md     499   2022  regions\n",
       "1    source/regions/Азорские острова.md     409   1809  regions\n",
       "2           source/regions/Аконкагуа.md     278   1182  regions\n",
       "3            source/regions/Алентежу.md     320   1216  regions\n",
       "4              source/regions/Апулия.md     489   1918  regions\n",
       "..                                  ...     ...    ...      ...\n",
       "125       source/wines/Совиньон блан.md     634   2578    wines\n",
       "126         source/wines/Темпранильо.md     637   2323    wines\n",
       "127           source/wines/Цвайгельт.md     663   2620    wines\n",
       "128             source/wines/Шардоне.md     567   2407    wines\n",
       "129          source/wines/Шенен блан.md     614   2606    wines\n",
       "\n",
       "[130 rows x 4 columns]"
      ]
     },
     "execution_count": 3,
     "metadata": {},
     "output_type": "execute_result"
    }
   ],
   "source": [
    "from glob import glob\n",
    "from tqdm.auto import tqdm\n",
    "import pandas as pd\n",
    "\n",
    "def get_token_count(filename):\n",
    "    with open(filename,'r',encoding='utf8') as f:\n",
    "        return len(model.tokenize(f.read()))\n",
    "\n",
    "def get_file_len(filename):\n",
    "    with open(filename,encoding='utf-8') as f:\n",
    "        l = len(f.read())\n",
    "    return l\n",
    "    \n",
    "d = [\n",
    "        {\n",
    "            \"File\" : fn,\n",
    "            \"Tokens\" : get_token_count(fn),\n",
    "            \"Chars\" : get_file_len(fn),\n",
    "            \"Category\" : fn.split('/')[1]\n",
    "        } \n",
    "    for fn in glob('source/*/*.md')\n",
    "    if fn.count('/') == 2\n",
    "]\n",
    "\n",
    "df = pd.DataFrame(d)\n",
    "df"
   ]
  },
  {
   "cell_type": "markdown",
   "metadata": {},
   "source": [
    "Посмотрим на среднюю, мин и макс длину фрагментов:"
   ]
  },
  {
   "cell_type": "code",
   "execution_count": 4,
   "metadata": {
    "execution": {
     "iopub.execute_input": "2025-04-01T09:34:00.861319Z",
     "iopub.status.busy": "2025-04-01T09:34:00.860340Z",
     "iopub.status.idle": "2025-04-01T09:34:00.917955Z",
     "shell.execute_reply": "2025-04-01T09:34:00.916890Z",
     "shell.execute_reply.started": "2025-04-01T09:34:00.861265Z"
    },
    "tags": []
   },
   "outputs": [
    {
     "data": {
      "text/html": [
       "<div>\n",
       "<style scoped>\n",
       "    .dataframe tbody tr th:only-of-type {\n",
       "        vertical-align: middle;\n",
       "    }\n",
       "\n",
       "    .dataframe tbody tr th {\n",
       "        vertical-align: top;\n",
       "    }\n",
       "\n",
       "    .dataframe thead tr th {\n",
       "        text-align: left;\n",
       "    }\n",
       "\n",
       "    .dataframe thead tr:last-of-type th {\n",
       "        text-align: right;\n",
       "    }\n",
       "</style>\n",
       "<table border=\"1\" class=\"dataframe\">\n",
       "  <thead>\n",
       "    <tr>\n",
       "      <th></th>\n",
       "      <th colspan=\"3\" halign=\"left\">Tokens</th>\n",
       "    </tr>\n",
       "    <tr>\n",
       "      <th></th>\n",
       "      <th>min</th>\n",
       "      <th>mean</th>\n",
       "      <th>max</th>\n",
       "    </tr>\n",
       "    <tr>\n",
       "      <th>Category</th>\n",
       "      <th></th>\n",
       "      <th></th>\n",
       "      <th></th>\n",
       "    </tr>\n",
       "  </thead>\n",
       "  <tbody>\n",
       "    <tr>\n",
       "      <th>regions</th>\n",
       "      <td>153</td>\n",
       "      <td>423.340000</td>\n",
       "      <td>683</td>\n",
       "    </tr>\n",
       "    <tr>\n",
       "      <th>wines</th>\n",
       "      <td>264</td>\n",
       "      <td>551.366667</td>\n",
       "      <td>664</td>\n",
       "    </tr>\n",
       "  </tbody>\n",
       "</table>\n",
       "</div>"
      ],
      "text/plain": [
       "         Tokens                 \n",
       "            min        mean  max\n",
       "Category                        \n",
       "regions     153  423.340000  683\n",
       "wines       264  551.366667  664"
      ]
     },
     "execution_count": 4,
     "metadata": {},
     "output_type": "execute_result"
    }
   ],
   "source": [
    "df.groupby('Category').agg({ 'Tokens' : ('min','mean','max') })"
   ]
  },
  {
   "cell_type": "markdown",
   "metadata": {},
   "source": [
    "Мы видим, что фрагменты не превышают 700 токенов, и это значит, что нам не придётся прибегать к какой-либо стратегии чанкования. Это идеальная ситуация, когда текстовая база знаний разбита вручную на небольшие фрагменты текста.\n",
    "\n",
    "## Загружаем файлы в облако\n",
    "\n",
    "Чтобы RAG мог осущетвлять поиск по фрагментам файлов, нам необходимо построить индекс, а перед этим - загрузить все файлы в облако."
   ]
  },
  {
   "cell_type": "code",
   "execution_count": 5,
   "metadata": {
    "execution": {
     "iopub.execute_input": "2025-04-01T09:34:11.061983Z",
     "iopub.status.busy": "2025-04-01T09:34:11.061012Z",
     "iopub.status.idle": "2025-04-01T09:34:23.211208Z",
     "shell.execute_reply": "2025-04-01T09:34:23.210181Z",
     "shell.execute_reply.started": "2025-04-01T09:34:11.061935Z"
    },
    "tags": []
   },
   "outputs": [],
   "source": [
    "def upload_file(filename):\n",
    "    return sdk.files.upload(filename,ttl_days=1,expiration_policy=\"static\")\n",
    "\n",
    "df[\"Uploaded\"] = df['File'].apply(upload_file)"
   ]
  },
  {
   "cell_type": "markdown",
   "metadata": {},
   "source": [
    "## Строим индекс\n",
    "\n",
    "Для индексации файлов можно применять следующие стратегии:\n",
    "* Поиск по эмбеддингам (векторный поиск) - по всем фрагментам текста вычисляются эмбеддинги, и в процессе поиска осуществляется векторный поиск между эмбеддингом запроса и эмбеддингом фрагмента. Это позволяет осуществлять семантический поиск\n",
    "* Поиск по ключевым словам\n",
    "* Гибридный поиск, в котором различными способами объединяются результаты поиска по ключевым словам и вектороного поиска.\n",
    "\n",
    "Также в процессе создания индекса мы указываем **стратегию чанкования** текстов, но в нашем случае она не будет применяться.\n",
    "\n",
    "> Поскольку есть ограничение на 100 добавляемых в индекс файлов, то будем добавлять фрагменты по винам и по регионам по-очереди."
   ]
  },
  {
   "cell_type": "code",
   "execution_count": 6,
   "metadata": {
    "execution": {
     "iopub.execute_input": "2025-04-01T09:34:26.485670Z",
     "iopub.status.busy": "2025-04-01T09:34:26.484095Z",
     "iopub.status.idle": "2025-04-01T09:34:37.302088Z",
     "shell.execute_reply": "2025-04-01T09:34:37.300990Z",
     "shell.execute_reply.started": "2025-04-01T09:34:26.485613Z"
    },
    "tags": []
   },
   "outputs": [],
   "source": [
    "from yandex_cloud_ml_sdk.search_indexes import (\n",
    "    StaticIndexChunkingStrategy,\n",
    "    HybridSearchIndexType,\n",
    "    ReciprocalRankFusionIndexCombinationStrategy)\n",
    "\n",
    "op = sdk.search_indexes.create_deferred(\n",
    "    df[df[\"Category\"]==\"wines\"][\"Uploaded\"],\n",
    "    index_type = HybridSearchIndexType(\n",
    "        chunking_strategy=StaticIndexChunkingStrategy(\n",
    "            max_chunk_size_tokens = 1000,\n",
    "            chunk_overlap_tokens = 100),\n",
    "        combination_strategy=ReciprocalRankFusionIndexCombinationStrategy()))\n",
    "index = op.wait()"
   ]
  },
  {
   "cell_type": "code",
   "execution_count": 7,
   "metadata": {
    "execution": {
     "iopub.execute_input": "2025-04-01T09:34:37.304591Z",
     "iopub.status.busy": "2025-04-01T09:34:37.303688Z",
     "iopub.status.idle": "2025-04-01T09:34:47.916209Z",
     "shell.execute_reply": "2025-04-01T09:34:47.915109Z",
     "shell.execute_reply.started": "2025-04-01T09:34:37.304547Z"
    },
    "tags": []
   },
   "outputs": [],
   "source": [
    "op = index.add_files_deferred(df[df[\"Category\"]==\"regions\"][\"Uploaded\"])\n",
    "xfiles = op.wait()"
   ]
  },
  {
   "cell_type": "markdown",
   "metadata": {},
   "source": [
    "## Собираем RAG-ассистента\n",
    "\n",
    "Теперь собираем собственно ассистента, который будет использовать RAG. Для этого определяем **инструмент** (tool) для поиска в нашем индексе, и указываем его при создании ассистента. Также важно задать хорошую инструкцию для ассистента (системный промпт): "
   ]
  },
  {
   "cell_type": "code",
   "execution_count": 8,
   "metadata": {
    "execution": {
     "iopub.execute_input": "2025-04-01T11:06:46.711437Z",
     "iopub.status.busy": "2025-04-01T11:06:46.710076Z",
     "iopub.status.idle": "2025-04-01T11:06:47.528649Z",
     "shell.execute_reply": "2025-04-01T11:06:47.527632Z",
     "shell.execute_reply.started": "2025-04-01T11:06:46.711383Z"
    },
    "tags": []
   },
   "outputs": [],
   "source": [
    "search_tool = sdk.tools.search_index(index)\n",
    "\n",
    "assistant = create_assistant(model, tools=[search_tool])\n",
    "thread = create_thread()\n",
    "\n",
    "instruction=\"\"\"\n",
    "Ты - опытный сомелье, в задачу которого входит отвечать на вопросы пользователя про вина\n",
    "и рекомендовать лучшие вина к еде. Посмотри на всю имеющуюся в твоем распоряжении информацию\n",
    "и выдай одну или несколько лучших рекомендаций. Если что-то непонятно, то лучше уточни информацию\n",
    "у пользователя.\n",
    "\"\"\"\n",
    "\n",
    "_ = assistant.update(instruction=instruction)"
   ]
  },
  {
   "cell_type": "code",
   "execution_count": 9,
   "metadata": {
    "execution": {
     "iopub.execute_input": "2025-04-01T11:06:48.703609Z",
     "iopub.status.busy": "2025-04-01T11:06:48.702066Z",
     "iopub.status.idle": "2025-04-01T11:06:53.703154Z",
     "shell.execute_reply": "2025-04-01T11:06:53.702080Z",
     "shell.execute_reply.started": "2025-04-01T11:06:48.703552Z"
    },
    "tags": []
   },
   "outputs": [
    {
     "name": "stdout",
     "output_type": "stream",
     "text": [
      "К стейку подойдут следующие вина:\n",
      "\n",
      "1. **Из Сицилии:** черасуоло ди виттория (Cerasuolo di Vittoria) — гармонирует с мясом на вертеле и тушёной говядиной.\n",
      "2. **Из Франшхука:** красные вина из сортов каберне совиньон, шираз и мерло, а также пинотаж — универсальное вино, которое хорошо сочетается с перчёными стейками из говядины и баранины.\n",
      "3. **Из Орегона:** пино нуар — хорошо подойдёт к стейку из лосося и красному мясу, например, говядине по-бургундски.\n",
      "4. **Из долины Маллеко (Чили):** красное сухое вино — сочетается со стейком на гриле.\n",
      "5. **Сира или шираз:** особенно хорошо дополняют блюда из красного мяса, например, стейки из баранины или говядины.\n"
     ]
    }
   ],
   "source": [
    "thread.write(\"Какое вино подходит к стейку?\")\n",
    "run = assistant.run(thread)\n",
    "\n",
    "result = run.wait()\n",
    "print(result.text)"
   ]
  },
  {
   "cell_type": "markdown",
   "metadata": {},
   "source": [
    "Посмотрим, из каких источников был получен этот ответ:"
   ]
  },
  {
   "cell_type": "code",
   "execution_count": 10,
   "metadata": {
    "execution": {
     "iopub.execute_input": "2025-04-01T11:06:59.837319Z",
     "iopub.status.busy": "2025-04-01T11:06:59.835861Z",
     "iopub.status.idle": "2025-04-01T11:06:59.936590Z",
     "shell.execute_reply": "2025-04-01T11:06:59.935634Z",
     "shell.execute_reply.started": "2025-04-01T11:06:59.837263Z"
    },
    "tags": []
   },
   "outputs": [
    {
     "name": "stdout",
     "output_type": "stream",
     "text": [
      "------------------------\n",
      "## Сицилия \n",
      "\n",
      "Сицилия\n",
      "Сицилия — регион на юге Италии. В его состав входит одноименный и самый большой в Средиземном море остров и несколько более мелких островов рядом с ним. На восточном побережье Сицилии возвышается Этна — самый высокий действующий вулкан в Европе. Помимо итальянского в регионе говорят на сицилийском языке. Административный центр Сицилии — Палермо. Это самый южный из винодельческих регионов Италии. Здесь около 120 тысяч га виноградников. С начала нулевых на Сицилии бурно развивается производство вулканических вин. Их производят из винограда, выросшего у подножия Этны. Пепел самого высокого действующего вулкана Европы богат микроэлементами, поэтому местные почвы очень плодородны. И, главное, в таких условиях нет шанса у филлоксеры. К наиболее значимым местным сортам относят красный неро д'авола. Также на Сицилии популярны красные гренаш, перриконе и ночера. Из белых стоит отметить катаратто — его смешивают с сортами грилло и инзолия и производят легендарное крепленое вино марсала. Также популярные былые греканико, александрийский мускат и типичный итальянский треббьяно. Король вулканических красных сортов — нерелло маскалезе с ароматами спелой вишни, пряностей, табака и трав. У подножия Этны успешно выращивают белый автохтонный сорт карриканте. Он обладает спокойной минеральностью, цитрусово-травянистым тонами и вкусом, который ассоциируют с чистым воздухом гор. Легендарная сицилийская крепленая марсала — нежная, яркая и фруктовая. По популярности с ней сопоставим разве что москато ди пантеллерия (Moscato di Pantelleria) из александрийского муската. Из красных вин особого внимания заслуживает черасуоло ди виттория (Cerasuolo di Vittoria) — сицилийское вино наивысшего качества (DOCG). Ну и, конечно, легендарные вулканические вина. Сорт нерелло маскалезе отдает вину высокие танины, кислотность, ягодные ноты и минеральные оттенки. Хрустящие вина из белого карриканте выделяются свежестью, минеральностью, лёгкой солоноватостью. В их аромате слышны яблоки, цитрусы, анис. Крепленая марсала прекрасна в любом виде: сладкая подходит на роль аперитива, полусухая играет с фруктовыми салатами или сицилийскими канноли, а сухая — с теплым мясным салатом или супом. Сладкие сицилийские мускаты отлично подойдут в пару к козьим сырам и пирогам типа нежного киша с сыром. Красное черасуоло ди виттория гармонирует с тушеной говядиной, жареной курицей или мясом на вертеле. И, пожалуй, все вина стоит попробовать в сочетании с местными сырными шариками аранчини с разными начинками. Идеальной парой для белого вина из вулканического винограда карриканте станут креветки, равиоли с травами или ризотто.\n",
      "------------------------\n",
      "## Франшхук \n",
      "\n",
      "Франшхук\n",
      "Франшхук — крупная винодельческая провинция Южной Африки. Территориально относится к региону Стелленбош, расположена в 75 км от Кейптауна — столицы ЮАР. Деревню основали беглые французы в 1688 году. Получив земельные наделы, они разбили виноградники и наладили производство напитков. Сегодня Франшхук называют винной столицей ЮАР. На карте провинции можно насчитать 11 крупных винодельческих хозяйств. Деревня Франшхук известна необычным терруаром: она расположена в продолговатой долине и с трех сторон окружена высокими горами, которые защищают виноградники от ветра, излишней влаги зимой и палящего солнца летом. При этом четвертая сторона долины открыта для ветров Атлантики. Климат здесь умеренный, а температура воздуха ниже, чем в соседних областях. Виноград созревает медленнее, чем на открытой африканской местности, что делает вино более свежим и кислотным. В Франшхуке наиболее распространены известные европейские сорта, завезенные французами в XVII веке. Здесь выращивают белые шенен блан, семильон, совиньон блан и шардоне. Среди красных популярны каберне совиньон, шираз и мерло. Значительная часть плантаций занята под пинотаж — автохтонный сорт, ставший визитной карточкой страны. Линейка традиционных вин из европейских сортов в ЮАР открывается совершенно по-новому. Сухие гранитные почвы придают напиткам явную минеральность. Белые вина приобретают золотистый оттенок и аромат южных фруктов, красные — насыщенный цвет и аромат. Оттенок может варьироваться от ярко-рубинового до глубокого фиолетового. Их часто сравнивают с бургундскими напитками. С 1992 года в долине Франшхук производят игристые вина премиального качества из шардоне и пино нуар по классическому методу. Белые вина Франшхука — прекрасный аперитив. Они подходят к легким сырам, закускам из гусиного паштета и курицы. Среди горячих блюд стоит выбрать индейку, запеченную белую рыбу с овощным гарниром или рагу. Красные южноафриканские сорта хорошо гармонируют с перчеными стейками из говядины и баранины, а также твердыми, выдержанными сырами. Пинотаж при этом считается универсальным вином. Ему подходят разнообразные блюда от изысканного филе миньон до лазаньи и пиццы с морепродуктами.\n",
      "------------------------\n",
      "## Орегон \n",
      "\n",
      "Орегон\n",
      "Орегон — четвертый по объемам производства вина штат в США. Самый популярный сорт винограда, который выращивают здесь, — пино нуар. Вина из этого сорта отличает высокая кислотность и низкая танинность. Выращивать виноград в Орегоне начали еще в 1840-х, но датой зарождения серьезного виноделия называют 1961 год, когда любители бургундского пино нуар Ричард Соммер и Дэвид Летт решили производить похожее вино в Америке. Для этого был выбран Орегон — прохладный климат и разнообразие почв позволили добиться успеха. Уже в 1979 пино нуар из Орегона вошло в десятку вин в бургундском стиле на французской винной Олимпиаде. Его отличают более яркие ноты фруктов и более низкая кислотность. Прохладный климат Орегона хорошо подходит для выращивания таких сортов винограда, как рислинг, шардоне и гаме, но визитной карточкой штата считается пино нуар, который растет в долине Уилламетт. Менее популярны мерло, каберне совиньон, зинфандель. В Орегоне производят сухие, полусухие, а также игристые и десертные вина. Пино нуар из Орегона будет хорошо сочетаться со стейком из лосося, запеченной птицей и красным мясом, например, говядиной по-бургундски.\n",
      "------------------------\n",
      "## Сур \n",
      "\n",
      "Сур\n",
      "Сур — винодельческий субрегион в Чили, один из самых южных в стране. В его границах выделяют долины Итата, Био-Био, Маллеко. Чилийские вина олицетворяют стиль Нового Света, для них характерен мягкий фруктовый вкус. По одной из версий, первые лозы в Чили завезли с территории Перу в XVI веке. Виноделием занимались христианские миссионеры, выращивали преимущественно красный сорт мишн, белые делали из москателя. До середины XIX века здесь были популярны сладкие вина. В долине Итата первые лозы высадили в середине XVI века после создания порта Консепсьон. Почвы здесь с хорошим дренажем, климат средиземноморский с продолжительным сухим сезоном. В Био-Био и Маллеко прохладно из-за воздушных потоков с океана. Виноград успевает вызревать благодаря большому количеству теплых дней. В Суре выращивают совиньон блан, шардоне, рислинг, вионье, гевюрцтраминер, мускат. Сур известен столовыми винами. Климат в регионе умеренный, близкий к погодным условиям Франции, поэтому местные виноделы стали выпускать и более элегантные напитки. Условия в долинах Био-Био и Итата отлично подходят для культивирования шардоне, совиньон блан, рислинга, из которых делают белые вина. Здесь хорошо растет пино нуар, из него получают красные вина. Розовые вина из долины Итата хороши со свежими фруктами, десертами, сырами, ветчиной; белые сладкие — с десертами, фруктами. Белое полусухое из Био-Био составит отличную пару с блюдами индийской и азиатской кухонь, курице, овощам. Красное сухое из Маллеко сочетается с запеченными овощами, свининой, стейком на гриле.\n",
      "------------------------\n",
      "## Сира \n",
      "\n",
      "Сира\n",
      "Сирa — сорт красного винного винограда родом из долины Роны во Франции (фр. Syrah). В 1832 году был завезен в Австралию, где стал флагманским сортом красного винограда и сменил имя на шираз. Сегодня производители вин из Франции, Италии, Испании предпочитают маркировку сира, а австралийские и африканские — шираз. Исследования ДНК 1998 года, проведенные в Калифорнийском университете, доказали, что сира появился на территории современного региона Овернь-Рона-Альпы от двух второстепенных локальных сортов — дурез и мондез бланш. Однако возраст винограда установить не удалось. Из сорта сира производят купажированные и сепажные красные вина насыщенных оттенков: от темно-рубинового до фиолетового. Плюс розовые легкие (до 12% крепости) в ассамбляже с белыми сортами. Хотя технически сира и шираз — один и тот же сорт, крепость и вкус вина зависят от терруара. Вина прохладной Франции содержат 13–14% алкоголя, обладают землистым, травяным флером, нотами дыма, перца и фиалки. Шираз из засушливой Австралии более крепкий (до 16%) и фруктовый, с нотами ягод и специй. Благодаря сильному характеру и щедрому содержанию танинов, сира и шираз особенно хорошо дополняют выдержанные сыры, сыровяленые колбасные деликатесы, блюда из красного мяса и дичи: бараньи или свиные ребрышки, мясной рулет из телятины, ростбиф в хрустящем фило. В вегетарианское меню можно внести грибы на гриле, баклажаны Пармиджано и пикантные тако с черной фасолью. А вот нежных молодых сыров, легких овощных блюд и морепродуктов лучше избегать. По одной из легенд о происхождении, сорт сира во Францию привезли из Ирана. В Ширазе, бывшей столице Персидской империи, производили вино ширази. У сорт сира есть гибрид — маленькая или пти сира (фр. Petit Syrah), появившаяся в результате скрещивания сиры и пелурсена. Пти сира растет в Австралии, Калифорнии и Франции, а также популярна в США. Из ягод, изобилующих танинами, производят красные вина с густым чернильным вкусом. Чтобы смягчить алкогольный профиль, сиру и шираз лучше подавать слегка охлажденными — 15 минут в холодильнике будет достаточно.\n"
     ]
    }
   ],
   "source": [
    "def print_citations(result):\n",
    "    for citation in result.citations:\n",
    "        for source in citation.sources:\n",
    "            if source.type != 'filechunk':\n",
    "                continue\n",
    "            print('------------------------')\n",
    "            print(source.parts[0])\n",
    "            \n",
    "print_citations(result)"
   ]
  },
  {
   "cell_type": "code",
   "execution_count": 11,
   "metadata": {
    "execution": {
     "iopub.execute_input": "2025-04-01T11:07:11.935790Z",
     "iopub.status.busy": "2025-04-01T11:07:11.934446Z",
     "iopub.status.idle": "2025-04-01T11:07:12.028411Z",
     "shell.execute_reply": "2025-04-01T11:07:12.027322Z",
     "shell.execute_reply.started": "2025-04-01T11:07:11.935737Z"
    },
    "tags": []
   },
   "outputs": [],
   "source": [
    "thread.delete()"
   ]
  },
  {
   "cell_type": "markdown",
   "metadata": {},
   "source": [
    "Мы видим, что ответ получился несколько однобоким, поскольку данные о сочетании вин и еды содержатся в текстовой базе знаний в разрозненном виде.\n",
    "\n",
    "## Добавляем таблицу соответствий\n",
    "\n",
    "Поскольку подбор блюда к вину является частой задачей, добавим к нашей базе знаний явную табличку соответствий блюд и вин, которая находится в файле `source/food_wine_table.md` в формате markdown."
   ]
  },
  {
   "cell_type": "code",
   "execution_count": 12,
   "metadata": {
    "execution": {
     "iopub.execute_input": "2025-04-01T11:11:44.918835Z",
     "iopub.status.busy": "2025-04-01T11:11:44.917555Z",
     "iopub.status.idle": "2025-04-01T11:11:45.740065Z",
     "shell.execute_reply": "2025-04-01T11:11:45.738922Z",
     "shell.execute_reply.started": "2025-04-01T11:11:44.918780Z"
    },
    "tags": []
   },
   "outputs": [
    {
     "name": "stdout",
     "output_type": "stream",
     "text": [
      "Токенов: 12630, 3.3103721298495645 chars/token\n"
     ]
    }
   ],
   "source": [
    "with open('source/food_wine_table.md',encoding='utf-8') as f:\n",
    "    food_wine = f.readlines()\n",
    "fw = ''.join(food_wine)\n",
    "\n",
    "tokens = len(model.tokenize(fw))\n",
    "print(f\"Токенов: {tokens}, {len(fw)/tokens} chars/token\")"
   ]
  },
  {
   "cell_type": "markdown",
   "metadata": {},
   "source": [
    "Видим, что табличка большая, поэтому её придётся *чанковать*. Но при этом важно чанковать табличку так, чтобы в каждом фрагмента оставался заголовок таблицы, который определяет семантику столбцов.\n",
    "\n",
    "Отделим заголовок таблицы:"
   ]
  },
  {
   "cell_type": "code",
   "execution_count": 13,
   "metadata": {
    "execution": {
     "iopub.execute_input": "2025-04-01T11:11:49.314013Z",
     "iopub.status.busy": "2025-04-01T11:11:49.313019Z",
     "iopub.status.idle": "2025-04-01T11:11:49.328955Z",
     "shell.execute_reply": "2025-04-01T11:11:49.328006Z",
     "shell.execute_reply.started": "2025-04-01T11:11:49.313967Z"
    },
    "tags": []
   },
   "outputs": [
    {
     "data": {
      "text/plain": [
       "['Блюдо, к которому надо подобрать вино | Вино, которое подходит к этому блюду\\n',\n",
       " '--------|--------\\n']"
      ]
     },
     "execution_count": 13,
     "metadata": {},
     "output_type": "execute_result"
    }
   ],
   "source": [
    "header=food_wine[:2]\n",
    "header"
   ]
  },
  {
   "cell_type": "markdown",
   "metadata": {},
   "source": [
    "Ниже будем чанковать табличку вручную, задав размер чанка в символах для простоты. Мы будем сразу загружать получившиеся фрагменты в облако, минуя диск:"
   ]
  },
  {
   "cell_type": "code",
   "execution_count": 14,
   "metadata": {
    "execution": {
     "iopub.execute_input": "2025-04-01T11:11:55.808430Z",
     "iopub.status.busy": "2025-04-01T11:11:55.807160Z",
     "iopub.status.idle": "2025-04-01T11:11:58.074242Z",
     "shell.execute_reply": "2025-04-01T11:11:58.073188Z",
     "shell.execute_reply.started": "2025-04-01T11:11:55.808375Z"
    },
    "tags": []
   },
   "outputs": [
    {
     "name": "stdout",
     "output_type": "stream",
     "text": [
      "Uploaded 22 table chunks\n"
     ]
    }
   ],
   "source": [
    "chunk_size = 600 * 3 # approx 600 tokens * 2 char/token\n",
    "\n",
    "s = header.copy()\n",
    "uploaded_foodwine = []\n",
    "for x in food_wine[2:]:\n",
    "    s.append(x)\n",
    "    if len(''.join(s))>chunk_size:\n",
    "        id = sdk.files.upload_bytes(''.join(s).encode(),ttl_days=5,expiration_policy=\"static\")\n",
    "        uploaded_foodwine.append(id)\n",
    "        s = header.copy()\n",
    "print(f\"Uploaded {len(uploaded_foodwine)} table chunks\")"
   ]
  },
  {
   "cell_type": "markdown",
   "metadata": {},
   "source": [
    "Теперь добавим эти фрагменты в индекс:"
   ]
  },
  {
   "cell_type": "code",
   "execution_count": 15,
   "metadata": {
    "execution": {
     "iopub.execute_input": "2025-04-01T11:12:01.932229Z",
     "iopub.status.busy": "2025-04-01T11:12:01.931283Z",
     "iopub.status.idle": "2025-04-01T11:12:12.754225Z",
     "shell.execute_reply": "2025-04-01T11:12:12.753243Z",
     "shell.execute_reply.started": "2025-04-01T11:12:01.932181Z"
    },
    "tags": []
   },
   "outputs": [],
   "source": [
    "op = index.add_files_deferred(uploaded_foodwine)\n",
    "xfiles = op.wait()"
   ]
  },
  {
   "cell_type": "markdown",
   "metadata": {},
   "source": [
    "Посмотрим, стал ли ответ системы лучше:"
   ]
  },
  {
   "cell_type": "code",
   "execution_count": 16,
   "metadata": {
    "execution": {
     "iopub.execute_input": "2025-04-01T11:12:15.119731Z",
     "iopub.status.busy": "2025-04-01T11:12:15.118440Z",
     "iopub.status.idle": "2025-04-01T11:12:21.976214Z",
     "shell.execute_reply": "2025-04-01T11:12:21.975140Z",
     "shell.execute_reply.started": "2025-04-01T11:12:15.119677Z"
    },
    "tags": []
   },
   "outputs": [
    {
     "name": "stdout",
     "output_type": "stream",
     "text": [
      "Выбор вина к стейку зависит от его вида и степени прожарки.\n",
      "\n",
      "1. Для нежного мраморного стейка (например, филе-миньон) подойдут лёгкие и элегантные красные вина из винограда Пино Нуар, Нерелло Маскалезе, а также выдержанное и элегантное Мерло. Можно рассмотреть «округлые», выдержанные варианты из сортов Неббиоло (Барбареско), Темпранильо (Рибейра дель Дуэро), Санджовезе (Кьянти Ризерва).\n",
      "\n",
      "2. Для жирноватого стейка (например, рибай) с прожаркой Rare рекомендуются выдержанные и «благородные» вина из Темпранильо (Рибейра дель Дуэро или любые от Ризервы и выше), Санджовезе (Кьянти Ризерва, Брунелло), «супертосканские» вина, Бордо Правого берега, шелковистые аргентинские Мальбеки.\n",
      "\n",
      "3. Для прожарки Medium или WellDone к жирноватому стейку подойдут сухие и полусухие вина из винограда Сира (Шираз), Каберне Совиньон, «тельный» Мальбек, Примитиво, Зинфандель, Альянико (выдержанное и слегка «округлившееся»), выдержанный «ронский» ассамбляж Гренаш+Сира+Мурведр, вина Приората от 6–8 лет выдержки и выше.\n",
      "------------------------\n",
      "Блюдо, к которому надо подобрать вино | Вино, которое подходит к этому блюду\n",
      "--------|--------\n",
      "Солянка (первое блюдо) | Крепкие напитки: Самогоны (Полугар, Хлебное вино), Водка, Хреновуха, Перцовка. Спагетти Карбонара | Белые вина: сухие выдержанные вина из Шардоне и Вердехо. Розовые вина: среднетелые и «тельные» вина Франции, Италии, Испании, России. Красные вина:  выдержанное «округлое» Неббило, элегантные Пино Нуары, Нерелло Маскалезе. Спагетти Болоньезе | Красные вина: сухие из винограда Санджовезе, Барбера, Неро д’Авола, Негроамаро, молодые Неббило, а также международные — Каберне Совиньон, молодоватое испанское Темпранильо. Спаржа обжаренная | Белые вина: тихое сухое из сорта Шардоне, Грюнер Вельтлинер, Мюллер Тургау, Совиньон Блан легкие и не очень кислотный Рислинг, Пино Гри. Как вариант — Игристые вина: «тельное» и капельку сладковатое (брют, сухое, полусухое) белое. Стейк говяжий мраморный нежный (Филе-миньон) | Красные вина: легкие и элегантные из винограда Пино Нуар, Нерелло Маскалезе, элегантно сделанное и выдержанное Мерло. Также подойдут «округлые», выдержанные варианты из сортов Неббиоло (Барбареско), Темпранильо (Рибейра дель Дуэро), Санджовезе (Кьянти Ризерва). Стейк говяжий мраморный жирноватый (Рибай и пр.) | Красные вина: к прожарке Rare — выдержанные и «благородные» вина из Темпранильо (Рибейра дель Дуэро или любые от Ризервы и выше), Санджовезе (Кьянти Ризерва, Брунелло), «супертосканские» вина, Бордо Правого берега, шелковистые аргентинские Мальбеки. К прожарке Medium или WellDone — сухие и полусухие из винограда Сира (Шираз), Каберне Совиньон, «тельный» Мальбек, Примитиво, Зинфандель, Альянико (выдержанное и слегка «округлившееся»), выдержанный «ронский» ассамбляж Гренаш+Сира+Мурведр, вина Приората от 6-8 лет выдержки и выше. Суши, сашими | см. Роллы\n",
      "------------------------\n",
      "## Франшхук \n",
      "\n",
      "Франшхук\n",
      "Франшхук — крупная винодельческая провинция Южной Африки. Территориально относится к региону Стелленбош, расположена в 75 км от Кейптауна — столицы ЮАР. Деревню основали беглые французы в 1688 году. Получив земельные наделы, они разбили виноградники и наладили производство напитков. Сегодня Франшхук называют винной столицей ЮАР. На карте провинции можно насчитать 11 крупных винодельческих хозяйств. Деревня Франшхук известна необычным терруаром: она расположена в продолговатой долине и с трех сторон окружена высокими горами, которые защищают виноградники от ветра, излишней влаги зимой и палящего солнца летом. При этом четвертая сторона долины открыта для ветров Атлантики. Климат здесь умеренный, а температура воздуха ниже, чем в соседних областях. Виноград созревает медленнее, чем на открытой африканской местности, что делает вино более свежим и кислотным. В Франшхуке наиболее распространены известные европейские сорта, завезенные французами в XVII веке. Здесь выращивают белые шенен блан, семильон, совиньон блан и шардоне. Среди красных популярны каберне совиньон, шираз и мерло. Значительная часть плантаций занята под пинотаж — автохтонный сорт, ставший визитной карточкой страны. Линейка традиционных вин из европейских сортов в ЮАР открывается совершенно по-новому. Сухие гранитные почвы придают напиткам явную минеральность. Белые вина приобретают золотистый оттенок и аромат южных фруктов, красные — насыщенный цвет и аромат. Оттенок может варьироваться от ярко-рубинового до глубокого фиолетового. Их часто сравнивают с бургундскими напитками. С 1992 года в долине Франшхук производят игристые вина премиального качества из шардоне и пино нуар по классическому методу. Белые вина Франшхука — прекрасный аперитив. Они подходят к легким сырам, закускам из гусиного паштета и курицы. Среди горячих блюд стоит выбрать индейку, запеченную белую рыбу с овощным гарниром или рагу. Красные южноафриканские сорта хорошо гармонируют с перчеными стейками из говядины и баранины, а также твердыми, выдержанными сырами. Пинотаж при этом считается универсальным вином. Ему подходят разнообразные блюда от изысканного филе миньон до лазаньи и пиццы с морепродуктами.\n",
      "------------------------\n",
      "Блюдо, к которому надо подобрать вино | Вино, которое подходит к этому блюду\n",
      "--------|--------\n",
      "Салат Цезарь с курицей | Белые вина: сухое и полусухое из винограда Шардоне, Вердехо, Пино Гри, Шенен Блан. Также подойдут Розовые вина: тихие легкие и элегантные вина Прованса (Франция) или Северной Италии. Неплохо пойдут легкие Оранжи (особенно если курятина жарилась на мангале). Салат Цезарь с лососем | Белые вина: сухое выдержанное Шардоне, Альбариньо, Пино Гри (в стиле Альто-Адидже). Полусухие белые вина со средней интенсивностью аромата и вкуса — Семильон, Рислинг, Вердехо. Розовые вина: тихие легкие и элегантные вина Прованса (Франция) или Северной Италии. Салаты азиатские пикантные | Белые вина: сухие и полусухие из винограда Рислинг, Мускат, Гевюрцтраминер. Розовые вина: среднетелые и «тельные»  вина Франции, Италии, Испании, России. Как вариант — розовые молодые и недорогие тельные Игристые вина. К салатам с прикопченым или просто пикантным мясом — можно выбрать легкие Красные вина: Нино Нуары, Нерелло Маскалезе, выдержанное Неббиоло. Неплохо пойдут и Оранжи. Сало соленое или прикопченое | Крепкие напитки: Самогоны (Полугар, Хлебное вино), Водка, Хреновуха, Перцовка. Свинина в кисло-сладком соусе | Белые вина: Рислинг, сухой Гевюрцтраминер или аналогичный Мускат\n",
      "Свинина постная, медальоны | Белые вина: тихое сухое выдержанное Шардоне, Альбариньо, Пино Гри (в стиле Альто-Адидже). Полусухие белые вина со средней интенсивностью аромата и вкуса — Семильон, Рислинг, Вердехо. Розовые вина: тихие среднетелые и «тельные» вина Франции, Италии, Испании, России. Свинина стейк жареный с луком | Красные вина: сухие и полусухие вина из винограда Гарнача (Гренаш), Мерло, Карменер, Менсия, «тельные» Пино Нуары (со всего света), российский Красностоп, Гамэ (Божоле Виляж). Сельдь с лучком (закуска) | Крепкие напитки: Самогоны (Полугар, Хлебное вино), Водка, Хреновуха, Перцовка. Для глобальных приверженцев вина — тельный, сладковатый и мощновкусный Рислинг.\n",
      "------------------------\n",
      "## Орегон \n",
      "\n",
      "Орегон\n",
      "Орегон — четвертый по объемам производства вина штат в США. Самый популярный сорт винограда, который выращивают здесь, — пино нуар. Вина из этого сорта отличает высокая кислотность и низкая танинность. Выращивать виноград в Орегоне начали еще в 1840-х, но датой зарождения серьезного виноделия называют 1961 год, когда любители бургундского пино нуар Ричард Соммер и Дэвид Летт решили производить похожее вино в Америке. Для этого был выбран Орегон — прохладный климат и разнообразие почв позволили добиться успеха. Уже в 1979 пино нуар из Орегона вошло в десятку вин в бургундском стиле на французской винной Олимпиаде. Его отличают более яркие ноты фруктов и более низкая кислотность. Прохладный климат Орегона хорошо подходит для выращивания таких сортов винограда, как рислинг, шардоне и гаме, но визитной карточкой штата считается пино нуар, который растет в долине Уилламетт. Менее популярны мерло, каберне совиньон, зинфандель. В Орегоне производят сухие, полусухие, а также игристые и десертные вина. Пино нуар из Орегона будет хорошо сочетаться со стейком из лосося, запеченной птицей и красным мясом, например, говядиной по-бургундски.\n",
      "------------------------\n",
      "Блюдо, к которому надо подобрать вино | Вино, которое подходит к этому блюду\n",
      "--------|--------\n",
      "Рыба — стерлядь, осетр (деликатесные, прикопченые) | Русская классика — Крепкие напитки: Самогоны (Полугар, Хлебное вино), Водка, Хреновуха, Перцовка. Для любителей вина — настоятельно рекомендую Белые вина: тихие Шардоне (бургундского стиля), сухие и полусухие слегка сладковатые Рислинги невысокой кислотности, Пино Гри (из Альто Адидже), среднетелые и среднекислотные Альбариньо и Вердехо. Как вариант — Игристые вина (брюты и сухие — белые и легчайшие розовые). Рыба Тунец | В зависимости от типа приготовления (от самого нежного к зажаренному и пикантному) — Белые вина: тихие и элегантные выдержанные Шардоне и Вионье, сухие и полусухие Рислинги, Совиньон Блан из Нового Света. Розовые вина: тихие среднетелые сухие вина Франции, Италии, Испании, России. Как вариант к пикантному — Красные вина: легкие вина из Пино Нуара, Нерелло Маскалезе, Гриньолино (Италия), «округленькие» выдержанные Неббиоло и даже Гамэ (выдержанные Божоле Виляж). Подойдут также Оранжи. Салат Греческий | Белые вино: легкие, яркие сухие вина в первую очередь — из «родного» винограда Ассиртико, но отлично также подойдут Мюллер Тургау, Грюнер Вельтллинер, Вердехо, Шенен Блан, Совиньон Блан, Мелон де Бургонь (французские Мюскаде), вина из португальского региона Винью Верде. Как вариант — Игристые вино: белые и очень легкие розовые (брют-натур, экстра-брют, брют, сухое). Салат Еврейский | Белые вино: сухие выдержанные — Шардоне, Альбариньо, Пино Гри (в стиле Альто-Адидже), Семийон, полусухой сладковатый Рислинг, Вердехо. Розовые вина: тихие сухие и полусухие среднетелые вина Франции, Италии, Испании, России. Как вариант — белые и розовые молодые и недорогие тельные Игристые вина. Салат Капрезе | Белые вина: игристые (брют, сухие), тихие вина — с ярким и свежим вкусом: молодые Шардоне, Рислинги, Мюллер Тургау, Грюнер Вельтлинер, Виура, «старосветский» Совиньон Блан, Пино Гри, Фалангина и т. д. Как вариант — Розовые вина: тихие легкие и элегантные вина Прованса (Франция) или Северной Италии, в также попробуйте Игристые вина: легкие и элегантные белые и розовые.\n"
     ]
    }
   ],
   "source": [
    "thread = create_thread()\n",
    "\n",
    "thread.write(\"Какое вино подходит к стейку?\")\n",
    "run = assistant.run(thread)\n",
    "\n",
    "result = run.wait()\n",
    "print(result.text)\n",
    "print_citations(result)"
   ]
  },
  {
   "cell_type": "code",
   "execution_count": 17,
   "metadata": {
    "execution": {
     "iopub.execute_input": "2025-04-01T11:12:39.303096Z",
     "iopub.status.busy": "2025-04-01T11:12:39.302136Z",
     "iopub.status.idle": "2025-04-01T11:12:39.714772Z",
     "shell.execute_reply": "2025-04-01T11:12:39.712423Z",
     "shell.execute_reply.started": "2025-04-01T11:12:39.303045Z"
    },
    "tags": []
   },
   "outputs": [],
   "source": [
    "thread.delete()\n",
    "assistant.delete()"
   ]
  },
  {
   "cell_type": "markdown",
   "metadata": {},
   "source": [
    "## Function Calling\n",
    "\n",
    "Предположим, мы делаем ассистента для магазина вин, который торгует винами по некоторому прайс-листу. Возьмём пример такого прайс-листа:"
   ]
  },
  {
   "cell_type": "code",
   "execution_count": 18,
   "metadata": {
    "execution": {
     "iopub.execute_input": "2025-04-01T11:12:44.718028Z",
     "iopub.status.busy": "2025-04-01T11:12:44.716747Z",
     "iopub.status.idle": "2025-04-01T11:12:45.958960Z",
     "shell.execute_reply": "2025-04-01T11:12:45.957990Z",
     "shell.execute_reply.started": "2025-04-01T11:12:44.717976Z"
    },
    "tags": []
   },
   "outputs": [
    {
     "data": {
      "text/html": [
       "<div>\n",
       "<style scoped>\n",
       "    .dataframe tbody tr th:only-of-type {\n",
       "        vertical-align: middle;\n",
       "    }\n",
       "\n",
       "    .dataframe tbody tr th {\n",
       "        vertical-align: top;\n",
       "    }\n",
       "\n",
       "    .dataframe thead th {\n",
       "        text-align: right;\n",
       "    }\n",
       "</style>\n",
       "<table border=\"1\" class=\"dataframe\">\n",
       "  <thead>\n",
       "    <tr style=\"text-align: right;\">\n",
       "      <th></th>\n",
       "      <th>Номер артикула</th>\n",
       "      <th>название</th>\n",
       "      <th>CT</th>\n",
       "      <th>цена от 1 бутылки</th>\n",
       "      <th>от 3-х и более</th>\n",
       "      <th>регулярная цена/промо</th>\n",
       "    </tr>\n",
       "  </thead>\n",
       "  <tbody>\n",
       "    <tr>\n",
       "      <th>0</th>\n",
       "      <td>56885</td>\n",
       "      <td>0,75Л ВИНО САССИКАЙЯ КР СХ</td>\n",
       "      <td>IT</td>\n",
       "      <td>27799.000</td>\n",
       "      <td>19459.3000</td>\n",
       "      <td>NaN</td>\n",
       "    </tr>\n",
       "    <tr>\n",
       "      <th>1</th>\n",
       "      <td>666560</td>\n",
       "      <td>0,75ВИНО СИЕПИ МАЗЕЙ КР СХ</td>\n",
       "      <td>IT</td>\n",
       "      <td>15999.000</td>\n",
       "      <td>11199.3000</td>\n",
       "      <td>NaN</td>\n",
       "    </tr>\n",
       "    <tr>\n",
       "      <th>2</th>\n",
       "      <td>533769</td>\n",
       "      <td>0,75ВИНО ПАЛАФРЕНО КР СХ</td>\n",
       "      <td>IT</td>\n",
       "      <td>14999.004</td>\n",
       "      <td>10499.3028</td>\n",
       "      <td>NaN</td>\n",
       "    </tr>\n",
       "    <tr>\n",
       "      <th>3</th>\n",
       "      <td>93733</td>\n",
       "      <td>0,75ВИНО АНТ ТИНЬЯНЕЛЛО КР СХ</td>\n",
       "      <td>IT</td>\n",
       "      <td>14499.012</td>\n",
       "      <td>10149.3084</td>\n",
       "      <td>NaN</td>\n",
       "    </tr>\n",
       "    <tr>\n",
       "      <th>4</th>\n",
       "      <td>644863</td>\n",
       "      <td>0,75ВИНО ШАТО МОНРОЗ КР СХ</td>\n",
       "      <td>FR</td>\n",
       "      <td>12999.000</td>\n",
       "      <td>9099.3000</td>\n",
       "      <td>от промо цены</td>\n",
       "    </tr>\n",
       "    <tr>\n",
       "      <th>...</th>\n",
       "      <td>...</td>\n",
       "      <td>...</td>\n",
       "      <td>...</td>\n",
       "      <td>...</td>\n",
       "      <td>...</td>\n",
       "      <td>...</td>\n",
       "    </tr>\n",
       "    <tr>\n",
       "      <th>747</th>\n",
       "      <td>61418</td>\n",
       "      <td>0,7ВИНО КАГОР ТАМ КР СЛ</td>\n",
       "      <td>RU</td>\n",
       "      <td>179.004</td>\n",
       "      <td>125.3028</td>\n",
       "      <td>от промо цены</td>\n",
       "    </tr>\n",
       "    <tr>\n",
       "      <th>748</th>\n",
       "      <td>615581</td>\n",
       "      <td>0,187ВИНО ДЖАСТ МЕРЛО КР СХ</td>\n",
       "      <td>FR</td>\n",
       "      <td>149.004</td>\n",
       "      <td>104.3028</td>\n",
       "      <td>NaN</td>\n",
       "    </tr>\n",
       "    <tr>\n",
       "      <th>749</th>\n",
       "      <td>615582</td>\n",
       "      <td>0,187ВИНО ДЖАСТ КБСВ КР СХ</td>\n",
       "      <td>FR</td>\n",
       "      <td>149.004</td>\n",
       "      <td>104.3028</td>\n",
       "      <td>NaN</td>\n",
       "    </tr>\n",
       "    <tr>\n",
       "      <th>750</th>\n",
       "      <td>83302</td>\n",
       "      <td>0,187Л ВИНО АДАГУМ КБСВ КР СХ</td>\n",
       "      <td>RU</td>\n",
       "      <td>119.004</td>\n",
       "      <td>83.3028</td>\n",
       "      <td>NaN</td>\n",
       "    </tr>\n",
       "    <tr>\n",
       "      <th>751</th>\n",
       "      <td>482447</td>\n",
       "      <td>0,187ВИНО АВТОРСКОЕ №1 КР СХ</td>\n",
       "      <td>RU</td>\n",
       "      <td>119.000</td>\n",
       "      <td>83.3000</td>\n",
       "      <td>NaN</td>\n",
       "    </tr>\n",
       "  </tbody>\n",
       "</table>\n",
       "<p>752 rows × 6 columns</p>\n",
       "</div>"
      ],
      "text/plain": [
       "     Номер артикула   ... регулярная цена/промо \n",
       "0              56885  ...                    NaN\n",
       "1             666560  ...                    NaN\n",
       "2             533769  ...                    NaN\n",
       "3              93733  ...                    NaN\n",
       "4             644863  ...         от промо цены \n",
       "..               ...  ...                    ...\n",
       "747            61418  ...         от промо цены \n",
       "748           615581  ...                    NaN\n",
       "749           615582  ...                    NaN\n",
       "750            83302  ...                    NaN\n",
       "751           482447  ...                    NaN\n",
       "\n",
       "[752 rows x 6 columns]"
      ]
     },
     "execution_count": 18,
     "metadata": {},
     "output_type": "execute_result"
    }
   ],
   "source": [
    "import pandas as pd\n",
    "\n",
    "pl = pd.read_excel('source/wine-price.xlsx')\n",
    "pl"
   ]
  },
  {
   "cell_type": "markdown",
   "metadata": {},
   "source": [
    "Для удобства переименуем колонки:"
   ]
  },
  {
   "cell_type": "code",
   "execution_count": 19,
   "metadata": {
    "execution": {
     "iopub.execute_input": "2025-04-01T11:12:55.642649Z",
     "iopub.status.busy": "2025-04-01T11:12:55.640983Z",
     "iopub.status.idle": "2025-04-01T11:12:55.663442Z",
     "shell.execute_reply": "2025-04-01T11:12:55.662399Z",
     "shell.execute_reply.started": "2025-04-01T11:12:55.642603Z"
    },
    "tags": []
   },
   "outputs": [],
   "source": [
    "pl.columns=['Id','Name','Country','Price','WHPrice','etc']"
   ]
  },
  {
   "cell_type": "markdown",
   "metadata": {},
   "source": [
    "Из имени извлечём кислотность вина:"
   ]
  },
  {
   "cell_type": "code",
   "execution_count": 20,
   "metadata": {
    "execution": {
     "iopub.execute_input": "2025-04-01T11:12:57.440725Z",
     "iopub.status.busy": "2025-04-01T11:12:57.439406Z",
     "iopub.status.idle": "2025-04-01T11:12:57.463620Z",
     "shell.execute_reply": "2025-04-01T11:12:57.462633Z",
     "shell.execute_reply.started": "2025-04-01T11:12:57.440684Z"
    },
    "tags": []
   },
   "outputs": [
    {
     "data": {
      "text/plain": [
       "Сухое          614\n",
       "Полусухое       68\n",
       "Полусладкое     28\n",
       "Сладкое         23\n",
       "                19\n",
       "Name: Acidity, dtype: int64"
      ]
     },
     "execution_count": 20,
     "metadata": {},
     "output_type": "execute_result"
    }
   ],
   "source": [
    "acid_map = { 'СХ' : 'Сухое', 'СЛ' : 'Сладкое', 'ПСХ' : 'Полусухое', 'ПСЛ' : 'Полусладкое' }\n",
    "pl['Acidity'] = pl['Name'].apply(lambda x: acid_map.get(x.split()[-1].replace('КР',''),''))\n",
    "pl['Acidity'].value_counts()"
   ]
  },
  {
   "cell_type": "markdown",
   "metadata": {},
   "source": [
    "Тоже самое сделаем с цветом:"
   ]
  },
  {
   "cell_type": "code",
   "execution_count": 21,
   "metadata": {
    "execution": {
     "iopub.execute_input": "2025-04-01T11:13:00.836306Z",
     "iopub.status.busy": "2025-04-01T11:13:00.834938Z",
     "iopub.status.idle": "2025-04-01T11:13:00.876765Z",
     "shell.execute_reply": "2025-04-01T11:13:00.875696Z",
     "shell.execute_reply.started": "2025-04-01T11:13:00.836251Z"
    },
    "tags": []
   },
   "outputs": [
    {
     "data": {
      "text/plain": [
       "Красное    739\n",
       "            13\n",
       "Name: Color, dtype: int64"
      ]
     },
     "execution_count": 21,
     "metadata": {},
     "output_type": "execute_result"
    }
   ],
   "source": [
    "pl['Color'] = pl['Name'].apply(lambda x: 'Красное' if (x.split()[-1].startswith(\"КР\") or x.split()[-2]==\"КР\") else '')\n",
    "pl['Color'].value_counts()"
   ]
  },
  {
   "cell_type": "markdown",
   "metadata": {},
   "source": [
    "В итоге получилась такая таблица вин:"
   ]
  },
  {
   "cell_type": "code",
   "execution_count": 22,
   "metadata": {
    "execution": {
     "iopub.execute_input": "2025-04-01T11:13:14.353097Z",
     "iopub.status.busy": "2025-04-01T11:13:14.351789Z",
     "iopub.status.idle": "2025-04-01T11:13:14.385338Z",
     "shell.execute_reply": "2025-04-01T11:13:14.384319Z",
     "shell.execute_reply.started": "2025-04-01T11:13:14.353041Z"
    }
   },
   "outputs": [
    {
     "data": {
      "text/html": [
       "<div>\n",
       "<style scoped>\n",
       "    .dataframe tbody tr th:only-of-type {\n",
       "        vertical-align: middle;\n",
       "    }\n",
       "\n",
       "    .dataframe tbody tr th {\n",
       "        vertical-align: top;\n",
       "    }\n",
       "\n",
       "    .dataframe thead th {\n",
       "        text-align: right;\n",
       "    }\n",
       "</style>\n",
       "<table border=\"1\" class=\"dataframe\">\n",
       "  <thead>\n",
       "    <tr style=\"text-align: right;\">\n",
       "      <th></th>\n",
       "      <th>Id</th>\n",
       "      <th>Name</th>\n",
       "      <th>Country</th>\n",
       "      <th>Price</th>\n",
       "      <th>WHPrice</th>\n",
       "      <th>etc</th>\n",
       "      <th>Acidity</th>\n",
       "      <th>Color</th>\n",
       "    </tr>\n",
       "  </thead>\n",
       "  <tbody>\n",
       "    <tr>\n",
       "      <th>0</th>\n",
       "      <td>56885</td>\n",
       "      <td>0,75Л ВИНО САССИКАЙЯ КР СХ</td>\n",
       "      <td>IT</td>\n",
       "      <td>27799.000</td>\n",
       "      <td>19459.3000</td>\n",
       "      <td>NaN</td>\n",
       "      <td>Сухое</td>\n",
       "      <td>Красное</td>\n",
       "    </tr>\n",
       "    <tr>\n",
       "      <th>1</th>\n",
       "      <td>666560</td>\n",
       "      <td>0,75ВИНО СИЕПИ МАЗЕЙ КР СХ</td>\n",
       "      <td>IT</td>\n",
       "      <td>15999.000</td>\n",
       "      <td>11199.3000</td>\n",
       "      <td>NaN</td>\n",
       "      <td>Сухое</td>\n",
       "      <td>Красное</td>\n",
       "    </tr>\n",
       "    <tr>\n",
       "      <th>2</th>\n",
       "      <td>533769</td>\n",
       "      <td>0,75ВИНО ПАЛАФРЕНО КР СХ</td>\n",
       "      <td>IT</td>\n",
       "      <td>14999.004</td>\n",
       "      <td>10499.3028</td>\n",
       "      <td>NaN</td>\n",
       "      <td>Сухое</td>\n",
       "      <td>Красное</td>\n",
       "    </tr>\n",
       "    <tr>\n",
       "      <th>3</th>\n",
       "      <td>93733</td>\n",
       "      <td>0,75ВИНО АНТ ТИНЬЯНЕЛЛО КР СХ</td>\n",
       "      <td>IT</td>\n",
       "      <td>14499.012</td>\n",
       "      <td>10149.3084</td>\n",
       "      <td>NaN</td>\n",
       "      <td>Сухое</td>\n",
       "      <td>Красное</td>\n",
       "    </tr>\n",
       "    <tr>\n",
       "      <th>4</th>\n",
       "      <td>644863</td>\n",
       "      <td>0,75ВИНО ШАТО МОНРОЗ КР СХ</td>\n",
       "      <td>FR</td>\n",
       "      <td>12999.000</td>\n",
       "      <td>9099.3000</td>\n",
       "      <td>от промо цены</td>\n",
       "      <td>Сухое</td>\n",
       "      <td>Красное</td>\n",
       "    </tr>\n",
       "    <tr>\n",
       "      <th>...</th>\n",
       "      <td>...</td>\n",
       "      <td>...</td>\n",
       "      <td>...</td>\n",
       "      <td>...</td>\n",
       "      <td>...</td>\n",
       "      <td>...</td>\n",
       "      <td>...</td>\n",
       "      <td>...</td>\n",
       "    </tr>\n",
       "    <tr>\n",
       "      <th>747</th>\n",
       "      <td>61418</td>\n",
       "      <td>0,7ВИНО КАГОР ТАМ КР СЛ</td>\n",
       "      <td>RU</td>\n",
       "      <td>179.004</td>\n",
       "      <td>125.3028</td>\n",
       "      <td>от промо цены</td>\n",
       "      <td>Сладкое</td>\n",
       "      <td>Красное</td>\n",
       "    </tr>\n",
       "    <tr>\n",
       "      <th>748</th>\n",
       "      <td>615581</td>\n",
       "      <td>0,187ВИНО ДЖАСТ МЕРЛО КР СХ</td>\n",
       "      <td>FR</td>\n",
       "      <td>149.004</td>\n",
       "      <td>104.3028</td>\n",
       "      <td>NaN</td>\n",
       "      <td>Сухое</td>\n",
       "      <td>Красное</td>\n",
       "    </tr>\n",
       "    <tr>\n",
       "      <th>749</th>\n",
       "      <td>615582</td>\n",
       "      <td>0,187ВИНО ДЖАСТ КБСВ КР СХ</td>\n",
       "      <td>FR</td>\n",
       "      <td>149.004</td>\n",
       "      <td>104.3028</td>\n",
       "      <td>NaN</td>\n",
       "      <td>Сухое</td>\n",
       "      <td>Красное</td>\n",
       "    </tr>\n",
       "    <tr>\n",
       "      <th>750</th>\n",
       "      <td>83302</td>\n",
       "      <td>0,187Л ВИНО АДАГУМ КБСВ КР СХ</td>\n",
       "      <td>RU</td>\n",
       "      <td>119.004</td>\n",
       "      <td>83.3028</td>\n",
       "      <td>NaN</td>\n",
       "      <td>Сухое</td>\n",
       "      <td>Красное</td>\n",
       "    </tr>\n",
       "    <tr>\n",
       "      <th>751</th>\n",
       "      <td>482447</td>\n",
       "      <td>0,187ВИНО АВТОРСКОЕ №1 КР СХ</td>\n",
       "      <td>RU</td>\n",
       "      <td>119.000</td>\n",
       "      <td>83.3000</td>\n",
       "      <td>NaN</td>\n",
       "      <td>Сухое</td>\n",
       "      <td>Красное</td>\n",
       "    </tr>\n",
       "  </tbody>\n",
       "</table>\n",
       "<p>752 rows × 8 columns</p>\n",
       "</div>"
      ],
      "text/plain": [
       "         Id                           Name  ...  Acidity    Color\n",
       "0     56885     0,75Л ВИНО САССИКАЙЯ КР СХ  ...    Сухое  Красное\n",
       "1    666560     0,75ВИНО СИЕПИ МАЗЕЙ КР СХ  ...    Сухое  Красное\n",
       "2    533769       0,75ВИНО ПАЛАФРЕНО КР СХ  ...    Сухое  Красное\n",
       "3     93733  0,75ВИНО АНТ ТИНЬЯНЕЛЛО КР СХ  ...    Сухое  Красное\n",
       "4    644863     0,75ВИНО ШАТО МОНРОЗ КР СХ  ...    Сухое  Красное\n",
       "..      ...                            ...  ...      ...      ...\n",
       "747   61418        0,7ВИНО КАГОР ТАМ КР СЛ  ...  Сладкое  Красное\n",
       "748  615581    0,187ВИНО ДЖАСТ МЕРЛО КР СХ  ...    Сухое  Красное\n",
       "749  615582     0,187ВИНО ДЖАСТ КБСВ КР СХ  ...    Сухое  Красное\n",
       "750   83302  0,187Л ВИНО АДАГУМ КБСВ КР СХ  ...    Сухое  Красное\n",
       "751  482447   0,187ВИНО АВТОРСКОЕ №1 КР СХ  ...    Сухое  Красное\n",
       "\n",
       "[752 rows x 8 columns]"
      ]
     },
     "execution_count": 22,
     "metadata": {},
     "output_type": "execute_result"
    }
   ],
   "source": [
    "pl"
   ]
  },
  {
   "cell_type": "markdown",
   "metadata": {},
   "source": [
    "Чтобы научиться отвечать на вопросы по прайс-листу, у нас есть несколько возможных решений:\n",
    "\n",
    "* Попытаться закинуть прайс-лист в контекст модели с помощью RAG, как мы это ранее делали с таблицей блюд. Не очень хороший вариант, потому что модель не будет видеть всю таблицу, и не сможет отвечать на вопросы \"максимальная/минимальная цена\".\n",
    "* Попытаться организовать трансляцию запроса не естественном языке в SQL-подобный язык. Это идеальный вариант, но его сложно сделать без ошибок без fine-tuning-а модели. \n",
    "* Извлечь из текстового запроса основные параметры того, что хочет пользователь, и затем сформировать на этой основе запрос, извлечающий данные из таблицы. Такой подход описан, например, в статье [Querying Databases with Function Calling](https://arxiv.org/html/2502.00032v1)\n",
    "\n",
    "В любом случае, два последних варианта подразумевают использование технологии Function Calling - когда модель может сама решить, когда ей надо вызвать некоторую **внешнюю функцию**, и какие параметры нужно ей передать.\n",
    "\n",
    "Чтобы function calling работал - нам надо сообщить LLM о доступных **инструментах**. Это можно сделать, передав с помощью JSON-схемы описание возможностей таких инструментов и их параметров.\n",
    "\n",
    "ML SDK позволяет нам упростить function calling, и вместо JSON-схемы использовать типизированные объекты Pyton. Для извлечения параметров запроса о вине, мы создадим такой объект: "
   ]
  },
  {
   "cell_type": "code",
   "execution_count": 23,
   "metadata": {
    "execution": {
     "iopub.execute_input": "2025-04-01T11:14:58.452387Z",
     "iopub.status.busy": "2025-04-01T11:14:58.451342Z",
     "iopub.status.idle": "2025-04-01T11:14:58.854442Z",
     "shell.execute_reply": "2025-04-01T11:14:58.853425Z",
     "shell.execute_reply.started": "2025-04-01T11:14:58.452334Z"
    },
    "tags": []
   },
   "outputs": [],
   "source": [
    "from pydantic import BaseModel, Field\n",
    "from typing import Optional\n",
    "\n",
    "class SearchWinePriceList(BaseModel):\n",
    "    \"\"\"Эта функция позволяет искать вина в прайс-листе по одному или нескольким параметрам.\"\"\" \n",
    "    name : str = Field(description=\"Название вина\",default=None)\n",
    "    country : str = Field(description=\"Страна\",default=None)\n",
    "    acidity : str = Field(description=\"Кислотность (сухое, полусухое, сладкое, полусладкое)\",default=None)\n",
    "    color : str = Field(description=\"Цвет вина (красное, белое, розовое)\",default=None)\n",
    "    sort_order : str = Field(description=\"Порядок выдачи (most expensive, cheapest, random, average)\",default=None)\n",
    "    what_to_return : str = Field(description=\"Что вернуть (wine info или price)\",default=None)"
   ]
  },
  {
   "cell_type": "markdown",
   "metadata": {},
   "source": [
    "Теперь создадим инструмент (tool) и нового ассистента, у которого в списке инструментов будет одновременно и RAG-поиск, и function calling. Также в инструкции ассистенту пропишем, что он может использовать Function Calling."
   ]
  },
  {
   "cell_type": "code",
   "execution_count": 24,
   "metadata": {
    "execution": {
     "iopub.execute_input": "2025-04-01T11:15:01.012834Z",
     "iopub.status.busy": "2025-04-01T11:15:01.011394Z",
     "iopub.status.idle": "2025-04-01T11:15:01.936930Z",
     "shell.execute_reply": "2025-04-01T11:15:01.935784Z",
     "shell.execute_reply.started": "2025-04-01T11:15:01.012778Z"
    },
    "tags": []
   },
   "outputs": [],
   "source": [
    "price_list_search_tool = sdk.tools.function(SearchWinePriceList)\n",
    "\n",
    "assistant = create_assistant(model,tools=[price_list_search_tool,search_tool])\n",
    "thread = create_thread()\n",
    "\n",
    "instruction=\"\"\"\n",
    "Ты - опытный сомелье, в задачу которого входит отвечать на вопросы пользователя про вина\n",
    "и рекомендовать лучшие вина к еде, а также искать вина в прайс-листе нашего магазина. \n",
    "Посмотри на всю имеющуюся в твоем распоряжении информацию\n",
    "и выдай одну или несколько лучших рекомендаций. Если вопрос касается конкретных вин\n",
    "или цены, то используй Function Calling.\n",
    "Если что-то непонятно, то лучше уточни информацию у пользователя.\n",
    "\"\"\"\n",
    "\n",
    "_ = assistant.update(instruction=instruction)"
   ]
  },
  {
   "cell_type": "markdown",
   "metadata": {},
   "source": [
    "Попробуем узнать самое дешевое вино из Австралии:"
   ]
  },
  {
   "cell_type": "code",
   "execution_count": 28,
   "metadata": {
    "execution": {
     "iopub.execute_input": "2025-04-01T11:19:49.775231Z",
     "iopub.status.busy": "2025-04-01T11:19:49.773979Z",
     "iopub.status.idle": "2025-04-01T11:19:51.812729Z",
     "shell.execute_reply": "2025-04-01T11:19:51.811698Z",
     "shell.execute_reply.started": "2025-04-01T11:19:49.775178Z"
    },
    "tags": []
   },
   "outputs": [
    {
     "data": {
      "text/plain": [
       "RunResult(status=<RunStatus.TOOL_CALLS: 5>, error=None, tool_calls=ToolCallList(ToolCall(function=FunctionCall(name='SearchWinePriceList', arguments={'what_to_return': 'price', 'acidity': 'сухое', 'color': 'красное', 'sort_order': 'cheapest', 'country': 'Австралия'})),), _message=None, usage=Usage(input_text_tokens=2695, completion_tokens=39, total_tokens=2734))"
      ]
     },
     "execution_count": 28,
     "metadata": {},
     "output_type": "execute_result"
    }
   ],
   "source": [
    "thread.write(\"Привет! Какое самое дешевое красное сухое вино из Австралии?\")\n",
    "run = assistant.run(thread)\n",
    "res = run.wait()\n",
    "res"
   ]
  },
  {
   "cell_type": "markdown",
   "metadata": {},
   "source": [
    "Видим, что в итоге вернулся ответ, указывающий, что надо сделать Funtion Call для получения данных из таблицы. При это LLM извлекла из текста все параметры запроса.\n",
    "\n",
    "Реализуем функцию, которая возвращает список вин по параметрам, заданным в виде объекта `SearchWinePriceList`:"
   ]
  },
  {
   "cell_type": "code",
   "execution_count": 90,
   "metadata": {
    "execution": {
     "iopub.execute_input": "2025-04-01T13:27:41.109623Z",
     "iopub.status.busy": "2025-04-01T13:27:41.108306Z",
     "iopub.status.idle": "2025-04-01T13:27:41.129894Z",
     "shell.execute_reply": "2025-04-01T13:27:41.128812Z",
     "shell.execute_reply.started": "2025-04-01T13:27:41.109570Z"
    },
    "tags": []
   },
   "outputs": [
    {
     "name": "stdout",
     "output_type": "stream",
     "text": [
      "Вот какие вина были найдены:\n",
      "0,75ВИНО ДЖИНДАЛИ МЕРЛО КР ПСХ (Австралия) - 499.0\n",
      "0,75ВИНО ДЖИНДАЛИ КБСВ КР ПСХ (Австралия) - 499.0\n",
      "0,75ВИНО ЧОЛК ХИЛЛ ШИРАЗ КР СХ (Австралия) - 509.0\n",
      "0,75ВИНО ПИТ'С ПЮР ШИРАЗ КР ПСХ (Австралия) - 579.0\n",
      "0,75ВИНО ПИТ'С ПЮР ПННР КР ПСХ (Австралия) - 579.0\n",
      "0,75ВИНО СТАМП ДЖАМП КР СХ (Австралия) - 789.0\n",
      "0,75ВИНО ЛИНД БИН50 ШИР КР ПСХ (Австралия) - 899.0\n",
      "0,75ВИНО ЛЭКИ ШИРАЗ КРСХ (Австралия) - 978.996\n",
      "0,75ВИНО СТЭДФАСТ ШИР КАБ КРСХ (Австралия) - 999.0\n",
      "0,75ВИНО ТИРРЕЛЗ ШИР КР СХ (Австралия) - 1098.996\n"
     ]
    }
   ],
   "source": [
    "country_map = {\n",
    "    'IT' : 'Италия', 'FR' : 'Франция', 'ES' : 'Испания',\n",
    "    'RU' : 'Россия', 'PT' : 'Португалия', 'AR' : 'Армения',\n",
    "    'CL' : 'Чили', 'AU' : 'Австрия', 'GE' : 'Грузия',\n",
    "    'ZA' : 'ЮАР', 'US' : 'США', 'NZ' : 'Новая Зеландия',\n",
    "    'DE' : 'Германия', 'AT' : 'Австрия', 'IL' : 'Израиль',\n",
    "    'BG' : 'Болгария', 'GR' : 'Греция', 'AU' : 'Австралия' }\n",
    "\n",
    "revmap = { v.lower() : k for k,v in country_map.items() }\n",
    "\n",
    "def find_wines(req):\n",
    "    x = pl.copy()\n",
    "    if req.country and req.country.lower() in revmap.keys():\n",
    "        x = x[x['Country']==revmap[req.country.lower()]]\n",
    "    if req.acidity:\n",
    "        x = x[x['Acidity']==req.acidity.capitalize()]\n",
    "    if req.color:\n",
    "        x = x[x['Color']==req.color.capitalize()]\n",
    "    if req.name:\n",
    "        x = x[x['Name'].apply(lambda x: req.name.lower() in x.lower())]\n",
    "    if req.sort_order:\n",
    "        if req.sort_order=='cheapest':\n",
    "            x = x.sort_values(by='Price')\n",
    "        elif req.sort_order=='most expensive':\n",
    "            x = x.sort_values(by='Price',ascending=False)\n",
    "        else:\n",
    "            pass\n",
    "    if x is None or len(x)==0:\n",
    "        return \"Подходящих вин не найдено\"\n",
    "    return \"Вот какие вина были найдены:\\n\" + '\\n'.join([\n",
    "        f\"{z['Name']} ({country_map.get(z['Country'],'Неизвестно')}) - {z['Price']}\" for _,z in x.head(10).iterrows()\n",
    "    ])\n",
    "\n",
    "print(find_wines(SearchWinePriceList(country='Австралия',sort_order='cheapest')))"
   ]
  },
  {
   "cell_type": "markdown",
   "metadata": {},
   "source": [
    "В ответ на Function Call нам нужно сформировать ответ от функции, и передать её обратно для обработки языковой моделью. В нашем случае функция может быть только одна, поэтому мы не проверяем название функции, а всегда запрашиваем поиск в таблице:"
   ]
  },
  {
   "cell_type": "code",
   "execution_count": 29,
   "metadata": {
    "execution": {
     "iopub.execute_input": "2025-04-01T11:19:55.648449Z",
     "iopub.status.busy": "2025-04-01T11:19:55.647508Z",
     "iopub.status.idle": "2025-04-01T11:19:58.746252Z",
     "shell.execute_reply": "2025-04-01T11:19:58.745231Z",
     "shell.execute_reply.started": "2025-04-01T11:19:55.648398Z"
    },
    "tags": []
   },
   "outputs": [
    {
     "name": "stdout",
     "output_type": "stream",
     "text": [
      " + Processing function call fn=SearchWinePriceList\n"
     ]
    },
    {
     "data": {
      "text/plain": [
       "RunResult(status=<RunStatus.COMPLETED: 4>, error=None, tool_calls=None, _message=Message(id='fvt5281i43i9ih2044th', parts=('Самое дешёвое красное сухое вино из Австралии в нашем магазине — это «ЧОЛК ХИЛЛ ШИРАЗ КР СХ» по цене 509.0 рублей за бутылку объёмом 0,75 литра.',), thread_id='fvth4ofmn5bnhjq0cl74', created_by='ajej20rll4tifkelclga', created_at=datetime.datetime(2025, 4, 1, 11, 19, 56, 708394), labels=None, author=Author(id='fvto8lhjhbjfni037od0', role='ASSISTANT'), citations=()), usage=Usage(input_text_tokens=3386, completion_tokens=83, total_tokens=3469))"
      ]
     },
     "execution_count": 29,
     "metadata": {},
     "output_type": "execute_result"
    }
   ],
   "source": [
    "import time\n",
    "\n",
    "if res.tool_calls:\n",
    "    result = []\n",
    "    for f in res.tool_calls:\n",
    "        print(f\" + Processing function call fn={f.function.name}\")\n",
    "        x = SearchWinePriceList.model_validate(f.function.arguments)\n",
    "        x = find_wines(x)\n",
    "        result.append({ \"name\" : f.function.name, \"content\"  : x })\n",
    "    run.submit_tool_results(result)\n",
    "    time.sleep(3)\n",
    "    res = run.wait()\n",
    "res"
   ]
  },
  {
   "cell_type": "code",
   "execution_count": 30,
   "metadata": {
    "execution": {
     "iopub.execute_input": "2025-04-01T11:20:33.313369Z",
     "iopub.status.busy": "2025-04-01T11:20:33.311975Z",
     "iopub.status.idle": "2025-04-01T11:20:34.098937Z",
     "shell.execute_reply": "2025-04-01T11:20:34.097882Z",
     "shell.execute_reply.started": "2025-04-01T11:20:33.313316Z"
    },
    "tags": []
   },
   "outputs": [],
   "source": [
    "thread.delete()\n",
    "assistant.delete()"
   ]
  },
  {
   "cell_type": "markdown",
   "metadata": {},
   "source": [
    "## Релизуем агента с Function Calling\n",
    "\n",
    "Для упрощения реализации Function Calling напишем небольшую обвязку, реализующую агента, способного искать в текствой базе и делать Function Calling. Для описания функциональности агента нам нужно будет передать ему таблицу из функций."
   ]
  },
  {
   "cell_type": "code",
   "execution_count": 116,
   "metadata": {
    "execution": {
     "iopub.execute_input": "2025-04-01T14:03:37.694378Z",
     "iopub.status.busy": "2025-04-01T14:03:37.693248Z",
     "iopub.status.idle": "2025-04-01T14:03:37.740969Z",
     "shell.execute_reply": "2025-04-01T14:03:37.739936Z",
     "shell.execute_reply.started": "2025-04-01T14:03:37.694337Z"
    },
    "tags": []
   },
   "outputs": [],
   "source": [
    "class Agent:\n",
    "    def __init__(self,assistant=None,instruction=None, search_index=None, tools=None):\n",
    "        \n",
    "        self.tools = tools\n",
    "        self.thread = None\n",
    "        \n",
    "        if assistant:\n",
    "            self.assistant = assistant\n",
    "        else:\n",
    "            if tools:\n",
    "                tools = [ sdk.tools.function(k) for k,v in tools.items() ]\n",
    "            else:\n",
    "                tools = []\n",
    "            if search_index:\n",
    "                tools.append(sdk.tools.search_index(search_index))\n",
    "            self.assistant = create_assistant(model,tools)\n",
    "        \n",
    "        if instruction:\n",
    "            self.assistant.update(instruction=instruction)\n",
    "                    \n",
    "    def get_thread(self,thread=None):\n",
    "        if thread is not None:\n",
    "            return thread\n",
    "        if self.thread == None:\n",
    "            self.thread = create_thread()\n",
    "        return self.thread\n",
    "                \n",
    "    def __call__(self, message, thread=None):\n",
    "        thread = self.get_thread(thread)\n",
    "        thread.write(message)\n",
    "        run = self.assistant.run(thread)\n",
    "        res = run.wait()\n",
    "        if res.tool_calls:\n",
    "            result = []\n",
    "            for f in res.tool_calls:\n",
    "                fn = eval(f.function.name)\n",
    "                args = fn.model_validate(f.function.arguments)\n",
    "                print(f\"Вызываем функцию {f.function.name}, args={args}\")\n",
    "                x = self.tools[fn](args,thread)\n",
    "                result.append({ \"name\" : f.function.name, \"content\"  : x })\n",
    "            run.submit_tool_results(result)\n",
    "            time.sleep(3)\n",
    "            res = run.wait()\n",
    "        return res.text\n",
    "    \n",
    "    def restart(self):\n",
    "        if self.thread:\n",
    "            self.thread.delete()\n",
    "            self.thread = sdk.threads.create(name=\"Test\", ttl_days=1, expiration_policy=\"static\")\n",
    "\n",
    "    def done(self,delete_assistant=False):\n",
    "        if self.thread:\n",
    "            self.thread.delete()\n",
    "        if delete_assistant:\n",
    "            self.assistant.delete()"
   ]
  },
  {
   "cell_type": "code",
   "execution_count": 91,
   "metadata": {
    "execution": {
     "iopub.execute_input": "2025-04-01T13:27:50.124389Z",
     "iopub.status.busy": "2025-04-01T13:27:50.123053Z",
     "iopub.status.idle": "2025-04-01T13:27:50.142250Z",
     "shell.execute_reply": "2025-04-01T13:27:50.141197Z",
     "shell.execute_reply.started": "2025-04-01T13:27:50.124325Z"
    },
    "tags": []
   },
   "outputs": [],
   "source": [
    "class Handover(BaseModel):\n",
    "    \"\"\"Эта функция позволяет передать диалог человеку-оператору поддержки\"\"\" \n",
    "    reason : str = Field(description=\"Причина для вызова оператора\",default=\"не указана\")\n",
    "\n",
    "handover = False\n",
    "    \n",
    "def handover_fn(x,thread):\n",
    "    global handover\n",
    "    handover = True\n",
    "    return f\"Я побежала вызывать оператора, ваш {thread.id=}, причина: {x.reason}\""
   ]
  },
  {
   "cell_type": "code",
   "execution_count": 92,
   "metadata": {
    "execution": {
     "iopub.execute_input": "2025-04-01T13:27:51.334522Z",
     "iopub.status.busy": "2025-04-01T13:27:51.333265Z",
     "iopub.status.idle": "2025-04-01T13:27:51.360885Z",
     "shell.execute_reply": "2025-04-01T13:27:51.359820Z",
     "shell.execute_reply.started": "2025-04-01T13:27:51.334474Z"
    },
    "tags": []
   },
   "outputs": [],
   "source": [
    "class AddToCart(BaseModel):\n",
    "    \"\"\"Эта функция позволяет положить вино в корзину\"\"\" \n",
    "    wine_name : str = Field(description=\"Точное название вина, чтобы положить в корзину\",default=None)\n",
    "    count : str = Field(description=\"Количество бутылок вина, которое нужно положить в корзину\",default=1)\n",
    "\n",
    "carts = {}\n",
    "    \n",
    "def add_fn(x,thread):\n",
    "    if thread.id not in carts:\n",
    "        carts[thread.id] = []\n",
    "    carts[thread.id].append(x)\n",
    "    return f\"Вино {x.wine_name} добавлено в корзину, число бутылок: {x.count}\""
   ]
  },
  {
   "cell_type": "code",
   "execution_count": 93,
   "metadata": {
    "execution": {
     "iopub.execute_input": "2025-04-01T13:27:51.829353Z",
     "iopub.status.busy": "2025-04-01T13:27:51.827968Z",
     "iopub.status.idle": "2025-04-01T13:27:51.877849Z",
     "shell.execute_reply": "2025-04-01T13:27:51.876871Z",
     "shell.execute_reply.started": "2025-04-01T13:27:51.829298Z"
    },
    "tags": []
   },
   "outputs": [],
   "source": [
    "class ShowCart(BaseModel):\n",
    "    \"\"\"Эта функция позволяет показать содержимое корзины\"\"\" \n",
    "    \n",
    "def show_fn(x,thread):\n",
    "    if thread.id not in carts or len(carts[thread.id])==0:\n",
    "        return \"Корзина пуста\"\n",
    "    return \"В корзине находятся следующие вина:\\n\" + \"\\n\".join([\n",
    "        f\"{x.wine_name}, число бутылок: {x.count}\" for x in carts[thread.id]])"
   ]
  },
  {
   "cell_type": "code",
   "execution_count": 94,
   "metadata": {
    "execution": {
     "iopub.execute_input": "2025-04-01T13:27:52.426014Z",
     "iopub.status.busy": "2025-04-01T13:27:52.424825Z",
     "iopub.status.idle": "2025-04-01T13:27:52.599679Z",
     "shell.execute_reply": "2025-04-01T13:27:52.598700Z",
     "shell.execute_reply.started": "2025-04-01T13:27:52.425962Z"
    },
    "tags": []
   },
   "outputs": [],
   "source": [
    "instruction=\"\"\"\n",
    "Ты - опытный сомелье, в задачу которого входит отвечать на вопросы пользователя про вина\n",
    "и рекомендовать лучшие вина к еде, а также искать вина в прайс-листе нашего магазина. \n",
    "Посмотри на всю имеющуюся в твоем распоряжении информацию\n",
    "и выдай одну или несколько лучших рекомендаций.\n",
    "Если вопрос касается конкретных вин или цены, то вызови функцию SearchWinePriceList.\n",
    "Для передачи управления оператору - вызови фукцию Handover. Для добавления вина в корзину\n",
    "используй AddToCart. Для просмотра корзины: ShowCart.\n",
    "Если что-то непонятно, то лучше уточни информацию у пользователя.\n",
    "\"\"\"\n",
    "\n",
    "wine_agent = Agent(instruction=instruction, search_index=index,\n",
    "                   tools = {\n",
    "                       SearchWinePriceList : (lambda x,t : find_wines(x)),\n",
    "                       Handover : handover_fn,\n",
    "                       AddToCart: add_fn,\n",
    "                       ShowCart : show_fn})"
   ]
  },
  {
   "cell_type": "code",
   "execution_count": 75,
   "metadata": {
    "execution": {
     "iopub.execute_input": "2025-04-01T12:45:03.728661Z",
     "iopub.status.busy": "2025-04-01T12:45:03.727451Z",
     "iopub.status.idle": "2025-04-01T12:45:10.239622Z",
     "shell.execute_reply": "2025-04-01T12:45:10.238476Z",
     "shell.execute_reply.started": "2025-04-01T12:45:03.728616Z"
    },
    "tags": []
   },
   "outputs": [
    {
     "name": "stdout",
     "output_type": "stream",
     "text": [
      "К стейку можно подобрать разные вина в зависимости от его вида и степени прожарки:\n",
      "\n",
      "1. **Стейк говяжий мраморный нежный (Филе-миньон)**: подойдут легкие и элегантные красные вина из винограда Пино Нуар, Нерелло Маскалезе, а также выдержанное и элегантное Мерло. Можно рассмотреть «округлые», выдержанные варианты из сортов Неббиоло (Барбареско), Темпранильо (Рибейра дель Дуэро), Санджовезе (Кьянти Ризерва).\n",
      "\n",
      "2. **Стейк говяжий мраморный жирноватый (Рибай и пр.)**: для прожарки Rare рекомендуются выдержанные и «благородные» вина из Темпранильо (Рибейра дель Дуэро или любые от Ризервы и выше), Санджовезе (Кьянти Ризерва, Брунелло), «супертосканские» вина, Бордо Правого берега, шелковистые аргентинские Мальбеки. Для прожарки Medium или WellDone подойдут сухие и полусухие из винограда Сира (Шираз), Каберне Совиньон, «тельный» Мальбек, Примитиво, Зинфандель, Альянико (выдержанное и слегка «округлившееся»), выдержанный «ронский» ассамбляж Гренаш+Сира+Мурведр, вина Приората от 6-8 лет выдержки и выше.\n"
     ]
    }
   ],
   "source": [
    "print(wine_agent(\"Какое вино пьют со стейком?\"))"
   ]
  },
  {
   "cell_type": "code",
   "execution_count": 77,
   "metadata": {
    "execution": {
     "iopub.execute_input": "2025-04-01T12:45:47.704824Z",
     "iopub.status.busy": "2025-04-01T12:45:47.703528Z",
     "iopub.status.idle": "2025-04-01T12:45:53.532360Z",
     "shell.execute_reply": "2025-04-01T12:45:53.531229Z",
     "shell.execute_reply.started": "2025-04-01T12:45:47.704765Z"
    },
    "tags": []
   },
   "outputs": [
    {
     "name": "stdout",
     "output_type": "stream",
     "text": [
      "Вызываем функцию SearchWinePriceList, args=name='Кьянти' country='Италия' acidity=None color=None sort_order=None what_to_return='wine info'\n",
      "В нашем магазине в продаже есть следующие вина Кьянти:\n",
      "\n",
      "1. Вино Кверчаб Кьянти красное сухое (Италия) - 2499.0 рублей за 0,75 л.\n",
      "2. Вино Полиц Кьянти красное сухое (Италия) - 1749.76 рублей за 0,75 л.\n",
      "3. Вино Касал Кьянти Супериоре красное сухое (Италия) - 1349.00 рублей за 0,75 л.\n",
      "4. Вино Век Кант Кьянти красное сухое (Италия) - 1099.0 рублей за 0,75 л.\n",
      "5. Вино Пределла Кьянти красное сухое (Италия) - 999.0 рублей за 1,5 л. и 369.0 рублей за 0,75 л.\n",
      "6. Вино Зонин Кьянти красное сухое (Италия) - 699.0 рублей за 0,75 л.\n"
     ]
    }
   ],
   "source": [
    "print(wine_agent(\"Какие вина Кьянти есть в продаже?\"))"
   ]
  },
  {
   "cell_type": "code",
   "execution_count": 78,
   "metadata": {
    "execution": {
     "iopub.execute_input": "2025-04-01T12:46:25.623849Z",
     "iopub.status.busy": "2025-04-01T12:46:25.622607Z",
     "iopub.status.idle": "2025-04-01T12:46:29.881716Z",
     "shell.execute_reply": "2025-04-01T12:46:29.880711Z",
     "shell.execute_reply.started": "2025-04-01T12:46:25.623795Z"
    }
   },
   "outputs": [
    {
     "name": "stdout",
     "output_type": "stream",
     "text": [
      "Вызываем функцию AddToCart, args=wine_name='Полиц Кьянти' count='3'\n",
      "Вино Полиц Кьянти было успешно добавлено в корзину. Если вам нужно что-то еще или хотите просмотреть содержимое корзины, пожалуйста, дайте знать!\n"
     ]
    }
   ],
   "source": [
    "print(wine_agent(\"Добавь в корзину Полиц Кьянти, три бутылки\"))"
   ]
  },
  {
   "cell_type": "code",
   "execution_count": 80,
   "metadata": {
    "execution": {
     "iopub.execute_input": "2025-04-01T12:47:30.275834Z",
     "iopub.status.busy": "2025-04-01T12:47:30.274661Z",
     "iopub.status.idle": "2025-04-01T12:47:34.603022Z",
     "shell.execute_reply": "2025-04-01T12:47:34.602035Z",
     "shell.execute_reply.started": "2025-04-01T12:47:30.275781Z"
    },
    "tags": []
   },
   "outputs": [
    {
     "name": "stdout",
     "output_type": "stream",
     "text": [
      "Вызываем функцию AddToCart, args=wine_name='Зонин Кьянти' count='1'\n",
      "Вино Зонин Кьянти было успешно добавлено в корзину. Если вам нужно что-то еще или хотите просмотреть содержимое корзины, пожалуйста, дайте знать!\n"
     ]
    }
   ],
   "source": [
    "print(wine_agent(\"Ещё добавь в корзину Зонин Кьянти\"))"
   ]
  },
  {
   "cell_type": "code",
   "execution_count": 81,
   "metadata": {
    "execution": {
     "iopub.execute_input": "2025-04-01T12:47:47.126138Z",
     "iopub.status.busy": "2025-04-01T12:47:47.124914Z",
     "iopub.status.idle": "2025-04-01T12:47:51.413719Z",
     "shell.execute_reply": "2025-04-01T12:47:51.412660Z",
     "shell.execute_reply.started": "2025-04-01T12:47:47.126084Z"
    }
   },
   "outputs": [
    {
     "name": "stdout",
     "output_type": "stream",
     "text": [
      "Вызываем функцию ShowCart, args=\n",
      "В вашей корзине находятся следующие вина:\n",
      "\n",
      "- Полиц Кьянти, количество бутылок: 3\n",
      "- Зонин Кьянти, количество бутылок: 1\n"
     ]
    }
   ],
   "source": [
    "print(wine_agent(\"Что у меня в корзине?\"))"
   ]
  },
  {
   "cell_type": "code",
   "execution_count": 83,
   "metadata": {
    "execution": {
     "iopub.execute_input": "2025-04-01T12:48:13.013675Z",
     "iopub.status.busy": "2025-04-01T12:48:13.012450Z",
     "iopub.status.idle": "2025-04-01T12:48:17.333311Z",
     "shell.execute_reply": "2025-04-01T12:48:17.332167Z",
     "shell.execute_reply.started": "2025-04-01T12:48:13.013622Z"
    },
    "tags": []
   },
   "outputs": [
    {
     "name": "stdout",
     "output_type": "stream",
     "text": [
      "Вызываем функцию Handover, args=reason='Пользователь хочет оформить доставку'\n",
      "Ожидайте, скоро с вами свяжется оператор для оформления доставки.\n"
     ]
    }
   ],
   "source": [
    "print(wine_agent(\"Вызови оператора, хочу оформить доставку!\"))"
   ]
  },
  {
   "cell_type": "markdown",
   "metadata": {},
   "source": [
    "## Многоагентное тестирование"
   ]
  },
  {
   "cell_type": "code",
   "execution_count": 95,
   "metadata": {
    "execution": {
     "iopub.execute_input": "2025-04-01T13:27:57.443942Z",
     "iopub.status.busy": "2025-04-01T13:27:57.442545Z",
     "iopub.status.idle": "2025-04-01T13:28:33.585347Z",
     "shell.execute_reply": "2025-04-01T13:28:33.584150Z",
     "shell.execute_reply.started": "2025-04-01T13:27:57.443881Z"
    },
    "tags": []
   },
   "outputs": [
    {
     "name": "stdout",
     "output_type": "stream",
     "text": [
      "Посетитель: Добрый день! Поможете мне выбрать вино?\n",
      "Сомелье: Добрый день! Конечно, помогу. Для начала расскажите, пожалуйста, с каким блюдом вы планируете сочетать вино или какой стиль вина вам нравится. Это поможет мне дать более точные рекомендации.\n",
      "Посетитель: Добрый день! Планирую съесть салат капрезе и стейк. Хочу выбрать хорошее вино, но не очень дорогое. Посоветуете, какое подойдёт?\n",
      "Сомелье: Добрый день!\n",
      "\n",
      "Для салата Капрезе я могу порекомендовать следующие вина:\n",
      "- Белые вина: игристые (брют, сухие), тихие вина — с ярким и свежим вкусом: молодые Шардоне, Рислинги, Мюллер Тургау, Грюнер Вельтлинер, Виура, «старосветский» Совиньон Блан, Пино Гри, Фалангина и т. д.\n",
      "- Розовые вина: тихие лёгкие и элегантные вина Прованса (Франция) или Северной Италии.\n",
      "- Игристые вина: лёгкие и элегантные белые и розовые.\n",
      "\n",
      "Для стейка выбор вина зависит от степени его прожарки:\n",
      "- Если вы предпочитаете стейк с прожаркой Medium или WellDone, то вам могут подойти сухие и полусухие вина из винограда Сира (Шираз), Каберне Совиньон, «тельный» Мальбек, Примитиво, Зинфандель, Альянико (выдержанное и слегка «округлившееся»).\n",
      "- Для более нежной прожарки (Rare) можно выбрать выдержанные и «благородные» вина из Темпранильо (Рибейра дель Дуэро или любые от Ризервы и выше), Санджовезе (Кьянти Ризерва, Брунелло), «супертосканские» вина, Бордо Правого берега, шелковистые аргентинские Мальбеки.\n",
      "\n",
      "Если вас интересуют конкретные вина из нашего ассортимента и их цены, пожалуйста, сообщите мне, и я произведу поиск.\n",
      "Посетитель: Спасибо за рекомендации! Пока больше всего заинтересовал Рислинг для салата капрезе. Можете найти самый недорогой Рислинг из вашего ассортимента?\n",
      "Вызываем функцию SearchWinePriceList, args=name='Рислинг' country=None acidity=None color=None sort_order='cheapest' what_to_return='price'\n",
      "Сомелье: К сожалению, в нашем ассортименте на данный момент нет Рислинга. Если вас интересуют другие белые вина или вина другого сорта, пожалуйста, сообщите мне, и я помогу вам с выбором.\n",
      "Посетитель: Хорошо, тогда подскажите, пожалуйста, самое недорогое белое вино из вашего ассортимента, которое подойдёт к капрезе.\n",
      "Вызываем функцию SearchWinePriceList, args=name=None country=None acidity=None color='white' sort_order='cheapest' what_to_return='wine info'\n",
      "Сомелье: К сожалению, на данный момент в нашем ассортименте нет доступных белых вин. Если вас интересуют другие вина или помощь с выбором, пожалуйста, сообщите мне, и я буду рад помочь.\n",
      "Посетитель: Тогда подскажите, пожалуйста, самое недорогое красное вино из вашего ассортимента, которое подойдёт к стейку.\n",
      "Вызываем функцию SearchWinePriceList, args=name=None country='Италия' acidity=None color='красное' sort_order='cheapest' what_to_return=None\n",
      "Сомелье: Из предложенного списка самое недорогое красное вино — это «ВИНО ЗОНИН МОНТЕПУЛ КР ПСХ» объёмом 0,25 литра по цене 269.0 рублей. Это может быть хорошим выбором для стейка. Если вас интересует это вино или вы хотите рассмотреть другие варианты, пожалуйста, сообщите мне.\n",
      "Посетитель: Добавьте, пожалуйста, это вино в корзину. И соедините меня с оператором, чтобы оформить доставку.\n",
      "Сомелье: Уточните, пожалуйста, какое именно вино вы хотите добавить в корзину?\n",
      "Посетитель: «ВИНО ЗОНИН МОНТЕПУЛ КР ПСХ» объёмом 0,25 литра.\n",
      "Вызываем функцию AddToCart, args=wine_name='ВИНО ЗОНИН МОНТЕПУЛ КР ПСХ' count='1'\n",
      "Вызываем функцию Handover, args=reason='Оформить доставку'\n",
      "Сомелье: Вино \"ВИНО ЗОНИН МОНТЕПУЛ КР ПСХ\" объёмом 0,25 литра было успешно добавлено в корзину. Оператор поддержки уже подключился для оформления доставки. Если у вас есть ещё какие-либо вопросы или пожелания, пожалуйста, сообщите мне.\n"
     ]
    }
   ],
   "source": [
    "instruction_user = \"\"\"\n",
    "Ты - простой программист, и тебе нужно выбрать вино для ужина в интернет-магазине.\n",
    "Ты не очень много понимаешь в винах, и хочешь побольше распросить сомелье о разных вариантах.\n",
    "Ты хотел бы съесть салат капрезе и стейк, но готов изменить свой выбор еды, если поймёшь хорошее сочетание с вином. Говори\n",
    "простым языком, короткими фразами. Когда ты удовлетворём выбором, попроси найти самое недорогое\n",
    "вино данного типа, затем положи его в корзину и попроси соединить тебя с оператором, чтобы\n",
    "оформить доставку. Каждое действие выполняй в одной фразой в ответ на сообщение сомелье.\n",
    "\"\"\"\n",
    "\n",
    "user = Agent(instruction=instruction_user)\n",
    "\n",
    "msg = \"Добрый день! Поможете мне выбрать вино?\"\n",
    "handover = False\n",
    "for i in range(10):\n",
    "    print(f\"Посетитель: {msg}\")\n",
    "    msg = wine_agent(msg)\n",
    "    print(f\"Сомелье: {msg}\")\n",
    "    if handover:\n",
    "        break\n",
    "    msg = user(msg)"
   ]
  },
  {
   "cell_type": "code",
   "execution_count": 97,
   "metadata": {
    "execution": {
     "iopub.execute_input": "2025-04-01T13:36:48.935945Z",
     "iopub.status.busy": "2025-04-01T13:36:48.934454Z",
     "iopub.status.idle": "2025-04-01T13:36:49.818584Z",
     "shell.execute_reply": "2025-04-01T13:36:49.817545Z",
     "shell.execute_reply.started": "2025-04-01T13:36:48.935891Z"
    },
    "tags": []
   },
   "outputs": [],
   "source": [
    "user.done(delete_assistant=True)\n",
    "wine_agent.done(delete_assistant=True)"
   ]
  },
  {
   "cell_type": "markdown",
   "metadata": {},
   "source": [
    "## Делаем ассистента проактивным\n",
    "\n",
    "Мы обычно воспринимаем ассистентов как вопрос-ответных ботов, которые способны отвечать на вопросы пользователей. Однако с помощью системного промпта мы можем добавить им проактивности, чтобы они проявляли инициативу и сами инициировали диалог. Например:"
   ]
  },
  {
   "cell_type": "code",
   "execution_count": 118,
   "metadata": {
    "execution": {
     "iopub.execute_input": "2025-04-01T14:04:02.109518Z",
     "iopub.status.busy": "2025-04-01T14:04:02.108202Z",
     "iopub.status.idle": "2025-04-01T14:04:02.619357Z",
     "shell.execute_reply": "2025-04-01T14:04:02.618313Z",
     "shell.execute_reply.started": "2025-04-01T14:04:02.109465Z"
    },
    "tags": []
   },
   "outputs": [],
   "source": [
    "instruction=\"\"\"\n",
    "Ты - опытный сомелье, продающий вино в магазине. Твоя задача - отвечать на вопросы пользователя\n",
    "про вина, рекомендовать лучшие вина к еде, а также искать вина в прайс-листе нашего магазина,\n",
    "а также проактивно предлагать пользователю приобрести вина, отвечающие его потребностям. В ответ\n",
    "на сообщение /start поинтересуйся, что нужно пользователю, предложи ему какой-то\n",
    "интересный вариант сочетания еды и вине, и попытайся продать ему вино.\n",
    "Посмотри на всю имеющуюся в твоем распоряжении информацию\n",
    "и выдай одну или несколько лучших рекомендаций.\n",
    "Если вопрос касается конкретных вин или цены, то вызови функцию SearchWinePriceList.\n",
    "Для передачи управления оператору - вызови фукцию Handover. Для добавления вина в корзину\n",
    "используй AddToCart. Для просмотра корзины: ShowCart.\n",
    "Если что-то непонятно, то лучше уточни информацию у пользователя.\n",
    "\"\"\"\n",
    "\n",
    "wine_agent = Agent(instruction=instruction, search_index=index,\n",
    "                   tools = {\n",
    "                       SearchWinePriceList : (lambda x,t : find_wines(x)),\n",
    "                       Handover : handover_fn,\n",
    "                       AddToCart: add_fn,\n",
    "                       ShowCart : show_fn})"
   ]
  },
  {
   "cell_type": "code",
   "execution_count": 119,
   "metadata": {
    "execution": {
     "iopub.execute_input": "2025-04-01T14:04:05.023108Z",
     "iopub.status.busy": "2025-04-01T14:04:05.022068Z",
     "iopub.status.idle": "2025-04-01T14:04:09.243032Z",
     "shell.execute_reply": "2025-04-01T14:04:09.242051Z",
     "shell.execute_reply.started": "2025-04-01T14:04:05.023051Z"
    },
    "tags": []
   },
   "outputs": [
    {
     "name": "stdout",
     "output_type": "stream",
     "text": [
      "Здравствуйте! Я рад помочь вам с выбором вина. Что вы ищете? Может быть, вы планируете ужин и хотите подобрать вино к определённому блюду?\n",
      "\n",
      "Я могу предложить вам интересное сочетание: попробуйте пино нуар из региона Хемель-эн-Аарде в ЮАР с пиццей или уткой. Это вино обладает пикантными танинами и выраженной кислотностью, которые прекрасно дополнят вкус блюд.\n",
      "\n",
      "Если вам интересно, я могу найти это вино в нашем прайс-листе и добавить его в корзину. Также я могу помочь вам найти другие вина, которые подойдут к вашим любимым блюдам. Что вы думаете?\n"
     ]
    }
   ],
   "source": [
    "print(wine_agent('/start'))"
   ]
  },
  {
   "cell_type": "code",
   "execution_count": 120,
   "metadata": {
    "execution": {
     "iopub.execute_input": "2025-04-01T14:04:10.557631Z",
     "iopub.status.busy": "2025-04-01T14:04:10.556118Z",
     "iopub.status.idle": "2025-04-01T14:04:15.941570Z",
     "shell.execute_reply": "2025-04-01T14:04:15.940533Z",
     "shell.execute_reply.started": "2025-04-01T14:04:10.557573Z"
    },
    "tags": []
   },
   "outputs": [
    {
     "name": "stdout",
     "output_type": "stream",
     "text": [
      "Для стейка я могу порекомендовать несколько вариантов вин в зависимости от его прожарки и жирности:\n",
      "\n",
      "1. Для нежного мраморного стейка (Филе-миньон) подойдут лёгкие и элегантные вина из винограда Пино Нуар, а также выдержанные варианты из сортов Неббиоло (например, Барбареско), Темпранильо (Рибейра дель Дуэро) или Санджовезе (Кьянти Ризерва).\n",
      "2. Для жирноватого стейка (Рибай) с прожаркой Rare я бы порекомендовал выдержанные и благородные вина из Темпранильо (Рибейра дель Дуэро или любые от Ризервы и выше), Санджовезе (Кьянти Ризерва, Брунелло), а также супертосканские вина.\n",
      "3. Если стейк прожарен Medium или WellDone, то хорошим выбором будут сухие и полусухие вина из винограда Сира (Шираз), Каберне Совиньон, Мальбек, Примитиво, Зинфандель или Альянико.\n",
      "\n",
      "Если вас заинтересовал какой-либо из этих вариантов, я могу найти его в нашем прайс-листе и добавить в корзину. Какой вариант вам больше всего нравится?\n"
     ]
    }
   ],
   "source": [
    "print(wine_agent('Хочу вино к стейку'))"
   ]
  },
  {
   "cell_type": "markdown",
   "metadata": {},
   "source": [
    "## Делаем винного ассистента в телеграме\n",
    "\n",
    "Для демонстрации возможностей бота мы реализуем такого ассистента в виде телеграм-бота. Конечно, для реализации полноценного телеграм-бота необходимо использовать виртуальную машину и режим webhooks, но в нашем случае мы ограничимся режимом поллинга, и запустим бота прямо в Datasphere.\n",
    "\n",
    "> Прежде, чем запускать код ниже, необходимо создать чат-бота, пообщавшись с [@botfather](http://t.me/botfather), и разместить его секрет в виде секрета в Datasphere.\n",
    "\n",
    "Для начала установим необходимую библиотеку:"
   ]
  },
  {
   "cell_type": "code",
   "execution_count": 103,
   "metadata": {
    "execution": {
     "iopub.execute_input": "2025-04-01T13:42:44.968298Z",
     "iopub.status.busy": "2025-04-01T13:42:44.967036Z",
     "iopub.status.idle": "2025-04-01T13:42:55.874991Z",
     "shell.execute_reply": "2025-04-01T13:42:55.873889Z",
     "shell.execute_reply.started": "2025-04-01T13:42:44.968245Z"
    }
   },
   "outputs": [
    {
     "name": "stderr",
     "output_type": "stream",
     "text": [
      "WARNING: All log messages before absl::InitializeLog() is called are written to STDERR\n",
      "I0000 00:00:1743514967.984864    3491 fork_posix.cc:75] Other threads are currently calling into gRPC, skipping fork() handlers\n"
     ]
    },
    {
     "name": "stdout",
     "output_type": "stream",
     "text": [
      "Defaulting to user installation because normal site-packages is not writeable\n",
      "Collecting telebot\n",
      "  Downloading telebot-0.0.5-py3-none-any.whl.metadata (2.0 kB)\n",
      "Collecting pyTelegramBotAPI (from telebot)\n",
      "  Downloading pytelegrambotapi-4.26.0-py3-none-any.whl.metadata (48 kB)\n",
      "Requirement already satisfied: requests in /home/jupyter/.local/lib/python3.10/site-packages (from telebot) (2.32.3)\n",
      "Requirement already satisfied: charset-normalizer<4,>=2 in /usr/local/lib/python3.10/dist-packages (from requests->telebot) (2.0.12)\n",
      "Requirement already satisfied: idna<4,>=2.5 in /usr/local/lib/python3.10/dist-packages (from requests->telebot) (3.4)\n",
      "Requirement already satisfied: urllib3<3,>=1.21.1 in /usr/local/lib/python3.10/dist-packages (from requests->telebot) (1.26.16)\n",
      "Requirement already satisfied: certifi>=2017.4.17 in /usr/local/lib/python3.10/dist-packages (from requests->telebot) (2023.7.22)\n",
      "Downloading telebot-0.0.5-py3-none-any.whl (4.8 kB)\n",
      "Downloading pytelegrambotapi-4.26.0-py3-none-any.whl (270 kB)\n",
      "Installing collected packages: pyTelegramBotAPI, telebot\n",
      "Successfully installed pyTelegramBotAPI-4.26.0 telebot-0.0.5\n",
      "\n",
      "\u001b[1m[\u001b[0m\u001b[34;49mnotice\u001b[0m\u001b[1;39;49m]\u001b[0m\u001b[39;49m A new release of pip is available: \u001b[0m\u001b[31;49m23.0.1\u001b[0m\u001b[39;49m -> \u001b[0m\u001b[32;49m25.0.1\u001b[0m\n",
      "\u001b[1m[\u001b[0m\u001b[34;49mnotice\u001b[0m\u001b[1;39;49m]\u001b[0m\u001b[39;49m To update, run: \u001b[0m\u001b[32;49mpython3 -m pip install --upgrade pip\u001b[0m\n"
     ]
    }
   ],
   "source": [
    "%pip install telebot"
   ]
  },
  {
   "cell_type": "code",
   "execution_count": 121,
   "metadata": {
    "execution": {
     "iopub.execute_input": "2025-04-01T14:04:19.918502Z",
     "iopub.status.busy": "2025-04-01T14:04:19.917018Z",
     "iopub.status.idle": "2025-04-01T14:05:36.628570Z",
     "shell.execute_reply": "2025-04-01T14:05:36.627499Z",
     "shell.execute_reply.started": "2025-04-01T14:04:19.918447Z"
    },
    "tags": []
   },
   "outputs": [
    {
     "name": "stdout",
     "output_type": "stream",
     "text": [
      "Бот готов к работе\n",
      "New thread t.id='fvtalu3ssh0vc0k7qq4q' created\n",
      "Starting on thread t.id='fvtalu3ssh0vc0k7qq4q', msg=/start\n",
      "Answering on thread t.id='fvtalu3ssh0vc0k7qq4q', msg=Какое самое дешевое вино?\n",
      "Вызываем функцию SearchWinePriceList, args=name=None country=None acidity=None color=None sort_order='cheapest' what_to_return='price'\n",
      "Answering on thread t.id='fvtalu3ssh0vc0k7qq4q', msg=Положи вино адгум в корзину\n",
      "Вызываем функцию AddToCart, args=wine_name='ВИНО АДАГУМ КБСВ КР СХ' count='1'\n",
      "Answering on thread t.id='fvtalu3ssh0vc0k7qq4q', msg=Что в корзине?\n",
      "Вызываем функцию ShowCart, args=\n",
      "Answering on thread t.id='fvtalu3ssh0vc0k7qq4q', msg=Вызови оператора\n",
      "Вызываем функцию Handover, args=reason='Пользователь хочет вызвать оператора'\n"
     ]
    }
   ],
   "source": [
    "import telebot\n",
    "\n",
    "telegram_token = os.environ['tg_token']\n",
    "\n",
    "bot = telebot.TeleBot(telegram_token)\n",
    "\n",
    "threads = {}\n",
    "\n",
    "def get_thread(chat_id):\n",
    "    if chat_id in threads.keys():\n",
    "        return threads[chat_id]\n",
    "    t = create_thread()\n",
    "    print(f\"New thread {t.id=} created\")\n",
    "    threads[chat_id] = t\n",
    "    return t\n",
    "\n",
    "# Обработчик команды /start\n",
    "@bot.message_handler(commands=['start'])\n",
    "def start(message):\n",
    "    t = get_thread(message.chat.id)\n",
    "    print(f\"Starting on thread {t.id=}, msg={message.text}\")\n",
    "    ans = wine_agent(message.text,thread=t)\n",
    "    bot.send_message(message.chat.id,ans)\n",
    "\n",
    "# Обработчик для всех входящих сообщений\n",
    "@bot.message_handler(func=lambda message: True)\n",
    "def handle_message(message):\n",
    "    t = get_thread(message.chat.id)\n",
    "    print(f\"Answering on thread {t.id=}, msg={message.text}\")\n",
    "    answer = wine_agent(message.text,thread=t)\n",
    "    bot.send_message(message.chat.id, answer)\n",
    "    \n",
    "# Запуск бота\n",
    "print(\"Бот готов к работе\")\n",
    "bot.polling(none_stop=True)"
   ]
  },
  {
   "cell_type": "code",
   "execution_count": 66,
   "metadata": {
    "execution": {
     "iopub.execute_input": "2025-03-23T22:14:06.886241Z",
     "iopub.status.busy": "2025-03-23T22:14:06.885065Z",
     "iopub.status.idle": "2025-03-23T22:14:15.950502Z",
     "shell.execute_reply": "2025-03-23T22:14:15.949383Z",
     "shell.execute_reply.started": "2025-03-23T22:14:06.886198Z"
    },
    "tags": []
   },
   "outputs": [],
   "source": [
    "assistant.delete()\n",
    "index.delete()\n",
    "for f in df['Uploaded']:\n",
    "    f.delete()\n",
    "for f in uploaded_foodwine:\n",
    "    f.delete()"
   ]
  },
  {
   "cell_type": "code",
   "execution_count": 122,
   "metadata": {
    "execution": {
     "iopub.execute_input": "2025-04-01T14:13:04.665726Z",
     "iopub.status.busy": "2025-04-01T14:13:04.664437Z",
     "iopub.status.idle": "2025-04-01T14:13:09.139728Z",
     "shell.execute_reply": "2025-04-01T14:13:09.138686Z",
     "shell.execute_reply.started": "2025-04-01T14:13:04.665666Z"
    },
    "tags": []
   },
   "outputs": [
    {
     "name": "stdout",
     "output_type": "stream",
     "text": [
      " + deleting thread id=fvtalu3ssh0vc0k7qq4q\n",
      " + deleting thread id=fvtqjo2q5dkjo9ma601b\n",
      " + deleting thread id=fvtcgiagctjp9tagg8g1\n",
      " + deleting thread id=fvt5gvhtj2ot88vk6985\n",
      " + deleting thread id=fvt1bmicj757tnptd02q\n",
      " + deleting thread id=fvt6u7tmuvcill467vu9\n",
      " + deleting thread id=fvt5ure652pa8rhb1he6\n",
      " + deleting thread id=fvts3jtade5b9esbnshb\n",
      " + deleting thread id=fvtk1n1ljsdoshhd6m98\n",
      " + deleting thread id=fvttt2b29e0j2ov9cd22\n",
      " + deleting thread id=fvtif50q8ajmjhc00egp\n",
      " + deleting thread id=fvths9v8ie27smpp23kh\n",
      " + deleting thread id=fvt3svn7g1bsu5gjgo93\n",
      " + deleting thread id=fvtgaflgjic99n81vp73\n",
      " + deleting thread id=fvts42v0dtbu2hiirq0k\n",
      " + deleting thread id=fvtbjuano57qkeb57ana\n",
      " + deleting thread id=fvt25qcm4d0l01k8r8pq\n",
      " + deleting thread id=fvt7tpsuoleau3s7lp86\n",
      " + deleting thread id=fvtka65ts1sr87bguhbc\n",
      " + deleting thread id=fvtb8n0j2it10eldqu1e\n",
      " + deleting thread id=fvt2thjoj84saa8ttesg\n",
      " + deleting thread id=fvt34koqaqj3nbp1td0a\n",
      " + deleting thread id=fvtkibt75u9fgur7ohra\n",
      " + deleting thread id=fvtgnsqdaf10f0777vtj\n",
      " + deleting thread id=fvtn2ao9kbh3kg6rpppv\n",
      " + deleting thread id=fvtu7ojauipr7lvura7k\n",
      " + deleting thread id=fvtmi1sdkg9bv34fatdf\n",
      " ! Error\n",
      " + deleting thread id=fvtgchjftun6cthrfcs3\n",
      " ! Error\n",
      " + deleting thread id=fvt0fk0h42mf50ofin0b\n",
      " ! Error\n",
      " + deleting thread id=fvt2a02a0cleq9gk3j75\n",
      " ! Error\n",
      " + deleting thread id=fvt4iugnrk28pvtlk76t\n",
      " ! Error\n",
      " + deleting thread id=fvtiuhempeslu1i7qtnu\n",
      " ! Error\n",
      " + deleting thread id=fvtmubvkqhtfrqcsjduo\n",
      " ! Error\n",
      " + deleting thread id=fvtjfjds1aoo6f0r4ptj\n",
      " ! Error\n",
      " + deleting thread id=fvtaljptt0kjjuggnm93\n",
      " ! Error\n",
      " + deleting thread id=fvtsp56titc7hdtrkv54\n",
      " ! Error\n",
      " + deleting thread id=fvtm57amjtsq8gr12f6t\n",
      " ! Error\n",
      " + deleting thread id=fvtghqr56rcu9d80qs3k\n",
      " ! Error\n",
      " + deleting thread id=fvtk8gq8q6vrf22mkdto\n",
      " ! Error\n",
      " + deleting thread id=fvth7obnf78rmksv2ptg\n",
      " ! Error\n",
      " + deleting thread id=fvt59jcebc5san8tv4hl\n",
      " ! Error\n",
      " + deleting thread id=fvtrnoed344uq8ssahae\n",
      " ! Error\n",
      " + deleting thread id=fvtaurmqfovnlaifqh1h\n",
      " ! Error\n",
      " + deleting thread id=fvtnsbpvjn6aucnvfanh\n",
      " ! Error\n",
      " + deleting thread id=fvtij033n4431hetifcb\n",
      " ! Error\n",
      " + deleting thread id=fvtl0nusb2qcohnms8v5\n",
      " ! Error\n",
      " + deleting assistant id=fvt06820k9dnh0jmdnpa\n",
      " + deleting assistant id=fvtuf488dpfp8qe3mqbk\n",
      " + deleting assistant id=fvt94s8b0ov3prlpi1vo\n",
      " + deleting assistant id=fvtd84k3nr6dsia02lph\n",
      " + deleting assistant id=fvtsad7u3d595nt638lt\n",
      " + deleting assistant id=fvt6iagb0ovqeepi8d12\n",
      " + deleting assistant id=fvt3aekrrdhc2482kno4\n",
      " + deleting assistant id=fvtsrq32clegqrt60kq6\n",
      " + deleting assistant id=fvt5rr8e4unpl26msu52\n",
      " + deleting assistant id=fvt7qumc0j2fflmraqpu\n",
      " + deleting assistant id=fvtvlvcc91r5v6abvbbk\n",
      " + deleting assistant id=fvte61194nmu2mq46bi5\n",
      " + deleting assistant id=fvtqo3qhpuj59meq5303\n",
      " + deleting assistant id=fvt8cirsdkn66mvlkkup\n",
      " + deleting assistant id=fvt9kdt7ic5veg56gtii\n",
      " + deleting assistant id=fvtkolhqd0kvruqr1vhs\n",
      " + deleting assistant id=fvtjstti9laqausfva2n\n"
     ]
    }
   ],
   "source": [
    "for thread in sdk.threads.list():\n",
    "    print(f\" + deleting thread id={thread.id}\")\n",
    "    try:\n",
    "        thread.delete()\n",
    "    except:\n",
    "        print(\" ! Error\")\n",
    "for assistant in sdk.assistants.list():\n",
    "    print(f\" + deleting assistant id={assistant.id}\")\n",
    "    assistant.delete()"
   ]
  },
  {
   "cell_type": "code",
   "execution_count": 145,
   "metadata": {
    "execution": {
     "iopub.execute_input": "2025-03-31T19:09:50.253467Z",
     "iopub.status.busy": "2025-03-31T19:09:50.252257Z",
     "iopub.status.idle": "2025-03-31T19:09:50.589328Z",
     "shell.execute_reply": "2025-03-31T19:09:50.588289Z",
     "shell.execute_reply.started": "2025-03-31T19:09:50.253413Z"
    },
    "tags": []
   },
   "outputs": [
    {
     "name": "stdout",
     "output_type": "stream",
     "text": [
      " + Deleting files\n"
     ]
    },
    {
     "name": "stderr",
     "output_type": "stream",
     "text": [
      "0it [00:00, ?it/s]\n"
     ]
    }
   ],
   "source": [
    "from tqdm.auto import tqdm\n",
    "\n",
    "for index in sdk.search_indexes.list():\n",
    "    print(f\" + deleting index id={index.id}\")\n",
    "    index.delete()\n",
    "print(' + Deleting files')\n",
    "for file in tqdm(sdk.files.list()):\n",
    "    #print(f\" + deleting file id={file.id}\")\n",
    "    file.delete()"
   ]
  },
  {
   "cell_type": "code",
   "execution_count": null,
   "metadata": {},
   "outputs": [],
   "source": []
  }
 ],
 "metadata": {
  "kernelspec": {
   "display_name": "DataSphere Kernel",
   "language": "python",
   "name": "python3"
  },
  "language_info": {
   "codemirror_mode": {
    "name": "ipython",
    "version": 3
   },
   "file_extension": ".py",
   "mimetype": "text/x-python",
   "name": "python",
   "nbconvert_exporter": "python",
   "pygments_lexer": "ipython3",
   "version": "3.10.12"
  }
 },
 "nbformat": 4,
 "nbformat_minor": 4
}
