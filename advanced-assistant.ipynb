{
 "cells": [
  {
   "cell_type": "markdown",
   "metadata": {},
   "source": [
    "## Создание продвинутых ассистентов\n",
    "\n",
    "В этом ноутбуке мы попробуем создать и протестировать чат-ассистента на основе Completion API, RAG и Function Calling.\n",
    "\n",
    "Для начала, установим OpenAI SDK и другие полезные библиотеки:"
   ]
  },
  {
   "cell_type": "code",
   "execution_count": 26,
   "metadata": {
    "execution": {
     "iopub.execute_input": "2025-09-23T20:36:45.904493Z",
     "iopub.status.busy": "2025-09-23T20:36:45.902973Z",
     "iopub.status.idle": "2025-09-23T20:36:50.121153Z",
     "shell.execute_reply": "2025-09-23T20:36:50.119946Z",
     "shell.execute_reply.started": "2025-09-23T20:36:45.904437Z"
    },
    "tags": []
   },
   "outputs": [
    {
     "name": "stdout",
     "output_type": "stream",
     "text": [
      "Defaulting to user installation because normal site-packages is not writeable\n",
      "Requirement already satisfied: openai in /home/jupyter/.local/lib/python3.10/site-packages (1.109.0)\n",
      "Requirement already satisfied: pydantic in /home/jupyter/.local/lib/python3.10/site-packages (2.11.9)\n",
      "Requirement already satisfied: dotenv in /home/jupyter/.local/lib/python3.10/site-packages (0.9.9)\n",
      "Collecting tiktoken\n",
      "  Downloading tiktoken-0.11.0-cp310-cp310-manylinux_2_17_x86_64.manylinux2014_x86_64.whl.metadata (6.7 kB)\n",
      "Requirement already satisfied: anyio<5,>=3.5.0 in /usr/local/lib/python3.10/dist-packages (from openai) (3.7.1)\n",
      "Requirement already satisfied: distro<2,>=1.7.0 in /usr/lib/python3/dist-packages (from openai) (1.7.0)\n",
      "Requirement already satisfied: httpx<1,>=0.23.0 in /home/jupyter/.local/lib/python3.10/site-packages (from openai) (0.28.1)\n",
      "Requirement already satisfied: jiter<1,>=0.4.0 in /home/jupyter/.local/lib/python3.10/site-packages (from openai) (0.11.0)\n",
      "Requirement already satisfied: sniffio in /usr/local/lib/python3.10/dist-packages (from openai) (1.3.0)\n",
      "Requirement already satisfied: tqdm>4 in /usr/local/lib/python3.10/dist-packages (from openai) (4.65.0)\n",
      "Requirement already satisfied: typing-extensions<5,>=4.11 in /home/jupyter/.local/lib/python3.10/site-packages (from openai) (4.15.0)\n",
      "Requirement already satisfied: annotated-types>=0.6.0 in /home/jupyter/.local/lib/python3.10/site-packages (from pydantic) (0.7.0)\n",
      "Requirement already satisfied: pydantic-core==2.33.2 in /home/jupyter/.local/lib/python3.10/site-packages (from pydantic) (2.33.2)\n",
      "Requirement already satisfied: typing-inspection>=0.4.0 in /home/jupyter/.local/lib/python3.10/site-packages (from pydantic) (0.4.1)\n",
      "Requirement already satisfied: idna>=2.8 in /usr/local/lib/python3.10/dist-packages (from anyio<5,>=3.5.0->openai) (3.4)\n",
      "Requirement already satisfied: exceptiongroup in /usr/local/lib/python3.10/dist-packages (from anyio<5,>=3.5.0->openai) (1.1.2)\n",
      "Requirement already satisfied: certifi in /usr/local/lib/python3.10/dist-packages (from httpx<1,>=0.23.0->openai) (2023.7.22)\n",
      "Requirement already satisfied: httpcore==1.* in /home/jupyter/.local/lib/python3.10/site-packages (from httpx<1,>=0.23.0->openai) (1.0.9)\n",
      "Requirement already satisfied: h11>=0.16 in /home/jupyter/.local/lib/python3.10/site-packages (from httpcore==1.*->httpx<1,>=0.23.0->openai) (0.16.0)\n",
      "Requirement already satisfied: python-dotenv in /home/jupyter/.local/lib/python3.10/site-packages (from dotenv) (1.1.1)\n",
      "Requirement already satisfied: regex>=2022.1.18 in /usr/local/lib/python3.10/dist-packages (from tiktoken) (2022.10.31)\n",
      "Requirement already satisfied: requests>=2.26.0 in /usr/local/lib/python3.10/dist-packages (from tiktoken) (2.27.1)\n",
      "Requirement already satisfied: urllib3<1.27,>=1.21.1 in /usr/local/lib/python3.10/dist-packages (from requests>=2.26.0->tiktoken) (1.26.16)\n",
      "Requirement already satisfied: charset-normalizer~=2.0.0 in /usr/local/lib/python3.10/dist-packages (from requests>=2.26.0->tiktoken) (2.0.12)\n",
      "Downloading tiktoken-0.11.0-cp310-cp310-manylinux_2_17_x86_64.manylinux2014_x86_64.whl (1.2 MB)\n",
      "\u001b[2K   \u001b[90m━━━━━━━━━━━━━━━━━━━━━━━━━━━━━━━━━━━━━━━━\u001b[0m \u001b[32m1.2/1.2 MB\u001b[0m \u001b[31m6.1 MB/s\u001b[0m eta \u001b[36m0:00:00\u001b[0mta \u001b[36m0:00:01\u001b[0m\n",
      "\u001b[?25hInstalling collected packages: tiktoken\n",
      "Successfully installed tiktoken-0.11.0\n",
      "\n",
      "\u001b[1m[\u001b[0m\u001b[34;49mnotice\u001b[0m\u001b[1;39;49m]\u001b[0m\u001b[39;49m A new release of pip is available: \u001b[0m\u001b[31;49m23.0.1\u001b[0m\u001b[39;49m -> \u001b[0m\u001b[32;49m25.2\u001b[0m\n",
      "\u001b[1m[\u001b[0m\u001b[34;49mnotice\u001b[0m\u001b[1;39;49m]\u001b[0m\u001b[39;49m To update, run: \u001b[0m\u001b[32;49mpython3 -m pip install --upgrade pip\u001b[0m\n"
     ]
    }
   ],
   "source": [
    "%pip install --upgrade openai pydantic dotenv tiktoken"
   ]
  },
  {
   "cell_type": "markdown",
   "metadata": {},
   "source": [
    "**ВНИМАНИЕ**: После установки библиотек рекомендуется перезапустить Kernel ноутбука.\n",
    "\n",
    "И ещё полезная функция на будущее для печати markdown:"
   ]
  },
  {
   "cell_type": "code",
   "execution_count": 1,
   "metadata": {
    "execution": {
     "iopub.execute_input": "2025-09-23T20:34:00.757394Z",
     "iopub.status.busy": "2025-09-23T20:34:00.756225Z",
     "iopub.status.idle": "2025-09-23T20:34:00.841543Z",
     "shell.execute_reply": "2025-09-23T20:34:00.840407Z",
     "shell.execute_reply.started": "2025-09-23T20:34:00.757337Z"
    },
    "tags": []
   },
   "outputs": [],
   "source": [
    "from IPython.display import Markdown, display\n",
    "def printx(string):\n",
    "    display(Markdown(string))"
   ]
  },
  {
   "cell_type": "markdown",
   "metadata": {},
   "source": [
    "## Авторизация\n",
    "\n",
    "Для работы с языковыми моделями нам понадобится авторизоваться в Yandex Cloud. Это можно сделать несколькими способами:\n",
    "\n",
    "* через iam-токен. Для получения iam-токена необходимо создать авторизованный ключ доступа к сервисному аккаунту, и знать `service_accound_id`, `key_id` и `private_key`. Скачайте файл с ключами доступа `authorized_key.json`, и добавьте к нему поле `folder_id`\n",
    "* **[рекомендованный способ]** через ключ `api_key` для сервисного аккаунта, имеющего права на доступ к модели, и `folder_id`. Мы предполагаем, что соответствующие значения хранятся в секретах Datasphere или в переменных окружения. Если вы используете набор переменных окружения в файле `.env` - запустите следующую ячейку для их загрузки."
   ]
  },
  {
   "cell_type": "code",
   "execution_count": 2,
   "metadata": {
    "execution": {
     "iopub.execute_input": "2025-09-23T20:27:55.913405Z",
     "iopub.status.busy": "2025-09-23T20:27:55.911815Z",
     "iopub.status.idle": "2025-09-23T20:27:55.972839Z",
     "shell.execute_reply": "2025-09-23T20:27:55.971821Z",
     "shell.execute_reply.started": "2025-09-23T20:27:55.913347Z"
    },
    "tags": []
   },
   "outputs": [
    {
     "data": {
      "text/plain": [
       "True"
      ]
     },
     "execution_count": 2,
     "metadata": {},
     "output_type": "execute_result"
    }
   ],
   "source": [
    "from dotenv import load_dotenv\n",
    "load_dotenv()"
   ]
  },
  {
   "cell_type": "code",
   "execution_count": 3,
   "metadata": {
    "execution": {
     "iopub.execute_input": "2025-09-23T20:34:03.771832Z",
     "iopub.status.busy": "2025-09-23T20:34:03.770481Z",
     "iopub.status.idle": "2025-09-23T20:34:04.083300Z",
     "shell.execute_reply": "2025-09-23T20:34:04.082125Z",
     "shell.execute_reply.started": "2025-09-23T20:34:03.771776Z"
    },
    "tags": []
   },
   "outputs": [
    {
     "name": "stdout",
     "output_type": "stream",
     "text": [
      "Using IAM Token Auth with folder_id=b1gst3c7cskk2big5fqn\n"
     ]
    }
   ],
   "source": [
    "import json\n",
    "import os\n",
    "from util.iam_auth import get_iam\n",
    "\n",
    "if os.path.exists('authorized_key.json'):\n",
    "    with open('authorized_key.json') as f:\n",
    "        auth_key = json.load(f)\n",
    "    api_key = get_iam(auth_key['service_account_id'],auth_key['id'],auth_key['private_key'])\n",
    "    folder_id = auth_key['folder_id']\n",
    "    print(f\"Using IAM Token Auth with folder_id={folder_id}\")\n",
    "else:\n",
    "    folder_id = None"
   ]
  },
  {
   "cell_type": "markdown",
   "metadata": {},
   "source": [
    "Если файл с ключем не найден, то используем значения `api_key` из переменных окружения:"
   ]
  },
  {
   "cell_type": "code",
   "execution_count": 4,
   "metadata": {
    "execution": {
     "iopub.execute_input": "2025-09-23T20:29:42.518075Z",
     "iopub.status.busy": "2025-09-23T20:29:42.516710Z",
     "iopub.status.idle": "2025-09-23T20:29:42.655142Z",
     "shell.execute_reply": "2025-09-23T20:29:42.654120Z",
     "shell.execute_reply.started": "2025-09-23T20:29:42.518032Z"
    }
   },
   "outputs": [],
   "source": [
    "if folder_id is None:\n",
    "    folder_id = os.environ[\"folder_id\"]\n",
    "    api_key = os.environ[\"api_key\"]"
   ]
  },
  {
   "cell_type": "markdown",
   "metadata": {},
   "source": [
    "Создадим какую-нибудь модель из Foundation Models и убедимся, что она кое-что знает про вина. \n",
    "\n",
    "> ВНИМАНИЕ: Для правильной работы необходимо передать `folder_id` в параметр `project` при создании объекта OpenAI SDK."
   ]
  },
  {
   "cell_type": "code",
   "execution_count": 5,
   "metadata": {
    "execution": {
     "iopub.execute_input": "2025-09-23T20:34:07.857646Z",
     "iopub.status.busy": "2025-09-23T20:34:07.856234Z",
     "iopub.status.idle": "2025-09-23T20:34:09.358979Z",
     "shell.execute_reply": "2025-09-23T20:34:09.357849Z",
     "shell.execute_reply.started": "2025-09-23T20:34:07.857592Z"
    },
    "tags": []
   },
   "outputs": [],
   "source": [
    "import os\n",
    "from openai import OpenAI\n",
    "\n",
    "model = f\"gpt://{folder_id}/yandexgpt/rc\"\n",
    "model = f\"gpt://{folder_id}/gemma-3-27b-it/latest\"\n",
    "model = f\"gpt://{folder_id}/gpt-oss-120b/latest\"\n",
    "model = f\"gpt://{folder_id}/qwen3-235b-a22b-fp8/latest\"\n",
    "\n",
    "client = OpenAI(\n",
    "    base_url=\"https://rest-assistant.api.cloud.yandex.net/v1\",\n",
    "    api_key=api_key,\n",
    "    project=folder_id\n",
    ")"
   ]
  },
  {
   "cell_type": "code",
   "execution_count": 6,
   "metadata": {
    "execution": {
     "iopub.execute_input": "2025-09-23T20:30:28.311425Z",
     "iopub.status.busy": "2025-09-23T20:30:28.310396Z",
     "iopub.status.idle": "2025-09-23T20:30:48.601491Z",
     "shell.execute_reply": "2025-09-23T20:30:48.600091Z",
     "shell.execute_reply.started": "2025-09-23T20:30:28.311370Z"
    },
    "tags": []
   },
   "outputs": [
    {
     "data": {
      "text/markdown": [
       "Сочетание вина со стейком — классика гастрономии, и выбор зависит от вида мяса, способа приготовления и личных предпочтений. Вот основные рекомендации:\n",
       "\n",
       "### 1. **Красные вина — лучший выбор**\n",
       "Стейк (особенно из говядины) имеет насыщенный, мясной вкус с выраженной умами-нотой, поэтому он отлично сочетается с **крепкими, танинными красными винами**.\n",
       "\n",
       "---\n",
       "\n",
       "### 🍷 **Лучшие вина к стейку:**\n",
       "\n",
       "#### 🔹 **Каберне Совиньон (Cabernet Sauvignon)**\n",
       "- **Почему подходит**: Высокие танины и кислотность \"очищают\" рот после жирного мяса.\n",
       "- **Вкус**: чёрные ягоды, перец, дуб, табак.\n",
       "- **Идеально к**: стейкам с кровью (medium-rare), рибай, вагю.\n",
       "\n",
       "#### 🔹 **Малбек (Malbec)**\n",
       "- **Почему подходит**: сочный, фруктовый, с мягкой танинной структурой.\n",
       "- **Вкус**: чёрная вишня, слива, шоколад, дым.\n",
       "- **Идеально к**: гриль-стейкам, особенно из аргентинской говядины.\n",
       "\n",
       "#### 🔹 **Сира / Шираз (Syrah / Shiraz)**\n",
       "- **Почему подходит**: насыщенный, пряный, с дымными и перечными нотами.\n",
       "- **Вкус**: чёрный перец, оливки, дым, ежевика.\n",
       "- **Идеально к**: хорошо прожаренным стейкам, с прикорочкой.\n",
       "\n",
       "#### 🔹 **Неббиоло (Nebbiolo)** — например, **Бароло**\n",
       "- **Почему подходит**: мощное, танинное, сложное вино.\n",
       "- **Вкус**: роза, вишня, гриб, кожа.\n",
       "- **Идеально к**: выдержанным стейкам, вагю, филе-миньон.\n",
       "\n",
       "#### 🔹 **Зинфандель (Zinfandel)** — особенно **калifornийский**\n",
       "- **Почему подходит**: высокий градус, сладковатые фруктовые ноты.\n",
       "- **Вкус**: малина, инжир, корица.\n",
       "- **Идеально к**: стейкам с соусом барбекю или карамелизированной корочкой.\n",
       "\n",
       "---\n",
       "\n",
       "### ❗ Что избегать:\n",
       "- **Лёгкие красные вина** (например, Пино Нуар) — могут \"потеряться\" на фоне стейка.\n",
       "- **Белые вина** — редко сочетаются, **кроме исключений**:\n",
       "  - **Выдержанное шардоне** (полнотелое, с дубом) — может подойти к **филе-миньон**.\n",
       "  - **Орвието или Фуме Блан** — если стейк с острым соусом или азиатскими специями.\n",
       "\n",
       "---\n",
       "\n",
       "### 💡 Бонус: альтернативы\n",
       "- **Портвейн** (особенно к стейку с грибным соусом)\n",
       "- **Бургундское (Пино Нуар)** — если стейк нежирный (например, филе-миньон)\n",
       "- **Амброзия или Темпрание** — если хочется что-то менее танинное, но насыщенное\n",
       "\n",
       "---\n",
       "\n",
       "### ✅ Простое правило:\n",
       "> **Чем жирнее и прожареннее стейк — тем насыщеннее и таниннее должно быть вино.**\n",
       "\n",
       "---\n",
       "\n",
       "Хочешь — могу подсказать конкретное вино под твой стейк (назови вид мяса, степень прожарки и бюджет)."
      ],
      "text/plain": [
       "<IPython.core.display.Markdown object>"
      ]
     },
     "metadata": {},
     "output_type": "display_data"
    }
   ],
   "source": [
    "res = client.responses.create(\n",
    "    model = model,\n",
    "    input = \"Какое вино можно пить со стейком?\"\n",
    ")\n",
    "\n",
    "printx(res.output_text)"
   ]
  },
  {
   "cell_type": "markdown",
   "metadata": {},
   "source": [
    "## Responses API\n",
    "\n",
    "Когда мы используем запрос вида `client.responses.create` - мы используем так называемый Responses API. Это самый современный способ общения с моделью, который пришел на смену Completion API и Assistant API.\n",
    "\n",
    "При генерации ответа мы можем задать также системный промпт и другие параметры, например, уровень рассуждений модели:"
   ]
  },
  {
   "cell_type": "code",
   "execution_count": 7,
   "metadata": {
    "execution": {
     "iopub.execute_input": "2025-09-23T20:30:54.861155Z",
     "iopub.status.busy": "2025-09-23T20:30:54.859730Z",
     "iopub.status.idle": "2025-09-23T20:31:01.936637Z",
     "shell.execute_reply": "2025-09-23T20:31:01.935449Z",
     "shell.execute_reply.started": "2025-09-23T20:30:54.861099Z"
    },
    "tags": []
   },
   "outputs": [
    {
     "data": {
      "text/markdown": [
       "Привет! Рад приветствовать вас — с удовольствию помогу подобрать идеальное вино. Чтобы дать самый точный совет, давайте уточню несколько моментов:\n",
       "\n",
       "1. **На какое настроение или повод** ищем вино? (например, романтический ужин, вечер с друзьями, просто расслабиться)\n",
       "2. **Предпочитаете белое, красное, розовое, игристое или десертное вино?**\n",
       "3. **Любите вина сухие, полусладкие или сладкие?**\n",
       "4. Есть ли **блюдо, с которым будете пить вино**? (это очень важно для гармонии)\n",
       "5. Есть ли **бюджетный диапазон**?\n",
       "\n",
       "Но если хотите, могу сразу предложить пару универсальных вариантов, которые почти всегда радуют:\n",
       "\n",
       "- **Игристое**: *Prosecco DOCG из Венето (Италия)* — лёгкое, фруктовое, отлично подходит для начала вечера.\n",
       "- **Белое**: *Совиньон Блан из Новой Зеландии (например, Marlborough)* — свежее, с нотами цитрусов, зелёного яблока и крапивы. Отлично с морепродуктами.\n",
       "- **Красное**: *Пино Нуар из Бургундии (Франция) или Орегон (США)* — элегантное, с лёгкой танинностью, ароматами вишни, лесных ягод и земли.\n",
       "- **Для тех, кто любит насыщенные вина**: *Канео-Ново из Пьемонта (Италия)* — мощное, структурированное, с потенциалом выдержки.\n",
       "\n",
       "Расскажите чуть больше — и я подберу вино, которое действительно вам понравится! 🍷"
      ],
      "text/plain": [
       "<IPython.core.display.Markdown object>"
      ]
     },
     "metadata": {},
     "output_type": "display_data"
    }
   ],
   "source": [
    "res = client.responses.create(\n",
    "    model = model,\n",
    "    reasoning = { \"effort\" : \"low\" },\n",
    "    store = True,\n",
    "    instructions = \"Ты - опытный сомелье, задача которого - консультировать пользователя в вопросах выбора вина.\",\n",
    "    input = \"Привет! Какое вино посоветуете?\"\n",
    ")\n",
    "\n",
    "printx(res.output_text)"
   ]
  },
  {
   "cell_type": "markdown",
   "metadata": {},
   "source": [
    "Чтобы продолжить диалог, мы можем либо передать модели на вход всю историю диалога, либо указать ID предыдущего ответа, начиная с которого нужно продолжить диалог (при этом в предыдущем диалоге нам нужно указать `store=True`, чтобы переписка сохранялась):"
   ]
  },
  {
   "cell_type": "code",
   "execution_count": 8,
   "metadata": {
    "execution": {
     "iopub.execute_input": "2025-09-23T20:31:06.163878Z",
     "iopub.status.busy": "2025-09-23T20:31:06.162155Z",
     "iopub.status.idle": "2025-09-23T20:31:23.011959Z",
     "shell.execute_reply": "2025-09-23T20:31:23.010942Z",
     "shell.execute_reply.started": "2025-09-23T20:31:06.163811Z"
    },
    "tags": []
   },
   "outputs": [
    {
     "name": "stdout",
     "output_type": "stream",
     "text": [
      "ID предыдущего ответа: fd0fea44-66e3-4647-aa2f-a04217890549\n"
     ]
    },
    {
     "data": {
      "text/markdown": [
       "Ах, стейк — это классика! Отличный выбор, и вино к нему подобрать одно удовольствие. 🥩🍷\n",
       "\n",
       "Для **сочного стейка** (особенно если он с хорошей корочкой, приготовлен на гриле или в сковороде) идеально подойдут **насыщенные, структурированные красные вина** с выраженной танинностью и глубоким вкусом. Танины в вине отлично \"цепляются\" за жир и белок мяса, смягчаясь при этом, а вино раскрывается ещё ярче.\n",
       "\n",
       "Вот несколько отличных вариантов:\n",
       "\n",
       "---\n",
       "\n",
       "### 🔥 **1. Каберне Совиньон (Cabernet Sauvignon)**  \n",
       "**Регионы**: Напа Вэлли (Калифорния), Медок (Бордо, Франция)  \n",
       "**Что ожидать**: насыщенный вкус чёрной смородины, чёрного перца, кедра, табака, иногда ноты ванили от выдержки в дубе.  \n",
       "**Почему подходит**: плотная структура и танины идеально балансируют жирность стейка.\n",
       "\n",
       "> *Пример*: **Château Lynch-Bages (Пойяк, Бордо)** — эталонное бордо, или **Caymus Vineyards Cabernet Sauvignon (Калифорния)** — богатое, округлое, с шоколадными нотами.\n",
       "\n",
       "---\n",
       "\n",
       "### 🔥 **2. Сира/Шираз (Syrah/Shiraz)**  \n",
       "**Регионы**: Северное Рондо (Франция), Баросса Вэлли (Австралия)  \n",
       "**Что ожидать**: чёрные ягоды, дым, перец, оливки, бекон (особенно в стиле Ронда!), сладкие специи.  \n",
       "**Почему подходит**: пряность и глубина вкуса подчеркнут аромат обжаренного мяса.\n",
       "\n",
       "> *Пример*: **Guigal Côte-Rôtie** (Франция) — изысканно и элегантно, или **Henschke Hill of Grace** (Австралия) — легендарное вино, но дорогое; можно начать с **Yalumba Old Bush Vine Shiraz** — отличное соотношение цена/качество.\n",
       "\n",
       "---\n",
       "\n",
       "### 🔥 **3. Мальбек (Malbec)**  \n",
       "**Регион**: Мендоса (Аргентина)  \n",
       "**Что ожидать**: сочные ноты чёрной вишни, сливы, шоколада, лёгкая дымчатость. Мягкие танины, но насыщенный вкус.  \n",
       "**Почему подходит**: отлично ложится на язык после кусочка стейка, особенно если он с кровью.\n",
       "\n",
       "> *Пример*: **Catena Zapata Malbec Argentino** — эталон аргентинского Мальбека.\n",
       "\n",
       "---\n",
       "\n",
       "### 🔥 **4. Неббиоло (Nebbiolo)** — если хотите чего-то особенного  \n",
       "**Регион**: Пьемонт (Италия), Бароло или Барбареско  \n",
       "**Что ожидать**: вишня, роза, гвоздика, кожа, асфальт (в хорошем смысле!), высокие танины и кислотность.  \n",
       "**Почему подходит**: если стейк выдержан или приготовлен особенно тщательно — это вино добавит торжественности.\n",
       "\n",
       "> *Совет*: откройте бутылку за час до еды или дайте проветриться — Неббиоло любит воздух.\n",
       "\n",
       "---\n",
       "\n",
       "### 💡 Бонус: если любите **игристое** — попробуйте **Lambrusco Grasparossa di Castelvetro (Италия)**  \n",
       "Тёмное, слегка игристое, с ягодными нотами и лёгкой кислинкой — неожиданно отлично сочетается с жирным мясом!\n",
       "\n",
       "---\n",
       "\n",
       "Если подскажете, **какой именно стейк** (рибай, филе-миньон, ти-бон?), **какой степени прожарки** и, возможно, **бюджет**, — подберу конкретную бутылку.  \n",
       "А пока — мой топ-совет: **Каберне Совиньон из Напы или Мальбек из Мендосы** — и вечер будет идеальным. 🍷🔥"
      ],
      "text/plain": [
       "<IPython.core.display.Markdown object>"
      ]
     },
     "metadata": {},
     "output_type": "display_data"
    }
   ],
   "source": [
    "print(f\"ID предыдущего ответа: {res.id}\")\n",
    "\n",
    "res = client.responses.create(\n",
    "    model = model,\n",
    "    reasoning = { \"effort\" : \"low\" },\n",
    "    store = True,\n",
    "    previous_response_id = res.id,\n",
    "    input = \"Я буду есть стейк!\"\n",
    ")\n",
    "\n",
    "printx(res.output_text)"
   ]
  },
  {
   "cell_type": "markdown",
   "metadata": {},
   "source": [
    "## Function Calling\n",
    "\n",
    "Предположим, мы делаем ассистента для магазина вин, который торгует винами по некоторому прайс-листу. Возьмём пример такого прайс-листа:"
   ]
  },
  {
   "cell_type": "code",
   "execution_count": 9,
   "metadata": {
    "execution": {
     "iopub.execute_input": "2025-09-23T20:34:17.895278Z",
     "iopub.status.busy": "2025-09-23T20:34:17.894280Z",
     "iopub.status.idle": "2025-09-23T20:34:18.331128Z",
     "shell.execute_reply": "2025-09-23T20:34:18.330100Z",
     "shell.execute_reply.started": "2025-09-23T20:34:17.895208Z"
    },
    "tags": []
   },
   "outputs": [
    {
     "data": {
      "text/html": [
       "<div>\n",
       "<style scoped>\n",
       "    .dataframe tbody tr th:only-of-type {\n",
       "        vertical-align: middle;\n",
       "    }\n",
       "\n",
       "    .dataframe tbody tr th {\n",
       "        vertical-align: top;\n",
       "    }\n",
       "\n",
       "    .dataframe thead th {\n",
       "        text-align: right;\n",
       "    }\n",
       "</style>\n",
       "<table border=\"1\" class=\"dataframe\">\n",
       "  <thead>\n",
       "    <tr style=\"text-align: right;\">\n",
       "      <th></th>\n",
       "      <th>Id</th>\n",
       "      <th>Name</th>\n",
       "      <th>Country</th>\n",
       "      <th>Price</th>\n",
       "      <th>WHPrice</th>\n",
       "      <th>etc</th>\n",
       "      <th>Acidity</th>\n",
       "      <th>Color</th>\n",
       "      <th>Volume</th>\n",
       "    </tr>\n",
       "  </thead>\n",
       "  <tbody>\n",
       "    <tr>\n",
       "      <th>0</th>\n",
       "      <td>56885</td>\n",
       "      <td>САССИКАЙЯ КР СХ</td>\n",
       "      <td>IT</td>\n",
       "      <td>27799.000</td>\n",
       "      <td>19459.3000</td>\n",
       "      <td>NaN</td>\n",
       "      <td>Сухое</td>\n",
       "      <td>Красное</td>\n",
       "      <td>0.750</td>\n",
       "    </tr>\n",
       "    <tr>\n",
       "      <th>1</th>\n",
       "      <td>666560</td>\n",
       "      <td>СИЕПИ МАЗЕЙ КР СХ</td>\n",
       "      <td>IT</td>\n",
       "      <td>15999.000</td>\n",
       "      <td>11199.3000</td>\n",
       "      <td>NaN</td>\n",
       "      <td>Сухое</td>\n",
       "      <td>Красное</td>\n",
       "      <td>0.750</td>\n",
       "    </tr>\n",
       "    <tr>\n",
       "      <th>2</th>\n",
       "      <td>533769</td>\n",
       "      <td>ПАЛАФРЕНО КР СХ</td>\n",
       "      <td>IT</td>\n",
       "      <td>14999.004</td>\n",
       "      <td>10499.3028</td>\n",
       "      <td>NaN</td>\n",
       "      <td>Сухое</td>\n",
       "      <td>Красное</td>\n",
       "      <td>0.750</td>\n",
       "    </tr>\n",
       "    <tr>\n",
       "      <th>3</th>\n",
       "      <td>93733</td>\n",
       "      <td>АНТ ТИНЬЯНЕЛЛО КР СХ</td>\n",
       "      <td>IT</td>\n",
       "      <td>14499.012</td>\n",
       "      <td>10149.3084</td>\n",
       "      <td>NaN</td>\n",
       "      <td>Сухое</td>\n",
       "      <td>Красное</td>\n",
       "      <td>0.750</td>\n",
       "    </tr>\n",
       "    <tr>\n",
       "      <th>4</th>\n",
       "      <td>644863</td>\n",
       "      <td>ШАТО МОНРОЗ КР СХ</td>\n",
       "      <td>FR</td>\n",
       "      <td>12999.000</td>\n",
       "      <td>9099.3000</td>\n",
       "      <td>от промо цены</td>\n",
       "      <td>Сухое</td>\n",
       "      <td>Красное</td>\n",
       "      <td>0.750</td>\n",
       "    </tr>\n",
       "    <tr>\n",
       "      <th>...</th>\n",
       "      <td>...</td>\n",
       "      <td>...</td>\n",
       "      <td>...</td>\n",
       "      <td>...</td>\n",
       "      <td>...</td>\n",
       "      <td>...</td>\n",
       "      <td>...</td>\n",
       "      <td>...</td>\n",
       "      <td>...</td>\n",
       "    </tr>\n",
       "    <tr>\n",
       "      <th>747</th>\n",
       "      <td>61418</td>\n",
       "      <td>КАГОР ТАМ КР СЛ</td>\n",
       "      <td>RU</td>\n",
       "      <td>179.004</td>\n",
       "      <td>125.3028</td>\n",
       "      <td>от промо цены</td>\n",
       "      <td>Сладкое</td>\n",
       "      <td>Красное</td>\n",
       "      <td>0.700</td>\n",
       "    </tr>\n",
       "    <tr>\n",
       "      <th>748</th>\n",
       "      <td>615581</td>\n",
       "      <td>ДЖАСТ МЕРЛО КР СХ</td>\n",
       "      <td>FR</td>\n",
       "      <td>149.004</td>\n",
       "      <td>104.3028</td>\n",
       "      <td>NaN</td>\n",
       "      <td>Сухое</td>\n",
       "      <td>Красное</td>\n",
       "      <td>0.187</td>\n",
       "    </tr>\n",
       "    <tr>\n",
       "      <th>749</th>\n",
       "      <td>615582</td>\n",
       "      <td>ДЖАСТ КБСВ КР СХ</td>\n",
       "      <td>FR</td>\n",
       "      <td>149.004</td>\n",
       "      <td>104.3028</td>\n",
       "      <td>NaN</td>\n",
       "      <td>Сухое</td>\n",
       "      <td>Красное</td>\n",
       "      <td>0.187</td>\n",
       "    </tr>\n",
       "    <tr>\n",
       "      <th>750</th>\n",
       "      <td>83302</td>\n",
       "      <td>АДАГУМ КБСВ КР СХ</td>\n",
       "      <td>RU</td>\n",
       "      <td>119.004</td>\n",
       "      <td>83.3028</td>\n",
       "      <td>NaN</td>\n",
       "      <td>Сухое</td>\n",
       "      <td>Красное</td>\n",
       "      <td>0.187</td>\n",
       "    </tr>\n",
       "    <tr>\n",
       "      <th>751</th>\n",
       "      <td>482447</td>\n",
       "      <td>АВТОРСКОЕ №1 КР СХ</td>\n",
       "      <td>RU</td>\n",
       "      <td>119.000</td>\n",
       "      <td>83.3000</td>\n",
       "      <td>NaN</td>\n",
       "      <td>Сухое</td>\n",
       "      <td>Красное</td>\n",
       "      <td>0.187</td>\n",
       "    </tr>\n",
       "  </tbody>\n",
       "</table>\n",
       "<p>752 rows × 9 columns</p>\n",
       "</div>"
      ],
      "text/plain": [
       "         Id                   Name Country      Price     WHPrice  \\\n",
       "0     56885        САССИКАЙЯ КР СХ      IT  27799.000  19459.3000   \n",
       "1    666560      СИЕПИ МАЗЕЙ КР СХ      IT  15999.000  11199.3000   \n",
       "2    533769        ПАЛАФРЕНО КР СХ      IT  14999.004  10499.3028   \n",
       "3     93733   АНТ ТИНЬЯНЕЛЛО КР СХ      IT  14499.012  10149.3084   \n",
       "4    644863      ШАТО МОНРОЗ КР СХ      FR  12999.000   9099.3000   \n",
       "..      ...                    ...     ...        ...         ...   \n",
       "747   61418        КАГОР ТАМ КР СЛ      RU    179.004    125.3028   \n",
       "748  615581      ДЖАСТ МЕРЛО КР СХ      FR    149.004    104.3028   \n",
       "749  615582       ДЖАСТ КБСВ КР СХ      FR    149.004    104.3028   \n",
       "750   83302      АДАГУМ КБСВ КР СХ      RU    119.004     83.3028   \n",
       "751  482447     АВТОРСКОЕ №1 КР СХ      RU    119.000     83.3000   \n",
       "\n",
       "                etc  Acidity    Color  Volume  \n",
       "0               NaN    Сухое  Красное   0.750  \n",
       "1               NaN    Сухое  Красное   0.750  \n",
       "2               NaN    Сухое  Красное   0.750  \n",
       "3               NaN    Сухое  Красное   0.750  \n",
       "4    от промо цены     Сухое  Красное   0.750  \n",
       "..              ...      ...      ...     ...  \n",
       "747  от промо цены   Сладкое  Красное   0.700  \n",
       "748             NaN    Сухое  Красное   0.187  \n",
       "749             NaN    Сухое  Красное   0.187  \n",
       "750             NaN    Сухое  Красное   0.187  \n",
       "751             NaN    Сухое  Красное   0.187  \n",
       "\n",
       "[752 rows x 9 columns]"
      ]
     },
     "execution_count": 9,
     "metadata": {},
     "output_type": "execute_result"
    }
   ],
   "source": [
    "import pandas as pd\n",
    "\n",
    "pl = pd.read_excel(\"data/wine-price-ru.xlsx\")\n",
    "pl"
   ]
  },
  {
   "cell_type": "markdown",
   "metadata": {},
   "source": [
    "Предположим, мы хотим научиться отвечать на вопросы по прайс-листу, например, какое есть самое дешевое красное вино из Италии. Это можно сделать несколькими способами:\n",
    "\n",
    "* Попытаться закинуть прайс-лист в контекст модели. Этот подход будет работать только для очень небольших таблиц. Конечно, можно попробовать использовать RAG (подробнее про это ниже), но без видения всей таблицы модель не сможет найти самое дешевое вино.\n",
    "* Попытаться организовать трансляцию запроса не естественном языке в SQL-подобный язык. Это идеальный вариант, но его сложно сделать без ошибок без fine-tuning-а модели. \n",
    "* Извлечь из текстового запроса основные параметры того, что хочет пользователь, и затем сформировать на этой основе запрос, извлечающий данные из таблицы. Такой подход описан, например, в статье [Querying Databases with Function Calling](https://arxiv.org/html/2502.00032v1)\n",
    "\n",
    "В любом случае, два последних варианта подразумевают использование технологии Function Calling - когда модель может сама решить, когда ей надо вызвать некоторую **внешнюю функцию**, и какие параметры нужно ей передать.\n",
    "\n",
    "Чтобы function calling работал - нам надо сообщить LLM о доступных **инструментах**. Это можно сделать, передав с помощью JSON-схемы описание возможностей таких инструментов и их параметров.\n",
    "\n",
    "Часто, чтобы не писать JSON-схему для function calling вручную, используют типизированные объекты Pyton pydantic. Для извлечения параметров запроса о вине, мы создадим такой объект: "
   ]
  },
  {
   "cell_type": "code",
   "execution_count": 10,
   "metadata": {
    "execution": {
     "iopub.execute_input": "2025-09-23T20:34:22.572364Z",
     "iopub.status.busy": "2025-09-23T20:34:22.570808Z",
     "iopub.status.idle": "2025-09-23T20:34:22.618761Z",
     "shell.execute_reply": "2025-09-23T20:34:22.617491Z",
     "shell.execute_reply.started": "2025-09-23T20:34:22.572318Z"
    },
    "tags": []
   },
   "outputs": [],
   "source": [
    "from pydantic import BaseModel, Field\n",
    "from typing import Optional\n",
    "\n",
    "class SearchWinePriceList(BaseModel):\n",
    "    \"\"\"Эта функция позволяет искать вина в прайс-листе по одному или нескольким параметрам.\"\"\"\n",
    "\n",
    "    name: str = Field(description=\"Название вина\", default=None)\n",
    "    country: str = Field(description=\"Страна на русском языке\", default=None)\n",
    "    acidity: str = Field(\n",
    "        description=\"Кислотность (сухое, полусухое, сладкое, полусладкое)\", default=None\n",
    "    )\n",
    "    color: str = Field(description=\"Цвет вина (красное, белое, розовое)\", default=None)\n",
    "    sort_order: str = Field(\n",
    "        description=\"Порядок выдачи (most expensive, cheapest, random, average)\",\n",
    "        default=None,\n",
    "    )\n",
    "    what_to_return: str = Field(\n",
    "        description=\"Что вернуть (wine info или price)\", default=None\n",
    "    )"
   ]
  },
  {
   "cell_type": "markdown",
   "metadata": {},
   "source": [
    "Теперь создадим инструмент (tool) и передадим его в запрос модели. Также в инструкции ассистенту пропишем, что он может использовать Function Calling."
   ]
  },
  {
   "cell_type": "code",
   "execution_count": 11,
   "metadata": {
    "execution": {
     "iopub.execute_input": "2025-09-23T20:34:24.096129Z",
     "iopub.status.busy": "2025-09-23T20:34:24.094770Z",
     "iopub.status.idle": "2025-09-23T20:34:25.797993Z",
     "shell.execute_reply": "2025-09-23T20:34:25.796900Z",
     "shell.execute_reply.started": "2025-09-23T20:34:24.096068Z"
    },
    "tags": []
   },
   "outputs": [
    {
     "data": {
      "text/plain": [
       "{'id': 'abe69701-fce3-45dd-9b64-3626763d2040',\n",
       " 'created_at': 1759076038414.0,\n",
       " 'error': None,\n",
       " 'incomplete_details': None,\n",
       " 'instructions': '\\nТы - опытный сомелье, в задачу которого входит отвечать на вопросы пользователя про вина\\nи рекомендовать лучшие вина к еде, а также искать вина в прайс-листе нашего магазина. \\nПосмотри на всю имеющуюся в твоем распоряжении информацию\\nи выдай одну или несколько лучших рекомендаций. Если вопрос касается конкретных вин\\nили цены, то используй Function Calling.\\nЕсли что-то непонятно, то лучше уточни информацию у пользователя.\\n',\n",
       " 'metadata': None,\n",
       " 'model': 'gpt://b1gst3c7cskk2big5fqn/qwen3-235b-a22b-fp8/latest',\n",
       " 'object': 'response',\n",
       " 'output': [{'arguments': '{\"country\": \"Австралия\", \"sort_order\": \"cheapest\", \"what_to_return\": \"wine info\"}',\n",
       "   'call_id': 'chatcmpl-tool-302387f5319343ac93cc679cf9f81799',\n",
       "   'name': 'Exercise',\n",
       "   'type': 'function_call',\n",
       "   'id': 'chatcmpl-tool-302387f5319343ac93cc679cf9f81799',\n",
       "   'status': 'completed',\n",
       "   'valid': True}],\n",
       " 'parallel_tool_calls': True,\n",
       " 'temperature': None,\n",
       " 'tool_choice': 'auto',\n",
       " 'tools': [{'name': 'Exercise',\n",
       "   'parameters': {'description': 'Эта функция позволяет искать вина в прайс-листе по одному или нескольким параметрам.',\n",
       "    'properties': {'name': {'default': None,\n",
       "      'description': 'Название вина',\n",
       "      'title': 'Name',\n",
       "      'type': 'string'},\n",
       "     'country': {'default': None,\n",
       "      'description': 'Страна на русском языке',\n",
       "      'title': 'Country',\n",
       "      'type': 'string'},\n",
       "     'acidity': {'default': None,\n",
       "      'description': 'Кислотность (сухое, полусухое, сладкое, полусладкое)',\n",
       "      'title': 'Acidity',\n",
       "      'type': 'string'},\n",
       "     'color': {'default': None,\n",
       "      'description': 'Цвет вина (красное, белое, розовое)',\n",
       "      'title': 'Color',\n",
       "      'type': 'string'},\n",
       "     'sort_order': {'default': None,\n",
       "      'description': 'Порядок выдачи (most expensive, cheapest, random, average)',\n",
       "      'title': 'Sort Order',\n",
       "      'type': 'string'},\n",
       "     'what_to_return': {'default': None,\n",
       "      'description': 'Что вернуть (wine info или price)',\n",
       "      'title': 'What To Return',\n",
       "      'type': 'string'}},\n",
       "    'title': 'SearchWinePriceList',\n",
       "    'type': 'object'},\n",
       "   'strict': None,\n",
       "   'type': 'function',\n",
       "   'description': 'Вызывай, когда пользователь хочет получить информацию о конкретных винах или их стоимости.',\n",
       "   'valid': True}],\n",
       " 'top_p': None,\n",
       " 'background': False,\n",
       " 'max_output_tokens': None,\n",
       " 'max_tool_calls': None,\n",
       " 'previous_response_id': None,\n",
       " 'prompt': None,\n",
       " 'reasoning': None,\n",
       " 'service_tier': None,\n",
       " 'status': 'completed',\n",
       " 'text': None,\n",
       " 'top_logprobs': None,\n",
       " 'truncation': None,\n",
       " 'usage': None,\n",
       " 'user': '',\n",
       " 'valid': True}"
      ]
     },
     "execution_count": 11,
     "metadata": {},
     "output_type": "execute_result"
    }
   ],
   "source": [
    "tools = [\n",
    "    {\n",
    "        \"type\": \"function\",\n",
    "        \"name\": \"Exercise\",\n",
    "        \"description\": \"Вызывай, когда пользователь хочет получить информацию о конкретных винах или их стоимости.\",\n",
    "        \"parameters\": SearchWinePriceList.model_json_schema(),\n",
    "    }\n",
    "]\n",
    "\n",
    "instruction = \"\"\"\n",
    "Ты - опытный сомелье, в задачу которого входит отвечать на вопросы пользователя про вина\n",
    "и рекомендовать лучшие вина к еде, а также искать вина в прайс-листе нашего магазина. \n",
    "Посмотри на всю имеющуюся в твоем распоряжении информацию\n",
    "и выдай одну или несколько лучших рекомендаций. Если вопрос касается конкретных вин\n",
    "или цены, то используй Function Calling.\n",
    "Если что-то непонятно, то лучше уточни информацию у пользователя.\n",
    "\"\"\"\n",
    "\n",
    "res = client.responses.create(\n",
    "    model = model,\n",
    "    store = True,\n",
    "    tools = tools,\n",
    "    instructions = instruction,\n",
    "    input = \"Какое самое дешевое вино из Австралии?\"\n",
    ")\n",
    "res.to_dict()"
   ]
  },
  {
   "cell_type": "markdown",
   "metadata": {},
   "source": [
    "Видим, что в итоге вернулся ответ, указывающий, что надо сделать Funtion Call для получения данных из таблицы. При это LLM извлекла из текста все параметры запроса.\n",
    "\n",
    "Реализуем функцию, которая возвращает список вин по параметрам, заданным в виде объекта `SearchWinePriceList`:"
   ]
  },
  {
   "cell_type": "code",
   "execution_count": 12,
   "metadata": {
    "execution": {
     "iopub.execute_input": "2025-09-23T20:34:38.997004Z",
     "iopub.status.busy": "2025-09-23T20:34:38.995031Z",
     "iopub.status.idle": "2025-09-23T20:34:39.020579Z",
     "shell.execute_reply": "2025-09-23T20:34:39.019489Z",
     "shell.execute_reply.started": "2025-09-23T20:34:38.996950Z"
    },
    "tags": []
   },
   "outputs": [
    {
     "name": "stdout",
     "output_type": "stream",
     "text": [
      "Вот какие вина были найдены:\n",
      " ДЖИНДАЛИ КБСВ КР ПСХ (Австралия) - 499.0\n",
      " ДЖИНДАЛИ МЕРЛО КР ПСХ (Австралия) - 499.0\n",
      " ЧОЛК ХИЛЛ ШИРАЗ КР СХ (Австралия) - 509.0\n",
      " ПИТ'С ПЮР ПННР КР ПСХ (Австралия) - 579.0\n",
      " ПИТ'С ПЮР ШИРАЗ КР ПСХ (Австралия) - 579.0\n",
      " СТАМП ДЖАМП КР СХ (Австралия) - 789.0\n",
      " ЛИНД БИН50 ШИР КР ПСХ (Австралия) - 899.0\n",
      " ЛЭКИ ШИРАЗ КРСХ (Австралия) - 978.996\n",
      " СТЭДФАСТ ШИР КАБ КРСХ (Австралия) - 999.0\n",
      " ТИРРЕЛЗ ШИР КР СХ (Австралия) - 1098.996\n"
     ]
    }
   ],
   "source": [
    "country_map = {\n",
    "    \"IT\": \"Италия\",\n",
    "    \"FR\": \"Франция\",\n",
    "    \"ES\": \"Испания\",\n",
    "    \"RU\": \"Россия\",\n",
    "    \"PT\": \"Португалия\",\n",
    "    \"AR\": \"Армения\",\n",
    "    \"CL\": \"Чили\",\n",
    "    \"AU\": \"Австрия\",\n",
    "    \"GE\": \"Грузия\",\n",
    "    \"ZA\": \"ЮАР\",\n",
    "    \"US\": \"США\",\n",
    "    \"NZ\": \"Новая Зеландия\",\n",
    "    \"DE\": \"Германия\",\n",
    "    \"AT\": \"Австрия\",\n",
    "    \"IL\": \"Израиль\",\n",
    "    \"BG\": \"Болгария\",\n",
    "    \"GR\": \"Греция\",\n",
    "    \"AU\": \"Австралия\",\n",
    "}\n",
    "\n",
    "revmap = {v.lower(): k for k, v in country_map.items()}\n",
    "\n",
    "\n",
    "def find_wines(req):\n",
    "    x = pl.copy()\n",
    "    if req.country and req.country.lower() in revmap.keys():\n",
    "        x = x[x[\"Country\"] == revmap[req.country.lower()]]\n",
    "    if req.acidity:\n",
    "        x = x[x[\"Acidity\"] == req.acidity.capitalize()]\n",
    "    if req.color:\n",
    "        x = x[x[\"Color\"] == req.color.capitalize()]\n",
    "    if req.name:\n",
    "        x = x[x[\"Name\"].apply(lambda x: req.name.lower() in x.lower())]\n",
    "    if req.sort_order and len(x)>0:\n",
    "        if req.sort_order == \"cheapest\":\n",
    "            x = x.sort_values(by=\"Price\")\n",
    "        elif req.sort_order == \"most expensive\":\n",
    "            x = x.sort_values(by=\"Price\", ascending=False)\n",
    "        else:\n",
    "            pass\n",
    "    if x is None or len(x) == 0:\n",
    "        return \"Подходящих вин не найдено\"\n",
    "    return \"Вот какие вина были найдены:\\n\" + \"\\n\".join(\n",
    "        [\n",
    "            f\"{z['Name']} ({country_map.get(z['Country'],'Неизвестно')}) - {z['Price']}\"\n",
    "            for _, z in x.head(10).iterrows()\n",
    "        ]\n",
    "    )\n",
    "\n",
    "\n",
    "print(find_wines(SearchWinePriceList(country=\"Австралия\", sort_order=\"cheapest\")))"
   ]
  },
  {
   "cell_type": "markdown",
   "metadata": {},
   "source": [
    "В ответ на Function Call нам нужно сформировать ответ от функции, и передать её обратно для обработки языковой моделью. В нашем случае функция может быть только одна, поэтому мы не проверяем название функции, а всегда запрашиваем поиск в таблице:"
   ]
  },
  {
   "cell_type": "code",
   "execution_count": 13,
   "metadata": {
    "execution": {
     "iopub.execute_input": "2025-09-23T20:34:41.547786Z",
     "iopub.status.busy": "2025-09-23T20:34:41.546454Z",
     "iopub.status.idle": "2025-09-23T20:34:44.166284Z",
     "shell.execute_reply": "2025-09-23T20:34:44.165201Z",
     "shell.execute_reply.started": "2025-09-23T20:34:41.547728Z"
    },
    "tags": []
   },
   "outputs": [
    {
     "name": "stdout",
     "output_type": "stream",
     "text": [
      " + Обрабатываем: Exercise (call_id=chatcmpl-tool-302387f5319343ac93cc679cf9f81799, args={\"country\": \"Австралия\", \"sort_order\": \"cheapest\", \"what_to_return\": \"wine info\"})\n",
      " + Результат: Вот какие вина были найдены:\n",
      " ДЖИНДАЛИ КБСВ КР ПСХ (Австралия) - 499.0\n",
      " ДЖИНДАЛИ МЕРЛО КР ПСХ (Австралия) - 499.0\n",
      " ЧОЛК ХИЛЛ ШИРАЗ КР СХ (Австралия) - 509.0\n",
      " ПИТ'С ПЮР ПННР КР ПСХ (Австралия) - 579.0\n",
      " ПИТ'С ПЮР ШИРАЗ КР ПСХ (Австралия) - 579.0\n",
      " СТАМП ДЖАМП КР СХ (Австралия) - 789.0\n",
      " ЛИНД БИН50 ШИР КР ПСХ (Австралия) - 899.0\n",
      " ЛЭКИ ШИРАЗ КРСХ (Австралия) - 978.996\n",
      " СТЭДФАСТ ШИР КАБ КРСХ (Австралия) - 999.0\n",
      " ТИРРЕЛЗ ШИР КР СХ (Австралия) - 1098.996\n"
     ]
    },
    {
     "data": {
      "text/markdown": [
       "Самые дешёвые вина из Австралии стоят **499 рублей**. Это:\n",
       "\n",
       "- **ДЖИНДАЛИ КБСВ КР ПСХ** (красное, полусладкое)\n",
       "- **ДЖИНДАЛИ МЕРЛО КР ПСХ** (красное, полусладкое)\n",
       "\n",
       "Оба вина имеют одинаковую цену и являются наименее дорогими в линейке австралийских вин в вашем прайс-листе."
      ],
      "text/plain": [
       "<IPython.core.display.Markdown object>"
      ]
     },
     "metadata": {},
     "output_type": "display_data"
    }
   ],
   "source": [
    "import json \n",
    "\n",
    "tool_calls = [item for item in res.output if item.type == \"function_call\"]\n",
    "\n",
    "if tool_calls:\n",
    "    out = []\n",
    "    for call in tool_calls:\n",
    "        print(f\" + Обрабатываем: {call.name} (call_id={call.call_id}, args={call.arguments})\")\n",
    "        try:\n",
    "            args = json.loads(call.arguments)\n",
    "            args = SearchWinePriceList.model_validate(args)\n",
    "            result = find_wines(args)\n",
    "        except Exception as e:\n",
    "            result = f\"Ошибка: {e}\"\n",
    "        print(f\" + Результат: {result}\")\n",
    "        out.append({\n",
    "            \"type\": \"function_call_output\",\n",
    "            \"call_id\": call.call_id,\n",
    "            \"output\": result\n",
    "        })\n",
    "        res = client.responses.create(\n",
    "            model=model,\n",
    "            input=out,\n",
    "            tools=tools,\n",
    "            previous_response_id=res.id,\n",
    "            store=True\n",
    "        )\n",
    "\n",
    "printx(res.output_text)"
   ]
  },
  {
   "cell_type": "markdown",
   "metadata": {},
   "source": [
    "Таким образом, для вызова функции необходимо:\n",
    "* Сообщить модели о доступных функциях\n",
    "* При вызове модели обработать функциональный вызов, если в результате вызова модель вернула соответствующий ответ\n",
    "\n",
    "## Релизуем агента с Function Calling\n",
    "\n",
    "Для реализации полноценного ассистента добавим ещё функцию добавления вина в корзину, распечатку корзины и передачи общения оператору.\n",
    "\n",
    "Немного структурируем наш код:\n",
    "* Добавим функцию для обработки вызова фукции прямо в класс с описанием данных\n",
    "* Создадим класс `Assistant`, который будет реализовывать функциональный вызов, а также автоматически поддерживать диалог, запоминая идентификаторы предыдущих ответов.\n",
    "\n",
    "> Чтобы ассистент мог поддерживать диалог сразу с несколькими пользователями, нам нужно также ввести некоторый идентификатор сессии `session_id`, и для каждой сессии помнить свою историю переписки и `id` последнего сообщения. Идентификатор сессии мы также будет передавать во все функции `session_id`.\n"
   ]
  },
  {
   "cell_type": "code",
   "execution_count": 14,
   "metadata": {
    "execution": {
     "iopub.execute_input": "2025-09-23T20:34:48.242485Z",
     "iopub.status.busy": "2025-09-23T20:34:48.240943Z",
     "iopub.status.idle": "2025-09-23T20:34:48.268364Z",
     "shell.execute_reply": "2025-09-23T20:34:48.267366Z",
     "shell.execute_reply.started": "2025-09-23T20:34:48.242432Z"
    },
    "tags": []
   },
   "outputs": [],
   "source": [
    "class SearchWinePriceList(BaseModel):\n",
    "    \"\"\"Эта функция позволяет искать вина в прайс-листе по одному или нескольким параметрам.\"\"\"\n",
    "\n",
    "    name: str = Field(description=\"Название вина\", default=None)\n",
    "    country: str = Field(description=\"Страна на русском языке\", default=None)\n",
    "    acidity: str = Field(\n",
    "        description=\"Кислотность (сухое, полусухое, сладкое, полусладкое)\", default=None\n",
    "    )\n",
    "    color: str = Field(description=\"Цвет вина (красное, белое, розовое)\", default=None)\n",
    "    sort_order: str = Field(\n",
    "        description=\"Порядок выдачи (most expensive, cheapest, random, average)\",\n",
    "        default=None,\n",
    "    )\n",
    "    what_to_return: str = Field(\n",
    "        description=\"Что вернуть (wine info или price)\", default=None\n",
    "    )\n",
    "\n",
    "    def process(self, session_id):\n",
    "        return find_wines(self)"
   ]
  },
  {
   "cell_type": "markdown",
   "metadata": {},
   "source": [
    "Также в виде функции реализуем функциональность передачи управления оператору. В данном случае мы будем просто устанавливать некоторый глобальный флаг `handover` - это очень грубое решение и сделано для простоты, в реальной жизни надо будет подумать над более правильной логикой, поддерживающей нескольких пользователей."
   ]
  },
  {
   "cell_type": "code",
   "execution_count": 15,
   "metadata": {
    "execution": {
     "iopub.execute_input": "2025-09-23T20:34:49.544037Z",
     "iopub.status.busy": "2025-09-23T20:34:49.542798Z",
     "iopub.status.idle": "2025-09-23T20:34:49.573795Z",
     "shell.execute_reply": "2025-09-23T20:34:49.572551Z",
     "shell.execute_reply.started": "2025-09-23T20:34:49.543994Z"
    },
    "tags": []
   },
   "outputs": [],
   "source": [
    "handover = False\n",
    "\n",
    "class Handover(BaseModel):\n",
    "    \"\"\"Эта функция позволяет передать диалог человеку-оператору поддержки\"\"\"\n",
    "\n",
    "    reason: str = Field(\n",
    "        description=\"Причина для вызова оператора\", default=\"не указана\"\n",
    "    )\n",
    "\n",
    "    def process(self, session_id):\n",
    "        global handover\n",
    "        handover = True\n",
    "        return f\"Я побежала вызывать оператора, ваш {session_id=}, причина: {self.reason}\""
   ]
  },
  {
   "cell_type": "markdown",
   "metadata": {},
   "source": [
    "Также реализуем функцию добавления вин в корзину. Чтобы для каждого пользователя была своя корзина, будем привязывать её к идентификатору сессии:"
   ]
  },
  {
   "cell_type": "code",
   "execution_count": 16,
   "metadata": {
    "execution": {
     "iopub.execute_input": "2025-09-23T20:34:50.447205Z",
     "iopub.status.busy": "2025-09-23T20:34:50.445564Z",
     "iopub.status.idle": "2025-09-23T20:34:50.532408Z",
     "shell.execute_reply": "2025-09-23T20:34:50.531103Z",
     "shell.execute_reply.started": "2025-09-23T20:34:50.447130Z"
    },
    "tags": []
   },
   "outputs": [],
   "source": [
    "carts = {}\n",
    "\n",
    "class AddToCart(BaseModel):\n",
    "    \"\"\"Эта функция позволяет положить или добавить вино в корзину\"\"\"\n",
    "\n",
    "    wine_name: str = Field(\n",
    "        description=\"Точное название вина, чтобы положить в корзину\", default=None\n",
    "    )\n",
    "    count: int = Field(\n",
    "        description=\"Количество бутылок вина, которое нужно положить в корзину\",\n",
    "        default=1,\n",
    "    )\n",
    "\n",
    "    def process(self, session_id):\n",
    "        if session_id not in carts:\n",
    "            carts[session_id] = []\n",
    "        carts[session_id].append(self)\n",
    "        return f\"Вино {self.wine_name} добавлено в корзину, число бутылок: {self.count}\""
   ]
  },
  {
   "cell_type": "markdown",
   "metadata": {},
   "source": [
    "Наконец, оформим функцию для показа корзины:"
   ]
  },
  {
   "cell_type": "code",
   "execution_count": 17,
   "metadata": {
    "execution": {
     "iopub.execute_input": "2025-09-23T20:34:51.425257Z",
     "iopub.status.busy": "2025-09-23T20:34:51.423798Z",
     "iopub.status.idle": "2025-09-23T20:34:51.473830Z",
     "shell.execute_reply": "2025-09-23T20:34:51.472661Z",
     "shell.execute_reply.started": "2025-09-23T20:34:51.425212Z"
    },
    "tags": []
   },
   "outputs": [],
   "source": [
    "class ShowCart(BaseModel):\n",
    "    \"\"\"Эта функция позволяет показать содержимое корзины\"\"\"\n",
    "\n",
    "    def process(self, session_id):\n",
    "        if session_id not in carts or len(carts[session_id]) == 0:\n",
    "            return \"Корзина пуста\"\n",
    "        return \"В корзине находятся следующие вина:\\n\" + \"\\n\".join(\n",
    "            [f\"{x.wine_name}, число бутылок: {x.count}\" for x in carts[session_id]]\n",
    "        )"
   ]
  },
  {
   "cell_type": "markdown",
   "metadata": {},
   "source": [
    "Теперь реализуем главный класс `Agent`, который будет брать на себя обработку функций. В качестве `tools` будем передавать список описанных нами ранее классов."
   ]
  },
  {
   "cell_type": "code",
   "execution_count": 18,
   "metadata": {
    "execution": {
     "iopub.execute_input": "2025-09-23T20:55:20.688187Z",
     "iopub.status.busy": "2025-09-23T20:55:20.686268Z",
     "iopub.status.idle": "2025-09-23T20:55:20.787764Z",
     "shell.execute_reply": "2025-09-23T20:55:20.786582Z",
     "shell.execute_reply.started": "2025-09-23T20:55:20.688129Z"
    },
    "tags": []
   },
   "outputs": [],
   "source": [
    "class Agent():\n",
    "\n",
    "    def __init__(self, instruction, tools = [], session_id='default', model=model,tool_choice='auto'):\n",
    "        self.instruction = instruction\n",
    "        self.model = model\n",
    "        self.tool_choice = tool_choice\n",
    "        self.tool_map = { x.__name__ : x for x in tools if issubclass(x, BaseModel) }\n",
    "        self.tools = [\n",
    "            self._create_tool_annot(x) for x in tools\n",
    "        ]\n",
    "        self.user_sessions = {}\n",
    "\n",
    "    def _create_tool_annot(self, x):\n",
    "        if issubclass(x, BaseModel):\n",
    "            return {\n",
    "                \"type\": \"function\",\n",
    "                \"name\": x.__name__,\n",
    "                \"description\": x.__doc__,\n",
    "                \"parameters\": x.model_json_schema(),\n",
    "            }\n",
    "        else:\n",
    "            return x\n",
    "\n",
    "    def __call__(self, message, session_id='default'):\n",
    "        s = self.user_sessions.get(session_id,{ 'last_reply_id' : None, 'history' : [] })\n",
    "        s['history'].append({ 'role': 'user', 'content': message })\n",
    "        res = client.responses.create(\n",
    "            model = self.model,\n",
    "            store = True,\n",
    "            tools = self.tools,\n",
    "            tool_choice = self.tool_choice,\n",
    "            instructions = self.instruction,\n",
    "            previous_response_id = s['last_reply_id'],\n",
    "            input = message\n",
    "        )\n",
    "        # Обрабатываем вызов локальных инструментов\n",
    "        tool_calls = [item for item in res.output if item.type == \"function_call\"]\n",
    "        if tool_calls:\n",
    "            s['history'].append({ 'role' : 'func_call', 'content' : res.output_text })\n",
    "            out = []\n",
    "            for call in tool_calls:\n",
    "                print(f\" + Обрабатываем: {call.name} ({call.arguments})\")\n",
    "                try:\n",
    "                    fn = self.tool_map[call.name]\n",
    "                    obj = fn.model_validate(json.loads(call.arguments))\n",
    "                    result = obj.process(session_id)\n",
    "                except Exception as e:\n",
    "                    result = f\"Ошибка: {e}\"\n",
    "                #print(f\" + Результат: {result}\")\n",
    "                out.append({\n",
    "                    \"type\": \"function_call_output\",\n",
    "                    \"call_id\": call.call_id,\n",
    "                    \"output\": result\n",
    "                })\n",
    "                res = client.responses.create(\n",
    "                    model=self.model,\n",
    "                    input=out,\n",
    "                    tools=self.tools,\n",
    "                    previous_response_id=res.id,\n",
    "                    store=True\n",
    "                )\n",
    "        # Обрабатываем запросы на MCP Approval\n",
    "        mcp_approve = [ item for item in res.output if item.type == \"mcp_approval_request\"]\n",
    "        if mcp_approve:\n",
    "            res = client.responses.create(\n",
    "                model=self.model,\n",
    "                previous_response_id=res.id,\n",
    "                tools = self.tools,\n",
    "                input=[{\n",
    "                    \"type\": \"mcp_approval_response\",\n",
    "                    \"approve\": True,\n",
    "                    \"approval_request_id\": m.id\n",
    "                }\n",
    "                for m in mcp_approve\n",
    "                ])\n",
    "        s['last_reply_id'] = res.id\n",
    "        s['history'].append({ 'role' : 'assistant', 'content' : res.output_text })\n",
    "        self.user_sessions[session_id]=s\n",
    "        return res\n",
    "\n",
    "    def history(self, session_id='default'):\n",
    "        return self.user_sessions[session_id]['history']"
   ]
  },
  {
   "cell_type": "markdown",
   "metadata": {},
   "source": [
    "Создадим нашего агента - винного сомелье. В системном промпте пропишем ему возможные варианты для вызова функции, чтобы облегчить задачу."
   ]
  },
  {
   "cell_type": "code",
   "execution_count": 19,
   "metadata": {
    "execution": {
     "iopub.execute_input": "2025-09-23T20:34:53.591526Z",
     "iopub.status.busy": "2025-09-23T20:34:53.590065Z",
     "iopub.status.idle": "2025-09-23T20:34:53.631847Z",
     "shell.execute_reply": "2025-09-23T20:34:53.630487Z",
     "shell.execute_reply.started": "2025-09-23T20:34:53.591474Z"
    },
    "tags": []
   },
   "outputs": [],
   "source": [
    "instruction = \"\"\"\n",
    "Ты - опытный сомелье, в задачу которого входит отвечать на вопросы пользователя про вина\n",
    "и рекомендовать лучшие вина к еде, а также искать вина в прайс-листе нашего магазина. \n",
    "Если вопрос касается конкретных вин или цены, то вызови функцию SearchWinePriceList.\n",
    "Для передачи управления оператору - вызови фукцию Handover. Для добавления вина в корзину\n",
    "используй AddToCart. Для просмотра корзины: ShowCart. Все названия вин, цветов, кислотности\n",
    "пиши на русском языке.\n",
    "\"\"\"\n",
    "\n",
    "wine_agent = Agent(\n",
    "    instruction=instruction,\n",
    "    tools=[SearchWinePriceList, Handover, AddToCart, ShowCart],\n",
    ")"
   ]
  },
  {
   "cell_type": "code",
   "execution_count": 20,
   "metadata": {
    "execution": {
     "iopub.execute_input": "2025-09-23T20:34:54.766731Z",
     "iopub.status.busy": "2025-09-23T20:34:54.765450Z",
     "iopub.status.idle": "2025-09-23T20:35:00.720298Z",
     "shell.execute_reply": "2025-09-23T20:35:00.719184Z",
     "shell.execute_reply.started": "2025-09-23T20:34:54.766688Z"
    },
    "tags": []
   },
   "outputs": [
    {
     "data": {
      "text/markdown": [
       "Со стейком традиционно подают **красные вина** с хорошей структурой, насыщенными танинами и выразительным вкусом, чтобы уравновесить жирность мяса и подчеркнуть его вкус. Вот несколько отличных вариантов:\n",
       "\n",
       "1. **Каберне Совиньон** — насыщенное вино с танинами, чёрными ягодами, дубом и лёгкой горчинкой. Отлично сочетается с говяжьим стейком.\n",
       "2. **Мальбек** — сочное, фруктовое, с шелковистыми танинами и нотами чёрной смородины, сливы и дыма. Хорошо подходит к жареному мясу.\n",
       "3. **Сира (Шираз)** — пряное, с насыщенным вкусом чёрного перца, ежевики и дыма. Идеально к стейку на гриле.\n",
       "4. **Неббиоло** (например, Бароло) — мощное, структурированное вино с высокой кислотностью и танинами. Подойдёт к выдержанному стейку.\n",
       "\n",
       "Если хотите, могу подобрать конкретные вина из нашего ассортимента — уточните, какой у вас стейк (говядина, баранина, свинина) и предпочитаете ли вы более мягкое или насыщенное вино."
      ],
      "text/plain": [
       "<IPython.core.display.Markdown object>"
      ]
     },
     "metadata": {},
     "output_type": "display_data"
    }
   ],
   "source": [
    "printx(wine_agent(\"Какое вино пьют со стейком?\").output_text)"
   ]
  },
  {
   "cell_type": "code",
   "execution_count": 21,
   "metadata": {
    "execution": {
     "iopub.execute_input": "2025-09-23T20:35:03.065796Z",
     "iopub.status.busy": "2025-09-23T20:35:03.064332Z",
     "iopub.status.idle": "2025-09-23T20:35:09.971405Z",
     "shell.execute_reply": "2025-09-23T20:35:09.970242Z",
     "shell.execute_reply.started": "2025-09-23T20:35:03.065738Z"
    },
    "tags": []
   },
   "outputs": [
    {
     "name": "stdout",
     "output_type": "stream",
     "text": [
      " + Обрабатываем: SearchWinePriceList ({\"name\": \"Кьянти\", \"what_to_return\": \"wine info\"})\n"
     ]
    },
    {
     "data": {
      "text/markdown": [
       "Вот какие вина **Кьянти** есть в продаже:\n",
       "\n",
       "1. **Кверчаб Кьянти, красное сухое** (Италия) — **2499 ₽**  \n",
       "2. **Полиц Кьянти, красное сухое** (Италия) — **1749,76 ₽**  \n",
       "3. **Касал Кьянти Супериоре, красное сухое** (Италия) — **1349 ₽**  \n",
       "4. **Век Кант Кьянти, красное сухое** (Италия) — **1099 ₽**  \n",
       "5. **Пределла Кьянти, красное сухое** (Италия) — **999 ₽**  \n",
       "6. **Зонин Кьянти, красное сухое** (Италия) — **699 ₽**  \n",
       "7. **Пределла Кьянти, красное сухое** (Италия) — **369 ₽**  \n",
       "\n",
       "Все вина — **красные сухие**, как и положено классическому Кьянти.  \n",
       "Если хотите, могу порекомендовать лучшее по соотношению цена/качество или подобрать вино к определённому блюду."
      ],
      "text/plain": [
       "<IPython.core.display.Markdown object>"
      ]
     },
     "metadata": {},
     "output_type": "display_data"
    }
   ],
   "source": [
    "printx(wine_agent(\"Какие вина Кьянти есть в продаже?\").output_text)"
   ]
  },
  {
   "cell_type": "code",
   "execution_count": 22,
   "metadata": {
    "execution": {
     "iopub.execute_input": "2025-09-23T20:35:12.418220Z",
     "iopub.status.busy": "2025-09-23T20:35:12.416505Z",
     "iopub.status.idle": "2025-09-23T20:35:14.277909Z",
     "shell.execute_reply": "2025-09-23T20:35:14.276762Z",
     "shell.execute_reply.started": "2025-09-23T20:35:12.418168Z"
    },
    "tags": []
   },
   "outputs": [
    {
     "name": "stdout",
     "output_type": "stream",
     "text": [
      " + Обрабатываем: AddToCart ({\"wine_name\": \"ПОЛИЦ КЬЯНТИ КР СХ (Италия)\", \"count\": 3})\n"
     ]
    },
    {
     "data": {
      "text/markdown": [],
      "text/plain": [
       "<IPython.core.display.Markdown object>"
      ]
     },
     "metadata": {},
     "output_type": "display_data"
    }
   ],
   "source": [
    "printx(wine_agent(\"Добавь в корзину Полиц Кьянти, три бутылки\").output_text)"
   ]
  },
  {
   "cell_type": "code",
   "execution_count": 23,
   "metadata": {
    "execution": {
     "iopub.execute_input": "2025-09-23T20:35:15.694854Z",
     "iopub.status.busy": "2025-09-23T20:35:15.693565Z",
     "iopub.status.idle": "2025-09-23T20:35:19.677899Z",
     "shell.execute_reply": "2025-09-23T20:35:19.676811Z",
     "shell.execute_reply.started": "2025-09-23T20:35:15.694793Z"
    },
    "tags": []
   },
   "outputs": [
    {
     "name": "stdout",
     "output_type": "stream",
     "text": [
      " + Обрабатываем: AddToCart ({\"wine_name\": \"Зонин Кьянти, красное сухое\", \"count\": 1})\n"
     ]
    },
    {
     "data": {
      "text/markdown": [],
      "text/plain": [
       "<IPython.core.display.Markdown object>"
      ]
     },
     "metadata": {},
     "output_type": "display_data"
    }
   ],
   "source": [
    "printx(wine_agent(\"Ещё положи в корзину Зонин Кьянти\").output_text)"
   ]
  },
  {
   "cell_type": "code",
   "execution_count": 24,
   "metadata": {
    "execution": {
     "iopub.execute_input": "2025-09-23T20:35:19.764025Z",
     "iopub.status.busy": "2025-09-23T20:35:19.762642Z",
     "iopub.status.idle": "2025-09-23T20:35:23.506459Z",
     "shell.execute_reply": "2025-09-23T20:35:23.505228Z",
     "shell.execute_reply.started": "2025-09-23T20:35:19.763975Z"
    },
    "tags": []
   },
   "outputs": [
    {
     "name": "stdout",
     "output_type": "stream",
     "text": [
      " + Обрабатываем: ShowCart ({})\n"
     ]
    },
    {
     "data": {
      "text/markdown": [
       "В вашей корзине сейчас:\n",
       "\n",
       "- **Полиц Кьянти, красное сухое** (Италия) — **3 бутылки**  \n",
       "- **Зонин Кьянти, красное сухое** (Италия) — **1 бутылка**\n",
       "\n",
       "Общее количество: 4 бутылки.  \n",
       "Если хотите оформить заказ, изменить количество или добавить ещё что-то — просто скажите!"
      ],
      "text/plain": [
       "<IPython.core.display.Markdown object>"
      ]
     },
     "metadata": {},
     "output_type": "display_data"
    }
   ],
   "source": [
    "printx(wine_agent(\"Что у меня в корзине?\").output_text)"
   ]
  },
  {
   "cell_type": "code",
   "execution_count": 25,
   "metadata": {
    "execution": {
     "iopub.execute_input": "2025-09-23T20:35:25.690151Z",
     "iopub.status.busy": "2025-09-23T20:35:25.688615Z",
     "iopub.status.idle": "2025-09-23T20:35:28.943036Z",
     "shell.execute_reply": "2025-09-23T20:35:28.941845Z",
     "shell.execute_reply.started": "2025-09-23T20:35:25.690106Z"
    },
    "tags": []
   },
   "outputs": [
    {
     "name": "stdout",
     "output_type": "stream",
     "text": [
      " + Обрабатываем: Handover ({\"reason\": \"Пользователь хочет оформить доставку\"})\n"
     ]
    },
    {
     "data": {
      "text/markdown": [
       "Оператор уже в пути — он свяжется с вами в ближайшее время, чтобы уточнить детали доставки и помочь с оформлением заказа.  \n",
       "Спасибо, что выбрали наше вино! 🍷"
      ],
      "text/plain": [
       "<IPython.core.display.Markdown object>"
      ]
     },
     "metadata": {},
     "output_type": "display_data"
    }
   ],
   "source": [
    "printx(wine_agent(\"Вызови оператора, хочу оформить доставку!\").output_text)"
   ]
  },
  {
   "cell_type": "markdown",
   "metadata": {},
   "source": [
    "## Model Context Protocol\n",
    "\n",
    "Мы научились интегрировать в ассистента локальные функции, но иногда бывает так, что функции предоставляются какими-то внешними поставщиками информации. Предположим, мы хотим сделать универсального ассистента, который сможет анализировать цены в различных интернет-магазинах. Для этого нужно, чтобы интернет-магазины предоставляли доступ к своим прайс-листам в виде удалённых функций, доступных через протокол MCP: Model Context Protocol. \n",
    "\n",
    "Реализуем такой MCP-сервер для доступа к прайс-листу магазина. Для этого мы используем библиотеку [FastMCP](https://gofastmcp.com/). Пример реализации сервера доступен [здесь](mcp-server/mcp-wine-shop.py), запустить его можно командой\n",
    "```bash\n",
    "fastmcp run mcp-wine-shop.py -t sse -p 3000 --host 0.0.0.0\n",
    "```\n",
    "\n",
    "Вы также можете запустить сервер с помощью [FastMCP Cloud](https://fastmcp.cloud/) используя [этот GitHub-репозиторий](https://github.com/yandex-datasphere/advanced-assistant-mcp)"
   ]
  },
  {
   "cell_type": "code",
   "execution_count": 26,
   "metadata": {
    "execution": {
     "iopub.execute_input": "2025-09-23T20:35:30.823550Z",
     "iopub.status.busy": "2025-09-23T20:35:30.822170Z",
     "iopub.status.idle": "2025-09-23T20:35:30.859527Z",
     "shell.execute_reply": "2025-09-23T20:35:30.858444Z",
     "shell.execute_reply.started": "2025-09-23T20:35:30.823489Z"
    }
   },
   "outputs": [],
   "source": [
    "mcp_tool = {\n",
    "            \"type\": \"mcp\",\n",
    "            \"server_label\": \"Wine-Shop\",\n",
    "            \"server_description\": \"Функция для запроса цен на вино в винном магазине\",\n",
    "            #\"server_url\": \"https://wineparadise.fastmcp.app/mcp\",\n",
    "            \"server_url\": \"http://cathy.ycloud.eazify.net:8000/sse\",\n",
    "            \"require_approval\": \"never\",\n",
    "    }\n",
    "\n",
    "instruction = \"\"\"\n",
    "Ты - опытный сомелье, в задачу которого входит отвечать на вопросы пользователя про вина\n",
    "и рекомендовать лучшие вина к еде, а также искать вина в прайс-листе нашего магазина. \n",
    "Если вопрос касается конкретных вин или цены, то вызови функцию MCP-сервера.\n",
    "\"\"\"\n",
    "\n",
    "wine_agent = Agent(\n",
    "    instruction=instruction,\n",
    "    tools=[mcp_tool],\n",
    ")"
   ]
  },
  {
   "cell_type": "code",
   "execution_count": 27,
   "metadata": {
    "execution": {
     "iopub.execute_input": "2025-09-23T20:36:25.680198Z",
     "iopub.status.busy": "2025-09-23T20:36:25.678324Z",
     "iopub.status.idle": "2025-09-23T20:36:33.181527Z",
     "shell.execute_reply": "2025-09-23T20:36:33.180414Z",
     "shell.execute_reply.started": "2025-09-23T20:36:25.680137Z"
    },
    "tags": []
   },
   "outputs": [
    {
     "data": {
      "text/markdown": [
       "Самый дорогой Мерло в наличии — **ЛЕФКАДИЯ МЕРЛО КР СХ** из России, его цена составляет **2449,66 руб.**"
      ],
      "text/plain": [
       "<IPython.core.display.Markdown object>"
      ]
     },
     "metadata": {},
     "output_type": "display_data"
    }
   ],
   "source": [
    "printx(wine_agent(\"Сколько стоит самый дорогой Мерло?\").output_text)"
   ]
  },
  {
   "cell_type": "markdown",
   "metadata": {},
   "source": [
    "## Добавляем RAG\n",
    "\n",
    "Наш ассистент сам по себе неплохо отвечает на вопросы по винам, однако если мы хотим сделать его знания более предсказуемыми - необходимо дополнить их специализированной информацией из текстовой базы знаний. Для этого мы можем использовать RAG - подход.\n",
    "\n",
    "В качестве текстовой базы знаний в нашем примере возьмём тексты о винах из энциклопедии: про разные сорта винограда и про регионы произрастания:\n"
   ]
  },
  {
   "cell_type": "code",
   "execution_count": 28,
   "metadata": {
    "execution": {
     "iopub.execute_input": "2025-09-23T20:37:05.011757Z",
     "iopub.status.busy": "2025-09-23T20:37:05.010318Z",
     "iopub.status.idle": "2025-09-23T20:37:09.081782Z",
     "shell.execute_reply": "2025-09-23T20:37:09.080636Z",
     "shell.execute_reply.started": "2025-09-23T20:37:05.011710Z"
    },
    "tags": []
   },
   "outputs": [
    {
     "data": {
      "text/html": [
       "<div>\n",
       "<style scoped>\n",
       "    .dataframe tbody tr th:only-of-type {\n",
       "        vertical-align: middle;\n",
       "    }\n",
       "\n",
       "    .dataframe tbody tr th {\n",
       "        vertical-align: top;\n",
       "    }\n",
       "\n",
       "    .dataframe thead th {\n",
       "        text-align: right;\n",
       "    }\n",
       "</style>\n",
       "<table border=\"1\" class=\"dataframe\">\n",
       "  <thead>\n",
       "    <tr style=\"text-align: right;\">\n",
       "      <th></th>\n",
       "      <th>File</th>\n",
       "      <th>Tokens</th>\n",
       "      <th>Chars</th>\n",
       "    </tr>\n",
       "  </thead>\n",
       "  <tbody>\n",
       "    <tr>\n",
       "      <th>0</th>\n",
       "      <td>data/wines.txt\\Альбариньо.txt</td>\n",
       "      <td>763</td>\n",
       "      <td>2387</td>\n",
       "    </tr>\n",
       "    <tr>\n",
       "      <th>1</th>\n",
       "      <td>data/wines.txt\\Блауфранкиш.txt</td>\n",
       "      <td>787</td>\n",
       "      <td>2596</td>\n",
       "    </tr>\n",
       "    <tr>\n",
       "      <th>2</th>\n",
       "      <td>data/wines.txt\\Вионье.txt</td>\n",
       "      <td>651</td>\n",
       "      <td>2117</td>\n",
       "    </tr>\n",
       "    <tr>\n",
       "      <th>3</th>\n",
       "      <td>data/wines.txt\\Виура.txt</td>\n",
       "      <td>324</td>\n",
       "      <td>1038</td>\n",
       "    </tr>\n",
       "    <tr>\n",
       "      <th>4</th>\n",
       "      <td>data/wines.txt\\Гевюрцтраминер.txt</td>\n",
       "      <td>736</td>\n",
       "      <td>2236</td>\n",
       "    </tr>\n",
       "    <tr>\n",
       "      <th>...</th>\n",
       "      <td>...</td>\n",
       "      <td>...</td>\n",
       "      <td>...</td>\n",
       "    </tr>\n",
       "    <tr>\n",
       "      <th>125</th>\n",
       "      <td>data/regions.txt\\Штирия.txt</td>\n",
       "      <td>619</td>\n",
       "      <td>2078</td>\n",
       "    </tr>\n",
       "    <tr>\n",
       "      <th>126</th>\n",
       "      <td>data/regions.txt\\Элгин.txt</td>\n",
       "      <td>346</td>\n",
       "      <td>1081</td>\n",
       "    </tr>\n",
       "    <tr>\n",
       "      <th>127</th>\n",
       "      <td>data/regions.txt\\Элим.txt</td>\n",
       "      <td>346</td>\n",
       "      <td>1110</td>\n",
       "    </tr>\n",
       "    <tr>\n",
       "      <th>128</th>\n",
       "      <td>data/regions.txt\\Эльзас.txt</td>\n",
       "      <td>530</td>\n",
       "      <td>1887</td>\n",
       "    </tr>\n",
       "    <tr>\n",
       "      <th>129</th>\n",
       "      <td>data/regions.txt\\Эмилия-Романья.txt</td>\n",
       "      <td>617</td>\n",
       "      <td>2016</td>\n",
       "    </tr>\n",
       "  </tbody>\n",
       "</table>\n",
       "<p>130 rows × 3 columns</p>\n",
       "</div>"
      ],
      "text/plain": [
       "                                    File  Tokens  Chars\n",
       "0          data/wines.txt\\Альбариньо.txt     763   2387\n",
       "1         data/wines.txt\\Блауфранкиш.txt     787   2596\n",
       "2              data/wines.txt\\Вионье.txt     651   2117\n",
       "3               data/wines.txt\\Виура.txt     324   1038\n",
       "4      data/wines.txt\\Гевюрцтраминер.txt     736   2236\n",
       "..                                   ...     ...    ...\n",
       "125          data/regions.txt\\Штирия.txt     619   2078\n",
       "126           data/regions.txt\\Элгин.txt     346   1081\n",
       "127            data/regions.txt\\Элим.txt     346   1110\n",
       "128          data/regions.txt\\Эльзас.txt     530   1887\n",
       "129  data/regions.txt\\Эмилия-Романья.txt     617   2016\n",
       "\n",
       "[130 rows x 3 columns]"
      ]
     },
     "execution_count": 28,
     "metadata": {},
     "output_type": "execute_result"
    }
   ],
   "source": [
    "from glob import glob\n",
    "import pandas as pd\n",
    "import tiktoken\n",
    "\n",
    "def get_tokenizer(model):\n",
    "    try:\n",
    "        return tiktoken.encoding_for_model(model)\n",
    "    except:\n",
    "        return tiktoken.encoding_for_model(\"gpt-5-nano\") \n",
    "\n",
    "def get_token_count(filename):\n",
    "    tokenizer = get_tokenizer(model)\n",
    "    with open(filename, \"r\", encoding=\"utf8\") as f:\n",
    "        return len(tokenizer.encode(f.read()))\n",
    "\n",
    "def get_file_len(filename):\n",
    "    with open(filename, encoding=\"utf-8\") as f:\n",
    "        l = len(f.read())\n",
    "    return l\n",
    "\n",
    "d = [\n",
    "    {\n",
    "        \"File\": fn,\n",
    "        \"Tokens\": get_token_count(fn),\n",
    "        \"Chars\": get_file_len(fn),\n",
    "    }\n",
    "    for fn in list(glob(\"data/wines.txt/*.txt\"))+list(glob(\"data/regions.txt/*.txt\"))\n",
    "]\n",
    "\n",
    "df = pd.DataFrame(d)\n",
    "df"
   ]
  },
  {
   "cell_type": "markdown",
   "metadata": {},
   "source": [
    "Чтобы агент мог обращаться к этим файлам - загружаем их в облако:"
   ]
  },
  {
   "cell_type": "code",
   "execution_count": 29,
   "metadata": {
    "execution": {
     "iopub.execute_input": "2025-09-23T20:37:12.273350Z",
     "iopub.status.busy": "2025-09-23T20:37:12.272011Z",
     "iopub.status.idle": "2025-09-23T20:37:25.565278Z",
     "shell.execute_reply": "2025-09-23T20:37:25.564044Z",
     "shell.execute_reply.started": "2025-09-23T20:37:12.273305Z"
    }
   },
   "outputs": [
    {
     "data": {
      "application/vnd.jupyter.widget-view+json": {
       "model_id": "a14908be4726453b93cb221f4dc45da5",
       "version_major": 2,
       "version_minor": 0
      },
      "text/plain": [
       "  0%|          | 0/130 [00:00<?, ?it/s]"
      ]
     },
     "metadata": {},
     "output_type": "display_data"
    }
   ],
   "source": [
    "from tqdm.auto import tqdm\n",
    "tqdm.pandas()\n",
    "\n",
    "def upload_file(filename):\n",
    "    return client.files.create(\n",
    "        file=open(filename,'rb'),\n",
    "        purpose='assistants')\n",
    "\n",
    "df[\"Uploaded\"] = df[\"File\"].progress_apply(upload_file)"
   ]
  },
  {
   "cell_type": "markdown",
   "metadata": {},
   "source": [
    "Поместим все загруженные файлы в векторную базу данных. Если файлы достаточно большие, то в процессе индексации можно применить **чанкование** - нарезку файлов на перекрывающиеся фрагменты с заданной длинной и перекрытием (в токенах). Мы зададим эти параметры, но поскольку в нашем случае текстовые файлы невелики - чанкование не потребуется."
   ]
  },
  {
   "cell_type": "code",
   "execution_count": 30,
   "metadata": {
    "execution": {
     "iopub.execute_input": "2025-09-23T20:37:29.541043Z",
     "iopub.status.busy": "2025-09-23T20:37:29.539623Z",
     "iopub.status.idle": "2025-09-23T20:38:44.830993Z",
     "shell.execute_reply": "2025-09-23T20:38:44.829825Z",
     "shell.execute_reply.started": "2025-09-23T20:37:29.540978Z"
    }
   },
   "outputs": [
    {
     "data": {
      "application/vnd.jupyter.widget-view+json": {
       "model_id": "316a632dc7c44b2b86306bffc93a7e80",
       "version_major": 2,
       "version_minor": 0
      },
      "text/plain": [
       "  0%|          | 0/130 [00:00<?, ?it/s]"
      ]
     },
     "metadata": {},
     "output_type": "display_data"
    }
   ],
   "source": [
    "vector_store = client.vector_stores.create(name='rag_store')\n",
    "\n",
    "def add_to_store(file):\n",
    "    client.vector_stores.files.create(\n",
    "        vector_store_id=vector_store.id, \n",
    "        file_id=file.id,\n",
    "        chunking_strategy={\n",
    "            \"type\": \"static\",\n",
    "            \"static\" : { \"max_chunk_size_tokens\" : 1000, \"chunk_overlap_tokens\" : 100 }\n",
    "        }\n",
    "        )\n",
    "\n",
    "_ = df['Uploaded'].progress_apply(add_to_store)"
   ]
  },
  {
   "cell_type": "markdown",
   "metadata": {},
   "source": [
    "Теперь мы можем в явном виде искать фрагменты в нашем векторном хранилище:"
   ]
  },
  {
   "cell_type": "code",
   "execution_count": 31,
   "metadata": {
    "execution": {
     "iopub.execute_input": "2025-09-23T20:38:46.672010Z",
     "iopub.status.busy": "2025-09-23T20:38:46.670785Z",
     "iopub.status.idle": "2025-09-23T20:38:46.869715Z",
     "shell.execute_reply": "2025-09-23T20:38:46.868680Z",
     "shell.execute_reply.started": "2025-09-23T20:38:46.671953Z"
    }
   },
   "outputs": [
    {
     "name": "stdout",
     "output_type": "stream",
     "text": [
      "844 символов из файла Зинфандель.txt, релевантность = 0.999999996975375\n",
      "834 символов из файла Зинфандель.txt, релевантность = 0.4837495206124824\n",
      "459 символов из файла Калифорния.txt, релевантность = 0.45836024800124275\n",
      "876 символов из файла Зинфандель.txt, релевантность = 0.4474486988545032\n",
      "263 символов из файла Орегон.txt, релевантность = 0.33309060260960344\n",
      "2599 символов из файла Блауфранкиш.txt, релевантность = 0.15973148502296913\n",
      "956 символов из файла Орегон.txt, релевантность = 0.11312163164976587\n",
      "971 символов из файла Калифорния.txt, релевантность = 0.11312163164976587\n",
      "948 символов из файла Вионье.txt, релевантность = 0.09895006851783038\n",
      "1507 символов из файла Жюрансон.txt, релевантность = 0.08397052371146162\n"
     ]
    }
   ],
   "source": [
    "res = client.vector_stores.search(\n",
    "    vector_store_id=vector_store.id,\n",
    "    query=\"Какого цвета вино Зинфандель?\",\n",
    "    rewrite_query=True\n",
    ")\n",
    "for x in res.data:\n",
    "    print(f\"{len(x.content[0].text)} символов из файла {x.filename}, релевантность = {x.score}\")"
   ]
  },
  {
   "cell_type": "markdown",
   "metadata": {},
   "source": [
    "\n",
    "Теперь собираем собственно ассистента, который будет использовать RAG. Для этого определяем **инструмент** (tool) для поиска в нашем индексе, и указываем его при создании ассистента. Также важно задать хорошую инструкцию для ассистента (системный промпт): "
   ]
  },
  {
   "cell_type": "code",
   "execution_count": 32,
   "metadata": {
    "execution": {
     "iopub.execute_input": "2025-09-23T20:44:13.855846Z",
     "iopub.status.busy": "2025-09-23T20:44:13.854657Z",
     "iopub.status.idle": "2025-09-23T20:44:13.886877Z",
     "shell.execute_reply": "2025-09-23T20:44:13.885876Z",
     "shell.execute_reply.started": "2025-09-23T20:44:13.855793Z"
    },
    "tags": []
   },
   "outputs": [],
   "source": [
    "search_tool = {\n",
    "    \"type\" : \"file_search\",\n",
    "    \"vector_store_ids\" : [vector_store.id],\n",
    "    \"max_num_results\" : 5\n",
    "}\n",
    "\n",
    "instruction = \"\"\"\n",
    "Ты - опытный сомелье, в задачу которого входит отвечать на вопросы пользователя про вина\n",
    "и рекомендовать лучшие вина к еде. С помощью инструмента поиска посмотри на всю имеющуюся\n",
    "в твоем распоряжении информацию и выдай одну или несколько лучших рекомендаций.\n",
    "Если вопрос касается конкретных вин или цены, то вызови функцию MCP-сервера Wine-Shop.\n",
    "Для передачи управления оператору - вызови фукцию Handover. Для добавления вина в корзину\n",
    "используй AddToCart. Для просмотра корзины: ShowCart. Все названия вин, цветов, кислотности\n",
    "пиши на русском языке. Обязательно используй либо MCP, либо инструмент поиска.\n",
    "Если что-то непонятно, то лучше уточни информацию у пользователя.\n",
    "\"\"\"\n",
    "\n",
    "wine_agent = Agent(\n",
    "    instruction=instruction,\n",
    "    tools=[mcp_tool,search_tool,AddToCart,Handover],\n",
    "    tool_choice='required'\n",
    ")"
   ]
  },
  {
   "cell_type": "code",
   "execution_count": 33,
   "metadata": {
    "execution": {
     "iopub.execute_input": "2025-09-23T20:44:18.993969Z",
     "iopub.status.busy": "2025-09-23T20:44:18.992566Z",
     "iopub.status.idle": "2025-09-23T20:44:28.939622Z",
     "shell.execute_reply": "2025-09-23T20:44:28.938582Z",
     "shell.execute_reply.started": "2025-09-23T20:44:18.993907Z"
    },
    "tags": []
   },
   "outputs": [
    {
     "data": {
      "text/markdown": [
       "К стейку лучше всего подойдут **полнотелые красные вина** с выраженной структурой и танинами, которые гармонируют с насыщенным вкусом мяса.\n",
       "\n",
       "На основе анализа контекста, рекомендую следующие варианты:\n",
       "\n",
       "1. **Красное сухое вино из долины Маллеко (Чили)** — отлично сочетается со стейком на гриле.\n",
       "2. **Темпранильо или Каберне Совиньон из Техаса (США)** — полнотелые красные вина, идеальные к мясным блюдам.\n",
       "3. **Южноафриканские красные вина**, особенно **Пинотаж** — хорошо гармонируют с перчёными стейками из говядины.\n",
       "\n",
       "Если хотите, могу подобрать конкретные бутылки из ассортимента магазина. Хотите уточнить предпочтения по стране, цене или вкусу?"
      ],
      "text/plain": [
       "<IPython.core.display.Markdown object>"
      ]
     },
     "metadata": {},
     "output_type": "display_data"
    }
   ],
   "source": [
    "res = wine_agent(\"Какое вино подходит к стейку?\")\n",
    "printx(res.output_text)"
   ]
  },
  {
   "cell_type": "markdown",
   "metadata": {},
   "source": [
    "Посмотрим, из каких источников был получен этот ответ."
   ]
  },
  {
   "cell_type": "code",
   "execution_count": 34,
   "metadata": {
    "execution": {
     "iopub.execute_input": "2025-09-23T20:44:33.178995Z",
     "iopub.status.busy": "2025-09-23T20:44:33.177638Z",
     "iopub.status.idle": "2025-09-23T20:44:33.223725Z",
     "shell.execute_reply": "2025-09-23T20:44:33.222531Z",
     "shell.execute_reply.started": "2025-09-23T20:44:33.178936Z"
    },
    "tags": []
   },
   "outputs": [
    {
     "name": "stdout",
     "output_type": "stream",
     "text": [
      "Марке.txt, idx=0\n",
      "Техас.txt, idx=0\n",
      "Сур.txt, idx=0\n",
      "Свортленд.txt, idx=0\n",
      "Франшхук.txt, idx=0\n"
     ]
    }
   ],
   "source": [
    "from openai.types.responses.response_output_message import ResponseOutputMessage\n",
    "\n",
    "def find_obj(t,l):\n",
    "    for x in l:\n",
    "        if isinstance(x,t):\n",
    "            return x\n",
    "    return None\n",
    "\n",
    "def print_citations(result):\n",
    "    o = find_obj(ResponseOutputMessage,result.output)\n",
    "    for x in o.content[0].annotations:\n",
    "        if x.type == \"file_citation\":\n",
    "            print(f\"{x.filename}, idx={x.index}\")\n",
    "\n",
    "print_citations(res)"
   ]
  },
  {
   "cell_type": "markdown",
   "metadata": {},
   "source": [
    "Мы видим, что ответ получился несколько однобоким, поскольку данные о сочетании вин и еды содержатся в текстовой базе знаний в разрозненном виде.\n",
    "\n",
    "## Добавляем таблицу соответствий\n",
    "\n",
    "Поскольку подбор блюда к вину является частой задачей, добавим к нашей базе знаний явную табличку соответствий блюд и вин, которая находится в файле `data/food_wine_table.md` в формате markdown."
   ]
  },
  {
   "cell_type": "code",
   "execution_count": 35,
   "metadata": {
    "execution": {
     "iopub.execute_input": "2025-09-23T20:44:43.594256Z",
     "iopub.status.busy": "2025-09-23T20:44:43.593247Z",
     "iopub.status.idle": "2025-09-23T20:44:43.639402Z",
     "shell.execute_reply": "2025-09-23T20:44:43.638470Z",
     "shell.execute_reply.started": "2025-09-23T20:44:43.594212Z"
    }
   },
   "outputs": [
    {
     "name": "stdout",
     "output_type": "stream",
     "text": [
      "Токенов: 15803, 2.6457001835094602 chars/token\n"
     ]
    }
   ],
   "source": [
    "with open(\"data/food_wine_table.md\", encoding=\"utf-8\") as f:\n",
    "    food_wine = f.readlines()\n",
    "fw = \"\".join(food_wine)\n",
    "\n",
    "tokenizer = get_tokenizer(model)\n",
    "tokens = len(tokenizer.encode(fw))\n",
    "print(f\"Токенов: {tokens}, {len(fw)/tokens} chars/token\")"
   ]
  },
  {
   "cell_type": "code",
   "execution_count": 36,
   "metadata": {
    "execution": {
     "iopub.execute_input": "2025-09-23T20:44:44.611395Z",
     "iopub.status.busy": "2025-09-23T20:44:44.610059Z",
     "iopub.status.idle": "2025-09-23T20:44:44.670462Z",
     "shell.execute_reply": "2025-09-23T20:44:44.669392Z",
     "shell.execute_reply.started": "2025-09-23T20:44:44.611350Z"
    }
   },
   "outputs": [
    {
     "data": {
      "text/markdown": [
       "Блюдо, к которому надо подобрать вино | Вино, которое подходит к этому блюду\n",
       "--------|--------\n",
       "Баклажаны, запеченые с сыром | Красное вино: «среднетелые»* сухие — Гренаш (Гарнача), Санджовезе (Кьянти), Карменер, Менсия, молодые Темпранильо, легкотелое Мерло.\n",
       "Баранина деликатесная (филе или каре ягненка) | Красное вино: сухие выдержанные вина из винограда Пино Нуар, Менсия, Неббиоло (в том числе элегантные выдержанные Бароло и Барбареско), Гамэ (элегантные бургундские Божоле Виляж).\n",
       "Баранина пикантная: жареная, гриль, тушеная — со специями | Красные вина: сухие вина из винограда Каберне Совиньон, «ронские»** ассамбляжи Гренаш+Сира+Мурведр, французский Мальбек, немного «скругленная» Барбера, Сира (Шираз). Выдержанные вина из Санджовезе (Кьянти Классико, вина Монтальчино), Альянико, «супертосканские»*** вина, добротные Crianza Риохи. Примитиво и Зинфандель. Саперави из России.\n",
       "Бефстроганов | Белые вина: выдержанные в дубе Шардоне, Пино Гриджо (лучше — из Северной Италии), Вердехо, Вермент"
      ],
      "text/plain": [
       "<IPython.core.display.Markdown object>"
      ]
     },
     "metadata": {},
     "output_type": "display_data"
    }
   ],
   "source": [
    "printx(fw[:1000])"
   ]
  },
  {
   "cell_type": "markdown",
   "metadata": {},
   "source": [
    "Видим, что табличка большая, поэтому её придётся *чанковать*. Но при этом важно чанковать табличку так, чтобы в каждом фрагмента оставался заголовок таблицы, который определяет семантику столбцов.\n",
    "\n",
    "Отделим заголовок таблицы:"
   ]
  },
  {
   "cell_type": "code",
   "execution_count": 37,
   "metadata": {
    "execution": {
     "iopub.execute_input": "2025-09-23T20:44:46.087205Z",
     "iopub.status.busy": "2025-09-23T20:44:46.085859Z",
     "iopub.status.idle": "2025-09-23T20:44:46.114605Z",
     "shell.execute_reply": "2025-09-23T20:44:46.113459Z",
     "shell.execute_reply.started": "2025-09-23T20:44:46.087146Z"
    }
   },
   "outputs": [
    {
     "data": {
      "text/plain": [
       "['Блюдо, к которому надо подобрать вино | Вино, которое подходит к этому блюду\\n',\n",
       " '--------|--------\\n']"
      ]
     },
     "execution_count": 37,
     "metadata": {},
     "output_type": "execute_result"
    }
   ],
   "source": [
    "header = food_wine[:2]\n",
    "header"
   ]
  },
  {
   "cell_type": "markdown",
   "metadata": {},
   "source": [
    "Ниже будем чанковать табличку вручную, задав размер чанка в символах для простоты. Мы будем сразу загружать получившиеся фрагменты в облако, минуя диск:"
   ]
  },
  {
   "cell_type": "code",
   "execution_count": 38,
   "metadata": {
    "execution": {
     "iopub.execute_input": "2025-09-23T20:44:47.371571Z",
     "iopub.status.busy": "2025-09-23T20:44:47.370012Z",
     "iopub.status.idle": "2025-09-23T20:44:58.820425Z",
     "shell.execute_reply": "2025-09-23T20:44:58.819348Z",
     "shell.execute_reply.started": "2025-09-23T20:44:47.371507Z"
    }
   },
   "outputs": [
    {
     "data": {
      "application/vnd.jupyter.widget-view+json": {
       "model_id": "754451cfde794bd29486ff221884ba51",
       "version_major": 2,
       "version_minor": 0
      },
      "text/plain": [
       "  0%|          | 0/161 [00:00<?, ?it/s]"
      ]
     },
     "metadata": {},
     "output_type": "display_data"
    },
    {
     "name": "stdout",
     "output_type": "stream",
     "text": [
      "Uploaded 13 table chunks\n"
     ]
    }
   ],
   "source": [
    "import io\n",
    "\n",
    "chunk_size = 600 * 5  # около 600 tokens * 5 char/token\n",
    "\n",
    "s = header.copy()\n",
    "uploaded_chunks = []\n",
    "i = 0\n",
    "for x in tqdm(food_wine[2:]):\n",
    "    s.append(x)\n",
    "    if len(\"\".join(s)) > chunk_size:\n",
    "        f = client.files.create(\n",
    "            purpose=\"assistants\",\n",
    "            file = (f'table_{i}.txt',io.BytesIO(\"\".join(s).encode(\"utf-8\")),'text/markdown')\n",
    "        )\n",
    "        client.vector_stores.files.create(file_id=f.id, vector_store_id=vector_store.id)\n",
    "        uploaded_chunks.append(f)\n",
    "        i+=1\n",
    "        s = header.copy()\n",
    "print(f\"Uploaded {len(uploaded_chunks)} table chunks\")"
   ]
  },
  {
   "cell_type": "markdown",
   "metadata": {},
   "source": [
    "Посмотрим, откуда теперь агент берёт информацию о соответствиях:"
   ]
  },
  {
   "cell_type": "code",
   "execution_count": 40,
   "metadata": {
    "execution": {
     "iopub.execute_input": "2025-09-23T20:45:27.754888Z",
     "iopub.status.busy": "2025-09-23T20:45:27.753944Z",
     "iopub.status.idle": "2025-09-23T20:45:40.490005Z",
     "shell.execute_reply": "2025-09-23T20:45:40.488890Z",
     "shell.execute_reply.started": "2025-09-23T20:45:27.754835Z"
    },
    "tags": []
   },
   "outputs": [
    {
     "data": {
      "text/markdown": [
       "К стейку подходят **полнотелые красные вина** с выраженной структурой и танинами, которые дополняют насыщенный вкус мяса. В зависимости от типа стейка, подбор может варьироваться:\n",
       "\n",
       "### 🔹 Для **нежного мраморного стейка (например, Филе-миньон)**:\n",
       "- **Пино Нуар** — лёгкое, элегантное вино с нежной текстурой.\n",
       "- **Нерелло Маскалезе** — итальянское вино с бархатистым вкусом.\n",
       "- **Выдержанное Мерло** — «округлое» и шелковистое.\n",
       "- **Кьянти Ризерва** или **Барбареско** — более насыщенные варианты на основе Санджовезе и Неббиоло.\n",
       "\n",
       "### 🔹 Для **жирного, сочного стейка (например, Рибай)**:\n",
       "- **Каберне Совиньон** — классика: мощное, с танинами и чёрными ягодами.\n",
       "- **Темпранильо (Рибера дель Дуэро)** — выдержанное, благородное, с нотами кожи и табака.\n",
       "- **Аргентинский Мальбек** — шелковистый, с тонами фиалки и тёмных слив.\n",
       "- **Сира (Шираз)** — особенно к стейку средней или сильной прожарки.\n",
       "- **Вина Приората (Испания)** — от 6–8 лет выдержки, сложные и концентрированные.\n",
       "\n",
       "### 🔹 Также отлично подойдут:\n",
       "- **Пинотаж (ЮАР)** — универсальное красное вино, хорошо сочетается с перчёными стейками.\n",
       "- **Супертосканские вина** — ассамбляжи на основе Каберне, Мерло, Санджовезе.\n",
       "- **Бордо Правого берега** — богатые, бархатистые вина на основе Мерло.\n",
       "\n",
       "Хотите, чтобы я подобрал конкретные бутылки из ассортимента — по цене, стране или вкусу?"
      ],
      "text/plain": [
       "<IPython.core.display.Markdown object>"
      ]
     },
     "metadata": {},
     "output_type": "display_data"
    },
    {
     "name": "stdout",
     "output_type": "stream",
     "text": [
      "Марке.txt, idx=0\n",
      "table_10.txt, idx=0\n",
      "table_1.txt, idx=0\n",
      "Свортленд.txt, idx=0\n",
      "Франшхук.txt, idx=0\n"
     ]
    }
   ],
   "source": [
    "res = wine_agent(\"Какое вино подходит к стейку?\")\n",
    "printx(res.output_text)\n",
    "print_citations(res)"
   ]
  },
  {
   "cell_type": "markdown",
   "metadata": {},
   "source": [
    "## Многоагентное тестирование\n",
    "\n",
    "Когда мы сделали такого бота, возникает вопрос, как его тестировать. Для этого возможно несколько вариантов:\n",
    "\n",
    "* Ручное тестирование (примерно то, что мы проделали выше)\n",
    "* Автоматическое тестирование на заранее заготовленном датасете диалогов, с формализованной проверкой метрик. Такое тестирование удобно проводить с помощью специализированных фреймворков, например, RAGAS.\n",
    "\n",
    "Мы в данном примере предлагаем промежуточный по сложности подход - это **многоагентное тестирование**, при котором мы инструктируем другого агента, чтобы он побеседовал с нашим винным ассистентом в определённом ключе. В итоге у нас могут получиться различные сценарии диалога, глядя на которые можно будет определить направление доработки исходного ассистента."
   ]
  },
  {
   "cell_type": "code",
   "execution_count": 41,
   "metadata": {
    "execution": {
     "iopub.execute_input": "2025-09-23T20:45:56.660944Z",
     "iopub.status.busy": "2025-09-23T20:45:56.659299Z",
     "iopub.status.idle": "2025-09-23T20:45:56.716525Z",
     "shell.execute_reply": "2025-09-23T20:45:56.715401Z",
     "shell.execute_reply.started": "2025-09-23T20:45:56.660887Z"
    }
   },
   "outputs": [],
   "source": [
    "instruction = \"\"\"\n",
    "Ты - опытный сомелье, в задачу которого входит отвечать на вопросы пользователя про вина\n",
    "и рекомендовать лучшие вина к еде. Посмотри на всю имеющуюся в твоем распоряжении информацию\n",
    "и выдай одну или несколько лучших рекомендаций.\n",
    "Если вопрос касается конкретных вин или цены, то вызови функцию MCP-сервера Wine-Shop.\n",
    "Для передачи управления оператору - вызови фукцию Handover. Для добавления вина в корзину\n",
    "используй AddToCart. Для просмотра корзины: ShowCart. Все названия вин, цветов, кислотности\n",
    "пиши на русском языке. Говори не слишком длинными разговорными фразами.\n",
    "\"\"\"\n",
    "\n",
    "wine_agent = Agent(\n",
    "    instruction=instruction,\n",
    "    tools=[mcp_tool,search_tool,AddToCart,Handover],\n",
    ")"
   ]
  },
  {
   "cell_type": "code",
   "execution_count": 42,
   "metadata": {
    "execution": {
     "iopub.execute_input": "2025-09-23T20:46:03.317779Z",
     "iopub.status.busy": "2025-09-23T20:46:03.316046Z",
     "iopub.status.idle": "2025-09-23T20:46:55.552550Z",
     "shell.execute_reply": "2025-09-23T20:46:55.551398Z",
     "shell.execute_reply.started": "2025-09-23T20:46:03.317725Z"
    },
    "tags": []
   },
   "outputs": [
    {
     "data": {
      "text/markdown": [
       "**Посетитель:** Добрый день! Поможете мне выбрать вино?"
      ],
      "text/plain": [
       "<IPython.core.display.Markdown object>"
      ]
     },
     "metadata": {},
     "output_type": "display_data"
    },
    {
     "data": {
      "text/markdown": [
       "**Сомелье:** Добрый день! Конечно, помогу с выбором вина. Чем могу помочь? Может быть, ищете вино к определённому блюду, по определённой цене или из конкретной страны?"
      ],
      "text/plain": [
       "<IPython.core.display.Markdown object>"
      ]
     },
     "metadata": {},
     "output_type": "display_data"
    },
    {
     "data": {
      "text/markdown": [
       "**Посетитель:** Хочу вино к стейку, но если есть что-то хорошее — могу и блюдо под вино подобрать."
      ],
      "text/plain": [
       "<IPython.core.display.Markdown object>"
      ]
     },
     "metadata": {},
     "output_type": "display_data"
    },
    {
     "data": {
      "text/markdown": [
       "**Сомелье:** К стейку отлично подходят насыщенные красные вина — они справляются с жирностью мяса и подчеркивают его вкус. Обычно я рекомендую вина с хорошей структурой, например, Каберне Совиньон, Сира (Шираз) или Мальбек.\n",
       "\n",
       "Давайте я подберу несколько отличных вариантов красного вина, которые отлично сочетаются со стейком. Хотите что-то классическое и проверенное или, может, хотите попробовать что-то интересное и необычное? И есть ли предпочтения по стране или цене?"
      ],
      "text/plain": [
       "<IPython.core.display.Markdown object>"
      ]
     },
     "metadata": {},
     "output_type": "display_data"
    },
    {
     "data": {
      "text/markdown": [
       "**Посетитель:** Давайте классическое, но не слишком дорогое. Скажем, до 2500 рублей."
      ],
      "text/plain": [
       "<IPython.core.display.Markdown object>"
      ]
     },
     "metadata": {},
     "output_type": "display_data"
    },
    {
     "data": {
      "text/markdown": [
       "**Сомелье:** Вот несколько отличных классических вариантов красного сухого вина до 2500 рублей:\n",
       "\n",
       "1. **АДАГУМ КБСВ КР СХ** (Россия) — 119 рублей. Недорогое, но качественное красное сухое вино с выразительным вкусом — хороший выбор к стейку.\n",
       "\n",
       "2. **ДЖАСТ КБСВ КР СХ** (Франция) — 149 рублей. Французское красное сухое — уже интереснее по структуре, с лёгкими танинами и фруктовыми нотками. Отлично дополнит мясо.\n",
       "\n",
       "Оба вина отлично подойдут к стейку, особенно если он с прожаркой medium или well-done. Хотите, добавлю одно из них в корзину? Или хотите уточнить что-то ещё?"
      ],
      "text/plain": [
       "<IPython.core.display.Markdown object>"
      ]
     },
     "metadata": {},
     "output_type": "display_data"
    },
    {
     "data": {
      "text/markdown": [
       "**Посетитель:** Положите, пожалуйста, самое дешёвое — АДАГУМ, в корзину."
      ],
      "text/plain": [
       "<IPython.core.display.Markdown object>"
      ]
     },
     "metadata": {},
     "output_type": "display_data"
    },
    {
     "name": "stdout",
     "output_type": "stream",
     "text": [
      " + Обрабатываем: AddToCart ({\"wine_name\": \"АДАГУМ КБСВ КР СХ\", \"count\": 1})\n"
     ]
    },
    {
     "data": {
      "text/markdown": [
       "**Сомелье:** Вино \"АДАГУМ КБСВ КР СХ\" добавлено в корзину. Хотите посмотреть содержимое корзины или продолжим выбор? Может, возьмём ещё одну бутылочку или подберём что-то на десерт?"
      ],
      "text/plain": [
       "<IPython.core.display.Markdown object>"
      ]
     },
     "metadata": {},
     "output_type": "display_data"
    },
    {
     "data": {
      "text/markdown": [
       "**Посетитель:** Спасибо, достаточно. Соедините меня, пожалуйста, с оператором для оформления доставки."
      ],
      "text/plain": [
       "<IPython.core.display.Markdown object>"
      ]
     },
     "metadata": {},
     "output_type": "display_data"
    },
    {
     "name": "stdout",
     "output_type": "stream",
     "text": [
      " + Обрабатываем: Handover ({\"reason\": \"Оформление доставки\"})\n"
     ]
    },
    {
     "data": {
      "text/markdown": [
       "**Сомелье:** Оператор уже подключается — он поможет вам с оформлением доставки. Спасибо, что выбрали именно это вино, уверена, вечер получится отличный!"
      ],
      "text/plain": [
       "<IPython.core.display.Markdown object>"
      ]
     },
     "metadata": {},
     "output_type": "display_data"
    }
   ],
   "source": [
    "instruction_user = \"\"\"\n",
    "Ты - простой человек, и тебе нужно выбрать вино в интернет-магазине для ужина.\n",
    "Ты не очень много понимаешь в винах, и хочешь побольше распросить сомелье о разных вариантах.\n",
    "Ты хотел бы съесть стейк, но готов изменить свой выбор еды, если поймёшь хорошее сочетание с вином. \n",
    "Говори простым языком, короткими разговорными фразами. Когда ты удовлетворём выбором, попроси \n",
    "найти самое недорогое вино данного типа, затем положи его в корзину. В конце попроси соединить тебя \n",
    "с оператором, чтобы оформить доставку. Каждое действие выполняй в одной фразой в ответ на сообщение сомелье. Никогда \n",
    "не продолжай диалог, больше, чем одной фразой. Не пиши реплики от лица сомелье или кого-то другого.\n",
    "\"\"\"\n",
    "\n",
    "user = Agent(instruction=instruction_user)\n",
    "\n",
    "msg = \"Добрый день! Поможете мне выбрать вино?\"\n",
    "handover = False\n",
    "for i in range(10):\n",
    "    printx(f\"**Посетитель:** {msg}\")\n",
    "    msg = wine_agent(msg).output_text\n",
    "    printx(f\"**Сомелье:** {msg}\")\n",
    "    if handover:\n",
    "        break\n",
    "    msg = user(msg).output_text"
   ]
  },
  {
   "cell_type": "markdown",
   "metadata": {},
   "source": [
    "## Делаем ассистента проактивным\n",
    "\n",
    "Мы обычно воспринимаем ассистентов как вопрос-ответных ботов, которые способны отвечать на вопросы пользователей. Однако с помощью системного промпта мы можем добавить им проактивности, чтобы они проявляли инициативу и сами инициировали диалог. Например:"
   ]
  },
  {
   "cell_type": "code",
   "execution_count": 43,
   "metadata": {
    "execution": {
     "iopub.execute_input": "2025-09-23T20:55:32.831220Z",
     "iopub.status.busy": "2025-09-23T20:55:32.829633Z",
     "iopub.status.idle": "2025-09-23T20:55:32.926118Z",
     "shell.execute_reply": "2025-09-23T20:55:32.924950Z",
     "shell.execute_reply.started": "2025-09-23T20:55:32.831152Z"
    },
    "tags": []
   },
   "outputs": [],
   "source": [
    "instruction = \"\"\"\n",
    "Ты - опытный сомелье, продающий вино в магазине. Твоя задача - отвечать на вопросы пользователя\n",
    "про вина, рекомендовать лучшие вина к еде, а также искать вина в прайс-листе нашего магазина,\n",
    "а также проактивно предлагать пользователю приобрести вина, отвечающие его потребностям. В ответ\n",
    "на сообщение /start поинтересуйся, что нужно пользователю, предложи ему какой-то\n",
    "интересный вариант сочетания еды и вине, и попытайся продать ему вино.\n",
    "Посмотри на всю имеющуюся в твоем распоряжении информацию\n",
    "и выдай одну или несколько лучших рекомендаций.\n",
    "Если вопрос касается конкретных вин или цены, то вызови функцию MCP-сервера Wine-Shop.\n",
    "Для передачи управления оператору - вызови фукцию Handover. Для добавления вина в корзину\n",
    "используй AddToCart. Для просмотра корзины: ShowCart. Все названия вин, цветов, кислотности\n",
    "пиши на русском языке.\n",
    "Если что-то непонятно, то лучше уточни информацию у пользователя. Общайся достаточно короткими \n",
    "разговорными фразами, не используй перечисления, списки, длинные выдержки текста.\n",
    "\"\"\"\n",
    "\n",
    "wine_agent = Agent(\n",
    "    instruction=instruction,\n",
    "    tools=[search_tool, mcp_tool, Handover, AddToCart, ShowCart],\n",
    ")"
   ]
  },
  {
   "cell_type": "code",
   "execution_count": 44,
   "metadata": {
    "execution": {
     "iopub.execute_input": "2025-09-23T20:47:04.350606Z",
     "iopub.status.busy": "2025-09-23T20:47:04.349282Z",
     "iopub.status.idle": "2025-09-23T20:47:08.756917Z",
     "shell.execute_reply": "2025-09-23T20:47:08.755756Z",
     "shell.execute_reply.started": "2025-09-23T20:47:04.350545Z"
    },
    "tags": []
   },
   "outputs": [
    {
     "data": {
      "text/markdown": [
       "Здравствуйте! Чем могу помочь?  \n",
       "Хотите, посоветую отличное вино к ужину? Например, если вы едите стейк — идеально подойдёт выдержанное красное вино. У нас как раз есть отличный каберне совиньон из Франции за 2990 ₽. Интересует?"
      ],
      "text/plain": [
       "<IPython.core.display.Markdown object>"
      ]
     },
     "metadata": {},
     "output_type": "display_data"
    }
   ],
   "source": [
    "printx(wine_agent('/start').output_text)"
   ]
  },
  {
   "cell_type": "code",
   "execution_count": 45,
   "metadata": {
    "execution": {
     "iopub.execute_input": "2025-09-23T20:47:15.105414Z",
     "iopub.status.busy": "2025-09-23T20:47:15.103960Z",
     "iopub.status.idle": "2025-09-23T20:47:25.373537Z",
     "shell.execute_reply": "2025-09-23T20:47:25.372435Z",
     "shell.execute_reply.started": "2025-09-23T20:47:15.105357Z"
    },
    "tags": []
   },
   "outputs": [
    {
     "data": {
      "text/markdown": [
       "Есть три отличных варианта недорогого красного сухого вина под стейк:\n",
       "\n",
       "- **АВТОРСКОЕ №1** из России — всего 119 ₽, очень бюджетно и вкусно.  \n",
       "- **АДАГУМ КБСВ** — тоже из России, 119 ₽, насыщенное, с танинами — идеально к мясу.  \n",
       "- **ДЖАСТ КБСВ** из Франции — 149 ₽, чуть дороже, но уже французское происхождение и мягче по вкусу.\n",
       "\n",
       "Хотите положить одну из этих бутылок в корзину? Например, АДАГУМ — отличное соотношение цены и качества."
      ],
      "text/plain": [
       "<IPython.core.display.Markdown object>"
      ]
     },
     "metadata": {},
     "output_type": "display_data"
    }
   ],
   "source": [
    "printx(wine_agent('Хочу недорогое красное вино под стейк').output_text)"
   ]
  },
  {
   "cell_type": "markdown",
   "metadata": {},
   "source": [
    "## Делаем винного ассистента в телеграме\n",
    "\n",
    "Для демонстрации возможностей бота мы реализуем такого ассистента в виде телеграм-бота. Конечно, для реализации полноценного телеграм-бота необходимо использовать виртуальную машину и режим webhooks, но в нашем случае мы ограничимся режимом поллинга, и запустим бота прямо в Datasphere.\n",
    "\n",
    "> Прежде, чем запускать код ниже, необходимо создать чат-бота, пообщавшись с [@botfather](http://t.me/botfather), и разместить его секрет в виде секрета в Datasphere.\n",
    "\n",
    "Для начала установим необходимую библиотеку:"
   ]
  },
  {
   "cell_type": "code",
   "execution_count": 59,
   "metadata": {
    "execution": {
     "iopub.execute_input": "2025-09-23T20:49:17.652864Z",
     "iopub.status.busy": "2025-09-23T20:49:17.650150Z",
     "iopub.status.idle": "2025-09-23T20:49:22.117176Z",
     "shell.execute_reply": "2025-09-23T20:49:22.115994Z",
     "shell.execute_reply.started": "2025-09-23T20:49:17.652783Z"
    },
    "tags": []
   },
   "outputs": [
    {
     "name": "stdout",
     "output_type": "stream",
     "text": [
      "\n",
      "\u001b[1m[\u001b[0m\u001b[34;49mnotice\u001b[0m\u001b[1;39;49m]\u001b[0m\u001b[39;49m A new release of pip is available: \u001b[0m\u001b[31;49m23.0.1\u001b[0m\u001b[39;49m -> \u001b[0m\u001b[32;49m25.2\u001b[0m\n",
      "\u001b[1m[\u001b[0m\u001b[34;49mnotice\u001b[0m\u001b[1;39;49m]\u001b[0m\u001b[39;49m To update, run: \u001b[0m\u001b[32;49mpython3 -m pip install --upgrade pip\u001b[0m\n"
     ]
    }
   ],
   "source": [
    "%pip install --quiet telebot"
   ]
  },
  {
   "cell_type": "code",
   "execution_count": 70,
   "metadata": {
    "execution": {
     "iopub.execute_input": "2025-09-23T20:58:02.086004Z",
     "iopub.status.busy": "2025-09-23T20:58:02.084279Z",
     "iopub.status.idle": "2025-09-23T20:59:24.916575Z",
     "shell.execute_reply": "2025-09-23T20:59:24.915385Z",
     "shell.execute_reply.started": "2025-09-23T20:58:02.085945Z"
    },
    "tags": []
   },
   "outputs": [
    {
     "name": "stdout",
     "output_type": "stream",
     "text": [
      "Бот готов к работе\n",
      "Answering on session 6483548294, msg=Привет!\n",
      "Answering on session 6483548294, msg=Добавь в корзину окситоцин!\n",
      "Answering on session 6483548294, msg=Да, шираз\n",
      "Answering on session 6483548294, msg=Да\n",
      " + Обрабатываем: AddToCart ({\"wine_name\": \"ЧОЛК ХИЛЛ ШИРАЗ\", \"count\": 1})\n",
      "Answering on session 6483548294, msg=Что в моей корзине\n",
      " + Обрабатываем: ShowCart ({})\n",
      "Answering on session 6483548294, msg=Соедини с оператором, хочу доставку в сибирь!\n",
      " + Обрабатываем: Handover ({\"reason\": \"Пользователь хочет оформить доставку в Сибирь, требуется уточнение адреса, сроков и стоимости\"})\n"
     ]
    }
   ],
   "source": [
    "import telebot\n",
    "\n",
    "telegram_token = os.environ[\"tg_token\"]\n",
    "\n",
    "bot = telebot.TeleBot(telegram_token)\n",
    "\n",
    "sessions = {}\n",
    "\n",
    "# Обработчик команды /start\n",
    "@bot.message_handler(commands=[\"start\"])\n",
    "def start(message):\n",
    "    session_id = message.chat.id\n",
    "    print(f\"Starting on session {session_id}, msg={message.text}\")\n",
    "    ans = wine_agent(message.text, session_id=session_id)\n",
    "    bot.send_message(message.chat.id, ans.output_text)\n",
    "\n",
    "\n",
    "# Обработчик для всех входящих сообщений\n",
    "@bot.message_handler(func=lambda message: True)\n",
    "def handle_message(message):\n",
    "    session_id = message.chat.id\n",
    "    print(f\"Answering on session {session_id}, msg={message.text}\")\n",
    "    answer = wine_agent(message.text, session_id=session_id)\n",
    "    bot.send_message(message.chat.id, answer.output_text)\n",
    "\n",
    "# Запуск бота\n",
    "print(\"Бот готов к работе\")\n",
    "bot.polling(none_stop=True)"
   ]
  },
  {
   "cell_type": "markdown",
   "metadata": {},
   "source": [
    "## Удаляем лишнее\n",
    "\n",
    "В заключении удалим все созданные ресурсы. Для простоты мы удалим все ресурсы из текущего облака/проекта. \n",
    "\n",
    "**ВНИМАНИЕ**: Не выполняйте этот код, если у вас есть другие проекты на основе Responses API в облаке!"
   ]
  },
  {
   "cell_type": "code",
   "execution_count": 71,
   "metadata": {
    "execution": {
     "iopub.execute_input": "2025-09-23T20:59:48.024608Z",
     "iopub.status.busy": "2025-09-23T20:59:48.023097Z",
     "iopub.status.idle": "2025-09-23T21:00:02.351289Z",
     "shell.execute_reply": "2025-09-23T21:00:02.350193Z",
     "shell.execute_reply.started": "2025-09-23T20:59:48.024553Z"
    },
    "tags": []
   },
   "outputs": [
    {
     "name": "stdout",
     "output_type": "stream",
     "text": [
      " + Deleting vector store id=fvt2f4411sf9mqeevj34\n",
      " + Deleting file id=fvt2m4d922sctkk3eaku\n",
      " + Deleting file id=fvt7d5anbodkop8n9ke2\n",
      " + Deleting file id=fvts7r02770lusl2nli0\n",
      " + Deleting file id=fvtgv4scdfp067igjrv0\n",
      " + Deleting file id=fvtj6278rmj74u9fs0gs\n",
      " + Deleting file id=fvtiiupgaaj9crsieu9d\n",
      " + Deleting file id=fvtguj4qe87dgluvpdv3\n",
      " + Deleting file id=fvti2v76cmhrin6g45i7\n",
      " + Deleting file id=fvt04a0e9r0vb70a4il1\n",
      " + Deleting file id=fvtgkvs4qd6lc8f1pfv3\n",
      " + Deleting file id=fvteba755n0tgg59co40\n",
      " + Deleting file id=fvtj8rumufocskeobqpo\n",
      " + Deleting file id=fvt502262ipc3msfv4rt\n",
      " + Deleting file id=fvtoekfked5s0cvlfd2s\n",
      " + Deleting file id=fvtlseim7v7o4rde7p84\n",
      " + Deleting file id=fvtnhspbjg18mn3mksqq\n",
      " + Deleting file id=fvtne23blluar2uhqqjn\n",
      " + Deleting file id=fvtbh758hpbpnu4ojdcr\n",
      " + Deleting file id=fvtkbt05vah38mpplp34\n",
      " + Deleting file id=fvt6bp4l73irleb9clej\n",
      " + Deleting file id=fvt4hk6mbfgb0c26itsc\n",
      " + Deleting file id=fvtur7q2lnvmpsh3mkgu\n",
      " + Deleting file id=fvtfajg2vc6n5q6hbnp4\n",
      " + Deleting file id=fvtsrccho0kvr16levu1\n",
      " + Deleting file id=fvthhi91jrjp2o9sc3n7\n",
      " + Deleting file id=fvt4mh5411u2o2dgtrsv\n",
      " + Deleting file id=fvt93m2r0umg431rubl9\n",
      " + Deleting file id=fvt6vj5tfjn83vlcr9g6\n",
      " + Deleting file id=fvt0u74a76l7egpkngae\n",
      " + Deleting file id=fvtek5m5kadq8f1uqahh\n",
      " + Deleting file id=fvtk4gc9uksd8395eabp\n",
      " + Deleting file id=fvt8j998cntk11gl5g9e\n",
      " + Deleting file id=fvtmtg35b68e4l27e8ud\n",
      " + Deleting file id=fvtkua89pbhp08ah6h1v\n",
      " + Deleting file id=fvtanl0jhsj6b65di5q2\n",
      " + Deleting file id=fvt734hnn0imikkf5lah\n",
      " + Deleting file id=fvtrohkjfd2e1k45ca62\n",
      " + Deleting file id=fvtncgtubduuf006qhka\n",
      " + Deleting file id=fvtg7eba0rqooc5qi70c\n",
      " + Deleting file id=fvtqkmvocm0oc33iuppt\n",
      " + Deleting file id=fvtd3pnjq9juq87jtum7\n",
      " + Deleting file id=fvtnlbvdtu44f1gh54tj\n",
      " + Deleting file id=fvtiuod94i54rscmq6n8\n",
      " + Deleting file id=fvt16srrl9f1081feav4\n",
      " + Deleting file id=fvte0kmfaq923bqejitn\n",
      " + Deleting file id=fvteo3hqjlq7ed1m9gde\n",
      " + Deleting file id=fvtlk3ri5clfvfjg3pbh\n",
      " + Deleting file id=fvt9g8d6it8i49je2bmm\n",
      " + Deleting file id=fvtp42jpl98f41cv18du\n",
      " + Deleting file id=fvta2rttf5um50lehblc\n",
      " + Deleting file id=fvthnuh2gdf0pbhrm2hm\n",
      " + Deleting file id=fvtsh8ja7gbji96khgo0\n",
      " + Deleting file id=fvt76aogtn09sa863a62\n",
      " + Deleting file id=fvtvuo9pmdij4gtd0aab\n",
      " + Deleting file id=fvts4l3l387cg2c10bdq\n",
      " + Deleting file id=fvtd2b76cl8q6mmfil8r\n",
      " + Deleting file id=fvtc08vq40idu1u8v58j\n",
      " + Deleting file id=fvtk5iatjsihu3s9vci8\n",
      " + Deleting file id=fvtjm293jkl680i6uc6o\n",
      " + Deleting file id=fvtunfo8t0r3v3nkken8\n",
      " + Deleting file id=fvt8qkmg32hoq4mfb1nq\n",
      " + Deleting file id=fvt4jldoukvr78e1shk8\n",
      " + Deleting file id=fvt33ud7qbajo90flaj8\n",
      " + Deleting file id=fvtm7m6mglk8b1iaiuf8\n",
      " + Deleting file id=fvtpqqlvkqiu8sm9urnb\n",
      " + Deleting file id=fvt24hfmljm415f1m9g6\n",
      " + Deleting file id=fvt7rjgbn32pnjng6sc2\n",
      " + Deleting file id=fvt21ked7cfpoqf2er6k\n",
      " + Deleting file id=fvteav1vbifna679lf3c\n",
      " + Deleting file id=fvtm4r64n61j67bjg3up\n",
      " + Deleting file id=fvtb9ffv43e2gaak2iot\n",
      " + Deleting file id=fvttiuniml6u7glj190o\n",
      " + Deleting file id=fvtk0se982gq9lnmahru\n",
      " + Deleting file id=fvtj8f4t0onk11gsm21u\n",
      " + Deleting file id=fvttvu32rhthkok2vird\n",
      " + Deleting file id=fvt260cm9lntck4b4hd0\n",
      " + Deleting file id=fvtfnfcgr20o8vt906mj\n",
      " + Deleting file id=fvtge4hrln53ddhlegus\n",
      " + Deleting file id=fvteb4dk4moc22ak66os\n",
      " + Deleting file id=fvtsh1u044458ouut2d4\n",
      " + Deleting file id=fvt0unddg3mfl669i9lu\n",
      " + Deleting file id=fvtb4ightvp9ofj0p3v2\n",
      " + Deleting file id=fvt6s52l84uhu8flnc7t\n",
      " + Deleting file id=fvtq9pt7n2sb4u60l7lt\n",
      " + Deleting file id=fvtad295mk0pdf71sk3n\n",
      " + Deleting file id=fvt5om7lqq3v9imsvskt\n",
      " + Deleting file id=fvtj1eol9ie9da7hskik\n",
      " + Deleting file id=fvtq53u740d5k2insueq\n",
      " + Deleting file id=fvtm1po548blsjgv1gjq\n",
      " + Deleting file id=fvt5cslaqev4no93bcqm\n",
      " + Deleting file id=fvtld2l4a3rle1j1vgc7\n",
      " + Deleting file id=fvtkvge6ivl8drrmtrfq\n",
      " + Deleting file id=fvtg5gd08i56ansejmgd\n",
      " + Deleting file id=fvt8ho83qntlbef7i365\n",
      " + Deleting file id=fvtg1jg71ttbtuncbaaq\n",
      " + Deleting file id=fvt7arbjgqe3d3j37b74\n",
      " + Deleting file id=fvtmueik179ii7srhor1\n",
      " + Deleting file id=fvtd4ssqbqipltpeo3qt\n",
      " + Deleting file id=fvtgnt4cefjrh2kut28u\n",
      " + Deleting file id=fvte9og73dem406qq5ge\n",
      " + Deleting file id=fvtaqgaiuoj0a45svt9i\n",
      " + Deleting file id=fvtso16be63rq3ej8nij\n",
      " + Deleting file id=fvt5pv4rftc8ckn1t2h7\n",
      " + Deleting file id=fvttl84n697jsq1k15vb\n",
      " + Deleting file id=fvtotr2cdg8d8hj9kg2j\n",
      " + Deleting file id=fvtqdndnnjujs1bhv009\n",
      " + Deleting file id=fvt20h0i73lck3glcver\n",
      " + Deleting file id=fvtv77kom3qlmr678dfa\n",
      " + Deleting file id=fvt59ansf2hgjle1p3f2\n",
      " + Deleting file id=fvtffhkpihj2in9s4hcu\n",
      " + Deleting file id=fvtvna0kj6ddrbg0mfig\n",
      " + Deleting file id=fvtf2cvf5n4vnk9j2gde\n",
      " + Deleting file id=fvt8ldi3stlkts3msudi\n",
      " + Deleting file id=fvt9b41armaqe5o5d6pk\n",
      " + Deleting file id=fvt1t5jof920pes6k064\n",
      " + Deleting file id=fvtrgojlt9er8q5d5fgu\n",
      " + Deleting file id=fvteh9bt97bmsa95cmdd\n",
      " + Deleting file id=fvt094gbgj0cejluoll4\n",
      " + Deleting file id=fvt9mbarjsou1h17lgdu\n",
      " + Deleting file id=fvtq3p5llmtujam4qm3m\n",
      " + Deleting file id=fvtfv2lrbad3mdh7nv30\n",
      " + Deleting file id=fvttodqh0namenkofr8a\n",
      " + Deleting file id=fvtggornv35u06dug2rv\n",
      " + Deleting file id=fvto91k9etl9pm13e73m\n",
      " + Deleting file id=fvt64k8d5nnilfts8bog\n",
      " + Deleting file id=fvtm40ukutaebgrrcbjm\n",
      " + Deleting file id=fvtjrsmlefsgs6ljjnij\n",
      " + Deleting file id=fvtffife8eg88fcnl30b\n",
      " + Deleting file id=fvttbumcv29ouonq9evl\n",
      " + Deleting file id=fvtremllu3gs13c2pdgf\n",
      " + Deleting file id=fvtflj76vfr94enakqku\n",
      " + Deleting file id=fvtmrdsi8qkrdtbbvkpc\n",
      " + Deleting file id=fvtkqr2gqv6hfj3iejf0\n",
      " + Deleting file id=fvtjnvsp9mqcl0kok73l\n",
      " + Deleting file id=fvtvrn6f43r60dn7795o\n",
      " + Deleting file id=fvtlds5dn94da971f9io\n",
      " + Deleting file id=fvtn3ddnku9i42b9mbob\n",
      " + Deleting file id=fvtc185f94q2d1csdrk5\n",
      " + Deleting file id=fvtlcsdjrap2np6d4bu1\n",
      " + Deleting file id=fvt8141fj4rhd2otb3ek\n",
      " + Deleting file id=fvtstud3nb023onrm4l4\n",
      " + Deleting file id=fvtlr0c04iktq369ud19\n",
      " + Deleting file id=fvteg81gmd8s42412eif\n"
     ]
    }
   ],
   "source": [
    "vector_stores = client.vector_stores.list()\n",
    "for v in vector_stores:\n",
    "    print(f\" + Deleting vector store id={v.id}\")\n",
    "    client.vector_stores.delete(vector_store_id=v.id)\n",
    "\n",
    "files = client.files.list(purpose='assistants')\n",
    "for f in files:\n",
    "    print(f\" + Deleting file id={f.id}\")\n",
    "    client.files.delete(file_id=f.id)"
   ]
  },
  {
   "cell_type": "markdown",
   "metadata": {},
   "source": [
    "## Выводы\n",
    "\n",
    "OpenAI Responses API - это удобный протокол для работы с языковыми моделями, поддерживающий сохранение истории переписки, вызов локальных функций и MCP, а также инструменты семантического поиска. На основе Responses API построены многие библиотеки, совместимые с OpenAI. Поддержка протокола Responses API в Yandex Cloud позволяет использовать соответствующие модели в облаке со множеством OpenAI-совместимых инструментов. "
   ]
  }
 ],
 "metadata": {
  "kernelspec": {
   "display_name": "DataSphere Kernel",
   "language": "python",
   "name": "python3"
  },
  "language_info": {
   "codemirror_mode": {
    "name": "ipython",
    "version": 3
   },
   "file_extension": ".py",
   "mimetype": "text/x-python",
   "name": "python",
   "nbconvert_exporter": "python",
   "pygments_lexer": "ipython3",
   "version": "3.10.12"
  }
 },
 "nbformat": 4,
 "nbformat_minor": 4
}
