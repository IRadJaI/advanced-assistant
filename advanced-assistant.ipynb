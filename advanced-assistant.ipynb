{
 "cells": [
  {
   "cell_type": "markdown",
   "metadata": {},
   "source": [
    "## Создание продвинутых ассистентов\n",
    "\n",
    "В этом ноутбуке мы попробуем создать и протестировать чат-ассистента на основе Yandex Assistant API, RAG и Function Calling.\n",
    "\n",
    "Для начала, установим Yandex Cloud ML SDK. В идеальном мире, вы сделаете вот так:"
   ]
  },
  {
   "cell_type": "code",
   "execution_count": 9,
   "metadata": {
    "execution": {
     "iopub.execute_input": "2025-03-20T11:26:40.760420Z",
     "iopub.status.busy": "2025-03-20T11:26:40.759649Z",
     "iopub.status.idle": "2025-03-20T11:26:49.046731Z",
     "shell.execute_reply": "2025-03-20T11:26:49.045788Z",
     "shell.execute_reply.started": "2025-03-20T11:26:40.760378Z"
    },
    "tags": []
   },
   "outputs": [
    {
     "name": "stderr",
     "output_type": "stream",
     "text": [
      "WARNING: All log messages before absl::InitializeLog() is called are written to STDERR\n",
      "I0000 00:00:1742470000.768423    3331 fork_posix.cc:75] Other threads are currently calling into gRPC, skipping fork() handlers\n"
     ]
    },
    {
     "name": "stdout",
     "output_type": "stream",
     "text": [
      "Defaulting to user installation because normal site-packages is not writeable\n",
      "Requirement already satisfied: yandex-cloud-ml-sdk in /home/jupyter/.local/lib/python3.10/site-packages (0.4.1)\n",
      "Collecting yandex-cloud-ml-sdk\n",
      "  Downloading yandex_cloud_ml_sdk-0.4.2-py3-none-any.whl.metadata (4.1 kB)\n",
      "Requirement already satisfied: yandexcloud>=0.335.0 in /home/jupyter/.local/lib/python3.10/site-packages (from yandex-cloud-ml-sdk) (0.336.0)\n",
      "Requirement already satisfied: grpcio>=1.70.0 in /home/jupyter/.local/lib/python3.10/site-packages (from yandex-cloud-ml-sdk) (1.71.0)\n",
      "Requirement already satisfied: get-annotations in /home/jupyter/.local/lib/python3.10/site-packages (from yandex-cloud-ml-sdk) (0.1.2)\n",
      "Requirement already satisfied: httpx<1,>=0.27 in /home/jupyter/.local/lib/python3.10/site-packages (from yandex-cloud-ml-sdk) (0.28.1)\n",
      "Requirement already satisfied: typing-extensions>=4 in /usr/local/lib/python3.10/dist-packages (from yandex-cloud-ml-sdk) (4.7.1)\n",
      "Requirement already satisfied: aiofiles>=24.1.0 in /home/jupyter/.local/lib/python3.10/site-packages (from yandex-cloud-ml-sdk) (24.1.0)\n",
      "Requirement already satisfied: anyio in /usr/local/lib/python3.10/dist-packages (from httpx<1,>=0.27->yandex-cloud-ml-sdk) (3.7.1)\n",
      "Requirement already satisfied: certifi in /usr/local/lib/python3.10/dist-packages (from httpx<1,>=0.27->yandex-cloud-ml-sdk) (2023.7.22)\n",
      "Requirement already satisfied: httpcore==1.* in /home/jupyter/.local/lib/python3.10/site-packages (from httpx<1,>=0.27->yandex-cloud-ml-sdk) (1.0.7)\n",
      "Requirement already satisfied: idna in /usr/local/lib/python3.10/dist-packages (from httpx<1,>=0.27->yandex-cloud-ml-sdk) (3.4)\n",
      "Requirement already satisfied: h11<0.15,>=0.13 in /home/jupyter/.local/lib/python3.10/site-packages (from httpcore==1.*->httpx<1,>=0.27->yandex-cloud-ml-sdk) (0.14.0)\n",
      "Requirement already satisfied: cryptography>=44.0.0 in /home/jupyter/.local/lib/python3.10/site-packages (from yandexcloud>=0.335.0->yandex-cloud-ml-sdk) (44.0.2)\n",
      "Requirement already satisfied: protobuf<6,>=5.29.1 in /home/jupyter/.local/lib/python3.10/site-packages (from yandexcloud>=0.335.0->yandex-cloud-ml-sdk) (5.29.3)\n",
      "Requirement already satisfied: googleapis-common-protos<2,>=1.66.0 in /home/jupyter/.local/lib/python3.10/site-packages (from yandexcloud>=0.335.0->yandex-cloud-ml-sdk) (1.69.2)\n",
      "Requirement already satisfied: pyjwt<3,>=2.10.1 in /home/jupyter/.local/lib/python3.10/site-packages (from yandexcloud>=0.335.0->yandex-cloud-ml-sdk) (2.10.1)\n",
      "Requirement already satisfied: requests<3,>=2.32.3 in /home/jupyter/.local/lib/python3.10/site-packages (from yandexcloud>=0.335.0->yandex-cloud-ml-sdk) (2.32.3)\n",
      "Requirement already satisfied: six<2,>=1.17.0 in /home/jupyter/.local/lib/python3.10/site-packages (from yandexcloud>=0.335.0->yandex-cloud-ml-sdk) (1.17.0)\n",
      "Requirement already satisfied: grpcio-tools>=1.68.1 in /home/jupyter/.local/lib/python3.10/site-packages (from yandexcloud>=0.335.0->yandex-cloud-ml-sdk) (1.71.0)\n",
      "Requirement already satisfied: deprecated>=1.2.18 in /home/jupyter/.local/lib/python3.10/site-packages (from yandexcloud>=0.335.0->yandex-cloud-ml-sdk) (1.2.18)\n",
      "Requirement already satisfied: cffi>=1.12 in /usr/local/lib/python3.10/dist-packages (from cryptography>=44.0.0->yandexcloud>=0.335.0->yandex-cloud-ml-sdk) (1.15.1)\n",
      "Requirement already satisfied: wrapt<2,>=1.10 in /usr/local/lib/python3.10/dist-packages (from deprecated>=1.2.18->yandexcloud>=0.335.0->yandex-cloud-ml-sdk) (1.14.1)\n",
      "Requirement already satisfied: setuptools in /kernel/lib/python3.10/site-packages (from grpcio-tools>=1.68.1->yandexcloud>=0.335.0->yandex-cloud-ml-sdk) (65.5.0)\n",
      "Requirement already satisfied: charset-normalizer<4,>=2 in /usr/local/lib/python3.10/dist-packages (from requests<3,>=2.32.3->yandexcloud>=0.335.0->yandex-cloud-ml-sdk) (2.0.12)\n",
      "Requirement already satisfied: urllib3<3,>=1.21.1 in /usr/local/lib/python3.10/dist-packages (from requests<3,>=2.32.3->yandexcloud>=0.335.0->yandex-cloud-ml-sdk) (1.26.16)\n",
      "Requirement already satisfied: sniffio>=1.1 in /usr/local/lib/python3.10/dist-packages (from anyio->httpx<1,>=0.27->yandex-cloud-ml-sdk) (1.3.0)\n",
      "Requirement already satisfied: exceptiongroup in /usr/local/lib/python3.10/dist-packages (from anyio->httpx<1,>=0.27->yandex-cloud-ml-sdk) (1.1.2)\n",
      "Requirement already satisfied: pycparser in /usr/local/lib/python3.10/dist-packages (from cffi>=1.12->cryptography>=44.0.0->yandexcloud>=0.335.0->yandex-cloud-ml-sdk) (2.21)\n",
      "Downloading yandex_cloud_ml_sdk-0.4.2-py3-none-any.whl (119 kB)\n",
      "Installing collected packages: yandex-cloud-ml-sdk\n",
      "  Attempting uninstall: yandex-cloud-ml-sdk\n",
      "    Found existing installation: yandex-cloud-ml-sdk 0.4.1\n",
      "    Uninstalling yandex-cloud-ml-sdk-0.4.1:\n",
      "      Successfully uninstalled yandex-cloud-ml-sdk-0.4.1\n",
      "Successfully installed yandex-cloud-ml-sdk-0.4.2\n",
      "\n",
      "\u001b[1m[\u001b[0m\u001b[34;49mnotice\u001b[0m\u001b[1;39;49m]\u001b[0m\u001b[39;49m A new release of pip is available: \u001b[0m\u001b[31;49m23.0.1\u001b[0m\u001b[39;49m -> \u001b[0m\u001b[32;49m25.0.1\u001b[0m\n",
      "\u001b[1m[\u001b[0m\u001b[34;49mnotice\u001b[0m\u001b[1;39;49m]\u001b[0m\u001b[39;49m To update, run: \u001b[0m\u001b[32;49mpython3 -m pip install --upgrade pip\u001b[0m\n"
     ]
    }
   ],
   "source": [
    "%pip install --upgrade --quiet yandex-cloud-ml-sdk"
   ]
  },
  {
   "cell_type": "markdown",
   "metadata": {},
   "source": [
    "В нашем случае мы установим самую последнюю версию SDK:"
   ]
  },
  {
   "cell_type": "code",
   "execution_count": 1,
   "metadata": {
    "execution": {
     "iopub.execute_input": "2025-04-02T04:03:53.137575Z",
     "iopub.status.busy": "2025-04-02T04:03:53.136633Z",
     "iopub.status.idle": "2025-04-02T04:07:14.200958Z",
     "shell.execute_reply": "2025-04-02T04:07:14.199988Z",
     "shell.execute_reply.started": "2025-04-02T04:03:53.137530Z"
    },
    "tags": []
   },
   "outputs": [
    {
     "name": "stdout",
     "output_type": "stream",
     "text": [
      "Defaulting to user installation because normal site-packages is not writeable\n",
      "Collecting yandex-cloud-ml-sdk\n",
      "  Cloning https://github.com/yandex-cloud/yandex-cloud-ml-sdk.git (to revision assistants_fc) to /tmp/pip-install-n8iaylbn/yandex-cloud-ml-sdk_4769386f056c434493486e0f75e24b69\n",
      "  Running command git clone --filter=blob:none --quiet https://github.com/yandex-cloud/yandex-cloud-ml-sdk.git /tmp/pip-install-n8iaylbn/yandex-cloud-ml-sdk_4769386f056c434493486e0f75e24b69\n",
      "  Running command git checkout -b assistants_fc --track origin/assistants_fc\n",
      "  Switched to a new branch 'assistants_fc'\n",
      "  Branch 'assistants_fc' set up to track remote branch 'assistants_fc' from 'origin'.\n",
      "  Resolved https://github.com/yandex-cloud/yandex-cloud-ml-sdk.git to commit 4603be4548f315f3111fe445de91718256a23dbc\n",
      "  Preparing metadata (pyproject.toml) ... \u001b[?25ldone\n",
      "\u001b[?25hCollecting yandexcloud>=0.335.0 (from yandex-cloud-ml-sdk)\n",
      "  Downloading yandexcloud-0.337.0-py3-none-any.whl.metadata (11 kB)\n",
      "Collecting grpcio>=1.70.0 (from yandex-cloud-ml-sdk)\n",
      "  Downloading grpcio-1.71.0-cp310-cp310-manylinux_2_17_x86_64.manylinux2014_x86_64.whl.metadata (3.8 kB)\n",
      "Collecting get-annotations (from yandex-cloud-ml-sdk)\n",
      "  Downloading get_annotations-0.1.2-py3-none-any.whl.metadata (3.3 kB)\n",
      "Collecting httpx<1,>=0.27 (from yandex-cloud-ml-sdk)\n",
      "  Downloading httpx-0.28.1-py3-none-any.whl.metadata (7.1 kB)\n",
      "Collecting typing-extensions>=4 (from yandex-cloud-ml-sdk)\n",
      "  Downloading typing_extensions-4.13.0-py3-none-any.whl.metadata (3.0 kB)\n",
      "Collecting aiofiles>=24.1.0 (from yandex-cloud-ml-sdk)\n",
      "  Downloading aiofiles-24.1.0-py3-none-any.whl.metadata (10 kB)\n",
      "Collecting anyio (from httpx<1,>=0.27->yandex-cloud-ml-sdk)\n",
      "  Downloading anyio-4.9.0-py3-none-any.whl.metadata (4.7 kB)\n",
      "Collecting certifi (from httpx<1,>=0.27->yandex-cloud-ml-sdk)\n",
      "  Downloading certifi-2025.1.31-py3-none-any.whl.metadata (2.5 kB)\n",
      "Collecting httpcore==1.* (from httpx<1,>=0.27->yandex-cloud-ml-sdk)\n",
      "  Downloading httpcore-1.0.7-py3-none-any.whl.metadata (21 kB)\n",
      "Collecting idna (from httpx<1,>=0.27->yandex-cloud-ml-sdk)\n",
      "  Downloading idna-3.10-py3-none-any.whl.metadata (10 kB)\n",
      "Collecting h11<0.15,>=0.13 (from httpcore==1.*->httpx<1,>=0.27->yandex-cloud-ml-sdk)\n",
      "  Downloading h11-0.14.0-py3-none-any.whl.metadata (8.2 kB)\n",
      "Collecting cryptography>=44.0.0 (from yandexcloud>=0.335.0->yandex-cloud-ml-sdk)\n",
      "  Downloading cryptography-44.0.2-cp39-abi3-manylinux_2_34_x86_64.whl.metadata (5.7 kB)\n",
      "Collecting protobuf<6,>=5.29.1 (from yandexcloud>=0.335.0->yandex-cloud-ml-sdk)\n",
      "  Downloading protobuf-5.29.4-cp38-abi3-manylinux2014_x86_64.whl.metadata (592 bytes)\n",
      "Collecting googleapis-common-protos<2,>=1.66.0 (from yandexcloud>=0.335.0->yandex-cloud-ml-sdk)\n",
      "  Downloading googleapis_common_protos-1.69.2-py3-none-any.whl.metadata (9.3 kB)\n",
      "Collecting pyjwt<3,>=2.10.1 (from yandexcloud>=0.335.0->yandex-cloud-ml-sdk)\n",
      "  Downloading PyJWT-2.10.1-py3-none-any.whl.metadata (4.0 kB)\n",
      "Collecting requests<3,>=2.32.3 (from yandexcloud>=0.335.0->yandex-cloud-ml-sdk)\n",
      "  Downloading requests-2.32.3-py3-none-any.whl.metadata (4.6 kB)\n",
      "Collecting six<2,>=1.17.0 (from yandexcloud>=0.335.0->yandex-cloud-ml-sdk)\n",
      "  Downloading six-1.17.0-py2.py3-none-any.whl.metadata (1.7 kB)\n",
      "Collecting grpcio-tools>=1.68.1 (from yandexcloud>=0.335.0->yandex-cloud-ml-sdk)\n",
      "  Downloading grpcio_tools-1.71.0-cp310-cp310-manylinux_2_17_x86_64.manylinux2014_x86_64.whl.metadata (5.3 kB)\n",
      "Collecting deprecated>=1.2.18 (from yandexcloud>=0.335.0->yandex-cloud-ml-sdk)\n",
      "  Downloading Deprecated-1.2.18-py2.py3-none-any.whl.metadata (5.7 kB)\n",
      "Collecting cffi>=1.12 (from cryptography>=44.0.0->yandexcloud>=0.335.0->yandex-cloud-ml-sdk)\n",
      "  Downloading cffi-1.17.1-cp310-cp310-manylinux_2_17_x86_64.manylinux2014_x86_64.whl.metadata (1.5 kB)\n",
      "Collecting wrapt<2,>=1.10 (from deprecated>=1.2.18->yandexcloud>=0.335.0->yandex-cloud-ml-sdk)\n",
      "  Downloading wrapt-1.17.2-cp310-cp310-manylinux_2_5_x86_64.manylinux1_x86_64.manylinux_2_17_x86_64.manylinux2014_x86_64.whl.metadata (6.4 kB)\n",
      "Collecting setuptools (from grpcio-tools>=1.68.1->yandexcloud>=0.335.0->yandex-cloud-ml-sdk)\n",
      "  Downloading setuptools-78.1.0-py3-none-any.whl.metadata (6.6 kB)\n",
      "Collecting charset-normalizer<4,>=2 (from requests<3,>=2.32.3->yandexcloud>=0.335.0->yandex-cloud-ml-sdk)\n",
      "  Downloading charset_normalizer-3.4.1-cp310-cp310-manylinux_2_17_x86_64.manylinux2014_x86_64.whl.metadata (35 kB)\n",
      "Collecting urllib3<3,>=1.21.1 (from requests<3,>=2.32.3->yandexcloud>=0.335.0->yandex-cloud-ml-sdk)\n",
      "  Downloading urllib3-2.3.0-py3-none-any.whl.metadata (6.5 kB)\n",
      "Collecting exceptiongroup>=1.0.2 (from anyio->httpx<1,>=0.27->yandex-cloud-ml-sdk)\n",
      "  Downloading exceptiongroup-1.2.2-py3-none-any.whl.metadata (6.6 kB)\n",
      "Collecting sniffio>=1.1 (from anyio->httpx<1,>=0.27->yandex-cloud-ml-sdk)\n",
      "  Downloading sniffio-1.3.1-py3-none-any.whl.metadata (3.9 kB)\n",
      "Collecting pycparser (from cffi>=1.12->cryptography>=44.0.0->yandexcloud>=0.335.0->yandex-cloud-ml-sdk)\n",
      "  Downloading pycparser-2.22-py3-none-any.whl.metadata (943 bytes)\n",
      "Downloading aiofiles-24.1.0-py3-none-any.whl (15 kB)\n",
      "Downloading grpcio-1.71.0-cp310-cp310-manylinux_2_17_x86_64.manylinux2014_x86_64.whl (5.9 MB)\n",
      "\u001b[2K   \u001b[90m━━━━━━━━━━━━━━━━━━━━━━━━━━━━━━━━━━━━━━━━\u001b[0m \u001b[32m5.9/5.9 MB\u001b[0m \u001b[31m19.9 MB/s\u001b[0m eta \u001b[36m0:00:00\u001b[0ma \u001b[36m0:00:01\u001b[0m\n",
      "\u001b[?25hDownloading httpx-0.28.1-py3-none-any.whl (73 kB)\n",
      "Downloading httpcore-1.0.7-py3-none-any.whl (78 kB)\n",
      "Downloading typing_extensions-4.13.0-py3-none-any.whl (45 kB)\n",
      "Downloading yandexcloud-0.337.0-py3-none-any.whl (4.5 MB)\n",
      "\u001b[2K   \u001b[90m━━━━━━━━━━━━━━━━━━━━━━━━━━━━━━━━━━━━━━━━\u001b[0m \u001b[32m4.5/4.5 MB\u001b[0m \u001b[31m51.1 MB/s\u001b[0m eta \u001b[36m0:00:00\u001b[0m\n",
      "\u001b[?25hDownloading get_annotations-0.1.2-py3-none-any.whl (4.5 kB)\n",
      "Downloading cryptography-44.0.2-cp39-abi3-manylinux_2_34_x86_64.whl (4.2 MB)\n",
      "\u001b[2K   \u001b[90m━━━━━━━━━━━━━━━━━━━━━━━━━━━━━━━━━━━━━━━━\u001b[0m \u001b[32m4.2/4.2 MB\u001b[0m \u001b[31m44.7 MB/s\u001b[0m eta \u001b[36m0:00:00\u001b[0m\n",
      "\u001b[?25hDownloading Deprecated-1.2.18-py2.py3-none-any.whl (10.0 kB)\n",
      "Downloading googleapis_common_protos-1.69.2-py3-none-any.whl (293 kB)\n",
      "Downloading grpcio_tools-1.71.0-cp310-cp310-manylinux_2_17_x86_64.manylinux2014_x86_64.whl (2.5 MB)\n",
      "\u001b[2K   \u001b[90m━━━━━━━━━━━━━━━━━━━━━━━━━━━━━━━━━━━━━━━━\u001b[0m \u001b[32m2.5/2.5 MB\u001b[0m \u001b[31m64.1 MB/s\u001b[0m eta \u001b[36m0:00:00\u001b[0m\n",
      "\u001b[?25hDownloading protobuf-5.29.4-cp38-abi3-manylinux2014_x86_64.whl (319 kB)\n",
      "Downloading PyJWT-2.10.1-py3-none-any.whl (22 kB)\n",
      "Downloading requests-2.32.3-py3-none-any.whl (64 kB)\n",
      "Downloading certifi-2025.1.31-py3-none-any.whl (166 kB)\n",
      "Downloading idna-3.10-py3-none-any.whl (70 kB)\n",
      "Downloading six-1.17.0-py2.py3-none-any.whl (11 kB)\n",
      "Downloading anyio-4.9.0-py3-none-any.whl (100 kB)\n",
      "Downloading cffi-1.17.1-cp310-cp310-manylinux_2_17_x86_64.manylinux2014_x86_64.whl (446 kB)\n",
      "Downloading charset_normalizer-3.4.1-cp310-cp310-manylinux_2_17_x86_64.manylinux2014_x86_64.whl (146 kB)\n",
      "Downloading exceptiongroup-1.2.2-py3-none-any.whl (16 kB)\n",
      "Downloading h11-0.14.0-py3-none-any.whl (58 kB)\n",
      "Downloading sniffio-1.3.1-py3-none-any.whl (10 kB)\n",
      "Downloading urllib3-2.3.0-py3-none-any.whl (128 kB)\n",
      "Downloading wrapt-1.17.2-cp310-cp310-manylinux_2_5_x86_64.manylinux1_x86_64.manylinux_2_17_x86_64.manylinux2014_x86_64.whl (82 kB)\n",
      "Downloading setuptools-78.1.0-py3-none-any.whl (1.3 MB)\n",
      "\u001b[2K   \u001b[90m━━━━━━━━━━━━━━━━━━━━━━━━━━━━━━━━━━━━━━━━\u001b[0m \u001b[32m1.3/1.3 MB\u001b[0m \u001b[31m17.8 MB/s\u001b[0m eta \u001b[36m0:00:00\u001b[0m\n",
      "\u001b[?25hDownloading pycparser-2.22-py3-none-any.whl (117 kB)\n",
      "Building wheels for collected packages: yandex-cloud-ml-sdk\n",
      "  Building wheel for yandex-cloud-ml-sdk (pyproject.toml) ... \u001b[?25ldone\n",
      "\u001b[?25h  Created wheel for yandex-cloud-ml-sdk: filename=yandex_cloud_ml_sdk-0.5.0-py3-none-any.whl size=126594 sha256=028195dec36ebda47ec8046c34a6a7eb8e1c7006c4c94a675a12ee07d8ad1535\n",
      "  Stored in directory: /tmp/pip-ephem-wheel-cache-5zrsn6p9/wheels/c2/22/04/5bfa74935ab873a86414179f98bc5c42ba069238f767123653\n",
      "Successfully built yandex-cloud-ml-sdk\n",
      "Installing collected packages: wrapt, urllib3, typing-extensions, sniffio, six, setuptools, pyjwt, pycparser, protobuf, idna, h11, grpcio, get-annotations, exceptiongroup, charset-normalizer, certifi, aiofiles, requests, httpcore, grpcio-tools, googleapis-common-protos, deprecated, cffi, anyio, httpx, cryptography, yandexcloud, yandex-cloud-ml-sdk\n",
      "\u001b[33m  WARNING: The script normalizer is installed in '/home/jupyter/.local/bin' which is not on PATH.\n",
      "  Consider adding this directory to PATH or, if you prefer to suppress this warning, use --no-warn-script-location.\u001b[0m\u001b[33m\n",
      "\u001b[0m\u001b[33m  WARNING: The script httpx is installed in '/home/jupyter/.local/bin' which is not on PATH.\n",
      "  Consider adding this directory to PATH or, if you prefer to suppress this warning, use --no-warn-script-location.\u001b[0m\u001b[33m\n",
      "\u001b[0m\u001b[31mERROR: pip's dependency resolver does not currently take into account all the packages that are installed. This behaviour is the source of the following dependency conflicts.\n",
      "botocore 1.23.24 requires urllib3<1.27,>=1.25.4, but you have urllib3 2.3.0 which is incompatible.\n",
      "cloud-ml 0.0.1 requires requests<=2.28.1,>=2.22.0, but you have requests 2.32.3 which is incompatible.\n",
      "confection 0.1.0 requires pydantic!=1.8,!=1.8.1,<1.11.0,>=1.7.4, but you have pydantic 2.11.1 which is incompatible.\n",
      "google-api-core 2.11.1 requires protobuf!=3.20.0,!=3.20.1,!=4.21.0,!=4.21.1,!=4.21.2,!=4.21.3,!=4.21.4,!=4.21.5,<5.0.0.dev0,>=3.19.5, but you have protobuf 5.29.4 which is incompatible.\n",
      "google-cloud-bigquery 3.10.0 requires protobuf!=3.20.0,!=3.20.1,!=4.21.0,!=4.21.1,!=4.21.2,!=4.21.3,!=4.21.4,!=4.21.5,<5.0.0dev,>=3.19.5, but you have protobuf 5.29.4 which is incompatible.\n",
      "google-cloud-bigquery-connection 1.12.1 requires protobuf!=3.20.0,!=3.20.1,!=4.21.0,!=4.21.1,!=4.21.2,!=4.21.3,!=4.21.4,!=4.21.5,<5.0.0dev,>=3.19.5, but you have protobuf 5.29.4 which is incompatible.\n",
      "google-cloud-bigquery-storage 2.22.0 requires protobuf!=3.20.0,!=3.20.1,!=4.21.0,!=4.21.1,!=4.21.2,!=4.21.3,!=4.21.4,!=4.21.5,<5.0.0dev,>=3.19.5, but you have protobuf 5.29.4 which is incompatible.\n",
      "google-cloud-datastore 2.15.2 requires protobuf!=3.20.0,!=3.20.1,!=4.21.0,!=4.21.1,!=4.21.2,!=4.21.3,!=4.21.4,!=4.21.5,<5.0.0dev,>=3.19.5, but you have protobuf 5.29.4 which is incompatible.\n",
      "google-cloud-firestore 2.11.1 requires protobuf!=3.20.0,!=3.20.1,!=4.21.0,!=4.21.1,!=4.21.2,!=4.21.3,!=4.21.4,!=4.21.5,<5.0.0dev,>=3.19.5, but you have protobuf 5.29.4 which is incompatible.\n",
      "google-cloud-functions 1.13.1 requires protobuf!=3.20.0,!=3.20.1,!=4.21.0,!=4.21.1,!=4.21.2,!=4.21.3,!=4.21.4,!=4.21.5,<5.0.0dev,>=3.19.5, but you have protobuf 5.29.4 which is incompatible.\n",
      "google-cloud-language 2.9.1 requires protobuf!=3.20.0,!=3.20.1,!=4.21.0,!=4.21.1,!=4.21.2,!=4.21.3,!=4.21.4,!=4.21.5,<5.0.0dev,>=3.19.5, but you have protobuf 5.29.4 which is incompatible.\n",
      "google-cloud-translate 3.11.2 requires protobuf!=3.20.0,!=3.20.1,!=4.21.0,!=4.21.1,!=4.21.2,!=4.21.3,!=4.21.4,!=4.21.5,<5.0.0dev,>=3.19.5, but you have protobuf 5.29.4 which is incompatible.\n",
      "grpc-google-iam-v1 0.12.6 requires protobuf!=3.20.0,!=3.20.1,!=4.21.1,!=4.21.2,!=4.21.3,!=4.21.4,!=4.21.5,<5.0.0dev,>=3.19.5, but you have protobuf 5.29.4 which is incompatible.\n",
      "inflect 6.0.5 requires pydantic<2,>=1.9.1, but you have pydantic 2.11.1 which is incompatible.\n",
      "jupyter-server 1.24.0 requires anyio<4,>=3.1.0, but you have anyio 4.9.0 which is incompatible.\n",
      "proto-plus 1.22.3 requires protobuf<5.0.0dev,>=3.19.0, but you have protobuf 5.29.4 which is incompatible.\n",
      "spacy 3.5.4 requires pydantic!=1.8,!=1.8.1,<1.11.0,>=1.7.4, but you have pydantic 2.11.1 which is incompatible.\n",
      "tensorflow 2.12.0 requires protobuf!=4.21.0,!=4.21.1,!=4.21.2,!=4.21.3,!=4.21.4,!=4.21.5,<5.0.0dev,>=3.20.3, but you have protobuf 5.29.4 which is incompatible.\n",
      "tensorflow 2.12.0 requires wrapt<1.15,>=1.11.0, but you have wrapt 1.17.2 which is incompatible.\n",
      "tensorflow-metadata 1.13.1 requires protobuf<5,>=3.20.3, but you have protobuf 5.29.4 which is incompatible.\n",
      "thinc 8.1.10 requires pydantic!=1.8,!=1.8.1,<1.11.0,>=1.7.4, but you have pydantic 2.11.1 which is incompatible.\u001b[0m\u001b[31m\n",
      "\u001b[0mSuccessfully installed aiofiles-24.1.0 anyio-4.9.0 certifi-2025.1.31 cffi-1.17.1 charset-normalizer-3.4.1 cryptography-44.0.2 deprecated-1.2.18 exceptiongroup-1.2.2 get-annotations-0.1.2 googleapis-common-protos-1.69.2 grpcio-1.71.0 grpcio-tools-1.71.0 h11-0.14.0 httpcore-1.0.7 httpx-0.28.1 idna-3.10 protobuf-5.29.3 pycparser-2.22 pyjwt-2.10.1 requests-2.32.3 setuptools-78.1.0 six-1.17.0 sniffio-1.3.1 typing-extensions-4.13.0 urllib3-2.3.0 wrapt-1.17.2 yandex-cloud-ml-sdk-0.5.0 yandexcloud-0.336.0\n",
      "\n",
      "\u001b[1m[\u001b[0m\u001b[34;49mnotice\u001b[0m\u001b[1;39;49m]\u001b[0m\u001b[39;49m A new release of pip is available: \u001b[0m\u001b[31;49m23.0.1\u001b[0m\u001b[39;49m -> \u001b[0m\u001b[32;49m25.0.1\u001b[0m\n",
      "\u001b[1m[\u001b[0m\u001b[34;49mnotice\u001b[0m\u001b[1;39;49m]\u001b[0m\u001b[39;49m To update, run: \u001b[0m\u001b[32;49mpython3 -m pip install --upgrade pip\u001b[0m\n"
     ]
    }
   ],
   "source": [
    "%pip install --quiet -I git+https://github.com/yandex-cloud/yandex-cloud-ml-sdk.git@assistants_fc#egg=yandex-cloud-ml-sdk"
   ]
  },
  {
   "cell_type": "markdown",
   "metadata": {},
   "source": [
    "Также необходимо обновить некоторые библиотеки:"
   ]
  },
  {
   "cell_type": "code",
   "execution_count": 53,
   "metadata": {
    "execution": {
     "iopub.execute_input": "2025-03-31T12:50:16.181842Z",
     "iopub.status.busy": "2025-03-31T12:50:16.180391Z",
     "iopub.status.idle": "2025-03-31T12:50:28.504805Z",
     "shell.execute_reply": "2025-03-31T12:50:28.503695Z",
     "shell.execute_reply.started": "2025-03-31T12:50:16.181789Z"
    }
   },
   "outputs": [
    {
     "name": "stderr",
     "output_type": "stream",
     "text": [
      "WARNING: All log messages before absl::InitializeLog() is called are written to STDERR\n",
      "I0000 00:00:1743425416.188163    3524 fork_posix.cc:75] Other threads are currently calling into gRPC, skipping fork() handlers\n"
     ]
    },
    {
     "name": "stdout",
     "output_type": "stream",
     "text": [
      "Defaulting to user installation because normal site-packages is not writeable\n",
      "Requirement already satisfied: pydantic in /usr/local/lib/python3.10/dist-packages (1.10.12)\n",
      "Collecting pydantic\n",
      "  Downloading pydantic-2.11.1-py3-none-any.whl.metadata (63 kB)\n",
      "Collecting annotated-types>=0.6.0 (from pydantic)\n",
      "  Downloading annotated_types-0.7.0-py3-none-any.whl.metadata (15 kB)\n",
      "Collecting pydantic-core==2.33.0 (from pydantic)\n",
      "  Downloading pydantic_core-2.33.0-cp310-cp310-manylinux_2_17_x86_64.manylinux2014_x86_64.whl.metadata (6.8 kB)\n",
      "Collecting typing-extensions>=4.12.2 (from pydantic)\n",
      "  Downloading typing_extensions-4.13.0-py3-none-any.whl.metadata (3.0 kB)\n",
      "Collecting typing-inspection>=0.4.0 (from pydantic)\n",
      "  Downloading typing_inspection-0.4.0-py3-none-any.whl.metadata (2.6 kB)\n",
      "Downloading pydantic-2.11.1-py3-none-any.whl (442 kB)\n",
      "Downloading pydantic_core-2.33.0-cp310-cp310-manylinux_2_17_x86_64.manylinux2014_x86_64.whl (2.0 MB)\n",
      "\u001b[2K   \u001b[90m━━━━━━━━━━━━━━━━━━━━━━━━━━━━━━━━━━━━━━━━\u001b[0m \u001b[32m2.0/2.0 MB\u001b[0m \u001b[31m17.9 MB/s\u001b[0m eta \u001b[36m0:00:00\u001b[0m\n",
      "\u001b[?25hDownloading annotated_types-0.7.0-py3-none-any.whl (13 kB)\n",
      "Downloading typing_extensions-4.13.0-py3-none-any.whl (45 kB)\n",
      "Downloading typing_inspection-0.4.0-py3-none-any.whl (14 kB)\n",
      "Installing collected packages: typing-extensions, annotated-types, typing-inspection, pydantic-core, pydantic\n",
      "\u001b[31mERROR: pip's dependency resolver does not currently take into account all the packages that are installed. This behaviour is the source of the following dependency conflicts.\n",
      "confection 0.1.0 requires pydantic!=1.8,!=1.8.1,<1.11.0,>=1.7.4, but you have pydantic 2.11.1 which is incompatible.\n",
      "inflect 6.0.5 requires pydantic<2,>=1.9.1, but you have pydantic 2.11.1 which is incompatible.\n",
      "spacy 3.5.4 requires pydantic!=1.8,!=1.8.1,<1.11.0,>=1.7.4, but you have pydantic 2.11.1 which is incompatible.\n",
      "tensorflow 2.12.0 requires protobuf!=4.21.0,!=4.21.1,!=4.21.2,!=4.21.3,!=4.21.4,!=4.21.5,<5.0.0dev,>=3.20.3, but you have protobuf 5.29.3 which is incompatible.\n",
      "thinc 8.1.10 requires pydantic!=1.8,!=1.8.1,<1.11.0,>=1.7.4, but you have pydantic 2.11.1 which is incompatible.\u001b[0m\u001b[31m\n",
      "\u001b[0mSuccessfully installed annotated-types-0.7.0 pydantic-2.11.1 pydantic-core-2.33.0 typing-extensions-4.13.0 typing-inspection-0.4.0\n",
      "\n",
      "\u001b[1m[\u001b[0m\u001b[34;49mnotice\u001b[0m\u001b[1;39;49m]\u001b[0m\u001b[39;49m A new release of pip is available: \u001b[0m\u001b[31;49m23.0.1\u001b[0m\u001b[39;49m -> \u001b[0m\u001b[32;49m25.0.1\u001b[0m\n",
      "\u001b[1m[\u001b[0m\u001b[34;49mnotice\u001b[0m\u001b[1;39;49m]\u001b[0m\u001b[39;49m To update, run: \u001b[0m\u001b[32;49mpython3 -m pip install --upgrade pip\u001b[0m\n"
     ]
    }
   ],
   "source": [
    "%pip install --upgrade pydantic"
   ]
  },
  {
   "cell_type": "markdown",
   "metadata": {},
   "source": [
    "И ещё пара полезных функций на будущее:"
   ]
  },
  {
   "cell_type": "code",
   "execution_count": 71,
   "metadata": {
    "execution": {
     "iopub.execute_input": "2025-04-02T05:09:25.734660Z",
     "iopub.status.busy": "2025-04-02T05:09:25.733552Z",
     "iopub.status.idle": "2025-04-02T05:09:25.752847Z",
     "shell.execute_reply": "2025-04-02T05:09:25.751888Z",
     "shell.execute_reply.started": "2025-04-02T05:09:25.734613Z"
    },
    "tags": []
   },
   "outputs": [],
   "source": [
    "from IPython.display import Markdown, display\n",
    "def printx(string):\n",
    "    display(Markdown(string))"
   ]
  },
  {
   "cell_type": "markdown",
   "metadata": {},
   "source": [
    "Для работы с языковыми моделями нам понадобится ключ `api_key` для сервисного аккаунта, имеющего права на доступ к модели, и `folder_id`. Мы предполагаем, что соответствующие значения хранятся в секретах Datasphere.\n",
    "\n",
    "Создадим модель последней версии YandexGPT 5 и убедимся, что она кое-что знает про вина:"
   ]
  },
  {
   "cell_type": "code",
   "execution_count": 15,
   "metadata": {
    "execution": {
     "iopub.execute_input": "2025-04-02T04:18:00.173633Z",
     "iopub.status.busy": "2025-04-02T04:18:00.172176Z",
     "iopub.status.idle": "2025-04-02T04:18:00.201984Z",
     "shell.execute_reply": "2025-04-02T04:18:00.201070Z",
     "shell.execute_reply.started": "2025-04-02T04:18:00.173583Z"
    },
    "tags": []
   },
   "outputs": [],
   "source": [
    "import os\n",
    "from yandex_cloud_ml_sdk import YCloudML\n",
    "\n",
    "folder_id = os.environ[\"folder_id\"]\n",
    "api_key = os.environ[\"api_key\"]\n",
    "\n",
    "sdk = YCloudML(folder_id=folder_id, auth=api_key)\n",
    "\n",
    "# Раскомментируйте, если хотите подробнее смотреть, что делает SDK\n",
    "#sdk.setup_default_logging(log_level='DEBUG')\n",
    "\n",
    "model = sdk.models.completions(\"yandexgpt\", model_version=\"rc\")"
   ]
  },
  {
   "cell_type": "code",
   "execution_count": 72,
   "metadata": {
    "execution": {
     "iopub.execute_input": "2025-04-02T05:09:41.824811Z",
     "iopub.status.busy": "2025-04-02T05:09:41.823231Z",
     "iopub.status.idle": "2025-04-02T05:09:45.537145Z",
     "shell.execute_reply": "2025-04-02T05:09:45.536205Z",
     "shell.execute_reply.started": "2025-04-02T05:09:41.824762Z"
    },
    "tags": []
   },
   "outputs": [
    {
     "data": {
      "text/markdown": [
       "Выбор вина к устрицам зависит от ваших личных предпочтений и вида устриц. Обычно с устрицами подают белое вино, так как оно хорошо сочетается с их солоноватым вкусом и текстурой.\n",
       "\n",
       "Вот несколько примеров вин, которые часто рекомендуют к устрицам:\n",
       "\n",
       "1. Шардоне (Chardonnay) — особенно из прохладных климатических зон, таких как Шабли или Калифорния, может быть отличным выбором. Оно обладает свежим вкусом с нотами цитрусовых и зелёного яблока.\n",
       "2. Совиньон Блан (Sauvignon Blanc) — особенно из Новой Зеландии, часто имеет яркий и свежий вкус с нотами грейпфрута и зелёного перца.\n",
       "3. Альбариньо (Albarino) — белое вино из региона Риас Байшас в Испании, известное своей свежестью и фруктовостью.\n",
       "4. Вердело (Verdelho) — португальское белое вино с освежающим вкусом и нотами цитрусовых.\n",
       "5. Мюскаде (Muscadet) — белое вино из региона Луары во Франции, которое часто рекомендуют к морепродуктам, включая устрицы.\n",
       "\n",
       "Помните, что выбор вина — это дело вкуса, и вы можете экспериментировать с разными сортами, чтобы найти то, что вам больше всего нравится."
      ],
      "text/plain": [
       "<ml_kernel._vendor.IPython.core.display.Markdown object>"
      ]
     },
     "metadata": {},
     "output_type": "display_data"
    }
   ],
   "source": [
    "printx(model.run(\"Какое вино можно пить с устрицами?\").text)"
   ]
  },
  {
   "cell_type": "markdown",
   "metadata": {},
   "source": [
    "## Assistant API\n",
    "\n",
    "Для ведения беседы с моделью с сохранением контекста диалога используем Assistants API. Объект `thread` будет отвечать за сохранение контекста, а `assistant` - за все основные установки, связанные с работой ассистента."
   ]
  },
  {
   "cell_type": "code",
   "execution_count": 17,
   "metadata": {
    "execution": {
     "iopub.execute_input": "2025-04-02T04:18:55.045871Z",
     "iopub.status.busy": "2025-04-02T04:18:55.044762Z",
     "iopub.status.idle": "2025-04-02T04:18:55.064492Z",
     "shell.execute_reply": "2025-04-02T04:18:55.063508Z",
     "shell.execute_reply.started": "2025-04-02T04:18:55.045823Z"
    },
    "tags": []
   },
   "outputs": [],
   "source": [
    "def create_thread():\n",
    "    return sdk.threads.create(ttl_days=1, expiration_policy=\"static\")\n",
    "\n",
    "def create_assistant(model, tools=None):\n",
    "    kwargs = {}\n",
    "    if tools and len(tools) > 0:\n",
    "        kwargs = {\"tools\": tools}\n",
    "    return sdk.assistants.create(\n",
    "        model, ttl_days=1, expiration_policy=\"since_last_active\", **kwargs\n",
    "    )"
   ]
  },
  {
   "cell_type": "code",
   "execution_count": 4,
   "metadata": {
    "execution": {
     "iopub.execute_input": "2025-04-02T04:10:27.136801Z",
     "iopub.status.busy": "2025-04-02T04:10:27.135607Z",
     "iopub.status.idle": "2025-04-02T04:10:32.109910Z",
     "shell.execute_reply": "2025-04-02T04:10:32.108997Z",
     "shell.execute_reply.started": "2025-04-02T04:10:27.136750Z"
    },
    "tags": []
   },
   "outputs": [
    {
     "name": "stdout",
     "output_type": "stream",
     "text": [
      "Здравствуйте! Чтобы подобрать наиболее подходящее вино, мне нужно знать несколько деталей:\n",
      "\n",
      "1. Какой тип вина вы предпочитаете: красное, белое, розовое, игристое или десертное?\n",
      "2. Какой стиль вина вам нравится: лёгкое и свежее или более насыщенное и крепкое?\n",
      "3. Есть ли у вас предпочтения по вкусам и ароматам? Например, фруктовые, ягодные, цветочные, минеральные и т. д.\n",
      "4. В каком ценовом диапазоне вы ищете вино?\n",
      "5. С какими блюдами вы планируете сочетать вино?\n",
      "\n",
      "Чем больше информации вы предоставите, тем точнее я смогу подобрать рекомендации.\n"
     ]
    }
   ],
   "source": [
    "thread = create_thread()\n",
    "assistant = create_assistant(model)\n",
    "\n",
    "assistant.update(\n",
    "    instruction=\"\"\"Ты - опытный сомелье, задача которого - консультировать пользователя в\n",
    "    вопросах выбора вина.\"\"\"\n",
    ")\n",
    "\n",
    "thread.write(\"Привет! Какое вино посоветуете?\")\n",
    "\n",
    "run = assistant.run(thread)\n",
    "result = run.wait()\n",
    "\n",
    "print(result.text)"
   ]
  },
  {
   "cell_type": "code",
   "execution_count": 5,
   "metadata": {
    "execution": {
     "iopub.execute_input": "2025-04-02T04:10:41.624310Z",
     "iopub.status.busy": "2025-04-02T04:10:41.623115Z",
     "iopub.status.idle": "2025-04-02T04:10:45.442535Z",
     "shell.execute_reply": "2025-04-02T04:10:45.441658Z",
     "shell.execute_reply.started": "2025-04-02T04:10:41.624250Z"
    },
    "tags": []
   },
   "outputs": [
    {
     "name": "stdout",
     "output_type": "stream",
     "text": [
      "Отлично! Для стейка я могу порекомендовать несколько вариантов красного вина:\n",
      "\n",
      "1. Каберне Совиньон — это насыщенное вино с яркими фруктовыми нотами и умеренной кислотностью, которое хорошо сочетается с мясом.\n",
      "2. Мерло — более мягкое и фруктовое вино, которое также хорошо подойдёт к стейку.\n",
      "3. Шираз (Сира) — это насыщенное вино с нотами тёмного шоколада и специй, которое подчеркнёт вкус мяса.\n",
      "4. Мальбек — вино с богатым вкусом и ароматом, которое отлично дополнит стейк.\n",
      "5. Темпранильо — испанское вино с нотами красных фруктов и ванили, которое также может быть хорошим выбором.\n",
      "\n",
      "Если у вас есть предпочтения по стилю вина или ценовому диапазону, пожалуйста, сообщите мне, и я смогу дать более конкретные рекомендации.\n"
     ]
    }
   ],
   "source": [
    "thread.write(\"Я буду есть стейк!\")\n",
    "\n",
    "run = assistant.run(thread)\n",
    "result = run.wait()\n",
    "\n",
    "print(result.text)"
   ]
  },
  {
   "cell_type": "code",
   "execution_count": 6,
   "metadata": {
    "execution": {
     "iopub.execute_input": "2025-04-02T04:10:53.550338Z",
     "iopub.status.busy": "2025-04-02T04:10:53.549357Z",
     "iopub.status.idle": "2025-04-02T04:10:53.684461Z",
     "shell.execute_reply": "2025-04-02T04:10:53.683458Z",
     "shell.execute_reply.started": "2025-04-02T04:10:53.550296Z"
    },
    "tags": []
   },
   "outputs": [],
   "source": [
    "thread.delete()\n",
    "assistant.delete()"
   ]
  },
  {
   "cell_type": "markdown",
   "metadata": {},
   "source": [
    "## Добавляем RAG\n",
    "\n",
    "Для RAG будем использовать текстовую базу знаний по винам и винным регионам, которая хранится в виде множества файлов в директориях `source/wines` и `source/regions`. Пройдёмся по этим файлам и посмотрим на их длину в токенах."
   ]
  },
  {
   "cell_type": "code",
   "execution_count": 7,
   "metadata": {
    "execution": {
     "iopub.execute_input": "2025-04-02T04:12:24.629178Z",
     "iopub.status.busy": "2025-04-02T04:12:24.627722Z",
     "iopub.status.idle": "2025-04-02T04:12:29.183244Z",
     "shell.execute_reply": "2025-04-02T04:12:29.182419Z",
     "shell.execute_reply.started": "2025-04-02T04:12:24.629129Z"
    },
    "tags": []
   },
   "outputs": [
    {
     "data": {
      "text/html": [
       "<div>\n",
       "<style scoped>\n",
       "    .dataframe tbody tr th:only-of-type {\n",
       "        vertical-align: middle;\n",
       "    }\n",
       "\n",
       "    .dataframe tbody tr th {\n",
       "        vertical-align: top;\n",
       "    }\n",
       "\n",
       "    .dataframe thead th {\n",
       "        text-align: right;\n",
       "    }\n",
       "</style>\n",
       "<table border=\"1\" class=\"dataframe\">\n",
       "  <thead>\n",
       "    <tr style=\"text-align: right;\">\n",
       "      <th></th>\n",
       "      <th>File</th>\n",
       "      <th>Tokens</th>\n",
       "      <th>Chars</th>\n",
       "      <th>Category</th>\n",
       "    </tr>\n",
       "  </thead>\n",
       "  <tbody>\n",
       "    <tr>\n",
       "      <th>0</th>\n",
       "      <td>source/regions/Абруццо.md</td>\n",
       "      <td>499</td>\n",
       "      <td>2022</td>\n",
       "      <td>regions</td>\n",
       "    </tr>\n",
       "    <tr>\n",
       "      <th>1</th>\n",
       "      <td>source/regions/Азорские острова.md</td>\n",
       "      <td>409</td>\n",
       "      <td>1809</td>\n",
       "      <td>regions</td>\n",
       "    </tr>\n",
       "    <tr>\n",
       "      <th>2</th>\n",
       "      <td>source/regions/Аконкагуа.md</td>\n",
       "      <td>278</td>\n",
       "      <td>1182</td>\n",
       "      <td>regions</td>\n",
       "    </tr>\n",
       "    <tr>\n",
       "      <th>3</th>\n",
       "      <td>source/regions/Алентежу.md</td>\n",
       "      <td>320</td>\n",
       "      <td>1216</td>\n",
       "      <td>regions</td>\n",
       "    </tr>\n",
       "    <tr>\n",
       "      <th>4</th>\n",
       "      <td>source/regions/Апулия.md</td>\n",
       "      <td>489</td>\n",
       "      <td>1918</td>\n",
       "      <td>regions</td>\n",
       "    </tr>\n",
       "    <tr>\n",
       "      <th>...</th>\n",
       "      <td>...</td>\n",
       "      <td>...</td>\n",
       "      <td>...</td>\n",
       "      <td>...</td>\n",
       "    </tr>\n",
       "    <tr>\n",
       "      <th>125</th>\n",
       "      <td>source/wines/Совиньон блан.md</td>\n",
       "      <td>634</td>\n",
       "      <td>2578</td>\n",
       "      <td>wines</td>\n",
       "    </tr>\n",
       "    <tr>\n",
       "      <th>126</th>\n",
       "      <td>source/wines/Темпранильо.md</td>\n",
       "      <td>637</td>\n",
       "      <td>2323</td>\n",
       "      <td>wines</td>\n",
       "    </tr>\n",
       "    <tr>\n",
       "      <th>127</th>\n",
       "      <td>source/wines/Цвайгельт.md</td>\n",
       "      <td>663</td>\n",
       "      <td>2620</td>\n",
       "      <td>wines</td>\n",
       "    </tr>\n",
       "    <tr>\n",
       "      <th>128</th>\n",
       "      <td>source/wines/Шардоне.md</td>\n",
       "      <td>567</td>\n",
       "      <td>2407</td>\n",
       "      <td>wines</td>\n",
       "    </tr>\n",
       "    <tr>\n",
       "      <th>129</th>\n",
       "      <td>source/wines/Шенен блан.md</td>\n",
       "      <td>614</td>\n",
       "      <td>2606</td>\n",
       "      <td>wines</td>\n",
       "    </tr>\n",
       "  </tbody>\n",
       "</table>\n",
       "<p>130 rows × 4 columns</p>\n",
       "</div>"
      ],
      "text/plain": [
       "                                   File  Tokens  Chars Category\n",
       "0             source/regions/Абруццо.md     499   2022  regions\n",
       "1    source/regions/Азорские острова.md     409   1809  regions\n",
       "2           source/regions/Аконкагуа.md     278   1182  regions\n",
       "3            source/regions/Алентежу.md     320   1216  regions\n",
       "4              source/regions/Апулия.md     489   1918  regions\n",
       "..                                  ...     ...    ...      ...\n",
       "125       source/wines/Совиньон блан.md     634   2578    wines\n",
       "126         source/wines/Темпранильо.md     637   2323    wines\n",
       "127           source/wines/Цвайгельт.md     663   2620    wines\n",
       "128             source/wines/Шардоне.md     567   2407    wines\n",
       "129          source/wines/Шенен блан.md     614   2606    wines\n",
       "\n",
       "[130 rows x 4 columns]"
      ]
     },
     "execution_count": 7,
     "metadata": {},
     "output_type": "execute_result"
    }
   ],
   "source": [
    "from glob import glob\n",
    "from tqdm.auto import tqdm\n",
    "import pandas as pd\n",
    "\n",
    "def get_token_count(filename):\n",
    "    with open(filename, \"r\", encoding=\"utf8\") as f:\n",
    "        return len(model.tokenize(f.read()))\n",
    "\n",
    "def get_file_len(filename):\n",
    "    with open(filename, encoding=\"utf-8\") as f:\n",
    "        l = len(f.read())\n",
    "    return l\n",
    "\n",
    "d = [\n",
    "    {\n",
    "        \"File\": fn,\n",
    "        \"Tokens\": get_token_count(fn),\n",
    "        \"Chars\": get_file_len(fn),\n",
    "        \"Category\": fn.split(\"/\")[1],\n",
    "    }\n",
    "    for fn in glob(\"source/*/*.md\")\n",
    "    if fn.count(\"/\") == 2\n",
    "]\n",
    "\n",
    "df = pd.DataFrame(d)\n",
    "df"
   ]
  },
  {
   "cell_type": "markdown",
   "metadata": {},
   "source": [
    "Посмотрим на среднюю, мин и макс длину фрагментов:"
   ]
  },
  {
   "cell_type": "code",
   "execution_count": 8,
   "metadata": {
    "execution": {
     "iopub.execute_input": "2025-04-02T04:12:36.748241Z",
     "iopub.status.busy": "2025-04-02T04:12:36.747252Z",
     "iopub.status.idle": "2025-04-02T04:12:36.795496Z",
     "shell.execute_reply": "2025-04-02T04:12:36.794687Z",
     "shell.execute_reply.started": "2025-04-02T04:12:36.748206Z"
    },
    "tags": []
   },
   "outputs": [
    {
     "data": {
      "text/html": [
       "<div>\n",
       "<style scoped>\n",
       "    .dataframe tbody tr th:only-of-type {\n",
       "        vertical-align: middle;\n",
       "    }\n",
       "\n",
       "    .dataframe tbody tr th {\n",
       "        vertical-align: top;\n",
       "    }\n",
       "\n",
       "    .dataframe thead tr th {\n",
       "        text-align: left;\n",
       "    }\n",
       "\n",
       "    .dataframe thead tr:last-of-type th {\n",
       "        text-align: right;\n",
       "    }\n",
       "</style>\n",
       "<table border=\"1\" class=\"dataframe\">\n",
       "  <thead>\n",
       "    <tr>\n",
       "      <th></th>\n",
       "      <th colspan=\"3\" halign=\"left\">Tokens</th>\n",
       "    </tr>\n",
       "    <tr>\n",
       "      <th></th>\n",
       "      <th>min</th>\n",
       "      <th>mean</th>\n",
       "      <th>max</th>\n",
       "    </tr>\n",
       "    <tr>\n",
       "      <th>Category</th>\n",
       "      <th></th>\n",
       "      <th></th>\n",
       "      <th></th>\n",
       "    </tr>\n",
       "  </thead>\n",
       "  <tbody>\n",
       "    <tr>\n",
       "      <th>regions</th>\n",
       "      <td>153</td>\n",
       "      <td>423.340000</td>\n",
       "      <td>683</td>\n",
       "    </tr>\n",
       "    <tr>\n",
       "      <th>wines</th>\n",
       "      <td>264</td>\n",
       "      <td>551.366667</td>\n",
       "      <td>664</td>\n",
       "    </tr>\n",
       "  </tbody>\n",
       "</table>\n",
       "</div>"
      ],
      "text/plain": [
       "         Tokens                 \n",
       "            min        mean  max\n",
       "Category                        \n",
       "regions     153  423.340000  683\n",
       "wines       264  551.366667  664"
      ]
     },
     "execution_count": 8,
     "metadata": {},
     "output_type": "execute_result"
    }
   ],
   "source": [
    "df.groupby(\"Category\").agg({\"Tokens\": (\"min\", \"mean\", \"max\")})"
   ]
  },
  {
   "cell_type": "markdown",
   "metadata": {},
   "source": [
    "Мы видим, что фрагменты не превышают 700 токенов, и это значит, что нам не придётся прибегать к какой-либо стратегии чанкования. Это идеальная ситуация, когда текстовая база знаний разбита вручную на небольшие фрагменты текста.\n",
    "\n",
    "## Загружаем файлы в облако\n",
    "\n",
    "Чтобы RAG мог осущетвлять поиск по фрагментам файлов, нам необходимо построить индекс, а перед этим - загрузить все файлы в облако."
   ]
  },
  {
   "cell_type": "code",
   "execution_count": 9,
   "metadata": {
    "execution": {
     "iopub.execute_input": "2025-04-02T04:12:53.672911Z",
     "iopub.status.busy": "2025-04-02T04:12:53.671935Z",
     "iopub.status.idle": "2025-04-02T04:13:04.512849Z",
     "shell.execute_reply": "2025-04-02T04:13:04.512018Z",
     "shell.execute_reply.started": "2025-04-02T04:12:53.672864Z"
    },
    "tags": []
   },
   "outputs": [],
   "source": [
    "def upload_file(filename):\n",
    "    return sdk.files.upload(filename, ttl_days=1, expiration_policy=\"static\")\n",
    "\n",
    "df[\"Uploaded\"] = df[\"File\"].apply(upload_file)"
   ]
  },
  {
   "cell_type": "markdown",
   "metadata": {},
   "source": [
    "## Строим индекс\n",
    "\n",
    "Для индексации файлов можно применять следующие стратегии:\n",
    "* Поиск по эмбеддингам (векторный поиск) - по всем фрагментам текста вычисляются эмбеддинги, и в процессе поиска осуществляется векторный поиск между эмбеддингом запроса и эмбеддингом фрагмента. Это позволяет осуществлять семантический поиск\n",
    "* Поиск по ключевым словам\n",
    "* Гибридный поиск, в котором различными способами объединяются результаты поиска по ключевым словам и вектороного поиска.\n",
    "\n",
    "Также в процессе создания индекса мы указываем **стратегию чанкования** текстов, но в нашем случае она не будет применяться.\n",
    "\n",
    "> Поскольку есть ограничение на 100 добавляемых в индекс файлов, то будем добавлять фрагменты по винам и по регионам по-очереди."
   ]
  },
  {
   "cell_type": "code",
   "execution_count": 12,
   "metadata": {
    "execution": {
     "iopub.execute_input": "2025-04-02T04:16:16.430858Z",
     "iopub.status.busy": "2025-04-02T04:16:16.429536Z",
     "iopub.status.idle": "2025-04-02T04:16:27.694301Z",
     "shell.execute_reply": "2025-04-02T04:16:27.693474Z",
     "shell.execute_reply.started": "2025-04-02T04:16:16.430807Z"
    },
    "tags": []
   },
   "outputs": [
    {
     "name": "stderr",
     "output_type": "stream",
     "text": [
      "[I 2025-04-02 04:16:17 yandex_cloud_ml_sdk._types.operation:131] Starting operation fvtn4fhuhrmhq4vrbgd2 polling with a poll interval 10.000000s and poll timeout 3600.000000s\n",
      "[D 2025-04-02 04:16:17 yandex_cloud_ml_sdk._types.operation:211] Fetching operation fvtn4fhuhrmhq4vrbgd2 status\n",
      "[D 2025-04-02 04:16:17 yandex_cloud_ml_sdk._types.operation:225] Operation fvtn4fhuhrmhq4vrbgd2 have status OperationStatus<runnning>\n",
      "[D 2025-04-02 04:16:17 yandex_cloud_ml_sdk._types.operation:110] Operation fvtn4fhuhrmhq4vrbgd2 have non-terminal status runnning, sleep for 10.000000s\n",
      "[D 2025-04-02 04:16:27 yandex_cloud_ml_sdk._types.operation:211] Fetching operation fvtn4fhuhrmhq4vrbgd2 status\n",
      "[D 2025-04-02 04:16:27 yandex_cloud_ml_sdk._types.operation:225] Operation fvtn4fhuhrmhq4vrbgd2 have status OperationStatus<success>\n",
      "[I 2025-04-02 04:16:27 yandex_cloud_ml_sdk._types.operation:118] Operation fvtn4fhuhrmhq4vrbgd2 successfully finished\n",
      "[I 2025-04-02 04:16:27 yandex_cloud_ml_sdk._types.operation:142] Operation fvtn4fhuhrmhq4vrbgd2 polling finished\n",
      "[D 2025-04-02 04:16:27 yandex_cloud_ml_sdk._types.operation:230] Getting operation result for operation fvtn4fhuhrmhq4vrbgd2\n"
     ]
    }
   ],
   "source": [
    "from yandex_cloud_ml_sdk.search_indexes import (\n",
    "    StaticIndexChunkingStrategy,\n",
    "    HybridSearchIndexType,\n",
    "    ReciprocalRankFusionIndexCombinationStrategy,\n",
    ")\n",
    "\n",
    "op = sdk.search_indexes.create_deferred(\n",
    "    df[df[\"Category\"] == \"wines\"][\"Uploaded\"],\n",
    "    index_type=HybridSearchIndexType(\n",
    "        chunking_strategy=StaticIndexChunkingStrategy(\n",
    "            max_chunk_size_tokens=1000, chunk_overlap_tokens=100\n",
    "        ),\n",
    "        combination_strategy=ReciprocalRankFusionIndexCombinationStrategy(),\n",
    "    ),\n",
    ")\n",
    "index = op.wait()"
   ]
  },
  {
   "cell_type": "code",
   "execution_count": 14,
   "metadata": {
    "execution": {
     "iopub.execute_input": "2025-04-02T04:16:52.050942Z",
     "iopub.status.busy": "2025-04-02T04:16:52.049749Z",
     "iopub.status.idle": "2025-04-02T04:17:03.266425Z",
     "shell.execute_reply": "2025-04-02T04:17:03.265538Z",
     "shell.execute_reply.started": "2025-04-02T04:16:52.050896Z"
    },
    "tags": []
   },
   "outputs": [
    {
     "name": "stderr",
     "output_type": "stream",
     "text": [
      "[I 2025-04-02 04:16:53 yandex_cloud_ml_sdk._types.operation:131] Starting operation fvttj82q8egus4akhe0j polling with a poll interval 10.000000s and poll timeout 3600.000000s\n",
      "[D 2025-04-02 04:16:53 yandex_cloud_ml_sdk._types.operation:211] Fetching operation fvttj82q8egus4akhe0j status\n",
      "[D 2025-04-02 04:16:53 yandex_cloud_ml_sdk._types.operation:225] Operation fvttj82q8egus4akhe0j have status OperationStatus<runnning>\n",
      "[D 2025-04-02 04:16:53 yandex_cloud_ml_sdk._types.operation:110] Operation fvttj82q8egus4akhe0j have non-terminal status runnning, sleep for 10.000000s\n",
      "[D 2025-04-02 04:17:03 yandex_cloud_ml_sdk._types.operation:211] Fetching operation fvttj82q8egus4akhe0j status\n",
      "[D 2025-04-02 04:17:03 yandex_cloud_ml_sdk._types.operation:225] Operation fvttj82q8egus4akhe0j have status OperationStatus<success>\n",
      "[I 2025-04-02 04:17:03 yandex_cloud_ml_sdk._types.operation:118] Operation fvttj82q8egus4akhe0j successfully finished\n",
      "[I 2025-04-02 04:17:03 yandex_cloud_ml_sdk._types.operation:142] Operation fvttj82q8egus4akhe0j polling finished\n",
      "[D 2025-04-02 04:17:03 yandex_cloud_ml_sdk._types.operation:230] Getting operation result for operation fvttj82q8egus4akhe0j\n"
     ]
    }
   ],
   "source": [
    "op = index.add_files_deferred(df[df[\"Category\"]==\"regions\"][\"Uploaded\"])\n",
    "xfiles = op.wait()"
   ]
  },
  {
   "cell_type": "markdown",
   "metadata": {},
   "source": [
    "## Собираем RAG-ассистента\n",
    "\n",
    "Теперь собираем собственно ассистента, который будет использовать RAG. Для этого определяем **инструмент** (tool) для поиска в нашем индексе, и указываем его при создании ассистента. Также важно задать хорошую инструкцию для ассистента (системный промпт): "
   ]
  },
  {
   "cell_type": "code",
   "execution_count": 18,
   "metadata": {
    "execution": {
     "iopub.execute_input": "2025-04-02T04:19:07.193057Z",
     "iopub.status.busy": "2025-04-02T04:19:07.192081Z",
     "iopub.status.idle": "2025-04-02T04:19:08.215842Z",
     "shell.execute_reply": "2025-04-02T04:19:08.214973Z",
     "shell.execute_reply.started": "2025-04-02T04:19:07.193020Z"
    },
    "tags": []
   },
   "outputs": [],
   "source": [
    "search_tool = sdk.tools.search_index(index)\n",
    "\n",
    "assistant = create_assistant(model, tools=[search_tool])\n",
    "thread = create_thread()\n",
    "\n",
    "instruction = \"\"\"\n",
    "Ты - опытный сомелье, в задачу которого входит отвечать на вопросы пользователя про вина\n",
    "и рекомендовать лучшие вина к еде. Посмотри на всю имеющуюся в твоем распоряжении информацию\n",
    "и выдай одну или несколько лучших рекомендаций. Если что-то непонятно, то лучше уточни информацию\n",
    "у пользователя.\n",
    "\"\"\"\n",
    "\n",
    "_ = assistant.update(instruction=instruction)"
   ]
  },
  {
   "cell_type": "code",
   "execution_count": 19,
   "metadata": {
    "execution": {
     "iopub.execute_input": "2025-04-02T04:19:15.226988Z",
     "iopub.status.busy": "2025-04-02T04:19:15.225792Z",
     "iopub.status.idle": "2025-04-02T04:19:20.205820Z",
     "shell.execute_reply": "2025-04-02T04:19:20.204853Z",
     "shell.execute_reply.started": "2025-04-02T04:19:15.226940Z"
    },
    "tags": []
   },
   "outputs": [
    {
     "name": "stderr",
     "output_type": "stream",
     "text": [
      "[I 2025-04-02 04:19:15 yandex_cloud_ml_sdk._types.operation:131] Starting operation fvt7l8ep6qb52rnrqmgc polling with a poll interval 0.500000s and poll timeout 300.000000s\n",
      "[D 2025-04-02 04:19:15 yandex_cloud_ml_sdk._types.operation:110] Operation fvt7l8ep6qb52rnrqmgc have non-terminal status PENDING, sleep for 0.500000s\n",
      "[D 2025-04-02 04:19:16 yandex_cloud_ml_sdk._types.operation:110] Operation fvt7l8ep6qb52rnrqmgc have non-terminal status IN_PROGRESS, sleep for 0.500000s\n",
      "[D 2025-04-02 04:19:17 yandex_cloud_ml_sdk._types.operation:110] Operation fvt7l8ep6qb52rnrqmgc have non-terminal status IN_PROGRESS, sleep for 0.500000s\n",
      "[D 2025-04-02 04:19:17 yandex_cloud_ml_sdk._types.operation:110] Operation fvt7l8ep6qb52rnrqmgc have non-terminal status IN_PROGRESS, sleep for 0.500000s\n",
      "[D 2025-04-02 04:19:18 yandex_cloud_ml_sdk._types.operation:110] Operation fvt7l8ep6qb52rnrqmgc have non-terminal status IN_PROGRESS, sleep for 0.500000s\n",
      "[D 2025-04-02 04:19:18 yandex_cloud_ml_sdk._types.operation:110] Operation fvt7l8ep6qb52rnrqmgc have non-terminal status IN_PROGRESS, sleep for 0.500000s\n",
      "[D 2025-04-02 04:19:19 yandex_cloud_ml_sdk._types.operation:110] Operation fvt7l8ep6qb52rnrqmgc have non-terminal status IN_PROGRESS, sleep for 0.500000s\n",
      "[D 2025-04-02 04:19:19 yandex_cloud_ml_sdk._types.operation:110] Operation fvt7l8ep6qb52rnrqmgc have non-terminal status IN_PROGRESS, sleep for 0.500000s\n",
      "[I 2025-04-02 04:19:20 yandex_cloud_ml_sdk._types.operation:118] Operation fvt7l8ep6qb52rnrqmgc successfully finished\n",
      "[I 2025-04-02 04:19:20 yandex_cloud_ml_sdk._types.operation:142] Operation fvt7l8ep6qb52rnrqmgc polling finished\n"
     ]
    },
    {
     "name": "stdout",
     "output_type": "stream",
     "text": [
      "К стейку могут подойти следующие вина:\n",
      "\n",
      "1. **Пинотаж из Франшхука (ЮАР)** — универсальное вино, которое хорошо сочетается с различными блюдами, включая перчёные стейки из говядины и баранины.\n",
      "2. **Черасуоло ди Виттория (Сицилия, Италия)** — гармонирует с тушёной говядиной и мясом на вертеле.\n",
      "3. **Красное сухое вино из долины Маллеко (Чили, регион Сур)** — хорошо сочетается со стейком на гриле.\n",
      "4. **Пино нуар из Орегона (США)** — будет хорошо сочетаться со стейком из лосося и красным мясом, например, говядиной по-бургундски.\n",
      "5. **Сира или шираз** — благодаря сильному характеру и содержанию танинов, особенно хорошо дополняют блюда из красного мяса, например, ростбиф или мясные рулеты.\n"
     ]
    }
   ],
   "source": [
    "thread.write(\"Какое вино подходит к стейку?\")\n",
    "run = assistant.run(thread)\n",
    "\n",
    "result = run.wait()\n",
    "print(result.text)"
   ]
  },
  {
   "cell_type": "markdown",
   "metadata": {},
   "source": [
    "Посмотрим, из каких источников был получен этот ответ:"
   ]
  },
  {
   "cell_type": "code",
   "execution_count": 20,
   "metadata": {
    "execution": {
     "iopub.execute_input": "2025-04-02T04:19:32.984721Z",
     "iopub.status.busy": "2025-04-02T04:19:32.983449Z",
     "iopub.status.idle": "2025-04-02T04:19:33.003582Z",
     "shell.execute_reply": "2025-04-02T04:19:33.002648Z",
     "shell.execute_reply.started": "2025-04-02T04:19:32.984672Z"
    },
    "tags": []
   },
   "outputs": [
    {
     "name": "stdout",
     "output_type": "stream",
     "text": [
      "------------------------\n",
      "## Франшхук \n",
      "\n",
      "Франшхук\n",
      "Франшхук — крупная винодельческая провинция Южной Африки. Территориально относится к региону Стелленбош, расположена в 75 км от Кейптауна — столицы ЮАР. Деревню основали беглые французы в 1688 году. Получив земельные наделы, они разбили виноградники и наладили производство напитков. Сегодня Франшхук называют винной столицей ЮАР. На карте провинции можно насчитать 11 крупных винодельческих хозяйств. Деревня Франшхук известна необычным терруаром: она расположена в продолговатой долине и с трех сторон окружена высокими горами, которые защищают виноградники от ветра, излишней влаги зимой и палящего солнца летом. При этом четвертая сторона долины открыта для ветров Атлантики. Климат здесь умеренный, а температура воздуха ниже, чем в соседних областях. Виноград созревает медленнее, чем на открытой африканской местности, что делает вино более свежим и кислотным. В Франшхуке наиболее распространены известные европейские сорта, завезенные французами в XVII веке. Здесь выращивают белые шенен блан, семильон, совиньон блан и шардоне. Среди красных популярны каберне совиньон, шираз и мерло. Значительная часть плантаций занята под пинотаж — автохтонный сорт, ставший визитной карточкой страны. Линейка традиционных вин из европейских сортов в ЮАР открывается совершенно по-новому. Сухие гранитные почвы придают напиткам явную минеральность. Белые вина приобретают золотистый оттенок и аромат южных фруктов, красные — насыщенный цвет и аромат. Оттенок может варьироваться от ярко-рубинового до глубокого фиолетового. Их часто сравнивают с бургундскими напитками. С 1992 года в долине Франшхук производят игристые вина премиального качества из шардоне и пино нуар по классическому методу. Белые вина Франшхука — прекрасный аперитив. Они подходят к легким сырам, закускам из гусиного паштета и курицы. Среди горячих блюд стоит выбрать индейку, запеченную белую рыбу с овощным гарниром или рагу. Красные южноафриканские сорта хорошо гармонируют с перчеными стейками из говядины и баранины, а также твердыми, выдержанными сырами. Пинотаж при этом считается универсальным вином. Ему подходят разнообразные блюда от изысканного филе миньон до лазаньи и пиццы с морепродуктами.\n",
      "------------------------\n",
      "## Сицилия \n",
      "\n",
      "Сицилия\n",
      "Сицилия — регион на юге Италии. В его состав входит одноименный и самый большой в Средиземном море остров и несколько более мелких островов рядом с ним. На восточном побережье Сицилии возвышается Этна — самый высокий действующий вулкан в Европе. Помимо итальянского в регионе говорят на сицилийском языке. Административный центр Сицилии — Палермо. Это самый южный из винодельческих регионов Италии. Здесь около 120 тысяч га виноградников. С начала нулевых на Сицилии бурно развивается производство вулканических вин. Их производят из винограда, выросшего у подножия Этны. Пепел самого высокого действующего вулкана Европы богат микроэлементами, поэтому местные почвы очень плодородны. И, главное, в таких условиях нет шанса у филлоксеры. К наиболее значимым местным сортам относят красный неро д'авола. Также на Сицилии популярны красные гренаш, перриконе и ночера. Из белых стоит отметить катаратто — его смешивают с сортами грилло и инзолия и производят легендарное крепленое вино марсала. Также популярные былые греканико, александрийский мускат и типичный итальянский треббьяно. Король вулканических красных сортов — нерелло маскалезе с ароматами спелой вишни, пряностей, табака и трав. У подножия Этны успешно выращивают белый автохтонный сорт карриканте. Он обладает спокойной минеральностью, цитрусово-травянистым тонами и вкусом, который ассоциируют с чистым воздухом гор. Легендарная сицилийская крепленая марсала — нежная, яркая и фруктовая. По популярности с ней сопоставим разве что москато ди пантеллерия (Moscato di Pantelleria) из александрийского муската. Из красных вин особого внимания заслуживает черасуоло ди виттория (Cerasuolo di Vittoria) — сицилийское вино наивысшего качества (DOCG). Ну и, конечно, легендарные вулканические вина. Сорт нерелло маскалезе отдает вину высокие танины, кислотность, ягодные ноты и минеральные оттенки. Хрустящие вина из белого карриканте выделяются свежестью, минеральностью, лёгкой солоноватостью. В их аромате слышны яблоки, цитрусы, анис. Крепленая марсала прекрасна в любом виде: сладкая подходит на роль аперитива, полусухая играет с фруктовыми салатами или сицилийскими канноли, а сухая — с теплым мясным салатом или супом. Сладкие сицилийские мускаты отлично подойдут в пару к козьим сырам и пирогам типа нежного киша с сыром. Красное черасуоло ди виттория гармонирует с тушеной говядиной, жареной курицей или мясом на вертеле. И, пожалуй, все вина стоит попробовать в сочетании с местными сырными шариками аранчини с разными начинками. Идеальной парой для белого вина из вулканического винограда карриканте станут креветки, равиоли с травами или ризотто.\n",
      "------------------------\n",
      "## Сур \n",
      "\n",
      "Сур\n",
      "Сур — винодельческий субрегион в Чили, один из самых южных в стране. В его границах выделяют долины Итата, Био-Био, Маллеко. Чилийские вина олицетворяют стиль Нового Света, для них характерен мягкий фруктовый вкус. По одной из версий, первые лозы в Чили завезли с территории Перу в XVI веке. Виноделием занимались христианские миссионеры, выращивали преимущественно красный сорт мишн, белые делали из москателя. До середины XIX века здесь были популярны сладкие вина. В долине Итата первые лозы высадили в середине XVI века после создания порта Консепсьон. Почвы здесь с хорошим дренажем, климат средиземноморский с продолжительным сухим сезоном. В Био-Био и Маллеко прохладно из-за воздушных потоков с океана. Виноград успевает вызревать благодаря большому количеству теплых дней. В Суре выращивают совиньон блан, шардоне, рислинг, вионье, гевюрцтраминер, мускат. Сур известен столовыми винами. Климат в регионе умеренный, близкий к погодным условиям Франции, поэтому местные виноделы стали выпускать и более элегантные напитки. Условия в долинах Био-Био и Итата отлично подходят для культивирования шардоне, совиньон блан, рислинга, из которых делают белые вина. Здесь хорошо растет пино нуар, из него получают красные вина. Розовые вина из долины Итата хороши со свежими фруктами, десертами, сырами, ветчиной; белые сладкие — с десертами, фруктами. Белое полусухое из Био-Био составит отличную пару с блюдами индийской и азиатской кухонь, курице, овощам. Красное сухое из Маллеко сочетается с запеченными овощами, свининой, стейком на гриле.\n",
      "------------------------\n",
      "## Орегон \n",
      "\n",
      "Орегон\n",
      "Орегон — четвертый по объемам производства вина штат в США. Самый популярный сорт винограда, который выращивают здесь, — пино нуар. Вина из этого сорта отличает высокая кислотность и низкая танинность. Выращивать виноград в Орегоне начали еще в 1840-х, но датой зарождения серьезного виноделия называют 1961 год, когда любители бургундского пино нуар Ричард Соммер и Дэвид Летт решили производить похожее вино в Америке. Для этого был выбран Орегон — прохладный климат и разнообразие почв позволили добиться успеха. Уже в 1979 пино нуар из Орегона вошло в десятку вин в бургундском стиле на французской винной Олимпиаде. Его отличают более яркие ноты фруктов и более низкая кислотность. Прохладный климат Орегона хорошо подходит для выращивания таких сортов винограда, как рислинг, шардоне и гаме, но визитной карточкой штата считается пино нуар, который растет в долине Уилламетт. Менее популярны мерло, каберне совиньон, зинфандель. В Орегоне производят сухие, полусухие, а также игристые и десертные вина. Пино нуар из Орегона будет хорошо сочетаться со стейком из лосося, запеченной птицей и красным мясом, например, говядиной по-бургундски.\n",
      "------------------------\n",
      "## Сира \n",
      "\n",
      "Сира\n",
      "Сирa — сорт красного винного винограда родом из долины Роны во Франции (фр. Syrah). В 1832 году был завезен в Австралию, где стал флагманским сортом красного винограда и сменил имя на шираз. Сегодня производители вин из Франции, Италии, Испании предпочитают маркировку сира, а австралийские и африканские — шираз. Исследования ДНК 1998 года, проведенные в Калифорнийском университете, доказали, что сира появился на территории современного региона Овернь-Рона-Альпы от двух второстепенных локальных сортов — дурез и мондез бланш. Однако возраст винограда установить не удалось. Из сорта сира производят купажированные и сепажные красные вина насыщенных оттенков: от темно-рубинового до фиолетового. Плюс розовые легкие (до 12% крепости) в ассамбляже с белыми сортами. Хотя технически сира и шираз — один и тот же сорт, крепость и вкус вина зависят от терруара. Вина прохладной Франции содержат 13–14% алкоголя, обладают землистым, травяным флером, нотами дыма, перца и фиалки. Шираз из засушливой Австралии более крепкий (до 16%) и фруктовый, с нотами ягод и специй. Благодаря сильному характеру и щедрому содержанию танинов, сира и шираз особенно хорошо дополняют выдержанные сыры, сыровяленые колбасные деликатесы, блюда из красного мяса и дичи: бараньи или свиные ребрышки, мясной рулет из телятины, ростбиф в хрустящем фило. В вегетарианское меню можно внести грибы на гриле, баклажаны Пармиджано и пикантные тако с черной фасолью. А вот нежных молодых сыров, легких овощных блюд и морепродуктов лучше избегать. По одной из легенд о происхождении, сорт сира во Францию привезли из Ирана. В Ширазе, бывшей столице Персидской империи, производили вино ширази. У сорт сира есть гибрид — маленькая или пти сира (фр. Petit Syrah), появившаяся в результате скрещивания сиры и пелурсена. Пти сира растет в Австралии, Калифорнии и Франции, а также популярна в США. Из ягод, изобилующих танинами, производят красные вина с густым чернильным вкусом. Чтобы смягчить алкогольный профиль, сиру и шираз лучше подавать слегка охлажденными — 15 минут в холодильнике будет достаточно.\n"
     ]
    }
   ],
   "source": [
    "def print_citations(result):\n",
    "    for citation in result.citations:\n",
    "        for source in citation.sources:\n",
    "            if source.type != \"filechunk\":\n",
    "                continue\n",
    "            print(\"------------------------\")\n",
    "            print(source.parts[0])\n",
    "\n",
    "print_citations(result)"
   ]
  },
  {
   "cell_type": "code",
   "execution_count": 21,
   "metadata": {
    "execution": {
     "iopub.execute_input": "2025-04-02T04:19:39.035304Z",
     "iopub.status.busy": "2025-04-02T04:19:39.034136Z",
     "iopub.status.idle": "2025-04-02T04:19:39.141863Z",
     "shell.execute_reply": "2025-04-02T04:19:39.140891Z",
     "shell.execute_reply.started": "2025-04-02T04:19:39.035250Z"
    },
    "tags": []
   },
   "outputs": [],
   "source": [
    "thread.delete()"
   ]
  },
  {
   "cell_type": "markdown",
   "metadata": {},
   "source": [
    "Мы видим, что ответ получился несколько однобоким, поскольку данные о сочетании вин и еды содержатся в текстовой базе знаний в разрозненном виде.\n",
    "\n",
    "## Добавляем таблицу соответствий\n",
    "\n",
    "Поскольку подбор блюда к вину является частой задачей, добавим к нашей базе знаний явную табличку соответствий блюд и вин, которая находится в файле `source/food_wine_table.md` в формате markdown."
   ]
  },
  {
   "cell_type": "code",
   "execution_count": 22,
   "metadata": {
    "execution": {
     "iopub.execute_input": "2025-04-02T04:19:55.977665Z",
     "iopub.status.busy": "2025-04-02T04:19:55.976612Z",
     "iopub.status.idle": "2025-04-02T04:19:56.403625Z",
     "shell.execute_reply": "2025-04-02T04:19:56.402768Z",
     "shell.execute_reply.started": "2025-04-02T04:19:55.977627Z"
    },
    "tags": []
   },
   "outputs": [
    {
     "name": "stdout",
     "output_type": "stream",
     "text": [
      "Токенов: 12630, 3.3103721298495645 chars/token\n"
     ]
    }
   ],
   "source": [
    "with open(\"source/food_wine_table.md\", encoding=\"utf-8\") as f:\n",
    "    food_wine = f.readlines()\n",
    "fw = \"\".join(food_wine)\n",
    "\n",
    "tokens = len(model.tokenize(fw))\n",
    "print(f\"Токенов: {tokens}, {len(fw)/tokens} chars/token\")"
   ]
  },
  {
   "cell_type": "markdown",
   "metadata": {},
   "source": [
    "Видим, что табличка большая, поэтому её придётся *чанковать*. Но при этом важно чанковать табличку так, чтобы в каждом фрагмента оставался заголовок таблицы, который определяет семантику столбцов.\n",
    "\n",
    "Отделим заголовок таблицы:"
   ]
  },
  {
   "cell_type": "code",
   "execution_count": 23,
   "metadata": {
    "execution": {
     "iopub.execute_input": "2025-04-02T04:20:03.459747Z",
     "iopub.status.busy": "2025-04-02T04:20:03.458491Z",
     "iopub.status.idle": "2025-04-02T04:20:03.495709Z",
     "shell.execute_reply": "2025-04-02T04:20:03.494876Z",
     "shell.execute_reply.started": "2025-04-02T04:20:03.459683Z"
    },
    "tags": []
   },
   "outputs": [
    {
     "data": {
      "text/plain": [
       "['Блюдо, к которому надо подобрать вино | Вино, которое подходит к этому блюду\\n',\n",
       " '--------|--------\\n']"
      ]
     },
     "execution_count": 23,
     "metadata": {},
     "output_type": "execute_result"
    }
   ],
   "source": [
    "header = food_wine[:2]\n",
    "header"
   ]
  },
  {
   "cell_type": "markdown",
   "metadata": {},
   "source": [
    "Ниже будем чанковать табличку вручную, задав размер чанка в символах для простоты. Мы будем сразу загружать получившиеся фрагменты в облако, минуя диск:"
   ]
  },
  {
   "cell_type": "code",
   "execution_count": 24,
   "metadata": {
    "execution": {
     "iopub.execute_input": "2025-04-02T04:20:22.809173Z",
     "iopub.status.busy": "2025-04-02T04:20:22.807806Z",
     "iopub.status.idle": "2025-04-02T04:20:24.822520Z",
     "shell.execute_reply": "2025-04-02T04:20:24.821704Z",
     "shell.execute_reply.started": "2025-04-02T04:20:22.809117Z"
    },
    "tags": []
   },
   "outputs": [
    {
     "name": "stdout",
     "output_type": "stream",
     "text": [
      "Uploaded 22 table chunks\n"
     ]
    }
   ],
   "source": [
    "chunk_size = 600 * 3  # approx 600 tokens * 2 char/token\n",
    "\n",
    "s = header.copy()\n",
    "uploaded_foodwine = []\n",
    "for x in food_wine[2:]:\n",
    "    s.append(x)\n",
    "    if len(\"\".join(s)) > chunk_size:\n",
    "        id = sdk.files.upload_bytes(\n",
    "            \"\".join(s).encode(), ttl_days=5, expiration_policy=\"static\"\n",
    "        )\n",
    "        uploaded_foodwine.append(id)\n",
    "        s = header.copy()\n",
    "print(f\"Uploaded {len(uploaded_foodwine)} table chunks\")"
   ]
  },
  {
   "cell_type": "markdown",
   "metadata": {},
   "source": [
    "Теперь добавим эти фрагменты в индекс:"
   ]
  },
  {
   "cell_type": "code",
   "execution_count": 25,
   "metadata": {
    "execution": {
     "iopub.execute_input": "2025-04-02T04:20:31.314392Z",
     "iopub.status.busy": "2025-04-02T04:20:31.313184Z",
     "iopub.status.idle": "2025-04-02T04:20:42.058961Z",
     "shell.execute_reply": "2025-04-02T04:20:42.058236Z",
     "shell.execute_reply.started": "2025-04-02T04:20:31.314332Z"
    },
    "tags": []
   },
   "outputs": [
    {
     "name": "stderr",
     "output_type": "stream",
     "text": [
      "[I 2025-04-02 04:20:31 yandex_cloud_ml_sdk._types.operation:131] Starting operation fvtk4abrkk7fsc772lq6 polling with a poll interval 10.000000s and poll timeout 3600.000000s\n",
      "[D 2025-04-02 04:20:31 yandex_cloud_ml_sdk._types.operation:211] Fetching operation fvtk4abrkk7fsc772lq6 status\n",
      "[D 2025-04-02 04:20:31 yandex_cloud_ml_sdk._types.operation:225] Operation fvtk4abrkk7fsc772lq6 have status OperationStatus<runnning>\n",
      "[D 2025-04-02 04:20:31 yandex_cloud_ml_sdk._types.operation:110] Operation fvtk4abrkk7fsc772lq6 have non-terminal status runnning, sleep for 10.000000s\n",
      "[D 2025-04-02 04:20:41 yandex_cloud_ml_sdk._types.operation:211] Fetching operation fvtk4abrkk7fsc772lq6 status\n",
      "[D 2025-04-02 04:20:42 yandex_cloud_ml_sdk._types.operation:225] Operation fvtk4abrkk7fsc772lq6 have status OperationStatus<success>\n",
      "[I 2025-04-02 04:20:42 yandex_cloud_ml_sdk._types.operation:118] Operation fvtk4abrkk7fsc772lq6 successfully finished\n",
      "[I 2025-04-02 04:20:42 yandex_cloud_ml_sdk._types.operation:142] Operation fvtk4abrkk7fsc772lq6 polling finished\n",
      "[D 2025-04-02 04:20:42 yandex_cloud_ml_sdk._types.operation:230] Getting operation result for operation fvtk4abrkk7fsc772lq6\n"
     ]
    }
   ],
   "source": [
    "op = index.add_files_deferred(uploaded_foodwine)\n",
    "xfiles = op.wait()"
   ]
  },
  {
   "cell_type": "markdown",
   "metadata": {},
   "source": [
    "Посмотрим, стал ли ответ системы лучше:"
   ]
  },
  {
   "cell_type": "code",
   "execution_count": 26,
   "metadata": {
    "execution": {
     "iopub.execute_input": "2025-04-02T04:20:49.538311Z",
     "iopub.status.busy": "2025-04-02T04:20:49.536885Z",
     "iopub.status.idle": "2025-04-02T04:20:55.632713Z",
     "shell.execute_reply": "2025-04-02T04:20:55.631722Z",
     "shell.execute_reply.started": "2025-04-02T04:20:49.538259Z"
    },
    "tags": []
   },
   "outputs": [
    {
     "name": "stderr",
     "output_type": "stream",
     "text": [
      "[I 2025-04-02 04:20:49 yandex_cloud_ml_sdk._types.operation:131] Starting operation fvtt7v272897fueu81jv polling with a poll interval 0.500000s and poll timeout 300.000000s\n",
      "[D 2025-04-02 04:20:49 yandex_cloud_ml_sdk._types.operation:110] Operation fvtt7v272897fueu81jv have non-terminal status PENDING, sleep for 0.500000s\n",
      "[D 2025-04-02 04:20:50 yandex_cloud_ml_sdk._types.operation:110] Operation fvtt7v272897fueu81jv have non-terminal status IN_PROGRESS, sleep for 0.500000s\n",
      "[D 2025-04-02 04:20:50 yandex_cloud_ml_sdk._types.operation:110] Operation fvtt7v272897fueu81jv have non-terminal status IN_PROGRESS, sleep for 0.500000s\n",
      "[D 2025-04-02 04:20:51 yandex_cloud_ml_sdk._types.operation:110] Operation fvtt7v272897fueu81jv have non-terminal status IN_PROGRESS, sleep for 0.500000s\n",
      "[D 2025-04-02 04:20:51 yandex_cloud_ml_sdk._types.operation:110] Operation fvtt7v272897fueu81jv have non-terminal status IN_PROGRESS, sleep for 0.500000s\n",
      "[D 2025-04-02 04:20:52 yandex_cloud_ml_sdk._types.operation:110] Operation fvtt7v272897fueu81jv have non-terminal status IN_PROGRESS, sleep for 0.500000s\n",
      "[D 2025-04-02 04:20:52 yandex_cloud_ml_sdk._types.operation:110] Operation fvtt7v272897fueu81jv have non-terminal status IN_PROGRESS, sleep for 0.500000s\n",
      "[D 2025-04-02 04:20:53 yandex_cloud_ml_sdk._types.operation:110] Operation fvtt7v272897fueu81jv have non-terminal status IN_PROGRESS, sleep for 0.500000s\n",
      "[D 2025-04-02 04:20:54 yandex_cloud_ml_sdk._types.operation:110] Operation fvtt7v272897fueu81jv have non-terminal status IN_PROGRESS, sleep for 0.500000s\n",
      "[D 2025-04-02 04:20:54 yandex_cloud_ml_sdk._types.operation:110] Operation fvtt7v272897fueu81jv have non-terminal status IN_PROGRESS, sleep for 0.500000s\n",
      "[D 2025-04-02 04:20:55 yandex_cloud_ml_sdk._types.operation:110] Operation fvtt7v272897fueu81jv have non-terminal status IN_PROGRESS, sleep for 0.500000s\n",
      "[I 2025-04-02 04:20:55 yandex_cloud_ml_sdk._types.operation:118] Operation fvtt7v272897fueu81jv successfully finished\n",
      "[I 2025-04-02 04:20:55 yandex_cloud_ml_sdk._types.operation:142] Operation fvtt7v272897fueu81jv polling finished\n"
     ]
    },
    {
     "name": "stdout",
     "output_type": "stream",
     "text": [
      "К стейку из говядины подойдут следующие вина:\n",
      "\n",
      "* Для нежного мраморного стейка (Филе-миньон) рекомендуются лёгкие и элегантные красные вина из винограда Пино Нуар, Нерелло Маскалезе, а также выдержанное и элегантное Мерло. Также подойдут «округлые», выдержанные варианты из сортов Неббиоло (Барбареско), Темпранильо (Рибейра дель Дуэро), Санджовезе (Кьянти Ризерва).\n",
      "\n",
      "* Для жирноватого стейка (Рибай и подобные) с прожаркой Rare рекомендуются выдержанные и «благородные» вина из Темпранильо (Рибейра дель Дуэро или любые от Ризервы и выше), Санджовезе (Кьянти Ризерва, Брунелло), «супертосканские» вина, Бордо Правого берега, шелковистые аргентинские Мальбеки. С прожаркой Medium или WellDone хорошо сочетаются сухие и полусухие из винограда Сира (Шираз), Каберне Совиньон, «тельный» Мальбек, Примитиво, Зинфандель, Альянико (выдержанное и слегка «округлившееся»), выдержанный «ронский» ассамбляж Гренаш+Сира+Мурведр, вина Приората от 6–8 лет выдержки и выше.\n",
      "\n",
      "Если речь идёт о стейке из лосося, то к нему подойдёт пино нуар из Орегона. Также можно рассмотреть белые вина: тихое и элегантное выдержанное шардоне и вионье, сухие и полусухие рислинги, совиньон блан из Нового Света.\n",
      "------------------------\n",
      "Блюдо, к которому надо подобрать вино | Вино, которое подходит к этому блюду\n",
      "--------|--------\n",
      "Солянка (первое блюдо) | Крепкие напитки: Самогоны (Полугар, Хлебное вино), Водка, Хреновуха, Перцовка. Спагетти Карбонара | Белые вина: сухие выдержанные вина из Шардоне и Вердехо. Розовые вина: среднетелые и «тельные» вина Франции, Италии, Испании, России. Красные вина:  выдержанное «округлое» Неббило, элегантные Пино Нуары, Нерелло Маскалезе. Спагетти Болоньезе | Красные вина: сухие из винограда Санджовезе, Барбера, Неро д’Авола, Негроамаро, молодые Неббило, а также международные — Каберне Совиньон, молодоватое испанское Темпранильо. Спаржа обжаренная | Белые вина: тихое сухое из сорта Шардоне, Грюнер Вельтлинер, Мюллер Тургау, Совиньон Блан легкие и не очень кислотный Рислинг, Пино Гри. Как вариант — Игристые вина: «тельное» и капельку сладковатое (брют, сухое, полусухое) белое. Стейк говяжий мраморный нежный (Филе-миньон) | Красные вина: легкие и элегантные из винограда Пино Нуар, Нерелло Маскалезе, элегантно сделанное и выдержанное Мерло. Также подойдут «округлые», выдержанные варианты из сортов Неббиоло (Барбареско), Темпранильо (Рибейра дель Дуэро), Санджовезе (Кьянти Ризерва). Стейк говяжий мраморный жирноватый (Рибай и пр.) | Красные вина: к прожарке Rare — выдержанные и «благородные» вина из Темпранильо (Рибейра дель Дуэро или любые от Ризервы и выше), Санджовезе (Кьянти Ризерва, Брунелло), «супертосканские» вина, Бордо Правого берега, шелковистые аргентинские Мальбеки. К прожарке Medium или WellDone — сухие и полусухие из винограда Сира (Шираз), Каберне Совиньон, «тельный» Мальбек, Примитиво, Зинфандель, Альянико (выдержанное и слегка «округлившееся»), выдержанный «ронский» ассамбляж Гренаш+Сира+Мурведр, вина Приората от 6-8 лет выдержки и выше. Суши, сашими | см. Роллы\n",
      "------------------------\n",
      "## Франшхук \n",
      "\n",
      "Франшхук\n",
      "Франшхук — крупная винодельческая провинция Южной Африки. Территориально относится к региону Стелленбош, расположена в 75 км от Кейптауна — столицы ЮАР. Деревню основали беглые французы в 1688 году. Получив земельные наделы, они разбили виноградники и наладили производство напитков. Сегодня Франшхук называют винной столицей ЮАР. На карте провинции можно насчитать 11 крупных винодельческих хозяйств. Деревня Франшхук известна необычным терруаром: она расположена в продолговатой долине и с трех сторон окружена высокими горами, которые защищают виноградники от ветра, излишней влаги зимой и палящего солнца летом. При этом четвертая сторона долины открыта для ветров Атлантики. Климат здесь умеренный, а температура воздуха ниже, чем в соседних областях. Виноград созревает медленнее, чем на открытой африканской местности, что делает вино более свежим и кислотным. В Франшхуке наиболее распространены известные европейские сорта, завезенные французами в XVII веке. Здесь выращивают белые шенен блан, семильон, совиньон блан и шардоне. Среди красных популярны каберне совиньон, шираз и мерло. Значительная часть плантаций занята под пинотаж — автохтонный сорт, ставший визитной карточкой страны. Линейка традиционных вин из европейских сортов в ЮАР открывается совершенно по-новому. Сухие гранитные почвы придают напиткам явную минеральность. Белые вина приобретают золотистый оттенок и аромат южных фруктов, красные — насыщенный цвет и аромат. Оттенок может варьироваться от ярко-рубинового до глубокого фиолетового. Их часто сравнивают с бургундскими напитками. С 1992 года в долине Франшхук производят игристые вина премиального качества из шардоне и пино нуар по классическому методу. Белые вина Франшхука — прекрасный аперитив. Они подходят к легким сырам, закускам из гусиного паштета и курицы. Среди горячих блюд стоит выбрать индейку, запеченную белую рыбу с овощным гарниром или рагу. Красные южноафриканские сорта хорошо гармонируют с перчеными стейками из говядины и баранины, а также твердыми, выдержанными сырами. Пинотаж при этом считается универсальным вином. Ему подходят разнообразные блюда от изысканного филе миньон до лазаньи и пиццы с морепродуктами.\n",
      "------------------------\n",
      "Блюдо, к которому надо подобрать вино | Вино, которое подходит к этому блюду\n",
      "--------|--------\n",
      "Салат Цезарь с курицей | Белые вина: сухое и полусухое из винограда Шардоне, Вердехо, Пино Гри, Шенен Блан. Также подойдут Розовые вина: тихие легкие и элегантные вина Прованса (Франция) или Северной Италии. Неплохо пойдут легкие Оранжи (особенно если курятина жарилась на мангале). Салат Цезарь с лососем | Белые вина: сухое выдержанное Шардоне, Альбариньо, Пино Гри (в стиле Альто-Адидже). Полусухие белые вина со средней интенсивностью аромата и вкуса — Семильон, Рислинг, Вердехо. Розовые вина: тихие легкие и элегантные вина Прованса (Франция) или Северной Италии. Салаты азиатские пикантные | Белые вина: сухие и полусухие из винограда Рислинг, Мускат, Гевюрцтраминер. Розовые вина: среднетелые и «тельные»  вина Франции, Италии, Испании, России. Как вариант — розовые молодые и недорогие тельные Игристые вина. К салатам с прикопченым или просто пикантным мясом — можно выбрать легкие Красные вина: Нино Нуары, Нерелло Маскалезе, выдержанное Неббиоло. Неплохо пойдут и Оранжи. Сало соленое или прикопченое | Крепкие напитки: Самогоны (Полугар, Хлебное вино), Водка, Хреновуха, Перцовка. Свинина в кисло-сладком соусе | Белые вина: Рислинг, сухой Гевюрцтраминер или аналогичный Мускат\n",
      "Свинина постная, медальоны | Белые вина: тихое сухое выдержанное Шардоне, Альбариньо, Пино Гри (в стиле Альто-Адидже). Полусухие белые вина со средней интенсивностью аромата и вкуса — Семильон, Рислинг, Вердехо. Розовые вина: тихие среднетелые и «тельные» вина Франции, Италии, Испании, России. Свинина стейк жареный с луком | Красные вина: сухие и полусухие вина из винограда Гарнача (Гренаш), Мерло, Карменер, Менсия, «тельные» Пино Нуары (со всего света), российский Красностоп, Гамэ (Божоле Виляж). Сельдь с лучком (закуска) | Крепкие напитки: Самогоны (Полугар, Хлебное вино), Водка, Хреновуха, Перцовка. Для глобальных приверженцев вина — тельный, сладковатый и мощновкусный Рислинг.\n",
      "------------------------\n",
      "Блюдо, к которому надо подобрать вино | Вино, которое подходит к этому блюду\n",
      "--------|--------\n",
      "Рыба — стерлядь, осетр (деликатесные, прикопченые) | Русская классика — Крепкие напитки: Самогоны (Полугар, Хлебное вино), Водка, Хреновуха, Перцовка. Для любителей вина — настоятельно рекомендую Белые вина: тихие Шардоне (бургундского стиля), сухие и полусухие слегка сладковатые Рислинги невысокой кислотности, Пино Гри (из Альто Адидже), среднетелые и среднекислотные Альбариньо и Вердехо. Как вариант — Игристые вина (брюты и сухие — белые и легчайшие розовые). Рыба Тунец | В зависимости от типа приготовления (от самого нежного к зажаренному и пикантному) — Белые вина: тихие и элегантные выдержанные Шардоне и Вионье, сухие и полусухие Рислинги, Совиньон Блан из Нового Света. Розовые вина: тихие среднетелые сухие вина Франции, Италии, Испании, России. Как вариант к пикантному — Красные вина: легкие вина из Пино Нуара, Нерелло Маскалезе, Гриньолино (Италия), «округленькие» выдержанные Неббиоло и даже Гамэ (выдержанные Божоле Виляж). Подойдут также Оранжи. Салат Греческий | Белые вино: легкие, яркие сухие вина в первую очередь — из «родного» винограда Ассиртико, но отлично также подойдут Мюллер Тургау, Грюнер Вельтллинер, Вердехо, Шенен Блан, Совиньон Блан, Мелон де Бургонь (французские Мюскаде), вина из португальского региона Винью Верде. Как вариант — Игристые вино: белые и очень легкие розовые (брют-натур, экстра-брют, брют, сухое). Салат Еврейский | Белые вино: сухие выдержанные — Шардоне, Альбариньо, Пино Гри (в стиле Альто-Адидже), Семийон, полусухой сладковатый Рислинг, Вердехо. Розовые вина: тихие сухие и полусухие среднетелые вина Франции, Италии, Испании, России. Как вариант — белые и розовые молодые и недорогие тельные Игристые вина. Салат Капрезе | Белые вина: игристые (брют, сухие), тихие вина — с ярким и свежим вкусом: молодые Шардоне, Рислинги, Мюллер Тургау, Грюнер Вельтлинер, Виура, «старосветский» Совиньон Блан, Пино Гри, Фалангина и т. д. Как вариант — Розовые вина: тихие легкие и элегантные вина Прованса (Франция) или Северной Италии, в также попробуйте Игристые вина: легкие и элегантные белые и розовые.\n",
      "------------------------\n",
      "## Орегон \n",
      "\n",
      "Орегон\n",
      "Орегон — четвертый по объемам производства вина штат в США. Самый популярный сорт винограда, который выращивают здесь, — пино нуар. Вина из этого сорта отличает высокая кислотность и низкая танинность. Выращивать виноград в Орегоне начали еще в 1840-х, но датой зарождения серьезного виноделия называют 1961 год, когда любители бургундского пино нуар Ричард Соммер и Дэвид Летт решили производить похожее вино в Америке. Для этого был выбран Орегон — прохладный климат и разнообразие почв позволили добиться успеха. Уже в 1979 пино нуар из Орегона вошло в десятку вин в бургундском стиле на французской винной Олимпиаде. Его отличают более яркие ноты фруктов и более низкая кислотность. Прохладный климат Орегона хорошо подходит для выращивания таких сортов винограда, как рислинг, шардоне и гаме, но визитной карточкой штата считается пино нуар, который растет в долине Уилламетт. Менее популярны мерло, каберне совиньон, зинфандель. В Орегоне производят сухие, полусухие, а также игристые и десертные вина. Пино нуар из Орегона будет хорошо сочетаться со стейком из лосося, запеченной птицей и красным мясом, например, говядиной по-бургундски.\n"
     ]
    }
   ],
   "source": [
    "thread = create_thread()\n",
    "\n",
    "thread.write(\"Какое вино подходит к стейку?\")\n",
    "run = assistant.run(thread)\n",
    "\n",
    "result = run.wait()\n",
    "print(result.text)\n",
    "print_citations(result)"
   ]
  },
  {
   "cell_type": "code",
   "execution_count": 27,
   "metadata": {
    "execution": {
     "iopub.execute_input": "2025-04-02T04:21:03.871952Z",
     "iopub.status.busy": "2025-04-02T04:21:03.870654Z",
     "iopub.status.idle": "2025-04-02T04:21:04.067341Z",
     "shell.execute_reply": "2025-04-02T04:21:04.066456Z",
     "shell.execute_reply.started": "2025-04-02T04:21:03.871897Z"
    },
    "tags": []
   },
   "outputs": [],
   "source": [
    "thread.delete()\n",
    "assistant.delete()"
   ]
  },
  {
   "cell_type": "markdown",
   "metadata": {},
   "source": [
    "## Function Calling\n",
    "\n",
    "Предположим, мы делаем ассистента для магазина вин, который торгует винами по некоторому прайс-листу. Возьмём пример такого прайс-листа:"
   ]
  },
  {
   "cell_type": "code",
   "execution_count": 28,
   "metadata": {
    "execution": {
     "iopub.execute_input": "2025-04-02T04:21:10.745623Z",
     "iopub.status.busy": "2025-04-02T04:21:10.744213Z",
     "iopub.status.idle": "2025-04-02T04:21:11.339645Z",
     "shell.execute_reply": "2025-04-02T04:21:11.338721Z",
     "shell.execute_reply.started": "2025-04-02T04:21:10.745562Z"
    },
    "tags": []
   },
   "outputs": [
    {
     "data": {
      "text/html": [
       "<div>\n",
       "<style scoped>\n",
       "    .dataframe tbody tr th:only-of-type {\n",
       "        vertical-align: middle;\n",
       "    }\n",
       "\n",
       "    .dataframe tbody tr th {\n",
       "        vertical-align: top;\n",
       "    }\n",
       "\n",
       "    .dataframe thead th {\n",
       "        text-align: right;\n",
       "    }\n",
       "</style>\n",
       "<table border=\"1\" class=\"dataframe\">\n",
       "  <thead>\n",
       "    <tr style=\"text-align: right;\">\n",
       "      <th></th>\n",
       "      <th>Номер артикула</th>\n",
       "      <th>название</th>\n",
       "      <th>CT</th>\n",
       "      <th>цена от 1 бутылки</th>\n",
       "      <th>от 3-х и более</th>\n",
       "      <th>регулярная цена/промо</th>\n",
       "    </tr>\n",
       "  </thead>\n",
       "  <tbody>\n",
       "    <tr>\n",
       "      <th>0</th>\n",
       "      <td>56885</td>\n",
       "      <td>0,75Л ВИНО САССИКАЙЯ КР СХ</td>\n",
       "      <td>IT</td>\n",
       "      <td>27799.000</td>\n",
       "      <td>19459.3000</td>\n",
       "      <td>NaN</td>\n",
       "    </tr>\n",
       "    <tr>\n",
       "      <th>1</th>\n",
       "      <td>666560</td>\n",
       "      <td>0,75ВИНО СИЕПИ МАЗЕЙ КР СХ</td>\n",
       "      <td>IT</td>\n",
       "      <td>15999.000</td>\n",
       "      <td>11199.3000</td>\n",
       "      <td>NaN</td>\n",
       "    </tr>\n",
       "    <tr>\n",
       "      <th>2</th>\n",
       "      <td>533769</td>\n",
       "      <td>0,75ВИНО ПАЛАФРЕНО КР СХ</td>\n",
       "      <td>IT</td>\n",
       "      <td>14999.004</td>\n",
       "      <td>10499.3028</td>\n",
       "      <td>NaN</td>\n",
       "    </tr>\n",
       "    <tr>\n",
       "      <th>3</th>\n",
       "      <td>93733</td>\n",
       "      <td>0,75ВИНО АНТ ТИНЬЯНЕЛЛО КР СХ</td>\n",
       "      <td>IT</td>\n",
       "      <td>14499.012</td>\n",
       "      <td>10149.3084</td>\n",
       "      <td>NaN</td>\n",
       "    </tr>\n",
       "    <tr>\n",
       "      <th>4</th>\n",
       "      <td>644863</td>\n",
       "      <td>0,75ВИНО ШАТО МОНРОЗ КР СХ</td>\n",
       "      <td>FR</td>\n",
       "      <td>12999.000</td>\n",
       "      <td>9099.3000</td>\n",
       "      <td>от промо цены</td>\n",
       "    </tr>\n",
       "    <tr>\n",
       "      <th>...</th>\n",
       "      <td>...</td>\n",
       "      <td>...</td>\n",
       "      <td>...</td>\n",
       "      <td>...</td>\n",
       "      <td>...</td>\n",
       "      <td>...</td>\n",
       "    </tr>\n",
       "    <tr>\n",
       "      <th>747</th>\n",
       "      <td>61418</td>\n",
       "      <td>0,7ВИНО КАГОР ТАМ КР СЛ</td>\n",
       "      <td>RU</td>\n",
       "      <td>179.004</td>\n",
       "      <td>125.3028</td>\n",
       "      <td>от промо цены</td>\n",
       "    </tr>\n",
       "    <tr>\n",
       "      <th>748</th>\n",
       "      <td>615581</td>\n",
       "      <td>0,187ВИНО ДЖАСТ МЕРЛО КР СХ</td>\n",
       "      <td>FR</td>\n",
       "      <td>149.004</td>\n",
       "      <td>104.3028</td>\n",
       "      <td>NaN</td>\n",
       "    </tr>\n",
       "    <tr>\n",
       "      <th>749</th>\n",
       "      <td>615582</td>\n",
       "      <td>0,187ВИНО ДЖАСТ КБСВ КР СХ</td>\n",
       "      <td>FR</td>\n",
       "      <td>149.004</td>\n",
       "      <td>104.3028</td>\n",
       "      <td>NaN</td>\n",
       "    </tr>\n",
       "    <tr>\n",
       "      <th>750</th>\n",
       "      <td>83302</td>\n",
       "      <td>0,187Л ВИНО АДАГУМ КБСВ КР СХ</td>\n",
       "      <td>RU</td>\n",
       "      <td>119.004</td>\n",
       "      <td>83.3028</td>\n",
       "      <td>NaN</td>\n",
       "    </tr>\n",
       "    <tr>\n",
       "      <th>751</th>\n",
       "      <td>482447</td>\n",
       "      <td>0,187ВИНО АВТОРСКОЕ №1 КР СХ</td>\n",
       "      <td>RU</td>\n",
       "      <td>119.000</td>\n",
       "      <td>83.3000</td>\n",
       "      <td>NaN</td>\n",
       "    </tr>\n",
       "  </tbody>\n",
       "</table>\n",
       "<p>752 rows × 6 columns</p>\n",
       "</div>"
      ],
      "text/plain": [
       "     Номер артикула   ... регулярная цена/промо \n",
       "0              56885  ...                    NaN\n",
       "1             666560  ...                    NaN\n",
       "2             533769  ...                    NaN\n",
       "3              93733  ...                    NaN\n",
       "4             644863  ...         от промо цены \n",
       "..               ...  ...                    ...\n",
       "747            61418  ...         от промо цены \n",
       "748           615581  ...                    NaN\n",
       "749           615582  ...                    NaN\n",
       "750            83302  ...                    NaN\n",
       "751           482447  ...                    NaN\n",
       "\n",
       "[752 rows x 6 columns]"
      ]
     },
     "execution_count": 28,
     "metadata": {},
     "output_type": "execute_result"
    }
   ],
   "source": [
    "import pandas as pd\n",
    "\n",
    "pl = pd.read_excel(\"source/wine-price.xlsx\")\n",
    "pl"
   ]
  },
  {
   "cell_type": "markdown",
   "metadata": {},
   "source": [
    "Для удобства переименуем колонки:"
   ]
  },
  {
   "cell_type": "code",
   "execution_count": 29,
   "metadata": {
    "execution": {
     "iopub.execute_input": "2025-04-02T04:21:18.579394Z",
     "iopub.status.busy": "2025-04-02T04:21:18.577843Z",
     "iopub.status.idle": "2025-04-02T04:21:18.592040Z",
     "shell.execute_reply": "2025-04-02T04:21:18.591078Z",
     "shell.execute_reply.started": "2025-04-02T04:21:18.579342Z"
    },
    "tags": []
   },
   "outputs": [],
   "source": [
    "pl.columns = [\"Id\", \"Name\", \"Country\", \"Price\", \"WHPrice\", \"etc\"]"
   ]
  },
  {
   "cell_type": "markdown",
   "metadata": {},
   "source": [
    "Из имени извлечём кислотность вина:"
   ]
  },
  {
   "cell_type": "code",
   "execution_count": 30,
   "metadata": {
    "execution": {
     "iopub.execute_input": "2025-04-02T04:21:30.190962Z",
     "iopub.status.busy": "2025-04-02T04:21:30.189798Z",
     "iopub.status.idle": "2025-04-02T04:21:30.238664Z",
     "shell.execute_reply": "2025-04-02T04:21:30.237614Z",
     "shell.execute_reply.started": "2025-04-02T04:21:30.190916Z"
    },
    "tags": []
   },
   "outputs": [
    {
     "data": {
      "text/plain": [
       "Сухое          614\n",
       "Полусухое       68\n",
       "Полусладкое     28\n",
       "Сладкое         23\n",
       "                19\n",
       "Name: Acidity, dtype: int64"
      ]
     },
     "execution_count": 30,
     "metadata": {},
     "output_type": "execute_result"
    }
   ],
   "source": [
    "acid_map = {\"СХ\": \"Сухое\", \"СЛ\": \"Сладкое\", \"ПСХ\": \"Полусухое\", \"ПСЛ\": \"Полусладкое\"}\n",
    "pl[\"Acidity\"] = pl[\"Name\"].apply(\n",
    "    lambda x: acid_map.get(x.split()[-1].replace(\"КР\", \"\"), \"\")\n",
    ")\n",
    "pl[\"Acidity\"].value_counts()"
   ]
  },
  {
   "cell_type": "markdown",
   "metadata": {},
   "source": [
    "Тоже самое сделаем с цветом:"
   ]
  },
  {
   "cell_type": "code",
   "execution_count": 31,
   "metadata": {
    "execution": {
     "iopub.execute_input": "2025-04-02T04:21:42.444482Z",
     "iopub.status.busy": "2025-04-02T04:21:42.443238Z",
     "iopub.status.idle": "2025-04-02T04:21:42.476195Z",
     "shell.execute_reply": "2025-04-02T04:21:42.475184Z",
     "shell.execute_reply.started": "2025-04-02T04:21:42.444419Z"
    },
    "tags": []
   },
   "outputs": [
    {
     "data": {
      "text/plain": [
       "Красное    739\n",
       "            13\n",
       "Name: Color, dtype: int64"
      ]
     },
     "execution_count": 31,
     "metadata": {},
     "output_type": "execute_result"
    }
   ],
   "source": [
    "pl[\"Color\"] = pl[\"Name\"].apply(\n",
    "    lambda x: (\n",
    "        \"Красное\" if (x.split()[-1].startswith(\"КР\") or x.split()[-2] == \"КР\") else \"\"\n",
    "    )\n",
    ")\n",
    "pl[\"Color\"].value_counts()"
   ]
  },
  {
   "cell_type": "markdown",
   "metadata": {},
   "source": [
    "В итоге получилась такая таблица вин:"
   ]
  },
  {
   "cell_type": "code",
   "execution_count": 32,
   "metadata": {
    "execution": {
     "iopub.execute_input": "2025-04-02T04:21:47.379475Z",
     "iopub.status.busy": "2025-04-02T04:21:47.378458Z",
     "iopub.status.idle": "2025-04-02T04:21:47.408456Z",
     "shell.execute_reply": "2025-04-02T04:21:47.407429Z",
     "shell.execute_reply.started": "2025-04-02T04:21:47.379427Z"
    },
    "tags": []
   },
   "outputs": [
    {
     "data": {
      "text/html": [
       "<div>\n",
       "<style scoped>\n",
       "    .dataframe tbody tr th:only-of-type {\n",
       "        vertical-align: middle;\n",
       "    }\n",
       "\n",
       "    .dataframe tbody tr th {\n",
       "        vertical-align: top;\n",
       "    }\n",
       "\n",
       "    .dataframe thead th {\n",
       "        text-align: right;\n",
       "    }\n",
       "</style>\n",
       "<table border=\"1\" class=\"dataframe\">\n",
       "  <thead>\n",
       "    <tr style=\"text-align: right;\">\n",
       "      <th></th>\n",
       "      <th>Id</th>\n",
       "      <th>Name</th>\n",
       "      <th>Country</th>\n",
       "      <th>Price</th>\n",
       "      <th>WHPrice</th>\n",
       "      <th>etc</th>\n",
       "      <th>Acidity</th>\n",
       "      <th>Color</th>\n",
       "    </tr>\n",
       "  </thead>\n",
       "  <tbody>\n",
       "    <tr>\n",
       "      <th>0</th>\n",
       "      <td>56885</td>\n",
       "      <td>0,75Л ВИНО САССИКАЙЯ КР СХ</td>\n",
       "      <td>IT</td>\n",
       "      <td>27799.000</td>\n",
       "      <td>19459.3000</td>\n",
       "      <td>NaN</td>\n",
       "      <td>Сухое</td>\n",
       "      <td>Красное</td>\n",
       "    </tr>\n",
       "    <tr>\n",
       "      <th>1</th>\n",
       "      <td>666560</td>\n",
       "      <td>0,75ВИНО СИЕПИ МАЗЕЙ КР СХ</td>\n",
       "      <td>IT</td>\n",
       "      <td>15999.000</td>\n",
       "      <td>11199.3000</td>\n",
       "      <td>NaN</td>\n",
       "      <td>Сухое</td>\n",
       "      <td>Красное</td>\n",
       "    </tr>\n",
       "    <tr>\n",
       "      <th>2</th>\n",
       "      <td>533769</td>\n",
       "      <td>0,75ВИНО ПАЛАФРЕНО КР СХ</td>\n",
       "      <td>IT</td>\n",
       "      <td>14999.004</td>\n",
       "      <td>10499.3028</td>\n",
       "      <td>NaN</td>\n",
       "      <td>Сухое</td>\n",
       "      <td>Красное</td>\n",
       "    </tr>\n",
       "    <tr>\n",
       "      <th>3</th>\n",
       "      <td>93733</td>\n",
       "      <td>0,75ВИНО АНТ ТИНЬЯНЕЛЛО КР СХ</td>\n",
       "      <td>IT</td>\n",
       "      <td>14499.012</td>\n",
       "      <td>10149.3084</td>\n",
       "      <td>NaN</td>\n",
       "      <td>Сухое</td>\n",
       "      <td>Красное</td>\n",
       "    </tr>\n",
       "    <tr>\n",
       "      <th>4</th>\n",
       "      <td>644863</td>\n",
       "      <td>0,75ВИНО ШАТО МОНРОЗ КР СХ</td>\n",
       "      <td>FR</td>\n",
       "      <td>12999.000</td>\n",
       "      <td>9099.3000</td>\n",
       "      <td>от промо цены</td>\n",
       "      <td>Сухое</td>\n",
       "      <td>Красное</td>\n",
       "    </tr>\n",
       "    <tr>\n",
       "      <th>...</th>\n",
       "      <td>...</td>\n",
       "      <td>...</td>\n",
       "      <td>...</td>\n",
       "      <td>...</td>\n",
       "      <td>...</td>\n",
       "      <td>...</td>\n",
       "      <td>...</td>\n",
       "      <td>...</td>\n",
       "    </tr>\n",
       "    <tr>\n",
       "      <th>747</th>\n",
       "      <td>61418</td>\n",
       "      <td>0,7ВИНО КАГОР ТАМ КР СЛ</td>\n",
       "      <td>RU</td>\n",
       "      <td>179.004</td>\n",
       "      <td>125.3028</td>\n",
       "      <td>от промо цены</td>\n",
       "      <td>Сладкое</td>\n",
       "      <td>Красное</td>\n",
       "    </tr>\n",
       "    <tr>\n",
       "      <th>748</th>\n",
       "      <td>615581</td>\n",
       "      <td>0,187ВИНО ДЖАСТ МЕРЛО КР СХ</td>\n",
       "      <td>FR</td>\n",
       "      <td>149.004</td>\n",
       "      <td>104.3028</td>\n",
       "      <td>NaN</td>\n",
       "      <td>Сухое</td>\n",
       "      <td>Красное</td>\n",
       "    </tr>\n",
       "    <tr>\n",
       "      <th>749</th>\n",
       "      <td>615582</td>\n",
       "      <td>0,187ВИНО ДЖАСТ КБСВ КР СХ</td>\n",
       "      <td>FR</td>\n",
       "      <td>149.004</td>\n",
       "      <td>104.3028</td>\n",
       "      <td>NaN</td>\n",
       "      <td>Сухое</td>\n",
       "      <td>Красное</td>\n",
       "    </tr>\n",
       "    <tr>\n",
       "      <th>750</th>\n",
       "      <td>83302</td>\n",
       "      <td>0,187Л ВИНО АДАГУМ КБСВ КР СХ</td>\n",
       "      <td>RU</td>\n",
       "      <td>119.004</td>\n",
       "      <td>83.3028</td>\n",
       "      <td>NaN</td>\n",
       "      <td>Сухое</td>\n",
       "      <td>Красное</td>\n",
       "    </tr>\n",
       "    <tr>\n",
       "      <th>751</th>\n",
       "      <td>482447</td>\n",
       "      <td>0,187ВИНО АВТОРСКОЕ №1 КР СХ</td>\n",
       "      <td>RU</td>\n",
       "      <td>119.000</td>\n",
       "      <td>83.3000</td>\n",
       "      <td>NaN</td>\n",
       "      <td>Сухое</td>\n",
       "      <td>Красное</td>\n",
       "    </tr>\n",
       "  </tbody>\n",
       "</table>\n",
       "<p>752 rows × 8 columns</p>\n",
       "</div>"
      ],
      "text/plain": [
       "         Id                           Name  ...  Acidity    Color\n",
       "0     56885     0,75Л ВИНО САССИКАЙЯ КР СХ  ...    Сухое  Красное\n",
       "1    666560     0,75ВИНО СИЕПИ МАЗЕЙ КР СХ  ...    Сухое  Красное\n",
       "2    533769       0,75ВИНО ПАЛАФРЕНО КР СХ  ...    Сухое  Красное\n",
       "3     93733  0,75ВИНО АНТ ТИНЬЯНЕЛЛО КР СХ  ...    Сухое  Красное\n",
       "4    644863     0,75ВИНО ШАТО МОНРОЗ КР СХ  ...    Сухое  Красное\n",
       "..      ...                            ...  ...      ...      ...\n",
       "747   61418        0,7ВИНО КАГОР ТАМ КР СЛ  ...  Сладкое  Красное\n",
       "748  615581    0,187ВИНО ДЖАСТ МЕРЛО КР СХ  ...    Сухое  Красное\n",
       "749  615582     0,187ВИНО ДЖАСТ КБСВ КР СХ  ...    Сухое  Красное\n",
       "750   83302  0,187Л ВИНО АДАГУМ КБСВ КР СХ  ...    Сухое  Красное\n",
       "751  482447   0,187ВИНО АВТОРСКОЕ №1 КР СХ  ...    Сухое  Красное\n",
       "\n",
       "[752 rows x 8 columns]"
      ]
     },
     "execution_count": 32,
     "metadata": {},
     "output_type": "execute_result"
    }
   ],
   "source": [
    "pl"
   ]
  },
  {
   "cell_type": "markdown",
   "metadata": {},
   "source": [
    "Чтобы научиться отвечать на вопросы по прайс-листу, у нас есть несколько возможных решений:\n",
    "\n",
    "* Попытаться закинуть прайс-лист в контекст модели с помощью RAG, как мы это ранее делали с таблицей блюд. Не очень хороший вариант, потому что модель не будет видеть всю таблицу, и не сможет отвечать на вопросы \"максимальная/минимальная цена\".\n",
    "* Попытаться организовать трансляцию запроса не естественном языке в SQL-подобный язык. Это идеальный вариант, но его сложно сделать без ошибок без fine-tuning-а модели. \n",
    "* Извлечь из текстового запроса основные параметры того, что хочет пользователь, и затем сформировать на этой основе запрос, извлечающий данные из таблицы. Такой подход описан, например, в статье [Querying Databases with Function Calling](https://arxiv.org/html/2502.00032v1)\n",
    "\n",
    "В любом случае, два последних варианта подразумевают использование технологии Function Calling - когда модель может сама решить, когда ей надо вызвать некоторую **внешнюю функцию**, и какие параметры нужно ей передать.\n",
    "\n",
    "Чтобы function calling работал - нам надо сообщить LLM о доступных **инструментах**. Это можно сделать, передав с помощью JSON-схемы описание возможностей таких инструментов и их параметров.\n",
    "\n",
    "ML SDK позволяет нам упростить function calling, и вместо JSON-схемы использовать типизированные объекты Pyton. Для извлечения параметров запроса о вине, мы создадим такой объект: "
   ]
  },
  {
   "cell_type": "code",
   "execution_count": 33,
   "metadata": {
    "execution": {
     "iopub.execute_input": "2025-04-02T04:22:08.297660Z",
     "iopub.status.busy": "2025-04-02T04:22:08.296327Z",
     "iopub.status.idle": "2025-04-02T04:22:08.646443Z",
     "shell.execute_reply": "2025-04-02T04:22:08.645374Z",
     "shell.execute_reply.started": "2025-04-02T04:22:08.297610Z"
    },
    "tags": []
   },
   "outputs": [],
   "source": [
    "from pydantic import BaseModel, Field\n",
    "from typing import Optional\n",
    "\n",
    "class SearchWinePriceList(BaseModel):\n",
    "    \"\"\"Эта функция позволяет искать вина в прайс-листе по одному или нескольким параметрам.\"\"\"\n",
    "\n",
    "    name: str = Field(description=\"Название вина\", default=None)\n",
    "    country: str = Field(description=\"Страна\", default=None)\n",
    "    acidity: str = Field(\n",
    "        description=\"Кислотность (сухое, полусухое, сладкое, полусладкое)\", default=None\n",
    "    )\n",
    "    color: str = Field(description=\"Цвет вина (красное, белое, розовое)\", default=None)\n",
    "    sort_order: str = Field(\n",
    "        description=\"Порядок выдачи (most expensive, cheapest, random, average)\",\n",
    "        default=None,\n",
    "    )\n",
    "    what_to_return: str = Field(\n",
    "        description=\"Что вернуть (wine info или price)\", default=None\n",
    "    )"
   ]
  },
  {
   "cell_type": "markdown",
   "metadata": {},
   "source": [
    "Теперь создадим инструмент (tool) и нового ассистента, у которого в списке инструментов будет одновременно и RAG-поиск, и function calling. Также в инструкции ассистенту пропишем, что он может использовать Function Calling."
   ]
  },
  {
   "cell_type": "code",
   "execution_count": 37,
   "metadata": {
    "execution": {
     "iopub.execute_input": "2025-04-02T04:23:13.337176Z",
     "iopub.status.busy": "2025-04-02T04:23:13.335953Z",
     "iopub.status.idle": "2025-04-02T04:23:13.574178Z",
     "shell.execute_reply": "2025-04-02T04:23:13.573299Z",
     "shell.execute_reply.started": "2025-04-02T04:23:13.337134Z"
    },
    "tags": []
   },
   "outputs": [
    {
     "name": "stderr",
     "output_type": "stream",
     "text": [
      "[D 2025-04-02 04:23:13 yandex_cloud_ml_sdk._types.schemas:98] trasform input parameters=<class '__main__.SearchWinePriceList'> to json_schema={'description': 'Эта функция позволяет искать вина в прайс-листе по одному или нескольким параметрам.', 'properties': {'name': {'default': None, 'description': 'Название вина', 'title': 'Name', 'type': 'string'}, 'country': {'default': None, 'description': 'Страна', 'title': 'Country', 'type': 'string'}, 'acidity': {'default': None, 'description': 'Кислотность (сухое, полусухое, сладкое, полусладкое)', 'title': 'Acidity', 'type': 'string'}, 'color': {'default': None, 'description': 'Цвет вина (красное, белое, розовое)', 'title': 'Color', 'type': 'string'}, 'sort_order': {'default': None, 'description': 'Порядок выдачи (most expensive, cheapest, random, average)', 'title': 'Sort Order', 'type': 'string'}, 'what_to_return': {'default': None, 'description': 'Что вернуть (wine info или price)', 'title': 'What To Return', 'type': 'string'}}, 'title': 'SearchWinePriceList', 'type': 'object'}\n"
     ]
    }
   ],
   "source": [
    "price_list_search_tool = sdk.tools.function(SearchWinePriceList)\n",
    "\n",
    "assistant = create_assistant(model, tools=[price_list_search_tool, search_tool])\n",
    "thread = create_thread()\n",
    "\n",
    "instruction = \"\"\"\n",
    "Ты - опытный сомелье, в задачу которого входит отвечать на вопросы пользователя про вина\n",
    "и рекомендовать лучшие вина к еде, а также искать вина в прайс-листе нашего магазина. \n",
    "Посмотри на всю имеющуюся в твоем распоряжении информацию\n",
    "и выдай одну или несколько лучших рекомендаций. Если вопрос касается конкретных вин\n",
    "или цены, то используй Function Calling.\n",
    "Если что-то непонятно, то лучше уточни информацию у пользователя.\n",
    "\"\"\"\n",
    "\n",
    "_ = assistant.update(instruction=instruction)"
   ]
  },
  {
   "cell_type": "markdown",
   "metadata": {},
   "source": [
    "Попробуем узнать самое дешевое вино из Австралии:"
   ]
  },
  {
   "cell_type": "code",
   "execution_count": 41,
   "metadata": {
    "execution": {
     "iopub.execute_input": "2025-04-02T04:24:17.935045Z",
     "iopub.status.busy": "2025-04-02T04:24:17.933768Z",
     "iopub.status.idle": "2025-04-02T04:24:19.210797Z",
     "shell.execute_reply": "2025-04-02T04:24:19.209768Z",
     "shell.execute_reply.started": "2025-04-02T04:24:17.934994Z"
    },
    "tags": []
   },
   "outputs": [
    {
     "name": "stderr",
     "output_type": "stream",
     "text": [
      "[I 2025-04-02 04:24:18 yandex_cloud_ml_sdk._types.operation:131] Starting operation fvtqa08e0qvq22rmm2oc polling with a poll interval 0.500000s and poll timeout 300.000000s\n",
      "[D 2025-04-02 04:24:18 yandex_cloud_ml_sdk._types.operation:110] Operation fvtqa08e0qvq22rmm2oc have non-terminal status PENDING, sleep for 0.500000s\n",
      "[D 2025-04-02 04:24:18 yandex_cloud_ml_sdk._types.operation:110] Operation fvtqa08e0qvq22rmm2oc have non-terminal status IN_PROGRESS, sleep for 0.500000s\n",
      "[I 2025-04-02 04:24:19 yandex_cloud_ml_sdk._types.operation:118] Operation fvtqa08e0qvq22rmm2oc successfully finished\n",
      "[I 2025-04-02 04:24:19 yandex_cloud_ml_sdk._types.operation:142] Operation fvtqa08e0qvq22rmm2oc polling finished\n"
     ]
    },
    {
     "data": {
      "text/plain": [
       "RunResult(status=<RunStatus.TOOL_CALLS: 5>, error=None, tool_calls=ToolCallList(ToolCall(function=FunctionCall(name='SearchWinePriceList', arguments={'what_to_return': 'price', 'acidity': 'сухое', 'color': 'красное', 'sort_order': 'cheapest', 'country': 'Австралия'})),), _message=None, usage=Usage(input_text_tokens=2693, completion_tokens=39, total_tokens=2732))"
      ]
     },
     "execution_count": 41,
     "metadata": {},
     "output_type": "execute_result"
    }
   ],
   "source": [
    "thread.write(\"Привет! Какое самое дешевое красное сухое вино из Австралии?\")\n",
    "run = assistant.run(thread)\n",
    "res = run.wait()\n",
    "res"
   ]
  },
  {
   "cell_type": "markdown",
   "metadata": {},
   "source": [
    "Видим, что в итоге вернулся ответ, указывающий, что надо сделать Funtion Call для получения данных из таблицы. При это LLM извлекла из текста все параметры запроса.\n",
    "\n",
    "Реализуем функцию, которая возвращает список вин по параметрам, заданным в виде объекта `SearchWinePriceList`:"
   ]
  },
  {
   "cell_type": "code",
   "execution_count": 39,
   "metadata": {
    "execution": {
     "iopub.execute_input": "2025-04-02T04:23:50.340608Z",
     "iopub.status.busy": "2025-04-02T04:23:50.339133Z",
     "iopub.status.idle": "2025-04-02T04:23:50.363186Z",
     "shell.execute_reply": "2025-04-02T04:23:50.362360Z",
     "shell.execute_reply.started": "2025-04-02T04:23:50.340561Z"
    },
    "tags": []
   },
   "outputs": [
    {
     "name": "stdout",
     "output_type": "stream",
     "text": [
      "Вот какие вина были найдены:\n",
      "0,75ВИНО ДЖИНДАЛИ МЕРЛО КР ПСХ (Австралия) - 499.0\n",
      "0,75ВИНО ДЖИНДАЛИ КБСВ КР ПСХ (Австралия) - 499.0\n",
      "0,75ВИНО ЧОЛК ХИЛЛ ШИРАЗ КР СХ (Австралия) - 509.0\n",
      "0,75ВИНО ПИТ'С ПЮР ШИРАЗ КР ПСХ (Австралия) - 579.0\n",
      "0,75ВИНО ПИТ'С ПЮР ПННР КР ПСХ (Австралия) - 579.0\n",
      "0,75ВИНО СТАМП ДЖАМП КР СХ (Австралия) - 789.0\n",
      "0,75ВИНО ЛИНД БИН50 ШИР КР ПСХ (Австралия) - 899.0\n",
      "0,75ВИНО ЛЭКИ ШИРАЗ КРСХ (Австралия) - 978.996\n",
      "0,75ВИНО СТЭДФАСТ ШИР КАБ КРСХ (Австралия) - 999.0\n",
      "0,75ВИНО ТИРРЕЛЗ ШИР КР СХ (Австралия) - 1098.996\n"
     ]
    }
   ],
   "source": [
    "country_map = {\n",
    "    \"IT\": \"Италия\",\n",
    "    \"FR\": \"Франция\",\n",
    "    \"ES\": \"Испания\",\n",
    "    \"RU\": \"Россия\",\n",
    "    \"PT\": \"Португалия\",\n",
    "    \"AR\": \"Армения\",\n",
    "    \"CL\": \"Чили\",\n",
    "    \"AU\": \"Австрия\",\n",
    "    \"GE\": \"Грузия\",\n",
    "    \"ZA\": \"ЮАР\",\n",
    "    \"US\": \"США\",\n",
    "    \"NZ\": \"Новая Зеландия\",\n",
    "    \"DE\": \"Германия\",\n",
    "    \"AT\": \"Австрия\",\n",
    "    \"IL\": \"Израиль\",\n",
    "    \"BG\": \"Болгария\",\n",
    "    \"GR\": \"Греция\",\n",
    "    \"AU\": \"Австралия\",\n",
    "}\n",
    "\n",
    "revmap = {v.lower(): k for k, v in country_map.items()}\n",
    "\n",
    "\n",
    "def find_wines(req):\n",
    "    x = pl.copy()\n",
    "    if req.country and req.country.lower() in revmap.keys():\n",
    "        x = x[x[\"Country\"] == revmap[req.country.lower()]]\n",
    "    if req.acidity:\n",
    "        x = x[x[\"Acidity\"] == req.acidity.capitalize()]\n",
    "    if req.color:\n",
    "        x = x[x[\"Color\"] == req.color.capitalize()]\n",
    "    if req.name:\n",
    "        x = x[x[\"Name\"].apply(lambda x: req.name.lower() in x.lower())]\n",
    "    if req.sort_order:\n",
    "        if req.sort_order == \"cheapest\":\n",
    "            x = x.sort_values(by=\"Price\")\n",
    "        elif req.sort_order == \"most expensive\":\n",
    "            x = x.sort_values(by=\"Price\", ascending=False)\n",
    "        else:\n",
    "            pass\n",
    "    if x is None or len(x) == 0:\n",
    "        return \"Подходящих вин не найдено\"\n",
    "    return \"Вот какие вина были найдены:\\n\" + \"\\n\".join(\n",
    "        [\n",
    "            f\"{z['Name']} ({country_map.get(z['Country'],'Неизвестно')}) - {z['Price']}\"\n",
    "            for _, z in x.head(10).iterrows()\n",
    "        ]\n",
    "    )\n",
    "\n",
    "\n",
    "print(find_wines(SearchWinePriceList(country=\"Австралия\", sort_order=\"cheapest\")))"
   ]
  },
  {
   "cell_type": "markdown",
   "metadata": {},
   "source": [
    "В ответ на Function Call нам нужно сформировать ответ от функции, и передать её обратно для обработки языковой моделью. В нашем случае функция может быть только одна, поэтому мы не проверяем название функции, а всегда запрашиваем поиск в таблице:"
   ]
  },
  {
   "cell_type": "code",
   "execution_count": 42,
   "metadata": {
    "execution": {
     "iopub.execute_input": "2025-04-02T04:24:23.993392Z",
     "iopub.status.busy": "2025-04-02T04:24:23.992170Z",
     "iopub.status.idle": "2025-04-02T04:24:27.887496Z",
     "shell.execute_reply": "2025-04-02T04:24:27.886494Z",
     "shell.execute_reply.started": "2025-04-02T04:24:23.993343Z"
    },
    "tags": []
   },
   "outputs": [
    {
     "name": "stdout",
     "output_type": "stream",
     "text": [
      " + Processing function call fn=SearchWinePriceList\n"
     ]
    },
    {
     "name": "stderr",
     "output_type": "stream",
     "text": [
      "[I 2025-04-02 04:24:27 yandex_cloud_ml_sdk._types.operation:131] Starting operation fvtqa08e0qvq22rmm2oc polling with a poll interval 0.500000s and poll timeout 300.000000s\n",
      "[I 2025-04-02 04:24:27 yandex_cloud_ml_sdk._types.operation:118] Operation fvtqa08e0qvq22rmm2oc successfully finished\n",
      "[I 2025-04-02 04:24:27 yandex_cloud_ml_sdk._types.operation:142] Operation fvtqa08e0qvq22rmm2oc polling finished\n"
     ]
    },
    {
     "data": {
      "text/plain": [
       "RunResult(status=<RunStatus.COMPLETED: 4>, error=None, tool_calls=None, _message=Message(id='fvts2dqmlmvdu43mc4f6', parts=('Самое дешёвое красное сухое вино из Австралии в нашем магазине — это «Чолк Хилл Шираз», стоимостью 509 рублей за бутылку объёмом 0,75 литра.',), thread_id='fvt01m53ghe08fpnhdta', created_by='ajej20rll4tifkelclga', created_at=datetime.datetime(2025, 4, 2, 4, 24, 24, 768989), labels=None, author=Author(id='fvtg2fi531uihqlcf7mr', role='ASSISTANT'), citations=()), usage=Usage(input_text_tokens=3385, completion_tokens=77, total_tokens=3462))"
      ]
     },
     "execution_count": 42,
     "metadata": {},
     "output_type": "execute_result"
    }
   ],
   "source": [
    "import time\n",
    "\n",
    "if res.tool_calls:\n",
    "    result = []\n",
    "    for f in res.tool_calls:\n",
    "        print(f\" + Processing function call fn={f.function.name}\")\n",
    "        x = SearchWinePriceList.model_validate(f.function.arguments)\n",
    "        x = find_wines(x)\n",
    "        result.append({\"name\": f.function.name, \"content\": x})\n",
    "    run.submit_tool_results(result)\n",
    "    time.sleep(3)\n",
    "    res = run.wait()\n",
    "res"
   ]
  },
  {
   "cell_type": "code",
   "execution_count": 43,
   "metadata": {
    "execution": {
     "iopub.execute_input": "2025-04-02T04:24:42.488439Z",
     "iopub.status.busy": "2025-04-02T04:24:42.487251Z",
     "iopub.status.idle": "2025-04-02T04:24:42.644485Z",
     "shell.execute_reply": "2025-04-02T04:24:42.643489Z",
     "shell.execute_reply.started": "2025-04-02T04:24:42.488391Z"
    },
    "tags": []
   },
   "outputs": [],
   "source": [
    "thread.delete()\n",
    "assistant.delete()"
   ]
  },
  {
   "cell_type": "markdown",
   "metadata": {},
   "source": [
    "## Релизуем агента с Function Calling\n",
    "\n",
    "Для упрощения реализации Function Calling напишем небольшую обвязку, реализующую агента, способного искать в текствой базе и делать Function Calling. \n",
    "\n",
    "Функцию обработки запроса мы включим в состав класса для описания функции, назовём её `process`. Для реализации всех наших задумок также будем передавать в неё текущий `thread`:"
   ]
  },
  {
   "cell_type": "code",
   "execution_count": 44,
   "metadata": {
    "execution": {
     "iopub.execute_input": "2025-04-02T04:28:34.192507Z",
     "iopub.status.busy": "2025-04-02T04:28:34.191202Z",
     "iopub.status.idle": "2025-04-02T04:28:34.206156Z",
     "shell.execute_reply": "2025-04-02T04:28:34.205324Z",
     "shell.execute_reply.started": "2025-04-02T04:28:34.192456Z"
    }
   },
   "outputs": [],
   "source": [
    "class SearchWinePriceList(BaseModel):\n",
    "    \"\"\"Эта функция позволяет искать вина в прайс-листе по одному или нескольким параметрам.\"\"\"\n",
    "\n",
    "    name: str = Field(description=\"Название вина\", default=None)\n",
    "    country: str = Field(description=\"Страна\", default=None)\n",
    "    acidity: str = Field(\n",
    "        description=\"Кислотность (сухое, полусухое, сладкое, полусладкое)\", default=None\n",
    "    )\n",
    "    color: str = Field(description=\"Цвет вина (красное, белое, розовое)\", default=None)\n",
    "    sort_order: str = Field(\n",
    "        description=\"Порядок выдачи (most expensive, cheapest, random, average)\",\n",
    "        default=None,\n",
    "    )\n",
    "    what_to_return: str = Field(\n",
    "        description=\"Что вернуть (wine info или price)\", default=None\n",
    "    )\n",
    "\n",
    "    def process(self, thread):\n",
    "        return find_wines(self)"
   ]
  },
  {
   "cell_type": "markdown",
   "metadata": {},
   "source": [
    "Также в виде функции реализуем функциональность передачи управления оператору. В данном случае мы будем просто устанавливать некоторый глобальный флаг `handover` - это очень грубое решение и сделано для простоты, в реальной жизни надо будет подумать над более правильной логикой, поддерживающей нескольких пользователей."
   ]
  },
  {
   "cell_type": "code",
   "execution_count": 46,
   "metadata": {
    "execution": {
     "iopub.execute_input": "2025-04-02T04:34:11.614230Z",
     "iopub.status.busy": "2025-04-02T04:34:11.612847Z",
     "iopub.status.idle": "2025-04-02T04:34:11.634068Z",
     "shell.execute_reply": "2025-04-02T04:34:11.633097Z",
     "shell.execute_reply.started": "2025-04-02T04:34:11.614179Z"
    },
    "tags": []
   },
   "outputs": [],
   "source": [
    "handover = False\n",
    "\n",
    "class Handover(BaseModel):\n",
    "    \"\"\"Эта функция позволяет передать диалог человеку-оператору поддержки\"\"\"\n",
    "\n",
    "    reason: str = Field(\n",
    "        description=\"Причина для вызова оператора\", default=\"не указана\"\n",
    "    )\n",
    "\n",
    "    def process(self, thread):\n",
    "        global handover\n",
    "        handover = True\n",
    "        return f\"Я побежала вызывать оператора, ваш {thread.id=}, причина: {self.reason}\""
   ]
  },
  {
   "cell_type": "markdown",
   "metadata": {},
   "source": [
    "Также реализуем функцию добавления вин в корзину. Чтобы для каждого пользователя была своя корзина, будем привязывать её к `thread.id` с помощью словаря `carts`:"
   ]
  },
  {
   "cell_type": "code",
   "execution_count": 47,
   "metadata": {
    "execution": {
     "iopub.execute_input": "2025-04-02T04:34:14.096221Z",
     "iopub.status.busy": "2025-04-02T04:34:14.094564Z",
     "iopub.status.idle": "2025-04-02T04:34:14.115414Z",
     "shell.execute_reply": "2025-04-02T04:34:14.114586Z",
     "shell.execute_reply.started": "2025-04-02T04:34:14.096169Z"
    },
    "tags": []
   },
   "outputs": [],
   "source": [
    "carts = {}\n",
    "\n",
    "\n",
    "class AddToCart(BaseModel):\n",
    "    \"\"\"Эта функция позволяет положить вино в корзину\"\"\"\n",
    "\n",
    "    wine_name: str = Field(\n",
    "        description=\"Точное название вина, чтобы положить в корзину\", default=None\n",
    "    )\n",
    "    count: str = Field(\n",
    "        description=\"Количество бутылок вина, которое нужно положить в корзину\",\n",
    "        default=1,\n",
    "    )\n",
    "\n",
    "    def process(self, thread):\n",
    "        if thread.id not in carts:\n",
    "            carts[thread.id] = []\n",
    "        carts[thread.id].append(self)\n",
    "        return f\"Вино {self.wine_name} добавлено в корзину, число бутылок: {self.count}\""
   ]
  },
  {
   "cell_type": "markdown",
   "metadata": {},
   "source": [
    "Наконец, оформим функцию для показа корзины:"
   ]
  },
  {
   "cell_type": "code",
   "execution_count": 62,
   "metadata": {
    "execution": {
     "iopub.execute_input": "2025-04-02T04:45:25.771257Z",
     "iopub.status.busy": "2025-04-02T04:45:25.769906Z",
     "iopub.status.idle": "2025-04-02T04:45:25.785915Z",
     "shell.execute_reply": "2025-04-02T04:45:25.785003Z",
     "shell.execute_reply.started": "2025-04-02T04:45:25.771213Z"
    },
    "tags": []
   },
   "outputs": [],
   "source": [
    "class ShowCart(BaseModel):\n",
    "    \"\"\"Эта функция позволяет показать содержимое корзины\"\"\"\n",
    "\n",
    "    def process(self, thread):\n",
    "        if thread.id not in carts or len(carts[thread.id]) == 0:\n",
    "            return \"Корзина пуста\"\n",
    "        return \"В корзине находятся следующие вина:\\n\" + \"\\n\".join(\n",
    "            [f\"{x.wine_name}, число бутылок: {x.count}\" for x in carts[thread.id]]\n",
    "        )"
   ]
  },
  {
   "cell_type": "markdown",
   "metadata": {},
   "source": [
    "Теперь реализуем главный класс `Agent`, который будет брать на себя обработку функций. В качестве `tools` будем передавать список описанных нами ранее классов.\n",
    "\n",
    "Также предусмотрим гибкую работу с `thread`. При запросе агента мы сможем опиционально указывать ему уже созданный `thread` для ведения переписки, либо же переписка будет вестись в созданном потоке по умолчанию. Это полезно для упрощения нашего дальнейшего кода."
   ]
  },
  {
   "cell_type": "code",
   "execution_count": 63,
   "metadata": {
    "execution": {
     "iopub.execute_input": "2025-04-02T04:45:29.420179Z",
     "iopub.status.busy": "2025-04-02T04:45:29.418746Z",
     "iopub.status.idle": "2025-04-02T04:45:29.438166Z",
     "shell.execute_reply": "2025-04-02T04:45:29.437272Z",
     "shell.execute_reply.started": "2025-04-02T04:45:29.420128Z"
    },
    "tags": []
   },
   "outputs": [],
   "source": [
    "class Agent:\n",
    "    def __init__(self, assistant=None, instruction=None, search_index=None, tools=None):\n",
    "\n",
    "        self.thread = None\n",
    "\n",
    "        if assistant:\n",
    "            self.assistant = assistant\n",
    "        else:\n",
    "            if tools:\n",
    "                self.tools = {x.__name__: x for x in tools}\n",
    "                tools = [sdk.tools.function(x) for x in tools]\n",
    "            else:\n",
    "                self.tools = {}\n",
    "                tools = []\n",
    "            if search_index:\n",
    "                tools.append(sdk.tools.search_index(search_index))\n",
    "            self.assistant = create_assistant(model, tools)\n",
    "\n",
    "        if instruction:\n",
    "            self.assistant.update(instruction=instruction)\n",
    "\n",
    "    def get_thread(self, thread=None):\n",
    "        if thread is not None:\n",
    "            return thread\n",
    "        if self.thread == None:\n",
    "            self.thread = create_thread()\n",
    "        return self.thread\n",
    "\n",
    "    def __call__(self, message, thread=None):\n",
    "        thread = self.get_thread(thread)\n",
    "        thread.write(message)\n",
    "        run = self.assistant.run(thread)\n",
    "        res = run.wait()\n",
    "        if res.tool_calls:\n",
    "            result = []\n",
    "            for f in res.tool_calls:\n",
    "                print(\n",
    "                    f\" + Вызываем функцию {f.function.name}, args={f.function.arguments}\"\n",
    "                )\n",
    "                fn = self.tools[f.function.name]\n",
    "                obj = fn(**f.function.arguments)\n",
    "                x = obj.process(thread)\n",
    "                result.append({\"name\": f.function.name, \"content\": x})\n",
    "            run.submit_tool_results(result)\n",
    "            #time.sleep(3)\n",
    "            res = run.wait()\n",
    "        return res.text\n",
    "\n",
    "    def restart(self):\n",
    "        if self.thread:\n",
    "            self.thread.delete()\n",
    "            self.thread = sdk.threads.create(\n",
    "                name=\"Test\", ttl_days=1, expiration_policy=\"static\"\n",
    "            )\n",
    "\n",
    "    def done(self, delete_assistant=False):\n",
    "        if self.thread:\n",
    "            self.thread.delete()\n",
    "        if delete_assistant:\n",
    "            self.assistant.delete()"
   ]
  },
  {
   "cell_type": "markdown",
   "metadata": {},
   "source": [
    "Создадим нашего агента - винного сомелье. В системном промпте пропишем ему возможные варианты для вызова функции, чтобы облегчить задачу."
   ]
  },
  {
   "cell_type": "code",
   "execution_count": 64,
   "metadata": {
    "execution": {
     "iopub.execute_input": "2025-04-02T04:45:30.751312Z",
     "iopub.status.busy": "2025-04-02T04:45:30.749699Z",
     "iopub.status.idle": "2025-04-02T04:45:30.975887Z",
     "shell.execute_reply": "2025-04-02T04:45:30.974806Z",
     "shell.execute_reply.started": "2025-04-02T04:45:30.751267Z"
    },
    "tags": []
   },
   "outputs": [
    {
     "name": "stderr",
     "output_type": "stream",
     "text": [
      "[D 2025-04-02 04:45:30 yandex_cloud_ml_sdk._types.schemas:98] trasform input parameters=<class '__main__.SearchWinePriceList'> to json_schema={'description': 'Эта функция позволяет искать вина в прайс-листе по одному или нескольким параметрам.', 'properties': {'name': {'default': None, 'description': 'Название вина', 'title': 'Name', 'type': 'string'}, 'country': {'default': None, 'description': 'Страна', 'title': 'Country', 'type': 'string'}, 'acidity': {'default': None, 'description': 'Кислотность (сухое, полусухое, сладкое, полусладкое)', 'title': 'Acidity', 'type': 'string'}, 'color': {'default': None, 'description': 'Цвет вина (красное, белое, розовое)', 'title': 'Color', 'type': 'string'}, 'sort_order': {'default': None, 'description': 'Порядок выдачи (most expensive, cheapest, random, average)', 'title': 'Sort Order', 'type': 'string'}, 'what_to_return': {'default': None, 'description': 'Что вернуть (wine info или price)', 'title': 'What To Return', 'type': 'string'}}, 'title': 'SearchWinePriceList', 'type': 'object'}\n",
      "[D 2025-04-02 04:45:30 yandex_cloud_ml_sdk._types.schemas:98] trasform input parameters=<class '__main__.Handover'> to json_schema={'description': 'Эта функция позволяет передать диалог человеку-оператору поддержки', 'properties': {'reason': {'default': 'не указана', 'description': 'Причина для вызова оператора', 'title': 'Reason', 'type': 'string'}}, 'title': 'Handover', 'type': 'object'}\n",
      "[D 2025-04-02 04:45:30 yandex_cloud_ml_sdk._types.schemas:98] trasform input parameters=<class '__main__.AddToCart'> to json_schema={'description': 'Эта функция позволяет положить вино в корзину', 'properties': {'wine_name': {'default': None, 'description': 'Точное название вина, чтобы положить в корзину', 'title': 'Wine Name', 'type': 'string'}, 'count': {'default': 1, 'description': 'Количество бутылок вина, которое нужно положить в корзину', 'title': 'Count', 'type': 'string'}}, 'title': 'AddToCart', 'type': 'object'}\n",
      "[D 2025-04-02 04:45:30 yandex_cloud_ml_sdk._types.schemas:98] trasform input parameters=<class '__main__.ShowCart'> to json_schema={'description': 'Эта функция позволяет показать содержимое корзины', 'properties': {}, 'title': 'ShowCart', 'type': 'object'}\n"
     ]
    }
   ],
   "source": [
    "instruction = \"\"\"\n",
    "Ты - опытный сомелье, в задачу которого входит отвечать на вопросы пользователя про вина\n",
    "и рекомендовать лучшие вина к еде, а также искать вина в прайс-листе нашего магазина. \n",
    "Посмотри на всю имеющуюся в твоем распоряжении информацию\n",
    "и выдай одну или несколько лучших рекомендаций.\n",
    "Если вопрос касается конкретных вин или цены, то вызови функцию SearchWinePriceList.\n",
    "Для передачи управления оператору - вызови фукцию Handover. Для добавления вина в корзину\n",
    "используй AddToCart. Для просмотра корзины: ShowCart.\n",
    "Если что-то непонятно, то лучше уточни информацию у пользователя.\n",
    "\"\"\"\n",
    "\n",
    "wine_agent = Agent(\n",
    "    instruction=instruction,\n",
    "    search_index=index,\n",
    "    tools=[SearchWinePriceList, Handover, AddToCart, ShowCart],\n",
    ")"
   ]
  },
  {
   "cell_type": "code",
   "execution_count": 65,
   "metadata": {
    "execution": {
     "iopub.execute_input": "2025-04-02T04:45:31.545423Z",
     "iopub.status.busy": "2025-04-02T04:45:31.544330Z",
     "iopub.status.idle": "2025-04-02T04:45:37.594228Z",
     "shell.execute_reply": "2025-04-02T04:45:37.593204Z",
     "shell.execute_reply.started": "2025-04-02T04:45:31.545374Z"
    },
    "tags": []
   },
   "outputs": [
    {
     "name": "stderr",
     "output_type": "stream",
     "text": [
      "[I 2025-04-02 04:45:31 yandex_cloud_ml_sdk._types.operation:131] Starting operation fvt3rvrcn6u7h4f0ttl8 polling with a poll interval 0.500000s and poll timeout 300.000000s\n",
      "[D 2025-04-02 04:45:31 yandex_cloud_ml_sdk._types.operation:110] Operation fvt3rvrcn6u7h4f0ttl8 have non-terminal status PENDING, sleep for 0.500000s\n",
      "[D 2025-04-02 04:45:32 yandex_cloud_ml_sdk._types.operation:110] Operation fvt3rvrcn6u7h4f0ttl8 have non-terminal status IN_PROGRESS, sleep for 0.500000s\n",
      "[D 2025-04-02 04:45:32 yandex_cloud_ml_sdk._types.operation:110] Operation fvt3rvrcn6u7h4f0ttl8 have non-terminal status IN_PROGRESS, sleep for 0.500000s\n",
      "[D 2025-04-02 04:45:33 yandex_cloud_ml_sdk._types.operation:110] Operation fvt3rvrcn6u7h4f0ttl8 have non-terminal status IN_PROGRESS, sleep for 0.500000s\n",
      "[D 2025-04-02 04:45:33 yandex_cloud_ml_sdk._types.operation:110] Operation fvt3rvrcn6u7h4f0ttl8 have non-terminal status IN_PROGRESS, sleep for 0.500000s\n",
      "[D 2025-04-02 04:45:34 yandex_cloud_ml_sdk._types.operation:110] Operation fvt3rvrcn6u7h4f0ttl8 have non-terminal status IN_PROGRESS, sleep for 0.500000s\n",
      "[D 2025-04-02 04:45:34 yandex_cloud_ml_sdk._types.operation:110] Operation fvt3rvrcn6u7h4f0ttl8 have non-terminal status IN_PROGRESS, sleep for 0.500000s\n",
      "[D 2025-04-02 04:45:35 yandex_cloud_ml_sdk._types.operation:110] Operation fvt3rvrcn6u7h4f0ttl8 have non-terminal status IN_PROGRESS, sleep for 0.500000s\n",
      "[D 2025-04-02 04:45:35 yandex_cloud_ml_sdk._types.operation:110] Operation fvt3rvrcn6u7h4f0ttl8 have non-terminal status IN_PROGRESS, sleep for 0.500000s\n",
      "[D 2025-04-02 04:45:36 yandex_cloud_ml_sdk._types.operation:110] Operation fvt3rvrcn6u7h4f0ttl8 have non-terminal status IN_PROGRESS, sleep for 0.500000s\n",
      "[D 2025-04-02 04:45:36 yandex_cloud_ml_sdk._types.operation:110] Operation fvt3rvrcn6u7h4f0ttl8 have non-terminal status IN_PROGRESS, sleep for 0.500000s\n",
      "[I 2025-04-02 04:45:37 yandex_cloud_ml_sdk._types.operation:118] Operation fvt3rvrcn6u7h4f0ttl8 successfully finished\n",
      "[I 2025-04-02 04:45:37 yandex_cloud_ml_sdk._types.operation:142] Operation fvt3rvrcn6u7h4f0ttl8 polling finished\n"
     ]
    },
    {
     "name": "stdout",
     "output_type": "stream",
     "text": [
      "Для стейка можно порекомендовать следующие вина:\n",
      "\n",
      "1. Для нежного мраморного стейка (Филе-миньон) подойдут лёгкие и элегантные красные вина из винограда Пино Нуар, Нерелло Маскалезе, а также выдержанное и элегантное Мерло. Кроме того, можно рассмотреть «округлые», выдержанные варианты из сортов Неббиоло (Барбареско), Темпранильо (Рибейра дель Дуэро), Санджовезе (Кьянти Ризерва).\n",
      "\n",
      "2. Для мраморного жирноватого стейка (Рибай и пр.) в зависимости от прожарки можно выбрать:\n",
      "   - Для прожарки Rare — выдержанные и «благородные» вина из Темпранильо (Рибейра дель Дуэро или любые от Ризервы и выше), Санджовезе (Кьянти Ризерва, Брунелло), «супертосканские» вина, Бордо Правого берега, шелковистые аргентинские Мальбеки.\n",
      "   - Для прожарки Medium или WellDone — сухие и полусухие из винограда Сира (Шираз), Каберне Совиньон, «тельный» Мальбек, Примитиво, Зинфандель, Альянико (выдержанное и слегка «округлившееся»), выдержанный «ронский» ассамбляж Гренаш+Сира+Мурведр, вина Приората от 6–8 лет выдержки и выше.\n"
     ]
    }
   ],
   "source": [
    "print(wine_agent(\"Какое вино пьют со стейком?\"))"
   ]
  },
  {
   "cell_type": "code",
   "execution_count": 66,
   "metadata": {
    "execution": {
     "iopub.execute_input": "2025-04-02T04:45:41.006440Z",
     "iopub.status.busy": "2025-04-02T04:45:41.005507Z",
     "iopub.status.idle": "2025-04-02T04:45:46.095391Z",
     "shell.execute_reply": "2025-04-02T04:45:46.094392Z",
     "shell.execute_reply.started": "2025-04-02T04:45:41.006388Z"
    },
    "tags": []
   },
   "outputs": [
    {
     "name": "stderr",
     "output_type": "stream",
     "text": [
      "[I 2025-04-02 04:45:41 yandex_cloud_ml_sdk._types.operation:131] Starting operation fvtli5rbgqieiaan339g polling with a poll interval 0.500000s and poll timeout 300.000000s\n",
      "[D 2025-04-02 04:45:41 yandex_cloud_ml_sdk._types.operation:110] Operation fvtli5rbgqieiaan339g have non-terminal status IN_PROGRESS, sleep for 0.500000s\n",
      "[D 2025-04-02 04:45:41 yandex_cloud_ml_sdk._types.operation:110] Operation fvtli5rbgqieiaan339g have non-terminal status IN_PROGRESS, sleep for 0.500000s\n",
      "[I 2025-04-02 04:45:42 yandex_cloud_ml_sdk._types.operation:118] Operation fvtli5rbgqieiaan339g successfully finished\n",
      "[I 2025-04-02 04:45:42 yandex_cloud_ml_sdk._types.operation:142] Operation fvtli5rbgqieiaan339g polling finished\n"
     ]
    },
    {
     "name": "stdout",
     "output_type": "stream",
     "text": [
      " + Вызываем функцию SearchWinePriceList, args={'what_to_return': 'wine info', 'name': 'Кьянти'}\n"
     ]
    },
    {
     "name": "stderr",
     "output_type": "stream",
     "text": [
      "[I 2025-04-02 04:45:46 yandex_cloud_ml_sdk._types.operation:131] Starting operation fvtli5rbgqieiaan339g polling with a poll interval 0.500000s and poll timeout 300.000000s\n",
      "[I 2025-04-02 04:45:46 yandex_cloud_ml_sdk._types.operation:118] Operation fvtli5rbgqieiaan339g successfully finished\n",
      "[I 2025-04-02 04:45:46 yandex_cloud_ml_sdk._types.operation:142] Operation fvtli5rbgqieiaan339g polling finished\n"
     ]
    },
    {
     "name": "stdout",
     "output_type": "stream",
     "text": [
      "В нашем магазине в продаже есть следующие вина Кьянти:\n",
      "\n",
      "1. Вино Кверчаб Кьянти красное сухое, 0,75 л - 2499.0 руб.\n",
      "2. Вино Полиц Кьянти красное сухое, 0,75 л - 1749.756 руб.\n",
      "3. Вино Касал Кьянти супер красное сухое, 0,75 л - 1349.004 руб.\n",
      "4. Вино Век Кант Кьянти красное сухое, 0,75 л - 1099.0 руб.\n",
      "5. Вино Пределла Кьянти красное сухое, 1,5 л - 999.0 руб.\n",
      "6. Вино Зонин Кьянти красное сухое, 0,75 л - 699.0 руб.\n",
      "7. Вино Пределла Кьянти красное сухое, 0,75 л - 369.0 руб.\n"
     ]
    }
   ],
   "source": [
    "print(wine_agent(\"Какие вина Кьянти есть в продаже?\"))"
   ]
  },
  {
   "cell_type": "code",
   "execution_count": 67,
   "metadata": {
    "execution": {
     "iopub.execute_input": "2025-04-02T04:45:48.699779Z",
     "iopub.status.busy": "2025-04-02T04:45:48.698716Z",
     "iopub.status.idle": "2025-04-02T04:45:50.757968Z",
     "shell.execute_reply": "2025-04-02T04:45:50.757104Z",
     "shell.execute_reply.started": "2025-04-02T04:45:48.699715Z"
    },
    "tags": []
   },
   "outputs": [
    {
     "name": "stderr",
     "output_type": "stream",
     "text": [
      "[I 2025-04-02 04:45:48 yandex_cloud_ml_sdk._types.operation:131] Starting operation fvtkq239aj0970s6f14q polling with a poll interval 0.500000s and poll timeout 300.000000s\n",
      "[D 2025-04-02 04:45:48 yandex_cloud_ml_sdk._types.operation:110] Operation fvtkq239aj0970s6f14q have non-terminal status PENDING, sleep for 0.500000s\n",
      "[D 2025-04-02 04:45:49 yandex_cloud_ml_sdk._types.operation:110] Operation fvtkq239aj0970s6f14q have non-terminal status IN_PROGRESS, sleep for 0.500000s\n",
      "[I 2025-04-02 04:45:49 yandex_cloud_ml_sdk._types.operation:118] Operation fvtkq239aj0970s6f14q successfully finished\n",
      "[I 2025-04-02 04:45:49 yandex_cloud_ml_sdk._types.operation:142] Operation fvtkq239aj0970s6f14q polling finished\n"
     ]
    },
    {
     "name": "stdout",
     "output_type": "stream",
     "text": [
      " + Вызываем функцию AddToCart, args={'wine_name': 'Полиц Кьянти', 'count': '3'}\n"
     ]
    },
    {
     "name": "stderr",
     "output_type": "stream",
     "text": [
      "[I 2025-04-02 04:45:50 yandex_cloud_ml_sdk._types.operation:131] Starting operation fvtkq239aj0970s6f14q polling with a poll interval 0.500000s and poll timeout 300.000000s\n",
      "[I 2025-04-02 04:45:50 yandex_cloud_ml_sdk._types.operation:118] Operation fvtkq239aj0970s6f14q successfully finished\n",
      "[I 2025-04-02 04:45:50 yandex_cloud_ml_sdk._types.operation:142] Operation fvtkq239aj0970s6f14q polling finished\n"
     ]
    },
    {
     "name": "stdout",
     "output_type": "stream",
     "text": [
      "Вино Полиц Кьянти успешно добавлено в корзину в количестве трёх бутылок. Если вам нужно что-то ещё или хотите просмотреть содержимое корзины, дайте знать!\n"
     ]
    }
   ],
   "source": [
    "print(wine_agent(\"Добавь в корзину Полиц Кьянти, три бутылки\"))"
   ]
  },
  {
   "cell_type": "code",
   "execution_count": 68,
   "metadata": {
    "execution": {
     "iopub.execute_input": "2025-04-02T04:45:53.703336Z",
     "iopub.status.busy": "2025-04-02T04:45:53.702120Z",
     "iopub.status.idle": "2025-04-02T04:45:56.021180Z",
     "shell.execute_reply": "2025-04-02T04:45:56.020253Z",
     "shell.execute_reply.started": "2025-04-02T04:45:53.703295Z"
    },
    "tags": []
   },
   "outputs": [
    {
     "name": "stderr",
     "output_type": "stream",
     "text": [
      "[I 2025-04-02 04:45:53 yandex_cloud_ml_sdk._types.operation:131] Starting operation fvtfv1au6qa8mt48khc5 polling with a poll interval 0.500000s and poll timeout 300.000000s\n",
      "[D 2025-04-02 04:45:53 yandex_cloud_ml_sdk._types.operation:110] Operation fvtfv1au6qa8mt48khc5 have non-terminal status PENDING, sleep for 0.500000s\n",
      "[D 2025-04-02 04:45:54 yandex_cloud_ml_sdk._types.operation:110] Operation fvtfv1au6qa8mt48khc5 have non-terminal status IN_PROGRESS, sleep for 0.500000s\n",
      "[I 2025-04-02 04:45:54 yandex_cloud_ml_sdk._types.operation:118] Operation fvtfv1au6qa8mt48khc5 successfully finished\n",
      "[I 2025-04-02 04:45:54 yandex_cloud_ml_sdk._types.operation:142] Operation fvtfv1au6qa8mt48khc5 polling finished\n"
     ]
    },
    {
     "name": "stdout",
     "output_type": "stream",
     "text": [
      " + Вызываем функцию AddToCart, args={'wine_name': 'Зонин Кьянти', 'count': '1'}\n"
     ]
    },
    {
     "name": "stderr",
     "output_type": "stream",
     "text": [
      "[I 2025-04-02 04:45:55 yandex_cloud_ml_sdk._types.operation:131] Starting operation fvtfv1au6qa8mt48khc5 polling with a poll interval 0.500000s and poll timeout 300.000000s\n",
      "[I 2025-04-02 04:45:55 yandex_cloud_ml_sdk._types.operation:118] Operation fvtfv1au6qa8mt48khc5 successfully finished\n",
      "[I 2025-04-02 04:45:55 yandex_cloud_ml_sdk._types.operation:142] Operation fvtfv1au6qa8mt48khc5 polling finished\n"
     ]
    },
    {
     "name": "stdout",
     "output_type": "stream",
     "text": [
      "Вино Зонин Кьянти успешно добавлено в корзину. Если вам нужно что-то ещё или хотите просмотреть содержимое корзины, сообщите мне!\n"
     ]
    }
   ],
   "source": [
    "print(wine_agent(\"Ещё добавь в корзину Зонин Кьянти\"))"
   ]
  },
  {
   "cell_type": "code",
   "execution_count": 69,
   "metadata": {
    "execution": {
     "iopub.execute_input": "2025-04-02T04:45:59.453507Z",
     "iopub.status.busy": "2025-04-02T04:45:59.452206Z",
     "iopub.status.idle": "2025-04-02T04:46:02.022435Z",
     "shell.execute_reply": "2025-04-02T04:46:02.021246Z",
     "shell.execute_reply.started": "2025-04-02T04:45:59.453453Z"
    },
    "tags": []
   },
   "outputs": [
    {
     "name": "stderr",
     "output_type": "stream",
     "text": [
      "[I 2025-04-02 04:45:59 yandex_cloud_ml_sdk._types.operation:131] Starting operation fvtbmk2jm30bjitbi3qg polling with a poll interval 0.500000s and poll timeout 300.000000s\n",
      "[D 2025-04-02 04:45:59 yandex_cloud_ml_sdk._types.operation:110] Operation fvtbmk2jm30bjitbi3qg have non-terminal status PENDING, sleep for 0.500000s\n",
      "[D 2025-04-02 04:46:00 yandex_cloud_ml_sdk._types.operation:110] Operation fvtbmk2jm30bjitbi3qg have non-terminal status IN_PROGRESS, sleep for 0.500000s\n",
      "[D 2025-04-02 04:46:00 yandex_cloud_ml_sdk._types.operation:110] Operation fvtbmk2jm30bjitbi3qg have non-terminal status IN_PROGRESS, sleep for 0.500000s\n",
      "[I 2025-04-02 04:46:01 yandex_cloud_ml_sdk._types.operation:118] Operation fvtbmk2jm30bjitbi3qg successfully finished\n",
      "[I 2025-04-02 04:46:01 yandex_cloud_ml_sdk._types.operation:142] Operation fvtbmk2jm30bjitbi3qg polling finished\n"
     ]
    },
    {
     "name": "stdout",
     "output_type": "stream",
     "text": [
      " + Вызываем функцию ShowCart, args={}\n"
     ]
    },
    {
     "name": "stderr",
     "output_type": "stream",
     "text": [
      "[I 2025-04-02 04:46:01 yandex_cloud_ml_sdk._types.operation:131] Starting operation fvtbmk2jm30bjitbi3qg polling with a poll interval 0.500000s and poll timeout 300.000000s\n",
      "[I 2025-04-02 04:46:01 yandex_cloud_ml_sdk._types.operation:118] Operation fvtbmk2jm30bjitbi3qg successfully finished\n",
      "[I 2025-04-02 04:46:01 yandex_cloud_ml_sdk._types.operation:142] Operation fvtbmk2jm30bjitbi3qg polling finished\n"
     ]
    },
    {
     "name": "stdout",
     "output_type": "stream",
     "text": [
      "В вашей корзине находятся следующие вина:\n",
      "- Полиц Кьянти, количество бутылок: 3\n",
      "- Зонин Кьянти, количество бутылок: 1\n"
     ]
    }
   ],
   "source": [
    "print(wine_agent(\"Что у меня в корзине?\"))"
   ]
  },
  {
   "cell_type": "code",
   "execution_count": 70,
   "metadata": {
    "execution": {
     "iopub.execute_input": "2025-04-02T04:46:05.875964Z",
     "iopub.status.busy": "2025-04-02T04:46:05.874718Z",
     "iopub.status.idle": "2025-04-02T04:46:10.118737Z",
     "shell.execute_reply": "2025-04-02T04:46:10.117797Z",
     "shell.execute_reply.started": "2025-04-02T04:46:05.875912Z"
    },
    "tags": []
   },
   "outputs": [
    {
     "name": "stderr",
     "output_type": "stream",
     "text": [
      "[I 2025-04-02 04:46:06 yandex_cloud_ml_sdk._types.operation:131] Starting operation fvtpfsv85i1eqchk75fk polling with a poll interval 0.500000s and poll timeout 300.000000s\n",
      "[D 2025-04-02 04:46:06 yandex_cloud_ml_sdk._types.operation:110] Operation fvtpfsv85i1eqchk75fk have non-terminal status PENDING, sleep for 0.500000s\n",
      "[D 2025-04-02 04:46:06 yandex_cloud_ml_sdk._types.operation:110] Operation fvtpfsv85i1eqchk75fk have non-terminal status IN_PROGRESS, sleep for 0.500000s\n",
      "[D 2025-04-02 04:46:07 yandex_cloud_ml_sdk._types.operation:110] Operation fvtpfsv85i1eqchk75fk have non-terminal status IN_PROGRESS, sleep for 0.500000s\n",
      "[I 2025-04-02 04:46:07 yandex_cloud_ml_sdk._types.operation:118] Operation fvtpfsv85i1eqchk75fk successfully finished\n",
      "[I 2025-04-02 04:46:07 yandex_cloud_ml_sdk._types.operation:142] Operation fvtpfsv85i1eqchk75fk polling finished\n"
     ]
    },
    {
     "name": "stdout",
     "output_type": "stream",
     "text": [
      " + Вызываем функцию Handover, args={'reason': 'Пользователь хочет оформить доставку'}\n"
     ]
    },
    {
     "name": "stderr",
     "output_type": "stream",
     "text": [
      "[I 2025-04-02 04:46:10 yandex_cloud_ml_sdk._types.operation:131] Starting operation fvtpfsv85i1eqchk75fk polling with a poll interval 0.500000s and poll timeout 300.000000s\n",
      "[I 2025-04-02 04:46:10 yandex_cloud_ml_sdk._types.operation:118] Operation fvtpfsv85i1eqchk75fk successfully finished\n",
      "[I 2025-04-02 04:46:10 yandex_cloud_ml_sdk._types.operation:142] Operation fvtpfsv85i1eqchk75fk polling finished\n"
     ]
    },
    {
     "name": "stdout",
     "output_type": "stream",
     "text": [
      "Ожидайте, скоро с вами свяжется оператор для оформления доставки.\n"
     ]
    }
   ],
   "source": [
    "print(wine_agent(\"Вызови оператора, хочу оформить доставку!\"))"
   ]
  },
  {
   "cell_type": "markdown",
   "metadata": {},
   "source": [
    "## Многоагентное тестирование\n",
    "\n",
    "Когда мы сделали такого бота, возникает вопрос, как его тестировать. Для этого возможно несколько вариантов:\n",
    "\n",
    "* Ручное тестирование (примерно то, что мы проделали выше)\n",
    "* Автоматическое тестирование на заранее заготовленном датасете диалогов, с формализованной проверкой метрик. Такое тестирование удобно проводить с помощью специализированных фреймворков, например, RAGAS.\n",
    "\n",
    "Мы в данном примере предлагаем промежуточный по сложности подход - это **многоагентное тестирование**, при котором мы инструктируем другого агента, чтобы он побеседовал с нашим винным ассистентом в определённом ключе. В итоге у нас могут получиться различные сценарии диалога, глядя на которые можно будет определить направление доработки исходного ассистента."
   ]
  },
  {
   "cell_type": "code",
   "execution_count": 73,
   "metadata": {
    "execution": {
     "iopub.execute_input": "2025-04-02T05:10:30.458642Z",
     "iopub.status.busy": "2025-04-02T05:10:30.457539Z",
     "iopub.status.idle": "2025-04-02T05:10:57.345172Z",
     "shell.execute_reply": "2025-04-02T05:10:57.344207Z",
     "shell.execute_reply.started": "2025-04-02T05:10:30.458592Z"
    },
    "tags": []
   },
   "outputs": [
    {
     "data": {
      "text/markdown": [
       "**Посетитель:** Добрый день! Поможете мне выбрать вино?"
      ],
      "text/plain": [
       "<ml_kernel._vendor.IPython.core.display.Markdown object>"
      ]
     },
     "metadata": {},
     "output_type": "display_data"
    },
    {
     "name": "stderr",
     "output_type": "stream",
     "text": [
      "[I 2025-04-02 05:10:31 yandex_cloud_ml_sdk._types.operation:131] Starting operation fvt8avk8fc4f7okab16a polling with a poll interval 0.500000s and poll timeout 300.000000s\n",
      "[D 2025-04-02 05:10:31 yandex_cloud_ml_sdk._types.operation:110] Operation fvt8avk8fc4f7okab16a have non-terminal status PENDING, sleep for 0.500000s\n",
      "[D 2025-04-02 05:10:32 yandex_cloud_ml_sdk._types.operation:110] Operation fvt8avk8fc4f7okab16a have non-terminal status IN_PROGRESS, sleep for 0.500000s\n",
      "[D 2025-04-02 05:10:32 yandex_cloud_ml_sdk._types.operation:110] Operation fvt8avk8fc4f7okab16a have non-terminal status IN_PROGRESS, sleep for 0.500000s\n",
      "[I 2025-04-02 05:10:33 yandex_cloud_ml_sdk._types.operation:118] Operation fvt8avk8fc4f7okab16a successfully finished\n",
      "[I 2025-04-02 05:10:33 yandex_cloud_ml_sdk._types.operation:142] Operation fvt8avk8fc4f7okab16a polling finished\n"
     ]
    },
    {
     "data": {
      "text/markdown": [
       "**Сомелье:** Конечно, с удовольствием помогу! Для начала расскажите, пожалуйста, к какому блюду вы хотите подобрать вино?"
      ],
      "text/plain": [
       "<ml_kernel._vendor.IPython.core.display.Markdown object>"
      ]
     },
     "metadata": {},
     "output_type": "display_data"
    },
    {
     "name": "stderr",
     "output_type": "stream",
     "text": [
      "[I 2025-04-02 05:10:33 yandex_cloud_ml_sdk._types.operation:131] Starting operation fvto0gs83gqh9aj06di1 polling with a poll interval 0.500000s and poll timeout 300.000000s\n",
      "[D 2025-04-02 05:10:33 yandex_cloud_ml_sdk._types.operation:110] Operation fvto0gs83gqh9aj06di1 have non-terminal status PENDING, sleep for 0.500000s\n",
      "[I 2025-04-02 05:10:34 yandex_cloud_ml_sdk._types.operation:118] Operation fvto0gs83gqh9aj06di1 successfully finished\n",
      "[I 2025-04-02 05:10:34 yandex_cloud_ml_sdk._types.operation:142] Operation fvto0gs83gqh9aj06di1 polling finished\n"
     ]
    },
    {
     "data": {
      "text/markdown": [
       "**Посетитель:** Я хочу подобрать вино к капрезе и стейку."
      ],
      "text/plain": [
       "<ml_kernel._vendor.IPython.core.display.Markdown object>"
      ]
     },
     "metadata": {},
     "output_type": "display_data"
    },
    {
     "name": "stderr",
     "output_type": "stream",
     "text": [
      "[I 2025-04-02 05:10:34 yandex_cloud_ml_sdk._types.operation:131] Starting operation fvtjrjn60u0r48cpjiho polling with a poll interval 0.500000s and poll timeout 300.000000s\n",
      "[D 2025-04-02 05:10:34 yandex_cloud_ml_sdk._types.operation:110] Operation fvtjrjn60u0r48cpjiho have non-terminal status PENDING, sleep for 0.500000s\n",
      "[D 2025-04-02 05:10:35 yandex_cloud_ml_sdk._types.operation:110] Operation fvtjrjn60u0r48cpjiho have non-terminal status IN_PROGRESS, sleep for 0.500000s\n",
      "[D 2025-04-02 05:10:35 yandex_cloud_ml_sdk._types.operation:110] Operation fvtjrjn60u0r48cpjiho have non-terminal status IN_PROGRESS, sleep for 0.500000s\n",
      "[D 2025-04-02 05:10:36 yandex_cloud_ml_sdk._types.operation:110] Operation fvtjrjn60u0r48cpjiho have non-terminal status IN_PROGRESS, sleep for 0.500000s\n",
      "[D 2025-04-02 05:10:36 yandex_cloud_ml_sdk._types.operation:110] Operation fvtjrjn60u0r48cpjiho have non-terminal status IN_PROGRESS, sleep for 0.500000s\n",
      "[D 2025-04-02 05:10:37 yandex_cloud_ml_sdk._types.operation:110] Operation fvtjrjn60u0r48cpjiho have non-terminal status IN_PROGRESS, sleep for 0.500000s\n",
      "[D 2025-04-02 05:10:37 yandex_cloud_ml_sdk._types.operation:110] Operation fvtjrjn60u0r48cpjiho have non-terminal status IN_PROGRESS, sleep for 0.500000s\n",
      "[D 2025-04-02 05:10:38 yandex_cloud_ml_sdk._types.operation:110] Operation fvtjrjn60u0r48cpjiho have non-terminal status IN_PROGRESS, sleep for 0.500000s\n",
      "[D 2025-04-02 05:10:38 yandex_cloud_ml_sdk._types.operation:110] Operation fvtjrjn60u0r48cpjiho have non-terminal status IN_PROGRESS, sleep for 0.500000s\n",
      "[D 2025-04-02 05:10:39 yandex_cloud_ml_sdk._types.operation:110] Operation fvtjrjn60u0r48cpjiho have non-terminal status IN_PROGRESS, sleep for 0.500000s\n",
      "[D 2025-04-02 05:10:39 yandex_cloud_ml_sdk._types.operation:110] Operation fvtjrjn60u0r48cpjiho have non-terminal status IN_PROGRESS, sleep for 0.500000s\n",
      "[D 2025-04-02 05:10:40 yandex_cloud_ml_sdk._types.operation:110] Operation fvtjrjn60u0r48cpjiho have non-terminal status IN_PROGRESS, sleep for 0.500000s\n",
      "[D 2025-04-02 05:10:40 yandex_cloud_ml_sdk._types.operation:110] Operation fvtjrjn60u0r48cpjiho have non-terminal status IN_PROGRESS, sleep for 0.500000s\n",
      "[D 2025-04-02 05:10:41 yandex_cloud_ml_sdk._types.operation:110] Operation fvtjrjn60u0r48cpjiho have non-terminal status IN_PROGRESS, sleep for 0.500000s\n",
      "[D 2025-04-02 05:10:41 yandex_cloud_ml_sdk._types.operation:110] Operation fvtjrjn60u0r48cpjiho have non-terminal status IN_PROGRESS, sleep for 0.500000s\n",
      "[I 2025-04-02 05:10:42 yandex_cloud_ml_sdk._types.operation:118] Operation fvtjrjn60u0r48cpjiho successfully finished\n",
      "[I 2025-04-02 05:10:42 yandex_cloud_ml_sdk._types.operation:142] Operation fvtjrjn60u0r48cpjiho polling finished\n"
     ]
    },
    {
     "data": {
      "text/markdown": [
       "**Сомелье:** Для салата Капрезе можно порекомендовать следующие вина:\n",
       "- Белые вина: игристые (брют, сухие), тихие вина — с ярким и свежим вкусом: молодые Шардоне, Рислинги, Мюллер Тургау, Грюнер Вельтлинер, Виура, «старосветский» Совиньон Блан, Пино Гри, Фалангина и т. д.\n",
       "- Как вариант — розовые вина: тихие лёгкие и элегантные вина Прованса (Франция) или Северной Италии.\n",
       "\n",
       "Для стейка можно порекомендовать следующие вина:\n",
       "1. Для нежного мраморного стейка (Филе-миньон) подойдут лёгкие и элегантные красные вина из винограда Пино Нуар, Нерелло Маскалезе, а также выдержанное и элегантное Мерло. Кроме того, можно рассмотреть «округлые», выдержанные варианты из сортов Неббиоло (Барбареско), Темпранильо (Рибейра дель Дуэро), Санджовезе (Кьянти Ризерва).\n",
       "2. Для мраморного жирноватого стейка (Рибай и пр.) в зависимости от прожарки можно выбрать:\n",
       "   - Для прожарки Rare — выдержанные и «благородные» вина из Темпранильо (Рибейра дель Дуэро или любые от Ризервы и выше), Санджовезе (Кьянти Ризерва, Брунелло), «супертосканские» вина, Бордо Правого берега, шелковистые аргентинские Мальбеки.\n",
       "   - Для прожарки Medium или WellDone — сухие и полусухие из винограда Сира (Шираз), Каберне Совиньон, «тельный» Мальбек, Примитиво, Зинфандель, Альянико (выдержанное и слегка «округлившееся»), выдержанный «ронский» ассамбляж Гренаш+Сира+Мурведр, вина Приората от 6–8 лет выдержки и выше."
      ],
      "text/plain": [
       "<ml_kernel._vendor.IPython.core.display.Markdown object>"
      ]
     },
     "metadata": {},
     "output_type": "display_data"
    },
    {
     "name": "stderr",
     "output_type": "stream",
     "text": [
      "[I 2025-04-02 05:10:42 yandex_cloud_ml_sdk._types.operation:131] Starting operation fvtktj331unr3f1nf5p1 polling with a poll interval 0.500000s and poll timeout 300.000000s\n",
      "[D 2025-04-02 05:10:42 yandex_cloud_ml_sdk._types.operation:110] Operation fvtktj331unr3f1nf5p1 have non-terminal status PENDING, sleep for 0.500000s\n",
      "[D 2025-04-02 05:10:43 yandex_cloud_ml_sdk._types.operation:110] Operation fvtktj331unr3f1nf5p1 have non-terminal status IN_PROGRESS, sleep for 0.500000s\n",
      "[I 2025-04-02 05:10:43 yandex_cloud_ml_sdk._types.operation:118] Operation fvtktj331unr3f1nf5p1 successfully finished\n",
      "[I 2025-04-02 05:10:43 yandex_cloud_ml_sdk._types.operation:142] Operation fvtktj331unr3f1nf5p1 polling finished\n"
     ]
    },
    {
     "data": {
      "text/markdown": [
       "**Посетитель:** А какое вино подойдёт и к капрезе, и к стейку? Посоветуй что-нибудь универсальное."
      ],
      "text/plain": [
       "<ml_kernel._vendor.IPython.core.display.Markdown object>"
      ]
     },
     "metadata": {},
     "output_type": "display_data"
    },
    {
     "name": "stderr",
     "output_type": "stream",
     "text": [
      "[I 2025-04-02 05:10:43 yandex_cloud_ml_sdk._types.operation:131] Starting operation fvtoupovkfmvfr80bkvi polling with a poll interval 0.500000s and poll timeout 300.000000s\n",
      "[D 2025-04-02 05:10:43 yandex_cloud_ml_sdk._types.operation:110] Operation fvtoupovkfmvfr80bkvi have non-terminal status PENDING, sleep for 0.500000s\n",
      "[D 2025-04-02 05:10:44 yandex_cloud_ml_sdk._types.operation:110] Operation fvtoupovkfmvfr80bkvi have non-terminal status IN_PROGRESS, sleep for 0.500000s\n",
      "[D 2025-04-02 05:10:44 yandex_cloud_ml_sdk._types.operation:110] Operation fvtoupovkfmvfr80bkvi have non-terminal status IN_PROGRESS, sleep for 0.500000s\n",
      "[D 2025-04-02 05:10:45 yandex_cloud_ml_sdk._types.operation:110] Operation fvtoupovkfmvfr80bkvi have non-terminal status IN_PROGRESS, sleep for 0.500000s\n",
      "[D 2025-04-02 05:10:45 yandex_cloud_ml_sdk._types.operation:110] Operation fvtoupovkfmvfr80bkvi have non-terminal status IN_PROGRESS, sleep for 0.500000s\n",
      "[D 2025-04-02 05:10:46 yandex_cloud_ml_sdk._types.operation:110] Operation fvtoupovkfmvfr80bkvi have non-terminal status IN_PROGRESS, sleep for 0.500000s\n",
      "[I 2025-04-02 05:10:46 yandex_cloud_ml_sdk._types.operation:118] Operation fvtoupovkfmvfr80bkvi successfully finished\n",
      "[I 2025-04-02 05:10:46 yandex_cloud_ml_sdk._types.operation:142] Operation fvtoupovkfmvfr80bkvi polling finished\n"
     ]
    },
    {
     "data": {
      "text/markdown": [
       "**Сомелье:** К капрезе и стейку может подойти универсальное вино пинотаж из Южной Африки, которое хорошо сочетается как с лёгкими блюдами, так и с перчёными стейками из говядины и баранины. Также можно рассмотреть универсальные красные вина, такие как Мерло, которое легко сочетать с горячими блюдами из мяса и птицы."
      ],
      "text/plain": [
       "<ml_kernel._vendor.IPython.core.display.Markdown object>"
      ]
     },
     "metadata": {},
     "output_type": "display_data"
    },
    {
     "name": "stderr",
     "output_type": "stream",
     "text": [
      "[I 2025-04-02 05:10:47 yandex_cloud_ml_sdk._types.operation:131] Starting operation fvtq5f3mm1duhe2s0hjf polling with a poll interval 0.500000s and poll timeout 300.000000s\n",
      "[D 2025-04-02 05:10:47 yandex_cloud_ml_sdk._types.operation:110] Operation fvtq5f3mm1duhe2s0hjf have non-terminal status PENDING, sleep for 0.500000s\n",
      "[I 2025-04-02 05:10:47 yandex_cloud_ml_sdk._types.operation:118] Operation fvtq5f3mm1duhe2s0hjf successfully finished\n",
      "[I 2025-04-02 05:10:47 yandex_cloud_ml_sdk._types.operation:142] Operation fvtq5f3mm1duhe2s0hjf polling finished\n"
     ]
    },
    {
     "data": {
      "text/markdown": [
       "**Посетитель:** Найди самое недорогое вино типа Мерло."
      ],
      "text/plain": [
       "<ml_kernel._vendor.IPython.core.display.Markdown object>"
      ]
     },
     "metadata": {},
     "output_type": "display_data"
    },
    {
     "name": "stderr",
     "output_type": "stream",
     "text": [
      "[I 2025-04-02 05:10:47 yandex_cloud_ml_sdk._types.operation:131] Starting operation fvt8qrksvt1gang9080j polling with a poll interval 0.500000s and poll timeout 300.000000s\n",
      "[D 2025-04-02 05:10:47 yandex_cloud_ml_sdk._types.operation:110] Operation fvt8qrksvt1gang9080j have non-terminal status PENDING, sleep for 0.500000s\n",
      "[D 2025-04-02 05:10:48 yandex_cloud_ml_sdk._types.operation:110] Operation fvt8qrksvt1gang9080j have non-terminal status IN_PROGRESS, sleep for 0.500000s\n",
      "[D 2025-04-02 05:10:48 yandex_cloud_ml_sdk._types.operation:110] Operation fvt8qrksvt1gang9080j have non-terminal status IN_PROGRESS, sleep for 0.500000s\n",
      "[I 2025-04-02 05:10:49 yandex_cloud_ml_sdk._types.operation:118] Operation fvt8qrksvt1gang9080j successfully finished\n",
      "[I 2025-04-02 05:10:49 yandex_cloud_ml_sdk._types.operation:142] Operation fvt8qrksvt1gang9080j polling finished\n"
     ]
    },
    {
     "name": "stdout",
     "output_type": "stream",
     "text": [
      " + Вызываем функцию SearchWinePriceList, args={'acidity': 'сухое', 'sort_order': 'cheapest', 'name': 'Мерло'}\n"
     ]
    },
    {
     "name": "stderr",
     "output_type": "stream",
     "text": [
      "[I 2025-04-02 05:10:50 yandex_cloud_ml_sdk._types.operation:131] Starting operation fvt8qrksvt1gang9080j polling with a poll interval 0.500000s and poll timeout 300.000000s\n",
      "[I 2025-04-02 05:10:50 yandex_cloud_ml_sdk._types.operation:118] Operation fvt8qrksvt1gang9080j successfully finished\n",
      "[I 2025-04-02 05:10:50 yandex_cloud_ml_sdk._types.operation:142] Operation fvt8qrksvt1gang9080j polling finished\n"
     ]
    },
    {
     "data": {
      "text/markdown": [
       "**Сомелье:** Самое недорогое вино типа Мерло, которое у нас есть в наличии, это \"0,187 ВИНО ДЖАСТ МЕРЛО КР СХ (Франция)\" стоимостью 149.004 рублей. Если вас интересует это вино или вы хотите узнать о других доступных вариантах, пожалуйста, сообщите мне!"
      ],
      "text/plain": [
       "<ml_kernel._vendor.IPython.core.display.Markdown object>"
      ]
     },
     "metadata": {},
     "output_type": "display_data"
    },
    {
     "name": "stderr",
     "output_type": "stream",
     "text": [
      "[I 2025-04-02 05:10:50 yandex_cloud_ml_sdk._types.operation:131] Starting operation fvtlut9vt5juvjc8n2fh polling with a poll interval 0.500000s and poll timeout 300.000000s\n",
      "[D 2025-04-02 05:10:50 yandex_cloud_ml_sdk._types.operation:110] Operation fvtlut9vt5juvjc8n2fh have non-terminal status PENDING, sleep for 0.500000s\n",
      "[I 2025-04-02 05:10:51 yandex_cloud_ml_sdk._types.operation:118] Operation fvtlut9vt5juvjc8n2fh successfully finished\n",
      "[I 2025-04-02 05:10:51 yandex_cloud_ml_sdk._types.operation:142] Operation fvtlut9vt5juvjc8n2fh polling finished\n"
     ]
    },
    {
     "data": {
      "text/markdown": [
       "**Посетитель:** Положи это вино в корзину и соедини меня с оператором, чтобы оформить доставку."
      ],
      "text/plain": [
       "<ml_kernel._vendor.IPython.core.display.Markdown object>"
      ]
     },
     "metadata": {},
     "output_type": "display_data"
    },
    {
     "name": "stderr",
     "output_type": "stream",
     "text": [
      "[I 2025-04-02 05:10:51 yandex_cloud_ml_sdk._types.operation:131] Starting operation fvtngbuhpv1e8b1md5ga polling with a poll interval 0.500000s and poll timeout 300.000000s\n",
      "[D 2025-04-02 05:10:51 yandex_cloud_ml_sdk._types.operation:110] Operation fvtngbuhpv1e8b1md5ga have non-terminal status PENDING, sleep for 0.500000s\n",
      "[D 2025-04-02 05:10:51 yandex_cloud_ml_sdk._types.operation:110] Operation fvtngbuhpv1e8b1md5ga have non-terminal status IN_PROGRESS, sleep for 0.500000s\n",
      "[D 2025-04-02 05:10:52 yandex_cloud_ml_sdk._types.operation:110] Operation fvtngbuhpv1e8b1md5ga have non-terminal status IN_PROGRESS, sleep for 0.500000s\n",
      "[I 2025-04-02 05:10:53 yandex_cloud_ml_sdk._types.operation:118] Operation fvtngbuhpv1e8b1md5ga successfully finished\n",
      "[I 2025-04-02 05:10:53 yandex_cloud_ml_sdk._types.operation:142] Operation fvtngbuhpv1e8b1md5ga polling finished\n"
     ]
    },
    {
     "data": {
      "text/markdown": [
       "**Сомелье:** Уточните, пожалуйста, какое именно вино вы хотите положить в корзину и оформить доставку?"
      ],
      "text/plain": [
       "<ml_kernel._vendor.IPython.core.display.Markdown object>"
      ]
     },
     "metadata": {},
     "output_type": "display_data"
    },
    {
     "name": "stderr",
     "output_type": "stream",
     "text": [
      "[I 2025-04-02 05:10:53 yandex_cloud_ml_sdk._types.operation:131] Starting operation fvt32atljp6n0pshos0d polling with a poll interval 0.500000s and poll timeout 300.000000s\n",
      "[D 2025-04-02 05:10:53 yandex_cloud_ml_sdk._types.operation:110] Operation fvt32atljp6n0pshos0d have non-terminal status PENDING, sleep for 0.500000s\n",
      "[D 2025-04-02 05:10:53 yandex_cloud_ml_sdk._types.operation:110] Operation fvt32atljp6n0pshos0d have non-terminal status IN_PROGRESS, sleep for 0.500000s\n",
      "[I 2025-04-02 05:10:54 yandex_cloud_ml_sdk._types.operation:118] Operation fvt32atljp6n0pshos0d successfully finished\n",
      "[I 2025-04-02 05:10:54 yandex_cloud_ml_sdk._types.operation:142] Operation fvt32atljp6n0pshos0d polling finished\n"
     ]
    },
    {
     "data": {
      "text/markdown": [
       "**Посетитель:** «0,187 ВИНО ДЖАСТ МЕРЛО КР СХ (Франция)»"
      ],
      "text/plain": [
       "<ml_kernel._vendor.IPython.core.display.Markdown object>"
      ]
     },
     "metadata": {},
     "output_type": "display_data"
    },
    {
     "name": "stderr",
     "output_type": "stream",
     "text": [
      "[I 2025-04-02 05:10:54 yandex_cloud_ml_sdk._types.operation:131] Starting operation fvtudpis4ubckm7ibmjb polling with a poll interval 0.500000s and poll timeout 300.000000s\n",
      "[D 2025-04-02 05:10:54 yandex_cloud_ml_sdk._types.operation:110] Operation fvtudpis4ubckm7ibmjb have non-terminal status PENDING, sleep for 0.500000s\n",
      "[D 2025-04-02 05:10:55 yandex_cloud_ml_sdk._types.operation:110] Operation fvtudpis4ubckm7ibmjb have non-terminal status IN_PROGRESS, sleep for 0.500000s\n",
      "[D 2025-04-02 05:10:55 yandex_cloud_ml_sdk._types.operation:110] Operation fvtudpis4ubckm7ibmjb have non-terminal status IN_PROGRESS, sleep for 0.500000s\n",
      "[I 2025-04-02 05:10:56 yandex_cloud_ml_sdk._types.operation:118] Operation fvtudpis4ubckm7ibmjb successfully finished\n",
      "[I 2025-04-02 05:10:56 yandex_cloud_ml_sdk._types.operation:142] Operation fvtudpis4ubckm7ibmjb polling finished\n"
     ]
    },
    {
     "name": "stdout",
     "output_type": "stream",
     "text": [
      " + Вызываем функцию AddToCart, args={'wine_name': '0,187 ВИНО ДЖАСТ МЕРЛО КР СХ (Франция)', 'count': '1'}\n",
      " + Вызываем функцию Handover, args={'reason': 'Оформить доставку'}\n"
     ]
    },
    {
     "name": "stderr",
     "output_type": "stream",
     "text": [
      "[I 2025-04-02 05:10:57 yandex_cloud_ml_sdk._types.operation:131] Starting operation fvtudpis4ubckm7ibmjb polling with a poll interval 0.500000s and poll timeout 300.000000s\n",
      "[I 2025-04-02 05:10:57 yandex_cloud_ml_sdk._types.operation:118] Operation fvtudpis4ubckm7ibmjb successfully finished\n",
      "[I 2025-04-02 05:10:57 yandex_cloud_ml_sdk._types.operation:142] Operation fvtudpis4ubckm7ibmjb polling finished\n"
     ]
    },
    {
     "data": {
      "text/markdown": [
       "**Сомелье:** Вино 0,187 ВИНО ДЖАСТ МЕРЛО КР СХ (Франция) успешно добавлено в корзину. Ожидайте, скоро с вами свяжется оператор для оформления доставки."
      ],
      "text/plain": [
       "<ml_kernel._vendor.IPython.core.display.Markdown object>"
      ]
     },
     "metadata": {},
     "output_type": "display_data"
    }
   ],
   "source": [
    "instruction_user = \"\"\"\n",
    "Ты - простой программист, и тебе нужно выбрать вино для ужина в интернет-магазине.\n",
    "Ты не очень много понимаешь в винах, и хочешь побольше распросить сомелье о разных вариантах.\n",
    "Ты хотел бы съесть салат капрезе и стейк, но готов изменить свой выбор еды, если поймёшь хорошее сочетание с вином. Говори\n",
    "простым языком, короткими фразами. Когда ты удовлетворём выбором, попроси найти самое недорогое\n",
    "вино данного типа, затем положи его в корзину и попроси соединить тебя с оператором, чтобы\n",
    "оформить доставку. Каждое действие выполняй в одной фразой в ответ на сообщение сомелье.\n",
    "\"\"\"\n",
    "\n",
    "user = Agent(instruction=instruction_user)\n",
    "\n",
    "msg = \"Добрый день! Поможете мне выбрать вино?\"\n",
    "handover = False\n",
    "for i in range(10):\n",
    "    printx(f\"**Посетитель:** {msg}\")\n",
    "    msg = wine_agent(msg)\n",
    "    printx(f\"**Сомелье:** {msg}\")\n",
    "    if handover:\n",
    "        break\n",
    "    msg = user(msg)"
   ]
  },
  {
   "cell_type": "code",
   "execution_count": 74,
   "metadata": {
    "execution": {
     "iopub.execute_input": "2025-04-02T05:11:09.586529Z",
     "iopub.status.busy": "2025-04-02T05:11:09.585254Z",
     "iopub.status.idle": "2025-04-02T05:11:09.891659Z",
     "shell.execute_reply": "2025-04-02T05:11:09.890759Z",
     "shell.execute_reply.started": "2025-04-02T05:11:09.586470Z"
    },
    "tags": []
   },
   "outputs": [],
   "source": [
    "user.done(delete_assistant=True)\n",
    "wine_agent.done(delete_assistant=True)"
   ]
  },
  {
   "cell_type": "markdown",
   "metadata": {},
   "source": [
    "## Делаем ассистента проактивным\n",
    "\n",
    "Мы обычно воспринимаем ассистентов как вопрос-ответных ботов, которые способны отвечать на вопросы пользователей. Однако с помощью системного промпта мы можем добавить им проактивности, чтобы они проявляли инициативу и сами инициировали диалог. Например:"
   ]
  },
  {
   "cell_type": "code",
   "execution_count": 75,
   "metadata": {
    "execution": {
     "iopub.execute_input": "2025-04-02T05:12:08.135989Z",
     "iopub.status.busy": "2025-04-02T05:12:08.134553Z",
     "iopub.status.idle": "2025-04-02T05:12:08.310877Z",
     "shell.execute_reply": "2025-04-02T05:12:08.309997Z",
     "shell.execute_reply.started": "2025-04-02T05:12:08.135900Z"
    },
    "tags": []
   },
   "outputs": [
    {
     "name": "stderr",
     "output_type": "stream",
     "text": [
      "[D 2025-04-02 05:12:08 yandex_cloud_ml_sdk._types.schemas:98] trasform input parameters=<class '__main__.SearchWinePriceList'> to json_schema={'description': 'Эта функция позволяет искать вина в прайс-листе по одному или нескольким параметрам.', 'properties': {'name': {'default': None, 'description': 'Название вина', 'title': 'Name', 'type': 'string'}, 'country': {'default': None, 'description': 'Страна', 'title': 'Country', 'type': 'string'}, 'acidity': {'default': None, 'description': 'Кислотность (сухое, полусухое, сладкое, полусладкое)', 'title': 'Acidity', 'type': 'string'}, 'color': {'default': None, 'description': 'Цвет вина (красное, белое, розовое)', 'title': 'Color', 'type': 'string'}, 'sort_order': {'default': None, 'description': 'Порядок выдачи (most expensive, cheapest, random, average)', 'title': 'Sort Order', 'type': 'string'}, 'what_to_return': {'default': None, 'description': 'Что вернуть (wine info или price)', 'title': 'What To Return', 'type': 'string'}}, 'title': 'SearchWinePriceList', 'type': 'object'}\n",
      "[D 2025-04-02 05:12:08 yandex_cloud_ml_sdk._types.schemas:98] trasform input parameters=<class '__main__.Handover'> to json_schema={'description': 'Эта функция позволяет передать диалог человеку-оператору поддержки', 'properties': {'reason': {'default': 'не указана', 'description': 'Причина для вызова оператора', 'title': 'Reason', 'type': 'string'}}, 'title': 'Handover', 'type': 'object'}\n",
      "[D 2025-04-02 05:12:08 yandex_cloud_ml_sdk._types.schemas:98] trasform input parameters=<class '__main__.AddToCart'> to json_schema={'description': 'Эта функция позволяет положить вино в корзину', 'properties': {'wine_name': {'default': None, 'description': 'Точное название вина, чтобы положить в корзину', 'title': 'Wine Name', 'type': 'string'}, 'count': {'default': 1, 'description': 'Количество бутылок вина, которое нужно положить в корзину', 'title': 'Count', 'type': 'string'}}, 'title': 'AddToCart', 'type': 'object'}\n",
      "[D 2025-04-02 05:12:08 yandex_cloud_ml_sdk._types.schemas:98] trasform input parameters=<class '__main__.ShowCart'> to json_schema={'description': 'Эта функция позволяет показать содержимое корзины', 'properties': {}, 'title': 'ShowCart', 'type': 'object'}\n"
     ]
    }
   ],
   "source": [
    "instruction = \"\"\"\n",
    "Ты - опытный сомелье, продающий вино в магазине. Твоя задача - отвечать на вопросы пользователя\n",
    "про вина, рекомендовать лучшие вина к еде, а также искать вина в прайс-листе нашего магазина,\n",
    "а также проактивно предлагать пользователю приобрести вина, отвечающие его потребностям. В ответ\n",
    "на сообщение /start поинтересуйся, что нужно пользователю, предложи ему какой-то\n",
    "интересный вариант сочетания еды и вине, и попытайся продать ему вино.\n",
    "Посмотри на всю имеющуюся в твоем распоряжении информацию\n",
    "и выдай одну или несколько лучших рекомендаций.\n",
    "Если вопрос касается конкретных вин или цены, то вызови функцию SearchWinePriceList.\n",
    "Для передачи управления оператору - вызови фукцию Handover. Для добавления вина в корзину\n",
    "используй AddToCart. Для просмотра корзины: ShowCart.\n",
    "Если что-то непонятно, то лучше уточни информацию у пользователя.\n",
    "\"\"\"\n",
    "\n",
    "wine_agent = Agent(\n",
    "    instruction=instruction,\n",
    "    search_index=index,\n",
    "    tools=[SearchWinePriceList, Handover, AddToCart, ShowCart],\n",
    ")"
   ]
  },
  {
   "cell_type": "code",
   "execution_count": 76,
   "metadata": {
    "execution": {
     "iopub.execute_input": "2025-04-02T05:12:13.532064Z",
     "iopub.status.busy": "2025-04-02T05:12:13.530397Z",
     "iopub.status.idle": "2025-04-02T05:12:17.070817Z",
     "shell.execute_reply": "2025-04-02T05:12:17.069793Z",
     "shell.execute_reply.started": "2025-04-02T05:12:13.532005Z"
    },
    "tags": []
   },
   "outputs": [
    {
     "name": "stderr",
     "output_type": "stream",
     "text": [
      "[I 2025-04-02 05:12:13 yandex_cloud_ml_sdk._types.operation:131] Starting operation fvtb8s5dnoue9aqecp5j polling with a poll interval 0.500000s and poll timeout 300.000000s\n",
      "[D 2025-04-02 05:12:13 yandex_cloud_ml_sdk._types.operation:110] Operation fvtb8s5dnoue9aqecp5j have non-terminal status IN_PROGRESS, sleep for 0.500000s\n",
      "[D 2025-04-02 05:12:14 yandex_cloud_ml_sdk._types.operation:110] Operation fvtb8s5dnoue9aqecp5j have non-terminal status IN_PROGRESS, sleep for 0.500000s\n",
      "[D 2025-04-02 05:12:14 yandex_cloud_ml_sdk._types.operation:110] Operation fvtb8s5dnoue9aqecp5j have non-terminal status IN_PROGRESS, sleep for 0.500000s\n",
      "[D 2025-04-02 05:12:15 yandex_cloud_ml_sdk._types.operation:110] Operation fvtb8s5dnoue9aqecp5j have non-terminal status IN_PROGRESS, sleep for 0.500000s\n",
      "[D 2025-04-02 05:12:15 yandex_cloud_ml_sdk._types.operation:110] Operation fvtb8s5dnoue9aqecp5j have non-terminal status IN_PROGRESS, sleep for 0.500000s\n",
      "[D 2025-04-02 05:12:16 yandex_cloud_ml_sdk._types.operation:110] Operation fvtb8s5dnoue9aqecp5j have non-terminal status IN_PROGRESS, sleep for 0.500000s\n",
      "[I 2025-04-02 05:12:17 yandex_cloud_ml_sdk._types.operation:118] Operation fvtb8s5dnoue9aqecp5j successfully finished\n",
      "[I 2025-04-02 05:12:17 yandex_cloud_ml_sdk._types.operation:142] Operation fvtb8s5dnoue9aqecp5j polling finished\n"
     ]
    },
    {
     "data": {
      "text/markdown": [
       "Здравствуйте! Рад видеть вас в нашем винном магазине. Чем могу помочь?\n",
       "\n",
       "Возможно, вас заинтересует сочетание тушеной спаржи с белым сухим вином из региона Элим в ЮАР. Это вино обладает насыщенным вкусом и отлично дополнит ваше блюдо.\n",
       "\n",
       "Или, например, каберне совиньон из Калифорнии, который прекрасно гармонирует с пеппер-стейком.\n",
       "\n",
       "Какое вино вы предпочитаете? Или, может быть, у вас есть определенное блюдо, к которому вы хотите подобрать вино?"
      ],
      "text/plain": [
       "<ml_kernel._vendor.IPython.core.display.Markdown object>"
      ]
     },
     "metadata": {},
     "output_type": "display_data"
    }
   ],
   "source": [
    "printx(wine_agent('/start'))"
   ]
  },
  {
   "cell_type": "code",
   "execution_count": 77,
   "metadata": {
    "execution": {
     "iopub.execute_input": "2025-04-02T05:12:22.559297Z",
     "iopub.status.busy": "2025-04-02T05:12:22.557809Z",
     "iopub.status.idle": "2025-04-02T05:12:29.006296Z",
     "shell.execute_reply": "2025-04-02T05:12:29.005373Z",
     "shell.execute_reply.started": "2025-04-02T05:12:22.559240Z"
    },
    "tags": []
   },
   "outputs": [
    {
     "name": "stderr",
     "output_type": "stream",
     "text": [
      "[I 2025-04-02 05:12:22 yandex_cloud_ml_sdk._types.operation:131] Starting operation fvtcuk5pj2erssq21335 polling with a poll interval 0.500000s and poll timeout 300.000000s\n",
      "[D 2025-04-02 05:12:22 yandex_cloud_ml_sdk._types.operation:110] Operation fvtcuk5pj2erssq21335 have non-terminal status PENDING, sleep for 0.500000s\n",
      "[D 2025-04-02 05:12:23 yandex_cloud_ml_sdk._types.operation:110] Operation fvtcuk5pj2erssq21335 have non-terminal status IN_PROGRESS, sleep for 0.500000s\n",
      "[D 2025-04-02 05:12:23 yandex_cloud_ml_sdk._types.operation:110] Operation fvtcuk5pj2erssq21335 have non-terminal status IN_PROGRESS, sleep for 0.500000s\n",
      "[D 2025-04-02 05:12:24 yandex_cloud_ml_sdk._types.operation:110] Operation fvtcuk5pj2erssq21335 have non-terminal status IN_PROGRESS, sleep for 0.500000s\n",
      "[D 2025-04-02 05:12:24 yandex_cloud_ml_sdk._types.operation:110] Operation fvtcuk5pj2erssq21335 have non-terminal status IN_PROGRESS, sleep for 0.500000s\n",
      "[D 2025-04-02 05:12:25 yandex_cloud_ml_sdk._types.operation:110] Operation fvtcuk5pj2erssq21335 have non-terminal status IN_PROGRESS, sleep for 0.500000s\n",
      "[D 2025-04-02 05:12:25 yandex_cloud_ml_sdk._types.operation:110] Operation fvtcuk5pj2erssq21335 have non-terminal status IN_PROGRESS, sleep for 0.500000s\n",
      "[D 2025-04-02 05:12:26 yandex_cloud_ml_sdk._types.operation:110] Operation fvtcuk5pj2erssq21335 have non-terminal status IN_PROGRESS, sleep for 0.500000s\n",
      "[D 2025-04-02 05:12:26 yandex_cloud_ml_sdk._types.operation:110] Operation fvtcuk5pj2erssq21335 have non-terminal status IN_PROGRESS, sleep for 0.500000s\n",
      "[D 2025-04-02 05:12:27 yandex_cloud_ml_sdk._types.operation:110] Operation fvtcuk5pj2erssq21335 have non-terminal status IN_PROGRESS, sleep for 0.500000s\n",
      "[D 2025-04-02 05:12:27 yandex_cloud_ml_sdk._types.operation:110] Operation fvtcuk5pj2erssq21335 have non-terminal status IN_PROGRESS, sleep for 0.500000s\n",
      "[D 2025-04-02 05:12:28 yandex_cloud_ml_sdk._types.operation:110] Operation fvtcuk5pj2erssq21335 have non-terminal status IN_PROGRESS, sleep for 0.500000s\n",
      "[I 2025-04-02 05:12:28 yandex_cloud_ml_sdk._types.operation:118] Operation fvtcuk5pj2erssq21335 successfully finished\n",
      "[I 2025-04-02 05:12:28 yandex_cloud_ml_sdk._types.operation:142] Operation fvtcuk5pj2erssq21335 polling finished\n"
     ]
    },
    {
     "data": {
      "text/markdown": [
       "Для стейка я могу порекомендовать несколько отличных вариантов вин:\n",
       "\n",
       "1. **Для нежного мраморного стейка (Филе-миньон)** подойдут легкие и элегантные красные вина из винограда Пино Нуар, Нерелло Маскалезе, а также выдержанное и шелковистое Мерло. Хороши будут \"округлые\", выдержанные варианты из сортов Неббиоло (например, Барбареско), Темпранильо (из Рибейра дель Дуэро) и Санджовезе (например, Кьянти Ризерва).\n",
       "\n",
       "2. **Для жирноватого мраморного стейка (Рибай и подобные)**:\n",
       "   - При прожарке Rare — выдержанные и \"благородные\" вина из Темпранильо (например, из Рибейра дель Дуэро или любые от Ризервы и выше), Санджовезе (Кьянти Ризерва, Брунелло), \"супертосканские\" вина, Бордо Правого берега, а также шелковистые аргентинские Мальбеки.\n",
       "   - При прожарке Medium или WellDone — сухие и полусухие из винограда Сира (Шираз), Каберне Совиньон, \"тельный\" Мальбек, Примитиво, Зинфандель, Альянико (выдержанное и слегка \"округлившееся\"), выдержанный \"ронский\" ассамбляж Гренаш+Сира+Мурведр, вина Приората от 6-8 лет выдержки и выше.\n",
       "\n",
       "Если вас заинтересовал какой-либо из этих вариантов, я могу помочь найти его в нашем прайс-листе и даже добавить в корзину. Какой вариант вам нравится больше?"
      ],
      "text/plain": [
       "<ml_kernel._vendor.IPython.core.display.Markdown object>"
      ]
     },
     "metadata": {},
     "output_type": "display_data"
    }
   ],
   "source": [
    "printx(wine_agent('Хочу вино к стейку'))"
   ]
  },
  {
   "cell_type": "markdown",
   "metadata": {},
   "source": [
    "## Делаем винного ассистента в телеграме\n",
    "\n",
    "Для демонстрации возможностей бота мы реализуем такого ассистента в виде телеграм-бота. Конечно, для реализации полноценного телеграм-бота необходимо использовать виртуальную машину и режим webhooks, но в нашем случае мы ограничимся режимом поллинга, и запустим бота прямо в Datasphere.\n",
    "\n",
    "> Прежде, чем запускать код ниже, необходимо создать чат-бота, пообщавшись с [@botfather](http://t.me/botfather), и разместить его секрет в виде секрета в Datasphere.\n",
    "\n",
    "Для начала установим необходимую библиотеку:"
   ]
  },
  {
   "cell_type": "code",
   "execution_count": 103,
   "metadata": {
    "execution": {
     "iopub.execute_input": "2025-04-01T13:42:44.968298Z",
     "iopub.status.busy": "2025-04-01T13:42:44.967036Z",
     "iopub.status.idle": "2025-04-01T13:42:55.874991Z",
     "shell.execute_reply": "2025-04-01T13:42:55.873889Z",
     "shell.execute_reply.started": "2025-04-01T13:42:44.968245Z"
    }
   },
   "outputs": [
    {
     "name": "stderr",
     "output_type": "stream",
     "text": [
      "WARNING: All log messages before absl::InitializeLog() is called are written to STDERR\n",
      "I0000 00:00:1743514967.984864    3491 fork_posix.cc:75] Other threads are currently calling into gRPC, skipping fork() handlers\n"
     ]
    },
    {
     "name": "stdout",
     "output_type": "stream",
     "text": [
      "Defaulting to user installation because normal site-packages is not writeable\n",
      "Collecting telebot\n",
      "  Downloading telebot-0.0.5-py3-none-any.whl.metadata (2.0 kB)\n",
      "Collecting pyTelegramBotAPI (from telebot)\n",
      "  Downloading pytelegrambotapi-4.26.0-py3-none-any.whl.metadata (48 kB)\n",
      "Requirement already satisfied: requests in /home/jupyter/.local/lib/python3.10/site-packages (from telebot) (2.32.3)\n",
      "Requirement already satisfied: charset-normalizer<4,>=2 in /usr/local/lib/python3.10/dist-packages (from requests->telebot) (2.0.12)\n",
      "Requirement already satisfied: idna<4,>=2.5 in /usr/local/lib/python3.10/dist-packages (from requests->telebot) (3.4)\n",
      "Requirement already satisfied: urllib3<3,>=1.21.1 in /usr/local/lib/python3.10/dist-packages (from requests->telebot) (1.26.16)\n",
      "Requirement already satisfied: certifi>=2017.4.17 in /usr/local/lib/python3.10/dist-packages (from requests->telebot) (2023.7.22)\n",
      "Downloading telebot-0.0.5-py3-none-any.whl (4.8 kB)\n",
      "Downloading pytelegrambotapi-4.26.0-py3-none-any.whl (270 kB)\n",
      "Installing collected packages: pyTelegramBotAPI, telebot\n",
      "Successfully installed pyTelegramBotAPI-4.26.0 telebot-0.0.5\n",
      "\n",
      "\u001b[1m[\u001b[0m\u001b[34;49mnotice\u001b[0m\u001b[1;39;49m]\u001b[0m\u001b[39;49m A new release of pip is available: \u001b[0m\u001b[31;49m23.0.1\u001b[0m\u001b[39;49m -> \u001b[0m\u001b[32;49m25.0.1\u001b[0m\n",
      "\u001b[1m[\u001b[0m\u001b[34;49mnotice\u001b[0m\u001b[1;39;49m]\u001b[0m\u001b[39;49m To update, run: \u001b[0m\u001b[32;49mpython3 -m pip install --upgrade pip\u001b[0m\n"
     ]
    }
   ],
   "source": [
    "%pip install --quiet telebot"
   ]
  },
  {
   "cell_type": "code",
   "execution_count": 121,
   "metadata": {
    "execution": {
     "iopub.execute_input": "2025-04-01T14:04:19.918502Z",
     "iopub.status.busy": "2025-04-01T14:04:19.917018Z",
     "iopub.status.idle": "2025-04-01T14:05:36.628570Z",
     "shell.execute_reply": "2025-04-01T14:05:36.627499Z",
     "shell.execute_reply.started": "2025-04-01T14:04:19.918447Z"
    },
    "tags": []
   },
   "outputs": [
    {
     "name": "stdout",
     "output_type": "stream",
     "text": [
      "Бот готов к работе\n",
      "New thread t.id='fvtalu3ssh0vc0k7qq4q' created\n",
      "Starting on thread t.id='fvtalu3ssh0vc0k7qq4q', msg=/start\n",
      "Answering on thread t.id='fvtalu3ssh0vc0k7qq4q', msg=Какое самое дешевое вино?\n",
      "Вызываем функцию SearchWinePriceList, args=name=None country=None acidity=None color=None sort_order='cheapest' what_to_return='price'\n",
      "Answering on thread t.id='fvtalu3ssh0vc0k7qq4q', msg=Положи вино адгум в корзину\n",
      "Вызываем функцию AddToCart, args=wine_name='ВИНО АДАГУМ КБСВ КР СХ' count='1'\n",
      "Answering on thread t.id='fvtalu3ssh0vc0k7qq4q', msg=Что в корзине?\n",
      "Вызываем функцию ShowCart, args=\n",
      "Answering on thread t.id='fvtalu3ssh0vc0k7qq4q', msg=Вызови оператора\n",
      "Вызываем функцию Handover, args=reason='Пользователь хочет вызвать оператора'\n"
     ]
    }
   ],
   "source": [
    "import telebot\n",
    "\n",
    "telegram_token = os.environ[\"tg_token\"]\n",
    "\n",
    "bot = telebot.TeleBot(telegram_token)\n",
    "\n",
    "threads = {}\n",
    "\n",
    "\n",
    "def get_thread(chat_id):\n",
    "    if chat_id in threads.keys():\n",
    "        return threads[chat_id]\n",
    "    t = create_thread()\n",
    "    print(f\"New thread {t.id=} created\")\n",
    "    threads[chat_id] = t\n",
    "    return t\n",
    "\n",
    "\n",
    "# Обработчик команды /start\n",
    "@bot.message_handler(commands=[\"start\"])\n",
    "def start(message):\n",
    "    t = get_thread(message.chat.id)\n",
    "    print(f\"Starting on thread {t.id=}, msg={message.text}\")\n",
    "    ans = wine_agent(message.text, thread=t)\n",
    "    bot.send_message(message.chat.id, ans)\n",
    "\n",
    "\n",
    "# Обработчик для всех входящих сообщений\n",
    "@bot.message_handler(func=lambda message: True)\n",
    "def handle_message(message):\n",
    "    t = get_thread(message.chat.id)\n",
    "    print(f\"Answering on thread {t.id=}, msg={message.text}\")\n",
    "    answer = wine_agent(message.text, thread=t)\n",
    "    bot.send_message(message.chat.id, answer)\n",
    "\n",
    "\n",
    "# Запуск бота\n",
    "print(\"Бот готов к работе\")\n",
    "bot.polling(none_stop=True)"
   ]
  },
  {
   "cell_type": "markdown",
   "metadata": {},
   "source": [
    "## Удаляем лишнее\n",
    "\n",
    "В заключение удалим созданные ресурсы:"
   ]
  },
  {
   "cell_type": "code",
   "execution_count": 79,
   "metadata": {
    "execution": {
     "iopub.execute_input": "2025-04-02T05:48:47.756766Z",
     "iopub.status.busy": "2025-04-02T05:48:47.755691Z",
     "iopub.status.idle": "2025-04-02T05:48:58.208347Z",
     "shell.execute_reply": "2025-04-02T05:48:58.207243Z",
     "shell.execute_reply.started": "2025-04-02T05:48:47.756718Z"
    },
    "tags": []
   },
   "outputs": [],
   "source": [
    "wine_agent.done(delete_assistant=True)\n",
    "index.delete()\n",
    "for f in df['Uploaded']:\n",
    "    f.delete()\n",
    "for f in uploaded_foodwine:\n",
    "    f.delete()"
   ]
  },
  {
   "cell_type": "markdown",
   "metadata": {},
   "source": [
    "Если вы хотите на всякий случай удалить другие оставшиеся ресурсы, то можете использовать код ниже - он удалит все переписки, файлы, индексы и ассистенты. \n",
    "\n",
    "**ВНИМАНИЕ**: Не выполняйте этот код, если у вас есть другие проекты с ассистентами в облаке!"
   ]
  },
  {
   "cell_type": "code",
   "execution_count": 80,
   "metadata": {
    "execution": {
     "iopub.execute_input": "2025-04-02T05:50:10.302597Z",
     "iopub.status.busy": "2025-04-02T05:50:10.301369Z",
     "iopub.status.idle": "2025-04-02T05:50:12.050152Z",
     "shell.execute_reply": "2025-04-02T05:50:12.049220Z",
     "shell.execute_reply.started": "2025-04-02T05:50:10.302558Z"
    },
    "tags": []
   },
   "outputs": [
    {
     "name": "stdout",
     "output_type": "stream",
     "text": [
      " + deleting thread id=fvthlaradjqr37src6o8\n",
      " + deleting thread id=fvt22afaeuhoefth43ij\n",
      " + deleting thread id=fvttkc8l9q0inhabdjvl\n",
      " + deleting thread id=fvtmi1sdkg9bv34fatdf\n",
      " ! Error\n",
      " + deleting thread id=fvtgchjftun6cthrfcs3\n",
      " ! Error\n",
      " + deleting thread id=fvt0fk0h42mf50ofin0b\n",
      " ! Error\n",
      " + deleting thread id=fvt2a02a0cleq9gk3j75\n",
      " ! Error\n",
      " + deleting thread id=fvt4iugnrk28pvtlk76t\n",
      " ! Error\n",
      " + deleting thread id=fvtiuhempeslu1i7qtnu\n",
      " ! Error\n",
      " + deleting thread id=fvtmubvkqhtfrqcsjduo\n",
      " ! Error\n",
      " + deleting thread id=fvtjfjds1aoo6f0r4ptj\n",
      " ! Error\n",
      " + deleting thread id=fvtaljptt0kjjuggnm93\n",
      " ! Error\n",
      " + deleting thread id=fvtsp56titc7hdtrkv54\n",
      " ! Error\n",
      " + deleting thread id=fvtm57amjtsq8gr12f6t\n",
      " ! Error\n",
      " + deleting thread id=fvtghqr56rcu9d80qs3k\n",
      " ! Error\n",
      " + deleting thread id=fvtk8gq8q6vrf22mkdto\n",
      " ! Error\n",
      " + deleting thread id=fvth7obnf78rmksv2ptg\n",
      " ! Error\n",
      " + deleting thread id=fvt59jcebc5san8tv4hl\n",
      " ! Error\n",
      " + deleting thread id=fvtrnoed344uq8ssahae\n",
      " ! Error\n",
      " + deleting thread id=fvtaurmqfovnlaifqh1h\n",
      " ! Error\n",
      " + deleting thread id=fvtnsbpvjn6aucnvfanh\n",
      " ! Error\n",
      " + deleting thread id=fvtij033n4431hetifcb\n",
      " ! Error\n",
      " + deleting thread id=fvtl0nusb2qcohnms8v5\n",
      " ! Error\n",
      " + deleting assistant id=fvtoaa8tsfjhjonbrdqi\n",
      " + deleting assistant id=fvt8focdjjknnog4vb0f\n",
      " + deleting assistant id=fvt0fvubsovv60mtluja\n",
      " + deleting assistant id=fvt7dec5tjrasnqddj47\n",
      " + deleting assistant id=fvt616l9fd4n33b2k79g\n"
     ]
    }
   ],
   "source": [
    "for thread in sdk.threads.list():\n",
    "    print(f\" + deleting thread id={thread.id}\")\n",
    "    try:\n",
    "        thread.delete()\n",
    "    except:\n",
    "        print(\" ! Error\")\n",
    "for assistant in sdk.assistants.list():\n",
    "    print(f\" + deleting assistant id={assistant.id}\")\n",
    "    assistant.delete()"
   ]
  },
  {
   "cell_type": "code",
   "execution_count": 81,
   "metadata": {
    "execution": {
     "iopub.execute_input": "2025-04-02T05:50:15.842549Z",
     "iopub.status.busy": "2025-04-02T05:50:15.841578Z",
     "iopub.status.idle": "2025-04-02T05:50:34.230790Z",
     "shell.execute_reply": "2025-04-02T05:50:34.229849Z",
     "shell.execute_reply.started": "2025-04-02T05:50:15.842503Z"
    },
    "tags": []
   },
   "outputs": [
    {
     "name": "stdout",
     "output_type": "stream",
     "text": [
      " + deleting index id=fvtlk0391ajbl4i88t4g\n",
      " + deleting index id=fvtbu1qgiqf3pmgq15hr\n",
      " + Deleting files\n"
     ]
    },
    {
     "name": "stderr",
     "output_type": "stream",
     "text": [
      "304it [00:17, 17.02it/s]\n"
     ]
    }
   ],
   "source": [
    "from tqdm.auto import tqdm\n",
    "\n",
    "for index in sdk.search_indexes.list():\n",
    "    print(f\" + deleting index id={index.id}\")\n",
    "    index.delete()\n",
    "print(' + Deleting files')\n",
    "for file in tqdm(sdk.files.list()):\n",
    "    #print(f\" + deleting file id={file.id}\")\n",
    "    file.delete()"
   ]
  },
  {
   "cell_type": "code",
   "execution_count": null,
   "metadata": {},
   "outputs": [],
   "source": []
  }
 ],
 "metadata": {
  "kernelspec": {
   "display_name": "DataSphere Kernel",
   "language": "python",
   "name": "python3"
  },
  "language_info": {
   "codemirror_mode": {
    "name": "ipython",
    "version": 3
   },
   "file_extension": ".py",
   "mimetype": "text/x-python",
   "name": "python",
   "nbconvert_exporter": "python",
   "pygments_lexer": "ipython3",
   "version": "3.10.12"
  }
 },
 "nbformat": 4,
 "nbformat_minor": 4
}
