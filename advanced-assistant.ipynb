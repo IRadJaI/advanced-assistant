{
 "cells": [
  {
   "cell_type": "markdown",
   "metadata": {},
   "source": [
    "## Создание продвинутых ассистентов\n",
    "\n",
    "В этом ноутбуке мы попробуем создать и протестировать чат-ассистента на основе Yandex Assistant API, RAG и Function Calling.\n",
    "\n",
    "Для начала, установим Yandex Cloud ML SDK. В идеальном мире, вы сделаете вот так:"
   ]
  },
  {
   "cell_type": "code",
   "execution_count": 9,
   "metadata": {
    "execution": {
     "iopub.execute_input": "2025-03-20T11:26:40.760420Z",
     "iopub.status.busy": "2025-03-20T11:26:40.759649Z",
     "iopub.status.idle": "2025-03-20T11:26:49.046731Z",
     "shell.execute_reply": "2025-03-20T11:26:49.045788Z",
     "shell.execute_reply.started": "2025-03-20T11:26:40.760378Z"
    },
    "tags": []
   },
   "outputs": [
    {
     "name": "stderr",
     "output_type": "stream",
     "text": [
      "WARNING: All log messages before absl::InitializeLog() is called are written to STDERR\n",
      "I0000 00:00:1742470000.768423    3331 fork_posix.cc:75] Other threads are currently calling into gRPC, skipping fork() handlers\n"
     ]
    },
    {
     "name": "stdout",
     "output_type": "stream",
     "text": [
      "Defaulting to user installation because normal site-packages is not writeable\n",
      "Requirement already satisfied: yandex-cloud-ml-sdk in /home/jupyter/.local/lib/python3.10/site-packages (0.4.1)\n",
      "Collecting yandex-cloud-ml-sdk\n",
      "  Downloading yandex_cloud_ml_sdk-0.4.2-py3-none-any.whl.metadata (4.1 kB)\n",
      "Requirement already satisfied: yandexcloud>=0.335.0 in /home/jupyter/.local/lib/python3.10/site-packages (from yandex-cloud-ml-sdk) (0.336.0)\n",
      "Requirement already satisfied: grpcio>=1.70.0 in /home/jupyter/.local/lib/python3.10/site-packages (from yandex-cloud-ml-sdk) (1.71.0)\n",
      "Requirement already satisfied: get-annotations in /home/jupyter/.local/lib/python3.10/site-packages (from yandex-cloud-ml-sdk) (0.1.2)\n",
      "Requirement already satisfied: httpx<1,>=0.27 in /home/jupyter/.local/lib/python3.10/site-packages (from yandex-cloud-ml-sdk) (0.28.1)\n",
      "Requirement already satisfied: typing-extensions>=4 in /usr/local/lib/python3.10/dist-packages (from yandex-cloud-ml-sdk) (4.7.1)\n",
      "Requirement already satisfied: aiofiles>=24.1.0 in /home/jupyter/.local/lib/python3.10/site-packages (from yandex-cloud-ml-sdk) (24.1.0)\n",
      "Requirement already satisfied: anyio in /usr/local/lib/python3.10/dist-packages (from httpx<1,>=0.27->yandex-cloud-ml-sdk) (3.7.1)\n",
      "Requirement already satisfied: certifi in /usr/local/lib/python3.10/dist-packages (from httpx<1,>=0.27->yandex-cloud-ml-sdk) (2023.7.22)\n",
      "Requirement already satisfied: httpcore==1.* in /home/jupyter/.local/lib/python3.10/site-packages (from httpx<1,>=0.27->yandex-cloud-ml-sdk) (1.0.7)\n",
      "Requirement already satisfied: idna in /usr/local/lib/python3.10/dist-packages (from httpx<1,>=0.27->yandex-cloud-ml-sdk) (3.4)\n",
      "Requirement already satisfied: h11<0.15,>=0.13 in /home/jupyter/.local/lib/python3.10/site-packages (from httpcore==1.*->httpx<1,>=0.27->yandex-cloud-ml-sdk) (0.14.0)\n",
      "Requirement already satisfied: cryptography>=44.0.0 in /home/jupyter/.local/lib/python3.10/site-packages (from yandexcloud>=0.335.0->yandex-cloud-ml-sdk) (44.0.2)\n",
      "Requirement already satisfied: protobuf<6,>=5.29.1 in /home/jupyter/.local/lib/python3.10/site-packages (from yandexcloud>=0.335.0->yandex-cloud-ml-sdk) (5.29.3)\n",
      "Requirement already satisfied: googleapis-common-protos<2,>=1.66.0 in /home/jupyter/.local/lib/python3.10/site-packages (from yandexcloud>=0.335.0->yandex-cloud-ml-sdk) (1.69.2)\n",
      "Requirement already satisfied: pyjwt<3,>=2.10.1 in /home/jupyter/.local/lib/python3.10/site-packages (from yandexcloud>=0.335.0->yandex-cloud-ml-sdk) (2.10.1)\n",
      "Requirement already satisfied: requests<3,>=2.32.3 in /home/jupyter/.local/lib/python3.10/site-packages (from yandexcloud>=0.335.0->yandex-cloud-ml-sdk) (2.32.3)\n",
      "Requirement already satisfied: six<2,>=1.17.0 in /home/jupyter/.local/lib/python3.10/site-packages (from yandexcloud>=0.335.0->yandex-cloud-ml-sdk) (1.17.0)\n",
      "Requirement already satisfied: grpcio-tools>=1.68.1 in /home/jupyter/.local/lib/python3.10/site-packages (from yandexcloud>=0.335.0->yandex-cloud-ml-sdk) (1.71.0)\n",
      "Requirement already satisfied: deprecated>=1.2.18 in /home/jupyter/.local/lib/python3.10/site-packages (from yandexcloud>=0.335.0->yandex-cloud-ml-sdk) (1.2.18)\n",
      "Requirement already satisfied: cffi>=1.12 in /usr/local/lib/python3.10/dist-packages (from cryptography>=44.0.0->yandexcloud>=0.335.0->yandex-cloud-ml-sdk) (1.15.1)\n",
      "Requirement already satisfied: wrapt<2,>=1.10 in /usr/local/lib/python3.10/dist-packages (from deprecated>=1.2.18->yandexcloud>=0.335.0->yandex-cloud-ml-sdk) (1.14.1)\n",
      "Requirement already satisfied: setuptools in /kernel/lib/python3.10/site-packages (from grpcio-tools>=1.68.1->yandexcloud>=0.335.0->yandex-cloud-ml-sdk) (65.5.0)\n",
      "Requirement already satisfied: charset-normalizer<4,>=2 in /usr/local/lib/python3.10/dist-packages (from requests<3,>=2.32.3->yandexcloud>=0.335.0->yandex-cloud-ml-sdk) (2.0.12)\n",
      "Requirement already satisfied: urllib3<3,>=1.21.1 in /usr/local/lib/python3.10/dist-packages (from requests<3,>=2.32.3->yandexcloud>=0.335.0->yandex-cloud-ml-sdk) (1.26.16)\n",
      "Requirement already satisfied: sniffio>=1.1 in /usr/local/lib/python3.10/dist-packages (from anyio->httpx<1,>=0.27->yandex-cloud-ml-sdk) (1.3.0)\n",
      "Requirement already satisfied: exceptiongroup in /usr/local/lib/python3.10/dist-packages (from anyio->httpx<1,>=0.27->yandex-cloud-ml-sdk) (1.1.2)\n",
      "Requirement already satisfied: pycparser in /usr/local/lib/python3.10/dist-packages (from cffi>=1.12->cryptography>=44.0.0->yandexcloud>=0.335.0->yandex-cloud-ml-sdk) (2.21)\n",
      "Downloading yandex_cloud_ml_sdk-0.4.2-py3-none-any.whl (119 kB)\n",
      "Installing collected packages: yandex-cloud-ml-sdk\n",
      "  Attempting uninstall: yandex-cloud-ml-sdk\n",
      "    Found existing installation: yandex-cloud-ml-sdk 0.4.1\n",
      "    Uninstalling yandex-cloud-ml-sdk-0.4.1:\n",
      "      Successfully uninstalled yandex-cloud-ml-sdk-0.4.1\n",
      "Successfully installed yandex-cloud-ml-sdk-0.4.2\n",
      "\n",
      "\u001b[1m[\u001b[0m\u001b[34;49mnotice\u001b[0m\u001b[1;39;49m]\u001b[0m\u001b[39;49m A new release of pip is available: \u001b[0m\u001b[31;49m23.0.1\u001b[0m\u001b[39;49m -> \u001b[0m\u001b[32;49m25.0.1\u001b[0m\n",
      "\u001b[1m[\u001b[0m\u001b[34;49mnotice\u001b[0m\u001b[1;39;49m]\u001b[0m\u001b[39;49m To update, run: \u001b[0m\u001b[32;49mpython3 -m pip install --upgrade pip\u001b[0m\n"
     ]
    }
   ],
   "source": [
    "%pip install --upgrade yandex-cloud-ml-sdk"
   ]
  },
  {
   "cell_type": "markdown",
   "metadata": {},
   "source": [
    "В нашем случае мы установим самую последнюю версию SDK:"
   ]
  },
  {
   "cell_type": "code",
   "execution_count": 6,
   "metadata": {
    "execution": {
     "iopub.execute_input": "2025-03-31T11:28:42.982901Z",
     "iopub.status.busy": "2025-03-31T11:28:42.981272Z",
     "iopub.status.idle": "2025-03-31T11:28:59.625307Z",
     "shell.execute_reply": "2025-03-31T11:28:59.624145Z",
     "shell.execute_reply.started": "2025-03-31T11:28:42.982849Z"
    },
    "tags": []
   },
   "outputs": [
    {
     "name": "stdout",
     "output_type": "stream",
     "text": [
      "Defaulting to user installation because normal site-packages is not writeable\n",
      "Requirement already satisfied: flit in /home/jupyter/.local/lib/python3.10/site-packages (3.12.0)\n",
      "Requirement already satisfied: flit_core>=3.12.0 in /home/jupyter/.local/lib/python3.10/site-packages (from flit) (3.12.0)\n",
      "Requirement already satisfied: requests in /home/jupyter/.local/lib/python3.10/site-packages (from flit) (2.32.3)\n",
      "Requirement already satisfied: docutils in /usr/local/lib/python3.10/dist-packages (from flit) (0.18.1)\n",
      "Requirement already satisfied: tomli-w in /home/jupyter/.local/lib/python3.10/site-packages (from flit) (1.2.0)\n",
      "Requirement already satisfied: pip in /kernel/lib/python3.10/site-packages (from flit) (23.0.1)\n",
      "Requirement already satisfied: charset-normalizer<4,>=2 in /usr/local/lib/python3.10/dist-packages (from requests->flit) (2.0.12)\n",
      "Requirement already satisfied: idna<4,>=2.5 in /usr/local/lib/python3.10/dist-packages (from requests->flit) (3.4)\n",
      "Requirement already satisfied: urllib3<3,>=1.21.1 in /usr/local/lib/python3.10/dist-packages (from requests->flit) (1.26.16)\n",
      "Requirement already satisfied: certifi>=2017.4.17 in /usr/local/lib/python3.10/dist-packages (from requests->flit) (2023.7.22)\n",
      "\n",
      "\u001b[1m[\u001b[0m\u001b[34;49mnotice\u001b[0m\u001b[1;39;49m]\u001b[0m\u001b[39;49m A new release of pip is available: \u001b[0m\u001b[31;49m23.0.1\u001b[0m\u001b[39;49m -> \u001b[0m\u001b[32;49m25.0.1\u001b[0m\n",
      "\u001b[1m[\u001b[0m\u001b[34;49mnotice\u001b[0m\u001b[1;39;49m]\u001b[0m\u001b[39;49m To update, run: \u001b[0m\u001b[32;49mpython3 -m pip install --upgrade pip\u001b[0m\n",
      "Defaulting to user installation because normal site-packages is not writeable\n",
      "Collecting git+https://github.com/yandex-cloud/yandex-cloud-ml-sdk@5d77a3618838cc4ca0553a777a39a542f900e7c8\n",
      "  Cloning https://github.com/yandex-cloud/yandex-cloud-ml-sdk (to revision 5d77a3618838cc4ca0553a777a39a542f900e7c8) to /tmp/pip-req-build-fuvbe4ro\n",
      "  Running command git clone --filter=blob:none --quiet https://github.com/yandex-cloud/yandex-cloud-ml-sdk /tmp/pip-req-build-fuvbe4ro\n",
      "  Running command git rev-parse -q --verify 'sha^5d77a3618838cc4ca0553a777a39a542f900e7c8'\n",
      "  Running command git fetch -q https://github.com/yandex-cloud/yandex-cloud-ml-sdk 5d77a3618838cc4ca0553a777a39a542f900e7c8\n",
      "  Running command git checkout -q 5d77a3618838cc4ca0553a777a39a542f900e7c8\n",
      "  Resolved https://github.com/yandex-cloud/yandex-cloud-ml-sdk to commit 5d77a3618838cc4ca0553a777a39a542f900e7c8\n",
      "  Preparing metadata (pyproject.toml) ... \u001b[?25ldone\n",
      "\u001b[?25hRequirement already satisfied: yandexcloud>=0.335.0 in /home/jupyter/.local/lib/python3.10/site-packages (from yandex-cloud-ml-sdk==0.5.0) (0.336.0)\n",
      "Requirement already satisfied: grpcio>=1.70.0 in /home/jupyter/.local/lib/python3.10/site-packages (from yandex-cloud-ml-sdk==0.5.0) (1.71.0)\n",
      "Requirement already satisfied: get-annotations in /home/jupyter/.local/lib/python3.10/site-packages (from yandex-cloud-ml-sdk==0.5.0) (0.1.2)\n",
      "Requirement already satisfied: httpx<1,>=0.27 in /home/jupyter/.local/lib/python3.10/site-packages (from yandex-cloud-ml-sdk==0.5.0) (0.28.1)\n",
      "Requirement already satisfied: typing-extensions>=4 in /usr/local/lib/python3.10/dist-packages (from yandex-cloud-ml-sdk==0.5.0) (4.7.1)\n",
      "Requirement already satisfied: aiofiles>=24.1.0 in /home/jupyter/.local/lib/python3.10/site-packages (from yandex-cloud-ml-sdk==0.5.0) (24.1.0)\n",
      "Requirement already satisfied: anyio in /usr/local/lib/python3.10/dist-packages (from httpx<1,>=0.27->yandex-cloud-ml-sdk==0.5.0) (3.7.1)\n",
      "Requirement already satisfied: certifi in /usr/local/lib/python3.10/dist-packages (from httpx<1,>=0.27->yandex-cloud-ml-sdk==0.5.0) (2023.7.22)\n",
      "Requirement already satisfied: httpcore==1.* in /home/jupyter/.local/lib/python3.10/site-packages (from httpx<1,>=0.27->yandex-cloud-ml-sdk==0.5.0) (1.0.7)\n",
      "Requirement already satisfied: idna in /usr/local/lib/python3.10/dist-packages (from httpx<1,>=0.27->yandex-cloud-ml-sdk==0.5.0) (3.4)\n",
      "Requirement already satisfied: h11<0.15,>=0.13 in /home/jupyter/.local/lib/python3.10/site-packages (from httpcore==1.*->httpx<1,>=0.27->yandex-cloud-ml-sdk==0.5.0) (0.14.0)\n",
      "Requirement already satisfied: cryptography>=44.0.0 in /home/jupyter/.local/lib/python3.10/site-packages (from yandexcloud>=0.335.0->yandex-cloud-ml-sdk==0.5.0) (44.0.2)\n",
      "Requirement already satisfied: protobuf<6,>=5.29.1 in /home/jupyter/.local/lib/python3.10/site-packages (from yandexcloud>=0.335.0->yandex-cloud-ml-sdk==0.5.0) (5.29.3)\n",
      "Requirement already satisfied: googleapis-common-protos<2,>=1.66.0 in /home/jupyter/.local/lib/python3.10/site-packages (from yandexcloud>=0.335.0->yandex-cloud-ml-sdk==0.5.0) (1.69.2)\n",
      "Requirement already satisfied: pyjwt<3,>=2.10.1 in /home/jupyter/.local/lib/python3.10/site-packages (from yandexcloud>=0.335.0->yandex-cloud-ml-sdk==0.5.0) (2.10.1)\n",
      "Requirement already satisfied: requests<3,>=2.32.3 in /home/jupyter/.local/lib/python3.10/site-packages (from yandexcloud>=0.335.0->yandex-cloud-ml-sdk==0.5.0) (2.32.3)\n",
      "Requirement already satisfied: six<2,>=1.17.0 in /home/jupyter/.local/lib/python3.10/site-packages (from yandexcloud>=0.335.0->yandex-cloud-ml-sdk==0.5.0) (1.17.0)\n",
      "Requirement already satisfied: grpcio-tools>=1.68.1 in /home/jupyter/.local/lib/python3.10/site-packages (from yandexcloud>=0.335.0->yandex-cloud-ml-sdk==0.5.0) (1.71.0)\n",
      "Requirement already satisfied: deprecated>=1.2.18 in /home/jupyter/.local/lib/python3.10/site-packages (from yandexcloud>=0.335.0->yandex-cloud-ml-sdk==0.5.0) (1.2.18)\n",
      "Requirement already satisfied: cffi>=1.12 in /usr/local/lib/python3.10/dist-packages (from cryptography>=44.0.0->yandexcloud>=0.335.0->yandex-cloud-ml-sdk==0.5.0) (1.15.1)\n",
      "Requirement already satisfied: wrapt<2,>=1.10 in /usr/local/lib/python3.10/dist-packages (from deprecated>=1.2.18->yandexcloud>=0.335.0->yandex-cloud-ml-sdk==0.5.0) (1.14.1)\n",
      "Requirement already satisfied: setuptools in /kernel/lib/python3.10/site-packages (from grpcio-tools>=1.68.1->yandexcloud>=0.335.0->yandex-cloud-ml-sdk==0.5.0) (65.5.0)\n",
      "Requirement already satisfied: charset-normalizer<4,>=2 in /usr/local/lib/python3.10/dist-packages (from requests<3,>=2.32.3->yandexcloud>=0.335.0->yandex-cloud-ml-sdk==0.5.0) (2.0.12)\n",
      "Requirement already satisfied: urllib3<3,>=1.21.1 in /usr/local/lib/python3.10/dist-packages (from requests<3,>=2.32.3->yandexcloud>=0.335.0->yandex-cloud-ml-sdk==0.5.0) (1.26.16)\n",
      "Requirement already satisfied: sniffio>=1.1 in /usr/local/lib/python3.10/dist-packages (from anyio->httpx<1,>=0.27->yandex-cloud-ml-sdk==0.5.0) (1.3.0)\n",
      "Requirement already satisfied: exceptiongroup in /usr/local/lib/python3.10/dist-packages (from anyio->httpx<1,>=0.27->yandex-cloud-ml-sdk==0.5.0) (1.1.2)\n",
      "Requirement already satisfied: pycparser in /usr/local/lib/python3.10/dist-packages (from cffi>=1.12->cryptography>=44.0.0->yandexcloud>=0.335.0->yandex-cloud-ml-sdk==0.5.0) (2.21)\n",
      "Building wheels for collected packages: yandex-cloud-ml-sdk\n",
      "  Building wheel for yandex-cloud-ml-sdk (pyproject.toml) ... \u001b[?25ldone\n",
      "\u001b[?25h  Created wheel for yandex-cloud-ml-sdk: filename=yandex_cloud_ml_sdk-0.5.0-py3-none-any.whl size=126402 sha256=ebb0a147ee40c921a33b0de68ee24d15f63a611284092aca3ff43a8fc9859b9c\n",
      "  Stored in directory: /tmp/xdg_cache/pip/wheels/9d/6f/47/9f5dfbbda82a8d000904d200585f852bc4d7813dbf9ab566b9\n",
      "Successfully built yandex-cloud-ml-sdk\n",
      "Installing collected packages: yandex-cloud-ml-sdk\n",
      "  Attempting uninstall: yandex-cloud-ml-sdk\n",
      "    Found existing installation: yandex-cloud-ml-sdk 0.4.2\n",
      "    Uninstalling yandex-cloud-ml-sdk-0.4.2:\n",
      "      Successfully uninstalled yandex-cloud-ml-sdk-0.4.2\n",
      "Successfully installed yandex-cloud-ml-sdk-0.5.0\n",
      "\n",
      "\u001b[1m[\u001b[0m\u001b[34;49mnotice\u001b[0m\u001b[1;39;49m]\u001b[0m\u001b[39;49m A new release of pip is available: \u001b[0m\u001b[31;49m23.0.1\u001b[0m\u001b[39;49m -> \u001b[0m\u001b[32;49m25.0.1\u001b[0m\n",
      "\u001b[1m[\u001b[0m\u001b[34;49mnotice\u001b[0m\u001b[1;39;49m]\u001b[0m\u001b[39;49m To update, run: \u001b[0m\u001b[32;49mpython3 -m pip install --upgrade pip\u001b[0m\n"
     ]
    }
   ],
   "source": [
    "%pip install flit\n",
    "%pip install git+https://github.com/yandex-cloud/yandex-cloud-ml-sdk@5d77a3618838cc4ca0553a777a39a542f900e7c8"
   ]
  },
  {
   "cell_type": "markdown",
   "metadata": {},
   "source": [
    "Также необходимо обновить некоторые библиотеки:"
   ]
  },
  {
   "cell_type": "code",
   "execution_count": 53,
   "metadata": {
    "execution": {
     "iopub.execute_input": "2025-03-31T12:50:16.181842Z",
     "iopub.status.busy": "2025-03-31T12:50:16.180391Z",
     "iopub.status.idle": "2025-03-31T12:50:28.504805Z",
     "shell.execute_reply": "2025-03-31T12:50:28.503695Z",
     "shell.execute_reply.started": "2025-03-31T12:50:16.181789Z"
    }
   },
   "outputs": [
    {
     "name": "stderr",
     "output_type": "stream",
     "text": [
      "WARNING: All log messages before absl::InitializeLog() is called are written to STDERR\n",
      "I0000 00:00:1743425416.188163    3524 fork_posix.cc:75] Other threads are currently calling into gRPC, skipping fork() handlers\n"
     ]
    },
    {
     "name": "stdout",
     "output_type": "stream",
     "text": [
      "Defaulting to user installation because normal site-packages is not writeable\n",
      "Requirement already satisfied: pydantic in /usr/local/lib/python3.10/dist-packages (1.10.12)\n",
      "Collecting pydantic\n",
      "  Downloading pydantic-2.11.1-py3-none-any.whl.metadata (63 kB)\n",
      "Collecting annotated-types>=0.6.0 (from pydantic)\n",
      "  Downloading annotated_types-0.7.0-py3-none-any.whl.metadata (15 kB)\n",
      "Collecting pydantic-core==2.33.0 (from pydantic)\n",
      "  Downloading pydantic_core-2.33.0-cp310-cp310-manylinux_2_17_x86_64.manylinux2014_x86_64.whl.metadata (6.8 kB)\n",
      "Collecting typing-extensions>=4.12.2 (from pydantic)\n",
      "  Downloading typing_extensions-4.13.0-py3-none-any.whl.metadata (3.0 kB)\n",
      "Collecting typing-inspection>=0.4.0 (from pydantic)\n",
      "  Downloading typing_inspection-0.4.0-py3-none-any.whl.metadata (2.6 kB)\n",
      "Downloading pydantic-2.11.1-py3-none-any.whl (442 kB)\n",
      "Downloading pydantic_core-2.33.0-cp310-cp310-manylinux_2_17_x86_64.manylinux2014_x86_64.whl (2.0 MB)\n",
      "\u001b[2K   \u001b[90m━━━━━━━━━━━━━━━━━━━━━━━━━━━━━━━━━━━━━━━━\u001b[0m \u001b[32m2.0/2.0 MB\u001b[0m \u001b[31m17.9 MB/s\u001b[0m eta \u001b[36m0:00:00\u001b[0m\n",
      "\u001b[?25hDownloading annotated_types-0.7.0-py3-none-any.whl (13 kB)\n",
      "Downloading typing_extensions-4.13.0-py3-none-any.whl (45 kB)\n",
      "Downloading typing_inspection-0.4.0-py3-none-any.whl (14 kB)\n",
      "Installing collected packages: typing-extensions, annotated-types, typing-inspection, pydantic-core, pydantic\n",
      "\u001b[31mERROR: pip's dependency resolver does not currently take into account all the packages that are installed. This behaviour is the source of the following dependency conflicts.\n",
      "confection 0.1.0 requires pydantic!=1.8,!=1.8.1,<1.11.0,>=1.7.4, but you have pydantic 2.11.1 which is incompatible.\n",
      "inflect 6.0.5 requires pydantic<2,>=1.9.1, but you have pydantic 2.11.1 which is incompatible.\n",
      "spacy 3.5.4 requires pydantic!=1.8,!=1.8.1,<1.11.0,>=1.7.4, but you have pydantic 2.11.1 which is incompatible.\n",
      "tensorflow 2.12.0 requires protobuf!=4.21.0,!=4.21.1,!=4.21.2,!=4.21.3,!=4.21.4,!=4.21.5,<5.0.0dev,>=3.20.3, but you have protobuf 5.29.3 which is incompatible.\n",
      "thinc 8.1.10 requires pydantic!=1.8,!=1.8.1,<1.11.0,>=1.7.4, but you have pydantic 2.11.1 which is incompatible.\u001b[0m\u001b[31m\n",
      "\u001b[0mSuccessfully installed annotated-types-0.7.0 pydantic-2.11.1 pydantic-core-2.33.0 typing-extensions-4.13.0 typing-inspection-0.4.0\n",
      "\n",
      "\u001b[1m[\u001b[0m\u001b[34;49mnotice\u001b[0m\u001b[1;39;49m]\u001b[0m\u001b[39;49m A new release of pip is available: \u001b[0m\u001b[31;49m23.0.1\u001b[0m\u001b[39;49m -> \u001b[0m\u001b[32;49m25.0.1\u001b[0m\n",
      "\u001b[1m[\u001b[0m\u001b[34;49mnotice\u001b[0m\u001b[1;39;49m]\u001b[0m\u001b[39;49m To update, run: \u001b[0m\u001b[32;49mpython3 -m pip install --upgrade pip\u001b[0m\n"
     ]
    }
   ],
   "source": [
    "%pip install --upgrade pydantic"
   ]
  },
  {
   "cell_type": "markdown",
   "metadata": {},
   "source": [
    "Для работы с языковыми моделями нам понадобится ключ `api_key` для сервисного аккаунта, имеющего права на доступ к модели, и `folder_id`. Мы предполагаем, что соответствующие значения хранятся в секретах Datasphere.\n",
    "\n",
    "Создадим модель последней версии YandexGPT 5 и убедимся, что она кое-что знает про вина:"
   ]
  },
  {
   "cell_type": "code",
   "execution_count": 2,
   "metadata": {
    "execution": {
     "iopub.execute_input": "2025-03-31T12:51:36.644362Z",
     "iopub.status.busy": "2025-03-31T12:51:36.642780Z",
     "iopub.status.idle": "2025-03-31T12:51:37.285172Z",
     "shell.execute_reply": "2025-03-31T12:51:37.284184Z",
     "shell.execute_reply.started": "2025-03-31T12:51:36.644315Z"
    },
    "tags": []
   },
   "outputs": [],
   "source": [
    "import os \n",
    "from yandex_cloud_ml_sdk import YCloudML\n",
    "\n",
    "folder_id = os.environ['folder_id']\n",
    "api_key = os.environ['api_key']\n",
    "\n",
    "\n",
    "sdk = YCloudML(folder_id=folder_id,auth=api_key)\n",
    "model = sdk.models.completions(\"yandexgpt\",model_version='rc')"
   ]
  },
  {
   "cell_type": "code",
   "execution_count": 8,
   "metadata": {
    "execution": {
     "iopub.execute_input": "2025-03-31T11:29:27.660416Z",
     "iopub.status.busy": "2025-03-31T11:29:27.658701Z",
     "iopub.status.idle": "2025-03-31T11:29:31.975783Z",
     "shell.execute_reply": "2025-03-31T11:29:31.974647Z",
     "shell.execute_reply.started": "2025-03-31T11:29:27.660359Z"
    },
    "tags": []
   },
   "outputs": [
    {
     "data": {
      "text/plain": [
       "'Выбор вина к устрицам зависит от ваших личных предпочтений и вида устриц. Вот несколько популярных вариантов:\\n\\n1. **Шардоне** — особенно из прохладных климатических зон, таких как Шабли во Франции или некоторые регионы Новой Зеландии. Эти вина обычно имеют яркую кислотность и ноты цитрусовых фруктов, которые хорошо сочетаются с солоноватостью и текстурой устриц.\\n\\n2. **Совиньон Блан** — особенно из регионов, таких как Марльборо в Новой Зеландии или Пойяк во Франции. Совиньон Блан обладает яркой кислотностью и свежими фруктовыми нотами, которые могут подчеркнуть вкус устриц.\\n\\n3. **Мюскаде** — белое вино из региона Луары во Франции, которое часто рекомендуют к устрицам. Оно обладает лёгким, свежим вкусом с нотами зелёного яблока и цитрусовых.\\n\\n4. **Альбариньо** — белое вино из региона Риас Байшас в Испании. Оно известно своей свежестью, высокой кислотностью и нотами экзотических фруктов, которые могут хорошо сочетаться с устрицами.\\n\\n5. **Шампанское и другие игристые вина** — их свежесть и пузырьки могут создать интересное сочетание с устрицами. Игристые вина с более выраженными нотами цитрусовых и миндаля могут быть особенно удачными.\\n\\nВажно помнить, что выбор вина зависит от ваших личных предпочтений, а также от способа подачи устриц — с лимоном, уксусом, луком или другими добавками. Рекомендуется пробовать разные сочетания, чтобы найти то, которое вам больше всего нравится.'"
      ]
     },
     "execution_count": 8,
     "metadata": {},
     "output_type": "execute_result"
    }
   ],
   "source": [
    "model.run(\"Какое вино можно пить с устрицами?\").text"
   ]
  },
  {
   "cell_type": "markdown",
   "metadata": {},
   "source": [
    "## Assistant API\n",
    "\n",
    "Для ведения беседы с моделью с сохранением контекста диалога используем Assistants API. Объект `thread` будет отвечать за сохранение контекста, а `assistant` - за все основные установки, связанные с работой ассистента."
   ]
  },
  {
   "cell_type": "code",
   "execution_count": 102,
   "metadata": {
    "execution": {
     "iopub.execute_input": "2025-03-31T18:48:46.773276Z",
     "iopub.status.busy": "2025-03-31T18:48:46.771933Z",
     "iopub.status.idle": "2025-03-31T18:48:46.787343Z",
     "shell.execute_reply": "2025-03-31T18:48:46.786413Z",
     "shell.execute_reply.started": "2025-03-31T18:48:46.773222Z"
    },
    "tags": []
   },
   "outputs": [],
   "source": [
    "def create_thread():\n",
    "    return sdk.threads.create(ttl_days=1, expiration_policy=\"static\")\n",
    "\n",
    "def create_assistant(model,tools=None):\n",
    "    if tools:\n",
    "        return sdk.assistants.create(model, ttl_days=1, expiration_policy=\"since_last_active\",tools=tools)\n",
    "    else:\n",
    "        return sdk.assistants.create(model, ttl_days=1, expiration_policy=\"since_last_active\")"
   ]
  },
  {
   "cell_type": "code",
   "execution_count": 10,
   "metadata": {
    "execution": {
     "iopub.execute_input": "2025-03-31T11:29:45.104566Z",
     "iopub.status.busy": "2025-03-31T11:29:45.103289Z",
     "iopub.status.idle": "2025-03-31T11:29:49.638741Z",
     "shell.execute_reply": "2025-03-31T11:29:49.637737Z",
     "shell.execute_reply.started": "2025-03-31T11:29:45.104518Z"
    },
    "tags": []
   },
   "outputs": [
    {
     "name": "stdout",
     "output_type": "stream",
     "text": [
      "Здравствуйте! Чтобы подобрать наиболее подходящий вариант, мне нужно знать некоторые детали:\n",
      "\n",
      "1. Какой тип вина вы предпочитаете: красное, белое, розовое, игристое?\n",
      "2. Какой стиль вина вам нравится: лёгкое и свежее или более насыщенное и крепкое?\n",
      "3. Есть ли у вас предпочтения по цене или бюджету на покупку вина?\n",
      "4. С какими блюдами вы планируете сочетать вино?\n",
      "5. Есть ли у вас опыт с винами определённых стран или регионов, которые вам особенно понравились?\n",
      "\n",
      "Чем больше информации вы предоставите, тем точнее я смогу подобрать рекомендации для вас.\n"
     ]
    }
   ],
   "source": [
    "thread = create_thread()\n",
    "assistant =  create_assistant(model)\n",
    "\n",
    "assistant.update(instruction=\"Ты - опытный сомелье, задача которого - консультировать пользователя в вопросах выбора вина.\")\n",
    "\n",
    "thread.write(\"Привет! Какое вино посоветуете?\")\n",
    "\n",
    "run = assistant.run(thread)\n",
    "result = run.wait()\n",
    "\n",
    "print(result.text)"
   ]
  },
  {
   "cell_type": "code",
   "execution_count": 11,
   "metadata": {
    "execution": {
     "iopub.execute_input": "2025-03-31T11:29:53.314387Z",
     "iopub.status.busy": "2025-03-31T11:29:53.313010Z",
     "iopub.status.idle": "2025-03-31T11:29:57.514937Z",
     "shell.execute_reply": "2025-03-31T11:29:57.513896Z",
     "shell.execute_reply.started": "2025-03-31T11:29:53.314326Z"
    },
    "tags": []
   },
   "outputs": [
    {
     "name": "stdout",
     "output_type": "stream",
     "text": [
      "Для стейка я могу порекомендовать несколько вариантов вин:\n",
      "\n",
      "* **Красное вино с насыщенным вкусом и танинностью.** Например, каберне совиньон, мерло или шираз. Эти сорта хорошо сочетаются с мясом благодаря своей структуре и способности подчёркивать вкус стейка.\n",
      "* **Вина из сортов темпранильо или монтепульчано.** Они обладают хорошей кислотностью и умеренной танинностью, что делает их отличным дополнением к стейку.\n",
      "* **Бордо или другие вина из региона Бордо.** Они известны своим сложным вкусом и способностью сочетаться с различными блюдами, включая стейки.\n",
      "\n",
      "Если у вас есть предпочтения по цене или вы хотите узнать о винах из определённых регионов, пожалуйста, сообщите мне, и я смогу дать более конкретные рекомендации.\n"
     ]
    }
   ],
   "source": [
    "thread.write(\"Я буду есть стейк!\")\n",
    "\n",
    "run = assistant.run(thread)\n",
    "result = run.wait()\n",
    "\n",
    "print(result.text)"
   ]
  },
  {
   "cell_type": "code",
   "execution_count": 12,
   "metadata": {
    "execution": {
     "iopub.execute_input": "2025-03-31T11:38:00.488987Z",
     "iopub.status.busy": "2025-03-31T11:38:00.487463Z",
     "iopub.status.idle": "2025-03-31T11:38:01.162002Z",
     "shell.execute_reply": "2025-03-31T11:38:01.160915Z",
     "shell.execute_reply.started": "2025-03-31T11:38:00.488931Z"
    },
    "tags": []
   },
   "outputs": [],
   "source": [
    "thread.delete()\n",
    "assistant.delete()"
   ]
  },
  {
   "cell_type": "markdown",
   "metadata": {},
   "source": [
    "## Добавляем RAG\n",
    "\n",
    "Для RAG будем использовать текстовую базу знаний по винам и винным регионам, которая хранится в виде множества файлов в директориях `source/wines` и `source/regions`. Пройдёмся по этим файлам и посмотрим на их длину в токенах."
   ]
  },
  {
   "cell_type": "code",
   "execution_count": 5,
   "metadata": {
    "execution": {
     "iopub.execute_input": "2025-03-31T12:53:03.883744Z",
     "iopub.status.busy": "2025-03-31T12:53:03.882273Z",
     "iopub.status.idle": "2025-03-31T12:53:09.189019Z",
     "shell.execute_reply": "2025-03-31T12:53:09.187966Z",
     "shell.execute_reply.started": "2025-03-31T12:53:03.883687Z"
    },
    "tags": []
   },
   "outputs": [
    {
     "data": {
      "text/html": [
       "<div>\n",
       "<style scoped>\n",
       "    .dataframe tbody tr th:only-of-type {\n",
       "        vertical-align: middle;\n",
       "    }\n",
       "\n",
       "    .dataframe tbody tr th {\n",
       "        vertical-align: top;\n",
       "    }\n",
       "\n",
       "    .dataframe thead th {\n",
       "        text-align: right;\n",
       "    }\n",
       "</style>\n",
       "<table border=\"1\" class=\"dataframe\">\n",
       "  <thead>\n",
       "    <tr style=\"text-align: right;\">\n",
       "      <th></th>\n",
       "      <th>File</th>\n",
       "      <th>Tokens</th>\n",
       "      <th>Chars</th>\n",
       "      <th>Category</th>\n",
       "    </tr>\n",
       "  </thead>\n",
       "  <tbody>\n",
       "    <tr>\n",
       "      <th>0</th>\n",
       "      <td>source/regions/Абруццо.md</td>\n",
       "      <td>499</td>\n",
       "      <td>2022</td>\n",
       "      <td>regions</td>\n",
       "    </tr>\n",
       "    <tr>\n",
       "      <th>1</th>\n",
       "      <td>source/regions/Азорские острова.md</td>\n",
       "      <td>409</td>\n",
       "      <td>1809</td>\n",
       "      <td>regions</td>\n",
       "    </tr>\n",
       "    <tr>\n",
       "      <th>2</th>\n",
       "      <td>source/regions/Аконкагуа.md</td>\n",
       "      <td>278</td>\n",
       "      <td>1182</td>\n",
       "      <td>regions</td>\n",
       "    </tr>\n",
       "    <tr>\n",
       "      <th>3</th>\n",
       "      <td>source/regions/Алентежу.md</td>\n",
       "      <td>320</td>\n",
       "      <td>1216</td>\n",
       "      <td>regions</td>\n",
       "    </tr>\n",
       "    <tr>\n",
       "      <th>4</th>\n",
       "      <td>source/regions/Апулия.md</td>\n",
       "      <td>489</td>\n",
       "      <td>1918</td>\n",
       "      <td>regions</td>\n",
       "    </tr>\n",
       "    <tr>\n",
       "      <th>...</th>\n",
       "      <td>...</td>\n",
       "      <td>...</td>\n",
       "      <td>...</td>\n",
       "      <td>...</td>\n",
       "    </tr>\n",
       "    <tr>\n",
       "      <th>125</th>\n",
       "      <td>source/wines/Совиньон блан.md</td>\n",
       "      <td>634</td>\n",
       "      <td>2578</td>\n",
       "      <td>wines</td>\n",
       "    </tr>\n",
       "    <tr>\n",
       "      <th>126</th>\n",
       "      <td>source/wines/Темпранильо.md</td>\n",
       "      <td>637</td>\n",
       "      <td>2323</td>\n",
       "      <td>wines</td>\n",
       "    </tr>\n",
       "    <tr>\n",
       "      <th>127</th>\n",
       "      <td>source/wines/Цвайгельт.md</td>\n",
       "      <td>663</td>\n",
       "      <td>2620</td>\n",
       "      <td>wines</td>\n",
       "    </tr>\n",
       "    <tr>\n",
       "      <th>128</th>\n",
       "      <td>source/wines/Шардоне.md</td>\n",
       "      <td>567</td>\n",
       "      <td>2407</td>\n",
       "      <td>wines</td>\n",
       "    </tr>\n",
       "    <tr>\n",
       "      <th>129</th>\n",
       "      <td>source/wines/Шенен блан.md</td>\n",
       "      <td>614</td>\n",
       "      <td>2606</td>\n",
       "      <td>wines</td>\n",
       "    </tr>\n",
       "  </tbody>\n",
       "</table>\n",
       "<p>130 rows × 4 columns</p>\n",
       "</div>"
      ],
      "text/plain": [
       "                                   File  Tokens  Chars Category\n",
       "0             source/regions/Абруццо.md     499   2022  regions\n",
       "1    source/regions/Азорские острова.md     409   1809  regions\n",
       "2           source/regions/Аконкагуа.md     278   1182  regions\n",
       "3            source/regions/Алентежу.md     320   1216  regions\n",
       "4              source/regions/Апулия.md     489   1918  regions\n",
       "..                                  ...     ...    ...      ...\n",
       "125       source/wines/Совиньон блан.md     634   2578    wines\n",
       "126         source/wines/Темпранильо.md     637   2323    wines\n",
       "127           source/wines/Цвайгельт.md     663   2620    wines\n",
       "128             source/wines/Шардоне.md     567   2407    wines\n",
       "129          source/wines/Шенен блан.md     614   2606    wines\n",
       "\n",
       "[130 rows x 4 columns]"
      ]
     },
     "execution_count": 5,
     "metadata": {},
     "output_type": "execute_result"
    }
   ],
   "source": [
    "from glob import glob\n",
    "from tqdm.auto import tqdm\n",
    "import pandas as pd\n",
    "\n",
    "def get_token_count(filename):\n",
    "    with open(filename,'r',encoding='utf8') as f:\n",
    "        return len(model.tokenize(f.read()))\n",
    "\n",
    "def get_file_len(filename):\n",
    "    with open(filename,encoding='utf-8') as f:\n",
    "        l = len(f.read())\n",
    "    return l\n",
    "    \n",
    "d = [\n",
    "        {\n",
    "            \"File\" : fn,\n",
    "            \"Tokens\" : get_token_count(fn),\n",
    "            \"Chars\" : get_file_len(fn),\n",
    "            \"Category\" : fn.split('/')[1]\n",
    "        } \n",
    "    for fn in glob('source/*/*.md')\n",
    "    if fn.count('/') == 2\n",
    "]\n",
    "\n",
    "df = pd.DataFrame(d)\n",
    "df"
   ]
  },
  {
   "cell_type": "markdown",
   "metadata": {},
   "source": [
    "Посмотрим на среднюю, мин и макс длину фрагментов:"
   ]
  },
  {
   "cell_type": "code",
   "execution_count": 14,
   "metadata": {
    "execution": {
     "iopub.execute_input": "2025-03-31T11:38:38.659528Z",
     "iopub.status.busy": "2025-03-31T11:38:38.657979Z",
     "iopub.status.idle": "2025-03-31T11:38:38.716616Z",
     "shell.execute_reply": "2025-03-31T11:38:38.715688Z",
     "shell.execute_reply.started": "2025-03-31T11:38:38.659474Z"
    },
    "tags": []
   },
   "outputs": [
    {
     "data": {
      "text/html": [
       "<div>\n",
       "<style scoped>\n",
       "    .dataframe tbody tr th:only-of-type {\n",
       "        vertical-align: middle;\n",
       "    }\n",
       "\n",
       "    .dataframe tbody tr th {\n",
       "        vertical-align: top;\n",
       "    }\n",
       "\n",
       "    .dataframe thead tr th {\n",
       "        text-align: left;\n",
       "    }\n",
       "\n",
       "    .dataframe thead tr:last-of-type th {\n",
       "        text-align: right;\n",
       "    }\n",
       "</style>\n",
       "<table border=\"1\" class=\"dataframe\">\n",
       "  <thead>\n",
       "    <tr>\n",
       "      <th></th>\n",
       "      <th colspan=\"3\" halign=\"left\">Tokens</th>\n",
       "    </tr>\n",
       "    <tr>\n",
       "      <th></th>\n",
       "      <th>min</th>\n",
       "      <th>mean</th>\n",
       "      <th>max</th>\n",
       "    </tr>\n",
       "    <tr>\n",
       "      <th>Category</th>\n",
       "      <th></th>\n",
       "      <th></th>\n",
       "      <th></th>\n",
       "    </tr>\n",
       "  </thead>\n",
       "  <tbody>\n",
       "    <tr>\n",
       "      <th>regions</th>\n",
       "      <td>153</td>\n",
       "      <td>423.340000</td>\n",
       "      <td>683</td>\n",
       "    </tr>\n",
       "    <tr>\n",
       "      <th>wines</th>\n",
       "      <td>264</td>\n",
       "      <td>551.366667</td>\n",
       "      <td>664</td>\n",
       "    </tr>\n",
       "  </tbody>\n",
       "</table>\n",
       "</div>"
      ],
      "text/plain": [
       "         Tokens                 \n",
       "            min        mean  max\n",
       "Category                        \n",
       "regions     153  423.340000  683\n",
       "wines       264  551.366667  664"
      ]
     },
     "execution_count": 14,
     "metadata": {},
     "output_type": "execute_result"
    }
   ],
   "source": [
    "df.groupby('Category').agg({ 'Tokens' : ('min','mean','max') })"
   ]
  },
  {
   "cell_type": "markdown",
   "metadata": {},
   "source": [
    "Мы видим, что фрагменты не превышают 700 токенов, и это значит, что нам не придётся прибегать к какой-либо стратегии чанкования. Это идеальная ситуация, когда текстовая база знаний разбита вручную на небольшие фрагменты текста.\n",
    "\n",
    "## Загружаем файлы в облако\n",
    "\n",
    "Чтобы RAG мог осущетвлять поиск по фрагментам файлов, нам необходимо построить индекс, а перед этим - загрузить все файлы в облако."
   ]
  },
  {
   "cell_type": "code",
   "execution_count": 6,
   "metadata": {
    "execution": {
     "iopub.execute_input": "2025-03-31T12:53:09.191969Z",
     "iopub.status.busy": "2025-03-31T12:53:09.191156Z",
     "iopub.status.idle": "2025-03-31T12:53:20.722198Z",
     "shell.execute_reply": "2025-03-31T12:53:20.721123Z",
     "shell.execute_reply.started": "2025-03-31T12:53:09.191921Z"
    },
    "tags": []
   },
   "outputs": [],
   "source": [
    "def upload_file(filename):\n",
    "    return sdk.files.upload(filename,ttl_days=5,expiration_policy=\"static\")\n",
    "\n",
    "df[\"Uploaded\"] = df['File'].apply(upload_file)"
   ]
  },
  {
   "cell_type": "markdown",
   "metadata": {},
   "source": [
    "## Строим индекс\n",
    "\n",
    "Для индексации файлов можно применять следующие стратегии:\n",
    "* Поиск по эмбеддингам (векторный поиск) - по всем фрагментам текста вычисляются эмбеддинги, и в процессе поиска осуществляется векторный поиск между эмбеддингом запроса и эмбеддингом фрагмента. Это позволяет осуществлять семантический поиск\n",
    "* Поиск по ключевым словам\n",
    "* Гибридный поиск, в котором различными способами объединяются результаты поиска по ключевым словам и вектороного поиска.\n",
    "\n",
    "Также в процессе создания индекса мы указываем **стратегию чанкования** текстов, но в нашем случае она не будет применяться.\n",
    "\n",
    "> Поскольку есть ограничение на 100 добавляемых в индекс файлов, то будем добавлять фрагменты по винам и по регионам по-очереди."
   ]
  },
  {
   "cell_type": "code",
   "execution_count": 7,
   "metadata": {
    "execution": {
     "iopub.execute_input": "2025-03-31T12:53:20.725222Z",
     "iopub.status.busy": "2025-03-31T12:53:20.724036Z",
     "iopub.status.idle": "2025-03-31T12:53:31.526249Z",
     "shell.execute_reply": "2025-03-31T12:53:31.525095Z",
     "shell.execute_reply.started": "2025-03-31T12:53:20.725182Z"
    },
    "tags": []
   },
   "outputs": [],
   "source": [
    "from yandex_cloud_ml_sdk.search_indexes import (\n",
    "    StaticIndexChunkingStrategy,\n",
    "    HybridSearchIndexType,\n",
    "    ReciprocalRankFusionIndexCombinationStrategy)\n",
    "\n",
    "op = sdk.search_indexes.create_deferred(\n",
    "    df[df[\"Category\"]==\"wines\"][\"Uploaded\"],\n",
    "    index_type = HybridSearchIndexType(\n",
    "        chunking_strategy=StaticIndexChunkingStrategy(\n",
    "            max_chunk_size_tokens = 1000,\n",
    "            chunk_overlap_tokens = 100),\n",
    "        combination_strategy=ReciprocalRankFusionIndexCombinationStrategy()))\n",
    "index = op.wait()"
   ]
  },
  {
   "cell_type": "code",
   "execution_count": 8,
   "metadata": {
    "execution": {
     "iopub.execute_input": "2025-03-31T12:53:31.529009Z",
     "iopub.status.busy": "2025-03-31T12:53:31.527429Z",
     "iopub.status.idle": "2025-03-31T12:53:42.021681Z",
     "shell.execute_reply": "2025-03-31T12:53:42.020632Z",
     "shell.execute_reply.started": "2025-03-31T12:53:31.528946Z"
    },
    "tags": []
   },
   "outputs": [],
   "source": [
    "op = index.add_files_deferred(df[df[\"Category\"]==\"regions\"][\"Uploaded\"])\n",
    "xfiles = op.wait()"
   ]
  },
  {
   "cell_type": "markdown",
   "metadata": {},
   "source": [
    "## Собираем RAG-ассистента\n",
    "\n",
    "Теперь собираем собственно ассистента, который будет использовать RAG. Для этого определяем **инструмент** (tool) для поиска в нашем индексе, и указываем его при создании ассистента. Также важно задать хорошую инструкцию для ассистента (системный промпт): "
   ]
  },
  {
   "cell_type": "code",
   "execution_count": 9,
   "metadata": {
    "execution": {
     "iopub.execute_input": "2025-03-31T12:53:42.025525Z",
     "iopub.status.busy": "2025-03-31T12:53:42.024336Z",
     "iopub.status.idle": "2025-03-31T12:53:42.877062Z",
     "shell.execute_reply": "2025-03-31T12:53:42.876079Z",
     "shell.execute_reply.started": "2025-03-31T12:53:42.025473Z"
    },
    "tags": []
   },
   "outputs": [],
   "source": [
    "search_tool = sdk.tools.search_index(index)\n",
    "\n",
    "assistant = create_assistant(model, tools=[search_tool])\n",
    "thread = create_thread()\n",
    "\n",
    "instruction=\"\"\"\n",
    "Ты - опытный сомелье, в задачу которого входит отвечать на вопросы пользователя про вина\n",
    "и рекомендовать лучшие вина к еде. Посмотри на всю имеющуюся в твоем распоряжении информацию\n",
    "и выдай одну или несколько лучших рекомендаций. Если что-то непонятно, то лучше уточни информацию\n",
    "у пользователя.\n",
    "\"\"\"\n",
    "\n",
    "_ = assistant.update(instruction=instruction)"
   ]
  },
  {
   "cell_type": "code",
   "execution_count": 10,
   "metadata": {
    "execution": {
     "iopub.execute_input": "2025-03-31T12:53:42.879512Z",
     "iopub.status.busy": "2025-03-31T12:53:42.878296Z",
     "iopub.status.idle": "2025-03-31T12:53:48.089610Z",
     "shell.execute_reply": "2025-03-31T12:53:48.088682Z",
     "shell.execute_reply.started": "2025-03-31T12:53:42.879470Z"
    },
    "tags": []
   },
   "outputs": [
    {
     "name": "stdout",
     "output_type": "stream",
     "text": [
      "К стейку подойдут следующие вина:\n",
      "\n",
      "1. **Из региона Франшхук (ЮАР):** красные сорта, такие как каберне совиньон, шираз и мерло, а также пинотаж.\n",
      "2. **Из региона Сицилия (Италия):** черасуоло ди виттория (Cerasuolo di Vittoria).\n",
      "3. **Из региона Орегон (США):** пино нуар.\n",
      "4. **Сира (шираз):** особенно хорошо дополняет блюда из красного мяса, например, стейки. Вина из сорта сира, произведённые в прохладной Франции, обладают землистым, травяным характером, а шираз из Австралии более фруктовый, с нотами ягод и специй.\n"
     ]
    }
   ],
   "source": [
    "thread.write(\"Какое вино подходит к стейку?\")\n",
    "run = assistant.run(thread)\n",
    "\n",
    "result = run.wait()\n",
    "print(result.text)"
   ]
  },
  {
   "cell_type": "markdown",
   "metadata": {},
   "source": [
    "Посмотрим, из каких источников был получен этот ответ:"
   ]
  },
  {
   "cell_type": "code",
   "execution_count": 11,
   "metadata": {
    "execution": {
     "iopub.execute_input": "2025-03-31T12:53:48.091330Z",
     "iopub.status.busy": "2025-03-31T12:53:48.090715Z",
     "iopub.status.idle": "2025-03-31T12:53:48.106968Z",
     "shell.execute_reply": "2025-03-31T12:53:48.106065Z",
     "shell.execute_reply.started": "2025-03-31T12:53:48.091265Z"
    },
    "tags": []
   },
   "outputs": [
    {
     "name": "stdout",
     "output_type": "stream",
     "text": [
      "------------------------\n",
      "## Сицилия \n",
      "\n",
      "Сицилия\n",
      "Сицилия — регион на юге Италии. В его состав входит одноименный и самый большой в Средиземном море остров и несколько более мелких островов рядом с ним. На восточном побережье Сицилии возвышается Этна — самый высокий действующий вулкан в Европе. Помимо итальянского в регионе говорят на сицилийском языке. Административный центр Сицилии — Палермо. Это самый южный из винодельческих регионов Италии. Здесь около 120 тысяч га виноградников. С начала нулевых на Сицилии бурно развивается производство вулканических вин. Их производят из винограда, выросшего у подножия Этны. Пепел самого высокого действующего вулкана Европы богат микроэлементами, поэтому местные почвы очень плодородны. И, главное, в таких условиях нет шанса у филлоксеры. К наиболее значимым местным сортам относят красный неро д'авола. Также на Сицилии популярны красные гренаш, перриконе и ночера. Из белых стоит отметить катаратто — его смешивают с сортами грилло и инзолия и производят легендарное крепленое вино марсала. Также популярные былые греканико, александрийский мускат и типичный итальянский треббьяно. Король вулканических красных сортов — нерелло маскалезе с ароматами спелой вишни, пряностей, табака и трав. У подножия Этны успешно выращивают белый автохтонный сорт карриканте. Он обладает спокойной минеральностью, цитрусово-травянистым тонами и вкусом, который ассоциируют с чистым воздухом гор. Легендарная сицилийская крепленая марсала — нежная, яркая и фруктовая. По популярности с ней сопоставим разве что москато ди пантеллерия (Moscato di Pantelleria) из александрийского муската. Из красных вин особого внимания заслуживает черасуоло ди виттория (Cerasuolo di Vittoria) — сицилийское вино наивысшего качества (DOCG). Ну и, конечно, легендарные вулканические вина. Сорт нерелло маскалезе отдает вину высокие танины, кислотность, ягодные ноты и минеральные оттенки. Хрустящие вина из белого карриканте выделяются свежестью, минеральностью, лёгкой солоноватостью. В их аромате слышны яблоки, цитрусы, анис. Крепленая марсала прекрасна в любом виде: сладкая подходит на роль аперитива, полусухая играет с фруктовыми салатами или сицилийскими канноли, а сухая — с теплым мясным салатом или супом. Сладкие сицилийские мускаты отлично подойдут в пару к козьим сырам и пирогам типа нежного киша с сыром. Красное черасуоло ди виттория гармонирует с тушеной говядиной, жареной курицей или мясом на вертеле. И, пожалуй, все вина стоит попробовать в сочетании с местными сырными шариками аранчини с разными начинками. Идеальной парой для белого вина из вулканического винограда карриканте станут креветки, равиоли с травами или ризотто.\n",
      "------------------------\n",
      "## Франшхук \n",
      "\n",
      "Франшхук\n",
      "Франшхук — крупная винодельческая провинция Южной Африки. Территориально относится к региону Стелленбош, расположена в 75 км от Кейптауна — столицы ЮАР. Деревню основали беглые французы в 1688 году. Получив земельные наделы, они разбили виноградники и наладили производство напитков. Сегодня Франшхук называют винной столицей ЮАР. На карте провинции можно насчитать 11 крупных винодельческих хозяйств. Деревня Франшхук известна необычным терруаром: она расположена в продолговатой долине и с трех сторон окружена высокими горами, которые защищают виноградники от ветра, излишней влаги зимой и палящего солнца летом. При этом четвертая сторона долины открыта для ветров Атлантики. Климат здесь умеренный, а температура воздуха ниже, чем в соседних областях. Виноград созревает медленнее, чем на открытой африканской местности, что делает вино более свежим и кислотным. В Франшхуке наиболее распространены известные европейские сорта, завезенные французами в XVII веке. Здесь выращивают белые шенен блан, семильон, совиньон блан и шардоне. Среди красных популярны каберне совиньон, шираз и мерло. Значительная часть плантаций занята под пинотаж — автохтонный сорт, ставший визитной карточкой страны. Линейка традиционных вин из европейских сортов в ЮАР открывается совершенно по-новому. Сухие гранитные почвы придают напиткам явную минеральность. Белые вина приобретают золотистый оттенок и аромат южных фруктов, красные — насыщенный цвет и аромат. Оттенок может варьироваться от ярко-рубинового до глубокого фиолетового. Их часто сравнивают с бургундскими напитками. С 1992 года в долине Франшхук производят игристые вина премиального качества из шардоне и пино нуар по классическому методу. Белые вина Франшхука — прекрасный аперитив. Они подходят к легким сырам, закускам из гусиного паштета и курицы. Среди горячих блюд стоит выбрать индейку, запеченную белую рыбу с овощным гарниром или рагу. Красные южноафриканские сорта хорошо гармонируют с перчеными стейками из говядины и баранины, а также твердыми, выдержанными сырами. Пинотаж при этом считается универсальным вином. Ему подходят разнообразные блюда от изысканного филе миньон до лазаньи и пиццы с морепродуктами.\n",
      "------------------------\n",
      "## Сур \n",
      "\n",
      "Сур\n",
      "Сур — винодельческий субрегион в Чили, один из самых южных в стране. В его границах выделяют долины Итата, Био-Био, Маллеко. Чилийские вина олицетворяют стиль Нового Света, для них характерен мягкий фруктовый вкус. По одной из версий, первые лозы в Чили завезли с территории Перу в XVI веке. Виноделием занимались христианские миссионеры, выращивали преимущественно красный сорт мишн, белые делали из москателя. До середины XIX века здесь были популярны сладкие вина. В долине Итата первые лозы высадили в середине XVI века после создания порта Консепсьон. Почвы здесь с хорошим дренажем, климат средиземноморский с продолжительным сухим сезоном. В Био-Био и Маллеко прохладно из-за воздушных потоков с океана. Виноград успевает вызревать благодаря большому количеству теплых дней. В Суре выращивают совиньон блан, шардоне, рислинг, вионье, гевюрцтраминер, мускат. Сур известен столовыми винами. Климат в регионе умеренный, близкий к погодным условиям Франции, поэтому местные виноделы стали выпускать и более элегантные напитки. Условия в долинах Био-Био и Итата отлично подходят для культивирования шардоне, совиньон блан, рислинга, из которых делают белые вина. Здесь хорошо растет пино нуар, из него получают красные вина. Розовые вина из долины Итата хороши со свежими фруктами, десертами, сырами, ветчиной; белые сладкие — с десертами, фруктами. Белое полусухое из Био-Био составит отличную пару с блюдами индийской и азиатской кухонь, курице, овощам. Красное сухое из Маллеко сочетается с запеченными овощами, свининой, стейком на гриле.\n",
      "------------------------\n",
      "## Орегон \n",
      "\n",
      "Орегон\n",
      "Орегон — четвертый по объемам производства вина штат в США. Самый популярный сорт винограда, который выращивают здесь, — пино нуар. Вина из этого сорта отличает высокая кислотность и низкая танинность. Выращивать виноград в Орегоне начали еще в 1840-х, но датой зарождения серьезного виноделия называют 1961 год, когда любители бургундского пино нуар Ричард Соммер и Дэвид Летт решили производить похожее вино в Америке. Для этого был выбран Орегон — прохладный климат и разнообразие почв позволили добиться успеха. Уже в 1979 пино нуар из Орегона вошло в десятку вин в бургундском стиле на французской винной Олимпиаде. Его отличают более яркие ноты фруктов и более низкая кислотность. Прохладный климат Орегона хорошо подходит для выращивания таких сортов винограда, как рислинг, шардоне и гаме, но визитной карточкой штата считается пино нуар, который растет в долине Уилламетт. Менее популярны мерло, каберне совиньон, зинфандель. В Орегоне производят сухие, полусухие, а также игристые и десертные вина. Пино нуар из Орегона будет хорошо сочетаться со стейком из лосося, запеченной птицей и красным мясом, например, говядиной по-бургундски.\n",
      "------------------------\n",
      "## Сира \n",
      "\n",
      "Сира\n",
      "Сирa — сорт красного винного винограда родом из долины Роны во Франции (фр. Syrah). В 1832 году был завезен в Австралию, где стал флагманским сортом красного винограда и сменил имя на шираз. Сегодня производители вин из Франции, Италии, Испании предпочитают маркировку сира, а австралийские и африканские — шираз. Исследования ДНК 1998 года, проведенные в Калифорнийском университете, доказали, что сира появился на территории современного региона Овернь-Рона-Альпы от двух второстепенных локальных сортов — дурез и мондез бланш. Однако возраст винограда установить не удалось. Из сорта сира производят купажированные и сепажные красные вина насыщенных оттенков: от темно-рубинового до фиолетового. Плюс розовые легкие (до 12% крепости) в ассамбляже с белыми сортами. Хотя технически сира и шираз — один и тот же сорт, крепость и вкус вина зависят от терруара. Вина прохладной Франции содержат 13–14% алкоголя, обладают землистым, травяным флером, нотами дыма, перца и фиалки. Шираз из засушливой Австралии более крепкий (до 16%) и фруктовый, с нотами ягод и специй. Благодаря сильному характеру и щедрому содержанию танинов, сира и шираз особенно хорошо дополняют выдержанные сыры, сыровяленые колбасные деликатесы, блюда из красного мяса и дичи: бараньи или свиные ребрышки, мясной рулет из телятины, ростбиф в хрустящем фило. В вегетарианское меню можно внести грибы на гриле, баклажаны Пармиджано и пикантные тако с черной фасолью. А вот нежных молодых сыров, легких овощных блюд и морепродуктов лучше избегать. По одной из легенд о происхождении, сорт сира во Францию привезли из Ирана. В Ширазе, бывшей столице Персидской империи, производили вино ширази. У сорт сира есть гибрид — маленькая или пти сира (фр. Petit Syrah), появившаяся в результате скрещивания сиры и пелурсена. Пти сира растет в Австралии, Калифорнии и Франции, а также популярна в США. Из ягод, изобилующих танинами, производят красные вина с густым чернильным вкусом. Чтобы смягчить алкогольный профиль, сиру и шираз лучше подавать слегка охлажденными — 15 минут в холодильнике будет достаточно.\n"
     ]
    }
   ],
   "source": [
    "def print_citations(result):\n",
    "    for citation in result.citations:\n",
    "        for source in citation.sources:\n",
    "            if source.type != 'filechunk':\n",
    "                continue\n",
    "            print('------------------------')\n",
    "            print(source.parts[0])\n",
    "            \n",
    "print_citations(result)"
   ]
  },
  {
   "cell_type": "code",
   "execution_count": 12,
   "metadata": {
    "execution": {
     "iopub.execute_input": "2025-03-31T12:53:48.109818Z",
     "iopub.status.busy": "2025-03-31T12:53:48.108553Z",
     "iopub.status.idle": "2025-03-31T12:53:48.233502Z",
     "shell.execute_reply": "2025-03-31T12:53:48.232395Z",
     "shell.execute_reply.started": "2025-03-31T12:53:48.109743Z"
    },
    "tags": []
   },
   "outputs": [],
   "source": [
    "thread.delete()"
   ]
  },
  {
   "cell_type": "markdown",
   "metadata": {},
   "source": [
    "Мы видим, что ответ получился несколько однобоким, поскольку данные о сочетании вин и еды содержатся в текстовой базе знаний в разрозненном виде.\n",
    "\n",
    "## Добавляем таблицу соответствий\n",
    "\n",
    "Поскольку подбор блюда к вину является частой задачей, добавим к нашей базе знаний явную табличку соответствий блюд и вин, которая находится в файле `source/food_wine_table.md` в формате markdown."
   ]
  },
  {
   "cell_type": "code",
   "execution_count": 13,
   "metadata": {
    "execution": {
     "iopub.execute_input": "2025-03-31T12:53:48.236113Z",
     "iopub.status.busy": "2025-03-31T12:53:48.234607Z",
     "iopub.status.idle": "2025-03-31T12:53:48.370664Z",
     "shell.execute_reply": "2025-03-31T12:53:48.369662Z",
     "shell.execute_reply.started": "2025-03-31T12:53:48.236071Z"
    },
    "tags": []
   },
   "outputs": [
    {
     "name": "stdout",
     "output_type": "stream",
     "text": [
      "Токенов: 12630, 3.3103721298495645 chars/token\n"
     ]
    }
   ],
   "source": [
    "with open('source/food_wine_table.md',encoding='utf-8') as f:\n",
    "    food_wine = f.readlines()\n",
    "fw = ''.join(food_wine)\n",
    "\n",
    "tokens = len(model.tokenize(fw))\n",
    "print(f\"Токенов: {tokens}, {len(fw)/tokens} chars/token\")"
   ]
  },
  {
   "cell_type": "markdown",
   "metadata": {},
   "source": [
    "Видим, что табличка большая, поэтому её придётся *чанковать*. Но при этом важно чанковать табличку так, чтобы в каждом фрагмента оставался заголовок таблицы, который определяет семантику столбцов.\n",
    "\n",
    "Отделим заголовок таблицы:"
   ]
  },
  {
   "cell_type": "code",
   "execution_count": 14,
   "metadata": {
    "execution": {
     "iopub.execute_input": "2025-03-31T12:53:48.372966Z",
     "iopub.status.busy": "2025-03-31T12:53:48.371995Z",
     "iopub.status.idle": "2025-03-31T12:53:48.401030Z",
     "shell.execute_reply": "2025-03-31T12:53:48.400008Z",
     "shell.execute_reply.started": "2025-03-31T12:53:48.372918Z"
    },
    "tags": []
   },
   "outputs": [
    {
     "data": {
      "text/plain": [
       "['Блюдо, к которому надо подобрать вино | Вино, которое подходит к этому блюду\\n',\n",
       " '--------|--------\\n']"
      ]
     },
     "execution_count": 14,
     "metadata": {},
     "output_type": "execute_result"
    }
   ],
   "source": [
    "header=food_wine[:2]\n",
    "header"
   ]
  },
  {
   "cell_type": "markdown",
   "metadata": {},
   "source": [
    "Ниже будем чанковать табличку вручную, задав размер чанка в символах для простоты. Мы будем сразу загружать получившиеся фрагменты в облако, минуя диск:"
   ]
  },
  {
   "cell_type": "code",
   "execution_count": 15,
   "metadata": {
    "execution": {
     "iopub.execute_input": "2025-03-31T12:53:48.405252Z",
     "iopub.status.busy": "2025-03-31T12:53:48.404203Z",
     "iopub.status.idle": "2025-03-31T12:53:50.243475Z",
     "shell.execute_reply": "2025-03-31T12:53:50.242282Z",
     "shell.execute_reply.started": "2025-03-31T12:53:48.405207Z"
    },
    "tags": []
   },
   "outputs": [
    {
     "name": "stdout",
     "output_type": "stream",
     "text": [
      "Uploaded 22 table chunks\n"
     ]
    }
   ],
   "source": [
    "chunk_size = 600 * 3 # approx 600 tokens * 2 char/token\n",
    "\n",
    "s = header.copy()\n",
    "uploaded_foodwine = []\n",
    "for x in food_wine[2:]:\n",
    "    s.append(x)\n",
    "    if len(''.join(s))>chunk_size:\n",
    "        id = sdk.files.upload_bytes(''.join(s).encode(),ttl_days=5,expiration_policy=\"static\")\n",
    "        uploaded_foodwine.append(id)\n",
    "        s = header.copy()\n",
    "print(f\"Uploaded {len(uploaded_foodwine)} table chunks\")"
   ]
  },
  {
   "cell_type": "markdown",
   "metadata": {},
   "source": [
    "Теперь добавим эти фрагменты в индекс:"
   ]
  },
  {
   "cell_type": "code",
   "execution_count": 16,
   "metadata": {
    "execution": {
     "iopub.execute_input": "2025-03-31T12:53:50.245225Z",
     "iopub.status.busy": "2025-03-31T12:53:50.244563Z",
     "iopub.status.idle": "2025-03-31T12:54:00.552794Z",
     "shell.execute_reply": "2025-03-31T12:54:00.551726Z",
     "shell.execute_reply.started": "2025-03-31T12:53:50.245182Z"
    },
    "tags": []
   },
   "outputs": [],
   "source": [
    "op = index.add_files_deferred(uploaded_foodwine)\n",
    "xfiles = op.wait()"
   ]
  },
  {
   "cell_type": "markdown",
   "metadata": {},
   "source": [
    "Посмотрим, стал ли ответ системы лучше:"
   ]
  },
  {
   "cell_type": "code",
   "execution_count": 26,
   "metadata": {
    "execution": {
     "iopub.execute_input": "2025-03-31T11:40:05.644060Z",
     "iopub.status.busy": "2025-03-31T11:40:05.642869Z",
     "iopub.status.idle": "2025-03-31T11:40:11.886822Z",
     "shell.execute_reply": "2025-03-31T11:40:11.885500Z",
     "shell.execute_reply.started": "2025-03-31T11:40:05.644010Z"
    },
    "tags": []
   },
   "outputs": [
    {
     "name": "stdout",
     "output_type": "stream",
     "text": [
      "Выбор вина к стейку зависит от степени его прожарки и жирности.\n",
      "\n",
      "* Для нежного мраморного стейка (например, филе-миньон) подойдут лёгкие и элегантные красные вина из винограда Пино Нуар, Нерелло Маскалезе, а также выдержанное и элегантное Мерло. Можно рассмотреть «округлые», выдержанные варианты из сортов Неббиоло (Барбареско), Темпранильо (Рибейра дель Дуэро), Санджовезе (Кьянти Ризерва).\n",
      "\n",
      "* К жирноватому стейку (например, Рибай) с прожаркой Rare рекомендуются выдержанные и «благородные» вина из Темпранильо (Рибейра дель Дуэро или любые от Ризервы и выше), Санджовезе (Кьянти Ризерва, Брунелло), «супертосканские» вина, Бордо Правого берега, шелковистые аргентинские Мальбеки.\n",
      "\n",
      "* Если стейк прожарен до Medium или WellDone, то стоит выбрать сухие и полусухие вина из винограда Сира (Шираз), Каберне Совиньон, «тельный» Мальбек, Примитиво, Зинфандель, Альянико (выдержанное и слегка «округлившееся»), выдержанный «ронский» ассамбляж Гренаш+Сира+Мурведр, вина Приората от 6–8 лет выдержки и выше.\n",
      "------------------------\n",
      "Блюдо, к которому надо подобрать вино | Вино, которое подходит к этому блюду\n",
      "--------|--------\n",
      "Солянка (первое блюдо) | Крепкие напитки: Самогоны (Полугар, Хлебное вино), Водка, Хреновуха, Перцовка. Спагетти Карбонара | Белые вина: сухие выдержанные вина из Шардоне и Вердехо. Розовые вина: среднетелые и «тельные» вина Франции, Италии, Испании, России. Красные вина:  выдержанное «округлое» Неббило, элегантные Пино Нуары, Нерелло Маскалезе. Спагетти Болоньезе | Красные вина: сухие из винограда Санджовезе, Барбера, Неро д’Авола, Негроамаро, молодые Неббило, а также международные — Каберне Совиньон, молодоватое испанское Темпранильо. Спаржа обжаренная | Белые вина: тихое сухое из сорта Шардоне, Грюнер Вельтлинер, Мюллер Тургау, Совиньон Блан легкие и не очень кислотный Рислинг, Пино Гри. Как вариант — Игристые вина: «тельное» и капельку сладковатое (брют, сухое, полусухое) белое. Стейк говяжий мраморный нежный (Филе-миньон) | Красные вина: легкие и элегантные из винограда Пино Нуар, Нерелло Маскалезе, элегантно сделанное и выдержанное Мерло. Также подойдут «округлые», выдержанные варианты из сортов Неббиоло (Барбареско), Темпранильо (Рибейра дель Дуэро), Санджовезе (Кьянти Ризерва). Стейк говяжий мраморный жирноватый (Рибай и пр.) | Красные вина: к прожарке Rare — выдержанные и «благородные» вина из Темпранильо (Рибейра дель Дуэро или любые от Ризервы и выше), Санджовезе (Кьянти Ризерва, Брунелло), «супертосканские» вина, Бордо Правого берега, шелковистые аргентинские Мальбеки. К прожарке Medium или WellDone — сухие и полусухие из винограда Сира (Шираз), Каберне Совиньон, «тельный» Мальбек, Примитиво, Зинфандель, Альянико (выдержанное и слегка «округлившееся»), выдержанный «ронский» ассамбляж Гренаш+Сира+Мурведр, вина Приората от 6-8 лет выдержки и выше. Суши, сашими | см. Роллы\n",
      "------------------------\n",
      "## Франшхук \n",
      "\n",
      "Франшхук\n",
      "Франшхук — крупная винодельческая провинция Южной Африки. Территориально относится к региону Стелленбош, расположена в 75 км от Кейптауна — столицы ЮАР. Деревню основали беглые французы в 1688 году. Получив земельные наделы, они разбили виноградники и наладили производство напитков. Сегодня Франшхук называют винной столицей ЮАР. На карте провинции можно насчитать 11 крупных винодельческих хозяйств. Деревня Франшхук известна необычным терруаром: она расположена в продолговатой долине и с трех сторон окружена высокими горами, которые защищают виноградники от ветра, излишней влаги зимой и палящего солнца летом. При этом четвертая сторона долины открыта для ветров Атлантики. Климат здесь умеренный, а температура воздуха ниже, чем в соседних областях. Виноград созревает медленнее, чем на открытой африканской местности, что делает вино более свежим и кислотным. В Франшхуке наиболее распространены известные европейские сорта, завезенные французами в XVII веке. Здесь выращивают белые шенен блан, семильон, совиньон блан и шардоне. Среди красных популярны каберне совиньон, шираз и мерло. Значительная часть плантаций занята под пинотаж — автохтонный сорт, ставший визитной карточкой страны. Линейка традиционных вин из европейских сортов в ЮАР открывается совершенно по-новому. Сухие гранитные почвы придают напиткам явную минеральность. Белые вина приобретают золотистый оттенок и аромат южных фруктов, красные — насыщенный цвет и аромат. Оттенок может варьироваться от ярко-рубинового до глубокого фиолетового. Их часто сравнивают с бургундскими напитками. С 1992 года в долине Франшхук производят игристые вина премиального качества из шардоне и пино нуар по классическому методу. Белые вина Франшхука — прекрасный аперитив. Они подходят к легким сырам, закускам из гусиного паштета и курицы. Среди горячих блюд стоит выбрать индейку, запеченную белую рыбу с овощным гарниром или рагу. Красные южноафриканские сорта хорошо гармонируют с перчеными стейками из говядины и баранины, а также твердыми, выдержанными сырами. Пинотаж при этом считается универсальным вином. Ему подходят разнообразные блюда от изысканного филе миньон до лазаньи и пиццы с морепродуктами.\n",
      "------------------------\n",
      "Блюдо, к которому надо подобрать вино | Вино, которое подходит к этому блюду\n",
      "--------|--------\n",
      "Салат Цезарь с курицей | Белые вина: сухое и полусухое из винограда Шардоне, Вердехо, Пино Гри, Шенен Блан. Также подойдут Розовые вина: тихие легкие и элегантные вина Прованса (Франция) или Северной Италии. Неплохо пойдут легкие Оранжи (особенно если курятина жарилась на мангале). Салат Цезарь с лососем | Белые вина: сухое выдержанное Шардоне, Альбариньо, Пино Гри (в стиле Альто-Адидже). Полусухие белые вина со средней интенсивностью аромата и вкуса — Семильон, Рислинг, Вердехо. Розовые вина: тихие легкие и элегантные вина Прованса (Франция) или Северной Италии. Салаты азиатские пикантные | Белые вина: сухие и полусухие из винограда Рислинг, Мускат, Гевюрцтраминер. Розовые вина: среднетелые и «тельные»  вина Франции, Италии, Испании, России. Как вариант — розовые молодые и недорогие тельные Игристые вина. К салатам с прикопченым или просто пикантным мясом — можно выбрать легкие Красные вина: Нино Нуары, Нерелло Маскалезе, выдержанное Неббиоло. Неплохо пойдут и Оранжи. Сало соленое или прикопченое | Крепкие напитки: Самогоны (Полугар, Хлебное вино), Водка, Хреновуха, Перцовка. Свинина в кисло-сладком соусе | Белые вина: Рислинг, сухой Гевюрцтраминер или аналогичный Мускат\n",
      "Свинина постная, медальоны | Белые вина: тихое сухое выдержанное Шардоне, Альбариньо, Пино Гри (в стиле Альто-Адидже). Полусухие белые вина со средней интенсивностью аромата и вкуса — Семильон, Рислинг, Вердехо. Розовые вина: тихие среднетелые и «тельные» вина Франции, Италии, Испании, России. Свинина стейк жареный с луком | Красные вина: сухие и полусухие вина из винограда Гарнача (Гренаш), Мерло, Карменер, Менсия, «тельные» Пино Нуары (со всего света), российский Красностоп, Гамэ (Божоле Виляж). Сельдь с лучком (закуска) | Крепкие напитки: Самогоны (Полугар, Хлебное вино), Водка, Хреновуха, Перцовка. Для глобальных приверженцев вина — тельный, сладковатый и мощновкусный Рислинг.\n",
      "------------------------\n",
      "## Орегон \n",
      "\n",
      "Орегон\n",
      "Орегон — четвертый по объемам производства вина штат в США. Самый популярный сорт винограда, который выращивают здесь, — пино нуар. Вина из этого сорта отличает высокая кислотность и низкая танинность. Выращивать виноград в Орегоне начали еще в 1840-х, но датой зарождения серьезного виноделия называют 1961 год, когда любители бургундского пино нуар Ричард Соммер и Дэвид Летт решили производить похожее вино в Америке. Для этого был выбран Орегон — прохладный климат и разнообразие почв позволили добиться успеха. Уже в 1979 пино нуар из Орегона вошло в десятку вин в бургундском стиле на французской винной Олимпиаде. Его отличают более яркие ноты фруктов и более низкая кислотность. Прохладный климат Орегона хорошо подходит для выращивания таких сортов винограда, как рислинг, шардоне и гаме, но визитной карточкой штата считается пино нуар, который растет в долине Уилламетт. Менее популярны мерло, каберне совиньон, зинфандель. В Орегоне производят сухие, полусухие, а также игристые и десертные вина. Пино нуар из Орегона будет хорошо сочетаться со стейком из лосося, запеченной птицей и красным мясом, например, говядиной по-бургундски.\n",
      "------------------------\n",
      "Блюдо, к которому надо подобрать вино | Вино, которое подходит к этому блюду\n",
      "--------|--------\n",
      "Рыба — стерлядь, осетр (деликатесные, прикопченые) | Русская классика — Крепкие напитки: Самогоны (Полугар, Хлебное вино), Водка, Хреновуха, Перцовка. Для любителей вина — настоятельно рекомендую Белые вина: тихие Шардоне (бургундского стиля), сухие и полусухие слегка сладковатые Рислинги невысокой кислотности, Пино Гри (из Альто Адидже), среднетелые и среднекислотные Альбариньо и Вердехо. Как вариант — Игристые вина (брюты и сухие — белые и легчайшие розовые). Рыба Тунец | В зависимости от типа приготовления (от самого нежного к зажаренному и пикантному) — Белые вина: тихие и элегантные выдержанные Шардоне и Вионье, сухие и полусухие Рислинги, Совиньон Блан из Нового Света. Розовые вина: тихие среднетелые сухие вина Франции, Италии, Испании, России. Как вариант к пикантному — Красные вина: легкие вина из Пино Нуара, Нерелло Маскалезе, Гриньолино (Италия), «округленькие» выдержанные Неббиоло и даже Гамэ (выдержанные Божоле Виляж). Подойдут также Оранжи. Салат Греческий | Белые вино: легкие, яркие сухие вина в первую очередь — из «родного» винограда Ассиртико, но отлично также подойдут Мюллер Тургау, Грюнер Вельтллинер, Вердехо, Шенен Блан, Совиньон Блан, Мелон де Бургонь (французские Мюскаде), вина из португальского региона Винью Верде. Как вариант — Игристые вино: белые и очень легкие розовые (брют-натур, экстра-брют, брют, сухое). Салат Еврейский | Белые вино: сухие выдержанные — Шардоне, Альбариньо, Пино Гри (в стиле Альто-Адидже), Семийон, полусухой сладковатый Рислинг, Вердехо. Розовые вина: тихие сухие и полусухие среднетелые вина Франции, Италии, Испании, России. Как вариант — белые и розовые молодые и недорогие тельные Игристые вина. Салат Капрезе | Белые вина: игристые (брют, сухие), тихие вина — с ярким и свежим вкусом: молодые Шардоне, Рислинги, Мюллер Тургау, Грюнер Вельтлинер, Виура, «старосветский» Совиньон Блан, Пино Гри, Фалангина и т. д. Как вариант — Розовые вина: тихие легкие и элегантные вина Прованса (Франция) или Северной Италии, в также попробуйте Игристые вина: легкие и элегантные белые и розовые.\n"
     ]
    }
   ],
   "source": [
    "thread = create_thread()\n",
    "\n",
    "thread.write(\"Какое вино подходит к стейку?\")\n",
    "run = assistant.run(thread)\n",
    "\n",
    "result = run.wait()\n",
    "print(result.text)\n",
    "print_citations(result)"
   ]
  },
  {
   "cell_type": "code",
   "execution_count": 22,
   "metadata": {
    "execution": {
     "iopub.execute_input": "2025-03-31T12:58:08.836033Z",
     "iopub.status.busy": "2025-03-31T12:58:08.834709Z",
     "iopub.status.idle": "2025-03-31T12:58:09.170395Z",
     "shell.execute_reply": "2025-03-31T12:58:09.169323Z",
     "shell.execute_reply.started": "2025-03-31T12:58:08.835977Z"
    },
    "tags": []
   },
   "outputs": [],
   "source": [
    "thread.delete()\n",
    "assistant.delete()"
   ]
  },
  {
   "cell_type": "markdown",
   "metadata": {},
   "source": [
    "## Function Calling\n",
    "\n",
    "Предположим, мы делаем ассистента для магазина вин, который торгует винами по некоторому прайс-листу. Возьмём пример такого прайс-листа:"
   ]
  },
  {
   "cell_type": "code",
   "execution_count": 17,
   "metadata": {
    "execution": {
     "iopub.execute_input": "2025-03-31T12:54:00.555111Z",
     "iopub.status.busy": "2025-03-31T12:54:00.553969Z",
     "iopub.status.idle": "2025-03-31T12:54:00.782221Z",
     "shell.execute_reply": "2025-03-31T12:54:00.781196Z",
     "shell.execute_reply.started": "2025-03-31T12:54:00.555066Z"
    },
    "tags": []
   },
   "outputs": [
    {
     "data": {
      "text/html": [
       "<div>\n",
       "<style scoped>\n",
       "    .dataframe tbody tr th:only-of-type {\n",
       "        vertical-align: middle;\n",
       "    }\n",
       "\n",
       "    .dataframe tbody tr th {\n",
       "        vertical-align: top;\n",
       "    }\n",
       "\n",
       "    .dataframe thead th {\n",
       "        text-align: right;\n",
       "    }\n",
       "</style>\n",
       "<table border=\"1\" class=\"dataframe\">\n",
       "  <thead>\n",
       "    <tr style=\"text-align: right;\">\n",
       "      <th></th>\n",
       "      <th>Номер артикула</th>\n",
       "      <th>название</th>\n",
       "      <th>CT</th>\n",
       "      <th>цена от 1 бутылки</th>\n",
       "      <th>от 3-х и более</th>\n",
       "      <th>регулярная цена/промо</th>\n",
       "    </tr>\n",
       "  </thead>\n",
       "  <tbody>\n",
       "    <tr>\n",
       "      <th>0</th>\n",
       "      <td>56885</td>\n",
       "      <td>0,75Л ВИНО САССИКАЙЯ КР СХ</td>\n",
       "      <td>IT</td>\n",
       "      <td>27799.000</td>\n",
       "      <td>19459.3000</td>\n",
       "      <td>NaN</td>\n",
       "    </tr>\n",
       "    <tr>\n",
       "      <th>1</th>\n",
       "      <td>666560</td>\n",
       "      <td>0,75ВИНО СИЕПИ МАЗЕЙ КР СХ</td>\n",
       "      <td>IT</td>\n",
       "      <td>15999.000</td>\n",
       "      <td>11199.3000</td>\n",
       "      <td>NaN</td>\n",
       "    </tr>\n",
       "    <tr>\n",
       "      <th>2</th>\n",
       "      <td>533769</td>\n",
       "      <td>0,75ВИНО ПАЛАФРЕНО КР СХ</td>\n",
       "      <td>IT</td>\n",
       "      <td>14999.004</td>\n",
       "      <td>10499.3028</td>\n",
       "      <td>NaN</td>\n",
       "    </tr>\n",
       "    <tr>\n",
       "      <th>3</th>\n",
       "      <td>93733</td>\n",
       "      <td>0,75ВИНО АНТ ТИНЬЯНЕЛЛО КР СХ</td>\n",
       "      <td>IT</td>\n",
       "      <td>14499.012</td>\n",
       "      <td>10149.3084</td>\n",
       "      <td>NaN</td>\n",
       "    </tr>\n",
       "    <tr>\n",
       "      <th>4</th>\n",
       "      <td>644863</td>\n",
       "      <td>0,75ВИНО ШАТО МОНРОЗ КР СХ</td>\n",
       "      <td>FR</td>\n",
       "      <td>12999.000</td>\n",
       "      <td>9099.3000</td>\n",
       "      <td>от промо цены</td>\n",
       "    </tr>\n",
       "    <tr>\n",
       "      <th>...</th>\n",
       "      <td>...</td>\n",
       "      <td>...</td>\n",
       "      <td>...</td>\n",
       "      <td>...</td>\n",
       "      <td>...</td>\n",
       "      <td>...</td>\n",
       "    </tr>\n",
       "    <tr>\n",
       "      <th>747</th>\n",
       "      <td>61418</td>\n",
       "      <td>0,7ВИНО КАГОР ТАМ КР СЛ</td>\n",
       "      <td>RU</td>\n",
       "      <td>179.004</td>\n",
       "      <td>125.3028</td>\n",
       "      <td>от промо цены</td>\n",
       "    </tr>\n",
       "    <tr>\n",
       "      <th>748</th>\n",
       "      <td>615581</td>\n",
       "      <td>0,187ВИНО ДЖАСТ МЕРЛО КР СХ</td>\n",
       "      <td>FR</td>\n",
       "      <td>149.004</td>\n",
       "      <td>104.3028</td>\n",
       "      <td>NaN</td>\n",
       "    </tr>\n",
       "    <tr>\n",
       "      <th>749</th>\n",
       "      <td>615582</td>\n",
       "      <td>0,187ВИНО ДЖАСТ КБСВ КР СХ</td>\n",
       "      <td>FR</td>\n",
       "      <td>149.004</td>\n",
       "      <td>104.3028</td>\n",
       "      <td>NaN</td>\n",
       "    </tr>\n",
       "    <tr>\n",
       "      <th>750</th>\n",
       "      <td>83302</td>\n",
       "      <td>0,187Л ВИНО АДАГУМ КБСВ КР СХ</td>\n",
       "      <td>RU</td>\n",
       "      <td>119.004</td>\n",
       "      <td>83.3028</td>\n",
       "      <td>NaN</td>\n",
       "    </tr>\n",
       "    <tr>\n",
       "      <th>751</th>\n",
       "      <td>482447</td>\n",
       "      <td>0,187ВИНО АВТОРСКОЕ №1 КР СХ</td>\n",
       "      <td>RU</td>\n",
       "      <td>119.000</td>\n",
       "      <td>83.3000</td>\n",
       "      <td>NaN</td>\n",
       "    </tr>\n",
       "  </tbody>\n",
       "</table>\n",
       "<p>752 rows × 6 columns</p>\n",
       "</div>"
      ],
      "text/plain": [
       "     Номер артикула   ... регулярная цена/промо \n",
       "0              56885  ...                    NaN\n",
       "1             666560  ...                    NaN\n",
       "2             533769  ...                    NaN\n",
       "3              93733  ...                    NaN\n",
       "4             644863  ...         от промо цены \n",
       "..               ...  ...                    ...\n",
       "747            61418  ...         от промо цены \n",
       "748           615581  ...                    NaN\n",
       "749           615582  ...                    NaN\n",
       "750            83302  ...                    NaN\n",
       "751           482447  ...                    NaN\n",
       "\n",
       "[752 rows x 6 columns]"
      ]
     },
     "execution_count": 17,
     "metadata": {},
     "output_type": "execute_result"
    }
   ],
   "source": [
    "pl = pd.read_excel('source/wine-price.xlsx')\n",
    "pl"
   ]
  },
  {
   "cell_type": "markdown",
   "metadata": {},
   "source": [
    "Для удобства переименуем колонки:"
   ]
  },
  {
   "cell_type": "code",
   "execution_count": 18,
   "metadata": {
    "execution": {
     "iopub.execute_input": "2025-03-31T12:54:00.784721Z",
     "iopub.status.busy": "2025-03-31T12:54:00.783422Z",
     "iopub.status.idle": "2025-03-31T12:54:00.799926Z",
     "shell.execute_reply": "2025-03-31T12:54:00.798970Z",
     "shell.execute_reply.started": "2025-03-31T12:54:00.784675Z"
    },
    "tags": []
   },
   "outputs": [],
   "source": [
    "pl.columns=['Id','Name','Country','Price','WHPrice','etc']"
   ]
  },
  {
   "cell_type": "markdown",
   "metadata": {},
   "source": [
    "Из имени извлечём кислотность вина:"
   ]
  },
  {
   "cell_type": "code",
   "execution_count": 52,
   "metadata": {
    "execution": {
     "iopub.execute_input": "2025-03-31T13:40:56.528748Z",
     "iopub.status.busy": "2025-03-31T13:40:56.527630Z",
     "iopub.status.idle": "2025-03-31T13:40:56.551291Z",
     "shell.execute_reply": "2025-03-31T13:40:56.550189Z",
     "shell.execute_reply.started": "2025-03-31T13:40:56.528704Z"
    },
    "tags": []
   },
   "outputs": [
    {
     "data": {
      "text/plain": [
       "Сухое          614\n",
       "Полусухое       68\n",
       "Полусладкое     28\n",
       "Сладкое         23\n",
       "                19\n",
       "Name: Acidity, dtype: int64"
      ]
     },
     "execution_count": 52,
     "metadata": {},
     "output_type": "execute_result"
    }
   ],
   "source": [
    "acid_map = { 'СХ' : 'Сухое', 'СЛ' : 'Сладкое', 'ПСХ' : 'Полусухое', 'ПСЛ' : 'Полусладкое' }\n",
    "pl['Acidity'] = pl['Name'].apply(lambda x: acid_map.get(x.split()[-1].replace('КР',''),''))\n",
    "pl['Acidity'].value_counts()"
   ]
  },
  {
   "cell_type": "markdown",
   "metadata": {},
   "source": [
    "Тоже самое сделаем с цветом:"
   ]
  },
  {
   "cell_type": "code",
   "execution_count": 53,
   "metadata": {
    "execution": {
     "iopub.execute_input": "2025-03-31T13:50:23.828173Z",
     "iopub.status.busy": "2025-03-31T13:50:23.826965Z",
     "iopub.status.idle": "2025-03-31T13:50:23.849448Z",
     "shell.execute_reply": "2025-03-31T13:50:23.848341Z",
     "shell.execute_reply.started": "2025-03-31T13:50:23.828119Z"
    }
   },
   "outputs": [
    {
     "data": {
      "text/plain": [
       "Красное    739\n",
       "            13\n",
       "Name: Color, dtype: int64"
      ]
     },
     "execution_count": 53,
     "metadata": {},
     "output_type": "execute_result"
    }
   ],
   "source": [
    "pl['Color'] = pl['Name'].apply(lambda x: 'Красное' if (x.split()[-1].startswith(\"КР\") or x.split()[-2]==\"КР\") else '')\n",
    "pl['Color'].value_counts()"
   ]
  },
  {
   "cell_type": "markdown",
   "metadata": {},
   "source": [
    "Чтобы научиться отвечать на вопросы по прайс-листу, у нас есть несколько возможных решений:\n",
    "\n",
    "* Попытаться закинуть прайс-лист в контекст модели с помощью RAG, как мы это ранее делали с таблицей блюд. Не очень хороший вариант, потому что модель не будет видеть всю таблицу, и не сможет отвечать на вопросы \"максимальная/минимальная цена\".\n",
    "* Попытаться организовать трансляцию запроса не естественном языке в SQL-подобный язык. Это идеальный вариант, но его сложно сделать без ошибок без fine-tuning-а модели. \n",
    "* Извлечь из текстового запроса основные параметры того, что хочет пользователь, и затем сформировать на этой основе запрос, извлечающий данные из таблицы. Такой подход описан, например, в статье [Querying Databases with Function Calling](https://arxiv.org/html/2502.00032v1)\n",
    "\n",
    "В любом случае, два последних варианта подразумевают использование технологии Function Calling - когда модель может сама решить, когда ей надо вызвать некоторую **внешнюю функцию**, и какие параметры нужно ей передать.\n",
    "\n",
    "Чтобы function calling работал - нам надо сообщить LLM о доступных **инструментах**. Это можно сделать, передав с помощью JSON-схемы описание возможностей таких инструментов и их параметров.\n",
    "\n",
    "ML SDK позволяет нам упростить function calling, и вместо JSON-схемы использовать типизированные объекты Pyton. Для извлечения параметров запроса о вине, мы создадим такой объект: "
   ]
  },
  {
   "cell_type": "code",
   "execution_count": 82,
   "metadata": {
    "execution": {
     "iopub.execute_input": "2025-03-31T18:40:02.469630Z",
     "iopub.status.busy": "2025-03-31T18:40:02.468334Z",
     "iopub.status.idle": "2025-03-31T18:40:02.493654Z",
     "shell.execute_reply": "2025-03-31T18:40:02.492757Z",
     "shell.execute_reply.started": "2025-03-31T18:40:02.469580Z"
    },
    "tags": []
   },
   "outputs": [],
   "source": [
    "from pydantic import BaseModel, Field\n",
    "from typing import Optional\n",
    "\n",
    "class SearchWinePriceList(BaseModel):\n",
    "    \"\"\"Search for a specific wine and/or its price, specified using one of parameters\"\"\" \n",
    "    name : str = Field(description=\"Wine name\",default=None)\n",
    "    country : str = Field(description=\"Wine Country\",default=None)\n",
    "    acidity : str = Field(description=\"Wine Acidity (сухое, полусухое, сладкое, полусладкое)\",default=None)\n",
    "    color : str = Field(description=\"Цвет вина (красное, белое, розовое)\",default=None)\n",
    "    sort_order : str = Field(description=\"What to look for (most expensive, cheapest, random, average)\",default=None)\n",
    "    what_to_return : str = Field(description=\"What to return (wine info or price)\",default=None)"
   ]
  },
  {
   "cell_type": "markdown",
   "metadata": {},
   "source": [
    "Теперь создадим инструмент (tool) и нового ассистента, у которого в списке инструментов будет одновременно и RAG-поиск, и function calling. Также в инструкции ассистенту пропишем, что он может использовать Function Calling."
   ]
  },
  {
   "cell_type": "code",
   "execution_count": 107,
   "metadata": {
    "execution": {
     "iopub.execute_input": "2025-03-31T18:50:00.988386Z",
     "iopub.status.busy": "2025-03-31T18:50:00.987159Z",
     "iopub.status.idle": "2025-03-31T18:50:01.259Z",
     "shell.execute_reply": "2025-03-31T18:50:01.257842Z",
     "shell.execute_reply.started": "2025-03-31T18:50:00.988339Z"
    },
    "tags": []
   },
   "outputs": [],
   "source": [
    "price_list_search_tool = sdk.tools.function(SearchWinePriceList)\n",
    "\n",
    "assistant = create_assistant(model) # tools=[price_list_search_tool]\n",
    "thread = create_thread()\n",
    "\n",
    "instruction=\"\"\"\n",
    "Ты - опытный сомелье, в задачу которого входит отвечать на вопросы пользователя про вина\n",
    "и рекомендовать лучшие вина к еде, а также искать вина в прайс-листе нашего магазина. \n",
    "Посмотри на всю имеющуюся в твоем распоряжении информацию\n",
    "и выдай одну или несколько лучших рекомендаций, либо, если пользователь хочет узнать про\n",
    "конкретное вино или стоимость, вызови Function Calling. \n",
    "Если что-то непонятно, то лучше уточни информацию у пользователя.\n",
    "\"\"\"\n",
    "\n",
    "_ = assistant.update(instruction=instruction)"
   ]
  },
  {
   "cell_type": "markdown",
   "metadata": {},
   "source": [
    "Pf"
   ]
  },
  {
   "cell_type": "code",
   "execution_count": 108,
   "metadata": {
    "execution": {
     "iopub.execute_input": "2025-03-31T18:50:02.916713Z",
     "iopub.status.busy": "2025-03-31T18:50:02.915243Z",
     "iopub.status.idle": "2025-03-31T18:50:04.247512Z",
     "shell.execute_reply": "2025-03-31T18:50:04.246399Z",
     "shell.execute_reply.started": "2025-03-31T18:50:02.916657Z"
    },
    "tags": []
   },
   "outputs": [
    {
     "data": {
      "text/plain": [
       "RunResult(status=<RunStatus.TOOL_CALLS: 5>, error=None, tool_calls=ToolCallList(ToolCall(function=FunctionCall(name='Function Calling', arguments={'function_name': 'search_wines', 'parameters': {'limit': 1.0, 'sort_by': 'price', 'origin': 'Australia', 'style': 'dry', 'type': 'red'}})),), _message=None, usage=Usage(input_text_tokens=122, completion_tokens=40, total_tokens=162))"
      ]
     },
     "execution_count": 108,
     "metadata": {},
     "output_type": "execute_result"
    }
   ],
   "source": [
    "thread.write(\"Привет! Какое самое дешевое красное сухое вино из Австралии?\")\n",
    "op = assistant.run(thread)\n",
    "res = op.wait()\n",
    "res"
   ]
  },
  {
   "cell_type": "code",
   "execution_count": 105,
   "metadata": {
    "execution": {
     "iopub.execute_input": "2025-03-31T18:49:17.325514Z",
     "iopub.status.busy": "2025-03-31T18:49:17.324101Z",
     "iopub.status.idle": "2025-03-31T18:49:17.353446Z",
     "shell.execute_reply": "2025-03-31T18:49:17.352383Z",
     "shell.execute_reply.started": "2025-03-31T18:49:17.325457Z"
    },
    "tags": []
   },
   "outputs": [
    {
     "name": "stdout",
     "output_type": "stream",
     "text": [
      "Вот какие вина были найдены:\n",
      "0,187ВИНО АВТОРСКОЕ №1 КР СХ (Россия) - 119.0\n",
      "0,187Л ВИНО АДАГУМ КБСВ КР СХ (Россия) - 119.004\n",
      "0,7ВИНО КАГОР ТАМ КР СЛ (Россия) - 179.004\n",
      "0,7ВИНО ТАМАНИ МЕРЛО КР ПСЛ (Россия) - 229.0\n",
      "0,7ВИНО ТАМАНИ КАБЕРНЕ КР СХ (Россия) - 229.0\n",
      "0,75ВИНО САУК ДЕРЕ МРЛ КР СХ (Россия) - 239.0\n",
      "0,75Л ВИНО АВТОРСКОЕ КАГОР КР СЛ (Россия) - 249.0\n",
      "0,75ВИНО САУК ДЕРЕ КАБ КР СХ (Россия) - 299.004\n",
      "0,75ВИНО ФАНАГОРИЯ КАГОР КР СЛ (Россия) - 319.0\n",
      "0,75ВИНО ФАНАГОРИЯ НР САП КР ПСЛ (Россия) - 319.0\n"
     ]
    }
   ],
   "source": [
    "country_map = {\n",
    "    'IT' : 'Италия', 'FR' : 'Франция', 'ES' : 'Испания',\n",
    "    'RU' : 'Россия', 'PT' : 'Португалия', 'AR' : 'Армения',\n",
    "    'CL' : 'Чили', 'AU' : 'Австрия', 'GE' : 'Грузия',\n",
    "    'ZA' : 'ЮАР', 'US' : 'США', 'NZ' : 'Новая Зеландия',\n",
    "    'DE' : 'Германия', 'AT' : 'Австрия', 'IL' : 'Израиль',\n",
    "    'BG' : 'Болгария', 'GR' : 'Греция' }\n",
    "\n",
    "revmap = { v.lower() : k for k,v in country_map.items() }\n",
    "\n",
    "def find_wines(req):\n",
    "    x = pl.copy()\n",
    "    if req.country and req.country.lower() in revmap.keys():\n",
    "        x = x[x['Country']==revmap[req.country.lower()]]\n",
    "    if req.acidity:\n",
    "        x = x[x['Acidity']==req.acidity.capitalize()]\n",
    "    if req.color:\n",
    "        x = x[x['Color']==req.color.capitalize()]\n",
    "    if req.name:\n",
    "        x = x[x['Name'].apply(lambda x: req.name.lower() in x.lower())]\n",
    "    if req.sort_order:\n",
    "        if req.sort_order=='cheapest':\n",
    "            x = x.sort_values(by='Price')\n",
    "        elif req.sort_order=='most expensive':\n",
    "            x = x.sort_values(by='Price',ascending=False)\n",
    "        else:\n",
    "            pass\n",
    "    return \"Вот какие вина были найдены:\\n\" + '\\n'.join([\n",
    "        f\"{z['Name']} ({country_map.get(z['Country'],'Неизвестно')}) - {z['Price']}\" for _,z in x.head(10).iterrows()\n",
    "    ])\n",
    "\n",
    "print(find_wines(SearchWinePriceList(country='Россия',sort_order='cheapest')))"
   ]
  },
  {
   "cell_type": "code",
   "execution_count": 106,
   "metadata": {
    "execution": {
     "iopub.execute_input": "2025-03-31T18:49:18.303361Z",
     "iopub.status.busy": "2025-03-31T18:49:18.302349Z",
     "iopub.status.idle": "2025-03-31T18:49:18.437319Z",
     "shell.execute_reply": "2025-03-31T18:49:18.436300Z",
     "shell.execute_reply.started": "2025-03-31T18:49:18.303306Z"
    },
    "tags": []
   },
   "outputs": [
    {
     "name": "stdout",
     "output_type": "stream",
     "text": [
      " + Processing function call fn=SearchWinePriceList\n",
      "[{'name': 'SearchWinePriceList', 'content': 'Вот какие вина были найдены:\\n0,187ВИНО АВТОРСКОЕ №1 КР СХ (Россия) - 119.0\\n0,187Л ВИНО АДАГУМ КБСВ КР СХ (Россия) - 119.004\\n0,187ВИНО ДЖАСТ МЕРЛО КР СХ (Франция) - 149.004\\n0,187ВИНО ДЖАСТ КБСВ КР СХ (Франция) - 149.004\\n0,7ВИНО ТАМАНИ КАБЕРНЕ КР СХ (Россия) - 229.0\\n0,75ВИНО САУК ДЕРЕ МРЛ КР СХ (Россия) - 239.0\\n0,187ВИНО АНТАНЬО КР СХ (Испания) - 239.0\\n0,187ВИНО КАМПО ВЬЕХ ТЕМП КРСХ (Испания) - 259.0\\n0,75ВИНО АУРВИН РЕЗЕРВ КБСВ КР СХ (Неизвестно) - 299.004\\n0,75ВИНО АУРВИН РЕЗЕРВ МЕРЛО КР СХ (Неизвестно) - 299.004'}]\n"
     ]
    },
    {
     "data": {
      "text/plain": [
       "RunResult(status=<RunStatus.COMPLETED: 4>, error=None, tool_calls=None, _message=Message(id='fvtttgqsaf7k1ss9sun9', parts=('К стейку подойдут следующие вина:\\n\\n1. **Из региона Франшхук (ЮАР):** красные сорта, такие как каберне совиньон, шираз и мерло, а также пинотаж.\\n2. **Из региона Сицилия (Италия):** черасуоло ди виттория (Cerasuolo di Vittoria).\\n3. **Из региона Орегон (США):** пино нуар.\\n4. **Сира (шираз):** особенно хорошо дополняет блюда из красного мяса, например, стейки. Вина из сорта сира, произведённые в прохладной Франции, обладают землистым, травяным характером, а шираз из Австралии более фруктовый, с нотами ягод и специй.',), thread_id='fvtghc0d72l5b05b6rhp', created_by='ajej20rll4tifkelclga', created_at=datetime.datetime(2025, 3, 31, 12, 53, 47, 579352), labels=None, author=Author(id='fvtuek2aqlkau4g0a8s7', role='ASSISTANT'), citations=(Citation(sources=(FileChunk(parts=(\"## Сицилия \\n\\nСицилия\\nСицилия — регион на юге Италии. В его состав входит одноименный и самый большой в Средиземном море остров и несколько более мелких островов рядом с ним. На восточном побережье Сицилии возвышается Этна — самый высокий действующий вулкан в Европе. Помимо итальянского в регионе говорят на сицилийском языке. Административный центр Сицилии — Палермо. Это самый южный из винодельческих регионов Италии. Здесь около 120 тысяч га виноградников. С начала нулевых на Сицилии бурно развивается производство вулканических вин. Их производят из винограда, выросшего у подножия Этны. Пепел самого высокого действующего вулкана Европы богат микроэлементами, поэтому местные почвы очень плодородны. И, главное, в таких условиях нет шанса у филлоксеры. К наиболее значимым местным сортам относят красный неро д'авола. Также на Сицилии популярны красные гренаш, перриконе и ночера. Из белых стоит отметить катаратто — его смешивают с сортами грилло и инзолия и производят легендарное крепленое вино марсала. Также популярные былые греканико, александрийский мускат и типичный итальянский треббьяно. Король вулканических красных сортов — нерелло маскалезе с ароматами спелой вишни, пряностей, табака и трав. У подножия Этны успешно выращивают белый автохтонный сорт карриканте. Он обладает спокойной минеральностью, цитрусово-травянистым тонами и вкусом, который ассоциируют с чистым воздухом гор. Легендарная сицилийская крепленая марсала — нежная, яркая и фруктовая. По популярности с ней сопоставим разве что москато ди пантеллерия (Moscato di Pantelleria) из александрийского муската. Из красных вин особого внимания заслуживает черасуоло ди виттория (Cerasuolo di Vittoria) — сицилийское вино наивысшего качества (DOCG). Ну и, конечно, легендарные вулканические вина. Сорт нерелло маскалезе отдает вину высокие танины, кислотность, ягодные ноты и минеральные оттенки. Хрустящие вина из белого карриканте выделяются свежестью, минеральностью, лёгкой солоноватостью. В их аромате слышны яблоки, цитрусы, анис. Крепленая марсала прекрасна в любом виде: сладкая подходит на роль аперитива, полусухая играет с фруктовыми салатами или сицилийскими канноли, а сухая — с теплым мясным салатом или супом. Сладкие сицилийские мускаты отлично подойдут в пару к козьим сырам и пирогам типа нежного киша с сыром. Красное черасуоло ди виттория гармонирует с тушеной говядиной, жареной курицей или мясом на вертеле. И, пожалуй, все вина стоит попробовать в сочетании с местными сырными шариками аранчини с разными начинками. Идеальной парой для белого вина из вулканического винограда карриканте станут креветки, равиоли с травами или ризотто.\",), search_index=SearchIndex(id='fvt48gdqreva56ng6idj', expiration_config=ExpirationConfig(ttl_days=7, expiration_policy=<ExpirationPolicy.SINCE_LAST_ACTIVE: 2>), folder_id='b1gbicod0scglhd49qs0', name=None, description=None, created_by='ajej20rll4tifkelclga', created_at=datetime.datetime(2025, 3, 31, 12, 53, 21, 210648), updated_by='ajej20rll4tifkelclga', updated_at=datetime.datetime(2025, 3, 31, 12, 53, 24, 329637), expires_at=datetime.datetime(2025, 4, 7, 12, 53, 21, 210648), labels=None, index_type=HybridSearchIndexType(chunking_strategy=StaticIndexChunkingStrategy(max_chunk_size_tokens=1000, chunk_overlap_tokens=100), text_search_index=TextSearchIndexType(chunking_strategy=None), vector_search_index=VectorSearchIndexType(chunking_strategy=None, doc_embedder_uri='emb://yc.ml.rag-prod.common/text-search-doc/latest', query_embedder_uri='emb://yc.ml.rag-prod.common/text-search-query/latest'), normalization_strategy=<IndexNormalizationStrategy.MIN_MAX: 1>, combination_strategy=ReciprocalRankFusionIndexCombinationStrategy(k=60))), file=File(id='fvtddf162puo7klo4g9o', expiration_config=ExpirationConfig(ttl_days=5, expiration_policy=<ExpirationPolicy.STATIC: 1>), name=None, description=None, mime_type='text/plain', created_by='ajej20rll4tifkelclga', created_at=datetime.datetime(2025, 3, 31, 12, 53, 16, 489381), updated_by='ajej20rll4tifkelclga', updated_at=datetime.datetime(2025, 3, 31, 12, 53, 16, 489381), expires_at=datetime.datetime(2025, 4, 5, 12, 53, 16, 489381), labels=None)),)), Citation(sources=(FileChunk(parts=('## Франшхук \\n\\nФраншхук\\nФраншхук — крупная винодельческая провинция Южной Африки. Территориально относится к региону Стелленбош, расположена в 75 км от Кейптауна — столицы ЮАР. Деревню основали беглые французы в 1688 году. Получив земельные наделы, они разбили виноградники и наладили производство напитков. Сегодня Франшхук называют винной столицей ЮАР. На карте провинции можно насчитать 11 крупных винодельческих хозяйств. Деревня Франшхук известна необычным терруаром: она расположена в продолговатой долине и с трех сторон окружена высокими горами, которые защищают виноградники от ветра, излишней влаги зимой и палящего солнца летом. При этом четвертая сторона долины открыта для ветров Атлантики. Климат здесь умеренный, а температура воздуха ниже, чем в соседних областях. Виноград созревает медленнее, чем на открытой африканской местности, что делает вино более свежим и кислотным. В Франшхуке наиболее распространены известные европейские сорта, завезенные французами в XVII веке. Здесь выращивают белые шенен блан, семильон, совиньон блан и шардоне. Среди красных популярны каберне совиньон, шираз и мерло. Значительная часть плантаций занята под пинотаж — автохтонный сорт, ставший визитной карточкой страны. Линейка традиционных вин из европейских сортов в ЮАР открывается совершенно по-новому. Сухие гранитные почвы придают напиткам явную минеральность. Белые вина приобретают золотистый оттенок и аромат южных фруктов, красные — насыщенный цвет и аромат. Оттенок может варьироваться от ярко-рубинового до глубокого фиолетового. Их часто сравнивают с бургундскими напитками. С 1992 года в долине Франшхук производят игристые вина премиального качества из шардоне и пино нуар по классическому методу. Белые вина Франшхука — прекрасный аперитив. Они подходят к легким сырам, закускам из гусиного паштета и курицы. Среди горячих блюд стоит выбрать индейку, запеченную белую рыбу с овощным гарниром или рагу. Красные южноафриканские сорта хорошо гармонируют с перчеными стейками из говядины и баранины, а также твердыми, выдержанными сырами. Пинотаж при этом считается универсальным вином. Ему подходят разнообразные блюда от изысканного филе миньон до лазаньи и пиццы с морепродуктами.',), search_index=SearchIndex(id='fvt48gdqreva56ng6idj', expiration_config=ExpirationConfig(ttl_days=7, expiration_policy=<ExpirationPolicy.SINCE_LAST_ACTIVE: 2>), folder_id='b1gbicod0scglhd49qs0', name=None, description=None, created_by='ajej20rll4tifkelclga', created_at=datetime.datetime(2025, 3, 31, 12, 53, 21, 210648), updated_by='ajej20rll4tifkelclga', updated_at=datetime.datetime(2025, 3, 31, 12, 53, 24, 329637), expires_at=datetime.datetime(2025, 4, 7, 12, 53, 21, 210648), labels=None, index_type=HybridSearchIndexType(chunking_strategy=StaticIndexChunkingStrategy(max_chunk_size_tokens=1000, chunk_overlap_tokens=100), text_search_index=TextSearchIndexType(chunking_strategy=None), vector_search_index=VectorSearchIndexType(chunking_strategy=None, doc_embedder_uri='emb://yc.ml.rag-prod.common/text-search-doc/latest', query_embedder_uri='emb://yc.ml.rag-prod.common/text-search-query/latest'), normalization_strategy=<IndexNormalizationStrategy.MIN_MAX: 1>, combination_strategy=ReciprocalRankFusionIndexCombinationStrategy(k=60))), file=File(id='fvtsfjjf8ij9g7v1mdkr', expiration_config=ExpirationConfig(ttl_days=5, expiration_policy=<ExpirationPolicy.STATIC: 1>), name=None, description=None, mime_type='text/plain', created_by='ajej20rll4tifkelclga', created_at=datetime.datetime(2025, 3, 31, 12, 53, 17, 123831), updated_by='ajej20rll4tifkelclga', updated_at=datetime.datetime(2025, 3, 31, 12, 53, 17, 123831), expires_at=datetime.datetime(2025, 4, 5, 12, 53, 17, 123831), labels=None)),)), Citation(sources=(FileChunk(parts=('## Сур \\n\\nСур\\nСур — винодельческий субрегион в Чили, один из самых южных в стране. В его границах выделяют долины Итата, Био-Био, Маллеко. Чилийские вина олицетворяют стиль Нового Света, для них характерен мягкий фруктовый вкус. По одной из версий, первые лозы в Чили завезли с территории Перу в XVI веке. Виноделием занимались христианские миссионеры, выращивали преимущественно красный сорт мишн, белые делали из москателя. До середины XIX века здесь были популярны сладкие вина. В долине Итата первые лозы высадили в середине XVI века после создания порта Консепсьон. Почвы здесь с хорошим дренажем, климат средиземноморский с продолжительным сухим сезоном. В Био-Био и Маллеко прохладно из-за воздушных потоков с океана. Виноград успевает вызревать благодаря большому количеству теплых дней. В Суре выращивают совиньон блан, шардоне, рислинг, вионье, гевюрцтраминер, мускат. Сур известен столовыми винами. Климат в регионе умеренный, близкий к погодным условиям Франции, поэтому местные виноделы стали выпускать и более элегантные напитки. Условия в долинах Био-Био и Итата отлично подходят для культивирования шардоне, совиньон блан, рислинга, из которых делают белые вина. Здесь хорошо растет пино нуар, из него получают красные вина. Розовые вина из долины Итата хороши со свежими фруктами, десертами, сырами, ветчиной; белые сладкие — с десертами, фруктами. Белое полусухое из Био-Био составит отличную пару с блюдами индийской и азиатской кухонь, курице, овощам. Красное сухое из Маллеко сочетается с запеченными овощами, свининой, стейком на гриле.',), search_index=SearchIndex(id='fvt48gdqreva56ng6idj', expiration_config=ExpirationConfig(ttl_days=7, expiration_policy=<ExpirationPolicy.SINCE_LAST_ACTIVE: 2>), folder_id='b1gbicod0scglhd49qs0', name=None, description=None, created_by='ajej20rll4tifkelclga', created_at=datetime.datetime(2025, 3, 31, 12, 53, 21, 210648), updated_by='ajej20rll4tifkelclga', updated_at=datetime.datetime(2025, 3, 31, 12, 53, 24, 329637), expires_at=datetime.datetime(2025, 4, 7, 12, 53, 21, 210648), labels=None, index_type=HybridSearchIndexType(chunking_strategy=StaticIndexChunkingStrategy(max_chunk_size_tokens=1000, chunk_overlap_tokens=100), text_search_index=TextSearchIndexType(chunking_strategy=None), vector_search_index=VectorSearchIndexType(chunking_strategy=None, doc_embedder_uri='emb://yc.ml.rag-prod.common/text-search-doc/latest', query_embedder_uri='emb://yc.ml.rag-prod.common/text-search-query/latest'), normalization_strategy=<IndexNormalizationStrategy.MIN_MAX: 1>, combination_strategy=ReciprocalRankFusionIndexCombinationStrategy(k=60))), file=File(id='fvti5ejsnu6joben5cb9', expiration_config=ExpirationConfig(ttl_days=5, expiration_policy=<ExpirationPolicy.STATIC: 1>), name=None, description=None, mime_type='text/plain', created_by='ajej20rll4tifkelclga', created_at=datetime.datetime(2025, 3, 31, 12, 53, 16, 672684), updated_by='ajej20rll4tifkelclga', updated_at=datetime.datetime(2025, 3, 31, 12, 53, 16, 672684), expires_at=datetime.datetime(2025, 4, 5, 12, 53, 16, 672684), labels=None)),)), Citation(sources=(FileChunk(parts=('## Орегон \\n\\nОрегон\\nОрегон — четвертый по объемам производства вина штат в США. Самый популярный сорт винограда, который выращивают здесь, — пино нуар. Вина из этого сорта отличает высокая кислотность и низкая танинность. Выращивать виноград в Орегоне начали еще в 1840-х, но датой зарождения серьезного виноделия называют 1961 год, когда любители бургундского пино нуар Ричард Соммер и Дэвид Летт решили производить похожее вино в Америке. Для этого был выбран Орегон — прохладный климат и разнообразие почв позволили добиться успеха. Уже в 1979 пино нуар из Орегона вошло в десятку вин в бургундском стиле на французской винной Олимпиаде. Его отличают более яркие ноты фруктов и более низкая кислотность. Прохладный климат Орегона хорошо подходит для выращивания таких сортов винограда, как рислинг, шардоне и гаме, но визитной карточкой штата считается пино нуар, который растет в долине Уилламетт. Менее популярны мерло, каберне совиньон, зинфандель. В Орегоне производят сухие, полусухие, а также игристые и десертные вина. Пино нуар из Орегона будет хорошо сочетаться со стейком из лосося, запеченной птицей и красным мясом, например, говядиной по-бургундски.',), search_index=SearchIndex(id='fvt48gdqreva56ng6idj', expiration_config=ExpirationConfig(ttl_days=7, expiration_policy=<ExpirationPolicy.SINCE_LAST_ACTIVE: 2>), folder_id='b1gbicod0scglhd49qs0', name=None, description=None, created_by='ajej20rll4tifkelclga', created_at=datetime.datetime(2025, 3, 31, 12, 53, 21, 210648), updated_by='ajej20rll4tifkelclga', updated_at=datetime.datetime(2025, 3, 31, 12, 53, 24, 329637), expires_at=datetime.datetime(2025, 4, 7, 12, 53, 21, 210648), labels=None, index_type=HybridSearchIndexType(chunking_strategy=StaticIndexChunkingStrategy(max_chunk_size_tokens=1000, chunk_overlap_tokens=100), text_search_index=TextSearchIndexType(chunking_strategy=None), vector_search_index=VectorSearchIndexType(chunking_strategy=None, doc_embedder_uri='emb://yc.ml.rag-prod.common/text-search-doc/latest', query_embedder_uri='emb://yc.ml.rag-prod.common/text-search-query/latest'), normalization_strategy=<IndexNormalizationStrategy.MIN_MAX: 1>, combination_strategy=ReciprocalRankFusionIndexCombinationStrategy(k=60))), file=File(id='fvtifvajqvg7r5qlqnlg', expiration_config=ExpirationConfig(ttl_days=5, expiration_policy=<ExpirationPolicy.STATIC: 1>), name=None, description=None, mime_type='text/plain', created_by='ajej20rll4tifkelclga', created_at=datetime.datetime(2025, 3, 31, 12, 53, 15, 96173), updated_by='ajej20rll4tifkelclga', updated_at=datetime.datetime(2025, 3, 31, 12, 53, 15, 96173), expires_at=datetime.datetime(2025, 4, 5, 12, 53, 15, 96173), labels=None)),)), Citation(sources=(FileChunk(parts=('## Сира \\n\\nСира\\nСирa — сорт красного винного винограда родом из долины Роны во Франции (фр. Syrah). В 1832 году был завезен в Австралию, где стал флагманским сортом красного винограда и сменил имя на шираз. Сегодня производители вин из Франции, Италии, Испании предпочитают маркировку сира, а австралийские и африканские — шираз. Исследования ДНК 1998 года, проведенные в Калифорнийском университете, доказали, что сира появился на территории современного региона Овернь-Рона-Альпы от двух второстепенных локальных сортов — дурез и мондез бланш. Однако возраст винограда установить не удалось. Из сорта сира производят купажированные и сепажные красные вина насыщенных оттенков: от темно-рубинового до фиолетового. Плюс розовые легкие (до 12% крепости) в ассамбляже с белыми сортами. Хотя технически сира и шираз — один и тот же сорт, крепость и вкус вина зависят от терруара. Вина прохладной Франции содержат 13–14% алкоголя, обладают землистым, травяным флером, нотами дыма, перца и фиалки. Шираз из засушливой Австралии более крепкий (до 16%) и фруктовый, с нотами ягод и специй. Благодаря сильному характеру и щедрому содержанию танинов, сира и шираз особенно хорошо дополняют выдержанные сыры, сыровяленые колбасные деликатесы, блюда из красного мяса и дичи: бараньи или свиные ребрышки, мясной рулет из телятины, ростбиф в хрустящем фило. В вегетарианское меню можно внести грибы на гриле, баклажаны Пармиджано и пикантные тако с черной фасолью. А вот нежных молодых сыров, легких овощных блюд и морепродуктов лучше избегать. По одной из легенд о происхождении, сорт сира во Францию привезли из Ирана. В Ширазе, бывшей столице Персидской империи, производили вино ширази. У сорт сира есть гибрид — маленькая или пти сира (фр. Petit Syrah), появившаяся в результате скрещивания сиры и пелурсена. Пти сира растет в Австралии, Калифорнии и Франции, а также популярна в США. Из ягод, изобилующих танинами, производят красные вина с густым чернильным вкусом. Чтобы смягчить алкогольный профиль, сиру и шираз лучше подавать слегка охлажденными — 15 минут в холодильнике будет достаточно.',), search_index=SearchIndex(id='fvt48gdqreva56ng6idj', expiration_config=ExpirationConfig(ttl_days=7, expiration_policy=<ExpirationPolicy.SINCE_LAST_ACTIVE: 2>), folder_id='b1gbicod0scglhd49qs0', name=None, description=None, created_by='ajej20rll4tifkelclga', created_at=datetime.datetime(2025, 3, 31, 12, 53, 21, 210648), updated_by='ajej20rll4tifkelclga', updated_at=datetime.datetime(2025, 3, 31, 12, 53, 24, 329637), expires_at=datetime.datetime(2025, 4, 7, 12, 53, 21, 210648), labels=None, index_type=HybridSearchIndexType(chunking_strategy=StaticIndexChunkingStrategy(max_chunk_size_tokens=1000, chunk_overlap_tokens=100), text_search_index=TextSearchIndexType(chunking_strategy=None), vector_search_index=VectorSearchIndexType(chunking_strategy=None, doc_embedder_uri='emb://yc.ml.rag-prod.common/text-search-doc/latest', query_embedder_uri='emb://yc.ml.rag-prod.common/text-search-query/latest'), normalization_strategy=<IndexNormalizationStrategy.MIN_MAX: 1>, combination_strategy=ReciprocalRankFusionIndexCombinationStrategy(k=60))), file=File(id='fvtjchoo71tuuad8cajp', expiration_config=ExpirationConfig(ttl_days=5, expiration_policy=<ExpirationPolicy.STATIC: 1>), name=None, description=None, mime_type='text/plain', created_by='ajej20rll4tifkelclga', created_at=datetime.datetime(2025, 3, 31, 12, 53, 20, 177592), updated_by='ajej20rll4tifkelclga', updated_at=datetime.datetime(2025, 3, 31, 12, 53, 20, 177592), expires_at=datetime.datetime(2025, 4, 5, 12, 53, 20, 177592), labels=None)),)))), usage=Usage(input_text_tokens=2406, completion_tokens=151, total_tokens=2557))"
      ]
     },
     "execution_count": 106,
     "metadata": {},
     "output_type": "execute_result"
    }
   ],
   "source": [
    "if res.tool_calls:\n",
    "    result = []\n",
    "    for f in res.tool_calls:\n",
    "        print(f\" + Processing function call fn={f.function.name}\")\n",
    "        x = SearchWinePriceList.model_validate(f.function.arguments)\n",
    "        x = find_wines(x)\n",
    "        result.append({ \"name\" : f.function.name, \"content\"  : x })\n",
    "    print(result)\n",
    "    run.submit_tool_results(result)\n",
    "    res = run.wait()\n",
    "res"
   ]
  },
  {
   "cell_type": "code",
   "execution_count": 91,
   "metadata": {
    "execution": {
     "iopub.execute_input": "2025-03-31T18:43:57.889687Z",
     "iopub.status.busy": "2025-03-31T18:43:57.888494Z",
     "iopub.status.idle": "2025-03-31T18:43:58.204493Z",
     "shell.execute_reply": "2025-03-31T18:43:58.203636Z",
     "shell.execute_reply.started": "2025-03-31T18:43:57.889633Z"
    },
    "tags": []
   },
   "outputs": [
    {
     "name": "stdout",
     "output_type": "stream",
     "text": [
      "Привет! Какое самое дешевое красное сухое вино из Австралии?\n",
      "-----------------------\n"
     ]
    }
   ],
   "source": [
    "for msg in thread:\n",
    "    print(msg.text)\n",
    "    print('-----------------------')"
   ]
  },
  {
   "cell_type": "code",
   "execution_count": 81,
   "metadata": {
    "execution": {
     "iopub.execute_input": "2025-03-31T18:39:42.051397Z",
     "iopub.status.busy": "2025-03-31T18:39:42.050156Z",
     "iopub.status.idle": "2025-03-31T18:39:42.505788Z",
     "shell.execute_reply": "2025-03-31T18:39:42.504792Z",
     "shell.execute_reply.started": "2025-03-31T18:39:42.051344Z"
    },
    "tags": []
   },
   "outputs": [],
   "source": [
    "thread.delete()\n",
    "thread = create_thread()\n",
    "#assistant.delete()"
   ]
  },
  {
   "cell_type": "markdown",
   "metadata": {},
   "source": [
    "## Многоагентное тестирование"
   ]
  },
  {
   "cell_type": "code",
   "execution_count": 23,
   "metadata": {
    "execution": {
     "iopub.execute_input": "2025-03-24T08:17:37.523289Z",
     "iopub.status.busy": "2025-03-24T08:17:37.521734Z",
     "iopub.status.idle": "2025-03-24T08:17:37.562180Z",
     "shell.execute_reply": "2025-03-24T08:17:37.561093Z",
     "shell.execute_reply.started": "2025-03-24T08:17:37.523236Z"
    },
    "tags": []
   },
   "outputs": [],
   "source": [
    "class ABot:\n",
    "    def __init__(self,assistant=None,instruction=None):\n",
    "        if assistant:\n",
    "            self.assistant = assistant\n",
    "        else:\n",
    "            self.assistant = create_assistant(model)\n",
    "        \n",
    "        if instruction:\n",
    "            self.assistant.update(instruction=instruction)\n",
    "\n",
    "        self.thread = sdk.threads.create(name=\"Test\", ttl_days=1, expiration_policy=\"static\")\n",
    "                    \n",
    "    def __call__(self, message):\n",
    "        self.thread.write(message)\n",
    "        run = self.assistant.run(self.thread)\n",
    "        res = run.wait()\n",
    "        return res.text\n",
    "\n",
    "    def history(self):\n",
    "        return [m for m in self.thread]\n",
    "    \n",
    "    def restart(self):\n",
    "        self.thread.delete()\n",
    "        self.thread = sdk.threads.create(name=\"Test\", ttl_days=1, expiration_policy=\"static\")\n",
    "\n",
    "    def done(self,delete_assistant=False):\n",
    "        self.thread.delete()\n",
    "        if delete_assistant:\n",
    "            self.assistant.delete()\n"
   ]
  },
  {
   "cell_type": "code",
   "execution_count": 24,
   "metadata": {
    "execution": {
     "iopub.execute_input": "2025-03-24T08:17:38.275369Z",
     "iopub.status.busy": "2025-03-24T08:17:38.273816Z",
     "iopub.status.idle": "2025-03-24T08:18:11.127061Z",
     "shell.execute_reply": "2025-03-24T08:18:11.125958Z",
     "shell.execute_reply.started": "2025-03-24T08:17:38.275311Z"
    },
    "tags": []
   },
   "outputs": [
    {
     "name": "stdout",
     "output_type": "stream",
     "text": [
      "Посетитель: Добрый день! Поможете мне выбрать вино?\n",
      "Сомелье: Здравствуйте! С удовольствием помогу вам с выбором вина. Для начала мне нужно узнать, к какому блюду вы хотите подобрать вино. Также важно учесть ваши вкусовые предпочтения. Пожалуйста, расскажите немного подробнее о ваших планах, и я смогу дать более точные рекомендации.\n",
      "Посетитель: Здравствуйте! Я хочу заказать салат капрезе и стейк. Но я не разбираюсь в винах и готов изменить меню, если вы посоветуете хорошее сочетание. Можете рассказать, какие вина подходят к разным блюдам?\n",
      "Сомелье: Здравствуйте! \n",
      "\n",
      "Для салата капрезе я могу порекомендовать белое вино Пти Арвин Флер из региона Валле-д’Аоста в Италии. Его нежный цветочный вкус и цитрусовые нюансы прекрасно дополнят моцареллу и помидоры в вашем салате.\n",
      "\n",
      "К стейку подойдёт красное вино, например, Фумин из того же региона Валле-д’Аоста. Это вино с ярким вкусом и нотами сладких специй, фруктов и кожи, которое отлично дополнит мясо.\n",
      "\n",
      "Если вы хотите попробовать что-то более классическое, то к стейку также подойдут вина из сортов Гарнача (Гренаш), Мерло, Карменер, Менсия, Пино Нуар.\n",
      "\n",
      "Надеюсь, эти рекомендации помогут вам сделать выбор. Если у вас есть ещё вопросы или вы хотите узнать больше о винах, пожалуйста, не стесняйтесь спрашивать!\n",
      "Посетитель: Спасибо за рекомендации! А какое вино могло бы подойти сразу к салату капрезе и стейку? И есть ли какие-то простые правила, как выбирать вино к блюдам?\n",
      "Сомелье: К салату капрезе и стейку может подойти универсальное вино, которое хорошо сочетается как с мясными, так и с овощными блюдами. Например, можно рассмотреть красные вина из сортов Санджовезе (Кьянти Ризерва), Неббиоло (Барбареско) или Темпранильо (Рибейра дель Дуэро). Эти вина достаточно универсальны и могут хорошо дополнить как салат капрезе, так и стейк.\n",
      "\n",
      "Простые правила выбора вина к блюдам:\n",
      "\n",
      "1. **К белому вину — белая еда:** белые вина хорошо сочетаются с рыбой, морепродуктами, салатами и лёгкими закусками.\n",
      "2. **К красному вину — красное мясо:** красные вина идеально подходят к мясным блюдам, таким как стейк, говядина или баранина.\n",
      "3. **Учитывайте уровень сладости:** сладкие вина лучше всего сочетаются с десертами или фруктами, а сухие вина — с более пикантными блюдами.\n",
      "4. **Обратите внимание на крепость:** более крепкие вина могут перебить вкус блюда, поэтому лучше выбирать вина, которые соответствуют уровню сложности блюда.\n",
      "5. **Экспериментируйте:** не бойтесь пробовать новые сочетания вин и блюд, чтобы найти свои любимые комбинации.\n",
      "Посетитель: Спасибо за советы! Я выбираю Санджовезе.\n",
      "Сомелье: Пожалуйста! Вино из сорта Санджовезе — отличный выбор. Оно хорошо сочетается с различными блюдами, включая мясные и вегетарианские. Если у вас будут ещё вопросы о винах или рекомендациях к блюдам, не стесняйтесь спрашивать!\n",
      "Посетитель: Спасибо!\n",
      "Сомелье: Пожалуйста! Если у вас возникнут дополнительные вопросы о винах или рекомендации к блюдам, не стесняйтесь спрашивать.\n",
      "Посетитель: Спасибо, пока вопросов нет.\n",
      "Сомелье: Пожалуйста! Если у вас возникнут вопросы о винах или рекомендации к блюдам, не стесняйтесь спрашивать.\n",
      "Посетитель: Хорошо, спасибо!\n",
      "Сомелье: Пожалуйста! Если у вас возникнут вопросы о винах или рекомендации к блюдам, не стесняйтесь спрашивать.\n",
      "Посетитель: Спасибо, я вас понял!\n",
      "Сомелье: Пожалуйста! Если у вас возникнут вопросы о винах или рекомендации к блюдам, не стесняйтесь спрашивать.\n",
      "Посетитель: Спасибо за помощь! Больше вопросов пока нет.\n",
      "Сомелье: Пожалуйста! Если у вас возникнут вопросы о винах или рекомендации к блюдам, не стесняйтесь спрашивать.\n",
      "Посетитель: Спасибо, всего доброго!\n",
      "Сомелье: Пожалуйста! Если у вас возникнут вопросы о винах или рекомендации к блюдам, не стесняйтесь спрашивать.\n"
     ]
    }
   ],
   "source": [
    "instruction_user = \"\"\"\n",
    "Ты - посетитель ресторана, и тебе нужно выбрать вино для ужина. Ты ничего не понимаешь \n",
    "в винах, и хочешь побольше распросить сомелье о разных вариантах. Ты хотел бы съесть салат\n",
    "капрезе и стейк, но готов изменить свой выбор еды, если поймёшь хорошее сочетание с вином. Говори\n",
    "простым языком, короткими фразами. Когда ты удовлетворём выбором, скажи СПАСИБО.\n",
    "\"\"\"\n",
    "\n",
    "wine_expert = ABot(assistant = assistant)\n",
    "user = ABot(instruction=instruction_user)\n",
    "\n",
    "msg = \"Добрый день! Поможете мне выбрать вино?\"\n",
    "\n",
    "for i in range(10):\n",
    "    print(f\"Посетитель: {msg}\")\n",
    "    msg = wine_expert(msg)\n",
    "    print(f\"Сомелье: {msg}\")\n",
    "    msg = user(msg)\n",
    "    if \"СПАСИБО\" in msg:\n",
    "        break\n"
   ]
  },
  {
   "cell_type": "code",
   "execution_count": 66,
   "metadata": {
    "execution": {
     "iopub.execute_input": "2025-03-23T22:14:06.886241Z",
     "iopub.status.busy": "2025-03-23T22:14:06.885065Z",
     "iopub.status.idle": "2025-03-23T22:14:15.950502Z",
     "shell.execute_reply": "2025-03-23T22:14:15.949383Z",
     "shell.execute_reply.started": "2025-03-23T22:14:06.886198Z"
    },
    "tags": []
   },
   "outputs": [],
   "source": [
    "assistant.delete()\n",
    "index.delete()\n",
    "for f in df['Uploaded']:\n",
    "    f.delete()\n",
    "for f in uploaded_foodwine:\n",
    "    f.delete()"
   ]
  },
  {
   "cell_type": "code",
   "execution_count": null,
   "metadata": {},
   "outputs": [],
   "source": []
  }
 ],
 "metadata": {
  "kernelspec": {
   "display_name": "DataSphere Kernel",
   "language": "python",
   "name": "python3"
  },
  "language_info": {
   "codemirror_mode": {
    "name": "ipython",
    "version": 3
   },
   "file_extension": ".py",
   "mimetype": "text/x-python",
   "name": "python",
   "nbconvert_exporter": "python",
   "pygments_lexer": "ipython3",
   "version": "3.10.12"
  }
 },
 "nbformat": 4,
 "nbformat_minor": 4
}
