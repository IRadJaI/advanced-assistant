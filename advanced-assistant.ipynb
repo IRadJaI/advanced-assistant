{
 "cells": [
  {
   "cell_type": "markdown",
   "metadata": {},
   "source": [
    "## Создание продвинутых ассистентов\n",
    "\n",
    "В этом ноутбуке мы попробуем создать и протестировать чат-ассистента на основе Completion API, RAG и Function Calling.\n",
    "\n",
    "Для начала, установим OpenAI SDK и другие полезные библиотеки:"
   ]
  },
  {
   "cell_type": "code",
   "execution_count": null,
   "metadata": {
    "tags": []
   },
   "outputs": [],
   "source": [
    "%pip install openai pydantic"
   ]
  },
  {
   "cell_type": "markdown",
   "metadata": {},
   "source": [
    "**ВНИМАНИЕ**: После установки библиотек рекомендуется перезапустить Kernel ноутбука.\n",
    "\n",
    "И ещё пара полезная функция на будущее для печати markdown:"
   ]
  },
  {
   "cell_type": "code",
   "execution_count": 1,
   "metadata": {
    "execution": {
     "iopub.execute_input": "2025-04-02T10:12:38.225732Z",
     "iopub.status.busy": "2025-04-02T10:12:38.224713Z",
     "iopub.status.idle": "2025-04-02T10:12:38.260571Z",
     "shell.execute_reply": "2025-04-02T10:12:38.259455Z",
     "shell.execute_reply.started": "2025-04-02T10:12:38.225694Z"
    },
    "tags": []
   },
   "outputs": [],
   "source": [
    "from IPython.display import Markdown, display\n",
    "def printx(string):\n",
    "    display(Markdown(string))"
   ]
  },
  {
   "cell_type": "markdown",
   "metadata": {},
   "source": [
    "## Авторизация\n",
    "\n",
    "Для работы с языковыми моделями нам понадобится авторизоваться в Yandex Cloud. Это можно сделать несколькими способами:\n",
    "\n",
    "* через iam-токен. Для получения iam-токена необходимо создать авторизованный ключ доступа к сервисному аккаунту, и знать `service_accound_id`, `key_id` и `private_key`. Скачайте файл с ключами доступа `authorized_key.json`, и добавьте к нему поле `folder_id`\n",
    "* **[рекомендованный способ]** через ключ `api_key` для сервисного аккаунта, имеющего права на доступ к модели, и `folder_id`. Мы предполагаем, что соответствующие значения хранятся в секретах Datasphere или в переменных окружения. Если вы используете набор переменных окружения в файле `.env` - запустите следующую ячейку для их загрузки."
   ]
  },
  {
   "cell_type": "code",
   "execution_count": 1,
   "metadata": {},
   "outputs": [
    {
     "data": {
      "text/plain": [
       "True"
      ]
     },
     "execution_count": 1,
     "metadata": {},
     "output_type": "execute_result"
    }
   ],
   "source": [
    "from dotenv import load_dotenv\n",
    "load_dotenv()"
   ]
  },
  {
   "cell_type": "code",
   "execution_count": 102,
   "metadata": {},
   "outputs": [
    {
     "name": "stdout",
     "output_type": "stream",
     "text": [
      "Using IAM Token Auth with folder_id=b1gst3c7cskk2big5fqn\n"
     ]
    }
   ],
   "source": [
    "import json\n",
    "import os\n",
    "from util.iam_auth import get_iam\n",
    "\n",
    "if os.path.exists('authorized_key.json'):\n",
    "    with open('authorized_key.json') as f:\n",
    "        auth_key = json.load(f)\n",
    "\n",
    "    api_key = get_iam(auth_key['service_account_id'],auth_key['id'],auth_key['private_key'])\n",
    "    folder_id = auth_key['folder_id']\n",
    "    print(f\"Using IAM Token Auth with folder_id={folder_id}\")\n",
    "else:\n",
    "    folder_id = None"
   ]
  },
  {
   "cell_type": "markdown",
   "metadata": {},
   "source": [
    "Если файл с ключем не найден, то используем значения `api_key` из переменных окружения:"
   ]
  },
  {
   "cell_type": "code",
   "execution_count": 3,
   "metadata": {},
   "outputs": [],
   "source": [
    "if folder_id is None:\n",
    "    folder_id = os.environ[\"folder_id\"]\n",
    "    api_key = os.environ[\"api_key\"]"
   ]
  },
  {
   "cell_type": "markdown",
   "metadata": {},
   "source": [
    "Создадим какую-нибудь модель из Foundation Models и убедимся, что она кое-что знает про вина. \n",
    "\n",
    "> ВНИМАНИЕ: Для правильной работы необходимо передать `folder_id` в параметр `project` при создании объекта OpenAI SDK."
   ]
  },
  {
   "cell_type": "code",
   "execution_count": 61,
   "metadata": {
    "execution": {
     "iopub.execute_input": "2025-04-02T10:12:40.503375Z",
     "iopub.status.busy": "2025-04-02T10:12:40.502172Z",
     "iopub.status.idle": "2025-04-02T10:12:41.140536Z",
     "shell.execute_reply": "2025-04-02T10:12:41.139519Z",
     "shell.execute_reply.started": "2025-04-02T10:12:40.503325Z"
    },
    "tags": []
   },
   "outputs": [],
   "source": [
    "import os\n",
    "from openai import OpenAI\n",
    "\n",
    "model = f\"gpt://{folder_id}/yandexgpt/rc\"\n",
    "model = f\"gpt://{folder_id}/gemma-3-27b-it/latest\"\n",
    "model = f\"gpt://{folder_id}/gpt-oss-120b/latest\"\n",
    "model = f\"gpt://{folder_id}/qwen3-235b-a22b-fp8/latest\"\n",
    "\n",
    "client = OpenAI(\n",
    "    base_url=\"https://rest-assistant.api.cloud.yandex.net/v1\",\n",
    "    api_key=api_key,\n",
    "    project=folder_id\n",
    ")"
   ]
  },
  {
   "cell_type": "code",
   "execution_count": 47,
   "metadata": {
    "execution": {
     "iopub.execute_input": "2025-04-02T10:12:42.839218Z",
     "iopub.status.busy": "2025-04-02T10:12:42.837885Z",
     "iopub.status.idle": "2025-04-02T10:12:46.948608Z",
     "shell.execute_reply": "2025-04-02T10:12:46.947579Z",
     "shell.execute_reply.started": "2025-04-02T10:12:42.839169Z"
    },
    "tags": []
   },
   "outputs": [
    {
     "data": {
      "text/markdown": [
       "Выбор вина к стейку зависит от степени прожарки, способа приготовления и личных предпочтений. Вот несколько общих рекомендаций:\n",
       "\n",
       "1. **Для хорошо прожаренного стейка** с выраженной корочкой и насыщенным вкусом подойдёт полнотелое красное вино с высоким содержанием танинов, например, каберне совиньон, шираз или зинфандель. Танины помогут сбалансировать жирность мяса и подчеркнут его вкус.\n",
       "\n",
       "2. **Для стейка средней прожарки** можно выбрать вина с более мягким и фруктовым характером, например, мерло или темпранильо. Они хорошо сочетаются с мясными блюдами, не перебивая их вкус.\n",
       "\n",
       "3. **Если стейк приготовлен с использованием специй и трав**, можно подобрать вино с яркими фруктово-ягодными нотами и средней танинностью, которое подчеркнёт аромат блюда. Например, некоторые сорта пино нуар или шираз с выраженным фруктовым профилем.\n",
       "\n",
       "4. **Для более лёгких вариантов стейка** можно рассмотреть возможность сочетания с розовыми или даже некоторыми белыми винами, особенно если стейк подаётся с лёгкими соусами или овощами.\n",
       "\n",
       "При выборе вина также стоит учитывать:\n",
       "* **сочетание с гарниром**: если к стейку подаются овощи, картофель или другие гарниры, это тоже может повлиять на выбор вина;\n",
       "* **личные предпочтения**: в конечном счёте выбор вина — это вопрос вкуса. Если вы предпочитаете более лёгкие и фруктовые вина, не бойтесь экспериментировать и выбирать то, что вам больше нравится.\n",
       "\n",
       "Не бойтесь экспериментировать и находить свои идеальные сочетания!"
      ],
      "text/plain": [
       "<IPython.core.display.Markdown object>"
      ]
     },
     "metadata": {},
     "output_type": "display_data"
    }
   ],
   "source": [
    "res = client.responses.create(\n",
    "    model = model,\n",
    "    input = \"Какое вино можно пить со стейком?\"\n",
    ")\n",
    "\n",
    "printx(res.output_text)"
   ]
  },
  {
   "cell_type": "markdown",
   "metadata": {},
   "source": [
    "## Responses API\n",
    "\n",
    "Когда мы используем запрос вида `client.responses.create` - мы используем так называемый Responses API. Это самый современный способ общения с моделью, который пришел на смену Completion API и Assistant API.\n",
    "\n",
    "При генерации ответа мы можем задать также системный промпт и другие параметры, например, уровень рассуждений модели:"
   ]
  },
  {
   "cell_type": "code",
   "execution_count": 10,
   "metadata": {
    "execution": {
     "iopub.execute_input": "2025-04-02T10:12:50.397513Z",
     "iopub.status.busy": "2025-04-02T10:12:50.396169Z",
     "iopub.status.idle": "2025-04-02T10:12:50.408681Z",
     "shell.execute_reply": "2025-04-02T10:12:50.407850Z",
     "shell.execute_reply.started": "2025-04-02T10:12:50.397465Z"
    },
    "tags": []
   },
   "outputs": [
    {
     "data": {
      "text/markdown": [
       "Здравствуйте! Чтобы подобрать вино, которое будет соответствовать вашим предпочтениям, мне нужно немного больше информации. Расскажите, пожалуйста, какой вкус вам нравится в вине: предпочитаете ли вы лёгкие и свежие вина или, наоборот, насыщенные и плотные? Также важно знать, планируете ли вы подавать вино к определённому блюду или событию. И какой ценовой диапазон вас интересует?"
      ],
      "text/plain": [
       "<IPython.core.display.Markdown object>"
      ]
     },
     "metadata": {},
     "output_type": "display_data"
    }
   ],
   "source": [
    "res = client.responses.create(\n",
    "    model = model,\n",
    "    reasoning = { \"effort\" : \"low\" },\n",
    "    store = True,\n",
    "    instructions = \"Ты - опытный сомелье, задача которого - консультировать пользователя в вопросах выбора вина.\",\n",
    "    input = \"Привет! Какое вино посоветуете?\"\n",
    ")\n",
    "\n",
    "printx(res.output_text)"
   ]
  },
  {
   "cell_type": "markdown",
   "metadata": {},
   "source": [
    "Чтобы продолжить диалог, мы можем либо передать модели на вход всю историю диалога, либо указать ID предыдущего ответа, начиная с которого нужно продолжить диалог (при этом в предыдущем диалоге нам нужно указать `store=True`, чтобы переписка сохранялась):"
   ]
  },
  {
   "cell_type": "code",
   "execution_count": 11,
   "metadata": {
    "execution": {
     "iopub.execute_input": "2025-04-02T10:13:02.390216Z",
     "iopub.status.busy": "2025-04-02T10:13:02.388985Z",
     "iopub.status.idle": "2025-04-02T10:13:06.746953Z",
     "shell.execute_reply": "2025-04-02T10:13:06.746150Z",
     "shell.execute_reply.started": "2025-04-02T10:13:02.390177Z"
    },
    "tags": []
   },
   "outputs": [
    {
     "name": "stdout",
     "output_type": "stream",
     "text": [
      "ID предыдущего ответа: 3c63989d-db9e-43d9-a239-ebce0d6f17b9\n"
     ]
    },
    {
     "data": {
      "text/markdown": [
       "Отлично, для стейка я могу порекомендовать несколько вариантов:\n",
       "\n",
       "1. **Каберне Совиньон** — это насыщенный и структурированный сорт вина с яркими фруктовыми нотами и умеренной кислотностью, который прекрасно дополнит вкус мяса.\n",
       "2. **Мерло** — более мягкий и округлый вариант с нотами тёмного шоколада и вишни, который также хорошо сочетается со стейком.\n",
       "3. **Шираз (Сира)** — насыщенный сорт с нотами тёмных ягод, специй и ванили, который может стать отличным дополнением к стейку, приготовленному на гриле.\n",
       "4. **Мальбек** — особенно если вы предпочитаете более фруктовые и насыщенные вина с нотами ежевики и сливы.\n",
       "\n",
       "Какой ценовой диапазон вас интересует? И есть ли у вас предпочтения по странам-производителям?"
      ],
      "text/plain": [
       "<IPython.core.display.Markdown object>"
      ]
     },
     "metadata": {},
     "output_type": "display_data"
    }
   ],
   "source": [
    "print(f\"ID предыдущего ответа: {res.id}\")\n",
    "\n",
    "res = client.responses.create(\n",
    "    model = model,\n",
    "    reasoning = { \"effort\" : \"low\" },\n",
    "    store = True,\n",
    "    previous_response_id = res.id,\n",
    "    input = \"Я буду есть стейк!\"\n",
    ")\n",
    "\n",
    "printx(res.output_text)"
   ]
  },
  {
   "cell_type": "markdown",
   "metadata": {},
   "source": [
    "## Function Calling\n",
    "\n",
    "Предположим, мы делаем ассистента для магазина вин, который торгует винами по некоторому прайс-листу. Возьмём пример такого прайс-листа:"
   ]
  },
  {
   "cell_type": "code",
   "execution_count": 12,
   "metadata": {
    "execution": {
     "iopub.execute_input": "2025-04-02T10:21:08.561072Z",
     "iopub.status.busy": "2025-04-02T10:21:08.560039Z",
     "iopub.status.idle": "2025-04-02T10:21:08.767803Z",
     "shell.execute_reply": "2025-04-02T10:21:08.766921Z",
     "shell.execute_reply.started": "2025-04-02T10:21:08.561030Z"
    },
    "tags": []
   },
   "outputs": [
    {
     "data": {
      "text/html": [
       "<div>\n",
       "<style scoped>\n",
       "    .dataframe tbody tr th:only-of-type {\n",
       "        vertical-align: middle;\n",
       "    }\n",
       "\n",
       "    .dataframe tbody tr th {\n",
       "        vertical-align: top;\n",
       "    }\n",
       "\n",
       "    .dataframe thead th {\n",
       "        text-align: right;\n",
       "    }\n",
       "</style>\n",
       "<table border=\"1\" class=\"dataframe\">\n",
       "  <thead>\n",
       "    <tr style=\"text-align: right;\">\n",
       "      <th></th>\n",
       "      <th>Id</th>\n",
       "      <th>Name</th>\n",
       "      <th>Country</th>\n",
       "      <th>Price</th>\n",
       "      <th>WHPrice</th>\n",
       "      <th>etc</th>\n",
       "      <th>Acidity</th>\n",
       "      <th>Color</th>\n",
       "      <th>Volume</th>\n",
       "    </tr>\n",
       "  </thead>\n",
       "  <tbody>\n",
       "    <tr>\n",
       "      <th>0</th>\n",
       "      <td>56885</td>\n",
       "      <td>САССИКАЙЯ КР СХ</td>\n",
       "      <td>IT</td>\n",
       "      <td>27799.000</td>\n",
       "      <td>19459.3000</td>\n",
       "      <td>NaN</td>\n",
       "      <td>Сухое</td>\n",
       "      <td>Красное</td>\n",
       "      <td>0.750</td>\n",
       "    </tr>\n",
       "    <tr>\n",
       "      <th>1</th>\n",
       "      <td>666560</td>\n",
       "      <td>СИЕПИ МАЗЕЙ КР СХ</td>\n",
       "      <td>IT</td>\n",
       "      <td>15999.000</td>\n",
       "      <td>11199.3000</td>\n",
       "      <td>NaN</td>\n",
       "      <td>Сухое</td>\n",
       "      <td>Красное</td>\n",
       "      <td>0.750</td>\n",
       "    </tr>\n",
       "    <tr>\n",
       "      <th>2</th>\n",
       "      <td>533769</td>\n",
       "      <td>ПАЛАФРЕНО КР СХ</td>\n",
       "      <td>IT</td>\n",
       "      <td>14999.004</td>\n",
       "      <td>10499.3028</td>\n",
       "      <td>NaN</td>\n",
       "      <td>Сухое</td>\n",
       "      <td>Красное</td>\n",
       "      <td>0.750</td>\n",
       "    </tr>\n",
       "    <tr>\n",
       "      <th>3</th>\n",
       "      <td>93733</td>\n",
       "      <td>АНТ ТИНЬЯНЕЛЛО КР СХ</td>\n",
       "      <td>IT</td>\n",
       "      <td>14499.012</td>\n",
       "      <td>10149.3084</td>\n",
       "      <td>NaN</td>\n",
       "      <td>Сухое</td>\n",
       "      <td>Красное</td>\n",
       "      <td>0.750</td>\n",
       "    </tr>\n",
       "    <tr>\n",
       "      <th>4</th>\n",
       "      <td>644863</td>\n",
       "      <td>ШАТО МОНРОЗ КР СХ</td>\n",
       "      <td>FR</td>\n",
       "      <td>12999.000</td>\n",
       "      <td>9099.3000</td>\n",
       "      <td>от промо цены</td>\n",
       "      <td>Сухое</td>\n",
       "      <td>Красное</td>\n",
       "      <td>0.750</td>\n",
       "    </tr>\n",
       "    <tr>\n",
       "      <th>...</th>\n",
       "      <td>...</td>\n",
       "      <td>...</td>\n",
       "      <td>...</td>\n",
       "      <td>...</td>\n",
       "      <td>...</td>\n",
       "      <td>...</td>\n",
       "      <td>...</td>\n",
       "      <td>...</td>\n",
       "      <td>...</td>\n",
       "    </tr>\n",
       "    <tr>\n",
       "      <th>747</th>\n",
       "      <td>61418</td>\n",
       "      <td>КАГОР ТАМ КР СЛ</td>\n",
       "      <td>RU</td>\n",
       "      <td>179.004</td>\n",
       "      <td>125.3028</td>\n",
       "      <td>от промо цены</td>\n",
       "      <td>Сладкое</td>\n",
       "      <td>Красное</td>\n",
       "      <td>0.700</td>\n",
       "    </tr>\n",
       "    <tr>\n",
       "      <th>748</th>\n",
       "      <td>615581</td>\n",
       "      <td>ДЖАСТ МЕРЛО КР СХ</td>\n",
       "      <td>FR</td>\n",
       "      <td>149.004</td>\n",
       "      <td>104.3028</td>\n",
       "      <td>NaN</td>\n",
       "      <td>Сухое</td>\n",
       "      <td>Красное</td>\n",
       "      <td>0.187</td>\n",
       "    </tr>\n",
       "    <tr>\n",
       "      <th>749</th>\n",
       "      <td>615582</td>\n",
       "      <td>ДЖАСТ КБСВ КР СХ</td>\n",
       "      <td>FR</td>\n",
       "      <td>149.004</td>\n",
       "      <td>104.3028</td>\n",
       "      <td>NaN</td>\n",
       "      <td>Сухое</td>\n",
       "      <td>Красное</td>\n",
       "      <td>0.187</td>\n",
       "    </tr>\n",
       "    <tr>\n",
       "      <th>750</th>\n",
       "      <td>83302</td>\n",
       "      <td>АДАГУМ КБСВ КР СХ</td>\n",
       "      <td>RU</td>\n",
       "      <td>119.004</td>\n",
       "      <td>83.3028</td>\n",
       "      <td>NaN</td>\n",
       "      <td>Сухое</td>\n",
       "      <td>Красное</td>\n",
       "      <td>0.187</td>\n",
       "    </tr>\n",
       "    <tr>\n",
       "      <th>751</th>\n",
       "      <td>482447</td>\n",
       "      <td>АВТОРСКОЕ №1 КР СХ</td>\n",
       "      <td>RU</td>\n",
       "      <td>119.000</td>\n",
       "      <td>83.3000</td>\n",
       "      <td>NaN</td>\n",
       "      <td>Сухое</td>\n",
       "      <td>Красное</td>\n",
       "      <td>0.187</td>\n",
       "    </tr>\n",
       "  </tbody>\n",
       "</table>\n",
       "<p>752 rows × 9 columns</p>\n",
       "</div>"
      ],
      "text/plain": [
       "         Id                   Name Country      Price     WHPrice  \\\n",
       "0     56885        САССИКАЙЯ КР СХ      IT  27799.000  19459.3000   \n",
       "1    666560      СИЕПИ МАЗЕЙ КР СХ      IT  15999.000  11199.3000   \n",
       "2    533769        ПАЛАФРЕНО КР СХ      IT  14999.004  10499.3028   \n",
       "3     93733   АНТ ТИНЬЯНЕЛЛО КР СХ      IT  14499.012  10149.3084   \n",
       "4    644863      ШАТО МОНРОЗ КР СХ      FR  12999.000   9099.3000   \n",
       "..      ...                    ...     ...        ...         ...   \n",
       "747   61418        КАГОР ТАМ КР СЛ      RU    179.004    125.3028   \n",
       "748  615581      ДЖАСТ МЕРЛО КР СХ      FR    149.004    104.3028   \n",
       "749  615582       ДЖАСТ КБСВ КР СХ      FR    149.004    104.3028   \n",
       "750   83302      АДАГУМ КБСВ КР СХ      RU    119.004     83.3028   \n",
       "751  482447     АВТОРСКОЕ №1 КР СХ      RU    119.000     83.3000   \n",
       "\n",
       "                etc  Acidity    Color  Volume  \n",
       "0               NaN    Сухое  Красное   0.750  \n",
       "1               NaN    Сухое  Красное   0.750  \n",
       "2               NaN    Сухое  Красное   0.750  \n",
       "3               NaN    Сухое  Красное   0.750  \n",
       "4    от промо цены     Сухое  Красное   0.750  \n",
       "..              ...      ...      ...     ...  \n",
       "747  от промо цены   Сладкое  Красное   0.700  \n",
       "748             NaN    Сухое  Красное   0.187  \n",
       "749             NaN    Сухое  Красное   0.187  \n",
       "750             NaN    Сухое  Красное   0.187  \n",
       "751             NaN    Сухое  Красное   0.187  \n",
       "\n",
       "[752 rows x 9 columns]"
      ]
     },
     "execution_count": 12,
     "metadata": {},
     "output_type": "execute_result"
    }
   ],
   "source": [
    "import pandas as pd\n",
    "\n",
    "pl = pd.read_excel(\"data/wine-price-ru.xlsx\")\n",
    "pl"
   ]
  },
  {
   "cell_type": "markdown",
   "metadata": {},
   "source": [
    "Предположим, мы хотим научиться отвечать на вопросы по прайс-листу, например, какое есть самое дешевое красное вино из Италии. Это можно сделать несколькими способами:\n",
    "\n",
    "* Попытаться закинуть прайс-лист в контекст модели. Этот подход будет работать только для очень небольших таблиц. Конечно, можно попробовать использовать RAG (подробнее про это ниже), но без видения всей таблицы модель не сможет найти самое дешевое вино.\n",
    "* Попытаться организовать трансляцию запроса не естественном языке в SQL-подобный язык. Это идеальный вариант, но его сложно сделать без ошибок без fine-tuning-а модели. \n",
    "* Извлечь из текстового запроса основные параметры того, что хочет пользователь, и затем сформировать на этой основе запрос, извлечающий данные из таблицы. Такой подход описан, например, в статье [Querying Databases with Function Calling](https://arxiv.org/html/2502.00032v1)\n",
    "\n",
    "В любом случае, два последних варианта подразумевают использование технологии Function Calling - когда модель может сама решить, когда ей надо вызвать некоторую **внешнюю функцию**, и какие параметры нужно ей передать.\n",
    "\n",
    "Чтобы function calling работал - нам надо сообщить LLM о доступных **инструментах**. Это можно сделать, передав с помощью JSON-схемы описание возможностей таких инструментов и их параметров.\n",
    "\n",
    "Часто, чтобы не писать JSON-схему для function calling вручную, используют типизированные объекты Pyton pydantic. Для извлечения параметров запроса о вине, мы создадим такой объект: "
   ]
  },
  {
   "cell_type": "code",
   "execution_count": 13,
   "metadata": {
    "execution": {
     "iopub.execute_input": "2025-04-02T10:21:31.863550Z",
     "iopub.status.busy": "2025-04-02T10:21:31.862594Z",
     "iopub.status.idle": "2025-04-02T10:21:31.992312Z",
     "shell.execute_reply": "2025-04-02T10:21:31.991296Z",
     "shell.execute_reply.started": "2025-04-02T10:21:31.863511Z"
    },
    "tags": []
   },
   "outputs": [],
   "source": [
    "from pydantic import BaseModel, Field\n",
    "from typing import Optional\n",
    "\n",
    "class SearchWinePriceList(BaseModel):\n",
    "    \"\"\"Эта функция позволяет искать вина в прайс-листе по одному или нескольким параметрам.\"\"\"\n",
    "\n",
    "    name: str = Field(description=\"Название вина\", default=None)\n",
    "    country: str = Field(description=\"Страна на русском языке\", default=None)\n",
    "    acidity: str = Field(\n",
    "        description=\"Кислотность (сухое, полусухое, сладкое, полусладкое)\", default=None\n",
    "    )\n",
    "    color: str = Field(description=\"Цвет вина (красное, белое, розовое)\", default=None)\n",
    "    sort_order: str = Field(\n",
    "        description=\"Порядок выдачи (most expensive, cheapest, random, average)\",\n",
    "        default=None,\n",
    "    )\n",
    "    what_to_return: str = Field(\n",
    "        description=\"Что вернуть (wine info или price)\", default=None\n",
    "    )"
   ]
  },
  {
   "cell_type": "markdown",
   "metadata": {},
   "source": [
    "Теперь создадим инструмент (tool) и передадим его в запрос модели. Также в инструкции ассистенту пропишем, что он может использовать Function Calling."
   ]
  },
  {
   "cell_type": "code",
   "execution_count": 14,
   "metadata": {
    "execution": {
     "iopub.execute_input": "2025-04-02T10:21:41.573911Z",
     "iopub.status.busy": "2025-04-02T10:21:41.572992Z",
     "iopub.status.idle": "2025-04-02T10:21:42.323319Z",
     "shell.execute_reply": "2025-04-02T10:21:42.322477Z",
     "shell.execute_reply.started": "2025-04-02T10:21:41.573869Z"
    },
    "tags": []
   },
   "outputs": [
    {
     "data": {
      "text/plain": [
       "{'id': 'ddc42d67-fd33-4cac-aa83-3a1e759bf404',\n",
       " 'created_at': 1758615630577.0,\n",
       " 'error': None,\n",
       " 'incomplete_details': None,\n",
       " 'instructions': '\\nТы - опытный сомелье, в задачу которого входит отвечать на вопросы пользователя про вина\\nи рекомендовать лучшие вина к еде, а также искать вина в прайс-листе нашего магазина. \\nПосмотри на всю имеющуюся в твоем распоряжении информацию\\nи выдай одну или несколько лучших рекомендаций. Если вопрос касается конкретных вин\\nили цены, то используй Function Calling.\\nЕсли что-то непонятно, то лучше уточни информацию у пользователя.\\n',\n",
       " 'metadata': None,\n",
       " 'model': 'gpt://b1gst3c7cskk2big5fqn/yandexgpt/latest',\n",
       " 'object': 'response',\n",
       " 'output': [{'arguments': '{\"country\":\"Австралия\",\"sort_order\":\"cheapest\",\"what_to_return\":\"price\"}',\n",
       "   'call_id': 'Exercise',\n",
       "   'name': 'Exercise',\n",
       "   'type': 'function_call',\n",
       "   'id': 'Exercise',\n",
       "   'status': 'completed',\n",
       "   'valid': True}],\n",
       " 'parallel_tool_calls': True,\n",
       " 'temperature': None,\n",
       " 'tool_choice': 'auto',\n",
       " 'tools': [{'name': 'Exercise',\n",
       "   'parameters': {'description': 'Эта функция позволяет искать вина в прайс-листе по одному или нескольким параметрам.',\n",
       "    'properties': {'name': {'default': None,\n",
       "      'description': 'Название вина',\n",
       "      'title': 'Name',\n",
       "      'type': 'string'},\n",
       "     'country': {'default': None,\n",
       "      'description': 'Страна на русском языке',\n",
       "      'title': 'Country',\n",
       "      'type': 'string'},\n",
       "     'acidity': {'default': None,\n",
       "      'description': 'Кислотность (сухое, полусухое, сладкое, полусладкое)',\n",
       "      'title': 'Acidity',\n",
       "      'type': 'string'},\n",
       "     'color': {'default': None,\n",
       "      'description': 'Цвет вина (красное, белое, розовое)',\n",
       "      'title': 'Color',\n",
       "      'type': 'string'},\n",
       "     'sort_order': {'default': None,\n",
       "      'description': 'Порядок выдачи (most expensive, cheapest, random, average)',\n",
       "      'title': 'Sort Order',\n",
       "      'type': 'string'},\n",
       "     'what_to_return': {'default': None,\n",
       "      'description': 'Что вернуть (wine info или price)',\n",
       "      'title': 'What To Return',\n",
       "      'type': 'string'}},\n",
       "    'title': 'SearchWinePriceList',\n",
       "    'type': 'object'},\n",
       "   'strict': None,\n",
       "   'type': 'function',\n",
       "   'description': 'Вызывай, когда пользователь хочет получить информацию о конкретных винах или их стоимости.',\n",
       "   'valid': True}],\n",
       " 'top_p': None,\n",
       " 'background': False,\n",
       " 'max_output_tokens': None,\n",
       " 'max_tool_calls': None,\n",
       " 'previous_response_id': None,\n",
       " 'prompt': None,\n",
       " 'reasoning': None,\n",
       " 'service_tier': None,\n",
       " 'status': 'completed',\n",
       " 'text': None,\n",
       " 'top_logprobs': None,\n",
       " 'truncation': None,\n",
       " 'usage': None,\n",
       " 'user': '',\n",
       " 'valid': True}"
      ]
     },
     "execution_count": 14,
     "metadata": {},
     "output_type": "execute_result"
    }
   ],
   "source": [
    "tools = [\n",
    "    {\n",
    "        \"type\": \"function\",\n",
    "        \"name\": \"Exercise\",\n",
    "        \"description\": \"Вызывай, когда пользователь хочет получить информацию о конкретных винах или их стоимости.\",\n",
    "        \"parameters\": SearchWinePriceList.model_json_schema(),\n",
    "    }\n",
    "]\n",
    "\n",
    "instruction = \"\"\"\n",
    "Ты - опытный сомелье, в задачу которого входит отвечать на вопросы пользователя про вина\n",
    "и рекомендовать лучшие вина к еде, а также искать вина в прайс-листе нашего магазина. \n",
    "Посмотри на всю имеющуюся в твоем распоряжении информацию\n",
    "и выдай одну или несколько лучших рекомендаций. Если вопрос касается конкретных вин\n",
    "или цены, то используй Function Calling.\n",
    "Если что-то непонятно, то лучше уточни информацию у пользователя.\n",
    "\"\"\"\n",
    "\n",
    "res = client.responses.create(\n",
    "    model = model,\n",
    "    store = True,\n",
    "    tools = tools,\n",
    "    instructions = instruction,\n",
    "    input = \"Какое самое дешевое вино из Австралии?\"\n",
    ")\n",
    "res.to_dict()"
   ]
  },
  {
   "cell_type": "markdown",
   "metadata": {},
   "source": [
    "Видим, что в итоге вернулся ответ, указывающий, что надо сделать Funtion Call для получения данных из таблицы. При это LLM извлекла из текста все параметры запроса.\n",
    "\n",
    "Реализуем функцию, которая возвращает список вин по параметрам, заданным в виде объекта `SearchWinePriceList`:"
   ]
  },
  {
   "cell_type": "code",
   "execution_count": 15,
   "metadata": {
    "execution": {
     "iopub.execute_input": "2025-04-02T10:21:55.656394Z",
     "iopub.status.busy": "2025-04-02T10:21:55.655068Z",
     "iopub.status.idle": "2025-04-02T10:21:55.674107Z",
     "shell.execute_reply": "2025-04-02T10:21:55.673235Z",
     "shell.execute_reply.started": "2025-04-02T10:21:55.656343Z"
    },
    "tags": []
   },
   "outputs": [
    {
     "name": "stdout",
     "output_type": "stream",
     "text": [
      "Вот какие вина были найдены:\n",
      " ДЖИНДАЛИ КБСВ КР ПСХ (Австралия) - 499.0\n",
      " ДЖИНДАЛИ МЕРЛО КР ПСХ (Австралия) - 499.0\n",
      " ЧОЛК ХИЛЛ ШИРАЗ КР СХ (Австралия) - 509.0\n",
      " ПИТ'С ПЮР ПННР КР ПСХ (Австралия) - 579.0\n",
      " ПИТ'С ПЮР ШИРАЗ КР ПСХ (Австралия) - 579.0\n",
      " СТАМП ДЖАМП КР СХ (Австралия) - 789.0\n",
      " ЛИНД БИН50 ШИР КР ПСХ (Австралия) - 899.0\n",
      " ЛЭКИ ШИРАЗ КРСХ (Австралия) - 978.996\n",
      " СТЭДФАСТ ШИР КАБ КРСХ (Австралия) - 999.0\n",
      " ТИРРЕЛЗ ШИР КР СХ (Австралия) - 1098.996\n"
     ]
    }
   ],
   "source": [
    "country_map = {\n",
    "    \"IT\": \"Италия\",\n",
    "    \"FR\": \"Франция\",\n",
    "    \"ES\": \"Испания\",\n",
    "    \"RU\": \"Россия\",\n",
    "    \"PT\": \"Португалия\",\n",
    "    \"AR\": \"Армения\",\n",
    "    \"CL\": \"Чили\",\n",
    "    \"AU\": \"Австрия\",\n",
    "    \"GE\": \"Грузия\",\n",
    "    \"ZA\": \"ЮАР\",\n",
    "    \"US\": \"США\",\n",
    "    \"NZ\": \"Новая Зеландия\",\n",
    "    \"DE\": \"Германия\",\n",
    "    \"AT\": \"Австрия\",\n",
    "    \"IL\": \"Израиль\",\n",
    "    \"BG\": \"Болгария\",\n",
    "    \"GR\": \"Греция\",\n",
    "    \"AU\": \"Австралия\",\n",
    "}\n",
    "\n",
    "revmap = {v.lower(): k for k, v in country_map.items()}\n",
    "\n",
    "\n",
    "def find_wines(req):\n",
    "    x = pl.copy()\n",
    "    if req.country and req.country.lower() in revmap.keys():\n",
    "        x = x[x[\"Country\"] == revmap[req.country.lower()]]\n",
    "    if req.acidity:\n",
    "        x = x[x[\"Acidity\"] == req.acidity.capitalize()]\n",
    "    if req.color:\n",
    "        x = x[x[\"Color\"] == req.color.capitalize()]\n",
    "    if req.name:\n",
    "        x = x[x[\"Name\"].apply(lambda x: req.name.lower() in x.lower())]\n",
    "    if req.sort_order and len(x)>0:\n",
    "        if req.sort_order == \"cheapest\":\n",
    "            x = x.sort_values(by=\"Price\")\n",
    "        elif req.sort_order == \"most expensive\":\n",
    "            x = x.sort_values(by=\"Price\", ascending=False)\n",
    "        else:\n",
    "            pass\n",
    "    if x is None or len(x) == 0:\n",
    "        return \"Подходящих вин не найдено\"\n",
    "    return \"Вот какие вина были найдены:\\n\" + \"\\n\".join(\n",
    "        [\n",
    "            f\"{z['Name']} ({country_map.get(z['Country'],'Неизвестно')}) - {z['Price']}\"\n",
    "            for _, z in x.head(10).iterrows()\n",
    "        ]\n",
    "    )\n",
    "\n",
    "\n",
    "print(find_wines(SearchWinePriceList(country=\"Австралия\", sort_order=\"cheapest\")))"
   ]
  },
  {
   "cell_type": "markdown",
   "metadata": {},
   "source": [
    "В ответ на Function Call нам нужно сформировать ответ от функции, и передать её обратно для обработки языковой моделью. В нашем случае функция может быть только одна, поэтому мы не проверяем название функции, а всегда запрашиваем поиск в таблице:"
   ]
  },
  {
   "cell_type": "code",
   "execution_count": 16,
   "metadata": {
    "execution": {
     "iopub.execute_input": "2025-04-02T10:21:57.512142Z",
     "iopub.status.busy": "2025-04-02T10:21:57.510681Z",
     "iopub.status.idle": "2025-04-02T10:22:01.472670Z",
     "shell.execute_reply": "2025-04-02T10:22:01.471696Z",
     "shell.execute_reply.started": "2025-04-02T10:21:57.512092Z"
    },
    "tags": []
   },
   "outputs": [
    {
     "name": "stdout",
     "output_type": "stream",
     "text": [
      " + Обрабатываем: Exercise (call_id=Exercise, args={\"country\":\"Австралия\",\"sort_order\":\"cheapest\",\"what_to_return\":\"price\"})\n",
      " + Результат: Вот какие вина были найдены:\n",
      " ДЖИНДАЛИ КБСВ КР ПСХ (Австралия) - 499.0\n",
      " ДЖИНДАЛИ МЕРЛО КР ПСХ (Австралия) - 499.0\n",
      " ЧОЛК ХИЛЛ ШИРАЗ КР СХ (Австралия) - 509.0\n",
      " ПИТ'С ПЮР ПННР КР ПСХ (Австралия) - 579.0\n",
      " ПИТ'С ПЮР ШИРАЗ КР ПСХ (Австралия) - 579.0\n",
      " СТАМП ДЖАМП КР СХ (Австралия) - 789.0\n",
      " ЛИНД БИН50 ШИР КР ПСХ (Австралия) - 899.0\n",
      " ЛЭКИ ШИРАЗ КРСХ (Австралия) - 978.996\n",
      " СТЭДФАСТ ШИР КАБ КРСХ (Австралия) - 999.0\n",
      " ТИРРЕЛЗ ШИР КР СХ (Австралия) - 1098.996\n"
     ]
    },
    {
     "data": {
      "text/markdown": [
       "Самое дешёвое вино из Австралии — это ДЖИНДАЛИ КБСВ КР ПСХ и ДЖИНДАЛИ МЕРЛО КР ПСХ, оба по цене 499.0 рублей."
      ],
      "text/plain": [
       "<IPython.core.display.Markdown object>"
      ]
     },
     "metadata": {},
     "output_type": "display_data"
    }
   ],
   "source": [
    "import json \n",
    "\n",
    "tool_calls = [item for item in res.output if item.type == \"function_call\"]\n",
    "\n",
    "if tool_calls:\n",
    "    out = []\n",
    "    for call in tool_calls:\n",
    "        print(f\" + Обрабатываем: {call.name} (call_id={call.call_id}, args={call.arguments})\")\n",
    "        try:\n",
    "            args = json.loads(call.arguments)\n",
    "            args = SearchWinePriceList.model_validate(args)\n",
    "            result = find_wines(args)\n",
    "        except Exception as e:\n",
    "            result = f\"Ошибка: {e}\"\n",
    "        print(f\" + Результат: {result}\")\n",
    "        out.append({\n",
    "            \"type\": \"function_call_output\",\n",
    "            \"call_id\": call.call_id,\n",
    "            \"output\": result\n",
    "        })\n",
    "        res = client.responses.create(\n",
    "            model=model,\n",
    "            input=out,\n",
    "            tools=tools,\n",
    "            previous_response_id=res.id,\n",
    "            store=True\n",
    "        )\n",
    "\n",
    "printx(res.output_text)"
   ]
  },
  {
   "cell_type": "markdown",
   "metadata": {},
   "source": [
    "Таким образом, для вызова функции необходимо:\n",
    "* Сообщить модели о доступных функциях\n",
    "* При вызове модели обработать функциональный вызов, если в результате вызова модель вернула соответствующий ответ\n",
    "\n",
    "## Релизуем агента с Function Calling\n",
    "\n",
    "Для реализации полноценного ассистента добавим ещё функцию добавления вина в корзину, распечатку корзины и передачи общения оператору.\n",
    "\n",
    "Немного структурируем наш код:\n",
    "* Добавим функцию для обработки вызова фукции прямо в класс с описанием данных\n",
    "* Создадим класс `Assistant`, который будет реализовывать функциональный вызов, а также автоматически поддерживать диалог, запоминая идентификаторы предыдущих ответов.\n",
    "\n",
    "> Чтобы ассистент мог поддерживать диалог сразу с несколькими пользователями, нам нужно также ввести некоторый идентификатор сессии `session_id`, и для каждой сессии помнить свою историю переписки и `id` последнего сообщения. Идентификатор сессии мы также будет передавать во все функции `session_id`.\n"
   ]
  },
  {
   "cell_type": "code",
   "execution_count": 17,
   "metadata": {
    "execution": {
     "iopub.execute_input": "2025-04-02T10:23:03.788133Z",
     "iopub.status.busy": "2025-04-02T10:23:03.786611Z",
     "iopub.status.idle": "2025-04-02T10:23:03.808994Z",
     "shell.execute_reply": "2025-04-02T10:23:03.808073Z",
     "shell.execute_reply.started": "2025-04-02T10:23:03.788078Z"
    },
    "tags": []
   },
   "outputs": [],
   "source": [
    "class SearchWinePriceList(BaseModel):\n",
    "    \"\"\"Эта функция позволяет искать вина в прайс-листе по одному или нескольким параметрам.\"\"\"\n",
    "\n",
    "    name: str = Field(description=\"Название вина\", default=None)\n",
    "    country: str = Field(description=\"Страна на русском языке\", default=None)\n",
    "    acidity: str = Field(\n",
    "        description=\"Кислотность (сухое, полусухое, сладкое, полусладкое)\", default=None\n",
    "    )\n",
    "    color: str = Field(description=\"Цвет вина (красное, белое, розовое)\", default=None)\n",
    "    sort_order: str = Field(\n",
    "        description=\"Порядок выдачи (most expensive, cheapest, random, average)\",\n",
    "        default=None,\n",
    "    )\n",
    "    what_to_return: str = Field(\n",
    "        description=\"Что вернуть (wine info или price)\", default=None\n",
    "    )\n",
    "\n",
    "    def process(self, session_id):\n",
    "        return find_wines(self)"
   ]
  },
  {
   "cell_type": "markdown",
   "metadata": {},
   "source": [
    "Также в виде функции реализуем функциональность передачи управления оператору. В данном случае мы будем просто устанавливать некоторый глобальный флаг `handover` - это очень грубое решение и сделано для простоты, в реальной жизни надо будет подумать над более правильной логикой, поддерживающей нескольких пользователей."
   ]
  },
  {
   "cell_type": "code",
   "execution_count": 18,
   "metadata": {
    "execution": {
     "iopub.execute_input": "2025-04-02T10:23:05.464292Z",
     "iopub.status.busy": "2025-04-02T10:23:05.462736Z",
     "iopub.status.idle": "2025-04-02T10:23:05.485292Z",
     "shell.execute_reply": "2025-04-02T10:23:05.484304Z",
     "shell.execute_reply.started": "2025-04-02T10:23:05.464239Z"
    },
    "tags": []
   },
   "outputs": [],
   "source": [
    "handover = False\n",
    "\n",
    "class Handover(BaseModel):\n",
    "    \"\"\"Эта функция позволяет передать диалог человеку-оператору поддержки\"\"\"\n",
    "\n",
    "    reason: str = Field(\n",
    "        description=\"Причина для вызова оператора\", default=\"не указана\"\n",
    "    )\n",
    "\n",
    "    def process(self, session_id):\n",
    "        global handover\n",
    "        handover = True\n",
    "        return f\"Я побежала вызывать оператора, ваш {session_id=}, причина: {self.reason}\""
   ]
  },
  {
   "cell_type": "markdown",
   "metadata": {},
   "source": [
    "Также реализуем функцию добавления вин в корзину. Чтобы для каждого пользователя была своя корзина, будем привязывать её к идентификатору сессии:"
   ]
  },
  {
   "cell_type": "code",
   "execution_count": 19,
   "metadata": {
    "execution": {
     "iopub.execute_input": "2025-04-02T10:23:06.478477Z",
     "iopub.status.busy": "2025-04-02T10:23:06.476981Z",
     "iopub.status.idle": "2025-04-02T10:23:06.512085Z",
     "shell.execute_reply": "2025-04-02T10:23:06.511113Z",
     "shell.execute_reply.started": "2025-04-02T10:23:06.478426Z"
    },
    "tags": []
   },
   "outputs": [],
   "source": [
    "carts = {}\n",
    "\n",
    "class AddToCart(BaseModel):\n",
    "    \"\"\"Эта функция позволяет положить или добавить вино в корзину\"\"\"\n",
    "\n",
    "    wine_name: str = Field(\n",
    "        description=\"Точное название вина, чтобы положить в корзину\", default=None\n",
    "    )\n",
    "    count: int = Field(\n",
    "        description=\"Количество бутылок вина, которое нужно положить в корзину\",\n",
    "        default=1,\n",
    "    )\n",
    "\n",
    "    def process(self, session_id):\n",
    "        if session_id not in carts:\n",
    "            carts[session_id] = []\n",
    "        carts[session_id].append(self)\n",
    "        return f\"Вино {self.wine_name} добавлено в корзину, число бутылок: {self.count}\""
   ]
  },
  {
   "cell_type": "markdown",
   "metadata": {},
   "source": [
    "Наконец, оформим функцию для показа корзины:"
   ]
  },
  {
   "cell_type": "code",
   "execution_count": 20,
   "metadata": {
    "execution": {
     "iopub.execute_input": "2025-04-02T10:23:07.968160Z",
     "iopub.status.busy": "2025-04-02T10:23:07.966910Z",
     "iopub.status.idle": "2025-04-02T10:23:07.995890Z",
     "shell.execute_reply": "2025-04-02T10:23:07.994951Z",
     "shell.execute_reply.started": "2025-04-02T10:23:07.968102Z"
    },
    "tags": []
   },
   "outputs": [],
   "source": [
    "class ShowCart(BaseModel):\n",
    "    \"\"\"Эта функция позволяет показать содержимое корзины\"\"\"\n",
    "\n",
    "    def process(self, session_id):\n",
    "        if session_id not in carts or len(carts[session_id]) == 0:\n",
    "            return \"Корзина пуста\"\n",
    "        return \"В корзине находятся следующие вина:\\n\" + \"\\n\".join(\n",
    "            [f\"{x.wine_name}, число бутылок: {x.count}\" for x in carts[session_id]]\n",
    "        )"
   ]
  },
  {
   "cell_type": "markdown",
   "metadata": {},
   "source": [
    "Теперь реализуем главный класс `Agent`, который будет брать на себя обработку функций. В качестве `tools` будем передавать список описанных нами ранее классов."
   ]
  },
  {
   "cell_type": "code",
   "execution_count": 100,
   "metadata": {
    "execution": {
     "iopub.execute_input": "2025-04-02T10:23:15.539662Z",
     "iopub.status.busy": "2025-04-02T10:23:15.538363Z",
     "iopub.status.idle": "2025-04-02T10:23:15.557113Z",
     "shell.execute_reply": "2025-04-02T10:23:15.556243Z",
     "shell.execute_reply.started": "2025-04-02T10:23:15.539610Z"
    },
    "tags": []
   },
   "outputs": [],
   "source": [
    "class Agent():\n",
    "    user_sessions = {}\n",
    "\n",
    "    def __init__(self, instruction, tools = [], session_id='default', model=model):\n",
    "        self.instruction = instruction\n",
    "        self.model = model\n",
    "        self.tool_map = { x.__name__ : x for x in tools if issubclass(x, BaseModel) }\n",
    "        self.tools = [\n",
    "            self._create_tool_annot(x) for x in tools\n",
    "        ]\n",
    "        if session_id not in self.user_sessions:\n",
    "            self.user_sessions[session_id] = {\n",
    "                \"last_reply_id\" : None,\n",
    "                \"history\" : [],\n",
    "            }\n",
    "\n",
    "    def _create_tool_annot(self, x):\n",
    "        if issubclass(x, BaseModel):\n",
    "            return {\n",
    "                \"type\": \"function\",\n",
    "                \"name\": x.__name__,\n",
    "                \"description\": x.__doc__,\n",
    "                \"parameters\": x.model_json_schema(),\n",
    "            }\n",
    "        else:\n",
    "            return x\n",
    "\n",
    "    def __call__(self, message, session_id='default'):\n",
    "        s = self.user_sessions.get(session_id,{ 'last_reply_id' : None, 'history' : [] })\n",
    "        s['history'].append({ 'role': 'user', 'content': message })\n",
    "        res = client.responses.create(\n",
    "            model = self.model,\n",
    "            store = True,\n",
    "            tools = self.tools,\n",
    "            instructions = self.instruction,\n",
    "            previous_response_id = s['last_reply_id'],\n",
    "            input = message\n",
    "        )\n",
    "        # Обрабатываем вызов локальных инструментов\n",
    "        tool_calls = [item for item in res.output if item.type == \"function_call\"]\n",
    "        if tool_calls:\n",
    "            s['history'].append({ 'role' : 'func_call', 'content' : res.output_text })\n",
    "            out = []\n",
    "            for call in tool_calls:\n",
    "                print(f\" + Обрабатываем: {call.name} ({call.arguments})\")\n",
    "                try:\n",
    "                    fn = self.tool_map[call.name]\n",
    "                    obj = fn.model_validate(json.loads(call.arguments))\n",
    "                    result = obj.process(session_id)\n",
    "                except Exception as e:\n",
    "                    result = f\"Ошибка: {e}\"\n",
    "                #print(f\" + Результат: {result}\")\n",
    "                out.append({\n",
    "                    \"type\": \"function_call_output\",\n",
    "                    \"call_id\": call.call_id,\n",
    "                    \"output\": result\n",
    "                })\n",
    "                res = client.responses.create(\n",
    "                    model=self.model,\n",
    "                    input=out,\n",
    "                    tools=self.tools,\n",
    "                    previous_response_id=res.id,\n",
    "                    store=True\n",
    "                )\n",
    "        # MCP Approval Requests\n",
    "        mcp_approve = [ item for item in res.output if item.type == \"mcp_approval_request\"]\n",
    "        if mcp_approve:\n",
    "            res = client.responses.create(\n",
    "                model=self.model,\n",
    "                previous_response_id=res.id,\n",
    "                tools = self.tools,\n",
    "                input=[{\n",
    "                    \"type\": \"mcp_approval_response\",\n",
    "                    \"approve\": True,\n",
    "                    \"approval_request_id\": m.id\n",
    "                }\n",
    "                for m in mcp_approve\n",
    "                ])\n",
    "        self.user_sessions[session_id]['last_reply_id'] = res.id\n",
    "        s['history'].append({ 'role' : 'assistant', 'content' : res.output_text })\n",
    "        return res\n",
    "\n",
    "    def history(self, session_id='default'):\n",
    "        return self.user_sessions[session_id]['history']"
   ]
  },
  {
   "cell_type": "markdown",
   "metadata": {},
   "source": [
    "Создадим нашего агента - винного сомелье. В системном промпте пропишем ему возможные варианты для вызова функции, чтобы облегчить задачу."
   ]
  },
  {
   "cell_type": "code",
   "execution_count": 67,
   "metadata": {
    "execution": {
     "iopub.execute_input": "2025-04-02T10:43:53.658253Z",
     "iopub.status.busy": "2025-04-02T10:43:53.657081Z",
     "iopub.status.idle": "2025-04-02T10:43:54.134496Z",
     "shell.execute_reply": "2025-04-02T10:43:54.133497Z",
     "shell.execute_reply.started": "2025-04-02T10:43:53.658201Z"
    },
    "tags": []
   },
   "outputs": [],
   "source": [
    "instruction = \"\"\"\n",
    "Ты - опытный сомелье, в задачу которого входит отвечать на вопросы пользователя про вина\n",
    "и рекомендовать лучшие вина к еде, а также искать вина в прайс-листе нашего магазина. \n",
    "Если вопрос касается конкретных вин или цены, то вызови функцию SearchWinePriceList.\n",
    "Для передачи управления оператору - вызови фукцию Handover. Для добавления вина в корзину\n",
    "используй AddToCart. Для просмотра корзины: ShowCart. Все названия вин, цветов, кислотности\n",
    "пиши на русском языке.\n",
    "\"\"\"\n",
    "\n",
    "wine_agent = Agent(\n",
    "    instruction=instruction,\n",
    "    tools=[SearchWinePriceList, Handover, AddToCart, ShowCart],\n",
    ")"
   ]
  },
  {
   "cell_type": "code",
   "execution_count": 68,
   "metadata": {
    "execution": {
     "iopub.execute_input": "2025-04-02T10:43:55.651455Z",
     "iopub.status.busy": "2025-04-02T10:43:55.650181Z",
     "iopub.status.idle": "2025-04-02T10:44:02.496782Z",
     "shell.execute_reply": "2025-04-02T10:44:02.495870Z",
     "shell.execute_reply.started": "2025-04-02T10:43:55.651413Z"
    },
    "tags": []
   },
   "outputs": [
    {
     "data": {
      "text/markdown": [
       "Со стейком традиционно подают **красные вина** с хорошей структурой, насыщенными танинами и выразительным вкусом, которые гармонируют с жирностью и насыщенным вкусом мяса.\n",
       "\n",
       "Наиболее популярные варианты:\n",
       "\n",
       "- **Каберне Совиньон** — насыщенное вино с танинами, чёрными ягодами, нотами дуба и лесного аромата. Отлично смягчает жирность стейка.\n",
       "- **Мальбек** — сочное, с фруктовыми нотами и шоколадными оттенками, особенно хорошо с прожаренным мясом.\n",
       "- **Сира (Шираз)** — пряное, с дымком, перцем и тёмными фруктами, отлично подчёркивает вкус гриля.\n",
       "- **Неббиоло** или **Бароло** — если стейк приготовлен особенно изысканно, можно выбрать мощное итальянское вино.\n",
       "\n",
       "Хочешь, я подберу конкретное вино из нашего ассортимента? Например, что-то сбалансированное и не слишком дорогое?"
      ],
      "text/plain": [
       "<IPython.core.display.Markdown object>"
      ]
     },
     "metadata": {},
     "output_type": "display_data"
    }
   ],
   "source": [
    "printx(wine_agent(\"Какое вино пьют со стейком?\").output_text)"
   ]
  },
  {
   "cell_type": "code",
   "execution_count": 69,
   "metadata": {
    "execution": {
     "iopub.execute_input": "2025-04-02T10:44:16.760593Z",
     "iopub.status.busy": "2025-04-02T10:44:16.759385Z",
     "iopub.status.idle": "2025-04-02T10:44:22.014549Z",
     "shell.execute_reply": "2025-04-02T10:44:22.013578Z",
     "shell.execute_reply.started": "2025-04-02T10:44:16.760534Z"
    },
    "tags": []
   },
   "outputs": [
    {
     "name": "stdout",
     "output_type": "stream",
     "text": [
      " + Обрабатываем: SearchWinePriceList ({\"name\": \"Кьянти\", \"what_to_return\": \"wine info\"})\n"
     ]
    },
    {
     "data": {
      "text/markdown": [
       "Вот список вин Кьянти, доступных в продаже:\n",
       "\n",
       "1. **Кверчаб Кьянти Красное сухое (Италия)** — 2499 руб.  \n",
       "2. **Полиц Кьянти Красное сухое (Италия)** — 1749,76 руб.  \n",
       "3. **Касал Кьянти Супериор Красное сухое (Италия)** — 1349 руб.  \n",
       "4. **Век Кант Кьянти Красное сухое (Италия)** — 1099 руб.  \n",
       "5. **Пределла Кьянти Красное сухое (Италия)** — 999 руб.  \n",
       "6. **Зонин Кьянти Красное сухое (Италия)** — 699 руб.  \n",
       "7. **Пределла Кьянти Красное сухое (Италия)** — 369 руб.  \n",
       "\n",
       "Кьянти — классическое итальянское красное вино из региона Тоскана, обычно с яркой кислотностью, нотами вишни, трав и слегка терпкой текстурой. Отлично подходит к пасте, пицце, мясу и выдержанным сырам.\n",
       "\n",
       "Если хотите, могу порекомендовать лучшее соотношение цены и качества или помочь с выбором к блюду."
      ],
      "text/plain": [
       "<IPython.core.display.Markdown object>"
      ]
     },
     "metadata": {},
     "output_type": "display_data"
    }
   ],
   "source": [
    "printx(wine_agent(\"Какие вина Кьянти есть в продаже?\").output_text)"
   ]
  },
  {
   "cell_type": "code",
   "execution_count": 25,
   "metadata": {
    "execution": {
     "iopub.execute_input": "2025-04-02T10:44:25.042526Z",
     "iopub.status.busy": "2025-04-02T10:44:25.041456Z",
     "iopub.status.idle": "2025-04-02T10:44:27.177927Z",
     "shell.execute_reply": "2025-04-02T10:44:27.177029Z",
     "shell.execute_reply.started": "2025-04-02T10:44:25.042477Z"
    },
    "tags": []
   },
   "outputs": [
    {
     "name": "stdout",
     "output_type": "stream",
     "text": [
      " + Обрабатываем: AddToCart ({\"count\":3,\"wine_name\":\"Полиц Кьянти\"})\n"
     ]
    },
    {
     "data": {
      "text/markdown": [
       "Вино \"Полиц Кьянти\" добавлено в корзину в количестве трех бутылок. Если вам нужно что-то еще, пожалуйста, дайте знать!"
      ],
      "text/plain": [
       "<IPython.core.display.Markdown object>"
      ]
     },
     "metadata": {},
     "output_type": "display_data"
    }
   ],
   "source": [
    "printx(wine_agent(\"Добавь в корзину Полиц Кьянти, три бутылки\").output_text)"
   ]
  },
  {
   "cell_type": "code",
   "execution_count": 26,
   "metadata": {
    "execution": {
     "iopub.execute_input": "2025-04-02T10:44:31.292544Z",
     "iopub.status.busy": "2025-04-02T10:44:31.290915Z",
     "iopub.status.idle": "2025-04-02T10:44:33.362197Z",
     "shell.execute_reply": "2025-04-02T10:44:33.361236Z",
     "shell.execute_reply.started": "2025-04-02T10:44:31.292485Z"
    },
    "tags": []
   },
   "outputs": [
    {
     "name": "stdout",
     "output_type": "stream",
     "text": [
      " + Обрабатываем: AddToCart ({\"wine_name\":\"Зонин Кьянти\"})\n"
     ]
    },
    {
     "data": {
      "text/markdown": [
       "Вино \"Зонин Кьянти\" добавлено в корзину. Если вам нужно что-то еще или хотите просмотреть содержимое корзины, дайте знать!"
      ],
      "text/plain": [
       "<IPython.core.display.Markdown object>"
      ]
     },
     "metadata": {},
     "output_type": "display_data"
    }
   ],
   "source": [
    "printx(wine_agent(\"Ещё положи в корзину Зонин Кьянти\").output_text)"
   ]
  },
  {
   "cell_type": "code",
   "execution_count": 27,
   "metadata": {
    "execution": {
     "iopub.execute_input": "2025-04-02T10:44:35.484123Z",
     "iopub.status.busy": "2025-04-02T10:44:35.482763Z",
     "iopub.status.idle": "2025-04-02T10:44:37.647020Z",
     "shell.execute_reply": "2025-04-02T10:44:37.646138Z",
     "shell.execute_reply.started": "2025-04-02T10:44:35.484076Z"
    },
    "tags": []
   },
   "outputs": [
    {
     "name": "stdout",
     "output_type": "stream",
     "text": [
      " + Обрабатываем: ShowCart ({})\n"
     ]
    },
    {
     "data": {
      "text/markdown": [
       "В вашей корзине находятся следующие вина:\n",
       "- Полиц Кьянти (3 бутылки)\n",
       "- Зонин Кьянти (1 бутылка)"
      ],
      "text/plain": [
       "<IPython.core.display.Markdown object>"
      ]
     },
     "metadata": {},
     "output_type": "display_data"
    }
   ],
   "source": [
    "printx(wine_agent(\"Что у меня в корзине?\").output_text)"
   ]
  },
  {
   "cell_type": "code",
   "execution_count": 28,
   "metadata": {
    "execution": {
     "iopub.execute_input": "2025-04-02T10:44:40.190380Z",
     "iopub.status.busy": "2025-04-02T10:44:40.189247Z",
     "iopub.status.idle": "2025-04-02T10:44:42.042319Z",
     "shell.execute_reply": "2025-04-02T10:44:42.041422Z",
     "shell.execute_reply.started": "2025-04-02T10:44:40.190338Z"
    },
    "tags": []
   },
   "outputs": [
    {
     "name": "stdout",
     "output_type": "stream",
     "text": [
      " + Обрабатываем: Handover ({\"reason\":\"Оформление доставки\"})\n"
     ]
    },
    {
     "data": {
      "text/markdown": [
       "Ожидайте, скоро с вами свяжется оператор для оформления доставки."
      ],
      "text/plain": [
       "<IPython.core.display.Markdown object>"
      ]
     },
     "metadata": {},
     "output_type": "display_data"
    }
   ],
   "source": [
    "printx(wine_agent(\"Вызови оператора, хочу оформить доставку!\").output_text)"
   ]
  },
  {
   "cell_type": "markdown",
   "metadata": {},
   "source": [
    "## Model Context Protocol\n",
    "\n",
    "Мы научились интегрировать в ассистента локальные функции, но иногда бывает так, что функции предоставляются какими-то внешними поставщиками информации. Предположим, мы хотим сделать универсального ассистента, который сможет анализировать цены в различных интернет-магазинах. Для этого нужно, чтобы интернет-магазины предоставляли доступ к своим прайс-листам в виде удалённых функций, доступных через протокол MCP: Model Context Protocol. \n",
    "\n",
    "Реализуем такой MCP-сервер для доступа к прайс-листу магазина. Для этого мы используем библиотеку [FastMCP](https://gofastmcp.com/). Пример реализации сервера доступен [здесь](mcp-server/mcp-wine-shop.py), запустить его можно командой\n",
    "```bash\n",
    "fastmcp run mcp-wine-shop.py -t sse -p 3000 --host 0.0.0.0\n",
    "```\n",
    "\n",
    "Вы также можете запустить сервер с помощью [FastMCP Cloud](https://fastmcp.cloud/) используя [этот GitHub-репозиторий](https://github.com/yandex-datasphere/advanced-assistant-mcp)"
   ]
  },
  {
   "cell_type": "code",
   "execution_count": 70,
   "metadata": {},
   "outputs": [],
   "source": [
    "mcp_tool = {\n",
    "            \"type\": \"mcp\",\n",
    "            \"server_label\": \"Wine-Shop\",\n",
    "            \"server_description\": \"Функция для запроса цен на вино в винном магазине\",\n",
    "            #\"server_url\": \"https://wineparadise.fastmcp.app/mcp\",\n",
    "            \"server_url\": \"http://cathy.ycloud.eazify.net:8000/sse\",\n",
    "            \"require_approval\": \"never\",\n",
    "    }\n",
    "\n",
    "instruction = \"\"\"\n",
    "Ты - опытный сомелье, в задачу которого входит отвечать на вопросы пользователя про вина\n",
    "и рекомендовать лучшие вина к еде, а также искать вина в прайс-листе нашего магазина. \n",
    "Если вопрос касается конкретных вин или цены, то вызови функцию MCP-сервера.\n",
    "\"\"\"\n",
    "\n",
    "wine_agent = Agent(\n",
    "    instruction=instruction,\n",
    "    tools=[mcp_tool],\n",
    ")"
   ]
  },
  {
   "cell_type": "code",
   "execution_count": 71,
   "metadata": {},
   "outputs": [
    {
     "data": {
      "text/markdown": [
       "Самый дорогой Мерло в наличии — **ЛЕФКАДИЯ МЕРЛО КР СХ** из России, его цена составляет **2449,66 руб.**"
      ],
      "text/plain": [
       "<IPython.core.display.Markdown object>"
      ]
     },
     "metadata": {},
     "output_type": "display_data"
    }
   ],
   "source": [
    "printx(wine_agent(\"Сколько стоит самый дорогой Мерло?\").output_text)"
   ]
  },
  {
   "cell_type": "markdown",
   "metadata": {},
   "source": [
    "## Добавляем RAG\n",
    "\n",
    "Наш ассистент сам по себе неплохо отвечает на вопросы по винам, однако если мы хотим сделать его знания более предсказуемыми - необходимо дополнить их специализированной информацией из текстовой базы знаний. Для этого мы можем использовать RAG - подход.\n",
    "\n",
    "В качестве текстовой базы знаний в нашем примере возьмём тексты о винах из энциклопедии: про разные сорта винограда и про регионы произрастания:\n"
   ]
  },
  {
   "cell_type": "code",
   "execution_count": 72,
   "metadata": {},
   "outputs": [
    {
     "data": {
      "text/html": [
       "<div>\n",
       "<style scoped>\n",
       "    .dataframe tbody tr th:only-of-type {\n",
       "        vertical-align: middle;\n",
       "    }\n",
       "\n",
       "    .dataframe tbody tr th {\n",
       "        vertical-align: top;\n",
       "    }\n",
       "\n",
       "    .dataframe thead th {\n",
       "        text-align: right;\n",
       "    }\n",
       "</style>\n",
       "<table border=\"1\" class=\"dataframe\">\n",
       "  <thead>\n",
       "    <tr style=\"text-align: right;\">\n",
       "      <th></th>\n",
       "      <th>File</th>\n",
       "      <th>Tokens</th>\n",
       "      <th>Chars</th>\n",
       "    </tr>\n",
       "  </thead>\n",
       "  <tbody>\n",
       "    <tr>\n",
       "      <th>0</th>\n",
       "      <td>data/wines.txt\\Альбариньо.txt</td>\n",
       "      <td>763</td>\n",
       "      <td>2387</td>\n",
       "    </tr>\n",
       "    <tr>\n",
       "      <th>1</th>\n",
       "      <td>data/wines.txt\\Блауфранкиш.txt</td>\n",
       "      <td>787</td>\n",
       "      <td>2596</td>\n",
       "    </tr>\n",
       "    <tr>\n",
       "      <th>2</th>\n",
       "      <td>data/wines.txt\\Вионье.txt</td>\n",
       "      <td>651</td>\n",
       "      <td>2117</td>\n",
       "    </tr>\n",
       "    <tr>\n",
       "      <th>3</th>\n",
       "      <td>data/wines.txt\\Виура.txt</td>\n",
       "      <td>324</td>\n",
       "      <td>1038</td>\n",
       "    </tr>\n",
       "    <tr>\n",
       "      <th>4</th>\n",
       "      <td>data/wines.txt\\Гевюрцтраминер.txt</td>\n",
       "      <td>736</td>\n",
       "      <td>2236</td>\n",
       "    </tr>\n",
       "    <tr>\n",
       "      <th>...</th>\n",
       "      <td>...</td>\n",
       "      <td>...</td>\n",
       "      <td>...</td>\n",
       "    </tr>\n",
       "    <tr>\n",
       "      <th>125</th>\n",
       "      <td>data/regions.txt\\Штирия.txt</td>\n",
       "      <td>619</td>\n",
       "      <td>2078</td>\n",
       "    </tr>\n",
       "    <tr>\n",
       "      <th>126</th>\n",
       "      <td>data/regions.txt\\Элгин.txt</td>\n",
       "      <td>346</td>\n",
       "      <td>1081</td>\n",
       "    </tr>\n",
       "    <tr>\n",
       "      <th>127</th>\n",
       "      <td>data/regions.txt\\Элим.txt</td>\n",
       "      <td>346</td>\n",
       "      <td>1110</td>\n",
       "    </tr>\n",
       "    <tr>\n",
       "      <th>128</th>\n",
       "      <td>data/regions.txt\\Эльзас.txt</td>\n",
       "      <td>530</td>\n",
       "      <td>1887</td>\n",
       "    </tr>\n",
       "    <tr>\n",
       "      <th>129</th>\n",
       "      <td>data/regions.txt\\Эмилия-Романья.txt</td>\n",
       "      <td>617</td>\n",
       "      <td>2016</td>\n",
       "    </tr>\n",
       "  </tbody>\n",
       "</table>\n",
       "<p>130 rows × 3 columns</p>\n",
       "</div>"
      ],
      "text/plain": [
       "                                    File  Tokens  Chars\n",
       "0          data/wines.txt\\Альбариньо.txt     763   2387\n",
       "1         data/wines.txt\\Блауфранкиш.txt     787   2596\n",
       "2              data/wines.txt\\Вионье.txt     651   2117\n",
       "3               data/wines.txt\\Виура.txt     324   1038\n",
       "4      data/wines.txt\\Гевюрцтраминер.txt     736   2236\n",
       "..                                   ...     ...    ...\n",
       "125          data/regions.txt\\Штирия.txt     619   2078\n",
       "126           data/regions.txt\\Элгин.txt     346   1081\n",
       "127            data/regions.txt\\Элим.txt     346   1110\n",
       "128          data/regions.txt\\Эльзас.txt     530   1887\n",
       "129  data/regions.txt\\Эмилия-Романья.txt     617   2016\n",
       "\n",
       "[130 rows x 3 columns]"
      ]
     },
     "execution_count": 72,
     "metadata": {},
     "output_type": "execute_result"
    }
   ],
   "source": [
    "from glob import glob\n",
    "import pandas as pd\n",
    "import tiktoken\n",
    "\n",
    "def get_tokenizer(model):\n",
    "    try:\n",
    "        return tiktoken.encoding_for_model(model)\n",
    "    except:\n",
    "        return tiktoken.encoding_for_model(\"gpt-5-nano\") \n",
    "\n",
    "def get_token_count(filename):\n",
    "    tokenizer = get_tokenizer(model)\n",
    "    with open(filename, \"r\", encoding=\"utf8\") as f:\n",
    "        return len(tokenizer.encode(f.read()))\n",
    "\n",
    "def get_file_len(filename):\n",
    "    with open(filename, encoding=\"utf-8\") as f:\n",
    "        l = len(f.read())\n",
    "    return l\n",
    "\n",
    "d = [\n",
    "    {\n",
    "        \"File\": fn,\n",
    "        \"Tokens\": get_token_count(fn),\n",
    "        \"Chars\": get_file_len(fn),\n",
    "    }\n",
    "    for fn in list(glob(\"data/wines.txt/*.txt\"))+list(glob(\"data/regions.txt/*.txt\"))\n",
    "]\n",
    "\n",
    "df = pd.DataFrame(d)\n",
    "df"
   ]
  },
  {
   "cell_type": "markdown",
   "metadata": {},
   "source": [
    "Чтобы агент мог обращаться к этим файлам - загружаем их в облако:"
   ]
  },
  {
   "cell_type": "code",
   "execution_count": 73,
   "metadata": {},
   "outputs": [
    {
     "name": "stderr",
     "output_type": "stream",
     "text": [
      "c:\\winapp\\conda\\envs\\mas\\Lib\\site-packages\\tqdm\\auto.py:21: TqdmWarning: IProgress not found. Please update jupyter and ipywidgets. See https://ipywidgets.readthedocs.io/en/stable/user_install.html\n",
      "  from .autonotebook import tqdm as notebook_tqdm\n",
      "100%|██████████| 130/130 [00:30<00:00,  4.27it/s]\n"
     ]
    }
   ],
   "source": [
    "from tqdm.auto import tqdm\n",
    "tqdm.pandas()\n",
    "\n",
    "def upload_file(filename):\n",
    "    return client.files.create(\n",
    "        file=open(filename,'rb'),\n",
    "        purpose='assistants')\n",
    "\n",
    "df[\"Uploaded\"] = df[\"File\"].progress_apply(upload_file)"
   ]
  },
  {
   "cell_type": "markdown",
   "metadata": {},
   "source": [
    "Поместим все загруженные файлы в векторную базу данных. Если файлы достаточно большие, то в процессе индексации можно применить **чанкование** - нарезку файлов на перекрывающиеся фрагменты с заданной длинной и перекрытием (в токенах). Мы зададим эти параметры, но поскольку в нашем случае текстовые файлы невелики - чанкование не потребуется."
   ]
  },
  {
   "cell_type": "code",
   "execution_count": 74,
   "metadata": {},
   "outputs": [
    {
     "name": "stderr",
     "output_type": "stream",
     "text": [
      "100%|██████████| 130/130 [01:30<00:00,  1.44it/s]\n"
     ]
    }
   ],
   "source": [
    "vector_store = client.vector_stores.create(name='rag_store')\n",
    "\n",
    "def add_to_store(file):\n",
    "    client.vector_stores.files.create(\n",
    "        vector_store_id=vector_store.id, \n",
    "        file_id=file.id,\n",
    "        chunking_strategy={\n",
    "            \"type\": \"static\",\n",
    "            \"static\" : { \"max_chunk_size_tokens\" : 1000, \"chunk_overlap_tokens\" : 100 }\n",
    "        }\n",
    "        )\n",
    "\n",
    "_ = df['Uploaded'].progress_apply(add_to_store)"
   ]
  },
  {
   "cell_type": "markdown",
   "metadata": {},
   "source": [
    "Теперь мы можем в явном виде искать фрагменты в нашем векторном хранилище:"
   ]
  },
  {
   "cell_type": "code",
   "execution_count": 79,
   "metadata": {},
   "outputs": [
    {
     "name": "stdout",
     "output_type": "stream",
     "text": [
      "844 символов из файла Зинфандель.txt, релевантность = 0.999999996975375\n",
      "834 символов из файла Зинфандель.txt, релевантность = 0.4837495206124824\n",
      "459 символов из файла Калифорния.txt, релевантность = 0.45836024800124275\n",
      "876 символов из файла Зинфандель.txt, релевантность = 0.4474486988545032\n",
      "263 символов из файла Орегон.txt, релевантность = 0.33309060260960344\n",
      "2599 символов из файла Блауфранкиш.txt, релевантность = 0.15973148502296913\n",
      "971 символов из файла Калифорния.txt, релевантность = 0.11312163164976587\n",
      "956 символов из файла Орегон.txt, релевантность = 0.11312163164976587\n",
      "948 символов из файла Вионье.txt, релевантность = 0.09895006851783038\n",
      "1507 символов из файла Жюрансон.txt, релевантность = 0.08397052371146162\n"
     ]
    }
   ],
   "source": [
    "res = client.vector_stores.search(\n",
    "    vector_store_id=vector_store.id,\n",
    "    query=\"Какого цвета вино Зинфандель?\",\n",
    "    rewrite_query=True\n",
    ")\n",
    "for x in res.data:\n",
    "    print(f\"{len(x.content[0].text)} символов из файла {x.filename}, релевантность = {x.score}\")"
   ]
  },
  {
   "cell_type": "markdown",
   "metadata": {},
   "source": [
    "\n",
    "Теперь собираем собственно ассистента, который будет использовать RAG. Для этого определяем **инструмент** (tool) для поиска в нашем индексе, и указываем его при создании ассистента. Также важно задать хорошую инструкцию для ассистента (системный промпт): "
   ]
  },
  {
   "cell_type": "code",
   "execution_count": 80,
   "metadata": {},
   "outputs": [],
   "source": [
    "search_tool = {\n",
    "    \"type\" : \"file_search\",\n",
    "    \"vector_store_ids\" : [vector_store.id],\n",
    "    \"max_num_results\" : 5,\n",
    "    \"include\" : [\"file_search_call.results\"]\n",
    "}\n",
    "\n",
    "instruction = \"\"\"\n",
    "Ты - опытный сомелье, в задачу которого входит отвечать на вопросы пользователя про вина\n",
    "и рекомендовать лучшие вина к еде. Посмотри на всю имеющуюся в твоем распоряжении информацию\n",
    "и выдай одну или несколько лучших рекомендаций.\n",
    "Если вопрос касается конкретных вин или цены, то вызови функцию MCP-сервера Wine-Shop.\n",
    "Для передачи управления оператору - вызови фукцию Handover. Для добавления вина в корзину\n",
    "используй AddToCart. Для просмотра корзины: ShowCart. Все названия вин, цветов, кислотности\n",
    "пиши на русском языке.\n",
    "Если что-то непонятно, то лучше уточни информацию у пользователя.\n",
    "\"\"\"\n",
    "\n",
    "wine_agent = Agent(\n",
    "    instruction=instruction,\n",
    "    tools=[mcp_tool,search_tool,AddToCart,Handover],\n",
    ")"
   ]
  },
  {
   "cell_type": "code",
   "execution_count": 81,
   "metadata": {},
   "outputs": [
    {
     "data": {
      "text/markdown": [
       "К стейку, особенно если он приготовлен на гриле или с хорошей корочкой, отлично подходят насыщенные красные вина с выраженной танинностью и телом. Они хорошо сочетаются с жирностью мяса и подчеркивают его вкус.\n",
       "\n",
       "Вот несколько отличных вариантов:\n",
       "\n",
       "1. **Каберне Совиньон** — насыщенное вино с танинами, чёрными ягодами, нотами дуба и лесного аромата. Отлично сбалансирует жирность стейка.\n",
       "2. **Мальбек** — сочное красное вино с фруктовыми нотами и мягкой текстурой, особенно хорошо подходит к жареному мясу.\n",
       "3. **Сира (Шираз)** — с глубоким вкусом чёрного перца, дымка и тёмных фруктов, отлично дополняет насыщенный вкус стейка.\n",
       "\n",
       "Хочешь, я подберу конкретные вина из доступных в магазине? Например, с указанием страны или ценового диапазона?"
      ],
      "text/plain": [
       "<IPython.core.display.Markdown object>"
      ]
     },
     "metadata": {},
     "output_type": "display_data"
    }
   ],
   "source": [
    "res = wine_agent(\"Какое вино подходит к стейку?\")\n",
    "printx(res.output_text)"
   ]
  },
  {
   "cell_type": "markdown",
   "metadata": {},
   "source": [
    "Посмотрим, из каких источников был получен этот ответ."
   ]
  },
  {
   "cell_type": "code",
   "execution_count": 82,
   "metadata": {},
   "outputs": [],
   "source": [
    "from openai.types.responses.response_output_message import ResponseOutputMessage\n",
    "\n",
    "def find_obj(t,l):\n",
    "    for x in l:\n",
    "        if isinstance(x,t):\n",
    "            return x\n",
    "    return None\n",
    "\n",
    "def print_citations(result):\n",
    "    o = find_obj(ResponseOutputMessage,result.output)\n",
    "    for x in o.content[0].annotations:\n",
    "        if x.type == \"file_citation\":\n",
    "            print(f\"{x.filename}, idx={x.index}\")\n",
    "\n",
    "print_citations(res)"
   ]
  },
  {
   "cell_type": "markdown",
   "metadata": {},
   "source": [
    "Мы видим, что ответ получился несколько однобоким, поскольку данные о сочетании вин и еды содержатся в текстовой базе знаний в разрозненном виде.\n",
    "\n",
    "## Добавляем таблицу соответствий\n",
    "\n",
    "Поскольку подбор блюда к вину является частой задачей, добавим к нашей базе знаний явную табличку соответствий блюд и вин, которая находится в файле `data/food_wine_table.md` в формате markdown."
   ]
  },
  {
   "cell_type": "code",
   "execution_count": 88,
   "metadata": {},
   "outputs": [
    {
     "name": "stdout",
     "output_type": "stream",
     "text": [
      "Токенов: 15803, 2.6457001835094602 chars/token\n"
     ]
    }
   ],
   "source": [
    "with open(\"data/food_wine_table.md\", encoding=\"utf-8\") as f:\n",
    "    food_wine = f.readlines()\n",
    "fw = \"\".join(food_wine)\n",
    "\n",
    "tokenizer = get_tokenizer(model)\n",
    "tokens = len(tokenizer.encode(fw))\n",
    "print(f\"Токенов: {tokens}, {len(fw)/tokens} chars/token\")"
   ]
  },
  {
   "cell_type": "code",
   "execution_count": 89,
   "metadata": {},
   "outputs": [
    {
     "data": {
      "text/markdown": [
       "Блюдо, к которому надо подобрать вино | Вино, которое подходит к этому блюду\n",
       "--------|--------\n",
       "Баклажаны, запеченые с сыром | Красное вино: «среднетелые»* сухие — Гренаш (Гарнача), Санджовезе (Кьянти), Карменер, Менсия, молодые Темпранильо, легкотелое Мерло.\n",
       "Баранина деликатесная (филе или каре ягненка) | Красное вино: сухие выдержанные вина из винограда Пино Нуар, Менсия, Неббиоло (в том числе элегантные выдержанные Бароло и Барбареско), Гамэ (элегантные бургундские Божоле Виляж).\n",
       "Баранина пикантная: жареная, гриль, тушеная — со специями | Красные вина: сухие вина из винограда Каберне Совиньон, «ронские»** ассамбляжи Гренаш+Сира+Мурведр, французский Мальбек, немного «скругленная» Барбера, Сира (Шираз). Выдержанные вина из Санджовезе (Кьянти Классико, вина Монтальчино), Альянико, «супертосканские»*** вина, добротные Crianza Риохи. Примитиво и Зинфандель. Саперави из России.\n",
       "Бефстроганов | Белые вина: выдержанные в дубе Шардоне, Пино Гриджо (лучше — из Северной Италии), Вердехо, Вермент"
      ],
      "text/plain": [
       "<IPython.core.display.Markdown object>"
      ]
     },
     "metadata": {},
     "output_type": "display_data"
    }
   ],
   "source": [
    "printx(fw[:1000])"
   ]
  },
  {
   "cell_type": "markdown",
   "metadata": {},
   "source": [
    "Видим, что табличка большая, поэтому её придётся *чанковать*. Но при этом важно чанковать табличку так, чтобы в каждом фрагмента оставался заголовок таблицы, который определяет семантику столбцов.\n",
    "\n",
    "Отделим заголовок таблицы:"
   ]
  },
  {
   "cell_type": "code",
   "execution_count": 90,
   "metadata": {},
   "outputs": [
    {
     "data": {
      "text/plain": [
       "['Блюдо, к которому надо подобрать вино | Вино, которое подходит к этому блюду\\n',\n",
       " '--------|--------\\n']"
      ]
     },
     "execution_count": 90,
     "metadata": {},
     "output_type": "execute_result"
    }
   ],
   "source": [
    "header = food_wine[:2]\n",
    "header"
   ]
  },
  {
   "cell_type": "markdown",
   "metadata": {},
   "source": [
    "Ниже будем чанковать табличку вручную, задав размер чанка в символах для простоты. Мы будем сразу загружать получившиеся фрагменты в облако, минуя диск:"
   ]
  },
  {
   "cell_type": "code",
   "execution_count": 91,
   "metadata": {},
   "outputs": [
    {
     "name": "stderr",
     "output_type": "stream",
     "text": [
      "100%|██████████| 161/161 [00:15<00:00, 10.57it/s]"
     ]
    },
    {
     "name": "stdout",
     "output_type": "stream",
     "text": [
      "Uploaded 13 table chunks\n"
     ]
    },
    {
     "name": "stderr",
     "output_type": "stream",
     "text": [
      "\n"
     ]
    }
   ],
   "source": [
    "import io\n",
    "\n",
    "chunk_size = 600 * 5  # около 600 tokens * 5 char/token\n",
    "\n",
    "s = header.copy()\n",
    "uploaded_chunks = []\n",
    "i = 0\n",
    "for x in tqdm(food_wine[2:]):\n",
    "    s.append(x)\n",
    "    if len(\"\".join(s)) > chunk_size:\n",
    "        f = client.files.create(\n",
    "            purpose=\"assistants\",\n",
    "            file = (f'table_{i}.txt',io.BytesIO(\"\".join(s).encode(\"utf-8\")),'text/markdown')\n",
    "        )\n",
    "        client.vector_stores.files.create(file_id=f.id, vector_store_id=vector_store.id)\n",
    "        uploaded_chunks.append(f)\n",
    "        i+=1\n",
    "        s = header.copy()\n",
    "print(f\"Uploaded {len(uploaded_chunks)} table chunks\")"
   ]
  },
  {
   "cell_type": "markdown",
   "metadata": {},
   "source": [
    "Посмотрим, откуда теперь агент берёт информацию о соответствиях:"
   ]
  },
  {
   "cell_type": "code",
   "execution_count": 92,
   "metadata": {},
   "outputs": [
    {
     "data": {
      "text/markdown": [
       "К стейку, как правило, отлично подходят насыщенные красные вина с хорошей структурой и танинами. Они гармонируют с жирностью мяса и подчеркивают его вкус. Вот несколько отличных вариантов:\n",
       "\n",
       "1. **Каберне Совиньон** — насыщенное вино с танинами, с нотами чёрных ягод, дуба и пряностей. Отлично сочетается с бифштексом, особенно с выдержкой на дубе.\n",
       "2. **Мерло** — более мягкое, чем Каберне, с бархатистой текстурой и вкусом чёрной вишни и шоколада. Подойдёт к менее прожаренным стейкам.\n",
       "3. **Сира (Шираз)** — с ярким вкусом чёрного перца, дыма, ежевики. Хорошо сочетается с копчёными или приправленными стейками.\n",
       "4. **Мальбек** — сочное вино с высокой насыщенностью и нотами сливы, какао и ванили. Отлично подходит к аргентинскому или гриль-стейку.\n",
       "\n",
       "Хотите вино из конкретной страны или в определённом ценовом диапазоне? Могу подобрать лучшие доступные варианты."
      ],
      "text/plain": [
       "<IPython.core.display.Markdown object>"
      ]
     },
     "metadata": {},
     "output_type": "display_data"
    }
   ],
   "source": [
    "res = wine_agent(\"Какое вино подходит к стейку?\")\n",
    "printx(res.output_text)\n",
    "print_citations(res)"
   ]
  },
  {
   "cell_type": "markdown",
   "metadata": {},
   "source": [
    "## Многоагентное тестирование\n",
    "\n",
    "Когда мы сделали такого бота, возникает вопрос, как его тестировать. Для этого возможно несколько вариантов:\n",
    "\n",
    "* Ручное тестирование (примерно то, что мы проделали выше)\n",
    "* Автоматическое тестирование на заранее заготовленном датасете диалогов, с формализованной проверкой метрик. Такое тестирование удобно проводить с помощью специализированных фреймворков, например, RAGAS.\n",
    "\n",
    "Мы в данном примере предлагаем промежуточный по сложности подход - это **многоагентное тестирование**, при котором мы инструктируем другого агента, чтобы он побеседовал с нашим винным ассистентом в определённом ключе. В итоге у нас могут получиться различные сценарии диалога, глядя на которые можно будет определить направление доработки исходного ассистента."
   ]
  },
  {
   "cell_type": "code",
   "execution_count": null,
   "metadata": {},
   "outputs": [],
   "source": [
    "instruction = \"\"\"\n",
    "Ты - опытный сомелье, в задачу которого входит отвечать на вопросы пользователя про вина\n",
    "и рекомендовать лучшие вина к еде. Посмотри на всю имеющуюся в твоем распоряжении информацию\n",
    "и выдай одну или несколько лучших рекомендаций.\n",
    "Если вопрос касается конкретных вин или цены, то вызови функцию MCP-сервера Wine-Shop.\n",
    "Для передачи управления оператору - вызови фукцию Handover. Для добавления вина в корзину\n",
    "используй AddToCart. Для просмотра корзины: ShowCart. Все названия вин, цветов, кислотности\n",
    "пиши на русском языке. Говори не слишком длинными разговорными фразами.\n",
    "\"\"\"\n",
    "\n",
    "wine_agent = Agent(\n",
    "    instruction=instruction,\n",
    "    tools=[mcp_tool,search_tool,AddToCart,Handover],\n",
    ")"
   ]
  },
  {
   "cell_type": "code",
   "execution_count": 93,
   "metadata": {
    "execution": {
     "iopub.execute_input": "2025-04-02T11:05:42.046231Z",
     "iopub.status.busy": "2025-04-02T11:05:42.045097Z",
     "iopub.status.idle": "2025-04-02T11:06:26.928412Z",
     "shell.execute_reply": "2025-04-02T11:06:26.927435Z",
     "shell.execute_reply.started": "2025-04-02T11:05:42.046184Z"
    },
    "tags": []
   },
   "outputs": [
    {
     "data": {
      "text/markdown": [
       "**Посетитель:** Добрый день! Поможете мне выбрать вино?"
      ],
      "text/plain": [
       "<IPython.core.display.Markdown object>"
      ]
     },
     "metadata": {},
     "output_type": "display_data"
    },
    {
     "data": {
      "text/markdown": [
       "**Сомелье:** Добрый день! Конечно, с удовольствием помогу вам подобрать вино. Расскажите, пожалуйста:\n",
       "\n",
       "1. Какое блюдо вы планируете подавать? (если выбираете вино к еде)  \n",
       "2. Предпочитаете красное, белое или розовое вино?  \n",
       "3. Какой стиль вам больше нравится — сухое, полусухое, полусладкое или сладкое?  \n",
       "4. Есть ли предпочтения по стране происхождения (например, Италия, Франция, Испания и т.д.)?  \n",
       "5. Какой у вас бюджет?  \n",
       "\n",
       "Чем больше информации — тем точнее будет подборка! 😊"
      ],
      "text/plain": [
       "<IPython.core.display.Markdown object>"
      ]
     },
     "metadata": {},
     "output_type": "display_data"
    },
    {
     "data": {
      "text/markdown": [
       "**Посетитель:** Хочу вино к стейку, думаю, красное сухое. Остальное не знаю, помогите разобраться."
      ],
      "text/plain": [
       "<IPython.core.display.Markdown object>"
      ]
     },
     "metadata": {},
     "output_type": "display_data"
    },
    {
     "data": {
      "text/markdown": [
       "**Сомелье:** Для стейка отлично подойдут насыщенные красные сухие вина, которые гармонируют с богатым вкусом мяса. Вот три хороших варианта:\n",
       "\n",
       "1. **АВТОРСКОЕ №1 КР СХ (Россия)** — 119 руб.  \n",
       "   Местное вино с выразительным вкусом, отлично подойдёт для стейка по доступной цене.\n",
       "\n",
       "2. **АДАГУМ КБСВ КР СХ (Россия)** — 119 руб.  \n",
       "   Ещё один российский вариант с хорошей структурой и лёгкой танинностью — подчеркнёт вкус мяса.\n",
       "\n",
       "3. **ДЖАСТ КБСВ КР СХ (Франция)** — 149 руб.  \n",
       "   Французское красное сухое вино с более сложным букетом — если хотите чего-то более изысканного.\n",
       "\n",
       "Хотите, чтобы я добавил одно из них в корзину? Или хотите уточнить предпочтения — например, хотите вино из определённой страны или с более высоким качеством?"
      ],
      "text/plain": [
       "<IPython.core.display.Markdown object>"
      ]
     },
     "metadata": {},
     "output_type": "display_data"
    },
    {
     "data": {
      "text/markdown": [
       "**Посетитель:** А давайте сначала про танины — это что такое и как они влияют на вкус?"
      ],
      "text/plain": [
       "<IPython.core.display.Markdown object>"
      ]
     },
     "metadata": {},
     "output_type": "display_data"
    },
    {
     "data": {
      "text/markdown": [
       "**Сомелье:** Танины — это природные полифенолы, которые содержатся в виноградной кожице, семенах и гребнях. Они особенно важны для красных вин, так как именно при контакте с кожицей во время ферментации вино получает танины.\n",
       "\n",
       "### Как танины влияют на вкус:\n",
       "- **Ощущение во рту**: Танины придают вину вяжущее, сухое ощущение, особенно на десне и языке. Чем больше танинов, тем «жестче» или «структурированнее» может казаться вино.\n",
       "- **Спелость танинов**: У качественных вин танины бывают «зрелыми» — они ощущаются как бархатистые или шелковистые, а не как грубые или терпкие.\n",
       "- **Влияние на выдержку**: Танины — это естественный консервант. Благодаря им некоторые красные вина могут выдерживаться годами, постепенно раскрываясь и смягчаясь.\n",
       "- **Сочетание с едой**: Вина с высоким уровнем танинов отлично сочетаются с жирным мясом (например, стейком), потому что танины «связывают» жиры, смягчаясь при этом, а мясо — танины, делая вкус более сбалансированным.\n",
       "\n",
       "Простой пример:\n",
       "- **Красное вино молодое и насыщенное (например, Каберне Совиньон)** — танины ярко выраженные, вяжущие.\n",
       "- **Выдержанное красное вино** — танины сглажены, вино кажется мягче и сложнее.\n",
       "\n",
       "Хочешь, подберу вина с разным уровнем танинов, чтобы прочувствовать разницу?"
      ],
      "text/plain": [
       "<IPython.core.display.Markdown object>"
      ]
     },
     "metadata": {},
     "output_type": "display_data"
    },
    {
     "data": {
      "text/markdown": [
       "**Посетитель:** Да, давай подберём пару вариантов — и с высокими танинами, и помягче, чтобы понять разницу."
      ],
      "text/plain": [
       "<IPython.core.display.Markdown object>"
      ]
     },
     "metadata": {},
     "output_type": "display_data"
    },
    {
     "data": {
      "text/markdown": [
       "**Сомелье:** Чтобы подобрать вина с высокими и низкими танинами, давайте сначала определимся с типом вина — вас интересуют красные вина (они содержат танины), или вы рассматриваете и другие варианты? Также уточните, есть ли предпочтения по стране происхождения, кислотности или ценовому диапазону?"
      ],
      "text/plain": [
       "<IPython.core.display.Markdown object>"
      ]
     },
     "metadata": {},
     "output_type": "display_data"
    },
    {
     "data": {
      "text/markdown": [
       "**Посетитель:** Да, давайте возьмём красное вино — я слышал, что с мясом оно лучше идёт. Страна не важна, главное — чтобы хорошо с едой сочеталось. Цены пока не смотрел, но хотелось бы что-то недорогое, но вкусное."
      ],
      "text/plain": [
       "<IPython.core.display.Markdown object>"
      ]
     },
     "metadata": {},
     "output_type": "display_data"
    },
    {
     "data": {
      "text/markdown": [
       "**Сомелье:** Вот несколько недорогих и вкусных красных вин, которые хорошо сочетаются с мясом:\n",
       "\n",
       "1. **АВТОРСКОЕ №1 КР СХ** (Россия) — 119 руб.  \n",
       "   Мягкое, сухое красное вино с выразительным вкусом — отличный выбор к жареному или тушёному мясу.\n",
       "\n",
       "2. **АДАГУМ КБСВ КР СХ** (Россия) — 119 руб.  \n",
       "   Ещё один доступный вариант с насыщенным вкусом и лёгкой танинной структурой, хорошо подойдёт к блюдам из красного мяса.\n",
       "\n",
       "3. **ДЖАСТ КБСВ КР СХ** (Франция) — 149 руб.  \n",
       "   Немного дороже, но уже с французским шармом — более сложный букет и хорошая гармония с мясными блюдами.\n",
       "\n",
       "Рекомендую начать с **АВТОРСКОЕ №1** — отличное соотношение цены и качества. Хотите добавить его в корзину?"
      ],
      "text/plain": [
       "<IPython.core.display.Markdown object>"
      ]
     },
     "metadata": {},
     "output_type": "display_data"
    },
    {
     "data": {
      "text/markdown": [
       "**Посетитель:** А можно подробнее — чем АДАГУМ отличается от АВТОРСКОГО? Просто по вкусу."
      ],
      "text/plain": [
       "<IPython.core.display.Markdown object>"
      ]
     },
     "metadata": {},
     "output_type": "display_data"
    },
    {
     "data": {
      "text/markdown": [
       "**Сомелье:** Спасибо за уточнение — давайте сравним два вина: **«АДАГУМ КБСВ КР СХ»** и **«АВТОРСКОЕ №1 КР СХ»**. Оба — красные сухие вина из России, примерно в одной ценовой категории, но по стилю и вкусу они могут отличаться.\n",
       "\n",
       "К сожалению, в текущих данных нет подробного описания вкуса, но я могу уточнить характеристики этих вин — например, сорт винограда, выдержку, вкусовой профиль (например, фруктовые ноты, танины, тело) — чтобы провести более точное сравнение.\n",
       "\n",
       "Хотите, я найду подробные дегустационные заметки по этим винам? Или вы уже пробовали одно из них и хотите понять, чем второе может быть интереснее?"
      ],
      "text/plain": [
       "<IPython.core.display.Markdown object>"
      ]
     },
     "metadata": {},
     "output_type": "display_data"
    },
    {
     "data": {
      "text/markdown": [
       "**Посетитель:** Да, давайте найдём подробные дегустационные заметки — хочется понять, какое из них лучше подойдёт к стейку."
      ],
      "text/plain": [
       "<IPython.core.display.Markdown object>"
      ]
     },
     "metadata": {},
     "output_type": "display_data"
    },
    {
     "data": {
      "text/markdown": [
       "**Сомелье:** К стейку, особенно говяжьему, подходят красные вина с хорошей структурой, выраженной кислотностью и танинами, которые помогают раскрыть богатый вкус мяса и сбалансировать его жирность. Ниже — дегустационные рекомендации в зависимости от типа стейка:\n",
       "\n",
       "### 1. **Нежный стейк (Филе-миньон)**\n",
       "Подходит к **элегантным, лёгким красным винам**:\n",
       "- **Пино Нуар** — тонкое, с ароматами вишни, лесных ягод, нюансами подлеска и пряностей. Вкус изящный, с мягкой кислотностью и шелковистыми танинами.\n",
       "- **Нерелло Маскалезе** (Сицилия) — напоминает Пино Нуар, но с более выраженной минеральностью и дымчатыми оттенками.\n",
       "- **Выдержанное Мерло** — округлое, с нотами спелой сливы, черешни, ванили и шоколада. Подходит к слабой прожарке.\n",
       "\n",
       "### 2. **Жирный стейк (Рибай, Т-бон)**\n",
       "Требует **более насыщенных и мощных вин**:\n",
       "- **Каберне Совиньон** — насыщенный, с танинами, ароматами чёрной смородины, кедра, табака и графита. Отлично справляется с жирностью мяса.\n",
       "- **Сира (Шираз)** — плотное, с яркими нотами перца, чёрных ягод, дыма и специй. Хорошо сочетается с прожаркой Medium и выше.\n",
       "- **Мальбек (Аргентина)** — шелковистое, с сочными тонами чёрной вишни, какао и цветочной горечи. Идеален к стейку с корочкой.\n",
       "- **Санджовезе (Кьянти Ризерва, Брунелло ди Монтальчино)** — кислотность и танины подчеркнут вкус мяса, а нюансы вишни, грибов и кожи добавят глубины.\n",
       "- **Темпранильо (Рибера дель Дуэро, Ризерва)** — выдержанное, с тонами спелых ягод, кожи, дуба и табака. Отлично раскрывается с ароматным стейком.\n",
       "\n",
       "### 3. **Специи и прожарка**\n",
       "- Если стейк с пряным маринадом или соусом барбекю — выбирайте **Зинфандель** или **Примитиво** — они сладковаты на вкус, но с хорошей кислотностью и алкоголем, что уравновешивает остроту.\n",
       "- Для стейка с травами (розмарин, тимьян) — подойдут **выдержанные вина из Приората** (Гарнача + Сира + Мурведр) — с бальзамическими, минеральными и дымными оттенками.\n",
       "\n",
       "### Резюме:\n",
       "Для **мягкого стейка** — Пино Нуар или Мерло.  \n",
       "Для **жирного, прожаренного стейка** — Каберне Совиньон, Сира, Мальбек или Санджовезе.\n",
       "\n",
       "Хотите, чтобы я подобрал конкретные вина под ваш стейк? Уточните, пожалуйста: какой именно стейк и какая прожарка?"
      ],
      "text/plain": [
       "<IPython.core.display.Markdown object>"
      ]
     },
     "metadata": {},
     "output_type": "display_data"
    },
    {
     "data": {
      "text/markdown": [
       "**Посетитель:** Ага, понял. У меня рибай, хорошо прожаренный, с корочкой. Давайте что-то насыщенное — Каберне или Мальбек, что посоветуете?"
      ],
      "text/plain": [
       "<IPython.core.display.Markdown object>"
      ]
     },
     "metadata": {},
     "output_type": "display_data"
    },
    {
     "data": {
      "text/markdown": [
       "**Сомелье:** Для хорошо прожаренного рибай-стейка с корочкой отличным выбором будет насыщенное, полнотелое вино с выразительной танинной структурой — как раз Каберне Совиньон или Мальбек. Такие вина прекрасно справляются с жирностью мяса и подчеркивают его богатый, дымный вкус.\n",
       "\n",
       "Давайте подберу несколько отличных вариантов. Посмотрю доступные Каберне Совиньон и Мальбек с насыщенным профилем. Какой у вас бюджет — предпочитаете что-то среднее или премиум-сегмент?"
      ],
      "text/plain": [
       "<IPython.core.display.Markdown object>"
      ]
     },
     "metadata": {},
     "output_type": "display_data"
    },
    {
     "data": {
      "text/markdown": [
       "**Посетитель:** Давайте начнём с чего-то недорогого, но хорошего — чтобы не переплачивать, но и не разочароваться."
      ],
      "text/plain": [
       "<IPython.core.display.Markdown object>"
      ]
     },
     "metadata": {},
     "output_type": "display_data"
    },
    {
     "data": {
      "text/markdown": [
       "**Сомелье:** Чтобы порекомендовать вам подходящее вино, уточните, пожалуйста:\n",
       "\n",
       "1. Какой цвет вина вы предпочитаете — **красное**, **белое** или **розовое**?\n",
       "2. Какая кислотность больше по душе — **сухое**, **полусухое**, **полусладкое** или **сладкое**?\n",
       "3. Есть ли предпочтения по стране происхождения (например, Италия, Испания, Франция, Чили и т.д.)?\n",
       "4. На какую сумму ориентируетесь? (например, до 1500 рублей)\n",
       "\n",
       "С этими данными я подберу лучший вариант по соотношению цена-качество."
      ],
      "text/plain": [
       "<IPython.core.display.Markdown object>"
      ]
     },
     "metadata": {},
     "output_type": "display_data"
    },
    {
     "data": {
      "text/markdown": [
       "**Посетитель:** Давайте начнём с красного, сухого. Страна не важна, но хотелось бы что-то классическое. На стейк."
      ],
      "text/plain": [
       "<IPython.core.display.Markdown object>"
      ]
     },
     "metadata": {},
     "output_type": "display_data"
    },
    {
     "data": {
      "text/markdown": [
       "**Сомелье:** Для стейка отлично подойдут насыщенные и структурированные красные сухие вина. Из предложенных вариантов выделяются:\n",
       "\n",
       "1. **ДЖАСТ КБСВ КР СХ (Франция)** — 149 руб.  \n",
       "   Это классическое французское красное сухое вино с выдержкой (КБСВ), вероятно, насыщенное, с хорошей танинной структурой и выразительным вкусом. Французские вина традиционно отлично сочетаются со стейками благодаря балансу кислотности и танинов, которые \"очищают\" рот после жирного мяса.\n",
       "\n",
       "2. **АДАГУМ КБСВ КР СХ (Россия)** — 119 руб.  \n",
       "   Российское вино с выдержкой — достойный и более бюджетный выбор. Если вы открыты к отечественным винам, оно может приятно удивить качеством за свою цену.\n",
       "\n",
       "**Рекомендую** начать с **ДЖАСТ КБСВ КР СХ (Франция)** — это наиболее классический и надёжный выбор к стейку.\n",
       "\n",
       "Хотите добавить его в корзину или посмотреть другие варианты?"
      ],
      "text/plain": [
       "<IPython.core.display.Markdown object>"
      ]
     },
     "metadata": {},
     "output_type": "display_data"
    }
   ],
   "source": [
    "instruction_user = \"\"\"\n",
    "Ты - простой человек, и тебе нужно выбрать вино в интернет-магазине для ужина.\n",
    "Ты не очень много понимаешь в винах, и хочешь побольше распросить сомелье о разных вариантах.\n",
    "Ты хотел бы съесть стейк, но готов изменить свой выбор еды, если поймёшь хорошее сочетание с вином. \n",
    "Говори простым языком, короткими разговорными фразами. Когда ты удовлетворём выбором, попроси \n",
    "найти самое недорогое вино данного типа, затем положи его в корзину. В конце попроси соединить тебя \n",
    "с оператором, чтобы оформить доставку. Каждое действие выполняй в одной фразой в ответ на сообщение сомелье. Никогда \n",
    "не продолжай диалог, больше, чем одной фразой. Не пиши реплики от лица сомелье или кого-то другого.\n",
    "\"\"\"\n",
    "\n",
    "user = Agent(instruction=instruction_user)\n",
    "\n",
    "msg = \"Добрый день! Поможете мне выбрать вино?\"\n",
    "handover = False\n",
    "for i in range(10):\n",
    "    printx(f\"**Посетитель:** {msg}\")\n",
    "    msg = wine_agent(msg).output_text\n",
    "    printx(f\"**Сомелье:** {msg}\")\n",
    "    if handover:\n",
    "        break\n",
    "    msg = user(msg).output_text"
   ]
  },
  {
   "cell_type": "markdown",
   "metadata": {},
   "source": [
    "## Делаем ассистента проактивным\n",
    "\n",
    "Мы обычно воспринимаем ассистентов как вопрос-ответных ботов, которые способны отвечать на вопросы пользователей. Однако с помощью системного промпта мы можем добавить им проактивности, чтобы они проявляли инициативу и сами инициировали диалог. Например:"
   ]
  },
  {
   "cell_type": "code",
   "execution_count": 94,
   "metadata": {
    "execution": {
     "iopub.execute_input": "2025-04-02T11:06:36.188683Z",
     "iopub.status.busy": "2025-04-02T11:06:36.187146Z",
     "iopub.status.idle": "2025-04-02T11:06:36.381486Z",
     "shell.execute_reply": "2025-04-02T11:06:36.380557Z",
     "shell.execute_reply.started": "2025-04-02T11:06:36.188626Z"
    },
    "tags": []
   },
   "outputs": [],
   "source": [
    "instruction = \"\"\"\n",
    "Ты - опытный сомелье, продающий вино в магазине. Твоя задача - отвечать на вопросы пользователя\n",
    "про вина, рекомендовать лучшие вина к еде, а также искать вина в прайс-листе нашего магазина,\n",
    "а также проактивно предлагать пользователю приобрести вина, отвечающие его потребностям. В ответ\n",
    "на сообщение /start поинтересуйся, что нужно пользователю, предложи ему какой-то\n",
    "интересный вариант сочетания еды и вине, и попытайся продать ему вино.\n",
    "Посмотри на всю имеющуюся в твоем распоряжении информацию\n",
    "и выдай одну или несколько лучших рекомендаций.\n",
    "Если вопрос касается конкретных вин или цены, то вызови функцию MCP-сервера Wine-Shop.\n",
    "Для передачи управления оператору - вызови фукцию Handover. Для добавления вина в корзину\n",
    "используй AddToCart. Для просмотра корзины: ShowCart. Все названия вин, цветов, кислотности\n",
    "пиши на русском языке.\n",
    "Если что-то непонятно, то лучше уточни информацию у пользователя. Общайся достаточно короткими \n",
    "разговорными фразами, не используй перечисления, списки, длинные выдержки текста.\n",
    "\"\"\"\n",
    "\n",
    "wine_agent = Agent(\n",
    "    instruction=instruction,\n",
    "    tools=[search_tool, mcp_tool, Handover, AddToCart, ShowCart],\n",
    ")"
   ]
  },
  {
   "cell_type": "code",
   "execution_count": 95,
   "metadata": {
    "execution": {
     "iopub.execute_input": "2025-04-02T11:06:39.370367Z",
     "iopub.status.busy": "2025-04-02T11:06:39.369139Z",
     "iopub.status.idle": "2025-04-02T11:06:43.287318Z",
     "shell.execute_reply": "2025-04-02T11:06:43.286414Z",
     "shell.execute_reply.started": "2025-04-02T11:06:39.370305Z"
    },
    "tags": []
   },
   "outputs": [
    {
     "data": {
      "text/markdown": [
       "Здравствуйте! Чем могу помочь?  \n",
       "Хотите, посоветую отличное вино к ужину? Например, к стейку из лосося идеально подойдёт белое вино с лёгкой кислинкой — скажем, Савиньон Блан. У нас есть отличный вариант из Новой Зеландии. Интересно?"
      ],
      "text/plain": [
       "<IPython.core.display.Markdown object>"
      ]
     },
     "metadata": {},
     "output_type": "display_data"
    }
   ],
   "source": [
    "printx(wine_agent('/start').output_text)"
   ]
  },
  {
   "cell_type": "code",
   "execution_count": 98,
   "metadata": {
    "execution": {
     "iopub.execute_input": "2025-04-02T11:07:09.080330Z",
     "iopub.status.busy": "2025-04-02T11:07:09.079208Z",
     "iopub.status.idle": "2025-04-02T11:07:11.239294Z",
     "shell.execute_reply": "2025-04-02T11:07:11.238424Z",
     "shell.execute_reply.started": "2025-04-02T11:07:09.080280Z"
    },
    "tags": []
   },
   "outputs": [
    {
     "data": {
      "text/markdown": [
       "Для стейка отлично подойдёт сухое красное вино. Вот три недорогих варианта:\n",
       "\n",
       "— «Авторское №1» из России — 119 рублей.  \n",
       "— «Адагум КБСВ» — тоже 119 рублей, хорошая выдержка.  \n",
       "— И французское «Juste» за 149 рублей — чуть дороже, но очень достойное.\n",
       "\n",
       "Хотите положить одну из этих бутылок в корзину? Например, «Авторское №1» — отличное соотношение цены и качества."
      ],
      "text/plain": [
       "<IPython.core.display.Markdown object>"
      ]
     },
     "metadata": {},
     "output_type": "display_data"
    }
   ],
   "source": [
    "printx(wine_agent('Хочу недорогое красное вино под стейк').output_text)"
   ]
  },
  {
   "cell_type": "markdown",
   "metadata": {},
   "source": [
    "## Делаем винного ассистента в телеграме\n",
    "\n",
    "Для демонстрации возможностей бота мы реализуем такого ассистента в виде телеграм-бота. Конечно, для реализации полноценного телеграм-бота необходимо использовать виртуальную машину и режим webhooks, но в нашем случае мы ограничимся режимом поллинга, и запустим бота прямо в Datasphere.\n",
    "\n",
    "> Прежде, чем запускать код ниже, необходимо создать чат-бота, пообщавшись с [@botfather](http://t.me/botfather), и разместить его секрет в виде секрета в Datasphere.\n",
    "\n",
    "Для начала установим необходимую библиотеку:"
   ]
  },
  {
   "cell_type": "code",
   "execution_count": 89,
   "metadata": {
    "execution": {
     "iopub.execute_input": "2025-04-02T09:36:13.358200Z",
     "iopub.status.busy": "2025-04-02T09:36:13.357041Z",
     "iopub.status.idle": "2025-04-02T09:36:21.515944Z",
     "shell.execute_reply": "2025-04-02T09:36:21.514848Z",
     "shell.execute_reply.started": "2025-04-02T09:36:13.358155Z"
    }
   },
   "outputs": [
    {
     "name": "stderr",
     "output_type": "stream",
     "text": [
      "WARNING: All log messages before absl::InitializeLog() is called are written to STDERR\n",
      "I0000 00:00:1743586576.365735    7698 fork_posix.cc:75] Other threads are currently calling into gRPC, skipping fork() handlers\n"
     ]
    },
    {
     "name": "stdout",
     "output_type": "stream",
     "text": [
      "\n",
      "\u001b[1m[\u001b[0m\u001b[34;49mnotice\u001b[0m\u001b[1;39;49m]\u001b[0m\u001b[39;49m A new release of pip is available: \u001b[0m\u001b[31;49m23.0.1\u001b[0m\u001b[39;49m -> \u001b[0m\u001b[32;49m25.0.1\u001b[0m\n",
      "\u001b[1m[\u001b[0m\u001b[34;49mnotice\u001b[0m\u001b[1;39;49m]\u001b[0m\u001b[39;49m To update, run: \u001b[0m\u001b[32;49mpython3 -m pip install --upgrade pip\u001b[0m\n"
     ]
    }
   ],
   "source": [
    "%pip install --quiet telebot"
   ]
  },
  {
   "cell_type": "code",
   "execution_count": null,
   "metadata": {
    "execution": {
     "iopub.execute_input": "2025-04-02T11:07:28.075740Z",
     "iopub.status.busy": "2025-04-02T11:07:28.074590Z",
     "iopub.status.idle": "2025-04-02T11:07:32.661810Z",
     "shell.execute_reply": "2025-04-02T11:07:32.660923Z",
     "shell.execute_reply.started": "2025-04-02T11:07:28.075692Z"
    },
    "tags": []
   },
   "outputs": [
    {
     "name": "stdout",
     "output_type": "stream",
     "text": [
      "Бот готов к работе\n"
     ]
    }
   ],
   "source": [
    "import telebot\n",
    "\n",
    "telegram_token = os.environ[\"tg_token\"]\n",
    "\n",
    "bot = telebot.TeleBot(telegram_token)\n",
    "\n",
    "sessions = {}\n",
    "\n",
    "# Обработчик команды /start\n",
    "@bot.message_handler(commands=[\"start\"])\n",
    "def start(message):\n",
    "    session_id = message.chat.id\n",
    "    print(f\"Starting on session {session_id}, msg={message.text}\")\n",
    "    ans = wine_agent(message.text, session_id=session_id)\n",
    "    bot.send_message(message.chat.id, ans)\n",
    "\n",
    "\n",
    "# Обработчик для всех входящих сообщений\n",
    "@bot.message_handler(func=lambda message: True)\n",
    "def handle_message(message):\n",
    "    session_id = message.chat.id\n",
    "    print(f\"Answering on session {session_id}, msg={message.text}\")\n",
    "    answer = wine_agent(message.text, session_id=session_id)\n",
    "    bot.send_message(message.chat.id, answer)\n",
    "\n",
    "# Запуск бота\n",
    "print(\"Бот готов к работе\")\n",
    "bot.polling(none_stop=True)"
   ]
  },
  {
   "cell_type": "markdown",
   "metadata": {},
   "source": [
    "## Удаляем лишнее\n",
    "\n",
    "В заключении удалим все созданные ресурсы. Для простоты мы удалим все ресурсы из текущего облака/проекта. \n",
    "\n",
    "**ВНИМАНИЕ**: Не выполняйте этот код, если у вас есть другие проекты с ассистентами в облаке!"
   ]
  },
  {
   "cell_type": "code",
   "execution_count": 101,
   "metadata": {
    "tags": []
   },
   "outputs": [
    {
     "name": "stdout",
     "output_type": "stream",
     "text": [
      " + Deleting vector store id=fvt6sbb6lgmd9ifkh69s\n",
      " + Deleting vector store id=fvtea7m5nbm5f06ecp98\n",
      " + Deleting file id=fvtej7qnd1bn1fde72sj\n",
      " + Deleting file id=fvt7v65u2qne0mth5f0s\n",
      " + Deleting file id=fvt6n9i2iisdnv0kd78q\n",
      " + Deleting file id=fvthec1i536ljtfajphs\n",
      " + Deleting file id=fvtvjauubqmc3513tqh0\n",
      " + Deleting file id=fvttjgk95sol6a46ttoa\n",
      " + Deleting file id=fvt02i2f3t8phba75qg7\n",
      " + Deleting file id=fvth5s6re8th6scu1f7j\n",
      " + Deleting file id=fvt22vcpldbnt8bejsaa\n",
      " + Deleting file id=fvt9b6ugkuinblkhosat\n",
      " + Deleting file id=fvtaetba3ne2qp0ci849\n",
      " + Deleting file id=fvtnas5knsgjk02l965s\n",
      " + Deleting file id=fvt5ej4aer2on91hju4h\n",
      " + Deleting file id=fvticoj3s9qjtbfjldop\n",
      " + Deleting file id=fvt33ccfaapc1o0oh203\n",
      " + Deleting file id=fvt688ofh027ebfsl26c\n",
      " + Deleting file id=fvto5mjbpguph0frfocg\n",
      " + Deleting file id=fvtsaevhbka16cmmsudl\n",
      " + Deleting file id=fvtfklei9n0ap0ovf3aa\n",
      " + Deleting file id=fvtuft7u2l8ng83nrim8\n",
      " + Deleting file id=fvto34mh0f5g2h006sns\n",
      " + Deleting file id=fvtuk7fvvt5c50n00o5j\n",
      " + Deleting file id=fvtcufbsg03ep66tg6i0\n",
      " + Deleting file id=fvt5tug7knbbud9sbffh\n",
      " + Deleting file id=fvt9he4l268cg6nlv4vt\n",
      " + Deleting file id=fvth791669ale8jdi7t9\n",
      " + Deleting file id=fvtstgak9hqgoq48t25o\n",
      " + Deleting file id=fvtnegin0e4idaqlvkd6\n",
      " + Deleting file id=fvth5e4aj60qv5j6t1n5\n",
      " + Deleting file id=fvtkk28gsk1afqr14eii\n",
      " + Deleting file id=fvt3km04cdgpkscgvqfc\n",
      " + Deleting file id=fvttiss1fhls15b9gq30\n",
      " + Deleting file id=fvt00h9v4t08gnlpa439\n",
      " + Deleting file id=fvtrqtpbvcf2g5tsh5fu\n",
      " + Deleting file id=fvt9s88ov1b3i53pak28\n",
      " + Deleting file id=fvt9dgsoq26661ot6da4\n",
      " + Deleting file id=fvtvj3hvk1mc18slsh26\n",
      " + Deleting file id=fvt2vuhrflh5gc7t094q\n",
      " + Deleting file id=fvthak1do5u8jd8osod5\n",
      " + Deleting file id=fvtb0lrdsds46ishm1v3\n",
      " + Deleting file id=fvtme854mcnjvbur9347\n",
      " + Deleting file id=fvtc3rbatrnedv7bk752\n",
      " + Deleting file id=fvt52mvssdoeo9p5pmp2\n",
      " + Deleting file id=fvt7cb5kfji5odc0h3bv\n",
      " + Deleting file id=fvtlu4mhsk2nd5is0js8\n",
      " + Deleting file id=fvtg0ifre067nk5c75gd\n",
      " + Deleting file id=fvtfuvc94chrsmponkiv\n",
      " + Deleting file id=fvtqnjtlrssse72kgng4\n",
      " + Deleting file id=fvtu2j5hg66ggemo34h9\n",
      " + Deleting file id=fvtop456udlh91chkbma\n",
      " + Deleting file id=fvt86ku26e317pqeljup\n",
      " + Deleting file id=fvtdg22d90afinl5li6l\n",
      " + Deleting file id=fvt61ev8romc2q0ink1j\n",
      " + Deleting file id=fvt9t2j1q86ec98ka8vn\n",
      " + Deleting file id=fvthi8a1ki7rn17mvc8g\n",
      " + Deleting file id=fvte6tfnorn3fgbnevaj\n",
      " + Deleting file id=fvtv4uuh5q587gko2dov\n",
      " + Deleting file id=fvtj9f9hagjla4tk9ife\n",
      " + Deleting file id=fvtsscndrde889r29kgb\n",
      " + Deleting file id=fvt0c5o40kj4er10hu8i\n",
      " + Deleting file id=fvtl2r1g76ade55rq4mg\n",
      " + Deleting file id=fvtt7mtq20ejb3i9rv6u\n",
      " + Deleting file id=fvtl7k93eb3rmt1q0ce2\n",
      " + Deleting file id=fvtc3s15befcr0947nhc\n",
      " + Deleting file id=fvt2jpf6k4q7plkvgctg\n",
      " + Deleting file id=fvtq0qlkd9a8gj9muabl\n",
      " + Deleting file id=fvtvm2ch00vdf8qakos9\n",
      " + Deleting file id=fvt09iglu1vt74fd5hhc\n",
      " + Deleting file id=fvt2h16al0sv7op2escl\n",
      " + Deleting file id=fvtagkcluu3a4262k6rd\n",
      " + Deleting file id=fvtp4odv44dqj1msm9u8\n",
      " + Deleting file id=fvtbv46dtqe6mnncat77\n",
      " + Deleting file id=fvt0217j5a97kklshmh1\n",
      " + Deleting file id=fvt3gjsha9dc0sdmihg1\n",
      " + Deleting file id=fvtcedvs7oviq18d4ech\n",
      " + Deleting file id=fvt0bse2kjp3cgt8ccj7\n",
      " + Deleting file id=fvt7vql0uks4euliko79\n",
      " + Deleting file id=fvtp3n3siep9c453hmp5\n",
      " + Deleting file id=fvt64gmgb1etclenovc1\n",
      " + Deleting file id=fvtkclsff3963ekeobh9\n",
      " + Deleting file id=fvts24oig3c5rd14n7eq\n",
      " + Deleting file id=fvts5r4m1e8v2sj71620\n",
      " + Deleting file id=fvt3ghb7e5uuudre4r9t\n",
      " + Deleting file id=fvtq2h321sa9au13meaf\n",
      " + Deleting file id=fvt4dgfs7jbtf4c5mcn2\n",
      " + Deleting file id=fvt8c038agqse8lpfiat\n",
      " + Deleting file id=fvtogn5ddhd3tnheb42l\n",
      " + Deleting file id=fvtkujoni0f9h4h81lng\n",
      " + Deleting file id=fvtq98l8nhnm2j7llc6h\n",
      " + Deleting file id=fvt64qtq5prn452q9r5g\n",
      " + Deleting file id=fvtmnsbi0kv59gkpp2cq\n",
      " + Deleting file id=fvtkoi421s59rb0jtal9\n",
      " + Deleting file id=fvt9hp2hnfdm4ffj50ut\n",
      " + Deleting file id=fvtnibte3l7fgocqqr66\n",
      " + Deleting file id=fvte62p0a2m1vg2b9i6j\n",
      " + Deleting file id=fvt2u8j6dqj3k37qd7lo\n",
      " + Deleting file id=fvti2kle4sijd11r1d6c\n",
      " + Deleting file id=fvtkjt2ajmr3nees30k6\n",
      " + Deleting file id=fvthgksa60oggke9vnuj\n",
      " + Deleting file id=fvtkk0abstadidog1eae\n",
      " + Deleting file id=fvte1v3lj23o8a4gk3vj\n",
      " + Deleting file id=fvt5qb89jhep25qap1lp\n",
      " + Deleting file id=fvtqlfpdi702725oif75\n",
      " + Deleting file id=fvtc25f0i1s0u4ob0um6\n",
      " + Deleting file id=fvt4sv1fbdkcg2gib6e4\n",
      " + Deleting file id=fvt4shdqmjfjpi278krb\n",
      " + Deleting file id=fvt1bequrmneq22agg71\n",
      " + Deleting file id=fvt5l3r6qettos9a5c44\n",
      " + Deleting file id=fvt0ctn0s6hgr976cof3\n",
      " + Deleting file id=fvtaorflh2h4vqatcf7k\n",
      " + Deleting file id=fvtp5vo969rcgsbn3rud\n",
      " + Deleting file id=fvtvb489ci1glclue6kt\n",
      " + Deleting file id=fvt31i2kq7qbhlro2eit\n",
      " + Deleting file id=fvt8g562fmq530b26c4t\n",
      " + Deleting file id=fvt2rclc2tu4c3iukhpr\n",
      " + Deleting file id=fvtm3pbpshjq3jpa49tn\n",
      " + Deleting file id=fvtvnq2jdr9j3ebhfajp\n",
      " + Deleting file id=fvt06es6rneqf2675cm9\n",
      " + Deleting file id=fvtmrhfqjjh9qi1s71ls\n",
      " + Deleting file id=fvtip8aulg6et02g9shh\n",
      " + Deleting file id=fvt2aoagj03jo4e1gu1l\n",
      " + Deleting file id=fvt4642ucm54sr6g5994\n",
      " + Deleting file id=fvtbkoovp3nu897v16op\n",
      " + Deleting file id=fvt25v6tmmpr88v2bt5u\n",
      " + Deleting file id=fvt9d6a014h7d35b0i8f\n",
      " + Deleting file id=fvtjbcpheunb33gq7ode\n",
      " + Deleting file id=fvtkhns1ql90g7t9478b\n",
      " + Deleting file id=fvtfd4rkk6je4k3d1d9f\n",
      " + Deleting file id=fvtdvkvjsv88hv5dl8ep\n",
      " + Deleting file id=fvt3vdsdrfdji827sgem\n",
      " + Deleting file id=fvt48mi17bhmejfim3b5\n",
      " + Deleting file id=fvta30mo68memppu30ph\n",
      " + Deleting file id=fvt7eud283pnmc1gur4o\n",
      " + Deleting file id=fvt3pobd5oqt3i85vrva\n",
      " + Deleting file id=fvt5cot3ojbrcbjmp6d4\n",
      " + Deleting file id=fvtus5ihdqdhmt94ln1u\n",
      " + Deleting file id=fvts73ff01edeji5i16c\n",
      " + Deleting file id=fvtpuu45c83vnfcitsf0\n",
      " + Deleting file id=fvtfio9cbdoeusa6qt12\n",
      " + Deleting file id=fvtqsd8v5veimjeias2t\n",
      " + Deleting file id=fvtqf61rl99t3jt3m2oj\n",
      " + Deleting file id=fvta5v2ind88a8riuiem\n",
      " + Deleting file id=fvteo6bbil0ga246s0hb\n",
      " + Deleting file id=fvt5t8ao2q4enrtfkosd\n",
      " + Deleting file id=fvt3g7af4kepv2nc84s4\n",
      " + Deleting file id=fvtspngnhg12bf8bglq6\n",
      " + Deleting file id=fvt3iui0isojlb58p9q0\n",
      " + Deleting file id=fvtsgicvsq3e405ojrkq\n",
      " + Deleting file id=fvtho28s106njppg4pon\n",
      " + Deleting file id=fvtji38fmjegobf85m85\n",
      " + Deleting file id=fvt5c7960t11ephnie20\n",
      " + Deleting file id=fvtg5822es0p0v0ug0do\n",
      " + Deleting file id=fvtjudqv8fceb8r6uhur\n",
      " + Deleting file id=fvt8gnm1c4mpko57esve\n",
      " + Deleting file id=fvti0ba8gb118u4nblnf\n",
      " + Deleting file id=fvtq2s4iqet2vfdttatk\n",
      " + Deleting file id=fvtq8vat5fc82p8vr577\n",
      " + Deleting file id=fvtprlspv5uii6o10nhk\n",
      " + Deleting file id=fvtt2u5v01ofofbcggsi\n",
      " + Deleting file id=fvtoc6l33tn11be23gh3\n",
      " + Deleting file id=fvttt02r3o0siljn2s6b\n",
      " + Deleting file id=fvto5qdb2df88vk1koke\n",
      " + Deleting file id=fvtqb9nd2vnhhtgc2oeg\n",
      " + Deleting file id=fvtsduqisj0lg2h0mect\n",
      " + Deleting file id=fvtkl9u9p1otjtqtpln1\n",
      " + Deleting file id=fvtm6a2td5sptl7fpl4o\n",
      " + Deleting file id=fvt925gorsvk3k9dqj2k\n",
      " + Deleting file id=fvts9vidfldeum9ot77c\n",
      " + Deleting file id=fvt5vakbkj28i8f01ier\n",
      " + Deleting file id=fvtcj04t3gp4kp29h4it\n",
      " + Deleting file id=fvt78ufehgt6ggm6ngfh\n",
      " + Deleting file id=fvt7q5bh7v9mhkklemh6\n",
      " + Deleting file id=fvtbmm2jtdnjje7g4j5h\n",
      " + Deleting file id=fvtc0dartvpm3l2f7lu5\n",
      " + Deleting file id=fvtq96p2jfsras1ana0s\n",
      " + Deleting file id=fvt49mk6qgf59jn379uv\n",
      " + Deleting file id=fvtddehfd9ljqvdmsdhq\n",
      " + Deleting file id=fvtrm27gc0ksrc5u1gmj\n",
      " + Deleting file id=fvt3vhnuv4ehuc3ej1o9\n",
      " + Deleting file id=fvtc4mtlbka58d868dcb\n",
      " + Deleting file id=fvttgfljq1hvlefdjt97\n",
      " + Deleting file id=fvtp85oftn858ese8ebk\n",
      " + Deleting file id=fvt8293035i810cnga9h\n",
      " + Deleting file id=fvtnonnpcrvda38od197\n",
      " + Deleting file id=fvtbq4da93qtmklaim9c\n",
      " + Deleting file id=fvtvva4u02d0g6h22ft8\n",
      " + Deleting file id=fvtk0lcri6onlg76hap9\n",
      " + Deleting file id=fvtb0l40av4b0fh7cpob\n",
      " + Deleting file id=fvtg0f28ii8t632pl6gt\n",
      " + Deleting file id=fvt8op4qmrtfnpibvl1u\n",
      " + Deleting file id=fvtqe13ags3223gm5odf\n",
      " + Deleting file id=fvt0m9olfd15174c3pa8\n",
      " + Deleting file id=fvtm9s2vtcaeqo06kedj\n",
      " + Deleting file id=fvtfsvktjc97gklrjaa4\n",
      " + Deleting file id=fvttkfjcniundcha5uns\n",
      " + Deleting file id=fvtjgegunrcpdf0b8pf8\n",
      " + Deleting file id=fvtvrh14dskce8t9ekvr\n",
      " + Deleting file id=fvtndkdc5ns436flflim\n",
      " + Deleting file id=fvtvuobvlqklb1kgbmli\n",
      " + Deleting file id=fvtukfp0u6jgi00lt47r\n",
      " + Deleting file id=fvt0e9k6s6cl2i93i6lm\n",
      " + Deleting file id=fvt8q6cvl5jju41gsnl3\n",
      " + Deleting file id=fvtsufviqptdtelahu83\n",
      " + Deleting file id=fvtqfknthi04tjnh35mg\n",
      " + Deleting file id=fvtqn4dp59tkj3erqms8\n",
      " + Deleting file id=fvtko3iktbf5cvq67j61\n",
      " + Deleting file id=fvt4rvp4ipcmjaujil4l\n",
      " + Deleting file id=fvttkjont75g40ckv3r6\n",
      " + Deleting file id=fvt9ner3ar9mfa9rocpj\n",
      " + Deleting file id=fvterused5bpa805juc5\n",
      " + Deleting file id=fvthp1b7r8tlb8icrclc\n",
      " + Deleting file id=fvt591ke6l5t2ie3c4tp\n",
      " + Deleting file id=fvtshnt1f11d9e3diq90\n",
      " + Deleting file id=fvttcihnkj5ufs24k1dn\n",
      " + Deleting file id=fvtkqkaakqscr9avvdhd\n",
      " + Deleting file id=fvtlgq6r3puq9viv4mqn\n",
      " + Deleting file id=fvtpmgle2g4a43i61t7t\n",
      " + Deleting file id=fvtt9irj1ds7lohmqbmh\n",
      " + Deleting file id=fvte13lvalp0hqp13tkt\n",
      " + Deleting file id=fvt6g9d72nfi4ne0fas5\n",
      " + Deleting file id=fvtkm7bifcq5qhghvr81\n",
      " + Deleting file id=fvt3hp0jbaplvp8fdjj6\n",
      " + Deleting file id=fvt0nh8qm5hsucd0t9ts\n",
      " + Deleting file id=fvt6gjrsna7ses9fh1ns\n",
      " + Deleting file id=fvtmim834ira6gcm2poj\n",
      " + Deleting file id=fvtsmf5dl475lek41so2\n",
      " + Deleting file id=fvt2eacbs8npo1vkrp17\n",
      " + Deleting file id=fvtcmchioa4jgm3etfjf\n",
      " + Deleting file id=fvthsagb701pg0918nfe\n",
      " + Deleting file id=fvtfvrgo2unu11ootv0u\n",
      " + Deleting file id=fvtg0tsopp2s3hrh6l43\n",
      " + Deleting file id=fvt84ok36c5qasi7750j\n",
      " + Deleting file id=fvtkntqitjnal3pvemnk\n",
      " + Deleting file id=fvttvk1pb0a3sqm1qro4\n",
      " + Deleting file id=fvt1dkhpgs3n387dcg52\n",
      " + Deleting file id=fvt30qqmbf6e6iohuo5o\n",
      " + Deleting file id=fvtno2lc0uoh9dg6c1fl\n",
      " + Deleting file id=fvtbica79qub54qm33i9\n",
      " + Deleting file id=fvt49h606n1mm22jgvoh\n",
      " + Deleting file id=fvthqhfqtegf9e9o9sg3\n",
      " + Deleting file id=fvt70mutgbln9c3vjm2k\n",
      " + Deleting file id=fvtgpur9krk19l5tpbhj\n",
      " + Deleting file id=fvtaciha7hqoirgft0ba\n",
      " + Deleting file id=fvtdqhc484fvvo6jmeqk\n",
      " + Deleting file id=fvtj83r5r6q8a73ht0h4\n",
      " + Deleting file id=fvtuj7euu9u1vmj9kv6f\n",
      " + Deleting file id=fvtgng8s1vhg5ron8q60\n",
      " + Deleting file id=fvtduojs3ma7e0ihmuh0\n",
      " + Deleting file id=fvtd92s0dhtlorqp38qb\n",
      " + Deleting file id=fvtourgl81gsl0nvv1th\n",
      " + Deleting file id=fvtkhnqpp8kt352imnnk\n",
      " + Deleting file id=fvt4l0g5hu2gtob9qppp\n",
      " + Deleting file id=fvt7l5ck0to9mle0v205\n",
      " + Deleting file id=fvts6d21fs62bu6b2cqt\n",
      " + Deleting file id=fvtp8nlisgkfh716epkp\n",
      " + Deleting file id=fvtctj538ot17g379qh5\n",
      " + Deleting file id=fvto7dobc7kjqnr54h3s\n",
      " + Deleting file id=fvth5pk0dp67pnn0l43q\n",
      " + Deleting file id=fvt1ddnfibcr7t33se7b\n",
      " + Deleting file id=fvtf0bveupqpt0ojlsm6\n",
      " + Deleting file id=fvtqjdos5e9apdd97gfl\n",
      " + Deleting file id=fvthqafu5k9m34bbsuaa\n",
      " + Deleting file id=fvt3tjtos2jd9bc5nbgs\n",
      " + Deleting file id=fvtgu1i18ol5rvd099lm\n",
      " + Deleting file id=fvt51hasc4bv4a2788j1\n",
      " + Deleting file id=fvt9i3qsitl3723fv3dg\n",
      " + Deleting file id=fvt9eq4spdkj5h696kge\n",
      " + Deleting file id=fvtq5g4sntarc1epvji8\n",
      " + Deleting file id=fvtdk6j0i4mg87k0qko2\n",
      " + Deleting file id=fvt5ehtkm844ie63o483\n",
      " + Deleting file id=fvt0co63vd370aq79pbf\n",
      " + Deleting file id=fvtk94o3rvtm44b7q6le\n",
      " + Deleting file id=fvta70r6p3nh91obuqd1\n",
      " + Deleting file id=fvtpgs435enem50ard1g\n",
      " + Deleting file id=fvtknr20u403pco7j972\n",
      " + Deleting file id=fvt3utmmareqe6teogsl\n",
      " + Deleting file id=fvthh582r0rs4ghihl8a\n",
      " + Deleting file id=fvtfhqloj0v4dt09nqji\n",
      " + Deleting file id=fvtvu2e5s62ip5sn5e72\n",
      " + Deleting file id=fvtjritfvp24ev7cn9up\n",
      " + Deleting file id=fvtq66n8s8qd9r1s7atb\n",
      " + Deleting file id=fvtoa5r93vich4sjf3sm\n",
      " + Deleting file id=fvtne71pd3eubfm3ri74\n",
      " + Deleting file id=fvt0ut3eg0q1cgs9669a\n",
      " + Deleting file id=fvt1g9dhifgdhml9psju\n",
      " + Deleting file id=fvtl4m0ukdjf6mob9rfu\n",
      " + Deleting file id=fvt06pgmdvrkf74mh2sd\n"
     ]
    }
   ],
   "source": [
    "vector_stores = client.vector_stores.list()\n",
    "for v in vector_stores:\n",
    "    print(f\" + Deleting vector store id={v.id}\")\n",
    "    client.vector_stores.delete(vector_store_id=v.id)\n",
    "\n",
    "files = client.files.list(purpose='assistants')\n",
    "for f in files:\n",
    "    print(f\" + Deleting file id={f.id}\")\n",
    "    client.files.delete(file_id=f.id)"
   ]
  },
  {
   "cell_type": "markdown",
   "metadata": {},
   "source": [
    "## Выводы\n",
    "\n",
    "OpenAI Responses API - это удобный протокол для работы с языковыми моделями, поддерживающий сохранение истории переписки, вызов локальных функций и MCP, а также инструменты семантического поиска. На основе Responses API построены многие библиотеки, совместимые с OpenAI. Поддержка протокола Responses API в Yandex Cloud позволяет использовать соответствующие модели в облаке со множеством OpenAI-совместимых инструментов. "
   ]
  }
 ],
 "metadata": {
  "kernelspec": {
   "display_name": "mas",
   "language": "python",
   "name": "python3"
  },
  "language_info": {
   "codemirror_mode": {
    "name": "ipython",
    "version": 3
   },
   "file_extension": ".py",
   "mimetype": "text/x-python",
   "name": "python",
   "nbconvert_exporter": "python",
   "pygments_lexer": "ipython3",
   "version": "3.12.0"
  }
 },
 "nbformat": 4,
 "nbformat_minor": 4
}
