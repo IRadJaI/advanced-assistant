{
 "cells": [
  {
   "cell_type": "markdown",
   "metadata": {},
   "source": [
    "## Создание продвинутых ассистентов\n",
    "\n",
    "В этом ноутбуке мы попробуем создать и протестировать чат-ассистента на основе Yandex Assistant API, RAG и Function Calling.\n",
    "\n",
    "Для начала, установим Yandex Cloud ML SDK."
   ]
  },
  {
   "cell_type": "code",
   "execution_count": 1,
   "metadata": {},
   "outputs": [
    {
     "name": "stdout",
     "output_type": "stream",
     "text": [
      "Collecting yandex-cloud-ml-sdk\n",
      "  Downloading yandex_cloud_ml_sdk-0.4.1-py3-none-any.whl.metadata (4.1 kB)\n",
      "Collecting yandexcloud>=0.334.0 (from yandex-cloud-ml-sdk)\n",
      "  Downloading yandexcloud-0.336.0-py3-none-any.whl.metadata (11 kB)\n",
      "Collecting grpcio>=1.70.0 (from yandex-cloud-ml-sdk)\n",
      "  Downloading grpcio-1.71.0-cp39-cp39-win_amd64.whl.metadata (4.0 kB)\n",
      "Collecting get-annotations (from yandex-cloud-ml-sdk)\n",
      "  Downloading get_annotations-0.1.2-py3-none-any.whl.metadata (3.3 kB)\n",
      "Collecting httpx<1,>=0.27 (from yandex-cloud-ml-sdk)\n",
      "  Using cached httpx-0.28.1-py3-none-any.whl.metadata (7.1 kB)\n",
      "Requirement already satisfied: typing-extensions>=4 in c:\\winapp\\conda\\envs\\tmp\\lib\\site-packages (from yandex-cloud-ml-sdk) (4.11.0)\n",
      "Collecting aiofiles>=24.1.0 (from yandex-cloud-ml-sdk)\n",
      "  Downloading aiofiles-24.1.0-py3-none-any.whl.metadata (10 kB)\n",
      "Requirement already satisfied: anyio in c:\\winapp\\conda\\envs\\tmp\\lib\\site-packages (from httpx<1,>=0.27->yandex-cloud-ml-sdk) (3.6.2)\n",
      "Requirement already satisfied: certifi in c:\\winapp\\conda\\envs\\tmp\\lib\\site-packages (from httpx<1,>=0.27->yandex-cloud-ml-sdk) (2024.2.2)\n",
      "Collecting httpcore==1.* (from httpx<1,>=0.27->yandex-cloud-ml-sdk)\n",
      "  Using cached httpcore-1.0.7-py3-none-any.whl.metadata (21 kB)\n",
      "Requirement already satisfied: idna in c:\\winapp\\conda\\envs\\tmp\\lib\\site-packages (from httpx<1,>=0.27->yandex-cloud-ml-sdk) (3.7)\n",
      "Collecting h11<0.15,>=0.13 (from httpcore==1.*->httpx<1,>=0.27->yandex-cloud-ml-sdk)\n",
      "  Using cached h11-0.14.0-py3-none-any.whl.metadata (8.2 kB)\n",
      "INFO: pip is looking at multiple versions of yandexcloud to determine which version is compatible with other requirements. This could take a while.\n",
      "Collecting yandexcloud>=0.334.0 (from yandex-cloud-ml-sdk)\n",
      "  Downloading yandexcloud-0.335.0-py3-none-any.whl.metadata (11 kB)\n",
      "  Downloading yandexcloud-0.334.0-py3-none-any.whl.metadata (11 kB)\n",
      "Collecting yandex-cloud-ml-sdk\n",
      "  Downloading yandex_cloud_ml_sdk-0.4.0-py3-none-any.whl.metadata (4.1 kB)\n",
      "  Downloading yandex_cloud_ml_sdk-0.3.1-py3-none-any.whl.metadata (4.0 kB)\n",
      "INFO: pip is still looking at multiple versions of yandexcloud to determine which version is compatible with other requirements. This could take a while.\n",
      "  Downloading yandex_cloud_ml_sdk-0.3.0-py3-none-any.whl.metadata (4.1 kB)\n",
      "Collecting yandexcloud>=0.327.0 (from yandex-cloud-ml-sdk)\n",
      "  Downloading yandexcloud-0.328.0-py3-none-any.whl.metadata (10 kB)\n",
      "Collecting cryptography<43,>=41.0.7 (from yandexcloud>=0.327.0->yandex-cloud-ml-sdk)\n",
      "  Downloading cryptography-42.0.8-cp39-abi3-win_amd64.whl.metadata (5.4 kB)\n",
      "Collecting protobuf<5,>=4.25.3 (from yandexcloud>=0.327.0->yandex-cloud-ml-sdk)\n",
      "  Downloading protobuf-4.25.6-cp39-cp39-win_amd64.whl.metadata (541 bytes)\n",
      "Collecting googleapis-common-protos<2,>=1.63.0 (from yandexcloud>=0.327.0->yandex-cloud-ml-sdk)\n",
      "  Downloading googleapis_common_protos-1.69.2-py3-none-any.whl.metadata (9.3 kB)\n",
      "Collecting pyjwt<3,>=2.8.0 (from yandexcloud>=0.327.0->yandex-cloud-ml-sdk)\n",
      "  Downloading PyJWT-2.10.1-py3-none-any.whl.metadata (4.0 kB)\n",
      "Collecting requests<3,>=2.32.3 (from yandexcloud>=0.327.0->yandex-cloud-ml-sdk)\n",
      "  Using cached requests-2.32.3-py3-none-any.whl.metadata (4.6 kB)\n",
      "Requirement already satisfied: six<2,>=1.16.0 in c:\\winapp\\conda\\envs\\tmp\\lib\\site-packages (from yandexcloud>=0.327.0->yandex-cloud-ml-sdk) (1.16.0)\n",
      "Requirement already satisfied: cffi>=1.12 in c:\\winapp\\conda\\envs\\tmp\\lib\\site-packages (from cryptography<43,>=41.0.7->yandexcloud>=0.327.0->yandex-cloud-ml-sdk) (1.15.1)\n",
      "Requirement already satisfied: charset-normalizer<4,>=2 in c:\\winapp\\conda\\envs\\tmp\\lib\\site-packages (from requests<3,>=2.32.3->yandexcloud>=0.327.0->yandex-cloud-ml-sdk) (3.0.1)\n",
      "Requirement already satisfied: urllib3<3,>=1.21.1 in c:\\winapp\\conda\\envs\\tmp\\lib\\site-packages (from requests<3,>=2.32.3->yandexcloud>=0.327.0->yandex-cloud-ml-sdk) (1.26.14)\n",
      "Requirement already satisfied: sniffio>=1.1 in c:\\winapp\\conda\\envs\\tmp\\lib\\site-packages (from anyio->httpx<1,>=0.27->yandex-cloud-ml-sdk) (1.3.0)\n",
      "Requirement already satisfied: pycparser in c:\\winapp\\conda\\envs\\tmp\\lib\\site-packages (from cffi>=1.12->cryptography<43,>=41.0.7->yandexcloud>=0.327.0->yandex-cloud-ml-sdk) (2.21)\n",
      "Downloading yandex_cloud_ml_sdk-0.3.0-py3-none-any.whl (108 kB)\n",
      "   ---------------------------------------- 108.6/108.6 kB 1.3 MB/s eta 0:00:00\n",
      "Downloading yandexcloud-0.328.0-py3-none-any.whl (4.0 MB)\n",
      "   ---------------------------------------- 4.0/4.0 MB 7.3 MB/s eta 0:00:00\n",
      "Downloading cryptography-42.0.8-cp39-abi3-win_amd64.whl (2.9 MB)\n",
      "   ---------------------------------------- 2.9/2.9 MB 9.7 MB/s eta 0:00:00\n",
      "Downloading aiofiles-24.1.0-py3-none-any.whl (15 kB)\n",
      "Downloading grpcio-1.71.0-cp39-cp39-win_amd64.whl (4.3 MB)\n",
      "   ---------------------------------------- 4.3/4.3 MB 6.1 MB/s eta 0:00:00\n",
      "Using cached httpx-0.28.1-py3-none-any.whl (73 kB)\n",
      "Using cached httpcore-1.0.7-py3-none-any.whl (78 kB)\n",
      "Downloading get_annotations-0.1.2-py3-none-any.whl (4.5 kB)\n",
      "Downloading googleapis_common_protos-1.69.2-py3-none-any.whl (293 kB)\n",
      "   ---------------------------------------- 293.2/293.2 kB 4.6 MB/s eta 0:00:00\n",
      "Downloading protobuf-4.25.6-cp39-cp39-win_amd64.whl (413 kB)\n",
      "   ---------------------------------------- 413.4/413.4 kB 8.6 MB/s eta 0:00:00\n",
      "Downloading PyJWT-2.10.1-py3-none-any.whl (22 kB)\n",
      "Using cached requests-2.32.3-py3-none-any.whl (64 kB)\n",
      "Using cached h11-0.14.0-py3-none-any.whl (58 kB)\n",
      "Installing collected packages: requests, pyjwt, protobuf, h11, grpcio, get-annotations, aiofiles, httpcore, googleapis-common-protos, cryptography, yandexcloud, httpx, yandex-cloud-ml-sdk\n",
      "  Attempting uninstall: requests\n",
      "    Found existing installation: requests 2.28.2\n",
      "    Uninstalling requests-2.28.2:\n",
      "      Successfully uninstalled requests-2.28.2\n",
      "  Attempting uninstall: protobuf\n",
      "    Found existing installation: protobuf 3.19.6\n",
      "    Uninstalling protobuf-3.19.6:\n",
      "      Successfully uninstalled protobuf-3.19.6\n",
      "  Attempting uninstall: grpcio\n",
      "    Found existing installation: grpcio 1.51.3\n",
      "    Uninstalling grpcio-1.51.3:\n",
      "      Successfully uninstalled grpcio-1.51.3\n",
      "Successfully installed aiofiles-24.1.0 cryptography-42.0.8 get-annotations-0.1.2 googleapis-common-protos-1.69.2 grpcio-1.71.0 h11-0.14.0 httpcore-1.0.7 httpx-0.28.1 protobuf-4.25.6 pyjwt-2.10.1 requests-2.32.3 yandex-cloud-ml-sdk-0.3.0 yandexcloud-0.328.0\n",
      "Note: you may need to restart the kernel to use updated packages.\n"
     ]
    },
    {
     "name": "stderr",
     "output_type": "stream",
     "text": [
      "ERROR: pip's dependency resolver does not currently take into account all the packages that are installed. This behaviour is the source of the following dependency conflicts.\n",
      "langchain 0.0.239 requires langsmith<0.1.0,>=0.0.11, but you have langsmith 0.1.67 which is incompatible.\n",
      "tensorboard 2.11.2 requires protobuf<4,>=3.9.2, but you have protobuf 4.25.6 which is incompatible.\n",
      "tensorflow-intel 2.11.0 requires protobuf<3.20,>=3.9.2, but you have protobuf 4.25.6 which is incompatible.\n"
     ]
    }
   ],
   "source": [
    "%pip install yandex-cloud-ml-sdk"
   ]
  },
  {
   "cell_type": "code",
   "execution_count": 19,
   "metadata": {},
   "outputs": [],
   "source": [
    "import os \n",
    "from yandex_cloud_ml_sdk import YCloudML\n",
    "\n",
    "folder_id = os.environ['folder_id']\n",
    "api_key = os.environ['api_key']\n",
    "\n",
    "\n",
    "sdk = YCloudML(folder_id=folder_id,auth=api_key)\n",
    "model = sdk.models.completions(\"yandexgpt\",model_version='rc')"
   ]
  },
  {
   "cell_type": "code",
   "execution_count": 3,
   "metadata": {},
   "outputs": [
    {
     "name": "stdout",
     "output_type": "stream",
     "text": [
      "Привет! Число пи (обозначается как $\\pi$) — это математическая константа, которая выражает отношение длины окружности к её диаметру. Независимо от размера окружности, это отношение всегда будет одинаковым и приблизительно равно 3,14. Число пи — иррациональное, то есть его десятичное представление бесконечно и не повторяется.\n"
     ]
    }
   ],
   "source": [
    "thread = sdk.threads.create(name=\"Test\", ttl_days=1, expiration_policy=\"static\")\n",
    "assistant =  sdk.assistants.create(model, ttl_days=1, expiration_policy=\"since_last_active\")\n",
    "\n",
    "thread.write(\"Ты - учитель геометрии в школе. Тебя зовут мисс Радиус. Твоя задача - отвечать на вопросы ученика.\")\n",
    "\n",
    "assistant.update(instruction=\"Привет! Что такое число пи?\")\n",
    "\n",
    "run = assistant.run(thread)\n",
    "result = run.wait()\n",
    "\n",
    "print(result.text)"
   ]
  },
  {
   "cell_type": "code",
   "execution_count": 4,
   "metadata": {},
   "outputs": [
    {
     "name": "stdout",
     "output_type": "stream",
     "text": [
      "Если округлить число $\\pi$ до целого, получится 3. Однако для точных расчётов такое округление не используется, так как оно значительно снижает точность вычислений. Обычно число $\\pi$ округляют до двух знаков после запятой — 3,14. Это более точное значение, которое часто применяется в геометрических задачах.\n"
     ]
    }
   ],
   "source": [
    "thread.write(\"А если округлить до целого?\")\n",
    "\n",
    "run = assistant.run(thread)\n",
    "result = run.wait()\n",
    "\n",
    "print(result.text)"
   ]
  },
  {
   "cell_type": "code",
   "execution_count": 5,
   "metadata": {},
   "outputs": [],
   "source": [
    "thread.delete()\n",
    "assistant.delete()"
   ]
  },
  {
   "cell_type": "markdown",
   "metadata": {},
   "source": [
    "## Делаем винного ассистента"
   ]
  },
  {
   "cell_type": "code",
   "execution_count": 23,
   "metadata": {},
   "outputs": [
    {
     "data": {
      "text/html": [
       "<div>\n",
       "<style scoped>\n",
       "    .dataframe tbody tr th:only-of-type {\n",
       "        vertical-align: middle;\n",
       "    }\n",
       "\n",
       "    .dataframe tbody tr th {\n",
       "        vertical-align: top;\n",
       "    }\n",
       "\n",
       "    .dataframe thead th {\n",
       "        text-align: right;\n",
       "    }\n",
       "</style>\n",
       "<table border=\"1\" class=\"dataframe\">\n",
       "  <thead>\n",
       "    <tr style=\"text-align: right;\">\n",
       "      <th></th>\n",
       "    </tr>\n",
       "  </thead>\n",
       "  <tbody>\n",
       "  </tbody>\n",
       "</table>\n",
       "</div>"
      ],
      "text/plain": [
       "Empty DataFrame\n",
       "Columns: []\n",
       "Index: []"
      ]
     },
     "execution_count": 23,
     "metadata": {},
     "output_type": "execute_result"
    }
   ],
   "source": [
    "from glob import glob\n",
    "from tqdm.auto import tqdm\n",
    "import pandas as pd\n",
    "\n",
    "def get_token_count(filename):\n",
    "    with open(filename,'r',encoding='utf8') as f:\n",
    "        return len(model.tokenize(f.read()))\n",
    "\n",
    "d = [\n",
    "        {\n",
    "            \"File\" : fn,\n",
    "            \"Tokens\" : get_token_count(fn),\n",
    "            \"Category\" : fn.split('/')[1]\n",
    "        } \n",
    "    for fn in glob('source/*/*.md')\n",
    "    if fn.count('/') > 2\n",
    "]\n",
    "\n",
    "df = pd.DataFrame(d)\n",
    "df"
   ]
  },
  {
   "cell_type": "code",
   "execution_count": 24,
   "metadata": {},
   "outputs": [
    {
     "data": {
      "text/plain": [
       "['source\\\\regions\\\\Абруццо.md',\n",
       " 'source\\\\regions\\\\Азорские острова.md',\n",
       " 'source\\\\regions\\\\Аконкагуа.md',\n",
       " 'source\\\\regions\\\\Алентежу.md',\n",
       " 'source\\\\regions\\\\Апулия.md',\n",
       " 'source\\\\regions\\\\Ар.md',\n",
       " 'source\\\\regions\\\\Атакама.md',\n",
       " 'source\\\\regions\\\\Аустрал.md',\n",
       " 'source\\\\regions\\\\Баден.md',\n",
       " 'source\\\\regions\\\\Базиликата.md',\n",
       " 'source\\\\regions\\\\Байррада.md',\n",
       " 'source\\\\regions\\\\Бержерак.md',\n",
       " 'source\\\\regions\\\\Бордо.md',\n",
       " 'source\\\\regions\\\\Бургенланд.md',\n",
       " 'source\\\\regions\\\\Бургундия.md',\n",
       " 'source\\\\regions\\\\Бюже.md',\n",
       " 'source\\\\regions\\\\Вайрарапа.md',\n",
       " 'source\\\\regions\\\\Валле-д’Аоста.md',\n",
       " 'source\\\\regions\\\\Вашингтон.md',\n",
       " 'source\\\\regions\\\\Венето.md',\n",
       " 'source\\\\regions\\\\Винью Верде.md',\n",
       " 'source\\\\regions\\\\Вирджиния.md',\n",
       " 'source\\\\regions\\\\Вюртемберг.md',\n",
       " 'source\\\\regions\\\\Гайяк.md',\n",
       " 'source\\\\regions\\\\Галисия.md',\n",
       " 'source\\\\regions\\\\Гессенская горная дорога.md',\n",
       " 'source\\\\regions\\\\Гисборн.md',\n",
       " 'source\\\\regions\\\\Дау.md',\n",
       " 'source\\\\regions\\\\Дору.md',\n",
       " 'source\\\\regions\\\\Жюра.md',\n",
       " 'source\\\\regions\\\\Жюрансон.md',\n",
       " 'source\\\\regions\\\\Заале-Унструт.md',\n",
       " 'source\\\\regions\\\\Западный Кейп.md',\n",
       " 'source\\\\regions\\\\Ирулеги.md',\n",
       " 'source\\\\regions\\\\Калабрия.md',\n",
       " 'source\\\\regions\\\\Калифорния.md',\n",
       " 'source\\\\regions\\\\Кампания.md',\n",
       " 'source\\\\regions\\\\Каор.md',\n",
       " 'source\\\\regions\\\\Кастилия и Леон.md',\n",
       " 'source\\\\regions\\\\Каталония.md',\n",
       " 'source\\\\regions\\\\Кентербери.md',\n",
       " 'source\\\\regions\\\\Кокимбо.md',\n",
       " 'source\\\\regions\\\\Констанция.md',\n",
       " 'source\\\\regions\\\\Корсика.md',\n",
       " 'source\\\\regions\\\\Кот Де Гасконь.md',\n",
       " 'source\\\\regions\\\\Лангедок и Руссильон.md',\n",
       " 'source\\\\regions\\\\Лацио.md',\n",
       " 'source\\\\regions\\\\Лигурия.md',\n",
       " 'source\\\\regions\\\\Лиссабон.md',\n",
       " 'source\\\\regions\\\\Ломбардия.md',\n",
       " 'source\\\\regions\\\\Мадейра.md',\n",
       " 'source\\\\regions\\\\Мадиран.md',\n",
       " 'source\\\\regions\\\\Мальборо.md',\n",
       " 'source\\\\regions\\\\Марке.md',\n",
       " 'source\\\\regions\\\\Миттельрейн.md',\n",
       " 'source\\\\regions\\\\Мозель.md',\n",
       " 'source\\\\regions\\\\Молизе.md',\n",
       " 'source\\\\regions\\\\Наварра.md',\n",
       " 'source\\\\regions\\\\Наэ.md',\n",
       " 'source\\\\regions\\\\Нельсон.md',\n",
       " 'source\\\\regions\\\\Нижняя Австрия.md',\n",
       " 'source\\\\regions\\\\Нью-Йорк.md',\n",
       " 'source\\\\regions\\\\Овернь.md',\n",
       " 'source\\\\regions\\\\Окленд.md',\n",
       " 'source\\\\regions\\\\Орегон.md',\n",
       " 'source\\\\regions\\\\Паарл.md',\n",
       " 'source\\\\regions\\\\Прованс.md',\n",
       " 'source\\\\regions\\\\Пфальц.md',\n",
       " 'source\\\\regions\\\\Пьемонт.md',\n",
       " 'source\\\\regions\\\\Рейнгау.md',\n",
       " 'source\\\\regions\\\\Рейнхессен.md',\n",
       " 'source\\\\regions\\\\Река Олифантс.md',\n",
       " 'source\\\\regions\\\\Риоха.md',\n",
       " 'source\\\\regions\\\\Робертсон.md',\n",
       " 'source\\\\regions\\\\Савойя.md',\n",
       " 'source\\\\regions\\\\Саксония.md',\n",
       " 'source\\\\regions\\\\Сардиния.md',\n",
       " 'source\\\\regions\\\\Свортленд.md',\n",
       " 'source\\\\regions\\\\Сетубаль.md',\n",
       " 'source\\\\regions\\\\Сицилия.md',\n",
       " 'source\\\\regions\\\\Стелленбош.md',\n",
       " 'source\\\\regions\\\\Сур.md',\n",
       " 'source\\\\regions\\\\Техас.md',\n",
       " 'source\\\\regions\\\\Тоскана.md',\n",
       " 'source\\\\regions\\\\Трентино-Альто-Адидже.md',\n",
       " 'source\\\\regions\\\\Умбрия.md',\n",
       " 'source\\\\regions\\\\Франкония.md',\n",
       " 'source\\\\regions\\\\Франшхук.md',\n",
       " 'source\\\\regions\\\\Фриули-Венеция-Джулия.md',\n",
       " 'source\\\\regions\\\\Фронтон.md',\n",
       " 'source\\\\regions\\\\Хемель-эн-Аарде.md',\n",
       " 'source\\\\regions\\\\Хокс-Бэй.md',\n",
       " 'source\\\\regions\\\\Центральная Долина.md',\n",
       " 'source\\\\regions\\\\Центральный Отаго.md',\n",
       " 'source\\\\regions\\\\Шампань.md',\n",
       " 'source\\\\regions\\\\Штирия.md',\n",
       " 'source\\\\regions\\\\Элгин.md',\n",
       " 'source\\\\regions\\\\Элим.md',\n",
       " 'source\\\\regions\\\\Эльзас.md',\n",
       " 'source\\\\regions\\\\Эмилия-Романья.md',\n",
       " 'source\\\\wines\\\\Альбариньо.md',\n",
       " 'source\\\\wines\\\\Блауфранкиш.md',\n",
       " 'source\\\\wines\\\\Вионье.md',\n",
       " 'source\\\\wines\\\\Виура.md',\n",
       " 'source\\\\wines\\\\Гевюрцтраминер.md',\n",
       " 'source\\\\wines\\\\Гренaш.md',\n",
       " 'source\\\\wines\\\\Грюнер вельтлинер.md',\n",
       " 'source\\\\wines\\\\Зинфандель.md',\n",
       " 'source\\\\wines\\\\Каберне Совиньон .md',\n",
       " 'source\\\\wines\\\\Каберне фран.md',\n",
       " 'source\\\\wines\\\\Карменер.md',\n",
       " 'source\\\\wines\\\\Мальбек.md',\n",
       " 'source\\\\wines\\\\Мерло.md',\n",
       " 'source\\\\wines\\\\Мускат.md',\n",
       " 'source\\\\wines\\\\Мюллер-Тургау.md',\n",
       " 'source\\\\wines\\\\Неббиоло.md',\n",
       " 'source\\\\wines\\\\Пино блан.md',\n",
       " 'source\\\\wines\\\\Пино гри.md',\n",
       " 'source\\\\wines\\\\Пино-нуар.md',\n",
       " 'source\\\\wines\\\\Пинотаж.md',\n",
       " 'source\\\\wines\\\\Рислинг.md',\n",
       " 'source\\\\wines\\\\Санджовезе.md',\n",
       " 'source\\\\wines\\\\Семильон.md',\n",
       " 'source\\\\wines\\\\Сильванер.md',\n",
       " 'source\\\\wines\\\\Сира.md',\n",
       " 'source\\\\wines\\\\Совиньон блан.md',\n",
       " 'source\\\\wines\\\\Темпранильо.md',\n",
       " 'source\\\\wines\\\\Цвайгельт.md',\n",
       " 'source\\\\wines\\\\Шардоне.md',\n",
       " 'source\\\\wines\\\\Шенен блан.md']"
      ]
     },
     "execution_count": 24,
     "metadata": {},
     "output_type": "execute_result"
    }
   ],
   "source": [
    "glob('source/*/*.md')"
   ]
  },
  {
   "cell_type": "code",
   "execution_count": null,
   "metadata": {},
   "outputs": [],
   "source": []
  }
 ],
 "metadata": {
  "kernelspec": {
   "display_name": "tmp",
   "language": "python",
   "name": "python3"
  },
  "language_info": {
   "codemirror_mode": {
    "name": "ipython",
    "version": 3
   },
   "file_extension": ".py",
   "mimetype": "text/x-python",
   "name": "python",
   "nbconvert_exporter": "python",
   "pygments_lexer": "ipython3",
   "version": "3.9.0"
  }
 },
 "nbformat": 4,
 "nbformat_minor": 2
}
