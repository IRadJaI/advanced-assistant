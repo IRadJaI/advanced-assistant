{
 "cells": [
  {
   "cell_type": "markdown",
   "metadata": {},
   "source": [
    "## Создание продвинутых ассистентов\n",
    "\n",
    "В этом ноутбуке мы попробуем создать и протестировать чат-ассистента на основе Completion API, RAG и Function Calling.\n",
    "\n",
    "Для начала, установим OpenAI SDK и другие полезные библиотеки:"
   ]
  },
  {
   "cell_type": "code",
   "execution_count": null,
   "metadata": {
    "tags": []
   },
   "outputs": [],
   "source": [
    "%pip install openai pydantic"
   ]
  },
  {
   "cell_type": "markdown",
   "metadata": {},
   "source": [
    "**ВНИМАНИЕ**: После установки библиотек рекомендуется перезапустить Kernel ноутбука.\n",
    "\n",
    "И ещё пара полезных функций на будущее:"
   ]
  },
  {
   "cell_type": "code",
   "execution_count": 1,
   "metadata": {
    "execution": {
     "iopub.execute_input": "2025-04-02T10:12:38.225732Z",
     "iopub.status.busy": "2025-04-02T10:12:38.224713Z",
     "iopub.status.idle": "2025-04-02T10:12:38.260571Z",
     "shell.execute_reply": "2025-04-02T10:12:38.259455Z",
     "shell.execute_reply.started": "2025-04-02T10:12:38.225694Z"
    },
    "tags": []
   },
   "outputs": [],
   "source": [
    "from IPython.display import Markdown, display\n",
    "def printx(string):\n",
    "    display(Markdown(string))"
   ]
  },
  {
   "cell_type": "markdown",
   "metadata": {},
   "source": [
    "Для работы с языковыми моделями нам понадобится ключ `api_key` для сервисного аккаунта, имеющего права на доступ к модели, и `folder_id`. Мы предполагаем, что соответствующие значения хранятся в секретах Datasphere или в переменных окружения. Если вы используете набор переменных окружения в файле `.env` - запустите следующую ячейку для их загрузки."
   ]
  },
  {
   "cell_type": "code",
   "execution_count": 2,
   "metadata": {},
   "outputs": [
    {
     "data": {
      "text/plain": [
       "True"
      ]
     },
     "execution_count": 2,
     "metadata": {},
     "output_type": "execute_result"
    }
   ],
   "source": [
    "from dotenv import load_dotenv\n",
    "load_dotenv()"
   ]
  },
  {
   "cell_type": "markdown",
   "metadata": {},
   "source": [
    "\n",
    "Создадим модель последней версии YandexGPT 5 и убедимся, что она кое-что знает про вина:"
   ]
  },
  {
   "cell_type": "code",
   "execution_count": 3,
   "metadata": {
    "execution": {
     "iopub.execute_input": "2025-04-02T10:12:40.503375Z",
     "iopub.status.busy": "2025-04-02T10:12:40.502172Z",
     "iopub.status.idle": "2025-04-02T10:12:41.140536Z",
     "shell.execute_reply": "2025-04-02T10:12:41.139519Z",
     "shell.execute_reply.started": "2025-04-02T10:12:40.503325Z"
    },
    "tags": []
   },
   "outputs": [],
   "source": [
    "import os\n",
    "from openai import OpenAI\n",
    "\n",
    "folder_id = os.environ[\"folder_id\"]\n",
    "api_key = os.environ[\"api_key\"]\n",
    "\n",
    "model = \"gpt-5-nano\"\n",
    "\n",
    "client = OpenAI(\n",
    "    # base_url=\"...\",\n",
    "    api_key=os.getenv(\"api_key\")\n",
    ")"
   ]
  },
  {
   "cell_type": "code",
   "execution_count": 4,
   "metadata": {
    "execution": {
     "iopub.execute_input": "2025-04-02T10:12:42.839218Z",
     "iopub.status.busy": "2025-04-02T10:12:42.837885Z",
     "iopub.status.idle": "2025-04-02T10:12:46.948608Z",
     "shell.execute_reply": "2025-04-02T10:12:46.947579Z",
     "shell.execute_reply.started": "2025-04-02T10:12:42.839169Z"
    },
    "tags": []
   },
   "outputs": [
    {
     "data": {
      "text/markdown": [
       "К стейку чаще всего подают красные вина с хорошими танинами и кислотностью. Несколько проверенных вариантов:\n",
       "\n",
       "- Cabernet Sauvignon или Bordeaux-миксы (Left Bank): классика для жирного стейка, рибай, стейк на кости.\n",
       "- Malbec (Аргентина): плотный фруктовый стиль, отлично подходит к жирному стейку.\n",
       "- Syrah/Shiraz: перцевый, темно-ягодный вкус, хорошо с жареным стейком и соусами из перца.\n",
       "- Zinfandel: сочный, с пряностями — отличный выбор к жареному мясу.\n",
       "- Tempranillo (Rioja/Ribera del Duero): красная вишня, древесные ноты, неплохо сочетается с простым стейком и грибами.\n",
       "- Pinot Noir: более лёгкий вариант, хорош для филе или стейков с лёгкими соусами (грибы, сливочно-чесночный соус).\n",
       "- Barolo/Barbaresco или Brunello di Montalcino: для очень насыщенного, выдержанного стейка и богатых блюд — мощные таннины и комплексность.\n",
       "\n",
       "Советы:\n",
       "- Стейк с жирной корочкой и жиром любит вина с яркими танинами; карамельный вкус дуба тоже уместен.\n",
       "- Соусы меняют выбор: к peppercorn-соусу чаще идёт Syrah, Malbec или Zinfandel; к грибному — Pinot Noir или Nebbiolo-based.\n",
       "- Подавайте немного охлаждённым: примерно 16–18°C для красных.\n",
       "\n",
       "Расскажите, какой у вас именно стиль стейка (кусок, способ приготовления) и какой бюджет — помогу подобрать конкретные варианты."
      ],
      "text/plain": [
       "<IPython.core.display.Markdown object>"
      ]
     },
     "metadata": {},
     "output_type": "display_data"
    }
   ],
   "source": [
    "res = client.responses.create(\n",
    "    model = model,\n",
    "    input = \"Какое вино можно пить со стейком?\"\n",
    ")\n",
    "\n",
    "printx(res.output_text)"
   ]
  },
  {
   "cell_type": "markdown",
   "metadata": {},
   "source": [
    "## Responses API\n",
    "\n",
    "Когда мы используем запрос вида `client.responses.create` - мы используем так называемый Responses API. Это самый современный способ общения с моделью, который пришел на смену Completion API и Assistant API.\n",
    "\n",
    "При генерации ответа мы можем задать также системный промпт и другие параметры, например, уровень рассуждений модели:"
   ]
  },
  {
   "cell_type": "code",
   "execution_count": 4,
   "metadata": {
    "execution": {
     "iopub.execute_input": "2025-04-02T10:12:50.397513Z",
     "iopub.status.busy": "2025-04-02T10:12:50.396169Z",
     "iopub.status.idle": "2025-04-02T10:12:50.408681Z",
     "shell.execute_reply": "2025-04-02T10:12:50.407850Z",
     "shell.execute_reply.started": "2025-04-02T10:12:50.397465Z"
    },
    "tags": []
   },
   "outputs": [
    {
     "data": {
      "text/markdown": [
       "Отлично! Чтобы подобрать вино точно под настроение, ответьте, пожалуйста, на несколько вопросов:\n",
       "- Какой у вас бюджет?\n",
       "- Какое блюдо или событие планируете? (с чем подаёте, мясо/морепродукты/паста, десерт)\n",
       "- Предпочтения по цвету: белое, красное, игристое, или без разницы?\n",
       "- Есть ли любимые регионы или тип вина (например, Шардоне, Неббиоло, Шираз, шампанское)?\n",
       "- Нужна ли бутылка на праздничный стол или повседневная?\n",
       "\n",
       "Если хочется сразу конкретики, вот несколько универсальных вариантов на разные случаи (помочь подобрать под ваш бюджет можно точнее по ответам):\n",
       "\n",
       "- Для блюд из морепродуктов и лёгких блюд: \n",
       "  - Шенен-Блу, Верментино или Алабариño (лысые, ярко-фруктовые белые с хорошей кислотностью). Хорошо сочетаются с лососем, креветками, мидиями.\n",
       "  - Пример: Pouilly-Fumé или Albariño из Rías Baixas.\n",
       "\n",
       "- Для пасты с томатным соусом или мясной пасты:\n",
       "  - Красное: Chianti Classico, Nerello Mascalese (Etna), или Pinot Noir из Берегов Новой Зеландии/Бургундии легкого стиля.\n",
       "  - Белое с характером: Verdicchio или Greco di Tufo, если нужна белая с кислотностью и минеральностью.\n",
       "\n",
       "- Для стейка или насыщенных мясных блюд:\n",
       "  - Красное: Crianza/Reserva Rioja, Ribera del Duero, Cabernet Sauvignon из Чили или Молдовы/Калифорнии по бюджету.\n",
       "  - Альтернатива: Syrah/Shiraz из Баросы или северной Роны.\n",
       "\n",
       "- Игристое для праздника или аперитива:\n",
       "  - Классическое шампанское или традиционный метод из Испании/Италии: Cava, Franciacorta, Metodo Classico.\n",
       "\n",
       "- На десерт:\n",
       "  - Коллекции сладкие вина: Монбацца/Монпоссье, Sauternes или поздние сборы Риоха/Портуфилия (примерно зависит от десерта).\n",
       "\n",
       "Если скажете бюджет и блюдо, могу дать 3 конкретных варианта с кратким пояснением и где их искать."
      ],
      "text/plain": [
       "<IPython.core.display.Markdown object>"
      ]
     },
     "metadata": {},
     "output_type": "display_data"
    }
   ],
   "source": [
    "res = client.responses.create(\n",
    "    model = model,\n",
    "    reasoning = { \"effort\" : \"low\" },\n",
    "    store = True,\n",
    "    instructions = \"Ты - опытный сомелье, задача которого - консультировать пользователя в вопросах выбора вина.\",\n",
    "    input = \"Привет! Какое вино посоветуете?\"\n",
    ")\n",
    "\n",
    "printx(res.output_text)"
   ]
  },
  {
   "cell_type": "markdown",
   "metadata": {},
   "source": [
    "Чтобы продолжить диалог, мы можем либо передать модели на вход всю историю диалога, либо указать ID предыдущего ответа, начиная с которого нужно продолжить диалог (при этом в предыдущем диалоге нам нужно указать `store=True`, чтобы переписка сохранялась):"
   ]
  },
  {
   "cell_type": "code",
   "execution_count": 5,
   "metadata": {
    "execution": {
     "iopub.execute_input": "2025-04-02T10:13:02.390216Z",
     "iopub.status.busy": "2025-04-02T10:13:02.388985Z",
     "iopub.status.idle": "2025-04-02T10:13:06.746953Z",
     "shell.execute_reply": "2025-04-02T10:13:06.746150Z",
     "shell.execute_reply.started": "2025-04-02T10:13:02.390177Z"
    },
    "tags": []
   },
   "outputs": [
    {
     "name": "stdout",
     "output_type": "stream",
     "text": [
      "ID предыдущего ответа: resp_0449c140ea159e2f0068c8388b7a5481908e59e292ebebc29c\n"
     ]
    },
    {
     "data": {
      "text/markdown": [
       "Отлично! Стейк любит насыщенные красные вина с хорошей структурой и танинами. Ниже — варианты на разные бюджеты. Если скажете свой максимум, могу сузить до 3 конкретных бутылок под ваш бюджет и регион.\n",
       "\n",
       "Бюджетный (до примерно 15–20 ч. с.)\n",
       "- Malbec из Мендосы (Аргентина) – яркий, фруктовый, средняя+/гордая танинная поддержка. Хорошо держит жир стейка.\n",
       "- Rioja Crianza (Испания) – стильный красный с барриковым оттенком, черные ягоды и лёгкая древесная нота, баланс между фруктом и tanniny.\n",
       "- Nero d’Avola из Сицилии – плотный, сливовый, хорошо сочетается с жареным на гриле.\n",
       "\n",
       "Средний диапазон (примерно 20–40 ч. с.)\n",
       "- Cabernet Sauvignon из Чили или мартинской долины Новой Зеландии – мощный или структурированный, с дубом и тёмной ягодой.\n",
       "- Ribera del Duero (Tempranillo) – глубина, калиброванный танин, ноты черной вишни, кофе и табак.\n",
       "- Syrah/Shiraz из Бароссы или северной Роны (например, Côte-Rôtie стиль) – пряные, черные ягоды, хорошая текстура для жирного стейка.\n",
       "\n",
       "Премиум (45+ ч. с.)\n",
       "- Cabernet Sauvignon/Napa Valley или Bordeaux-смеш (например, Haute Médoc) – мощь, зрелые танинные структуры, долгий послевкусие.\n",
       "- Ribera del Duero Reserva или Gran Reserva на более высокой выдержке – устойчивый баланс дуба, фруктов и земли.\n",
       "- Шираз из Бароссы (если хочется конкретно австралийский характер) или более выдержанный Côte-Rôtie - для богатых блюд и особого шарма.\n",
       "\n",
       "Пару советов по подаче:\n",
       "- Температура: красное около 16–18°C (не слишком холодное, чтобы не «свестись» танин).\n",
       "- Огонь/жир стейка любит вина с выраженным танином и достаточным телом, чтобы не потеряться на фоне мяса.\n",
       "- Если мясо с жаром на решетке и немного копченостью — подойдут вина с чуть дымной нотой (например, умеренно выдержанные Rioja, Barossa Shiraz).\n",
       "\n",
       "Сообщите, пожалуйста, бюджет и регион/региональные предпочтения (если есть). Тогда дам 3 конкретных бутылки под ваш стол и блюдо."
      ],
      "text/plain": [
       "<IPython.core.display.Markdown object>"
      ]
     },
     "metadata": {},
     "output_type": "display_data"
    }
   ],
   "source": [
    "print(f\"ID предыдущего ответа: {res.id}\")\n",
    "\n",
    "res = client.responses.create(\n",
    "    model = model,\n",
    "    reasoning = { \"effort\" : \"low\" },\n",
    "    store = True,\n",
    "    previous_response_id = res.id,\n",
    "    input = \"Я буду есть стейк!\"\n",
    ")\n",
    "\n",
    "printx(res.output_text)"
   ]
  },
  {
   "cell_type": "markdown",
   "metadata": {},
   "source": [
    "## Function Calling\n",
    "\n",
    "Предположим, мы делаем ассистента для магазина вин, который торгует винами по некоторому прайс-листу. Возьмём пример такого прайс-листа:"
   ]
  },
  {
   "cell_type": "code",
   "execution_count": 65,
   "metadata": {
    "execution": {
     "iopub.execute_input": "2025-04-02T10:21:08.561072Z",
     "iopub.status.busy": "2025-04-02T10:21:08.560039Z",
     "iopub.status.idle": "2025-04-02T10:21:08.767803Z",
     "shell.execute_reply": "2025-04-02T10:21:08.766921Z",
     "shell.execute_reply.started": "2025-04-02T10:21:08.561030Z"
    },
    "tags": []
   },
   "outputs": [
    {
     "data": {
      "text/html": [
       "<div>\n",
       "<style scoped>\n",
       "    .dataframe tbody tr th:only-of-type {\n",
       "        vertical-align: middle;\n",
       "    }\n",
       "\n",
       "    .dataframe tbody tr th {\n",
       "        vertical-align: top;\n",
       "    }\n",
       "\n",
       "    .dataframe thead th {\n",
       "        text-align: right;\n",
       "    }\n",
       "</style>\n",
       "<table border=\"1\" class=\"dataframe\">\n",
       "  <thead>\n",
       "    <tr style=\"text-align: right;\">\n",
       "      <th></th>\n",
       "      <th>Id</th>\n",
       "      <th>Name</th>\n",
       "      <th>Country</th>\n",
       "      <th>Price</th>\n",
       "      <th>WHPrice</th>\n",
       "      <th>etc</th>\n",
       "      <th>Acidity</th>\n",
       "      <th>Color</th>\n",
       "      <th>Volume</th>\n",
       "    </tr>\n",
       "  </thead>\n",
       "  <tbody>\n",
       "    <tr>\n",
       "      <th>0</th>\n",
       "      <td>56885</td>\n",
       "      <td>САССИКАЙЯ КР СХ</td>\n",
       "      <td>IT</td>\n",
       "      <td>27799.000</td>\n",
       "      <td>19459.3000</td>\n",
       "      <td>NaN</td>\n",
       "      <td>Сухое</td>\n",
       "      <td>Красное</td>\n",
       "      <td>0.750</td>\n",
       "    </tr>\n",
       "    <tr>\n",
       "      <th>1</th>\n",
       "      <td>666560</td>\n",
       "      <td>СИЕПИ МАЗЕЙ КР СХ</td>\n",
       "      <td>IT</td>\n",
       "      <td>15999.000</td>\n",
       "      <td>11199.3000</td>\n",
       "      <td>NaN</td>\n",
       "      <td>Сухое</td>\n",
       "      <td>Красное</td>\n",
       "      <td>0.750</td>\n",
       "    </tr>\n",
       "    <tr>\n",
       "      <th>2</th>\n",
       "      <td>533769</td>\n",
       "      <td>ПАЛАФРЕНО КР СХ</td>\n",
       "      <td>IT</td>\n",
       "      <td>14999.004</td>\n",
       "      <td>10499.3028</td>\n",
       "      <td>NaN</td>\n",
       "      <td>Сухое</td>\n",
       "      <td>Красное</td>\n",
       "      <td>0.750</td>\n",
       "    </tr>\n",
       "    <tr>\n",
       "      <th>3</th>\n",
       "      <td>93733</td>\n",
       "      <td>АНТ ТИНЬЯНЕЛЛО КР СХ</td>\n",
       "      <td>IT</td>\n",
       "      <td>14499.012</td>\n",
       "      <td>10149.3084</td>\n",
       "      <td>NaN</td>\n",
       "      <td>Сухое</td>\n",
       "      <td>Красное</td>\n",
       "      <td>0.750</td>\n",
       "    </tr>\n",
       "    <tr>\n",
       "      <th>4</th>\n",
       "      <td>644863</td>\n",
       "      <td>ШАТО МОНРОЗ КР СХ</td>\n",
       "      <td>FR</td>\n",
       "      <td>12999.000</td>\n",
       "      <td>9099.3000</td>\n",
       "      <td>от промо цены</td>\n",
       "      <td>Сухое</td>\n",
       "      <td>Красное</td>\n",
       "      <td>0.750</td>\n",
       "    </tr>\n",
       "    <tr>\n",
       "      <th>...</th>\n",
       "      <td>...</td>\n",
       "      <td>...</td>\n",
       "      <td>...</td>\n",
       "      <td>...</td>\n",
       "      <td>...</td>\n",
       "      <td>...</td>\n",
       "      <td>...</td>\n",
       "      <td>...</td>\n",
       "      <td>...</td>\n",
       "    </tr>\n",
       "    <tr>\n",
       "      <th>747</th>\n",
       "      <td>61418</td>\n",
       "      <td>КАГОР ТАМ КР СЛ</td>\n",
       "      <td>RU</td>\n",
       "      <td>179.004</td>\n",
       "      <td>125.3028</td>\n",
       "      <td>от промо цены</td>\n",
       "      <td>Сладкое</td>\n",
       "      <td>Красное</td>\n",
       "      <td>0.700</td>\n",
       "    </tr>\n",
       "    <tr>\n",
       "      <th>748</th>\n",
       "      <td>615581</td>\n",
       "      <td>ДЖАСТ МЕРЛО КР СХ</td>\n",
       "      <td>FR</td>\n",
       "      <td>149.004</td>\n",
       "      <td>104.3028</td>\n",
       "      <td>NaN</td>\n",
       "      <td>Сухое</td>\n",
       "      <td>Красное</td>\n",
       "      <td>0.187</td>\n",
       "    </tr>\n",
       "    <tr>\n",
       "      <th>749</th>\n",
       "      <td>615582</td>\n",
       "      <td>ДЖАСТ КБСВ КР СХ</td>\n",
       "      <td>FR</td>\n",
       "      <td>149.004</td>\n",
       "      <td>104.3028</td>\n",
       "      <td>NaN</td>\n",
       "      <td>Сухое</td>\n",
       "      <td>Красное</td>\n",
       "      <td>0.187</td>\n",
       "    </tr>\n",
       "    <tr>\n",
       "      <th>750</th>\n",
       "      <td>83302</td>\n",
       "      <td>АДАГУМ КБСВ КР СХ</td>\n",
       "      <td>RU</td>\n",
       "      <td>119.004</td>\n",
       "      <td>83.3028</td>\n",
       "      <td>NaN</td>\n",
       "      <td>Сухое</td>\n",
       "      <td>Красное</td>\n",
       "      <td>0.187</td>\n",
       "    </tr>\n",
       "    <tr>\n",
       "      <th>751</th>\n",
       "      <td>482447</td>\n",
       "      <td>АВТОРСКОЕ №1 КР СХ</td>\n",
       "      <td>RU</td>\n",
       "      <td>119.000</td>\n",
       "      <td>83.3000</td>\n",
       "      <td>NaN</td>\n",
       "      <td>Сухое</td>\n",
       "      <td>Красное</td>\n",
       "      <td>0.187</td>\n",
       "    </tr>\n",
       "  </tbody>\n",
       "</table>\n",
       "<p>752 rows × 9 columns</p>\n",
       "</div>"
      ],
      "text/plain": [
       "         Id                   Name Country      Price     WHPrice  \\\n",
       "0     56885        САССИКАЙЯ КР СХ      IT  27799.000  19459.3000   \n",
       "1    666560      СИЕПИ МАЗЕЙ КР СХ      IT  15999.000  11199.3000   \n",
       "2    533769        ПАЛАФРЕНО КР СХ      IT  14999.004  10499.3028   \n",
       "3     93733   АНТ ТИНЬЯНЕЛЛО КР СХ      IT  14499.012  10149.3084   \n",
       "4    644863      ШАТО МОНРОЗ КР СХ      FR  12999.000   9099.3000   \n",
       "..      ...                    ...     ...        ...         ...   \n",
       "747   61418        КАГОР ТАМ КР СЛ      RU    179.004    125.3028   \n",
       "748  615581      ДЖАСТ МЕРЛО КР СХ      FR    149.004    104.3028   \n",
       "749  615582       ДЖАСТ КБСВ КР СХ      FR    149.004    104.3028   \n",
       "750   83302      АДАГУМ КБСВ КР СХ      RU    119.004     83.3028   \n",
       "751  482447     АВТОРСКОЕ №1 КР СХ      RU    119.000     83.3000   \n",
       "\n",
       "                etc  Acidity    Color  Volume  \n",
       "0               NaN    Сухое  Красное   0.750  \n",
       "1               NaN    Сухое  Красное   0.750  \n",
       "2               NaN    Сухое  Красное   0.750  \n",
       "3               NaN    Сухое  Красное   0.750  \n",
       "4    от промо цены     Сухое  Красное   0.750  \n",
       "..              ...      ...      ...     ...  \n",
       "747  от промо цены   Сладкое  Красное   0.700  \n",
       "748             NaN    Сухое  Красное   0.187  \n",
       "749             NaN    Сухое  Красное   0.187  \n",
       "750             NaN    Сухое  Красное   0.187  \n",
       "751             NaN    Сухое  Красное   0.187  \n",
       "\n",
       "[752 rows x 9 columns]"
      ]
     },
     "execution_count": 65,
     "metadata": {},
     "output_type": "execute_result"
    }
   ],
   "source": [
    "import pandas as pd\n",
    "\n",
    "pl = pd.read_excel(\"data/wine-price-ru.xlsx\")\n",
    "pl"
   ]
  },
  {
   "cell_type": "markdown",
   "metadata": {},
   "source": [
    "Предположим, мы хотим научиться отвечать на вопросы по прайс-листу, например, какое есть самое дешевое красное вино из Италии. Это можно сделать несколькими способами:\n",
    "\n",
    "* Попытаться закинуть прайс-лист в контекст модели. Этот подход будет работать только для очень небольших таблиц. Конечно, можно попробовать использовать RAG (подробнее про это ниже), но без видения всей таблицы модель не сможет найти самое дешевое вино.\n",
    "* Попытаться организовать трансляцию запроса не естественном языке в SQL-подобный язык. Это идеальный вариант, но его сложно сделать без ошибок без fine-tuning-а модели. \n",
    "* Извлечь из текстового запроса основные параметры того, что хочет пользователь, и затем сформировать на этой основе запрос, извлечающий данные из таблицы. Такой подход описан, например, в статье [Querying Databases with Function Calling](https://arxiv.org/html/2502.00032v1)\n",
    "\n",
    "В любом случае, два последних варианта подразумевают использование технологии Function Calling - когда модель может сама решить, когда ей надо вызвать некоторую **внешнюю функцию**, и какие параметры нужно ей передать.\n",
    "\n",
    "Чтобы function calling работал - нам надо сообщить LLM о доступных **инструментах**. Это можно сделать, передав с помощью JSON-схемы описание возможностей таких инструментов и их параметров.\n",
    "\n",
    "Часто, чтобы не писать JSON-схему для function calling вручную, используют типизированные объекты Pyton pydantic. Для извлечения параметров запроса о вине, мы создадим такой объект: "
   ]
  },
  {
   "cell_type": "code",
   "execution_count": 11,
   "metadata": {
    "execution": {
     "iopub.execute_input": "2025-04-02T10:21:31.863550Z",
     "iopub.status.busy": "2025-04-02T10:21:31.862594Z",
     "iopub.status.idle": "2025-04-02T10:21:31.992312Z",
     "shell.execute_reply": "2025-04-02T10:21:31.991296Z",
     "shell.execute_reply.started": "2025-04-02T10:21:31.863511Z"
    },
    "tags": []
   },
   "outputs": [],
   "source": [
    "from pydantic import BaseModel, Field\n",
    "from typing import Optional\n",
    "\n",
    "class SearchWinePriceList(BaseModel):\n",
    "    \"\"\"Эта функция позволяет искать вина в прайс-листе по одному или нескольким параметрам.\"\"\"\n",
    "\n",
    "    name: str = Field(description=\"Название вина\", default=None)\n",
    "    country: str = Field(description=\"Страна на русском языке\", default=None)\n",
    "    acidity: str = Field(\n",
    "        description=\"Кислотность (сухое, полусухое, сладкое, полусладкое)\", default=None\n",
    "    )\n",
    "    color: str = Field(description=\"Цвет вина (красное, белое, розовое)\", default=None)\n",
    "    sort_order: str = Field(\n",
    "        description=\"Порядок выдачи (most expensive, cheapest, random, average)\",\n",
    "        default=None,\n",
    "    )\n",
    "    what_to_return: str = Field(\n",
    "        description=\"Что вернуть (wine info или price)\", default=None\n",
    "    )"
   ]
  },
  {
   "cell_type": "markdown",
   "metadata": {},
   "source": [
    "Теперь создадим инструмент (tool) и передадим его в запрос модели. Также в инструкции ассистенту пропишем, что он может использовать Function Calling."
   ]
  },
  {
   "cell_type": "code",
   "execution_count": null,
   "metadata": {
    "execution": {
     "iopub.execute_input": "2025-04-02T10:21:41.573911Z",
     "iopub.status.busy": "2025-04-02T10:21:41.572992Z",
     "iopub.status.idle": "2025-04-02T10:21:42.323319Z",
     "shell.execute_reply": "2025-04-02T10:21:42.322477Z",
     "shell.execute_reply.started": "2025-04-02T10:21:41.573869Z"
    },
    "tags": []
   },
   "outputs": [
    {
     "data": {
      "text/plain": [
       "{'id': 'resp_0f13e9981302e8050068c838e3c57c819680b514fc25346166',\n",
       " 'created_at': 1757952227.0,\n",
       " 'error': None,\n",
       " 'incomplete_details': None,\n",
       " 'instructions': '\\nТы - опытный сомелье, в задачу которого входит отвечать на вопросы пользователя про вина\\nи рекомендовать лучшие вина к еде, а также искать вина в прайс-листе нашего магазина. \\nПосмотри на всю имеющуюся в твоем распоряжении информацию\\nи выдай одну или несколько лучших рекомендаций. Если вопрос касается конкретных вин\\nили цены, то используй Function Calling.\\nЕсли что-то непонятно, то лучше уточни информацию у пользователя.\\n',\n",
       " 'metadata': {},\n",
       " 'model': 'gpt-5-nano-2025-08-07',\n",
       " 'object': 'response',\n",
       " 'output': [{'id': 'rs_0f13e9981302e8050068c838e5636081968e73779bcb553559',\n",
       "   'summary': [],\n",
       "   'type': 'reasoning'},\n",
       "  {'arguments': '{\"name\":\"\",\"country\":\"Австралия\",\"acidity\":\"\",\"color\":\"\",\"sort_order\":\"cheapest\",\"what_to_return\":\"wine info\"}',\n",
       "   'call_id': 'call_3gXnwYPyFhHSDKEhG4MRw75G',\n",
       "   'name': 'Exercise',\n",
       "   'type': 'function_call',\n",
       "   'id': 'fc_0f13e9981302e8050068c838eaaf9881969fc9f2430d931cfe',\n",
       "   'status': 'completed'}],\n",
       " 'parallel_tool_calls': True,\n",
       " 'temperature': 1.0,\n",
       " 'tool_choice': 'auto',\n",
       " 'tools': [{'name': 'Exercise',\n",
       "   'parameters': {'description': 'Эта функция позволяет искать вина в прайс-листе по одному или нескольким параметрам.',\n",
       "    'properties': {'name': {'description': 'Название вина',\n",
       "      'title': 'Name',\n",
       "      'type': 'string'},\n",
       "     'country': {'description': 'Страна на русском языке',\n",
       "      'title': 'Country',\n",
       "      'type': 'string'},\n",
       "     'acidity': {'description': 'Кислотность (сухое, полусухое, сладкое, полусладкое)',\n",
       "      'title': 'Acidity',\n",
       "      'type': 'string'},\n",
       "     'color': {'description': 'Цвет вина (красное, белое, розовое)',\n",
       "      'title': 'Color',\n",
       "      'type': 'string'},\n",
       "     'sort_order': {'description': 'Порядок выдачи (most expensive, cheapest, random, average)',\n",
       "      'title': 'Sort Order',\n",
       "      'type': 'string'},\n",
       "     'what_to_return': {'description': 'Что вернуть (wine info или price)',\n",
       "      'title': 'What To Return',\n",
       "      'type': 'string'}},\n",
       "    'title': 'SearchWinePriceList',\n",
       "    'type': 'object',\n",
       "    'additionalProperties': False,\n",
       "    'required': ['name',\n",
       "     'country',\n",
       "     'acidity',\n",
       "     'color',\n",
       "     'sort_order',\n",
       "     'what_to_return']},\n",
       "   'strict': True,\n",
       "   'type': 'function',\n",
       "   'description': 'Вызывай, когда пользователь хочет получить информацию о конкретных винах или их стоимости.'}],\n",
       " 'top_p': 1.0,\n",
       " 'background': False,\n",
       " 'max_output_tokens': None,\n",
       " 'max_tool_calls': None,\n",
       " 'previous_response_id': None,\n",
       " 'prompt_cache_key': None,\n",
       " 'reasoning': {'effort': 'medium', 'summary': None},\n",
       " 'safety_identifier': None,\n",
       " 'service_tier': 'default',\n",
       " 'status': 'completed',\n",
       " 'text': {'format': {'type': 'text'}, 'verbosity': 'medium'},\n",
       " 'top_logprobs': 0,\n",
       " 'truncation': 'disabled',\n",
       " 'usage': {'input_tokens': 308,\n",
       "  'input_tokens_details': {'cached_tokens': 0},\n",
       "  'output_tokens': 746,\n",
       "  'output_tokens_details': {'reasoning_tokens': 704},\n",
       "  'total_tokens': 1054},\n",
       " 'user': None,\n",
       " 'store': True}"
      ]
     },
     "execution_count": 12,
     "metadata": {},
     "output_type": "execute_result"
    }
   ],
   "source": [
    "tools = [\n",
    "    {\n",
    "        \"type\": \"function\",\n",
    "        \"name\": \"Exercise\",\n",
    "        \"description\": \"Вызывай, когда пользователь хочет получить информацию о конкретных винах или их стоимости.\",\n",
    "        \"parameters\": SearchWinePriceList.model_json_schema(),\n",
    "    }\n",
    "]\n",
    "\n",
    "instruction = \"\"\"\n",
    "Ты - опытный сомелье, в задачу которого входит отвечать на вопросы пользователя про вина\n",
    "и рекомендовать лучшие вина к еде, а также искать вина в прайс-листе нашего магазина. \n",
    "Посмотри на всю имеющуюся в твоем распоряжении информацию\n",
    "и выдай одну или несколько лучших рекомендаций. Если вопрос касается конкретных вин\n",
    "или цены, то используй Function Calling.\n",
    "Если что-то непонятно, то лучше уточни информацию у пользователя.\n",
    "\"\"\"\n",
    "\n",
    "res = client.responses.create(\n",
    "    model = model,\n",
    "    store = True,\n",
    "    tools = tools,\n",
    "    instructions = instruction,\n",
    "    input = \"Какое самое дешевое вино из Австралии?\"\n",
    ")\n",
    "res.to_dict()"
   ]
  },
  {
   "cell_type": "markdown",
   "metadata": {},
   "source": [
    "Видим, что в итоге вернулся ответ, указывающий, что надо сделать Funtion Call для получения данных из таблицы. При это LLM извлекла из текста все параметры запроса.\n",
    "\n",
    "Реализуем функцию, которая возвращает список вин по параметрам, заданным в виде объекта `SearchWinePriceList`:"
   ]
  },
  {
   "cell_type": "code",
   "execution_count": 14,
   "metadata": {
    "execution": {
     "iopub.execute_input": "2025-04-02T10:21:55.656394Z",
     "iopub.status.busy": "2025-04-02T10:21:55.655068Z",
     "iopub.status.idle": "2025-04-02T10:21:55.674107Z",
     "shell.execute_reply": "2025-04-02T10:21:55.673235Z",
     "shell.execute_reply.started": "2025-04-02T10:21:55.656343Z"
    },
    "tags": []
   },
   "outputs": [
    {
     "name": "stdout",
     "output_type": "stream",
     "text": [
      "Вот какие вина были найдены:\n",
      "0,75ВИНО ДЖИНДАЛИ КБСВ КР ПСХ (Австралия) - 499.0\n",
      "0,75ВИНО ДЖИНДАЛИ МЕРЛО КР ПСХ (Австралия) - 499.0\n",
      "0,75ВИНО ЧОЛК ХИЛЛ ШИРАЗ КР СХ (Австралия) - 509.0\n",
      "0,75ВИНО ПИТ'С ПЮР ПННР КР ПСХ (Австралия) - 579.0\n",
      "0,75ВИНО ПИТ'С ПЮР ШИРАЗ КР ПСХ (Австралия) - 579.0\n",
      "0,75ВИНО СТАМП ДЖАМП КР СХ (Австралия) - 789.0\n",
      "0,75ВИНО ЛИНД БИН50 ШИР КР ПСХ (Австралия) - 899.0\n",
      "0,75ВИНО ЛЭКИ ШИРАЗ КРСХ (Австралия) - 978.996\n",
      "0,75ВИНО СТЭДФАСТ ШИР КАБ КРСХ (Австралия) - 999.0\n",
      "0,75ВИНО ТИРРЕЛЗ ШИР КР СХ (Австралия) - 1098.996\n"
     ]
    }
   ],
   "source": [
    "country_map = {\n",
    "    \"IT\": \"Италия\",\n",
    "    \"FR\": \"Франция\",\n",
    "    \"ES\": \"Испания\",\n",
    "    \"RU\": \"Россия\",\n",
    "    \"PT\": \"Португалия\",\n",
    "    \"AR\": \"Армения\",\n",
    "    \"CL\": \"Чили\",\n",
    "    \"AU\": \"Австрия\",\n",
    "    \"GE\": \"Грузия\",\n",
    "    \"ZA\": \"ЮАР\",\n",
    "    \"US\": \"США\",\n",
    "    \"NZ\": \"Новая Зеландия\",\n",
    "    \"DE\": \"Германия\",\n",
    "    \"AT\": \"Австрия\",\n",
    "    \"IL\": \"Израиль\",\n",
    "    \"BG\": \"Болгария\",\n",
    "    \"GR\": \"Греция\",\n",
    "    \"AU\": \"Австралия\",\n",
    "}\n",
    "\n",
    "revmap = {v.lower(): k for k, v in country_map.items()}\n",
    "\n",
    "\n",
    "def find_wines(req):\n",
    "    x = pl.copy()\n",
    "    if req.country and req.country.lower() in revmap.keys():\n",
    "        x = x[x[\"Country\"] == revmap[req.country.lower()]]\n",
    "    if req.acidity:\n",
    "        x = x[x[\"Acidity\"] == req.acidity.capitalize()]\n",
    "    if req.color:\n",
    "        x = x[x[\"Color\"] == req.color.capitalize()]\n",
    "    if req.name:\n",
    "        x = x[x[\"Name\"].apply(lambda x: req.name.lower() in x.lower())]\n",
    "    if req.sort_order and len(x)>0:\n",
    "        if req.sort_order == \"cheapest\":\n",
    "            x = x.sort_values(by=\"Price\")\n",
    "        elif req.sort_order == \"most expensive\":\n",
    "            x = x.sort_values(by=\"Price\", ascending=False)\n",
    "        else:\n",
    "            pass\n",
    "    if x is None or len(x) == 0:\n",
    "        return \"Подходящих вин не найдено\"\n",
    "    return \"Вот какие вина были найдены:\\n\" + \"\\n\".join(\n",
    "        [\n",
    "            f\"{z['Name']} ({country_map.get(z['Country'],'Неизвестно')}) - {z['Price']}\"\n",
    "            for _, z in x.head(10).iterrows()\n",
    "        ]\n",
    "    )\n",
    "\n",
    "\n",
    "print(find_wines(SearchWinePriceList(country=\"Австралия\", sort_order=\"cheapest\")))"
   ]
  },
  {
   "cell_type": "markdown",
   "metadata": {},
   "source": [
    "В ответ на Function Call нам нужно сформировать ответ от функции, и передать её обратно для обработки языковой моделью. В нашем случае функция может быть только одна, поэтому мы не проверяем название функции, а всегда запрашиваем поиск в таблице:"
   ]
  },
  {
   "cell_type": "code",
   "execution_count": 15,
   "metadata": {
    "execution": {
     "iopub.execute_input": "2025-04-02T10:21:57.512142Z",
     "iopub.status.busy": "2025-04-02T10:21:57.510681Z",
     "iopub.status.idle": "2025-04-02T10:22:01.472670Z",
     "shell.execute_reply": "2025-04-02T10:22:01.471696Z",
     "shell.execute_reply.started": "2025-04-02T10:21:57.512092Z"
    },
    "tags": []
   },
   "outputs": [
    {
     "name": "stdout",
     "output_type": "stream",
     "text": [
      " + Обрабатываем: Exercise (call_id=call_3gXnwYPyFhHSDKEhG4MRw75G, args={\"name\":\"\",\"country\":\"Австралия\",\"acidity\":\"\",\"color\":\"\",\"sort_order\":\"cheapest\",\"what_to_return\":\"wine info\"})\n",
      "  • Результат: Вот какие вина были найдены:\n",
      "0,75ВИНО ДЖИНДАЛИ КБСВ КР ПСХ (Австралия) - 499.0\n",
      "0,75ВИНО ДЖИНДАЛИ МЕРЛО КР ПСХ (Австралия) - 499.0\n",
      "0,75ВИНО ЧОЛК ХИЛЛ ШИРАЗ КР СХ (Австралия) - 509.0\n",
      "0,75ВИНО ПИТ'С ПЮР ПННР КР ПСХ (Австралия) - 579.0\n",
      "0,75ВИНО ПИТ'С ПЮР ШИРАЗ КР ПСХ (Австралия) - 579.0\n",
      "0,75ВИНО СТАМП ДЖАМП КР СХ (Австралия) - 789.0\n",
      "0,75ВИНО ЛИНД БИН50 ШИР КР ПСХ (Австралия) - 899.0\n",
      "0,75ВИНО ЛЭКИ ШИРАЗ КРСХ (Австралия) - 978.996\n",
      "0,75ВИНО СТЭДФАСТ ШИР КАБ КРСХ (Австралия) - 999.0\n",
      "0,75ВИНО ТИРРЕЛЗ ШИР КР СХ (Австралия) - 1098.996\n"
     ]
    },
    {
     "data": {
      "text/markdown": [
       "Самые дешёвые вина из Австралии стоят 499 руб. и есть две вариации:\n",
       "\n",
       "- ВИНО ДЖИНДАЛИ КБСВ КР ПСХ — 499 руб.\n",
       "- ВИНО ДЖИНДАЛИ МЕРЛО КР ПСХ — 499 руб.\n",
       "\n",
       "Хочете узнать подробности по этим винам или посмотреть другие варианты?"
      ],
      "text/plain": [
       "<IPython.core.display.Markdown object>"
      ]
     },
     "metadata": {},
     "output_type": "display_data"
    }
   ],
   "source": [
    "import json \n",
    "\n",
    "tool_calls = [item for item in res.output if item.type == \"function_call\"]\n",
    "\n",
    "if tool_calls:\n",
    "    out = []\n",
    "    for call in tool_calls:\n",
    "        print(f\" + Обрабатываем: {call.name} (call_id={call.call_id}, args={call.arguments})\")\n",
    "        try:\n",
    "            args = json.loads(call.arguments)\n",
    "            args = SearchWinePriceList.model_validate(args)\n",
    "            result = find_wines(args)\n",
    "        except Exception as e:\n",
    "            result = f\"Ошибка: {e}\"\n",
    "        print(f\" + Результат: {result}\")\n",
    "        out.append({\n",
    "            \"type\": \"function_call_output\",\n",
    "            \"call_id\": call.call_id,\n",
    "            \"output\": result\n",
    "        })\n",
    "        res = client.responses.create(\n",
    "            model=model,\n",
    "            input=out,\n",
    "            tools=tools,\n",
    "            previous_response_id=res.id,\n",
    "            store=True\n",
    "        )\n",
    "\n",
    "printx(res.output_text)"
   ]
  },
  {
   "cell_type": "markdown",
   "metadata": {},
   "source": [
    "Таким образом, для вызова функции необходимо:\n",
    "* Сообщить модели о доступных функциях\n",
    "* При вызове модели обработать функциональный вызов, если в результате вызова модель вернула соответствующий ответ\n",
    "\n",
    "## Релизуем агента с Function Calling\n",
    "\n",
    "Для реализации полноценного ассистента добавим ещё функцию добавления вина в корзину, распечатку корзины и передачи общения оператору.\n",
    "\n",
    "Немного структурируем наш код:\n",
    "* Добавим функцию для обработки вызова фукции прямо в класс с описанием данных\n",
    "* Создадим класс `Assistant`, который будет реализовывать функциональный вызов, а также автоматически поддерживать диалог, запоминая идентификаторы предыдущих ответов.\n",
    "\n",
    "> Чтобы ассистент мог поддерживать диалог сразу с несколькими пользователями, нам нужно также ввести некоторый идентификатор сессии `session_id`, и для каждой сессии помнить свою историю переписки и `id` последнего сообщения. Идентификатор сессии мы также будет передавать во все функции `session_id`.\n"
   ]
  },
  {
   "cell_type": "code",
   "execution_count": 16,
   "metadata": {
    "execution": {
     "iopub.execute_input": "2025-04-02T10:23:03.788133Z",
     "iopub.status.busy": "2025-04-02T10:23:03.786611Z",
     "iopub.status.idle": "2025-04-02T10:23:03.808994Z",
     "shell.execute_reply": "2025-04-02T10:23:03.808073Z",
     "shell.execute_reply.started": "2025-04-02T10:23:03.788078Z"
    },
    "tags": []
   },
   "outputs": [],
   "source": [
    "class SearchWinePriceList(BaseModel):\n",
    "    \"\"\"Эта функция позволяет искать вина в прайс-листе по одному или нескольким параметрам.\"\"\"\n",
    "\n",
    "    name: str = Field(description=\"Название вина\", default=None)\n",
    "    country: str = Field(description=\"Страна на русском языке\", default=None)\n",
    "    acidity: str = Field(\n",
    "        description=\"Кислотность (сухое, полусухое, сладкое, полусладкое)\", default=None\n",
    "    )\n",
    "    color: str = Field(description=\"Цвет вина (красное, белое, розовое)\", default=None)\n",
    "    sort_order: str = Field(\n",
    "        description=\"Порядок выдачи (most expensive, cheapest, random, average)\",\n",
    "        default=None,\n",
    "    )\n",
    "    what_to_return: str = Field(\n",
    "        description=\"Что вернуть (wine info или price)\", default=None\n",
    "    )\n",
    "\n",
    "    def process(self, session_id):\n",
    "        return find_wines(self)"
   ]
  },
  {
   "cell_type": "markdown",
   "metadata": {},
   "source": [
    "Также в виде функции реализуем функциональность передачи управления оператору. В данном случае мы будем просто устанавливать некоторый глобальный флаг `handover` - это очень грубое решение и сделано для простоты, в реальной жизни надо будет подумать над более правильной логикой, поддерживающей нескольких пользователей."
   ]
  },
  {
   "cell_type": "code",
   "execution_count": 17,
   "metadata": {
    "execution": {
     "iopub.execute_input": "2025-04-02T10:23:05.464292Z",
     "iopub.status.busy": "2025-04-02T10:23:05.462736Z",
     "iopub.status.idle": "2025-04-02T10:23:05.485292Z",
     "shell.execute_reply": "2025-04-02T10:23:05.484304Z",
     "shell.execute_reply.started": "2025-04-02T10:23:05.464239Z"
    },
    "tags": []
   },
   "outputs": [],
   "source": [
    "handover = False\n",
    "\n",
    "class Handover(BaseModel):\n",
    "    \"\"\"Эта функция позволяет передать диалог человеку-оператору поддержки\"\"\"\n",
    "\n",
    "    reason: str = Field(\n",
    "        description=\"Причина для вызова оператора\", default=\"не указана\"\n",
    "    )\n",
    "\n",
    "    def process(self, session_id):\n",
    "        global handover\n",
    "        handover = True\n",
    "        return f\"Я побежала вызывать оператора, ваш {session_id=}, причина: {self.reason}\""
   ]
  },
  {
   "cell_type": "markdown",
   "metadata": {},
   "source": [
    "Также реализуем функцию добавления вин в корзину. Чтобы для каждого пользователя была своя корзина, будем привязывать её к идентификатору сессии:"
   ]
  },
  {
   "cell_type": "code",
   "execution_count": 18,
   "metadata": {
    "execution": {
     "iopub.execute_input": "2025-04-02T10:23:06.478477Z",
     "iopub.status.busy": "2025-04-02T10:23:06.476981Z",
     "iopub.status.idle": "2025-04-02T10:23:06.512085Z",
     "shell.execute_reply": "2025-04-02T10:23:06.511113Z",
     "shell.execute_reply.started": "2025-04-02T10:23:06.478426Z"
    },
    "tags": []
   },
   "outputs": [],
   "source": [
    "carts = {}\n",
    "\n",
    "class AddToCart(BaseModel):\n",
    "    \"\"\"Эта функция позволяет положить или добавить вино в корзину\"\"\"\n",
    "\n",
    "    wine_name: str = Field(\n",
    "        description=\"Точное название вина, чтобы положить в корзину\", default=None\n",
    "    )\n",
    "    count: int = Field(\n",
    "        description=\"Количество бутылок вина, которое нужно положить в корзину\",\n",
    "        default=1,\n",
    "    )\n",
    "\n",
    "    def process(self, session_id):\n",
    "        if session_id not in carts:\n",
    "            carts[session_id] = []\n",
    "        carts[session_id].append(self)\n",
    "        return f\"Вино {self.wine_name} добавлено в корзину, число бутылок: {self.count}\""
   ]
  },
  {
   "cell_type": "markdown",
   "metadata": {},
   "source": [
    "Наконец, оформим функцию для показа корзины:"
   ]
  },
  {
   "cell_type": "code",
   "execution_count": 19,
   "metadata": {
    "execution": {
     "iopub.execute_input": "2025-04-02T10:23:07.968160Z",
     "iopub.status.busy": "2025-04-02T10:23:07.966910Z",
     "iopub.status.idle": "2025-04-02T10:23:07.995890Z",
     "shell.execute_reply": "2025-04-02T10:23:07.994951Z",
     "shell.execute_reply.started": "2025-04-02T10:23:07.968102Z"
    },
    "tags": []
   },
   "outputs": [],
   "source": [
    "class ShowCart(BaseModel):\n",
    "    \"\"\"Эта функция позволяет показать содержимое корзины\"\"\"\n",
    "\n",
    "    def process(self, session_id):\n",
    "        if session_id not in carts or len(carts[session_id]) == 0:\n",
    "            return \"Корзина пуста\"\n",
    "        return \"В корзине находятся следующие вина:\\n\" + \"\\n\".join(\n",
    "            [f\"{x.wine_name}, число бутылок: {x.count}\" for x in carts[session_id]]\n",
    "        )"
   ]
  },
  {
   "cell_type": "markdown",
   "metadata": {},
   "source": [
    "Теперь реализуем главный класс `Agent`, который будет брать на себя обработку функций. В качестве `tools` будем передавать список описанных нами ранее классов."
   ]
  },
  {
   "cell_type": "code",
   "execution_count": null,
   "metadata": {
    "execution": {
     "iopub.execute_input": "2025-04-02T10:23:15.539662Z",
     "iopub.status.busy": "2025-04-02T10:23:15.538363Z",
     "iopub.status.idle": "2025-04-02T10:23:15.557113Z",
     "shell.execute_reply": "2025-04-02T10:23:15.556243Z",
     "shell.execute_reply.started": "2025-04-02T10:23:15.539610Z"
    },
    "tags": []
   },
   "outputs": [],
   "source": [
    "class Agent():\n",
    "    user_sessions = {}\n",
    "\n",
    "    def __init__(self, instruction, tools = [], session_id='default', model=model):\n",
    "        self.instruction = instruction\n",
    "        self.model = model\n",
    "        self.tool_map = { x.__name__ : x for x in tools if issubclass(x, BaseModel) }\n",
    "        self.tools = [\n",
    "            self._create_tool_annot(x) for x in tools\n",
    "        ]\n",
    "        if session_id not in self.user_sessions:\n",
    "            self.user_sessions[session_id] = {\n",
    "                \"last_reply_id\" : None,\n",
    "                \"history\" : [],\n",
    "            }\n",
    "\n",
    "    def _create_tool_annot(self, x):\n",
    "        if issubclass(x, BaseModel):\n",
    "            return {\n",
    "                \"type\": \"function\",\n",
    "                \"name\": x.__name__,\n",
    "                \"description\": x.__doc__,\n",
    "                \"parameters\": x.model_json_schema(),\n",
    "            }\n",
    "        else:\n",
    "            return x\n",
    "\n",
    "\n",
    "    def __call__(self, message, session_id='default'):\n",
    "        s = self.user_sessions[session_id]\n",
    "        s['history'].append({ 'role': 'user', 'content': message })\n",
    "        res = client.responses.create(\n",
    "            model = self.model,\n",
    "            store = True,\n",
    "            tools = self.tools,\n",
    "            instructions = self.instruction,\n",
    "            input = message\n",
    "        )\n",
    "        tool_calls = [item for item in res.output if item.type == \"function_call\"]\n",
    "        if tool_calls:\n",
    "            s['history'].append({ 'role' : 'func_call', 'content' : res.output_text })\n",
    "            out = []\n",
    "            for call in tool_calls:\n",
    "                print(f\" + Обрабатываем: {call.name} ({call.arguments})\")\n",
    "                try:\n",
    "                    fn = self.tool_map[call.name]\n",
    "                    obj = fn.model_validate(json.loads(call.arguments))\n",
    "                    result = obj.process(session_id)\n",
    "                except Exception as e:\n",
    "                    result = f\"Ошибка: {e}\"\n",
    "                print(f\" + Результат: {result}\")\n",
    "                out.append({\n",
    "                    \"type\": \"function_call_output\",\n",
    "                    \"call_id\": call.call_id,\n",
    "                    \"output\": result\n",
    "                })\n",
    "                res = client.responses.create(\n",
    "                    model=self.model,\n",
    "                    input=out,\n",
    "                    tools=self.tools,\n",
    "                    previous_response_id=res.id,\n",
    "                    store=True\n",
    "                )\n",
    "        self.user_sessions[session_id]['last_reply_id'] = res.id\n",
    "        s['history'].append({ 'role' : 'assistant', 'content' : res.output_text })\n",
    "        return res\n",
    "\n",
    "    def history(self, session_id='default'):\n",
    "        return self.user_sessions[session_id]['history']"
   ]
  },
  {
   "cell_type": "markdown",
   "metadata": {},
   "source": [
    "Создадим нашего агента - винного сомелье. В системном промпте пропишем ему возможные варианты для вызова функции, чтобы облегчить задачу."
   ]
  },
  {
   "cell_type": "code",
   "execution_count": 36,
   "metadata": {
    "execution": {
     "iopub.execute_input": "2025-04-02T10:43:53.658253Z",
     "iopub.status.busy": "2025-04-02T10:43:53.657081Z",
     "iopub.status.idle": "2025-04-02T10:43:54.134496Z",
     "shell.execute_reply": "2025-04-02T10:43:54.133497Z",
     "shell.execute_reply.started": "2025-04-02T10:43:53.658201Z"
    },
    "tags": []
   },
   "outputs": [],
   "source": [
    "instruction = \"\"\"\n",
    "Ты - опытный сомелье, в задачу которого входит отвечать на вопросы пользователя про вина\n",
    "и рекомендовать лучшие вина к еде, а также искать вина в прайс-листе нашего магазина. \n",
    "Если вопрос касается конкретных вин или цены, то вызови функцию SearchWinePriceList.\n",
    "Для передачи управления оператору - вызови фукцию Handover. Для добавления вина в корзину\n",
    "используй AddToCart. Для просмотра корзины: ShowCart. Все названия вин, цветов, кислотности\n",
    "пиши на русском языке.\n",
    "Если что-то непонятно, то лучше уточни информацию у пользователя.\n",
    "\"\"\"\n",
    "\n",
    "wine_agent = Agent(\n",
    "    instruction=instruction,\n",
    "    tools=[SearchWinePriceList, Handover, AddToCart, ShowCart],\n",
    ")"
   ]
  },
  {
   "cell_type": "code",
   "execution_count": 37,
   "metadata": {
    "execution": {
     "iopub.execute_input": "2025-04-02T10:43:55.651455Z",
     "iopub.status.busy": "2025-04-02T10:43:55.650181Z",
     "iopub.status.idle": "2025-04-02T10:44:02.496782Z",
     "shell.execute_reply": "2025-04-02T10:44:02.495870Z",
     "shell.execute_reply.started": "2025-04-02T10:43:55.651413Z"
    },
    "tags": []
   },
   "outputs": [
    {
     "data": {
      "text/markdown": [
       "Классический ответ: для стейка лучше красное вино. Выбор зависит от жирности мяса, способа приготовления и соуса.\n",
       "\n",
       "Рекомендации по стилям и вину (на русском названия):\n",
       "\n",
       "- Каберне Совиньон — самая традиционная пара к стейку. Плотное тело, яркие таннины и дубовые ноты хорошо справляются с жирностью говядины, особенно стейками на гриле и стейками с пряными соусами (например, соус черного перца).\n",
       "\n",
       "- Мальбек — аргентинский характер: ягода и сочность, умеренно насыщенные таннины. Отлично идёт к жирному стейку на гриле, с гарниром из запечённых овощей.\n",
       "\n",
       "- Сира (Шираз) — пряный и с оттенками черного перца и темной вишни; хорошо сочетается со стейками с барбекю, жареными специями и дымком.\n",
       "\n",
       "- Темпранильо — средне-плотное тело, ванилистые и древесные ноты; хорошо к стейкам с грибами или томатными соусами.\n",
       "\n",
       "- Пино Нуар — более легкое или среднее по телу; мягкие таннины подойдут к постному стейку (например, филе) или к стейку с грибным соусом.\n",
       "\n",
       "- Зинфандель — смелый выбор для стейков с барбекю: фруктовый характер и пряности хорошо дополняют жареную корочку и сладковато-острый соус.\n",
       "\n",
       "- Неббиоло/Бароло — для очень насыщенных, жирных кусков и густых соусов; требуют более терпеливого выбора, но контрастируют с жирностью и дают отличную гармонию.\n",
       "\n",
       "Полезный совет:\n",
       "- от прожарки стейка зависит тонкость вина. редкая прожарка — подойдут более мягкие и фруктовые варианты (Пино Нуар, Мальбек); средняя/жирная прожарка — можно выбирать более структурные вина с хорошими танинами (Каберне Совиньон, Сира, Неббиоло).\n",
       "\n",
       "Хочешь, подскажу конкретные вина из нашего прайс-листа под твой бюджет и предпочитаемый стиль? Скажи, какой у тебя любимый стиль (или блюдо к стейку) и примерный диапазон цены, и я подберу варианты и могу найти их в прайс-листе."
      ],
      "text/plain": [
       "<IPython.core.display.Markdown object>"
      ]
     },
     "metadata": {},
     "output_type": "display_data"
    }
   ],
   "source": [
    "printx(wine_agent(\"Какое вино пьют со стейком?\").output_text)"
   ]
  },
  {
   "cell_type": "code",
   "execution_count": 39,
   "metadata": {
    "execution": {
     "iopub.execute_input": "2025-04-02T10:44:16.760593Z",
     "iopub.status.busy": "2025-04-02T10:44:16.759385Z",
     "iopub.status.idle": "2025-04-02T10:44:22.014549Z",
     "shell.execute_reply": "2025-04-02T10:44:22.013578Z",
     "shell.execute_reply.started": "2025-04-02T10:44:16.760534Z"
    },
    "tags": []
   },
   "outputs": [
    {
     "name": "stdout",
     "output_type": "stream",
     "text": [
      " + Обрабатываем: SearchWinePriceList ({\"name\":\"Кьянти\",\"country\":\"Италия\",\"acidity\":\"\",\"color\":\"красное\",\"sort_order\":\"average\",\"what_to_return\":\"price\"})\n",
      " + Результат: Вот какие вина были найдены:\n",
      "0,75ВИНО КВЕРЧАБ КЬЯНТИ КР СХ (Италия) - 2499.0\n",
      "0,75ВИНО ПОЛИЦ КЬЯНТИ КР СХ (Италия) - 1749.756\n",
      "0,75ВИНО КАСАЛ КЬЯНТИ СУП КРСХ (Италия) - 1349.004\n",
      "0,75Л ВИНО ВЕК КАНТ КЬЯНТИ КР СХ (Италия) - 1099.0\n",
      "1,5ВИНО ПРЕДЕЛЛА КЬЯНТИ КРСХ (Италия) - 999.0\n",
      "0,75ВИНО ЗОНИН КЬЯНТИ КР СХ (Италия) - 699.0\n",
      "0,75ВИНО ПРЕДЕЛЛА КЬЯНТИ КРСХ (Италия) - 369.0\n"
     ]
    },
    {
     "data": {
      "text/markdown": [
       "Вот доступные в продаже вина из серии Кьянти (Италия), в стиле красное сухое. Размер бутылки и цена указаны рядом:\n",
       "\n",
       "- ВИНО КВЕРЧАБ КЬЯНТИ КР СХ — 0,75 л — 2 499,00 ₽\n",
       "- ВИНО ПОЛИЦ КЬЯНТИ КР СХ — 0,75 л — 1 749,76 ₽\n",
       "- ВИНО КАСАЛ КЬЯНТИ СУП КРСХ — 0,75 л — 1 349,00 ₽\n",
       "- Л ВИНО ВЕК КАНТ КЬЯНТИ КР СХ — 0,75 л — 1 099,00 ₽\n",
       "- ПРЕДЕЛЛА КЬЯНТИ КРСХ — 1,50 л — 999,00 ₽\n",
       "- ЗОНИН КЬЯНТИ КР СХ — 0,75 л — 699,00 ₽\n",
       "- ПРЕДЕЛЛА КЬЯНТИ КРСХ — 0,75 л — 369,00 ₽\n",
       "\n",
       "Если хотите, могу:\n",
       "- добавить одно из этих вин в корзину\n",
       "- показать дополнительные детали (год, производитель, вкусовые ноты)\n",
       "- или сузить поиск к конкретному подтипу Кьянти (например, Chianti Classico, Chianti Riserva) и диапазону цен. Что предпочитаете?"
      ],
      "text/plain": [
       "<IPython.core.display.Markdown object>"
      ]
     },
     "metadata": {},
     "output_type": "display_data"
    }
   ],
   "source": [
    "printx(wine_agent(\"Какие вина Кьянти есть в продаже?\").output_text)"
   ]
  },
  {
   "cell_type": "code",
   "execution_count": 40,
   "metadata": {
    "execution": {
     "iopub.execute_input": "2025-04-02T10:44:25.042526Z",
     "iopub.status.busy": "2025-04-02T10:44:25.041456Z",
     "iopub.status.idle": "2025-04-02T10:44:27.177927Z",
     "shell.execute_reply": "2025-04-02T10:44:27.177029Z",
     "shell.execute_reply.started": "2025-04-02T10:44:25.042477Z"
    },
    "tags": []
   },
   "outputs": [
    {
     "name": "stdout",
     "output_type": "stream",
     "text": [
      " + Обрабатываем: AddToCart ({\"wine_name\":\"Полиц Кьянти\",\"count\":3})\n",
      " + Результат: Вино Полиц Кьянти добавлено в корзину, число бутылок: 3\n"
     ]
    },
    {
     "data": {
      "text/markdown": [
       "Готово. В корзину добавлено 3 бутылки Полиц Кьянти.\n",
       "\n",
       "Хотите посмотреть содержимое корзины или добавить что‑то ещё?"
      ],
      "text/plain": [
       "<IPython.core.display.Markdown object>"
      ]
     },
     "metadata": {},
     "output_type": "display_data"
    }
   ],
   "source": [
    "printx(wine_agent(\"Добавь в корзину Полиц Кьянти, три бутылки\").output_text)"
   ]
  },
  {
   "cell_type": "code",
   "execution_count": 41,
   "metadata": {
    "execution": {
     "iopub.execute_input": "2025-04-02T10:44:31.292544Z",
     "iopub.status.busy": "2025-04-02T10:44:31.290915Z",
     "iopub.status.idle": "2025-04-02T10:44:33.362197Z",
     "shell.execute_reply": "2025-04-02T10:44:33.361236Z",
     "shell.execute_reply.started": "2025-04-02T10:44:31.292485Z"
    },
    "tags": []
   },
   "outputs": [
    {
     "name": "stdout",
     "output_type": "stream",
     "text": [
      " + Обрабатываем: AddToCart ({\"wine_name\":\"Зонин Кьянти\",\"count\":1})\n",
      " + Результат: Вино Зонин Кьянти добавлено в корзину, число бутылок: 1\n"
     ]
    },
    {
     "data": {
      "text/markdown": [
       "Готово! В корзину добавлено: Зонин Кьянти (1 бутылка).\n",
       "\n",
       "Хотите добавить еще бутылку или посмотреть содержимое корзины? Могу показать корзину или предложить сочетания с блюдами."
      ],
      "text/plain": [
       "<IPython.core.display.Markdown object>"
      ]
     },
     "metadata": {},
     "output_type": "display_data"
    }
   ],
   "source": [
    "printx(wine_agent(\"Ещё положи в корзину Зонин Кьянти\").output_text)"
   ]
  },
  {
   "cell_type": "code",
   "execution_count": 42,
   "metadata": {
    "execution": {
     "iopub.execute_input": "2025-04-02T10:44:35.484123Z",
     "iopub.status.busy": "2025-04-02T10:44:35.482763Z",
     "iopub.status.idle": "2025-04-02T10:44:37.647020Z",
     "shell.execute_reply": "2025-04-02T10:44:37.646138Z",
     "shell.execute_reply.started": "2025-04-02T10:44:35.484076Z"
    },
    "tags": []
   },
   "outputs": [
    {
     "name": "stdout",
     "output_type": "stream",
     "text": [
      " + Обрабатываем: ShowCart ({})\n",
      " + Результат: В корзине находятся следующие вина:\n",
      "Полиц Кьянти, число бутылок: 3\n",
      "Зонин Кьянти, число бутылок: 1\n"
     ]
    },
    {
     "data": {
      "text/markdown": [
       "В корзине:\n",
       "- Полиц Кьянти — 3 бутылки\n",
       "- Зонин Кьянти — 1 бутылка\n",
       "\n",
       "Что хотите сделать дальше?\n",
       "- изменить количество\n",
       "- удалить товар\n",
       "- добавить ещё вина\n",
       "- перейти к оформлению заказа (окончательная стоимость и доставка)"
      ],
      "text/plain": [
       "<IPython.core.display.Markdown object>"
      ]
     },
     "metadata": {},
     "output_type": "display_data"
    }
   ],
   "source": [
    "printx(wine_agent(\"Что у меня в корзине?\").output_text)"
   ]
  },
  {
   "cell_type": "code",
   "execution_count": 43,
   "metadata": {
    "execution": {
     "iopub.execute_input": "2025-04-02T10:44:40.190380Z",
     "iopub.status.busy": "2025-04-02T10:44:40.189247Z",
     "iopub.status.idle": "2025-04-02T10:44:42.042319Z",
     "shell.execute_reply": "2025-04-02T10:44:42.041422Z",
     "shell.execute_reply.started": "2025-04-02T10:44:40.190338Z"
    },
    "tags": []
   },
   "outputs": [
    {
     "name": "stdout",
     "output_type": "stream",
     "text": [
      " + Обрабатываем: Handover ({\"reason\":\"пользователь хочет оформить доставку\"})\n",
      " + Результат: Я побежала вызывать оператора, ваш session_id='default', причина: пользователь хочет оформить доставку\n"
     ]
    },
    {
     "data": {
      "text/markdown": [
       "Оператор поддержки готов помочь с оформлением доставки.\n",
       "\n",
       "Чтобы оформить доставку, уточните, пожалуйста:\n",
       "- адрес доставки (улица, дом, квартира/офис; этаж и подъезд, если нужно)\n",
       "- удобное время доставки или временной диапазон\n",
       "- контактный телефон для курьера\n",
       "- какие-либо особые инструкции (пометить вход, оставить у двери, часы работы получателя и т.п.)\n",
       "\n",
       "Также можно проверить содержимое корзины и итоговую стоимость. Хотите показать корзину или оставить это на оператора?"
      ],
      "text/plain": [
       "<IPython.core.display.Markdown object>"
      ]
     },
     "metadata": {},
     "output_type": "display_data"
    }
   ],
   "source": [
    "printx(wine_agent(\"Вызови оператора, хочу оформить доставку!\").output_text)"
   ]
  },
  {
   "cell_type": "markdown",
   "metadata": {},
   "source": [
    "## Model Context Protocol\n",
    "\n",
    "Мы научились интегрировать в ассистента локальные функции, но иногда бывает так, что функции предоставляются какими-то внешними поставщиками информации. Предположим, мы хотим сделать универсального ассистента, который сможет анализировать цены в различных интернет-магазинах. Для этого нужно, чтобы интернет-магазины предоставляли доступ к своим прайс-листам в виде удалённых функций, доступных через протокол MCP: Model Context Protocol. \n",
    "\n",
    "Реализуем такой MCP-сервер для доступа к прайс-листу магазина. Для этого мы используем библиотеку [FastMCP](https://gofastmcp.com/). Пример реализации сервера доступен [здесь](mcp-server/mcp-wine-shop.py), запустить его можно командой\n",
    "```bash\n",
    "fastmcp run mcp-wine-shop.py -t sse -p 3000 --host 0.0.0.0\n",
    "```\n",
    "\n",
    "Вы также можете запустить сервер с помощью [FastMCP Cloud](https://fastmcp.cloud/) используя [этот GitHub-репозиторий](https://github.com/yandex-datasphere/advanced-assistant-mcp)"
   ]
  },
  {
   "cell_type": "code",
   "execution_count": 85,
   "metadata": {},
   "outputs": [],
   "source": [
    "mcp_tool = {\n",
    "            \"type\": \"mcp\",\n",
    "            \"server_label\": \"Wine-Shop\",\n",
    "            \"server_description\": \"Функция для запроса цен на вино в винном магазине\",\n",
    "            \"server_url\": \"https://wineparadise.fastmcp.app/mcp\",\n",
    "            \"require_approval\": \"never\",\n",
    "    }\n",
    "\n",
    "instruction = \"\"\"\n",
    "Ты - опытный сомелье, в задачу которого входит отвечать на вопросы пользователя про вина\n",
    "и рекомендовать лучшие вина к еде, а также искать вина в прайс-листе нашего магазина. \n",
    "Если вопрос касается конкретных вин или цены, то вызови функцию MCP-сервера.\n",
    "\"\"\"\n",
    "\n",
    "wine_agent = Agent(\n",
    "    instruction=instruction,\n",
    "    tools=[mcp_tool],\n",
    ")"
   ]
  },
  {
   "cell_type": "code",
   "execution_count": 80,
   "metadata": {},
   "outputs": [
    {
     "data": {
      "text/markdown": [
       "Самый дорогой Мерло в нашем магазине стоит около 2 449,66 ₽.\n",
       "\n",
       "Конкретно: ЛЕФКАДИЯ МЕРЛО КР СХ, Россия (Красное сухое).\n",
       "\n",
       "Хочете посмотреть другие дорогие Мерло или добавить этот в корзину?"
      ],
      "text/plain": [
       "<IPython.core.display.Markdown object>"
      ]
     },
     "metadata": {},
     "output_type": "display_data"
    }
   ],
   "source": [
    "printx(wine_agent(\"Сколько стоит самый дорогой Мерло?\").output_text)"
   ]
  },
  {
   "cell_type": "markdown",
   "metadata": {},
   "source": [
    "## Добавляем RAG\n",
    "\n",
    "Наш ассистент сам по себе неплохо отвечает на вопросы по винам, однако если мы хотим сделать его знания более предсказуемыми - необходимо дополнить их специализированной информацией из текстовой базы знаний. Для этого мы можем использовать RAG - подход.\n",
    "\n",
    "В качестве текстовой базы знаний в нашем примере возьмём тексты о винах из энциклопедии: про разные сорта винограда и про регионы произрастания:\n"
   ]
  },
  {
   "cell_type": "code",
   "execution_count": 81,
   "metadata": {},
   "outputs": [
    {
     "data": {
      "text/html": [
       "<div>\n",
       "<style scoped>\n",
       "    .dataframe tbody tr th:only-of-type {\n",
       "        vertical-align: middle;\n",
       "    }\n",
       "\n",
       "    .dataframe tbody tr th {\n",
       "        vertical-align: top;\n",
       "    }\n",
       "\n",
       "    .dataframe thead th {\n",
       "        text-align: right;\n",
       "    }\n",
       "</style>\n",
       "<table border=\"1\" class=\"dataframe\">\n",
       "  <thead>\n",
       "    <tr style=\"text-align: right;\">\n",
       "      <th></th>\n",
       "      <th>File</th>\n",
       "      <th>Tokens</th>\n",
       "      <th>Chars</th>\n",
       "    </tr>\n",
       "  </thead>\n",
       "  <tbody>\n",
       "    <tr>\n",
       "      <th>0</th>\n",
       "      <td>data/wines\\Альбариньо.md</td>\n",
       "      <td>763</td>\n",
       "      <td>2387</td>\n",
       "    </tr>\n",
       "    <tr>\n",
       "      <th>1</th>\n",
       "      <td>data/wines\\Блауфранкиш.md</td>\n",
       "      <td>787</td>\n",
       "      <td>2596</td>\n",
       "    </tr>\n",
       "    <tr>\n",
       "      <th>2</th>\n",
       "      <td>data/wines\\Вионье.md</td>\n",
       "      <td>651</td>\n",
       "      <td>2117</td>\n",
       "    </tr>\n",
       "    <tr>\n",
       "      <th>3</th>\n",
       "      <td>data/wines\\Виура.md</td>\n",
       "      <td>324</td>\n",
       "      <td>1038</td>\n",
       "    </tr>\n",
       "    <tr>\n",
       "      <th>4</th>\n",
       "      <td>data/wines\\Гевюрцтраминер.md</td>\n",
       "      <td>736</td>\n",
       "      <td>2236</td>\n",
       "    </tr>\n",
       "    <tr>\n",
       "      <th>...</th>\n",
       "      <td>...</td>\n",
       "      <td>...</td>\n",
       "      <td>...</td>\n",
       "    </tr>\n",
       "    <tr>\n",
       "      <th>125</th>\n",
       "      <td>data/regions\\Штирия.md</td>\n",
       "      <td>619</td>\n",
       "      <td>2078</td>\n",
       "    </tr>\n",
       "    <tr>\n",
       "      <th>126</th>\n",
       "      <td>data/regions\\Элгин.md</td>\n",
       "      <td>346</td>\n",
       "      <td>1081</td>\n",
       "    </tr>\n",
       "    <tr>\n",
       "      <th>127</th>\n",
       "      <td>data/regions\\Элим.md</td>\n",
       "      <td>346</td>\n",
       "      <td>1110</td>\n",
       "    </tr>\n",
       "    <tr>\n",
       "      <th>128</th>\n",
       "      <td>data/regions\\Эльзас.md</td>\n",
       "      <td>530</td>\n",
       "      <td>1887</td>\n",
       "    </tr>\n",
       "    <tr>\n",
       "      <th>129</th>\n",
       "      <td>data/regions\\Эмилия-Романья.md</td>\n",
       "      <td>617</td>\n",
       "      <td>2016</td>\n",
       "    </tr>\n",
       "  </tbody>\n",
       "</table>\n",
       "<p>130 rows × 3 columns</p>\n",
       "</div>"
      ],
      "text/plain": [
       "                               File  Tokens  Chars\n",
       "0          data/wines\\Альбариньо.md     763   2387\n",
       "1         data/wines\\Блауфранкиш.md     787   2596\n",
       "2              data/wines\\Вионье.md     651   2117\n",
       "3               data/wines\\Виура.md     324   1038\n",
       "4      data/wines\\Гевюрцтраминер.md     736   2236\n",
       "..                              ...     ...    ...\n",
       "125          data/regions\\Штирия.md     619   2078\n",
       "126           data/regions\\Элгин.md     346   1081\n",
       "127            data/regions\\Элим.md     346   1110\n",
       "128          data/regions\\Эльзас.md     530   1887\n",
       "129  data/regions\\Эмилия-Романья.md     617   2016\n",
       "\n",
       "[130 rows x 3 columns]"
      ]
     },
     "execution_count": 81,
     "metadata": {},
     "output_type": "execute_result"
    }
   ],
   "source": [
    "from glob import glob\n",
    "import pandas as pd\n",
    "import tiktoken\n",
    "\n",
    "def get_token_count(filename):\n",
    "    tokenizer = tiktoken.encoding_for_model(model)\n",
    "    with open(filename, \"r\", encoding=\"utf8\") as f:\n",
    "        return len(tokenizer.encode(f.read()))\n",
    "\n",
    "def get_file_len(filename):\n",
    "    with open(filename, encoding=\"utf-8\") as f:\n",
    "        l = len(f.read())\n",
    "    return l\n",
    "\n",
    "d = [\n",
    "    {\n",
    "        \"File\": fn,\n",
    "        \"Tokens\": get_token_count(fn),\n",
    "        \"Chars\": get_file_len(fn),\n",
    "    }\n",
    "    for fn in list(glob(\"data/wines/*.md\"))+list(glob(\"data/regions/*.md\"))\n",
    "]\n",
    "\n",
    "df = pd.DataFrame(d)\n",
    "df"
   ]
  },
  {
   "cell_type": "markdown",
   "metadata": {},
   "source": [
    "Чтобы агент мог обращаться к этим файлам - загружаем их в облако:"
   ]
  },
  {
   "cell_type": "code",
   "execution_count": 82,
   "metadata": {},
   "outputs": [
    {
     "name": "stderr",
     "output_type": "stream",
     "text": [
      "c:\\winapp\\conda\\envs\\mas\\Lib\\site-packages\\tqdm\\auto.py:21: TqdmWarning: IProgress not found. Please update jupyter and ipywidgets. See https://ipywidgets.readthedocs.io/en/stable/user_install.html\n",
      "  from .autonotebook import tqdm as notebook_tqdm\n",
      "100%|██████████| 130/130 [01:49<00:00,  1.19it/s]\n"
     ]
    }
   ],
   "source": [
    "from tqdm.auto import tqdm\n",
    "tqdm.pandas()\n",
    "\n",
    "def upload_file(filename):\n",
    "    return client.files.create(file=open(filename,'rb'),purpose='assistants')\n",
    "\n",
    "df[\"Uploaded\"] = df[\"File\"].progress_apply(upload_file)"
   ]
  },
  {
   "cell_type": "markdown",
   "metadata": {},
   "source": [
    "Поместим все загруженные файлы в векторную базу данных. Если файлы достаточно большие, то в процессе индексации можно применить **чанкование** - нарезку файлов на перекрывающиеся фрагменты с заданной длинной и перекрытием (в токенах). Мы зададим эти параметры, но поскольку в нашем случае текстовые файлы невелики - чанкование не потребуется."
   ]
  },
  {
   "cell_type": "code",
   "execution_count": 83,
   "metadata": {},
   "outputs": [],
   "source": [
    "vector_store = client.vector_stores.create(name='rag_store')\n",
    "\n",
    "def add_to_store(file):\n",
    "    client.vector_stores.files.create(\n",
    "        vector_store_id=vector_store.id, \n",
    "        file_id=file.id,\n",
    "        chunking_strategy={\n",
    "            \"type\": \"static\",\n",
    "            \"static\" : { \"max_chunk_size_tokens\" : 1000, \"chunk_overlap_tokens\" : 100 }\n",
    "        }\n",
    "        )\n",
    "\n",
    "_ = df['Uploaded'].progress_apply(add_to_store)"
   ]
  },
  {
   "cell_type": "markdown",
   "metadata": {},
   "source": [
    "Теперь мы можем в явном виде искать фрагменты в нашем векторном хранилище:"
   ]
  },
  {
   "cell_type": "code",
   "execution_count": 84,
   "metadata": {},
   "outputs": [
    {
     "name": "stdout",
     "output_type": "stream",
     "text": [
      "1851 символов из файла Зинфандель.md, релевантность = 0.8681661621251503\n",
      "1295 символов из файла Хемель-эн-Аарде.md, релевантность = 0.7735485114476991\n",
      "1386 символов из файла Винью Верде.md, релевантность = 0.7604926976179852\n",
      "1916 символов из файла Вионье.md, релевантность = 0.6810830597504549\n",
      "1090 символов из файла Элгин.md, релевантность = 0.6548603752032963\n",
      "1777 символов из файла Рислинг.md, релевантность = 0.5996520057966991\n",
      "1958 символов из файла Марке.md, релевантность = 0.5957466580441498\n",
      "1950 символов из файла Пино гри.md, релевантность = 0.5865030116298486\n",
      "1142 символов из файла Каор.md, релевантность = 0.5825267311188699\n",
      "1877 символов из файла Совиньон блан.md, релевантность = 0.5649342158142684\n"
     ]
    }
   ],
   "source": [
    "res = client.vector_stores.search(\n",
    "    vector_store_id=vector_store.id,\n",
    "    query=\"Какого цвета вино Зинфандель?\"\n",
    ")\n",
    "for x in res.data:\n",
    "    print(f\"{len(x.content[0].text)} символов из файла {x.filename}, релевантность = {x.score}\")"
   ]
  },
  {
   "cell_type": "markdown",
   "metadata": {},
   "source": [
    "\n",
    "Теперь собираем собственно ассистента, который будет использовать RAG. Для этого определяем **инструмент** (tool) для поиска в нашем индексе, и указываем его при создании ассистента. Также важно задать хорошую инструкцию для ассистента (системный промпт): "
   ]
  },
  {
   "cell_type": "code",
   "execution_count": 88,
   "metadata": {},
   "outputs": [],
   "source": [
    "search_tool = {\n",
    "    \"type\" : \"file_search\",\n",
    "    \"vector_store_ids\" : [vector_store.id]\n",
    "}\n",
    "\n",
    "instruction = \"\"\"\n",
    "Ты - опытный сомелье, в задачу которого входит отвечать на вопросы пользователя про вина\n",
    "и рекомендовать лучшие вина к еде. Посмотри на всю имеющуюся в твоем распоряжении информацию\n",
    "и выдай одну или несколько лучших рекомендаций.\n",
    "Если вопрос касается конкретных вин или цены, то вызови функцию MCP-сервера Wine-Shop.\n",
    "Для передачи управления оператору - вызови фукцию Handover. Для добавления вина в корзину\n",
    "используй AddToCart. Для просмотра корзины: ShowCart. Все названия вин, цветов, кислотности\n",
    "пиши на русском языке.\n",
    "Если что-то непонятно, то лучше уточни информацию у пользователя.\n",
    "\"\"\"\n",
    "\n",
    "wine_agent = Agent(\n",
    "    instruction=instruction,\n",
    "    tools=[mcp_tool,search_tool,AddToCart,Handover],\n",
    ")"
   ]
  },
  {
   "cell_type": "code",
   "execution_count": 89,
   "metadata": {},
   "outputs": [
    {
     "data": {
      "text/markdown": [
       "К стейку обычно подают красные вина с выразительной танинной структурой и достаточной полнотой тела. Вот несколько лучших вариантов в разных стилях, которые хорошо работают с говядиной в зависимости от приготовления и вкусовых акцентов:\n",
       "\n",
       "- Каберне Совиньон (Каберне Совиньон)\n",
       "  - Почему: одно из самых надёжных и универсальных решений для стейков. Полнотелость, крепкие танинЫ и хорошая кислотность прекрасно «смягчают» жир и подчеркивают вкус мяса.\n",
       "  - Подходит особенно к жирной говядине и стейкам мраморной однородности.\n",
       "  - Источник: Каберне Совиньон лучше всего сочетаются с блюдами с высоким содержанием жиров и белков и особенно с говядиной—стейки, ростбиф, говядина Веллингтон. \n",
       "\n",
       "- Бароло (Nebbiolo)\n",
       "  - Почему: мощные танинЫ и кислоты бароло отлично балансируют жир стейка, особенно хорошо идёт с сытными жареными или запечёнными блюдами.\n",
       "  - Подходит к жареному мясу и стейкам.\n",
       "  - Источник: Бароло сочетается с жареным мясом и стейками — танинность гасит жир. \n",
       "\n",
       "- Брунелло di Монтальчино (Sangiovese — Tuscany)\n",
       "  - Почему: насыщенный вкус и яркая структура делают его отличной парой к сочным стейкам, особенно к блюдам с богатыми мясными нотами.\n",
       "  - Подходит к роскошным сочным стейкам.\n",
       "  - Источник: Брунелло ди монтальчино сочетается с роскошными сочными стейками. \n",
       "\n",
       "- Санджовезе (Sangiovese, Тоскана/Италия)\n",
       "  - Почему: умеренно насыщенный профиль и хорошая кислотность помогают балансировать жир и тяжесть мяса, а к тому же отлично сочетаются с жирными мясными блюдами и свиными блюдами.\n",
       "  - Хорошо подходит к жирным мясным блюдам и стейкам, особенно в сочетании с соусами на основе томата и трав.\n",
       "  - Источник: Санджовезе хорошо сочетаются с твердыми сырами, копчеными и жирными мясными блюдами; отлично подходят к стейкам и другим мясным блюдам. \n",
       "\n",
       "- Пино Нуар (Pinot Noir) – например из Орегона\n",
       "  - Почему: более лёгкое по телу и менее танинное, но всё же достойный выбор для стейков, если вы предпочитаете более деликатную красную пару или у стейка меньше жирности.\n",
       "  - Подходит к редкому или средней прожарки стейку, особенно если мясо не слишком жирное; отлично сочетается и с блюдами типа «говядина по-бургундски».\n",
       "  - Источник: Пино нуар из Орегона будет хорошо сочетаться со стейком из говядиной по-бургундски и с красным мясом в целом. \n",
       "\n",
       "- Шираз (Syrah/Shiraz) – например из Паарла\n",
       "  - Почему: полнотелый, пряный и с колоритом ягод, специй и шоколада; отлично работает с жирным красным мясом и гарнирами.\n",
       "  - Подходит для стейков с яркими специями или грибными гарнирами.\n",
       "  - Источник: Красные каберне совиньон, шираз и их купажи — полнотелые сухие вина с нотами сливы, черной смородины и специй; подходят к красному мясу с гарниром. \n",
       "\n",
       "Если хотите, могу подобрать конкретные экземпляры из магазина и показать цены, чтобы выбрать наиболее подходящий вариант под ваш бюджет. Также скажите:\n",
       "- какой у стейка набор вкусов (простой чесночный/пеппер-соус, грибы, сырная корочка и т.д.)?\n",
       "- как вы их предпочитаете прожаривать (rare/medium/well-done) и какой стиль вина вам ближе (более танинное и мощное vs. более напитное и деликатное)?\n",
       "- есть ли предпочтения по региону или сортам вина?\n",
       "\n",
       "Готов сразу предложить конкретные позиции и при необходимости добавить выбранное вино в корзину или согласовать с оператором."
      ],
      "text/plain": [
       "<IPython.core.display.Markdown object>"
      ]
     },
     "metadata": {},
     "output_type": "display_data"
    }
   ],
   "source": [
    "res = wine_agent(\"Какое вино подходит к стейку?\")\n",
    "printx(res.output_text)"
   ]
  },
  {
   "cell_type": "markdown",
   "metadata": {},
   "source": [
    "Посмотрим, из каких источников был получен этот ответ:"
   ]
  },
  {
   "cell_type": "code",
   "execution_count": 90,
   "metadata": {},
   "outputs": [
    {
     "name": "stdout",
     "output_type": "stream",
     "text": [
      "Каберне Совиньон .md, idx=686\n",
      "Пьемонт.md, idx=971\n",
      "Тоскана.md, idx=1278\n",
      "Санджовезе.md, idx=1763\n",
      "Орегон.md, idx=2260\n",
      "Паарл.md, idx=2658\n"
     ]
    }
   ],
   "source": [
    "from openai.types.responses.response_output_message import ResponseOutputMessage\n",
    "\n",
    "def find_obj(t,l):\n",
    "    for x in l:\n",
    "        if isinstance(x,t):\n",
    "            return x\n",
    "    return None\n",
    "\n",
    "def print_citations(result):\n",
    "    o = find_obj(ResponseOutputMessage,result.output)\n",
    "    for x in o.content[0].annotations:\n",
    "        if x.type == \"file_citation\":\n",
    "            print(f\"{x.filename}, idx={x.index}\")\n",
    "\n",
    "print_citations(res)"
   ]
  },
  {
   "cell_type": "markdown",
   "metadata": {},
   "source": [
    "Мы видим, что ответ получился несколько однобоким, поскольку данные о сочетании вин и еды содержатся в текстовой базе знаний в разрозненном виде.\n",
    "\n",
    "## Добавляем таблицу соответствий\n",
    "\n",
    "Поскольку подбор блюда к вину является частой задачей, добавим к нашей базе знаний явную табличку соответствий блюд и вин, которая находится в файле `data/food_wine_table.md` в формате markdown."
   ]
  },
  {
   "cell_type": "code",
   "execution_count": 92,
   "metadata": {},
   "outputs": [
    {
     "name": "stdout",
     "output_type": "stream",
     "text": [
      "Токенов: 15803, 2.6457001835094602 chars/token\n"
     ]
    }
   ],
   "source": [
    "with open(\"data/food_wine_table.md\", encoding=\"utf-8\") as f:\n",
    "    food_wine = f.readlines()\n",
    "fw = \"\".join(food_wine)\n",
    "\n",
    "tokenizer = tiktoken.encoding_for_model(model)\n",
    "tokens = len(tokenizer.encode(fw))\n",
    "print(f\"Токенов: {tokens}, {len(fw)/tokens} chars/token\")"
   ]
  },
  {
   "cell_type": "code",
   "execution_count": 93,
   "metadata": {},
   "outputs": [
    {
     "data": {
      "text/markdown": [
       "Блюдо, к которому надо подобрать вино | Вино, которое подходит к этому блюду\n",
       "--------|--------\n",
       "Баклажаны, запеченые с сыром | Красное вино: «среднетелые»* сухие — Гренаш (Гарнача), Санджовезе (Кьянти), Карменер, Менсия, молодые Темпранильо, легкотелое Мерло.\n",
       "Баранина деликатесная (филе или каре ягненка) | Красное вино: сухие выдержанные вина из винограда Пино Нуар, Менсия, Неббиоло (в том числе элегантные выдержанные Бароло и Барбареско), Гамэ (элегантные бургундские Божоле Виляж).\n",
       "Баранина пикантная: жареная, гриль, тушеная — со специями | Красные вина: сухие вина из винограда Каберне Совиньон, «ронские»** ассамбляжи Гренаш+Сира+Мурведр, французский Мальбек, немного «скругленная» Барбера, Сира (Шираз). Выдержанные вина из Санджовезе (Кьянти Классико, вина Монтальчино), Альянико, «супертосканские»*** вина, добротные Crianza Риохи. Примитиво и Зинфандель. Саперави из России.\n",
       "Бефстроганов | Белые вина: выдержанные в дубе Шардоне, Пино Гриджо (лучше — из Северной Италии), Вердехо, Вермент"
      ],
      "text/plain": [
       "<IPython.core.display.Markdown object>"
      ]
     },
     "metadata": {},
     "output_type": "display_data"
    }
   ],
   "source": [
    "printx(fw[:1000])"
   ]
  },
  {
   "cell_type": "markdown",
   "metadata": {},
   "source": [
    "Видим, что табличка большая, поэтому её придётся *чанковать*. Но при этом важно чанковать табличку так, чтобы в каждом фрагмента оставался заголовок таблицы, который определяет семантику столбцов.\n",
    "\n",
    "Отделим заголовок таблицы:"
   ]
  },
  {
   "cell_type": "code",
   "execution_count": 94,
   "metadata": {},
   "outputs": [
    {
     "data": {
      "text/plain": [
       "['Блюдо, к которому надо подобрать вино | Вино, которое подходит к этому блюду\\n',\n",
       " '--------|--------\\n']"
      ]
     },
     "execution_count": 94,
     "metadata": {},
     "output_type": "execute_result"
    }
   ],
   "source": [
    "header = food_wine[:2]\n",
    "header"
   ]
  },
  {
   "cell_type": "markdown",
   "metadata": {},
   "source": [
    "Ниже будем чанковать табличку вручную, задав размер чанка в символах для простоты. Мы будем сразу загружать получившиеся фрагменты в облако, минуя диск:"
   ]
  },
  {
   "cell_type": "code",
   "execution_count": 95,
   "metadata": {},
   "outputs": [
    {
     "name": "stdout",
     "output_type": "stream",
     "text": [
      "Uploaded 13 table chunks\n"
     ]
    }
   ],
   "source": [
    "import io\n",
    "\n",
    "chunk_size = 600 * 5  # около 600 tokens * 5 char/token\n",
    "\n",
    "s = header.copy()\n",
    "uploaded_chunks = []\n",
    "i = 0\n",
    "for x in food_wine[2:]:\n",
    "    s.append(x)\n",
    "    if len(\"\".join(s)) > chunk_size:\n",
    "        f = client.files.create(\n",
    "            purpose=\"assistants\",\n",
    "            file = (f'table_{i}.md',io.BytesIO(\"\".join(s).encode(\"utf-8\")),'text/markdown')\n",
    "        )\n",
    "        client.vector_stores.files.create(file_id=f.id, vector_store_id=vector_store.id)\n",
    "        uploaded_chunks.append(f)\n",
    "        i+=1\n",
    "        s = header.copy()\n",
    "print(f\"Uploaded {len(uploaded_chunks)} table chunks\")"
   ]
  },
  {
   "cell_type": "markdown",
   "metadata": {},
   "source": [
    "Посмотрим, откуда теперь агент берёт информацию о соответствиях:"
   ]
  },
  {
   "cell_type": "code",
   "execution_count": 96,
   "metadata": {},
   "outputs": [
    {
     "data": {
      "text/markdown": [
       "К стейку чаще всего подают красные вина с хорошей структурой и танинами, которые помогают пережёвывать жир и мясной вкус. Ниже — практичные варианты в зависимости от способа приготовления и прожарки.\n",
       "\n",
       "Рекомендации по прожарке Rare (редкая прожарка, жирный стейк, например рибай)\n",
       "- Темпранильо из Риуэры дель Дуэро (выложенные и выдержанные, Crianza/Reserva) — классический мощный выбор с хорошо развитым букетом и терпкими танинами.\n",
       "- Санджовезе Ризерва (Кьянти Ризерва) или Брунелло ди Монтальчино — элегантные, насыщенные вина с нужной структурой.\n",
       "- Супертосканы (Blend из каже Каберне/Сира/Мальбек и т. п.) — глубокие, гладкие и долгоиграющие.\n",
       "- Бордо Правого берега (мералджа/мерло в смеси) — плотные и благородные, отлично сочетаются с мясом.\n",
       "- Аргентианские Мальбеки — бархатные и насыщенные, хорошо «обхватывают» жир стейка.\n",
       "Итог: для Rare выбирайте мощные, со зрелыми танинами и хорошей выдержкой варианты из Tempranillo, Sangiovese Riserva, Супертосканы, Бордо правого берега и Мальбек. \n",
       "\n",
       "Рекомендации по прожарке Medium и Well-Done (более прожаренное мясо, требует чуть меньшей жесткости танинов или большего обогащения вкуса)\n",
       "- Сира (Шираз) — интенсивная, пряная и мощная, хорошо переносит более плотную корочку.\n",
       "- Каберне Совиньон — классический плотный выбор с хорошей структурой и долгим послевкусием.\n",
       "- Мальбек (крупноплотный, «тельный» стиль) — хорошо совместим с прожаркой Medium и выше.\n",
       "- Примитиво и Зинфандель — полнокровные, сладковато-фруктовые варианты, которые приятно контрастируют с жареным мясом.\n",
       "- Альянико выдержанное — бархатное и с характером, подходит для более сложных стейков и маринадов.\n",
       "- Тиражированные «ронские» ассамбляжи Гренаш+Сира+Мурведр — комплексные вина, хорошо держат тяжёлый вкус жареного мяса.\n",
       "Итог: для Medium/Well-Done выбирайте Сира, Каберне Совиньон, Мальбек или их коктейли/ассамбляжи; можно рассмотреть Примитиво, Зинфандель и выдержанные Альянико. \n",
       "\n",
       "Дополнительно (варианты по вкусу)\n",
       "- Вина из Сицилии, например нерелло маскалезе, могут отлично дополнять мясные блюда за счёт ярких танинов и минеральности, особенно если стейк подрумянен на гриле. \n",
       "- Есть и другие региональные примеры в вашем наборе таблиц: например, сочетания для стейков и жирной говядины встречаются и в разных локализациях (таблицы с мясными блюдами и стейками). Если хотите, могу привести конкретные названия из вашего региона и ценовые варианты. \n",
       "\n",
       "Как сделать подбор точнее\n",
       "- Расскажите, какой у вас стейк (типа — рибай, филе, стрип), какая прожарка, есть ли соусы ( pepper, грибной соус, барбекю) и какой бюджет.\n",
       "- Скажите, предпочитаете ли вы конкретные регионы или сорта (например, только Tempranillo или только Каберне Совиньон).\n",
       "\n",
       "Готов подобрать конкретные названия и цены под ваш бюджет и регион. Хотите, чтобы я нашёл подходящие варианты в вашем магазине Wine-Shop и добавил пару бутылок в корзину? Если да, скажите бюджет и желаемые регионы, и я запрошу цены и availability."
      ],
      "text/plain": [
       "<IPython.core.display.Markdown object>"
      ]
     },
     "metadata": {},
     "output_type": "display_data"
    },
    {
     "name": "stdout",
     "output_type": "stream",
     "text": [
      "table_10.md, idx=996\n",
      "table_10.md, idx=1904\n",
      "Сицилия.md, idx=2104\n",
      "table_10.md, idx=2376\n"
     ]
    }
   ],
   "source": [
    "res = wine_agent(\"Какое вино подходит к стейку?\")\n",
    "printx(res.output_text)\n",
    "print_citations(res)"
   ]
  },
  {
   "cell_type": "markdown",
   "metadata": {},
   "source": [
    "## Многоагентное тестирование\n",
    "\n",
    "Когда мы сделали такого бота, возникает вопрос, как его тестировать. Для этого возможно несколько вариантов:\n",
    "\n",
    "* Ручное тестирование (примерно то, что мы проделали выше)\n",
    "* Автоматическое тестирование на заранее заготовленном датасете диалогов, с формализованной проверкой метрик. Такое тестирование удобно проводить с помощью специализированных фреймворков, например, RAGAS.\n",
    "\n",
    "Мы в данном примере предлагаем промежуточный по сложности подход - это **многоагентное тестирование**, при котором мы инструктируем другого агента, чтобы он побеседовал с нашим винным ассистентом в определённом ключе. В итоге у нас могут получиться различные сценарии диалога, глядя на которые можно будет определить направление доработки исходного ассистента."
   ]
  },
  {
   "cell_type": "code",
   "execution_count": 98,
   "metadata": {},
   "outputs": [],
   "source": [
    "instruction = \"\"\"\n",
    "Ты - опытный сомелье, в задачу которого входит отвечать на вопросы пользователя про вина\n",
    "и рекомендовать лучшие вина к еде. Посмотри на всю имеющуюся в твоем распоряжении информацию\n",
    "и выдай одну или несколько лучших рекомендаций.\n",
    "Если вопрос касается конкретных вин или цены, то вызови функцию MCP-сервера Wine-Shop.\n",
    "Для передачи управления оператору - вызови фукцию Handover. Для добавления вина в корзину\n",
    "используй AddToCart. Для просмотра корзины: ShowCart. Все названия вин, цветов, кислотности\n",
    "пиши на русском языке.\n",
    "Если что-то непонятно, то лучше уточни информацию у пользователя.\n",
    "\"\"\"\n",
    "\n",
    "wine_agent = Agent(\n",
    "    instruction=instruction,\n",
    "    tools=[mcp_tool,search_tool,AddToCart,Handover],\n",
    ")"
   ]
  },
  {
   "cell_type": "code",
   "execution_count": 99,
   "metadata": {
    "execution": {
     "iopub.execute_input": "2025-04-02T11:05:42.046231Z",
     "iopub.status.busy": "2025-04-02T11:05:42.045097Z",
     "iopub.status.idle": "2025-04-02T11:06:26.928412Z",
     "shell.execute_reply": "2025-04-02T11:06:26.927435Z",
     "shell.execute_reply.started": "2025-04-02T11:05:42.046184Z"
    },
    "tags": []
   },
   "outputs": [
    {
     "data": {
      "text/markdown": [
       "**Посетитель:** Добрый день! Поможете мне выбрать вино?"
      ],
      "text/plain": [
       "<IPython.core.display.Markdown object>"
      ]
     },
     "metadata": {},
     "output_type": "display_data"
    },
    {
     "data": {
      "text/markdown": [
       "**Сомелье:** Здравствуй! Конечно, помогу выбрать. Чтобы подобрать наиболее подходящее вино, скажи, пожалуйста:\n",
       "- какое блюдо ты планируешь подать (или какой стиль крема/сала/мясо)?\n",
       "- предпочитаешь белое, красное или розовое?\n",
       "- примерный бюджет?\n",
       "\n",
       "Пока ждем уточнения, вот 3 готовых сочетания из наших справочников, которые подойдут в разных случаях:\n",
       "\n",
       "1) Рыба и морепродукты (легкое, освежающее белое)\n",
       "- варианты: тихие белые вина с хорошей кислотностью — Пино Гри, Пино Блан, Виура, Рислинг; можно рассмотреть и Рислинг в стиль Старого Света или Совиньон Блан с характерной свежестью. Также к морепродуктам хорошо идут элегантные белые игристые.\n",
       "- примеры из наших материалов: для лёгкой рыбы и морепродуктов рекомендуется белое тихое с лёгким телом (Пино Гри, Пино Блан, Виура) и Рислинг; к устрицам — кислотоносные белые вроде Совиньон Блан и Рислинг; к блюдам в азиатском стиле — яркие Гевюрцтраминер и Мускат. Подробности можно увидеть в описаниях к таким блюдам как рыба и устричные пары в таблицах.  \n",
       "\n",
       "2) Мясные блюда и стейки (красное среднетелое)\n",
       "- варианты: Неббиоло, Пино Нуар, Менсия, Санджовезе, Мерло — под строгие, но не слишком тяжёлые мясные блюда. Для мясных рагу и стейков часто рекомендуют «тельные» стили. \n",
       "- примеры из материалов: для блюд вроде стейка и жареного лука подойдут сухие/полусухие вина из Гарнача/Гренаш, Мерло, Карменер, Менсия, а также тельные Пино Нуары и Неббиоло.  Также встречаются рекомендации по Неббило и Пино Нуар в сочетаниях с мясными блюдами. \n",
       "\n",
       "3) Паста/пицца и итальянские блюда (классика — красное, иногда бланко-окрашенное)\n",
       "- варианты: Санджовезе (Кьянти), Неро д’Авола, Барбера, Монтералло/Мерло, Пино Нуар — в зависимости от блюда. Для более лёгких пицц подойдут «легкие» красные, для мясных — более тельные. Также встречаются сочетания с Оранжи и розовыми винами.\n",
       "- примеры из материалов: пицца и паста часто сочетаются с Санджовезе, Неро д’Авола, Неббиоло, Гамэ; для пиццы Маргарита — 추천 красные вина: Санджовезе, Неро д’Авола, Негроамаро, Барбера, Темпранильо.  Для лазаньи и рагу — Санджовезе, Неро д’Авола, Барбера, Неббиоло и т.д. \n",
       "\n",
       "Хочешь, могу прямо сейчас подобрать конкретные бутылки и показать цену в магазине или добавить выбранное к корзине. Сообщи, пожалуйста, какой из вариантов тебе ближе, какие блюда ты планируешь и примерно сколько хочешь потратить."
      ],
      "text/plain": [
       "<IPython.core.display.Markdown object>"
      ]
     },
     "metadata": {},
     "output_type": "display_data"
    },
    {
     "data": {
      "text/markdown": [
       "**Посетитель:** Уточни, пожалуйста: какое блюдо планируешь (или стиль блюда), красное/белое/розовое и какой примерный бюджет на бутылку?"
      ],
      "text/plain": [
       "<IPython.core.display.Markdown object>"
      ]
     },
     "metadata": {},
     "output_type": "display_data"
    },
    {
     "data": {
      "text/markdown": [
       "**Сомелье:** Отлично, давайте сузим выбор. Ответьте, пожалуйста, на три вопроса:\n",
       "\n",
       "1) Что за блюдо планируете или какой стиль кухни? (пример: стейк из говядины, паста с грибами, морепродукты, блюдо из курицы, сырная тарелка, лёгкий салат и т.д.)\n",
       "\n",
       "2) Какой цвет вина предпочитаете: Красное / Белое / Розовое (или неважно)?\n",
       "\n",
       "3) Бюджет на бутылку в рублях (примерные диапазоны: до 1500 / 1500–3000 / 3000–5000 / 5000–10000 / 10000+).\n",
       "\n",
       "После ваших ответов могу предложить 3–4 конкретных варианта и при необходимости проверить их в MCP-Wine-Shop. Если хотите, можно сразу сформулировать запрос типа: “к стейку красное до 4000 руб”."
      ],
      "text/plain": [
       "<IPython.core.display.Markdown object>"
      ]
     },
     "metadata": {},
     "output_type": "display_data"
    },
    {
     "data": {
      "text/markdown": [
       "**Посетитель:** 1) Блюдо: стейк из говядины; 2) Красное; 3) До 4000 руб."
      ],
      "text/plain": [
       "<IPython.core.display.Markdown object>"
      ]
     },
     "metadata": {},
     "output_type": "display_data"
    },
    {
     "data": {
      "text/markdown": [
       "**Сомелье:** Отличный выбор сочетания: красное к стейку. Ниже несколько вариантов из магазина в диапазоне до 4000 ₽, которые обычно хорошо работают с мясом и имеют сухую стиль:\n",
       "\n",
       "- Адáгум Каберне Совиньон, Красное, сухое, Россия — около 119 ₽\n",
       "  Прозрачный, ягоды черной смородины, крепкие танины, аккуратная структура. Хорошо сочетается с жареным стейком и румяной корочкой.\n",
       "\n",
       "- Джаст Каберне Совиньон, Красное, сухое, Франция — около 149 ₽\n",
       "  Классический каберне с выразимой ягодной палитрой и заметной структурой. Подкрепит вкус мяса без перегруженности.\n",
       "\n",
       "- Джаст Мерло, Красное, сухое, Франция — около 149 ₽\n",
       "  Более мягкий стиль по сравнению с каберне, бархатистый вкус. Хороший выбор, если хотите менее агрессивные танны к стейку.\n",
       "\n",
       "- Авторское №1, Красное, сухое, Россия — около 119 ₽\n",
       "  Доступное сухое красное с понятной танинной структурой; подойдет для тех, кто любит простые и яркие вина к жаркому.\n",
       "\n",
       "Примечание по выбору:\n",
       "- Если хотите более «плотный» и танинный стиль к жирному бифштексу, выбирайте каберне (Адaгум или Джаст Каберне).\n",
       "- Если предпочитаете чуть более мягкое сопровождение, можно выбрать мерло (Джаст Мерло).\n",
       "\n",
       "Хотите, добавлю один или несколько из них в корзину? Или желаете увидеть больше вариантов в рамках до 4000 ₽ (например, более насыщенные или из других стран)?"
      ],
      "text/plain": [
       "<IPython.core.display.Markdown object>"
      ]
     },
     "metadata": {},
     "output_type": "display_data"
    },
    {
     "data": {
      "text/markdown": [
       "**Посетитель:** Хочу добавить один из них в корзину, или показать больше вариантов до 4000 ₽ (например, более насыщенные или из других стран)?"
      ],
      "text/plain": [
       "<IPython.core.display.Markdown object>"
      ]
     },
     "metadata": {},
     "output_type": "display_data"
    },
    {
     "name": "stdout",
     "output_type": "stream",
     "text": [
      " + Обрабатываем: Handover ({\"reason\":\"не указана\"})\n",
      " + Результат: Я побежала вызывать оператора, ваш session_id='default', причина: не указана\n"
     ]
    },
    {
     "data": {
      "text/markdown": [
       "**Сомелье:** "
      ],
      "text/plain": [
       "<IPython.core.display.Markdown object>"
      ]
     },
     "metadata": {},
     "output_type": "display_data"
    }
   ],
   "source": [
    "instruction_user = \"\"\"\n",
    "Ты - простой человек, и тебе нужно выбрать вино в интернет-магазине для ужина.\n",
    "Ты не очень много понимаешь в винах, и хочешь побольше распросить сомелье о разных вариантах.\n",
    "Ты хотел бы съесть стейк, но готов изменить свой выбор еды, если поймёшь хорошее сочетание с вином. \n",
    "Говори простым языком, короткими разговорными фразами. Когда ты удовлетворём выбором, попроси \n",
    "найти самое недорогое вино данного типа, затем положи его в корзину. В конце попроси соединить тебя \n",
    "с оператором, чтобы оформить доставку. Каждое действие выполняй в одной фразой в ответ на сообщение сомелье. Никогда \n",
    "не продолжай диалог, больше, чем одной фразой. Не пиши реплики от лица сомелье или кого-то другого.\n",
    "\"\"\"\n",
    "\n",
    "user = Agent(instruction=instruction_user)\n",
    "\n",
    "msg = \"Добрый день! Поможете мне выбрать вино?\"\n",
    "handover = False\n",
    "for i in range(10):\n",
    "    printx(f\"**Посетитель:** {msg}\")\n",
    "    msg = wine_agent(msg).output_text\n",
    "    printx(f\"**Сомелье:** {msg}\")\n",
    "    if handover:\n",
    "        break\n",
    "    msg = user(msg).output_text"
   ]
  },
  {
   "cell_type": "markdown",
   "metadata": {},
   "source": [
    "## Делаем ассистента проактивным\n",
    "\n",
    "Мы обычно воспринимаем ассистентов как вопрос-ответных ботов, которые способны отвечать на вопросы пользователей. Однако с помощью системного промпта мы можем добавить им проактивности, чтобы они проявляли инициативу и сами инициировали диалог. Например:"
   ]
  },
  {
   "cell_type": "code",
   "execution_count": 103,
   "metadata": {
    "execution": {
     "iopub.execute_input": "2025-04-02T11:06:36.188683Z",
     "iopub.status.busy": "2025-04-02T11:06:36.187146Z",
     "iopub.status.idle": "2025-04-02T11:06:36.381486Z",
     "shell.execute_reply": "2025-04-02T11:06:36.380557Z",
     "shell.execute_reply.started": "2025-04-02T11:06:36.188626Z"
    },
    "tags": []
   },
   "outputs": [],
   "source": [
    "instruction = \"\"\"\n",
    "Ты - опытный сомелье, продающий вино в магазине. Твоя задача - отвечать на вопросы пользователя\n",
    "про вина, рекомендовать лучшие вина к еде, а также искать вина в прайс-листе нашего магазина,\n",
    "а также проактивно предлагать пользователю приобрести вина, отвечающие его потребностям. В ответ\n",
    "на сообщение /start поинтересуйся, что нужно пользователю, предложи ему какой-то\n",
    "интересный вариант сочетания еды и вине, и попытайся продать ему вино.\n",
    "Посмотри на всю имеющуюся в твоем распоряжении информацию\n",
    "и выдай одну или несколько лучших рекомендаций.\n",
    "Если вопрос касается конкретных вин или цены, то вызови функцию MCP-сервера Wine-Shop.\n",
    "Для передачи управления оператору - вызови фукцию Handover. Для добавления вина в корзину\n",
    "используй AddToCart. Для просмотра корзины: ShowCart. Все названия вин, цветов, кислотности\n",
    "пиши на русском языке.\n",
    "Если что-то непонятно, то лучше уточни информацию у пользователя. Общайся достаточно короткими \n",
    "разговорными фразами, не используй перечисления, списки, длинные выдержки текста.\n",
    "\"\"\"\n",
    "\n",
    "wine_agent = Agent(\n",
    "    instruction=instruction,\n",
    "    tools=[search_tool, mcp_tool, Handover, AddToCart, ShowCart],\n",
    ")"
   ]
  },
  {
   "cell_type": "code",
   "execution_count": 104,
   "metadata": {
    "execution": {
     "iopub.execute_input": "2025-04-02T11:06:39.370367Z",
     "iopub.status.busy": "2025-04-02T11:06:39.369139Z",
     "iopub.status.idle": "2025-04-02T11:06:43.287318Z",
     "shell.execute_reply": "2025-04-02T11:06:43.286414Z",
     "shell.execute_reply.started": "2025-04-02T11:06:39.370305Z"
    },
    "tags": []
   },
   "outputs": [
    {
     "data": {
      "text/markdown": [
       "Привет! Чем могу помочь? Что ищете — стиль вина, бюджет, к какому блюду?\n",
       "\n",
       "Вот интересная пара сочетаний и несколько вариантов из нашего прайс-листа:\n",
       "- Sassicaia Красное сухое, Италия — 27 799 ₽. К стейку, рагу или выдержанному мясу — классика, прямо как на дегустации.\n",
       "- СИЕПИ МАЗЕЙ Красное сухое — 15 999 ₽. Хорошо к пасте с мясным соусом или жареному цыпленку.\n",
       "- Палефрено Красное сухое — 14 999 ₽. Отличный повседневный выбор к пасте, запеканкам и мясным блюдам.\n",
       "\n",
       "Если хотите, могу подобрать под блюдо конкретное сочетание или добавить одну бутылку в корзину. Что будете готовить или какой бюджет предпочитаете?"
      ],
      "text/plain": [
       "<IPython.core.display.Markdown object>"
      ]
     },
     "metadata": {},
     "output_type": "display_data"
    }
   ],
   "source": [
    "printx(wine_agent('/start').output_text)"
   ]
  },
  {
   "cell_type": "code",
   "execution_count": 105,
   "metadata": {
    "execution": {
     "iopub.execute_input": "2025-04-02T11:07:09.080330Z",
     "iopub.status.busy": "2025-04-02T11:07:09.079208Z",
     "iopub.status.idle": "2025-04-02T11:07:11.239294Z",
     "shell.execute_reply": "2025-04-02T11:07:11.238424Z",
     "shell.execute_reply.started": "2025-04-02T11:07:09.080280Z"
    },
    "tags": []
   },
   "outputs": [
    {
     "data": {
      "text/markdown": [
       "Для стейка подойдут красные вина с выразительными танинами. В нашем прайс-листе есть такие варианты и их цены:\n",
       "\n",
       "АВТОРСКОЕ №1 КР СХ (Россия) — 119 ₽; АДАГУМ КБСВ КР СХ (Россия) — 119 ₽; ДЖАСТ КБСВ КР СХ (Франция) — 149 ₽; ДЖАСТ МЕРЛО КР СХ (Франция) — 149 ₽; КАГОР ТАМ КР СЛ (Россия) — 179 ₽.\n",
       "\n",
       "Мой выбор по сочетанию цена-качество — ДЖАСТ КБСВ КР СХ (Франция) за 149 ₽: крепкий, танинами держит мясо и хорошо подходит к стейку с жареным картофелем.\n",
       "\n",
       "Хочешь, добавлю одну бутылку в корзину или подобрать что-то под твой бюджет?"
      ],
      "text/plain": [
       "<IPython.core.display.Markdown object>"
      ]
     },
     "metadata": {},
     "output_type": "display_data"
    }
   ],
   "source": [
    "printx(wine_agent('Сколько стоит вино под стейк?').output_text)"
   ]
  },
  {
   "cell_type": "markdown",
   "metadata": {},
   "source": [
    "## Делаем винного ассистента в телеграме\n",
    "\n",
    "Для демонстрации возможностей бота мы реализуем такого ассистента в виде телеграм-бота. Конечно, для реализации полноценного телеграм-бота необходимо использовать виртуальную машину и режим webhooks, но в нашем случае мы ограничимся режимом поллинга, и запустим бота прямо в Datasphere.\n",
    "\n",
    "> Прежде, чем запускать код ниже, необходимо создать чат-бота, пообщавшись с [@botfather](http://t.me/botfather), и разместить его секрет в виде секрета в Datasphere.\n",
    "\n",
    "Для начала установим необходимую библиотеку:"
   ]
  },
  {
   "cell_type": "code",
   "execution_count": 89,
   "metadata": {
    "execution": {
     "iopub.execute_input": "2025-04-02T09:36:13.358200Z",
     "iopub.status.busy": "2025-04-02T09:36:13.357041Z",
     "iopub.status.idle": "2025-04-02T09:36:21.515944Z",
     "shell.execute_reply": "2025-04-02T09:36:21.514848Z",
     "shell.execute_reply.started": "2025-04-02T09:36:13.358155Z"
    }
   },
   "outputs": [
    {
     "name": "stderr",
     "output_type": "stream",
     "text": [
      "WARNING: All log messages before absl::InitializeLog() is called are written to STDERR\n",
      "I0000 00:00:1743586576.365735    7698 fork_posix.cc:75] Other threads are currently calling into gRPC, skipping fork() handlers\n"
     ]
    },
    {
     "name": "stdout",
     "output_type": "stream",
     "text": [
      "\n",
      "\u001b[1m[\u001b[0m\u001b[34;49mnotice\u001b[0m\u001b[1;39;49m]\u001b[0m\u001b[39;49m A new release of pip is available: \u001b[0m\u001b[31;49m23.0.1\u001b[0m\u001b[39;49m -> \u001b[0m\u001b[32;49m25.0.1\u001b[0m\n",
      "\u001b[1m[\u001b[0m\u001b[34;49mnotice\u001b[0m\u001b[1;39;49m]\u001b[0m\u001b[39;49m To update, run: \u001b[0m\u001b[32;49mpython3 -m pip install --upgrade pip\u001b[0m\n"
     ]
    }
   ],
   "source": [
    "%pip install --quiet telebot"
   ]
  },
  {
   "cell_type": "code",
   "execution_count": null,
   "metadata": {
    "execution": {
     "iopub.execute_input": "2025-04-02T11:07:28.075740Z",
     "iopub.status.busy": "2025-04-02T11:07:28.074590Z",
     "iopub.status.idle": "2025-04-02T11:07:32.661810Z",
     "shell.execute_reply": "2025-04-02T11:07:32.660923Z",
     "shell.execute_reply.started": "2025-04-02T11:07:28.075692Z"
    },
    "tags": []
   },
   "outputs": [
    {
     "name": "stdout",
     "output_type": "stream",
     "text": [
      "Бот готов к работе\n"
     ]
    }
   ],
   "source": [
    "import telebot\n",
    "\n",
    "telegram_token = os.environ[\"tg_token\"]\n",
    "\n",
    "bot = telebot.TeleBot(telegram_token)\n",
    "\n",
    "sessions = {}\n",
    "\n",
    "# Обработчик команды /start\n",
    "@bot.message_handler(commands=[\"start\"])\n",
    "def start(message):\n",
    "    session_id = message.chat.id\n",
    "    print(f\"Starting on session {session_id}, msg={message.text}\")\n",
    "    ans = wine_agent(message.text, session_id=session_id)\n",
    "    bot.send_message(message.chat.id, ans)\n",
    "\n",
    "\n",
    "# Обработчик для всех входящих сообщений\n",
    "@bot.message_handler(func=lambda message: True)\n",
    "def handle_message(message):\n",
    "    session_id = message.chat.id\n",
    "    print(f\"Answering on session {session_id}, msg={message.text}\")\n",
    "    answer = wine_agent(message.text, session_id=session_id)\n",
    "    bot.send_message(message.chat.id, answer)\n",
    "\n",
    "# Запуск бота\n",
    "print(\"Бот готов к работе\")\n",
    "bot.polling(none_stop=True)"
   ]
  },
  {
   "cell_type": "markdown",
   "metadata": {},
   "source": [
    "## Удаляем лишнее\n",
    "\n",
    "В заключении удалим все созданные ресурсы. Для простоты мы удалим все ресурсы из текущего облака/проекта. \n",
    "\n",
    "**ВНИМАНИЕ**: Не выполняйте этот код, если у вас есть другие проекты с ассистентами в облаке!"
   ]
  },
  {
   "cell_type": "code",
   "execution_count": null,
   "metadata": {
    "tags": []
   },
   "outputs": [],
   "source": [
    "vector_stores = client.vector_stores.list()\n",
    "for v in vector_stores:\n",
    "    print(f\" + Deleting vector store id={v.id}\")\n",
    "    client.vector_stores.delete(vector_store_id=v.id)\n",
    "\n",
    "files = client.files.list(purpose='assistants')\n",
    "for f in files:\n",
    "    print(f\" + Deleting file id={f.id}\")\n",
    "    client.files.delete(file_id=f.id)"
   ]
  }
 ],
 "metadata": {
  "kernelspec": {
   "display_name": "mas",
   "language": "python",
   "name": "python3"
  },
  "language_info": {
   "codemirror_mode": {
    "name": "ipython",
    "version": 3
   },
   "file_extension": ".py",
   "mimetype": "text/x-python",
   "name": "python",
   "nbconvert_exporter": "python",
   "pygments_lexer": "ipython3",
   "version": "3.12.0"
  }
 },
 "nbformat": 4,
 "nbformat_minor": 4
}
