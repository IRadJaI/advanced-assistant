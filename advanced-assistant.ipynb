{
 "cells": [
  {
   "cell_type": "markdown",
   "metadata": {},
   "source": [
    "## Создание продвинутых ассистентов\n",
    "\n",
    "В этом ноутбуке мы попробуем создать и протестировать чат-ассистента на основе Yandex Assistant API, RAG и Function Calling.\n",
    "\n",
    "Для начала, установим Yandex Cloud ML SDK."
   ]
  },
  {
   "cell_type": "code",
   "execution_count": 9,
   "metadata": {
    "execution": {
     "iopub.execute_input": "2025-03-20T11:26:40.760420Z",
     "iopub.status.busy": "2025-03-20T11:26:40.759649Z",
     "iopub.status.idle": "2025-03-20T11:26:49.046731Z",
     "shell.execute_reply": "2025-03-20T11:26:49.045788Z",
     "shell.execute_reply.started": "2025-03-20T11:26:40.760378Z"
    },
    "tags": []
   },
   "outputs": [
    {
     "name": "stderr",
     "output_type": "stream",
     "text": [
      "WARNING: All log messages before absl::InitializeLog() is called are written to STDERR\n",
      "I0000 00:00:1742470000.768423    3331 fork_posix.cc:75] Other threads are currently calling into gRPC, skipping fork() handlers\n"
     ]
    },
    {
     "name": "stdout",
     "output_type": "stream",
     "text": [
      "Defaulting to user installation because normal site-packages is not writeable\n",
      "Requirement already satisfied: yandex-cloud-ml-sdk in /home/jupyter/.local/lib/python3.10/site-packages (0.4.1)\n",
      "Collecting yandex-cloud-ml-sdk\n",
      "  Downloading yandex_cloud_ml_sdk-0.4.2-py3-none-any.whl.metadata (4.1 kB)\n",
      "Requirement already satisfied: yandexcloud>=0.335.0 in /home/jupyter/.local/lib/python3.10/site-packages (from yandex-cloud-ml-sdk) (0.336.0)\n",
      "Requirement already satisfied: grpcio>=1.70.0 in /home/jupyter/.local/lib/python3.10/site-packages (from yandex-cloud-ml-sdk) (1.71.0)\n",
      "Requirement already satisfied: get-annotations in /home/jupyter/.local/lib/python3.10/site-packages (from yandex-cloud-ml-sdk) (0.1.2)\n",
      "Requirement already satisfied: httpx<1,>=0.27 in /home/jupyter/.local/lib/python3.10/site-packages (from yandex-cloud-ml-sdk) (0.28.1)\n",
      "Requirement already satisfied: typing-extensions>=4 in /usr/local/lib/python3.10/dist-packages (from yandex-cloud-ml-sdk) (4.7.1)\n",
      "Requirement already satisfied: aiofiles>=24.1.0 in /home/jupyter/.local/lib/python3.10/site-packages (from yandex-cloud-ml-sdk) (24.1.0)\n",
      "Requirement already satisfied: anyio in /usr/local/lib/python3.10/dist-packages (from httpx<1,>=0.27->yandex-cloud-ml-sdk) (3.7.1)\n",
      "Requirement already satisfied: certifi in /usr/local/lib/python3.10/dist-packages (from httpx<1,>=0.27->yandex-cloud-ml-sdk) (2023.7.22)\n",
      "Requirement already satisfied: httpcore==1.* in /home/jupyter/.local/lib/python3.10/site-packages (from httpx<1,>=0.27->yandex-cloud-ml-sdk) (1.0.7)\n",
      "Requirement already satisfied: idna in /usr/local/lib/python3.10/dist-packages (from httpx<1,>=0.27->yandex-cloud-ml-sdk) (3.4)\n",
      "Requirement already satisfied: h11<0.15,>=0.13 in /home/jupyter/.local/lib/python3.10/site-packages (from httpcore==1.*->httpx<1,>=0.27->yandex-cloud-ml-sdk) (0.14.0)\n",
      "Requirement already satisfied: cryptography>=44.0.0 in /home/jupyter/.local/lib/python3.10/site-packages (from yandexcloud>=0.335.0->yandex-cloud-ml-sdk) (44.0.2)\n",
      "Requirement already satisfied: protobuf<6,>=5.29.1 in /home/jupyter/.local/lib/python3.10/site-packages (from yandexcloud>=0.335.0->yandex-cloud-ml-sdk) (5.29.3)\n",
      "Requirement already satisfied: googleapis-common-protos<2,>=1.66.0 in /home/jupyter/.local/lib/python3.10/site-packages (from yandexcloud>=0.335.0->yandex-cloud-ml-sdk) (1.69.2)\n",
      "Requirement already satisfied: pyjwt<3,>=2.10.1 in /home/jupyter/.local/lib/python3.10/site-packages (from yandexcloud>=0.335.0->yandex-cloud-ml-sdk) (2.10.1)\n",
      "Requirement already satisfied: requests<3,>=2.32.3 in /home/jupyter/.local/lib/python3.10/site-packages (from yandexcloud>=0.335.0->yandex-cloud-ml-sdk) (2.32.3)\n",
      "Requirement already satisfied: six<2,>=1.17.0 in /home/jupyter/.local/lib/python3.10/site-packages (from yandexcloud>=0.335.0->yandex-cloud-ml-sdk) (1.17.0)\n",
      "Requirement already satisfied: grpcio-tools>=1.68.1 in /home/jupyter/.local/lib/python3.10/site-packages (from yandexcloud>=0.335.0->yandex-cloud-ml-sdk) (1.71.0)\n",
      "Requirement already satisfied: deprecated>=1.2.18 in /home/jupyter/.local/lib/python3.10/site-packages (from yandexcloud>=0.335.0->yandex-cloud-ml-sdk) (1.2.18)\n",
      "Requirement already satisfied: cffi>=1.12 in /usr/local/lib/python3.10/dist-packages (from cryptography>=44.0.0->yandexcloud>=0.335.0->yandex-cloud-ml-sdk) (1.15.1)\n",
      "Requirement already satisfied: wrapt<2,>=1.10 in /usr/local/lib/python3.10/dist-packages (from deprecated>=1.2.18->yandexcloud>=0.335.0->yandex-cloud-ml-sdk) (1.14.1)\n",
      "Requirement already satisfied: setuptools in /kernel/lib/python3.10/site-packages (from grpcio-tools>=1.68.1->yandexcloud>=0.335.0->yandex-cloud-ml-sdk) (65.5.0)\n",
      "Requirement already satisfied: charset-normalizer<4,>=2 in /usr/local/lib/python3.10/dist-packages (from requests<3,>=2.32.3->yandexcloud>=0.335.0->yandex-cloud-ml-sdk) (2.0.12)\n",
      "Requirement already satisfied: urllib3<3,>=1.21.1 in /usr/local/lib/python3.10/dist-packages (from requests<3,>=2.32.3->yandexcloud>=0.335.0->yandex-cloud-ml-sdk) (1.26.16)\n",
      "Requirement already satisfied: sniffio>=1.1 in /usr/local/lib/python3.10/dist-packages (from anyio->httpx<1,>=0.27->yandex-cloud-ml-sdk) (1.3.0)\n",
      "Requirement already satisfied: exceptiongroup in /usr/local/lib/python3.10/dist-packages (from anyio->httpx<1,>=0.27->yandex-cloud-ml-sdk) (1.1.2)\n",
      "Requirement already satisfied: pycparser in /usr/local/lib/python3.10/dist-packages (from cffi>=1.12->cryptography>=44.0.0->yandexcloud>=0.335.0->yandex-cloud-ml-sdk) (2.21)\n",
      "Downloading yandex_cloud_ml_sdk-0.4.2-py3-none-any.whl (119 kB)\n",
      "Installing collected packages: yandex-cloud-ml-sdk\n",
      "  Attempting uninstall: yandex-cloud-ml-sdk\n",
      "    Found existing installation: yandex-cloud-ml-sdk 0.4.1\n",
      "    Uninstalling yandex-cloud-ml-sdk-0.4.1:\n",
      "      Successfully uninstalled yandex-cloud-ml-sdk-0.4.1\n",
      "Successfully installed yandex-cloud-ml-sdk-0.4.2\n",
      "\n",
      "\u001b[1m[\u001b[0m\u001b[34;49mnotice\u001b[0m\u001b[1;39;49m]\u001b[0m\u001b[39;49m A new release of pip is available: \u001b[0m\u001b[31;49m23.0.1\u001b[0m\u001b[39;49m -> \u001b[0m\u001b[32;49m25.0.1\u001b[0m\n",
      "\u001b[1m[\u001b[0m\u001b[34;49mnotice\u001b[0m\u001b[1;39;49m]\u001b[0m\u001b[39;49m To update, run: \u001b[0m\u001b[32;49mpython3 -m pip install --upgrade pip\u001b[0m\n"
     ]
    }
   ],
   "source": [
    "%pip install --upgrade yandex-cloud-ml-sdk"
   ]
  },
  {
   "cell_type": "markdown",
   "metadata": {},
   "source": [
    "Для работы с языковыми моделями нам понадобится ключ `api_key` для сервисного аккаунта, имеющего права на доступ к модели, и `folder_id`. Мы предполагаем, что соответствующие значения хранятся в секретах Datasphere.\n",
    "\n",
    "Создадим модель последней версии YandexGPT 5 и убедимся, что она кое-что знает про вина:"
   ]
  },
  {
   "cell_type": "code",
   "execution_count": 1,
   "metadata": {
    "execution": {
     "iopub.execute_input": "2025-03-23T20:43:15.592935Z",
     "iopub.status.busy": "2025-03-23T20:43:15.591568Z",
     "iopub.status.idle": "2025-03-23T20:43:16.912656Z",
     "shell.execute_reply": "2025-03-23T20:43:16.911756Z",
     "shell.execute_reply.started": "2025-03-23T20:43:15.592870Z"
    },
    "tags": []
   },
   "outputs": [],
   "source": [
    "import os \n",
    "from yandex_cloud_ml_sdk import YCloudML\n",
    "\n",
    "folder_id = os.environ['folder_id']\n",
    "api_key = os.environ['api_key']\n",
    "\n",
    "\n",
    "sdk = YCloudML(folder_id=folder_id,auth=api_key)\n",
    "model = sdk.models.completions(\"yandexgpt\",model_version='rc')"
   ]
  },
  {
   "cell_type": "code",
   "execution_count": 3,
   "metadata": {
    "execution": {
     "iopub.execute_input": "2025-03-23T20:44:25.282863Z",
     "iopub.status.busy": "2025-03-23T20:44:25.281824Z",
     "iopub.status.idle": "2025-03-23T20:44:28.654492Z",
     "shell.execute_reply": "2025-03-23T20:44:28.653167Z",
     "shell.execute_reply.started": "2025-03-23T20:44:25.282812Z"
    },
    "tags": []
   },
   "outputs": [
    {
     "data": {
      "text/plain": [
       "'Выбор вина к устрицам зависит от ваших личных предпочтений и вида устриц. Однако есть несколько популярных сочетаний, которые могут вам понравиться:\\n\\n1. **Шардоне** (Chardonnay) — особенно хорошо подойдёт вино из региона Шабли (Chablis), так как оно обладает свежестью и минеральностью, которые подчёркивают вкус устриц.\\n\\n2. **Совиньон Блан** (Sauvignon Blanc) — особенно из регионов с прохладным климатом, таких как Марльборо (Новая Зеландия) или Сансер (Франция), может быть отличным выбором благодаря своей свежести и кислотности.\\n\\n3. **Альбариньо** (Albarino) — белое вино из Испании, которое отличается свежестью, фруктовостью и высокой кислотностью, что делает его хорошим дополнением к устрицам.\\n\\n4. **Мюскаде** (Muscadet) — белое вино из региона Луары во Франции, известное своей свежестью и минеральностью. Оно часто рекомендуется к устрицам из-за своей способности подчёркивать их вкус.\\n\\n5. **Просекко** (Prosecco) — итальянское игристое вино, которое может добавить лёгкости и свежести к блюду с устрицами.\\n\\nВажно помнить, что выбор вина зависит от личных предпочтений и может варьироваться в зависимости от конкретного вида устриц и способа их приготовления. Рекомендуется экспериментировать и находить свои идеальные сочетания.'"
      ]
     },
     "execution_count": 3,
     "metadata": {},
     "output_type": "execute_result"
    }
   ],
   "source": [
    "model.run(\"Какое вино можно пить с устрицами?\").text"
   ]
  },
  {
   "cell_type": "markdown",
   "metadata": {},
   "source": [
    "## Assistant API\n",
    "\n",
    "Для ведения беседы с моделью с сохранением контекста диалога используем Assistants API. Объект `thread` будет отвечать за сохранение контекста, а `assistant` - за все основные установки, связанные с работой ассистента."
   ]
  },
  {
   "cell_type": "code",
   "execution_count": 53,
   "metadata": {
    "execution": {
     "iopub.execute_input": "2025-03-23T22:02:07.130731Z",
     "iopub.status.busy": "2025-03-23T22:02:07.129482Z",
     "iopub.status.idle": "2025-03-23T22:02:07.165235Z",
     "shell.execute_reply": "2025-03-23T22:02:07.164314Z",
     "shell.execute_reply.started": "2025-03-23T22:02:07.130696Z"
    }
   },
   "outputs": [],
   "source": [
    "def create_thread():\n",
    "    return sdk.threads.create(name=\"Test\", ttl_days=1, expiration_policy=\"static\")\n",
    "\n",
    "def create_assistant(model,tools=None):\n",
    "    return sdk.assistants.create(model, ttl_days=1, expiration_policy=\"since_last_active\",tools=tools)"
   ]
  },
  {
   "cell_type": "code",
   "execution_count": 4,
   "metadata": {
    "execution": {
     "iopub.execute_input": "2025-03-23T20:48:41.078248Z",
     "iopub.status.busy": "2025-03-23T20:48:41.076793Z",
     "iopub.status.idle": "2025-03-23T20:48:43.706307Z",
     "shell.execute_reply": "2025-03-23T20:48:43.705390Z",
     "shell.execute_reply.started": "2025-03-23T20:48:41.078201Z"
    },
    "tags": []
   },
   "outputs": [
    {
     "name": "stdout",
     "output_type": "stream",
     "text": [
      "Здравствуйте! Чтобы подобрать наиболее подходящее вино, мне нужно узнать немного больше о ваших предпочтениях. Вы предпочитаете белое, красное или розовое вино? Есть ли у вас любимые сорта винограда или стили вин? Также важно учитывать, с какими блюдами вы планируете сочетать вино.\n"
     ]
    }
   ],
   "source": [
    "thread = create_thread()\n",
    "assistant =  create_assistant(model)\n",
    "\n",
    "assistant.update(instruction=\"Ты - опытный сомелье, задача которого - консультировать пользователя в вопросах выбора вина.\")\n",
    "\n",
    "thread.write(\"Привет! Какое вино посоветуете?\")\n",
    "\n",
    "run = assistant.run(thread)\n",
    "result = run.wait()\n",
    "\n",
    "print(result.text)"
   ]
  },
  {
   "cell_type": "code",
   "execution_count": 5,
   "metadata": {
    "execution": {
     "iopub.execute_input": "2025-03-23T20:49:00.205310Z",
     "iopub.status.busy": "2025-03-23T20:49:00.203384Z",
     "iopub.status.idle": "2025-03-23T20:49:01.992761Z",
     "shell.execute_reply": "2025-03-23T20:49:01.991764Z",
     "shell.execute_reply.started": "2025-03-23T20:49:00.205263Z"
    },
    "tags": []
   },
   "outputs": [
    {
     "name": "stdout",
     "output_type": "stream",
     "text": [
      "Отлично! Для стейка я бы порекомендовал красное вино с насыщенным вкусом и хорошей структурой. Например, можно рассмотреть вина из сортов каберне совиньон, мерло или шираз. Они отлично подчеркнут вкус мяса и добавят гармонию в сочетании с его текстурой. Если у вас есть предпочтения по стилю или региону, я могу дать более конкретные рекомендации.\n"
     ]
    }
   ],
   "source": [
    "thread.write(\"Я буду есть стейк!\")\n",
    "\n",
    "run = assistant.run(thread)\n",
    "result = run.wait()\n",
    "\n",
    "print(result.text)"
   ]
  },
  {
   "cell_type": "code",
   "execution_count": 6,
   "metadata": {
    "execution": {
     "iopub.execute_input": "2025-03-23T20:49:09.240064Z",
     "iopub.status.busy": "2025-03-23T20:49:09.238679Z",
     "iopub.status.idle": "2025-03-23T20:49:09.416629Z",
     "shell.execute_reply": "2025-03-23T20:49:09.415664Z",
     "shell.execute_reply.started": "2025-03-23T20:49:09.240017Z"
    },
    "tags": []
   },
   "outputs": [],
   "source": [
    "thread.delete()\n",
    "assistant.delete()"
   ]
  },
  {
   "cell_type": "markdown",
   "metadata": {},
   "source": [
    "## Добавляем RAG\n",
    "\n",
    "Для RAG будем использовать текстовую базу знаний по винам и винным регионам, которая хранится в виде множества файлов в директориях `source/wines` и `source/regions`. Пройдёмся по этим файлам и посмотрим на их длину в токенах."
   ]
  },
  {
   "cell_type": "code",
   "execution_count": 48,
   "metadata": {
    "execution": {
     "iopub.execute_input": "2025-03-23T21:54:12.517836Z",
     "iopub.status.busy": "2025-03-23T21:54:12.516381Z",
     "iopub.status.idle": "2025-03-23T21:54:17.846458Z",
     "shell.execute_reply": "2025-03-23T21:54:17.845514Z",
     "shell.execute_reply.started": "2025-03-23T21:54:12.517781Z"
    },
    "tags": []
   },
   "outputs": [
    {
     "data": {
      "text/html": [
       "<div>\n",
       "<style scoped>\n",
       "    .dataframe tbody tr th:only-of-type {\n",
       "        vertical-align: middle;\n",
       "    }\n",
       "\n",
       "    .dataframe tbody tr th {\n",
       "        vertical-align: top;\n",
       "    }\n",
       "\n",
       "    .dataframe thead th {\n",
       "        text-align: right;\n",
       "    }\n",
       "</style>\n",
       "<table border=\"1\" class=\"dataframe\">\n",
       "  <thead>\n",
       "    <tr style=\"text-align: right;\">\n",
       "      <th></th>\n",
       "      <th>File</th>\n",
       "      <th>Tokens</th>\n",
       "      <th>Chars</th>\n",
       "      <th>Category</th>\n",
       "    </tr>\n",
       "  </thead>\n",
       "  <tbody>\n",
       "    <tr>\n",
       "      <th>0</th>\n",
       "      <td>source/regions/Абруццо.md</td>\n",
       "      <td>499</td>\n",
       "      <td>2022</td>\n",
       "      <td>regions</td>\n",
       "    </tr>\n",
       "    <tr>\n",
       "      <th>1</th>\n",
       "      <td>source/regions/Азорские острова.md</td>\n",
       "      <td>409</td>\n",
       "      <td>1809</td>\n",
       "      <td>regions</td>\n",
       "    </tr>\n",
       "    <tr>\n",
       "      <th>2</th>\n",
       "      <td>source/regions/Аконкагуа.md</td>\n",
       "      <td>278</td>\n",
       "      <td>1182</td>\n",
       "      <td>regions</td>\n",
       "    </tr>\n",
       "    <tr>\n",
       "      <th>3</th>\n",
       "      <td>source/regions/Алентежу.md</td>\n",
       "      <td>320</td>\n",
       "      <td>1216</td>\n",
       "      <td>regions</td>\n",
       "    </tr>\n",
       "    <tr>\n",
       "      <th>4</th>\n",
       "      <td>source/regions/Апулия.md</td>\n",
       "      <td>489</td>\n",
       "      <td>1918</td>\n",
       "      <td>regions</td>\n",
       "    </tr>\n",
       "    <tr>\n",
       "      <th>...</th>\n",
       "      <td>...</td>\n",
       "      <td>...</td>\n",
       "      <td>...</td>\n",
       "      <td>...</td>\n",
       "    </tr>\n",
       "    <tr>\n",
       "      <th>125</th>\n",
       "      <td>source/wines/Совиньон блан.md</td>\n",
       "      <td>634</td>\n",
       "      <td>2578</td>\n",
       "      <td>wines</td>\n",
       "    </tr>\n",
       "    <tr>\n",
       "      <th>126</th>\n",
       "      <td>source/wines/Темпранильо.md</td>\n",
       "      <td>637</td>\n",
       "      <td>2323</td>\n",
       "      <td>wines</td>\n",
       "    </tr>\n",
       "    <tr>\n",
       "      <th>127</th>\n",
       "      <td>source/wines/Цвайгельт.md</td>\n",
       "      <td>663</td>\n",
       "      <td>2620</td>\n",
       "      <td>wines</td>\n",
       "    </tr>\n",
       "    <tr>\n",
       "      <th>128</th>\n",
       "      <td>source/wines/Шардоне.md</td>\n",
       "      <td>567</td>\n",
       "      <td>2407</td>\n",
       "      <td>wines</td>\n",
       "    </tr>\n",
       "    <tr>\n",
       "      <th>129</th>\n",
       "      <td>source/wines/Шенен блан.md</td>\n",
       "      <td>614</td>\n",
       "      <td>2606</td>\n",
       "      <td>wines</td>\n",
       "    </tr>\n",
       "  </tbody>\n",
       "</table>\n",
       "<p>130 rows × 4 columns</p>\n",
       "</div>"
      ],
      "text/plain": [
       "                                   File  Tokens  Chars Category\n",
       "0             source/regions/Абруццо.md     499   2022  regions\n",
       "1    source/regions/Азорские острова.md     409   1809  regions\n",
       "2           source/regions/Аконкагуа.md     278   1182  regions\n",
       "3            source/regions/Алентежу.md     320   1216  regions\n",
       "4              source/regions/Апулия.md     489   1918  regions\n",
       "..                                  ...     ...    ...      ...\n",
       "125       source/wines/Совиньон блан.md     634   2578    wines\n",
       "126         source/wines/Темпранильо.md     637   2323    wines\n",
       "127           source/wines/Цвайгельт.md     663   2620    wines\n",
       "128             source/wines/Шардоне.md     567   2407    wines\n",
       "129          source/wines/Шенен блан.md     614   2606    wines\n",
       "\n",
       "[130 rows x 4 columns]"
      ]
     },
     "execution_count": 48,
     "metadata": {},
     "output_type": "execute_result"
    }
   ],
   "source": [
    "from glob import glob\n",
    "from tqdm.auto import tqdm\n",
    "import pandas as pd\n",
    "\n",
    "def get_token_count(filename):\n",
    "    with open(filename,'r',encoding='utf8') as f:\n",
    "        return len(model.tokenize(f.read()))\n",
    "\n",
    "def get_file_len(filename):\n",
    "    with open(filename,encoding='utf-8') as f:\n",
    "        l = len(f.read())\n",
    "    return l\n",
    "    \n",
    "d = [\n",
    "        {\n",
    "            \"File\" : fn,\n",
    "            \"Tokens\" : get_token_count(fn),\n",
    "            \"Chars\" : get_file_len(fn),\n",
    "            \"Category\" : fn.split('/')[1]\n",
    "        } \n",
    "    for fn in glob('source/*/*.md')\n",
    "    if fn.count('/') == 2\n",
    "]\n",
    "\n",
    "df = pd.DataFrame(d)\n",
    "df"
   ]
  },
  {
   "cell_type": "markdown",
   "metadata": {},
   "source": [
    "Посмотрим на среднюю, мин и макс длину фрагментов:"
   ]
  },
  {
   "cell_type": "code",
   "execution_count": 8,
   "metadata": {
    "execution": {
     "iopub.execute_input": "2025-03-23T20:50:09.749013Z",
     "iopub.status.busy": "2025-03-23T20:50:09.747614Z",
     "iopub.status.idle": "2025-03-23T20:50:09.786115Z",
     "shell.execute_reply": "2025-03-23T20:50:09.785192Z",
     "shell.execute_reply.started": "2025-03-23T20:50:09.748953Z"
    },
    "tags": []
   },
   "outputs": [
    {
     "data": {
      "text/html": [
       "<div>\n",
       "<style scoped>\n",
       "    .dataframe tbody tr th:only-of-type {\n",
       "        vertical-align: middle;\n",
       "    }\n",
       "\n",
       "    .dataframe tbody tr th {\n",
       "        vertical-align: top;\n",
       "    }\n",
       "\n",
       "    .dataframe thead tr th {\n",
       "        text-align: left;\n",
       "    }\n",
       "\n",
       "    .dataframe thead tr:last-of-type th {\n",
       "        text-align: right;\n",
       "    }\n",
       "</style>\n",
       "<table border=\"1\" class=\"dataframe\">\n",
       "  <thead>\n",
       "    <tr>\n",
       "      <th></th>\n",
       "      <th colspan=\"3\" halign=\"left\">Tokens</th>\n",
       "    </tr>\n",
       "    <tr>\n",
       "      <th></th>\n",
       "      <th>min</th>\n",
       "      <th>mean</th>\n",
       "      <th>max</th>\n",
       "    </tr>\n",
       "    <tr>\n",
       "      <th>Category</th>\n",
       "      <th></th>\n",
       "      <th></th>\n",
       "      <th></th>\n",
       "    </tr>\n",
       "  </thead>\n",
       "  <tbody>\n",
       "    <tr>\n",
       "      <th>regions</th>\n",
       "      <td>153</td>\n",
       "      <td>423.340000</td>\n",
       "      <td>683</td>\n",
       "    </tr>\n",
       "    <tr>\n",
       "      <th>wines</th>\n",
       "      <td>264</td>\n",
       "      <td>551.366667</td>\n",
       "      <td>664</td>\n",
       "    </tr>\n",
       "  </tbody>\n",
       "</table>\n",
       "</div>"
      ],
      "text/plain": [
       "         Tokens                 \n",
       "            min        mean  max\n",
       "Category                        \n",
       "regions     153  423.340000  683\n",
       "wines       264  551.366667  664"
      ]
     },
     "execution_count": 8,
     "metadata": {},
     "output_type": "execute_result"
    }
   ],
   "source": [
    "df.groupby('Category').agg({ 'Tokens' : ('min','mean','max') })"
   ]
  },
  {
   "cell_type": "markdown",
   "metadata": {},
   "source": [
    "Мы видим, что фрагменты не превышают 700 токенов, и это значит, что нам не придётся прибегать к какой-либо стратегии чанкования. Это идеальная ситуация, когда текстовая база знаний разбита вручную на небольшие фрагменты текста.\n",
    "\n",
    "## Загружаем файлы в облако\n",
    "\n",
    "Чтобы RAG мог осущетвлять поиск по фрагментам файлов, нам необходимо построить индекс, а перед этим - загрузить все файлы в облако."
   ]
  },
  {
   "cell_type": "code",
   "execution_count": 50,
   "metadata": {
    "execution": {
     "iopub.execute_input": "2025-03-23T22:00:16.946274Z",
     "iopub.status.busy": "2025-03-23T22:00:16.944517Z",
     "iopub.status.idle": "2025-03-23T22:00:27.520398Z",
     "shell.execute_reply": "2025-03-23T22:00:27.519328Z",
     "shell.execute_reply.started": "2025-03-23T22:00:16.946218Z"
    },
    "tags": []
   },
   "outputs": [],
   "source": [
    "def upload_file(filename):\n",
    "    return sdk.files.upload(filename,ttl_days=5,expiration_policy=\"static\")\n",
    "\n",
    "df[\"Uploaded\"] = df['File'].apply(upload_file)"
   ]
  },
  {
   "cell_type": "markdown",
   "metadata": {},
   "source": [
    "## Строим индекс\n",
    "\n",
    "Для индексации файлов можно применять следующие стратегии:\n",
    "* Поиск по эмбеддингам (векторный поиск) - по всем фрагментам текста вычисляются эмбеддинги, и в процессе поиска осуществляется векторный поиск между эмбеддингом запроса и эмбеддингом фрагмента. Это позволяет осуществлять семантический поиск\n",
    "* Поиск по ключевым словам\n",
    "* Гибридный поиск, в котором различными способами объединяются результаты поиска по ключевым словам и вектороного поиска.\n",
    "\n",
    "Также в процессе создания индекса мы указываем **стратегию чанкования** текстов, но в нашем случае она не будет применяться.\n",
    "\n",
    "> Поскольку есть ограничение на 100 добавляемых в индекс файлов, то будем добавлять фрагменты по винам и по регионам по-очереди."
   ]
  },
  {
   "cell_type": "code",
   "execution_count": 51,
   "metadata": {
    "execution": {
     "iopub.execute_input": "2025-03-23T22:00:32.299351Z",
     "iopub.status.busy": "2025-03-23T22:00:32.298193Z",
     "iopub.status.idle": "2025-03-23T22:00:43.144376Z",
     "shell.execute_reply": "2025-03-23T22:00:43.143345Z",
     "shell.execute_reply.started": "2025-03-23T22:00:32.299304Z"
    },
    "tags": []
   },
   "outputs": [],
   "source": [
    "from yandex_cloud_ml_sdk.search_indexes import (\n",
    "    StaticIndexChunkingStrategy,\n",
    "    HybridSearchIndexType,\n",
    "    ReciprocalRankFusionIndexCombinationStrategy)\n",
    "\n",
    "op = sdk.search_indexes.create_deferred(\n",
    "    df[df[\"Category\"]==\"wines\"][\"Uploaded\"],\n",
    "    index_type = HybridSearchIndexType(\n",
    "        chunking_strategy=StaticIndexChunkingStrategy(\n",
    "            max_chunk_size_tokens = 1000,\n",
    "            chunk_overlap_tokens = 100),\n",
    "        combination_strategy=ReciprocalRankFusionIndexCombinationStrategy()))\n",
    "index = op.wait()"
   ]
  },
  {
   "cell_type": "code",
   "execution_count": 52,
   "metadata": {
    "execution": {
     "iopub.execute_input": "2025-03-23T22:00:56.145945Z",
     "iopub.status.busy": "2025-03-23T22:00:56.144704Z",
     "iopub.status.idle": "2025-03-23T22:01:06.652260Z",
     "shell.execute_reply": "2025-03-23T22:01:06.651342Z",
     "shell.execute_reply.started": "2025-03-23T22:00:56.145897Z"
    },
    "tags": []
   },
   "outputs": [],
   "source": [
    "op = index.add_files_deferred(df[df[\"Category\"]==\"regions\"][\"Uploaded\"])\n",
    "xfiles = op.wait()"
   ]
  },
  {
   "cell_type": "markdown",
   "metadata": {},
   "source": [
    "## Собираем RAG-ассистента\n",
    "\n",
    "Теперь собираем собственно ассистента, который будет использовать RAG. Для этого определяем **инструмент** (tool) для поиска в нашем индексе, и указываем его при создании ассистента. Также важно задать хорошую инструкцию для ассистента (системный промпт): "
   ]
  },
  {
   "cell_type": "code",
   "execution_count": 54,
   "metadata": {
    "execution": {
     "iopub.execute_input": "2025-03-23T22:02:38.545937Z",
     "iopub.status.busy": "2025-03-23T22:02:38.544746Z",
     "iopub.status.idle": "2025-03-23T22:02:39.447719Z",
     "shell.execute_reply": "2025-03-23T22:02:39.446818Z",
     "shell.execute_reply.started": "2025-03-23T22:02:38.545884Z"
    },
    "tags": []
   },
   "outputs": [
    {
     "data": {
      "text/plain": [
       "Assistant(id='fvtmvb0aut85av2dkoqa', expiration_config=ExpirationConfig(ttl_days=1, expiration_policy=<ExpirationPolicy.SINCE_LAST_ACTIVE: 2>), model=GPTModel(uri=gpt://b1gbicod0scglhd49qs0/yandexgpt/rc, config=GPTModelConfig(temperature=None, max_tokens=None, reasoning_mode=None, response_format=None)), instruction='\\nТы - опытный сомелье, в задачу которого входит отвечать на вопросы пользователя про вина\\nи рекомендовать лучшие вина к еде. Посмотри на всю имеющуюся в твоем распоряжении информацию\\nи выдай одну или несколько лучших рекомендаций. Если что-то непонятно, то лучше уточни информацию\\nу пользователя.\\n', max_prompt_tokens=None, tools=(SearchIndexTool(search_index_ids=('fvtorsgmaqdsepnb17g8',), max_num_results=None),), name=None, description=None, created_by='ajej20rll4tifkelclga', created_at=datetime.datetime(2025, 3, 23, 22, 2, 38, 943138), updated_by='ajej20rll4tifkelclga', updated_at=datetime.datetime(2025, 3, 23, 22, 2, 39, 395477), expires_at=datetime.datetime(2025, 3, 24, 22, 2, 38, 943138), labels=None)"
      ]
     },
     "execution_count": 54,
     "metadata": {},
     "output_type": "execute_result"
    }
   ],
   "source": [
    "search_tool = sdk.tools.search_index(index)\n",
    "\n",
    "assistant = create_assistant(model, tools=[search_tool])\n",
    "thread = create_thread()\n",
    "\n",
    "instruction=\"\"\"\n",
    "Ты - опытный сомелье, в задачу которого входит отвечать на вопросы пользователя про вина\n",
    "и рекомендовать лучшие вина к еде. Посмотри на всю имеющуюся в твоем распоряжении информацию\n",
    "и выдай одну или несколько лучших рекомендаций. Если что-то непонятно, то лучше уточни информацию\n",
    "у пользователя.\n",
    "\"\"\"\n",
    "\n",
    "_ = assistant.update(instruction=instruction)"
   ]
  },
  {
   "cell_type": "code",
   "execution_count": 55,
   "metadata": {
    "execution": {
     "iopub.execute_input": "2025-03-23T22:03:20.040634Z",
     "iopub.status.busy": "2025-03-23T22:03:20.039468Z",
     "iopub.status.idle": "2025-03-23T22:03:25.013220Z",
     "shell.execute_reply": "2025-03-23T22:03:25.012254Z",
     "shell.execute_reply.started": "2025-03-23T22:03:20.040580Z"
    },
    "tags": []
   },
   "outputs": [
    {
     "name": "stdout",
     "output_type": "stream",
     "text": [
      "К стейку подойдут следующие вина:\n",
      "\n",
      "* **Пинотаж из Франшхука (ЮАР)** — универсальное вино, которое хорошо сочетается с различными блюдами, включая стейки из говядины.\n",
      "* **Шираз из Франшхука (ЮАР)** — красное вино с насыщенным вкусом, которое хорошо гармонирует с перчёными стейками из говядины и баранины.\n",
      "* **Черасуоло ди Виттория (Сицилия, Италия)** — гармонирует с тушёной говядиной и мясом на вертеле.\n",
      "* **Красное сухое вино из долины Маллеко (Чили, регион Сур)** — хорошо сочетается со стейком на гриле.\n",
      "* **Пино нуар из Орегона (США)** — будет хорошо сочетаться со стейком из лосося и красным мясом, например, говядиной по-бургундски.\n",
      "* **Сира или шираз** — благодаря сильному характеру и содержанию танинов особенно хорошо дополняют блюда из красного мяса, например, ростбиф или мясные рулеты.\n"
     ]
    }
   ],
   "source": [
    "thread.write(\"Какое вино подходит к стейку?\")\n",
    "run = assistant.run(thread)\n",
    "\n",
    "result = run.wait()\n",
    "print(result.text)"
   ]
  },
  {
   "cell_type": "markdown",
   "metadata": {},
   "source": [
    "Посмотрим, из каких источников был получен этот ответ:"
   ]
  },
  {
   "cell_type": "code",
   "execution_count": 59,
   "metadata": {
    "execution": {
     "iopub.execute_input": "2025-03-23T22:07:14.601305Z",
     "iopub.status.busy": "2025-03-23T22:07:14.599979Z",
     "iopub.status.idle": "2025-03-23T22:07:14.615810Z",
     "shell.execute_reply": "2025-03-23T22:07:14.614540Z",
     "shell.execute_reply.started": "2025-03-23T22:07:14.601250Z"
    },
    "tags": []
   },
   "outputs": [
    {
     "name": "stdout",
     "output_type": "stream",
     "text": [
      "------------------------\n",
      "## Франшхук \n",
      "\n",
      "Франшхук\n",
      "Франшхук — крупная винодельческая провинция Южной Африки. Территориально относится к региону Стелленбош, расположена в 75 км от Кейптауна — столицы ЮАР. Деревню основали беглые французы в 1688 году. Получив земельные наделы, они разбили виноградники и наладили производство напитков. Сегодня Франшхук называют винной столицей ЮАР. На карте провинции можно насчитать 11 крупных винодельческих хозяйств. Деревня Франшхук известна необычным терруаром: она расположена в продолговатой долине и с трех сторон окружена высокими горами, которые защищают виноградники от ветра, излишней влаги зимой и палящего солнца летом. При этом четвертая сторона долины открыта для ветров Атлантики. Климат здесь умеренный, а температура воздуха ниже, чем в соседних областях. Виноград созревает медленнее, чем на открытой африканской местности, что делает вино более свежим и кислотным. В Франшхуке наиболее распространены известные европейские сорта, завезенные французами в XVII веке. Здесь выращивают белые шенен блан, семильон, совиньон блан и шардоне. Среди красных популярны каберне совиньон, шираз и мерло. Значительная часть плантаций занята под пинотаж — автохтонный сорт, ставший визитной карточкой страны. Линейка традиционных вин из европейских сортов в ЮАР открывается совершенно по-новому. Сухие гранитные почвы придают напиткам явную минеральность. Белые вина приобретают золотистый оттенок и аромат южных фруктов, красные — насыщенный цвет и аромат. Оттенок может варьироваться от ярко-рубинового до глубокого фиолетового. Их часто сравнивают с бургундскими напитками. С 1992 года в долине Франшхук производят игристые вина премиального качества из шардоне и пино нуар по классическому методу. Белые вина Франшхука — прекрасный аперитив. Они подходят к легким сырам, закускам из гусиного паштета и курицы. Среди горячих блюд стоит выбрать индейку, запеченную белую рыбу с овощным гарниром или рагу. Красные южноафриканские сорта хорошо гармонируют с перчеными стейками из говядины и баранины, а также твердыми, выдержанными сырами. Пинотаж при этом считается универсальным вином. Ему подходят разнообразные блюда от изысканного филе миньон до лазаньи и пиццы с морепродуктами.\n",
      "------------------------\n",
      "## Сицилия \n",
      "\n",
      "Сицилия\n",
      "Сицилия — регион на юге Италии. В его состав входит одноименный и самый большой в Средиземном море остров и несколько более мелких островов рядом с ним. На восточном побережье Сицилии возвышается Этна — самый высокий действующий вулкан в Европе. Помимо итальянского в регионе говорят на сицилийском языке. Административный центр Сицилии — Палермо. Это самый южный из винодельческих регионов Италии. Здесь около 120 тысяч га виноградников. С начала нулевых на Сицилии бурно развивается производство вулканических вин. Их производят из винограда, выросшего у подножия Этны. Пепел самого высокого действующего вулкана Европы богат микроэлементами, поэтому местные почвы очень плодородны. И, главное, в таких условиях нет шанса у филлоксеры. К наиболее значимым местным сортам относят красный неро д'авола. Также на Сицилии популярны красные гренаш, перриконе и ночера. Из белых стоит отметить катаратто — его смешивают с сортами грилло и инзолия и производят легендарное крепленое вино марсала. Также популярные былые греканико, александрийский мускат и типичный итальянский треббьяно. Король вулканических красных сортов — нерелло маскалезе с ароматами спелой вишни, пряностей, табака и трав. У подножия Этны успешно выращивают белый автохтонный сорт карриканте. Он обладает спокойной минеральностью, цитрусово-травянистым тонами и вкусом, который ассоциируют с чистым воздухом гор. Легендарная сицилийская крепленая марсала — нежная, яркая и фруктовая. По популярности с ней сопоставим разве что москато ди пантеллерия (Moscato di Pantelleria) из александрийского муската. Из красных вин особого внимания заслуживает черасуоло ди виттория (Cerasuolo di Vittoria) — сицилийское вино наивысшего качества (DOCG). Ну и, конечно, легендарные вулканические вина. Сорт нерелло маскалезе отдает вину высокие танины, кислотность, ягодные ноты и минеральные оттенки. Хрустящие вина из белого карриканте выделяются свежестью, минеральностью, лёгкой солоноватостью. В их аромате слышны яблоки, цитрусы, анис. Крепленая марсала прекрасна в любом виде: сладкая подходит на роль аперитива, полусухая играет с фруктовыми салатами или сицилийскими канноли, а сухая — с теплым мясным салатом или супом. Сладкие сицилийские мускаты отлично подойдут в пару к козьим сырам и пирогам типа нежного киша с сыром. Красное черасуоло ди виттория гармонирует с тушеной говядиной, жареной курицей или мясом на вертеле. И, пожалуй, все вина стоит попробовать в сочетании с местными сырными шариками аранчини с разными начинками. Идеальной парой для белого вина из вулканического винограда карриканте станут креветки, равиоли с травами или ризотто.\n",
      "------------------------\n",
      "## Сур \n",
      "\n",
      "Сур\n",
      "Сур — винодельческий субрегион в Чили, один из самых южных в стране. В его границах выделяют долины Итата, Био-Био, Маллеко. Чилийские вина олицетворяют стиль Нового Света, для них характерен мягкий фруктовый вкус. По одной из версий, первые лозы в Чили завезли с территории Перу в XVI веке. Виноделием занимались христианские миссионеры, выращивали преимущественно красный сорт мишн, белые делали из москателя. До середины XIX века здесь были популярны сладкие вина. В долине Итата первые лозы высадили в середине XVI века после создания порта Консепсьон. Почвы здесь с хорошим дренажем, климат средиземноморский с продолжительным сухим сезоном. В Био-Био и Маллеко прохладно из-за воздушных потоков с океана. Виноград успевает вызревать благодаря большому количеству теплых дней. В Суре выращивают совиньон блан, шардоне, рислинг, вионье, гевюрцтраминер, мускат. Сур известен столовыми винами. Климат в регионе умеренный, близкий к погодным условиям Франции, поэтому местные виноделы стали выпускать и более элегантные напитки. Условия в долинах Био-Био и Итата отлично подходят для культивирования шардоне, совиньон блан, рислинга, из которых делают белые вина. Здесь хорошо растет пино нуар, из него получают красные вина. Розовые вина из долины Итата хороши со свежими фруктами, десертами, сырами, ветчиной; белые сладкие — с десертами, фруктами. Белое полусухое из Био-Био составит отличную пару с блюдами индийской и азиатской кухонь, курице, овощам. Красное сухое из Маллеко сочетается с запеченными овощами, свининой, стейком на гриле.\n",
      "------------------------\n",
      "## Орегон \n",
      "\n",
      "Орегон\n",
      "Орегон — четвертый по объемам производства вина штат в США. Самый популярный сорт винограда, который выращивают здесь, — пино нуар. Вина из этого сорта отличает высокая кислотность и низкая танинность. Выращивать виноград в Орегоне начали еще в 1840-х, но датой зарождения серьезного виноделия называют 1961 год, когда любители бургундского пино нуар Ричард Соммер и Дэвид Летт решили производить похожее вино в Америке. Для этого был выбран Орегон — прохладный климат и разнообразие почв позволили добиться успеха. Уже в 1979 пино нуар из Орегона вошло в десятку вин в бургундском стиле на французской винной Олимпиаде. Его отличают более яркие ноты фруктов и более низкая кислотность. Прохладный климат Орегона хорошо подходит для выращивания таких сортов винограда, как рислинг, шардоне и гаме, но визитной карточкой штата считается пино нуар, который растет в долине Уилламетт. Менее популярны мерло, каберне совиньон, зинфандель. В Орегоне производят сухие, полусухие, а также игристые и десертные вина. Пино нуар из Орегона будет хорошо сочетаться со стейком из лосося, запеченной птицей и красным мясом, например, говядиной по-бургундски.\n",
      "------------------------\n",
      "## Сира \n",
      "\n",
      "Сира\n",
      "Сирa — сорт красного винного винограда родом из долины Роны во Франции (фр. Syrah). В 1832 году был завезен в Австралию, где стал флагманским сортом красного винограда и сменил имя на шираз. Сегодня производители вин из Франции, Италии, Испании предпочитают маркировку сира, а австралийские и африканские — шираз. Исследования ДНК 1998 года, проведенные в Калифорнийском университете, доказали, что сира появился на территории современного региона Овернь-Рона-Альпы от двух второстепенных локальных сортов — дурез и мондез бланш. Однако возраст винограда установить не удалось. Из сорта сира производят купажированные и сепажные красные вина насыщенных оттенков: от темно-рубинового до фиолетового. Плюс розовые легкие (до 12% крепости) в ассамбляже с белыми сортами. Хотя технически сира и шираз — один и тот же сорт, крепость и вкус вина зависят от терруара. Вина прохладной Франции содержат 13–14% алкоголя, обладают землистым, травяным флером, нотами дыма, перца и фиалки. Шираз из засушливой Австралии более крепкий (до 16%) и фруктовый, с нотами ягод и специй. Благодаря сильному характеру и щедрому содержанию танинов, сира и шираз особенно хорошо дополняют выдержанные сыры, сыровяленые колбасные деликатесы, блюда из красного мяса и дичи: бараньи или свиные ребрышки, мясной рулет из телятины, ростбиф в хрустящем фило. В вегетарианское меню можно внести грибы на гриле, баклажаны Пармиджано и пикантные тако с черной фасолью. А вот нежных молодых сыров, легких овощных блюд и морепродуктов лучше избегать. По одной из легенд о происхождении, сорт сира во Францию привезли из Ирана. В Ширазе, бывшей столице Персидской империи, производили вино ширази. У сорт сира есть гибрид — маленькая или пти сира (фр. Petit Syrah), появившаяся в результате скрещивания сиры и пелурсена. Пти сира растет в Австралии, Калифорнии и Франции, а также популярна в США. Из ягод, изобилующих танинами, производят красные вина с густым чернильным вкусом. Чтобы смягчить алкогольный профиль, сиру и шираз лучше подавать слегка охлажденными — 15 минут в холодильнике будет достаточно.\n"
     ]
    }
   ],
   "source": [
    "def print_citations(result):\n",
    "    for citation in result.citations:\n",
    "        for source in citation.sources:\n",
    "            if source.type != 'filechunk':\n",
    "                continue\n",
    "            print('------------------------')\n",
    "            print(source.parts[0])\n",
    "            \n",
    "print_citations(result)"
   ]
  },
  {
   "cell_type": "code",
   "execution_count": 60,
   "metadata": {
    "execution": {
     "iopub.execute_input": "2025-03-23T22:07:38.433026Z",
     "iopub.status.busy": "2025-03-23T22:07:38.431905Z",
     "iopub.status.idle": "2025-03-23T22:07:38.770554Z",
     "shell.execute_reply": "2025-03-23T22:07:38.769607Z",
     "shell.execute_reply.started": "2025-03-23T22:07:38.432978Z"
    }
   },
   "outputs": [],
   "source": [
    "thread.delete()"
   ]
  },
  {
   "cell_type": "markdown",
   "metadata": {},
   "source": [
    "Мы видим, что ответ получился несколько однобоким, поскольку данные о сочетании вин и еды содержатся в текстовой базе знаний в разрозненном виде.\n",
    "\n",
    "## Добавляем таблицу соответствий\n",
    "\n",
    "Поскольку подбор блюда к вину является частой задачей, добавим к нашей базе знаний явную табличку соответствий блюд и вин, которая находится в файле `source/food_wine_table.md` в формате markdown."
   ]
  },
  {
   "cell_type": "code",
   "execution_count": 61,
   "metadata": {
    "execution": {
     "iopub.execute_input": "2025-03-23T22:10:33.635477Z",
     "iopub.status.busy": "2025-03-23T22:10:33.633978Z",
     "iopub.status.idle": "2025-03-23T22:10:34.017670Z",
     "shell.execute_reply": "2025-03-23T22:10:34.016725Z",
     "shell.execute_reply.started": "2025-03-23T22:10:33.635426Z"
    },
    "tags": []
   },
   "outputs": [
    {
     "name": "stdout",
     "output_type": "stream",
     "text": [
      "Токенов: 12630, 3.3103721298495645 chars/token\n"
     ]
    }
   ],
   "source": [
    "with open('source/food_wine_table.md',encoding='utf-8') as f:\n",
    "    food_wine = f.readlines()\n",
    "fw = ''.join(food_wine)\n",
    "\n",
    "tokens = len(model.tokenize(fw))\n",
    "print(f\"Токенов: {tokens}, {len(fw)/tokens} chars/token\")"
   ]
  },
  {
   "cell_type": "markdown",
   "metadata": {},
   "source": [
    "Видим, что табличка большая, поэтому её придётся *чанковать*. Но при этом важно чанковать табличку так, чтобы в каждом фрагмента оставался заголовок таблицы, который определяет семантику столбцов.\n",
    "\n",
    "Отделим заголовок таблицы:"
   ]
  },
  {
   "cell_type": "code",
   "execution_count": 42,
   "metadata": {
    "execution": {
     "iopub.execute_input": "2025-03-23T21:47:43.677757Z",
     "iopub.status.busy": "2025-03-23T21:47:43.676468Z",
     "iopub.status.idle": "2025-03-23T21:47:43.757326Z",
     "shell.execute_reply": "2025-03-23T21:47:43.756373Z",
     "shell.execute_reply.started": "2025-03-23T21:47:43.677709Z"
    },
    "tags": []
   },
   "outputs": [
    {
     "data": {
      "text/plain": [
       "['Продукт | Вино, которое подходит к этому продукту\\n', '--------|--------\\n']"
      ]
     },
     "execution_count": 42,
     "metadata": {},
     "output_type": "execute_result"
    }
   ],
   "source": [
    "header=food_wine[:2]\n",
    "header"
   ]
  },
  {
   "cell_type": "markdown",
   "metadata": {},
   "source": [
    "Ниже будем чанковать табличку вручную, задав размер чанка в символах для простоты. Мы будем сразу загружать получившиеся фрагменты в облако, минуя диск:"
   ]
  },
  {
   "cell_type": "code",
   "execution_count": 62,
   "metadata": {
    "execution": {
     "iopub.execute_input": "2025-03-23T22:12:28.510661Z",
     "iopub.status.busy": "2025-03-23T22:12:28.509297Z",
     "iopub.status.idle": "2025-03-23T22:12:31.324846Z",
     "shell.execute_reply": "2025-03-23T22:12:31.323932Z",
     "shell.execute_reply.started": "2025-03-23T22:12:28.510608Z"
    },
    "tags": []
   },
   "outputs": [
    {
     "name": "stdout",
     "output_type": "stream",
     "text": [
      "Uploaded 21 table chunks\n"
     ]
    }
   ],
   "source": [
    "chunk_size = 600 * 3 # approx 600 tokens * 2 char/token\n",
    "\n",
    "s = header.copy()\n",
    "uploaded_foodwine = []\n",
    "for x in food_wine[2:]:\n",
    "    s.append(x)\n",
    "    if len(''.join(s))>chunk_size:\n",
    "        id = sdk.files.upload_bytes(''.join(s).encode(),ttl_days=5,expiration_policy=\"static\")\n",
    "        uploaded_foodwine.append(id)\n",
    "        s = header.copy()\n",
    "print(f\"Uploaded {len(uploaded_foodwine)} table chunks\")"
   ]
  },
  {
   "cell_type": "markdown",
   "metadata": {},
   "source": [
    "Теперь добавим эти фрагменты в индекс:"
   ]
  },
  {
   "cell_type": "code",
   "execution_count": 63,
   "metadata": {
    "execution": {
     "iopub.execute_input": "2025-03-23T22:12:36.227889Z",
     "iopub.status.busy": "2025-03-23T22:12:36.227001Z",
     "iopub.status.idle": "2025-03-23T22:12:46.990535Z",
     "shell.execute_reply": "2025-03-23T22:12:46.989621Z",
     "shell.execute_reply.started": "2025-03-23T22:12:36.227845Z"
    },
    "tags": []
   },
   "outputs": [],
   "source": [
    "op = index.add_files_deferred(uploaded_foodwine)\n",
    "xfiles = op.wait()"
   ]
  },
  {
   "cell_type": "markdown",
   "metadata": {},
   "source": [
    "Посмотрим, стал ли ответ системы лучше:"
   ]
  },
  {
   "cell_type": "code",
   "execution_count": 64,
   "metadata": {
    "execution": {
     "iopub.execute_input": "2025-03-23T22:13:14.679304Z",
     "iopub.status.busy": "2025-03-23T22:13:14.677946Z",
     "iopub.status.idle": "2025-03-23T22:13:21.164814Z",
     "shell.execute_reply": "2025-03-23T22:13:21.163786Z",
     "shell.execute_reply.started": "2025-03-23T22:13:14.679250Z"
    },
    "tags": []
   },
   "outputs": [
    {
     "name": "stdout",
     "output_type": "stream",
     "text": [
      "Выбор вина к стейку зависит от его вида и степени прожарки.\n",
      "\n",
      "1. **Стейк из мраморной нежной говядины (Филе-миньон)**: подойдут лёгкие и элегантные красные вина из винограда Пино Нуар, Нерелло Маскалезе, элегантно сделанное и выдержанное Мерло. Также можно выбрать «округлые», выдержанные варианты из сортов Неббиоло (Барбареско), Темпранильо (Рибейра дель Дуэро), Санджовезе (Кьянти Ризерва).\n",
      "\n",
      "2. **Стейк из мраморной жирноватой говядины (Рибай и пр.)**:\n",
      "* Для прожарки Rare — выдержанные и «благородные» вина из Темпранильо (Рибейра дель Дуэро или любые от Ризервы и выше), Санджовезе (Кьянти Ризерва, Брунелло), «супертосканские» вина, Бордо Правого берега, шелковистые аргентинские Мальбеки.\n",
      "* Для прожарки Medium или WellDone — сухие и полусухие из винограда Сира (Шираз), Каберне Совиньон, «тельный» Мальбек, Примитиво, Зинфандель, Альянико (выдержанное и слегка «округлившееся»), выдержанный «ронский» ассамбляж Гренаш+Сира+Мурведр, вина Приората от 6–8 лет выдержки и выше.\n",
      "------------------------\n",
      "Продукт | Вино, которое подходит к этому продукту\n",
      "--------|--------\n",
      "Свинина стейк жареный с луком | Красные вина: сухие и полусухие вина из винограда Гарнача (Гренаш), Мерло, Карменер, Менсия, «тельные» Пино Нуары (со всего света), российский Красностоп, Гамэ (Божоле Виляж). Сельдь с лучком (закуска) | Крепкие напитки: Самогоны (Полугар, Хлебное вино), Водка, Хреновуха, Перцовка. Для глобальных приверженцев вина — тельный, сладковатый и мощновкусный Рислинг. Солянка (первое блюдо) | Крепкие напитки: Самогоны (Полугар, Хлебное вино), Водка, Хреновуха, Перцовка. Спагетти Карбонара | Белые вина: сухие выдержанные вина из Шардоне и Вердехо. Розовые вина: среднетелые и «тельные» вина Франции, Италии, Испании, России. Красные вина:  выдержанное «округлое» Неббило, элегантные Пино Нуары, Нерелло Маскалезе. Спагетти Болоньезе | Красные вина: сухие из винограда Санджовезе, Барбера, Неро д’Авола, Негроамаро, молодые Неббило, а также международные — Каберне Совиньон, молодоватое испанское Темпранильо. Спаржа обжаренная | Белые вина: тихое сухое из сорта Шардоне, Грюнер Вельтлинер, Мюллер Тургау, Совиньон Блан легкие и не очень кислотный Рислинг, Пино Гри. Как вариант — Игристые вина: «тельное» и капельку сладковатое (брют, сухое, полусухое) белое. Стейк говяжий мраморный нежный (Филе-миньон) | Красные вина: легкие и элегантные из винограда Пино Нуар, Нерелло Маскалезе, элегантно сделанное и выдержанное Мерло. Также подойдут «округлые», выдержанные варианты из сортов Неббиоло (Барбареско), Темпранильо (Рибейра дель Дуэро), Санджовезе (Кьянти Ризерва). Стейк говяжий мраморный жирноватый (Рибай и пр.) | Красные вина: к прожарке Rare — выдержанные и «благородные» вина из Темпранильо (Рибейра дель Дуэро или любые от Ризервы и выше), Санджовезе (Кьянти Ризерва, Брунелло), «супертосканские» вина, Бордо Правого берега, шелковистые аргентинские Мальбеки. К прожарке Medium или WellDone — сухие и полусухие из винограда Сира (Шираз), Каберне Совиньон, «тельный» Мальбек, Примитиво, Зинфандель, Альянико (выдержанное и слегка «округлившееся»), выдержанный «ронский» ассамбляж Гренаш+Сира+Мурведр, вина Приората от 6-8 лет выдержки и выше.\n",
      "------------------------\n",
      "## Франшхук \n",
      "\n",
      "Франшхук\n",
      "Франшхук — крупная винодельческая провинция Южной Африки. Территориально относится к региону Стелленбош, расположена в 75 км от Кейптауна — столицы ЮАР. Деревню основали беглые французы в 1688 году. Получив земельные наделы, они разбили виноградники и наладили производство напитков. Сегодня Франшхук называют винной столицей ЮАР. На карте провинции можно насчитать 11 крупных винодельческих хозяйств. Деревня Франшхук известна необычным терруаром: она расположена в продолговатой долине и с трех сторон окружена высокими горами, которые защищают виноградники от ветра, излишней влаги зимой и палящего солнца летом. При этом четвертая сторона долины открыта для ветров Атлантики. Климат здесь умеренный, а температура воздуха ниже, чем в соседних областях. Виноград созревает медленнее, чем на открытой африканской местности, что делает вино более свежим и кислотным. В Франшхуке наиболее распространены известные европейские сорта, завезенные французами в XVII веке. Здесь выращивают белые шенен блан, семильон, совиньон блан и шардоне. Среди красных популярны каберне совиньон, шираз и мерло. Значительная часть плантаций занята под пинотаж — автохтонный сорт, ставший визитной карточкой страны. Линейка традиционных вин из европейских сортов в ЮАР открывается совершенно по-новому. Сухие гранитные почвы придают напиткам явную минеральность. Белые вина приобретают золотистый оттенок и аромат южных фруктов, красные — насыщенный цвет и аромат. Оттенок может варьироваться от ярко-рубинового до глубокого фиолетового. Их часто сравнивают с бургундскими напитками. С 1992 года в долине Франшхук производят игристые вина премиального качества из шардоне и пино нуар по классическому методу. Белые вина Франшхука — прекрасный аперитив. Они подходят к легким сырам, закускам из гусиного паштета и курицы. Среди горячих блюд стоит выбрать индейку, запеченную белую рыбу с овощным гарниром или рагу. Красные южноафриканские сорта хорошо гармонируют с перчеными стейками из говядины и баранины, а также твердыми, выдержанными сырами. Пинотаж при этом считается универсальным вином. Ему подходят разнообразные блюда от изысканного филе миньон до лазаньи и пиццы с морепродуктами.\n",
      "------------------------\n",
      "Продукт | Вино, которое подходит к этому продукту\n",
      "--------|--------\n",
      "Рыба красная (семга, форель) пикантная — гриль | Белые вина: тихие — сухие и полусухие яркие Рислинги, выдержанные Шардоне и Вионье, Совиньон Блан из Нового Света. Розовые вина: тихие среднетелые сухие вина Франции, Италии, Испании, России. Как вариант — Красные вина: легкие вина из Пино Нуара, Нерелло Маскалезе и даже Гамэ (выдержанные Божоле Виляж). Подойдут также Оранжи с весомой вкусо-ароматикой. Рыба — стерлядь, осетр (деликатесные, прикопченые) | Русская классика — Крепкие напитки: Самогоны (Полугар, Хлебное вино), Водка, Хреновуха, Перцовка. Для любителей вина — настоятельно рекомендую Белые вина: тихие Шардоне (бургундского стиля), сухие и полусухие слегка сладковатые Рислинги невысокой кислотности, Пино Гри (из Альто Адидже), среднетелые и среднекислотные Альбариньо и Вердехо. Как вариант — Игристые вина (брюты и сухие — белые и легчайшие розовые). Рыба Тунец | В зависимости от типа приготовления (от самого нежного к зажаренному и пикантному) — Белые вина: тихие и элегантные выдержанные Шардоне и Вионье, сухие и полусухие Рислинги, Совиньон Блан из Нового Света. Розовые вина: тихие среднетелые сухие вина Франции, Италии, Испании, России. Как вариант к пикантному — Красные вина: легкие вина из Пино Нуара, Нерелло Маскалезе, Гриньолино (Италия), «округленькие» выдержанные Неббиоло и даже Гамэ (выдержанные Божоле Виляж). Подойдут также Оранжи. Салат Греческий | Белые вино: легкие, яркие сухие вина в первую очередь — из «родного» винограда Ассиртико, но отлично также подойдут Мюллер Тургау, Грюнер Вельтллинер, Вердехо, Шенен Блан, Совиньон Блан, Мелон де Бургонь (французские Мюскаде), вина из португальского региона Винью Верде. Как вариант — Игристые вино: белые и очень легкие розовые (брют-натур, экстра-брют, брют, сухое).\n",
      "------------------------\n",
      "## Орегон \n",
      "\n",
      "Орегон\n",
      "Орегон — четвертый по объемам производства вина штат в США. Самый популярный сорт винограда, который выращивают здесь, — пино нуар. Вина из этого сорта отличает высокая кислотность и низкая танинность. Выращивать виноград в Орегоне начали еще в 1840-х, но датой зарождения серьезного виноделия называют 1961 год, когда любители бургундского пино нуар Ричард Соммер и Дэвид Летт решили производить похожее вино в Америке. Для этого был выбран Орегон — прохладный климат и разнообразие почв позволили добиться успеха. Уже в 1979 пино нуар из Орегона вошло в десятку вин в бургундском стиле на французской винной Олимпиаде. Его отличают более яркие ноты фруктов и более низкая кислотность. Прохладный климат Орегона хорошо подходит для выращивания таких сортов винограда, как рислинг, шардоне и гаме, но визитной карточкой штата считается пино нуар, который растет в долине Уилламетт. Менее популярны мерло, каберне совиньон, зинфандель. В Орегоне производят сухие, полусухие, а также игристые и десертные вина. Пино нуар из Орегона будет хорошо сочетаться со стейком из лосося, запеченной птицей и красным мясом, например, говядиной по-бургундски.\n",
      "------------------------\n",
      "Продукт | Вино, которое подходит к этому продукту\n",
      "--------|--------\n",
      "Медальоны из телятины | Красные вина: легкие и элегантные из винограда Пино Нуар, Нерелло Маскалезе, элегантно сделанное и выдержанное Мерло. Также подойдут «округлые», выдержанные варианты из сортов Неббиоло (Барбареско), Темпранильо (Рибейра дель Дуэро), Санджовезе (Кьянти Ризерва). Медальоны из свинины | Белые вина: сухое и полусухое выдержанное из винограда Шардоне, Вердехо, Пино Гри, Шенен Блан. Также подойдут Розовые вина: тихие «среднетелые» из Франции, Италии, Испании, России. Неплохо пойдут Оранжи. Морепродукты жареные (гриль) — устрицы, гребешки, лобстеры, осьминоги, мидии и пр. | Белые вина: сухое и полусухое, «тельное» с хорошей кислотностью из сортов: Шардоне, Вердехо, Верментино, Рислинг, Альбариньо, Гарганега (Соаве). Розовые вина: сухие или полусухие вина Франции, Италии, Испании, Германии, России. Нарезка мясная деликатесная варено-копченая (в т.ч. колбаса) | Белые вина: тихие сухие (полусухие) довольно «яркие» вина со средней кислотностью из винограда сортов Шардоне, Вердехо, Верментино, Рислинг, Пино Гри. Как вариант — Игристое вино: молодое кислотноватое белое или розовое — брют или экстра-брют. Нарезка мясная деликатесная сыро-копченая-вяленая (в т.ч. колбаса) | Розовые Игристые вина: сухое или полусухое (недорогое, но полновкусное), Белые вина: тихие сухие Мускаты и Гевюрцтраминеры, выдержанное Шардоне и т. д. Розовые тихие вина: «среднетелое» сухое или полусухое из винограда Мурведр, Гренаш, Сенсо, Бобаль, Сира. Омлет с подкопченой ветчиной | Белые вина: сухое элегантное вино с невысокой кислотностью из винограда Шардоне, Кортезе (Гави), Вердехо, Гарганега (Соаве), Пино Гри, Пино Блан. Как вариант — белое или очень легкие розовое Игристые вина (брют или сухое). Орехи жареные, подсоленые | Пиво: как светлые лагеры, так и светлые (красные) эли. Как вариант — Белые вина: сухие и полусухие выдержанные вина из винограда сортов Шардоне, Вердехо, Верментино, Гарганега (Соаве), Ркацители (Россия и Грузия), Кангун (Армения). Также — полусладкие и сладкие белые Игристые вина.\n"
     ]
    }
   ],
   "source": [
    "thread = create_thread()\n",
    "\n",
    "thread.write(\"Какое вино подходит к стейку?\")\n",
    "run = assistant.run(thread)\n",
    "\n",
    "result = run.wait()\n",
    "print(result.text)\n",
    "print_citations(result)"
   ]
  },
  {
   "cell_type": "code",
   "execution_count": 65,
   "metadata": {
    "execution": {
     "iopub.execute_input": "2025-03-23T22:14:04.040747Z",
     "iopub.status.busy": "2025-03-23T22:14:04.039653Z",
     "iopub.status.idle": "2025-03-23T22:14:04.484296Z",
     "shell.execute_reply": "2025-03-23T22:14:04.483410Z",
     "shell.execute_reply.started": "2025-03-23T22:14:04.040707Z"
    },
    "tags": []
   },
   "outputs": [],
   "source": [
    "thread.delete()\n",
    "assistant.delete()\n"
   ]
  },
  {
   "cell_type": "code",
   "execution_count": 66,
   "metadata": {
    "execution": {
     "iopub.execute_input": "2025-03-23T22:14:06.886241Z",
     "iopub.status.busy": "2025-03-23T22:14:06.885065Z",
     "iopub.status.idle": "2025-03-23T22:14:15.950502Z",
     "shell.execute_reply": "2025-03-23T22:14:15.949383Z",
     "shell.execute_reply.started": "2025-03-23T22:14:06.886198Z"
    },
    "tags": []
   },
   "outputs": [],
   "source": [
    "index.delete()\n",
    "for f in df['Uploaded']:\n",
    "    f.delete()\n",
    "for f in uploaded_foodwine:\n",
    "    f.delete()"
   ]
  },
  {
   "cell_type": "code",
   "execution_count": null,
   "metadata": {},
   "outputs": [],
   "source": []
  }
 ],
 "metadata": {
  "kernelspec": {
   "display_name": "DataSphere Kernel",
   "language": "python",
   "name": "python3"
  },
  "language_info": {
   "codemirror_mode": {
    "name": "ipython",
    "version": 3
   },
   "file_extension": ".py",
   "mimetype": "text/x-python",
   "name": "python",
   "nbconvert_exporter": "python",
   "pygments_lexer": "ipython3",
   "version": "3.10.12"
  }
 },
 "nbformat": 4,
 "nbformat_minor": 4
}
