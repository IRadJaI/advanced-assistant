{
 "cells": [
  {
   "cell_type": "markdown",
   "id": "c36afcda",
   "metadata": {},
   "source": [
    "# Code Agents\n",
    "\n",
    "When creating multi-agent systems, we have a compromize between flexibility and predictability:\n",
    "\n",
    "* In **Agentic Workflows**, agent interactions are explicitly described, which allows us to plan different execution paths and estimate their cost / execution time.\n",
    "* In **ReAct Agents**, execution path is dymanically created by an LLM. An agent takes problem description from a user, decomposes the problem into separate parts, and creates a plan, which is then revised at each step.\n",
    "\n",
    "ReAct Agents can be created using **code generation** approach, when an LLM creates Python code to solve the problem, given the set of available tools. Framework called [smolagents](https://github.com/huggingface/smolagents) from HuggungFace exploits this approach."
   ]
  },
  {
   "cell_type": "code",
   "execution_count": null,
   "id": "d54e30b2",
   "metadata": {},
   "outputs": [],
   "source": [
    "%pip install smolagents[mcp]"
   ]
  },
  {
   "cell_type": "markdown",
   "id": "e9461d71",
   "metadata": {},
   "source": [
    "## Simple Example\n",
    "\n",
    "Consider the simplest example, when we give an agent Internet search capability using internet search tool.\n",
    "\n",
    "> SmolAgents contains built-in `DuckDuckGoSearchTool`, but we will create our own tool using Yandex Search API.\n",
    "\n",
    "We will use YandexGPT through [OpenAI compatible API](https://yandex.cloud/ru/docs/foundation-models/concepts/openai-compatibility). You can try using other models as well, such as LLama or Qwen.\n",
    "\n",
    "> **IMPORTANT**: When using YandexGPT 5 you need to pass `flatten_messages_as_text = True` parameter, because more complex requests including images are not currently supported.\n",
    "\n",
    "Let's make sure LLM works:"
   ]
  },
  {
   "cell_type": "code",
   "execution_count": 15,
   "id": "c9ff23da",
   "metadata": {},
   "outputs": [],
   "source": [
    "from smolagents import OpenAIServerModel, CodeAgent, DuckDuckGoSearchTool,VisitWebpageTool\n",
    "import os \n",
    "\n",
    "api_key = os.environ['api_key']\n",
    "import os\n",
    "\n",
    "ygpt_model = OpenAIServerModel(api_key=os.environ['api_key'], \n",
    "                           model_id=f\"gpt://{os.environ['folder_id']}/yandexgpt/rc\",\n",
    "                           #model_id=f\"gpt://{os.environ['folder_id']}/llama/rc\",\n",
    "                           api_base=\"https://llm.api.cloud.yandex.net/v1\",\n",
    "                           flatten_messages_as_text = True\n",
    ")"
   ]
  },
  {
   "cell_type": "markdown",
   "id": "572bd0cd",
   "metadata": {},
   "source": [
    "Now let's create search tool:"
   ]
  },
  {
   "cell_type": "code",
   "execution_count": 12,
   "id": "9e571c38",
   "metadata": {},
   "outputs": [
    {
     "name": "stdout",
     "output_type": "stream",
     "text": [
      "[Prices in Harbin 2025 prices in restaurants, prices of food and drinks...](https://hikersbay.com/prices/china/harbin?lang=en)\n",
      "\n",
      "How much do cigarettes cost in Harbin? Cigarettes are cheaper in Harbin than in United States.\n",
      "However, when you want to stay longer in Harbin - the best option is a monthly pass. Price for a monthly pass is: 13 USD (94 CNY). Answer given by: Niamh Cook - trip advisor & blogger at hikersbay. • How much does a taxi cost in Harbin, China.\n",
      "\n",
      "\n",
      "[Harbin Travel Cost - Average Price of... | BudgetYourTrip.com](https://www.budgetyourtrip.com/china/harbin)\n",
      "\n",
      "How much does it cost to travel to Harbin? (Average Daily Cost). Harbin trip costs: one week, two weeks, one month. Is Harbin expensive to visit? How much do I need for a trip to Harbin?\n",
      "You should plan to spend around $64 (¥467) per day on your vacation in Harbin. This is the average daily price based on the expenses of other visitors. Past travelers have spent, on average for one day\n",
      "\n",
      "\n",
      "[Harbin Food | Harbin Cuisine, Street Food, Snacks & Restaurant Guide](https://www.chinadiscovery.com/heilongjiang/harbin/harbin-food.html)\n",
      "\n",
      "Our Harbin food guide shows you famous and typical Harbin food, like dumplings, sausage, ice cream, street food, etc. Popular restaurants are also listed to help better plan your Harbin tour!\n",
      "The beer has a distinctive refreshing European flavor and tastes better when it is cold. If you are in Harbin, you will find people chatting and enjoying the beer at barbecue stands, bars or restaurants, even in the cold winter days.\n",
      "\n",
      "\n",
      "[THE 10 BEST Restaurants in Harbin (Updated July 2025) - Tripadvisor](https://www.tripadvisor.com/Restaurants-g297433-Harbin_Heilongjiang.html)\n",
      "\n",
      "Best Dining in Harbin, Heilongjiang: See 3,493 Tripadvisor traveler reviews of 761 Harbin restaurants and search by cuisine, price, location, and more.\n",
      "Terms of Use Privacy and Cookies Statement. Cookie consent. Site Map How the site works Contact us Accessibility Statement. Tripadvisor LLC makes no guarantees for availability of prices advertised on our sites and applications.\n",
      "\n",
      "\n",
      "[Harbin Food, Harbin Restaurants, Harbin Cuisine, What to eat in...](https://www.chinahighlights.com/harbin/food-restaurant.htm)\n",
      "\n",
      "Find out the best local food and the most popular time-honored restaurants in Harbin. These top 10 Harbin foods could make your Harbin trip tastier.\n",
      "Harbin Drinking — Something to Wash down the Food. How can one eat Harbin BBQ without drinking? Try the local Harbin Beer. Founded in 1900, it comes from China's oldest and fourth largest brewery. Qiulin Gevas is another must-try in Harbin.\n",
      "\n",
      "\n",
      "[Latest Harbin Travel Guide with Local Insights 2025](https://www.thechinajourney.com/harbin-travel-guide/)\n",
      "\n",
      "Harbin’s most iconic pedestrian street, Central Street is paved with European-style cobblestones and flanked by ornate Russian and Baroque buildings.\n",
      "Assorted Modern brand popsicles at Harbin ice cream shop. Sold along Central Street for over a century, this milk-based ice pop defies logic: people line up to eat it in winter. Creamy, rich, and melt-in-your-mouth soft, it’s a nostalgic taste of old Harbin with flavors like classic milk, chocolate, and matcha.\n",
      "\n",
      "\n",
      "[Where to eat: the 50 best restaurants in Harbin](https://wanderlog.com/list/geoCategory/74079/where-to-eat-best-restaurants-in-harbin)\n",
      "\n",
      "If you don’t want to choose, Dianping also offers package purchases, which should be even better than the separate ones. What I admire the most is its soup, steak, and snow fish steak, which are particularly delicious. As for such red wine, it is sweet. I'm not used to drinking it myself, ha. If you go to Harbin, I highly recommend you to try this restaurant.\n",
      "The atmosphere is great, the food was good but the portion is way too small for its price. It's still a great place to go if you want to try some Russian food in Harbin but it may not fill you up.\n",
      "\n",
      "\n",
      "[Things to Do in Harbin in 2025 - Top Attractions, Local... | Trip.com](https://www.trip.com/travel-guide/destination/harbin-151/)\n",
      "\n",
      "Eager to explore Harbin but not sure where to start? Trip.com's comprehensive guide is here to help you discover Harbin. Find nearby restaurants, attractions, and entertainment with detailed info and accurate locations.\n",
      "Volga Manor is a scenic spot in 4A, a little far from Harbin city, it takes 50 minutes to take a taxi one way, the return journey is not very good to call a car, the scenic spot has a fixed through train to take.\n",
      "\n",
      "\n",
      "[Harbin Beer (哈爾濱啤酒/哈尔滨啤酒) | Chinese Beer... - Let's Chinese](https://letschinese.com/harbin-beer/)\n",
      "\n",
      "Harbin Beer is a classic Chinese beer that has been enjoyed by beer drinkers for over 100 years. Known for its clean and crisp taste, Harbin Beer has become a staple drink for those who enjoy a refreshing beer.\n",
      "The water used in the brewing process is sourced from the Songhua River in Harbin, which is known for its pure and refreshing taste.\n",
      "\n"
     ]
    }
   ],
   "source": [
    "from smolagents import tool\n",
    "import requests\n",
    "import base64\n",
    "import xml.etree.ElementTree as ET\n",
    "import markdownify\n",
    "\n",
    "@tool\n",
    "def ysearch(text : str) -> str:\n",
    "    \"\"\"\n",
    "    Find contents on the internet given a search string. Page titles, urls and short extract from the page are returned.\n",
    "    Args:\n",
    "        text: Search string to use\n",
    "    \"\"\"\n",
    "    res = yandex_search(text)\n",
    "    docs = []\n",
    "    for title, url, body in res:\n",
    "        #body = extract_text_from_url(url)\n",
    "        if len(body)>1:\n",
    "            docs.append(f\"[{title}]({url})\\n{body}\")\n",
    "    return \"\\n\\n\".join(docs)\n",
    "\n",
    "print(ysearch(\"How much a meal would cost in Harbin. What should I eat, if I want to enjoy some good beer?\"))\n",
    "    \n"
   ]
  },
  {
   "cell_type": "markdown",
   "id": "3934f74c",
   "metadata": {},
   "source": [
    "Теперь создадим агента с инструментом поиска в интернет, и зададим ему какой-нибудь вопрос:"
   ]
  },
  {
   "cell_type": "code",
   "execution_count": 17,
   "id": "ec72aea6",
   "metadata": {},
   "outputs": [
    {
     "data": {
      "text/html": [
       "<pre style=\"white-space:pre;overflow-x:auto;line-height:normal;font-family:Menlo,'DejaVu Sans Mono',consolas,'Courier New',monospace\"><span style=\"color: #d4b702; text-decoration-color: #d4b702\">╭──────────────────────────────────────────────────── </span><span style=\"color: #d4b702; text-decoration-color: #d4b702; font-weight: bold\">New run</span><span style=\"color: #d4b702; text-decoration-color: #d4b702\"> ────────────────────────────────────────────────────╮</span>\n",
       "<span style=\"color: #d4b702; text-decoration-color: #d4b702\">│</span>                                                                                                                 <span style=\"color: #d4b702; text-decoration-color: #d4b702\">│</span>\n",
       "<span style=\"color: #d4b702; text-decoration-color: #d4b702\">│</span> <span style=\"font-weight: bold\">How much a meal would cost in Harbin, if I want to enjoy something with good beer? Give specific food items to </span> <span style=\"color: #d4b702; text-decoration-color: #d4b702\">│</span>\n",
       "<span style=\"color: #d4b702; text-decoration-color: #d4b702\">│</span> <span style=\"font-weight: bold\">take and their cost</span>                                                                                             <span style=\"color: #d4b702; text-decoration-color: #d4b702\">│</span>\n",
       "<span style=\"color: #d4b702; text-decoration-color: #d4b702\">│</span>                                                                                                                 <span style=\"color: #d4b702; text-decoration-color: #d4b702\">│</span>\n",
       "<span style=\"color: #d4b702; text-decoration-color: #d4b702\">╰─ OpenAIServerModel - gpt://b1gbicod0scglhd49qs0/yandexgpt/rc ───────────────────────────────────────────────────╯</span>\n",
       "</pre>\n"
      ],
      "text/plain": [
       "\u001b[38;2;212;183;2m╭─\u001b[0m\u001b[38;2;212;183;2m───────────────────────────────────────────────────\u001b[0m\u001b[38;2;212;183;2m \u001b[0m\u001b[1;38;2;212;183;2mNew run\u001b[0m\u001b[38;2;212;183;2m \u001b[0m\u001b[38;2;212;183;2m───────────────────────────────────────────────────\u001b[0m\u001b[38;2;212;183;2m─╮\u001b[0m\n",
       "\u001b[38;2;212;183;2m│\u001b[0m                                                                                                                 \u001b[38;2;212;183;2m│\u001b[0m\n",
       "\u001b[38;2;212;183;2m│\u001b[0m \u001b[1mHow much a meal would cost in Harbin, if I want to enjoy something with good beer? Give specific food items to \u001b[0m \u001b[38;2;212;183;2m│\u001b[0m\n",
       "\u001b[38;2;212;183;2m│\u001b[0m \u001b[1mtake and their cost\u001b[0m                                                                                             \u001b[38;2;212;183;2m│\u001b[0m\n",
       "\u001b[38;2;212;183;2m│\u001b[0m                                                                                                                 \u001b[38;2;212;183;2m│\u001b[0m\n",
       "\u001b[38;2;212;183;2m╰─\u001b[0m\u001b[38;2;212;183;2m OpenAIServerModel - gpt://b1gbicod0scglhd49qs0/yandexgpt/rc \u001b[0m\u001b[38;2;212;183;2m──────────────────────────────────────────────────\u001b[0m\u001b[38;2;212;183;2m─╯\u001b[0m\n"
      ]
     },
     "metadata": {},
     "output_type": "display_data"
    },
    {
     "data": {
      "text/html": [
       "<pre style=\"white-space:pre;overflow-x:auto;line-height:normal;font-family:Menlo,'DejaVu Sans Mono',consolas,'Courier New',monospace\"><span style=\"color: #d4b702; text-decoration-color: #d4b702\">━━━━━━━━━━━━━━━━━━━━━━━━━━━━━━━━━━━━━━━━━━━━━━━━━━━━━ </span><span style=\"font-weight: bold\">Step </span><span style=\"color: #008080; text-decoration-color: #008080; font-weight: bold\">1</span><span style=\"color: #d4b702; text-decoration-color: #d4b702\"> ━━━━━━━━━━━━━━━━━━━━━━━━━━━━━━━━━━━━━━━━━━━━━━━━━━━━━━</span>\n",
       "</pre>\n"
      ],
      "text/plain": [
       "\u001b[38;2;212;183;2m━━━━━━━━━━━━━━━━━━━━━━━━━━━━━━━━━━━━━━━━━━━━━━━━━━━━━ \u001b[0m\u001b[1mStep \u001b[0m\u001b[1;36m1\u001b[0m\u001b[38;2;212;183;2m ━━━━━━━━━━━━━━━━━━━━━━━━━━━━━━━━━━━━━━━━━━━━━━━━━━━━━━\u001b[0m\n"
      ]
     },
     "metadata": {},
     "output_type": "display_data"
    },
    {
     "data": {
      "text/html": [
       "<pre style=\"white-space:pre;overflow-x:auto;line-height:normal;font-family:Menlo,'DejaVu Sans Mono',consolas,'Courier New',monospace\"> ─ <span style=\"font-weight: bold\">Executing parsed code:</span> ──────────────────────────────────────────────────────────────────────────────────────── \n",
       "  <span style=\"color: #f8f8f2; text-decoration-color: #f8f8f2; background-color: #272822\">search_results </span><span style=\"color: #ff4689; text-decoration-color: #ff4689; background-color: #272822\">=</span><span style=\"color: #f8f8f2; text-decoration-color: #f8f8f2; background-color: #272822\"> ysearch(</span><span style=\"color: #e6db74; text-decoration-color: #e6db74; background-color: #272822\">\"cost of meals with good beer in Harbin\"</span><span style=\"color: #f8f8f2; text-decoration-color: #f8f8f2; background-color: #272822\">)</span><span style=\"background-color: #272822\">                                             </span>  \n",
       "  <span style=\"color: #f8f8f2; text-decoration-color: #f8f8f2; background-color: #272822\">print(search_results)</span><span style=\"background-color: #272822\">                                                                                          </span>  \n",
       " ───────────────────────────────────────────────────────────────────────────────────────────────────────────────── \n",
       "</pre>\n"
      ],
      "text/plain": [
       " ─ \u001b[1mExecuting parsed code:\u001b[0m ──────────────────────────────────────────────────────────────────────────────────────── \n",
       "  \u001b[38;2;248;248;242;48;2;39;40;34msearch_results\u001b[0m\u001b[38;2;248;248;242;48;2;39;40;34m \u001b[0m\u001b[38;2;255;70;137;48;2;39;40;34m=\u001b[0m\u001b[38;2;248;248;242;48;2;39;40;34m \u001b[0m\u001b[38;2;248;248;242;48;2;39;40;34mysearch\u001b[0m\u001b[38;2;248;248;242;48;2;39;40;34m(\u001b[0m\u001b[38;2;230;219;116;48;2;39;40;34m\"\u001b[0m\u001b[38;2;230;219;116;48;2;39;40;34mcost of meals with good beer in Harbin\u001b[0m\u001b[38;2;230;219;116;48;2;39;40;34m\"\u001b[0m\u001b[38;2;248;248;242;48;2;39;40;34m)\u001b[0m\u001b[48;2;39;40;34m                                             \u001b[0m  \n",
       "  \u001b[38;2;248;248;242;48;2;39;40;34mprint\u001b[0m\u001b[38;2;248;248;242;48;2;39;40;34m(\u001b[0m\u001b[38;2;248;248;242;48;2;39;40;34msearch_results\u001b[0m\u001b[38;2;248;248;242;48;2;39;40;34m)\u001b[0m\u001b[48;2;39;40;34m                                                                                          \u001b[0m  \n",
       " ───────────────────────────────────────────────────────────────────────────────────────────────────────────────── \n"
      ]
     },
     "metadata": {},
     "output_type": "display_data"
    },
    {
     "data": {
      "text/html": [
       "<pre style=\"white-space:pre;overflow-x:auto;line-height:normal;font-family:Menlo,'DejaVu Sans Mono',consolas,'Courier New',monospace\"><span style=\"font-weight: bold\">Execution logs:</span>\n",
       "[Harbin Travel Cost - Average Price of... | BudgetYourTrip.com](https://www.budgetyourtrip.com/china/harbin)\n",
       "\n",
       "While restaurant and meal prices in Harbin can vary significantly, the average cost of food in Harbin is $24 (¥174)\n",
       "per day, per person, based on the spending habits of previous travelers. Food2 Meals for one day.\n",
       "Harbin is considered to be one of the less traditional cities in China, meaning they have a pretty lively night \n",
       "life! You'll find a lot of people start the night in cheap Hot Pot restaurants drinking local beers, then move on \n",
       "to some of the dancing clubs. No matter what your preferred night out involves, you're bound to find it in Harbin! \n",
       "Food &amp; Dining Tips.\n",
       "\n",
       "\n",
       "[Cost of Living in Harbin. Feb 2025. Prices in Harbin](https://www.numbeo.com/cost-of-living/in/Harbin-China)\n",
       "\n",
       "Meal for 2 People, Mid-range Restaurant, Three-course.\n",
       "Prices in Harbin. Every price you add makes our comparisons more accurate and useful! Do you live in Russia?\n",
       "\n",
       "\n",
       "[Prices in Harbin 2025 prices in restaurants, prices of food and \n",
       "drinks...](https://hikersbay.com/prices/china/harbin?lang=en)\n",
       "\n",
       "In Harbin, a typical fast food meal costs: 5.60 USD (40 CNY) for a McMeal at McDonalds or BurgerKing (or similar \n",
       "combo meal), and 1.70 USD (12 CNY) for a cheeseburger. For coffee lovers: cappuccino coffee 2.70 USD (20 CNY) and \n",
       "espresso 1.90 USD (14 CNY). More information about meals budget you can find in our: Travel cost guide.\n",
       "\n",
       "\n",
       "[Harbin: Cost of Living, Salaries, Prices for Rent &amp; food](https://livingcost.org/cost/china/harbin)\n",
       "\n",
       "The average cost of living in Harbin is $659, which is in the top 20% of the least expensive cities in the world, \n",
       "ranked 7395th out of 9294 in our global list and 90th out of 544 in China. The median after-tax salary is $629, \n",
       "which is enough to cover living expenses for 1 months.\n",
       "Prices for goods and services in Harbin are partly crowdsourced by our visitors, just like yourself. Please \n",
       "consider telling us about your city.\n",
       "\n",
       "\n",
       "[Eating and Drinking Cost in China, China Food \n",
       "Prices](https://www.chinahighlights.com/travelguide/chinese-food/eating-drinking-cost.htm)\n",
       "\n",
       "What It Costs to Eat and Drink in China - Breakfast, Lunch, Dinner, Snacks, and Drinks. The average cost of food in\n",
       "China is quite cheap. But it still depends on which city and restaurant you choose. Read on to get a general idea \n",
       "of food and drink prices in China to help you plan your travel budget.\n",
       "The cost for drinks in China is at least half the price in the West. The cheapest mineral water is about 2 yuan for\n",
       "a 500 ml bottle, while a similar bottle of cola is around4yuan. A can/bottle of beer is usually below 10 yuan. You \n",
       "can also see many milk tea / fruit juice shops in cities.\n",
       "\n",
       "\n",
       "[THE 10 BEST Restaurants in Harbin (Updated July 2025) - \n",
       "Tripadvisor](https://www.tripadvisor.com/Restaurants-g297433-Harbin_Heilongjiang.html)\n",
       "\n",
       "Breakfast Restaurants in Harbin Lunch Restaurants in Harbin Dinner Restaurants in Harbin Food Delivery Restaurants \n",
       "in Harbin Restaurants for Special Occasions in Harbin Romantic Restaurants in Harbin Cheap Eats in Harbin Late \n",
       "Night Restaurants in Harbin Restaurants with Outdoor Seating in Harbin Private Dining Restaurants in Harbin Coffee \n",
       "&amp; Tea in Harbin Desserts in Harbin Bakeries in Harbin.\n",
       "\n",
       "\n",
       "[Harbin Food | Harbin Cuisine, Street Food, Snacks &amp; Restaurant \n",
       "Guide](https://www.chinadiscovery.com/heilongjiang/harbin/harbin-food.html)\n",
       "\n",
       "Our Harbin food guide shows you famous and typical Harbin food, like dumplings, sausage, ice cream, street food, \n",
       "etc.\n",
       "The beer has a distinctive refreshing European flavor and tastes better when it is cold. If you are in Harbin, you \n",
       "will find people chatting and enjoying the beer at barbecue stands, bars or restaurants, even in the cold winter \n",
       "days.\n",
       "\n",
       "\n",
       "[Harbin Dinning: Local Snacks, Western and Vegetarian \n",
       "Food](https://www.travelchinaguide.com/cityguides/heilongjiang/harbin/when-to-go.htm)\n",
       "\n",
       "Harbin Dining -- Where to Eat. Local Snacks. Lie Ba Lie Ba is a kind of large Russian bread and can be tasted in \n",
       "Harbin. The weight of this round shaped bread can be as much as 2.5 kilograms. Its golden, crack crust and slightly\n",
       "sweet taste will definitely excite your appetite.\n",
       "Luxiya Russia Coffee &amp; Food Another authentic Russian restaurant, Luxiya is also a good place for enjoying the cold\n",
       "Harbin quietly. Some other western food and Chinese tea are also served here.\n",
       "\n",
       "\n",
       "[Cost of Living in Harbin | China Admissions](https://www.china-admissions.com/cost-of-living-in-harbin-china/)\n",
       "\n",
       "A basic meal/lunch can cost between $4.72 to $7. One dozen eggs cost $1.61 while one kilo each of tomatoes, apples \n",
       "and potatoes totals to $3.50.\n",
       "Depending on how you spend, you can allocate $100 to $150 on clothes and personal care. If you want to relax and \n",
       "unwind, you can have a basic dinner out for two in the neighborhood pub for $13, watch a movie for $8, enjoy a cup \n",
       "of cappucino for $4 or drink a local beer for $2. Average monthly cost of living.\n",
       "\n",
       "\n",
       "Out: None\n",
       "</pre>\n"
      ],
      "text/plain": [
       "\u001b[1mExecution logs:\u001b[0m\n",
       "[Harbin Travel Cost - Average Price of... | BudgetYourTrip.com](https://www.budgetyourtrip.com/china/harbin)\n",
       "\n",
       "While restaurant and meal prices in Harbin can vary significantly, the average cost of food in Harbin is $24 (¥174)\n",
       "per day, per person, based on the spending habits of previous travelers. Food2 Meals for one day.\n",
       "Harbin is considered to be one of the less traditional cities in China, meaning they have a pretty lively night \n",
       "life! You'll find a lot of people start the night in cheap Hot Pot restaurants drinking local beers, then move on \n",
       "to some of the dancing clubs. No matter what your preferred night out involves, you're bound to find it in Harbin! \n",
       "Food & Dining Tips.\n",
       "\n",
       "\n",
       "[Cost of Living in Harbin. Feb 2025. Prices in Harbin](https://www.numbeo.com/cost-of-living/in/Harbin-China)\n",
       "\n",
       "Meal for 2 People, Mid-range Restaurant, Three-course.\n",
       "Prices in Harbin. Every price you add makes our comparisons more accurate and useful! Do you live in Russia?\n",
       "\n",
       "\n",
       "[Prices in Harbin 2025 prices in restaurants, prices of food and \n",
       "drinks...](https://hikersbay.com/prices/china/harbin?lang=en)\n",
       "\n",
       "In Harbin, a typical fast food meal costs: 5.60 USD (40 CNY) for a McMeal at McDonalds or BurgerKing (or similar \n",
       "combo meal), and 1.70 USD (12 CNY) for a cheeseburger. For coffee lovers: cappuccino coffee 2.70 USD (20 CNY) and \n",
       "espresso 1.90 USD (14 CNY). More information about meals budget you can find in our: Travel cost guide.\n",
       "\n",
       "\n",
       "[Harbin: Cost of Living, Salaries, Prices for Rent & food](https://livingcost.org/cost/china/harbin)\n",
       "\n",
       "The average cost of living in Harbin is $659, which is in the top 20% of the least expensive cities in the world, \n",
       "ranked 7395th out of 9294 in our global list and 90th out of 544 in China. The median after-tax salary is $629, \n",
       "which is enough to cover living expenses for 1 months.\n",
       "Prices for goods and services in Harbin are partly crowdsourced by our visitors, just like yourself. Please \n",
       "consider telling us about your city.\n",
       "\n",
       "\n",
       "[Eating and Drinking Cost in China, China Food \n",
       "Prices](https://www.chinahighlights.com/travelguide/chinese-food/eating-drinking-cost.htm)\n",
       "\n",
       "What It Costs to Eat and Drink in China - Breakfast, Lunch, Dinner, Snacks, and Drinks. The average cost of food in\n",
       "China is quite cheap. But it still depends on which city and restaurant you choose. Read on to get a general idea \n",
       "of food and drink prices in China to help you plan your travel budget.\n",
       "The cost for drinks in China is at least half the price in the West. The cheapest mineral water is about 2 yuan for\n",
       "a 500 ml bottle, while a similar bottle of cola is around4yuan. A can/bottle of beer is usually below 10 yuan. You \n",
       "can also see many milk tea / fruit juice shops in cities.\n",
       "\n",
       "\n",
       "[THE 10 BEST Restaurants in Harbin (Updated July 2025) - \n",
       "Tripadvisor](https://www.tripadvisor.com/Restaurants-g297433-Harbin_Heilongjiang.html)\n",
       "\n",
       "Breakfast Restaurants in Harbin Lunch Restaurants in Harbin Dinner Restaurants in Harbin Food Delivery Restaurants \n",
       "in Harbin Restaurants for Special Occasions in Harbin Romantic Restaurants in Harbin Cheap Eats in Harbin Late \n",
       "Night Restaurants in Harbin Restaurants with Outdoor Seating in Harbin Private Dining Restaurants in Harbin Coffee \n",
       "& Tea in Harbin Desserts in Harbin Bakeries in Harbin.\n",
       "\n",
       "\n",
       "[Harbin Food | Harbin Cuisine, Street Food, Snacks & Restaurant \n",
       "Guide](https://www.chinadiscovery.com/heilongjiang/harbin/harbin-food.html)\n",
       "\n",
       "Our Harbin food guide shows you famous and typical Harbin food, like dumplings, sausage, ice cream, street food, \n",
       "etc.\n",
       "The beer has a distinctive refreshing European flavor and tastes better when it is cold. If you are in Harbin, you \n",
       "will find people chatting and enjoying the beer at barbecue stands, bars or restaurants, even in the cold winter \n",
       "days.\n",
       "\n",
       "\n",
       "[Harbin Dinning: Local Snacks, Western and Vegetarian \n",
       "Food](https://www.travelchinaguide.com/cityguides/heilongjiang/harbin/when-to-go.htm)\n",
       "\n",
       "Harbin Dining -- Where to Eat. Local Snacks. Lie Ba Lie Ba is a kind of large Russian bread and can be tasted in \n",
       "Harbin. The weight of this round shaped bread can be as much as 2.5 kilograms. Its golden, crack crust and slightly\n",
       "sweet taste will definitely excite your appetite.\n",
       "Luxiya Russia Coffee & Food Another authentic Russian restaurant, Luxiya is also a good place for enjoying the cold\n",
       "Harbin quietly. Some other western food and Chinese tea are also served here.\n",
       "\n",
       "\n",
       "[Cost of Living in Harbin | China Admissions](https://www.china-admissions.com/cost-of-living-in-harbin-china/)\n",
       "\n",
       "A basic meal/lunch can cost between $4.72 to $7. One dozen eggs cost $1.61 while one kilo each of tomatoes, apples \n",
       "and potatoes totals to $3.50.\n",
       "Depending on how you spend, you can allocate $100 to $150 on clothes and personal care. If you want to relax and \n",
       "unwind, you can have a basic dinner out for two in the neighborhood pub for $13, watch a movie for $8, enjoy a cup \n",
       "of cappucino for $4 or drink a local beer for $2. Average monthly cost of living.\n",
       "\n",
       "\n",
       "Out: None\n"
      ]
     },
     "metadata": {},
     "output_type": "display_data"
    },
    {
     "data": {
      "text/html": [
       "<pre style=\"white-space:pre;overflow-x:auto;line-height:normal;font-family:Menlo,'DejaVu Sans Mono',consolas,'Courier New',monospace\"><span style=\"color: #7f7f7f; text-decoration-color: #7f7f7f\">[Step 1: Duration 3.16 seconds| Input tokens: 2,387 | Output tokens: 62]</span>\n",
       "</pre>\n"
      ],
      "text/plain": [
       "\u001b[2m[Step 1: Duration 3.16 seconds| Input tokens: 2,387 | Output tokens: 62]\u001b[0m\n"
      ]
     },
     "metadata": {},
     "output_type": "display_data"
    },
    {
     "data": {
      "text/html": [
       "<pre style=\"white-space:pre;overflow-x:auto;line-height:normal;font-family:Menlo,'DejaVu Sans Mono',consolas,'Courier New',monospace\"><span style=\"color: #d4b702; text-decoration-color: #d4b702\">━━━━━━━━━━━━━━━━━━━━━━━━━━━━━━━━━━━━━━━━━━━━━━━━━━━━━ </span><span style=\"font-weight: bold\">Step </span><span style=\"color: #008080; text-decoration-color: #008080; font-weight: bold\">2</span><span style=\"color: #d4b702; text-decoration-color: #d4b702\"> ━━━━━━━━━━━━━━━━━━━━━━━━━━━━━━━━━━━━━━━━━━━━━━━━━━━━━━</span>\n",
       "</pre>\n"
      ],
      "text/plain": [
       "\u001b[38;2;212;183;2m━━━━━━━━━━━━━━━━━━━━━━━━━━━━━━━━━━━━━━━━━━━━━━━━━━━━━ \u001b[0m\u001b[1mStep \u001b[0m\u001b[1;36m2\u001b[0m\u001b[38;2;212;183;2m ━━━━━━━━━━━━━━━━━━━━━━━━━━━━━━━━━━━━━━━━━━━━━━━━━━━━━━\u001b[0m\n"
      ]
     },
     "metadata": {},
     "output_type": "display_data"
    },
    {
     "data": {
      "text/html": [
       "<pre style=\"white-space:pre;overflow-x:auto;line-height:normal;font-family:Menlo,'DejaVu Sans Mono',consolas,'Courier New',monospace\"> ─ <span style=\"font-weight: bold\">Executing parsed code:</span> ──────────────────────────────────────────────────────────────────────────────────────── \n",
       "  <span style=\"color: #f8f8f2; text-decoration-color: #f8f8f2; background-color: #272822\">print(</span><span style=\"color: #e6db74; text-decoration-color: #e6db74; background-color: #272822\">\"A basic meal/lunch can cost between $4.72 to $7.\"</span><span style=\"color: #f8f8f2; text-decoration-color: #f8f8f2; background-color: #272822\">)</span><span style=\"background-color: #272822\">                                                      </span>  \n",
       "  <span style=\"color: #f8f8f2; text-decoration-color: #f8f8f2; background-color: #272822\">print(</span><span style=\"color: #e6db74; text-decoration-color: #e6db74; background-color: #272822\">\"A local beer costs around $2.\"</span><span style=\"color: #f8f8f2; text-decoration-color: #f8f8f2; background-color: #272822\">)</span><span style=\"background-color: #272822\">                                                                         </span>  \n",
       "  <span style=\"color: #f8f8f2; text-decoration-color: #f8f8f2; background-color: #272822\">print(</span><span style=\"color: #e6db74; text-decoration-color: #e6db74; background-color: #272822\">\"A meal for two in a neighborhood pub can cost around $13.\"</span><span style=\"color: #f8f8f2; text-decoration-color: #f8f8f2; background-color: #272822\">)</span><span style=\"background-color: #272822\">                                             </span>  \n",
       "  <span style=\"color: #f8f8f2; text-decoration-color: #f8f8f2; background-color: #272822\">final_answer(</span><span style=\"color: #e6db74; text-decoration-color: #e6db74; background-color: #272822\">\"A basic meal/lunch can cost between $4.72 to $7, and a local beer costs around $2. A meal for two</span>  \n",
       "  <span style=\"color: #e6db74; text-decoration-color: #e6db74; background-color: #272822\">in a neighborhood pub can cost around $13.\"</span><span style=\"color: #f8f8f2; text-decoration-color: #f8f8f2; background-color: #272822\">)</span><span style=\"background-color: #272822\">                                                                   </span>  \n",
       " ───────────────────────────────────────────────────────────────────────────────────────────────────────────────── \n",
       "</pre>\n"
      ],
      "text/plain": [
       " ─ \u001b[1mExecuting parsed code:\u001b[0m ──────────────────────────────────────────────────────────────────────────────────────── \n",
       "  \u001b[38;2;248;248;242;48;2;39;40;34mprint\u001b[0m\u001b[38;2;248;248;242;48;2;39;40;34m(\u001b[0m\u001b[38;2;230;219;116;48;2;39;40;34m\"\u001b[0m\u001b[38;2;230;219;116;48;2;39;40;34mA basic meal/lunch can cost between $4.72 to $7.\u001b[0m\u001b[38;2;230;219;116;48;2;39;40;34m\"\u001b[0m\u001b[38;2;248;248;242;48;2;39;40;34m)\u001b[0m\u001b[48;2;39;40;34m                                                      \u001b[0m  \n",
       "  \u001b[38;2;248;248;242;48;2;39;40;34mprint\u001b[0m\u001b[38;2;248;248;242;48;2;39;40;34m(\u001b[0m\u001b[38;2;230;219;116;48;2;39;40;34m\"\u001b[0m\u001b[38;2;230;219;116;48;2;39;40;34mA local beer costs around $2.\u001b[0m\u001b[38;2;230;219;116;48;2;39;40;34m\"\u001b[0m\u001b[38;2;248;248;242;48;2;39;40;34m)\u001b[0m\u001b[48;2;39;40;34m                                                                         \u001b[0m  \n",
       "  \u001b[38;2;248;248;242;48;2;39;40;34mprint\u001b[0m\u001b[38;2;248;248;242;48;2;39;40;34m(\u001b[0m\u001b[38;2;230;219;116;48;2;39;40;34m\"\u001b[0m\u001b[38;2;230;219;116;48;2;39;40;34mA meal for two in a neighborhood pub can cost around $13.\u001b[0m\u001b[38;2;230;219;116;48;2;39;40;34m\"\u001b[0m\u001b[38;2;248;248;242;48;2;39;40;34m)\u001b[0m\u001b[48;2;39;40;34m                                             \u001b[0m  \n",
       "  \u001b[38;2;248;248;242;48;2;39;40;34mfinal_answer\u001b[0m\u001b[38;2;248;248;242;48;2;39;40;34m(\u001b[0m\u001b[38;2;230;219;116;48;2;39;40;34m\"\u001b[0m\u001b[38;2;230;219;116;48;2;39;40;34mA basic meal/lunch can cost between $4.72 to $7, and a local beer costs around $2. A meal for two\u001b[0m  \n",
       "  \u001b[38;2;230;219;116;48;2;39;40;34min a neighborhood pub can cost around $13.\u001b[0m\u001b[38;2;230;219;116;48;2;39;40;34m\"\u001b[0m\u001b[38;2;248;248;242;48;2;39;40;34m)\u001b[0m\u001b[48;2;39;40;34m                                                                   \u001b[0m  \n",
       " ───────────────────────────────────────────────────────────────────────────────────────────────────────────────── \n"
      ]
     },
     "metadata": {},
     "output_type": "display_data"
    },
    {
     "data": {
      "text/html": [
       "<pre style=\"white-space:pre;overflow-x:auto;line-height:normal;font-family:Menlo,'DejaVu Sans Mono',consolas,'Courier New',monospace\"><span style=\"font-weight: bold\">Execution logs:</span>\n",
       "A basic meal/lunch can cost between $4.72 to $7.\n",
       "A local beer costs around $2.\n",
       "A meal for two in a neighborhood pub can cost around $13.\n",
       "\n",
       "<span style=\"color: #d4b702; text-decoration-color: #d4b702; font-weight: bold\">Out - Final answer: A basic meal/lunch can cost between $4.72 to $7, and a local beer costs around $2. A meal for </span>\n",
       "<span style=\"color: #d4b702; text-decoration-color: #d4b702; font-weight: bold\">two in a neighborhood pub can cost around $13.</span>\n",
       "</pre>\n"
      ],
      "text/plain": [
       "\u001b[1mExecution logs:\u001b[0m\n",
       "A basic meal/lunch can cost between $4.72 to $7.\n",
       "A local beer costs around $2.\n",
       "A meal for two in a neighborhood pub can cost around $13.\n",
       "\n",
       "\u001b[1;38;2;212;183;2mOut - Final answer: A basic meal/lunch can cost between $4.72 to $7, and a local beer costs around $2. A meal for \u001b[0m\n",
       "\u001b[1;38;2;212;183;2mtwo in a neighborhood pub can cost around $13.\u001b[0m\n"
      ]
     },
     "metadata": {},
     "output_type": "display_data"
    },
    {
     "data": {
      "text/html": [
       "<pre style=\"white-space:pre;overflow-x:auto;line-height:normal;font-family:Menlo,'DejaVu Sans Mono',consolas,'Courier New',monospace\"><span style=\"color: #7f7f7f; text-decoration-color: #7f7f7f\">[Step 2: Duration 3.40 seconds| Input tokens: 6,235 | Output tokens: 222]</span>\n",
       "</pre>\n"
      ],
      "text/plain": [
       "\u001b[2m[Step 2: Duration 3.40 seconds| Input tokens: 6,235 | Output tokens: 222]\u001b[0m\n"
      ]
     },
     "metadata": {},
     "output_type": "display_data"
    },
    {
     "data": {
      "text/plain": [
       "'A basic meal/lunch can cost between $4.72 to $7, and a local beer costs around $2. A meal for two in a neighborhood pub can cost around $13.'"
      ]
     },
     "execution_count": 17,
     "metadata": {},
     "output_type": "execute_result"
    }
   ],
   "source": [
    "agent = CodeAgent(tools=[ysearch,VisitWebpageTool()], model=ygpt_model)\n",
    "\n",
    "agent.run(\"How much a meal would cost in Harbin, if I want to enjoy something with good beer? Give specific food items to take and their cost\")"
   ]
  },
  {
   "cell_type": "markdown",
   "id": "041de117",
   "metadata": {},
   "source": [
    "## Model Context Protocol\n",
    "\n",
    "In the example above, we have searched the internet. However, if we want an agent to find food in specific restaurant, a good choice would be to use [Model Context Protocol (MCP)](https://modelcontextprotocol.io/introduction). It is a standard way to implement \"remote RAG and tool calling\".\n",
    "\n",
    "Let's support our restaurant has some [food menu](../data/menu/food_en.md) and [drinks menu](../data/menu/drinks_en.md). We have implemented [simple MCP-server](../mcp-server/mcp-rest.py), which offers two tools:\n",
    "* `get_food_menu` to get food menu as  markdown table\n",
    "* `get_drinks_menu` to get drinks menu\n",
    "\n",
    "To run the server, we need [FastMCP](https://github.com/jlowin/fastmcp) installed, and then run in the command line:\n",
    "```bash\n",
    "fastmcp run -p 8000 --host 127.0.0.1 -t sse mcp-rest-en.py\n",
    "```"
   ]
  },
  {
   "cell_type": "code",
   "execution_count": 21,
   "id": "10446f7b",
   "metadata": {},
   "outputs": [],
   "source": [
    "from smolagents import OpenAIServerModel, CodeAgent\n",
    "import os\n",
    "import yaml\n",
    "\n",
    "ygpt_model = OpenAIServerModel(api_key=os.environ['api_key'], \n",
    "                           model_id=f\"gpt://{os.environ['folder_id']}/yandexgpt/rc\",\n",
    "                           #model_id=f\"gpt://{os.environ['folder_id']}/llama/rc\",\n",
    "                           api_base=\"https://llm.api.cloud.yandex.net/v1\",\n",
    "                           flatten_messages_as_text = True)"
   ]
  },
  {
   "cell_type": "markdown",
   "id": "eecf894e",
   "metadata": {},
   "source": [
    "We can now use MCP tools in our agent:"
   ]
  },
  {
   "cell_type": "code",
   "execution_count": 22,
   "id": "62ed93ce",
   "metadata": {},
   "outputs": [
    {
     "data": {
      "text/html": [
       "<pre style=\"white-space:pre;overflow-x:auto;line-height:normal;font-family:Menlo,'DejaVu Sans Mono',consolas,'Courier New',monospace\"><span style=\"color: #d4b702; text-decoration-color: #d4b702\">╭──────────────────────────────────────────────────── </span><span style=\"color: #d4b702; text-decoration-color: #d4b702; font-weight: bold\">New run</span><span style=\"color: #d4b702; text-decoration-color: #d4b702\"> ────────────────────────────────────────────────────╮</span>\n",
       "<span style=\"color: #d4b702; text-decoration-color: #d4b702\">│</span>                                                                                                                 <span style=\"color: #d4b702; text-decoration-color: #d4b702\">│</span>\n",
       "<span style=\"color: #d4b702; text-decoration-color: #d4b702\">│</span> <span style=\"font-weight: bold\">Which is the most expesive dish?</span>                                                                                <span style=\"color: #d4b702; text-decoration-color: #d4b702\">│</span>\n",
       "<span style=\"color: #d4b702; text-decoration-color: #d4b702\">│</span>                                                                                                                 <span style=\"color: #d4b702; text-decoration-color: #d4b702\">│</span>\n",
       "<span style=\"color: #d4b702; text-decoration-color: #d4b702\">╰─ OpenAIServerModel - gpt://b1gbicod0scglhd49qs0/yandexgpt/rc ───────────────────────────────────────────────────╯</span>\n",
       "</pre>\n"
      ],
      "text/plain": [
       "\u001b[38;2;212;183;2m╭─\u001b[0m\u001b[38;2;212;183;2m───────────────────────────────────────────────────\u001b[0m\u001b[38;2;212;183;2m \u001b[0m\u001b[1;38;2;212;183;2mNew run\u001b[0m\u001b[38;2;212;183;2m \u001b[0m\u001b[38;2;212;183;2m───────────────────────────────────────────────────\u001b[0m\u001b[38;2;212;183;2m─╮\u001b[0m\n",
       "\u001b[38;2;212;183;2m│\u001b[0m                                                                                                                 \u001b[38;2;212;183;2m│\u001b[0m\n",
       "\u001b[38;2;212;183;2m│\u001b[0m \u001b[1mWhich is the most expesive dish?\u001b[0m                                                                                \u001b[38;2;212;183;2m│\u001b[0m\n",
       "\u001b[38;2;212;183;2m│\u001b[0m                                                                                                                 \u001b[38;2;212;183;2m│\u001b[0m\n",
       "\u001b[38;2;212;183;2m╰─\u001b[0m\u001b[38;2;212;183;2m OpenAIServerModel - gpt://b1gbicod0scglhd49qs0/yandexgpt/rc \u001b[0m\u001b[38;2;212;183;2m──────────────────────────────────────────────────\u001b[0m\u001b[38;2;212;183;2m─╯\u001b[0m\n"
      ]
     },
     "metadata": {},
     "output_type": "display_data"
    },
    {
     "data": {
      "text/html": [
       "<pre style=\"white-space:pre;overflow-x:auto;line-height:normal;font-family:Menlo,'DejaVu Sans Mono',consolas,'Courier New',monospace\"><span style=\"color: #d4b702; text-decoration-color: #d4b702\">━━━━━━━━━━━━━━━━━━━━━━━━━━━━━━━━━━━━━━━━━━━━━━━━━━━━━ </span><span style=\"font-weight: bold\">Step </span><span style=\"color: #008080; text-decoration-color: #008080; font-weight: bold\">1</span><span style=\"color: #d4b702; text-decoration-color: #d4b702\"> ━━━━━━━━━━━━━━━━━━━━━━━━━━━━━━━━━━━━━━━━━━━━━━━━━━━━━━</span>\n",
       "</pre>\n"
      ],
      "text/plain": [
       "\u001b[38;2;212;183;2m━━━━━━━━━━━━━━━━━━━━━━━━━━━━━━━━━━━━━━━━━━━━━━━━━━━━━ \u001b[0m\u001b[1mStep \u001b[0m\u001b[1;36m1\u001b[0m\u001b[38;2;212;183;2m ━━━━━━━━━━━━━━━━━━━━━━━━━━━━━━━━━━━━━━━━━━━━━━━━━━━━━━\u001b[0m\n"
      ]
     },
     "metadata": {},
     "output_type": "display_data"
    },
    {
     "data": {
      "text/html": [
       "<pre style=\"white-space:pre;overflow-x:auto;line-height:normal;font-family:Menlo,'DejaVu Sans Mono',consolas,'Courier New',monospace\"> ─ <span style=\"font-weight: bold\">Executing parsed code:</span> ──────────────────────────────────────────────────────────────────────────────────────── \n",
       "  <span style=\"color: #f8f8f2; text-decoration-color: #f8f8f2; background-color: #272822\">food_menu </span><span style=\"color: #ff4689; text-decoration-color: #ff4689; background-color: #272822\">=</span><span style=\"color: #f8f8f2; text-decoration-color: #f8f8f2; background-color: #272822\"> get_food_menu()</span><span style=\"background-color: #272822\">                                                                                    </span>  \n",
       "  <span style=\"color: #f8f8f2; text-decoration-color: #f8f8f2; background-color: #272822\">print(food_menu)</span><span style=\"background-color: #272822\">                                                                                               </span>  \n",
       " ───────────────────────────────────────────────────────────────────────────────────────────────────────────────── \n",
       "</pre>\n"
      ],
      "text/plain": [
       " ─ \u001b[1mExecuting parsed code:\u001b[0m ──────────────────────────────────────────────────────────────────────────────────────── \n",
       "  \u001b[38;2;248;248;242;48;2;39;40;34mfood_menu\u001b[0m\u001b[38;2;248;248;242;48;2;39;40;34m \u001b[0m\u001b[38;2;255;70;137;48;2;39;40;34m=\u001b[0m\u001b[38;2;248;248;242;48;2;39;40;34m \u001b[0m\u001b[38;2;248;248;242;48;2;39;40;34mget_food_menu\u001b[0m\u001b[38;2;248;248;242;48;2;39;40;34m(\u001b[0m\u001b[38;2;248;248;242;48;2;39;40;34m)\u001b[0m\u001b[48;2;39;40;34m                                                                                    \u001b[0m  \n",
       "  \u001b[38;2;248;248;242;48;2;39;40;34mprint\u001b[0m\u001b[38;2;248;248;242;48;2;39;40;34m(\u001b[0m\u001b[38;2;248;248;242;48;2;39;40;34mfood_menu\u001b[0m\u001b[38;2;248;248;242;48;2;39;40;34m)\u001b[0m\u001b[48;2;39;40;34m                                                                                               \u001b[0m  \n",
       " ───────────────────────────────────────────────────────────────────────────────────────────────────────────────── \n"
      ]
     },
     "metadata": {},
     "output_type": "display_data"
    },
    {
     "data": {
      "text/html": [
       "<pre style=\"white-space:pre;overflow-x:auto;line-height:normal;font-family:Menlo,'DejaVu Sans Mono',consolas,'Courier New',monospace\"><span style=\"font-weight: bold\">Execution logs:</span>\n",
       "| Dish Name                     | Description                                                                 | \n",
       "Type     | Price (RUB) |  \n",
       "|-------------------------------|-----------------------------------------------------------------------------|----\n",
       "------|-------------|  \n",
       "| **\"Bull on Edge\" Steak**      | Juicy ribeye with a pink center, slow-cooked in the smoke of Argentine passion. \n",
       "Served with Himalayan gold salt. | Steak    | 2500        |  \n",
       "| **\"Tenderness of an Enraged Cow\" Steak** | Filet mignon marinated in pomegranate juice and the chef's whispers. \n",
       "Plus \"Dragon Wing-Style\" potatoes. | Steak    | 1800        |  \n",
       "| **\"Steak for a Modest Oligarch\"** | Beef cheek braised for 12 hours in wine from Napoleon's cellar (well, \n",
       "almost). With crispy zucchini chips. | Steak    | 1200        |  \n",
       "| **\"Salmon Dreaming of Norway\"** | Delicate fillet baked under a crust of \"mysterious northern herbs\" (dill). \n",
       "Served with lemon breeze. | Fish     | 1900        |  \n",
       "| **\"Octopus That Saw Too Much\"** | Grilled squid with ink sauce and a hint of Mediterranean secrets. For bold \n",
       "gourmets. | Fish     | 2200        |  \n",
       "| **\"Dorado in a Fur Coat\"**   | Dorado fillet wrapped in a crispy potato shell. With \"Atlantis Mystery\" sauce. | \n",
       "Fish     | 1600        |  \n",
       "| **\"Potato 'I Can Be Truffle Too'\"** | Tender slices roasted with rosemary and a hint of luxury. Served with \n",
       "Pyrenean air. | Side     | 600         |  \n",
       "| **\"Mushrooms That Danced Under the Moon\"** | Grilled champignons with garlic sauce and a psychedelic twist. | \n",
       "Side     | 450         |  \n",
       "| **\"Croissants, But Not Those\"** | Honey-glazed mini-carrots evoking a Parisian childhood. | Side     | 350       \n",
       "|  \n",
       "| **\"Chocolate Apocalypse\"**   | 72% cocoa dessert that detonates taste buds. With \"Heavenly Cloud\" ice cream. | \n",
       "Dessert  | 800         |  \n",
       "| **\"Cheesecake That Saw God\"** | Fluffy, with caramel made from angel tears and \"paradise cookie\" crumbs. | \n",
       "Dessert  | 750         |  \n",
       "| **\"Tiramisu for Adults\"**    | Classic, but with a \"secret ingredient\" (coffee—what did *you* think?). | Dessert \n",
       "| 700         |  \n",
       "\n",
       "Out: None\n",
       "</pre>\n"
      ],
      "text/plain": [
       "\u001b[1mExecution logs:\u001b[0m\n",
       "| Dish Name                     | Description                                                                 | \n",
       "Type     | Price (RUB) |  \n",
       "|-------------------------------|-----------------------------------------------------------------------------|----\n",
       "------|-------------|  \n",
       "| **\"Bull on Edge\" Steak**      | Juicy ribeye with a pink center, slow-cooked in the smoke of Argentine passion. \n",
       "Served with Himalayan gold salt. | Steak    | 2500        |  \n",
       "| **\"Tenderness of an Enraged Cow\" Steak** | Filet mignon marinated in pomegranate juice and the chef's whispers. \n",
       "Plus \"Dragon Wing-Style\" potatoes. | Steak    | 1800        |  \n",
       "| **\"Steak for a Modest Oligarch\"** | Beef cheek braised for 12 hours in wine from Napoleon's cellar (well, \n",
       "almost). With crispy zucchini chips. | Steak    | 1200        |  \n",
       "| **\"Salmon Dreaming of Norway\"** | Delicate fillet baked under a crust of \"mysterious northern herbs\" (dill). \n",
       "Served with lemon breeze. | Fish     | 1900        |  \n",
       "| **\"Octopus That Saw Too Much\"** | Grilled squid with ink sauce and a hint of Mediterranean secrets. For bold \n",
       "gourmets. | Fish     | 2200        |  \n",
       "| **\"Dorado in a Fur Coat\"**   | Dorado fillet wrapped in a crispy potato shell. With \"Atlantis Mystery\" sauce. | \n",
       "Fish     | 1600        |  \n",
       "| **\"Potato 'I Can Be Truffle Too'\"** | Tender slices roasted with rosemary and a hint of luxury. Served with \n",
       "Pyrenean air. | Side     | 600         |  \n",
       "| **\"Mushrooms That Danced Under the Moon\"** | Grilled champignons with garlic sauce and a psychedelic twist. | \n",
       "Side     | 450         |  \n",
       "| **\"Croissants, But Not Those\"** | Honey-glazed mini-carrots evoking a Parisian childhood. | Side     | 350       \n",
       "|  \n",
       "| **\"Chocolate Apocalypse\"**   | 72% cocoa dessert that detonates taste buds. With \"Heavenly Cloud\" ice cream. | \n",
       "Dessert  | 800         |  \n",
       "| **\"Cheesecake That Saw God\"** | Fluffy, with caramel made from angel tears and \"paradise cookie\" crumbs. | \n",
       "Dessert  | 750         |  \n",
       "| **\"Tiramisu for Adults\"**    | Classic, but with a \"secret ingredient\" (coffee—what did *you* think?). | Dessert \n",
       "| 700         |  \n",
       "\n",
       "Out: None\n"
      ]
     },
     "metadata": {},
     "output_type": "display_data"
    },
    {
     "data": {
      "text/html": [
       "<pre style=\"white-space:pre;overflow-x:auto;line-height:normal;font-family:Menlo,'DejaVu Sans Mono',consolas,'Courier New',monospace\"><span style=\"color: #7f7f7f; text-decoration-color: #7f7f7f\">[Step 1: Duration 1.64 seconds| Input tokens: 2,323 | Output tokens: 71]</span>\n",
       "</pre>\n"
      ],
      "text/plain": [
       "\u001b[2m[Step 1: Duration 1.64 seconds| Input tokens: 2,323 | Output tokens: 71]\u001b[0m\n"
      ]
     },
     "metadata": {},
     "output_type": "display_data"
    },
    {
     "data": {
      "text/html": [
       "<pre style=\"white-space:pre;overflow-x:auto;line-height:normal;font-family:Menlo,'DejaVu Sans Mono',consolas,'Courier New',monospace\"><span style=\"color: #d4b702; text-decoration-color: #d4b702\">━━━━━━━━━━━━━━━━━━━━━━━━━━━━━━━━━━━━━━━━━━━━━━━━━━━━━ </span><span style=\"font-weight: bold\">Step </span><span style=\"color: #008080; text-decoration-color: #008080; font-weight: bold\">2</span><span style=\"color: #d4b702; text-decoration-color: #d4b702\"> ━━━━━━━━━━━━━━━━━━━━━━━━━━━━━━━━━━━━━━━━━━━━━━━━━━━━━━</span>\n",
       "</pre>\n"
      ],
      "text/plain": [
       "\u001b[38;2;212;183;2m━━━━━━━━━━━━━━━━━━━━━━━━━━━━━━━━━━━━━━━━━━━━━━━━━━━━━ \u001b[0m\u001b[1mStep \u001b[0m\u001b[1;36m2\u001b[0m\u001b[38;2;212;183;2m ━━━━━━━━━━━━━━━━━━━━━━━━━━━━━━━━━━━━━━━━━━━━━━━━━━━━━━\u001b[0m\n"
      ]
     },
     "metadata": {},
     "output_type": "display_data"
    },
    {
     "data": {
      "text/html": [
       "<pre style=\"white-space:pre;overflow-x:auto;line-height:normal;font-family:Menlo,'DejaVu Sans Mono',consolas,'Courier New',monospace\"> ─ <span style=\"font-weight: bold\">Executing parsed code:</span> ──────────────────────────────────────────────────────────────────────────────────────── \n",
       "  <span style=\"color: #f8f8f2; text-decoration-color: #f8f8f2; background-color: #272822\">final_answer(</span><span style=\"color: #e6db74; text-decoration-color: #e6db74; background-color: #272822\">\"'Bull on Edge' Steak\"</span><span style=\"color: #f8f8f2; text-decoration-color: #f8f8f2; background-color: #272822\">)</span><span style=\"background-color: #272822\">                                                                           </span>  \n",
       " ───────────────────────────────────────────────────────────────────────────────────────────────────────────────── \n",
       "</pre>\n"
      ],
      "text/plain": [
       " ─ \u001b[1mExecuting parsed code:\u001b[0m ──────────────────────────────────────────────────────────────────────────────────────── \n",
       "  \u001b[38;2;248;248;242;48;2;39;40;34mfinal_answer\u001b[0m\u001b[38;2;248;248;242;48;2;39;40;34m(\u001b[0m\u001b[38;2;230;219;116;48;2;39;40;34m\"\u001b[0m\u001b[38;2;230;219;116;48;2;39;40;34m'\u001b[0m\u001b[38;2;230;219;116;48;2;39;40;34mBull on Edge\u001b[0m\u001b[38;2;230;219;116;48;2;39;40;34m'\u001b[0m\u001b[38;2;230;219;116;48;2;39;40;34m Steak\u001b[0m\u001b[38;2;230;219;116;48;2;39;40;34m\"\u001b[0m\u001b[38;2;248;248;242;48;2;39;40;34m)\u001b[0m\u001b[48;2;39;40;34m                                                                           \u001b[0m  \n",
       " ───────────────────────────────────────────────────────────────────────────────────────────────────────────────── \n"
      ]
     },
     "metadata": {},
     "output_type": "display_data"
    },
    {
     "data": {
      "text/html": [
       "<pre style=\"white-space:pre;overflow-x:auto;line-height:normal;font-family:Menlo,'DejaVu Sans Mono',consolas,'Courier New',monospace\"><span style=\"color: #d4b702; text-decoration-color: #d4b702; font-weight: bold\">Out - Final answer: 'Bull on Edge' Steak</span>\n",
       "</pre>\n"
      ],
      "text/plain": [
       "\u001b[1;38;2;212;183;2mOut - Final answer: 'Bull on Edge' Steak\u001b[0m\n"
      ]
     },
     "metadata": {},
     "output_type": "display_data"
    },
    {
     "data": {
      "text/html": [
       "<pre style=\"white-space:pre;overflow-x:auto;line-height:normal;font-family:Menlo,'DejaVu Sans Mono',consolas,'Courier New',monospace\"><span style=\"color: #7f7f7f; text-decoration-color: #7f7f7f\">[Step 2: Duration 1.21 seconds| Input tokens: 5,394 | Output tokens: 135]</span>\n",
       "</pre>\n"
      ],
      "text/plain": [
       "\u001b[2m[Step 2: Duration 1.21 seconds| Input tokens: 5,394 | Output tokens: 135]\u001b[0m\n"
      ]
     },
     "metadata": {},
     "output_type": "display_data"
    }
   ],
   "source": [
    "import yaml\n",
    "from smolagents.mcp_client import MCPClient\n",
    "\n",
    "with MCPClient({\"url\" : \"http://127.0.0.1:8000/sse\"}) as tools:\n",
    "    agent = CodeAgent(tools=tools, model=ygpt_model)\n",
    "    agent.run(\"Which is the most expesive dish?\")"
   ]
  },
  {
   "cell_type": "markdown",
   "id": "a0e2eeb9",
   "metadata": {},
   "source": [
    "## Creating the Dinner Course\n",
    "\n",
    "We will now create an agent to propose dinner course for us, using food-wine matching [based on the food-wine matching table](../data/food_wine_table_en.md):"
   ]
  },
  {
   "cell_type": "code",
   "execution_count": 26,
   "id": "864a288c",
   "metadata": {},
   "outputs": [
    {
     "data": {
      "text/html": [
       "<div>\n",
       "<style scoped>\n",
       "    .dataframe tbody tr th:only-of-type {\n",
       "        vertical-align: middle;\n",
       "    }\n",
       "\n",
       "    .dataframe tbody tr th {\n",
       "        vertical-align: top;\n",
       "    }\n",
       "\n",
       "    .dataframe thead th {\n",
       "        text-align: right;\n",
       "    }\n",
       "</style>\n",
       "<table border=\"1\" class=\"dataframe\">\n",
       "  <thead>\n",
       "    <tr style=\"text-align: right;\">\n",
       "      <th></th>\n",
       "      <th>food</th>\n",
       "      <th>wine</th>\n",
       "    </tr>\n",
       "  </thead>\n",
       "  <tbody>\n",
       "    <tr>\n",
       "      <th>0</th>\n",
       "      <td>Eggplant baked with cheese</td>\n",
       "      <td>Red wine: Medium-bodied* dry wines—Grenache (G...</td>\n",
       "    </tr>\n",
       "    <tr>\n",
       "      <th>1</th>\n",
       "      <td>Delicate lamb (lamb fillet or rack)</td>\n",
       "      <td>Red wine: Aged dry wines from Pinot Noir, Menc...</td>\n",
       "    </tr>\n",
       "    <tr>\n",
       "      <th>2</th>\n",
       "      <td>Spicy lamb: grilled, roasted, or stewed with s...</td>\n",
       "      <td>Red wine: Dry wines from Cabernet Sauvignon, R...</td>\n",
       "    </tr>\n",
       "    <tr>\n",
       "      <th>3</th>\n",
       "      <td>Beef Stroganoff</td>\n",
       "      <td>White wine: Oak-aged Chardonnay, Pinot Grigio ...</td>\n",
       "    </tr>\n",
       "    <tr>\n",
       "      <th>4</th>\n",
       "      <td>Pancakes with beef filling</td>\n",
       "      <td>Strong drinks: Vodka, Polugar, Khrenovukha. Al...</td>\n",
       "    </tr>\n",
       "    <tr>\n",
       "      <th>...</th>\n",
       "      <td>...</td>\n",
       "      <td>...</td>\n",
       "    </tr>\n",
       "    <tr>\n",
       "      <th>131</th>\n",
       "      <td>Spiced chicken skewers</td>\n",
       "      <td>Rosé wine: Full-bodied and bold from France (T...</td>\n",
       "    </tr>\n",
       "    <tr>\n",
       "      <th>132</th>\n",
       "      <td>Spicy pork skewers (vinegar-onion marinade)</td>\n",
       "      <td>Red wine: Dry and off-dry Sangiovese (Chianti)...</td>\n",
       "    </tr>\n",
       "    <tr>\n",
       "      <th>133</th>\n",
       "      <td>Chocolate</td>\n",
       "      <td>Tea: Black, herbal, berry-fruit. Do not offend...</td>\n",
       "    </tr>\n",
       "    <tr>\n",
       "      <th>134</th>\n",
       "      <td>Classic éclair</td>\n",
       "      <td>White wine: Sweeter than the dessert—aged \"cre...</td>\n",
       "    </tr>\n",
       "    <tr>\n",
       "      <th>135</th>\n",
       "      <td>Sunny-side-up eggs</td>\n",
       "      <td>White wine: Dry light with low acidity—Pinot B...</td>\n",
       "    </tr>\n",
       "  </tbody>\n",
       "</table>\n",
       "<p>136 rows × 2 columns</p>\n",
       "</div>"
      ],
      "text/plain": [
       "                                                  food  \\\n",
       "0                           Eggplant baked with cheese   \n",
       "1                  Delicate lamb (lamb fillet or rack)   \n",
       "2    Spicy lamb: grilled, roasted, or stewed with s...   \n",
       "3                                      Beef Stroganoff   \n",
       "4                           Pancakes with beef filling   \n",
       "..                                                 ...   \n",
       "131                             Spiced chicken skewers   \n",
       "132        Spicy pork skewers (vinegar-onion marinade)   \n",
       "133                                          Chocolate   \n",
       "134                                     Classic éclair   \n",
       "135                                 Sunny-side-up eggs   \n",
       "\n",
       "                                                  wine  \n",
       "0    Red wine: Medium-bodied* dry wines—Grenache (G...  \n",
       "1    Red wine: Aged dry wines from Pinot Noir, Menc...  \n",
       "2    Red wine: Dry wines from Cabernet Sauvignon, R...  \n",
       "3    White wine: Oak-aged Chardonnay, Pinot Grigio ...  \n",
       "4    Strong drinks: Vodka, Polugar, Khrenovukha. Al...  \n",
       "..                                                 ...  \n",
       "131  Rosé wine: Full-bodied and bold from France (T...  \n",
       "132  Red wine: Dry and off-dry Sangiovese (Chianti)...  \n",
       "133  Tea: Black, herbal, berry-fruit. Do not offend...  \n",
       "134  White wine: Sweeter than the dessert—aged \"cre...  \n",
       "135  White wine: Dry light with low acidity—Pinot B...  \n",
       "\n",
       "[136 rows x 2 columns]"
      ]
     },
     "execution_count": 26,
     "metadata": {},
     "output_type": "execute_result"
    }
   ],
   "source": [
    "import pandas as pd\n",
    "import re \n",
    "\n",
    "foodmatch = [ x.strip() for x in open(\"../data/food_wine_table_en.md\", encoding=\"utf8\").readlines()[2:-1]]\n",
    "foodmatch = [ { \"food\" : x.split('|')[1].strip(), \"wine\" : x.split('|')[2].strip()} for x in foodmatch]\n",
    "df = pd.DataFrame(foodmatch)\n",
    "df"
   ]
  },
  {
   "cell_type": "markdown",
   "id": "f015783e",
   "metadata": {},
   "source": [
    "We will explicitly create food and wine matching functions that will be based on semantic embeddings:"
   ]
  },
  {
   "cell_type": "code",
   "execution_count": 24,
   "id": "53f3d8c9",
   "metadata": {},
   "outputs": [],
   "source": [
    "from yandex_cloud_ml_sdk import YCloudML\n",
    "\n",
    "sdk = YCloudML(folder_id=os.environ['folder_id'], auth=os.environ['api_key'])\n",
    "query_model = sdk.models.text_embeddings('query')\n",
    "doc_model = sdk.models.text_embeddings('doc')"
   ]
  },
  {
   "cell_type": "markdown",
   "id": "ef435a95",
   "metadata": {},
   "source": [
    "Let's compute embeddings for all lines in the table.\n",
    "\n",
    "> **WARNING**: As this will take time, I propose to skip this call during demo, and load pre-processed table."
   ]
  },
  {
   "cell_type": "code",
   "execution_count": 27,
   "id": "a6d32ae3",
   "metadata": {},
   "outputs": [],
   "source": [
    "df['food_embed'] = df['food'].apply(lambda x : doc_model.run(x))\n",
    "df['wine_embed'] = df['wine'].apply(lambda x : doc_model.run(x))\n",
    "df.to_pickle(\"../data/food_wine_table_en.pkl\")"
   ]
  },
  {
   "cell_type": "code",
   "execution_count": 30,
   "id": "706c8b8d",
   "metadata": {},
   "outputs": [],
   "source": [
    "df = pd.read_pickle(\"../data/food_wine_table_en.pkl\")"
   ]
  },
  {
   "cell_type": "markdown",
   "id": "b1dd21d6",
   "metadata": {},
   "source": [
    "Now we will define `find_matching_food` function tool:"
   ]
  },
  {
   "cell_type": "code",
   "execution_count": 32,
   "id": "71e3208d",
   "metadata": {},
   "outputs": [
    {
     "name": "stdout",
     "output_type": "stream",
     "text": [
      "Here are the best matching dishes:\n",
      "1. Spicy lamb: grilled, roasted, or stewed with spices\n",
      "2. Steamed/poached red fish (salmon, trout)\n",
      "3. Meat ravioli\n"
     ]
    }
   ],
   "source": [
    "from scipy.spatial.distance import cdist\n",
    "import numpy as np\n",
    "from smolagents import tool\n",
    "\n",
    "@tool\n",
    "def find_matching_food(wine : str) -> str:\n",
    "    \"\"\"\n",
    "    Find a dish corresponding to a given wine\n",
    "    Args:\n",
    "        wine: Description of a wine, for which to find matching dish\n",
    "    \"\"\"\n",
    "    wine_embed = query_model.run(wine)\n",
    "    we = np.array([np.array(x) for x in df['wine_embed']])\n",
    "    dist = cdist([wine_embed], we, metric='cosine')[0]\n",
    "    return \"Here are the best matching dishes:\\n\" + \"\\n\".join(\n",
    "        [f\"{j+1}. {df.iloc[i]['food']}\" \n",
    "        for j, i in enumerate(dist.argsort()[0:3])])\n",
    "\n",
    "print(find_matching_food(\"dry red wine\"))\n"
   ]
  },
  {
   "cell_type": "markdown",
   "id": "c7619abc",
   "metadata": {},
   "source": [
    "The same function for finding wine:"
   ]
  },
  {
   "cell_type": "code",
   "execution_count": 34,
   "id": "28c8f2a6",
   "metadata": {},
   "outputs": [
    {
     "name": "stdout",
     "output_type": "stream",
     "text": [
      "Best matching wines:\n",
      "1. White wine: Dry Cortese (Gavi), Arneis, Vermentino, Albariño, slightly off-dry Riesling, aged Pinot Grigio.\n",
      "2. Red wine: For rare—aged \"noble\" Tempranillo (Ribera del Duero Reserva+), Sangiovese (Chianti Riserva, Brunello), \"Super Tuscan,\" Right Bank Bordeaux, silky Argentine Malbec. For medium/well-done—dry/off-dry Syrah (Shiraz), Cabernet Sauvignon, full-bodied Malbec, Primitivo, Zinfandel, aged Aglianico, aged Rhône blends (Grenache + Syrah + Mourvèdre), Priorat (6–8+ years aging).\n",
      "3. Red wine: Dry and off-dry Garnacha (Grenache), Merlot, Carmenère, Mencía, full-bodied Pinot Noir (worldwide), Russian Krasnostop, Gamay (Beaujolais-Villages).\n"
     ]
    }
   ],
   "source": [
    "@tool\n",
    "def find_matching_wine(food : str) -> str:\n",
    "    \"\"\"\n",
    "    Find matching wine for a given dish\n",
    "    Args:\n",
    "        food: Description of a dish, for which to find matching wine \n",
    "    \"\"\"\n",
    "    food_embed = query_model.run(food)\n",
    "    fe = np.array([np.array(x) for x in df['food_embed']])\n",
    "    dist = cdist([food_embed], fe, metric='cosine')[0]\n",
    "    return \"Best matching wines:\\n\" + \"\\n\".join(\n",
    "        [f\"{j+1}. {df.iloc[i]['wine']}\" \n",
    "        for j, i in enumerate(dist.argsort()[0:3])])\n",
    "\n",
    "print(find_matching_wine('Salmon steak'))"
   ]
  },
  {
   "cell_type": "markdown",
   "id": "f0177e35",
   "metadata": {},
   "source": [
    "Let's now put it all together in a single ReAct Agent:"
   ]
  },
  {
   "cell_type": "code",
   "execution_count": 37,
   "id": "3612fbdc",
   "metadata": {},
   "outputs": [
    {
     "data": {
      "text/html": [
       "<pre style=\"white-space:pre;overflow-x:auto;line-height:normal;font-family:Menlo,'DejaVu Sans Mono',consolas,'Courier New',monospace\"><span style=\"color: #d4b702; text-decoration-color: #d4b702\">╭──────────────────────────────────────────────────── </span><span style=\"color: #d4b702; text-decoration-color: #d4b702; font-weight: bold\">New run</span><span style=\"color: #d4b702; text-decoration-color: #d4b702\"> ────────────────────────────────────────────────────╮</span>\n",
       "<span style=\"color: #d4b702; text-decoration-color: #d4b702\">│</span>                                                                                                                 <span style=\"color: #d4b702; text-decoration-color: #d4b702\">│</span>\n",
       "<span style=\"color: #d4b702; text-decoration-color: #d4b702\">│</span> <span style=\"font-weight: bold\">Prepare a menu for a dinner which consists of a main course, matching wine and a dessert.</span>                       <span style=\"color: #d4b702; text-decoration-color: #d4b702\">│</span>\n",
       "<span style=\"color: #d4b702; text-decoration-color: #d4b702\">│</span> <span style=\"font-weight: bold\">    Print the markdown table of food/drink items to order with their names and price. Calculate the total </span>      <span style=\"color: #d4b702; text-decoration-color: #d4b702\">│</span>\n",
       "<span style=\"color: #d4b702; text-decoration-color: #d4b702\">│</span> <span style=\"font-weight: bold\">price.</span>                                                                                                          <span style=\"color: #d4b702; text-decoration-color: #d4b702\">│</span>\n",
       "<span style=\"color: #d4b702; text-decoration-color: #d4b702\">│</span> <span style=\"font-weight: bold\">    I want steak!</span>                                                                                               <span style=\"color: #d4b702; text-decoration-color: #d4b702\">│</span>\n",
       "<span style=\"color: #d4b702; text-decoration-color: #d4b702\">│</span>                                                                                                                 <span style=\"color: #d4b702; text-decoration-color: #d4b702\">│</span>\n",
       "<span style=\"color: #d4b702; text-decoration-color: #d4b702\">╰─ OpenAIServerModel - gpt://b1gbicod0scglhd49qs0/yandexgpt/rc ───────────────────────────────────────────────────╯</span>\n",
       "</pre>\n"
      ],
      "text/plain": [
       "\u001b[38;2;212;183;2m╭─\u001b[0m\u001b[38;2;212;183;2m───────────────────────────────────────────────────\u001b[0m\u001b[38;2;212;183;2m \u001b[0m\u001b[1;38;2;212;183;2mNew run\u001b[0m\u001b[38;2;212;183;2m \u001b[0m\u001b[38;2;212;183;2m───────────────────────────────────────────────────\u001b[0m\u001b[38;2;212;183;2m─╮\u001b[0m\n",
       "\u001b[38;2;212;183;2m│\u001b[0m                                                                                                                 \u001b[38;2;212;183;2m│\u001b[0m\n",
       "\u001b[38;2;212;183;2m│\u001b[0m \u001b[1mPrepare a menu for a dinner which consists of a main course, matching wine and a dessert.\u001b[0m                       \u001b[38;2;212;183;2m│\u001b[0m\n",
       "\u001b[38;2;212;183;2m│\u001b[0m \u001b[1m    Print the markdown table of food/drink items to order with their names and price. Calculate the total \u001b[0m      \u001b[38;2;212;183;2m│\u001b[0m\n",
       "\u001b[38;2;212;183;2m│\u001b[0m \u001b[1mprice.\u001b[0m                                                                                                          \u001b[38;2;212;183;2m│\u001b[0m\n",
       "\u001b[38;2;212;183;2m│\u001b[0m \u001b[1m    I want steak!\u001b[0m                                                                                               \u001b[38;2;212;183;2m│\u001b[0m\n",
       "\u001b[38;2;212;183;2m│\u001b[0m                                                                                                                 \u001b[38;2;212;183;2m│\u001b[0m\n",
       "\u001b[38;2;212;183;2m╰─\u001b[0m\u001b[38;2;212;183;2m OpenAIServerModel - gpt://b1gbicod0scglhd49qs0/yandexgpt/rc \u001b[0m\u001b[38;2;212;183;2m──────────────────────────────────────────────────\u001b[0m\u001b[38;2;212;183;2m─╯\u001b[0m\n"
      ]
     },
     "metadata": {},
     "output_type": "display_data"
    },
    {
     "data": {
      "text/html": [
       "<pre style=\"white-space:pre;overflow-x:auto;line-height:normal;font-family:Menlo,'DejaVu Sans Mono',consolas,'Courier New',monospace\"><span style=\"color: #d4b702; text-decoration-color: #d4b702\">━━━━━━━━━━━━━━━━━━━━━━━━━━━━━━━━━━━━━━━━━━━━━━━━━━━━━ </span><span style=\"font-weight: bold\">Step </span><span style=\"color: #008080; text-decoration-color: #008080; font-weight: bold\">1</span><span style=\"color: #d4b702; text-decoration-color: #d4b702\"> ━━━━━━━━━━━━━━━━━━━━━━━━━━━━━━━━━━━━━━━━━━━━━━━━━━━━━━</span>\n",
       "</pre>\n"
      ],
      "text/plain": [
       "\u001b[38;2;212;183;2m━━━━━━━━━━━━━━━━━━━━━━━━━━━━━━━━━━━━━━━━━━━━━━━━━━━━━ \u001b[0m\u001b[1mStep \u001b[0m\u001b[1;36m1\u001b[0m\u001b[38;2;212;183;2m ━━━━━━━━━━━━━━━━━━━━━━━━━━━━━━━━━━━━━━━━━━━━━━━━━━━━━━\u001b[0m\n"
      ]
     },
     "metadata": {},
     "output_type": "display_data"
    },
    {
     "data": {
      "text/html": [
       "<pre style=\"white-space:pre;overflow-x:auto;line-height:normal;font-family:Menlo,'DejaVu Sans Mono',consolas,'Courier New',monospace\"> ─ <span style=\"font-weight: bold\">Executing parsed code:</span> ──────────────────────────────────────────────────────────────────────────────────────── \n",
       "  <span style=\"color: #f8f8f2; text-decoration-color: #f8f8f2; background-color: #272822\">food_menu </span><span style=\"color: #ff4689; text-decoration-color: #ff4689; background-color: #272822\">=</span><span style=\"color: #f8f8f2; text-decoration-color: #f8f8f2; background-color: #272822\"> get_food_menu()</span><span style=\"background-color: #272822\">                                                                                    </span>  \n",
       "  <span style=\"color: #f8f8f2; text-decoration-color: #f8f8f2; background-color: #272822\">print(food_menu)</span><span style=\"background-color: #272822\">                                                                                               </span>  \n",
       "  <span style=\"color: #f8f8f2; text-decoration-color: #f8f8f2; background-color: #272822\">drinks_menu </span><span style=\"color: #ff4689; text-decoration-color: #ff4689; background-color: #272822\">=</span><span style=\"color: #f8f8f2; text-decoration-color: #f8f8f2; background-color: #272822\"> get_drinks_menu()</span><span style=\"background-color: #272822\">                                                                                </span>  \n",
       "  <span style=\"color: #f8f8f2; text-decoration-color: #f8f8f2; background-color: #272822\">print(drinks_menu)</span><span style=\"background-color: #272822\">                                                                                             </span>  \n",
       "  <span style=\"color: #f8f8f2; text-decoration-color: #f8f8f2; background-color: #272822\">matching_wine </span><span style=\"color: #ff4689; text-decoration-color: #ff4689; background-color: #272822\">=</span><span style=\"color: #f8f8f2; text-decoration-color: #f8f8f2; background-color: #272822\"> find_matching_wine(food</span><span style=\"color: #ff4689; text-decoration-color: #ff4689; background-color: #272822\">=</span><span style=\"color: #e6db74; text-decoration-color: #e6db74; background-color: #272822\">\"steak\"</span><span style=\"color: #f8f8f2; text-decoration-color: #f8f8f2; background-color: #272822\">)</span><span style=\"background-color: #272822\">                                                               </span>  \n",
       "  <span style=\"color: #f8f8f2; text-decoration-color: #f8f8f2; background-color: #272822\">print(</span><span style=\"color: #e6db74; text-decoration-color: #e6db74; background-color: #272822\">f\"Matching wine for steak: {</span><span style=\"color: #f8f8f2; text-decoration-color: #f8f8f2; background-color: #272822\">matching_wine</span><span style=\"color: #e6db74; text-decoration-color: #e6db74; background-color: #272822\">}\"</span><span style=\"color: #f8f8f2; text-decoration-color: #f8f8f2; background-color: #272822\">)</span><span style=\"background-color: #272822\">                                                             </span>  \n",
       " ───────────────────────────────────────────────────────────────────────────────────────────────────────────────── \n",
       "</pre>\n"
      ],
      "text/plain": [
       " ─ \u001b[1mExecuting parsed code:\u001b[0m ──────────────────────────────────────────────────────────────────────────────────────── \n",
       "  \u001b[38;2;248;248;242;48;2;39;40;34mfood_menu\u001b[0m\u001b[38;2;248;248;242;48;2;39;40;34m \u001b[0m\u001b[38;2;255;70;137;48;2;39;40;34m=\u001b[0m\u001b[38;2;248;248;242;48;2;39;40;34m \u001b[0m\u001b[38;2;248;248;242;48;2;39;40;34mget_food_menu\u001b[0m\u001b[38;2;248;248;242;48;2;39;40;34m(\u001b[0m\u001b[38;2;248;248;242;48;2;39;40;34m)\u001b[0m\u001b[48;2;39;40;34m                                                                                    \u001b[0m  \n",
       "  \u001b[38;2;248;248;242;48;2;39;40;34mprint\u001b[0m\u001b[38;2;248;248;242;48;2;39;40;34m(\u001b[0m\u001b[38;2;248;248;242;48;2;39;40;34mfood_menu\u001b[0m\u001b[38;2;248;248;242;48;2;39;40;34m)\u001b[0m\u001b[48;2;39;40;34m                                                                                               \u001b[0m  \n",
       "  \u001b[38;2;248;248;242;48;2;39;40;34mdrinks_menu\u001b[0m\u001b[38;2;248;248;242;48;2;39;40;34m \u001b[0m\u001b[38;2;255;70;137;48;2;39;40;34m=\u001b[0m\u001b[38;2;248;248;242;48;2;39;40;34m \u001b[0m\u001b[38;2;248;248;242;48;2;39;40;34mget_drinks_menu\u001b[0m\u001b[38;2;248;248;242;48;2;39;40;34m(\u001b[0m\u001b[38;2;248;248;242;48;2;39;40;34m)\u001b[0m\u001b[48;2;39;40;34m                                                                                \u001b[0m  \n",
       "  \u001b[38;2;248;248;242;48;2;39;40;34mprint\u001b[0m\u001b[38;2;248;248;242;48;2;39;40;34m(\u001b[0m\u001b[38;2;248;248;242;48;2;39;40;34mdrinks_menu\u001b[0m\u001b[38;2;248;248;242;48;2;39;40;34m)\u001b[0m\u001b[48;2;39;40;34m                                                                                             \u001b[0m  \n",
       "  \u001b[38;2;248;248;242;48;2;39;40;34mmatching_wine\u001b[0m\u001b[38;2;248;248;242;48;2;39;40;34m \u001b[0m\u001b[38;2;255;70;137;48;2;39;40;34m=\u001b[0m\u001b[38;2;248;248;242;48;2;39;40;34m \u001b[0m\u001b[38;2;248;248;242;48;2;39;40;34mfind_matching_wine\u001b[0m\u001b[38;2;248;248;242;48;2;39;40;34m(\u001b[0m\u001b[38;2;248;248;242;48;2;39;40;34mfood\u001b[0m\u001b[38;2;255;70;137;48;2;39;40;34m=\u001b[0m\u001b[38;2;230;219;116;48;2;39;40;34m\"\u001b[0m\u001b[38;2;230;219;116;48;2;39;40;34msteak\u001b[0m\u001b[38;2;230;219;116;48;2;39;40;34m\"\u001b[0m\u001b[38;2;248;248;242;48;2;39;40;34m)\u001b[0m\u001b[48;2;39;40;34m                                                               \u001b[0m  \n",
       "  \u001b[38;2;248;248;242;48;2;39;40;34mprint\u001b[0m\u001b[38;2;248;248;242;48;2;39;40;34m(\u001b[0m\u001b[38;2;230;219;116;48;2;39;40;34mf\u001b[0m\u001b[38;2;230;219;116;48;2;39;40;34m\"\u001b[0m\u001b[38;2;230;219;116;48;2;39;40;34mMatching wine for steak: \u001b[0m\u001b[38;2;230;219;116;48;2;39;40;34m{\u001b[0m\u001b[38;2;248;248;242;48;2;39;40;34mmatching_wine\u001b[0m\u001b[38;2;230;219;116;48;2;39;40;34m}\u001b[0m\u001b[38;2;230;219;116;48;2;39;40;34m\"\u001b[0m\u001b[38;2;248;248;242;48;2;39;40;34m)\u001b[0m\u001b[48;2;39;40;34m                                                             \u001b[0m  \n",
       " ───────────────────────────────────────────────────────────────────────────────────────────────────────────────── \n"
      ]
     },
     "metadata": {},
     "output_type": "display_data"
    },
    {
     "data": {
      "text/html": [
       "<pre style=\"white-space:pre;overflow-x:auto;line-height:normal;font-family:Menlo,'DejaVu Sans Mono',consolas,'Courier New',monospace\"><span style=\"font-weight: bold\">Execution logs:</span>\n",
       "| Dish Name                     | Description                                                                 | \n",
       "Type     | Price (RUB) |  \n",
       "|-------------------------------|-----------------------------------------------------------------------------|----\n",
       "------|-------------|  \n",
       "| **\"Bull on Edge\" Steak**      | Juicy ribeye with a pink center, slow-cooked in the smoke of Argentine passion. \n",
       "Served with Himalayan gold salt. | Steak    | 2500        |  \n",
       "| **\"Tenderness of an Enraged Cow\" Steak** | Filet mignon marinated in pomegranate juice and the chef's whispers. \n",
       "Plus \"Dragon Wing-Style\" potatoes. | Steak    | 1800        |  \n",
       "| **\"Steak for a Modest Oligarch\"** | Beef cheek braised for 12 hours in wine from Napoleon's cellar (well, \n",
       "almost). With crispy zucchini chips. | Steak    | 1200        |  \n",
       "| **\"Salmon Dreaming of Norway\"** | Delicate fillet baked under a crust of \"mysterious northern herbs\" (dill). \n",
       "Served with lemon breeze. | Fish     | 1900        |  \n",
       "| **\"Octopus That Saw Too Much\"** | Grilled squid with ink sauce and a hint of Mediterranean secrets. For bold \n",
       "gourmets. | Fish     | 2200        |  \n",
       "| **\"Dorado in a Fur Coat\"**   | Dorado fillet wrapped in a crispy potato shell. With \"Atlantis Mystery\" sauce. | \n",
       "Fish     | 1600        |  \n",
       "| **\"Potato 'I Can Be Truffle Too'\"** | Tender slices roasted with rosemary and a hint of luxury. Served with \n",
       "Pyrenean air. | Side     | 600         |  \n",
       "| **\"Mushrooms That Danced Under the Moon\"** | Grilled champignons with garlic sauce and a psychedelic twist. | \n",
       "Side     | 450         |  \n",
       "| **\"Croissants, But Not Those\"** | Honey-glazed mini-carrots evoking a Parisian childhood. | Side     | 350       \n",
       "|  \n",
       "| **\"Chocolate Apocalypse\"**   | 72% cocoa dessert that detonates taste buds. With \"Heavenly Cloud\" ice cream. | \n",
       "Dessert  | 800         |  \n",
       "| **\"Cheesecake That Saw God\"** | Fluffy, with caramel made from angel tears and \"paradise cookie\" crumbs. | \n",
       "Dessert  | 750         |  \n",
       "| **\"Tiramisu for Adults\"**    | Classic, but with a \"secret ingredient\" (coffee—what did *you* think?). | Dessert \n",
       "| 700         |  \n",
       "| Wine / Drink               | Winery / Producer               | Year | Type            | Price per glass (RUB) |  \n",
       "|----------------------------|----------------------------------|------|-----------------|----------------------|  \n",
       "| Cabernet Sauvignon         | Château Lafite Rothschild, France | 2018 | Red Wine        | 4500                 | \n",
       "| Merlot                     | Marchesi Antinori, Italy         | 2019 | Red Wine        | 2800                 |  \n",
       "| Pinot Noir                 | Domaine de la Romanée-Conti, France | 2017 | Red Wine        | 5200                 \n",
       "|  \n",
       "| Shiraz                     | Penfolds, Australia              | 2018 | Red Wine        | 3200                 |  \n",
       "| Malbec                     | Catena Zapata, Argentina         | 2020 | Red Wine        | 2900                 |  \n",
       "| Sauvignon Blanc            | Cloudy Bay, New Zealand          | 2021 | White Wine      | 3800                 |  \n",
       "| Chardonnay                 | Louis Latour, France             | 2020 | White Wine      | 3500                 |  \n",
       "| Riesling                   | Dr. Loosen, Germany              | 2019 | White Wine      | 3100                 |  \n",
       "| Pinot Grigio               | Santa Margherita, Italy          | 2021 | White Wine      | 2700                 |  \n",
       "| Gewürztraminer             | Trimbach, France                 | 2020 | White Wine      | 3300                 |  \n",
       "| Scotch Whisky              | Macallan 12 Years, Scotland      | –    | Strong Alcohol  | 2500                 |  \n",
       "| Tequila                    | Don Julio Añejo, Mexico          | –    | Strong Alcohol  | 2200                 |  \n",
       "| Mojito                     | House Cocktail                   | –    | Cocktail        | 600                  |  \n",
       "| Bloody Mary                | House Cocktail                   | –    | Cocktail        | 650                  |  \n",
       "| Orange Juice               | Freshly Squeezed                 | –    | Non-Alcoholic   | 350                  |  \n",
       "| Ginger Lemonade            | House-Made                       | –    | Non-Alcoholic   | 400                  |  \n",
       "| Mineral Water              | Voss, Norway                     | –    | Water           | 500                  |  \n",
       "Matching wine for steak: Best matching wines:\n",
       "1. Red wine: For rare—aged \"noble\" Tempranillo (Ribera del Duero Reserva+), Sangiovese (Chianti Riserva, Brunello),\n",
       "\"Super Tuscan,\" Right Bank Bordeaux, silky Argentine Malbec. For medium/well-done—dry/off-dry Syrah (Shiraz), \n",
       "Cabernet Sauvignon, full-bodied Malbec, Primitivo, Zinfandel, aged Aglianico, aged Rhône blends (Grenache + Syrah +\n",
       "Mourvèdre), Priorat (6–8+ years aging).\n",
       "2. Red wine: Light and elegant Pinot Noir, Nerello Mascalese, elegantly made and aged Merlot. Also, rounded aged \n",
       "Nebbiolo (Barbaresco), Tempranillo (Ribera del Duero), Sangiovese (Chianti Riserva).\n",
       "3. Red wine: Dry and off-dry Garnacha (Grenache), Merlot, Carmenère, Mencía, full-bodied Pinot Noir (worldwide), \n",
       "Russian Krasnostop, Gamay (Beaujolais-Villages).\n",
       "\n",
       "Out: None\n",
       "</pre>\n"
      ],
      "text/plain": [
       "\u001b[1mExecution logs:\u001b[0m\n",
       "| Dish Name                     | Description                                                                 | \n",
       "Type     | Price (RUB) |  \n",
       "|-------------------------------|-----------------------------------------------------------------------------|----\n",
       "------|-------------|  \n",
       "| **\"Bull on Edge\" Steak**      | Juicy ribeye with a pink center, slow-cooked in the smoke of Argentine passion. \n",
       "Served with Himalayan gold salt. | Steak    | 2500        |  \n",
       "| **\"Tenderness of an Enraged Cow\" Steak** | Filet mignon marinated in pomegranate juice and the chef's whispers. \n",
       "Plus \"Dragon Wing-Style\" potatoes. | Steak    | 1800        |  \n",
       "| **\"Steak for a Modest Oligarch\"** | Beef cheek braised for 12 hours in wine from Napoleon's cellar (well, \n",
       "almost). With crispy zucchini chips. | Steak    | 1200        |  \n",
       "| **\"Salmon Dreaming of Norway\"** | Delicate fillet baked under a crust of \"mysterious northern herbs\" (dill). \n",
       "Served with lemon breeze. | Fish     | 1900        |  \n",
       "| **\"Octopus That Saw Too Much\"** | Grilled squid with ink sauce and a hint of Mediterranean secrets. For bold \n",
       "gourmets. | Fish     | 2200        |  \n",
       "| **\"Dorado in a Fur Coat\"**   | Dorado fillet wrapped in a crispy potato shell. With \"Atlantis Mystery\" sauce. | \n",
       "Fish     | 1600        |  \n",
       "| **\"Potato 'I Can Be Truffle Too'\"** | Tender slices roasted with rosemary and a hint of luxury. Served with \n",
       "Pyrenean air. | Side     | 600         |  \n",
       "| **\"Mushrooms That Danced Under the Moon\"** | Grilled champignons with garlic sauce and a psychedelic twist. | \n",
       "Side     | 450         |  \n",
       "| **\"Croissants, But Not Those\"** | Honey-glazed mini-carrots evoking a Parisian childhood. | Side     | 350       \n",
       "|  \n",
       "| **\"Chocolate Apocalypse\"**   | 72% cocoa dessert that detonates taste buds. With \"Heavenly Cloud\" ice cream. | \n",
       "Dessert  | 800         |  \n",
       "| **\"Cheesecake That Saw God\"** | Fluffy, with caramel made from angel tears and \"paradise cookie\" crumbs. | \n",
       "Dessert  | 750         |  \n",
       "| **\"Tiramisu for Adults\"**    | Classic, but with a \"secret ingredient\" (coffee—what did *you* think?). | Dessert \n",
       "| 700         |  \n",
       "| Wine / Drink               | Winery / Producer               | Year | Type            | Price per glass (RUB) |  \n",
       "|----------------------------|----------------------------------|------|-----------------|----------------------|  \n",
       "| Cabernet Sauvignon         | Château Lafite Rothschild, France | 2018 | Red Wine        | 4500                 | \n",
       "| Merlot                     | Marchesi Antinori, Italy         | 2019 | Red Wine        | 2800                 |  \n",
       "| Pinot Noir                 | Domaine de la Romanée-Conti, France | 2017 | Red Wine        | 5200                 \n",
       "|  \n",
       "| Shiraz                     | Penfolds, Australia              | 2018 | Red Wine        | 3200                 |  \n",
       "| Malbec                     | Catena Zapata, Argentina         | 2020 | Red Wine        | 2900                 |  \n",
       "| Sauvignon Blanc            | Cloudy Bay, New Zealand          | 2021 | White Wine      | 3800                 |  \n",
       "| Chardonnay                 | Louis Latour, France             | 2020 | White Wine      | 3500                 |  \n",
       "| Riesling                   | Dr. Loosen, Germany              | 2019 | White Wine      | 3100                 |  \n",
       "| Pinot Grigio               | Santa Margherita, Italy          | 2021 | White Wine      | 2700                 |  \n",
       "| Gewürztraminer             | Trimbach, France                 | 2020 | White Wine      | 3300                 |  \n",
       "| Scotch Whisky              | Macallan 12 Years, Scotland      | –    | Strong Alcohol  | 2500                 |  \n",
       "| Tequila                    | Don Julio Añejo, Mexico          | –    | Strong Alcohol  | 2200                 |  \n",
       "| Mojito                     | House Cocktail                   | –    | Cocktail        | 600                  |  \n",
       "| Bloody Mary                | House Cocktail                   | –    | Cocktail        | 650                  |  \n",
       "| Orange Juice               | Freshly Squeezed                 | –    | Non-Alcoholic   | 350                  |  \n",
       "| Ginger Lemonade            | House-Made                       | –    | Non-Alcoholic   | 400                  |  \n",
       "| Mineral Water              | Voss, Norway                     | –    | Water           | 500                  |  \n",
       "Matching wine for steak: Best matching wines:\n",
       "1. Red wine: For rare—aged \"noble\" Tempranillo (Ribera del Duero Reserva+), Sangiovese (Chianti Riserva, Brunello),\n",
       "\"Super Tuscan,\" Right Bank Bordeaux, silky Argentine Malbec. For medium/well-done—dry/off-dry Syrah (Shiraz), \n",
       "Cabernet Sauvignon, full-bodied Malbec, Primitivo, Zinfandel, aged Aglianico, aged Rhône blends (Grenache + Syrah +\n",
       "Mourvèdre), Priorat (6–8+ years aging).\n",
       "2. Red wine: Light and elegant Pinot Noir, Nerello Mascalese, elegantly made and aged Merlot. Also, rounded aged \n",
       "Nebbiolo (Barbaresco), Tempranillo (Ribera del Duero), Sangiovese (Chianti Riserva).\n",
       "3. Red wine: Dry and off-dry Garnacha (Grenache), Merlot, Carmenère, Mencía, full-bodied Pinot Noir (worldwide), \n",
       "Russian Krasnostop, Gamay (Beaujolais-Villages).\n",
       "\n",
       "Out: None\n"
      ]
     },
     "metadata": {},
     "output_type": "display_data"
    },
    {
     "data": {
      "text/html": [
       "<pre style=\"white-space:pre;overflow-x:auto;line-height:normal;font-family:Menlo,'DejaVu Sans Mono',consolas,'Courier New',monospace\"><span style=\"color: #7f7f7f; text-decoration-color: #7f7f7f\">[Step 1: Duration 3.57 seconds| Input tokens: 2,466 | Output tokens: 118]</span>\n",
       "</pre>\n"
      ],
      "text/plain": [
       "\u001b[2m[Step 1: Duration 3.57 seconds| Input tokens: 2,466 | Output tokens: 118]\u001b[0m\n"
      ]
     },
     "metadata": {},
     "output_type": "display_data"
    },
    {
     "data": {
      "text/html": [
       "<pre style=\"white-space:pre;overflow-x:auto;line-height:normal;font-family:Menlo,'DejaVu Sans Mono',consolas,'Courier New',monospace\"><span style=\"color: #d4b702; text-decoration-color: #d4b702\">━━━━━━━━━━━━━━━━━━━━━━━━━━━━━━━━━━━━━━━━━━━━━━━━━━━━━ </span><span style=\"font-weight: bold\">Step </span><span style=\"color: #008080; text-decoration-color: #008080; font-weight: bold\">2</span><span style=\"color: #d4b702; text-decoration-color: #d4b702\"> ━━━━━━━━━━━━━━━━━━━━━━━━━━━━━━━━━━━━━━━━━━━━━━━━━━━━━━</span>\n",
       "</pre>\n"
      ],
      "text/plain": [
       "\u001b[38;2;212;183;2m━━━━━━━━━━━━━━━━━━━━━━━━━━━━━━━━━━━━━━━━━━━━━━━━━━━━━ \u001b[0m\u001b[1mStep \u001b[0m\u001b[1;36m2\u001b[0m\u001b[38;2;212;183;2m ━━━━━━━━━━━━━━━━━━━━━━━━━━━━━━━━━━━━━━━━━━━━━━━━━━━━━━\u001b[0m\n"
      ]
     },
     "metadata": {},
     "output_type": "display_data"
    },
    {
     "data": {
      "text/html": [
       "<pre style=\"white-space:pre;overflow-x:auto;line-height:normal;font-family:Menlo,'DejaVu Sans Mono',consolas,'Courier New',monospace\"> ─ <span style=\"font-weight: bold\">Executing parsed code:</span> ──────────────────────────────────────────────────────────────────────────────────────── \n",
       "  <span style=\"color: #f8f8f2; text-decoration-color: #f8f8f2; background-color: #272822\">steak_price </span><span style=\"color: #ff4689; text-decoration-color: #ff4689; background-color: #272822\">=</span><span style=\"color: #f8f8f2; text-decoration-color: #f8f8f2; background-color: #272822\"> </span><span style=\"color: #ae81ff; text-decoration-color: #ae81ff; background-color: #272822\">2500</span><span style=\"background-color: #272822\">                                                                                             </span>  \n",
       "  <span style=\"color: #f8f8f2; text-decoration-color: #f8f8f2; background-color: #272822\">wine_price </span><span style=\"color: #ff4689; text-decoration-color: #ff4689; background-color: #272822\">=</span><span style=\"color: #f8f8f2; text-decoration-color: #f8f8f2; background-color: #272822\"> </span><span style=\"color: #ae81ff; text-decoration-color: #ae81ff; background-color: #272822\">4500</span><span style=\"background-color: #272822\">                                                                                              </span>  \n",
       "  <span style=\"color: #f8f8f2; text-decoration-color: #f8f8f2; background-color: #272822\">dessert_price </span><span style=\"color: #ff4689; text-decoration-color: #ff4689; background-color: #272822\">=</span><span style=\"color: #f8f8f2; text-decoration-color: #f8f8f2; background-color: #272822\"> </span><span style=\"color: #ae81ff; text-decoration-color: #ae81ff; background-color: #272822\">800</span><span style=\"background-color: #272822\">                                                                                            </span>  \n",
       "  <span style=\"color: #f8f8f2; text-decoration-color: #f8f8f2; background-color: #272822\">total_price </span><span style=\"color: #ff4689; text-decoration-color: #ff4689; background-color: #272822\">=</span><span style=\"color: #f8f8f2; text-decoration-color: #f8f8f2; background-color: #272822\"> steak_price </span><span style=\"color: #ff4689; text-decoration-color: #ff4689; background-color: #272822\">+</span><span style=\"color: #f8f8f2; text-decoration-color: #f8f8f2; background-color: #272822\"> wine_price </span><span style=\"color: #ff4689; text-decoration-color: #ff4689; background-color: #272822\">+</span><span style=\"color: #f8f8f2; text-decoration-color: #f8f8f2; background-color: #272822\"> dessert_price</span><span style=\"background-color: #272822\">                                                         </span>  \n",
       "  <span style=\"color: #f8f8f2; text-decoration-color: #f8f8f2; background-color: #272822\">final_answer(</span><span style=\"color: #e6db74; text-decoration-color: #e6db74; background-color: #272822\">f\"Menu:</span><span style=\"color: #ae81ff; text-decoration-color: #ae81ff; background-color: #272822\">\\n</span><span style=\"color: #e6db74; text-decoration-color: #e6db74; background-color: #272822\">Steak: 'Bull on Edge' - {</span><span style=\"color: #f8f8f2; text-decoration-color: #f8f8f2; background-color: #272822\">steak_price</span><span style=\"color: #e6db74; text-decoration-color: #e6db74; background-color: #272822\">} RUB</span><span style=\"color: #ae81ff; text-decoration-color: #ae81ff; background-color: #272822\">\\n</span><span style=\"color: #e6db74; text-decoration-color: #e6db74; background-color: #272822\">Wine: Cabernet Sauvignon - {</span><span style=\"color: #f8f8f2; text-decoration-color: #f8f8f2; background-color: #272822\">wine_price</span><span style=\"color: #e6db74; text-decoration-color: #e6db74; background-color: #272822\">} </span><span style=\"background-color: #272822\">      </span>  \n",
       "  <span style=\"color: #e6db74; text-decoration-color: #e6db74; background-color: #272822\">RUB</span><span style=\"color: #ae81ff; text-decoration-color: #ae81ff; background-color: #272822\">\\n</span><span style=\"color: #e6db74; text-decoration-color: #e6db74; background-color: #272822\">Dessert: 'Chocolate Apocalypse' - {</span><span style=\"color: #f8f8f2; text-decoration-color: #f8f8f2; background-color: #272822\">dessert_price</span><span style=\"color: #e6db74; text-decoration-color: #e6db74; background-color: #272822\">} RUB</span><span style=\"color: #ae81ff; text-decoration-color: #ae81ff; background-color: #272822\">\\n</span><span style=\"color: #e6db74; text-decoration-color: #e6db74; background-color: #272822\">Total price: {</span><span style=\"color: #f8f8f2; text-decoration-color: #f8f8f2; background-color: #272822\">total_price</span><span style=\"color: #e6db74; text-decoration-color: #e6db74; background-color: #272822\">} RUB\"</span><span style=\"color: #f8f8f2; text-decoration-color: #f8f8f2; background-color: #272822\">)</span><span style=\"background-color: #272822\">                   </span>  \n",
       " ───────────────────────────────────────────────────────────────────────────────────────────────────────────────── \n",
       "</pre>\n"
      ],
      "text/plain": [
       " ─ \u001b[1mExecuting parsed code:\u001b[0m ──────────────────────────────────────────────────────────────────────────────────────── \n",
       "  \u001b[38;2;248;248;242;48;2;39;40;34msteak_price\u001b[0m\u001b[38;2;248;248;242;48;2;39;40;34m \u001b[0m\u001b[38;2;255;70;137;48;2;39;40;34m=\u001b[0m\u001b[38;2;248;248;242;48;2;39;40;34m \u001b[0m\u001b[38;2;174;129;255;48;2;39;40;34m2500\u001b[0m\u001b[48;2;39;40;34m                                                                                             \u001b[0m  \n",
       "  \u001b[38;2;248;248;242;48;2;39;40;34mwine_price\u001b[0m\u001b[38;2;248;248;242;48;2;39;40;34m \u001b[0m\u001b[38;2;255;70;137;48;2;39;40;34m=\u001b[0m\u001b[38;2;248;248;242;48;2;39;40;34m \u001b[0m\u001b[38;2;174;129;255;48;2;39;40;34m4500\u001b[0m\u001b[48;2;39;40;34m                                                                                              \u001b[0m  \n",
       "  \u001b[38;2;248;248;242;48;2;39;40;34mdessert_price\u001b[0m\u001b[38;2;248;248;242;48;2;39;40;34m \u001b[0m\u001b[38;2;255;70;137;48;2;39;40;34m=\u001b[0m\u001b[38;2;248;248;242;48;2;39;40;34m \u001b[0m\u001b[38;2;174;129;255;48;2;39;40;34m800\u001b[0m\u001b[48;2;39;40;34m                                                                                            \u001b[0m  \n",
       "  \u001b[38;2;248;248;242;48;2;39;40;34mtotal_price\u001b[0m\u001b[38;2;248;248;242;48;2;39;40;34m \u001b[0m\u001b[38;2;255;70;137;48;2;39;40;34m=\u001b[0m\u001b[38;2;248;248;242;48;2;39;40;34m \u001b[0m\u001b[38;2;248;248;242;48;2;39;40;34msteak_price\u001b[0m\u001b[38;2;248;248;242;48;2;39;40;34m \u001b[0m\u001b[38;2;255;70;137;48;2;39;40;34m+\u001b[0m\u001b[38;2;248;248;242;48;2;39;40;34m \u001b[0m\u001b[38;2;248;248;242;48;2;39;40;34mwine_price\u001b[0m\u001b[38;2;248;248;242;48;2;39;40;34m \u001b[0m\u001b[38;2;255;70;137;48;2;39;40;34m+\u001b[0m\u001b[38;2;248;248;242;48;2;39;40;34m \u001b[0m\u001b[38;2;248;248;242;48;2;39;40;34mdessert_price\u001b[0m\u001b[48;2;39;40;34m                                                         \u001b[0m  \n",
       "  \u001b[38;2;248;248;242;48;2;39;40;34mfinal_answer\u001b[0m\u001b[38;2;248;248;242;48;2;39;40;34m(\u001b[0m\u001b[38;2;230;219;116;48;2;39;40;34mf\u001b[0m\u001b[38;2;230;219;116;48;2;39;40;34m\"\u001b[0m\u001b[38;2;230;219;116;48;2;39;40;34mMenu:\u001b[0m\u001b[38;2;174;129;255;48;2;39;40;34m\\n\u001b[0m\u001b[38;2;230;219;116;48;2;39;40;34mSteak: \u001b[0m\u001b[38;2;230;219;116;48;2;39;40;34m'\u001b[0m\u001b[38;2;230;219;116;48;2;39;40;34mBull on Edge\u001b[0m\u001b[38;2;230;219;116;48;2;39;40;34m'\u001b[0m\u001b[38;2;230;219;116;48;2;39;40;34m - \u001b[0m\u001b[38;2;230;219;116;48;2;39;40;34m{\u001b[0m\u001b[38;2;248;248;242;48;2;39;40;34msteak_price\u001b[0m\u001b[38;2;230;219;116;48;2;39;40;34m}\u001b[0m\u001b[38;2;230;219;116;48;2;39;40;34m RUB\u001b[0m\u001b[38;2;174;129;255;48;2;39;40;34m\\n\u001b[0m\u001b[38;2;230;219;116;48;2;39;40;34mWine: Cabernet Sauvignon - \u001b[0m\u001b[38;2;230;219;116;48;2;39;40;34m{\u001b[0m\u001b[38;2;248;248;242;48;2;39;40;34mwine_price\u001b[0m\u001b[38;2;230;219;116;48;2;39;40;34m}\u001b[0m\u001b[38;2;230;219;116;48;2;39;40;34m \u001b[0m\u001b[48;2;39;40;34m      \u001b[0m  \n",
       "  \u001b[38;2;230;219;116;48;2;39;40;34mRUB\u001b[0m\u001b[38;2;174;129;255;48;2;39;40;34m\\n\u001b[0m\u001b[38;2;230;219;116;48;2;39;40;34mDessert: \u001b[0m\u001b[38;2;230;219;116;48;2;39;40;34m'\u001b[0m\u001b[38;2;230;219;116;48;2;39;40;34mChocolate Apocalypse\u001b[0m\u001b[38;2;230;219;116;48;2;39;40;34m'\u001b[0m\u001b[38;2;230;219;116;48;2;39;40;34m - \u001b[0m\u001b[38;2;230;219;116;48;2;39;40;34m{\u001b[0m\u001b[38;2;248;248;242;48;2;39;40;34mdessert_price\u001b[0m\u001b[38;2;230;219;116;48;2;39;40;34m}\u001b[0m\u001b[38;2;230;219;116;48;2;39;40;34m RUB\u001b[0m\u001b[38;2;174;129;255;48;2;39;40;34m\\n\u001b[0m\u001b[38;2;230;219;116;48;2;39;40;34mTotal price: \u001b[0m\u001b[38;2;230;219;116;48;2;39;40;34m{\u001b[0m\u001b[38;2;248;248;242;48;2;39;40;34mtotal_price\u001b[0m\u001b[38;2;230;219;116;48;2;39;40;34m}\u001b[0m\u001b[38;2;230;219;116;48;2;39;40;34m RUB\u001b[0m\u001b[38;2;230;219;116;48;2;39;40;34m\"\u001b[0m\u001b[38;2;248;248;242;48;2;39;40;34m)\u001b[0m\u001b[48;2;39;40;34m                   \u001b[0m  \n",
       " ───────────────────────────────────────────────────────────────────────────────────────────────────────────────── \n"
      ]
     },
     "metadata": {},
     "output_type": "display_data"
    },
    {
     "data": {
      "text/html": [
       "<pre style=\"white-space:pre;overflow-x:auto;line-height:normal;font-family:Menlo,'DejaVu Sans Mono',consolas,'Courier New',monospace\"><span style=\"color: #d4b702; text-decoration-color: #d4b702; font-weight: bold\">Out - Final answer: Menu:</span>\n",
       "<span style=\"color: #d4b702; text-decoration-color: #d4b702; font-weight: bold\">Steak: 'Bull on Edge' - 2500 RUB</span>\n",
       "<span style=\"color: #d4b702; text-decoration-color: #d4b702; font-weight: bold\">Wine: Cabernet Sauvignon - 4500 RUB</span>\n",
       "<span style=\"color: #d4b702; text-decoration-color: #d4b702; font-weight: bold\">Dessert: 'Chocolate Apocalypse' - 800 RUB</span>\n",
       "<span style=\"color: #d4b702; text-decoration-color: #d4b702; font-weight: bold\">Total price: 7800 RUB</span>\n",
       "</pre>\n"
      ],
      "text/plain": [
       "\u001b[1;38;2;212;183;2mOut - Final answer: Menu:\u001b[0m\n",
       "\u001b[1;38;2;212;183;2mSteak: 'Bull on Edge' - 2500 RUB\u001b[0m\n",
       "\u001b[1;38;2;212;183;2mWine: Cabernet Sauvignon - 4500 RUB\u001b[0m\n",
       "\u001b[1;38;2;212;183;2mDessert: 'Chocolate Apocalypse' - 800 RUB\u001b[0m\n",
       "\u001b[1;38;2;212;183;2mTotal price: 7800 RUB\u001b[0m\n"
      ]
     },
     "metadata": {},
     "output_type": "display_data"
    },
    {
     "data": {
      "text/html": [
       "<pre style=\"white-space:pre;overflow-x:auto;line-height:normal;font-family:Menlo,'DejaVu Sans Mono',consolas,'Courier New',monospace\"><span style=\"color: #7f7f7f; text-decoration-color: #7f7f7f\">[Step 2: Duration 3.60 seconds| Input tokens: 6,635 | Output tokens: 293]</span>\n",
       "</pre>\n"
      ],
      "text/plain": [
       "\u001b[2m[Step 2: Duration 3.60 seconds| Input tokens: 6,635 | Output tokens: 293]\u001b[0m\n"
      ]
     },
     "metadata": {},
     "output_type": "display_data"
    }
   ],
   "source": [
    "with MCPClient({\"url\" : \"http://127.0.0.1:8000/sse\"}) as res_tools:\n",
    "    agent = CodeAgent(\n",
    "        tools=res_tools+[find_matching_food,find_matching_wine], \n",
    "        model=ygpt_model)\n",
    "    agent.run(\"\"\"\n",
    "    Prepare a menu for a dinner which consists of a main course, matching wine and a dessert.\n",
    "    Print the markdown table of food/drink items to order with their names and price. Calculate the total price.\n",
    "    I want steak!\n",
    "    \"\"\")"
   ]
  },
  {
   "cell_type": "markdown",
   "id": "d3349c70",
   "metadata": {},
   "source": [
    "## Takeaway\n",
    "\n",
    "Code Agents is a way to describe very flexible agents that can plan steps to solve a problem and can execute it. However, it is difficult to predict which steps would be taken each time, and whether the agent will succeed. Coding agents are a good architecture for research problems (similar to OpenAI Deep Research)."
   ]
  }
 ],
 "metadata": {
  "kernelspec": {
   "display_name": "mas",
   "language": "python",
   "name": "python3"
  },
  "language_info": {
   "codemirror_mode": {
    "name": "ipython",
    "version": 3
   },
   "file_extension": ".py",
   "mimetype": "text/x-python",
   "name": "python",
   "nbconvert_exporter": "python",
   "pygments_lexer": "ipython3",
   "version": "3.12.0"
  }
 },
 "nbformat": 4,
 "nbformat_minor": 5
}
