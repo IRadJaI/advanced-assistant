{
 "cells": [
  {
   "cell_type": "markdown",
   "id": "f7c3de02",
   "metadata": {},
   "source": [
    "## AI Assistant API Agents\n",
    "\n",
    "Yandex Cloud contains native API for creating RAG-based intelligent agents that support both information retrieval and arbitrary function calling tools. The easiest way to use AI Assistant API is through a library called [Yandex Cloud ML SDK](https://yandex.cloud/ru/docs/foundation-models/sdk/). Its [GitHub Repo](https://github.com/yandex-cloud/yandex-cloud-ml-sdk) contains numerous examples of using it.\n",
    "\n",
    "First, let's install it: "
   ]
  },
  {
   "cell_type": "code",
   "execution_count": null,
   "id": "5d85b0df",
   "metadata": {},
   "outputs": [],
   "source": [
    "%pip install yandex-cloud-ml-sdk pydantic"
   ]
  },
  {
   "cell_type": "markdown",
   "id": "12667a89",
   "metadata": {},
   "source": [
    "We will assume that credentials required to run Yandex Foundation Models are stored in environment variables `folder_id` and `api_key` (eg. Datasphere Secrets or dotenv). Here is how we can start using YandexGPT model through SDK:"
   ]
  },
  {
   "cell_type": "code",
   "execution_count": 1,
   "id": "2eb1745f",
   "metadata": {},
   "outputs": [],
   "source": [
    "import os\n",
    "from yandex_cloud_ml_sdk import YCloudML\n",
    "\n",
    "folder_id = os.environ[\"folder_id\"]\n",
    "api_key = os.environ[\"api_key\"]\n",
    "\n",
    "sdk = YCloudML(folder_id=folder_id, auth=api_key)\n",
    "\n",
    "# Uncomment this, if you want to see what SDK is doing under the hood\n",
    "# sdk.setup_default_logging(log_level='DEBUG')\n",
    "\n",
    "model = sdk.models.completions(\"yandexgpt\", model_version=\"rc\")"
   ]
  },
  {
   "cell_type": "code",
   "execution_count": 2,
   "id": "6293c1c5",
   "metadata": {},
   "outputs": [
    {
     "data": {
      "text/markdown": [
       "When pairing wine with steak, several options can complement the flavors and texture of the meat. Here are some popular choices:\n",
       "\n",
       "1. **Cabernet Sauvignon**: Known for its bold, full-bodied flavor and firm tannins, Cabernet Sauvignon pairs well with the richness of steak. The wine's structure can stand up to the intensity of the meat.\n",
       "\n",
       "2. **Merlot**: Often softer and more approachable than Cabernet Sauvignon, Merlot offers a balance of fruitiness and structure that pairs nicely with steak. It can be a good choice for those who prefer a slightly less tannic wine.\n",
       "\n",
       "3. **Bordeaux**: A blend of grapes including Cabernet Sauvignon and Merlot, Bordeaux wines are known for their complexity and depth. They can offer a sophisticated pairing with steak, especially with well-aged steaks.\n",
       "\n",
       "4. **Malbec**: Originating from Argentina, Malbec is known for its dark fruit flavors and smooth texture. It pairs well with steak, offering a rich and satisfying experience.\n",
       "\n",
       "5. **Zinfandel**: With its bold fruit flavors and spiciness, Zinfandel can be an excellent match for steak, especially for those who enjoy a more fruit-forward wine.\n",
       "\n",
       "6. **Syrah/Shiraz**: Depending on the region, Syrah or Shiraz can offer a range of flavors from peppery to fruity. Its boldness makes it a good companion to steak, especially when the steak is grilled or seasoned with bold spices.\n",
       "\n",
       "Each of these wines brings its own unique characteristics to the dining experience, so the best choice may depend on your personal taste preferences and the specific cut of steak you are enjoying."
      ],
      "text/plain": [
       "<IPython.core.display.Markdown object>"
      ]
     },
     "metadata": {},
     "output_type": "display_data"
    },
    {
     "name": "stderr",
     "output_type": "stream",
     "text": [
      "Exception in callback PollerCompletionQueue._handle_events(<_WindowsSele...e debug=False>)()\n",
      "handle: <Handle PollerCompletionQueue._handle_events(<_WindowsSele...e debug=False>)()>\n",
      "Traceback (most recent call last):\n",
      "  File \"c:\\winapp\\conda\\envs\\mas\\Lib\\asyncio\\events.py\", line 84, in _run\n",
      "    self._context.run(self._callback, *self._args)\n",
      "  File \"src\\\\python\\\\grpcio\\\\grpc\\\\_cython\\\\_cygrpc/aio/completion_queue.pyx.pxi\", line 147, in grpc._cython.cygrpc.PollerCompletionQueue._handle_events\n",
      "BlockingIOError: [WinError 10035] A non-blocking socket operation could not be completed immediately\n",
      "Exception in callback PollerCompletionQueue._handle_events(<_WindowsSele...e debug=False>)()\n",
      "handle: <Handle PollerCompletionQueue._handle_events(<_WindowsSele...e debug=False>)()>\n",
      "Traceback (most recent call last):\n",
      "  File \"c:\\winapp\\conda\\envs\\mas\\Lib\\asyncio\\events.py\", line 84, in _run\n",
      "    self._context.run(self._callback, *self._args)\n",
      "  File \"src\\\\python\\\\grpcio\\\\grpc\\\\_cython\\\\_cygrpc/aio/completion_queue.pyx.pxi\", line 147, in grpc._cython.cygrpc.PollerCompletionQueue._handle_events\n",
      "BlockingIOError: [WinError 10035] A non-blocking socket operation could not be completed immediately\n",
      "Exception in callback PollerCompletionQueue._handle_events(<_WindowsSele...e debug=False>)()\n",
      "handle: <Handle PollerCompletionQueue._handle_events(<_WindowsSele...e debug=False>)()>\n",
      "Traceback (most recent call last):\n",
      "  File \"c:\\winapp\\conda\\envs\\mas\\Lib\\asyncio\\events.py\", line 84, in _run\n",
      "    self._context.run(self._callback, *self._args)\n",
      "  File \"src\\\\python\\\\grpcio\\\\grpc\\\\_cython\\\\_cygrpc/aio/completion_queue.pyx.pxi\", line 147, in grpc._cython.cygrpc.PollerCompletionQueue._handle_events\n",
      "BlockingIOError: [WinError 10035] A non-blocking socket operation could not be completed immediately\n",
      "Exception in callback PollerCompletionQueue._handle_events(<_WindowsSele...e debug=False>)()\n",
      "handle: <Handle PollerCompletionQueue._handle_events(<_WindowsSele...e debug=False>)()>\n",
      "Traceback (most recent call last):\n",
      "  File \"c:\\winapp\\conda\\envs\\mas\\Lib\\asyncio\\events.py\", line 84, in _run\n",
      "    self._context.run(self._callback, *self._args)\n",
      "  File \"src\\\\python\\\\grpcio\\\\grpc\\\\_cython\\\\_cygrpc/aio/completion_queue.pyx.pxi\", line 147, in grpc._cython.cygrpc.PollerCompletionQueue._handle_events\n",
      "BlockingIOError: [WinError 10035] A non-blocking socket operation could not be completed immediately\n",
      "Exception in callback PollerCompletionQueue._handle_events(<_WindowsSele...e debug=False>)()\n",
      "handle: <Handle PollerCompletionQueue._handle_events(<_WindowsSele...e debug=False>)()>\n",
      "Traceback (most recent call last):\n",
      "  File \"c:\\winapp\\conda\\envs\\mas\\Lib\\asyncio\\events.py\", line 84, in _run\n",
      "    self._context.run(self._callback, *self._args)\n",
      "  File \"src\\\\python\\\\grpcio\\\\grpc\\\\_cython\\\\_cygrpc/aio/completion_queue.pyx.pxi\", line 147, in grpc._cython.cygrpc.PollerCompletionQueue._handle_events\n",
      "BlockingIOError: [WinError 10035] A non-blocking socket operation could not be completed immediately\n",
      "Exception in callback PollerCompletionQueue._handle_events(<_WindowsSele...e debug=False>)()\n",
      "handle: <Handle PollerCompletionQueue._handle_events(<_WindowsSele...e debug=False>)()>\n",
      "Traceback (most recent call last):\n",
      "  File \"c:\\winapp\\conda\\envs\\mas\\Lib\\asyncio\\events.py\", line 84, in _run\n",
      "    self._context.run(self._callback, *self._args)\n",
      "  File \"src\\\\python\\\\grpcio\\\\grpc\\\\_cython\\\\_cygrpc/aio/completion_queue.pyx.pxi\", line 147, in grpc._cython.cygrpc.PollerCompletionQueue._handle_events\n",
      "BlockingIOError: [WinError 10035] A non-blocking socket operation could not be completed immediately\n",
      "Exception in callback PollerCompletionQueue._handle_events(<_WindowsSele...e debug=False>)()\n",
      "handle: <Handle PollerCompletionQueue._handle_events(<_WindowsSele...e debug=False>)()>\n",
      "Traceback (most recent call last):\n",
      "  File \"c:\\winapp\\conda\\envs\\mas\\Lib\\asyncio\\events.py\", line 84, in _run\n",
      "    self._context.run(self._callback, *self._args)\n",
      "  File \"src\\\\python\\\\grpcio\\\\grpc\\\\_cython\\\\_cygrpc/aio/completion_queue.pyx.pxi\", line 147, in grpc._cython.cygrpc.PollerCompletionQueue._handle_events\n",
      "BlockingIOError: [WinError 10035] A non-blocking socket operation could not be completed immediately\n",
      "Exception in callback PollerCompletionQueue._handle_events(<_WindowsSele...e debug=False>)()\n",
      "handle: <Handle PollerCompletionQueue._handle_events(<_WindowsSele...e debug=False>)()>\n",
      "Traceback (most recent call last):\n",
      "  File \"c:\\winapp\\conda\\envs\\mas\\Lib\\asyncio\\events.py\", line 84, in _run\n",
      "    self._context.run(self._callback, *self._args)\n",
      "  File \"src\\\\python\\\\grpcio\\\\grpc\\\\_cython\\\\_cygrpc/aio/completion_queue.pyx.pxi\", line 147, in grpc._cython.cygrpc.PollerCompletionQueue._handle_events\n",
      "BlockingIOError: [WinError 10035] A non-blocking socket operation could not be completed immediately\n"
     ]
    }
   ],
   "source": [
    "from IPython.display import Markdown, display\n",
    "\n",
    "def printx(string):\n",
    "    display(Markdown(string))\n",
    "\n",
    "printx(model.run(\"Which wine is best with steak?\").text)"
   ]
  },
  {
   "cell_type": "markdown",
   "id": "75c06032",
   "metadata": {},
   "source": [
    "### Assistant API\n",
    "\n",
    "Now, to support the conversation history, we need to use AI Assistant API. `thread` object is used to keep history, and `assistant` object holds together base language model and tools. Here is how we can create a thread and an assistant:"
   ]
  },
  {
   "cell_type": "code",
   "execution_count": 3,
   "id": "0f50762f",
   "metadata": {},
   "outputs": [],
   "source": [
    "expiration_policy = { \"ttl_days\" : 1, \"expiration_policy\" : \"static\" }\n",
    "\n",
    "def create_thread():\n",
    "    return sdk.threads.create(**expiration_policy)\n",
    "\n",
    "def create_assistant(model, tools=None):\n",
    "    kwargs = expiration_policy.copy()\n",
    "    if tools and len(tools) > 0:\n",
    "        kwargs = {\"tools\": tools}\n",
    "    return sdk.assistants.create(\n",
    "        model, **kwargs\n",
    "    )"
   ]
  },
  {
   "cell_type": "code",
   "execution_count": 4,
   "id": "aab0e78c",
   "metadata": {},
   "outputs": [
    {
     "data": {
      "text/markdown": [
       "Hello! To provide the best recommendation, could you please tell me what type of dish you're planning to pair the wine with? Are you having a specific cuisine in mind, such as Italian, French, or Asian? And what kind of flavors are you working with—light and fresh, rich and hearty, spicy, or something else?"
      ],
      "text/plain": [
       "<IPython.core.display.Markdown object>"
      ]
     },
     "metadata": {},
     "output_type": "display_data"
    }
   ],
   "source": [
    "thread = create_thread()\n",
    "assistant = create_assistant(model)\n",
    "\n",
    "assistant.update(\n",
    "    instruction=\"You are experiences sommelier, and your task is consult a user about food-wine pairing\"\n",
    ")\n",
    "\n",
    "thread.write(\"Hi! Which wine do you recommend?\")\n",
    "\n",
    "run = assistant.run(thread)\n",
    "result = run.wait()\n",
    "printx(result.text)"
   ]
  },
  {
   "cell_type": "code",
   "execution_count": 5,
   "id": "8d811225",
   "metadata": {},
   "outputs": [
    {
     "data": {
      "text/markdown": [
       "For steak, I recommend a full-bodied red wine with good structure and moderate tannins to complement the richness and depth of flavor. A Cabernet Sauvignon or a Syrah/Shiraz would be excellent choices. These wines often have the right balance of fruitiness and robustness to pair well with the bold flavors of a steak. If you prefer a bit more complexity, a Merlot or a blend like a Bordeaux could also be a great option. What type of steak are you planning to cook, and do you have any specific flavor profiles in mind?"
      ],
      "text/plain": [
       "<IPython.core.display.Markdown object>"
      ]
     },
     "metadata": {},
     "output_type": "display_data"
    }
   ],
   "source": [
    "thread.write(\"I want to eat steak!\")\n",
    "\n",
    "run = assistant.run(thread)\n",
    "result = run.wait()\n",
    "printx(result.text)"
   ]
  },
  {
   "cell_type": "markdown",
   "id": "4513f695",
   "metadata": {},
   "source": [
    "Thread now contains full history of messages:"
   ]
  },
  {
   "cell_type": "code",
   "execution_count": 6,
   "id": "aa16a7c3",
   "metadata": {},
   "outputs": [
    {
     "data": {
      "text/markdown": [
       "**USER:** Hi! Which wine do you recommend?"
      ],
      "text/plain": [
       "<IPython.core.display.Markdown object>"
      ]
     },
     "metadata": {},
     "output_type": "display_data"
    },
    {
     "data": {
      "text/markdown": [
       "**ASSISTANT:** Hello! To provide the best recommendation, could you please tell me what type of dish you're planning to pair the wine with? Are you having a specific cuisine in mind, such as Italian, French, or Asian? And what kind of flavors are you working with—light and fresh, rich and hearty, spicy, or something else?"
      ],
      "text/plain": [
       "<IPython.core.display.Markdown object>"
      ]
     },
     "metadata": {},
     "output_type": "display_data"
    },
    {
     "data": {
      "text/markdown": [
       "**USER:** I want to eat steak!"
      ],
      "text/plain": [
       "<IPython.core.display.Markdown object>"
      ]
     },
     "metadata": {},
     "output_type": "display_data"
    },
    {
     "data": {
      "text/markdown": [
       "**ASSISTANT:** For steak, I recommend a full-bodied red wine with good structure and moderate tannins to complement the richness and depth of flavor. A Cabernet Sauvignon or a Syrah/Shiraz would be excellent choices. These wines often have the right balance of fruitiness and robustness to pair well with the bold flavors of a steak. If you prefer a bit more complexity, a Merlot or a blend like a Bordeaux could also be a great option. What type of steak are you planning to cook, and do you have any specific flavor profiles in mind?"
      ],
      "text/plain": [
       "<IPython.core.display.Markdown object>"
      ]
     },
     "metadata": {},
     "output_type": "display_data"
    }
   ],
   "source": [
    "for msg in list(thread)[::-1]:\n",
    "    printx(f\"**{msg.author.role}:** {msg.text}\")"
   ]
  },
  {
   "cell_type": "markdown",
   "id": "66e78d75",
   "metadata": {},
   "source": [
    "After having used the assistant, we need to clean up:"
   ]
  },
  {
   "cell_type": "code",
   "execution_count": 7,
   "id": "75577907",
   "metadata": {},
   "outputs": [],
   "source": [
    "thread.delete()\n",
    "assistant.delete()"
   ]
  },
  {
   "cell_type": "markdown",
   "id": "c751d9f4",
   "metadata": {},
   "source": [
    "### Adding RAG content\n",
    "\n",
    "Assistant API support easily adding RAG content to the assistant. To do that, we need to:\n",
    "* Upload content to the cloud, either using `sdk.files.upload` or `sdk.files.upload_bytes`. API supports files of many common types, including PDF and DOCX, it automatically extracts text content from them.\n",
    "* Create search index, specifying:\n",
    "   - Index type: full-text (keyword) search, vector (semantic) search, or combined index (in which case we provide combination strategy)\n",
    "   - Chunking strategy for splitting large files into smaller chunks\n",
    "* Specify search tool when creating an assistant.\n",
    "\n",
    "We will enhance our agent with food-wine matching capabilities using the table of this kind:"
   ]
  },
  {
   "cell_type": "code",
   "execution_count": 8,
   "id": "78e28521",
   "metadata": {},
   "outputs": [
    {
     "data": {
      "text/markdown": [
       "| Dish to Pair with Wine | Recommended Wine |\n",
       "|-----------------------|------------------|\n",
       "| Eggplant baked with cheese | Red wine: Medium-bodied* dry wines—Grenache (Garnacha), Sangiovese (Chianti), Carmenère, Mencía, young Tempranillo, light-bodied Merlot. |\n",
       "| Delicate lamb (lamb fillet or rack) | Red wine: Aged dry wines from Pinot Noir, Mencía, Nebbiolo (including elegant aged Barolo and Barbaresco), Gamay (elegant Burgundy Beaujolais-Villages). |\n",
       "| Spicy lamb: grilled, roasted, or stewed with spices | Red wine: Dry wines from Cabernet Sauvignon, Rhône-style** blends (Grenache + Syrah + Mourvèdre), French Malbec, slightly rounded Barbera, Syrah (Shiraz). Aged Sangiovese (Chianti Classico, Montalcino wines), Aglianico, \"Super Tuscan\"*** wines, quality Rioja Crianza. Primitivo and Zinfandel. Russian Saperavi. |\n",
       "| Beef Stroganoff | White wine: Oak-aged Chardonnay, Pinot Grigio (preferably from Northern Italy), Verdejo, Vermentino. Not overly powerful or acidic (and affordable) Rieslin"
      ],
      "text/plain": [
       "<IPython.core.display.Markdown object>"
      ]
     },
     "metadata": {},
     "output_type": "display_data"
    }
   ],
   "source": [
    "with open(\"../data/food_wine_table_en.md\", encoding=\"utf-8\") as f:\n",
    "    food_wine = f.readlines()\n",
    "fw = \"\".join(food_wine)\n",
    "printx(fw[:1000])"
   ]
  },
  {
   "cell_type": "markdown",
   "id": "3ac78ff5",
   "metadata": {},
   "source": [
    "For table like this, it would be best to use manual chunking strategy, and keep table header present in each chunk to preserve semantic meaning of columns. Here we chunk table into pieces and upload them to the cloud:"
   ]
  },
  {
   "cell_type": "code",
   "execution_count": 9,
   "id": "6e396f13",
   "metadata": {},
   "outputs": [
    {
     "name": "stdout",
     "output_type": "stream",
     "text": [
      "Uploaded 15 table chunks\n"
     ]
    }
   ],
   "source": [
    "header = food_wine[:2]\n",
    "chunk_size = 2000 # chars\n",
    "\n",
    "s = header.copy()\n",
    "uploaded = []\n",
    "for x in food_wine[2:]:\n",
    "    s.append(x)\n",
    "    if len(\"\".join(s)) > chunk_size:\n",
    "        id = sdk.files.upload_bytes(\n",
    "            \"\".join(s).encode(),\n",
    "            mime_type=\"text/markdown\",\n",
    "            **expiration_policy\n",
    "        )\n",
    "        uploaded.append(id)\n",
    "        s = header.copy()\n",
    "print(f\"Uploaded {len(uploaded)} table chunks\")"
   ]
  },
  {
   "cell_type": "markdown",
   "id": "50535e65",
   "metadata": {},
   "source": [
    "Now we will create index from those chunks:"
   ]
  },
  {
   "cell_type": "code",
   "execution_count": 10,
   "id": "54fc9dda",
   "metadata": {},
   "outputs": [],
   "source": [
    "from yandex_cloud_ml_sdk.search_indexes import (\n",
    "    StaticIndexChunkingStrategy,\n",
    "    HybridSearchIndexType,\n",
    "    ReciprocalRankFusionIndexCombinationStrategy,\n",
    ")\n",
    "\n",
    "op = sdk.search_indexes.create_deferred(\n",
    "    uploaded,\n",
    "    index_type=HybridSearchIndexType(\n",
    "        chunking_strategy=StaticIndexChunkingStrategy(\n",
    "            max_chunk_size_tokens=1000, chunk_overlap_tokens=100\n",
    "        ),\n",
    "        combination_strategy=ReciprocalRankFusionIndexCombinationStrategy(),\n",
    "    ),\n",
    ")\n",
    "index = op.wait()"
   ]
  },
  {
   "cell_type": "markdown",
   "id": "0190ab92",
   "metadata": {},
   "source": [
    "And now we can create an agent that uses this index:"
   ]
  },
  {
   "cell_type": "code",
   "execution_count": 11,
   "id": "c34af82a",
   "metadata": {},
   "outputs": [],
   "source": [
    "search_tool = sdk.tools.search_index(index)\n",
    "assistant = create_assistant(model, tools=[search_tool])\n",
    "\n",
    "instruction = \"\"\"\n",
    "You are experiences sommelier, and your task is consult a user about food-wine pairing.\n",
    "Please have a look at the available information and answer users's question as good as you can.\n",
    "\"\"\"\n",
    "\n",
    "_ = assistant.update(instruction=instruction)"
   ]
  },
  {
   "cell_type": "code",
   "execution_count": 12,
   "id": "aee35631",
   "metadata": {},
   "outputs": [
    {
     "data": {
      "text/markdown": [
       "The best wine pairing for steak depends on the type of steak and its level of doneness.\n",
       "\n",
       "For marbled fatty beef steaks like ribeye:\n",
       "- If rare, consider aged \"noble\" Tempranillo (Ribera del Duero Reserva+), Sangiovese (Chianti Riserva, Brunello), \"Super Tuscan,\" Right Bank Bordeaux, silky Argentine Malbec.\n",
       "- If medium/well-done, try dry/off-dry Syrah (Shiraz), Cabernet Sauvignon, full-bodied Malbec, Primitivo, Zinfandel, aged Aglianico, aged Rhône blends (Grenache + Syrah + Mourvèdre), or Priorat (6–8+ years aging).\n",
       "\n",
       "For marbled beef tenderloin (filet mignon), lighter options like Pinot Noir, Nerello Mascalese, elegantly made and aged Merlot, rounded aged Nebbiolo (Barbaresco), Tempranillo (Ribera del Duero), or Sangiovese (Chianti Riserva) are recommended."
      ],
      "text/plain": [
       "<IPython.core.display.Markdown object>"
      ]
     },
     "metadata": {},
     "output_type": "display_data"
    }
   ],
   "source": [
    "thread = create_thread()\n",
    "thread.write(\"Hi! Which wine is best with steak?\")\n",
    "\n",
    "run = assistant.run(thread)\n",
    "result = run.wait()\n",
    "printx(result.text)"
   ]
  },
  {
   "cell_type": "markdown",
   "id": "4333c96c",
   "metadata": {},
   "source": [
    "We can also find out which text fragments were used when answering this question:"
   ]
  },
  {
   "cell_type": "code",
   "execution_count": 13,
   "id": "52bd9c54",
   "metadata": {},
   "outputs": [
    {
     "name": "stdout",
     "output_type": "stream",
     "text": [
      "------------------------\n"
     ]
    },
    {
     "data": {
      "text/markdown": [
       "| Dish to Pair with Wine | Recommended Wine |\n",
       "|-----------------------|------------------|\n",
       "| Fried asparagus | White wine: Still dry Chardonnay, Grüner Veltliner, Müller-Thurgau, Sauvignon Blanc, light low-acid Riesling, Pinot Gris. Alternatively, sparkling (full-bodied, slightly off-dry—Brut, Dry, Off-Dry). |\n",
       "| Marbled beef tenderloin (filet mignon) | Red wine: Light and elegant Pinot Noir, Nerello Mascalese, elegantly made and aged Merlot. Also, rounded aged Nebbiolo (Barbaresco), Tempranillo (Ribera del Duero), Sangiovese (Chianti Riserva). |\n",
       "| Marbled fatty beef steak (ribeye, etc.) | Red wine: For rare—aged \"noble\" Tempranillo (Ribera del Duero Reserva+), Sangiovese (Chianti Riserva, Brunello), \"Super Tuscan,\" Right Bank Bordeaux, silky Argentine Malbec. For medium/well-done—dry/off-dry Syrah (Shiraz), Cabernet Sauvignon, full-bodied Malbec, Primitivo, Zinfandel, aged Aglianico, aged Rhône blends (Grenache + Syrah + Mourvèdre), Priorat (6–8+ years aging). |\n",
       "| Sushi, sashimi | (See \"Classic sushi rolls\") |\n",
       "| Young goat cheese | White wine: Still dry—Old World Sauvignon Blanc (Pouilly-Fumé, Sancerre), Melon de Bourgogne (French Muscadet), Chardonnay (Chablis style). Alternatively, sparkling rosé (Extra Brut, Brut, Dry). |\n",
       "| Aged goat cheese | White wine: Off-dry Riesling, aged \"creamy\" Chardonnay, classic Gewürztraminer or Muscat. Also, aged Bordeaux Sémillon and oaked Sauvignon Blanc (Sauternes). |\n",
       "| Soft white-mold cheese (Brie, Camembert) | Sparkling wine: White (Brut Nature, Extra Brut, Brut), elegant rosé (Extra Brut, Brut). Also, still white—light elegant Chardonnay, Pinot Gris, Viura... Alternatively, refined still rosé from Provence (France). |\n",
       "| Soft blue-mold cheese (Dor Blue, etc.) | White wine: Off-dry and sweet Gewürztraminer and Muscat, off-dry Riesling (Auslese, Beerenauslese, Eiswein), dense oaked Sémillon, aged Sauvignon Blanc, sweet white Port or dessert wines. |\n",
       "| Semi-hard sweetish cheese (Maasdam, Gouda, Edam, etc.) | Red wine: Still dry—Bordeaux blends, Rhône blends (Grenache + Syrah + Mourvèdre), Cabernet Sauvignon, Sangiovese, Nero d’Avola, Tempranillo. Alternatively, full-bodied Pinot Noir, Gamay (Beaujolais-Villages). |"
      ],
      "text/plain": [
       "<IPython.core.display.Markdown object>"
      ]
     },
     "metadata": {},
     "output_type": "display_data"
    },
    {
     "name": "stdout",
     "output_type": "stream",
     "text": [
      "------------------------\n"
     ]
    },
    {
     "data": {
      "text/markdown": [
       "| Dish to Pair with Wine | Recommended Wine |\n",
       "|-----------------------|------------------|\n",
       "| Chicken Caesar salad | White wine: Dry and off-dry Chardonnay, Verdejo, Pinot Gris, Chenin Blanc. Also, light elegant Provençal or Northern Italian rosé. Light orange wines work (especially if chicken is grilled). |\n",
       "| Salmon Caesar salad | White wine: Dry aged Chardonnay, Albariño, Pinot Gris (Alto Adige). Off-dry whites—Sémillon, Riesling, Verdejo. Rosé wine: Light elegant from Provence (France) or Northern Italy. |\n",
       "| Spicy Asian salads | White wine: Dry and off-dry Riesling, Muscat, Gewürztraminer. Rosé wine: Medium- to full-bodied from France, Italy, Spain, Russia. Alternatively, affordable full-bodied sparkling rosé. For salads with smoked/spicy meat—light reds: Pinot Noir, Nerello Mascalese, aged Nebbiolo. Orange wines work. |\n",
       "| Salted or smoked lard | Strong drinks: Samogon (Polugar, Khlebnoe Vino), Vodka, Khrenovukha, Pepperspirit. |\n",
       "| Pork in sweet-sour sauce | White wine: Riesling, dry Gewürztraminer or similar Muscat. |\n",
       "| Lean pork medallions | White wine: Still dry aged Chardonnay, Albariño, Pinot Gris (Alto Adige). Off-dry whites—Sémillon, Riesling, Verdejo. Rosé wine: Medium- to full-bodied from France, Italy, Spain, Russia. |\n",
       "| Fried pork steak with onions | Red wine: Dry and off-dry Garnacha (Grenache), Merlot, Carmenère, Mencía, full-bodied Pinot Noir (worldwide), Russian Krasnostop, Gamay (Beaujolais-Villages). |\n",
       "| Herring with onions (appetizer) | Strong drinks: Samogon (Polugar, Khlebnoe Vino), Vodka, Khrenovukha, Pepperspirit. For wine purists—bold, off-dry, full-flavored Riesling. |\n",
       "| Solyanka (soup) | Strong drinks: Samogon (Polugar, Khlebnoe Vino), Vodka, Khrenovukha, Pepperspirit. |\n",
       "| Spaghetti Carbonara | White wine: Dry aged Chardonnay and Verdejo. Rosé wine: Medium- to full-bodied from France, Italy, Spain, Russia. Red wine: Aged rounded Nebbiolo, elegant Pinot Noir, Nerello Mascalese. |\n",
       "| Spaghetti Bolognese | Red wine: Dry Sangiovese, Barbera, Nero d’Avola, Negroamaro, young Nebbiolo, also international—Cabernet Sauvignon, young Spanish Tempranillo. |"
      ],
      "text/plain": [
       "<IPython.core.display.Markdown object>"
      ]
     },
     "metadata": {},
     "output_type": "display_data"
    },
    {
     "name": "stdout",
     "output_type": "stream",
     "text": [
      "------------------------\n"
     ]
    },
    {
     "data": {
      "text/markdown": [
       "| Dish to Pair with Wine | Recommended Wine |\n",
       "|-----------------------|------------------|\n",
       "| Delicate mushrooms (champignons, chanterelles, etc.) | White wine: Dry and off-dry aged Chardonnay, Viognier, dry Gewürztraminer (for chanterelles or cream-based champignons). Rosé wine: Still or sparkling (especially from Pinot Noir). |\n",
       "| Mushroom julienne | Red wine: Dry Pinot Noir, Mencía, Nerello Mascalese, aged and velvety Nebbiolo. Rosé wine: Medium- to full-bodied Grenache, Cinsault, Tempranillo, Bobal, Syrah, or full-bodied sparkling rosé. |\n",
       "| Jellied white fish | Strong drinks: Vodka, Polugar, Khrenovukha. Alternatively, white wine: Albariño, Verdejo, Sauvignon Blanc, Müller-Thurgau, Riesling. |\n",
       "| Red caviar on crackers or white bread | White wine: Still, slightly sweet, and aged Pinot Grigio, Pinot Blanc, Chenin Blanc, Viognier, Sémillon, Garganega (Soave). Refined Chardonnay (Chablis style). |\n",
       "| Black caviar on crackers or white bread | Despite common advice, pairing black caviar with still or sparkling wine is not recommended. However, if you insist, first take a sip of vodka or another non-oak-aged distillate, then enjoy the caviar plain or on bread. |\n",
       "| Turkey (steaks, cutlets, skewers) | White wine: Dry and off-dry aged Chardonnay, Verdejo, Vermentino, Sémillon, Pinot Gris, Chenin Blanc. Medium-bodied rosé or orange wines also work. |\n",
       "| Lamb rack | Red wine: Medium-bodied wines with balanced acidity—well-aged \"Super Tuscan\" wines, Brunello di Montalcino, Chianti Riserva, rounded and juicy Nero d’Avola, not-too-heavy Syrah (Shiraz), Rioja Reserva, well-made Garnacha and Barbera, full-bodied Pinot Noir (New World, Austria, Germany), mature and balanced Bordeaux and Piedmont wines (including Barolo and Barbaresco), aged Areni (Armenia). |\n",
       "| Fried or French fries | White wine: Aged Verdejo, Vermentino, Pinot Gris, Grüner Veltliner, Silvaner, Sémillon, Chardonnay. Alternatively, light beer. |\n",
       "| Quiche with various fillings | See \"Pie\" section. |\n",
       "| Grilled sausages (spicy) | Beer: Light or dark, dense—lagers or ales. Alternatively, affordable young red wines: Sangiovese (Chianti), Nero d’Avola, Tempranillo (Spain), Merlot (worldwide), Blaufränkisch, Tsimlyansky Black, Russian Saperavi, Cabernet Sauvignon. Affordable Bordeaux blends. |"
      ],
      "text/plain": [
       "<IPython.core.display.Markdown object>"
      ]
     },
     "metadata": {},
     "output_type": "display_data"
    },
    {
     "name": "stdout",
     "output_type": "stream",
     "text": [
      "------------------------\n"
     ]
    },
    {
     "data": {
      "text/markdown": [
       "| Dish to Pair with Wine | Recommended Wine |\n",
       "|-----------------------|------------------|\n",
       "| Eggplant baked with cheese | Red wine: Medium-bodied* dry wines—Grenache (Garnacha), Sangiovese (Chianti), Carmenère, Mencía, young Tempranillo, light-bodied Merlot. |\n",
       "| Delicate lamb (lamb fillet or rack) | Red wine: Aged dry wines from Pinot Noir, Mencía, Nebbiolo (including elegant aged Barolo and Barbaresco), Gamay (elegant Burgundy Beaujolais-Villages). |\n",
       "| Spicy lamb: grilled, roasted, or stewed with spices | Red wine: Dry wines from Cabernet Sauvignon, Rhône-style** blends (Grenache + Syrah + Mourvèdre), French Malbec, slightly rounded Barbera, Syrah (Shiraz). Aged Sangiovese (Chianti Classico, Montalcino wines), Aglianico, \"Super Tuscan\"*** wines, quality Rioja Crianza. Primitivo and Zinfandel. Russian Saperavi. |\n",
       "| Beef Stroganoff | White wine: Oak-aged Chardonnay, Pinot Grigio (preferably from Northern Italy), Verdejo, Vermentino. Not overly powerful or acidic (and affordable) Rieslings. |\n",
       "| Pancakes with beef filling | Strong drinks: Vodka, Polugar, Khrenovukha. Also, red wine: Italian Sangiovese (Chianti), Bordeaux blends, Rhône-style blends (Grenache + Syrah + Mourvèdre). |\n",
       "| Pancakes with chicken filling | Strong drinks: Vodka, Polugar, Khrenovukha. Alternatively, white wine: Chardonnay, Verdejo, Vermentino, Trebbiano, Pinot Gris, dry Sherry. |\n",
       "| Pancakes with red fish or caviar | Strong drinks: Vodka, Polugar, Khrenovukha. White wine: Riesling, Albariño, dry Muscat or Gewürztraminer, dry Sherry. |\n",
       "| Borscht | Strong drinks: Samogon (Polugar, Khlebnoe Vino), Vodka, Khrenovukha. |\n",
       "| Roasted or stewed beef (excluding marbled steaks) | Red wine: Dry Sangiovese (Chianti) and Nero d’Avola, Spanish Tempranillo, full-bodied Merlot, full-bodied Pinot Noir (New World, Austria, Germany), Bordeaux wines, Rhône blends (Grenache + Syrah + Mourvèdre), Saperavi (Georgia or Russia), Areni (Armenia). |\n",
       "| Forest mushrooms (noble varieties)—fried or stewed | For medium-flavored: White wine: Dry and off-dry aged Chardonnay, Viognier, dry Gewürztraminer. For spicier: Red wine: Dry Pinot Noir, Nerello Mascalese, aged and velvety Nebbiolo. |"
      ],
      "text/plain": [
       "<IPython.core.display.Markdown object>"
      ]
     },
     "metadata": {},
     "output_type": "display_data"
    },
    {
     "name": "stdout",
     "output_type": "stream",
     "text": [
      "------------------------\n"
     ]
    },
    {
     "data": {
      "text/markdown": [
       "| Dish to Pair with Wine | Recommended Wine |\n",
       "|-----------------------|------------------|\n",
       "| Roasted pork knuckle | Beer: German and Czech classic light lagers. Alternatively, white wine: Dry and off-dry Riesling, Silvaner, Müller-Thurgau, Grüner Veltliner, unoaked Chardonnay, etc. Don’t forget horseradish, mustard, and dumplings!!! |\n",
       "| Mild white sea fish (pollock, cod, sea bass, halibut, catfish, etc.) | White wine: Still, light—Pinot Blanc, Pinot Gris, Viura, Melon de Bourgogne (Muscadet), Aligoté, Cortese (Gavi). Refined Chardonnay (Chablis style). Slightly sparkling Vinho Verde. Alternatively, velvety sparkling whites (Blanc de Blancs style). |\n",
       "| Medium-flavored white sea fish (dorado, flounder, sea bass, etc.) | White wine: Bright but unoaked Albariño, Chardonnay, Riesling, Sauvignon Blanc, Cortese (Gavi), Silvaner, Müller-Thurgau, Grüner Veltliner, off-dry Riesling. Alternatively, sparkling (bright young whites, very light rosé). |\n",
       "| Grilled spicy white fish (Asian-style) | White wine: Vibrant with higher acidity—Albariño, Riesling, Sauvignon Blanc, dry/off-dry Gewürztraminer, Muscat, Torrontés. Rosé wine: Medium-bodied dry from France, Italy, Spain, Russia. |\n",
       "| Bold-flavored sea fish (tuna, mackerel, sardines) | White wine: Still—dry/off-dry vibrant Riesling, aged Chardonnay and Viognier, New World Sauvignon Blanc. Rosé wine: Medium-bodied dry from France, Italy, Spain, Russia. Alternatively, light reds—Pinot Noir, Nerello Mascalese, even aged Gamay (Beaujolais-Villages). |\n",
       "| Mild river fish (pike perch, pike, asp, silver carp, carp) | White wine: Still dry Old World Sauvignon Blanc, Silvaner, Chenin Blanc, Müller-Thurgau, Grüner Veltliner. Full-bodied Pinot Gris, off-dry Riesling. Alternatively, sparkling (bright young whites, light rosé). |\n",
       "| Dried fish | Beer: Classic light lagers or not-too-bold light ales. |\n",
       "| Smoked sea fish (mackerel, saury) | Beer: Bold light or dark lagers (Germany, Czech Republic). Alternatively, white wine: Off-dry high-acid Riesling. |"
      ],
      "text/plain": [
       "<IPython.core.display.Markdown object>"
      ]
     },
     "metadata": {},
     "output_type": "display_data"
    }
   ],
   "source": [
    "def print_citations(result):\n",
    "    for citation in result.citations:\n",
    "        for source in citation.sources:\n",
    "            if source.type != \"filechunk\":\n",
    "                continue\n",
    "            print(\"------------------------\")\n",
    "            printx(source.parts[0])\n",
    "\n",
    "print_citations(result)"
   ]
  },
  {
   "cell_type": "code",
   "execution_count": 14,
   "id": "f00f2a83",
   "metadata": {},
   "outputs": [],
   "source": [
    "thread.delete()\n",
    "assistant.delete()"
   ]
  },
  {
   "cell_type": "markdown",
   "id": "dc3a3c58",
   "metadata": {},
   "source": [
    "### Function Calling\n",
    "\n",
    "Suppose we want to turn this assistant into a selling agent for a wine shop. In this case, we need it to be able to find specific wines from our inventory. First, let's load the sample inventory:"
   ]
  },
  {
   "cell_type": "code",
   "execution_count": 17,
   "id": "1c81b097",
   "metadata": {},
   "outputs": [
    {
     "data": {
      "text/html": [
       "<div>\n",
       "<style scoped>\n",
       "    .dataframe tbody tr th:only-of-type {\n",
       "        vertical-align: middle;\n",
       "    }\n",
       "\n",
       "    .dataframe tbody tr th {\n",
       "        vertical-align: top;\n",
       "    }\n",
       "\n",
       "    .dataframe thead th {\n",
       "        text-align: right;\n",
       "    }\n",
       "</style>\n",
       "<table border=\"1\" class=\"dataframe\">\n",
       "  <thead>\n",
       "    <tr style=\"text-align: right;\">\n",
       "      <th></th>\n",
       "      <th>Name</th>\n",
       "      <th>Price</th>\n",
       "      <th>Color</th>\n",
       "      <th>Acidity</th>\n",
       "      <th>Country</th>\n",
       "    </tr>\n",
       "  </thead>\n",
       "  <tbody>\n",
       "    <tr>\n",
       "      <th>0</th>\n",
       "      <td>Robert Mondavi Cabernet Sauvignon 2019</td>\n",
       "      <td>32.99</td>\n",
       "      <td>Red</td>\n",
       "      <td>Dry</td>\n",
       "      <td>USA</td>\n",
       "    </tr>\n",
       "    <tr>\n",
       "      <th>1</th>\n",
       "      <td>Kendall-Jackson Vintner’s Reserve Chardonnay 2021</td>\n",
       "      <td>17.99</td>\n",
       "      <td>White</td>\n",
       "      <td>Dry</td>\n",
       "      <td>USA</td>\n",
       "    </tr>\n",
       "    <tr>\n",
       "      <th>2</th>\n",
       "      <td>Chateau Ste. Michelle Riesling 2020</td>\n",
       "      <td>10.99</td>\n",
       "      <td>White</td>\n",
       "      <td>Semi-Sweet</td>\n",
       "      <td>USA</td>\n",
       "    </tr>\n",
       "    <tr>\n",
       "      <th>3</th>\n",
       "      <td>Silver Oak Napa Valley Cabernet Sauvignon 2018</td>\n",
       "      <td>129.00</td>\n",
       "      <td>Red</td>\n",
       "      <td>Dry</td>\n",
       "      <td>USA</td>\n",
       "    </tr>\n",
       "    <tr>\n",
       "      <th>4</th>\n",
       "      <td>Duckhorn Merlot 2020</td>\n",
       "      <td>55.00</td>\n",
       "      <td>Red</td>\n",
       "      <td>Dry</td>\n",
       "      <td>USA</td>\n",
       "    </tr>\n",
       "    <tr>\n",
       "      <th>...</th>\n",
       "      <td>...</td>\n",
       "      <td>...</td>\n",
       "      <td>...</td>\n",
       "      <td>...</td>\n",
       "      <td>...</td>\n",
       "    </tr>\n",
       "    <tr>\n",
       "      <th>82</th>\n",
       "      <td>Château Cheval Blanc 2019</td>\n",
       "      <td>750.00</td>\n",
       "      <td>Red</td>\n",
       "      <td>Dry</td>\n",
       "      <td>France</td>\n",
       "    </tr>\n",
       "    <tr>\n",
       "      <th>83</th>\n",
       "      <td>Château Haut-Brion 2019</td>\n",
       "      <td>750.00</td>\n",
       "      <td>Red</td>\n",
       "      <td>Dry</td>\n",
       "      <td>France</td>\n",
       "    </tr>\n",
       "    <tr>\n",
       "      <th>84</th>\n",
       "      <td>Château d'Yquem 2018</td>\n",
       "      <td>750.00</td>\n",
       "      <td>White</td>\n",
       "      <td>Sweet</td>\n",
       "      <td>France</td>\n",
       "    </tr>\n",
       "    <tr>\n",
       "      <th>85</th>\n",
       "      <td>Château d'Agapet 2019</td>\n",
       "      <td>750.00</td>\n",
       "      <td>Red</td>\n",
       "      <td>Dry</td>\n",
       "      <td>France</td>\n",
       "    </tr>\n",
       "    <tr>\n",
       "      <th>86</th>\n",
       "      <td>Château d'Esclans Whispering Angel Rosé 2022</td>\n",
       "      <td>22.99</td>\n",
       "      <td>White</td>\n",
       "      <td>Semi-Dry</td>\n",
       "      <td>France</td>\n",
       "    </tr>\n",
       "  </tbody>\n",
       "</table>\n",
       "<p>87 rows × 5 columns</p>\n",
       "</div>"
      ],
      "text/plain": [
       "                                                 Name   Price  Color  \\\n",
       "0              Robert Mondavi Cabernet Sauvignon 2019   32.99    Red   \n",
       "1   Kendall-Jackson Vintner’s Reserve Chardonnay 2021   17.99  White   \n",
       "2                 Chateau Ste. Michelle Riesling 2020   10.99  White   \n",
       "3      Silver Oak Napa Valley Cabernet Sauvignon 2018  129.00    Red   \n",
       "4                                Duckhorn Merlot 2020   55.00    Red   \n",
       "..                                                ...     ...    ...   \n",
       "82                          Château Cheval Blanc 2019  750.00    Red   \n",
       "83                            Château Haut-Brion 2019  750.00    Red   \n",
       "84                               Château d'Yquem 2018  750.00  White   \n",
       "85                              Château d'Agapet 2019  750.00    Red   \n",
       "86       Château d'Esclans Whispering Angel Rosé 2022   22.99  White   \n",
       "\n",
       "       Acidity Country  \n",
       "0          Dry     USA  \n",
       "1          Dry     USA  \n",
       "2   Semi-Sweet     USA  \n",
       "3          Dry     USA  \n",
       "4          Dry     USA  \n",
       "..         ...     ...  \n",
       "82         Dry  France  \n",
       "83         Dry  France  \n",
       "84       Sweet  France  \n",
       "85         Dry  France  \n",
       "86    Semi-Dry  France  \n",
       "\n",
       "[87 rows x 5 columns]"
      ]
     },
     "execution_count": 17,
     "metadata": {},
     "output_type": "execute_result"
    }
   ],
   "source": [
    "import pandas as pd\n",
    "df = pd.read_csv(\"../data/wine-price-en.csv\")\n",
    "df"
   ]
  },
  {
   "cell_type": "markdown",
   "id": "141cc473",
   "metadata": {},
   "source": [
    "To allow user to look up available wines, using RAG is not enough. We need to use **function calling**, which will give required flexibility to answer user queries. This can be done in two ways:\n",
    "* Using a model to formulate user's request using SQL or SQL-like language\n",
    "* Extracting some structured user query in JSON, and then running it manually on the given data, as described in [Querying Databases with Function Calling](https://arxiv.org/html/2502.00032v1)\n",
    "We will try second approach.\n",
    "\n",
    "We will inform our assistant that is has the available tool, and give it a class that describes tool parameters:"
   ]
  },
  {
   "cell_type": "code",
   "execution_count": 18,
   "id": "1c2a3eb0",
   "metadata": {},
   "outputs": [],
   "source": [
    "from pydantic import BaseModel, Field\n",
    "from typing import Optional\n",
    "\n",
    "class SearchWinePriceList(BaseModel):\n",
    "    \"\"\"This function allows us to search wines in price list by several parameters\"\"\"\n",
    "\n",
    "    name: str = Field(description=\"Name of wine\", default=None)\n",
    "    country: str = Field(description=\"Country\", default=None)\n",
    "    acidity: str = Field(\n",
    "        description=\"Acidity (dry, semi-dry, sweet)\", default=None\n",
    "    )\n",
    "    color: str = Field(description=\"Color (red, white)\", default=None)\n",
    "    output: str = Field(\n",
    "        description=\"Output format (most expensive, cheapest, random, average, all)\",\n",
    "        default=None,\n",
    "    )\n",
    "\n",
    "price_list_search_tool = sdk.tools.function(SearchWinePriceList)\n",
    "\n",
    "assistant = create_assistant(model, tools=[price_list_search_tool, search_tool])\n",
    "thread = create_thread()\n",
    "\n",
    "instruction = \"\"\"\n",
    "You are an experienced sommelier who acts as a seller to a wine shop.\n",
    "You have to answer user's questions on wines, recommend best food for wine and vice versa,\n",
    "and search wines in our price list. Look at the available information before answering.\n",
    "If the question is about specific wines, wine availability or wine pricing - use\n",
    "function calling. If something is not clear - please, ask the user.\n",
    "\"\"\"\n",
    "\n",
    "_ = assistant.update(instruction=instruction)"
   ]
  },
  {
   "cell_type": "code",
   "execution_count": 19,
   "id": "64b47ec7",
   "metadata": {},
   "outputs": [
    {
     "data": {
      "text/plain": [
       "RunResult(status=<RunStatus.TOOL_CALLS: 5>, error=None, tool_calls=ToolCallList(ToolCall(function=FunctionCall(name='SearchWinePriceList', arguments={'output': 'cheapest', 'country': 'Australia'})),), _message=None, usage=Usage(input_text_tokens=3515, completion_tokens=18, total_tokens=3533))"
      ]
     },
     "execution_count": 19,
     "metadata": {},
     "output_type": "execute_result"
    }
   ],
   "source": [
    "thread.write(\"Hey! Which is the cheapest wine from Australia?\")\n",
    "run = assistant.run(thread)\n",
    "res = run.wait()\n",
    "res"
   ]
  },
  {
   "cell_type": "markdown",
   "id": "d6cb2b9d",
   "metadata": {},
   "source": [
    "As you can see, the assistant now wants to run a function call. In order to do it, we first need to define a function to query our price list:"
   ]
  },
  {
   "cell_type": "code",
   "execution_count": 23,
   "id": "994e72df",
   "metadata": {},
   "outputs": [],
   "source": [
    "def find_wines(req):\n",
    "    x = df.copy()\n",
    "    if req.country:\n",
    "        x = x[x[\"Country\"] == req.country]\n",
    "    if req.acidity:\n",
    "        x = x[x[\"Acidity\"] == req.acidity.capitalize()]\n",
    "    if req.color:\n",
    "        x = x[x[\"Color\"] == req.color.capitalize()]\n",
    "    if req.name:\n",
    "        x = x[x[\"Name\"].apply(lambda x: req.name.lower() in x.lower())]\n",
    "    if req.output and len(x)>0:\n",
    "        if req.output == \"cheapest\":\n",
    "            x = x.sort_values(by=\"Price\")\n",
    "        elif req.output == \"most expensive\":\n",
    "            x = x.sort_values(by=\"Price\", ascending=False)\n",
    "        else:\n",
    "            pass\n",
    "    if x is None or len(x) == 0:\n",
    "        return \"Wines not found\"\n",
    "    return \"The following wines were found:\\n\" + \"\\n\".join(\n",
    "        [\n",
    "            f\"{z['Name']} (z['Country']) - {z['Price']}\"\n",
    "            for _, z in x.head(10).iterrows()\n",
    "        ]\n",
    "    )"
   ]
  },
  {
   "cell_type": "markdown",
   "id": "1b522dbf",
   "metadata": {},
   "source": [
    "Now we will run the request again, this time processing function calling response:"
   ]
  },
  {
   "cell_type": "code",
   "execution_count": 26,
   "id": "6fe944f4",
   "metadata": {},
   "outputs": [
    {
     "name": "stdout",
     "output_type": "stream",
     "text": [
      " + Processing function call fn=SearchWinePriceList\n"
     ]
    },
    {
     "data": {
      "text/plain": [
       "RunResult(status=<RunStatus.COMPLETED: 4>, error=None, tool_calls=None, _message=Message(id='fvt9h10tvhrtr1elk2nu', parts=(\"The cheapest wine from Australia is Lindeman's Bin 65 Chardonnay 2022, priced at $6.99.\",), thread_id='fvte6jrbb2er5og6206i', created_by='ajej20rll4tifkelclga', created_at=datetime.datetime(2025, 7, 16, 8, 50, 31, 54000), labels=None, author=Author(id='fvt7hv5a4ab1dtu1vrd1', role='ASSISTANT'), citations=(), status=<MessageStatus.COMPLETED: 1>), usage=Usage(input_text_tokens=3949, completion_tokens=49, total_tokens=3998))"
      ]
     },
     "execution_count": 26,
     "metadata": {},
     "output_type": "execute_result"
    }
   ],
   "source": [
    "import time\n",
    "\n",
    "thread.delete()\n",
    "thread = create_thread()\n",
    "\n",
    "thread.write(\"Hey! Which is the cheapest wine from Australia?\")\n",
    "\n",
    "run = assistant.run(thread)\n",
    "res = run.wait()\n",
    "if res.tool_calls:\n",
    "    result = []\n",
    "    for f in res.tool_calls:\n",
    "        print(f\" + Processing function call fn={f.function.name}\")\n",
    "        x = SearchWinePriceList.model_validate(f.function.arguments)\n",
    "        x = find_wines(x)\n",
    "        result.append({\"name\": f.function.name, \"content\": x})\n",
    "    run.submit_tool_results(result)\n",
    "    time.sleep(3)\n",
    "    res = run.wait()\n",
    "res"
   ]
  },
  {
   "cell_type": "code",
   "execution_count": 27,
   "id": "f69cb181",
   "metadata": {},
   "outputs": [],
   "source": [
    "thread.delete()\n",
    "assistant.delete()"
   ]
  },
  {
   "cell_type": "markdown",
   "id": "74666dcd",
   "metadata": {},
   "source": [
    "### Putting Everything Together\n",
    "\n",
    "We will now create an agent class that will encapsulate RAG search and function calling."
   ]
  },
  {
   "cell_type": "code",
   "execution_count": 58,
   "id": "f1e03e2c",
   "metadata": {},
   "outputs": [],
   "source": [
    "class Agent:\n",
    "    def __init__(self, \n",
    "        assistant=None, \n",
    "        instruction=None, \n",
    "        search_index=None, \n",
    "        search_content=None, \n",
    "        tools=None,\n",
    "        response_format=None):\n",
    "\n",
    "        self.thread = None\n",
    "        self.uploaded = None\n",
    "        self.model = model\n",
    "        self.response_format = response_format\n",
    "\n",
    "        if assistant:\n",
    "            self.assistant = assistant\n",
    "        else:\n",
    "            if tools:\n",
    "                self.tools = {x.__name__: x for x in tools}\n",
    "                tools = [sdk.tools.function(x) for x in tools]\n",
    "            else:\n",
    "                self.tools = {}\n",
    "                tools = []\n",
    "            if search_index is None and search_content:\n",
    "                self.uploaded, search_index = self.create_search_index(search_content)\n",
    "            if search_index:\n",
    "                tools.append(sdk.tools.search_index(search_index))\n",
    "            if response_format:\n",
    "                self.model = self.model.configure(response_format=response_format)\n",
    "            self.assistant = create_assistant(self.model, tools)\n",
    "            self.search_index = search_index\n",
    "\n",
    "        if instruction:\n",
    "            self.assistant.update(instruction=instruction)\n",
    "\n",
    "    def create_search_index(self,content):\n",
    "        uploaded = [\n",
    "            sdk.files.upload_bytes(\n",
    "                x.encode(), \n",
    "                ttl_days=5, \n",
    "                expiration_policy=\"static\",\n",
    "                mime_type=\"text/markdown\")\n",
    "            for x in content]\n",
    "\n",
    "        op = sdk.search_indexes.create_deferred(\n",
    "            uploaded,\n",
    "            index_type=HybridSearchIndexType(\n",
    "                chunking_strategy=StaticIndexChunkingStrategy(\n",
    "                    max_chunk_size_tokens=1000, chunk_overlap_tokens=100\n",
    "                ),\n",
    "                combination_strategy=ReciprocalRankFusionIndexCombinationStrategy(),\n",
    "            ),\n",
    "        )\n",
    "        return uploaded, op.wait()\n",
    "\n",
    "    def get_thread(self, thread=None):\n",
    "        if thread is not None:\n",
    "            return thread\n",
    "        if self.thread == None:\n",
    "            self.thread = create_thread()\n",
    "        return self.thread\n",
    "\n",
    "    def __call__(self, message, thread=None):\n",
    "        thread = self.get_thread(thread)\n",
    "        thread.write(message)\n",
    "        run = self.assistant.run(thread)\n",
    "        res = run.wait()\n",
    "        if res.tool_calls:\n",
    "            result = []\n",
    "            for f in res.tool_calls:\n",
    "                print(\n",
    "                    f\" + Calling function {f.function.name}, args={f.function.arguments}\"\n",
    "                )\n",
    "                fn = self.tools[f.function.name]\n",
    "                obj = fn(**f.function.arguments)\n",
    "                x = obj.process(thread)\n",
    "                result.append({\"name\": f.function.name, \"arguments\" : f.function.arguments, \"content\": x})\n",
    "            run.submit_tool_results(result)\n",
    "            res = run.wait()\n",
    "        res = res.text\n",
    "        if self.response_format:\n",
    "            res = self.response_format.model_validate_json(res[res.index(\"{\"):res.index(\"}\")+1])\n",
    "        return res \n",
    "\n",
    "    def restart(self):\n",
    "        if self.thread:\n",
    "            self.thread.delete()\n",
    "            self.thread = sdk.threads.create(\n",
    "                name=\"Test\", ttl_days=1, expiration_policy=\"static\"\n",
    "            )\n",
    "\n",
    "    def done(self, delete_assistant=False):\n",
    "        if self.search_index:\n",
    "            self.search_index.delete()\n",
    "        if self.thread:\n",
    "            self.thread.delete()\n",
    "        if delete_assistant:\n",
    "            self.assistant.delete()"
   ]
  },
  {
   "cell_type": "markdown",
   "id": "65a2b49d",
   "metadata": {},
   "source": [
    "Let's now use this to define and agent for the shop that allows transferring to operator, and buyer agent, and have them talk to each other. We first define tools:"
   ]
  },
  {
   "cell_type": "code",
   "execution_count": 59,
   "id": "33ee149b",
   "metadata": {},
   "outputs": [],
   "source": [
    "class SearchWinePriceList(BaseModel):\n",
    "    \"\"\"This function allows us to search wines in price list by several parameters\"\"\"\n",
    "\n",
    "    name: str = Field(description=\"Name of wine\", default=None)\n",
    "    country: str = Field(description=\"Country\", default=None)\n",
    "    acidity: str = Field(\n",
    "        description=\"Acidity (dry, semi-dry, sweet)\", default=None\n",
    "    )\n",
    "    color: str = Field(description=\"Color (red, white)\", default=None)\n",
    "    output: str = Field(\n",
    "        description=\"Output format (most expensive, cheapest, random, average, all)\",\n",
    "        default=None,\n",
    "    )\n",
    "\n",
    "    def process(self,thread):\n",
    "        return find_wines(self)\n",
    "\n",
    "handover = False\n",
    "\n",
    "class Handover(BaseModel):\n",
    "    \"\"\"This function allows to handover the conversation to human operator\"\"\"\n",
    "\n",
    "    reason: str = Field(\n",
    "        description=\"Reason for calling the operator\", default=\"not specified\"\n",
    "    )\n",
    "\n",
    "    def process(self, thread):\n",
    "        global handover\n",
    "        handover = True\n",
    "        return f\"I am calling operator on {thread.id=}, reason: {self.reason}\""
   ]
  },
  {
   "cell_type": "markdown",
   "id": "98a9f408",
   "metadata": {},
   "source": [
    "Now creating the main agent:"
   ]
  },
  {
   "cell_type": "code",
   "execution_count": 60,
   "id": "63c8fd9f",
   "metadata": {},
   "outputs": [],
   "source": [
    "with open(\"../data/food_wine_table_en.md\", encoding=\"utf-8\") as f:\n",
    "    food_wine = f.readlines()\n",
    "header = food_wine[:2]\n",
    "chunk_size = 2000\n",
    "docs = []\n",
    "s = header.copy()\n",
    "for x in food_wine[2:]:\n",
    "    s.append(x)\n",
    "    if len(\"\".join(s)) > chunk_size:\n",
    "        docs.append(\"\".join(s))\n",
    "        s = header.copy()\n",
    "\n",
    "instruction = \"\"\"\n",
    "You are an experienced sommelier who acts as a seller to a wine shop.\n",
    "You have to answer user's questions on wines, recommend best food for wine and vice versa,\n",
    "and search wines in our price list. Look at the available information before answering.\n",
    "If the question is about specific wines, wine availability or wine pricing - use\n",
    "function calling. If something is not clear - please, ask the user.\n",
    "\"\"\"\n",
    "\n",
    "agent = Agent(search_content=docs, instruction=instruction, tools=[SearchWinePriceList,Handover])"
   ]
  },
  {
   "cell_type": "markdown",
   "id": "729a3d0a",
   "metadata": {},
   "source": [
    "And now we will create a buyer agent and give it some instructions on what to do:"
   ]
  },
  {
   "cell_type": "code",
   "execution_count": 61,
   "id": "cb96b3bc",
   "metadata": {},
   "outputs": [],
   "source": [
    "buyer_inst = \"\"\"\n",
    "You are a normal person, who came to wine shop to buy some wine for dinner. You do not know much about\n",
    "wines, so you want to ask seller for recommendation. You need not very expensive wine, so ask for the price before final decision.\n",
    "When you are satisfied - call the operator to \n",
    "process the order.\n",
    "\"\"\"\n",
    "buyer = Agent(instruction=buyer_inst)"
   ]
  },
  {
   "cell_type": "code",
   "execution_count": 62,
   "id": "dcdf4103",
   "metadata": {},
   "outputs": [
    {
     "data": {
      "text/markdown": [
       "**Seller:** Hello!"
      ],
      "text/plain": [
       "<IPython.core.display.Markdown object>"
      ]
     },
     "metadata": {},
     "output_type": "display_data"
    },
    {
     "data": {
      "text/markdown": [
       "**Buyer:** Hello! I'm here to pick up some wine for dinner, but I don't know much about wines. Could you recommend a good one that's not too expensive?"
      ],
      "text/plain": [
       "<IPython.core.display.Markdown object>"
      ]
     },
     "metadata": {},
     "output_type": "display_data"
    },
    {
     "data": {
      "text/markdown": [
       "**Seller:** Of course, I'd be happy to help! To give you the best recommendation, could you please tell me what kind of dish you plan to have with the wine? This will help me suggest a wine that pairs well with your meal."
      ],
      "text/plain": [
       "<IPython.core.display.Markdown object>"
      ]
     },
     "metadata": {},
     "output_type": "display_data"
    },
    {
     "data": {
      "text/markdown": [
       "**Buyer:** I'm planning to have a steak for dinner. What kind of wine would you recommend to go with that? And could you also let me know the price range of your suggestions?"
      ],
      "text/plain": [
       "<IPython.core.display.Markdown object>"
      ]
     },
     "metadata": {},
     "output_type": "display_data"
    },
    {
     "name": "stdout",
     "output_type": "stream",
     "text": [
      " + Calling function SearchWinePriceList, args={'color': 'red', 'output': 'cheapest'}\n"
     ]
    },
    {
     "data": {
      "text/markdown": [
       "**Seller:** For a steak dinner, I would recommend a red wine to complement the flavors. Here are some affordable options from our selection:\n",
       "\n",
       "1. Yellow Tail Shiraz 2022 - $7.49\n",
       "2. Mirassou Pinot Noir 2021 - $9.99\n",
       "3. Line 39 Cabernet Sauvignon 2021 - $9.99\n",
       "4. Menage à Trois Red Blend 2021 - $9.99\n",
       "5. 19 Crimes Red Blend 2021 - $9.99\n",
       "6. Bodegas Borsao Garnacha 2021 - $9.99\n",
       "7. La Vieille Ferme Rouge 2021 - $9.99\n",
       "8. Alamos Malbec 2021 - $10.49\n",
       "9. Gnarly Head Old Vine Zinfandel 2021 - $10.99\n",
       "10. Mark West Pinot Noir 2021 - $10.99\n",
       "\n",
       "These wines should pair nicely with your steak and are within a reasonable price range. Let me know if you need more information or if there's a specific wine you'd like to know more about!"
      ],
      "text/plain": [
       "<IPython.core.display.Markdown object>"
      ]
     },
     "metadata": {},
     "output_type": "display_data"
    },
    {
     "data": {
      "text/markdown": [
       "**Buyer:** Thank you for the recommendations! The prices are reasonable, and I think I'll go with the Alamos Malbec 2021. Could you please call the operator to process my order?"
      ],
      "text/plain": [
       "<IPython.core.display.Markdown object>"
      ]
     },
     "metadata": {},
     "output_type": "display_data"
    },
    {
     "name": "stdout",
     "output_type": "stream",
     "text": [
      " + Calling function Handover, args={'reason': 'To process the order for Alamos Malbec 2021'}\n"
     ]
    }
   ],
   "source": [
    "msg = \"Hello!\"\n",
    "handover = False\n",
    "for i in range(10):\n",
    "    printx(f\"**Seller:** {msg}\")\n",
    "    msg = buyer(msg)\n",
    "    printx(f\"**Buyer:** {msg}\")\n",
    "    msg = agent(msg)\n",
    "    if handover:\n",
    "        break\n",
    "    "
   ]
  },
  {
   "cell_type": "code",
   "execution_count": 63,
   "id": "05553310",
   "metadata": {},
   "outputs": [],
   "source": [
    "agent.done()\n",
    "buyer.done()"
   ]
  },
  {
   "cell_type": "markdown",
   "id": "5c5c6e0c",
   "metadata": {},
   "source": [
    "## LangGraph Agentic Workflow\n",
    "\n",
    "Now let's consider more complex problem - selecting food-wine pairing for dinner for a person with some initial preferences. In order to do this, we will simulate the real-life process of visiting a restaurant, which includes the following agents:\n",
    "* Hostess to find out initial preferences of a visitor\n",
    "* Waiter, who knows the menu of the restaurant and can answer corresponding questions\n",
    "* Sommelier, who knows the food-wine pairing\n",
    "\n",
    "#### The Waiter\n",
    "\n",
    "We will create the waited based on RAG for simplicify, but if the menu is big - you should probably be using function calling..."
   ]
  },
  {
   "cell_type": "code",
   "execution_count": 65,
   "id": "000530c4",
   "metadata": {},
   "outputs": [],
   "source": [
    "prompt = \"\"\"\n",
    "You are a waiter in a restaurant, whose goal is to recommend food to visitors\n",
    "and wo answer questions on menu. You have extracts from the menu at your disposal.\n",
    "Please answer using only available information, do not invent anything. \n",
    "\"\"\"\n",
    "\n",
    "def fread(fn):\n",
    "    with open(fn, encoding='utf-8') as f:\n",
    "        return f.read()\n",
    "\n",
    "waiter = Agent(\n",
    "    search_content=[fread('../data/menu/food_en.md'),fread('../data/menu/drinks_en.md')],\n",
    "    instruction=prompt)  "
   ]
  },
  {
   "cell_type": "code",
   "execution_count": 66,
   "id": "21c0501d",
   "metadata": {},
   "outputs": [
    {
     "data": {
      "text/markdown": [
       "The menu does not list the price for ice cream separately. However, there is a dessert called \"Chocolate Apocalypse\" which includes \"Heavenly Cloud\" ice cream, and its price is 800 RUB."
      ],
      "text/plain": [
       "<IPython.core.display.Markdown object>"
      ]
     },
     "metadata": {},
     "output_type": "display_data"
    }
   ],
   "source": [
    "printx(waiter(\"How much is ice-cream?\"))"
   ]
  },
  {
   "cell_type": "code",
   "execution_count": 67,
   "id": "366b7d35",
   "metadata": {},
   "outputs": [
    {
     "data": {
      "text/markdown": [
       "The most expensive wine is Pinot Noir from Domaine de la Romanée-Conti, France, priced at 5200 RUB per glass."
      ],
      "text/plain": [
       "<IPython.core.display.Markdown object>"
      ]
     },
     "metadata": {},
     "output_type": "display_data"
    }
   ],
   "source": [
    "printx(waiter(\"Which is the most expensive wine?\"))"
   ]
  },
  {
   "cell_type": "markdown",
   "id": "2e7b7bc3",
   "metadata": {},
   "source": [
    "#### Sommelier\n",
    "\n",
    "Sommelier agent will use the food-wine pairing table:"
   ]
  },
  {
   "cell_type": "code",
   "execution_count": 68,
   "id": "0662be2b",
   "metadata": {},
   "outputs": [],
   "source": [
    "prompt = \"\"\"\n",
    "You are experienced sommelier, and you should recommend food-wine pairing to the user.\n",
    "You have access to food-wine pairing table, which you should use to find the answer.\n",
    "\"\"\"\n",
    "\n",
    "sommelier = Agent(\n",
    "    search_content=docs,\n",
    "    instruction=prompt)  "
   ]
  },
  {
   "cell_type": "code",
   "execution_count": 69,
   "id": "a1d6843b",
   "metadata": {},
   "outputs": [
    {
     "data": {
      "text/markdown": [
       "The wine you choose for steak depends on the type of steak and its preparation. Here are some recommendations:\n",
       "\n",
       "- For marbled beef tenderloin (filet mignon), consider red wine such as light and elegant Pinot Noir, Nerello Mascalese, elegantly made and aged Merlot. Also, rounded aged Nebbiolo (Barbaresco), Tempranillo (Ribera del Duero), Sangiovese (Chianti Riserva) would be a good choice.\n",
       "- For marbled fatty beef steak (ribeye, etc.), aged \"noble\" Tempranillo (Ribera del Duero Reserva+), Sangiovese (Chianti Riserva, Brunello), \"Super Tuscan,\" Right Bank Bordeaux, silky Argentine Malbec would be suitable for rare steak. For medium/well-done steak, dry/off-dry Syrah (Shiraz), Cabernet Sauvignon, full-bodied Malbec, Primitivo, Zinfandel, aged Aglianico, aged Rhône blends (Grenache + Syrah + Mourvèdre), Priorat (6–8+ years aging) are recommended."
      ],
      "text/plain": [
       "<IPython.core.display.Markdown object>"
      ]
     },
     "metadata": {},
     "output_type": "display_data"
    }
   ],
   "source": [
    "printx(sommelier(\"Which wine would be good for steak?\"))"
   ]
  },
  {
   "cell_type": "code",
   "execution_count": 70,
   "id": "69cf4f55",
   "metadata": {},
   "outputs": [
    {
     "data": {
      "text/markdown": [
       "For filet mignon steak, consider red wine such as light and elegant Pinot Noir, Nerello Mascalese, elegantly made and aged Merlot. Also, rounded aged Nebbiolo (Barbaresco), Tempranillo (Ribera del Duero), Sangiovese (Chianti Riserva) would be a good choice."
      ],
      "text/plain": [
       "<IPython.core.display.Markdown object>"
      ]
     },
     "metadata": {},
     "output_type": "display_data"
    }
   ],
   "source": [
    "printx(sommelier(\"Which wine would be good for filet mignon steak?\"))"
   ]
  },
  {
   "cell_type": "markdown",
   "id": "172c21f6",
   "metadata": {},
   "source": [
    "#### Hostess Agent\n",
    "\n",
    "In our case, the role of a hostess would be to find initial preferences of a user, in terms of food or wine. We will use **structured output** for this, and populate pydantic object:"
   ]
  },
  {
   "cell_type": "code",
   "execution_count": 73,
   "id": "a01bc99f",
   "metadata": {},
   "outputs": [],
   "source": [
    "from pydantic import BaseModel\n",
    "\n",
    "class PersonPref(BaseModel):\n",
    "    food_pref : str = \"\"\n",
    "    wine_pref : str = \"\"\n",
    "    \n",
    "prompt = \"\"\"\n",
    "You are a hostess in a restaurant, and your goal is to figure out if a user has\n",
    "some food preference (`food_pref`) or wine preference (`wine_pref`) for his meal.\n",
    "If there are no preferences specified - return empty strings. Please return\n",
    "JSON containing the fields specified above.\n",
    "\"\"\"\n",
    "\n",
    "hostess = Agent(\n",
    "    instruction=prompt,\n",
    "    response_format=PersonPref)"
   ]
  },
  {
   "cell_type": "code",
   "execution_count": 74,
   "id": "39b510c3",
   "metadata": {},
   "outputs": [
    {
     "data": {
      "text/plain": [
       "PersonPref(food_pref='meat', wine_pref='')"
      ]
     },
     "execution_count": 74,
     "metadata": {},
     "output_type": "execute_result"
    }
   ],
   "source": [
    "res = hostess(\"I want to eat something from meat\")\n",
    "res"
   ]
  },
  {
   "cell_type": "markdown",
   "id": "8845d317",
   "metadata": {},
   "source": [
    "### Putting Agents together: LangGraph\n",
    "\n",
    "To make all agents work together on solving a problem, we can use LangGraph framework. Its main concept is the communication **graph**, and **problem state**, which is passed around the graph and which determines which agent will interact next.\n",
    "\n",
    "Nodes of the graph are functions, and they return **state updates**. \n",
    "\n",
    "First, let's describe the class that would hold the state:"
   ]
  },
  {
   "cell_type": "code",
   "execution_count": 75,
   "id": "48d41bba",
   "metadata": {},
   "outputs": [],
   "source": [
    "from typing import TypedDict, List, Dict, Any, Optional\n",
    "from langgraph.graph import StateGraph, START, END\n",
    "from yandex_cloud_ml_sdk._threads.thread import Thread\n",
    "\n",
    "class RecommenderState(TypedDict):\n",
    "    message : str\n",
    "    thread : Thread\n",
    "    foodpref : str = \"\"\n",
    "    winepref : str = \"\"\n",
    "    maindish : str\n",
    "    wine : str\n",
    "    answer : str\n",
    "    \n",
    "def pr(state: RecommenderState):\n",
    "    return ', '.join([f\"{k}={v}\" for k,v in state.items() if k!=\"thread\"])"
   ]
  },
  {
   "cell_type": "markdown",
   "id": "6272cffd",
   "metadata": {},
   "source": [
    "Initial message from the user is in the field `message`, and final answer - in `answer`. We will hold the common state of conversaton as `Thread` object in the field with the same name. Initial food and wine preferences would be in `foodpref` and `winepref`, and selected dish and wine - in `maindish` and `wine`.\n",
    "\n",
    "The logic of the workflow would be the following:\n",
    "* First, we exctract initial preferences using `welcome` function and hostess agent\n",
    "* The main dispatcher function of our workflow would be `clarify`. If it sees some preferences in `foodpref` or `winepref` - it selects corresponding dishes using waiter agent.\n",
    "* After `clarify`, `route_user` function is called, which defines what to do next:\n",
    "   - If both main course and wine are selected, we go to `check_combination`, where we additionally check food-wine pairing using sommelier agent. If the user asked for a steak with white wine - this will be handled in this case.\n",
    "   - If some of the `winepref` or `foodpref` have not been filled yet - we call `recommend_food` or `recommend_wine`, to have sommelier take care of this\n",
    "   - If the user does not have preferences, we call `select_random` to select random main dish for him, and then go to `recommend_wine`.\n",
    "\n",
    "So, to define agentic workflow, we need:\n",
    "* Define all node functions\n",
    "* Add all of the to the graph using `add_node`\n",
    "* Add all transitions to the graph using `add_edge` and `add_conditional_edges`."
   ]
  },
  {
   "cell_type": "code",
   "execution_count": 92,
   "id": "40438356",
   "metadata": {},
   "outputs": [],
   "source": [
    "from IPython.display import Image, display\n",
    "from langchain_core.runnables.graph_mermaid import MermaidDrawMethod\n",
    "\n",
    "def welcome_user(state: RecommenderState):\n",
    "    print(f\"> Welcome, state={pr(state)}\")\n",
    "    msg = state['message']\n",
    "    print(f\" + Initial message from user: {msg}\")\n",
    "    res = hostess(msg,state['thread'])\n",
    "    print(f\" + Preferences obtained: {res}\")\n",
    "    return {\n",
    "        'foodpref' : res.food_pref,\n",
    "        'winepref' : res.wine_pref\n",
    "    }\n",
    "    \n",
    "def route_user(state: RecommenderState) -> str:\n",
    "    if state.get('maindish') and state.get('wine'): return \"Done\"\n",
    "    if state['foodpref'] == \"\" and state['winepref'] == \"\": return \"None\"\n",
    "    elif state['foodpref'] == \"\" and state['winepref'] != \"\": return \"WantWine\"\n",
    "    elif state['foodpref'] != \"\" and state['winepref'] == \"\": return \"WantFood\"\n",
    "    else: return \"Both\"\n",
    "\n",
    "def select_random(state: RecommenderState):\n",
    "    print(f\"> SelectRandom, state={pr(state)}\")\n",
    "    maindish = waiter(\n",
    "        \"Please recommend some good main course dish. Write only the name of the dish in the answer\",\n",
    "        state[\"thread\"])\n",
    "    print(f\" + Random dish selected: {maindish}\")\n",
    "    return { \"maindish\" : maindish }\n",
    "    \n",
    "def recommend_food(state: RecommenderState):\n",
    "    print(f\"> Recommend Food, state={pr(state)}\")\n",
    "    wine = state.get(\"wine\") or state.get(\"winepref\")\n",
    "    print(f\" + Recommending food for {wine}\")\n",
    "    foodpref = sommelier(f\"Which dishes would be good for wine {wine}?\", state['thread'])\n",
    "    print(f\" + Recommendations: {foodpref}\")\n",
    "    return { \"foodpref\" : foodpref }\n",
    "\n",
    "def recommend_wine(state: RecommenderState):\n",
    "    print(f\"> Recommend wine, state={pr(state)}\")\n",
    "    food = state.get('maindish') or state.get('foodpref')\n",
    "    print(f\" + Recommending wine for food {food}\")\n",
    "    winepref = sommelier(f\"Which wines would be good for dish {food}?\", state['thread'])\n",
    "    print(f\" + Recommendations: {winepref}\")\n",
    "    return { \"winepref\" : winepref }\n",
    "    \n",
    "def clarify(state: RecommenderState):\n",
    "    print(f\"> Clarify, state={pr(state)}\")\n",
    "    upd = {}\n",
    "    if state.get(\"winepref\") and not state.get('wine'):\n",
    "        print(f\" + Looking for wine in menu: {state['winepref']}\")\n",
    "        upd[\"wine\"] = waiter(f\"Which of the wines in the menu correspond to the following description: {state['winepref']}? Select only one wine from the menu\",state['thread'])\n",
    "        print(f\" + Wine selected: {upd['wine']}\")\n",
    "    if state.get(\"foodpref\") and not state.get('maindish'):\n",
    "        print(f\" + Looking for food in menu: {state['foodpref']}\")\n",
    "        upd[\"maindish\"] = waiter(f\"Which of the dishes in the menu correspond to the following description: {state['foodpref']}? Select only one dish from the menu.\",state['thread'])\n",
    "        print(f\" + Selected dish: {upd['maindish']}\")\n",
    "    return upd\n",
    "\n",
    "def check_combination(state: RecommenderState):\n",
    "    print(f\"> Check combination, state={pr(state)}\")\n",
    "    food = state[\"maindish\"]\n",
    "    wine = state[\"wine\"]\n",
    "    print(f\" + Looking for paring between dish {food} and wine {wine}\")\n",
    "    res = sommelier(f\"Is the main course {food} good with wine {wine}? Please answer YES or NO\",state['thread'])\n",
    "    if \"yes\" not in res.lower():\n",
    "        ans = waiter(f\"Guests want to order {state['maindish']} with wine {state['wine']}. Please write polite answer that those food and wine do not go well together, and suggest to order something else.\",state['thread'])\n",
    "    else:\n",
    "        ans = waiter(f\"Please offer guests the following main dish {state['maindish']} and wine {state['wine']}.\",state['thread'])\n",
    "    return { \"answer\" : ans}\n",
    "\n",
    "def yes_or_no(state: RecommenderState):\n",
    "    if state[\"maindish\"] and state[\"wine\"]:\n",
    "        return \"Yes\"\n",
    "    else:\n",
    "        return \"No\"\n",
    "\n",
    "recommender_graph = StateGraph(RecommenderState)\n",
    "recommender_graph.add_node(\"Welcome\", welcome_user)\n",
    "recommender_graph.add_node(\"SelectRandom\", select_random)\n",
    "recommender_graph.add_node(\"RecommendFood\", recommend_food)\n",
    "recommender_graph.add_node(\"RecommendWine\", recommend_wine)\n",
    "recommender_graph.add_node(\"CheckCombination\", check_combination)\n",
    "recommender_graph.add_node(\"Clarify\", clarify)\n",
    "\n",
    "recommender_graph.add_edge(START, \"Welcome\")\n",
    "recommender_graph.add_edge(\"Welcome\", \"Clarify\")\n",
    "recommender_graph.add_conditional_edges(\n",
    "    \"Clarify\",\n",
    "    route_user,\n",
    "    {\n",
    "        \"None\": \"SelectRandom\",\n",
    "        \"WantWine\" : \"RecommendFood\",\n",
    "        \"WantFood\" : \"RecommendWine\",\n",
    "        \"Both\" : \"CheckCombination\",\n",
    "        \"Done\" : \"CheckCombination\"\n",
    "    })\n",
    "recommender_graph.add_edge(\"SelectRandom\", \"RecommendWine\")\n",
    "recommender_graph.add_edge(\"RecommendFood\", \"Clarify\")\n",
    "recommender_graph.add_edge(\"RecommendWine\", \"Clarify\")\n",
    "recommender_graph.add_edge(\"CheckCombination\", END)\n",
    "\n",
    "compiled_graph = recommender_graph.compile()\n",
    "\n",
    "# display(Image(compiled_graph.get_graph().draw_mermaid_png()))"
   ]
  },
  {
   "cell_type": "markdown",
   "id": "173bd84f",
   "metadata": {},
   "source": [
    "Для того, чтобы \"поговорить\" с этой системой, дадим ей на вход начальное состояние:"
   ]
  },
  {
   "cell_type": "code",
   "execution_count": 93,
   "id": "ef211339",
   "metadata": {},
   "outputs": [
    {
     "name": "stdout",
     "output_type": "stream",
     "text": [
      "> Welcome, state=message=Hello! I want something from meat\n",
      " + Initial message from user: Hello! I want something from meat\n",
      " + Preferences obtained: food_pref='meat' wine_pref=''\n",
      "> Clarify, state=message=Hello! I want something from meat, foodpref=meat, winepref=\n",
      " + Looking for food in menu: meat\n",
      " + Selected dish: **\"Bull on Edge\" Steak**\n",
      "> Recommend wine, state=message=Hello! I want something from meat, foodpref=meat, winepref=, maindish=**\"Bull on Edge\" Steak**\n",
      " + Recommending wine for food **\"Bull on Edge\" Steak**\n",
      " + Recommendations: Red wine: Dry Sangiovese (Chianti) and Nero d’Avola, Spanish Tempranillo, full-bodied Merlot, full-bodied Pinot Noir (New World, Austria, Germany), Bordeaux wines, Rhône blends (Grenache + Syrah + Mourvèdre), Saperavi (Georgia or Russia), Areni (Armenia).\n",
      "> Clarify, state=message=Hello! I want something from meat, foodpref=meat, winepref=Red wine: Dry Sangiovese (Chianti) and Nero d’Avola, Spanish Tempranillo, full-bodied Merlot, full-bodied Pinot Noir (New World, Austria, Germany), Bordeaux wines, Rhône blends (Grenache + Syrah + Mourvèdre), Saperavi (Georgia or Russia), Areni (Armenia)., maindish=**\"Bull on Edge\" Steak**\n",
      " + Looking for wine in menu: Red wine: Dry Sangiovese (Chianti) and Nero d’Avola, Spanish Tempranillo, full-bodied Merlot, full-bodied Pinot Noir (New World, Austria, Germany), Bordeaux wines, Rhône blends (Grenache + Syrah + Mourvèdre), Saperavi (Georgia or Russia), Areni (Armenia).\n",
      " + Wine selected: Merlot by Marchesi Antinori, Italy.\n",
      "> Check combination, state=message=Hello! I want something from meat, foodpref=meat, winepref=Red wine: Dry Sangiovese (Chianti) and Nero d’Avola, Spanish Tempranillo, full-bodied Merlot, full-bodied Pinot Noir (New World, Austria, Germany), Bordeaux wines, Rhône blends (Grenache + Syrah + Mourvèdre), Saperavi (Georgia or Russia), Areni (Armenia)., maindish=**\"Bull on Edge\" Steak**, wine=Merlot by Marchesi Antinori, Italy.\n",
      " + Looking for paring between dish **\"Bull on Edge\" Steak** and wine Merlot by Marchesi Antinori, Italy.\n"
     ]
    },
    {
     "data": {
      "text/plain": [
       "{'message': 'Hello! I want something from meat',\n",
       " 'thread': Thread(id='fvt9fvtp0qegjg5eu0ac', expiration_config=ExpirationConfig(ttl_days=1, expiration_policy=<ExpirationPolicy.STATIC: 1>), name=None, description=None, created_by='ajej20rll4tifkelclga', created_at=datetime.datetime(2025, 7, 16, 10, 38, 3, 759282), updated_by='ajej20rll4tifkelclga', updated_at=datetime.datetime(2025, 7, 16, 10, 38, 3, 759282), expires_at=datetime.datetime(2025, 7, 17, 10, 38, 3, 759282), labels=None),\n",
       " 'foodpref': 'meat',\n",
       " 'winepref': 'Red wine: Dry Sangiovese (Chianti) and Nero d’Avola, Spanish Tempranillo, full-bodied Merlot, full-bodied Pinot Noir (New World, Austria, Germany), Bordeaux wines, Rhône blends (Grenache + Syrah + Mourvèdre), Saperavi (Georgia or Russia), Areni (Armenia).',\n",
       " 'maindish': '**\"Bull on Edge\" Steak**',\n",
       " 'wine': 'Merlot by Marchesi Antinori, Italy.',\n",
       " 'answer': 'I recommend the **\"Bull on Edge\" Steak**, which is a juicy ribeye slow-cooked in the smoke of Argentine passion and served with Himalayan gold salt. To complement this steak, I suggest pairing it with Merlot by Marchesi Antinori, Italy. The price for the steak is 2500 RUB, and the wine is available by the glass for 2800 RUB.'}"
      ]
     },
     "execution_count": 93,
     "metadata": {},
     "output_type": "execute_result"
    }
   ],
   "source": [
    "res = compiled_graph.invoke(\n",
    "    {\n",
    "        \"message\" : \"Hello! I want something from meat\",\n",
    "        \"thread\" : create_thread()\n",
    "    }\n",
    ")\n",
    "res"
   ]
  },
  {
   "cell_type": "code",
   "execution_count": 94,
   "id": "3f16b481",
   "metadata": {},
   "outputs": [
    {
     "data": {
      "text/markdown": [
       "I recommend the **\"Bull on Edge\" Steak**, which is a juicy ribeye slow-cooked in the smoke of Argentine passion and served with Himalayan gold salt. To complement this steak, I suggest pairing it with Merlot by Marchesi Antinori, Italy. The price for the steak is 2500 RUB, and the wine is available by the glass for 2800 RUB."
      ],
      "text/plain": [
       "<IPython.core.display.Markdown object>"
      ]
     },
     "metadata": {},
     "output_type": "display_data"
    }
   ],
   "source": [
    "printx(res['answer'])"
   ]
  },
  {
   "cell_type": "markdown",
   "id": "b1725190",
   "metadata": {},
   "source": [
    "We can also see all agent conversations:"
   ]
  },
  {
   "cell_type": "code",
   "execution_count": 97,
   "id": "62e6196e",
   "metadata": {},
   "outputs": [
    {
     "data": {
      "text/markdown": [
       "**USER:** Hello! I want something from meat"
      ],
      "text/plain": [
       "<IPython.core.display.Markdown object>"
      ]
     },
     "metadata": {},
     "output_type": "display_data"
    },
    {
     "data": {
      "text/markdown": [
       "**ASSISTANT:** ```\n",
       "{\n",
       "  \"food_pref\": \"meat\",\n",
       "  \"wine_pref\": \"\"\n",
       "}\n",
       "```"
      ],
      "text/plain": [
       "<IPython.core.display.Markdown object>"
      ]
     },
     "metadata": {},
     "output_type": "display_data"
    },
    {
     "data": {
      "text/markdown": [
       "**USER:** Which of the dishes in the menu correspond to the following description: meat? Select only one dish from the menu."
      ],
      "text/plain": [
       "<IPython.core.display.Markdown object>"
      ]
     },
     "metadata": {},
     "output_type": "display_data"
    },
    {
     "data": {
      "text/markdown": [
       "**ASSISTANT:** **\"Bull on Edge\" Steak**"
      ],
      "text/plain": [
       "<IPython.core.display.Markdown object>"
      ]
     },
     "metadata": {},
     "output_type": "display_data"
    },
    {
     "data": {
      "text/markdown": [
       "**USER:** Which wines would be good for dish **\"Bull on Edge\" Steak**?"
      ],
      "text/plain": [
       "<IPython.core.display.Markdown object>"
      ]
     },
     "metadata": {},
     "output_type": "display_data"
    },
    {
     "data": {
      "text/markdown": [
       "**ASSISTANT:** Red wine: Dry Sangiovese (Chianti) and Nero d’Avola, Spanish Tempranillo, full-bodied Merlot, full-bodied Pinot Noir (New World, Austria, Germany), Bordeaux wines, Rhône blends (Grenache + Syrah + Mourvèdre), Saperavi (Georgia or Russia), Areni (Armenia)."
      ],
      "text/plain": [
       "<IPython.core.display.Markdown object>"
      ]
     },
     "metadata": {},
     "output_type": "display_data"
    },
    {
     "data": {
      "text/markdown": [
       "**USER:** Which of the wines in the menu correspond to the following description: Red wine: Dry Sangiovese (Chianti) and Nero d’Avola, Spanish Tempranillo, full-bodied Merlot, full-bodied Pinot Noir (New World, Austria, Germany), Bordeaux wines, Rhône blends (Grenache + Syrah + Mourvèdre), Saperavi (Georgia or Russia), Areni (Armenia).? Select only one wine from the menu"
      ],
      "text/plain": [
       "<IPython.core.display.Markdown object>"
      ]
     },
     "metadata": {},
     "output_type": "display_data"
    },
    {
     "data": {
      "text/markdown": [
       "**ASSISTANT:** Merlot by Marchesi Antinori, Italy."
      ],
      "text/plain": [
       "<IPython.core.display.Markdown object>"
      ]
     },
     "metadata": {},
     "output_type": "display_data"
    },
    {
     "data": {
      "text/markdown": [
       "**USER:** Is the main course **\"Bull on Edge\" Steak** good with wine Merlot by Marchesi Antinori, Italy.? Please answer YES or NO"
      ],
      "text/plain": [
       "<IPython.core.display.Markdown object>"
      ]
     },
     "metadata": {},
     "output_type": "display_data"
    },
    {
     "data": {
      "text/markdown": [
       "**ASSISTANT:** YES."
      ],
      "text/plain": [
       "<IPython.core.display.Markdown object>"
      ]
     },
     "metadata": {},
     "output_type": "display_data"
    },
    {
     "data": {
      "text/markdown": [
       "**USER:** Please offer guests the following main dish **\"Bull on Edge\" Steak** and wine Merlot by Marchesi Antinori, Italy.."
      ],
      "text/plain": [
       "<IPython.core.display.Markdown object>"
      ]
     },
     "metadata": {},
     "output_type": "display_data"
    },
    {
     "data": {
      "text/markdown": [
       "**ASSISTANT:** I recommend the **\"Bull on Edge\" Steak**, which is a juicy ribeye slow-cooked in the smoke of Argentine passion and served with Himalayan gold salt. To complement this steak, I suggest pairing it with Merlot by Marchesi Antinori, Italy. The price for the steak is 2500 RUB, and the wine is available by the glass for 2800 RUB."
      ],
      "text/plain": [
       "<IPython.core.display.Markdown object>"
      ]
     },
     "metadata": {},
     "output_type": "display_data"
    }
   ],
   "source": [
    "for msg in list(res['thread'])[::-1]:\n",
    "    printx(f\"**{msg.role}:** {msg.text}\")"
   ]
  },
  {
   "cell_type": "markdown",
   "id": "1a2c5817",
   "metadata": {},
   "source": [
    "What if the user wants a bad combination?"
   ]
  },
  {
   "cell_type": "code",
   "execution_count": 98,
   "id": "34328da0",
   "metadata": {},
   "outputs": [
    {
     "name": "stdout",
     "output_type": "stream",
     "text": [
      "> Welcome, state=message=I want some fish with merlot!\n",
      " + Initial message from user: I want some fish with merlot!\n",
      " + Preferences obtained: food_pref='fish' wine_pref='merlot'\n",
      "> Clarify, state=message=I want some fish with merlot!, foodpref=fish, winepref=merlot\n",
      " + Looking for wine in menu: merlot\n",
      " + Wine selected: Merlot, Marchesi Antinori, Italy, 2019.\n",
      " + Looking for food in menu: fish\n",
      " + Selected dish: \"Salmon Dreaming of Norway\"\n",
      "> Check combination, state=message=I want some fish with merlot!, foodpref=fish, winepref=merlot, maindish=\"Salmon Dreaming of Norway\", wine=Merlot, Marchesi Antinori, Italy, 2019.\n",
      " + Looking for paring between dish \"Salmon Dreaming of Norway\" and wine Merlot, Marchesi Antinori, Italy, 2019.\n"
     ]
    },
    {
     "data": {
      "text/markdown": [
       "Thank you for your order. I'm sorry to inform you that the \"Salmon Dreaming of Norway\" does not pair well with the Merlot, Marchesi Antinori, Italy, 2019. May I suggest a different wine that would complement your dish better? Perhaps a white wine such as Sauvignon Blanc or Chardonnay might be a good choice. Would you like me to recommend a specific wine from our menu?"
      ],
      "text/plain": [
       "<IPython.core.display.Markdown object>"
      ]
     },
     "metadata": {},
     "output_type": "display_data"
    }
   ],
   "source": [
    "res = compiled_graph.invoke(\n",
    "    {\n",
    "        \"message\" : \"I want some fish with merlot!\",\n",
    "        \"thread\" : create_thread()\n",
    "    }\n",
    ")\n",
    "printx(res['answer'])"
   ]
  },
  {
   "cell_type": "markdown",
   "id": "5c4f3c85",
   "metadata": {},
   "source": [
    "And now a case when the user does not have have specific preferences:"
   ]
  },
  {
   "cell_type": "code",
   "execution_count": 99,
   "id": "24568ce4",
   "metadata": {},
   "outputs": [
    {
     "name": "stdout",
     "output_type": "stream",
     "text": [
      "> Welcome, state=message=I want something good to eat!\n",
      " + Initial message from user: I want something good to eat!\n",
      " + Preferences obtained: food_pref='' wine_pref=''\n",
      "> Clarify, state=message=I want something good to eat!, foodpref=, winepref=\n",
      "> SelectRandom, state=message=I want something good to eat!, foodpref=, winepref=\n",
      " + Random dish selected: **\"Bull on Edge\" Steak**\n",
      "> Recommend wine, state=message=I want something good to eat!, foodpref=, winepref=, maindish=**\"Bull on Edge\" Steak**\n",
      " + Recommending wine for food **\"Bull on Edge\" Steak**\n",
      " + Recommendations: Red wine: Dry Sangiovese (Chianti) and Nero d’Avola, Spanish Tempranillo, full-bodied Merlot, full-bodied Pinot Noir (New World, Austria, Germany), Bordeaux wines, Rhône blends (Grenache + Syrah + Mourvèdre), Saperavi (Georgia or Russia), Areni (Armenia).\n",
      "> Clarify, state=message=I want something good to eat!, foodpref=, winepref=Red wine: Dry Sangiovese (Chianti) and Nero d’Avola, Spanish Tempranillo, full-bodied Merlot, full-bodied Pinot Noir (New World, Austria, Germany), Bordeaux wines, Rhône blends (Grenache + Syrah + Mourvèdre), Saperavi (Georgia or Russia), Areni (Armenia)., maindish=**\"Bull on Edge\" Steak**\n",
      " + Looking for wine in menu: Red wine: Dry Sangiovese (Chianti) and Nero d’Avola, Spanish Tempranillo, full-bodied Merlot, full-bodied Pinot Noir (New World, Austria, Germany), Bordeaux wines, Rhône blends (Grenache + Syrah + Mourvèdre), Saperavi (Georgia or Russia), Areni (Armenia).\n",
      " + Wine selected: Merlot by Marchesi Antinori, Italy.\n",
      "> Check combination, state=message=I want something good to eat!, foodpref=, winepref=Red wine: Dry Sangiovese (Chianti) and Nero d’Avola, Spanish Tempranillo, full-bodied Merlot, full-bodied Pinot Noir (New World, Austria, Germany), Bordeaux wines, Rhône blends (Grenache + Syrah + Mourvèdre), Saperavi (Georgia or Russia), Areni (Armenia)., maindish=**\"Bull on Edge\" Steak**, wine=Merlot by Marchesi Antinori, Italy.\n",
      " + Looking for paring between dish **\"Bull on Edge\" Steak** and wine Merlot by Marchesi Antinori, Italy.\n"
     ]
    },
    {
     "data": {
      "text/markdown": [
       "I recommend the **\"Bull on Edge\" Steak** for your main course. It's a juicy ribeye slow-cooked in the smoke of Argentine passion, served with Himalayan gold salt. \n",
       "\n",
       "For wine, I suggest the Merlot by Marchesi Antinori, Italy. It's a full-bodied red wine that pairs excellently with the steak. \n",
       "\n",
       "The **\"Bull on Edge\" Steak** is priced at 2500 RUB, and the Merlot by Marchesi Antinori is priced at 2800 RUB per glass."
      ],
      "text/plain": [
       "<IPython.core.display.Markdown object>"
      ]
     },
     "metadata": {},
     "output_type": "display_data"
    }
   ],
   "source": [
    "res = compiled_graph.invoke(\n",
    "    {\n",
    "        \"message\" : \"I want something good to eat!\",\n",
    "        \"thread\" : create_thread()\n",
    "    }\n",
    ")\n",
    "printx(res['answer'])"
   ]
  },
  {
   "cell_type": "markdown",
   "id": "d0d9158f",
   "metadata": {},
   "source": [
    "## Testing: RAGAS\n",
    "\n",
    "Testing RAG and Multi-Agent systems are tricky for several reasons:\n",
    "\n",
    "* Not obvious how to estimate quality of natural-language answer\n",
    "* Difficult to test multi-turn conversations\n",
    "* Need to separately evaluate quality of retrieval and answer pipelines\n",
    "\n",
    "To solve some of those problems, there are tools such as [RAGAS](https://ragas.io).\n",
    "\n",
    "There are several approaches to testing:\n",
    "* We manually create question-answer pairs\n",
    "* We manually create a set of questions and then assess answer quality using \"LLM as a Judge\" or some set of defined criteria\n",
    "* QA Dataset is automatically created from RAG database. RAGAS contains different powerful techniques for building questions, including knowledge graph extraction and transformation.\n",
    "\n",
    "Let's start with the first approach:"
   ]
  },
  {
   "cell_type": "code",
   "execution_count": 101,
   "id": "a5d5a72e",
   "metadata": {},
   "outputs": [
    {
     "data": {
      "text/plain": [
       "[{'user_input': 'I want to eat something from meat',\n",
       "  'reference': 'I recommend steak and some red wine, such as Malbec or Merlot.'},\n",
       " {'user_input': 'I prefer fish',\n",
       "  'reference': 'I recommend some fish dish such as grilled salmon, and some dry white wine, such as Riesling or Sauvignon Blanc.'},\n",
       " {'user_input': 'I want to eat salmon with red wine',\n",
       "  'reference': 'I am afraid we do not recommend to pair fish with red wine'}]"
      ]
     },
     "execution_count": 101,
     "metadata": {},
     "output_type": "execute_result"
    }
   ],
   "source": [
    "import json\n",
    "\n",
    "ds = json.load(open('../data/eval/evaluate_advisor_en.json','r'))\n",
    "ds"
   ]
  },
  {
   "cell_type": "markdown",
   "id": "4000c314",
   "metadata": {},
   "source": [
    "Now let's run our agentic workflow on each case, and save the resulting response in `response` field:"
   ]
  },
  {
   "cell_type": "code",
   "execution_count": 102,
   "id": "2733c1e4",
   "metadata": {},
   "outputs": [
    {
     "name": "stdout",
     "output_type": "stream",
     "text": [
      "==== RUNNING EXAMPLE 1: I want to eat something from meat\n",
      "> Welcome, state=message=I want to eat something from meat\n",
      " + Initial message from user: I want to eat something from meat\n",
      " + Preferences obtained: food_pref='meat' wine_pref=''\n",
      "> Clarify, state=message=I want to eat something from meat, foodpref=meat, winepref=\n",
      " + Looking for food in menu: meat\n",
      " + Selected dish: **\"Bull on Edge\" Steak**\n",
      "> Recommend wine, state=message=I want to eat something from meat, foodpref=meat, winepref=, maindish=**\"Bull on Edge\" Steak**\n",
      " + Recommending wine for food **\"Bull on Edge\" Steak**\n",
      " + Recommendations: Red wine: Dry Sangiovese (Chianti) and Nero d’Avola, Spanish Tempranillo, full-bodied Merlot, full-bodied Pinot Noir (New World, Austria, Germany), Bordeaux wines, Rhône blends (Grenache + Syrah + Mourvèdre), Saperavi (Georgia or Russia), Areni (Armenia).\n",
      "> Clarify, state=message=I want to eat something from meat, foodpref=meat, winepref=Red wine: Dry Sangiovese (Chianti) and Nero d’Avola, Spanish Tempranillo, full-bodied Merlot, full-bodied Pinot Noir (New World, Austria, Germany), Bordeaux wines, Rhône blends (Grenache + Syrah + Mourvèdre), Saperavi (Georgia or Russia), Areni (Armenia)., maindish=**\"Bull on Edge\" Steak**\n",
      " + Looking for wine in menu: Red wine: Dry Sangiovese (Chianti) and Nero d’Avola, Spanish Tempranillo, full-bodied Merlot, full-bodied Pinot Noir (New World, Austria, Germany), Bordeaux wines, Rhône blends (Grenache + Syrah + Mourvèdre), Saperavi (Georgia or Russia), Areni (Armenia).\n",
      " + Wine selected: Merlot by Marchesi Antinori, Italy.\n",
      "> Check combination, state=message=I want to eat something from meat, foodpref=meat, winepref=Red wine: Dry Sangiovese (Chianti) and Nero d’Avola, Spanish Tempranillo, full-bodied Merlot, full-bodied Pinot Noir (New World, Austria, Germany), Bordeaux wines, Rhône blends (Grenache + Syrah + Mourvèdre), Saperavi (Georgia or Russia), Areni (Armenia)., maindish=**\"Bull on Edge\" Steak**, wine=Merlot by Marchesi Antinori, Italy.\n",
      " + Looking for paring between dish **\"Bull on Edge\" Steak** and wine Merlot by Marchesi Antinori, Italy.\n",
      "==== RUNNING EXAMPLE 2: I prefer fish\n",
      "> Welcome, state=message=I prefer fish\n",
      " + Initial message from user: I prefer fish\n",
      " + Preferences obtained: food_pref='fish' wine_pref=''\n",
      "> Clarify, state=message=I prefer fish, foodpref=fish, winepref=\n",
      " + Looking for food in menu: fish\n",
      " + Selected dish: **\"Salmon Dreaming of Norway\"** — Delicate fillet baked under a crust of \"mysterious northern herbs\" (dill). Served with lemon breeze.\n",
      "> Recommend wine, state=message=I prefer fish, foodpref=fish, winepref=, maindish=**\"Salmon Dreaming of Norway\"** — Delicate fillet baked under a crust of \"mysterious northern herbs\" (dill). Served with lemon breeze.\n",
      " + Recommending wine for food **\"Salmon Dreaming of Norway\"** — Delicate fillet baked under a crust of \"mysterious northern herbs\" (dill). Served with lemon breeze.\n",
      " + Recommendations: For the dish **\"Salmon Dreaming of Norway\"**, the following wines would be good:\n",
      "\n",
      "- White wine: Still dry Riesling, Chardonnay, Viognier, Old World Sauvignon Blanc.\n",
      "- Rosé wine: Light dry from Provence (France), Italy, Spain, Russia.\n",
      "- Light orange wines also work.\n",
      "> Clarify, state=message=I prefer fish, foodpref=fish, winepref=For the dish **\"Salmon Dreaming of Norway\"**, the following wines would be good:\n",
      "\n",
      "- White wine: Still dry Riesling, Chardonnay, Viognier, Old World Sauvignon Blanc.\n",
      "- Rosé wine: Light dry from Provence (France), Italy, Spain, Russia.\n",
      "- Light orange wines also work., maindish=**\"Salmon Dreaming of Norway\"** — Delicate fillet baked under a crust of \"mysterious northern herbs\" (dill). Served with lemon breeze.\n",
      " + Looking for wine in menu: For the dish **\"Salmon Dreaming of Norway\"**, the following wines would be good:\n",
      "\n",
      "- White wine: Still dry Riesling, Chardonnay, Viognier, Old World Sauvignon Blanc.\n",
      "- Rosé wine: Light dry from Provence (France), Italy, Spain, Russia.\n",
      "- Light orange wines also work.\n",
      " + Wine selected: Riesling from Dr. Loosen, Germany, 2019.\n",
      "> Check combination, state=message=I prefer fish, foodpref=fish, winepref=For the dish **\"Salmon Dreaming of Norway\"**, the following wines would be good:\n",
      "\n",
      "- White wine: Still dry Riesling, Chardonnay, Viognier, Old World Sauvignon Blanc.\n",
      "- Rosé wine: Light dry from Provence (France), Italy, Spain, Russia.\n",
      "- Light orange wines also work., maindish=**\"Salmon Dreaming of Norway\"** — Delicate fillet baked under a crust of \"mysterious northern herbs\" (dill). Served with lemon breeze., wine=Riesling from Dr. Loosen, Germany, 2019.\n",
      " + Looking for paring between dish **\"Salmon Dreaming of Norway\"** — Delicate fillet baked under a crust of \"mysterious northern herbs\" (dill). Served with lemon breeze. and wine Riesling from Dr. Loosen, Germany, 2019.\n",
      "==== RUNNING EXAMPLE 3: I want to eat salmon with red wine\n",
      "> Welcome, state=message=I want to eat salmon with red wine\n",
      " + Initial message from user: I want to eat salmon with red wine\n",
      " + Preferences obtained: food_pref='salmon' wine_pref='red wine'\n",
      "> Clarify, state=message=I want to eat salmon with red wine, foodpref=salmon, winepref=red wine\n",
      " + Looking for wine in menu: red wine\n",
      " + Wine selected: Merlot by Marchesi Antinori, Italy, 2019.\n",
      " + Looking for food in menu: salmon\n",
      " + Selected dish: **\"Salmon Dreaming of Norway\"**\n",
      "> Check combination, state=message=I want to eat salmon with red wine, foodpref=salmon, winepref=red wine, maindish=**\"Salmon Dreaming of Norway\"**, wine=Merlot by Marchesi Antinori, Italy, 2019.\n",
      " + Looking for paring between dish **\"Salmon Dreaming of Norway\"** and wine Merlot by Marchesi Antinori, Italy, 2019.\n"
     ]
    }
   ],
   "source": [
    "for i,x in enumerate(ds):\n",
    "    print(f\"==== RUNNING EXAMPLE {i+1}: {x['user_input']}\")\n",
    "    res = compiled_graph.invoke(\n",
    "    {\n",
    "        \"message\" : x['user_input'],\n",
    "        \"thread\" : create_thread()\n",
    "    })\n",
    "    ds[i]['response'] = res['answer']\n",
    "\n",
    "with open('../data/eval/evaluate_advisor_results_en.json','w') as f:\n",
    "    json.dump(ds,f,indent=4, ensure_ascii=False)"
   ]
  },
  {
   "cell_type": "markdown",
   "id": "e2dee529",
   "metadata": {},
   "source": [
    "To speed up the demo we will just load existing data. If funning on Windows, we should also restart the kernel to set up the right async strategy to avoid extra warning messages."
   ]
  },
  {
   "cell_type": "code",
   "execution_count": 4,
   "id": "8c566a81",
   "metadata": {},
   "outputs": [],
   "source": [
    "import os\n",
    "import json\n",
    "\n",
    "if os.name == 'nt':\n",
    "    os.environ[\"GRPC_POLL_STRATEGY\"] = \"poll\"\n",
    "    import asyncio\n",
    "    asyncio.set_event_loop_policy(asyncio.WindowsSelectorEventLoopPolicy())\n",
    "\n",
    "from yandex_cloud_ml_sdk import YCloudML, AsyncYCloudML\n",
    "\n",
    "folder_id = os.environ[\"folder_id\"]\n",
    "api_key = os.environ[\"api_key\"]\n",
    "\n",
    "sdk = YCloudML(folder_id=folder_id, auth=api_key)\n",
    "asdk = AsyncYCloudML(folder_id=folder_id, auth=api_key)"
   ]
  },
  {
   "cell_type": "code",
   "execution_count": 5,
   "id": "21c8a13f",
   "metadata": {},
   "outputs": [
    {
     "data": {
      "text/plain": [
       "[{'user_input': 'I want to eat something from meat',\n",
       "  'reference': 'I recommend steak and some red wine, such as Malbec or Merlot.',\n",
       "  'response': 'I recommend the **\"Bull on Edge\" Steak** as your main dish. It\\'s a juicy ribeye slow-cooked in the smoke of Argentine passion and served with Himalayan gold salt. For wine, I suggest the Merlot by Marchesi Antinori, Italy. The steak is priced at 2500 RUB and the wine is 2800 RUB per glass.'},\n",
       " {'user_input': 'I prefer fish',\n",
       "  'reference': 'I recommend some fish dish such as grilled salmon, and some dry white wine, such as Riesling or Sauvignon Blanc.',\n",
       "  'response': 'I recommend the main dish **\"Salmon Dreaming of Norway\"** — Delicate fillet baked under a crust of \"mysterious northern herbs\" (dill). Served with lemon breeze. \\n\\nTo complement this dish, I suggest pairing it with Riesling from Dr. Loosen, Germany, 2019.'},\n",
       " {'user_input': 'I want to eat salmon with red wine',\n",
       "  'reference': 'I am afraid we do not recommend to pair fish with red wine',\n",
       "  'response': 'Thank you for your order. I\\'m sorry to inform you that the **\"Salmon Dreaming of Norway\"** does not pair well with the Merlot by Marchesi Antinori, Italy, 2019. Would you like me to suggest a different wine that would complement your dish better? Perhaps a white wine such as Sauvignon Blanc or Chardonnay might be a good choice.'}]"
      ]
     },
     "execution_count": 5,
     "metadata": {},
     "output_type": "execute_result"
    }
   ],
   "source": [
    "ds = json.load(open('../data/eval/evaluate_advisor_results_en.json','r'))\n",
    "ds"
   ]
  },
  {
   "cell_type": "markdown",
   "id": "785088b9",
   "metadata": {},
   "source": [
    " Now we need to eastimate the similarity of provided answer and expected answer. For that, we can use semantic embeddings. RAGAS allows us to use embeddings from LangChain library: "
   ]
  },
  {
   "cell_type": "code",
   "execution_count": null,
   "id": "80aff769",
   "metadata": {},
   "outputs": [
    {
     "name": "stderr",
     "output_type": "stream",
     "text": [
      "Evaluating: 100%|██████████| 3/3 [00:03<00:00,  1.24s/it]\n"
     ]
    },
    {
     "data": {
      "text/plain": [
       "{'semantic_similarity': 0.7588}"
      ]
     },
     "execution_count": 6,
     "metadata": {},
     "output_type": "execute_result"
    }
   ],
   "source": [
    "from ragas.dataset_schema import EvaluationDataset, SingleTurnSample\n",
    "from ragas import evaluate\n",
    "from ragas.metrics import answer_similarity\n",
    "from langchain_community.embeddings.yandex import YandexGPTEmbeddings\n",
    "from ragas.embeddings import LangchainEmbeddingsWrapper\n",
    "\n",
    "embeddings = YandexGPTEmbeddings(api_key=os.environ['api_key'], folder_id=os.environ['folder_id'])\n",
    "embeddings = LangchainEmbeddingsWrapper(embeddings)\n",
    "\n",
    "tests = EvaluationDataset([ SingleTurnSample(**x) for x in ds ])\n",
    "evaluate(tests,[ answer_similarity ], embeddings=embeddings)"
   ]
  },
  {
   "cell_type": "markdown",
   "id": "f9d6efa3",
   "metadata": {},
   "source": [
    "RAGAS uses so-called **metrics** to check different quality aspects of responses. We have been using `answer_similarity` metrics above, based on embeddings.\n",
    "\n",
    "Another way is to use LLM as a Judge. There is a number of metrics with pre-defined prompts (eg, `AnswerAccuracy`), or we can define our own metrics by providing prompts expliciptly.\n",
    "\n",
    "Let's make sure our recommendations follow simple rule \"red wine goes with meat, white - with fish\":"
   ]
  },
  {
   "cell_type": "code",
   "execution_count": 7,
   "id": "890819e2",
   "metadata": {},
   "outputs": [
    {
     "name": "stderr",
     "output_type": "stream",
     "text": [
      "Evaluating:   0%|          | 0/6 [00:00<?, ?it/s]"
     ]
    },
    {
     "name": "stderr",
     "output_type": "stream",
     "text": [
      "Evaluating: 100%|██████████| 6/6 [00:02<00:00,  2.10it/s]\n"
     ]
    },
    {
     "data": {
      "text/plain": [
       "{'wine_food_match': 1.0000, 'nv_accuracy': 0.6667}"
      ]
     },
     "execution_count": 7,
     "metadata": {},
     "output_type": "execute_result"
    }
   ],
   "source": [
    "from ragas.metrics import AspectCritic, AnswerAccuracy\n",
    "from ragas.llms import LangchainLLMWrapper\n",
    "from yandex_cloud_ml_sdk import YCloudML, AsyncYCloudML\n",
    "asdk = AsyncYCloudML(folder_id=folder_id, auth=api_key)\n",
    "\n",
    "judge_llm = LangchainLLMWrapper(asdk.models.completions(\"yandexgpt\", model_version=\"rc\").langchain())\n",
    "\n",
    "match_criteria = \"\"\"\n",
    "Does the recommended wine match the recommended main dish well? White wines go well with fish,\n",
    "red wines - with meat dishes. If the food and wine do not match, it should be explicitly indicated\n",
    "in the answer.\n",
    "\"\"\"\n",
    "wine_food_match = AspectCritic(\"wine_food_match\",match_criteria,llm=judge_llm)\n",
    "wine_food_match.async_mode=False\n",
    "answer_accuracy = AnswerAccuracy(llm=judge_llm)\n",
    "answer_accuracy.async_mode=False\n",
    "\n",
    "evaluate(tests,[ wine_food_match, answer_accuracy ], llm=judge_llm)"
   ]
  },
  {
   "cell_type": "markdown",
   "id": "363cdddb",
   "metadata": {},
   "source": [
    "Having set up those measurements, we can now perform some meaningful optimizations of both agentic workflow configuration. In the similar manner, RAGAS is well-suited to measure RAG performance, as it contains special methods to evaluate retrieval performance separately from answer formulation."
   ]
  },
  {
   "cell_type": "markdown",
   "id": "c96933bc",
   "metadata": {},
   "source": [
    "## Cleaning up\n",
    "\n",
    "**WARNING:** The code below deletes all AI Assistant API objects in your folder. Use with caution!"
   ]
  },
  {
   "cell_type": "code",
   "execution_count": 8,
   "id": "185f61c9",
   "metadata": {},
   "outputs": [
    {
     "name": "stderr",
     "output_type": "stream",
     "text": [
      "19it [00:08,  2.19it/s]\n",
      "16it [00:06,  2.61it/s]\n",
      "8it [00:04,  1.90it/s]\n",
      "107it [00:44,  2.42it/s]\n"
     ]
    }
   ],
   "source": [
    "from tqdm.auto import tqdm\n",
    "\n",
    "for thread in tqdm(sdk.threads.list()):\n",
    "    try:\n",
    "        thread.delete()\n",
    "    except:\n",
    "        pass\n",
    "\n",
    "for assistant in tqdm(sdk.assistants.list()):\n",
    "    assistant.delete()\n",
    "\n",
    "for index in tqdm(sdk.search_indexes.list()):\n",
    "    index.delete()\n",
    "    \n",
    "for file in tqdm(sdk.files.list()):\n",
    "    file.delete()"
   ]
  },
  {
   "cell_type": "code",
   "execution_count": null,
   "id": "630f93e2",
   "metadata": {},
   "outputs": [],
   "source": []
  }
 ],
 "metadata": {
  "kernelspec": {
   "display_name": "mas",
   "language": "python",
   "name": "python3"
  },
  "language_info": {
   "codemirror_mode": {
    "name": "ipython",
    "version": 3
   },
   "file_extension": ".py",
   "mimetype": "text/x-python",
   "name": "python",
   "nbconvert_exporter": "python",
   "pygments_lexer": "ipython3",
   "version": "3.12.0"
  }
 },
 "nbformat": 4,
 "nbformat_minor": 5
}
